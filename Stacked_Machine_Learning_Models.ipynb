{
  "nbformat": 4,
  "nbformat_minor": 0,
  "metadata": {
    "colab": {
      "name": "Stacked Machine Learning Models",
      "provenance": [],
      "collapsed_sections": []
    },
    "kernelspec": {
      "name": "python3",
      "display_name": "Python 3"
    }
  },
  "cells": [
    {
      "cell_type": "code",
      "metadata": {
        "id": "ugw48teytIx3",
        "colab_type": "code",
        "colab": {
          "base_uri": "https://localhost:8080/",
          "height": 555
        },
        "outputId": "aeaf2119-3c33-488a-e561-c8c6de4272dd"
      },
      "source": [
        "from sklearn.datasets import load_boston\n",
        "!pip install optuna\n",
        "\n",
        "from sklearn.linear_model import LinearRegression\n",
        "from sklearn import linear_model\n",
        "from sklearn.linear_model import Ridge\n",
        "from sklearn.ensemble import RandomForestRegressor\n",
        "from sklearn.ensemble import ExtraTreesRegressor\n",
        "from sklearn.ensemble import AdaBoostRegressor\n",
        "import lightgbm as lgb\n",
        "import xgboost as xgb\n",
        "# sklearn\n",
        "from sklearn import metrics\n",
        "from sklearn.model_selection import train_test_split\n",
        "\n",
        "from sklearn.preprocessing import MinMaxScaler\n",
        "from sklearn.preprocessing import FunctionTransformer\n",
        "from sklearn.preprocessing import StandardScaler\n",
        "\n",
        "import sklearn.metrics\n",
        "\n",
        "from mlxtend.classifier import StackingCVClassifier\n",
        "!pip install vecstack\n",
        "from vecstack import stacking\n",
        "\n",
        "from itertools import combinations \n",
        "\n",
        "\n",
        "import numpy as np\n",
        "import pandas as pd\n",
        "import time\n",
        "import matplotlib.pyplot as plt\n",
        "import seaborn as sns\n",
        "import random\n",
        "sns.set()"
      ],
      "execution_count": 172,
      "outputs": [
        {
          "output_type": "stream",
          "text": [
            "Requirement already satisfied: optuna in /usr/local/lib/python3.6/dist-packages (1.5.0)\n",
            "Requirement already satisfied: sqlalchemy>=1.1.0 in /usr/local/lib/python3.6/dist-packages (from optuna) (1.3.17)\n",
            "Requirement already satisfied: tqdm in /usr/local/lib/python3.6/dist-packages (from optuna) (4.41.1)\n",
            "Requirement already satisfied: scipy!=1.4.0 in /usr/local/lib/python3.6/dist-packages (from optuna) (1.4.1)\n",
            "Requirement already satisfied: cmaes>=0.5.0 in /usr/local/lib/python3.6/dist-packages (from optuna) (0.5.1)\n",
            "Requirement already satisfied: colorlog in /usr/local/lib/python3.6/dist-packages (from optuna) (4.1.0)\n",
            "Requirement already satisfied: joblib in /usr/local/lib/python3.6/dist-packages (from optuna) (0.15.1)\n",
            "Requirement already satisfied: alembic in /usr/local/lib/python3.6/dist-packages (from optuna) (1.4.2)\n",
            "Requirement already satisfied: numpy in /usr/local/lib/python3.6/dist-packages (from optuna) (1.18.5)\n",
            "Requirement already satisfied: cliff in /usr/local/lib/python3.6/dist-packages (from optuna) (3.3.0)\n",
            "Requirement already satisfied: Mako in /usr/local/lib/python3.6/dist-packages (from alembic->optuna) (1.1.3)\n",
            "Requirement already satisfied: python-dateutil in /usr/local/lib/python3.6/dist-packages (from alembic->optuna) (2.8.1)\n",
            "Requirement already satisfied: python-editor>=0.3 in /usr/local/lib/python3.6/dist-packages (from alembic->optuna) (1.0.4)\n",
            "Requirement already satisfied: pbr!=2.1.0,>=2.0.0 in /usr/local/lib/python3.6/dist-packages (from cliff->optuna) (5.4.5)\n",
            "Requirement already satisfied: six>=1.10.0 in /usr/local/lib/python3.6/dist-packages (from cliff->optuna) (1.12.0)\n",
            "Requirement already satisfied: cmd2!=0.8.3,>=0.8.0 in /usr/local/lib/python3.6/dist-packages (from cliff->optuna) (1.1.0)\n",
            "Requirement already satisfied: pyparsing>=2.1.0 in /usr/local/lib/python3.6/dist-packages (from cliff->optuna) (2.4.7)\n",
            "Requirement already satisfied: PyYAML>=3.12 in /usr/local/lib/python3.6/dist-packages (from cliff->optuna) (3.13)\n",
            "Requirement already satisfied: PrettyTable<0.8,>=0.7.2 in /usr/local/lib/python3.6/dist-packages (from cliff->optuna) (0.7.2)\n",
            "Requirement already satisfied: stevedore>=1.20.0 in /usr/local/lib/python3.6/dist-packages (from cliff->optuna) (2.0.1)\n",
            "Requirement already satisfied: MarkupSafe>=0.9.2 in /usr/local/lib/python3.6/dist-packages (from Mako->alembic->optuna) (1.1.1)\n",
            "Requirement already satisfied: pyperclip>=1.6 in /usr/local/lib/python3.6/dist-packages (from cmd2!=0.8.3,>=0.8.0->cliff->optuna) (1.8.0)\n",
            "Requirement already satisfied: attrs>=16.3.0 in /usr/local/lib/python3.6/dist-packages (from cmd2!=0.8.3,>=0.8.0->cliff->optuna) (19.3.0)\n",
            "Requirement already satisfied: setuptools>=34.4 in /usr/local/lib/python3.6/dist-packages (from cmd2!=0.8.3,>=0.8.0->cliff->optuna) (47.3.1)\n",
            "Requirement already satisfied: colorama>=0.3.7 in /usr/local/lib/python3.6/dist-packages (from cmd2!=0.8.3,>=0.8.0->cliff->optuna) (0.4.3)\n",
            "Requirement already satisfied: wcwidth>=0.1.7 in /usr/local/lib/python3.6/dist-packages (from cmd2!=0.8.3,>=0.8.0->cliff->optuna) (0.2.5)\n",
            "Requirement already satisfied: vecstack in /usr/local/lib/python3.6/dist-packages (0.4.0)\n",
            "Requirement already satisfied: scipy in /usr/local/lib/python3.6/dist-packages (from vecstack) (1.4.1)\n",
            "Requirement already satisfied: numpy in /usr/local/lib/python3.6/dist-packages (from vecstack) (1.18.5)\n",
            "Requirement already satisfied: scikit-learn>=0.18 in /usr/local/lib/python3.6/dist-packages (from vecstack) (0.22.2.post1)\n",
            "Requirement already satisfied: joblib>=0.11 in /usr/local/lib/python3.6/dist-packages (from scikit-learn>=0.18->vecstack) (0.15.1)\n"
          ],
          "name": "stdout"
        }
      ]
    },
    {
      "cell_type": "code",
      "metadata": {
        "id": "PSEjKNjst_uK",
        "colab_type": "code",
        "colab": {}
      },
      "source": [
        "X, y = load_boston(return_X_y=True)"
      ],
      "execution_count": 192,
      "outputs": []
    },
    {
      "cell_type": "code",
      "metadata": {
        "id": "jbRSijDWk7TN",
        "colab_type": "code",
        "colab": {}
      },
      "source": [
        "def scaler_fuc(scaler):\n",
        "  train_x, valid_x, train_y, valid_y = train_test_split(X, y,\n",
        "                                              test_size=0.25, random_state = 123)\n",
        "  if (scaler == 'minmax'):\n",
        "    scaler = MinMaxScaler()\n",
        "    scaler.fit(train_x)\n",
        "    train_x = scaler.transform(train_x)\n",
        "    scaler.fit(valid_x)\n",
        "    valid_x = scaler.transform(valid_x)\n",
        "\n",
        "  if (scaler == 'stand'):\n",
        "    scaler = StandardScaler()\n",
        "    scaler.fit(train_x)\n",
        "    train_x = scaler.transform(train_x)\n",
        "    scaler.fit(valid_x)\n",
        "    valid_x = scaler.transform(valid_x)\n",
        "\n",
        "  if (scaler == 'log'):\n",
        "    transformer = FunctionTransformer(np.log1p, validate=True)\n",
        "    train_x = transformer.transform(train_x)\n",
        "    valid_x = transformer.transform(valid_x)\n",
        "\n",
        "  # turning these train/tests into lgb/xgb datasets\n",
        "  dtrain_gbm = lgb.Dataset(train_x, label=train_y)\n",
        "  dvalid_gbm = lgb.Dataset(valid_x, label=valid_y)\n",
        "\n",
        "  dtrain_xbg = xgb.DMatrix(train_x, label=train_y)\n",
        "  dvalid_xbg = xgb.DMatrix(valid_x, label=valid_y)\n",
        "  return train_x, valid_x, dtrain_gbm, dvalid_gbm, dtrain_xbg, dvalid_xbg"
      ],
      "execution_count": 191,
      "outputs": []
    },
    {
      "cell_type": "code",
      "metadata": {
        "id": "SvOJWxJkHWx3",
        "colab_type": "code",
        "colab": {}
      },
      "source": [
        "# models = ['lreg', 'las', 'rid','ada', 'et', 'rf', 'xgb', 'gbm'] # when you want to try all of them/ iteration: 1 \n",
        "models = ['ada', 'et', 'rf', 'xgb', 'gbm'] # selecting the 5 best models from iteration 1 (by observing the log) / iteration: 2\n",
        "comb = combinations(models, 3) \n",
        "comb = list(comb)"
      ],
      "execution_count": 194,
      "outputs": []
    },
    {
      "cell_type": "code",
      "metadata": {
        "id": "ozV7fL7kt9Bw",
        "colab_type": "code",
        "colab": {}
      },
      "source": [
        "\n",
        "class Objective:\n",
        "\n",
        "    def __init__(self):\n",
        "        self.best_gbm = None\n",
        "        self._gbm = None\n",
        "        self.best_xgb = None\n",
        "        self._xgb = None\n",
        "        self.predictions = None\n",
        "        self.fpredictions = None\n",
        "\n",
        "    def __call__(self, trial):\n",
        "\n",
        "        i = trial.suggest_int(\"combos\", 0, (len(comb)-1))\n",
        " \n",
        "        gbm_preds = 0\n",
        "        gbm_rmse = float('inf')\n",
        "        xgb_preds = 0\n",
        "        xgb_rmse = float('inf')\n",
        "        rf_preds = 0\n",
        "        rf_rmse = float('inf')\n",
        "        et_preds = 0\n",
        "        et_rmse = float('inf')\n",
        "        ada_preds = 0\n",
        "        ada_rmse = float('inf')\n",
        "        lreg_preds = 0\n",
        "        lreg_rmse = float('inf')\n",
        "        las_preds = 0\n",
        "        las_rmse = float('inf')\n",
        "        rid_preds = 0\n",
        "        rid_rmse = float('inf')\n",
        "\n",
        "        ###############################################################################\n",
        "        #                                 . Scaling                                   #\n",
        "        ###############################################################################\n",
        "        # If you want 1 scaled data for everything use this, other wise leave this commented\n",
        "        # scaler = trial.suggest_categorical(\"Scaler\", ['minmax','stand','log'])\n",
        "        # train_x, valid_x, dtrain_gbm, dvalid_gbm, dtrain_xbg, dvalid_xbg = scaler_fuc(scaler)\n",
        "        ###############################################################################\n",
        "        #                            . Linear Regression                              #\n",
        "        ###############################################################################\n",
        "        if any(x == 'lreg' for x in comb[i]):\n",
        "          lr_scaler = trial.suggest_categorical(\"lr_Scaler\", ['minmax','stand','log'])\n",
        "          train_x, valid_x, dtrain_gbm, dvalid_gbm, dtrain_xbg, dvalid_xbg = scaler_fuc(lr_scaler)\n",
        "          lreg = LinearRegression().fit(train_x, train_y)\n",
        "          lreg_preds = lreg.predict(valid_x)\n",
        "          lreg_rmse = sklearn.metrics.mean_squared_error(valid_y, lreg_preds, squared = False)\n",
        "        ###############################################################################\n",
        "        #                                 . Lasso                                     #\n",
        "        ###############################################################################\n",
        "        if any(x == 'las' for x in comb[i]):\n",
        "          las_scaler = trial.suggest_categorical(\"las_Scaler\", ['minmax','stand','log'])\n",
        "          train_x, valid_x, dtrain_gbm, dvalid_gbm, dtrain_xbg, dvalid_xbg = scaler_fuc(las_scaler)\n",
        "          alphal = trial.suggest_loguniform(\"alphal\", 1e-8, 1.0)\n",
        "          las = linear_model.Lasso(alpha=alphal).fit(train_x, train_y)\n",
        "          las_preds = las.predict(valid_x)\n",
        "          las_rmse = sklearn.metrics.mean_squared_error(valid_y, las_preds, squared = False)\n",
        "        ###############################################################################\n",
        "        #                                 . Ridge                                     #\n",
        "        ###############################################################################\n",
        "        if any(x == 'rid' for x in comb[i]):\n",
        "          rid_scaler = trial.suggest_categorical(\"rid_Scaler\", ['minmax','stand','log'])\n",
        "          train_x, valid_x, dtrain_gbm, dvalid_gbm, dtrain_xbg, dvalid_xbg = scaler_fuc(rid_scaler)\n",
        "          alphar = trial.suggest_loguniform(\"alphar\", 1e-8, 1.0)\n",
        "          rid = Ridge(alpha=alphar).fit(train_x, train_y)\n",
        "          rid_preds = rid.predict(valid_x)\n",
        "          rid_rmse = sklearn.metrics.mean_squared_error(valid_y, rid_preds, squared = False)\n",
        "        ###############################################################################\n",
        "        #                               . Ada Boost                                   #\n",
        "        ###############################################################################\n",
        "        if any(x == 'ada' for x in comb[i]):\n",
        "          ada_scaler = trial.suggest_categorical(\"ada_Scaler\", ['minmax','stand','log'])\n",
        "          train_x, valid_x, dtrain_gbm, dvalid_gbm, dtrain_xbg, dvalid_xbg = scaler_fuc(ada_scaler)\n",
        "          ada_ne = trial.suggest_int(\"ada_ne\", 1, 1000)\n",
        "          ada_lr = trial.suggest_loguniform(\"ada_lr\", 0.05, 1)\n",
        "          ada = AdaBoostRegressor(n_estimators = ada_ne, learning_rate = ada_lr,\n",
        "                                     random_state=0).fit(train_x, train_y)\n",
        "          ada_preds = ada.predict(valid_x)\n",
        "          ada_rmse = sklearn.metrics.mean_squared_error(valid_y, ada_preds, squared = False)\n",
        "        ###############################################################################\n",
        "        #                              . Extra Trees                                  #\n",
        "        ###############################################################################\n",
        "        if any(x == 'et' for x in comb[i]):\n",
        "          et_scaler = trial.suggest_categorical(\"et_Scaler\", ['minmax','stand','log'])\n",
        "          train_x, valid_x, dtrain_gbm, dvalid_gbm, dtrain_xbg, dvalid_xbg = scaler_fuc(et_scaler)\n",
        "          et_md = trial.suggest_int(\"et_max_depth\", 1, 20)\n",
        "          et_ne = trial.suggest_int(\"et_ne\", 1, 1000)\n",
        "          et = ExtraTreesRegressor(max_depth=et_md, n_estimators = et_ne,\n",
        "                                     random_state=0).fit(train_x, train_y)\n",
        "          et_preds = et.predict(valid_x)\n",
        "          et_rmse = sklearn.metrics.mean_squared_error(valid_y, et_preds, squared = False)\n",
        "        ###############################################################################\n",
        "        #                             . Random Forest                                 #\n",
        "        ###############################################################################\n",
        "        if any(x == 'rf' for x in comb[i]):\n",
        "          rf_scaler = trial.suggest_categorical(\"rf_Scaler\", ['minmax','stand','log'])\n",
        "          train_x, valid_x, dtrain_gbm, dvalid_gbm, dtrain_xbg, dvalid_xbg = scaler_fuc(rf_scaler)\n",
        "          rf_md = trial.suggest_int(\"rf_max_depth\", 1, 20)\n",
        "          rf_ne = trial.suggest_int(\"rf_ne\", 1, 1000)\n",
        "          rf = RandomForestRegressor(max_depth=rf_md, n_estimators = rf_ne,\n",
        "                                     random_state=0).fit(train_x, train_y)\n",
        "          rf_preds = rf.predict(valid_x)\n",
        "          rf_rmse = sklearn.metrics.mean_squared_error(valid_y, rf_preds, squared = False)\n",
        "        ###############################################################################\n",
        "        #                                 . XGBoost                                   #\n",
        "        ###############################################################################\n",
        "        if any(x == 'xgb' for x in comb[i]): \n",
        "          xgb_scaler = trial.suggest_categorical(\"xgb_Scaler\", ['minmax','stand','log'])\n",
        "          train_x, valid_x, dtrain_gbm, dvalid_gbm, dtrain_xbg, dvalid_xbg = scaler_fuc(xgb_scaler)\n",
        "          xgb_param = {\n",
        "              \"silent\": 1,\n",
        "              \"objective\": \"reg:squarederror\",\n",
        "              \"eval_metric\": \"rmse\",\n",
        "              \"booster\": trial.suggest_categorical(\"booster\", [\"gbtree\", \"gblinear\", \"dart\"]),\n",
        "              \"lambda\": trial.suggest_loguniform(\"lambda\", 1e-8, 1.0),\n",
        "              \"alpha\": trial.suggest_loguniform(\"alpha\", 1e-8, 1.0),\n",
        "          }\n",
        "          if xgb_param[\"booster\"] == \"gbtree\" or xgb_param[\"booster\"] == \"dart\":\n",
        "              xgb_param[\"max_depth\"] = trial.suggest_int(\"max_depth\", 1, 9)\n",
        "              xgb_param[\"eta\"] = trial.suggest_loguniform(\"eta\", 1e-8, 1.0)\n",
        "              xgb_param[\"gamma\"] = trial.suggest_loguniform(\"gamma\", 1e-8, 1.0)\n",
        "              xgb_param[\"grow_policy\"] = trial.suggest_categorical(\"grow_policy\", [\"depthwise\", \"lossguide\"])\n",
        "          if xgb_param[\"booster\"] == \"dart\":\n",
        "              xgb_param[\"sample_type\"] = trial.suggest_categorical(\"sample_type\", [\"uniform\", \"weighted\"])\n",
        "              xgb_param[\"normalize_type\"] = trial.suggest_categorical(\"normalize_type\", [\"tree\", \"forest\"])\n",
        "              xgb_param[\"rate_drop\"] = trial.suggest_loguniform(\"rate_drop\", 1e-8, 1.0)\n",
        "              xgb_param[\"skip_drop\"] = trial.suggest_loguniform(\"skip_drop\", 1e-8, 1.0)\n",
        "\n",
        "          # Add a callback for pruning.\n",
        "          xgb_pruning_callback = optuna.integration.XGBoostPruningCallback(trial, \"validation-rmse\" )\n",
        "          xgb_ = xgb.train(xgb_param, dtrain_xbg, evals=[(dvalid_xbg, \"validation\")], callbacks=[xgb_pruning_callback])\n",
        "          xgb_preds = xgb_.predict(dvalid_xbg)\n",
        "          xgb_rmse = sklearn.metrics.mean_squared_error(valid_y, xgb_preds, squared = False)\n",
        "          self._xgb = xgb_\n",
        "        ###############################################################################\n",
        "        #                          . Light Gradient Boosting                          #\n",
        "        ###############################################################################\n",
        "        if any(x == 'gbm' for x in comb[i]):\n",
        "          gbm_scaler = trial.suggest_categorical(\"gbm_Scaler\", ['minmax','stand','log'])\n",
        "          train_x, valid_x, dtrain_gbm, dvalid_gbm, dtrain_xbg, dvalid_xbg = scaler_fuc(gbm_scaler)\n",
        "          gbm_param = {\n",
        "            'objective': 'regression',\n",
        "            'metric': 'rmse',\n",
        "              \"verbosity\": -1,\n",
        "              \"boosting_type\": \"gbdt\",\n",
        "              \"lambda_l1\": trial.suggest_loguniform(\"lambda_l1\", 1e-8, 10), \n",
        "              \"lambda_l2\": trial.suggest_loguniform(\"lambda_l2\", 1e-8, 10),\n",
        "              \"num_leaves\": trial.suggest_int(\"num_leaves\", 2, 256), \n",
        "              \"feature_fraction\": trial.suggest_uniform(\"feature_fraction\", 0.4, 1.0), \n",
        "              \"bagging_fraction\": trial.suggest_uniform(\"bagging_fraction\", 0.4, 1.0),\n",
        "              \"bagging_freq\": trial.suggest_int(\"bagging_freq\", 1, 7), \n",
        "              \"min_child_samples\": trial.suggest_int(\"min_child_samples\", 2, 100), \n",
        "          }\n",
        "          # Add a callback for pruning.\n",
        "          gbm_pruning_callback = optuna.integration.LightGBMPruningCallback(trial, \"rmse\")\n",
        "          gbm = lgb.train(gbm_param, dtrain_gbm, valid_sets=[dvalid_gbm], verbose_eval=False, callbacks=[gbm_pruning_callback])\n",
        "          gbm_preds = gbm.predict(valid_x)\n",
        "          gbm_rmse = sklearn.metrics.mean_squared_error(valid_y, gbm_preds, squared = False)\n",
        "          self._gbm = gbm\n",
        "        ###############################################################################\n",
        "        #                            . Stacking Strategy                              #\n",
        "        ###############################################################################\n",
        "\n",
        "        # strat = trial.suggest_int(\"strat\", 0, 1)\n",
        "\n",
        "        # if (strat == 0): # taking mean\n",
        "        preds = (gbm_preds + xgb_preds + rf_preds + \\\n",
        "        las_preds + ada_preds + et_preds + \\\n",
        "        lreg_preds + rid_preds) / 3\n",
        "\n",
        "\n",
        "        # if (strat == 1): # Making an equation\n",
        "        # a = trial.suggest_uniform(\"a\", 0.1, 0.9)\n",
        "        # b = trial.suggest_uniform(\"b\", 0.1, 0.9)\n",
        "        # c = trial.suggest_uniform(\"c\", 0.1, 0.9)\n",
        "        # d = trial.suggest_uniform(\"d\", 0.1, 0.9)\n",
        "\n",
        "        # def custom_sort(t):\n",
        "        #   return t[0]\n",
        "\n",
        "        # R = [[gbm_rmse,gbm_preds] , [xgb_rmse,xgb_preds], [rf_rmse, rf_preds], \\\n",
        "        #     [las_rmse,las_preds], [ada_rmse,ada_preds],[et_rmse,et_preds],\\\n",
        "        #     [lreg_rmse,lreg_preds], [rid_rmse,rid_preds]]\n",
        "        # R.sort(key=custom_sort) # low to high\n",
        "        # m1 = R[0][1]\n",
        "        # m2 = R[1][1]\n",
        "        # m3 = R[2][1]\n",
        "        # # Using list comprehension. This may result in a divide by 0 error when rounding occurs.\n",
        "        # # A fix would be to use a more precise library\n",
        "        # preds = [ (a*((x**b) + (y**c))) + (d*z) for x,y,z in zip(m1,m2,m3) ]\n",
        "        self.predictions = preds\n",
        "        rmse = sklearn.metrics.mean_squared_error(valid_y, preds, squared = False)\n",
        "        return rmse\n",
        "\n",
        "    def callback(self, study, trial):\n",
        "        if study.best_trial == trial:\n",
        "            self.best_gbm = self._gbm\n",
        "            self.best_xgb = self._xgb\n",
        "            self.fpredictions = self.predictions"
      ],
      "execution_count": 195,
      "outputs": []
    },
    {
      "cell_type": "code",
      "metadata": {
        "id": "qZdyvAQvuddv",
        "colab_type": "code",
        "colab": {
          "base_uri": "https://localhost:8080/",
          "height": 1000
        },
        "outputId": "6c509c68-be90-4928-c28f-3349d0582399"
      },
      "source": [
        "import optuna\n",
        "objective = Objective()\n",
        "\n",
        "# Setting SEED \n",
        "from optuna.samplers import TPESampler\n",
        "sampler = TPESampler(seed=10)\n",
        "\n",
        "study = optuna.create_study(\n",
        "    pruner=optuna.pruners.MedianPruner(n_warmup_steps=10), direction=\"minimize\",\n",
        "    sampler=sampler\n",
        ")\n",
        "study.optimize(objective, n_trials=1000, callbacks=[objective.callback])\n",
        "\n",
        "print(\"Best trial:\")\n",
        "trial = study.best_trial\n",
        "\n",
        "print(\"  Params: \")\n",
        "for key, value in trial.params.items():\n",
        "    print(\"    {}: {}\".format(key, value))\n",
        "\n",
        "best_gbm = objective.best_gbm\n",
        "best_xgb = objective.best_xgb"
      ],
      "execution_count": 196,
      "outputs": [
        {
          "output_type": "stream",
          "text": [
            "[0]\tvalidation-rmse:8.5838\n",
            "[1]\tvalidation-rmse:7.51008\n",
            "[2]\tvalidation-rmse:7.07943\n",
            "[3]\tvalidation-rmse:6.71247\n",
            "[4]\tvalidation-rmse:6.44665\n",
            "[5]\tvalidation-rmse:6.23397\n",
            "[6]\tvalidation-rmse:6.06656\n",
            "[7]\tvalidation-rmse:5.93394\n",
            "[8]\tvalidation-rmse:5.82863\n",
            "[9]\tvalidation-rmse:5.73827\n"
          ],
          "name": "stdout"
        },
        {
          "output_type": "stream",
          "text": [
            "[I 2020-07-08 13:32:06,592] Finished trial#0 with value: 3.975394457608443 with parameters: {'combos': 9, 'rf_Scaler': 'stand', 'rf_max_depth': 5, 'rf_ne': 528, 'xgb_Scaler': 'minmax', 'booster': 'gblinear', 'lambda': 0.00978207662259244, 'alpha': 9.728728830009641e-05, 'gbm_Scaler': 'minmax', 'lambda_l1': 1.684789145169785e-08, 'lambda_l2': 0.024147495209786127, 'num_leaves': 75, 'feature_fraction': 0.5014665019375213, 'bagging_fraction': 0.4530038885044062, 'bagging_freq': 5, 'min_child_samples': 18}. Best is trial#0 with value: 3.975394457608443.\n",
            "[I 2020-07-08 13:32:07,673] Finished trial#1 with value: 4.186402570791736 with parameters: {'combos': 4, 'ada_Scaler': 'log', 'ada_ne': 345, 'ada_lr': 0.5704456208852126, 'rf_Scaler': 'log', 'rf_max_depth': 2, 'rf_ne': 201, 'gbm_Scaler': 'minmax', 'lambda_l1': 4.235304245072407e-06, 'lambda_l2': 1.8195630232649103, 'num_leaves': 79, 'feature_fraction': 0.47887489144151374, 'bagging_fraction': 0.6482004246510716, 'bagging_freq': 7, 'min_child_samples': 15}. Best is trial#0 with value: 3.975394457608443.\n"
          ],
          "name": "stderr"
        },
        {
          "output_type": "stream",
          "text": [
            "[0]\tvalidation-rmse:8.48526\n",
            "[1]\tvalidation-rmse:7.78859\n",
            "[2]\tvalidation-rmse:7.49223\n",
            "[3]\tvalidation-rmse:7.34265\n",
            "[4]\tvalidation-rmse:7.24649\n",
            "[5]\tvalidation-rmse:7.17212\n",
            "[6]\tvalidation-rmse:7.10849\n",
            "[7]\tvalidation-rmse:7.05055\n",
            "[8]\tvalidation-rmse:6.99575\n",
            "[9]\tvalidation-rmse:6.94273\n"
          ],
          "name": "stdout"
        },
        {
          "output_type": "stream",
          "text": [
            "[I 2020-07-08 13:32:08,998] Finished trial#2 with value: 3.872957306592403 with parameters: {'combos': 6, 'et_Scaler': 'log', 'et_max_depth': 13, 'et_ne': 322, 'rf_Scaler': 'stand', 'rf_max_depth': 5, 'rf_ne': 284, 'xgb_Scaler': 'log', 'booster': 'gblinear', 'lambda': 0.0006431490422420297, 'alpha': 0.027655758533508757}. Best is trial#2 with value: 3.872957306592403.\n"
          ],
          "name": "stderr"
        },
        {
          "output_type": "stream",
          "text": [
            "[0]\tvalidation-rmse:23.9807\n",
            "[1]\tvalidation-rmse:23.9807\n",
            "[2]\tvalidation-rmse:23.9807\n",
            "[3]\tvalidation-rmse:23.9807\n",
            "[4]\tvalidation-rmse:23.9807\n",
            "[5]\tvalidation-rmse:23.9807\n",
            "[6]\tvalidation-rmse:23.9807\n",
            "[7]\tvalidation-rmse:23.9807\n",
            "[8]\tvalidation-rmse:23.9807\n",
            "[9]\tvalidation-rmse:23.9807\n"
          ],
          "name": "stdout"
        },
        {
          "output_type": "stream",
          "text": [
            "[I 2020-07-08 13:32:09,543] Finished trial#3 with value: 9.270544136202275 with parameters: {'combos': 8, 'et_Scaler': 'minmax', 'et_max_depth': 11, 'et_ne': 217, 'xgb_Scaler': 'stand', 'booster': 'dart', 'lambda': 2.544488269752405e-06, 'alpha': 8.163471763379958e-08, 'max_depth': 2, 'eta': 2.3723051688905587e-08, 'gamma': 0.0010239934684337197, 'grow_policy': 'lossguide', 'sample_type': 'uniform', 'normalize_type': 'tree', 'rate_drop': 1.289020201319028e-07, 'skip_drop': 0.013647100628412394, 'gbm_Scaler': 'minmax', 'lambda_l1': 1.4617521957829217e-05, 'lambda_l2': 0.061919754212729834, 'num_leaves': 110, 'feature_fraction': 0.9234354759034654, 'bagging_fraction': 0.9898125201114042, 'bagging_freq': 6, 'min_child_samples': 90}. Best is trial#2 with value: 3.872957306592403.\n"
          ],
          "name": "stderr"
        },
        {
          "output_type": "stream",
          "text": [
            "[0]\tvalidation-rmse:23.9807\n",
            "[1]\tvalidation-rmse:23.9807\n",
            "[2]\tvalidation-rmse:23.9806\n",
            "[3]\tvalidation-rmse:23.9806\n",
            "[4]\tvalidation-rmse:23.9806\n",
            "[5]\tvalidation-rmse:23.9806\n",
            "[6]\tvalidation-rmse:23.9805\n",
            "[7]\tvalidation-rmse:23.9805\n",
            "[8]\tvalidation-rmse:23.9805\n",
            "[9]\tvalidation-rmse:23.9805\n"
          ],
          "name": "stdout"
        },
        {
          "output_type": "stream",
          "text": [
            "[I 2020-07-08 13:32:12,960] Finished trial#4 with value: 8.783368564333724 with parameters: {'combos': 6, 'et_Scaler': 'log', 'et_max_depth': 11, 'et_ne': 663, 'rf_Scaler': 'minmax', 'rf_max_depth': 13, 'rf_ne': 733, 'xgb_Scaler': 'minmax', 'booster': 'dart', 'lambda': 0.7961663152623397, 'alpha': 4.471326429846904e-05, 'max_depth': 9, 'eta': 1.0256355687768682e-06, 'gamma': 0.0006011366210390782, 'grow_policy': 'lossguide', 'sample_type': 'uniform', 'normalize_type': 'forest', 'rate_drop': 9.553436381517415e-06, 'skip_drop': 1.0453316278779107e-08}. Best is trial#2 with value: 3.872957306592403.\n",
            "[I 2020-07-08 13:32:15,453] Finished trial#5 with value: 3.475463487181035 with parameters: {'combos': 0, 'ada_Scaler': 'log', 'ada_ne': 536, 'ada_lr': 0.06346715379529481, 'et_Scaler': 'minmax', 'et_max_depth': 19, 'et_ne': 625, 'rf_Scaler': 'log', 'rf_max_depth': 20, 'rf_ne': 80}. Best is trial#5 with value: 3.475463487181035.\n"
          ],
          "name": "stderr"
        },
        {
          "output_type": "stream",
          "text": [
            "[0]\tvalidation-rmse:23.9802\n",
            "[1]\tvalidation-rmse:23.9797\n",
            "[2]\tvalidation-rmse:23.9791\n",
            "[3]\tvalidation-rmse:23.9786\n",
            "[4]\tvalidation-rmse:23.9781\n",
            "[5]\tvalidation-rmse:23.9776\n",
            "[6]\tvalidation-rmse:23.9771\n",
            "[7]\tvalidation-rmse:23.9766\n",
            "[8]\tvalidation-rmse:23.976\n",
            "[9]\tvalidation-rmse:23.9755\n"
          ],
          "name": "stdout"
        },
        {
          "output_type": "stream",
          "text": [
            "[I 2020-07-08 13:32:17,556] Finished trial#6 with value: 8.393489276584903 with parameters: {'combos': 3, 'ada_Scaler': 'stand', 'ada_ne': 691, 'ada_lr': 0.128439708440937, 'rf_Scaler': 'log', 'rf_max_depth': 17, 'rf_ne': 235, 'xgb_Scaler': 'stand', 'booster': 'gbtree', 'lambda': 7.26320834194953e-07, 'alpha': 0.0002832340763026987, 'max_depth': 3, 'eta': 2.1881301522419794e-05, 'gamma': 0.0006992307438483914, 'grow_policy': 'depthwise'}. Best is trial#5 with value: 3.475463487181035.\n",
            "[I 2020-07-08 13:32:20,024] Finished trial#7 with value: 4.084527422213902 with parameters: {'combos': 0, 'ada_Scaler': 'stand', 'ada_ne': 202, 'ada_lr': 0.1167762177192328, 'et_Scaler': 'minmax', 'et_max_depth': 7, 'et_ne': 767, 'rf_Scaler': 'log', 'rf_max_depth': 1, 'rf_ne': 835}. Best is trial#5 with value: 3.475463487181035.\n"
          ],
          "name": "stderr"
        },
        {
          "output_type": "stream",
          "text": [
            "[0]\tvalidation-rmse:8.60535\n",
            "[1]\tvalidation-rmse:7.64912\n",
            "[2]\tvalidation-rmse:7.25464\n",
            "[3]\tvalidation-rmse:6.97604\n",
            "[4]\tvalidation-rmse:6.63785\n",
            "[5]\tvalidation-rmse:6.40591\n",
            "[6]\tvalidation-rmse:6.21509\n",
            "[7]\tvalidation-rmse:6.05009\n",
            "[8]\tvalidation-rmse:5.91747\n",
            "[9]\tvalidation-rmse:5.80717\n"
          ],
          "name": "stdout"
        },
        {
          "output_type": "stream",
          "text": [
            "[I 2020-07-08 13:32:21,879] Finished trial#8 with value: 3.5473628559226817 with parameters: {'combos': 3, 'ada_Scaler': 'log', 'ada_ne': 96, 'ada_lr': 0.2720893855967198, 'rf_Scaler': 'log', 'rf_max_depth': 14, 'rf_ne': 507, 'xgb_Scaler': 'minmax', 'booster': 'gblinear', 'lambda': 5.2199068028837845e-06, 'alpha': 9.128281974431969e-05}. Best is trial#5 with value: 3.475463487181035.\n"
          ],
          "name": "stderr"
        },
        {
          "output_type": "stream",
          "text": [
            "[0]\tvalidation-rmse:8.87067\n",
            "[1]\tvalidation-rmse:7.77058\n",
            "[2]\tvalidation-rmse:7.27449\n",
            "[3]\tvalidation-rmse:6.9945\n",
            "[4]\tvalidation-rmse:6.81497\n",
            "[5]\tvalidation-rmse:6.69098\n",
            "[6]\tvalidation-rmse:6.60059\n",
            "[7]\tvalidation-rmse:6.57313\n",
            "[8]\tvalidation-rmse:6.47395\n",
            "[9]\tvalidation-rmse:6.42769\n"
          ],
          "name": "stdout"
        },
        {
          "output_type": "stream",
          "text": [
            "[I 2020-07-08 13:32:25,656] Finished trial#9 with value: 3.779582462249641 with parameters: {'combos': 3, 'ada_Scaler': 'log', 'ada_ne': 422, 'ada_lr': 0.13847415272090957, 'rf_Scaler': 'stand', 'rf_max_depth': 12, 'rf_ne': 985, 'xgb_Scaler': 'minmax', 'booster': 'gblinear', 'lambda': 0.06879440955407841, 'alpha': 4.989597200979512e-06}. Best is trial#5 with value: 3.475463487181035.\n",
            "[I 2020-07-08 13:32:29,216] Finished trial#10 with value: 3.5547194111768587 with parameters: {'combos': 0, 'ada_Scaler': 'minmax', 'ada_ne': 921, 'ada_lr': 0.05243222066486495, 'et_Scaler': 'stand', 'et_max_depth': 20, 'et_ne': 974, 'rf_Scaler': 'minmax', 'rf_max_depth': 20, 'rf_ne': 2}. Best is trial#5 with value: 3.475463487181035.\n"
          ],
          "name": "stderr"
        },
        {
          "output_type": "stream",
          "text": [
            "[0]\tvalidation-rmse:15.9981\n",
            "[1]\tvalidation-rmse:10.9241\n",
            "[2]\tvalidation-rmse:7.84393\n",
            "[3]\tvalidation-rmse:6.15612\n",
            "[4]\tvalidation-rmse:5.32865\n",
            "[5]\tvalidation-rmse:5.01499\n",
            "[6]\tvalidation-rmse:4.92368\n",
            "[7]\tvalidation-rmse:4.91689\n",
            "[8]\tvalidation-rmse:4.94736\n",
            "[9]\tvalidation-rmse:4.96812\n"
          ],
          "name": "stdout"
        },
        {
          "output_type": "stream",
          "text": [
            "[I 2020-07-08 13:32:30,306] Finished trial#11 with value: 3.913401647779744 with parameters: {'combos': 1, 'ada_Scaler': 'log', 'ada_ne': 8, 'ada_lr': 0.4510406387260017, 'et_Scaler': 'minmax', 'et_max_depth': 20, 'et_ne': 496, 'xgb_Scaler': 'log', 'booster': 'gbtree', 'lambda': 7.699596804797094e-08, 'alpha': 0.332777955312474, 'max_depth': 9, 'eta': 0.32838107894393004, 'gamma': 1.0924380529754482e-08, 'grow_policy': 'depthwise'}. Best is trial#5 with value: 3.475463487181035.\n",
            "[I 2020-07-08 13:32:32,275] Setting status of trial#12 as TrialState.PRUNED. Trial was pruned at iteration 11.\n"
          ],
          "name": "stderr"
        },
        {
          "output_type": "stream",
          "text": [
            "[0]\tvalidation-rmse:8.51524\n",
            "[1]\tvalidation-rmse:7.57496\n",
            "[2]\tvalidation-rmse:7.16797\n",
            "[3]\tvalidation-rmse:6.86084\n",
            "[4]\tvalidation-rmse:6.60292\n",
            "[5]\tvalidation-rmse:6.38283\n",
            "[6]\tvalidation-rmse:6.19555\n",
            "[7]\tvalidation-rmse:6.0377\n",
            "[8]\tvalidation-rmse:5.90183\n",
            "[9]\tvalidation-rmse:5.80306\n"
          ],
          "name": "stdout"
        },
        {
          "output_type": "stream",
          "text": [
            "[I 2020-07-08 13:32:32,569] Finished trial#13 with value: 3.8012536396725625 with parameters: {'combos': 1, 'ada_Scaler': 'log', 'ada_ne': 7, 'ada_lr': 0.9941186931938232, 'et_Scaler': 'minmax', 'et_max_depth': 17, 'et_ne': 3, 'xgb_Scaler': 'minmax', 'booster': 'gblinear', 'lambda': 4.734628777398013e-05, 'alpha': 1.1638781077073644e-08}. Best is trial#5 with value: 3.475463487181035.\n"
          ],
          "name": "stderr"
        },
        {
          "output_type": "stream",
          "text": [
            "[0]\tvalidation-rmse:8.59661\n",
            "[1]\tvalidation-rmse:7.65021\n",
            "[2]\tvalidation-rmse:7.25174\n",
            "[3]\tvalidation-rmse:6.9398\n",
            "[4]\tvalidation-rmse:6.67153\n",
            "[5]\tvalidation-rmse:6.44023\n",
            "[6]\tvalidation-rmse:6.24248\n",
            "[7]\tvalidation-rmse:6.07533\n",
            "[8]\tvalidation-rmse:5.93595\n",
            "[9]\tvalidation-rmse:5.82135\n"
          ],
          "name": "stdout"
        },
        {
          "output_type": "stream",
          "text": [
            "[I 2020-07-08 13:32:33,769] Setting status of trial#14 as TrialState.PRUNED. Trial was pruned at iteration 12.\n",
            "[I 2020-07-08 13:32:35,561] Setting status of trial#15 as TrialState.PRUNED. Trial was pruned at iteration 21.\n",
            "[I 2020-07-08 13:32:39,422] Finished trial#16 with value: 3.4973045763631916 with parameters: {'combos': 0, 'ada_Scaler': 'log', 'ada_ne': 878, 'ada_lr': 0.08389734861545206, 'et_Scaler': 'stand', 'et_max_depth': 5, 'et_ne': 523, 'rf_Scaler': 'log', 'rf_max_depth': 20, 'rf_ne': 511}. Best is trial#5 with value: 3.475463487181035.\n",
            "[I 2020-07-08 13:32:41,764] Finished trial#17 with value: 3.391449824563851 with parameters: {'combos': 0, 'ada_Scaler': 'log', 'ada_ne': 945, 'ada_lr': 0.07632691683662905, 'et_Scaler': 'stand', 'et_max_depth': 5, 'et_ne': 511, 'rf_Scaler': 'log', 'rf_max_depth': 20, 'rf_ne': 4}. Best is trial#17 with value: 3.391449824563851.\n"
          ],
          "name": "stderr"
        },
        {
          "output_type": "stream",
          "text": [
            "[0]\tvalidation-rmse:23.9807\n",
            "[1]\tvalidation-rmse:23.9807\n",
            "[2]\tvalidation-rmse:23.9807\n",
            "[3]\tvalidation-rmse:18.6939\n",
            "[4]\tvalidation-rmse:21.1132\n",
            "[5]\tvalidation-rmse:23.9807\n",
            "[6]\tvalidation-rmse:21.8231\n",
            "[7]\tvalidation-rmse:14.9568\n",
            "[8]\tvalidation-rmse:18.1673\n",
            "[9]\tvalidation-rmse:20.6058\n"
          ],
          "name": "stdout"
        },
        {
          "output_type": "stream",
          "text": [
            "[I 2020-07-08 13:32:44,126] Finished trial#18 with value: 8.335692224659166 with parameters: {'combos': 1, 'ada_Scaler': 'log', 'ada_ne': 987, 'ada_lr': 0.07452317459568862, 'et_Scaler': 'stand', 'et_max_depth': 1, 'et_ne': 487, 'xgb_Scaler': 'log', 'booster': 'dart', 'lambda': 0.698044275366588, 'alpha': 2.883528935750263e-07, 'max_depth': 6, 'eta': 0.5804914139151357, 'gamma': 0.8901529804512431, 'grow_policy': 'depthwise', 'sample_type': 'weighted', 'normalize_type': 'tree', 'rate_drop': 0.7841107192778209, 'skip_drop': 1.2387131766605551e-07}. Best is trial#17 with value: 3.391449824563851.\n",
            "[I 2020-07-08 13:32:46,128] Finished trial#19 with value: 3.5180423679315975 with parameters: {'combos': 0, 'ada_Scaler': 'minmax', 'ada_ne': 784, 'ada_lr': 0.05116888946636236, 'et_Scaler': 'stand', 'et_max_depth': 6, 'et_ne': 314, 'rf_Scaler': 'log', 'rf_max_depth': 17, 'rf_ne': 20}. Best is trial#17 with value: 3.391449824563851.\n",
            "[I 2020-07-08 13:32:47,888] Finished trial#20 with value: 3.6877105810516935 with parameters: {'combos': 2, 'ada_Scaler': 'stand', 'ada_ne': 537, 'ada_lr': 0.08356492226176462, 'et_Scaler': 'log', 'et_max_depth': 3, 'et_ne': 636, 'gbm_Scaler': 'stand', 'lambda_l1': 1.8832738342579464e-08, 'lambda_l2': 0.0001299344175663139, 'num_leaves': 182, 'feature_fraction': 0.6280993508692995, 'bagging_fraction': 0.7552943408444157, 'bagging_freq': 3, 'min_child_samples': 34}. Best is trial#17 with value: 3.391449824563851.\n",
            "[I 2020-07-08 13:32:51,390] Finished trial#21 with value: 3.4686404668081425 with parameters: {'combos': 0, 'ada_Scaler': 'log', 'ada_ne': 878, 'ada_lr': 0.09005465158881587, 'et_Scaler': 'stand', 'et_max_depth': 6, 'et_ne': 558, 'rf_Scaler': 'log', 'rf_max_depth': 20, 'rf_ne': 378}. Best is trial#17 with value: 3.391449824563851.\n"
          ],
          "name": "stderr"
        },
        {
          "output_type": "stream",
          "text": [
            "[0]\tvalidation-rmse:23.9037\n",
            "[1]\tvalidation-rmse:23.8269\n",
            "[2]\tvalidation-rmse:23.7503\n",
            "[3]\tvalidation-rmse:23.6741\n",
            "[4]\tvalidation-rmse:23.5981\n",
            "[5]\tvalidation-rmse:23.5223\n",
            "[6]\tvalidation-rmse:23.4468\n",
            "[7]\tvalidation-rmse:23.3715\n",
            "[8]\tvalidation-rmse:23.2966\n",
            "[9]\tvalidation-rmse:23.2218\n"
          ],
          "name": "stdout"
        },
        {
          "output_type": "stream",
          "text": [
            "[I 2020-07-08 13:32:53,846] Finished trial#22 with value: 8.10822425847202 with parameters: {'combos': 1, 'ada_Scaler': 'log', 'ada_ne': 806, 'ada_lr': 0.0697324526089645, 'et_Scaler': 'stand', 'et_max_depth': 8, 'et_ne': 588, 'xgb_Scaler': 'stand', 'booster': 'gbtree', 'lambda': 0.0009971993545308967, 'alpha': 0.4089654185720592, 'max_depth': 6, 'eta': 0.00314070990870167, 'gamma': 1.1220675849935659e-08, 'grow_policy': 'lossguide'}. Best is trial#17 with value: 3.391449824563851.\n",
            "[I 2020-07-08 13:32:56,387] Finished trial#23 with value: 3.5283944108172656 with parameters: {'combos': 0, 'ada_Scaler': 'log', 'ada_ne': 994, 'ada_lr': 0.17728505269499625, 'et_Scaler': 'stand', 'et_max_depth': 4, 'et_ne': 368, 'rf_Scaler': 'log', 'rf_max_depth': 20, 'rf_ne': 98}. Best is trial#17 with value: 3.391449824563851.\n"
          ],
          "name": "stderr"
        },
        {
          "output_type": "stream",
          "text": [
            "[0]\tvalidation-rmse:23.9807\n",
            "[1]\tvalidation-rmse:23.9807\n",
            "[2]\tvalidation-rmse:23.9807\n",
            "[3]\tvalidation-rmse:23.9807\n",
            "[4]\tvalidation-rmse:23.9807\n",
            "[5]\tvalidation-rmse:23.9807\n",
            "[6]\tvalidation-rmse:23.9807\n",
            "[7]\tvalidation-rmse:23.9807\n",
            "[8]\tvalidation-rmse:23.9807\n",
            "[9]\tvalidation-rmse:23.9807\n"
          ],
          "name": "stdout"
        },
        {
          "output_type": "stream",
          "text": [
            "[I 2020-07-08 13:32:58,860] Finished trial#24 with value: 8.376897141650069 with parameters: {'combos': 1, 'ada_Scaler': 'log', 'ada_ne': 658, 'ada_lr': 0.10124002164571515, 'et_Scaler': 'stand', 'et_max_depth': 9, 'et_ne': 808, 'xgb_Scaler': 'stand', 'booster': 'gbtree', 'lambda': 0.02822926198016767, 'alpha': 0.004189778644290041, 'max_depth': 1, 'eta': 1.366960740944748e-08, 'gamma': 0.9071284157686721, 'grow_policy': 'lossguide'}. Best is trial#17 with value: 3.391449824563851.\n",
            "[I 2020-07-08 13:33:01,216] Finished trial#25 with value: 3.615021428861198 with parameters: {'combos': 0, 'ada_Scaler': 'log', 'ada_ne': 417, 'ada_lr': 0.06227417814448856, 'et_Scaler': 'stand', 'et_max_depth': 3, 'et_ne': 397, 'rf_Scaler': 'log', 'rf_max_depth': 17, 'rf_ne': 366}. Best is trial#17 with value: 3.391449824563851.\n",
            "[I 2020-07-08 13:33:03,771] Setting status of trial#26 as TrialState.PRUNED. Trial was pruned at iteration 11.\n"
          ],
          "name": "stderr"
        },
        {
          "output_type": "stream",
          "text": [
            "[0]\tvalidation-rmse:23.8813\n",
            "[1]\tvalidation-rmse:23.7823\n",
            "[2]\tvalidation-rmse:23.6837\n",
            "[3]\tvalidation-rmse:23.586\n",
            "[4]\tvalidation-rmse:23.6857\n",
            "[5]\tvalidation-rmse:23.3914\n",
            "[6]\tvalidation-rmse:23.4911\n",
            "[7]\tvalidation-rmse:23.2966\n",
            "[8]\tvalidation-rmse:23.1025\n",
            "[9]\tvalidation-rmse:23.1041\n"
          ],
          "name": "stdout"
        },
        {
          "output_type": "stream",
          "text": [
            "[I 2020-07-08 13:33:05,956] Finished trial#27 with value: 8.047217082686089 with parameters: {'combos': 1, 'ada_Scaler': 'log', 'ada_ne': 922, 'ada_lr': 0.10434728599629013, 'et_Scaler': 'stand', 'et_max_depth': 9, 'et_ne': 177, 'xgb_Scaler': 'log', 'booster': 'dart', 'lambda': 1.1009751967362643e-07, 'alpha': 1.461676322987632e-06, 'max_depth': 4, 'eta': 0.004113694813307211, 'gamma': 2.4150668533652668e-06, 'grow_policy': 'depthwise', 'sample_type': 'weighted', 'normalize_type': 'forest', 'rate_drop': 0.22503478669708654, 'skip_drop': 0.4428534419385031}. Best is trial#17 with value: 3.391449824563851.\n",
            "[I 2020-07-08 13:33:08,127] Setting status of trial#28 as TrialState.PRUNED. Trial was pruned at iteration 11.\n"
          ],
          "name": "stderr"
        },
        {
          "output_type": "stream",
          "text": [
            "[0]\tvalidation-rmse:23.9806\n",
            "[1]\tvalidation-rmse:23.9806\n",
            "[2]\tvalidation-rmse:23.9805\n",
            "[3]\tvalidation-rmse:23.9805\n",
            "[4]\tvalidation-rmse:23.9804\n",
            "[5]\tvalidation-rmse:23.9804\n",
            "[6]\tvalidation-rmse:23.9803\n",
            "[7]\tvalidation-rmse:23.9803\n",
            "[8]\tvalidation-rmse:23.9802\n",
            "[9]\tvalidation-rmse:23.9802\n"
          ],
          "name": "stdout"
        },
        {
          "output_type": "stream",
          "text": [
            "[I 2020-07-08 13:33:09,509] Setting status of trial#29 as TrialState.PRUNED. Trial was pruned at iteration 11.\n",
            "[I 2020-07-08 13:33:12,234] Finished trial#30 with value: 3.5275480678312787 with parameters: {'combos': 0, 'ada_Scaler': 'minmax', 'ada_ne': 888, 'ada_lr': 0.09254572948447412, 'et_Scaler': 'minmax', 'et_max_depth': 6, 'et_ne': 856, 'rf_Scaler': 'log', 'rf_max_depth': 15, 'rf_ne': 4}. Best is trial#17 with value: 3.391449824563851.\n",
            "[I 2020-07-08 13:33:16,276] Finished trial#31 with value: 3.5173186248764376 with parameters: {'combos': 0, 'ada_Scaler': 'log', 'ada_ne': 858, 'ada_lr': 0.08308769947506013, 'et_Scaler': 'stand', 'et_max_depth': 4, 'et_ne': 540, 'rf_Scaler': 'log', 'rf_max_depth': 20, 'rf_ne': 611}. Best is trial#17 with value: 3.391449824563851.\n",
            "[I 2020-07-08 13:33:20,154] Finished trial#32 with value: 3.4764862939881693 with parameters: {'combos': 0, 'ada_Scaler': 'log', 'ada_ne': 749, 'ada_lr': 0.05040884836711048, 'et_Scaler': 'stand', 'et_max_depth': 5, 'et_ne': 447, 'rf_Scaler': 'log', 'rf_max_depth': 19, 'rf_ne': 645}. Best is trial#17 with value: 3.391449824563851.\n"
          ],
          "name": "stderr"
        },
        {
          "output_type": "stream",
          "text": [
            "[0]\tvalidation-rmse:23.8382\n",
            "[1]\tvalidation-rmse:23.6967\n",
            "[2]\tvalidation-rmse:23.5559\n",
            "[3]\tvalidation-rmse:23.4162\n",
            "[4]\tvalidation-rmse:23.2772\n",
            "[5]\tvalidation-rmse:23.139\n",
            "[6]\tvalidation-rmse:23.0017\n",
            "[7]\tvalidation-rmse:22.8653\n",
            "[8]\tvalidation-rmse:22.7297\n",
            "[9]\tvalidation-rmse:22.5951\n"
          ],
          "name": "stdout"
        },
        {
          "output_type": "stream",
          "text": [
            "[I 2020-07-08 13:33:22,110] Finished trial#33 with value: 8.573640326014866 with parameters: {'combos': 1, 'ada_Scaler': 'log', 'ada_ne': 758, 'ada_lr': 0.05005787716855545, 'et_Scaler': 'stand', 'et_max_depth': 2, 'et_ne': 433, 'xgb_Scaler': 'log', 'booster': 'dart', 'lambda': 1.110874417013212e-08, 'alpha': 0.054494171853342134, 'max_depth': 8, 'eta': 0.005733885303289868, 'gamma': 0.05359141156943801, 'grow_policy': 'depthwise', 'sample_type': 'weighted', 'normalize_type': 'forest', 'rate_drop': 0.002053464057403265, 'skip_drop': 1.5608017196720712e-05}. Best is trial#17 with value: 3.391449824563851.\n",
            "[I 2020-07-08 13:33:24,250] Finished trial#34 with value: 3.526373621336102 with parameters: {'combos': 2, 'ada_Scaler': 'log', 'ada_ne': 563, 'ada_lr': 0.06193436527605462, 'et_Scaler': 'stand', 'et_max_depth': 6, 'et_ne': 704, 'gbm_Scaler': 'log', 'lambda_l1': 0.0003208605416546078, 'lambda_l2': 3.1646593273126703e-06, 'num_leaves': 49, 'feature_fraction': 0.7499653810169895, 'bagging_fraction': 0.9085161874694516, 'bagging_freq': 5, 'min_child_samples': 2}. Best is trial#17 with value: 3.391449824563851.\n",
            "[I 2020-07-08 13:33:27,961] Finished trial#35 with value: 3.420184379437525 with parameters: {'combos': 0, 'ada_Scaler': 'log', 'ada_ne': 446, 'ada_lr': 0.050711974614198574, 'et_Scaler': 'stand', 'et_max_depth': 8, 'et_ne': 560, 'rf_Scaler': 'log', 'rf_max_depth': 18, 'rf_ne': 685}. Best is trial#17 with value: 3.391449824563851.\n",
            "[I 2020-07-08 13:33:31,224] Setting status of trial#36 as TrialState.PRUNED. Trial was pruned at iteration 81.\n"
          ],
          "name": "stderr"
        },
        {
          "output_type": "stream",
          "text": [
            "[0]\tvalidation-rmse:23.9807\n",
            "[1]\tvalidation-rmse:23.9807\n",
            "[2]\tvalidation-rmse:23.9807\n",
            "[3]\tvalidation-rmse:23.9807\n",
            "[4]\tvalidation-rmse:23.9807\n",
            "[5]\tvalidation-rmse:23.9807\n",
            "[6]\tvalidation-rmse:23.9807\n",
            "[7]\tvalidation-rmse:23.9806\n",
            "[8]\tvalidation-rmse:23.9806\n",
            "[9]\tvalidation-rmse:23.9806\n"
          ],
          "name": "stdout"
        },
        {
          "output_type": "stream",
          "text": [
            "[I 2020-07-08 13:33:32,975] Finished trial#37 with value: 8.813839149921614 with parameters: {'combos': 1, 'ada_Scaler': 'stand', 'ada_ne': 343, 'ada_lr': 0.06323480233064888, 'et_Scaler': 'minmax', 'et_max_depth': 9, 'et_ne': 596, 'xgb_Scaler': 'log', 'booster': 'gbtree', 'lambda': 0.002060617829932583, 'alpha': 0.0008199418077995764, 'max_depth': 1, 'eta': 3.136284417371301e-07, 'gamma': 6.546838214728844e-07, 'grow_policy': 'depthwise'}. Best is trial#17 with value: 3.391449824563851.\n",
            "[I 2020-07-08 13:33:34,172] Setting status of trial#38 as TrialState.PRUNED. Trial was pruned at iteration 97.\n"
          ],
          "name": "stderr"
        },
        {
          "output_type": "stream",
          "text": [
            "[0]\tvalidation-rmse:23.9772\n",
            "[1]\tvalidation-rmse:23.9738\n",
            "[2]\tvalidation-rmse:23.9703\n",
            "[3]\tvalidation-rmse:23.9669\n",
            "[4]\tvalidation-rmse:23.9634\n",
            "[5]\tvalidation-rmse:23.96\n",
            "[6]\tvalidation-rmse:23.9565\n",
            "[7]\tvalidation-rmse:23.953\n",
            "[8]\tvalidation-rmse:23.9496\n",
            "[9]\tvalidation-rmse:23.9461\n"
          ],
          "name": "stdout"
        },
        {
          "output_type": "stream",
          "text": [
            "[I 2020-07-08 13:33:36,288] Finished trial#39 with value: 8.8688137170244 with parameters: {'combos': 3, 'ada_Scaler': 'stand', 'ada_ne': 361, 'ada_lr': 0.11379251446292307, 'rf_Scaler': 'minmax', 'rf_max_depth': 15, 'rf_ne': 385, 'xgb_Scaler': 'stand', 'booster': 'dart', 'lambda': 0.2674597997250419, 'alpha': 8.409151660403988e-06, 'max_depth': 4, 'eta': 0.0001475051445040154, 'gamma': 0.030069415824282714, 'grow_policy': 'lossguide', 'sample_type': 'uniform', 'normalize_type': 'tree', 'rate_drop': 3.751305549721923e-08, 'skip_drop': 0.0002114320542340563}. Best is trial#17 with value: 3.391449824563851.\n",
            "[I 2020-07-08 13:33:40,293] Finished trial#40 with value: 3.3962374699724243 with parameters: {'combos': 0, 'ada_Scaler': 'log', 'ada_ne': 279, 'ada_lr': 0.07492312755160782, 'et_Scaler': 'log', 'et_max_depth': 10, 'et_ne': 310, 'rf_Scaler': 'log', 'rf_max_depth': 18, 'rf_ne': 970}. Best is trial#17 with value: 3.391449824563851.\n",
            "[I 2020-07-08 13:33:44,350] Finished trial#41 with value: 3.3785535675378973 with parameters: {'combos': 0, 'ada_Scaler': 'log', 'ada_ne': 239, 'ada_lr': 0.07699955146759971, 'et_Scaler': 'log', 'et_max_depth': 13, 'et_ne': 322, 'rf_Scaler': 'log', 'rf_max_depth': 19, 'rf_ne': 982}. Best is trial#41 with value: 3.3785535675378973.\n",
            "[I 2020-07-08 13:33:48,348] Finished trial#42 with value: 3.3946303659356687 with parameters: {'combos': 0, 'ada_Scaler': 'log', 'ada_ne': 264, 'ada_lr': 0.07444923334463982, 'et_Scaler': 'log', 'et_max_depth': 13, 'et_ne': 298, 'rf_Scaler': 'log', 'rf_max_depth': 18, 'rf_ne': 969}. Best is trial#41 with value: 3.3785535675378973.\n"
          ],
          "name": "stderr"
        },
        {
          "output_type": "stream",
          "text": [
            "[0]\tvalidation-rmse:22.613\n",
            "[1]\tvalidation-rmse:21.3322\n",
            "[2]\tvalidation-rmse:20.127\n",
            "[3]\tvalidation-rmse:19.0065\n",
            "[4]\tvalidation-rmse:17.9395\n",
            "[5]\tvalidation-rmse:16.9595\n",
            "[6]\tvalidation-rmse:16.013\n",
            "[7]\tvalidation-rmse:15.1233\n",
            "[8]\tvalidation-rmse:14.3063\n",
            "[9]\tvalidation-rmse:13.5087\n"
          ],
          "name": "stdout"
        },
        {
          "output_type": "stream",
          "text": [
            "[I 2020-07-08 13:33:49,447] Finished trial#43 with value: 5.251579115855595 with parameters: {'combos': 1, 'ada_Scaler': 'log', 'ada_ne': 243, 'ada_lr': 0.07360374351937225, 'et_Scaler': 'log', 'et_max_depth': 13, 'et_ne': 260, 'xgb_Scaler': 'log', 'booster': 'dart', 'lambda': 5.1692729335928246e-06, 'alpha': 0.8509735028053665, 'max_depth': 5, 'eta': 0.055638053272096234, 'gamma': 9.573676984924668e-08, 'grow_policy': 'depthwise', 'sample_type': 'weighted', 'normalize_type': 'tree', 'rate_drop': 0.0006038714523387042, 'skip_drop': 0.6055870084722105}. Best is trial#41 with value: 3.3785535675378973.\n",
            "[I 2020-07-08 13:33:53,221] Finished trial#44 with value: 3.3707544032017758 with parameters: {'combos': 0, 'ada_Scaler': 'log', 'ada_ne': 265, 'ada_lr': 0.12187165315407059, 'et_Scaler': 'log', 'et_max_depth': 12, 'et_ne': 143, 'rf_Scaler': 'log', 'rf_max_depth': 18, 'rf_ne': 982}. Best is trial#44 with value: 3.3707544032017758.\n",
            "[I 2020-07-08 13:33:57,015] Finished trial#45 with value: 3.335776209839473 with parameters: {'combos': 0, 'ada_Scaler': 'log', 'ada_ne': 265, 'ada_lr': 0.12418213104530205, 'et_Scaler': 'log', 'et_max_depth': 12, 'et_ne': 113, 'rf_Scaler': 'log', 'rf_max_depth': 16, 'rf_ne': 1000}. Best is trial#45 with value: 3.335776209839473.\n"
          ],
          "name": "stderr"
        },
        {
          "output_type": "stream",
          "text": [
            "[0]\tvalidation-rmse:23.9787\n",
            "[1]\tvalidation-rmse:23.9768\n",
            "[2]\tvalidation-rmse:23.9748\n",
            "[3]\tvalidation-rmse:23.9729\n",
            "[4]\tvalidation-rmse:23.9709\n",
            "[5]\tvalidation-rmse:23.969\n",
            "[6]\tvalidation-rmse:23.967\n",
            "[7]\tvalidation-rmse:23.965\n",
            "[8]\tvalidation-rmse:23.9631\n",
            "[9]\tvalidation-rmse:23.9611\n"
          ],
          "name": "stdout"
        },
        {
          "output_type": "stream",
          "text": [
            "[I 2020-07-08 13:33:57,494] Finished trial#46 with value: 8.328183363529188 with parameters: {'combos': 1, 'ada_Scaler': 'log', 'ada_ne': 122, 'ada_lr': 0.18464721454371677, 'et_Scaler': 'log', 'et_max_depth': 13, 'et_ne': 39, 'xgb_Scaler': 'minmax', 'booster': 'gbtree', 'lambda': 0.0002040917475444124, 'alpha': 8.611319507170077e-08, 'max_depth': 2, 'eta': 8.85025606890473e-05, 'gamma': 2.7482546007275382e-05, 'grow_policy': 'lossguide'}. Best is trial#45 with value: 3.335776209839473.\n",
            "[I 2020-07-08 13:34:00,753] Finished trial#47 with value: 3.424487562829793 with parameters: {'combos': 0, 'ada_Scaler': 'log', 'ada_ne': 124, 'ada_lr': 0.12724054605777074, 'et_Scaler': 'log', 'et_max_depth': 12, 'et_ne': 124, 'rf_Scaler': 'log', 'rf_max_depth': 16, 'rf_ne': 911}. Best is trial#45 with value: 3.335776209839473.\n",
            "[I 2020-07-08 13:34:01,559] Setting status of trial#48 as TrialState.PRUNED. Trial was pruned at iteration 11.\n"
          ],
          "name": "stderr"
        },
        {
          "output_type": "stream",
          "text": [
            "[0]\tvalidation-rmse:13.0878\n",
            "[1]\tvalidation-rmse:8.15934\n",
            "[2]\tvalidation-rmse:6.26489\n",
            "[3]\tvalidation-rmse:5.62169\n",
            "[4]\tvalidation-rmse:5.40084\n",
            "[5]\tvalidation-rmse:5.31866\n",
            "[6]\tvalidation-rmse:5.27438\n",
            "[7]\tvalidation-rmse:5.24636\n",
            "[8]\tvalidation-rmse:5.22767\n",
            "[9]\tvalidation-rmse:5.21346\n"
          ],
          "name": "stdout"
        },
        {
          "output_type": "stream",
          "text": [
            "[I 2020-07-08 13:34:02,577] Finished trial#49 with value: 3.61761116451487 with parameters: {'combos': 1, 'ada_Scaler': 'log', 'ada_ne': 185, 'ada_lr': 0.14643385117072588, 'et_Scaler': 'log', 'et_max_depth': 11, 'et_ne': 220, 'xgb_Scaler': 'stand', 'booster': 'gblinear', 'lambda': 0.00795002661881781, 'alpha': 0.06481976233451085}. Best is trial#45 with value: 3.335776209839473.\n"
          ],
          "name": "stderr"
        },
        {
          "output_type": "stream",
          "text": [
            "[0]\tvalidation-rmse:8.59921\n",
            "[1]\tvalidation-rmse:7.64776\n",
            "[2]\tvalidation-rmse:7.31799\n",
            "[3]\tvalidation-rmse:6.9471\n",
            "[4]\tvalidation-rmse:6.66122\n",
            "[5]\tvalidation-rmse:6.42619\n",
            "[6]\tvalidation-rmse:6.22823\n",
            "[7]\tvalidation-rmse:6.06234\n",
            "[8]\tvalidation-rmse:5.92431\n",
            "[9]\tvalidation-rmse:5.81124\n"
          ],
          "name": "stdout"
        },
        {
          "output_type": "stream",
          "text": [
            "[I 2020-07-08 13:34:05,574] Finished trial#50 with value: 3.5872215926466087 with parameters: {'combos': 6, 'et_Scaler': 'log', 'et_max_depth': 12, 'et_ne': 68, 'rf_Scaler': 'stand', 'rf_max_depth': 16, 'rf_ne': 894, 'xgb_Scaler': 'minmax', 'booster': 'gblinear', 'lambda': 1.8794394198389053e-05, 'alpha': 0.0026862597886268403}. Best is trial#45 with value: 3.335776209839473.\n",
            "[I 2020-07-08 13:34:09,704] Finished trial#51 with value: 3.4167878718779963 with parameters: {'combos': 0, 'ada_Scaler': 'log', 'ada_ne': 290, 'ada_lr': 0.1041570007229789, 'et_Scaler': 'log', 'et_max_depth': 14, 'et_ne': 302, 'rf_Scaler': 'log', 'rf_max_depth': 18, 'rf_ne': 998}. Best is trial#45 with value: 3.335776209839473.\n",
            "[I 2020-07-08 13:34:13,400] Finished trial#52 with value: 3.41185872282627 with parameters: {'combos': 0, 'ada_Scaler': 'log', 'ada_ne': 247, 'ada_lr': 0.3441063064270806, 'et_Scaler': 'log', 'et_max_depth': 10, 'et_ne': 233, 'rf_Scaler': 'log', 'rf_max_depth': 18, 'rf_ne': 939}. Best is trial#45 with value: 3.335776209839473.\n",
            "[I 2020-07-08 13:34:17,524] Finished trial#53 with value: 3.4051733460385014 with parameters: {'combos': 0, 'ada_Scaler': 'log', 'ada_ne': 377, 'ada_lr': 0.07455780159756242, 'et_Scaler': 'log', 'et_max_depth': 12, 'et_ne': 164, 'rf_Scaler': 'log', 'rf_max_depth': 19, 'rf_ne': 993}. Best is trial#45 with value: 3.335776209839473.\n"
          ],
          "name": "stderr"
        },
        {
          "output_type": "stream",
          "text": [
            "[0]\tvalidation-rmse:23.9807\n",
            "[1]\tvalidation-rmse:23.9807\n",
            "[2]\tvalidation-rmse:23.9807\n",
            "[3]\tvalidation-rmse:23.9807\n",
            "[4]\tvalidation-rmse:23.9807\n",
            "[5]\tvalidation-rmse:23.9807\n",
            "[6]\tvalidation-rmse:23.9807\n",
            "[7]\tvalidation-rmse:23.9807\n",
            "[8]\tvalidation-rmse:23.9807\n",
            "[9]\tvalidation-rmse:23.9807\n"
          ],
          "name": "stdout"
        },
        {
          "output_type": "stream",
          "text": [
            "[I 2020-07-08 13:34:18,233] Setting status of trial#54 as TrialState.PRUNED. Trial was pruned at iteration 11.\n"
          ],
          "name": "stderr"
        },
        {
          "output_type": "stream",
          "text": [
            "[0]\tvalidation-rmse:22.8187\n",
            "[1]\tvalidation-rmse:21.7115\n",
            "[2]\tvalidation-rmse:20.6671\n",
            "[3]\tvalidation-rmse:19.6646\n",
            "[4]\tvalidation-rmse:18.7168\n",
            "[5]\tvalidation-rmse:17.8321\n",
            "[6]\tvalidation-rmse:16.9719\n",
            "[7]\tvalidation-rmse:16.1608\n",
            "[8]\tvalidation-rmse:15.3933\n",
            "[9]\tvalidation-rmse:14.6845\n"
          ],
          "name": "stdout"
        },
        {
          "output_type": "stream",
          "text": [
            "[I 2020-07-08 13:34:19,276] Finished trial#55 with value: 5.817421069066286 with parameters: {'combos': 1, 'ada_Scaler': 'minmax', 'ada_ne': 63, 'ada_lr': 0.12636363932049255, 'et_Scaler': 'log', 'et_max_depth': 17, 'et_ne': 349, 'xgb_Scaler': 'stand', 'booster': 'gbtree', 'lambda': 0.08575314418593281, 'alpha': 7.857983982185118e-06, 'max_depth': 5, 'eta': 0.04825278710581954, 'gamma': 9.246834551665279e-05, 'grow_policy': 'lossguide'}. Best is trial#45 with value: 3.335776209839473.\n",
            "[I 2020-07-08 13:34:22,817] Finished trial#56 with value: 3.397105643355469 with parameters: {'combos': 0, 'ada_Scaler': 'log', 'ada_ne': 214, 'ada_lr': 0.21210998555985686, 'et_Scaler': 'log', 'et_max_depth': 14, 'et_ne': 283, 'rf_Scaler': 'log', 'rf_max_depth': 19, 'rf_ne': 853}. Best is trial#45 with value: 3.335776209839473.\n"
          ],
          "name": "stderr"
        },
        {
          "output_type": "stream",
          "text": [
            "[0]\tvalidation-rmse:23.9805\n",
            "[1]\tvalidation-rmse:23.9803\n",
            "[2]\tvalidation-rmse:23.9801\n",
            "[3]\tvalidation-rmse:23.9799\n",
            "[4]\tvalidation-rmse:23.9796\n",
            "[5]\tvalidation-rmse:23.9794\n",
            "[6]\tvalidation-rmse:23.9792\n",
            "[7]\tvalidation-rmse:23.979\n",
            "[8]\tvalidation-rmse:23.979\n",
            "[9]\tvalidation-rmse:23.9786\n"
          ],
          "name": "stdout"
        },
        {
          "output_type": "stream",
          "text": [
            "[I 2020-07-08 13:34:23,465] Finished trial#57 with value: 8.282517988600276 with parameters: {'combos': 1, 'ada_Scaler': 'log', 'ada_ne': 167, 'ada_lr': 0.0936440551610548, 'et_Scaler': 'log', 'et_max_depth': 11, 'et_ne': 84, 'xgb_Scaler': 'log', 'booster': 'dart', 'lambda': 4.8755106018881386e-08, 'alpha': 0.0008920208824063152, 'max_depth': 7, 'eta': 8.53223070872403e-06, 'gamma': 0.004274141425743547, 'grow_policy': 'depthwise', 'sample_type': 'weighted', 'normalize_type': 'tree', 'rate_drop': 0.018315407552289983, 'skip_drop': 0.00299117147907361}. Best is trial#45 with value: 3.335776209839473.\n",
            "[I 2020-07-08 13:34:23,678] Setting status of trial#58 as TrialState.PRUNED. Trial was pruned at iteration 74.\n",
            "[I 2020-07-08 13:34:27,546] Finished trial#59 with value: 3.3704909383334236 with parameters: {'combos': 0, 'ada_Scaler': 'log', 'ada_ne': 249, 'ada_lr': 0.057158341016696895, 'et_Scaler': 'log', 'et_max_depth': 16, 'et_ne': 186, 'rf_Scaler': 'log', 'rf_max_depth': 16, 'rf_ne': 952}. Best is trial#45 with value: 3.335776209839473.\n"
          ],
          "name": "stderr"
        },
        {
          "output_type": "stream",
          "text": [
            "[0]\tvalidation-rmse:23.971\n",
            "[1]\tvalidation-rmse:23.9614\n",
            "[2]\tvalidation-rmse:23.9517\n",
            "[3]\tvalidation-rmse:23.942\n",
            "[4]\tvalidation-rmse:23.9324\n",
            "[5]\tvalidation-rmse:23.9227\n",
            "[6]\tvalidation-rmse:23.9131\n",
            "[7]\tvalidation-rmse:23.9035\n",
            "[8]\tvalidation-rmse:23.8938\n",
            "[9]\tvalidation-rmse:23.8842\n"
          ],
          "name": "stdout"
        },
        {
          "output_type": "stream",
          "text": [
            "[I 2020-07-08 13:34:28,619] Finished trial#60 with value: 8.28159013223831 with parameters: {'combos': 1, 'ada_Scaler': 'log', 'ada_ne': 249, 'ada_lr': 0.05541246415342656, 'et_Scaler': 'log', 'et_max_depth': 18, 'et_ne': 197, 'xgb_Scaler': 'minmax', 'booster': 'gbtree', 'lambda': 4.1824743864450583e-07, 'alpha': 2.8435122922380318e-05, 'max_depth': 3, 'eta': 0.0004273737721131454, 'gamma': 1.787033249154686e-05, 'grow_policy': 'lossguide'}. Best is trial#45 with value: 3.335776209839473.\n",
            "[I 2020-07-08 13:34:32,326] Finished trial#61 with value: 3.336263415804608 with parameters: {'combos': 0, 'ada_Scaler': 'log', 'ada_ne': 320, 'ada_lr': 0.8997800184894397, 'et_Scaler': 'log', 'et_max_depth': 15, 'et_ne': 126, 'rf_Scaler': 'log', 'rf_max_depth': 16, 'rf_ne': 951}. Best is trial#45 with value: 3.335776209839473.\n",
            "[I 2020-07-08 13:34:35,805] Finished trial#62 with value: 3.3754628639682767 with parameters: {'combos': 0, 'ada_Scaler': 'log', 'ada_ne': 219, 'ada_lr': 0.6570477027270655, 'et_Scaler': 'log', 'et_max_depth': 16, 'et_ne': 132, 'rf_Scaler': 'log', 'rf_max_depth': 15, 'rf_ne': 919}. Best is trial#45 with value: 3.335776209839473.\n",
            "[I 2020-07-08 13:34:39,074] Finished trial#63 with value: 3.3971806912020353 with parameters: {'combos': 0, 'ada_Scaler': 'log', 'ada_ne': 148, 'ada_lr': 0.9874406959333337, 'et_Scaler': 'log', 'et_max_depth': 16, 'et_ne': 101, 'rf_Scaler': 'log', 'rf_max_depth': 15, 'rf_ne': 895}. Best is trial#45 with value: 3.335776209839473.\n",
            "[I 2020-07-08 13:34:42,085] Finished trial#64 with value: 3.4021986821095096 with parameters: {'combos': 0, 'ada_Scaler': 'log', 'ada_ne': 213, 'ada_lr': 0.7787881661287862, 'et_Scaler': 'log', 'et_max_depth': 15, 'et_ne': 142, 'rf_Scaler': 'log', 'rf_max_depth': 13, 'rf_ne': 772}. Best is trial#45 with value: 3.335776209839473.\n"
          ],
          "name": "stderr"
        },
        {
          "output_type": "stream",
          "text": [
            "[0]\tvalidation-rmse:13.09\n",
            "[1]\tvalidation-rmse:8.16951\n",
            "[2]\tvalidation-rmse:6.27089\n",
            "[3]\tvalidation-rmse:5.61838\n",
            "[4]\tvalidation-rmse:5.38621\n",
            "[5]\tvalidation-rmse:5.28602\n",
            "[6]\tvalidation-rmse:5.23216\n",
            "[7]\tvalidation-rmse:5.19712\n",
            "[8]\tvalidation-rmse:5.17239\n",
            "[9]\tvalidation-rmse:5.15403\n"
          ],
          "name": "stdout"
        },
        {
          "output_type": "stream",
          "text": [
            "[I 2020-07-08 13:34:42,903] Finished trial#65 with value: 3.613947371098565 with parameters: {'combos': 1, 'ada_Scaler': 'log', 'ada_ne': 326, 'ada_lr': 0.730659886500404, 'et_Scaler': 'log', 'et_max_depth': 16, 'et_ne': 44, 'xgb_Scaler': 'stand', 'booster': 'gblinear', 'lambda': 0.004427430075645899, 'alpha': 6.104898767602664e-08}. Best is trial#45 with value: 3.335776209839473.\n",
            "[I 2020-07-08 13:34:46,947] Finished trial#66 with value: 3.3350603031974058 with parameters: {'combos': 0, 'ada_Scaler': 'log', 'ada_ne': 401, 'ada_lr': 0.5628209211301154, 'et_Scaler': 'log', 'et_max_depth': 19, 'et_ne': 250, 'rf_Scaler': 'log', 'rf_max_depth': 16, 'rf_ne': 931}. Best is trial#66 with value: 3.3350603031974058.\n"
          ],
          "name": "stderr"
        },
        {
          "output_type": "stream",
          "text": [
            "[0]\tvalidation-rmse:8.59962\n",
            "[1]\tvalidation-rmse:7.6464\n",
            "[2]\tvalidation-rmse:7.24664\n",
            "[3]\tvalidation-rmse:6.93516\n",
            "[4]\tvalidation-rmse:6.66785\n",
            "[5]\tvalidation-rmse:6.43784\n",
            "[6]\tvalidation-rmse:6.24154\n",
            "[7]\tvalidation-rmse:6.07589\n",
            "[8]\tvalidation-rmse:5.93795\n",
            "[9]\tvalidation-rmse:5.79793\n"
          ],
          "name": "stdout"
        },
        {
          "output_type": "stream",
          "text": [
            "[I 2020-07-08 13:34:47,478] Setting status of trial#67 as TrialState.PRUNED. Trial was pruned at iteration 12.\n"
          ],
          "name": "stderr"
        },
        {
          "output_type": "stream",
          "text": [
            "[0]\tvalidation-rmse:8.57448\n",
            "[1]\tvalidation-rmse:7.9222\n",
            "[2]\tvalidation-rmse:7.65475\n",
            "[3]\tvalidation-rmse:7.50183\n",
            "[4]\tvalidation-rmse:7.39999\n",
            "[5]\tvalidation-rmse:7.32009\n",
            "[6]\tvalidation-rmse:7.25262\n",
            "[7]\tvalidation-rmse:7.18148\n",
            "[8]\tvalidation-rmse:7.12336\n",
            "[9]\tvalidation-rmse:7.06747\n"
          ],
          "name": "stdout"
        },
        {
          "output_type": "stream",
          "text": [
            "[I 2020-07-08 13:34:48,785] Finished trial#68 with value: 3.9932121090210204 with parameters: {'combos': 1, 'ada_Scaler': 'minmax', 'ada_ne': 395, 'ada_lr': 0.5191585551376546, 'et_Scaler': 'log', 'et_max_depth': 19, 'et_ne': 198, 'xgb_Scaler': 'log', 'booster': 'gblinear', 'lambda': 0.023335306417358027, 'alpha': 0.02156851808831263}. Best is trial#66 with value: 3.3350603031974058.\n",
            "[I 2020-07-08 13:34:52,534] Finished trial#69 with value: 3.4815960602675884 with parameters: {'combos': 0, 'ada_Scaler': 'log', 'ada_ne': 331, 'ada_lr': 0.7587368202935324, 'et_Scaler': 'log', 'et_max_depth': 18, 'et_ne': 171, 'rf_Scaler': 'stand', 'rf_max_depth': 16, 'rf_ne': 929}. Best is trial#66 with value: 3.3350603031974058.\n",
            "[I 2020-07-08 13:34:55,695] Finished trial#70 with value: 3.414783967753771 with parameters: {'combos': 0, 'ada_Scaler': 'log', 'ada_ne': 210, 'ada_lr': 0.6072073545014842, 'et_Scaler': 'log', 'et_max_depth': 15, 'et_ne': 108, 'rf_Scaler': 'minmax', 'rf_max_depth': 14, 'rf_ne': 847}. Best is trial#66 with value: 3.3350603031974058.\n",
            "[I 2020-07-08 13:34:59,848] Finished trial#71 with value: 3.4032571756077106 with parameters: {'combos': 0, 'ada_Scaler': 'log', 'ada_ne': 485, 'ada_lr': 0.8989573392715214, 'et_Scaler': 'log', 'et_max_depth': 17, 'et_ne': 149, 'rf_Scaler': 'log', 'rf_max_depth': 16, 'rf_ne': 999}. Best is trial#66 with value: 3.3350603031974058.\n",
            "[I 2020-07-08 13:35:03,079] Finished trial#72 with value: 3.404941565836744 with parameters: {'combos': 0, 'ada_Scaler': 'log', 'ada_ne': 304, 'ada_lr': 0.6077150699265733, 'et_Scaler': 'log', 'et_max_depth': 15, 'et_ne': 59, 'rf_Scaler': 'log', 'rf_max_depth': 9, 'rf_ne': 938}. Best is trial#66 with value: 3.3350603031974058.\n",
            "[I 2020-07-08 13:35:07,357] Finished trial#73 with value: 3.409414192319432 with parameters: {'combos': 0, 'ada_Scaler': 'log', 'ada_ne': 397, 'ada_lr': 0.37678744180347257, 'et_Scaler': 'log', 'et_max_depth': 14, 'et_ne': 497, 'rf_Scaler': 'log', 'rf_max_depth': 14, 'rf_ne': 876}. Best is trial#66 with value: 3.3350603031974058.\n"
          ],
          "name": "stderr"
        },
        {
          "output_type": "stream",
          "text": [
            "[0]\tvalidation-rmse:23.9807\n",
            "[1]\tvalidation-rmse:23.9807\n",
            "[2]\tvalidation-rmse:23.9807\n",
            "[3]\tvalidation-rmse:23.9807\n",
            "[4]\tvalidation-rmse:23.9807\n",
            "[5]\tvalidation-rmse:23.9807\n",
            "[6]\tvalidation-rmse:23.9807\n",
            "[7]\tvalidation-rmse:23.9807\n",
            "[8]\tvalidation-rmse:23.9807\n",
            "[9]\tvalidation-rmse:23.9807\n"
          ],
          "name": "stdout"
        },
        {
          "output_type": "stream",
          "text": [
            "[I 2020-07-08 13:35:08,295] Finished trial#74 with value: 8.251713316700899 with parameters: {'combos': 1, 'ada_Scaler': 'log', 'ada_ne': 221, 'ada_lr': 0.8371215288993004, 'et_Scaler': 'log', 'et_max_depth': 16, 'et_ne': 201, 'xgb_Scaler': 'stand', 'booster': 'dart', 'lambda': 2.847598645214719e-05, 'alpha': 9.69139473278611e-07, 'max_depth': 2, 'eta': 6.097222492039271e-08, 'gamma': 3.955661847036725e-08, 'grow_policy': 'depthwise', 'sample_type': 'uniform', 'normalize_type': 'forest', 'rate_drop': 2.4192030288025443e-05, 'skip_drop': 3.480046579412914e-07}. Best is trial#66 with value: 3.3350603031974058.\n",
            "[I 2020-07-08 13:35:12,100] Finished trial#75 with value: 3.5614644159171274 with parameters: {'combos': 0, 'ada_Scaler': 'log', 'ada_ne': 497, 'ada_lr': 0.4489320424631272, 'et_Scaler': 'log', 'et_max_depth': 12, 'et_ne': 4, 'rf_Scaler': 'log', 'rf_max_depth': 17, 'rf_ne': 953}. Best is trial#66 with value: 3.3350603031974058.\n"
          ],
          "name": "stderr"
        },
        {
          "output_type": "stream",
          "text": [
            "[0]\tvalidation-rmse:22.7624\n",
            "[1]\tvalidation-rmse:21.6214\n",
            "[2]\tvalidation-rmse:20.5239\n",
            "[3]\tvalidation-rmse:19.4787\n",
            "[4]\tvalidation-rmse:18.5007\n",
            "[5]\tvalidation-rmse:17.5758\n",
            "[6]\tvalidation-rmse:16.702\n",
            "[7]\tvalidation-rmse:15.8802\n",
            "[8]\tvalidation-rmse:15.1143\n",
            "[9]\tvalidation-rmse:14.3985\n"
          ],
          "name": "stdout"
        },
        {
          "output_type": "stream",
          "text": [
            "[I 2020-07-08 13:35:13,420] Finished trial#76 with value: 5.412206776124973 with parameters: {'combos': 1, 'ada_Scaler': 'log', 'ada_ne': 175, 'ada_lr': 0.6494692390048548, 'et_Scaler': 'log', 'et_max_depth': 18, 'et_ne': 457, 'xgb_Scaler': 'minmax', 'booster': 'gbtree', 'lambda': 1.661523697184303e-06, 'alpha': 0.20717515248162094, 'max_depth': 8, 'eta': 0.05705726391659599, 'gamma': 0.24844754178934578, 'grow_policy': 'lossguide'}. Best is trial#66 with value: 3.3350603031974058.\n",
            "[I 2020-07-08 13:35:14,582] Setting status of trial#77 as TrialState.PRUNED. Trial was pruned at iteration 11.\n",
            "[I 2020-07-08 13:35:18,985] Finished trial#78 with value: 3.3794077559326534 with parameters: {'combos': 0, 'ada_Scaler': 'log', 'ada_ne': 321, 'ada_lr': 0.474660585747082, 'et_Scaler': 'log', 'et_max_depth': 19, 'et_ne': 354, 'rf_Scaler': 'log', 'rf_max_depth': 15, 'rf_ne': 988}. Best is trial#66 with value: 3.3350603031974058.\n"
          ],
          "name": "stderr"
        },
        {
          "output_type": "stream",
          "text": [
            "[0]\tvalidation-rmse:23.9663\n",
            "[1]\tvalidation-rmse:23.9519\n",
            "[2]\tvalidation-rmse:23.9376\n",
            "[3]\tvalidation-rmse:23.9232\n",
            "[4]\tvalidation-rmse:23.9089\n",
            "[5]\tvalidation-rmse:23.8945\n",
            "[6]\tvalidation-rmse:23.8802\n",
            "[7]\tvalidation-rmse:23.8658\n",
            "[8]\tvalidation-rmse:23.8515\n",
            "[9]\tvalidation-rmse:23.8372\n"
          ],
          "name": "stdout"
        },
        {
          "output_type": "stream",
          "text": [
            "[I 2020-07-08 13:35:20,438] Finished trial#79 with value: 8.253567276037474 with parameters: {'combos': 1, 'ada_Scaler': 'log', 'ada_ne': 321, 'ada_lr': 0.5504602363037926, 'et_Scaler': 'log', 'et_max_depth': 19, 'et_ne': 370, 'xgb_Scaler': 'stand', 'booster': 'dart', 'lambda': 0.30874840681482774, 'alpha': 2.0342811059362008e-05, 'max_depth': 6, 'eta': 0.0006110475855242149, 'gamma': 0.004235393551013051, 'grow_policy': 'lossguide', 'sample_type': 'uniform', 'normalize_type': 'tree', 'rate_drop': 2.7879187984737643e-07, 'skip_drop': 0.018117002805420824}. Best is trial#66 with value: 3.3350603031974058.\n",
            "[I 2020-07-08 13:35:24,141] Finished trial#80 with value: 3.342588934598504 with parameters: {'combos': 0, 'ada_Scaler': 'stand', 'ada_ne': 267, 'ada_lr': 0.502818123242729, 'et_Scaler': 'log', 'et_max_depth': 17, 'et_ne': 410, 'rf_Scaler': 'log', 'rf_max_depth': 12, 'rf_ne': 803}. Best is trial#66 with value: 3.3350603031974058.\n",
            "[I 2020-07-08 13:35:28,372] Finished trial#81 with value: 3.3968967609567726 with parameters: {'combos': 0, 'ada_Scaler': 'stand', 'ada_ne': 239, 'ada_lr': 0.42909061148361644, 'et_Scaler': 'log', 'et_max_depth': 20, 'et_ne': 420, 'rf_Scaler': 'log', 'rf_max_depth': 11, 'rf_ne': 997}. Best is trial#66 with value: 3.3350603031974058.\n",
            "[I 2020-07-08 13:35:32,310] Finished trial#82 with value: 3.322441313306047 with parameters: {'combos': 0, 'ada_Scaler': 'stand', 'ada_ne': 273, 'ada_lr': 0.6824172242198067, 'et_Scaler': 'log', 'et_max_depth': 17, 'et_ne': 326, 'rf_Scaler': 'log', 'rf_max_depth': 13, 'rf_ne': 912}. Best is trial#82 with value: 3.322441313306047.\n",
            "[I 2020-07-08 13:35:35,987] Finished trial#83 with value: 3.3458081558762403 with parameters: {'combos': 0, 'ada_Scaler': 'stand', 'ada_ne': 268, 'ada_lr': 0.668954148310966, 'et_Scaler': 'log', 'et_max_depth': 17, 'et_ne': 395, 'rf_Scaler': 'log', 'rf_max_depth': 12, 'rf_ne': 804}. Best is trial#82 with value: 3.322441313306047.\n",
            "[I 2020-07-08 13:35:39,646] Finished trial#84 with value: 3.3459520016100606 with parameters: {'combos': 0, 'ada_Scaler': 'stand', 'ada_ne': 275, 'ada_lr': 0.672036747805199, 'et_Scaler': 'log', 'et_max_depth': 17, 'et_ne': 405, 'rf_Scaler': 'log', 'rf_max_depth': 12, 'rf_ne': 805}. Best is trial#82 with value: 3.322441313306047.\n",
            "[I 2020-07-08 13:35:43,340] Finished trial#85 with value: 3.3725068821905873 with parameters: {'combos': 0, 'ada_Scaler': 'stand', 'ada_ne': 272, 'ada_lr': 0.6975386327215009, 'et_Scaler': 'log', 'et_max_depth': 17, 'et_ne': 466, 'rf_Scaler': 'log', 'rf_max_depth': 12, 'rf_ne': 788}. Best is trial#82 with value: 3.322441313306047.\n"
          ],
          "name": "stderr"
        },
        {
          "output_type": "stream",
          "text": [
            "[0]\tvalidation-rmse:8.43406\n",
            "[1]\tvalidation-rmse:7.72891\n",
            "[2]\tvalidation-rmse:7.43911\n",
            "[3]\tvalidation-rmse:7.28624\n",
            "[4]\tvalidation-rmse:7.18595\n",
            "[5]\tvalidation-rmse:7.10882\n",
            "[6]\tvalidation-rmse:7.0432\n",
            "[7]\tvalidation-rmse:6.98372\n",
            "[8]\tvalidation-rmse:6.92766\n",
            "[9]\tvalidation-rmse:6.87356\n"
          ],
          "name": "stdout"
        },
        {
          "output_type": "stream",
          "text": [
            "[I 2020-07-08 13:35:44,911] Finished trial#86 with value: 3.6810634705419174 with parameters: {'combos': 1, 'ada_Scaler': 'stand', 'ada_ne': 363, 'ada_lr': 0.8526186590852535, 'et_Scaler': 'log', 'et_max_depth': 18, 'et_ne': 420, 'xgb_Scaler': 'log', 'booster': 'gblinear', 'lambda': 1.1564330726431384e-05, 'alpha': 1.732145471554003e-07}. Best is trial#82 with value: 3.322441313306047.\n",
            "[I 2020-07-08 13:35:48,341] Finished trial#87 with value: 3.4441689046377224 with parameters: {'combos': 0, 'ada_Scaler': 'stand', 'ada_ne': 428, 'ada_lr': 0.9507524499265086, 'et_Scaler': 'minmax', 'et_max_depth': 17, 'et_ne': 334, 'rf_Scaler': 'log', 'rf_max_depth': 10, 'rf_ne': 732}. Best is trial#82 with value: 3.322441313306047.\n"
          ],
          "name": "stderr"
        },
        {
          "output_type": "stream",
          "text": [
            "[0]\tvalidation-rmse:23.9804\n",
            "[1]\tvalidation-rmse:23.9801\n",
            "[2]\tvalidation-rmse:23.9798\n",
            "[3]\tvalidation-rmse:23.9795\n",
            "[4]\tvalidation-rmse:23.9792\n",
            "[5]\tvalidation-rmse:23.9789\n",
            "[6]\tvalidation-rmse:23.9786\n",
            "[7]\tvalidation-rmse:23.9783\n",
            "[8]\tvalidation-rmse:23.978\n",
            "[9]\tvalidation-rmse:23.9777\n"
          ],
          "name": "stdout"
        },
        {
          "output_type": "stream",
          "text": [
            "[I 2020-07-08 13:35:49,771] Finished trial#88 with value: 8.331154658725023 with parameters: {'combos': 1, 'ada_Scaler': 'stand', 'ada_ne': 289, 'ada_lr': 0.5182649800765518, 'et_Scaler': 'log', 'et_max_depth': 19, 'et_ne': 393, 'xgb_Scaler': 'minmax', 'booster': 'gbtree', 'lambda': 0.00047536040605635394, 'alpha': 0.016080577418601312, 'max_depth': 3, 'eta': 1.3105104258457777e-05, 'gamma': 4.368660605960515e-07, 'grow_policy': 'depthwise'}. Best is trial#82 with value: 3.322441313306047.\n",
            "[I 2020-07-08 13:35:53,119] Finished trial#89 with value: 3.3865315285973665 with parameters: {'combos': 0, 'ada_Scaler': 'stand', 'ada_ne': 344, 'ada_lr': 0.27670710851220287, 'et_Scaler': 'log', 'et_max_depth': 17, 'et_ne': 248, 'rf_Scaler': 'log', 'rf_max_depth': 12, 'rf_ne': 746}. Best is trial#82 with value: 3.322441313306047.\n"
          ],
          "name": "stderr"
        },
        {
          "output_type": "stream",
          "text": [
            "[0]\tvalidation-rmse:13.0908\n",
            "[1]\tvalidation-rmse:8.17063\n",
            "[2]\tvalidation-rmse:6.25473\n",
            "[3]\tvalidation-rmse:5.67173\n",
            "[4]\tvalidation-rmse:5.43648\n",
            "[5]\tvalidation-rmse:5.33222\n",
            "[6]\tvalidation-rmse:5.27293\n",
            "[7]\tvalidation-rmse:5.23318\n",
            "[8]\tvalidation-rmse:5.20377\n",
            "[9]\tvalidation-rmse:5.18122\n"
          ],
          "name": "stdout"
        },
        {
          "output_type": "stream",
          "text": [
            "[I 2020-07-08 13:35:54,265] Finished trial#90 with value: 3.523813219210318 with parameters: {'combos': 1, 'ada_Scaler': 'stand', 'ada_ne': 146, 'ada_lr': 0.8083551474295912, 'et_Scaler': 'log', 'et_max_depth': 16, 'et_ne': 381, 'xgb_Scaler': 'stand', 'booster': 'gblinear', 'lambda': 1.6220648508502517e-07, 'alpha': 0.00011923670559193001}. Best is trial#82 with value: 3.322441313306047.\n",
            "[I 2020-07-08 13:35:58,003] Finished trial#91 with value: 3.302161111165035 with parameters: {'combos': 0, 'ada_Scaler': 'stand', 'ada_ne': 268, 'ada_lr': 0.7103474462533795, 'et_Scaler': 'log', 'et_max_depth': 18, 'et_ne': 454, 'rf_Scaler': 'log', 'rf_max_depth': 12, 'rf_ne': 817}. Best is trial#91 with value: 3.302161111165035.\n",
            "[I 2020-07-08 13:36:01,764] Finished trial#92 with value: 3.396143493467705 with parameters: {'combos': 0, 'ada_Scaler': 'stand', 'ada_ne': 273, 'ada_lr': 0.6844657664374284, 'et_Scaler': 'log', 'et_max_depth': 18, 'et_ne': 408, 'rf_Scaler': 'log', 'rf_max_depth': 13, 'rf_ne': 821}. Best is trial#91 with value: 3.302161111165035.\n",
            "[I 2020-07-08 13:36:05,670] Finished trial#93 with value: 3.377686413081586 with parameters: {'combos': 0, 'ada_Scaler': 'stand', 'ada_ne': 261, 'ada_lr': 0.590426795560518, 'et_Scaler': 'log', 'et_max_depth': 17, 'et_ne': 466, 'rf_Scaler': 'log', 'rf_max_depth': 11, 'rf_ne': 873}. Best is trial#91 with value: 3.302161111165035.\n",
            "[I 2020-07-08 13:36:09,309] Finished trial#94 with value: 3.320534609724977 with parameters: {'combos': 0, 'ada_Scaler': 'stand', 'ada_ne': 299, 'ada_lr': 0.7286718252499244, 'et_Scaler': 'log', 'et_max_depth': 18, 'et_ne': 339, 'rf_Scaler': 'log', 'rf_max_depth': 12, 'rf_ne': 829}. Best is trial#91 with value: 3.302161111165035.\n",
            "[I 2020-07-08 13:36:13,550] Finished trial#95 with value: 3.320365084046493 with parameters: {'combos': 0, 'ada_Scaler': 'stand', 'ada_ne': 468, 'ada_lr': 0.7278889574982443, 'et_Scaler': 'log', 'et_max_depth': 18, 'et_ne': 525, 'rf_Scaler': 'log', 'rf_max_depth': 12, 'rf_ne': 815}. Best is trial#91 with value: 3.302161111165035.\n",
            "[I 2020-07-08 13:36:17,689] Finished trial#96 with value: 3.3117437795838507 with parameters: {'combos': 0, 'ada_Scaler': 'stand', 'ada_ne': 402, 'ada_lr': 0.9022563433696553, 'et_Scaler': 'log', 'et_max_depth': 18, 'et_ne': 529, 'rf_Scaler': 'log', 'rf_max_depth': 12, 'rf_ne': 816}. Best is trial#91 with value: 3.302161111165035.\n"
          ],
          "name": "stderr"
        },
        {
          "output_type": "stream",
          "text": [
            "[0]\tvalidation-rmse:19.9206\n",
            "[1]\tvalidation-rmse:16.3655\n",
            "[2]\tvalidation-rmse:13.7481\n",
            "[3]\tvalidation-rmse:11.5504\n",
            "[4]\tvalidation-rmse:9.72625\n",
            "[5]\tvalidation-rmse:8.3746\n",
            "[6]\tvalidation-rmse:7.33213\n",
            "[7]\tvalidation-rmse:6.51371\n",
            "[8]\tvalidation-rmse:7.51063\n",
            "[9]\tvalidation-rmse:5.43795\n"
          ],
          "name": "stdout"
        },
        {
          "output_type": "stream",
          "text": [
            "[I 2020-07-08 13:36:19,658] Finished trial#97 with value: 3.5322473058524295 with parameters: {'combos': 1, 'ada_Scaler': 'stand', 'ada_ne': 451, 'ada_lr': 0.8878232255682242, 'et_Scaler': 'log', 'et_max_depth': 20, 'et_ne': 549, 'xgb_Scaler': 'minmax', 'booster': 'dart', 'lambda': 1.8597049960719803e-06, 'alpha': 2.0300619013128222e-08, 'max_depth': 4, 'eta': 0.18305097629135994, 'gamma': 6.81890930656721e-06, 'grow_policy': 'depthwise', 'sample_type': 'weighted', 'normalize_type': 'forest', 'rate_drop': 0.009699285506360834, 'skip_drop': 0.00021885072839767384}. Best is trial#91 with value: 3.302161111165035.\n",
            "[I 2020-07-08 13:36:23,693] Finished trial#98 with value: 3.340939307770847 with parameters: {'combos': 0, 'ada_Scaler': 'stand', 'ada_ne': 533, 'ada_lr': 0.7286803423992869, 'et_Scaler': 'log', 'et_max_depth': 19, 'et_ne': 523, 'rf_Scaler': 'log', 'rf_max_depth': 10, 'rf_ne': 718}. Best is trial#91 with value: 3.302161111165035.\n",
            "[I 2020-07-08 13:36:27,849] Finished trial#99 with value: 3.390794915158367 with parameters: {'combos': 0, 'ada_Scaler': 'stand', 'ada_ne': 591, 'ada_lr': 0.7486909069904729, 'et_Scaler': 'log', 'et_max_depth': 18, 'et_ne': 519, 'rf_Scaler': 'log', 'rf_max_depth': 10, 'rf_ne': 751}. Best is trial#91 with value: 3.302161111165035.\n"
          ],
          "name": "stderr"
        },
        {
          "output_type": "stream",
          "text": [
            "[0]\tvalidation-rmse:8.4532\n",
            "[1]\tvalidation-rmse:7.74275\n",
            "[2]\tvalidation-rmse:7.45187\n",
            "[3]\tvalidation-rmse:7.29463\n",
            "[4]\tvalidation-rmse:7.19435\n",
            "[5]\tvalidation-rmse:7.11842\n",
            "[6]\tvalidation-rmse:7.0533\n",
            "[7]\tvalidation-rmse:6.99394\n",
            "[8]\tvalidation-rmse:6.93778\n",
            "[9]\tvalidation-rmse:6.88357\n"
          ],
          "name": "stdout"
        },
        {
          "output_type": "stream",
          "text": [
            "[I 2020-07-08 13:36:29,919] Finished trial#100 with value: 3.827245383817115 with parameters: {'combos': 1, 'ada_Scaler': 'stand', 'ada_ne': 467, 'ada_lr': 0.9463013048922617, 'et_Scaler': 'minmax', 'et_max_depth': 19, 'et_ne': 607, 'xgb_Scaler': 'log', 'booster': 'gblinear', 'lambda': 2.0613820750929367e-08, 'alpha': 3.008360072486339e-06}. Best is trial#91 with value: 3.302161111165035.\n",
            "[I 2020-07-08 13:36:34,473] Finished trial#101 with value: 3.34423208080201 with parameters: {'combos': 0, 'ada_Scaler': 'stand', 'ada_ne': 539, 'ada_lr': 0.5523925980731056, 'et_Scaler': 'log', 'et_max_depth': 19, 'et_ne': 526, 'rf_Scaler': 'log', 'rf_max_depth': 13, 'rf_ne': 852}. Best is trial#91 with value: 3.302161111165035.\n",
            "[I 2020-07-08 13:36:38,807] Finished trial#102 with value: 3.3299729868633476 with parameters: {'combos': 0, 'ada_Scaler': 'stand', 'ada_ne': 515, 'ada_lr': 0.5546089637345404, 'et_Scaler': 'log', 'et_max_depth': 19, 'et_ne': 482, 'rf_Scaler': 'log', 'rf_max_depth': 11, 'rf_ne': 856}. Best is trial#91 with value: 3.302161111165035.\n",
            "[I 2020-07-08 13:36:43,126] Finished trial#103 with value: 3.3330551479500943 with parameters: {'combos': 0, 'ada_Scaler': 'stand', 'ada_ne': 534, 'ada_lr': 0.4956224573691572, 'et_Scaler': 'log', 'et_max_depth': 18, 'et_ne': 492, 'rf_Scaler': 'log', 'rf_max_depth': 11, 'rf_ne': 833}. Best is trial#91 with value: 3.302161111165035.\n",
            "[I 2020-07-08 13:36:47,127] Finished trial#104 with value: 3.364435225294486 with parameters: {'combos': 0, 'ada_Scaler': 'stand', 'ada_ne': 525, 'ada_lr': 0.6290639025583425, 'et_Scaler': 'log', 'et_max_depth': 18, 'et_ne': 482, 'rf_Scaler': 'log', 'rf_max_depth': 8, 'rf_ne': 839}. Best is trial#91 with value: 3.302161111165035.\n",
            "[I 2020-07-08 13:36:50,776] Finished trial#105 with value: 3.3801361948432533 with parameters: {'combos': 0, 'ada_Scaler': 'stand', 'ada_ne': 616, 'ada_lr': 0.7994954028399014, 'et_Scaler': 'log', 'et_max_depth': 19, 'et_ne': 491, 'rf_Scaler': 'minmax', 'rf_max_depth': 11, 'rf_ne': 567}. Best is trial#91 with value: 3.302161111165035.\n"
          ],
          "name": "stderr"
        },
        {
          "output_type": "stream",
          "text": [
            "[0]\tvalidation-rmse:23.9806\n",
            "[1]\tvalidation-rmse:23.9806\n",
            "[2]\tvalidation-rmse:23.9805\n",
            "[3]\tvalidation-rmse:23.9805\n",
            "[4]\tvalidation-rmse:23.9804\n",
            "[5]\tvalidation-rmse:23.9803\n",
            "[6]\tvalidation-rmse:23.9803\n",
            "[7]\tvalidation-rmse:23.9802\n",
            "[8]\tvalidation-rmse:23.9802\n",
            "[9]\tvalidation-rmse:23.9801\n"
          ],
          "name": "stdout"
        },
        {
          "output_type": "stream",
          "text": [
            "[I 2020-07-08 13:36:52,961] Finished trial#106 with value: 8.347154381456127 with parameters: {'combos': 1, 'ada_Scaler': 'stand', 'ada_ne': 562, 'ada_lr': 0.7324346135056095, 'et_Scaler': 'log', 'et_max_depth': 20, 'et_ne': 560, 'xgb_Scaler': 'minmax', 'booster': 'gbtree', 'lambda': 0.0018693717457737968, 'alpha': 0.09474754736482513, 'max_depth': 7, 'eta': 2.6939114170862546e-06, 'gamma': 0.00016824824537040273, 'grow_policy': 'lossguide'}. Best is trial#91 with value: 3.302161111165035.\n",
            "[I 2020-07-08 13:36:57,356] Finished trial#107 with value: 3.3475952309989605 with parameters: {'combos': 0, 'ada_Scaler': 'stand', 'ada_ne': 404, 'ada_lr': 0.572443752733848, 'et_Scaler': 'log', 'et_max_depth': 18, 'et_ne': 658, 'rf_Scaler': 'log', 'rf_max_depth': 10, 'rf_ne': 878}. Best is trial#91 with value: 3.302161111165035.\n"
          ],
          "name": "stderr"
        },
        {
          "output_type": "stream",
          "text": [
            "[0]\tvalidation-rmse:23.6026\n",
            "[1]\tvalidation-rmse:23.2315\n",
            "[2]\tvalidation-rmse:22.8673\n",
            "[3]\tvalidation-rmse:22.5096\n",
            "[4]\tvalidation-rmse:22.1691\n",
            "[5]\tvalidation-rmse:21.8246\n",
            "[6]\tvalidation-rmse:21.4882\n",
            "[7]\tvalidation-rmse:21.166\n",
            "[8]\tvalidation-rmse:20.8415\n",
            "[9]\tvalidation-rmse:20.521\n"
          ],
          "name": "stdout"
        },
        {
          "output_type": "stream",
          "text": [
            "[I 2020-07-08 13:36:59,470] Finished trial#108 with value: 7.299558841358374 with parameters: {'combos': 1, 'ada_Scaler': 'stand', 'ada_ne': 470, 'ada_lr': 0.7097104539067826, 'et_Scaler': 'log', 'et_max_depth': 20, 'et_ne': 617, 'xgb_Scaler': 'stand', 'booster': 'dart', 'lambda': 0.00012889750085000488, 'alpha': 0.8723064390103855, 'max_depth': 1, 'eta': 0.017039971991295203, 'gamma': 1.7039335936299217e-07, 'grow_policy': 'depthwise', 'sample_type': 'weighted', 'normalize_type': 'tree', 'rate_drop': 1.1760761502919974e-08, 'skip_drop': 1.2014434594825e-08}. Best is trial#91 with value: 3.302161111165035.\n",
            "[I 2020-07-08 13:37:03,496] Finished trial#109 with value: 3.3761481445109895 with parameters: {'combos': 0, 'ada_Scaler': 'stand', 'ada_ne': 518, 'ada_lr': 0.9064056974496294, 'et_Scaler': 'log', 'et_max_depth': 19, 'et_ne': 544, 'rf_Scaler': 'log', 'rf_max_depth': 9, 'rf_ne': 772}. Best is trial#91 with value: 3.302161111165035.\n",
            "[I 2020-07-08 13:37:07,699] Finished trial#110 with value: 3.3521486204609316 with parameters: {'combos': 0, 'ada_Scaler': 'stand', 'ada_ne': 556, 'ada_lr': 0.4085826133390493, 'et_Scaler': 'log', 'et_max_depth': 18, 'et_ne': 575, 'rf_Scaler': 'log', 'rf_max_depth': 11, 'rf_ne': 721}. Best is trial#91 with value: 3.302161111165035.\n",
            "[I 2020-07-08 13:37:11,999] Finished trial#111 with value: 3.395767428077366 with parameters: {'combos': 0, 'ada_Scaler': 'stand', 'ada_ne': 586, 'ada_lr': 0.6238921636226283, 'et_Scaler': 'log', 'et_max_depth': 18, 'et_ne': 438, 'rf_Scaler': 'log', 'rf_max_depth': 12, 'rf_ne': 824}. Best is trial#91 with value: 3.302161111165035.\n",
            "[I 2020-07-08 13:37:17,497] Finished trial#112 with value: 3.334026441623206 with parameters: {'combos': 0, 'ada_Scaler': 'stand', 'ada_ne': 620, 'ada_lr': 0.49947111725154275, 'et_Scaler': 'log', 'et_max_depth': 17, 'et_ne': 510, 'rf_Scaler': 'log', 'rf_max_depth': 14, 'rf_ne': 904}. Best is trial#91 with value: 3.302161111165035.\n",
            "[I 2020-07-08 13:37:22,521] Finished trial#113 with value: 3.3614308404410433 with parameters: {'combos': 0, 'ada_Scaler': 'stand', 'ada_ne': 666, 'ada_lr': 0.495020401614212, 'et_Scaler': 'log', 'et_max_depth': 20, 'et_ne': 511, 'rf_Scaler': 'log', 'rf_max_depth': 13, 'rf_ne': 703}. Best is trial#91 with value: 3.302161111165035.\n",
            "[I 2020-07-08 13:37:27,340] Finished trial#114 with value: 3.401970979433286 with parameters: {'combos': 0, 'ada_Scaler': 'stand', 'ada_ne': 426, 'ada_lr': 0.8460447323076821, 'et_Scaler': 'log', 'et_max_depth': 19, 'et_ne': 478, 'rf_Scaler': 'stand', 'rf_max_depth': 14, 'rf_ne': 894}. Best is trial#91 with value: 3.302161111165035.\n",
            "[I 2020-07-08 13:37:32,619] Finished trial#115 with value: 3.3307598135610865 with parameters: {'combos': 0, 'ada_Scaler': 'stand', 'ada_ne': 613, 'ada_lr': 0.5459323543837783, 'et_Scaler': 'log', 'et_max_depth': 18, 'et_ne': 529, 'rf_Scaler': 'log', 'rf_max_depth': 13, 'rf_ne': 920}. Best is trial#91 with value: 3.302161111165035.\n",
            "[I 2020-07-08 13:37:38,118] Finished trial#116 with value: 3.3379970575777693 with parameters: {'combos': 0, 'ada_Scaler': 'stand', 'ada_ne': 616, 'ada_lr': 0.39606751293552733, 'et_Scaler': 'log', 'et_max_depth': 18, 'et_ne': 689, 'rf_Scaler': 'log', 'rf_max_depth': 13, 'rf_ne': 865}. Best is trial#91 with value: 3.302161111165035.\n"
          ],
          "name": "stderr"
        },
        {
          "output_type": "stream",
          "text": [
            "[0]\tvalidation-rmse:8.58972\n",
            "[1]\tvalidation-rmse:7.9404\n",
            "[2]\tvalidation-rmse:7.66858\n",
            "[3]\tvalidation-rmse:7.52065\n",
            "[4]\tvalidation-rmse:7.41925\n",
            "[5]\tvalidation-rmse:7.33853\n",
            "[6]\tvalidation-rmse:7.26846\n",
            "[7]\tvalidation-rmse:7.20453\n",
            "[8]\tvalidation-rmse:7.14425\n",
            "[9]\tvalidation-rmse:7.0865\n"
          ],
          "name": "stdout"
        },
        {
          "output_type": "stream",
          "text": [
            "[I 2020-07-08 13:37:40,337] Finished trial#117 with value: 3.7393250236674653 with parameters: {'combos': 1, 'ada_Scaler': 'stand', 'ada_ne': 497, 'ada_lr': 0.5427653864451785, 'et_Scaler': 'log', 'et_max_depth': 16, 'et_ne': 578, 'xgb_Scaler': 'log', 'booster': 'gblinear', 'lambda': 0.03345182408799751, 'alpha': 8.188344696693554e-05}. Best is trial#91 with value: 3.302161111165035.\n",
            "[I 2020-07-08 13:37:45,471] Finished trial#118 with value: 3.384951678208222 with parameters: {'combos': 0, 'ada_Scaler': 'stand', 'ada_ne': 706, 'ada_lr': 0.32792422753427086, 'et_Scaler': 'log', 'et_max_depth': 17, 'et_ne': 432, 'rf_Scaler': 'log', 'rf_max_depth': 14, 'rf_ne': 912}. Best is trial#91 with value: 3.302161111165035.\n",
            "[I 2020-07-08 13:37:50,515] Finished trial#119 with value: 3.36934362154245 with parameters: {'combos': 0, 'ada_Scaler': 'stand', 'ada_ne': 629, 'ada_lr': 0.4702722147563115, 'et_Scaler': 'log', 'et_max_depth': 18, 'et_ne': 451, 'rf_Scaler': 'log', 'rf_max_depth': 13, 'rf_ne': 911}. Best is trial#91 with value: 3.302161111165035.\n"
          ],
          "name": "stderr"
        },
        {
          "output_type": "stream",
          "text": [
            "[0]\tvalidation-rmse:23.9554\n",
            "[1]\tvalidation-rmse:23.9301\n",
            "[2]\tvalidation-rmse:23.9048\n",
            "[3]\tvalidation-rmse:23.8796\n",
            "[4]\tvalidation-rmse:23.8544\n",
            "[5]\tvalidation-rmse:23.8292\n",
            "[6]\tvalidation-rmse:23.8041\n",
            "[7]\tvalidation-rmse:23.779\n",
            "[8]\tvalidation-rmse:23.7538\n",
            "[9]\tvalidation-rmse:23.7288\n"
          ],
          "name": "stdout"
        },
        {
          "output_type": "stream",
          "text": [
            "[I 2020-07-08 13:37:52,400] Finished trial#120 with value: 8.465878433487932 with parameters: {'combos': 1, 'ada_Scaler': 'minmax', 'ada_ne': 376, 'ada_lr': 0.7814737458384561, 'et_Scaler': 'log', 'et_max_depth': 15, 'et_ne': 539, 'xgb_Scaler': 'minmax', 'booster': 'gbtree', 'lambda': 0.5849483244079603, 'alpha': 0.0014683201700810469, 'max_depth': 5, 'eta': 0.001164600560638203, 'gamma': 0.17195649371530516, 'grow_policy': 'lossguide'}. Best is trial#91 with value: 3.302161111165035.\n",
            "[I 2020-07-08 13:37:58,042] Finished trial#121 with value: 3.3468249733020667 with parameters: {'combos': 0, 'ada_Scaler': 'stand', 'ada_ne': 632, 'ada_lr': 0.3848829957049564, 'et_Scaler': 'log', 'et_max_depth': 18, 'et_ne': 889, 'rf_Scaler': 'log', 'rf_max_depth': 11, 'rf_ne': 859}. Best is trial#91 with value: 3.302161111165035.\n",
            "[I 2020-07-08 13:38:04,008] Finished trial#122 with value: 3.338736885827199 with parameters: {'combos': 0, 'ada_Scaler': 'stand', 'ada_ne': 670, 'ada_lr': 0.5718427236463692, 'et_Scaler': 'log', 'et_max_depth': 19, 'et_ne': 710, 'rf_Scaler': 'log', 'rf_max_depth': 13, 'rf_ne': 830}. Best is trial#91 with value: 3.302161111165035.\n",
            "[I 2020-07-08 13:38:09,822] Finished trial#123 with value: 3.334250440705576 with parameters: {'combos': 0, 'ada_Scaler': 'stand', 'ada_ne': 613, 'ada_lr': 0.456608700765131, 'et_Scaler': 'log', 'et_max_depth': 18, 'et_ne': 691, 'rf_Scaler': 'log', 'rf_max_depth': 12, 'rf_ne': 884}. Best is trial#91 with value: 3.302161111165035.\n",
            "[I 2020-07-08 13:38:14,855] Finished trial#124 with value: 3.371276686410824 with parameters: {'combos': 0, 'ada_Scaler': 'stand', 'ada_ne': 710, 'ada_lr': 0.46968936941783973, 'et_Scaler': 'log', 'et_max_depth': 17, 'et_ne': 335, 'rf_Scaler': 'log', 'rf_max_depth': 12, 'rf_ne': 958}. Best is trial#91 with value: 3.302161111165035.\n",
            "[I 2020-07-08 13:38:19,595] Finished trial#125 with value: 3.372954750933211 with parameters: {'combos': 0, 'ada_Scaler': 'stand', 'ada_ne': 309, 'ada_lr': 0.43467617498603567, 'et_Scaler': 'log', 'et_max_depth': 18, 'et_ne': 634, 'rf_Scaler': 'log', 'rf_max_depth': 11, 'rf_ne': 891}. Best is trial#91 with value: 3.302161111165035.\n",
            "[I 2020-07-08 13:38:25,192] Finished trial#126 with value: 3.3540203002672913 with parameters: {'combos': 0, 'ada_Scaler': 'stand', 'ada_ne': 573, 'ada_lr': 0.526947197213378, 'et_Scaler': 'log', 'et_max_depth': 19, 'et_ne': 782, 'rf_Scaler': 'log', 'rf_max_depth': 14, 'rf_ne': 930}. Best is trial#91 with value: 3.302161111165035.\n",
            "[I 2020-07-08 13:38:29,544] Finished trial#127 with value: 3.326810752221926 with parameters: {'combos': 0, 'ada_Scaler': 'stand', 'ada_ne': 388, 'ada_lr': 0.6338252043502894, 'et_Scaler': 'log', 'et_max_depth': 17, 'et_ne': 494, 'rf_Scaler': 'log', 'rf_max_depth': 15, 'rf_ne': 772}. Best is trial#91 with value: 3.302161111165035.\n"
          ],
          "name": "stderr"
        },
        {
          "output_type": "stream",
          "text": [
            "[0]\tvalidation-rmse:23.9807\n",
            "[1]\tvalidation-rmse:23.9807\n",
            "[2]\tvalidation-rmse:23.9807\n",
            "[3]\tvalidation-rmse:23.9807\n",
            "[4]\tvalidation-rmse:23.9807\n",
            "[5]\tvalidation-rmse:23.9807\n",
            "[6]\tvalidation-rmse:23.9807\n",
            "[7]\tvalidation-rmse:23.9807\n",
            "[8]\tvalidation-rmse:23.9807\n",
            "[9]\tvalidation-rmse:23.9807\n"
          ],
          "name": "stdout"
        },
        {
          "output_type": "stream",
          "text": [
            "[I 2020-07-08 13:38:31,637] Finished trial#128 with value: 8.351647506975093 with parameters: {'combos': 1, 'ada_Scaler': 'stand', 'ada_ne': 460, 'ada_lr': 0.5850656893688571, 'et_Scaler': 'log', 'et_max_depth': 17, 'et_ne': 505, 'xgb_Scaler': 'stand', 'booster': 'dart', 'lambda': 6.8596269311135345e-06, 'alpha': 0.0003131727056321773, 'max_depth': 9, 'eta': 7.838420683873091e-08, 'gamma': 0.013437786899178052, 'grow_policy': 'lossguide', 'sample_type': 'uniform', 'normalize_type': 'forest', 'rate_drop': 0.0002130508863697233, 'skip_drop': 0.13182490382116382}. Best is trial#91 with value: 3.302161111165035.\n",
            "[I 2020-07-08 13:38:36,048] Finished trial#129 with value: 3.348792241281372 with parameters: {'combos': 0, 'ada_Scaler': 'stand', 'ada_ne': 410, 'ada_lr': 0.6373624593147839, 'et_Scaler': 'log', 'et_max_depth': 16, 'et_ne': 502, 'rf_Scaler': 'log', 'rf_max_depth': 15, 'rf_ne': 771}. Best is trial#91 with value: 3.302161111165035.\n",
            "[I 2020-07-08 13:38:40,316] Finished trial#130 with value: 3.371122891386739 with parameters: {'combos': 0, 'ada_Scaler': 'stand', 'ada_ne': 509, 'ada_lr': 0.4919309144545935, 'et_Scaler': 'log', 'et_max_depth': 18, 'et_ne': 290, 'rf_Scaler': 'log', 'rf_max_depth': 12, 'rf_ne': 830}. Best is trial#91 with value: 3.302161111165035.\n",
            "[I 2020-07-08 13:38:45,056] Finished trial#131 with value: 3.3395079878768232 with parameters: {'combos': 0, 'ada_Scaler': 'stand', 'ada_ne': 439, 'ada_lr': 0.6056658011318959, 'et_Scaler': 'log', 'et_max_depth': 17, 'et_ne': 484, 'rf_Scaler': 'log', 'rf_max_depth': 15, 'rf_ne': 888}. Best is trial#91 with value: 3.302161111165035.\n",
            "[I 2020-07-08 13:38:49,872] Finished trial#132 with value: 3.361484937220874 with parameters: {'combos': 0, 'ada_Scaler': 'stand', 'ada_ne': 389, 'ada_lr': 0.6914877857009116, 'et_Scaler': 'log', 'et_max_depth': 16, 'et_ne': 529, 'rf_Scaler': 'log', 'rf_max_depth': 17, 'rf_ne': 919}. Best is trial#91 with value: 3.302161111165035.\n",
            "[I 2020-07-08 13:38:54,757] Finished trial#133 with value: 3.334253502585367 with parameters: {'combos': 0, 'ada_Scaler': 'stand', 'ada_ne': 340, 'ada_lr': 0.9862580018176368, 'et_Scaler': 'log', 'et_max_depth': 18, 'et_ne': 570, 'rf_Scaler': 'log', 'rf_max_depth': 14, 'rf_ne': 956}. Best is trial#91 with value: 3.302161111165035.\n",
            "[I 2020-07-08 13:38:59,363] Finished trial#134 with value: 3.3702509539196326 with parameters: {'combos': 0, 'ada_Scaler': 'stand', 'ada_ne': 351, 'ada_lr': 0.5516403688475036, 'et_Scaler': 'log', 'et_max_depth': 19, 'et_ne': 573, 'rf_Scaler': 'log', 'rf_max_depth': 14, 'rf_ne': 863}. Best is trial#91 with value: 3.302161111165035.\n",
            "[I 2020-07-08 13:39:04,172] Finished trial#135 with value: 3.3727333311692456 with parameters: {'combos': 0, 'ada_Scaler': 'stand', 'ada_ne': 551, 'ada_lr': 0.6424932193524234, 'et_Scaler': 'log', 'et_max_depth': 18, 'et_ne': 594, 'rf_Scaler': 'log', 'rf_max_depth': 14, 'rf_ne': 783}. Best is trial#91 with value: 3.302161111165035.\n",
            "[I 2020-07-08 13:39:08,708] Finished trial#136 with value: 3.46502243596928 with parameters: {'combos': 0, 'ada_Scaler': 'stand', 'ada_ne': 484, 'ada_lr': 0.5264423386588672, 'et_Scaler': 'minmax', 'et_max_depth': 17, 'et_ne': 459, 'rf_Scaler': 'log', 'rf_max_depth': 13, 'rf_ne': 811}. Best is trial#91 with value: 3.302161111165035.\n",
            "[I 2020-07-08 13:39:13,477] Finished trial#137 with value: 3.3497951567481934 with parameters: {'combos': 0, 'ada_Scaler': 'stand', 'ada_ne': 643, 'ada_lr': 0.5861834202983774, 'et_Scaler': 'log', 'et_max_depth': 20, 'et_ne': 474, 'rf_Scaler': 'log', 'rf_max_depth': 12, 'rf_ne': 842}. Best is trial#91 with value: 3.302161111165035.\n"
          ],
          "name": "stderr"
        },
        {
          "output_type": "stream",
          "text": [
            "[0]\tvalidation-rmse:8.64582\n",
            "[1]\tvalidation-rmse:8.02958\n",
            "[2]\tvalidation-rmse:7.76754\n",
            "[3]\tvalidation-rmse:7.6206\n",
            "[4]\tvalidation-rmse:7.51722\n",
            "[5]\tvalidation-rmse:7.43375\n",
            "[6]\tvalidation-rmse:7.36099\n",
            "[7]\tvalidation-rmse:7.29153\n",
            "[8]\tvalidation-rmse:7.22662\n",
            "[9]\tvalidation-rmse:7.17361\n"
          ],
          "name": "stdout"
        },
        {
          "output_type": "stream",
          "text": [
            "[I 2020-07-08 13:39:15,867] Finished trial#138 with value: 3.744893338286832 with parameters: {'combos': 1, 'ada_Scaler': 'stand', 'ada_ne': 606, 'ada_lr': 0.8146317835782192, 'et_Scaler': 'log', 'et_max_depth': 19, 'et_ne': 560, 'xgb_Scaler': 'log', 'booster': 'gblinear', 'lambda': 0.08171077337171008, 'alpha': 0.007774514965324161}. Best is trial#91 with value: 3.302161111165035.\n",
            "[I 2020-07-08 13:39:20,538] Finished trial#139 with value: 3.4038020589955598 with parameters: {'combos': 0, 'ada_Scaler': 'stand', 'ada_ne': 343, 'ada_lr': 0.6721346795466241, 'et_Scaler': 'log', 'et_max_depth': 18, 'et_ne': 500, 'rf_Scaler': 'log', 'rf_max_depth': 13, 'rf_ne': 909}. Best is trial#91 with value: 3.302161111165035.\n"
          ],
          "name": "stderr"
        },
        {
          "output_type": "stream",
          "text": [
            "[0]\tvalidation-rmse:23.9793\n",
            "[1]\tvalidation-rmse:23.9779\n",
            "[2]\tvalidation-rmse:23.9766\n",
            "[3]\tvalidation-rmse:23.9752\n",
            "[4]\tvalidation-rmse:23.9738\n",
            "[5]\tvalidation-rmse:23.9724\n",
            "[6]\tvalidation-rmse:23.971\n",
            "[7]\tvalidation-rmse:23.9697\n",
            "[8]\tvalidation-rmse:23.9683\n",
            "[9]\tvalidation-rmse:23.9669\n"
          ],
          "name": "stdout"
        },
        {
          "output_type": "stream",
          "text": [
            "[I 2020-07-08 13:39:24,271] Finished trial#140 with value: 8.940625427527953 with parameters: {'combos': 3, 'ada_Scaler': 'stand', 'ada_ne': 291, 'ada_lr': 0.431973016261257, 'rf_Scaler': 'minmax', 'rf_max_depth': 11, 'rf_ne': 947, 'xgb_Scaler': 'minmax', 'booster': 'gbtree', 'lambda': 1.9675436592650594e-07, 'alpha': 3.478418488612178e-08, 'max_depth': 2, 'eta': 6.246728318557763e-05, 'gamma': 0.00011234545851183781, 'grow_policy': 'depthwise'}. Best is trial#91 with value: 3.302161111165035.\n",
            "[I 2020-07-08 13:39:28,543] Finished trial#141 with value: 3.386196235830369 with parameters: {'combos': 0, 'ada_Scaler': 'stand', 'ada_ne': 331, 'ada_lr': 0.9352500720100738, 'et_Scaler': 'log', 'et_max_depth': 17, 'et_ne': 225, 'rf_Scaler': 'log', 'rf_max_depth': 15, 'rf_ne': 957}. Best is trial#91 with value: 3.302161111165035.\n",
            "[I 2020-07-08 13:39:32,676] Finished trial#142 with value: 3.3413298909580282 with parameters: {'combos': 0, 'ada_Scaler': 'stand', 'ada_ne': 302, 'ada_lr': 0.9796990070822179, 'et_Scaler': 'log', 'et_max_depth': 18, 'et_ne': 111, 'rf_Scaler': 'log', 'rf_max_depth': 16, 'rf_ne': 974}. Best is trial#91 with value: 3.302161111165035.\n",
            "[I 2020-07-08 13:39:37,713] Finished trial#143 with value: 3.4583381326131764 with parameters: {'combos': 0, 'ada_Scaler': 'minmax', 'ada_ne': 380, 'ada_lr': 0.858596915668357, 'et_Scaler': 'log', 'et_max_depth': 19, 'et_ne': 546, 'rf_Scaler': 'log', 'rf_max_depth': 16, 'rf_ne': 937}. Best is trial#91 with value: 3.302161111165035.\n",
            "[I 2020-07-08 13:39:42,187] Finished trial#144 with value: 3.3894154582652396 with parameters: {'combos': 0, 'ada_Scaler': 'stand', 'ada_ne': 425, 'ada_lr': 0.7619420819662105, 'et_Scaler': 'log', 'et_max_depth': 18, 'et_ne': 438, 'rf_Scaler': 'log', 'rf_max_depth': 12, 'rf_ne': 874}. Best is trial#91 with value: 3.302161111165035.\n"
          ],
          "name": "stderr"
        },
        {
          "output_type": "stream",
          "text": [
            "[0]\tvalidation-rmse:23.9807\n",
            "[1]\tvalidation-rmse:23.9807\n",
            "[2]\tvalidation-rmse:23.9807\n",
            "[3]\tvalidation-rmse:23.9806\n",
            "[4]\tvalidation-rmse:23.9807\n",
            "[5]\tvalidation-rmse:23.9807\n",
            "[6]\tvalidation-rmse:23.9807\n",
            "[7]\tvalidation-rmse:23.9806\n",
            "[8]\tvalidation-rmse:23.9806\n",
            "[9]\tvalidation-rmse:23.9806\n"
          ],
          "name": "stdout"
        },
        {
          "output_type": "stream",
          "text": [
            "[I 2020-07-08 13:39:42,729] Setting status of trial#145 as TrialState.PRUNED. Trial was pruned at iteration 11.\n",
            "[I 2020-07-08 13:39:46,972] Finished trial#146 with value: 3.3583384329878974 with parameters: {'combos': 0, 'ada_Scaler': 'stand', 'ada_ne': 582, 'ada_lr': 0.501704419602024, 'et_Scaler': 'log', 'et_max_depth': 17, 'et_ne': 371, 'rf_Scaler': 'log', 'rf_max_depth': 14, 'rf_ne': 792}. Best is trial#91 with value: 3.302161111165035.\n"
          ],
          "name": "stderr"
        },
        {
          "output_type": "stream",
          "text": [
            "[0]\tvalidation-rmse:23.9807\n",
            "[1]\tvalidation-rmse:23.9807\n",
            "[2]\tvalidation-rmse:23.9807\n",
            "[3]\tvalidation-rmse:23.9807\n",
            "[4]\tvalidation-rmse:23.9807\n",
            "[5]\tvalidation-rmse:23.9807\n",
            "[6]\tvalidation-rmse:23.9807\n",
            "[7]\tvalidation-rmse:23.9807\n",
            "[8]\tvalidation-rmse:23.9807\n",
            "[9]\tvalidation-rmse:23.9807\n"
          ],
          "name": "stdout"
        },
        {
          "output_type": "stream",
          "text": [
            "[I 2020-07-08 13:39:48,715] Finished trial#147 with value: 8.373067515459022 with parameters: {'combos': 1, 'ada_Scaler': 'stand', 'ada_ne': 322, 'ada_lr': 0.18718263693137027, 'et_Scaler': 'log', 'et_max_depth': 16, 'et_ne': 522, 'xgb_Scaler': 'log', 'booster': 'gbtree', 'lambda': 0.001315767158487867, 'alpha': 1.648808633152049e-07, 'max_depth': 3, 'eta': 1.1320829998899735e-08, 'gamma': 0.0009471492862185277, 'grow_policy': 'lossguide'}. Best is trial#91 with value: 3.302161111165035.\n",
            "[I 2020-07-08 13:39:52,401] Finished trial#148 with value: 3.445580557430876 with parameters: {'combos': 0, 'ada_Scaler': 'stand', 'ada_ne': 350, 'ada_lr': 0.6314917428393805, 'et_Scaler': 'log', 'et_max_depth': 18, 'et_ne': 86, 'rf_Scaler': 'stand', 'rf_max_depth': 15, 'rf_ne': 905}. Best is trial#91 with value: 3.302161111165035.\n",
            "[I 2020-07-08 13:39:57,079] Finished trial#149 with value: 3.3176201043991393 with parameters: {'combos': 0, 'ada_Scaler': 'stand', 'ada_ne': 408, 'ada_lr': 0.9850295103497281, 'et_Scaler': 'log', 'et_max_depth': 17, 'et_ne': 739, 'rf_Scaler': 'log', 'rf_max_depth': 17, 'rf_ne': 850}. Best is trial#91 with value: 3.302161111165035.\n",
            "[I 2020-07-08 13:40:01,697] Finished trial#150 with value: 3.316865014469723 with parameters: {'combos': 0, 'ada_Scaler': 'stand', 'ada_ne': 407, 'ada_lr': 0.9932801504511534, 'et_Scaler': 'log', 'et_max_depth': 17, 'et_ne': 710, 'rf_Scaler': 'log', 'rf_max_depth': 17, 'rf_ne': 848}. Best is trial#91 with value: 3.302161111165035.\n",
            "[I 2020-07-08 13:40:06,348] Finished trial#151 with value: 3.3224116701855966 with parameters: {'combos': 0, 'ada_Scaler': 'stand', 'ada_ne': 399, 'ada_lr': 0.9796256627394381, 'et_Scaler': 'log', 'et_max_depth': 17, 'et_ne': 728, 'rf_Scaler': 'log', 'rf_max_depth': 17, 'rf_ne': 852}. Best is trial#91 with value: 3.302161111165035.\n",
            "[I 2020-07-08 13:40:09,821] Finished trial#152 with value: 3.334953750009033 with parameters: {'combos': 0, 'ada_Scaler': 'stand', 'ada_ne': 408, 'ada_lr': 0.9748657592769299, 'et_Scaler': 'log', 'et_max_depth': 17, 'et_ne': 742, 'rf_Scaler': 'log', 'rf_max_depth': 17, 'rf_ne': 452}. Best is trial#91 with value: 3.302161111165035.\n",
            "[I 2020-07-08 13:40:13,291] Finished trial#153 with value: 3.3494983950116417 with parameters: {'combos': 0, 'ada_Scaler': 'stand', 'ada_ne': 411, 'ada_lr': 0.964012506453442, 'et_Scaler': 'log', 'et_max_depth': 17, 'et_ne': 713, 'rf_Scaler': 'log', 'rf_max_depth': 17, 'rf_ne': 447}. Best is trial#91 with value: 3.302161111165035.\n",
            "[I 2020-07-08 13:40:16,879] Finished trial#154 with value: 3.3424394609713355 with parameters: {'combos': 0, 'ada_Scaler': 'stand', 'ada_ne': 432, 'ada_lr': 0.9916953732456247, 'et_Scaler': 'log', 'et_max_depth': 16, 'et_ne': 734, 'rf_Scaler': 'log', 'rf_max_depth': 17, 'rf_ne': 477}. Best is trial#91 with value: 3.302161111165035.\n",
            "[I 2020-07-08 13:40:20,281] Finished trial#155 with value: 3.349023768907056 with parameters: {'combos': 0, 'ada_Scaler': 'stand', 'ada_ne': 371, 'ada_lr': 0.8860309189823192, 'et_Scaler': 'log', 'et_max_depth': 17, 'et_ne': 762, 'rf_Scaler': 'log', 'rf_max_depth': 17, 'rf_ne': 426}. Best is trial#91 with value: 3.302161111165035.\n",
            "[I 2020-07-08 13:40:25,029] Finished trial#156 with value: 3.3741327470161706 with parameters: {'combos': 0, 'ada_Scaler': 'stand', 'ada_ne': 448, 'ada_lr': 0.9930376304056077, 'et_Scaler': 'log', 'et_max_depth': 17, 'et_ne': 806, 'rf_Scaler': 'log', 'rf_max_depth': 12, 'rf_ne': 842}. Best is trial#91 with value: 3.302161111165035.\n",
            "[I 2020-07-08 13:40:29,394] Finished trial#157 with value: 3.3451352278774533 with parameters: {'combos': 0, 'ada_Scaler': 'stand', 'ada_ne': 384, 'ada_lr': 0.8144384239866492, 'et_Scaler': 'log', 'et_max_depth': 18, 'et_ne': 721, 'rf_Scaler': 'log', 'rf_max_depth': 11, 'rf_ne': 811}. Best is trial#91 with value: 3.302161111165035.\n",
            "[I 2020-07-08 13:40:32,573] Finished trial#158 with value: 3.342601084985499 with parameters: {'combos': 0, 'ada_Scaler': 'stand', 'ada_ne': 484, 'ada_lr': 0.9243034163629752, 'et_Scaler': 'stand', 'et_max_depth': 17, 'et_ne': 684, 'rf_Scaler': 'log', 'rf_max_depth': 18, 'rf_ne': 318}. Best is trial#91 with value: 3.302161111165035.\n",
            "[I 2020-07-08 13:40:37,347] Finished trial#159 with value: 3.353258901608655 with parameters: {'combos': 0, 'ada_Scaler': 'stand', 'ada_ne': 454, 'ada_lr': 0.7579887820921088, 'et_Scaler': 'log', 'et_max_depth': 16, 'et_ne': 755, 'rf_Scaler': 'log', 'rf_max_depth': 13, 'rf_ne': 858}. Best is trial#91 with value: 3.302161111165035.\n"
          ],
          "name": "stderr"
        },
        {
          "output_type": "stream",
          "text": [
            "[0]\tvalidation-rmse:8.60166\n",
            "[1]\tvalidation-rmse:7.64886\n",
            "[2]\tvalidation-rmse:7.25353\n",
            "[3]\tvalidation-rmse:6.94587\n",
            "[4]\tvalidation-rmse:6.68091\n",
            "[5]\tvalidation-rmse:6.45119\n",
            "[6]\tvalidation-rmse:6.25487\n",
            "[7]\tvalidation-rmse:6.12038\n",
            "[8]\tvalidation-rmse:5.93181\n",
            "[9]\tvalidation-rmse:5.82353\n"
          ],
          "name": "stdout"
        },
        {
          "output_type": "stream",
          "text": [
            "[I 2020-07-08 13:40:39,579] Finished trial#160 with value: 3.5156233786563096 with parameters: {'combos': 1, 'ada_Scaler': 'stand', 'ada_ne': 410, 'ada_lr': 0.995482869914873, 'et_Scaler': 'log', 'et_max_depth': 18, 'et_ne': 739, 'xgb_Scaler': 'minmax', 'booster': 'gblinear', 'lambda': 1.0272982733561148e-08, 'alpha': 3.054343273172029e-06}. Best is trial#91 with value: 3.302161111165035.\n",
            "[I 2020-07-08 13:40:44,280] Finished trial#161 with value: 3.3819364128941216 with parameters: {'combos': 0, 'ada_Scaler': 'stand', 'ada_ne': 399, 'ada_lr': 0.8616212397518667, 'et_Scaler': 'log', 'et_max_depth': 17, 'et_ne': 680, 'rf_Scaler': 'log', 'rf_max_depth': 17, 'rf_ne': 886}. Best is trial#91 with value: 3.302161111165035.\n",
            "[I 2020-07-08 13:40:48,872] Finished trial#162 with value: 3.333820818091342 with parameters: {'combos': 0, 'ada_Scaler': 'stand', 'ada_ne': 472, 'ada_lr': 0.5464490167554962, 'et_Scaler': 'log', 'et_max_depth': 18, 'et_ne': 661, 'rf_Scaler': 'log', 'rf_max_depth': 16, 'rf_ne': 825}. Best is trial#91 with value: 3.302161111165035.\n",
            "[I 2020-07-08 13:40:53,498] Finished trial#163 with value: 3.347373426121179 with parameters: {'combos': 0, 'ada_Scaler': 'stand', 'ada_ne': 499, 'ada_lr': 0.462016502145681, 'et_Scaler': 'log', 'et_max_depth': 18, 'et_ne': 654, 'rf_Scaler': 'log', 'rf_max_depth': 18, 'rf_ne': 826}. Best is trial#91 with value: 3.302161111165035.\n",
            "[I 2020-07-08 13:40:58,360] Finished trial#164 with value: 3.3347150137361603 with parameters: {'combos': 0, 'ada_Scaler': 'stand', 'ada_ne': 686, 'ada_lr': 0.5986221975957116, 'et_Scaler': 'log', 'et_max_depth': 17, 'et_ne': 789, 'rf_Scaler': 'log', 'rf_max_depth': 12, 'rf_ne': 761}. Best is trial#91 with value: 3.302161111165035.\n",
            "[I 2020-07-08 13:41:03,300] Finished trial#165 with value: 3.331822768743744 with parameters: {'combos': 0, 'ada_Scaler': 'stand', 'ada_ne': 690, 'ada_lr': 0.5919757445156333, 'et_Scaler': 'log', 'et_max_depth': 18, 'et_ne': 822, 'rf_Scaler': 'log', 'rf_max_depth': 13, 'rf_ne': 746}. Best is trial#91 with value: 3.302161111165035.\n",
            "[I 2020-07-08 13:41:08,284] Finished trial#166 with value: 3.3304515470910654 with parameters: {'combos': 0, 'ada_Scaler': 'stand', 'ada_ne': 775, 'ada_lr': 0.5370970645719724, 'et_Scaler': 'log', 'et_max_depth': 18, 'et_ne': 692, 'rf_Scaler': 'log', 'rf_max_depth': 13, 'rf_ne': 784}. Best is trial#91 with value: 3.302161111165035.\n",
            "[I 2020-07-08 13:41:13,265] Finished trial#167 with value: 3.3565462823423515 with parameters: {'combos': 0, 'ada_Scaler': 'stand', 'ada_ne': 752, 'ada_lr': 0.5581127460273095, 'et_Scaler': 'log', 'et_max_depth': 19, 'et_ne': 906, 'rf_Scaler': 'log', 'rf_max_depth': 13, 'rf_ne': 666}. Best is trial#91 with value: 3.302161111165035.\n",
            "[I 2020-07-08 13:41:18,431] Finished trial#168 with value: 3.3458573177881994 with parameters: {'combos': 0, 'ada_Scaler': 'stand', 'ada_ne': 726, 'ada_lr': 0.5052686997248784, 'et_Scaler': 'log', 'et_max_depth': 18, 'et_ne': 837, 'rf_Scaler': 'log', 'rf_max_depth': 13, 'rf_ne': 786}. Best is trial#91 with value: 3.302161111165035.\n",
            "[I 2020-07-08 13:41:23,379] Finished trial#169 with value: 3.373841186436652 with parameters: {'combos': 0, 'ada_Scaler': 'stand', 'ada_ne': 797, 'ada_lr': 0.5341194074357354, 'et_Scaler': 'log', 'et_max_depth': 18, 'et_ne': 673, 'rf_Scaler': 'log', 'rf_max_depth': 11, 'rf_ne': 795}. Best is trial#91 with value: 3.302161111165035.\n"
          ],
          "name": "stderr"
        },
        {
          "output_type": "stream",
          "text": [
            "[0]\tvalidation-rmse:23.9807\n",
            "[1]\tvalidation-rmse:23.9807\n",
            "[2]\tvalidation-rmse:23.9807\n",
            "[3]\tvalidation-rmse:23.9807\n",
            "[4]\tvalidation-rmse:23.9807\n",
            "[5]\tvalidation-rmse:23.9807\n",
            "[6]\tvalidation-rmse:23.9807\n",
            "[7]\tvalidation-rmse:23.9807\n",
            "[8]\tvalidation-rmse:23.9807\n",
            "[9]\tvalidation-rmse:23.9807\n"
          ],
          "name": "stdout"
        },
        {
          "output_type": "stream",
          "text": [
            "[I 2020-07-08 13:41:27,190] Finished trial#170 with value: 8.265462726808583 with parameters: {'combos': 6, 'et_Scaler': 'log', 'et_max_depth': 19, 'et_ne': 699, 'rf_Scaler': 'log', 'rf_max_depth': 12, 'rf_ne': 819, 'xgb_Scaler': 'stand', 'booster': 'dart', 'lambda': 9.251238846881112e-07, 'alpha': 0.21952916167733832, 'max_depth': 4, 'eta': 3.8429340308991705e-08, 'gamma': 0.0003313957566959521, 'grow_policy': 'depthwise', 'sample_type': 'uniform', 'normalize_type': 'forest', 'rate_drop': 3.434855697948219e-06, 'skip_drop': 0.0015965597394579014}. Best is trial#91 with value: 3.302161111165035.\n",
            "[I 2020-07-08 13:41:31,762] Finished trial#171 with value: 3.3261322477949653 with parameters: {'combos': 0, 'ada_Scaler': 'stand', 'ada_ne': 477, 'ada_lr': 0.6881619294946137, 'et_Scaler': 'log', 'et_max_depth': 18, 'et_ne': 642, 'rf_Scaler': 'log', 'rf_max_depth': 13, 'rf_ne': 851}. Best is trial#91 with value: 3.302161111165035.\n",
            "[I 2020-07-08 13:41:36,396] Finished trial#172 with value: 3.328309381546985 with parameters: {'combos': 0, 'ada_Scaler': 'stand', 'ada_ne': 521, 'ada_lr': 0.6582339294712889, 'et_Scaler': 'log', 'et_max_depth': 18, 'et_ne': 641, 'rf_Scaler': 'log', 'rf_max_depth': 12, 'rf_ne': 849}. Best is trial#91 with value: 3.302161111165035.\n",
            "[I 2020-07-08 13:41:40,727] Finished trial#173 with value: 3.3310035708919847 with parameters: {'combos': 0, 'ada_Scaler': 'stand', 'ada_ne': 480, 'ada_lr': 0.6607776637991216, 'et_Scaler': 'log', 'et_max_depth': 18, 'et_ne': 640, 'rf_Scaler': 'log', 'rf_max_depth': 13, 'rf_ne': 749}. Best is trial#91 with value: 3.302161111165035.\n",
            "[I 2020-07-08 13:41:45,260] Finished trial#174 with value: 3.3724170006402874 with parameters: {'combos': 0, 'ada_Scaler': 'stand', 'ada_ne': 472, 'ada_lr': 0.6596175543567431, 'et_Scaler': 'log', 'et_max_depth': 18, 'et_ne': 630, 'rf_Scaler': 'log', 'rf_max_depth': 13, 'rf_ne': 738}. Best is trial#91 with value: 3.302161111165035.\n",
            "[I 2020-07-08 13:41:50,003] Finished trial#175 with value: 3.3605989192940173 with parameters: {'combos': 0, 'ada_Scaler': 'stand', 'ada_ne': 528, 'ada_lr': 0.6917854065692275, 'et_Scaler': 'log', 'et_max_depth': 18, 'et_ne': 648, 'rf_Scaler': 'log', 'rf_max_depth': 11, 'rf_ne': 757}. Best is trial#91 with value: 3.302161111165035.\n",
            "[I 2020-07-08 13:41:54,869] Finished trial#176 with value: 3.3444965295005114 with parameters: {'combos': 0, 'ada_Scaler': 'stand', 'ada_ne': 510, 'ada_lr': 0.6251825752225553, 'et_Scaler': 'log', 'et_max_depth': 19, 'et_ne': 606, 'rf_Scaler': 'log', 'rf_max_depth': 12, 'rf_ne': 848}. Best is trial#91 with value: 3.302161111165035.\n",
            "[I 2020-07-08 13:41:59,600] Finished trial#177 with value: 3.480116274011356 with parameters: {'combos': 0, 'ada_Scaler': 'stand', 'ada_ne': 472, 'ada_lr': 0.741711532403065, 'et_Scaler': 'minmax', 'et_max_depth': 18, 'et_ne': 661, 'rf_Scaler': 'log', 'rf_max_depth': 13, 'rf_ne': 807}. Best is trial#91 with value: 3.302161111165035.\n",
            "[I 2020-07-08 13:42:05,083] Finished trial#178 with value: 3.346742075802549 with parameters: {'combos': 0, 'ada_Scaler': 'stand', 'ada_ne': 853, 'ada_lr': 0.6649036207147201, 'et_Scaler': 'log', 'et_max_depth': 19, 'et_ne': 634, 'rf_Scaler': 'log', 'rf_max_depth': 10, 'rf_ne': 837}. Best is trial#91 with value: 3.302161111165035.\n"
          ],
          "name": "stderr"
        },
        {
          "output_type": "stream",
          "text": [
            "[0]\tvalidation-rmse:23.9806\n",
            "[1]\tvalidation-rmse:23.9805\n",
            "[2]\tvalidation-rmse:23.9804\n",
            "[3]\tvalidation-rmse:23.9803\n",
            "[4]\tvalidation-rmse:23.9802\n",
            "[5]\tvalidation-rmse:23.9801\n",
            "[6]\tvalidation-rmse:23.98\n",
            "[7]\tvalidation-rmse:23.9799\n",
            "[8]\tvalidation-rmse:23.9798\n",
            "[9]\tvalidation-rmse:23.9797\n"
          ],
          "name": "stdout"
        },
        {
          "output_type": "stream",
          "text": [
            "[I 2020-07-08 13:42:07,994] Finished trial#179 with value: 8.364223314947052 with parameters: {'combos': 1, 'ada_Scaler': 'stand', 'ada_ne': 832, 'ada_lr': 0.6008402553414314, 'et_Scaler': 'log', 'et_max_depth': 19, 'et_ne': 618, 'xgb_Scaler': 'log', 'booster': 'gbtree', 'lambda': 0.005903126803336833, 'alpha': 1.1286526874223027e-05, 'max_depth': 6, 'eta': 4.106201826092945e-06, 'gamma': 4.625783519639525e-05, 'grow_policy': 'depthwise'}. Best is trial#91 with value: 3.302161111165035.\n"
          ],
          "name": "stderr"
        },
        {
          "output_type": "stream",
          "text": [
            "[0]\tvalidation-rmse:8.28868\n",
            "[1]\tvalidation-rmse:7.49593\n",
            "[2]\tvalidation-rmse:7.07627\n",
            "[3]\tvalidation-rmse:6.78321\n",
            "[4]\tvalidation-rmse:6.54696\n",
            "[5]\tvalidation-rmse:6.34835\n",
            "[6]\tvalidation-rmse:6.17979\n",
            "[7]\tvalidation-rmse:6.03752\n",
            "[8]\tvalidation-rmse:5.91885\n",
            "[9]\tvalidation-rmse:5.82161\n"
          ],
          "name": "stdout"
        },
        {
          "output_type": "stream",
          "text": [
            "[I 2020-07-08 13:42:10,686] Finished trial#180 with value: 3.8575330640515646 with parameters: {'combos': 9, 'rf_Scaler': 'log', 'rf_max_depth': 12, 'rf_ne': 776, 'xgb_Scaler': 'minmax', 'booster': 'gblinear', 'lambda': 3.545782368194457e-05, 'alpha': 3.394671375021867e-07, 'gbm_Scaler': 'minmax', 'lambda_l1': 0.001288940326845877, 'lambda_l2': 2.6908364754288847, 'num_leaves': 214, 'feature_fraction': 0.9199013947281387, 'bagging_fraction': 0.7195710789536409, 'bagging_freq': 1, 'min_child_samples': 7}. Best is trial#91 with value: 3.302161111165035.\n",
            "[I 2020-07-08 13:42:15,706] Finished trial#181 with value: 3.3458578508671866 with parameters: {'combos': 0, 'ada_Scaler': 'stand', 'ada_ne': 553, 'ada_lr': 0.5804210748849079, 'et_Scaler': 'log', 'et_max_depth': 17, 'et_ne': 668, 'rf_Scaler': 'log', 'rf_max_depth': 13, 'rf_ne': 864}. Best is trial#91 with value: 3.302161111165035.\n",
            "[I 2020-07-08 13:42:20,654] Finished trial#182 with value: 3.3395817917377637 with parameters: {'combos': 0, 'ada_Scaler': 'stand', 'ada_ne': 484, 'ada_lr': 0.6958991262846649, 'et_Scaler': 'log', 'et_max_depth': 17, 'et_ne': 729, 'rf_Scaler': 'log', 'rf_max_depth': 14, 'rf_ne': 817}. Best is trial#91 with value: 3.302161111165035.\n",
            "[I 2020-07-08 13:42:25,968] Finished trial#183 with value: 3.3182647988721623 with parameters: {'combos': 0, 'ada_Scaler': 'stand', 'ada_ne': 538, 'ada_lr': 0.6456753749712233, 'et_Scaler': 'log', 'et_max_depth': 18, 'et_ne': 698, 'rf_Scaler': 'log', 'rf_max_depth': 13, 'rf_ne': 846}. Best is trial#91 with value: 3.302161111165035.\n",
            "[I 2020-07-08 13:42:31,060] Finished trial#184 with value: 3.346727088866984 with parameters: {'combos': 0, 'ada_Scaler': 'stand', 'ada_ne': 520, 'ada_lr': 0.6317102932833475, 'et_Scaler': 'log', 'et_max_depth': 18, 'et_ne': 716, 'rf_Scaler': 'log', 'rf_max_depth': 12, 'rf_ne': 844}. Best is trial#91 with value: 3.302161111165035.\n",
            "[I 2020-07-08 13:42:35,875] Finished trial#185 with value: 3.3339773207936543 with parameters: {'combos': 0, 'ada_Scaler': 'stand', 'ada_ne': 539, 'ada_lr': 0.7237290055684648, 'et_Scaler': 'log', 'et_max_depth': 18, 'et_ne': 702, 'rf_Scaler': 'log', 'rf_max_depth': 13, 'rf_ne': 797}. Best is trial#91 with value: 3.302161111165035.\n",
            "[I 2020-07-08 13:42:40,517] Finished trial#186 with value: 3.360615554964726 with parameters: {'combos': 0, 'ada_Scaler': 'stand', 'ada_ne': 441, 'ada_lr': 0.780519118780524, 'et_Scaler': 'log', 'et_max_depth': 18, 'et_ne': 665, 'rf_Scaler': 'log', 'rf_max_depth': 11, 'rf_ne': 834}. Best is trial#91 with value: 3.302161111165035.\n",
            "[I 2020-07-08 13:42:45,352] Finished trial#187 with value: 3.366892049157385 with parameters: {'combos': 0, 'ada_Scaler': 'stand', 'ada_ne': 508, 'ada_lr': 0.6481662012121573, 'et_Scaler': 'log', 'et_max_depth': 19, 'et_ne': 639, 'rf_Scaler': 'minmax', 'rf_max_depth': 13, 'rf_ne': 863}. Best is trial#91 with value: 3.302161111165035.\n",
            "[I 2020-07-08 13:42:50,030] Finished trial#188 with value: 3.3489875475971074 with parameters: {'combos': 0, 'ada_Scaler': 'stand', 'ada_ne': 456, 'ada_lr': 0.6018333301321603, 'et_Scaler': 'log', 'et_max_depth': 18, 'et_ne': 771, 'rf_Scaler': 'log', 'rf_max_depth': 12, 'rf_ne': 766}. Best is trial#91 with value: 3.302161111165035.\n",
            "[I 2020-07-08 13:42:54,920] Finished trial#189 with value: 3.341732566790895 with parameters: {'combos': 0, 'ada_Scaler': 'stand', 'ada_ne': 490, 'ada_lr': 0.5606307943101733, 'et_Scaler': 'log', 'et_max_depth': 19, 'et_ne': 845, 'rf_Scaler': 'log', 'rf_max_depth': 13, 'rf_ne': 820}. Best is trial#91 with value: 3.302161111165035.\n",
            "[I 2020-07-08 13:42:59,489] Finished trial#190 with value: 3.3344256111265973 with parameters: {'combos': 0, 'ada_Scaler': 'stand', 'ada_ne': 542, 'ada_lr': 0.7029310582374212, 'et_Scaler': 'log', 'et_max_depth': 17, 'et_ne': 691, 'rf_Scaler': 'log', 'rf_max_depth': 12, 'rf_ne': 791}. Best is trial#91 with value: 3.302161111165035.\n",
            "[I 2020-07-08 13:43:04,193] Finished trial#191 with value: 3.3604347640146024 with parameters: {'combos': 0, 'ada_Scaler': 'stand', 'ada_ne': 571, 'ada_lr': 0.7377410831517481, 'et_Scaler': 'log', 'et_max_depth': 18, 'et_ne': 699, 'rf_Scaler': 'log', 'rf_max_depth': 13, 'rf_ne': 798}. Best is trial#91 with value: 3.302161111165035.\n",
            "[I 2020-07-08 13:43:08,500] Finished trial#192 with value: 3.343366617754007 with parameters: {'combos': 0, 'ada_Scaler': 'stand', 'ada_ne': 534, 'ada_lr': 0.6771778010840943, 'et_Scaler': 'log', 'et_max_depth': 18, 'et_ne': 594, 'rf_Scaler': 'log', 'rf_max_depth': 16, 'rf_ne': 743}. Best is trial#91 with value: 3.302161111165035.\n",
            "[I 2020-07-08 13:43:12,918] Finished trial#193 with value: 3.3049630163484807 with parameters: {'combos': 0, 'ada_Scaler': 'stand', 'ada_ne': 513, 'ada_lr': 0.717508150359029, 'et_Scaler': 'log', 'et_max_depth': 17, 'et_ne': 700, 'rf_Scaler': 'log', 'rf_max_depth': 13, 'rf_ne': 706}. Best is trial#91 with value: 3.302161111165035.\n",
            "[I 2020-07-08 13:43:16,607] Finished trial#194 with value: 3.3996358627174796 with parameters: {'combos': 0, 'ada_Scaler': 'stand', 'ada_ne': 508, 'ada_lr': 0.6479098630203795, 'et_Scaler': 'log', 'et_max_depth': 17, 'et_ne': 749, 'rf_Scaler': 'log', 'rf_max_depth': 4, 'rf_ne': 701}. Best is trial#91 with value: 3.302161111165035.\n",
            "[I 2020-07-08 13:43:20,727] Finished trial#195 with value: 3.3635822255934245 with parameters: {'combos': 0, 'ada_Scaler': 'stand', 'ada_ne': 465, 'ada_lr': 0.6163707980997913, 'et_Scaler': 'log', 'et_max_depth': 17, 'et_ne': 319, 'rf_Scaler': 'log', 'rf_max_depth': 14, 'rf_ne': 849}. Best is trial#91 with value: 3.302161111165035.\n",
            "[I 2020-07-08 13:43:24,855] Finished trial#196 with value: 3.461654353493331 with parameters: {'combos': 0, 'ada_Scaler': 'stand', 'ada_ne': 430, 'ada_lr': 0.7846784051914559, 'et_Scaler': 'log', 'et_max_depth': 18, 'et_ne': 676, 'rf_Scaler': 'stand', 'rf_max_depth': 12, 'rf_ne': 722}. Best is trial#91 with value: 3.302161111165035.\n",
            "[I 2020-07-08 13:43:29,749] Finished trial#197 with value: 3.33840349161449 with parameters: {'combos': 0, 'ada_Scaler': 'stand', 'ada_ne': 520, 'ada_lr': 0.5394279206669708, 'et_Scaler': 'log', 'et_max_depth': 16, 'et_ne': 724, 'rf_Scaler': 'log', 'rf_max_depth': 13, 'rf_ne': 882}. Best is trial#91 with value: 3.302161111165035.\n",
            "[I 2020-07-08 13:43:33,920] Finished trial#198 with value: 3.3449252542045538 with parameters: {'combos': 0, 'ada_Scaler': 'stand', 'ada_ne': 487, 'ada_lr': 0.8211603742711694, 'et_Scaler': 'log', 'et_max_depth': 17, 'et_ne': 486, 'rf_Scaler': 'log', 'rf_max_depth': 11, 'rf_ne': 833}. Best is trial#91 with value: 3.302161111165035.\n",
            "[I 2020-07-08 13:43:38,231] Finished trial#199 with value: 3.332931626693249 with parameters: {'combos': 0, 'ada_Scaler': 'stand', 'ada_ne': 439, 'ada_lr': 0.7053788798494626, 'et_Scaler': 'log', 'et_max_depth': 18, 'et_ne': 656, 'rf_Scaler': 'log', 'rf_max_depth': 12, 'rf_ne': 772}. Best is trial#91 with value: 3.302161111165035.\n",
            "[I 2020-07-08 13:43:42,405] Finished trial#200 with value: 3.4195772428185656 with parameters: {'combos': 0, 'ada_Scaler': 'minmax', 'ada_ne': 427, 'ada_lr': 0.7261024005099314, 'et_Scaler': 'log', 'et_max_depth': 17, 'et_ne': 616, 'rf_Scaler': 'log', 'rf_max_depth': 12, 'rf_ne': 762}. Best is trial#91 with value: 3.302161111165035.\n",
            "[I 2020-07-08 13:43:46,838] Finished trial#201 with value: 3.3727120974085376 with parameters: {'combos': 0, 'ada_Scaler': 'stand', 'ada_ne': 458, 'ada_lr': 0.693168002121296, 'et_Scaler': 'log', 'et_max_depth': 18, 'et_ne': 649, 'rf_Scaler': 'log', 'rf_max_depth': 13, 'rf_ne': 812}. Best is trial#91 with value: 3.302161111165035.\n",
            "[I 2020-07-08 13:43:51,189] Finished trial#202 with value: 3.3723520332624557 with parameters: {'combos': 0, 'ada_Scaler': 'stand', 'ada_ne': 443, 'ada_lr': 0.6562635060238444, 'et_Scaler': 'log', 'et_max_depth': 18, 'et_ne': 676, 'rf_Scaler': 'log', 'rf_max_depth': 12, 'rf_ne': 779}. Best is trial#91 with value: 3.302161111165035.\n",
            "[I 2020-07-08 13:43:55,987] Finished trial#203 with value: 3.31642141756354 with parameters: {'combos': 0, 'ada_Scaler': 'stand', 'ada_ne': 471, 'ada_lr': 0.605945252834234, 'et_Scaler': 'log', 'et_max_depth': 19, 'et_ne': 711, 'rf_Scaler': 'log', 'rf_max_depth': 17, 'rf_ne': 867}. Best is trial#91 with value: 3.302161111165035.\n",
            "[I 2020-07-08 13:44:01,318] Finished trial#204 with value: 3.371666055274734 with parameters: {'combos': 0, 'ada_Scaler': 'stand', 'ada_ne': 768, 'ada_lr': 0.5921214428417753, 'et_Scaler': 'log', 'et_max_depth': 20, 'et_ne': 710, 'rf_Scaler': 'log', 'rf_max_depth': 11, 'rf_ne': 869}. Best is trial#91 with value: 3.302161111165035.\n",
            "[I 2020-07-08 13:44:06,189] Finished trial#205 with value: 3.3454646364181806 with parameters: {'combos': 0, 'ada_Scaler': 'stand', 'ada_ne': 500, 'ada_lr': 0.7632740211137575, 'et_Scaler': 'log', 'et_max_depth': 19, 'et_ne': 766, 'rf_Scaler': 'log', 'rf_max_depth': 18, 'rf_ne': 746}. Best is trial#91 with value: 3.302161111165035.\n",
            "[I 2020-07-08 13:44:09,602] Finished trial#206 with value: 3.3794218733923094 with parameters: {'combos': 0, 'ada_Scaler': 'stand', 'ada_ne': 416, 'ada_lr': 0.6876827530116907, 'et_Scaler': 'stand', 'et_max_depth': 19, 'et_ne': 348, 'rf_Scaler': 'log', 'rf_max_depth': 12, 'rf_ne': 613}. Best is trial#91 with value: 3.302161111165035.\n",
            "[I 2020-07-08 13:44:14,160] Finished trial#207 with value: 3.354365855508803 with parameters: {'combos': 0, 'ada_Scaler': 'stand', 'ada_ne': 372, 'ada_lr': 0.648951886049981, 'et_Scaler': 'log', 'et_max_depth': 19, 'et_ne': 526, 'rf_Scaler': 'log', 'rf_max_depth': 13, 'rf_ne': 867}. Best is trial#91 with value: 3.302161111165035.\n",
            "[I 2020-07-08 13:44:19,900] Finished trial#208 with value: 3.3480552964848838 with parameters: {'combos': 0, 'ada_Scaler': 'stand', 'ada_ne': 729, 'ada_lr': 0.6088212642735406, 'et_Scaler': 'log', 'et_max_depth': 18, 'et_ne': 813, 'rf_Scaler': 'log', 'rf_max_depth': 17, 'rf_ne': 851}. Best is trial#91 with value: 3.302161111165035.\n"
          ],
          "name": "stderr"
        },
        {
          "output_type": "stream",
          "text": [
            "[0]\tvalidation-rmse:7.12918\n",
            "[1]\tvalidation-rmse:5.32714\n",
            "[2]\tvalidation-rmse:5.47095\n",
            "[3]\tvalidation-rmse:5.46017\n",
            "[4]\tvalidation-rmse:5.43904\n",
            "[5]\tvalidation-rmse:5.43591\n",
            "[6]\tvalidation-rmse:5.44696\n",
            "[7]\tvalidation-rmse:5.4325\n",
            "[8]\tvalidation-rmse:5.42597\n",
            "[9]\tvalidation-rmse:5.4259\n"
          ],
          "name": "stdout"
        },
        {
          "output_type": "stream",
          "text": [
            "[I 2020-07-08 13:44:22,201] Finished trial#209 with value: 3.595714605718445 with parameters: {'combos': 1, 'ada_Scaler': 'stand', 'ada_ne': 392, 'ada_lr': 0.7266596330211821, 'et_Scaler': 'log', 'et_max_depth': 16, 'et_ne': 732, 'xgb_Scaler': 'log', 'booster': 'dart', 'lambda': 0.01617389121547681, 'alpha': 0.010035851981607427, 'max_depth': 8, 'eta': 0.7542416403722901, 'gamma': 1.00932243498879e-08, 'grow_policy': 'lossguide', 'sample_type': 'uniform', 'normalize_type': 'tree', 'rate_drop': 5.808476120090773e-07, 'skip_drop': 1.2911205019495672e-07}. Best is trial#91 with value: 3.302161111165035.\n",
            "[I 2020-07-08 13:44:27,424] Finished trial#210 with value: 3.3491708987400477 with parameters: {'combos': 0, 'ada_Scaler': 'stand', 'ada_ne': 481, 'ada_lr': 0.5674480935068571, 'et_Scaler': 'log', 'et_max_depth': 20, 'et_ne': 688, 'rf_Scaler': 'log', 'rf_max_depth': 14, 'rf_ne': 888}. Best is trial#91 with value: 3.302161111165035.\n",
            "[I 2020-07-08 13:44:32,452] Finished trial#211 with value: 3.373712983172858 with parameters: {'combos': 0, 'ada_Scaler': 'stand', 'ada_ne': 467, 'ada_lr': 0.5239627343970705, 'et_Scaler': 'log', 'et_max_depth': 18, 'et_ne': 648, 'rf_Scaler': 'log', 'rf_max_depth': 16, 'rf_ne': 826}. Best is trial#91 with value: 3.302161111165035.\n",
            "[I 2020-07-08 13:44:35,822] Finished trial#212 with value: 3.3459515681843737 with parameters: {'combos': 0, 'ada_Scaler': 'stand', 'ada_ne': 494, 'ada_lr': 0.5763336005416387, 'et_Scaler': 'log', 'et_max_depth': 17, 'et_ne': 900, 'rf_Scaler': 'log', 'rf_max_depth': 17, 'rf_ne': 174}. Best is trial#91 with value: 3.302161111165035.\n",
            "[I 2020-07-08 13:44:40,592] Finished trial#213 with value: 3.3336512759107335 with parameters: {'combos': 0, 'ada_Scaler': 'stand', 'ada_ne': 440, 'ada_lr': 0.6210658495886596, 'et_Scaler': 'log', 'et_max_depth': 18, 'et_ne': 703, 'rf_Scaler': 'log', 'rf_max_depth': 10, 'rf_ne': 814}. Best is trial#91 with value: 3.302161111165035.\n",
            "[I 2020-07-08 13:44:45,272] Finished trial#214 with value: 3.3468737102738255 with parameters: {'combos': 0, 'ada_Scaler': 'stand', 'ada_ne': 445, 'ada_lr': 0.6301490270963523, 'et_Scaler': 'log', 'et_max_depth': 18, 'et_ne': 711, 'rf_Scaler': 'log', 'rf_max_depth': 10, 'rf_ne': 779}. Best is trial#91 with value: 3.302161111165035.\n",
            "[I 2020-07-08 13:44:49,551] Finished trial#215 with value: 3.367253386533409 with parameters: {'combos': 0, 'ada_Scaler': 'stand', 'ada_ne': 422, 'ada_lr': 0.6809302260467234, 'et_Scaler': 'log', 'et_max_depth': 17, 'et_ne': 467, 'rf_Scaler': 'log', 'rf_max_depth': 10, 'rf_ne': 804}. Best is trial#91 with value: 3.302161111165035.\n",
            "[I 2020-07-08 13:44:54,751] Finished trial#216 with value: 3.3336480842400094 with parameters: {'combos': 0, 'ada_Scaler': 'stand', 'ada_ne': 561, 'ada_lr': 0.621047688822609, 'et_Scaler': 'log', 'et_max_depth': 19, 'et_ne': 737, 'rf_Scaler': 'log', 'rf_max_depth': 11, 'rf_ne': 842}. Best is trial#91 with value: 3.302161111165035.\n",
            "[I 2020-07-08 13:44:59,914] Finished trial#217 with value: 3.3246206468502284 with parameters: {'combos': 0, 'ada_Scaler': 'stand', 'ada_ne': 575, 'ada_lr': 0.7855804454988522, 'et_Scaler': 'log', 'et_max_depth': 19, 'et_ne': 749, 'rf_Scaler': 'log', 'rf_max_depth': 11, 'rf_ne': 846}. Best is trial#91 with value: 3.302161111165035.\n",
            "[I 2020-07-08 13:45:05,243] Finished trial#218 with value: 3.3327574474998385 with parameters: {'combos': 0, 'ada_Scaler': 'stand', 'ada_ne': 586, 'ada_lr': 0.8172273616898074, 'et_Scaler': 'log', 'et_max_depth': 19, 'et_ne': 754, 'rf_Scaler': 'log', 'rf_max_depth': 11, 'rf_ne': 861}. Best is trial#91 with value: 3.302161111165035.\n",
            "[I 2020-07-08 13:45:10,640] Finished trial#219 with value: 3.336280054852902 with parameters: {'combos': 0, 'ada_Scaler': 'stand', 'ada_ne': 547, 'ada_lr': 0.8468365895986589, 'et_Scaler': 'log', 'et_max_depth': 19, 'et_ne': 793, 'rf_Scaler': 'log', 'rf_max_depth': 12, 'rf_ne': 905}. Best is trial#91 with value: 3.302161111165035.\n",
            "[I 2020-07-08 13:45:15,709] Finished trial#220 with value: 3.3664540717894886 with parameters: {'combos': 0, 'ada_Scaler': 'stand', 'ada_ne': 591, 'ada_lr': 0.7997943276677937, 'et_Scaler': 'log', 'et_max_depth': 20, 'et_ne': 763, 'rf_Scaler': 'log', 'rf_max_depth': 11, 'rf_ne': 868}. Best is trial#91 with value: 3.302161111165035.\n",
            "[I 2020-07-08 13:45:20,578] Finished trial#221 with value: 3.3428299281210183 with parameters: {'combos': 0, 'ada_Scaler': 'stand', 'ada_ne': 573, 'ada_lr': 0.8785808582068578, 'et_Scaler': 'log', 'et_max_depth': 19, 'et_ne': 752, 'rf_Scaler': 'log', 'rf_max_depth': 11, 'rf_ne': 847}. Best is trial#91 with value: 3.302161111165035.\n",
            "[I 2020-07-08 13:45:25,198] Finished trial#222 with value: 3.331282487418532 with parameters: {'combos': 0, 'ada_Scaler': 'stand', 'ada_ne': 605, 'ada_lr': 0.7747669807340173, 'et_Scaler': 'log', 'et_max_depth': 19, 'et_ne': 498, 'rf_Scaler': 'log', 'rf_max_depth': 13, 'rf_ne': 880}. Best is trial#91 with value: 3.302161111165035.\n",
            "[I 2020-07-08 13:45:29,892] Finished trial#223 with value: 3.3354883793896883 with parameters: {'combos': 0, 'ada_Scaler': 'stand', 'ada_ne': 641, 'ada_lr': 0.7757941766710919, 'et_Scaler': 'log', 'et_max_depth': 19, 'et_ne': 513, 'rf_Scaler': 'log', 'rf_max_depth': 13, 'rf_ne': 883}. Best is trial#91 with value: 3.302161111165035.\n",
            "[I 2020-07-08 13:45:34,986] Finished trial#224 with value: 3.322069989169504 with parameters: {'combos': 0, 'ada_Scaler': 'stand', 'ada_ne': 587, 'ada_lr': 0.9147434083128454, 'et_Scaler': 'log', 'et_max_depth': 19, 'et_ne': 720, 'rf_Scaler': 'log', 'rf_max_depth': 13, 'rf_ne': 925}. Best is trial#91 with value: 3.302161111165035.\n",
            "[I 2020-07-08 13:45:40,195] Finished trial#225 with value: 3.363644063833356 with parameters: {'combos': 0, 'ada_Scaler': 'stand', 'ada_ne': 594, 'ada_lr': 0.9187666075336439, 'et_Scaler': 'log', 'et_max_depth': 20, 'et_ne': 772, 'rf_Scaler': 'log', 'rf_max_depth': 14, 'rf_ne': 906}. Best is trial#91 with value: 3.302161111165035.\n",
            "[I 2020-07-08 13:45:45,372] Finished trial#226 with value: 3.3083119861113 with parameters: {'combos': 0, 'ada_Scaler': 'stand', 'ada_ne': 609, 'ada_lr': 0.8172826803969729, 'et_Scaler': 'log', 'et_max_depth': 19, 'et_ne': 748, 'rf_Scaler': 'log', 'rf_max_depth': 13, 'rf_ne': 922}. Best is trial#91 with value: 3.302161111165035.\n",
            "[I 2020-07-08 13:45:50,547] Finished trial#227 with value: 3.3478234570774545 with parameters: {'combos': 0, 'ada_Scaler': 'stand', 'ada_ne': 604, 'ada_lr': 0.874854256625205, 'et_Scaler': 'log', 'et_max_depth': 19, 'et_ne': 723, 'rf_Scaler': 'log', 'rf_max_depth': 13, 'rf_ne': 937}. Best is trial#91 with value: 3.302161111165035.\n",
            "[I 2020-07-08 13:45:55,689] Finished trial#228 with value: 3.41999370681973 with parameters: {'combos': 0, 'ada_Scaler': 'stand', 'ada_ne': 645, 'ada_lr': 0.7658330362966831, 'et_Scaler': 'minmax', 'et_max_depth': 20, 'et_ne': 730, 'rf_Scaler': 'log', 'rf_max_depth': 13, 'rf_ne': 889}. Best is trial#91 with value: 3.302161111165035.\n",
            "[I 2020-07-08 13:46:00,532] Finished trial#229 with value: 3.3607973755626 with parameters: {'combos': 0, 'ada_Scaler': 'stand', 'ada_ne': 622, 'ada_lr': 0.8366848826620159, 'et_Scaler': 'log', 'et_max_depth': 19, 'et_ne': 538, 'rf_Scaler': 'log', 'rf_max_depth': 14, 'rf_ne': 923}. Best is trial#91 with value: 3.302161111165035.\n",
            "[I 2020-07-08 13:46:05,568] Finished trial#230 with value: 3.3304675195961093 with parameters: {'combos': 0, 'ada_Scaler': 'stand', 'ada_ne': 571, 'ada_lr': 0.9233087919036873, 'et_Scaler': 'log', 'et_max_depth': 19, 'et_ne': 694, 'rf_Scaler': 'log', 'rf_max_depth': 13, 'rf_ne': 926}. Best is trial#91 with value: 3.302161111165035.\n",
            "[I 2020-07-08 13:46:10,564] Finished trial#231 with value: 3.342125086973637 with parameters: {'combos': 0, 'ada_Scaler': 'stand', 'ada_ne': 563, 'ada_lr': 0.9265013597128341, 'et_Scaler': 'log', 'et_max_depth': 19, 'et_ne': 694, 'rf_Scaler': 'log', 'rf_max_depth': 13, 'rf_ne': 918}. Best is trial#91 with value: 3.302161111165035.\n",
            "[I 2020-07-08 13:46:15,905] Finished trial#232 with value: 3.3919777609135617 with parameters: {'combos': 0, 'ada_Scaler': 'stand', 'ada_ne': 677, 'ada_lr': 0.908504507792318, 'et_Scaler': 'log', 'et_max_depth': 19, 'et_ne': 739, 'rf_Scaler': 'log', 'rf_max_depth': 13, 'rf_ne': 929}. Best is trial#91 with value: 3.302161111165035.\n",
            "[I 2020-07-08 13:46:20,951] Finished trial#233 with value: 3.3725848128819225 with parameters: {'combos': 0, 'ada_Scaler': 'stand', 'ada_ne': 604, 'ada_lr': 0.747125581907904, 'et_Scaler': 'log', 'et_max_depth': 20, 'et_ne': 700, 'rf_Scaler': 'log', 'rf_max_depth': 13, 'rf_ne': 899}. Best is trial#91 with value: 3.302161111165035.\n",
            "[I 2020-07-08 13:46:26,039] Finished trial#234 with value: 3.3352789491585457 with parameters: {'combos': 0, 'ada_Scaler': 'stand', 'ada_ne': 657, 'ada_lr': 0.9964606864421702, 'et_Scaler': 'log', 'et_max_depth': 19, 'et_ne': 711, 'rf_Scaler': 'log', 'rf_max_depth': 14, 'rf_ne': 875}. Best is trial#91 with value: 3.302161111165035.\n",
            "[I 2020-07-08 13:46:30,991] Finished trial#235 with value: 3.3454435019140467 with parameters: {'combos': 0, 'ada_Scaler': 'stand', 'ada_ne': 522, 'ada_lr': 0.8248410328070309, 'et_Scaler': 'log', 'et_max_depth': 18, 'et_ne': 820, 'rf_Scaler': 'minmax', 'rf_max_depth': 13, 'rf_ne': 856}. Best is trial#91 with value: 3.302161111165035.\n",
            "[I 2020-07-08 13:46:35,681] Finished trial#236 with value: 3.343813436865107 with parameters: {'combos': 0, 'ada_Scaler': 'stand', 'ada_ne': 569, 'ada_lr': 0.7155059984033953, 'et_Scaler': 'log', 'et_max_depth': 17, 'et_ne': 679, 'rf_Scaler': 'log', 'rf_max_depth': 12, 'rf_ne': 825}. Best is trial#91 with value: 3.302161111165035.\n",
            "[I 2020-07-08 13:46:40,168] Finished trial#237 with value: 3.320195831156332 with parameters: {'combos': 0, 'ada_Scaler': 'stand', 'ada_ne': 582, 'ada_lr': 0.9458532804544203, 'et_Scaler': 'log', 'et_max_depth': 18, 'et_ne': 490, 'rf_Scaler': 'log', 'rf_max_depth': 13, 'rf_ne': 846}. Best is trial#91 with value: 3.302161111165035.\n",
            "[I 2020-07-08 13:46:44,659] Finished trial#238 with value: 3.341822473877388 with parameters: {'combos': 0, 'ada_Scaler': 'stand', 'ada_ne': 585, 'ada_lr': 0.9230676060784836, 'et_Scaler': 'log', 'et_max_depth': 19, 'et_ne': 486, 'rf_Scaler': 'log', 'rf_max_depth': 14, 'rf_ne': 848}. Best is trial#91 with value: 3.302161111165035.\n"
          ],
          "name": "stderr"
        },
        {
          "output_type": "stream",
          "text": [
            "[0]\tvalidation-rmse:23.9799\n",
            "[1]\tvalidation-rmse:23.9791\n",
            "[2]\tvalidation-rmse:23.9783\n",
            "[3]\tvalidation-rmse:23.9775\n",
            "[4]\tvalidation-rmse:23.9767\n",
            "[5]\tvalidation-rmse:23.9759\n",
            "[6]\tvalidation-rmse:23.9751\n",
            "[7]\tvalidation-rmse:23.9743\n",
            "[8]\tvalidation-rmse:23.9735\n",
            "[9]\tvalidation-rmse:23.9727\n"
          ],
          "name": "stdout"
        },
        {
          "output_type": "stream",
          "text": [
            "[I 2020-07-08 13:46:45,784] Finished trial#239 with value: 8.374957862917435 with parameters: {'combos': 8, 'et_Scaler': 'log', 'et_max_depth': 18, 'et_ne': 457, 'xgb_Scaler': 'stand', 'booster': 'gbtree', 'lambda': 0.15689151658663317, 'alpha': 0.0027309181134957702, 'max_depth': 1, 'eta': 3.596912207429748e-05, 'gamma': 3.505003315112683e-08, 'grow_policy': 'depthwise', 'gbm_Scaler': 'log', 'lambda_l1': 9.450651981082002e-05, 'lambda_l2': 4.696135257034219e-05, 'num_leaves': 156, 'feature_fraction': 0.5712949938234653, 'bagging_fraction': 0.8393491029471126, 'bagging_freq': 4, 'min_child_samples': 27}. Best is trial#91 with value: 3.302161111165035.\n",
            "[I 2020-07-08 13:46:50,239] Finished trial#240 with value: 3.3692545543052734 with parameters: {'combos': 0, 'ada_Scaler': 'stand', 'ada_ne': 541, 'ada_lr': 0.8862912466467122, 'et_Scaler': 'log', 'et_max_depth': 18, 'et_ne': 499, 'rf_Scaler': 'log', 'rf_max_depth': 12, 'rf_ne': 880}. Best is trial#91 with value: 3.302161111165035.\n",
            "[I 2020-07-08 13:46:54,798] Finished trial#241 with value: 3.323914431116058 with parameters: {'combos': 0, 'ada_Scaler': 'stand', 'ada_ne': 602, 'ada_lr': 0.970841901260981, 'et_Scaler': 'log', 'et_max_depth': 18, 'et_ne': 556, 'rf_Scaler': 'log', 'rf_max_depth': 13, 'rf_ne': 834}. Best is trial#91 with value: 3.302161111165035.\n",
            "[I 2020-07-08 13:46:59,371] Finished trial#242 with value: 3.355729499537072 with parameters: {'combos': 0, 'ada_Scaler': 'stand', 'ada_ne': 596, 'ada_lr': 0.9955140044224495, 'et_Scaler': 'log', 'et_max_depth': 18, 'et_ne': 543, 'rf_Scaler': 'log', 'rf_max_depth': 13, 'rf_ne': 832}. Best is trial#91 with value: 3.302161111165035.\n",
            "[I 2020-07-08 13:47:04,019] Finished trial#243 with value: 3.3514973231181875 with parameters: {'combos': 0, 'ada_Scaler': 'stand', 'ada_ne': 562, 'ada_lr': 0.9717789430000051, 'et_Scaler': 'log', 'et_max_depth': 17, 'et_ne': 557, 'rf_Scaler': 'log', 'rf_max_depth': 13, 'rf_ne': 857}. Best is trial#91 with value: 3.302161111165035.\n",
            "[I 2020-07-08 13:47:07,343] Setting status of trial#244 as TrialState.PRUNED. Trial was pruned at iteration 11.\n",
            "[I 2020-07-08 13:47:12,430] Finished trial#245 with value: 3.310561292609341 with parameters: {'combos': 0, 'ada_Scaler': 'stand', 'ada_ne': 914, 'ada_lr': 0.9489339551996765, 'et_Scaler': 'log', 'et_max_depth': 18, 'et_ne': 514, 'rf_Scaler': 'log', 'rf_max_depth': 12, 'rf_ne': 837}. Best is trial#91 with value: 3.302161111165035.\n",
            "[I 2020-07-08 13:47:17,554] Finished trial#246 with value: 3.3257749395254605 with parameters: {'combos': 0, 'ada_Scaler': 'stand', 'ada_ne': 973, 'ada_lr': 0.9479836900547018, 'et_Scaler': 'log', 'et_max_depth': 18, 'et_ne': 529, 'rf_Scaler': 'log', 'rf_max_depth': 12, 'rf_ne': 833}. Best is trial#91 with value: 3.302161111165035.\n",
            "[I 2020-07-08 13:47:22,633] Finished trial#247 with value: 3.3207512405575503 with parameters: {'combos': 0, 'ada_Scaler': 'stand', 'ada_ne': 960, 'ada_lr': 0.9474418480982537, 'et_Scaler': 'log', 'et_max_depth': 17, 'et_ne': 531, 'rf_Scaler': 'log', 'rf_max_depth': 12, 'rf_ne': 829}. Best is trial#91 with value: 3.302161111165035.\n",
            "[I 2020-07-08 13:47:27,648] Finished trial#248 with value: 3.3384826956905536 with parameters: {'combos': 0, 'ada_Scaler': 'stand', 'ada_ne': 934, 'ada_lr': 0.9514772268031446, 'et_Scaler': 'log', 'et_max_depth': 17, 'et_ne': 530, 'rf_Scaler': 'log', 'rf_max_depth': 12, 'rf_ne': 836}. Best is trial#91 with value: 3.302161111165035.\n",
            "[I 2020-07-08 13:47:32,793] Finished trial#249 with value: 3.323022953992636 with parameters: {'combos': 0, 'ada_Scaler': 'stand', 'ada_ne': 992, 'ada_lr': 0.9135477588768863, 'et_Scaler': 'log', 'et_max_depth': 17, 'et_ne': 516, 'rf_Scaler': 'log', 'rf_max_depth': 12, 'rf_ne': 816}. Best is trial#91 with value: 3.302161111165035.\n",
            "[I 2020-07-08 13:47:37,969] Finished trial#250 with value: 3.4040174881122476 with parameters: {'combos': 0, 'ada_Scaler': 'stand', 'ada_ne': 976, 'ada_lr': 0.9939989111819657, 'et_Scaler': 'log', 'et_max_depth': 17, 'et_ne': 565, 'rf_Scaler': 'stand', 'rf_max_depth': 12, 'rf_ne': 817}. Best is trial#91 with value: 3.302161111165035.\n",
            "[I 2020-07-08 13:47:43,028] Finished trial#251 with value: 3.3556294404995763 with parameters: {'combos': 0, 'ada_Scaler': 'stand', 'ada_ne': 963, 'ada_lr': 0.8576195530171578, 'et_Scaler': 'log', 'et_max_depth': 16, 'et_ne': 513, 'rf_Scaler': 'log', 'rf_max_depth': 12, 'rf_ne': 832}. Best is trial#91 with value: 3.302161111165035.\n",
            "[I 2020-07-08 13:47:47,984] Finished trial#252 with value: 3.372396752648702 with parameters: {'combos': 0, 'ada_Scaler': 'minmax', 'ada_ne': 916, 'ada_lr': 0.9471173899761632, 'et_Scaler': 'log', 'et_max_depth': 17, 'et_ne': 543, 'rf_Scaler': 'log', 'rf_max_depth': 12, 'rf_ne': 805}. Best is trial#91 with value: 3.302161111165035.\n",
            "[I 2020-07-08 13:47:53,122] Finished trial#253 with value: 3.3615931317792382 with parameters: {'combos': 0, 'ada_Scaler': 'stand', 'ada_ne': 960, 'ada_lr': 0.9060583594051428, 'et_Scaler': 'log', 'et_max_depth': 17, 'et_ne': 521, 'rf_Scaler': 'log', 'rf_max_depth': 12, 'rf_ne': 847}. Best is trial#91 with value: 3.302161111165035.\n",
            "[I 2020-07-08 13:47:58,201] Finished trial#254 with value: 3.33728077716158 with parameters: {'combos': 0, 'ada_Scaler': 'stand', 'ada_ne': 999, 'ada_lr': 0.8852328247230905, 'et_Scaler': 'log', 'et_max_depth': 16, 'et_ne': 511, 'rf_Scaler': 'log', 'rf_max_depth': 12, 'rf_ne': 817}. Best is trial#91 with value: 3.302161111165035.\n",
            "[I 2020-07-08 13:48:03,227] Finished trial#255 with value: 3.3384271924256383 with parameters: {'combos': 0, 'ada_Scaler': 'stand', 'ada_ne': 905, 'ada_lr': 0.8467136309011412, 'et_Scaler': 'log', 'et_max_depth': 17, 'et_ne': 474, 'rf_Scaler': 'log', 'rf_max_depth': 17, 'rf_ne': 857}. Best is trial#91 with value: 3.302161111165035.\n",
            "[I 2020-07-08 13:48:08,405] Finished trial#256 with value: 3.334412929397676 with parameters: {'combos': 0, 'ada_Scaler': 'stand', 'ada_ne': 989, 'ada_lr': 0.9844811097273758, 'et_Scaler': 'log', 'et_max_depth': 18, 'et_ne': 548, 'rf_Scaler': 'log', 'rf_max_depth': 12, 'rf_ne': 837}. Best is trial#91 with value: 3.302161111165035.\n",
            "[I 2020-07-08 13:48:13,553] Finished trial#257 with value: 3.3173730680230586 with parameters: {'combos': 0, 'ada_Scaler': 'stand', 'ada_ne': 981, 'ada_lr': 0.9351607783390975, 'et_Scaler': 'stand', 'et_max_depth': 18, 'et_ne': 576, 'rf_Scaler': 'log', 'rf_max_depth': 18, 'rf_ne': 799}. Best is trial#91 with value: 3.302161111165035.\n",
            "[I 2020-07-08 13:48:18,759] Finished trial#258 with value: 3.332985828497645 with parameters: {'combos': 0, 'ada_Scaler': 'stand', 'ada_ne': 961, 'ada_lr': 0.9936220236557088, 'et_Scaler': 'stand', 'et_max_depth': 17, 'et_ne': 590, 'rf_Scaler': 'log', 'rf_max_depth': 17, 'rf_ne': 813}. Best is trial#91 with value: 3.302161111165035.\n",
            "[I 2020-07-08 13:48:24,016] Finished trial#259 with value: 3.3355786645273375 with parameters: {'combos': 0, 'ada_Scaler': 'stand', 'ada_ne': 941, 'ada_lr': 0.9450266738896812, 'et_Scaler': 'stand', 'et_max_depth': 18, 'et_ne': 568, 'rf_Scaler': 'log', 'rf_max_depth': 19, 'rf_ne': 831}. Best is trial#91 with value: 3.302161111165035.\n",
            "[I 2020-07-08 13:48:29,172] Finished trial#260 with value: 3.34000899434466 with parameters: {'combos': 0, 'ada_Scaler': 'stand', 'ada_ne': 973, 'ada_lr': 0.8702677201013853, 'et_Scaler': 'stand', 'et_max_depth': 17, 'et_ne': 532, 'rf_Scaler': 'log', 'rf_max_depth': 18, 'rf_ne': 794}. Best is trial#91 with value: 3.302161111165035.\n",
            "[I 2020-07-08 13:48:34,421] Finished trial#261 with value: 3.3319739141729405 with parameters: {'combos': 0, 'ada_Scaler': 'stand', 'ada_ne': 988, 'ada_lr': 0.9969071144303188, 'et_Scaler': 'stand', 'et_max_depth': 16, 'et_ne': 487, 'rf_Scaler': 'log', 'rf_max_depth': 19, 'rf_ne': 861}. Best is trial#91 with value: 3.302161111165035.\n"
          ],
          "name": "stderr"
        },
        {
          "output_type": "stream",
          "text": [
            "[0]\tvalidation-rmse:8.5672\n",
            "[1]\tvalidation-rmse:7.6582\n",
            "[2]\tvalidation-rmse:7.23429\n",
            "[3]\tvalidation-rmse:6.89841\n",
            "[4]\tvalidation-rmse:6.60995\n",
            "[5]\tvalidation-rmse:6.36597\n",
            "[6]\tvalidation-rmse:6.16132\n",
            "[7]\tvalidation-rmse:5.99169\n",
            "[8]\tvalidation-rmse:5.85233\n",
            "[9]\tvalidation-rmse:5.73946\n"
          ],
          "name": "stdout"
        },
        {
          "output_type": "stream",
          "text": [
            "[I 2020-07-08 13:48:36,105] Finished trial#262 with value: 3.4694566035705052 with parameters: {'combos': 1, 'ada_Scaler': 'stand', 'ada_ne': 295, 'ada_lr': 0.8049690230032158, 'et_Scaler': 'stand', 'et_max_depth': 18, 'et_ne': 552, 'xgb_Scaler': 'minmax', 'booster': 'gblinear', 'lambda': 0.0004992500469744352, 'alpha': 0.042968177567673085}. Best is trial#91 with value: 3.302161111165035.\n",
            "[I 2020-07-08 13:48:41,353] Finished trial#263 with value: 3.3241127735057012 with parameters: {'combos': 0, 'ada_Scaler': 'stand', 'ada_ne': 995, 'ada_lr': 0.9154960752392538, 'et_Scaler': 'log', 'et_max_depth': 17, 'et_ne': 525, 'rf_Scaler': 'log', 'rf_max_depth': 18, 'rf_ne': 848}. Best is trial#91 with value: 3.302161111165035.\n",
            "[I 2020-07-08 13:48:45,606] Finished trial#264 with value: 3.3410686061816786 with parameters: {'combos': 0, 'ada_Scaler': 'stand', 'ada_ne': 955, 'ada_lr': 0.8997754344446038, 'et_Scaler': 'log', 'et_max_depth': 17, 'et_ne': 520, 'rf_Scaler': 'log', 'rf_max_depth': 18, 'rf_ne': 536}. Best is trial#91 with value: 3.302161111165035.\n",
            "[I 2020-07-08 13:48:50,834] Finished trial#265 with value: 3.3265982060906403 with parameters: {'combos': 0, 'ada_Scaler': 'stand', 'ada_ne': 997, 'ada_lr': 0.9415275802486425, 'et_Scaler': 'log', 'et_max_depth': 17, 'et_ne': 575, 'rf_Scaler': 'log', 'rf_max_depth': 18, 'rf_ne': 817}. Best is trial#91 with value: 3.302161111165035.\n",
            "[I 2020-07-08 13:48:55,989] Finished trial#266 with value: 3.336291330781524 with parameters: {'combos': 0, 'ada_Scaler': 'stand', 'ada_ne': 997, 'ada_lr': 0.9994218310448897, 'et_Scaler': 'stand', 'et_max_depth': 16, 'et_ne': 559, 'rf_Scaler': 'log', 'rf_max_depth': 17, 'rf_ne': 814}. Best is trial#91 with value: 3.302161111165035.\n",
            "[I 2020-07-08 13:49:01,173] Finished trial#267 with value: 3.32719564694855 with parameters: {'combos': 0, 'ada_Scaler': 'stand', 'ada_ne': 999, 'ada_lr': 0.9386272790505974, 'et_Scaler': 'log', 'et_max_depth': 17, 'et_ne': 595, 'rf_Scaler': 'log', 'rf_max_depth': 18, 'rf_ne': 792}. Best is trial#91 with value: 3.302161111165035.\n",
            "[I 2020-07-08 13:49:06,435] Finished trial#268 with value: 3.3239855196611674 with parameters: {'combos': 0, 'ada_Scaler': 'stand', 'ada_ne': 972, 'ada_lr': 0.8458912560672526, 'et_Scaler': 'log', 'et_max_depth': 16, 'et_ne': 579, 'rf_Scaler': 'log', 'rf_max_depth': 19, 'rf_ne': 837}. Best is trial#91 with value: 3.302161111165035.\n",
            "[I 2020-07-08 13:49:11,717] Finished trial#269 with value: 3.358385499627644 with parameters: {'combos': 0, 'ada_Scaler': 'stand', 'ada_ne': 979, 'ada_lr': 0.8408566699581761, 'et_Scaler': 'log', 'et_max_depth': 16, 'et_ne': 578, 'rf_Scaler': 'log', 'rf_max_depth': 18, 'rf_ne': 838}. Best is trial#91 with value: 3.302161111165035.\n",
            "[I 2020-07-08 13:49:16,991] Finished trial#270 with value: 3.305778659978831 with parameters: {'combos': 0, 'ada_Scaler': 'stand', 'ada_ne': 928, 'ada_lr': 0.8882510989946447, 'et_Scaler': 'log', 'et_max_depth': 17, 'et_ne': 574, 'rf_Scaler': 'log', 'rf_max_depth': 19, 'rf_ne': 866}. Best is trial#91 with value: 3.302161111165035.\n",
            "[I 2020-07-08 13:49:21,093] Setting status of trial#271 as TrialState.PRUNED. Trial was pruned at iteration 11.\n"
          ],
          "name": "stderr"
        },
        {
          "output_type": "stream",
          "text": [
            "[0]\tvalidation-rmse:23.9743\n",
            "[1]\tvalidation-rmse:23.9678\n",
            "[2]\tvalidation-rmse:23.9614\n",
            "[3]\tvalidation-rmse:23.955\n",
            "[4]\tvalidation-rmse:23.9485\n",
            "[5]\tvalidation-rmse:23.9421\n",
            "[6]\tvalidation-rmse:23.9357\n",
            "[7]\tvalidation-rmse:23.9293\n",
            "[8]\tvalidation-rmse:23.9293\n",
            "[9]\tvalidation-rmse:23.9164\n"
          ],
          "name": "stdout"
        },
        {
          "output_type": "stream",
          "text": [
            "[I 2020-07-08 13:49:23,914] Finished trial#272 with value: 8.784472230187559 with parameters: {'combos': 1, 'ada_Scaler': 'stand', 'ada_ne': 934, 'ada_lr': 0.8117600121048703, 'et_Scaler': 'minmax', 'et_max_depth': 17, 'et_ne': 540, 'xgb_Scaler': 'log', 'booster': 'dart', 'lambda': 3.7046739624385336e-06, 'alpha': 0.00054728438865267, 'max_depth': 7, 'eta': 0.0002590116250845395, 'gamma': 0.5195181366656343, 'grow_policy': 'lossguide', 'sample_type': 'weighted', 'normalize_type': 'forest', 'rate_drop': 0.014947566760833508, 'skip_drop': 3.326338606980862e-06}. Best is trial#91 with value: 3.302161111165035.\n",
            "[I 2020-07-08 13:49:28,832] Finished trial#273 with value: 3.3445728152020555 with parameters: {'combos': 0, 'ada_Scaler': 'stand', 'ada_ne': 945, 'ada_lr': 0.8885440621525978, 'et_Scaler': 'log', 'et_max_depth': 18, 'et_ne': 303, 'rf_Scaler': 'log', 'rf_max_depth': 19, 'rf_ne': 896}. Best is trial#91 with value: 3.302161111165035.\n",
            "[I 2020-07-08 13:49:34,189] Finished trial#274 with value: 3.3661621363659515 with parameters: {'combos': 0, 'ada_Scaler': 'stand', 'ada_ne': 976, 'ada_lr': 0.8275257085114258, 'et_Scaler': 'log', 'et_max_depth': 17, 'et_ne': 566, 'rf_Scaler': 'log', 'rf_max_depth': 19, 'rf_ne': 868}. Best is trial#91 with value: 3.302161111165035.\n",
            "[I 2020-07-08 13:49:39,788] Finished trial#275 with value: 3.319870032743633 with parameters: {'combos': 0, 'ada_Scaler': 'stand', 'ada_ne': 931, 'ada_lr': 0.9961505547985412, 'et_Scaler': 'log', 'et_max_depth': 18, 'et_ne': 753, 'rf_Scaler': 'log', 'rf_max_depth': 18, 'rf_ne': 846}. Best is trial#91 with value: 3.302161111165035.\n",
            "[I 2020-07-08 13:49:45,290] Finished trial#276 with value: 3.34676721497291 with parameters: {'combos': 0, 'ada_Scaler': 'stand', 'ada_ne': 916, 'ada_lr': 0.9922806370121577, 'et_Scaler': 'log', 'et_max_depth': 17, 'et_ne': 753, 'rf_Scaler': 'minmax', 'rf_max_depth': 19, 'rf_ne': 839}. Best is trial#91 with value: 3.302161111165035.\n",
            "[I 2020-07-08 13:49:50,854] Finished trial#277 with value: 3.3456400606736545 with parameters: {'combos': 0, 'ada_Scaler': 'stand', 'ada_ne': 935, 'ada_lr': 0.9323008141567657, 'et_Scaler': 'log', 'et_max_depth': 16, 'et_ne': 790, 'rf_Scaler': 'log', 'rf_max_depth': 19, 'rf_ne': 828}. Best is trial#91 with value: 3.302161111165035.\n",
            "[I 2020-07-08 13:49:56,018] Finished trial#278 with value: 3.350191325863096 with parameters: {'combos': 0, 'ada_Scaler': 'stand', 'ada_ne': 959, 'ada_lr': 0.8664410518726227, 'et_Scaler': 'log', 'et_max_depth': 18, 'et_ne': 778, 'rf_Scaler': 'log', 'rf_max_depth': 7, 'rf_ne': 866}. Best is trial#91 with value: 3.302161111165035.\n"
          ],
          "name": "stderr"
        },
        {
          "output_type": "stream",
          "text": [
            "[0]\tvalidation-rmse:18.355\n",
            "[1]\tvalidation-rmse:14.2001\n",
            "[2]\tvalidation-rmse:11.1617\n",
            "[3]\tvalidation-rmse:9.01701\n",
            "[4]\tvalidation-rmse:7.546\n",
            "[5]\tvalidation-rmse:6.6257\n",
            "[6]\tvalidation-rmse:6.03861\n",
            "[7]\tvalidation-rmse:5.72671\n",
            "[8]\tvalidation-rmse:5.59591\n",
            "[9]\tvalidation-rmse:5.55926\n"
          ],
          "name": "stdout"
        },
        {
          "output_type": "stream",
          "text": [
            "[I 2020-07-08 13:49:58,537] Finished trial#279 with value: 3.659393948234449 with parameters: {'combos': 1, 'ada_Scaler': 'stand', 'ada_ne': 897, 'ada_lr': 0.9993841870867969, 'et_Scaler': 'log', 'et_max_depth': 7, 'et_ne': 720, 'xgb_Scaler': 'stand', 'booster': 'gbtree', 'lambda': 0.004319157535799213, 'alpha': 8.104637186273122e-05, 'max_depth': 9, 'eta': 0.22921782147931039, 'gamma': 5.897156158034364e-06, 'grow_policy': 'depthwise'}. Best is trial#91 with value: 3.302161111165035.\n",
            "[I 2020-07-08 13:50:04,256] Finished trial#280 with value: 3.3393308481928026 with parameters: {'combos': 0, 'ada_Scaler': 'stand', 'ada_ne': 951, 'ada_lr': 0.9292767130713584, 'et_Scaler': 'log', 'et_max_depth': 17, 'et_ne': 754, 'rf_Scaler': 'log', 'rf_max_depth': 18, 'rf_ne': 897}. Best is trial#91 with value: 3.302161111165035.\n",
            "[I 2020-07-08 13:50:08,322] Finished trial#281 with value: 3.320246497069168 with parameters: {'combos': 0, 'ada_Scaler': 'stand', 'ada_ne': 251, 'ada_lr': 0.7863484805219153, 'et_Scaler': 'log', 'et_max_depth': 18, 'et_ne': 531, 'rf_Scaler': 'log', 'rf_max_depth': 20, 'rf_ne': 847}. Best is trial#91 with value: 3.302161111165035.\n",
            "[I 2020-07-08 13:50:12,326] Finished trial#282 with value: 3.4568344985106787 with parameters: {'combos': 0, 'ada_Scaler': 'minmax', 'ada_ne': 201, 'ada_lr': 0.7855722233075123, 'et_Scaler': 'log', 'et_max_depth': 18, 'et_ne': 551, 'rf_Scaler': 'log', 'rf_max_depth': 20, 'rf_ne': 852}. Best is trial#91 with value: 3.302161111165035.\n",
            "[I 2020-07-08 13:50:16,147] Finished trial#283 with value: 3.409891109589135 with parameters: {'combos': 0, 'ada_Scaler': 'stand', 'ada_ne': 284, 'ada_lr': 0.7534019043236122, 'et_Scaler': 'log', 'et_max_depth': 17, 'et_ne': 337, 'rf_Scaler': 'log', 'rf_max_depth': 20, 'rf_ne': 874}. Best is trial#91 with value: 3.302161111165035.\n",
            "[I 2020-07-08 13:50:21,418] Finished trial#284 with value: 3.4202056410509454 with parameters: {'combos': 0, 'ada_Scaler': 'stand', 'ada_ne': 862, 'ada_lr': 0.8313383772576624, 'et_Scaler': 'log', 'et_max_depth': 18, 'et_ne': 735, 'rf_Scaler': 'stand', 'rf_max_depth': 20, 'rf_ne': 803}. Best is trial#91 with value: 3.302161111165035.\n",
            "[I 2020-07-08 13:50:25,580] Finished trial#285 with value: 3.371016954069494 with parameters: {'combos': 0, 'ada_Scaler': 'stand', 'ada_ne': 262, 'ada_lr': 0.8789940384716214, 'et_Scaler': 'log', 'et_max_depth': 17, 'et_ne': 518, 'rf_Scaler': 'log', 'rf_max_depth': 18, 'rf_ne': 886}. Best is trial#91 with value: 3.302161111165035.\n",
            "[I 2020-07-08 13:50:29,682] Finished trial#286 with value: 3.344576626870361 with parameters: {'combos': 0, 'ada_Scaler': 'stand', 'ada_ne': 258, 'ada_lr': 0.789323462207165, 'et_Scaler': 'log', 'et_max_depth': 16, 'et_ne': 581, 'rf_Scaler': 'log', 'rf_max_depth': 19, 'rf_ne': 845}. Best is trial#91 with value: 3.302161111165035.\n",
            "[I 2020-07-08 13:50:34,009] Finished trial#287 with value: 3.3756193120670828 with parameters: {'combos': 0, 'ada_Scaler': 'stand', 'ada_ne': 243, 'ada_lr': 0.830398307698068, 'et_Scaler': 'log', 'et_max_depth': 18, 'et_ne': 740, 'rf_Scaler': 'log', 'rf_max_depth': 17, 'rf_ne': 824}. Best is trial#91 with value: 3.302161111165035.\n",
            "[I 2020-07-08 13:50:39,545] Finished trial#288 with value: 3.3819963811756444 with parameters: {'combos': 0, 'ada_Scaler': 'stand', 'ada_ne': 937, 'ada_lr': 0.7508891573734191, 'et_Scaler': 'stand', 'et_max_depth': 17, 'et_ne': 720, 'rf_Scaler': 'log', 'rf_max_depth': 18, 'rf_ne': 857}. Best is trial#91 with value: 3.302161111165035.\n",
            "[I 2020-07-08 13:50:44,940] Finished trial#289 with value: 3.320211332373189 with parameters: {'combos': 0, 'ada_Scaler': 'stand', 'ada_ne': 907, 'ada_lr': 0.9025177423781728, 'et_Scaler': 'log', 'et_max_depth': 18, 'et_ne': 767, 'rf_Scaler': 'log', 'rf_max_depth': 19, 'rf_ne': 804}. Best is trial#91 with value: 3.302161111165035.\n",
            "[I 2020-07-08 13:50:50,081] Finished trial#290 with value: 3.3273677333030567 with parameters: {'combos': 0, 'ada_Scaler': 'stand', 'ada_ne': 910, 'ada_lr': 0.9995461543998755, 'et_Scaler': 'log', 'et_max_depth': 18, 'et_ne': 605, 'rf_Scaler': 'log', 'rf_max_depth': 19, 'rf_ne': 807}. Best is trial#91 with value: 3.302161111165035.\n",
            "[I 2020-07-08 13:50:54,362] Finished trial#291 with value: 3.3443594403305266 with parameters: {'combos': 0, 'ada_Scaler': 'stand', 'ada_ne': 236, 'ada_lr': 0.90585149052775, 'et_Scaler': 'log', 'et_max_depth': 18, 'et_ne': 777, 'rf_Scaler': 'log', 'rf_max_depth': 20, 'rf_ne': 791}. Best is trial#91 with value: 3.302161111165035.\n"
          ],
          "name": "stderr"
        },
        {
          "output_type": "stream",
          "text": [
            "[0]\tvalidation-rmse:10.5227\n",
            "[1]\tvalidation-rmse:9.457\n",
            "[2]\tvalidation-rmse:9.11528\n",
            "[3]\tvalidation-rmse:8.90454\n",
            "[4]\tvalidation-rmse:8.76165\n",
            "[5]\tvalidation-rmse:8.66241\n",
            "[6]\tvalidation-rmse:8.59342\n",
            "[7]\tvalidation-rmse:8.55116\n",
            "[8]\tvalidation-rmse:8.51993\n",
            "[9]\tvalidation-rmse:8.48894\n"
          ],
          "name": "stdout"
        },
        {
          "output_type": "stream",
          "text": [
            "[I 2020-07-08 13:50:56,526] Finished trial#292 with value: 4.14353640847359 with parameters: {'combos': 1, 'ada_Scaler': 'stand', 'ada_ne': 911, 'ada_lr': 0.937457329958485, 'et_Scaler': 'log', 'et_max_depth': 17, 'et_ne': 263, 'xgb_Scaler': 'minmax', 'booster': 'gblinear', 'lambda': 0.9208154032962038, 'alpha': 0.4734097985663887}. Best is trial#91 with value: 3.302161111165035.\n",
            "[I 2020-07-08 13:51:00,355] Finished trial#293 with value: 3.3529631178542174 with parameters: {'combos': 0, 'ada_Scaler': 'stand', 'ada_ne': 361, 'ada_lr': 0.8729408033726814, 'et_Scaler': 'log', 'et_max_depth': 18, 'et_ne': 365, 'rf_Scaler': 'log', 'rf_max_depth': 19, 'rf_ne': 819}. Best is trial#91 with value: 3.302161111165035.\n",
            "[I 2020-07-08 13:51:05,591] Finished trial#294 with value: 3.3756058536215736 with parameters: {'combos': 0, 'ada_Scaler': 'stand', 'ada_ne': 872, 'ada_lr': 0.9973558501325939, 'et_Scaler': 'log', 'et_max_depth': 15, 'et_ne': 555, 'rf_Scaler': 'log', 'rf_max_depth': 17, 'rf_ne': 882}. Best is trial#91 with value: 3.302161111165035.\n",
            "[I 2020-07-08 13:51:10,039] Finished trial#295 with value: 3.3319806790073057 with parameters: {'combos': 0, 'ada_Scaler': 'stand', 'ada_ne': 313, 'ada_lr': 0.9074038475939027, 'et_Scaler': 'log', 'et_max_depth': 17, 'et_ne': 507, 'rf_Scaler': 'log', 'rf_max_depth': 18, 'rf_ne': 962}. Best is trial#91 with value: 3.302161111165035.\n",
            "[I 2020-07-08 13:51:15,357] Finished trial#296 with value: 3.3540690267789706 with parameters: {'combos': 0, 'ada_Scaler': 'stand', 'ada_ne': 944, 'ada_lr': 0.9530439517134245, 'et_Scaler': 'log', 'et_max_depth': 16, 'et_ne': 530, 'rf_Scaler': 'log', 'rf_max_depth': 19, 'rf_ne': 902}. Best is trial#91 with value: 3.302161111165035.\n",
            "[I 2020-07-08 13:51:19,238] Finished trial#297 with value: 3.399926123679259 with parameters: {'combos': 0, 'ada_Scaler': 'stand', 'ada_ne': 225, 'ada_lr': 0.8559598125092333, 'et_Scaler': 'log', 'et_max_depth': 18, 'et_ne': 541, 'rf_Scaler': 'log', 'rf_max_depth': 19, 'rf_ne': 801}. Best is trial#91 with value: 3.302161111165035.\n"
          ],
          "name": "stderr"
        },
        {
          "output_type": "stream",
          "text": [
            "[0]\tvalidation-rmse:23.5712\n",
            "[1]\tvalidation-rmse:23.1687\n",
            "[2]\tvalidation-rmse:22.7735\n",
            "[3]\tvalidation-rmse:22.386\n",
            "[4]\tvalidation-rmse:22.0051\n",
            "[5]\tvalidation-rmse:21.6305\n",
            "[6]\tvalidation-rmse:21.2654\n",
            "[7]\tvalidation-rmse:20.9083\n",
            "[8]\tvalidation-rmse:20.5543\n",
            "[9]\tvalidation-rmse:20.2099\n"
          ],
          "name": "stdout"
        },
        {
          "output_type": "stream",
          "text": [
            "[I 2020-07-08 13:51:20,825] Finished trial#298 with value: 7.190857406962131 with parameters: {'combos': 1, 'ada_Scaler': 'stand', 'ada_ne': 281, 'ada_lr': 0.8113506681456639, 'et_Scaler': 'log', 'et_max_depth': 17, 'et_ne': 504, 'xgb_Scaler': 'log', 'booster': 'dart', 'lambda': 7.026892490736157e-05, 'alpha': 0.12042665267321907, 'max_depth': 6, 'eta': 0.016550967080595832, 'gamma': 7.817090971612503e-07, 'grow_policy': 'lossguide', 'sample_type': 'uniform', 'normalize_type': 'tree', 'rate_drop': 7.10564592815051e-05, 'skip_drop': 0.023408995449986793}. Best is trial#91 with value: 3.302161111165035.\n",
            "[I 2020-07-08 13:51:26,514] Finished trial#299 with value: 3.3257821146270707 with parameters: {'combos': 0, 'ada_Scaler': 'stand', 'ada_ne': 980, 'ada_lr': 0.9048415835300289, 'et_Scaler': 'log', 'et_max_depth': 18, 'et_ne': 802, 'rf_Scaler': 'log', 'rf_max_depth': 18, 'rf_ne': 834}. Best is trial#91 with value: 3.302161111165035.\n",
            "[I 2020-07-08 13:51:31,881] Finished trial#300 with value: 3.3443213074271645 with parameters: {'combos': 0, 'ada_Scaler': 'stand', 'ada_ne': 997, 'ada_lr': 0.9914412201749435, 'et_Scaler': 'log', 'et_max_depth': 17, 'et_ne': 583, 'rf_Scaler': 'log', 'rf_max_depth': 20, 'rf_ne': 859}. Best is trial#91 with value: 3.302161111165035.\n",
            "[I 2020-07-08 13:51:36,752] Finished trial#301 with value: 3.3935423731062677 with parameters: {'combos': 0, 'ada_Scaler': 'stand', 'ada_ne': 930, 'ada_lr': 0.8543572794978556, 'et_Scaler': 'minmax', 'et_max_depth': 18, 'et_ne': 434, 'rf_Scaler': 'log', 'rf_max_depth': 18, 'rf_ne': 812}. Best is trial#91 with value: 3.302161111165035.\n",
            "[I 2020-07-08 13:51:40,331] Finished trial#302 with value: 3.380602073001799 with parameters: {'combos': 0, 'ada_Scaler': 'stand', 'ada_ne': 402, 'ada_lr': 0.9992746316571495, 'et_Scaler': 'log', 'et_max_depth': 10, 'et_ne': 287, 'rf_Scaler': 'log', 'rf_max_depth': 17, 'rf_ne': 785}. Best is trial#91 with value: 3.302161111165035.\n",
            "[I 2020-07-08 13:51:44,782] Finished trial#303 with value: 3.328067242370173 with parameters: {'combos': 0, 'ada_Scaler': 'stand', 'ada_ne': 248, 'ada_lr': 0.7337734554654116, 'et_Scaler': 'log', 'et_max_depth': 18, 'et_ne': 724, 'rf_Scaler': 'log', 'rf_max_depth': 16, 'rf_ne': 873}. Best is trial#91 with value: 3.302161111165035.\n",
            "[I 2020-07-08 13:51:49,135] Finished trial#304 with value: 3.3276820697093963 with parameters: {'combos': 0, 'ada_Scaler': 'stand', 'ada_ne': 202, 'ada_lr': 0.9407117319025438, 'et_Scaler': 'log', 'et_max_depth': 17, 'et_ne': 767, 'rf_Scaler': 'log', 'rf_max_depth': 20, 'rf_ne': 841}. Best is trial#91 with value: 3.302161111165035.\n",
            "[I 2020-07-08 13:51:54,280] Finished trial#305 with value: 3.327400570402575 with parameters: {'combos': 0, 'ada_Scaler': 'stand', 'ada_ne': 963, 'ada_lr': 0.7742647086415654, 'et_Scaler': 'stand', 'et_max_depth': 18, 'et_ne': 326, 'rf_Scaler': 'log', 'rf_max_depth': 17, 'rf_ne': 944}. Best is trial#91 with value: 3.302161111165035.\n"
          ],
          "name": "stderr"
        },
        {
          "output_type": "stream",
          "text": [
            "[0]\tvalidation-rmse:23.9807\n",
            "[1]\tvalidation-rmse:23.9807\n",
            "[2]\tvalidation-rmse:23.9807\n",
            "[3]\tvalidation-rmse:23.9806\n",
            "[4]\tvalidation-rmse:23.9806\n",
            "[5]\tvalidation-rmse:23.9806\n",
            "[6]\tvalidation-rmse:23.9806\n",
            "[7]\tvalidation-rmse:23.9806\n",
            "[8]\tvalidation-rmse:23.9806\n",
            "[9]\tvalidation-rmse:23.9806\n"
          ],
          "name": "stdout"
        },
        {
          "output_type": "stream",
          "text": [
            "[I 2020-07-08 13:51:58,416] Finished trial#306 with value: 8.368856344093237 with parameters: {'combos': 3, 'ada_Scaler': 'stand', 'ada_ne': 892, 'ada_lr': 0.8897490292094654, 'rf_Scaler': 'log', 'rf_max_depth': 19, 'rf_ne': 829, 'xgb_Scaler': 'stand', 'booster': 'gbtree', 'lambda': 0.047794303645398196, 'alpha': 2.0708260492386406e-06, 'max_depth': 3, 'eta': 6.309904353645345e-07, 'gamma': 0.0019681276314748412, 'grow_policy': 'depthwise'}. Best is trial#91 with value: 3.302161111165035.\n",
            "[I 2020-07-08 13:52:03,688] Finished trial#307 with value: 3.3519091867128084 with parameters: {'combos': 0, 'ada_Scaler': 'stand', 'ada_ne': 920, 'ada_lr': 0.9989686274784746, 'et_Scaler': 'log', 'et_max_depth': 16, 'et_ne': 518, 'rf_Scaler': 'log', 'rf_max_depth': 17, 'rf_ne': 904}. Best is trial#91 with value: 3.302161111165035.\n",
            "[I 2020-07-08 13:52:08,793] Finished trial#308 with value: 3.3299072079797 with parameters: {'combos': 0, 'ada_Scaler': 'stand', 'ada_ne': 960, 'ada_lr': 0.8268933301462255, 'et_Scaler': 'log', 'et_max_depth': 17, 'et_ne': 464, 'rf_Scaler': 'log', 'rf_max_depth': 18, 'rf_ne': 852}. Best is trial#91 with value: 3.302161111165035.\n",
            "[I 2020-07-08 13:52:12,610] Finished trial#309 with value: 3.373980933753638 with parameters: {'combos': 0, 'ada_Scaler': 'stand', 'ada_ne': 382, 'ada_lr': 0.7358629693661013, 'et_Scaler': 'log', 'et_max_depth': 18, 'et_ne': 387, 'rf_Scaler': 'minmax', 'rf_max_depth': 12, 'rf_ne': 815}. Best is trial#91 with value: 3.302161111165035.\n",
            "[I 2020-07-08 13:52:16,841] Finished trial#310 with value: 3.3045008527929465 with parameters: {'combos': 0, 'ada_Scaler': 'stand', 'ada_ne': 299, 'ada_lr': 0.9347644605193071, 'et_Scaler': 'log', 'et_max_depth': 17, 'et_ne': 555, 'rf_Scaler': 'log', 'rf_max_depth': 19, 'rf_ne': 872}. Best is trial#91 with value: 3.302161111165035.\n",
            "[I 2020-07-08 13:52:21,224] Finished trial#311 with value: 3.3738658836977673 with parameters: {'combos': 0, 'ada_Scaler': 'minmax', 'ada_ne': 311, 'ada_lr': 0.9534527648783112, 'et_Scaler': 'log', 'et_max_depth': 18, 'et_ne': 563, 'rf_Scaler': 'log', 'rf_max_depth': 19, 'rf_ne': 919}. Best is trial#91 with value: 3.302161111165035.\n"
          ],
          "name": "stderr"
        },
        {
          "output_type": "stream",
          "text": [
            "[0]\tvalidation-rmse:8.60582\n",
            "[1]\tvalidation-rmse:7.65165\n",
            "[2]\tvalidation-rmse:7.22812\n",
            "[3]\tvalidation-rmse:6.92134\n",
            "[4]\tvalidation-rmse:6.65979\n",
            "[5]\tvalidation-rmse:6.435\n",
            "[6]\tvalidation-rmse:6.24294\n",
            "[7]\tvalidation-rmse:6.07397\n",
            "[8]\tvalidation-rmse:5.94196\n",
            "[9]\tvalidation-rmse:5.83055\n"
          ],
          "name": "stdout"
        },
        {
          "output_type": "stream",
          "text": [
            "[I 2020-07-08 13:52:22,970] Finished trial#312 with value: 3.4360898900730676 with parameters: {'combos': 1, 'ada_Scaler': 'stand', 'ada_ne': 297, 'ada_lr': 0.9999598256367112, 'et_Scaler': 'log', 'et_max_depth': 19, 'et_ne': 588, 'xgb_Scaler': 'minmax', 'booster': 'gblinear', 'lambda': 2.608466305344267e-07, 'alpha': 3.982511788876035e-05}. Best is trial#91 with value: 3.302161111165035.\n",
            "[I 2020-07-08 13:52:27,562] Finished trial#313 with value: 3.317614787985889 with parameters: {'combos': 0, 'ada_Scaler': 'stand', 'ada_ne': 289, 'ada_lr': 0.8509786801724867, 'et_Scaler': 'log', 'et_max_depth': 18, 'et_ne': 743, 'rf_Scaler': 'log', 'rf_max_depth': 19, 'rf_ne': 883}. Best is trial#91 with value: 3.302161111165035.\n",
            "[I 2020-07-08 13:52:32,107] Finished trial#314 with value: 3.364397196353474 with parameters: {'combos': 0, 'ada_Scaler': 'stand', 'ada_ne': 283, 'ada_lr': 0.8035954273660197, 'et_Scaler': 'log', 'et_max_depth': 18, 'et_ne': 746, 'rf_Scaler': 'log', 'rf_max_depth': 16, 'rf_ne': 879}. Best is trial#91 with value: 3.302161111165035.\n",
            "[I 2020-07-08 13:52:36,722] Finished trial#315 with value: 3.3501675055284497 with parameters: {'combos': 0, 'ada_Scaler': 'stand', 'ada_ne': 273, 'ada_lr': 0.8903151756937602, 'et_Scaler': 'log', 'et_max_depth': 19, 'et_ne': 713, 'rf_Scaler': 'log', 'rf_max_depth': 20, 'rf_ne': 911}. Best is trial#91 with value: 3.302161111165035.\n",
            "[I 2020-07-08 13:52:41,515] Finished trial#316 with value: 3.4006400671806154 with parameters: {'combos': 0, 'ada_Scaler': 'stand', 'ada_ne': 338, 'ada_lr': 0.6978640211418975, 'et_Scaler': 'log', 'et_max_depth': 18, 'et_ne': 738, 'rf_Scaler': 'stand', 'rf_max_depth': 14, 'rf_ne': 890}. Best is trial#91 with value: 3.302161111165035.\n",
            "[I 2020-07-08 13:52:45,978] Finished trial#317 with value: 3.393332639919192 with parameters: {'combos': 0, 'ada_Scaler': 'stand', 'ada_ne': 259, 'ada_lr': 0.9356480083144498, 'et_Scaler': 'log', 'et_max_depth': 19, 'et_ne': 766, 'rf_Scaler': 'log', 'rf_max_depth': 12, 'rf_ne': 870}. Best is trial#91 with value: 3.302161111165035.\n",
            "[I 2020-07-08 13:52:49,785] Finished trial#318 with value: 3.907554883025783 with parameters: {'combos': 0, 'ada_Scaler': 'stand', 'ada_ne': 303, 'ada_lr': 0.8558717998033433, 'et_Scaler': 'log', 'et_max_depth': 1, 'et_ne': 794, 'rf_Scaler': 'log', 'rf_max_depth': 13, 'rf_ne': 866}. Best is trial#91 with value: 3.302161111165035.\n",
            "[I 2020-07-08 13:52:54,373] Finished trial#319 with value: 3.4142405334273547 with parameters: {'combos': 0, 'ada_Scaler': 'stand', 'ada_ne': 353, 'ada_lr': 0.7870037721376928, 'et_Scaler': 'stand', 'et_max_depth': 18, 'et_ne': 715, 'rf_Scaler': 'log', 'rf_max_depth': 12, 'rf_ne': 897}. Best is trial#91 with value: 3.302161111165035.\n",
            "[I 2020-07-08 13:52:59,136] Finished trial#320 with value: 3.394301846798881 with parameters: {'combos': 0, 'ada_Scaler': 'stand', 'ada_ne': 285, 'ada_lr': 0.2665205095460515, 'et_Scaler': 'log', 'et_max_depth': 17, 'et_ne': 763, 'rf_Scaler': 'log', 'rf_max_depth': 19, 'rf_ne': 926}. Best is trial#91 with value: 3.302161111165035.\n"
          ],
          "name": "stderr"
        },
        {
          "output_type": "stream",
          "text": [
            "[0]\tvalidation-rmse:23.9807\n",
            "[1]\tvalidation-rmse:23.9807\n",
            "[2]\tvalidation-rmse:23.9807\n",
            "[3]\tvalidation-rmse:23.9807\n",
            "[4]\tvalidation-rmse:23.9807\n",
            "[5]\tvalidation-rmse:23.9807\n",
            "[6]\tvalidation-rmse:23.9807\n",
            "[7]\tvalidation-rmse:23.9807\n",
            "[8]\tvalidation-rmse:23.9807\n",
            "[9]\tvalidation-rmse:23.9807\n"
          ],
          "name": "stdout"
        },
        {
          "output_type": "stream",
          "text": [
            "[I 2020-07-08 13:53:01,099] Finished trial#321 with value: 8.349967063801742 with parameters: {'combos': 1, 'ada_Scaler': 'stand', 'ada_ne': 263, 'ada_lr': 0.719524501965286, 'et_Scaler': 'log', 'et_max_depth': 18, 'et_ne': 732, 'xgb_Scaler': 'log', 'booster': 'dart', 'lambda': 8.273241756190802e-08, 'alpha': 1.0960252236782787e-08, 'max_depth': 4, 'eta': 1.3872002605485979e-07, 'gamma': 0.00032462527658321465, 'grow_policy': 'lossguide', 'sample_type': 'weighted', 'normalize_type': 'forest', 'rate_drop': 1.5577854857005786e-08, 'skip_drop': 0.0007368936466506825}. Best is trial#91 with value: 3.302161111165035.\n",
            "[I 2020-07-08 13:53:04,588] Finished trial#322 with value: 3.3568843873845484 with parameters: {'combos': 0, 'ada_Scaler': 'stand', 'ada_ne': 329, 'ada_lr': 0.9519946062022544, 'et_Scaler': 'log', 'et_max_depth': 18, 'et_ne': 479, 'rf_Scaler': 'log', 'rf_max_depth': 8, 'rf_ne': 779}. Best is trial#91 with value: 3.302161111165035.\n",
            "[I 2020-07-08 13:53:08,449] Finished trial#323 with value: 3.432494595111013 with parameters: {'combos': 0, 'ada_Scaler': 'stand', 'ada_ne': 218, 'ada_lr': 0.8826983399436643, 'et_Scaler': 'log', 'et_max_depth': 17, 'et_ne': 752, 'rf_Scaler': 'log', 'rf_max_depth': 14, 'rf_ne': 670}. Best is trial#91 with value: 3.302161111165035.\n",
            "[I 2020-07-08 13:53:12,087] Finished trial#324 with value: 3.318845496622929 with parameters: {'combos': 0, 'ada_Scaler': 'stand', 'ada_ne': 238, 'ada_lr': 0.9881395326935206, 'et_Scaler': 'log', 'et_max_depth': 19, 'et_ne': 703, 'rf_Scaler': 'log', 'rf_max_depth': 13, 'rf_ne': 617}. Best is trial#91 with value: 3.302161111165035.\n",
            "[I 2020-07-08 13:53:16,391] Finished trial#325 with value: 3.3225657823622488 with parameters: {'combos': 0, 'ada_Scaler': 'stand', 'ada_ne': 189, 'ada_lr': 0.7320858402776126, 'et_Scaler': 'log', 'et_max_depth': 19, 'et_ne': 706, 'rf_Scaler': 'log', 'rf_max_depth': 12, 'rf_ne': 885}. Best is trial#91 with value: 3.302161111165035.\n",
            "[I 2020-07-08 13:53:19,907] Finished trial#326 with value: 3.427575170539767 with parameters: {'combos': 0, 'ada_Scaler': 'stand', 'ada_ne': 210, 'ada_lr': 0.7576404722406151, 'et_Scaler': 'log', 'et_max_depth': 20, 'et_ne': 681, 'rf_Scaler': 'log', 'rf_max_depth': 19, 'rf_ne': 605}. Best is trial#91 with value: 3.302161111165035.\n"
          ],
          "name": "stderr"
        },
        {
          "output_type": "stream",
          "text": [
            "[0]\tvalidation-rmse:23.9492\n",
            "[1]\tvalidation-rmse:23.9177\n",
            "[2]\tvalidation-rmse:23.8863\n",
            "[3]\tvalidation-rmse:23.8549\n",
            "[4]\tvalidation-rmse:23.8235\n",
            "[5]\tvalidation-rmse:23.7922\n",
            "[6]\tvalidation-rmse:23.761\n",
            "[7]\tvalidation-rmse:23.7298\n",
            "[8]\tvalidation-rmse:23.6986\n",
            "[9]\tvalidation-rmse:23.6675\n"
          ],
          "name": "stdout"
        },
        {
          "output_type": "stream",
          "text": [
            "[I 2020-07-08 13:53:21,637] Finished trial#327 with value: 8.248238145658537 with parameters: {'combos': 1, 'ada_Scaler': 'stand', 'ada_ne': 145, 'ada_lr': 0.7126424820889851, 'et_Scaler': 'log', 'et_max_depth': 19, 'et_ne': 707, 'xgb_Scaler': 'stand', 'booster': 'gbtree', 'lambda': 1.3994000565197395e-05, 'alpha': 1.4863324633045048e-05, 'max_depth': 5, 'eta': 0.001293716596612916, 'gamma': 0.01192386745190635, 'grow_policy': 'depthwise'}. Best is trial#91 with value: 3.302161111165035.\n",
            "[I 2020-07-08 13:53:24,985] Finished trial#328 with value: 3.383477212905078 with parameters: {'combos': 0, 'ada_Scaler': 'stand', 'ada_ne': 177, 'ada_lr': 0.7581325185491739, 'et_Scaler': 'log', 'et_max_depth': 19, 'et_ne': 695, 'rf_Scaler': 'log', 'rf_max_depth': 11, 'rf_ne': 589}. Best is trial#91 with value: 3.302161111165035.\n",
            "[I 2020-07-08 13:53:29,227] Finished trial#329 with value: 3.3610921104229625 with parameters: {'combos': 0, 'ada_Scaler': 'stand', 'ada_ne': 106, 'ada_lr': 0.6786776498900362, 'et_Scaler': 'log', 'et_max_depth': 19, 'et_ne': 723, 'rf_Scaler': 'log', 'rf_max_depth': 13, 'rf_ne': 890}. Best is trial#91 with value: 3.302161111165035.\n",
            "[I 2020-07-08 13:53:33,626] Finished trial#330 with value: 3.3917806302804316 with parameters: {'combos': 0, 'ada_Scaler': 'stand', 'ada_ne': 235, 'ada_lr': 0.8001694390100909, 'et_Scaler': 'log', 'et_max_depth': 19, 'et_ne': 678, 'rf_Scaler': 'log', 'rf_max_depth': 12, 'rf_ne': 903}. Best is trial#91 with value: 3.302161111165035.\n",
            "[I 2020-07-08 13:53:38,220] Finished trial#331 with value: 3.3862194956955203 with parameters: {'combos': 0, 'ada_Scaler': 'stand', 'ada_ne': 156, 'ada_lr': 0.7348080390423402, 'et_Scaler': 'log', 'et_max_depth': 20, 'et_ne': 736, 'rf_Scaler': 'log', 'rf_max_depth': 13, 'rf_ne': 949}. Best is trial#91 with value: 3.302161111165035.\n",
            "[I 2020-07-08 13:53:41,731] Finished trial#332 with value: 3.4677399762504812 with parameters: {'combos': 0, 'ada_Scaler': 'stand', 'ada_ne': 242, 'ada_lr': 0.8314204695799992, 'et_Scaler': 'minmax', 'et_max_depth': 19, 'et_ne': 709, 'rf_Scaler': 'log', 'rf_max_depth': 17, 'rf_ne': 532}. Best is trial#91 with value: 3.302161111165035.\n",
            "[I 2020-07-08 13:53:47,149] Finished trial#333 with value: 3.31779718876059 with parameters: {'combos': 0, 'ada_Scaler': 'stand', 'ada_ne': 839, 'ada_lr': 0.6963561252329017, 'et_Scaler': 'log', 'et_max_depth': 19, 'et_ne': 755, 'rf_Scaler': 'log', 'rf_max_depth': 12, 'rf_ne': 868}. Best is trial#91 with value: 3.302161111165035.\n",
            "[I 2020-07-08 13:53:52,746] Finished trial#334 with value: 3.3277355163050264 with parameters: {'combos': 0, 'ada_Scaler': 'stand', 'ada_ne': 891, 'ada_lr': 0.9949250879066491, 'et_Scaler': 'log', 'et_max_depth': 19, 'et_ne': 785, 'rf_Scaler': 'log', 'rf_max_depth': 18, 'rf_ne': 860}. Best is trial#91 with value: 3.302161111165035.\n",
            "[I 2020-07-08 13:53:57,545] Finished trial#335 with value: 3.356384628251484 with parameters: {'combos': 0, 'ada_Scaler': 'stand', 'ada_ne': 849, 'ada_lr': 0.7022550192848361, 'et_Scaler': 'stand', 'et_max_depth': 20, 'et_ne': 749, 'rf_Scaler': 'log', 'rf_max_depth': 13, 'rf_ne': 649}. Best is trial#91 with value: 3.302161111165035.\n",
            "[I 2020-07-08 13:54:03,061] Finished trial#336 with value: 3.3540889477855496 with parameters: {'combos': 0, 'ada_Scaler': 'stand', 'ada_ne': 820, 'ada_lr': 0.6599850813130288, 'et_Scaler': 'log', 'et_max_depth': 18, 'et_ne': 774, 'rf_Scaler': 'log', 'rf_max_depth': 19, 'rf_ne': 874}. Best is trial#91 with value: 3.302161111165035.\n",
            "[I 2020-07-08 13:54:07,534] Finished trial#337 with value: 3.325778231976183 with parameters: {'combos': 0, 'ada_Scaler': 'stand', 'ada_ne': 263, 'ada_lr': 0.8701363172988007, 'et_Scaler': 'log', 'et_max_depth': 19, 'et_ne': 759, 'rf_Scaler': 'log', 'rf_max_depth': 16, 'rf_ne': 858}. Best is trial#91 with value: 3.302161111165035.\n"
          ],
          "name": "stderr"
        },
        {
          "output_type": "stream",
          "text": [
            "[0]\tvalidation-rmse:8.29391\n",
            "[1]\tvalidation-rmse:7.70636\n",
            "[2]\tvalidation-rmse:7.47632\n",
            "[3]\tvalidation-rmse:7.36642\n",
            "[4]\tvalidation-rmse:7.27726\n",
            "[5]\tvalidation-rmse:7.20879\n",
            "[6]\tvalidation-rmse:7.14657\n",
            "[7]\tvalidation-rmse:7.08767\n",
            "[8]\tvalidation-rmse:7.03075\n",
            "[9]\tvalidation-rmse:6.97514\n"
          ],
          "name": "stdout"
        },
        {
          "output_type": "stream",
          "text": [
            "[I 2020-07-08 13:54:10,909] Finished trial#338 with value: 3.6933624557896927 with parameters: {'combos': 1, 'ada_Scaler': 'stand', 'ada_ne': 875, 'ada_lr': 0.9992599342708959, 'et_Scaler': 'log', 'et_max_depth': 18, 'et_ne': 959, 'xgb_Scaler': 'log', 'booster': 'gblinear', 'lambda': 0.010377047690266815, 'alpha': 0.0001920975843013454}. Best is trial#91 with value: 3.302161111165035.\n",
            "[I 2020-07-08 13:54:14,984] Finished trial#339 with value: 3.3586871318274096 with parameters: {'combos': 0, 'ada_Scaler': 'stand', 'ada_ne': 416, 'ada_lr': 0.9343900194796998, 'et_Scaler': 'log', 'et_max_depth': 19, 'et_ne': 735, 'rf_Scaler': 'log', 'rf_max_depth': 20, 'rf_ne': 637}. Best is trial#91 with value: 3.302161111165035.\n",
            "[I 2020-07-08 13:54:19,789] Finished trial#340 with value: 3.452626596175455 with parameters: {'combos': 0, 'ada_Scaler': 'minmax', 'ada_ne': 302, 'ada_lr': 0.9999543246301842, 'et_Scaler': 'log', 'et_max_depth': 20, 'et_ne': 785, 'rf_Scaler': 'log', 'rf_max_depth': 11, 'rf_ne': 980}. Best is trial#91 with value: 3.302161111165035.\n",
            "[I 2020-07-08 13:54:23,813] Finished trial#341 with value: 3.4671992239199994 with parameters: {'combos': 0, 'ada_Scaler': 'stand', 'ada_ne': 280, 'ada_lr': 0.16088908770877267, 'et_Scaler': 'log', 'et_max_depth': 4, 'et_ne': 729, 'rf_Scaler': 'log', 'rf_max_depth': 13, 'rf_ne': 914}. Best is trial#91 with value: 3.302161111165035.\n",
            "[I 2020-07-08 13:54:27,459] Finished trial#342 with value: 3.342360879195123 with parameters: {'combos': 0, 'ada_Scaler': 'stand', 'ada_ne': 252, 'ada_lr': 0.7990907046308968, 'et_Scaler': 'log', 'et_max_depth': 18, 'et_ne': 308, 'rf_Scaler': 'log', 'rf_max_depth': 14, 'rf_ne': 856}. Best is trial#91 with value: 3.302161111165035.\n",
            "[I 2020-07-08 13:54:32,773] Finished trial#343 with value: 3.340193670666557 with parameters: {'combos': 0, 'ada_Scaler': 'stand', 'ada_ne': 922, 'ada_lr': 0.8426876985061116, 'et_Scaler': 'log', 'et_max_depth': 18, 'et_ne': 741, 'rf_Scaler': 'minmax', 'rf_max_depth': 12, 'rf_ne': 796}. Best is trial#91 with value: 3.302161111165035.\n",
            "[I 2020-07-08 13:54:37,382] Finished trial#344 with value: 3.360326420809996 with parameters: {'combos': 0, 'ada_Scaler': 'stand', 'ada_ne': 324, 'ada_lr': 0.6792358030182367, 'et_Scaler': 'log', 'et_max_depth': 17, 'et_ne': 695, 'rf_Scaler': 'log', 'rf_max_depth': 12, 'rf_ne': 935}. Best is trial#91 with value: 3.302161111165035.\n"
          ],
          "name": "stderr"
        },
        {
          "output_type": "stream",
          "text": [
            "[0]\tvalidation-rmse:23.9807\n",
            "[1]\tvalidation-rmse:23.9807\n",
            "[2]\tvalidation-rmse:23.9807\n",
            "[3]\tvalidation-rmse:23.9807\n",
            "[4]\tvalidation-rmse:23.9807\n",
            "[5]\tvalidation-rmse:23.9807\n",
            "[6]\tvalidation-rmse:23.9807\n",
            "[7]\tvalidation-rmse:23.9807\n",
            "[8]\tvalidation-rmse:23.9807\n",
            "[9]\tvalidation-rmse:23.9807\n"
          ],
          "name": "stdout"
        },
        {
          "output_type": "stream",
          "text": [
            "[I 2020-07-08 13:54:38,401] Finished trial#345 with value: 8.633642305109912 with parameters: {'combos': 5, 'ada_Scaler': 'stand', 'ada_ne': 394, 'ada_lr': 0.9119783083302629, 'xgb_Scaler': 'minmax', 'booster': 'dart', 'lambda': 0.00016481321840514665, 'alpha': 6.644382255783941e-06, 'max_depth': 2, 'eta': 1.9108542929358027e-08, 'gamma': 0.11476250635383206, 'grow_policy': 'lossguide', 'sample_type': 'uniform', 'normalize_type': 'forest', 'rate_drop': 0.10271442824302986, 'skip_drop': 3.933217499371502e-05, 'gbm_Scaler': 'stand', 'lambda_l1': 1.218918993574554e-08, 'lambda_l2': 1.993452732888428e-08, 'num_leaves': 39, 'feature_fraction': 0.6349053197702129, 'bagging_fraction': 0.8094971591751559, 'bagging_freq': 3, 'min_child_samples': 12}. Best is trial#91 with value: 3.302161111165035.\n",
            "[I 2020-07-08 13:54:43,147] Finished trial#346 with value: 3.353257866905615 with parameters: {'combos': 0, 'ada_Scaler': 'stand', 'ada_ne': 378, 'ada_lr': 0.9995149197033312, 'et_Scaler': 'log', 'et_max_depth': 18, 'et_ne': 764, 'rf_Scaler': 'log', 'rf_max_depth': 17, 'rf_ne': 877}. Best is trial#91 with value: 3.302161111165035.\n",
            "[I 2020-07-08 13:54:47,345] Finished trial#347 with value: 3.3762900269046234 with parameters: {'combos': 0, 'ada_Scaler': 'stand', 'ada_ne': 358, 'ada_lr': 0.3463396697435815, 'et_Scaler': 'log', 'et_max_depth': 19, 'et_ne': 721, 'rf_Scaler': 'log', 'rf_max_depth': 20, 'rf_ne': 712}. Best is trial#91 with value: 3.302161111165035.\n",
            "[I 2020-07-08 13:54:50,316] Finished trial#348 with value: 3.4376111377522913 with parameters: {'combos': 0, 'ada_Scaler': 'stand', 'ada_ne': 228, 'ada_lr': 0.7603229689538471, 'et_Scaler': 'log', 'et_max_depth': 18, 'et_ne': 419, 'rf_Scaler': 'log', 'rf_max_depth': 18, 'rf_ne': 565}. Best is trial#91 with value: 3.302161111165035.\n"
          ],
          "name": "stderr"
        },
        {
          "output_type": "stream",
          "text": [
            "[0]\tvalidation-rmse:23.9807\n",
            "[1]\tvalidation-rmse:23.9806\n",
            "[2]\tvalidation-rmse:23.9806\n",
            "[3]\tvalidation-rmse:23.9806\n",
            "[4]\tvalidation-rmse:23.9805\n",
            "[5]\tvalidation-rmse:23.9805\n",
            "[6]\tvalidation-rmse:23.9805\n",
            "[7]\tvalidation-rmse:23.9804\n",
            "[8]\tvalidation-rmse:23.9804\n",
            "[9]\tvalidation-rmse:23.9804\n"
          ],
          "name": "stdout"
        },
        {
          "output_type": "stream",
          "text": [
            "[I 2020-07-08 13:54:51,680] Finished trial#349 with value: 8.387283925497343 with parameters: {'combos': 1, 'ada_Scaler': 'stand', 'ada_ne': 295, 'ada_lr': 0.8995010497923466, 'et_Scaler': 'log', 'et_max_depth': 17, 'et_ne': 360, 'xgb_Scaler': 'stand', 'booster': 'gbtree', 'lambda': 2.6089130048456834e-08, 'alpha': 2.8305087489653113e-08, 'max_depth': 6, 'eta': 1.288157891942743e-06, 'gamma': 1.3535762164370135e-06, 'grow_policy': 'depthwise'}. Best is trial#91 with value: 3.302161111165035.\n",
            "[I 2020-07-08 13:54:54,228] Finished trial#350 with value: 3.351538082381541 with parameters: {'combos': 0, 'ada_Scaler': 'stand', 'ada_ne': 502, 'ada_lr': 0.7964733343972051, 'et_Scaler': 'stand', 'et_max_depth': 19, 'et_ne': 776, 'rf_Scaler': 'log', 'rf_max_depth': 15, 'rf_ne': 50}. Best is trial#91 with value: 3.302161111165035.\n",
            "[I 2020-07-08 13:54:59,816] Finished trial#351 with value: 3.3445844632968993 with parameters: {'combos': 0, 'ada_Scaler': 'stand', 'ada_ne': 911, 'ada_lr': 0.9414714613239455, 'et_Scaler': 'log', 'et_max_depth': 17, 'et_ne': 802, 'rf_Scaler': 'log', 'rf_max_depth': 13, 'rf_ne': 828}. Best is trial#91 with value: 3.302161111165035.\n",
            "[I 2020-07-08 13:55:03,840] Finished trial#352 with value: 3.4281867459296236 with parameters: {'combos': 0, 'ada_Scaler': 'stand', 'ada_ne': 270, 'ada_lr': 0.8489191451087889, 'et_Scaler': 'log', 'et_max_depth': 18, 'et_ne': 538, 'rf_Scaler': 'stand', 'rf_max_depth': 18, 'rf_ne': 689}. Best is trial#91 with value: 3.302161111165035.\n",
            "[I 2020-07-08 13:55:08,719] Finished trial#353 with value: 3.3340751421013732 with parameters: {'combos': 0, 'ada_Scaler': 'stand', 'ada_ne': 545, 'ada_lr': 0.6755126003635014, 'et_Scaler': 'log', 'et_max_depth': 18, 'et_ne': 712, 'rf_Scaler': 'log', 'rf_max_depth': 19, 'rf_ne': 761}. Best is trial#91 with value: 3.302161111165035.\n",
            "[I 2020-07-08 13:55:13,326] Finished trial#354 with value: 3.351686046531965 with parameters: {'combos': 0, 'ada_Scaler': 'stand', 'ada_ne': 313, 'ada_lr': 0.716203178097663, 'et_Scaler': 'log', 'et_max_depth': 19, 'et_ne': 672, 'rf_Scaler': 'log', 'rf_max_depth': 14, 'rf_ne': 845}. Best is trial#91 with value: 3.302161111165035.\n",
            "[I 2020-07-08 13:55:18,468] Finished trial#355 with value: 3.3324602562103007 with parameters: {'combos': 0, 'ada_Scaler': 'stand', 'ada_ne': 429, 'ada_lr': 0.8756691105890788, 'et_Scaler': 'log', 'et_max_depth': 17, 'et_ne': 751, 'rf_Scaler': 'log', 'rf_max_depth': 12, 'rf_ne': 896}. Best is trial#91 with value: 3.302161111165035.\n"
          ],
          "name": "stderr"
        },
        {
          "output_type": "stream",
          "text": [
            "[0]\tvalidation-rmse:8.59715\n",
            "[1]\tvalidation-rmse:7.64416\n",
            "[2]\tvalidation-rmse:7.24325\n",
            "[3]\tvalidation-rmse:6.9293\n",
            "[4]\tvalidation-rmse:6.66045\n",
            "[5]\tvalidation-rmse:6.4296\n",
            "[6]\tvalidation-rmse:6.23281\n",
            "[7]\tvalidation-rmse:6.06713\n",
            "[8]\tvalidation-rmse:5.92946\n",
            "[9]\tvalidation-rmse:5.8164\n"
          ],
          "name": "stdout"
        },
        {
          "output_type": "stream",
          "text": [
            "[I 2020-07-08 13:55:20,413] Finished trial#356 with value: 3.4444903882054896 with parameters: {'combos': 1, 'ada_Scaler': 'stand', 'ada_ne': 464, 'ada_lr': 0.9457706029424543, 'et_Scaler': 'log', 'et_max_depth': 16, 'et_ne': 494, 'xgb_Scaler': 'minmax', 'booster': 'gblinear', 'lambda': 0.00031357448344851977, 'alpha': 0.0028726623494598224}. Best is trial#91 with value: 3.302161111165035.\n",
            "[I 2020-07-08 13:55:24,818] Finished trial#357 with value: 3.667229372790394 with parameters: {'combos': 0, 'ada_Scaler': 'stand', 'ada_ne': 931, 'ada_lr': 0.7686768355949831, 'et_Scaler': 'log', 'et_max_depth': 18, 'et_ne': 690, 'rf_Scaler': 'log', 'rf_max_depth': 2, 'rf_ne': 819}. Best is trial#91 with value: 3.302161111165035.\n",
            "[I 2020-07-08 13:55:29,419] Finished trial#358 with value: 3.3524598085219353 with parameters: {'combos': 0, 'ada_Scaler': 'stand', 'ada_ne': 256, 'ada_lr': 0.825804981884473, 'et_Scaler': 'log', 'et_max_depth': 20, 'et_ne': 749, 'rf_Scaler': 'log', 'rf_max_depth': 11, 'rf_ne': 872}. Best is trial#91 with value: 3.302161111165035.\n",
            "[I 2020-07-08 13:55:34,040] Finished trial#359 with value: 3.344536215879137 with parameters: {'combos': 0, 'ada_Scaler': 'stand', 'ada_ne': 520, 'ada_lr': 0.21492337383995935, 'et_Scaler': 'log', 'et_max_depth': 19, 'et_ne': 456, 'rf_Scaler': 'log', 'rf_max_depth': 13, 'rf_ne': 847}. Best is trial#91 with value: 3.302161111165035.\n",
            "[I 2020-07-08 13:55:39,482] Finished trial#360 with value: 3.320625241322408 with parameters: {'combos': 0, 'ada_Scaler': 'stand', 'ada_ne': 887, 'ada_lr': 0.9935326758397066, 'et_Scaler': 'log', 'et_max_depth': 18, 'et_ne': 726, 'rf_Scaler': 'log', 'rf_max_depth': 12, 'rf_ne': 791}. Best is trial#91 with value: 3.302161111165035.\n",
            "[I 2020-07-08 13:55:44,752] Finished trial#361 with value: 3.318268406684391 with parameters: {'combos': 0, 'ada_Scaler': 'stand', 'ada_ne': 848, 'ada_lr': 0.9976320801545456, 'et_Scaler': 'log', 'et_max_depth': 18, 'et_ne': 725, 'rf_Scaler': 'log', 'rf_max_depth': 12, 'rf_ne': 782}. Best is trial#91 with value: 3.302161111165035.\n",
            "[I 2020-07-08 13:55:50,009] Finished trial#362 with value: 3.341316168977117 with parameters: {'combos': 0, 'ada_Scaler': 'stand', 'ada_ne': 842, 'ada_lr': 0.9932436656228949, 'et_Scaler': 'log', 'et_max_depth': 18, 'et_ne': 727, 'rf_Scaler': 'log', 'rf_max_depth': 12, 'rf_ne': 765}. Best is trial#91 with value: 3.302161111165035.\n",
            "[I 2020-07-08 13:55:55,294] Finished trial#363 with value: 3.4053081287735796 with parameters: {'combos': 0, 'ada_Scaler': 'stand', 'ada_ne': 841, 'ada_lr': 0.942524593708704, 'et_Scaler': 'minmax', 'et_max_depth': 18, 'et_ne': 723, 'rf_Scaler': 'log', 'rf_max_depth': 11, 'rf_ne': 786}. Best is trial#91 with value: 3.302161111165035.\n",
            "[I 2020-07-08 13:56:00,622] Finished trial#364 with value: 3.341657745253197 with parameters: {'combos': 0, 'ada_Scaler': 'stand', 'ada_ne': 874, 'ada_lr': 0.9948872842856917, 'et_Scaler': 'log', 'et_max_depth': 19, 'et_ne': 697, 'rf_Scaler': 'log', 'rf_max_depth': 12, 'rf_ne': 802}. Best is trial#91 with value: 3.302161111165035.\n",
            "[I 2020-07-08 13:56:05,889] Finished trial#365 with value: 3.336045243647914 with parameters: {'combos': 0, 'ada_Scaler': 'stand', 'ada_ne': 892, 'ada_lr': 0.8908168932115659, 'et_Scaler': 'log', 'et_max_depth': 19, 'et_ne': 764, 'rf_Scaler': 'log', 'rf_max_depth': 12, 'rf_ne': 778}. Best is trial#91 with value: 3.302161111165035.\n",
            "[I 2020-07-08 13:56:11,067] Finished trial#366 with value: 3.3585620224173955 with parameters: {'combos': 0, 'ada_Scaler': 'stand', 'ada_ne': 883, 'ada_lr': 0.9464144848282919, 'et_Scaler': 'stand', 'et_max_depth': 18, 'et_ne': 830, 'rf_Scaler': 'log', 'rf_max_depth': 12, 'rf_ne': 727}. Best is trial#91 with value: 3.302161111165035.\n",
            "[I 2020-07-08 13:56:15,431] Finished trial#367 with value: 3.5951017597898423 with parameters: {'combos': 0, 'ada_Scaler': 'stand', 'ada_ne': 862, 'ada_lr': 0.8896635925221648, 'et_Scaler': 'log', 'et_max_depth': 2, 'et_ne': 611, 'rf_Scaler': 'log', 'rf_max_depth': 11, 'rf_ne': 799}. Best is trial#91 with value: 3.302161111165035.\n",
            "[I 2020-07-08 13:56:20,499] Finished trial#368 with value: 3.3404540532740477 with parameters: {'combos': 0, 'ada_Scaler': 'stand', 'ada_ne': 831, 'ada_lr': 0.9934729145763622, 'et_Scaler': 'log', 'et_max_depth': 18, 'et_ne': 666, 'rf_Scaler': 'log', 'rf_max_depth': 12, 'rf_ne': 812}. Best is trial#91 with value: 3.302161111165035.\n",
            "[I 2020-07-08 13:56:25,498] Finished trial#369 with value: 3.4132847603740704 with parameters: {'combos': 0, 'ada_Scaler': 'minmax', 'ada_ne': 809, 'ada_lr': 0.8371455077439687, 'et_Scaler': 'log', 'et_max_depth': 19, 'et_ne': 740, 'rf_Scaler': 'log', 'rf_max_depth': 12, 'rf_ne': 761}. Best is trial#91 with value: 3.302161111165035.\n",
            "[I 2020-07-08 13:56:30,730] Finished trial#370 with value: 3.3405438324149785 with parameters: {'combos': 0, 'ada_Scaler': 'stand', 'ada_ne': 895, 'ada_lr': 0.9103800895022369, 'et_Scaler': 'log', 'et_max_depth': 18, 'et_ne': 707, 'rf_Scaler': 'log', 'rf_max_depth': 11, 'rf_ne': 824}. Best is trial#91 with value: 3.302161111165035.\n"
          ],
          "name": "stderr"
        },
        {
          "output_type": "stream",
          "text": [
            "[0]\tvalidation-rmse:23.8145\n",
            "[1]\tvalidation-rmse:23.6497\n",
            "[2]\tvalidation-rmse:23.4863\n",
            "[3]\tvalidation-rmse:23.3242\n",
            "[4]\tvalidation-rmse:23.1635\n",
            "[5]\tvalidation-rmse:23.0042\n",
            "[6]\tvalidation-rmse:22.8461\n",
            "[7]\tvalidation-rmse:22.6894\n",
            "[8]\tvalidation-rmse:22.534\n",
            "[9]\tvalidation-rmse:22.3814\n"
          ],
          "name": "stdout"
        },
        {
          "output_type": "stream",
          "text": [
            "[I 2020-07-08 13:56:33,423] Finished trial#371 with value: 7.871949671196692 with parameters: {'combos': 1, 'ada_Scaler': 'stand', 'ada_ne': 920, 'ada_lr': 0.998668216208929, 'et_Scaler': 'log', 'et_max_depth': 18, 'et_ne': 542, 'xgb_Scaler': 'log', 'booster': 'dart', 'lambda': 7.862321989884558e-07, 'alpha': 7.854863746122043e-08, 'max_depth': 1, 'eta': 0.007636124512925215, 'gamma': 2.748104979569608e-07, 'grow_policy': 'lossguide', 'sample_type': 'weighted', 'normalize_type': 'tree', 'rate_drop': 0.004060263859767792, 'skip_drop': 5.357371665113431e-07}. Best is trial#91 with value: 3.302161111165035.\n",
            "[I 2020-07-08 13:56:38,842] Finished trial#372 with value: 3.3366986997389354 with parameters: {'combos': 0, 'ada_Scaler': 'stand', 'ada_ne': 862, 'ada_lr': 0.7969006264967471, 'et_Scaler': 'log', 'et_max_depth': 19, 'et_ne': 785, 'rf_Scaler': 'log', 'rf_max_depth': 19, 'rf_ne': 782}. Best is trial#91 with value: 3.302161111165035.\n",
            "[I 2020-07-08 13:56:44,219] Finished trial#373 with value: 3.3242599056653 with parameters: {'combos': 0, 'ada_Scaler': 'stand', 'ada_ne': 901, 'ada_lr': 0.9985052298681502, 'et_Scaler': 'log', 'et_max_depth': 18, 'et_ne': 747, 'rf_Scaler': 'log', 'rf_max_depth': 13, 'rf_ne': 835}. Best is trial#91 with value: 3.302161111165035.\n",
            "[I 2020-07-08 13:56:49,477] Finished trial#374 with value: 3.3307980194847566 with parameters: {'combos': 0, 'ada_Scaler': 'stand', 'ada_ne': 947, 'ada_lr': 0.8569552978054483, 'et_Scaler': 'log', 'et_max_depth': 19, 'et_ne': 685, 'rf_Scaler': 'log', 'rf_max_depth': 12, 'rf_ne': 804}. Best is trial#91 with value: 3.302161111165035.\n",
            "[I 2020-07-08 13:56:54,385] Finished trial#375 with value: 3.3475967438076277 with parameters: {'combos': 0, 'ada_Scaler': 'stand', 'ada_ne': 936, 'ada_lr': 0.9363666458105204, 'et_Scaler': 'log', 'et_max_depth': 18, 'et_ne': 493, 'rf_Scaler': 'log', 'rf_max_depth': 13, 'rf_ne': 745}. Best is trial#91 with value: 3.302161111165035.\n",
            "[I 2020-07-08 13:57:00,053] Finished trial#376 with value: 3.3456096157634745 with parameters: {'combos': 0, 'ada_Scaler': 'stand', 'ada_ne': 923, 'ada_lr': 0.9999774735376777, 'et_Scaler': 'log', 'et_max_depth': 18, 'et_ne': 717, 'rf_Scaler': 'log', 'rf_max_depth': 19, 'rf_ne': 824}. Best is trial#91 with value: 3.302161111165035.\n",
            "[I 2020-07-08 13:57:05,102] Finished trial#377 with value: 3.359575169307658 with parameters: {'combos': 0, 'ada_Scaler': 'stand', 'ada_ne': 909, 'ada_lr': 0.750312508911657, 'et_Scaler': 'log', 'et_max_depth': 19, 'et_ne': 508, 'rf_Scaler': 'log', 'rf_max_depth': 12, 'rf_ne': 789}. Best is trial#91 with value: 3.302161111165035.\n",
            "[I 2020-07-08 13:57:10,848] Finished trial#378 with value: 3.35506108490917 with parameters: {'combos': 0, 'ada_Scaler': 'stand', 'ada_ne': 879, 'ada_lr': 0.8873539042843483, 'et_Scaler': 'log', 'et_max_depth': 18, 'et_ne': 764, 'rf_Scaler': 'minmax', 'rf_max_depth': 20, 'rf_ne': 848}. Best is trial#91 with value: 3.302161111165035.\n",
            "[I 2020-07-08 13:57:14,916] Setting status of trial#379 as TrialState.PRUNED. Trial was pruned at iteration 11.\n"
          ],
          "name": "stderr"
        },
        {
          "output_type": "stream",
          "text": [
            "[0]\tvalidation-rmse:23.9806\n",
            "[1]\tvalidation-rmse:23.9804\n",
            "[2]\tvalidation-rmse:23.9803\n",
            "[3]\tvalidation-rmse:23.9801\n",
            "[4]\tvalidation-rmse:23.98\n",
            "[5]\tvalidation-rmse:23.9798\n",
            "[6]\tvalidation-rmse:23.9797\n",
            "[7]\tvalidation-rmse:23.9795\n",
            "[8]\tvalidation-rmse:23.9794\n",
            "[9]\tvalidation-rmse:23.9792\n"
          ],
          "name": "stdout"
        },
        {
          "output_type": "stream",
          "text": [
            "[I 2020-07-08 13:57:17,621] Finished trial#380 with value: 8.35063485434559 with parameters: {'combos': 1, 'ada_Scaler': 'stand', 'ada_ne': 786, 'ada_lr': 0.7857646203792579, 'et_Scaler': 'log', 'et_max_depth': 17, 'et_ne': 532, 'xgb_Scaler': 'stand', 'booster': 'gbtree', 'lambda': 0.0008885688638623882, 'alpha': 0.032538194318647115, 'max_depth': 8, 'eta': 6.034445296532096e-06, 'gamma': 7.94232869451076e-08, 'grow_policy': 'depthwise'}. Best is trial#91 with value: 3.302161111165035.\n",
            "[I 2020-07-08 13:57:22,775] Finished trial#381 with value: 3.3333332739630595 with parameters: {'combos': 0, 'ada_Scaler': 'stand', 'ada_ne': 495, 'ada_lr': 0.8279907084939278, 'et_Scaler': 'log', 'et_max_depth': 18, 'et_ne': 859, 'rf_Scaler': 'log', 'rf_max_depth': 11, 'rf_ne': 861}. Best is trial#91 with value: 3.302161111165035.\n",
            "[I 2020-07-08 13:57:27,363] Finished trial#382 with value: 3.335461503510717 with parameters: {'combos': 0, 'ada_Scaler': 'stand', 'ada_ne': 555, 'ada_lr': 0.9316827266274956, 'et_Scaler': 'log', 'et_max_depth': 19, 'et_ne': 558, 'rf_Scaler': 'log', 'rf_max_depth': 12, 'rf_ne': 804}. Best is trial#91 with value: 3.302161111165035.\n",
            "[I 2020-07-08 13:57:33,079] Finished trial#383 with value: 3.34615979369627 with parameters: {'combos': 0, 'ada_Scaler': 'stand', 'ada_ne': 894, 'ada_lr': 0.8666420438754739, 'et_Scaler': 'log', 'et_max_depth': 18, 'et_ne': 737, 'rf_Scaler': 'log', 'rf_max_depth': 14, 'rf_ne': 836}. Best is trial#91 with value: 3.302161111165035.\n",
            "[I 2020-07-08 13:57:38,994] Finished trial#384 with value: 3.3352834009083923 with parameters: {'combos': 0, 'ada_Scaler': 'stand', 'ada_ne': 946, 'ada_lr': 0.7126745704149631, 'et_Scaler': 'log', 'et_max_depth': 19, 'et_ne': 704, 'rf_Scaler': 'log', 'rf_max_depth': 19, 'rf_ne': 878}. Best is trial#91 with value: 3.302161111165035.\n",
            "[I 2020-07-08 13:57:44,096] Finished trial#385 with value: 3.407491750470366 with parameters: {'combos': 0, 'ada_Scaler': 'stand', 'ada_ne': 533, 'ada_lr': 0.9488724140784838, 'et_Scaler': 'log', 'et_max_depth': 17, 'et_ne': 719, 'rf_Scaler': 'stand', 'rf_max_depth': 13, 'rf_ne': 775}. Best is trial#91 with value: 3.302161111165035.\n",
            "[I 2020-07-08 13:57:49,921] Finished trial#386 with value: 3.323638680843092 with parameters: {'combos': 0, 'ada_Scaler': 'stand', 'ada_ne': 871, 'ada_lr': 0.8331670443745717, 'et_Scaler': 'log', 'et_max_depth': 18, 'et_ne': 773, 'rf_Scaler': 'log', 'rf_max_depth': 12, 'rf_ne': 816}. Best is trial#91 with value: 3.302161111165035.\n",
            "[I 2020-07-08 13:57:54,246] Finished trial#387 with value: 3.3685187227667273 with parameters: {'combos': 0, 'ada_Scaler': 'stand', 'ada_ne': 455, 'ada_lr': 0.89414508927538, 'et_Scaler': 'log', 'et_max_depth': 20, 'et_ne': 469, 'rf_Scaler': 'log', 'rf_max_depth': 18, 'rf_ne': 862}. Best is trial#91 with value: 3.302161111165035.\n",
            "[I 2020-07-08 13:57:59,298] Finished trial#388 with value: 3.3390906127176105 with parameters: {'combos': 0, 'ada_Scaler': 'stand', 'ada_ne': 910, 'ada_lr': 0.7767827921035129, 'et_Scaler': 'log', 'et_max_depth': 19, 'et_ne': 512, 'rf_Scaler': 'log', 'rf_max_depth': 13, 'rf_ne': 846}. Best is trial#91 with value: 3.302161111165035.\n",
            "[I 2020-07-08 13:58:03,697] Finished trial#389 with value: 3.3390116691774847 with parameters: {'combos': 0, 'ada_Scaler': 'stand', 'ada_ne': 233, 'ada_lr': 0.9960016801601694, 'et_Scaler': 'log', 'et_max_depth': 18, 'et_ne': 670, 'rf_Scaler': 'log', 'rf_max_depth': 20, 'rf_ne': 889}. Best is trial#91 with value: 3.302161111165035.\n",
            "[I 2020-07-08 13:58:08,851] Finished trial#390 with value: 3.32895946213661 with parameters: {'combos': 0, 'ada_Scaler': 'stand', 'ada_ne': 822, 'ada_lr': 0.9351020924943914, 'et_Scaler': 'log', 'et_max_depth': 17, 'et_ne': 751, 'rf_Scaler': 'log', 'rf_max_depth': 11, 'rf_ne': 801}. Best is trial#91 with value: 3.302161111165035.\n"
          ],
          "name": "stderr"
        },
        {
          "output_type": "stream",
          "text": [
            "[0]\tvalidation-rmse:8.60012\n",
            "[1]\tvalidation-rmse:7.64808\n",
            "[2]\tvalidation-rmse:7.2527\n",
            "[3]\tvalidation-rmse:6.9423\n",
            "[4]\tvalidation-rmse:6.67574\n",
            "[5]\tvalidation-rmse:6.44583\n",
            "[6]\tvalidation-rmse:6.24922\n",
            "[7]\tvalidation-rmse:6.08295\n",
            "[8]\tvalidation-rmse:5.9442\n",
            "[9]\tvalidation-rmse:5.83012\n"
          ],
          "name": "stdout"
        },
        {
          "output_type": "stream",
          "text": [
            "[I 2020-07-08 13:58:10,079] Finished trial#391 with value: 3.614314310495329 with parameters: {'combos': 1, 'ada_Scaler': 'stand', 'ada_ne': 5, 'ada_lr': 0.6468012646172875, 'et_Scaler': 'log', 'et_max_depth': 17, 'et_ne': 570, 'xgb_Scaler': 'minmax', 'booster': 'gblinear', 'lambda': 7.088694880073141e-05, 'alpha': 0.0012074941076491497}. Best is trial#91 with value: 3.302161111165035.\n",
            "[I 2020-07-08 13:58:14,441] Finished trial#392 with value: 3.41236840311568 with parameters: {'combos': 0, 'ada_Scaler': 'stand', 'ada_ne': 488, 'ada_lr': 0.725409544522513, 'et_Scaler': 'minmax', 'et_max_depth': 18, 'et_ne': 546, 'rf_Scaler': 'log', 'rf_max_depth': 12, 'rf_ne': 834}. Best is trial#91 with value: 3.302161111165035.\n",
            "[I 2020-07-08 13:58:18,957] Finished trial#393 with value: 3.333707825449828 with parameters: {'combos': 0, 'ada_Scaler': 'stand', 'ada_ne': 288, 'ada_lr': 0.812771354073733, 'et_Scaler': 'log', 'et_max_depth': 19, 'et_ne': 732, 'rf_Scaler': 'log', 'rf_max_depth': 19, 'rf_ne': 869}. Best is trial#91 with value: 3.302161111165035.\n",
            "[I 2020-07-08 13:58:23,264] Finished trial#394 with value: 3.3152585208171117 with parameters: {'combos': 0, 'ada_Scaler': 'stand', 'ada_ne': 631, 'ada_lr': 0.9961263391035868, 'et_Scaler': 'stand', 'et_max_depth': 18, 'et_ne': 694, 'rf_Scaler': 'log', 'rf_max_depth': 18, 'rf_ne': 633}. Best is trial#91 with value: 3.302161111165035.\n",
            "[I 2020-07-08 13:58:27,855] Finished trial#395 with value: 3.3334982828910285 with parameters: {'combos': 0, 'ada_Scaler': 'stand', 'ada_ne': 931, 'ada_lr': 0.9556713105266191, 'et_Scaler': 'stand', 'et_max_depth': 18, 'et_ne': 689, 'rf_Scaler': 'log', 'rf_max_depth': 18, 'rf_ne': 561}. Best is trial#91 with value: 3.302161111165035.\n"
          ],
          "name": "stderr"
        },
        {
          "output_type": "stream",
          "text": [
            "[0]\tvalidation-rmse:23.9807\n",
            "[1]\tvalidation-rmse:23.9807\n",
            "[2]\tvalidation-rmse:23.9807\n",
            "[3]\tvalidation-rmse:23.9807\n",
            "[4]\tvalidation-rmse:23.9807\n",
            "[5]\tvalidation-rmse:23.9297\n",
            "[6]\tvalidation-rmse:23.9296\n",
            "[7]\tvalidation-rmse:23.8274\n",
            "[8]\tvalidation-rmse:23.8282\n",
            "[9]\tvalidation-rmse:23.9302\n"
          ],
          "name": "stdout"
        },
        {
          "output_type": "stream",
          "text": [
            "[I 2020-07-08 13:58:29,035] Finished trial#396 with value: 8.41001264154565 with parameters: {'combos': 1, 'ada_Scaler': 'stand', 'ada_ne': 51, 'ada_lr': 0.696538493990655, 'et_Scaler': 'stand', 'et_max_depth': 17, 'et_ne': 484, 'xgb_Scaler': 'stand', 'booster': 'dart', 'lambda': 0.1651624761267052, 'alpha': 1.3444701581759067e-06, 'max_depth': 7, 'eta': 0.002241833695822498, 'gamma': 1.2505715317199567e-05, 'grow_policy': 'lossguide', 'sample_type': 'weighted', 'normalize_type': 'forest', 'rate_drop': 0.7304285865724157, 'skip_drop': 2.84345106100097e-08}. Best is trial#91 with value: 3.302161111165035.\n",
            "[I 2020-07-08 13:58:32,935] Finished trial#397 with value: 3.366715680743701 with parameters: {'combos': 0, 'ada_Scaler': 'stand', 'ada_ne': 316, 'ada_lr': 0.9891148332706668, 'et_Scaler': 'stand', 'et_max_depth': 18, 'et_ne': 654, 'rf_Scaler': 'log', 'rf_max_depth': 18, 'rf_ne': 691}. Best is trial#91 with value: 3.302161111165035.\n",
            "[I 2020-07-08 13:58:37,177] Finished trial#398 with value: 3.3216140311518894 with parameters: {'combos': 0, 'ada_Scaler': 'stand', 'ada_ne': 510, 'ada_lr': 0.9990134331411201, 'et_Scaler': 'stand', 'et_max_depth': 18, 'et_ne': 700, 'rf_Scaler': 'log', 'rf_max_depth': 18, 'rf_ne': 674}. Best is trial#91 with value: 3.302161111165035.\n",
            "[I 2020-07-08 13:58:41,193] Finished trial#399 with value: 3.3745627855145672 with parameters: {'combos': 0, 'ada_Scaler': 'stand', 'ada_ne': 658, 'ada_lr': 0.8783302434701278, 'et_Scaler': 'stand', 'et_max_depth': 17, 'et_ne': 531, 'rf_Scaler': 'log', 'rf_max_depth': 17, 'rf_ne': 613}. Best is trial#91 with value: 3.302161111165035.\n",
            "[I 2020-07-08 13:58:45,634] Finished trial#400 with value: 3.394058095860999 with parameters: {'combos': 0, 'ada_Scaler': 'minmax', 'ada_ne': 631, 'ada_lr': 0.7631875677761831, 'et_Scaler': 'stand', 'et_max_depth': 18, 'et_ne': 620, 'rf_Scaler': 'log', 'rf_max_depth': 19, 'rf_ne': 710}. Best is trial#91 with value: 3.302161111165035.\n",
            "[I 2020-07-08 13:58:50,460] Finished trial#401 with value: 3.3037891426238093 with parameters: {'combos': 0, 'ada_Scaler': 'stand', 'ada_ne': 955, 'ada_lr': 0.9989948683494276, 'et_Scaler': 'stand', 'et_max_depth': 18, 'et_ne': 596, 'rf_Scaler': 'log', 'rf_max_depth': 9, 'rf_ne': 730}. Best is trial#91 with value: 3.302161111165035.\n",
            "[I 2020-07-08 13:58:54,789] Finished trial#402 with value: 3.3817022676373987 with parameters: {'combos': 0, 'ada_Scaler': 'stand', 'ada_ne': 901, 'ada_lr': 0.6476841336611284, 'et_Scaler': 'stand', 'et_max_depth': 11, 'et_ne': 590, 'rf_Scaler': 'log', 'rf_max_depth': 6, 'rf_ne': 753}. Best is trial#91 with value: 3.302161111165035.\n",
            "[I 2020-07-08 13:58:57,952] Setting status of trial#403 as TrialState.PRUNED. Trial was pruned at iteration 11.\n",
            "[I 2020-07-08 13:59:01,389] Finished trial#404 with value: 3.301519969120148 with parameters: {'combos': 0, 'ada_Scaler': 'stand', 'ada_ne': 247, 'ada_lr': 0.7298227126509299, 'et_Scaler': 'stand', 'et_max_depth': 18, 'et_ne': 599, 'rf_Scaler': 'log', 'rf_max_depth': 10, 'rf_ne': 622}. Best is trial#404 with value: 3.301519969120148.\n",
            "[I 2020-07-08 13:59:04,782] Finished trial#405 with value: 3.3607108420653384 with parameters: {'combos': 0, 'ada_Scaler': 'stand', 'ada_ne': 247, 'ada_lr': 0.7298714569798411, 'et_Scaler': 'stand', 'et_max_depth': 18, 'et_ne': 618, 'rf_Scaler': 'log', 'rf_max_depth': 9, 'rf_ne': 653}. Best is trial#404 with value: 3.301519969120148.\n",
            "[I 2020-07-08 13:59:08,313] Finished trial#406 with value: 3.341240442315911 with parameters: {'combos': 0, 'ada_Scaler': 'stand', 'ada_ne': 198, 'ada_lr': 0.7003392940231018, 'et_Scaler': 'stand', 'et_max_depth': 18, 'et_ne': 590, 'rf_Scaler': 'log', 'rf_max_depth': 18, 'rf_ne': 665}. Best is trial#404 with value: 3.301519969120148.\n"
          ],
          "name": "stderr"
        },
        {
          "output_type": "stream",
          "text": [
            "[0]\tvalidation-rmse:14.9562\n",
            "[1]\tvalidation-rmse:9.65597\n",
            "[2]\tvalidation-rmse:6.6474\n",
            "[3]\tvalidation-rmse:5.02377\n",
            "[4]\tvalidation-rmse:4.20177\n",
            "[5]\tvalidation-rmse:3.91459\n",
            "[6]\tvalidation-rmse:3.81356\n",
            "[7]\tvalidation-rmse:3.77483\n",
            "[8]\tvalidation-rmse:3.75095\n",
            "[9]\tvalidation-rmse:3.8116\n"
          ],
          "name": "stdout"
        },
        {
          "output_type": "stream",
          "text": [
            "[I 2020-07-08 13:59:10,020] Finished trial#407 with value: 3.2245092639104747 with parameters: {'combos': 1, 'ada_Scaler': 'stand', 'ada_ne': 228, 'ada_lr': 0.676188941907666, 'et_Scaler': 'stand', 'et_max_depth': 18, 'et_ne': 611, 'xgb_Scaler': 'log', 'booster': 'gbtree', 'lambda': 0.0035440484275880554, 'alpha': 0.5740095259083574, 'max_depth': 3, 'eta': 0.3890599038063908, 'gamma': 2.867544754726937e-08, 'grow_policy': 'depthwise'}. Best is trial#407 with value: 3.2245092639104747.\n"
          ],
          "name": "stderr"
        },
        {
          "output_type": "stream",
          "text": [
            "[0]\tvalidation-rmse:21.5062\n",
            "[1]\tvalidation-rmse:19.264\n",
            "[2]\tvalidation-rmse:17.2384\n",
            "[3]\tvalidation-rmse:15.4496\n",
            "[4]\tvalidation-rmse:13.8861\n",
            "[5]\tvalidation-rmse:12.5024\n",
            "[6]\tvalidation-rmse:11.3273\n",
            "[7]\tvalidation-rmse:10.2222\n",
            "[8]\tvalidation-rmse:9.25396\n",
            "[9]\tvalidation-rmse:8.41448\n"
          ],
          "name": "stdout"
        },
        {
          "output_type": "stream",
          "text": [
            "[I 2020-07-08 13:59:11,752] Finished trial#408 with value: 4.065444358530991 with parameters: {'combos': 1, 'ada_Scaler': 'stand', 'ada_ne': 229, 'ada_lr': 0.6791156387581387, 'et_Scaler': 'stand', 'et_max_depth': 19, 'et_ne': 634, 'xgb_Scaler': 'log', 'booster': 'gbtree', 'lambda': 0.4059303404586032, 'alpha': 0.600671507847882, 'max_depth': 3, 'eta': 0.11005242851907954, 'gamma': 2.235144645423456e-08, 'grow_policy': 'depthwise'}. Best is trial#407 with value: 3.2245092639104747.\n",
            "[I 2020-07-08 13:59:15,080] Finished trial#409 with value: 3.3868192480757533 with parameters: {'combos': 0, 'ada_Scaler': 'stand', 'ada_ne': 203, 'ada_lr': 0.6433156008660494, 'et_Scaler': 'stand', 'et_max_depth': 18, 'et_ne': 607, 'rf_Scaler': 'minmax', 'rf_max_depth': 10, 'rf_ne': 640}. Best is trial#407 with value: 3.2245092639104747.\n",
            "[I 2020-07-08 13:59:16,576] Setting status of trial#410 as TrialState.PRUNED. Trial was pruned at iteration 11.\n"
          ],
          "name": "stderr"
        },
        {
          "output_type": "stream",
          "text": [
            "[0]\tvalidation-rmse:8.18666\n",
            "[1]\tvalidation-rmse:4.78048\n",
            "[2]\tvalidation-rmse:4.57513\n",
            "[3]\tvalidation-rmse:4.57015\n",
            "[4]\tvalidation-rmse:4.53582\n",
            "[5]\tvalidation-rmse:4.5213\n",
            "[6]\tvalidation-rmse:4.44765\n",
            "[7]\tvalidation-rmse:4.57128\n",
            "[8]\tvalidation-rmse:4.60204\n",
            "[9]\tvalidation-rmse:4.59173\n"
          ],
          "name": "stdout"
        },
        {
          "output_type": "stream",
          "text": [
            "[I 2020-07-08 13:59:18,322] Finished trial#411 with value: 3.4195305158914007 with parameters: {'combos': 1, 'ada_Scaler': 'stand', 'ada_ne': 246, 'ada_lr': 0.7653000159302474, 'et_Scaler': 'stand', 'et_max_depth': 18, 'et_ne': 569, 'xgb_Scaler': 'log', 'booster': 'gbtree', 'lambda': 0.002691467827979328, 'alpha': 0.018374560661352804, 'max_depth': 4, 'eta': 0.6985689664531218, 'gamma': 2.600371303666315e-06, 'grow_policy': 'depthwise'}. Best is trial#407 with value: 3.2245092639104747.\n",
            "[I 2020-07-08 13:59:21,413] Finished trial#412 with value: 3.3393625409159493 with parameters: {'combos': 0, 'ada_Scaler': 'stand', 'ada_ne': 252, 'ada_lr': 0.6696600913857091, 'et_Scaler': 'stand', 'et_max_depth': 18, 'et_ne': 440, 'rf_Scaler': 'log', 'rf_max_depth': 10, 'rf_ne': 636}. Best is trial#407 with value: 3.2245092639104747.\n",
            "[I 2020-07-08 13:59:22,979] Setting status of trial#413 as TrialState.PRUNED. Trial was pruned at iteration 11.\n",
            "[I 2020-07-08 13:59:27,451] Finished trial#414 with value: 3.3480077549290845 with parameters: {'combos': 0, 'ada_Scaler': 'stand', 'ada_ne': 745, 'ada_lr': 0.7529665298617011, 'et_Scaler': 'stand', 'et_max_depth': 17, 'et_ne': 599, 'rf_Scaler': 'log', 'rf_max_depth': 9, 'rf_ne': 732}. Best is trial#407 with value: 3.2245092639104747.\n",
            "[I 2020-07-08 13:59:30,269] Finished trial#415 with value: 3.361977580650083 with parameters: {'combos': 0, 'ada_Scaler': 'stand', 'ada_ne': 222, 'ada_lr': 0.7036749673698859, 'et_Scaler': 'stand', 'et_max_depth': 15, 'et_ne': 577, 'rf_Scaler': 'log', 'rf_max_depth': 9, 'rf_ne': 491}. Best is trial#407 with value: 3.2245092639104747.\n"
          ],
          "name": "stderr"
        },
        {
          "output_type": "stream",
          "text": [
            "[0]\tvalidation-rmse:14.1512\n",
            "[1]\tvalidation-rmse:8.77603\n",
            "[2]\tvalidation-rmse:6.31893\n",
            "[3]\tvalidation-rmse:4.60363\n",
            "[4]\tvalidation-rmse:4.16805\n",
            "[5]\tvalidation-rmse:3.67561\n",
            "[6]\tvalidation-rmse:3.51128\n",
            "[7]\tvalidation-rmse:3.54514\n",
            "[8]\tvalidation-rmse:3.52506\n",
            "[9]\tvalidation-rmse:3.51246\n"
          ],
          "name": "stdout"
        },
        {
          "output_type": "stream",
          "text": [
            "[I 2020-07-08 13:59:32,069] Finished trial#416 with value: 3.1520865476284894 with parameters: {'combos': 1, 'ada_Scaler': 'stand', 'ada_ne': 278, 'ada_lr': 0.851279764787209, 'et_Scaler': 'stand', 'et_max_depth': 18, 'et_ne': 615, 'xgb_Scaler': 'log', 'booster': 'gbtree', 'lambda': 0.013342824744494504, 'alpha': 0.24846282417294255, 'max_depth': 2, 'eta': 0.44723513728320285, 'gamma': 1.4635716412268533e-08, 'grow_policy': 'depthwise'}. Best is trial#416 with value: 3.1520865476284894.\n"
          ],
          "name": "stderr"
        },
        {
          "output_type": "stream",
          "text": [
            "[0]\tvalidation-rmse:23.4931\n",
            "[1]\tvalidation-rmse:23.0167\n",
            "[2]\tvalidation-rmse:22.5514\n",
            "[3]\tvalidation-rmse:22.0968\n",
            "[4]\tvalidation-rmse:21.6513\n",
            "[5]\tvalidation-rmse:21.2175\n",
            "[6]\tvalidation-rmse:20.7925\n",
            "[7]\tvalidation-rmse:20.3802\n",
            "[8]\tvalidation-rmse:19.9768\n",
            "[9]\tvalidation-rmse:19.583\n"
          ],
          "name": "stdout"
        },
        {
          "output_type": "stream",
          "text": [
            "[I 2020-07-08 13:59:33,823] Finished trial#417 with value: 7.02045760517599 with parameters: {'combos': 1, 'ada_Scaler': 'stand', 'ada_ne': 272, 'ada_lr': 0.8470301262643821, 'et_Scaler': 'stand', 'et_max_depth': 18, 'et_ne': 609, 'xgb_Scaler': 'log', 'booster': 'gbtree', 'lambda': 0.15200995131163073, 'alpha': 0.21735740853465388, 'max_depth': 2, 'eta': 0.02173614655690698, 'gamma': 1.6656098234964916e-08, 'grow_policy': 'depthwise'}. Best is trial#416 with value: 3.1520865476284894.\n"
          ],
          "name": "stderr"
        },
        {
          "output_type": "stream",
          "text": [
            "[0]\tvalidation-rmse:15.7421\n",
            "[1]\tvalidation-rmse:10.5937\n",
            "[2]\tvalidation-rmse:7.45424\n",
            "[3]\tvalidation-rmse:5.5537\n",
            "[4]\tvalidation-rmse:4.44454\n",
            "[5]\tvalidation-rmse:3.96748\n",
            "[6]\tvalidation-rmse:3.80205\n",
            "[7]\tvalidation-rmse:3.73284\n",
            "[8]\tvalidation-rmse:3.67762\n",
            "[9]\tvalidation-rmse:3.68908\n"
          ],
          "name": "stdout"
        },
        {
          "output_type": "stream",
          "text": [
            "[I 2020-07-08 13:59:35,599] Finished trial#418 with value: 3.207870182203862 with parameters: {'combos': 1, 'ada_Scaler': 'stand', 'ada_ne': 262, 'ada_lr': 0.8592940571411178, 'et_Scaler': 'stand', 'et_max_depth': 18, 'et_ne': 640, 'xgb_Scaler': 'log', 'booster': 'gbtree', 'lambda': 0.014818630117352261, 'alpha': 0.08351362565615646, 'max_depth': 3, 'eta': 0.3540817608360645, 'gamma': 6.518067634041752e-08, 'grow_policy': 'depthwise'}. Best is trial#416 with value: 3.1520865476284894.\n",
            "[I 2020-07-08 13:59:37,209] Setting status of trial#419 as TrialState.PRUNED. Trial was pruned at iteration 11.\n",
            "[I 2020-07-08 13:59:39,046] Setting status of trial#420 as TrialState.PRUNED. Trial was pruned at iteration 11.\n"
          ],
          "name": "stderr"
        },
        {
          "output_type": "stream",
          "text": [
            "[0]\tvalidation-rmse:16.3615\n",
            "[1]\tvalidation-rmse:11.4536\n",
            "[2]\tvalidation-rmse:8.18288\n",
            "[3]\tvalidation-rmse:6.1796\n",
            "[4]\tvalidation-rmse:4.99944\n",
            "[5]\tvalidation-rmse:4.32556\n",
            "[6]\tvalidation-rmse:4.01058\n",
            "[7]\tvalidation-rmse:3.89581\n",
            "[8]\tvalidation-rmse:3.86\n",
            "[9]\tvalidation-rmse:3.88001\n"
          ],
          "name": "stdout"
        },
        {
          "output_type": "stream",
          "text": [
            "[I 2020-07-08 13:59:40,973] Finished trial#421 with value: 3.3759038281426945 with parameters: {'combos': 1, 'ada_Scaler': 'stand', 'ada_ne': 272, 'ada_lr': 0.9221872189393008, 'et_Scaler': 'stand', 'et_max_depth': 19, 'et_ne': 648, 'xgb_Scaler': 'log', 'booster': 'gbtree', 'lambda': 0.018784948411052806, 'alpha': 0.9989319219210904, 'max_depth': 3, 'eta': 0.3264630169318203, 'gamma': 6.276257790979227e-08, 'grow_policy': 'depthwise'}. Best is trial#416 with value: 3.1520865476284894.\n"
          ],
          "name": "stderr"
        },
        {
          "output_type": "stream",
          "text": [
            "[0]\tvalidation-rmse:21.5496\n",
            "[1]\tvalidation-rmse:19.3935\n",
            "[2]\tvalidation-rmse:17.4605\n",
            "[3]\tvalidation-rmse:15.7987\n",
            "[4]\tvalidation-rmse:14.3046\n",
            "[5]\tvalidation-rmse:12.92\n",
            "[6]\tvalidation-rmse:11.7887\n",
            "[7]\tvalidation-rmse:10.71\n",
            "[8]\tvalidation-rmse:9.78309\n",
            "[9]\tvalidation-rmse:9.01154\n"
          ],
          "name": "stdout"
        },
        {
          "output_type": "stream",
          "text": [
            "[I 2020-07-08 13:59:42,787] Finished trial#422 with value: 4.192647084723668 with parameters: {'combos': 1, 'ada_Scaler': 'stand', 'ada_ne': 289, 'ada_lr': 0.8624546817355861, 'et_Scaler': 'stand', 'et_max_depth': 18, 'et_ne': 640, 'xgb_Scaler': 'log', 'booster': 'gbtree', 'lambda': 0.009404600972659454, 'alpha': 0.3654951740570393, 'max_depth': 2, 'eta': 0.10844138516757554, 'gamma': 3.0240574106239073e-07, 'grow_policy': 'depthwise'}. Best is trial#416 with value: 3.1520865476284894.\n"
          ],
          "name": "stderr"
        },
        {
          "output_type": "stream",
          "text": [
            "[0]\tvalidation-rmse:6.32883\n",
            "[1]\tvalidation-rmse:5.20963\n",
            "[2]\tvalidation-rmse:4.84272\n",
            "[3]\tvalidation-rmse:4.81602\n",
            "[4]\tvalidation-rmse:4.84068\n",
            "[5]\tvalidation-rmse:4.97473\n",
            "[6]\tvalidation-rmse:4.85936\n",
            "[7]\tvalidation-rmse:4.80753\n",
            "[8]\tvalidation-rmse:4.796\n",
            "[9]\tvalidation-rmse:4.55453\n"
          ],
          "name": "stdout"
        },
        {
          "output_type": "stream",
          "text": [
            "[I 2020-07-08 13:59:44,459] Finished trial#423 with value: 3.3629236010189034 with parameters: {'combos': 1, 'ada_Scaler': 'log', 'ada_ne': 214, 'ada_lr': 0.9262697504354831, 'et_Scaler': 'stand', 'et_max_depth': 17, 'et_ne': 624, 'xgb_Scaler': 'log', 'booster': 'gbtree', 'lambda': 0.0029360826083189755, 'alpha': 0.09125094115211707, 'max_depth': 2, 'eta': 0.9038960348178671, 'gamma': 1.3142495919144555e-07, 'grow_policy': 'depthwise'}. Best is trial#416 with value: 3.1520865476284894.\n"
          ],
          "name": "stderr"
        },
        {
          "output_type": "stream",
          "text": [
            "[0]\tvalidation-rmse:13.3332\n",
            "[1]\tvalidation-rmse:7.74163\n",
            "[2]\tvalidation-rmse:5.27284\n",
            "[3]\tvalidation-rmse:4.21271\n",
            "[4]\tvalidation-rmse:3.88978\n",
            "[5]\tvalidation-rmse:3.82166\n",
            "[6]\tvalidation-rmse:3.83286\n",
            "[7]\tvalidation-rmse:3.84897\n",
            "[8]\tvalidation-rmse:3.86011\n",
            "[9]\tvalidation-rmse:3.89959\n"
          ],
          "name": "stdout"
        },
        {
          "output_type": "stream",
          "text": [
            "[I 2020-07-08 13:59:46,191] Finished trial#424 with value: 3.23569986765327 with parameters: {'combos': 1, 'ada_Scaler': 'stand', 'ada_ne': 247, 'ada_lr': 0.836219680841221, 'et_Scaler': 'stand', 'et_max_depth': 18, 'et_ne': 597, 'xgb_Scaler': 'log', 'booster': 'gbtree', 'lambda': 0.05656538105384639, 'alpha': 0.06624009277727053, 'max_depth': 3, 'eta': 0.4608702740890295, 'gamma': 1.0596595046705038e-08, 'grow_policy': 'depthwise'}. Best is trial#416 with value: 3.1520865476284894.\n"
          ],
          "name": "stderr"
        },
        {
          "output_type": "stream",
          "text": [
            "[0]\tvalidation-rmse:14.1863\n",
            "[1]\tvalidation-rmse:8.73806\n",
            "[2]\tvalidation-rmse:6.00021\n",
            "[3]\tvalidation-rmse:4.50661\n",
            "[4]\tvalidation-rmse:3.96274\n",
            "[5]\tvalidation-rmse:3.86035\n",
            "[6]\tvalidation-rmse:3.74543\n",
            "[7]\tvalidation-rmse:3.70787\n",
            "[8]\tvalidation-rmse:3.79499\n",
            "[9]\tvalidation-rmse:3.80672\n"
          ],
          "name": "stdout"
        },
        {
          "output_type": "stream",
          "text": [
            "[I 2020-07-08 13:59:47,771] Finished trial#425 with value: 3.262696177495464 with parameters: {'combos': 1, 'ada_Scaler': 'stand', 'ada_ne': 176, 'ada_lr': 0.820660171964448, 'et_Scaler': 'stand', 'et_max_depth': 19, 'et_ne': 592, 'xgb_Scaler': 'log', 'booster': 'gbtree', 'lambda': 0.044377601342470374, 'alpha': 0.005196051430280093, 'max_depth': 3, 'eta': 0.422305858211587, 'gamma': 1.0091035556736484e-08, 'grow_policy': 'depthwise'}. Best is trial#416 with value: 3.1520865476284894.\n"
          ],
          "name": "stderr"
        },
        {
          "output_type": "stream",
          "text": [
            "[0]\tvalidation-rmse:13.1675\n",
            "[1]\tvalidation-rmse:7.57892\n",
            "[2]\tvalidation-rmse:5.15648\n",
            "[3]\tvalidation-rmse:4.13811\n",
            "[4]\tvalidation-rmse:3.81945\n",
            "[5]\tvalidation-rmse:3.72916\n",
            "[6]\tvalidation-rmse:3.69335\n",
            "[7]\tvalidation-rmse:3.70971\n",
            "[8]\tvalidation-rmse:3.77111\n",
            "[9]\tvalidation-rmse:3.76051\n"
          ],
          "name": "stdout"
        },
        {
          "output_type": "stream",
          "text": [
            "[I 2020-07-08 13:59:49,333] Finished trial#426 with value: 3.2624588542418183 with parameters: {'combos': 1, 'ada_Scaler': 'stand', 'ada_ne': 172, 'ada_lr': 0.8016736447819266, 'et_Scaler': 'stand', 'et_max_depth': 20, 'et_ne': 592, 'xgb_Scaler': 'log', 'booster': 'gbtree', 'lambda': 0.052045652363961886, 'alpha': 0.1530396392974299, 'max_depth': 3, 'eta': 0.4682884373677199, 'gamma': 1.1918883006090198e-08, 'grow_policy': 'depthwise'}. Best is trial#416 with value: 3.1520865476284894.\n"
          ],
          "name": "stderr"
        },
        {
          "output_type": "stream",
          "text": [
            "[0]\tvalidation-rmse:13.5238\n",
            "[1]\tvalidation-rmse:8.04782\n",
            "[2]\tvalidation-rmse:5.48607\n",
            "[3]\tvalidation-rmse:4.31211\n",
            "[4]\tvalidation-rmse:3.97522\n",
            "[5]\tvalidation-rmse:3.99901\n",
            "[6]\tvalidation-rmse:3.99179\n",
            "[7]\tvalidation-rmse:3.95989\n",
            "[8]\tvalidation-rmse:3.95893\n",
            "[9]\tvalidation-rmse:3.9688\n"
          ],
          "name": "stdout"
        },
        {
          "output_type": "stream",
          "text": [
            "[I 2020-07-08 13:59:50,966] Finished trial#427 with value: 3.3383312138988734 with parameters: {'combos': 1, 'ada_Scaler': 'stand', 'ada_ne': 174, 'ada_lr': 0.8136657604852812, 'et_Scaler': 'stand', 'et_max_depth': 19, 'et_ne': 623, 'xgb_Scaler': 'log', 'booster': 'gbtree', 'lambda': 0.03992955332172931, 'alpha': 0.14318682909372435, 'max_depth': 3, 'eta': 0.4519214444949439, 'gamma': 1.2757466379635838e-08, 'grow_policy': 'depthwise'}. Best is trial#416 with value: 3.1520865476284894.\n"
          ],
          "name": "stderr"
        },
        {
          "output_type": "stream",
          "text": [
            "[0]\tvalidation-rmse:21.0244\n",
            "[1]\tvalidation-rmse:18.4676\n",
            "[2]\tvalidation-rmse:16.2334\n",
            "[3]\tvalidation-rmse:14.227\n",
            "[4]\tvalidation-rmse:12.5881\n",
            "[5]\tvalidation-rmse:11.0973\n",
            "[6]\tvalidation-rmse:9.8974\n",
            "[7]\tvalidation-rmse:8.7592\n",
            "[8]\tvalidation-rmse:7.88423\n",
            "[9]\tvalidation-rmse:7.09003\n"
          ],
          "name": "stdout"
        },
        {
          "output_type": "stream",
          "text": [
            "[I 2020-07-08 13:59:52,588] Finished trial#428 with value: 3.8072282264928363 with parameters: {'combos': 1, 'ada_Scaler': 'stand', 'ada_ne': 179, 'ada_lr': 0.8248393223994253, 'et_Scaler': 'stand', 'et_max_depth': 20, 'et_ne': 612, 'xgb_Scaler': 'log', 'booster': 'gbtree', 'lambda': 0.0966330762409429, 'alpha': 0.05878353417777312, 'max_depth': 4, 'eta': 0.12437976611349731, 'gamma': 3.350394909385465e-08, 'grow_policy': 'depthwise'}. Best is trial#416 with value: 3.1520865476284894.\n"
          ],
          "name": "stderr"
        },
        {
          "output_type": "stream",
          "text": [
            "[0]\tvalidation-rmse:6.1807\n",
            "[1]\tvalidation-rmse:5.23017\n",
            "[2]\tvalidation-rmse:5.1593\n",
            "[3]\tvalidation-rmse:5.34269\n",
            "[4]\tvalidation-rmse:5.44028\n",
            "[5]\tvalidation-rmse:5.39547\n",
            "[6]\tvalidation-rmse:5.28439\n",
            "[7]\tvalidation-rmse:5.34228\n",
            "[8]\tvalidation-rmse:5.25533\n",
            "[9]\tvalidation-rmse:5.30756\n"
          ],
          "name": "stdout"
        },
        {
          "output_type": "stream",
          "text": [
            "[I 2020-07-08 13:59:54,150] Finished trial#429 with value: 3.493276638671231 with parameters: {'combos': 1, 'ada_Scaler': 'stand', 'ada_ne': 165, 'ada_lr': 0.8077991238874344, 'et_Scaler': 'stand', 'et_max_depth': 20, 'et_ne': 599, 'xgb_Scaler': 'log', 'booster': 'gbtree', 'lambda': 0.014033107743636773, 'alpha': 0.02881161361610756, 'max_depth': 3, 'eta': 0.9692785007029312, 'gamma': 1.098761048813423e-08, 'grow_policy': 'depthwise'}. Best is trial#416 with value: 3.1520865476284894.\n"
          ],
          "name": "stderr"
        },
        {
          "output_type": "stream",
          "text": [
            "[0]\tvalidation-rmse:23.0268\n",
            "[1]\tvalidation-rmse:22.1138\n",
            "[2]\tvalidation-rmse:21.2402\n",
            "[3]\tvalidation-rmse:20.419\n",
            "[4]\tvalidation-rmse:19.6287\n",
            "[5]\tvalidation-rmse:18.852\n",
            "[6]\tvalidation-rmse:18.1162\n",
            "[7]\tvalidation-rmse:17.407\n",
            "[8]\tvalidation-rmse:16.7117\n",
            "[9]\tvalidation-rmse:16.0591\n"
          ],
          "name": "stdout"
        },
        {
          "output_type": "stream",
          "text": [
            "[I 2020-07-08 13:59:55,640] Finished trial#430 with value: 5.965403534058459 with parameters: {'combos': 1, 'ada_Scaler': 'stand', 'ada_ne': 130, 'ada_lr': 0.7799481337623457, 'et_Scaler': 'stand', 'et_max_depth': 19, 'et_ne': 588, 'xgb_Scaler': 'log', 'booster': 'gbtree', 'lambda': 0.04883614597938008, 'alpha': 0.011481313460693783, 'max_depth': 3, 'eta': 0.04041914923778562, 'gamma': 4.80534077620337e-08, 'grow_policy': 'depthwise'}. Best is trial#416 with value: 3.1520865476284894.\n"
          ],
          "name": "stderr"
        },
        {
          "output_type": "stream",
          "text": [
            "[0]\tvalidation-rmse:16.5456\n",
            "[1]\tvalidation-rmse:11.6811\n",
            "[2]\tvalidation-rmse:8.72889\n",
            "[3]\tvalidation-rmse:6.80237\n",
            "[4]\tvalidation-rmse:5.31625\n",
            "[5]\tvalidation-rmse:4.44402\n",
            "[6]\tvalidation-rmse:4.09881\n",
            "[7]\tvalidation-rmse:3.95773\n",
            "[8]\tvalidation-rmse:3.90395\n",
            "[9]\tvalidation-rmse:3.7742\n"
          ],
          "name": "stdout"
        },
        {
          "output_type": "stream",
          "text": [
            "[I 2020-07-08 13:59:57,247] Finished trial#431 with value: 3.3999873942011813 with parameters: {'combos': 1, 'ada_Scaler': 'minmax', 'ada_ne': 194, 'ada_lr': 0.7471723703553548, 'et_Scaler': 'stand', 'et_max_depth': 20, 'et_ne': 593, 'xgb_Scaler': 'log', 'booster': 'gbtree', 'lambda': 0.00591717432253872, 'alpha': 0.00545832950713015, 'max_depth': 2, 'eta': 0.3353209683592947, 'gamma': 2.3573155137511145e-08, 'grow_policy': 'depthwise'}. Best is trial#416 with value: 3.1520865476284894.\n"
          ],
          "name": "stderr"
        },
        {
          "output_type": "stream",
          "text": [
            "[0]\tvalidation-rmse:22.1301\n",
            "[1]\tvalidation-rmse:20.4278\n",
            "[2]\tvalidation-rmse:18.904\n",
            "[3]\tvalidation-rmse:17.4755\n",
            "[4]\tvalidation-rmse:16.1343\n",
            "[5]\tvalidation-rmse:14.9261\n",
            "[6]\tvalidation-rmse:13.7995\n",
            "[7]\tvalidation-rmse:12.7663\n",
            "[8]\tvalidation-rmse:11.8179\n",
            "[9]\tvalidation-rmse:10.9539\n"
          ],
          "name": "stdout"
        },
        {
          "output_type": "stream",
          "text": [
            "[I 2020-07-08 13:59:58,720] Finished trial#432 with value: 4.611025085567421 with parameters: {'combos': 1, 'ada_Scaler': 'stand', 'ada_ne': 138, 'ada_lr': 0.8334178450216394, 'et_Scaler': 'stand', 'et_max_depth': 20, 'et_ne': 581, 'xgb_Scaler': 'log', 'booster': 'gbtree', 'lambda': 0.024418568581192214, 'alpha': 0.2794743775627451, 'max_depth': 4, 'eta': 0.07689164071745509, 'gamma': 1.0233199149964781e-08, 'grow_policy': 'depthwise'}. Best is trial#416 with value: 3.1520865476284894.\n"
          ],
          "name": "stderr"
        },
        {
          "output_type": "stream",
          "text": [
            "[0]\tvalidation-rmse:19.4072\n",
            "[1]\tvalidation-rmse:15.5938\n",
            "[2]\tvalidation-rmse:12.653\n",
            "[3]\tvalidation-rmse:10.3663\n",
            "[4]\tvalidation-rmse:8.59671\n",
            "[5]\tvalidation-rmse:7.16649\n",
            "[6]\tvalidation-rmse:6.1311\n",
            "[7]\tvalidation-rmse:5.37818\n",
            "[8]\tvalidation-rmse:4.81958\n",
            "[9]\tvalidation-rmse:4.36656\n"
          ],
          "name": "stdout"
        },
        {
          "output_type": "stream",
          "text": [
            "[I 2020-07-08 14:00:00,349] Finished trial#433 with value: 3.34076654120439 with parameters: {'combos': 1, 'ada_Scaler': 'stand', 'ada_ne': 177, 'ada_lr': 0.7933837900575245, 'et_Scaler': 'stand', 'et_max_depth': 19, 'et_ne': 620, 'xgb_Scaler': 'log', 'booster': 'gbtree', 'lambda': 0.22536300022750533, 'alpha': 0.659705831802426, 'max_depth': 3, 'eta': 0.20311283889065546, 'gamma': 1.409043267891122e-07, 'grow_policy': 'depthwise'}. Best is trial#416 with value: 3.1520865476284894.\n",
            "[I 2020-07-08 14:00:01,793] Setting status of trial#434 as TrialState.PRUNED. Trial was pruned at iteration 11.\n"
          ],
          "name": "stderr"
        },
        {
          "output_type": "stream",
          "text": [
            "[0]\tvalidation-rmse:23.2062\n",
            "[1]\tvalidation-rmse:22.4621\n",
            "[2]\tvalidation-rmse:21.7362\n",
            "[3]\tvalidation-rmse:21.0529\n",
            "[4]\tvalidation-rmse:20.3905\n",
            "[5]\tvalidation-rmse:19.7421\n",
            "[6]\tvalidation-rmse:19.1346\n",
            "[7]\tvalidation-rmse:18.5228\n",
            "[8]\tvalidation-rmse:17.9563\n",
            "[9]\tvalidation-rmse:17.4011\n"
          ],
          "name": "stdout"
        },
        {
          "output_type": "stream",
          "text": [
            "[I 2020-07-08 14:00:03,539] Finished trial#435 with value: 6.4453759871241445 with parameters: {'combos': 1, 'ada_Scaler': 'stand', 'ada_ne': 242, 'ada_lr': 0.7671007527979457, 'et_Scaler': 'stand', 'et_max_depth': 20, 'et_ne': 574, 'xgb_Scaler': 'log', 'booster': 'gbtree', 'lambda': 0.5434466747963997, 'alpha': 0.07847677710271757, 'max_depth': 1, 'eta': 0.03580310357922024, 'gamma': 2.0680048221506073e-08, 'grow_policy': 'depthwise'}. Best is trial#416 with value: 3.1520865476284894.\n"
          ],
          "name": "stderr"
        },
        {
          "output_type": "stream",
          "text": [
            "[0]\tvalidation-rmse:14.3916\n",
            "[1]\tvalidation-rmse:9.02171\n",
            "[2]\tvalidation-rmse:6.48976\n",
            "[3]\tvalidation-rmse:5.02829\n",
            "[4]\tvalidation-rmse:4.2922\n",
            "[5]\tvalidation-rmse:3.98196\n",
            "[6]\tvalidation-rmse:3.96831\n",
            "[7]\tvalidation-rmse:3.87998\n",
            "[8]\tvalidation-rmse:3.84542\n",
            "[9]\tvalidation-rmse:3.87203\n"
          ],
          "name": "stdout"
        },
        {
          "output_type": "stream",
          "text": [
            "[I 2020-07-08 14:00:05,189] Finished trial#436 with value: 3.329420725078223 with parameters: {'combos': 1, 'ada_Scaler': 'stand', 'ada_ne': 218, 'ada_lr': 0.8642298062988268, 'et_Scaler': 'stand', 'et_max_depth': 20, 'et_ne': 600, 'xgb_Scaler': 'log', 'booster': 'gbtree', 'lambda': 0.06784281314230109, 'alpha': 0.1360402736001133, 'max_depth': 2, 'eta': 0.43623130601210025, 'gamma': 5.5150972165744416e-08, 'grow_policy': 'depthwise'}. Best is trial#416 with value: 3.1520865476284894.\n"
          ],
          "name": "stderr"
        },
        {
          "output_type": "stream",
          "text": [
            "[0]\tvalidation-rmse:5.65204\n",
            "[1]\tvalidation-rmse:5.86764\n",
            "[2]\tvalidation-rmse:5.91649\n",
            "[3]\tvalidation-rmse:5.80857\n",
            "[4]\tvalidation-rmse:5.79646\n",
            "[5]\tvalidation-rmse:5.65588\n",
            "[6]\tvalidation-rmse:5.81767\n",
            "[7]\tvalidation-rmse:5.93858\n",
            "[8]\tvalidation-rmse:5.77974\n",
            "[9]\tvalidation-rmse:5.95325\n"
          ],
          "name": "stdout"
        },
        {
          "output_type": "stream",
          "text": [
            "[I 2020-07-08 14:00:07,714] Finished trial#437 with value: 3.616860041839595 with parameters: {'combos': 1, 'ada_Scaler': 'stand', 'ada_ne': 701, 'ada_lr': 0.7342279633408729, 'et_Scaler': 'stand', 'et_max_depth': 19, 'et_ne': 641, 'xgb_Scaler': 'log', 'booster': 'gbtree', 'lambda': 0.0014423204536665394, 'alpha': 0.0428039681587214, 'max_depth': 4, 'eta': 0.95541986640573, 'gamma': 8.98430108443534e-08, 'grow_policy': 'depthwise'}. Best is trial#416 with value: 3.1520865476284894.\n"
          ],
          "name": "stderr"
        },
        {
          "output_type": "stream",
          "text": [
            "[0]\tvalidation-rmse:19.5515\n",
            "[1]\tvalidation-rmse:15.9633\n",
            "[2]\tvalidation-rmse:13.1284\n",
            "[3]\tvalidation-rmse:10.8691\n",
            "[4]\tvalidation-rmse:9.12203\n",
            "[5]\tvalidation-rmse:7.6881\n",
            "[6]\tvalidation-rmse:6.61414\n",
            "[7]\tvalidation-rmse:5.78907\n",
            "[8]\tvalidation-rmse:5.22364\n",
            "[9]\tvalidation-rmse:4.72844\n"
          ],
          "name": "stdout"
        },
        {
          "output_type": "stream",
          "text": [
            "[I 2020-07-08 14:00:09,543] Finished trial#438 with value: 3.4782058453942413 with parameters: {'combos': 1, 'ada_Scaler': 'stand', 'ada_ne': 259, 'ada_lr': 0.8086000613205369, 'et_Scaler': 'stand', 'et_max_depth': 17, 'et_ne': 658, 'xgb_Scaler': 'log', 'booster': 'gbtree', 'lambda': 0.013615082911339208, 'alpha': 0.4618111405143118, 'max_depth': 3, 'eta': 0.18838899425791275, 'gamma': 2.1628960839240227e-07, 'grow_policy': 'depthwise'}. Best is trial#416 with value: 3.1520865476284894.\n"
          ],
          "name": "stderr"
        },
        {
          "output_type": "stream",
          "text": [
            "[0]\tvalidation-rmse:23.7991\n",
            "[1]\tvalidation-rmse:23.619\n",
            "[2]\tvalidation-rmse:23.4405\n",
            "[3]\tvalidation-rmse:23.2635\n",
            "[4]\tvalidation-rmse:23.0881\n",
            "[5]\tvalidation-rmse:22.9141\n",
            "[6]\tvalidation-rmse:22.7417\n",
            "[7]\tvalidation-rmse:22.5707\n",
            "[8]\tvalidation-rmse:22.4012\n",
            "[9]\tvalidation-rmse:22.2332\n"
          ],
          "name": "stdout"
        },
        {
          "output_type": "stream",
          "text": [
            "[I 2020-07-08 14:00:10,981] Finished trial#439 with value: 7.853132425356529 with parameters: {'combos': 1, 'ada_Scaler': 'stand', 'ada_ne': 116, 'ada_lr': 0.8559973901372014, 'et_Scaler': 'stand', 'et_max_depth': 19, 'et_ne': 577, 'xgb_Scaler': 'log', 'booster': 'gbtree', 'lambda': 0.0319054258874287, 'alpha': 0.149364050967952, 'max_depth': 2, 'eta': 0.0080755299928636, 'gamma': 1.0218059934940179e-08, 'grow_policy': 'depthwise'}. Best is trial#416 with value: 3.1520865476284894.\n"
          ],
          "name": "stderr"
        },
        {
          "output_type": "stream",
          "text": [
            "[0]\tvalidation-rmse:22.3032\n",
            "[1]\tvalidation-rmse:20.752\n",
            "[2]\tvalidation-rmse:19.3078\n",
            "[3]\tvalidation-rmse:17.9673\n",
            "[4]\tvalidation-rmse:16.721\n",
            "[5]\tvalidation-rmse:15.5743\n",
            "[6]\tvalidation-rmse:14.533\n",
            "[7]\tvalidation-rmse:13.5369\n",
            "[8]\tvalidation-rmse:12.6557\n",
            "[9]\tvalidation-rmse:11.81\n"
          ],
          "name": "stdout"
        },
        {
          "output_type": "stream",
          "text": [
            "[I 2020-07-08 14:00:12,552] Finished trial#440 with value: 4.837937276052701 with parameters: {'combos': 1, 'ada_Scaler': 'stand', 'ada_ne': 202, 'ada_lr': 0.6765072720190236, 'et_Scaler': 'stand', 'et_max_depth': 13, 'et_ne': 601, 'xgb_Scaler': 'log', 'booster': 'gbtree', 'lambda': 0.10552363864146982, 'alpha': 0.28952625175889213, 'max_depth': 5, 'eta': 0.06944938550839345, 'gamma': 5.748657261259432e-07, 'grow_policy': 'depthwise'}. Best is trial#416 with value: 3.1520865476284894.\n"
          ],
          "name": "stderr"
        },
        {
          "output_type": "stream",
          "text": [
            "[0]\tvalidation-rmse:12.4281\n",
            "[1]\tvalidation-rmse:6.89212\n",
            "[2]\tvalidation-rmse:4.80093\n",
            "[3]\tvalidation-rmse:4.0804\n",
            "[4]\tvalidation-rmse:3.86681\n",
            "[5]\tvalidation-rmse:3.84133\n",
            "[6]\tvalidation-rmse:3.79523\n",
            "[7]\tvalidation-rmse:3.80096\n",
            "[8]\tvalidation-rmse:3.74701\n",
            "[9]\tvalidation-rmse:3.79006\n"
          ],
          "name": "stdout"
        },
        {
          "output_type": "stream",
          "text": [
            "[I 2020-07-08 14:00:14,281] Finished trial#441 with value: 3.227106499110936 with parameters: {'combos': 1, 'ada_Scaler': 'stand', 'ada_ne': 232, 'ada_lr': 0.7217116154455314, 'et_Scaler': 'stand', 'et_max_depth': 19, 'et_ne': 628, 'xgb_Scaler': 'log', 'booster': 'gbtree', 'lambda': 0.05833242102416953, 'alpha': 0.012780696009102633, 'max_depth': 3, 'eta': 0.5019537825337307, 'gamma': 3.307039607966765e-08, 'grow_policy': 'depthwise'}. Best is trial#416 with value: 3.1520865476284894.\n"
          ],
          "name": "stderr"
        },
        {
          "output_type": "stream",
          "text": [
            "[0]\tvalidation-rmse:11.8922\n",
            "[1]\tvalidation-rmse:6.44067\n",
            "[2]\tvalidation-rmse:4.28216\n",
            "[3]\tvalidation-rmse:3.65493\n",
            "[4]\tvalidation-rmse:3.53478\n",
            "[5]\tvalidation-rmse:3.65304\n",
            "[6]\tvalidation-rmse:3.68176\n",
            "[7]\tvalidation-rmse:3.7108\n",
            "[8]\tvalidation-rmse:3.74256\n",
            "[9]\tvalidation-rmse:3.91315\n"
          ],
          "name": "stdout"
        },
        {
          "output_type": "stream",
          "text": [
            "[I 2020-07-08 14:00:15,959] Finished trial#442 with value: 3.1988031284504355 with parameters: {'combos': 1, 'ada_Scaler': 'stand', 'ada_ne': 202, 'ada_lr': 0.7308844021043762, 'et_Scaler': 'stand', 'et_max_depth': 18, 'et_ne': 628, 'xgb_Scaler': 'log', 'booster': 'gbtree', 'lambda': 0.058585205098474154, 'alpha': 0.02563724476658787, 'max_depth': 3, 'eta': 0.5266033068542005, 'gamma': 3.225759694729782e-08, 'grow_policy': 'depthwise'}. Best is trial#416 with value: 3.1520865476284894.\n"
          ],
          "name": "stderr"
        },
        {
          "output_type": "stream",
          "text": [
            "[0]\tvalidation-rmse:12.3386\n",
            "[1]\tvalidation-rmse:6.8141\n",
            "[2]\tvalidation-rmse:4.7656\n",
            "[3]\tvalidation-rmse:4.0738\n",
            "[4]\tvalidation-rmse:3.87041\n",
            "[5]\tvalidation-rmse:3.79473\n",
            "[6]\tvalidation-rmse:3.78526\n",
            "[7]\tvalidation-rmse:3.69771\n",
            "[8]\tvalidation-rmse:3.72175\n",
            "[9]\tvalidation-rmse:3.77399\n"
          ],
          "name": "stdout"
        },
        {
          "output_type": "stream",
          "text": [
            "[I 2020-07-08 14:00:17,600] Finished trial#443 with value: 3.2083050173120577 with parameters: {'combos': 1, 'ada_Scaler': 'stand', 'ada_ne': 186, 'ada_lr': 0.7318061666346439, 'et_Scaler': 'stand', 'et_max_depth': 20, 'et_ne': 616, 'xgb_Scaler': 'log', 'booster': 'gbtree', 'lambda': 0.057856937757972446, 'alpha': 0.02144347270500091, 'max_depth': 3, 'eta': 0.5060458157714685, 'gamma': 2.796180384643686e-08, 'grow_policy': 'depthwise'}. Best is trial#416 with value: 3.1520865476284894.\n"
          ],
          "name": "stderr"
        },
        {
          "output_type": "stream",
          "text": [
            "[0]\tvalidation-rmse:11.0614\n",
            "[1]\tvalidation-rmse:5.82528\n",
            "[2]\tvalidation-rmse:4.05043\n",
            "[3]\tvalidation-rmse:3.72571\n",
            "[4]\tvalidation-rmse:3.67801\n",
            "[5]\tvalidation-rmse:3.84889\n",
            "[6]\tvalidation-rmse:3.79964\n",
            "[7]\tvalidation-rmse:3.90284\n",
            "[8]\tvalidation-rmse:3.87246\n",
            "[9]\tvalidation-rmse:3.86095\n"
          ],
          "name": "stdout"
        },
        {
          "output_type": "stream",
          "text": [
            "[I 2020-07-08 14:00:19,245] Finished trial#444 with value: 3.2066881174765878 with parameters: {'combos': 1, 'ada_Scaler': 'stand', 'ada_ne': 192, 'ada_lr': 0.7330330230002716, 'et_Scaler': 'stand', 'et_max_depth': 19, 'et_ne': 625, 'xgb_Scaler': 'log', 'booster': 'gbtree', 'lambda': 0.06387528381945837, 'alpha': 0.011552290652519007, 'max_depth': 3, 'eta': 0.5655036537558916, 'gamma': 2.628531016432005e-08, 'grow_policy': 'depthwise'}. Best is trial#416 with value: 3.1520865476284894.\n"
          ],
          "name": "stderr"
        },
        {
          "output_type": "stream",
          "text": [
            "[0]\tvalidation-rmse:12.9873\n",
            "[1]\tvalidation-rmse:7.40538\n",
            "[2]\tvalidation-rmse:5.06225\n",
            "[3]\tvalidation-rmse:4.10838\n",
            "[4]\tvalidation-rmse:3.82005\n",
            "[5]\tvalidation-rmse:3.74608\n",
            "[6]\tvalidation-rmse:3.72444\n",
            "[7]\tvalidation-rmse:3.76144\n",
            "[8]\tvalidation-rmse:3.7638\n",
            "[9]\tvalidation-rmse:3.76701\n"
          ],
          "name": "stdout"
        },
        {
          "output_type": "stream",
          "text": [
            "[I 2020-07-08 14:00:20,887] Finished trial#445 with value: 3.2546425250811506 with parameters: {'combos': 1, 'ada_Scaler': 'stand', 'ada_ne': 168, 'ada_lr': 0.716237794600138, 'et_Scaler': 'stand', 'et_max_depth': 20, 'et_ne': 623, 'xgb_Scaler': 'log', 'booster': 'gbtree', 'lambda': 0.04617026650283802, 'alpha': 0.013055006718486873, 'max_depth': 3, 'eta': 0.47619262559926523, 'gamma': 2.0577089619659276e-08, 'grow_policy': 'depthwise'}. Best is trial#416 with value: 3.1520865476284894.\n"
          ],
          "name": "stderr"
        },
        {
          "output_type": "stream",
          "text": [
            "[0]\tvalidation-rmse:12.4691\n",
            "[1]\tvalidation-rmse:6.92801\n",
            "[2]\tvalidation-rmse:4.81691\n",
            "[3]\tvalidation-rmse:4.08276\n",
            "[4]\tvalidation-rmse:3.86436\n",
            "[5]\tvalidation-rmse:3.83676\n",
            "[6]\tvalidation-rmse:3.78973\n",
            "[7]\tvalidation-rmse:3.79525\n",
            "[8]\tvalidation-rmse:3.74131\n",
            "[9]\tvalidation-rmse:3.78366\n"
          ],
          "name": "stdout"
        },
        {
          "output_type": "stream",
          "text": [
            "[I 2020-07-08 14:00:22,273] Finished trial#446 with value: 3.2161796359510744 with parameters: {'combos': 1, 'ada_Scaler': 'stand', 'ada_ne': 179, 'ada_lr': 0.7297378767251637, 'et_Scaler': 'stand', 'et_max_depth': 9, 'et_ne': 635, 'xgb_Scaler': 'log', 'booster': 'gbtree', 'lambda': 0.06039680297955263, 'alpha': 0.015171947283343605, 'max_depth': 3, 'eta': 0.5001361029383696, 'gamma': 3.192775510579949e-08, 'grow_policy': 'depthwise'}. Best is trial#416 with value: 3.1520865476284894.\n"
          ],
          "name": "stderr"
        },
        {
          "output_type": "stream",
          "text": [
            "[0]\tvalidation-rmse:12.6732\n",
            "[1]\tvalidation-rmse:7.11164\n",
            "[2]\tvalidation-rmse:4.90656\n",
            "[3]\tvalidation-rmse:4.05786\n",
            "[4]\tvalidation-rmse:3.76428\n",
            "[5]\tvalidation-rmse:3.72901\n",
            "[6]\tvalidation-rmse:3.60408\n",
            "[7]\tvalidation-rmse:3.66129\n",
            "[8]\tvalidation-rmse:3.71915\n",
            "[9]\tvalidation-rmse:3.67167\n"
          ],
          "name": "stdout"
        },
        {
          "output_type": "stream",
          "text": [
            "[I 2020-07-08 14:00:23,641] Finished trial#447 with value: 3.183836620552815 with parameters: {'combos': 1, 'ada_Scaler': 'stand', 'ada_ne': 168, 'ada_lr': 0.7293731415159468, 'et_Scaler': 'stand', 'et_max_depth': 9, 'et_ne': 636, 'xgb_Scaler': 'log', 'booster': 'gbtree', 'lambda': 0.056444526640559364, 'alpha': 0.013912817547522303, 'max_depth': 3, 'eta': 0.49072280268424734, 'gamma': 3.0650762957033905e-08, 'grow_policy': 'depthwise'}. Best is trial#416 with value: 3.1520865476284894.\n"
          ],
          "name": "stderr"
        },
        {
          "output_type": "stream",
          "text": [
            "[0]\tvalidation-rmse:12.2593\n",
            "[1]\tvalidation-rmse:6.74439\n",
            "[2]\tvalidation-rmse:4.73102\n",
            "[3]\tvalidation-rmse:4.06247\n",
            "[4]\tvalidation-rmse:3.86795\n",
            "[5]\tvalidation-rmse:3.79587\n",
            "[6]\tvalidation-rmse:3.78608\n",
            "[7]\tvalidation-rmse:3.69833\n",
            "[8]\tvalidation-rmse:3.72286\n",
            "[9]\tvalidation-rmse:3.77427\n"
          ],
          "name": "stdout"
        },
        {
          "output_type": "stream",
          "text": [
            "[I 2020-07-08 14:00:25,043] Finished trial#448 with value: 3.282143289459769 with parameters: {'combos': 1, 'ada_Scaler': 'stand', 'ada_ne': 159, 'ada_lr': 0.7238452363326369, 'et_Scaler': 'stand', 'et_max_depth': 10, 'et_ne': 623, 'xgb_Scaler': 'log', 'booster': 'gbtree', 'lambda': 0.07050017571560022, 'alpha': 0.015935457878898517, 'max_depth': 3, 'eta': 0.5100096168714625, 'gamma': 3.107563483057787e-08, 'grow_policy': 'depthwise'}. Best is trial#416 with value: 3.1520865476284894.\n"
          ],
          "name": "stderr"
        },
        {
          "output_type": "stream",
          "text": [
            "[0]\tvalidation-rmse:11.9609\n",
            "[1]\tvalidation-rmse:6.49631\n",
            "[2]\tvalidation-rmse:4.30764\n",
            "[3]\tvalidation-rmse:3.65801\n",
            "[4]\tvalidation-rmse:3.52868\n",
            "[5]\tvalidation-rmse:3.64477\n",
            "[6]\tvalidation-rmse:3.67224\n",
            "[7]\tvalidation-rmse:3.70145\n",
            "[8]\tvalidation-rmse:3.73286\n",
            "[9]\tvalidation-rmse:3.90268\n"
          ],
          "name": "stdout"
        },
        {
          "output_type": "stream",
          "text": [
            "[I 2020-07-08 14:00:26,389] Finished trial#449 with value: 3.2627873554103006 with parameters: {'combos': 1, 'ada_Scaler': 'stand', 'ada_ne': 158, 'ada_lr': 0.712844570036265, 'et_Scaler': 'stand', 'et_max_depth': 9, 'et_ne': 630, 'xgb_Scaler': 'log', 'booster': 'gbtree', 'lambda': 0.05672970367675989, 'alpha': 0.011083018766044238, 'max_depth': 3, 'eta': 0.5233737543640145, 'gamma': 3.186334509235959e-08, 'grow_policy': 'depthwise'}. Best is trial#416 with value: 3.1520865476284894.\n"
          ],
          "name": "stderr"
        },
        {
          "output_type": "stream",
          "text": [
            "[0]\tvalidation-rmse:12.5301\n",
            "[1]\tvalidation-rmse:6.9828\n",
            "[2]\tvalidation-rmse:4.84445\n",
            "[3]\tvalidation-rmse:4.04658\n",
            "[4]\tvalidation-rmse:3.78136\n",
            "[5]\tvalidation-rmse:3.75479\n",
            "[6]\tvalidation-rmse:3.62635\n",
            "[7]\tvalidation-rmse:3.72037\n",
            "[8]\tvalidation-rmse:3.79632\n",
            "[9]\tvalidation-rmse:3.76297\n"
          ],
          "name": "stdout"
        },
        {
          "output_type": "stream",
          "text": [
            "[I 2020-07-08 14:00:27,733] Finished trial#450 with value: 3.1724622741268127 with parameters: {'combos': 1, 'ada_Scaler': 'stand', 'ada_ne': 159, 'ada_lr': 0.7235745313431647, 'et_Scaler': 'stand', 'et_max_depth': 9, 'et_ne': 629, 'xgb_Scaler': 'log', 'booster': 'gbtree', 'lambda': 0.05460661440102826, 'alpha': 0.013629826829133556, 'max_depth': 3, 'eta': 0.4971981484190381, 'gamma': 3.230692293746588e-08, 'grow_policy': 'depthwise'}. Best is trial#416 with value: 3.1520865476284894.\n"
          ],
          "name": "stderr"
        },
        {
          "output_type": "stream",
          "text": [
            "[0]\tvalidation-rmse:11.9021\n",
            "[1]\tvalidation-rmse:6.44869\n",
            "[2]\tvalidation-rmse:4.28592\n",
            "[3]\tvalidation-rmse:3.65583\n",
            "[4]\tvalidation-rmse:3.53469\n",
            "[5]\tvalidation-rmse:3.65301\n",
            "[6]\tvalidation-rmse:3.68155\n",
            "[7]\tvalidation-rmse:3.71062\n",
            "[8]\tvalidation-rmse:3.7424\n",
            "[9]\tvalidation-rmse:3.9131\n"
          ],
          "name": "stdout"
        },
        {
          "output_type": "stream",
          "text": [
            "[I 2020-07-08 14:00:29,094] Finished trial#451 with value: 3.229560462386414 with parameters: {'combos': 1, 'ada_Scaler': 'stand', 'ada_ne': 168, 'ada_lr': 0.7238916167315824, 'et_Scaler': 'stand', 'et_max_depth': 9, 'et_ne': 632, 'xgb_Scaler': 'log', 'booster': 'gbtree', 'lambda': 0.057872466228297614, 'alpha': 0.012247249869763359, 'max_depth': 3, 'eta': 0.526118098943792, 'gamma': 2.76985637286023e-08, 'grow_policy': 'depthwise'}. Best is trial#416 with value: 3.1520865476284894.\n"
          ],
          "name": "stderr"
        },
        {
          "output_type": "stream",
          "text": [
            "[0]\tvalidation-rmse:13.6747\n",
            "[1]\tvalidation-rmse:8.197\n",
            "[2]\tvalidation-rmse:5.41323\n",
            "[3]\tvalidation-rmse:4.29072\n",
            "[4]\tvalidation-rmse:3.88504\n",
            "[5]\tvalidation-rmse:3.79537\n",
            "[6]\tvalidation-rmse:3.8259\n",
            "[7]\tvalidation-rmse:3.8043\n",
            "[8]\tvalidation-rmse:3.80889\n",
            "[9]\tvalidation-rmse:3.80616\n"
          ],
          "name": "stdout"
        },
        {
          "output_type": "stream",
          "text": [
            "[I 2020-07-08 14:00:30,312] Finished trial#452 with value: 3.26993129840732 with parameters: {'combos': 1, 'ada_Scaler': 'stand', 'ada_ne': 91, 'ada_lr': 0.7227247794212422, 'et_Scaler': 'stand', 'et_max_depth': 9, 'et_ne': 629, 'xgb_Scaler': 'log', 'booster': 'gbtree', 'lambda': 0.064296621306874, 'alpha': 0.01256563875322311, 'max_depth': 3, 'eta': 0.4456725626739036, 'gamma': 3.1221781984910204e-08, 'grow_policy': 'depthwise'}. Best is trial#416 with value: 3.1520865476284894.\n"
          ],
          "name": "stderr"
        },
        {
          "output_type": "stream",
          "text": [
            "[0]\tvalidation-rmse:12.2048\n",
            "[1]\tvalidation-rmse:6.69945\n",
            "[2]\tvalidation-rmse:4.71562\n",
            "[3]\tvalidation-rmse:3.90039\n",
            "[4]\tvalidation-rmse:3.79613\n",
            "[5]\tvalidation-rmse:3.7049\n",
            "[6]\tvalidation-rmse:3.81975\n",
            "[7]\tvalidation-rmse:3.82275\n",
            "[8]\tvalidation-rmse:3.83065\n",
            "[9]\tvalidation-rmse:3.83612\n"
          ],
          "name": "stdout"
        },
        {
          "output_type": "stream",
          "text": [
            "[I 2020-07-08 14:00:31,518] Finished trial#453 with value: 3.228758867990897 with parameters: {'combos': 1, 'ada_Scaler': 'log', 'ada_ne': 74, 'ada_lr': 0.7263930323849298, 'et_Scaler': 'stand', 'et_max_depth': 9, 'et_ne': 631, 'xgb_Scaler': 'log', 'booster': 'gbtree', 'lambda': 0.05817806327908704, 'alpha': 0.012858998685945524, 'max_depth': 3, 'eta': 0.5121843539202549, 'gamma': 2.9834673327949406e-08, 'grow_policy': 'depthwise'}. Best is trial#416 with value: 3.1520865476284894.\n"
          ],
          "name": "stderr"
        },
        {
          "output_type": "stream",
          "text": [
            "[0]\tvalidation-rmse:12.4544\n",
            "[1]\tvalidation-rmse:6.91505\n",
            "[2]\tvalidation-rmse:4.81089\n",
            "[3]\tvalidation-rmse:4.08154\n",
            "[4]\tvalidation-rmse:3.86489\n",
            "[5]\tvalidation-rmse:3.83805\n",
            "[6]\tvalidation-rmse:3.79133\n",
            "[7]\tvalidation-rmse:3.79692\n",
            "[8]\tvalidation-rmse:3.743\n",
            "[9]\tvalidation-rmse:3.78559\n"
          ],
          "name": "stdout"
        },
        {
          "output_type": "stream",
          "text": [
            "[I 2020-07-08 14:00:32,744] Finished trial#454 with value: 3.206261498367306 with parameters: {'combos': 1, 'ada_Scaler': 'stand', 'ada_ne': 80, 'ada_lr': 0.7142879812419147, 'et_Scaler': 'stand', 'et_max_depth': 9, 'et_ne': 630, 'xgb_Scaler': 'log', 'booster': 'gbtree', 'lambda': 0.06040016674872092, 'alpha': 0.013317428520496563, 'max_depth': 3, 'eta': 0.5008056152112226, 'gamma': 2.9726642106798517e-08, 'grow_policy': 'depthwise'}. Best is trial#416 with value: 3.1520865476284894.\n"
          ],
          "name": "stderr"
        },
        {
          "output_type": "stream",
          "text": [
            "[0]\tvalidation-rmse:11.5565\n",
            "[1]\tvalidation-rmse:6.18009\n",
            "[2]\tvalidation-rmse:4.17435\n",
            "[3]\tvalidation-rmse:3.62377\n",
            "[4]\tvalidation-rmse:3.57989\n",
            "[5]\tvalidation-rmse:3.60368\n",
            "[6]\tvalidation-rmse:3.70281\n",
            "[7]\tvalidation-rmse:3.71963\n",
            "[8]\tvalidation-rmse:3.73003\n",
            "[9]\tvalidation-rmse:3.71007\n"
          ],
          "name": "stdout"
        },
        {
          "output_type": "stream",
          "text": [
            "[I 2020-07-08 14:00:33,859] Finished trial#455 with value: 3.3325614335696305 with parameters: {'combos': 1, 'ada_Scaler': 'minmax', 'ada_ne': 26, 'ada_lr': 0.7041999126487106, 'et_Scaler': 'stand', 'et_max_depth': 9, 'et_ne': 631, 'xgb_Scaler': 'log', 'booster': 'gbtree', 'lambda': 0.056643478383799954, 'alpha': 0.013823523188295953, 'max_depth': 3, 'eta': 0.5421154414089346, 'gamma': 3.00004040439259e-08, 'grow_policy': 'depthwise'}. Best is trial#416 with value: 3.1520865476284894.\n"
          ],
          "name": "stderr"
        },
        {
          "output_type": "stream",
          "text": [
            "[0]\tvalidation-rmse:16.1517\n",
            "[1]\tvalidation-rmse:11.1815\n",
            "[2]\tvalidation-rmse:7.92246\n",
            "[3]\tvalidation-rmse:5.98048\n",
            "[4]\tvalidation-rmse:4.86833\n",
            "[5]\tvalidation-rmse:4.22288\n",
            "[6]\tvalidation-rmse:3.90381\n",
            "[7]\tvalidation-rmse:3.80156\n",
            "[8]\tvalidation-rmse:3.79466\n",
            "[9]\tvalidation-rmse:3.79186\n"
          ],
          "name": "stdout"
        },
        {
          "output_type": "stream",
          "text": [
            "[I 2020-07-08 14:00:35,057] Finished trial#456 with value: 3.3429615315258228 with parameters: {'combos': 1, 'ada_Scaler': 'log', 'ada_ne': 69, 'ada_lr': 0.7132826336682493, 'et_Scaler': 'stand', 'et_max_depth': 9, 'et_ne': 642, 'xgb_Scaler': 'log', 'booster': 'gbtree', 'lambda': 0.06824601412502224, 'alpha': 0.02113014094707232, 'max_depth': 3, 'eta': 0.3361190937186136, 'gamma': 1.9941051057476055e-08, 'grow_policy': 'depthwise'}. Best is trial#416 with value: 3.1520865476284894.\n"
          ],
          "name": "stderr"
        },
        {
          "output_type": "stream",
          "text": [
            "[0]\tvalidation-rmse:10.2023\n",
            "[1]\tvalidation-rmse:5.32823\n",
            "[2]\tvalidation-rmse:4.28938\n",
            "[3]\tvalidation-rmse:4.01327\n",
            "[4]\tvalidation-rmse:4.00524\n",
            "[5]\tvalidation-rmse:3.90591\n",
            "[6]\tvalidation-rmse:3.91103\n",
            "[7]\tvalidation-rmse:3.89499\n",
            "[8]\tvalidation-rmse:3.88818\n",
            "[9]\tvalidation-rmse:4.08471\n"
          ],
          "name": "stdout"
        },
        {
          "output_type": "stream",
          "text": [
            "[I 2020-07-08 14:00:36,225] Finished trial#457 with value: 3.2750943222023854 with parameters: {'combos': 1, 'ada_Scaler': 'log', 'ada_ne': 95, 'ada_lr': 0.7281544694494178, 'et_Scaler': 'stand', 'et_max_depth': 8, 'et_ne': 626, 'xgb_Scaler': 'log', 'booster': 'gbtree', 'lambda': 0.036622512577832174, 'alpha': 0.008769527907858753, 'max_depth': 3, 'eta': 0.6058472417007388, 'gamma': 3.847516366801952e-08, 'grow_policy': 'depthwise'}. Best is trial#416 with value: 3.1520865476284894.\n"
          ],
          "name": "stderr"
        },
        {
          "output_type": "stream",
          "text": [
            "[0]\tvalidation-rmse:11.3469\n",
            "[1]\tvalidation-rmse:6.02982\n",
            "[2]\tvalidation-rmse:4.12615\n",
            "[3]\tvalidation-rmse:3.64809\n",
            "[4]\tvalidation-rmse:3.64374\n",
            "[5]\tvalidation-rmse:3.68875\n",
            "[6]\tvalidation-rmse:3.74523\n",
            "[7]\tvalidation-rmse:3.76415\n",
            "[8]\tvalidation-rmse:3.80523\n",
            "[9]\tvalidation-rmse:3.79499\n"
          ],
          "name": "stdout"
        },
        {
          "output_type": "stream",
          "text": [
            "[I 2020-07-08 14:00:37,414] Finished trial#458 with value: 3.2222274926836305 with parameters: {'combos': 1, 'ada_Scaler': 'log', 'ada_ne': 112, 'ada_lr': 0.6701963728533489, 'et_Scaler': 'stand', 'et_max_depth': 8, 'et_ne': 624, 'xgb_Scaler': 'log', 'booster': 'gbtree', 'lambda': 0.0366260284710739, 'alpha': 0.005890498753336767, 'max_depth': 3, 'eta': 0.5513646615607533, 'gamma': 4.010013122907466e-08, 'grow_policy': 'depthwise'}. Best is trial#416 with value: 3.1520865476284894.\n"
          ],
          "name": "stderr"
        },
        {
          "output_type": "stream",
          "text": [
            "[0]\tvalidation-rmse:9.88332\n",
            "[1]\tvalidation-rmse:5.17188\n",
            "[2]\tvalidation-rmse:4.39899\n",
            "[3]\tvalidation-rmse:4.2211\n",
            "[4]\tvalidation-rmse:4.17039\n",
            "[5]\tvalidation-rmse:4.22263\n",
            "[6]\tvalidation-rmse:4.22847\n",
            "[7]\tvalidation-rmse:4.22035\n",
            "[8]\tvalidation-rmse:4.19115\n",
            "[9]\tvalidation-rmse:4.22517\n"
          ],
          "name": "stdout"
        },
        {
          "output_type": "stream",
          "text": [
            "[I 2020-07-08 14:00:38,580] Finished trial#459 with value: 3.3533589082701263 with parameters: {'combos': 1, 'ada_Scaler': 'log', 'ada_ne': 95, 'ada_lr': 0.6661659486428217, 'et_Scaler': 'stand', 'et_max_depth': 8, 'et_ne': 621, 'xgb_Scaler': 'log', 'booster': 'gbtree', 'lambda': 0.03826856007500399, 'alpha': 0.007926658603204524, 'max_depth': 3, 'eta': 0.621455451932693, 'gamma': 3.95465279618761e-08, 'grow_policy': 'depthwise'}. Best is trial#416 with value: 3.1520865476284894.\n"
          ],
          "name": "stderr"
        },
        {
          "output_type": "stream",
          "text": [
            "[0]\tvalidation-rmse:12.6997\n",
            "[1]\tvalidation-rmse:7.30658\n",
            "[2]\tvalidation-rmse:5.14492\n",
            "[3]\tvalidation-rmse:4.27476\n",
            "[4]\tvalidation-rmse:3.90641\n",
            "[5]\tvalidation-rmse:3.83548\n",
            "[6]\tvalidation-rmse:3.77981\n",
            "[7]\tvalidation-rmse:3.80947\n",
            "[8]\tvalidation-rmse:3.76618\n",
            "[9]\tvalidation-rmse:3.80268\n"
          ],
          "name": "stdout"
        },
        {
          "output_type": "stream",
          "text": [
            "[I 2020-07-08 14:00:39,756] Finished trial#460 with value: 3.316812260724415 with parameters: {'combos': 1, 'ada_Scaler': 'log', 'ada_ne': 85, 'ada_lr': 0.7255998553319255, 'et_Scaler': 'stand', 'et_max_depth': 8, 'et_ne': 628, 'xgb_Scaler': 'log', 'booster': 'gbtree', 'lambda': 0.10794632492466026, 'alpha': 0.007351520983362694, 'max_depth': 3, 'eta': 0.49299858383243633, 'gamma': 3.090423417480356e-08, 'grow_policy': 'depthwise'}. Best is trial#416 with value: 3.1520865476284894.\n"
          ],
          "name": "stderr"
        },
        {
          "output_type": "stream",
          "text": [
            "[0]\tvalidation-rmse:6.17565\n",
            "[1]\tvalidation-rmse:5.2353\n",
            "[2]\tvalidation-rmse:5.17428\n",
            "[3]\tvalidation-rmse:5.17344\n",
            "[4]\tvalidation-rmse:5.19999\n",
            "[5]\tvalidation-rmse:5.12326\n",
            "[6]\tvalidation-rmse:5.12284\n",
            "[7]\tvalidation-rmse:5.02153\n",
            "[8]\tvalidation-rmse:5.18811\n",
            "[9]\tvalidation-rmse:5.17725\n"
          ],
          "name": "stdout"
        },
        {
          "output_type": "stream",
          "text": [
            "[I 2020-07-08 14:00:41,074] Finished trial#461 with value: 3.5340154934146804 with parameters: {'combos': 1, 'ada_Scaler': 'log', 'ada_ne': 134, 'ada_lr': 0.6639344415583275, 'et_Scaler': 'stand', 'et_max_depth': 9, 'et_ne': 646, 'xgb_Scaler': 'log', 'booster': 'gbtree', 'lambda': 0.026372613746179607, 'alpha': 0.013834896671077198, 'max_depth': 3, 'eta': 0.9823436732463064, 'gamma': 1.6527393667588884e-08, 'grow_policy': 'depthwise'}. Best is trial#416 with value: 3.1520865476284894.\n",
            "[I 2020-07-08 14:00:42,164] Setting status of trial#462 as TrialState.PRUNED. Trial was pruned at iteration 11.\n"
          ],
          "name": "stderr"
        },
        {
          "output_type": "stream",
          "text": [
            "[0]\tvalidation-rmse:17.291\n",
            "[1]\tvalidation-rmse:12.6842\n",
            "[2]\tvalidation-rmse:9.43487\n",
            "[3]\tvalidation-rmse:7.22483\n",
            "[4]\tvalidation-rmse:5.75849\n",
            "[5]\tvalidation-rmse:4.88939\n",
            "[6]\tvalidation-rmse:4.28494\n",
            "[7]\tvalidation-rmse:4.03837\n",
            "[8]\tvalidation-rmse:3.91188\n",
            "[9]\tvalidation-rmse:3.77595\n"
          ],
          "name": "stdout"
        },
        {
          "output_type": "stream",
          "text": [
            "[I 2020-07-08 14:00:43,494] Finished trial#463 with value: 3.3512417241156585 with parameters: {'combos': 1, 'ada_Scaler': 'log', 'ada_ne': 113, 'ada_lr': 0.7341925813047655, 'et_Scaler': 'stand', 'et_max_depth': 8, 'et_ne': 648, 'xgb_Scaler': 'log', 'booster': 'gbtree', 'lambda': 0.05657468564564128, 'alpha': 0.004935226385391494, 'max_depth': 3, 'eta': 0.2862313197445114, 'gamma': 5.722449827858575e-08, 'grow_policy': 'depthwise'}. Best is trial#416 with value: 3.1520865476284894.\n"
          ],
          "name": "stderr"
        },
        {
          "output_type": "stream",
          "text": [
            "[0]\tvalidation-rmse:11.624\n",
            "[1]\tvalidation-rmse:6.23432\n",
            "[2]\tvalidation-rmse:4.20099\n",
            "[3]\tvalidation-rmse:3.63576\n",
            "[4]\tvalidation-rmse:3.59952\n",
            "[5]\tvalidation-rmse:3.62324\n",
            "[6]\tvalidation-rmse:3.72409\n",
            "[7]\tvalidation-rmse:3.741\n",
            "[8]\tvalidation-rmse:3.73457\n",
            "[9]\tvalidation-rmse:3.73118\n"
          ],
          "name": "stdout"
        },
        {
          "output_type": "stream",
          "text": [
            "[I 2020-07-08 14:00:44,884] Finished trial#464 with value: 3.193447894284112 with parameters: {'combos': 1, 'ada_Scaler': 'log', 'ada_ne': 158, 'ada_lr': 0.64914112581884, 'et_Scaler': 'stand', 'et_max_depth': 10, 'et_ne': 623, 'xgb_Scaler': 'log', 'booster': 'gbtree', 'lambda': 0.03858014530259445, 'alpha': 0.009849272367555322, 'max_depth': 3, 'eta': 0.5384923696984473, 'gamma': 2.83439075478577e-08, 'grow_policy': 'depthwise'}. Best is trial#416 with value: 3.1520865476284894.\n"
          ],
          "name": "stderr"
        },
        {
          "output_type": "stream",
          "text": [
            "[0]\tvalidation-rmse:11.4797\n",
            "[1]\tvalidation-rmse:6.12648\n",
            "[2]\tvalidation-rmse:4.16048\n",
            "[3]\tvalidation-rmse:3.64172\n",
            "[4]\tvalidation-rmse:3.62286\n",
            "[5]\tvalidation-rmse:3.66368\n",
            "[6]\tvalidation-rmse:3.767\n",
            "[7]\tvalidation-rmse:3.85421\n",
            "[8]\tvalidation-rmse:3.85379\n",
            "[9]\tvalidation-rmse:3.86868\n"
          ],
          "name": "stdout"
        },
        {
          "output_type": "stream",
          "text": [
            "[I 2020-07-08 14:00:46,277] Finished trial#465 with value: 3.1823194994167077 with parameters: {'combos': 1, 'ada_Scaler': 'log', 'ada_ne': 158, 'ada_lr': 0.6277177390277558, 'et_Scaler': 'stand', 'et_max_depth': 10, 'et_ne': 620, 'xgb_Scaler': 'log', 'booster': 'gbtree', 'lambda': 0.036692515917843366, 'alpha': 0.009753400961499606, 'max_depth': 3, 'eta': 0.5451643430470701, 'gamma': 2.7956959409225728e-08, 'grow_policy': 'depthwise'}. Best is trial#416 with value: 3.1520865476284894.\n"
          ],
          "name": "stderr"
        },
        {
          "output_type": "stream",
          "text": [
            "[0]\tvalidation-rmse:11.7366\n",
            "[1]\tvalidation-rmse:6.32072\n",
            "[2]\tvalidation-rmse:4.23557\n",
            "[3]\tvalidation-rmse:3.66326\n",
            "[4]\tvalidation-rmse:3.60817\n",
            "[5]\tvalidation-rmse:3.71489\n",
            "[6]\tvalidation-rmse:3.6972\n",
            "[7]\tvalidation-rmse:3.79339\n",
            "[8]\tvalidation-rmse:3.81923\n",
            "[9]\tvalidation-rmse:3.82694\n"
          ],
          "name": "stdout"
        },
        {
          "output_type": "stream",
          "text": [
            "[I 2020-07-08 14:00:47,712] Finished trial#466 with value: 3.1664940351605844 with parameters: {'combos': 1, 'ada_Scaler': 'log', 'ada_ne': 164, 'ada_lr': 0.6359494029025513, 'et_Scaler': 'stand', 'et_max_depth': 10, 'et_ne': 620, 'xgb_Scaler': 'log', 'booster': 'gbtree', 'lambda': 0.03967268472541922, 'alpha': 0.01189843182103976, 'max_depth': 3, 'eta': 0.5332959808922374, 'gamma': 2.776438776791362e-08, 'grow_policy': 'depthwise'}. Best is trial#416 with value: 3.1520865476284894.\n"
          ],
          "name": "stderr"
        },
        {
          "output_type": "stream",
          "text": [
            "[0]\tvalidation-rmse:12.171\n",
            "[1]\tvalidation-rmse:6.67331\n",
            "[2]\tvalidation-rmse:4.71067\n",
            "[3]\tvalidation-rmse:3.90793\n",
            "[4]\tvalidation-rmse:3.80929\n",
            "[5]\tvalidation-rmse:3.72121\n",
            "[6]\tvalidation-rmse:3.83916\n",
            "[7]\tvalidation-rmse:3.84272\n",
            "[8]\tvalidation-rmse:3.85125\n",
            "[9]\tvalidation-rmse:3.8571\n"
          ],
          "name": "stdout"
        },
        {
          "output_type": "stream",
          "text": [
            "[I 2020-07-08 14:00:49,115] Finished trial#467 with value: 3.1934506800456934 with parameters: {'combos': 1, 'ada_Scaler': 'log', 'ada_ne': 154, 'ada_lr': 0.6047973334521008, 'et_Scaler': 'stand', 'et_max_depth': 10, 'et_ne': 629, 'xgb_Scaler': 'log', 'booster': 'gbtree', 'lambda': 0.039722236768437245, 'alpha': 0.009451947545312991, 'max_depth': 3, 'eta': 0.5132462822381232, 'gamma': 2.984496941853224e-08, 'grow_policy': 'depthwise'}. Best is trial#416 with value: 3.1520865476284894.\n"
          ],
          "name": "stderr"
        },
        {
          "output_type": "stream",
          "text": [
            "[0]\tvalidation-rmse:9.76852\n",
            "[1]\tvalidation-rmse:5.38062\n",
            "[2]\tvalidation-rmse:4.11131\n",
            "[3]\tvalidation-rmse:3.88934\n",
            "[4]\tvalidation-rmse:3.90737\n",
            "[5]\tvalidation-rmse:3.90962\n",
            "[6]\tvalidation-rmse:3.90287\n",
            "[7]\tvalidation-rmse:3.87871\n",
            "[8]\tvalidation-rmse:3.90018\n",
            "[9]\tvalidation-rmse:3.84118\n"
          ],
          "name": "stdout"
        },
        {
          "output_type": "stream",
          "text": [
            "[I 2020-07-08 14:00:50,477] Finished trial#468 with value: 3.1383768416796634 with parameters: {'combos': 1, 'ada_Scaler': 'log', 'ada_ne': 147, 'ada_lr': 0.640850825069551, 'et_Scaler': 'stand', 'et_max_depth': 9, 'et_ne': 652, 'xgb_Scaler': 'log', 'booster': 'gbtree', 'lambda': 0.03593115031162485, 'alpha': 0.009514792833639752, 'max_depth': 3, 'eta': 0.6353418685803178, 'gamma': 1.7612713488452433e-08, 'grow_policy': 'depthwise'}. Best is trial#468 with value: 3.1383768416796634.\n"
          ],
          "name": "stderr"
        },
        {
          "output_type": "stream",
          "text": [
            "[0]\tvalidation-rmse:15.3557\n",
            "[1]\tvalidation-rmse:10.0945\n",
            "[2]\tvalidation-rmse:7.03515\n",
            "[3]\tvalidation-rmse:5.24385\n",
            "[4]\tvalidation-rmse:4.24649\n",
            "[5]\tvalidation-rmse:3.80316\n",
            "[6]\tvalidation-rmse:3.56997\n",
            "[7]\tvalidation-rmse:3.59908\n",
            "[8]\tvalidation-rmse:3.55148\n",
            "[9]\tvalidation-rmse:3.62521\n"
          ],
          "name": "stdout"
        },
        {
          "output_type": "stream",
          "text": [
            "[I 2020-07-08 14:00:51,844] Finished trial#469 with value: 3.2235885204067873 with parameters: {'combos': 1, 'ada_Scaler': 'log', 'ada_ne': 155, 'ada_lr': 0.6199618609686339, 'et_Scaler': 'stand', 'et_max_depth': 9, 'et_ne': 649, 'xgb_Scaler': 'log', 'booster': 'gbtree', 'lambda': 0.044031340788079985, 'alpha': 0.02379626636449042, 'max_depth': 3, 'eta': 0.3705396804398115, 'gamma': 1.713966086673756e-08, 'grow_policy': 'depthwise'}. Best is trial#468 with value: 3.1383768416796634.\n"
          ],
          "name": "stderr"
        },
        {
          "output_type": "stream",
          "text": [
            "[0]\tvalidation-rmse:16.7507\n",
            "[1]\tvalidation-rmse:11.9567\n",
            "[2]\tvalidation-rmse:8.73089\n",
            "[3]\tvalidation-rmse:6.65831\n",
            "[4]\tvalidation-rmse:5.34833\n",
            "[5]\tvalidation-rmse:4.63409\n",
            "[6]\tvalidation-rmse:4.27276\n",
            "[7]\tvalidation-rmse:4.07398\n",
            "[8]\tvalidation-rmse:3.95914\n",
            "[9]\tvalidation-rmse:3.91565\n"
          ],
          "name": "stdout"
        },
        {
          "output_type": "stream",
          "text": [
            "[I 2020-07-08 14:00:53,267] Finished trial#470 with value: 3.366044921733839 with parameters: {'combos': 1, 'ada_Scaler': 'log', 'ada_ne': 149, 'ada_lr': 0.569061086459116, 'et_Scaler': 'stand', 'et_max_depth': 10, 'et_ne': 655, 'xgb_Scaler': 'log', 'booster': 'gbtree', 'lambda': 0.04154907638569459, 'alpha': 0.02425715201230024, 'max_depth': 3, 'eta': 0.3094425353288676, 'gamma': 1.6663910661359144e-08, 'grow_policy': 'depthwise'}. Best is trial#468 with value: 3.1383768416796634.\n"
          ],
          "name": "stderr"
        },
        {
          "output_type": "stream",
          "text": [
            "[0]\tvalidation-rmse:7.59647\n",
            "[1]\tvalidation-rmse:5.17381\n",
            "[2]\tvalidation-rmse:4.50296\n",
            "[3]\tvalidation-rmse:4.53348\n",
            "[4]\tvalidation-rmse:4.34338\n",
            "[5]\tvalidation-rmse:4.39067\n",
            "[6]\tvalidation-rmse:4.45576\n",
            "[7]\tvalidation-rmse:4.37773\n",
            "[8]\tvalidation-rmse:4.36793\n",
            "[9]\tvalidation-rmse:4.36284\n"
          ],
          "name": "stdout"
        },
        {
          "output_type": "stream",
          "text": [
            "[I 2020-07-08 14:00:54,647] Finished trial#471 with value: 3.293812308218398 with parameters: {'combos': 1, 'ada_Scaler': 'log', 'ada_ne': 170, 'ada_lr': 0.6102832384501933, 'et_Scaler': 'stand', 'et_max_depth': 9, 'et_ne': 649, 'xgb_Scaler': 'log', 'booster': 'gbtree', 'lambda': 0.02348795138444414, 'alpha': 0.009892018079406616, 'max_depth': 3, 'eta': 0.7623560748066976, 'gamma': 1.9851294270646606e-08, 'grow_policy': 'depthwise'}. Best is trial#468 with value: 3.1383768416796634.\n"
          ],
          "name": "stderr"
        },
        {
          "output_type": "stream",
          "text": [
            "[0]\tvalidation-rmse:15.3463\n",
            "[1]\tvalidation-rmse:10.0828\n",
            "[2]\tvalidation-rmse:7.02462\n",
            "[3]\tvalidation-rmse:5.23578\n",
            "[4]\tvalidation-rmse:4.24103\n",
            "[5]\tvalidation-rmse:3.79981\n",
            "[6]\tvalidation-rmse:3.56779\n",
            "[7]\tvalidation-rmse:3.59736\n",
            "[8]\tvalidation-rmse:3.55001\n",
            "[9]\tvalidation-rmse:3.62404\n"
          ],
          "name": "stdout"
        },
        {
          "output_type": "stream",
          "text": [
            "[I 2020-07-08 14:00:55,972] Finished trial#472 with value: 3.2340553545605073 with parameters: {'combos': 1, 'ada_Scaler': 'log', 'ada_ne': 128, 'ada_lr': 0.6219439762832693, 'et_Scaler': 'stand', 'et_max_depth': 9, 'et_ne': 657, 'xgb_Scaler': 'log', 'booster': 'gbtree', 'lambda': 0.04905267761730171, 'alpha': 0.0063101824000567994, 'max_depth': 3, 'eta': 0.3710539279312939, 'gamma': 1.633656786150185e-08, 'grow_policy': 'depthwise'}. Best is trial#468 with value: 3.1383768416796634.\n"
          ],
          "name": "stderr"
        },
        {
          "output_type": "stream",
          "text": [
            "[0]\tvalidation-rmse:17.9918\n",
            "[1]\tvalidation-rmse:13.644\n",
            "[2]\tvalidation-rmse:10.4744\n",
            "[3]\tvalidation-rmse:8.25456\n",
            "[4]\tvalidation-rmse:6.64715\n",
            "[5]\tvalidation-rmse:5.57193\n",
            "[6]\tvalidation-rmse:4.7855\n",
            "[7]\tvalidation-rmse:4.38077\n",
            "[8]\tvalidation-rmse:4.05683\n",
            "[9]\tvalidation-rmse:3.90775\n"
          ],
          "name": "stdout"
        },
        {
          "output_type": "stream",
          "text": [
            "[I 2020-07-08 14:00:57,418] Finished trial#473 with value: 3.4219756802006436 with parameters: {'combos': 1, 'ada_Scaler': 'log', 'ada_ne': 123, 'ada_lr': 0.600641120594028, 'et_Scaler': 'stand', 'et_max_depth': 11, 'et_ne': 660, 'xgb_Scaler': 'log', 'booster': 'gbtree', 'lambda': 0.03162777310455251, 'alpha': 0.006533991371882607, 'max_depth': 3, 'eta': 0.25582008584228455, 'gamma': 1.3996213772519446e-08, 'grow_policy': 'depthwise'}. Best is trial#468 with value: 3.1383768416796634.\n"
          ],
          "name": "stderr"
        },
        {
          "output_type": "stream",
          "text": [
            "[0]\tvalidation-rmse:15.3054\n",
            "[1]\tvalidation-rmse:10.0297\n",
            "[2]\tvalidation-rmse:6.9979\n",
            "[3]\tvalidation-rmse:5.2325\n",
            "[4]\tvalidation-rmse:4.24463\n",
            "[5]\tvalidation-rmse:3.81319\n",
            "[6]\tvalidation-rmse:3.62901\n",
            "[7]\tvalidation-rmse:3.51548\n",
            "[8]\tvalidation-rmse:3.48549\n",
            "[9]\tvalidation-rmse:3.47433\n"
          ],
          "name": "stdout"
        },
        {
          "output_type": "stream",
          "text": [
            "[I 2020-07-08 14:00:58,824] Finished trial#474 with value: 3.1621130235152486 with parameters: {'combos': 1, 'ada_Scaler': 'log', 'ada_ne': 138, 'ada_lr': 0.6261830815026999, 'et_Scaler': 'stand', 'et_max_depth': 10, 'et_ne': 661, 'xgb_Scaler': 'log', 'booster': 'gbtree', 'lambda': 0.10489420572243173, 'alpha': 0.0038189237007369647, 'max_depth': 3, 'eta': 0.3740937540103958, 'gamma': 2.234112829073683e-08, 'grow_policy': 'depthwise'}. Best is trial#468 with value: 3.1383768416796634.\n"
          ],
          "name": "stderr"
        },
        {
          "output_type": "stream",
          "text": [
            "[0]\tvalidation-rmse:7.91204\n",
            "[1]\tvalidation-rmse:4.70733\n",
            "[2]\tvalidation-rmse:4.17622\n",
            "[3]\tvalidation-rmse:4.12964\n",
            "[4]\tvalidation-rmse:4.14845\n",
            "[5]\tvalidation-rmse:4.20219\n",
            "[6]\tvalidation-rmse:4.19511\n",
            "[7]\tvalidation-rmse:4.15778\n",
            "[8]\tvalidation-rmse:4.09718\n",
            "[9]\tvalidation-rmse:4.08802\n"
          ],
          "name": "stdout"
        },
        {
          "output_type": "stream",
          "text": [
            "[I 2020-07-08 14:01:00,239] Finished trial#475 with value: 3.2944414588198816 with parameters: {'combos': 1, 'ada_Scaler': 'log', 'ada_ne': 139, 'ada_lr': 0.6176294217611695, 'et_Scaler': 'stand', 'et_max_depth': 10, 'et_ne': 660, 'xgb_Scaler': 'log', 'booster': 'gbtree', 'lambda': 0.11575812172928872, 'alpha': 0.003501290772629283, 'max_depth': 3, 'eta': 0.731098527083406, 'gamma': 2.2720577155427928e-08, 'grow_policy': 'depthwise'}. Best is trial#468 with value: 3.1383768416796634.\n",
            "[I 2020-07-08 14:01:01,661] Finished trial#476 with value: 3.4030297202488673 with parameters: {'combos': 2, 'ada_Scaler': 'log', 'ada_ne': 132, 'ada_lr': 0.5868745941103073, 'et_Scaler': 'stand', 'et_max_depth': 10, 'et_ne': 644, 'gbm_Scaler': 'log', 'lambda_l1': 3.027286503478379e-08, 'lambda_l2': 1.9184154809046976e-06, 'num_leaves': 101, 'feature_fraction': 0.6416700534213973, 'bagging_fraction': 0.6280985875723678, 'bagging_freq': 3, 'min_child_samples': 13}. Best is trial#468 with value: 3.1383768416796634.\n"
          ],
          "name": "stderr"
        },
        {
          "output_type": "stream",
          "text": [
            "[0]\tvalidation-rmse:16.5459\n",
            "[1]\tvalidation-rmse:11.6847\n",
            "[2]\tvalidation-rmse:8.39088\n",
            "[3]\tvalidation-rmse:6.34716\n",
            "[4]\tvalidation-rmse:5.07196\n",
            "[5]\tvalidation-rmse:4.2975\n",
            "[6]\tvalidation-rmse:3.91611\n",
            "[7]\tvalidation-rmse:3.72457\n",
            "[8]\tvalidation-rmse:3.66001\n",
            "[9]\tvalidation-rmse:3.66099\n"
          ],
          "name": "stdout"
        },
        {
          "output_type": "stream",
          "text": [
            "[I 2020-07-08 14:01:03,062] Finished trial#477 with value: 3.2881922315795102 with parameters: {'combos': 1, 'ada_Scaler': 'log', 'ada_ne': 187, 'ada_lr': 0.6356492203040075, 'et_Scaler': 'stand', 'et_max_depth': 9, 'et_ne': 614, 'xgb_Scaler': 'log', 'booster': 'gbtree', 'lambda': 0.0830573109793117, 'alpha': 0.018893701733653557, 'max_depth': 3, 'eta': 0.31918158457607937, 'gamma': 5.113509525604284e-08, 'grow_policy': 'depthwise'}. Best is trial#468 with value: 3.1383768416796634.\n"
          ],
          "name": "stderr"
        },
        {
          "output_type": "stream",
          "text": [
            "[0]\tvalidation-rmse:6.1568\n",
            "[1]\tvalidation-rmse:4.9144\n",
            "[2]\tvalidation-rmse:4.91023\n",
            "[3]\tvalidation-rmse:4.98721\n",
            "[4]\tvalidation-rmse:4.93306\n",
            "[5]\tvalidation-rmse:4.78875\n",
            "[6]\tvalidation-rmse:4.75158\n",
            "[7]\tvalidation-rmse:4.8097\n",
            "[8]\tvalidation-rmse:4.77709\n",
            "[9]\tvalidation-rmse:4.83982\n"
          ],
          "name": "stdout"
        },
        {
          "output_type": "stream",
          "text": [
            "[I 2020-07-08 14:01:04,314] Finished trial#478 with value: 3.4397338572110336 with parameters: {'combos': 1, 'ada_Scaler': 'log', 'ada_ne': 150, 'ada_lr': 0.6281665106775575, 'et_Scaler': 'stand', 'et_max_depth': 7, 'et_ne': 666, 'xgb_Scaler': 'log', 'booster': 'gbtree', 'lambda': 0.020875294384189027, 'alpha': 0.03263153034472175, 'max_depth': 3, 'eta': 0.921473395592149, 'gamma': 2.3351998661220384e-08, 'grow_policy': 'depthwise'}. Best is trial#468 with value: 3.1383768416796634.\n"
          ],
          "name": "stderr"
        },
        {
          "output_type": "stream",
          "text": [
            "[0]\tvalidation-rmse:19.6107\n",
            "[1]\tvalidation-rmse:16.0587\n",
            "[2]\tvalidation-rmse:13.2379\n",
            "[3]\tvalidation-rmse:10.984\n",
            "[4]\tvalidation-rmse:9.23945\n",
            "[5]\tvalidation-rmse:7.80414\n",
            "[6]\tvalidation-rmse:6.72102\n",
            "[7]\tvalidation-rmse:5.84768\n",
            "[8]\tvalidation-rmse:5.20038\n",
            "[9]\tvalidation-rmse:4.70867\n"
          ],
          "name": "stdout"
        },
        {
          "output_type": "stream",
          "text": [
            "[I 2020-07-08 14:01:05,469] Finished trial#479 with value: 3.4693640388666513 with parameters: {'combos': 1, 'ada_Scaler': 'log', 'ada_ne': 46, 'ada_lr': 0.6268020122270808, 'et_Scaler': 'stand', 'et_max_depth': 9, 'et_ne': 637, 'xgb_Scaler': 'log', 'booster': 'gbtree', 'lambda': 0.048284234661833715, 'alpha': 0.016798578096948506, 'max_depth': 3, 'eta': 0.1860571299110177, 'gamma': 1.7658908473631476e-08, 'grow_policy': 'depthwise'}. Best is trial#468 with value: 3.1383768416796634.\n"
          ],
          "name": "stderr"
        },
        {
          "output_type": "stream",
          "text": [
            "[0]\tvalidation-rmse:9.66411\n",
            "[1]\tvalidation-rmse:5.35021\n",
            "[2]\tvalidation-rmse:4.07359\n",
            "[3]\tvalidation-rmse:3.94844\n",
            "[4]\tvalidation-rmse:4.01807\n",
            "[5]\tvalidation-rmse:3.95974\n",
            "[6]\tvalidation-rmse:3.958\n",
            "[7]\tvalidation-rmse:3.83276\n",
            "[8]\tvalidation-rmse:3.81806\n",
            "[9]\tvalidation-rmse:3.89452\n"
          ],
          "name": "stdout"
        },
        {
          "output_type": "stream",
          "text": [
            "[I 2020-07-08 14:01:06,820] Finished trial#480 with value: 3.184493664395974 with parameters: {'combos': 1, 'ada_Scaler': 'log', 'ada_ne': 111, 'ada_lr': 0.581524684494324, 'et_Scaler': 'stand', 'et_max_depth': 11, 'et_ne': 613, 'xgb_Scaler': 'log', 'booster': 'gbtree', 'lambda': 0.03068543586678713, 'alpha': 0.009659239308398303, 'max_depth': 3, 'eta': 0.6408015074215216, 'gamma': 4.759537658894724e-08, 'grow_policy': 'depthwise'}. Best is trial#468 with value: 3.1383768416796634.\n"
          ],
          "name": "stderr"
        },
        {
          "output_type": "stream",
          "text": [
            "[0]\tvalidation-rmse:8.87172\n",
            "[1]\tvalidation-rmse:5.22161\n",
            "[2]\tvalidation-rmse:4.21357\n",
            "[3]\tvalidation-rmse:4.08454\n",
            "[4]\tvalidation-rmse:4.25492\n",
            "[5]\tvalidation-rmse:4.32604\n",
            "[6]\tvalidation-rmse:4.35361\n",
            "[7]\tvalidation-rmse:4.39905\n",
            "[8]\tvalidation-rmse:4.48203\n",
            "[9]\tvalidation-rmse:4.48487\n"
          ],
          "name": "stdout"
        },
        {
          "output_type": "stream",
          "text": [
            "[I 2020-07-08 14:01:08,211] Finished trial#481 with value: 3.450592044389939 with parameters: {'combos': 1, 'ada_Scaler': 'log', 'ada_ne': 102, 'ada_lr': 0.6448267043884394, 'et_Scaler': 'stand', 'et_max_depth': 11, 'et_ne': 645, 'xgb_Scaler': 'log', 'booster': 'gbtree', 'lambda': 0.03152468263522622, 'alpha': 0.009120016999035968, 'max_depth': 3, 'eta': 0.6838097356001258, 'gamma': 4.709506346272716e-08, 'grow_policy': 'depthwise'}. Best is trial#468 with value: 3.1383768416796634.\n"
          ],
          "name": "stderr"
        },
        {
          "output_type": "stream",
          "text": [
            "[0]\tvalidation-rmse:16.332\n",
            "[1]\tvalidation-rmse:11.4088\n",
            "[2]\tvalidation-rmse:8.13646\n",
            "[3]\tvalidation-rmse:6.13621\n",
            "[4]\tvalidation-rmse:4.96895\n",
            "[5]\tvalidation-rmse:4.27076\n",
            "[6]\tvalidation-rmse:3.91424\n",
            "[7]\tvalidation-rmse:3.79245\n",
            "[8]\tvalidation-rmse:3.77825\n",
            "[9]\tvalidation-rmse:3.72828\n"
          ],
          "name": "stdout"
        },
        {
          "output_type": "stream",
          "text": [
            "[I 2020-07-08 14:01:09,523] Finished trial#482 with value: 3.403953490561011 with parameters: {'combos': 1, 'ada_Scaler': 'log', 'ada_ne': 118, 'ada_lr': 0.5852031798950642, 'et_Scaler': 'stand', 'et_max_depth': 10, 'et_ne': 615, 'xgb_Scaler': 'log', 'booster': 'gbtree', 'lambda': 0.08440281441810957, 'alpha': 0.025366011776326008, 'max_depth': 3, 'eta': 0.32856123229457207, 'gamma': 2.6365170572380743e-08, 'grow_policy': 'depthwise'}. Best is trial#468 with value: 3.1383768416796634.\n"
          ],
          "name": "stderr"
        },
        {
          "output_type": "stream",
          "text": [
            "[0]\tvalidation-rmse:5.42087\n",
            "[1]\tvalidation-rmse:4.96296\n",
            "[2]\tvalidation-rmse:5.14128\n",
            "[3]\tvalidation-rmse:4.91889\n",
            "[4]\tvalidation-rmse:4.84287\n",
            "[5]\tvalidation-rmse:4.91953\n",
            "[6]\tvalidation-rmse:4.89628\n",
            "[7]\tvalidation-rmse:4.9754\n",
            "[8]\tvalidation-rmse:4.98993\n",
            "[9]\tvalidation-rmse:5.19966\n"
          ],
          "name": "stdout"
        },
        {
          "output_type": "stream",
          "text": [
            "[I 2020-07-08 14:01:10,829] Finished trial#483 with value: 3.561373713542258 with parameters: {'combos': 1, 'ada_Scaler': 'log', 'ada_ne': 145, 'ada_lr': 0.5898486728875125, 'et_Scaler': 'stand', 'et_max_depth': 8, 'et_ne': 661, 'xgb_Scaler': 'log', 'booster': 'gbtree', 'lambda': 0.1410576141336134, 'alpha': 0.012867847095597776, 'max_depth': 3, 'eta': 0.9863151701892086, 'gamma': 8.426782153173184e-08, 'grow_policy': 'depthwise'}. Best is trial#468 with value: 3.1383768416796634.\n"
          ],
          "name": "stderr"
        },
        {
          "output_type": "stream",
          "text": [
            "[0]\tvalidation-rmse:15.1404\n",
            "[1]\tvalidation-rmse:9.86549\n",
            "[2]\tvalidation-rmse:6.80785\n",
            "[3]\tvalidation-rmse:5.1215\n",
            "[4]\tvalidation-rmse:4.23322\n",
            "[5]\tvalidation-rmse:3.90602\n",
            "[6]\tvalidation-rmse:3.78589\n",
            "[7]\tvalidation-rmse:3.83716\n",
            "[8]\tvalidation-rmse:3.82015\n",
            "[9]\tvalidation-rmse:3.8242\n"
          ],
          "name": "stdout"
        },
        {
          "output_type": "stream",
          "text": [
            "[I 2020-07-08 14:01:12,084] Finished trial#484 with value: 3.3109983606877202 with parameters: {'combos': 1, 'ada_Scaler': 'log', 'ada_ne': 117, 'ada_lr': 0.5642442827812071, 'et_Scaler': 'stand', 'et_max_depth': 9, 'et_ne': 615, 'xgb_Scaler': 'log', 'booster': 'gbtree', 'lambda': 0.030442518090369998, 'alpha': 0.0038582206953927493, 'max_depth': 3, 'eta': 0.38109090977102034, 'gamma': 4.356688412716849e-08, 'grow_policy': 'depthwise'}. Best is trial#468 with value: 3.1383768416796634.\n"
          ],
          "name": "stderr"
        },
        {
          "output_type": "stream",
          "text": [
            "[0]\tvalidation-rmse:10.8261\n",
            "[1]\tvalidation-rmse:5.87367\n",
            "[2]\tvalidation-rmse:4.06992\n",
            "[3]\tvalidation-rmse:3.895\n",
            "[4]\tvalidation-rmse:3.88648\n",
            "[5]\tvalidation-rmse:3.91877\n",
            "[6]\tvalidation-rmse:3.98508\n",
            "[7]\tvalidation-rmse:4.09591\n",
            "[8]\tvalidation-rmse:4.09103\n",
            "[9]\tvalidation-rmse:4.05427\n"
          ],
          "name": "stdout"
        },
        {
          "output_type": "stream",
          "text": [
            "[I 2020-07-08 14:01:13,571] Finished trial#485 with value: 3.3094685527641707 with parameters: {'combos': 1, 'ada_Scaler': 'log', 'ada_ne': 188, 'ada_lr': 0.6398151822726944, 'et_Scaler': 'stand', 'et_max_depth': 10, 'et_ne': 639, 'xgb_Scaler': 'log', 'booster': 'gbtree', 'lambda': 0.02252592834424909, 'alpha': 0.006760247384497445, 'max_depth': 3, 'eta': 0.5815821707840855, 'gamma': 1.6057383493452003e-08, 'grow_policy': 'depthwise'}. Best is trial#468 with value: 3.1383768416796634.\n",
            "[I 2020-07-08 14:01:14,809] Setting status of trial#486 as TrialState.PRUNED. Trial was pruned at iteration 16.\n"
          ],
          "name": "stderr"
        },
        {
          "output_type": "stream",
          "text": [
            "[0]\tvalidation-rmse:18.3218\n",
            "[1]\tvalidation-rmse:14.135\n",
            "[2]\tvalidation-rmse:11.0048\n",
            "[3]\tvalidation-rmse:8.64681\n",
            "[4]\tvalidation-rmse:6.94981\n",
            "[5]\tvalidation-rmse:5.77382\n",
            "[6]\tvalidation-rmse:4.92533\n",
            "[7]\tvalidation-rmse:4.4184\n",
            "[8]\tvalidation-rmse:4.13106\n",
            "[9]\tvalidation-rmse:3.88037\n"
          ],
          "name": "stdout"
        },
        {
          "output_type": "stream",
          "text": [
            "[I 2020-07-08 14:01:16,267] Finished trial#487 with value: 3.312879505737082 with parameters: {'combos': 1, 'ada_Scaler': 'log', 'ada_ne': 140, 'ada_lr': 0.6008123734344646, 'et_Scaler': 'stand', 'et_max_depth': 10, 'et_ne': 613, 'xgb_Scaler': 'log', 'booster': 'gbtree', 'lambda': 0.08159963093179728, 'alpha': 0.021778926438544514, 'max_depth': 3, 'eta': 0.24200956916594568, 'gamma': 6.728063292990968e-08, 'grow_policy': 'depthwise'}. Best is trial#468 with value: 3.1383768416796634.\n"
          ],
          "name": "stderr"
        },
        {
          "output_type": "stream",
          "text": [
            "[0]\tvalidation-rmse:10.2369\n",
            "[1]\tvalidation-rmse:5.58576\n",
            "[2]\tvalidation-rmse:4.06429\n",
            "[3]\tvalidation-rmse:3.84477\n",
            "[4]\tvalidation-rmse:3.86769\n",
            "[5]\tvalidation-rmse:3.88169\n",
            "[6]\tvalidation-rmse:3.94876\n",
            "[7]\tvalidation-rmse:3.92685\n",
            "[8]\tvalidation-rmse:3.83884\n",
            "[9]\tvalidation-rmse:3.91698\n"
          ],
          "name": "stdout"
        },
        {
          "output_type": "stream",
          "text": [
            "[I 2020-07-08 14:01:17,640] Finished trial#488 with value: 3.285849816194993 with parameters: {'combos': 1, 'ada_Scaler': 'log', 'ada_ne': 164, 'ada_lr': 0.6590483018143416, 'et_Scaler': 'stand', 'et_max_depth': 9, 'et_ne': 641, 'xgb_Scaler': 'log', 'booster': 'gbtree', 'lambda': 0.01640859366657936, 'alpha': 0.010525463215253546, 'max_depth': 3, 'eta': 0.6110944742292702, 'gamma': 2.5916762954326988e-08, 'grow_policy': 'depthwise'}. Best is trial#468 with value: 3.1383768416796634.\n"
          ],
          "name": "stderr"
        },
        {
          "output_type": "stream",
          "text": [
            "[0]\tvalidation-rmse:20.5214\n",
            "[1]\tvalidation-rmse:17.5961\n",
            "[2]\tvalidation-rmse:15.1143\n",
            "[3]\tvalidation-rmse:13.0373\n",
            "[4]\tvalidation-rmse:11.302\n",
            "[5]\tvalidation-rmse:9.80209\n",
            "[6]\tvalidation-rmse:8.53214\n",
            "[7]\tvalidation-rmse:7.53528\n",
            "[8]\tvalidation-rmse:6.72242\n",
            "[9]\tvalidation-rmse:6.04086\n"
          ],
          "name": "stdout"
        },
        {
          "output_type": "stream",
          "text": [
            "[I 2020-07-08 14:01:18,994] Finished trial#489 with value: 3.6450703945211607 with parameters: {'combos': 1, 'ada_Scaler': 'log', 'ada_ne': 191, 'ada_lr': 0.6234839446087254, 'et_Scaler': 'stand', 'et_max_depth': 8, 'et_ne': 635, 'xgb_Scaler': 'log', 'booster': 'gbtree', 'lambda': 0.04385848082598494, 'alpha': 0.0416231776808601, 'max_depth': 3, 'eta': 0.14703037610718586, 'gamma': 4.1618501810372786e-08, 'grow_policy': 'depthwise'}. Best is trial#468 with value: 3.1383768416796634.\n"
          ],
          "name": "stderr"
        },
        {
          "output_type": "stream",
          "text": [
            "[0]\tvalidation-rmse:14.4248\n",
            "[1]\tvalidation-rmse:8.99632\n",
            "[2]\tvalidation-rmse:6.20439\n",
            "[3]\tvalidation-rmse:4.62742\n",
            "[4]\tvalidation-rmse:4.03377\n",
            "[5]\tvalidation-rmse:3.90168\n",
            "[6]\tvalidation-rmse:3.82328\n",
            "[7]\tvalidation-rmse:3.80115\n",
            "[8]\tvalidation-rmse:3.80825\n",
            "[9]\tvalidation-rmse:3.82537\n"
          ],
          "name": "stdout"
        },
        {
          "output_type": "stream",
          "text": [
            "[I 2020-07-08 14:01:20,302] Finished trial#490 with value: 3.368573072091287 with parameters: {'combos': 1, 'ada_Scaler': 'log', 'ada_ne': 112, 'ada_lr': 0.5580086066013994, 'et_Scaler': 'stand', 'et_max_depth': 10, 'et_ne': 611, 'xgb_Scaler': 'log', 'booster': 'gbtree', 'lambda': 0.06860238717784481, 'alpha': 0.014839897316083456, 'max_depth': 3, 'eta': 0.4122777354478783, 'gamma': 1.4030543332204578e-08, 'grow_policy': 'depthwise'}. Best is trial#468 with value: 3.1383768416796634.\n"
          ],
          "name": "stderr"
        },
        {
          "output_type": "stream",
          "text": [
            "[0]\tvalidation-rmse:5.41566\n",
            "[1]\tvalidation-rmse:5.16344\n",
            "[2]\tvalidation-rmse:5.09831\n",
            "[3]\tvalidation-rmse:5.11117\n",
            "[4]\tvalidation-rmse:5.14435\n",
            "[5]\tvalidation-rmse:5.26622\n",
            "[6]\tvalidation-rmse:5.15441\n",
            "[7]\tvalidation-rmse:5.06597\n",
            "[8]\tvalidation-rmse:5.05944\n",
            "[9]\tvalidation-rmse:5.17703\n"
          ],
          "name": "stdout"
        },
        {
          "output_type": "stream",
          "text": [
            "[I 2020-07-08 14:01:21,684] Finished trial#491 with value: 3.517340491018045 with parameters: {'combos': 1, 'ada_Scaler': 'log', 'ada_ne': 139, 'ada_lr': 0.6642868643770472, 'et_Scaler': 'stand', 'et_max_depth': 9, 'et_ne': 670, 'xgb_Scaler': 'log', 'booster': 'gbtree', 'lambda': 0.03899830683719821, 'alpha': 0.0062015350547302995, 'max_depth': 3, 'eta': 0.9900829061783023, 'gamma': 2.4804379441768776e-08, 'grow_policy': 'depthwise'}. Best is trial#468 with value: 3.1383768416796634.\n"
          ],
          "name": "stderr"
        },
        {
          "output_type": "stream",
          "text": [
            "[0]\tvalidation-rmse:17.2893\n",
            "[1]\tvalidation-rmse:12.5072\n",
            "[2]\tvalidation-rmse:9.33387\n",
            "[3]\tvalidation-rmse:7.07575\n",
            "[4]\tvalidation-rmse:5.66498\n",
            "[5]\tvalidation-rmse:4.70002\n",
            "[6]\tvalidation-rmse:4.16982\n",
            "[7]\tvalidation-rmse:3.82619\n",
            "[8]\tvalidation-rmse:3.7177\n",
            "[9]\tvalidation-rmse:3.60707\n"
          ],
          "name": "stdout"
        },
        {
          "output_type": "stream",
          "text": [
            "[I 2020-07-08 14:01:23,205] Finished trial#492 with value: 3.3105271467276483 with parameters: {'combos': 1, 'ada_Scaler': 'log', 'ada_ne': 184, 'ada_lr': 0.6069181481154554, 'et_Scaler': 'stand', 'et_max_depth': 11, 'et_ne': 650, 'xgb_Scaler': 'log', 'booster': 'gbtree', 'lambda': 0.19599325190814598, 'alpha': 0.00885326871496438, 'max_depth': 3, 'eta': 0.2945040907082121, 'gamma': 3.779337890370092e-08, 'grow_policy': 'depthwise'}. Best is trial#468 with value: 3.1383768416796634.\n"
          ],
          "name": "stderr"
        },
        {
          "output_type": "stream",
          "text": [
            "[0]\tvalidation-rmse:8.39187\n",
            "[1]\tvalidation-rmse:4.76604\n",
            "[2]\tvalidation-rmse:4.01469\n",
            "[3]\tvalidation-rmse:4.07585\n",
            "[4]\tvalidation-rmse:4.4501\n",
            "[5]\tvalidation-rmse:4.41846\n",
            "[6]\tvalidation-rmse:4.45405\n",
            "[7]\tvalidation-rmse:4.32829\n",
            "[8]\tvalidation-rmse:4.324\n",
            "[9]\tvalidation-rmse:4.33651\n"
          ],
          "name": "stdout"
        },
        {
          "output_type": "stream",
          "text": [
            "[I 2020-07-08 14:01:24,607] Finished trial#493 with value: 3.3388960076896383 with parameters: {'combos': 1, 'ada_Scaler': 'log', 'ada_ne': 167, 'ada_lr': 0.670535885573935, 'et_Scaler': 'stand', 'et_max_depth': 10, 'et_ne': 627, 'xgb_Scaler': 'log', 'booster': 'gbtree', 'lambda': 0.1140752257940911, 'alpha': 0.018665856996799568, 'max_depth': 3, 'eta': 0.7043073550441624, 'gamma': 6.009676217521747e-08, 'grow_policy': 'depthwise'}. Best is trial#468 with value: 3.1383768416796634.\n"
          ],
          "name": "stderr"
        },
        {
          "output_type": "stream",
          "text": [
            "[0]\tvalidation-rmse:13.8845\n",
            "[1]\tvalidation-rmse:8.41573\n",
            "[2]\tvalidation-rmse:5.56899\n",
            "[3]\tvalidation-rmse:4.36385\n",
            "[4]\tvalidation-rmse:3.91954\n",
            "[5]\tvalidation-rmse:3.81422\n",
            "[6]\tvalidation-rmse:3.72207\n",
            "[7]\tvalidation-rmse:3.68653\n",
            "[8]\tvalidation-rmse:3.58557\n",
            "[9]\tvalidation-rmse:3.5736\n"
          ],
          "name": "stdout"
        },
        {
          "output_type": "stream",
          "text": [
            "[I 2020-07-08 14:01:25,945] Finished trial#494 with value: 3.2254662118378077 with parameters: {'combos': 1, 'ada_Scaler': 'log', 'ada_ne': 128, 'ada_lr': 0.644533220941673, 'et_Scaler': 'stand', 'et_max_depth': 9, 'et_ne': 654, 'xgb_Scaler': 'log', 'booster': 'gbtree', 'lambda': 0.05261864075524706, 'alpha': 0.0020032424032966874, 'max_depth': 3, 'eta': 0.4359756962200124, 'gamma': 1.5098334079502153e-08, 'grow_policy': 'depthwise'}. Best is trial#468 with value: 3.1383768416796634.\n"
          ],
          "name": "stderr"
        },
        {
          "output_type": "stream",
          "text": [
            "[0]\tvalidation-rmse:18.35\n",
            "[1]\tvalidation-rmse:14.1769\n",
            "[2]\tvalidation-rmse:11.0589\n",
            "[3]\tvalidation-rmse:8.80822\n",
            "[4]\tvalidation-rmse:7.12532\n",
            "[5]\tvalidation-rmse:5.97312\n",
            "[6]\tvalidation-rmse:5.28081\n",
            "[7]\tvalidation-rmse:4.64828\n",
            "[8]\tvalidation-rmse:4.33728\n",
            "[9]\tvalidation-rmse:4.06228\n"
          ],
          "name": "stdout"
        },
        {
          "output_type": "stream",
          "text": [
            "[I 2020-07-08 14:01:27,080] Finished trial#495 with value: 3.5632822475894317 with parameters: {'combos': 1, 'ada_Scaler': 'log', 'ada_ne': 72, 'ada_lr': 0.5869822177505137, 'et_Scaler': 'stand', 'et_max_depth': 7, 'et_ne': 674, 'xgb_Scaler': 'log', 'booster': 'gbtree', 'lambda': 0.023946214116759734, 'alpha': 0.003856953855333286, 'max_depth': 3, 'eta': 0.2401716415775756, 'gamma': 1.5433666915364647e-08, 'grow_policy': 'depthwise'}. Best is trial#468 with value: 3.1383768416796634.\n"
          ],
          "name": "stderr"
        },
        {
          "output_type": "stream",
          "text": [
            "[0]\tvalidation-rmse:14.8315\n",
            "[1]\tvalidation-rmse:9.47695\n",
            "[2]\tvalidation-rmse:6.49329\n",
            "[3]\tvalidation-rmse:5.02428\n",
            "[4]\tvalidation-rmse:4.33197\n",
            "[5]\tvalidation-rmse:4.13176\n",
            "[6]\tvalidation-rmse:4.05337\n",
            "[7]\tvalidation-rmse:3.99585\n",
            "[8]\tvalidation-rmse:3.97992\n",
            "[9]\tvalidation-rmse:3.96954\n"
          ],
          "name": "stdout"
        },
        {
          "output_type": "stream",
          "text": [
            "[I 2020-07-08 14:01:28,375] Finished trial#496 with value: 3.39260757378697 with parameters: {'combos': 1, 'ada_Scaler': 'log', 'ada_ne': 114, 'ada_lr': 0.6528667083254381, 'et_Scaler': 'stand', 'et_max_depth': 9, 'et_ne': 654, 'xgb_Scaler': 'log', 'booster': 'gbtree', 'lambda': 0.059761775781218884, 'alpha': 0.03223826627900741, 'max_depth': 3, 'eta': 0.39403779024190805, 'gamma': 2.857981747559733e-08, 'grow_policy': 'depthwise'}. Best is trial#468 with value: 3.1383768416796634.\n"
          ],
          "name": "stderr"
        },
        {
          "output_type": "stream",
          "text": [
            "[0]\tvalidation-rmse:9.12954\n",
            "[1]\tvalidation-rmse:5.26953\n",
            "[2]\tvalidation-rmse:4.18551\n",
            "[3]\tvalidation-rmse:4.0411\n",
            "[4]\tvalidation-rmse:4.1106\n",
            "[5]\tvalidation-rmse:4.16487\n",
            "[6]\tvalidation-rmse:4.17604\n",
            "[7]\tvalidation-rmse:4.17345\n",
            "[8]\tvalidation-rmse:4.20326\n",
            "[9]\tvalidation-rmse:4.17465\n"
          ],
          "name": "stdout"
        },
        {
          "output_type": "stream",
          "text": [
            "[I 2020-07-08 14:01:29,576] Finished trial#497 with value: 3.1821099068854544 with parameters: {'combos': 1, 'ada_Scaler': 'log', 'ada_ne': 88, 'ada_lr': 0.6252289183776694, 'et_Scaler': 'stand', 'et_max_depth': 9, 'et_ne': 610, 'xgb_Scaler': 'log', 'booster': 'gbtree', 'lambda': 0.031259252923361625, 'alpha': 0.0017735412114778704, 'max_depth': 3, 'eta': 0.6694998623316765, 'gamma': 1.0283040421889429e-08, 'grow_policy': 'depthwise'}. Best is trial#468 with value: 3.1383768416796634.\n",
            "[I 2020-07-08 14:01:30,581] Setting status of trial#498 as TrialState.PRUNED. Trial was pruned at iteration 11.\n"
          ],
          "name": "stderr"
        },
        {
          "output_type": "stream",
          "text": [
            "[0]\tvalidation-rmse:7.91825\n",
            "[1]\tvalidation-rmse:5.17657\n",
            "[2]\tvalidation-rmse:4.46777\n",
            "[3]\tvalidation-rmse:4.4378\n",
            "[4]\tvalidation-rmse:4.44198\n",
            "[5]\tvalidation-rmse:4.54526\n",
            "[6]\tvalidation-rmse:4.45399\n",
            "[7]\tvalidation-rmse:4.39776\n",
            "[8]\tvalidation-rmse:4.35547\n",
            "[9]\tvalidation-rmse:4.45835\n"
          ],
          "name": "stdout"
        },
        {
          "output_type": "stream",
          "text": [
            "[I 2020-07-08 14:01:31,919] Finished trial#499 with value: 3.258763105854419 with parameters: {'combos': 1, 'ada_Scaler': 'log', 'ada_ne': 85, 'ada_lr': 0.6215989723783117, 'et_Scaler': 'stand', 'et_max_depth': 8, 'et_ne': 670, 'xgb_Scaler': 'log', 'booster': 'gbtree', 'lambda': 0.012328583807666597, 'alpha': 0.002168654869412086, 'max_depth': 3, 'eta': 0.7414369312212175, 'gamma': 4.1653530548425106e-08, 'grow_policy': 'depthwise'}. Best is trial#468 with value: 3.1383768416796634.\n"
          ],
          "name": "stderr"
        },
        {
          "output_type": "stream",
          "text": [
            "[0]\tvalidation-rmse:6.11097\n",
            "[1]\tvalidation-rmse:4.80035\n",
            "[2]\tvalidation-rmse:4.86491\n",
            "[3]\tvalidation-rmse:4.7807\n",
            "[4]\tvalidation-rmse:4.59052\n",
            "[5]\tvalidation-rmse:4.563\n",
            "[6]\tvalidation-rmse:5.12591\n",
            "[7]\tvalidation-rmse:5.15329\n",
            "[8]\tvalidation-rmse:5.14383\n",
            "[9]\tvalidation-rmse:5.10257\n"
          ],
          "name": "stdout"
        },
        {
          "output_type": "stream",
          "text": [
            "[I 2020-07-08 14:01:33,198] Finished trial#500 with value: 3.4303323140663036 with parameters: {'combos': 1, 'ada_Scaler': 'log', 'ada_ne': 128, 'ada_lr': 0.5615027338655532, 'et_Scaler': 'stand', 'et_max_depth': 9, 'et_ne': 607, 'xgb_Scaler': 'log', 'booster': 'gbtree', 'lambda': 0.02947376483476144, 'alpha': 0.005537469198658262, 'max_depth': 3, 'eta': 0.9337713344421619, 'gamma': 7.293516687765131e-08, 'grow_policy': 'depthwise'}. Best is trial#468 with value: 3.1383768416796634.\n"
          ],
          "name": "stderr"
        },
        {
          "output_type": "stream",
          "text": [
            "[0]\tvalidation-rmse:19.0344\n",
            "[1]\tvalidation-rmse:15.1359\n",
            "[2]\tvalidation-rmse:12.1425\n",
            "[3]\tvalidation-rmse:9.79668\n",
            "[4]\tvalidation-rmse:8.02282\n",
            "[5]\tvalidation-rmse:6.59138\n",
            "[6]\tvalidation-rmse:5.61027\n",
            "[7]\tvalidation-rmse:4.85167\n",
            "[8]\tvalidation-rmse:4.31335\n",
            "[9]\tvalidation-rmse:3.99681\n"
          ],
          "name": "stdout"
        },
        {
          "output_type": "stream",
          "text": [
            "[I 2020-07-08 14:01:34,428] Finished trial#501 with value: 3.3528615839145557 with parameters: {'combos': 1, 'ada_Scaler': 'log', 'ada_ne': 99, 'ada_lr': 0.6121990027050052, 'et_Scaler': 'stand', 'et_max_depth': 8, 'et_ne': 653, 'xgb_Scaler': 'log', 'booster': 'gbtree', 'lambda': 0.0946710059901109, 'alpha': 0.0016080213272194437, 'max_depth': 3, 'eta': 0.2114338136140453, 'gamma': 1.0489762970405082e-07, 'grow_policy': 'depthwise'}. Best is trial#468 with value: 3.1383768416796634.\n"
          ],
          "name": "stderr"
        },
        {
          "output_type": "stream",
          "text": [
            "[0]\tvalidation-rmse:10.236\n",
            "[1]\tvalidation-rmse:5.5834\n",
            "[2]\tvalidation-rmse:4.06162\n",
            "[3]\tvalidation-rmse:3.84223\n",
            "[4]\tvalidation-rmse:3.86511\n",
            "[5]\tvalidation-rmse:3.87898\n",
            "[6]\tvalidation-rmse:3.94593\n",
            "[7]\tvalidation-rmse:3.92398\n",
            "[8]\tvalidation-rmse:3.83578\n",
            "[9]\tvalidation-rmse:3.91366\n"
          ],
          "name": "stdout"
        },
        {
          "output_type": "stream",
          "text": [
            "[I 2020-07-08 14:01:35,752] Finished trial#502 with value: 3.2314269074147592 with parameters: {'combos': 1, 'ada_Scaler': 'log', 'ada_ne': 147, 'ada_lr': 0.6648186923427766, 'et_Scaler': 'stand', 'et_max_depth': 9, 'et_ne': 629, 'xgb_Scaler': 'log', 'booster': 'gbtree', 'lambda': 0.018444397291532695, 'alpha': 0.008562115584815816, 'max_depth': 3, 'eta': 0.6111536174543256, 'gamma': 2.1039049210927833e-08, 'grow_policy': 'depthwise'}. Best is trial#468 with value: 3.1383768416796634.\n"
          ],
          "name": "stderr"
        },
        {
          "output_type": "stream",
          "text": [
            "[0]\tvalidation-rmse:9.42239\n",
            "[1]\tvalidation-rmse:5.35357\n",
            "[2]\tvalidation-rmse:4.13905\n",
            "[3]\tvalidation-rmse:4.0016\n",
            "[4]\tvalidation-rmse:4.28603\n",
            "[5]\tvalidation-rmse:4.33099\n",
            "[6]\tvalidation-rmse:4.34458\n",
            "[7]\tvalidation-rmse:4.35398\n",
            "[8]\tvalidation-rmse:4.32655\n",
            "[9]\tvalidation-rmse:4.30222\n"
          ],
          "name": "stdout"
        },
        {
          "output_type": "stream",
          "text": [
            "[I 2020-07-08 14:01:37,158] Finished trial#503 with value: 3.3120922166480873 with parameters: {'combos': 1, 'ada_Scaler': 'log', 'ada_ne': 152, 'ada_lr': 0.6727491616764816, 'et_Scaler': 'stand', 'et_max_depth': 10, 'et_ne': 619, 'xgb_Scaler': 'log', 'booster': 'gbtree', 'lambda': 0.02111101659773269, 'alpha': 0.010014275462390747, 'max_depth': 3, 'eta': 0.6536535649011163, 'gamma': 3.1036857508861025e-08, 'grow_policy': 'depthwise'}. Best is trial#468 with value: 3.1383768416796634.\n"
          ],
          "name": "stderr"
        },
        {
          "output_type": "stream",
          "text": [
            "[0]\tvalidation-rmse:5.76029\n",
            "[1]\tvalidation-rmse:5.81393\n",
            "[2]\tvalidation-rmse:5.45879\n",
            "[3]\tvalidation-rmse:5.43783\n",
            "[4]\tvalidation-rmse:5.46244\n",
            "[5]\tvalidation-rmse:5.48671\n",
            "[6]\tvalidation-rmse:5.30329\n",
            "[7]\tvalidation-rmse:5.29917\n",
            "[8]\tvalidation-rmse:5.28599\n",
            "[9]\tvalidation-rmse:5.24871\n"
          ],
          "name": "stdout"
        },
        {
          "output_type": "stream",
          "text": [
            "[I 2020-07-08 14:01:38,640] Finished trial#504 with value: 3.472340868162301 with parameters: {'combos': 1, 'ada_Scaler': 'log', 'ada_ne': 191, 'ada_lr': 0.6760192510574778, 'et_Scaler': 'stand', 'et_max_depth': 10, 'et_ne': 633, 'xgb_Scaler': 'log', 'booster': 'gbtree', 'lambda': 0.01646485938464346, 'alpha': 0.016619025852406762, 'max_depth': 4, 'eta': 0.9969770186970456, 'gamma': 2.177896482277911e-08, 'grow_policy': 'depthwise'}. Best is trial#468 with value: 3.1383768416796634.\n",
            "[I 2020-07-08 14:01:39,807] Setting status of trial#505 as TrialState.PRUNED. Trial was pruned at iteration 11.\n"
          ],
          "name": "stderr"
        },
        {
          "output_type": "stream",
          "text": [
            "[0]\tvalidation-rmse:11.8571\n",
            "[1]\tvalidation-rmse:6.5574\n",
            "[2]\tvalidation-rmse:4.45913\n",
            "[3]\tvalidation-rmse:3.81955\n",
            "[4]\tvalidation-rmse:3.74091\n",
            "[5]\tvalidation-rmse:3.81982\n",
            "[6]\tvalidation-rmse:3.81755\n",
            "[7]\tvalidation-rmse:3.78025\n",
            "[8]\tvalidation-rmse:3.80842\n",
            "[9]\tvalidation-rmse:3.82636\n"
          ],
          "name": "stdout"
        },
        {
          "output_type": "stream",
          "text": [
            "[I 2020-07-08 14:01:41,044] Finished trial#506 with value: 3.1923580241503378 with parameters: {'combos': 1, 'ada_Scaler': 'log', 'ada_ne': 71, 'ada_lr': 0.5873918995432654, 'et_Scaler': 'stand', 'et_max_depth': 8, 'et_ne': 631, 'xgb_Scaler': 'log', 'booster': 'gbtree', 'lambda': 0.007286220834701164, 'alpha': 0.02387782613616525, 'max_depth': 3, 'eta': 0.5313483517404792, 'gamma': 5.161910013963537e-08, 'grow_policy': 'depthwise'}. Best is trial#468 with value: 3.1383768416796634.\n"
          ],
          "name": "stderr"
        },
        {
          "output_type": "stream",
          "text": [
            "[0]\tvalidation-rmse:13.1737\n",
            "[1]\tvalidation-rmse:7.64866\n",
            "[2]\tvalidation-rmse:5.12753\n",
            "[3]\tvalidation-rmse:4.25833\n",
            "[4]\tvalidation-rmse:4.04763\n",
            "[5]\tvalidation-rmse:4.03256\n",
            "[6]\tvalidation-rmse:4.09574\n",
            "[7]\tvalidation-rmse:4.09518\n",
            "[8]\tvalidation-rmse:4.11122\n",
            "[9]\tvalidation-rmse:4.1087\n"
          ],
          "name": "stdout"
        },
        {
          "output_type": "stream",
          "text": [
            "[I 2020-07-08 14:01:42,154] Finished trial#507 with value: 3.4667631173502254 with parameters: {'combos': 1, 'ada_Scaler': 'log', 'ada_ne': 63, 'ada_lr': 0.5420791294712076, 'et_Scaler': 'stand', 'et_max_depth': 8, 'et_ne': 611, 'xgb_Scaler': 'log', 'booster': 'gbtree', 'lambda': 0.030846816059538602, 'alpha': 0.022726181997145073, 'max_depth': 3, 'eta': 0.47014527202066214, 'gamma': 5.488125298555998e-08, 'grow_policy': 'depthwise'}. Best is trial#468 with value: 3.1383768416796634.\n"
          ],
          "name": "stderr"
        },
        {
          "output_type": "stream",
          "text": [
            "[0]\tvalidation-rmse:17.7244\n",
            "[1]\tvalidation-rmse:13.2514\n",
            "[2]\tvalidation-rmse:10.0552\n",
            "[3]\tvalidation-rmse:7.86953\n",
            "[4]\tvalidation-rmse:6.33437\n",
            "[5]\tvalidation-rmse:5.24109\n",
            "[6]\tvalidation-rmse:4.63414\n",
            "[7]\tvalidation-rmse:4.29143\n",
            "[8]\tvalidation-rmse:4.06316\n",
            "[9]\tvalidation-rmse:3.93364\n"
          ],
          "name": "stdout"
        },
        {
          "output_type": "stream",
          "text": [
            "[I 2020-07-08 14:01:43,354] Finished trial#508 with value: 3.516832574172802 with parameters: {'combos': 1, 'ada_Scaler': 'log', 'ada_ne': 29, 'ada_lr': 0.5744138268120291, 'et_Scaler': 'stand', 'et_max_depth': 10, 'et_ne': 642, 'xgb_Scaler': 'log', 'booster': 'gbtree', 'lambda': 0.0065701206463908545, 'alpha': 0.033002292609462205, 'max_depth': 3, 'eta': 0.26702275090895605, 'gamma': 1.0876276571570955e-08, 'grow_policy': 'depthwise'}. Best is trial#468 with value: 3.1383768416796634.\n"
          ],
          "name": "stderr"
        },
        {
          "output_type": "stream",
          "text": [
            "[0]\tvalidation-rmse:14.3179\n",
            "[1]\tvalidation-rmse:8.94036\n",
            "[2]\tvalidation-rmse:6.07696\n",
            "[3]\tvalidation-rmse:4.68683\n",
            "[4]\tvalidation-rmse:4.01057\n",
            "[5]\tvalidation-rmse:3.82593\n",
            "[6]\tvalidation-rmse:3.77082\n",
            "[7]\tvalidation-rmse:3.74777\n",
            "[8]\tvalidation-rmse:3.653\n",
            "[9]\tvalidation-rmse:3.69134\n"
          ],
          "name": "stdout"
        },
        {
          "output_type": "stream",
          "text": [
            "[I 2020-07-08 14:01:44,504] Finished trial#509 with value: 3.3632928323942344 with parameters: {'combos': 1, 'ada_Scaler': 'log', 'ada_ne': 83, 'ada_lr': 0.5858751320438269, 'et_Scaler': 'stand', 'et_max_depth': 7, 'et_ne': 674, 'xgb_Scaler': 'log', 'booster': 'gbtree', 'lambda': 0.00976275459499014, 'alpha': 0.012790544823899816, 'max_depth': 3, 'eta': 0.41756824629599126, 'gamma': 3.852028290838304e-08, 'grow_policy': 'depthwise'}. Best is trial#468 with value: 3.1383768416796634.\n"
          ],
          "name": "stderr"
        },
        {
          "output_type": "stream",
          "text": [
            "[0]\tvalidation-rmse:10.0305\n",
            "[1]\tvalidation-rmse:5.24418\n",
            "[2]\tvalidation-rmse:4.22793\n",
            "[3]\tvalidation-rmse:4.21357\n",
            "[4]\tvalidation-rmse:4.18058\n",
            "[5]\tvalidation-rmse:4.14102\n",
            "[6]\tvalidation-rmse:4.10603\n",
            "[7]\tvalidation-rmse:4.10414\n",
            "[8]\tvalidation-rmse:4.00821\n",
            "[9]\tvalidation-rmse:3.98563\n"
          ],
          "name": "stdout"
        },
        {
          "output_type": "stream",
          "text": [
            "[I 2020-07-08 14:01:45,664] Finished trial#510 with value: 3.3576150631231245 with parameters: {'combos': 1, 'ada_Scaler': 'log', 'ada_ne': 103, 'ada_lr': 0.6303821453185976, 'et_Scaler': 'stand', 'et_max_depth': 8, 'et_ne': 607, 'xgb_Scaler': 'log', 'booster': 'gbtree', 'lambda': 0.06973025778055748, 'alpha': 0.004778032835738105, 'max_depth': 3, 'eta': 0.6150385805253155, 'gamma': 3.063050718898725e-08, 'grow_policy': 'depthwise'}. Best is trial#468 with value: 3.1383768416796634.\n"
          ],
          "name": "stderr"
        },
        {
          "output_type": "stream",
          "text": [
            "[0]\tvalidation-rmse:20.126\n",
            "[1]\tvalidation-rmse:16.9932\n",
            "[2]\tvalidation-rmse:14.3224\n",
            "[3]\tvalidation-rmse:12.1045\n",
            "[4]\tvalidation-rmse:10.2533\n",
            "[5]\tvalidation-rmse:8.72299\n",
            "[6]\tvalidation-rmse:7.51189\n",
            "[7]\tvalidation-rmse:6.53814\n",
            "[8]\tvalidation-rmse:5.75879\n",
            "[9]\tvalidation-rmse:5.16755\n"
          ],
          "name": "stdout"
        },
        {
          "output_type": "stream",
          "text": [
            "[I 2020-07-08 14:01:47,002] Finished trial#511 with value: 3.367117016280735 with parameters: {'combos': 1, 'ada_Scaler': 'log', 'ada_ne': 70, 'ada_lr': 0.5968785787553297, 'et_Scaler': 'stand', 'et_max_depth': 11, 'et_ne': 648, 'xgb_Scaler': 'log', 'booster': 'gbtree', 'lambda': 0.03344767968426781, 'alpha': 0.0018601561550327928, 'max_depth': 4, 'eta': 0.16069260122458848, 'gamma': 5.5593358650195555e-08, 'grow_policy': 'depthwise'}. Best is trial#468 with value: 3.1383768416796634.\n"
          ],
          "name": "stderr"
        },
        {
          "output_type": "stream",
          "text": [
            "[0]\tvalidation-rmse:15.8295\n",
            "[1]\tvalidation-rmse:10.6324\n",
            "[2]\tvalidation-rmse:7.57717\n",
            "[3]\tvalidation-rmse:5.68043\n",
            "[4]\tvalidation-rmse:4.61897\n",
            "[5]\tvalidation-rmse:4.02646\n",
            "[6]\tvalidation-rmse:3.80749\n",
            "[7]\tvalidation-rmse:3.62464\n",
            "[8]\tvalidation-rmse:3.61716\n",
            "[9]\tvalidation-rmse:3.59186\n"
          ],
          "name": "stdout"
        },
        {
          "output_type": "stream",
          "text": [
            "[I 2020-07-08 14:01:48,418] Finished trial#512 with value: 3.2947708453907434 with parameters: {'combos': 1, 'ada_Scaler': 'log', 'ada_ne': 194, 'ada_lr': 0.5259218416292745, 'et_Scaler': 'stand', 'et_max_depth': 9, 'et_ne': 630, 'xgb_Scaler': 'log', 'booster': 'gbtree', 'lambda': 0.11911343659565404, 'alpha': 0.05141817751646753, 'max_depth': 3, 'eta': 0.3525563317079315, 'gamma': 1.4315133592401172e-08, 'grow_policy': 'depthwise'}. Best is trial#468 with value: 3.1383768416796634.\n"
          ],
          "name": "stderr"
        },
        {
          "output_type": "stream",
          "text": [
            "[0]\tvalidation-rmse:6.00315\n",
            "[1]\tvalidation-rmse:5.35221\n",
            "[2]\tvalidation-rmse:4.96419\n",
            "[3]\tvalidation-rmse:4.72744\n",
            "[4]\tvalidation-rmse:4.70766\n",
            "[5]\tvalidation-rmse:4.72146\n",
            "[6]\tvalidation-rmse:4.8453\n",
            "[7]\tvalidation-rmse:4.87662\n",
            "[8]\tvalidation-rmse:4.80267\n",
            "[9]\tvalidation-rmse:4.80983\n"
          ],
          "name": "stdout"
        },
        {
          "output_type": "stream",
          "text": [
            "[I 2020-07-08 14:01:49,774] Finished trial#513 with value: 3.471595506162535 with parameters: {'combos': 1, 'ada_Scaler': 'log', 'ada_ne': 129, 'ada_lr': 0.6327205458795399, 'et_Scaler': 'stand', 'et_max_depth': 10, 'et_ne': 626, 'xgb_Scaler': 'log', 'booster': 'gbtree', 'lambda': 0.03915184300851451, 'alpha': 0.002766626598360255, 'max_depth': 2, 'eta': 0.956848884392026, 'gamma': 2.723706333964947e-08, 'grow_policy': 'depthwise'}. Best is trial#468 with value: 3.1383768416796634.\n"
          ],
          "name": "stderr"
        },
        {
          "output_type": "stream",
          "text": [
            "[0]\tvalidation-rmse:12.6406\n",
            "[1]\tvalidation-rmse:7.08016\n",
            "[2]\tvalidation-rmse:4.88545\n",
            "[3]\tvalidation-rmse:4.08828\n",
            "[4]\tvalidation-rmse:3.84121\n",
            "[5]\tvalidation-rmse:3.7966\n",
            "[6]\tvalidation-rmse:3.71187\n",
            "[7]\tvalidation-rmse:3.69816\n",
            "[8]\tvalidation-rmse:3.71032\n",
            "[9]\tvalidation-rmse:3.62034\n"
          ],
          "name": "stdout"
        },
        {
          "output_type": "stream",
          "text": [
            "[I 2020-07-08 14:01:51,129] Finished trial#514 with value: 3.238586097417768 with parameters: {'combos': 1, 'ada_Scaler': 'log', 'ada_ne': 175, 'ada_lr': 0.5554913525345869, 'et_Scaler': 'stand', 'et_max_depth': 8, 'et_ne': 667, 'xgb_Scaler': 'log', 'booster': 'gbtree', 'lambda': 0.07577070640830284, 'alpha': 0.02184784717743869, 'max_depth': 3, 'eta': 0.49271358884524336, 'gamma': 8.263670588174908e-08, 'grow_policy': 'depthwise'}. Best is trial#468 with value: 3.1383768416796634.\n"
          ],
          "name": "stderr"
        },
        {
          "output_type": "stream",
          "text": [
            "[0]\tvalidation-rmse:7.90409\n",
            "[1]\tvalidation-rmse:4.51186\n",
            "[2]\tvalidation-rmse:3.95429\n",
            "[3]\tvalidation-rmse:3.95886\n",
            "[4]\tvalidation-rmse:3.9792\n",
            "[5]\tvalidation-rmse:3.96083\n",
            "[6]\tvalidation-rmse:3.97436\n",
            "[7]\tvalidation-rmse:3.89516\n",
            "[8]\tvalidation-rmse:3.95048\n",
            "[9]\tvalidation-rmse:3.99613\n"
          ],
          "name": "stdout"
        },
        {
          "output_type": "stream",
          "text": [
            "[I 2020-07-08 14:01:52,354] Finished trial#515 with value: 3.2231328333706224 with parameters: {'combos': 1, 'ada_Scaler': 'log', 'ada_ne': 106, 'ada_lr': 0.6785536418151388, 'et_Scaler': 'stand', 'et_max_depth': 9, 'et_ne': 603, 'xgb_Scaler': 'log', 'booster': 'gbtree', 'lambda': 0.050937141770884764, 'alpha': 0.014197780953188452, 'max_depth': 3, 'eta': 0.7246559567844559, 'gamma': 3.926278881320271e-08, 'grow_policy': 'depthwise'}. Best is trial#468 with value: 3.1383768416796634.\n",
            "[I 2020-07-08 14:01:53,471] Setting status of trial#516 as TrialState.PRUNED. Trial was pruned at iteration 11.\n"
          ],
          "name": "stderr"
        },
        {
          "output_type": "stream",
          "text": [
            "[0]\tvalidation-rmse:7.26069\n",
            "[1]\tvalidation-rmse:5.24083\n",
            "[2]\tvalidation-rmse:4.57776\n",
            "[3]\tvalidation-rmse:4.4205\n",
            "[4]\tvalidation-rmse:4.35518\n",
            "[5]\tvalidation-rmse:4.3863\n",
            "[6]\tvalidation-rmse:4.41227\n",
            "[7]\tvalidation-rmse:4.40813\n",
            "[8]\tvalidation-rmse:4.43975\n",
            "[9]\tvalidation-rmse:4.41841\n"
          ],
          "name": "stdout"
        },
        {
          "output_type": "stream",
          "text": [
            "[I 2020-07-08 14:01:54,831] Finished trial#517 with value: 3.3257774836930145 with parameters: {'combos': 1, 'ada_Scaler': 'log', 'ada_ne': 118, 'ada_lr': 0.6080679634576477, 'et_Scaler': 'stand', 'et_max_depth': 9, 'et_ne': 606, 'xgb_Scaler': 'log', 'booster': 'gbtree', 'lambda': 0.011989499010856986, 'alpha': 0.0162294106576558, 'max_depth': 3, 'eta': 0.7875280144559295, 'gamma': 4.3942834384202444e-08, 'grow_policy': 'depthwise'}. Best is trial#468 with value: 3.1383768416796634.\n"
          ],
          "name": "stderr"
        },
        {
          "output_type": "stream",
          "text": [
            "[0]\tvalidation-rmse:17.9349\n",
            "[1]\tvalidation-rmse:13.5715\n",
            "[2]\tvalidation-rmse:10.3863\n",
            "[3]\tvalidation-rmse:8.16123\n",
            "[4]\tvalidation-rmse:6.53816\n",
            "[5]\tvalidation-rmse:5.49411\n",
            "[6]\tvalidation-rmse:4.74969\n",
            "[7]\tvalidation-rmse:4.32614\n",
            "[8]\tvalidation-rmse:4.02449\n",
            "[9]\tvalidation-rmse:3.81915\n"
          ],
          "name": "stdout"
        },
        {
          "output_type": "stream",
          "text": [
            "[I 2020-07-08 14:01:55,970] Finished trial#518 with value: 3.3297809000481786 with parameters: {'combos': 1, 'ada_Scaler': 'log', 'ada_ne': 54, 'ada_lr': 0.6716174459859776, 'et_Scaler': 'stand', 'et_max_depth': 8, 'et_ne': 650, 'xgb_Scaler': 'log', 'booster': 'gbtree', 'lambda': 0.04237252557007593, 'alpha': 0.007864829853191289, 'max_depth': 3, 'eta': 0.25809813767566275, 'gamma': 1.082350289461014e-08, 'grow_policy': 'depthwise'}. Best is trial#468 with value: 3.1383768416796634.\n"
          ],
          "name": "stderr"
        },
        {
          "output_type": "stream",
          "text": [
            "[0]\tvalidation-rmse:15.5271\n",
            "[1]\tvalidation-rmse:10.3279\n",
            "[2]\tvalidation-rmse:7.19054\n",
            "[3]\tvalidation-rmse:5.38123\n",
            "[4]\tvalidation-rmse:4.34236\n",
            "[5]\tvalidation-rmse:3.91969\n",
            "[6]\tvalidation-rmse:3.77142\n",
            "[7]\tvalidation-rmse:3.69492\n",
            "[8]\tvalidation-rmse:3.61838\n",
            "[9]\tvalidation-rmse:3.61634\n"
          ],
          "name": "stdout"
        },
        {
          "output_type": "stream",
          "text": [
            "[I 2020-07-08 14:01:57,303] Finished trial#519 with value: 3.227881962439108 with parameters: {'combos': 1, 'ada_Scaler': 'log', 'ada_ne': 86, 'ada_lr': 0.6402468898789776, 'et_Scaler': 'stand', 'et_max_depth': 11, 'et_ne': 617, 'xgb_Scaler': 'log', 'booster': 'gbtree', 'lambda': 0.028072085166420294, 'alpha': 0.02416026770141118, 'max_depth': 3, 'eta': 0.3638447512263475, 'gamma': 1.1958430475573906e-07, 'grow_policy': 'depthwise'}. Best is trial#468 with value: 3.1383768416796634.\n"
          ],
          "name": "stderr"
        },
        {
          "output_type": "stream",
          "text": [
            "[0]\tvalidation-rmse:16.0208\n",
            "[1]\tvalidation-rmse:10.8804\n",
            "[2]\tvalidation-rmse:8.05256\n",
            "[3]\tvalidation-rmse:6.18721\n",
            "[4]\tvalidation-rmse:4.91089\n",
            "[5]\tvalidation-rmse:4.41558\n",
            "[6]\tvalidation-rmse:4.22122\n",
            "[7]\tvalidation-rmse:4.07692\n",
            "[8]\tvalidation-rmse:4.07808\n",
            "[9]\tvalidation-rmse:3.99341\n"
          ],
          "name": "stdout"
        },
        {
          "output_type": "stream",
          "text": [
            "[I 2020-07-08 14:01:58,610] Finished trial#520 with value: 3.4356030060272698 with parameters: {'combos': 1, 'ada_Scaler': 'log', 'ada_ne': 101, 'ada_lr': 0.5724229464870163, 'et_Scaler': 'stand', 'et_max_depth': 11, 'et_ne': 591, 'xgb_Scaler': 'log', 'booster': 'gbtree', 'lambda': 0.02383568068016833, 'alpha': 0.028582138176687942, 'max_depth': 2, 'eta': 0.35968855039688424, 'gamma': 6.429750394531959e-08, 'grow_policy': 'depthwise'}. Best is trial#468 with value: 3.1383768416796634.\n"
          ],
          "name": "stderr"
        },
        {
          "output_type": "stream",
          "text": [
            "[0]\tvalidation-rmse:8.06243\n",
            "[1]\tvalidation-rmse:5.15897\n",
            "[2]\tvalidation-rmse:4.40806\n",
            "[3]\tvalidation-rmse:4.29867\n",
            "[4]\tvalidation-rmse:4.23625\n",
            "[5]\tvalidation-rmse:4.21849\n",
            "[6]\tvalidation-rmse:4.21197\n",
            "[7]\tvalidation-rmse:4.05963\n",
            "[8]\tvalidation-rmse:4.07001\n",
            "[9]\tvalidation-rmse:4.10297\n"
          ],
          "name": "stdout"
        },
        {
          "output_type": "stream",
          "text": [
            "[I 2020-07-08 14:02:00,019] Finished trial#521 with value: 3.166046097146596 with parameters: {'combos': 1, 'ada_Scaler': 'log', 'ada_ne': 126, 'ada_lr': 0.6293312471105621, 'et_Scaler': 'stand', 'et_max_depth': 12, 'et_ne': 612, 'xgb_Scaler': 'log', 'booster': 'gbtree', 'lambda': 0.017253893525838067, 'alpha': 0.03407786129773306, 'max_depth': 3, 'eta': 0.7320187410057183, 'gamma': 1.0869969546907997e-07, 'grow_policy': 'depthwise'}. Best is trial#468 with value: 3.1383768416796634.\n"
          ],
          "name": "stderr"
        },
        {
          "output_type": "stream",
          "text": [
            "[0]\tvalidation-rmse:6.19736\n",
            "[1]\tvalidation-rmse:5.24226\n",
            "[2]\tvalidation-rmse:5.17317\n",
            "[3]\tvalidation-rmse:5.35528\n",
            "[4]\tvalidation-rmse:5.45162\n",
            "[5]\tvalidation-rmse:5.4065\n",
            "[6]\tvalidation-rmse:5.2956\n",
            "[7]\tvalidation-rmse:5.34978\n",
            "[8]\tvalidation-rmse:5.26386\n",
            "[9]\tvalidation-rmse:5.31582\n"
          ],
          "name": "stdout"
        },
        {
          "output_type": "stream",
          "text": [
            "[I 2020-07-08 14:02:01,434] Finished trial#522 with value: 3.4574743287128205 with parameters: {'combos': 1, 'ada_Scaler': 'log', 'ada_ne': 131, 'ada_lr': 0.5820502213041276, 'et_Scaler': 'stand', 'et_max_depth': 12, 'et_ne': 601, 'xgb_Scaler': 'log', 'booster': 'gbtree', 'lambda': 0.0076815257576916115, 'alpha': 0.04183261062188427, 'max_depth': 3, 'eta': 0.9669930193812907, 'gamma': 4.4262540398230644e-08, 'grow_policy': 'depthwise'}. Best is trial#468 with value: 3.1383768416796634.\n"
          ],
          "name": "stderr"
        },
        {
          "output_type": "stream",
          "text": [
            "[0]\tvalidation-rmse:7.99941\n",
            "[1]\tvalidation-rmse:5.15567\n",
            "[2]\tvalidation-rmse:4.41562\n",
            "[3]\tvalidation-rmse:4.30804\n",
            "[4]\tvalidation-rmse:4.24396\n",
            "[5]\tvalidation-rmse:4.22682\n",
            "[6]\tvalidation-rmse:4.22078\n",
            "[7]\tvalidation-rmse:4.06405\n",
            "[8]\tvalidation-rmse:4.07324\n",
            "[9]\tvalidation-rmse:4.16977\n"
          ],
          "name": "stdout"
        },
        {
          "output_type": "stream",
          "text": [
            "[I 2020-07-08 14:02:02,944] Finished trial#523 with value: 3.1782557545255004 with parameters: {'combos': 1, 'ada_Scaler': 'log', 'ada_ne': 204, 'ada_lr': 0.6187808381641231, 'et_Scaler': 'stand', 'et_max_depth': 10, 'et_ne': 652, 'xgb_Scaler': 'log', 'booster': 'gbtree', 'lambda': 0.01981915534581446, 'alpha': 0.004334046813762768, 'max_depth': 3, 'eta': 0.7359244198791117, 'gamma': 1.944434845351225e-08, 'grow_policy': 'depthwise'}. Best is trial#468 with value: 3.1383768416796634.\n"
          ],
          "name": "stderr"
        },
        {
          "output_type": "stream",
          "text": [
            "[0]\tvalidation-rmse:7.73658\n",
            "[1]\tvalidation-rmse:5.18483\n",
            "[2]\tvalidation-rmse:4.49411\n",
            "[3]\tvalidation-rmse:4.46066\n",
            "[4]\tvalidation-rmse:4.44616\n",
            "[5]\tvalidation-rmse:4.48337\n",
            "[6]\tvalidation-rmse:4.42753\n",
            "[7]\tvalidation-rmse:4.46676\n",
            "[8]\tvalidation-rmse:4.30835\n",
            "[9]\tvalidation-rmse:4.36145\n"
          ],
          "name": "stdout"
        },
        {
          "output_type": "stream",
          "text": [
            "[I 2020-07-08 14:02:04,502] Finished trial#524 with value: 3.293734139445556 with parameters: {'combos': 1, 'ada_Scaler': 'log', 'ada_ne': 205, 'ada_lr': 0.5116758507861903, 'et_Scaler': 'stand', 'et_max_depth': 10, 'et_ne': 677, 'xgb_Scaler': 'log', 'booster': 'gbtree', 'lambda': 0.013945631679165479, 'alpha': 0.004378863079741992, 'max_depth': 3, 'eta': 0.7533446722559025, 'gamma': 1.966916965356803e-08, 'grow_policy': 'depthwise'}. Best is trial#468 with value: 3.1383768416796634.\n",
            "[I 2020-07-08 14:02:05,876] Setting status of trial#525 as TrialState.PRUNED. Trial was pruned at iteration 17.\n"
          ],
          "name": "stderr"
        },
        {
          "output_type": "stream",
          "text": [
            "[0]\tvalidation-rmse:8.48465\n",
            "[1]\tvalidation-rmse:4.85854\n",
            "[2]\tvalidation-rmse:4.20146\n",
            "[3]\tvalidation-rmse:4.24607\n",
            "[4]\tvalidation-rmse:4.32495\n",
            "[5]\tvalidation-rmse:4.21892\n",
            "[6]\tvalidation-rmse:4.21406\n",
            "[7]\tvalidation-rmse:4.20358\n",
            "[8]\tvalidation-rmse:4.16985\n",
            "[9]\tvalidation-rmse:4.16364\n"
          ],
          "name": "stdout"
        },
        {
          "output_type": "stream",
          "text": [
            "[I 2020-07-08 14:02:07,437] Finished trial#526 with value: 3.26562685065928 with parameters: {'combos': 1, 'ada_Scaler': 'log', 'ada_ne': 157, 'ada_lr': 0.5459557162879103, 'et_Scaler': 'stand', 'et_max_depth': 10, 'et_ne': 648, 'xgb_Scaler': 'log', 'booster': 'gbtree', 'lambda': 0.004796335271905114, 'alpha': 0.0029357059266672545, 'max_depth': 4, 'eta': 0.6822989256332759, 'gamma': 1.5181407569130546e-08, 'grow_policy': 'depthwise'}. Best is trial#468 with value: 3.1383768416796634.\n"
          ],
          "name": "stderr"
        },
        {
          "output_type": "stream",
          "text": [
            "[0]\tvalidation-rmse:19.0907\n",
            "[1]\tvalidation-rmse:15.2253\n",
            "[2]\tvalidation-rmse:12.2552\n",
            "[3]\tvalidation-rmse:10.0066\n",
            "[4]\tvalidation-rmse:8.2364\n",
            "[5]\tvalidation-rmse:6.79014\n",
            "[6]\tvalidation-rmse:5.82616\n",
            "[7]\tvalidation-rmse:5.0755\n",
            "[8]\tvalidation-rmse:4.58166\n",
            "[9]\tvalidation-rmse:4.24882\n"
          ],
          "name": "stdout"
        },
        {
          "output_type": "stream",
          "text": [
            "[I 2020-07-08 14:02:08,810] Finished trial#527 with value: 3.3516403217657595 with parameters: {'combos': 1, 'ada_Scaler': 'log', 'ada_ne': 115, 'ada_lr': 0.6440580906615323, 'et_Scaler': 'stand', 'et_max_depth': 10, 'et_ne': 670, 'xgb_Scaler': 'log', 'booster': 'gbtree', 'lambda': 0.016885914037920176, 'alpha': 0.0071470338177952565, 'max_depth': 3, 'eta': 0.208101947625499, 'gamma': 2.0449710066799485e-08, 'grow_policy': 'depthwise'}. Best is trial#468 with value: 3.1383768416796634.\n"
          ],
          "name": "stderr"
        },
        {
          "output_type": "stream",
          "text": [
            "[0]\tvalidation-rmse:6.08487\n",
            "[1]\tvalidation-rmse:4.79531\n",
            "[2]\tvalidation-rmse:4.85811\n",
            "[3]\tvalidation-rmse:4.77425\n",
            "[4]\tvalidation-rmse:4.58227\n",
            "[5]\tvalidation-rmse:4.55598\n",
            "[6]\tvalidation-rmse:5.1219\n",
            "[7]\tvalidation-rmse:5.14973\n",
            "[8]\tvalidation-rmse:5.14067\n",
            "[9]\tvalidation-rmse:5.09936\n"
          ],
          "name": "stdout"
        },
        {
          "output_type": "stream",
          "text": [
            "[I 2020-07-08 14:02:10,287] Finished trial#528 with value: 3.459961875258098 with parameters: {'combos': 1, 'ada_Scaler': 'log', 'ada_ne': 179, 'ada_lr': 0.6018464530074714, 'et_Scaler': 'stand', 'et_max_depth': 11, 'et_ne': 612, 'xgb_Scaler': 'log', 'booster': 'gbtree', 'lambda': 0.03642595159708223, 'alpha': 0.0007384402205651723, 'max_depth': 3, 'eta': 0.9390779497321399, 'gamma': 1.1364531810679159e-08, 'grow_policy': 'depthwise'}. Best is trial#468 with value: 3.1383768416796634.\n"
          ],
          "name": "stderr"
        },
        {
          "output_type": "stream",
          "text": [
            "[0]\tvalidation-rmse:11.9572\n",
            "[1]\tvalidation-rmse:6.62622\n",
            "[2]\tvalidation-rmse:4.80946\n",
            "[3]\tvalidation-rmse:4.25486\n",
            "[4]\tvalidation-rmse:4.20268\n",
            "[5]\tvalidation-rmse:4.23894\n",
            "[6]\tvalidation-rmse:4.23982\n",
            "[7]\tvalidation-rmse:4.28747\n",
            "[8]\tvalidation-rmse:4.29011\n",
            "[9]\tvalidation-rmse:4.30366\n"
          ],
          "name": "stdout"
        },
        {
          "output_type": "stream",
          "text": [
            "[I 2020-07-08 14:02:11,726] Finished trial#529 with value: 3.325333071665576 with parameters: {'combos': 1, 'ada_Scaler': 'log', 'ada_ne': 205, 'ada_lr': 0.6405910114644066, 'et_Scaler': 'stand', 'et_max_depth': 9, 'et_ne': 640, 'xgb_Scaler': 'log', 'booster': 'gbtree', 'lambda': 0.020004989751674435, 'alpha': 0.018010874975626083, 'max_depth': 3, 'eta': 0.5267869989772656, 'gamma': 7.226296991090811e-08, 'grow_policy': 'depthwise'}. Best is trial#468 with value: 3.1383768416796634.\n"
          ],
          "name": "stderr"
        },
        {
          "output_type": "stream",
          "text": [
            "[0]\tvalidation-rmse:17.5193\n",
            "[1]\tvalidation-rmse:12.9717\n",
            "[2]\tvalidation-rmse:9.95107\n",
            "[3]\tvalidation-rmse:7.76437\n",
            "[4]\tvalidation-rmse:6.15701\n",
            "[5]\tvalidation-rmse:5.1531\n",
            "[6]\tvalidation-rmse:4.56948\n",
            "[7]\tvalidation-rmse:4.08016\n",
            "[8]\tvalidation-rmse:3.96841\n",
            "[9]\tvalidation-rmse:3.80208\n"
          ],
          "name": "stdout"
        },
        {
          "output_type": "stream",
          "text": [
            "[I 2020-07-08 14:02:13,004] Finished trial#530 with value: 3.221529285925217 with parameters: {'combos': 1, 'ada_Scaler': 'log', 'ada_ne': 130, 'ada_lr': 0.6783755996607882, 'et_Scaler': 'stand', 'et_max_depth': 10, 'et_ne': 586, 'xgb_Scaler': 'log', 'booster': 'gbtree', 'lambda': 0.009473358758014718, 'alpha': 0.010318644879751595, 'max_depth': 2, 'eta': 0.2906310118505315, 'gamma': 3.889206610153576e-08, 'grow_policy': 'depthwise'}. Best is trial#468 with value: 3.1383768416796634.\n"
          ],
          "name": "stderr"
        },
        {
          "output_type": "stream",
          "text": [
            "[0]\tvalidation-rmse:17.8355\n",
            "[1]\tvalidation-rmse:13.413\n",
            "[2]\tvalidation-rmse:10.4043\n",
            "[3]\tvalidation-rmse:8.17045\n",
            "[4]\tvalidation-rmse:6.85307\n",
            "[5]\tvalidation-rmse:5.63687\n",
            "[6]\tvalidation-rmse:4.88894\n",
            "[7]\tvalidation-rmse:4.39352\n",
            "[8]\tvalidation-rmse:4.24245\n",
            "[9]\tvalidation-rmse:3.99176\n"
          ],
          "name": "stdout"
        },
        {
          "output_type": "stream",
          "text": [
            "[I 2020-07-08 14:02:14,368] Finished trial#531 with value: 3.295912418865193 with parameters: {'combos': 1, 'ada_Scaler': 'log', 'ada_ne': 159, 'ada_lr': 0.6891156712623142, 'et_Scaler': 'stand', 'et_max_depth': 10, 'et_ne': 589, 'xgb_Scaler': 'log', 'booster': 'gbtree', 'lambda': 0.010233590817535144, 'alpha': 0.009025956958307532, 'max_depth': 2, 'eta': 0.27618499354633763, 'gamma': 3.987798235202081e-08, 'grow_policy': 'depthwise'}. Best is trial#468 with value: 3.1383768416796634.\n"
          ],
          "name": "stderr"
        },
        {
          "output_type": "stream",
          "text": [
            "[0]\tvalidation-rmse:9.77147\n",
            "[1]\tvalidation-rmse:5.53457\n",
            "[2]\tvalidation-rmse:4.70599\n",
            "[3]\tvalidation-rmse:4.32893\n",
            "[4]\tvalidation-rmse:4.34772\n",
            "[5]\tvalidation-rmse:4.17441\n",
            "[6]\tvalidation-rmse:4.17962\n",
            "[7]\tvalidation-rmse:4.19418\n",
            "[8]\tvalidation-rmse:4.31346\n",
            "[9]\tvalidation-rmse:4.16998\n"
          ],
          "name": "stdout"
        },
        {
          "output_type": "stream",
          "text": [
            "[I 2020-07-08 14:02:15,770] Finished trial#532 with value: 3.357767149072888 with parameters: {'combos': 1, 'ada_Scaler': 'log', 'ada_ne': 184, 'ada_lr': 0.6037646592206933, 'et_Scaler': 'stand', 'et_max_depth': 10, 'et_ne': 589, 'xgb_Scaler': 'log', 'booster': 'gbtree', 'lambda': 0.008408034499881754, 'alpha': 0.07246580770544814, 'max_depth': 2, 'eta': 0.6658355389570813, 'gamma': 5.2665506094673823e-08, 'grow_policy': 'depthwise'}. Best is trial#468 with value: 3.1383768416796634.\n"
          ],
          "name": "stderr"
        },
        {
          "output_type": "stream",
          "text": [
            "[0]\tvalidation-rmse:6.04474\n",
            "[1]\tvalidation-rmse:5.32878\n",
            "[2]\tvalidation-rmse:4.94503\n",
            "[3]\tvalidation-rmse:4.72046\n",
            "[4]\tvalidation-rmse:4.70077\n",
            "[5]\tvalidation-rmse:4.71341\n",
            "[6]\tvalidation-rmse:4.83983\n",
            "[7]\tvalidation-rmse:4.87037\n",
            "[8]\tvalidation-rmse:4.79565\n",
            "[9]\tvalidation-rmse:4.80335\n"
          ],
          "name": "stdout"
        },
        {
          "output_type": "stream",
          "text": [
            "[I 2020-07-08 14:02:17,128] Finished trial#533 with value: 3.5011138829510644 with parameters: {'combos': 1, 'ada_Scaler': 'log', 'ada_ne': 110, 'ada_lr': 0.6795222073468246, 'et_Scaler': 'stand', 'et_max_depth': 11, 'et_ne': 616, 'xgb_Scaler': 'log', 'booster': 'gbtree', 'lambda': 0.028567934351443145, 'alpha': 0.034509803390626384, 'max_depth': 2, 'eta': 0.9473742653270217, 'gamma': 2.485613525588801e-08, 'grow_policy': 'depthwise'}. Best is trial#468 with value: 3.1383768416796634.\n"
          ],
          "name": "stderr"
        },
        {
          "output_type": "stream",
          "text": [
            "[0]\tvalidation-rmse:21.08\n",
            "[1]\tvalidation-rmse:18.5602\n",
            "[2]\tvalidation-rmse:16.3383\n",
            "[3]\tvalidation-rmse:14.4368\n",
            "[4]\tvalidation-rmse:12.7918\n",
            "[5]\tvalidation-rmse:11.3391\n",
            "[6]\tvalidation-rmse:10.0468\n",
            "[7]\tvalidation-rmse:8.9525\n",
            "[8]\tvalidation-rmse:8.03428\n",
            "[9]\tvalidation-rmse:7.24769\n"
          ],
          "name": "stdout"
        },
        {
          "output_type": "stream",
          "text": [
            "[I 2020-07-08 14:02:18,514] Finished trial#534 with value: 3.8314625543396796 with parameters: {'combos': 1, 'ada_Scaler': 'log', 'ada_ne': 147, 'ada_lr': 0.5658368903856886, 'et_Scaler': 'stand', 'et_max_depth': 10, 'et_ne': 602, 'xgb_Scaler': 'log', 'booster': 'gbtree', 'lambda': 0.014394997824541525, 'alpha': 0.011139126540589623, 'max_depth': 3, 'eta': 0.12289744019064093, 'gamma': 3.536630679530957e-08, 'grow_policy': 'depthwise'}. Best is trial#468 with value: 3.1383768416796634.\n"
          ],
          "name": "stderr"
        },
        {
          "output_type": "stream",
          "text": [
            "[0]\tvalidation-rmse:16.6546\n",
            "[1]\tvalidation-rmse:11.8259\n",
            "[2]\tvalidation-rmse:8.52793\n",
            "[3]\tvalidation-rmse:6.45703\n",
            "[4]\tvalidation-rmse:5.14678\n",
            "[5]\tvalidation-rmse:4.33876\n",
            "[6]\tvalidation-rmse:3.93407\n",
            "[7]\tvalidation-rmse:3.70484\n",
            "[8]\tvalidation-rmse:3.6201\n",
            "[9]\tvalidation-rmse:3.5947\n"
          ],
          "name": "stdout"
        },
        {
          "output_type": "stream",
          "text": [
            "[I 2020-07-08 14:02:19,863] Finished trial#535 with value: 3.300914624275927 with parameters: {'combos': 1, 'ada_Scaler': 'log', 'ada_ne': 165, 'ada_lr': 0.6769500036046969, 'et_Scaler': 'stand', 'et_max_depth': 10, 'et_ne': 586, 'xgb_Scaler': 'log', 'booster': 'gbtree', 'lambda': 0.09479144632397025, 'alpha': 0.0174973752013409, 'max_depth': 3, 'eta': 0.31465843656685544, 'gamma': 9.887990628195718e-08, 'grow_policy': 'depthwise'}. Best is trial#468 with value: 3.1383768416796634.\n",
            "[I 2020-07-08 14:02:21,105] Setting status of trial#536 as TrialState.PRUNED. Trial was pruned at iteration 11.\n"
          ],
          "name": "stderr"
        },
        {
          "output_type": "stream",
          "text": [
            "[0]\tvalidation-rmse:12.3334\n",
            "[1]\tvalidation-rmse:7.16241\n",
            "[2]\tvalidation-rmse:4.95564\n",
            "[3]\tvalidation-rmse:4.53451\n",
            "[4]\tvalidation-rmse:3.98537\n",
            "[5]\tvalidation-rmse:3.87953\n",
            "[6]\tvalidation-rmse:3.93959\n",
            "[7]\tvalidation-rmse:3.83232\n",
            "[8]\tvalidation-rmse:3.80319\n",
            "[9]\tvalidation-rmse:3.70484\n"
          ],
          "name": "stdout"
        },
        {
          "output_type": "stream",
          "text": [
            "[I 2020-07-08 14:02:22,647] Finished trial#537 with value: 3.2763385723704137 with parameters: {'combos': 1, 'ada_Scaler': 'log', 'ada_ne': 199, 'ada_lr': 0.6269940806144165, 'et_Scaler': 'stand', 'et_max_depth': 9, 'et_ne': 635, 'xgb_Scaler': 'log', 'booster': 'gbtree', 'lambda': 0.169771492237464, 'alpha': 0.005257363955862529, 'max_depth': 2, 'eta': 0.5361092845965328, 'gamma': 2.2990711253147646e-08, 'grow_policy': 'depthwise'}. Best is trial#468 with value: 3.1383768416796634.\n"
          ],
          "name": "stderr"
        },
        {
          "output_type": "stream",
          "text": [
            "[0]\tvalidation-rmse:19.9961\n",
            "[1]\tvalidation-rmse:16.709\n",
            "[2]\tvalidation-rmse:13.9925\n",
            "[3]\tvalidation-rmse:11.707\n",
            "[4]\tvalidation-rmse:9.8752\n",
            "[5]\tvalidation-rmse:8.40449\n",
            "[6]\tvalidation-rmse:7.18553\n",
            "[7]\tvalidation-rmse:6.27939\n",
            "[8]\tvalidation-rmse:5.5244\n",
            "[9]\tvalidation-rmse:4.98062\n"
          ],
          "name": "stdout"
        },
        {
          "output_type": "stream",
          "text": [
            "[I 2020-07-08 14:02:23,936] Finished trial#538 with value: 3.4763395080473978 with parameters: {'combos': 1, 'ada_Scaler': 'log', 'ada_ne': 98, 'ada_lr': 0.5821300553895664, 'et_Scaler': 'stand', 'et_max_depth': 10, 'et_ne': 612, 'xgb_Scaler': 'log', 'booster': 'gbtree', 'lambda': 0.023170325639292087, 'alpha': 0.02442668626645815, 'max_depth': 4, 'eta': 0.1661485839275533, 'gamma': 1.6124989797069061e-07, 'grow_policy': 'depthwise'}. Best is trial#468 with value: 3.1383768416796634.\n"
          ],
          "name": "stderr"
        },
        {
          "output_type": "stream",
          "text": [
            "[0]\tvalidation-rmse:14.999\n",
            "[1]\tvalidation-rmse:9.67386\n",
            "[2]\tvalidation-rmse:6.65361\n",
            "[3]\tvalidation-rmse:5.1192\n",
            "[4]\tvalidation-rmse:4.3803\n",
            "[5]\tvalidation-rmse:4.15381\n",
            "[6]\tvalidation-rmse:4.05801\n",
            "[7]\tvalidation-rmse:4.01028\n",
            "[8]\tvalidation-rmse:3.99211\n",
            "[9]\tvalidation-rmse:3.97783\n"
          ],
          "name": "stdout"
        },
        {
          "output_type": "stream",
          "text": [
            "[I 2020-07-08 14:02:25,148] Finished trial#539 with value: 3.422094834596713 with parameters: {'combos': 1, 'ada_Scaler': 'log', 'ada_ne': 177, 'ada_lr': 0.6760907031115461, 'et_Scaler': 'stand', 'et_max_depth': 7, 'et_ne': 583, 'xgb_Scaler': 'log', 'booster': 'gbtree', 'lambda': 0.0420391043568957, 'alpha': 0.009116300118977579, 'max_depth': 3, 'eta': 0.3862100201146537, 'gamma': 5.748109722818392e-08, 'grow_policy': 'depthwise'}. Best is trial#468 with value: 3.1383768416796634.\n"
          ],
          "name": "stderr"
        },
        {
          "output_type": "stream",
          "text": [
            "[0]\tvalidation-rmse:6.21103\n",
            "[1]\tvalidation-rmse:5.25462\n",
            "[2]\tvalidation-rmse:5.18562\n",
            "[3]\tvalidation-rmse:5.36764\n",
            "[4]\tvalidation-rmse:5.46371\n",
            "[5]\tvalidation-rmse:5.41859\n",
            "[6]\tvalidation-rmse:5.30767\n",
            "[7]\tvalidation-rmse:5.3596\n",
            "[8]\tvalidation-rmse:5.2739\n",
            "[9]\tvalidation-rmse:5.32589\n"
          ],
          "name": "stdout"
        },
        {
          "output_type": "stream",
          "text": [
            "[I 2020-07-08 14:02:26,427] Finished trial#540 with value: 3.574727083437525 with parameters: {'combos': 1, 'ada_Scaler': 'log', 'ada_ne': 140, 'ada_lr': 0.6316652061864667, 'et_Scaler': 'stand', 'et_max_depth': 8, 'et_ne': 640, 'xgb_Scaler': 'log', 'booster': 'gbtree', 'lambda': 0.0037859622176158437, 'alpha': 0.04985291804789174, 'max_depth': 3, 'eta': 0.967014571145685, 'gamma': 1.007392691912684e-08, 'grow_policy': 'depthwise'}. Best is trial#468 with value: 3.1383768416796634.\n"
          ],
          "name": "stderr"
        },
        {
          "output_type": "stream",
          "text": [
            "[0]\tvalidation-rmse:9.00819\n",
            "[1]\tvalidation-rmse:4.81547\n",
            "[2]\tvalidation-rmse:3.97006\n",
            "[3]\tvalidation-rmse:3.79093\n",
            "[4]\tvalidation-rmse:3.87667\n",
            "[5]\tvalidation-rmse:3.89853\n",
            "[6]\tvalidation-rmse:3.86448\n",
            "[7]\tvalidation-rmse:3.94285\n",
            "[8]\tvalidation-rmse:3.96174\n",
            "[9]\tvalidation-rmse:3.88483\n"
          ],
          "name": "stdout"
        },
        {
          "output_type": "stream",
          "text": [
            "[I 2020-07-08 14:02:27,833] Finished trial#541 with value: 3.171452540741207 with parameters: {'combos': 1, 'ada_Scaler': 'log', 'ada_ne': 212, 'ada_lr': 0.6771425432256606, 'et_Scaler': 'stand', 'et_max_depth': 9, 'et_ne': 606, 'xgb_Scaler': 'log', 'booster': 'gbtree', 'lambda': 0.0836085412226282, 'alpha': 0.00616108152765793, 'max_depth': 3, 'eta': 0.6663735947027876, 'gamma': 3.366541287624452e-08, 'grow_policy': 'depthwise'}. Best is trial#468 with value: 3.1383768416796634.\n"
          ],
          "name": "stderr"
        },
        {
          "output_type": "stream",
          "text": [
            "[0]\tvalidation-rmse:9.31553\n",
            "[1]\tvalidation-rmse:4.92435\n",
            "[2]\tvalidation-rmse:4.05071\n",
            "[3]\tvalidation-rmse:4.08345\n",
            "[4]\tvalidation-rmse:3.95555\n",
            "[5]\tvalidation-rmse:3.94676\n",
            "[6]\tvalidation-rmse:4.02747\n",
            "[7]\tvalidation-rmse:4.01124\n",
            "[8]\tvalidation-rmse:3.99121\n",
            "[9]\tvalidation-rmse:3.91678\n"
          ],
          "name": "stdout"
        },
        {
          "output_type": "stream",
          "text": [
            "[I 2020-07-08 14:02:29,239] Finished trial#542 with value: 3.3477454851453237 with parameters: {'combos': 1, 'ada_Scaler': 'log', 'ada_ne': 158, 'ada_lr': 0.5569231601919397, 'et_Scaler': 'stand', 'et_max_depth': 9, 'et_ne': 664, 'xgb_Scaler': 'log', 'booster': 'gbtree', 'lambda': 0.31462792807360723, 'alpha': 0.0063153982684175, 'max_depth': 3, 'eta': 0.6747425462357941, 'gamma': 3.74618569235308e-08, 'grow_policy': 'depthwise'}. Best is trial#468 with value: 3.1383768416796634.\n"
          ],
          "name": "stderr"
        },
        {
          "output_type": "stream",
          "text": [
            "[0]\tvalidation-rmse:10.664\n",
            "[1]\tvalidation-rmse:5.56494\n",
            "[2]\tvalidation-rmse:3.92086\n",
            "[3]\tvalidation-rmse:3.72856\n",
            "[4]\tvalidation-rmse:3.74985\n",
            "[5]\tvalidation-rmse:3.75891\n",
            "[6]\tvalidation-rmse:3.69176\n",
            "[7]\tvalidation-rmse:3.68497\n",
            "[8]\tvalidation-rmse:3.67115\n",
            "[9]\tvalidation-rmse:3.67717\n"
          ],
          "name": "stdout"
        },
        {
          "output_type": "stream",
          "text": [
            "[I 2020-07-08 14:02:30,661] Finished trial#543 with value: 3.145284433040235 with parameters: {'combos': 1, 'ada_Scaler': 'log', 'ada_ne': 186, 'ada_lr': 0.6040879214073971, 'et_Scaler': 'stand', 'et_max_depth': 9, 'et_ne': 627, 'xgb_Scaler': 'log', 'booster': 'gbtree', 'lambda': 0.08431113239448611, 'alpha': 0.014884647662401444, 'max_depth': 3, 'eta': 0.5848866381914404, 'gamma': 1.9250894393704247e-08, 'grow_policy': 'depthwise'}. Best is trial#468 with value: 3.1383768416796634.\n",
            "[I 2020-07-08 14:02:31,840] Setting status of trial#544 as TrialState.PRUNED. Trial was pruned at iteration 11.\n"
          ],
          "name": "stderr"
        },
        {
          "output_type": "stream",
          "text": [
            "[0]\tvalidation-rmse:9.7989\n",
            "[1]\tvalidation-rmse:5.19691\n",
            "[2]\tvalidation-rmse:3.96702\n",
            "[3]\tvalidation-rmse:3.70456\n",
            "[4]\tvalidation-rmse:3.77479\n",
            "[5]\tvalidation-rmse:3.67237\n",
            "[6]\tvalidation-rmse:3.65863\n",
            "[7]\tvalidation-rmse:3.59072\n",
            "[8]\tvalidation-rmse:3.54028\n",
            "[9]\tvalidation-rmse:3.56874\n"
          ],
          "name": "stdout"
        },
        {
          "output_type": "stream",
          "text": [
            "[I 2020-07-08 14:02:33,290] Finished trial#545 with value: 3.174040488435028 with parameters: {'combos': 1, 'ada_Scaler': 'log', 'ada_ne': 212, 'ada_lr': 0.6883025001865638, 'et_Scaler': 'stand', 'et_max_depth': 8, 'et_ne': 602, 'xgb_Scaler': 'log', 'booster': 'gbtree', 'lambda': 0.12530194236117467, 'alpha': 0.004014936451857349, 'max_depth': 3, 'eta': 0.631491372138906, 'gamma': 7.755265277027485e-08, 'grow_policy': 'depthwise'}. Best is trial#468 with value: 3.1383768416796634.\n"
          ],
          "name": "stderr"
        },
        {
          "output_type": "stream",
          "text": [
            "[0]\tvalidation-rmse:5.43538\n",
            "[1]\tvalidation-rmse:4.94795\n",
            "[2]\tvalidation-rmse:5.21406\n",
            "[3]\tvalidation-rmse:4.97247\n",
            "[4]\tvalidation-rmse:4.77488\n",
            "[5]\tvalidation-rmse:4.68991\n",
            "[6]\tvalidation-rmse:4.67988\n",
            "[7]\tvalidation-rmse:4.76054\n",
            "[8]\tvalidation-rmse:4.71559\n",
            "[9]\tvalidation-rmse:4.75852\n"
          ],
          "name": "stdout"
        },
        {
          "output_type": "stream",
          "text": [
            "[I 2020-07-08 14:02:34,666] Finished trial#546 with value: 3.357063138585162 with parameters: {'combos': 1, 'ada_Scaler': 'log', 'ada_ne': 211, 'ada_lr': 0.5232394396234241, 'et_Scaler': 'stand', 'et_max_depth': 8, 'et_ne': 626, 'xgb_Scaler': 'log', 'booster': 'gbtree', 'lambda': 0.1222124136211809, 'alpha': 0.003914382150170839, 'max_depth': 3, 'eta': 0.9630549740033932, 'gamma': 8.02708805333987e-08, 'grow_policy': 'depthwise'}. Best is trial#468 with value: 3.1383768416796634.\n"
          ],
          "name": "stderr"
        },
        {
          "output_type": "stream",
          "text": [
            "[0]\tvalidation-rmse:12.3207\n",
            "[1]\tvalidation-rmse:7.15251\n",
            "[2]\tvalidation-rmse:4.95386\n",
            "[3]\tvalidation-rmse:4.52973\n",
            "[4]\tvalidation-rmse:3.98267\n",
            "[5]\tvalidation-rmse:3.87703\n",
            "[6]\tvalidation-rmse:3.93783\n",
            "[7]\tvalidation-rmse:3.83006\n",
            "[8]\tvalidation-rmse:3.80073\n",
            "[9]\tvalidation-rmse:3.70321\n"
          ],
          "name": "stdout"
        },
        {
          "output_type": "stream",
          "text": [
            "[I 2020-07-08 14:02:35,998] Finished trial#547 with value: 3.266805273083813 with parameters: {'combos': 1, 'ada_Scaler': 'log', 'ada_ne': 202, 'ada_lr': 0.6435828777076165, 'et_Scaler': 'stand', 'et_max_depth': 8, 'et_ne': 599, 'xgb_Scaler': 'log', 'booster': 'gbtree', 'lambda': 0.19680843429480765, 'alpha': 0.006134030057376803, 'max_depth': 2, 'eta': 0.5369680389654521, 'gamma': 2.6971313766127673e-08, 'grow_policy': 'depthwise'}. Best is trial#468 with value: 3.1383768416796634.\n"
          ],
          "name": "stderr"
        },
        {
          "output_type": "stream",
          "text": [
            "[0]\tvalidation-rmse:18.3086\n",
            "[1]\tvalidation-rmse:14.1149\n",
            "[2]\tvalidation-rmse:10.9823\n",
            "[3]\tvalidation-rmse:8.62467\n",
            "[4]\tvalidation-rmse:6.93014\n",
            "[5]\tvalidation-rmse:5.75759\n",
            "[6]\tvalidation-rmse:4.91263\n",
            "[7]\tvalidation-rmse:4.40922\n",
            "[8]\tvalidation-rmse:4.12481\n",
            "[9]\tvalidation-rmse:3.87595\n"
          ],
          "name": "stdout"
        },
        {
          "output_type": "stream",
          "text": [
            "[I 2020-07-08 14:02:37,274] Finished trial#548 with value: 3.353450202521278 with parameters: {'combos': 1, 'ada_Scaler': 'log', 'ada_ne': 181, 'ada_lr': 0.6950593584914344, 'et_Scaler': 'stand', 'et_max_depth': 7, 'et_ne': 626, 'xgb_Scaler': 'log', 'booster': 'gbtree', 'lambda': 0.08890781153738324, 'alpha': 0.0036315317349503514, 'max_depth': 3, 'eta': 0.2426872760343177, 'gamma': 5.557386656556866e-08, 'grow_policy': 'depthwise'}. Best is trial#468 with value: 3.1383768416796634.\n"
          ],
          "name": "stderr"
        },
        {
          "output_type": "stream",
          "text": [
            "[0]\tvalidation-rmse:12.6159\n",
            "[1]\tvalidation-rmse:7.05825\n",
            "[2]\tvalidation-rmse:4.87639\n",
            "[3]\tvalidation-rmse:4.08852\n",
            "[4]\tvalidation-rmse:3.84451\n",
            "[5]\tvalidation-rmse:3.80204\n",
            "[6]\tvalidation-rmse:3.71816\n",
            "[7]\tvalidation-rmse:3.70488\n",
            "[8]\tvalidation-rmse:3.71719\n",
            "[9]\tvalidation-rmse:3.62728\n"
          ],
          "name": "stdout"
        },
        {
          "output_type": "stream",
          "text": [
            "[I 2020-07-08 14:02:38,590] Finished trial#549 with value: 3.19423450322741 with parameters: {'combos': 1, 'ada_Scaler': 'log', 'ada_ne': 181, 'ada_lr': 0.5996056033960488, 'et_Scaler': 'stand', 'et_max_depth': 8, 'et_ne': 616, 'xgb_Scaler': 'log', 'booster': 'gbtree', 'lambda': 0.07003656659473528, 'alpha': 0.010409592942884769, 'max_depth': 3, 'eta': 0.4936847169818035, 'gamma': 1.0219396624954404e-07, 'grow_policy': 'depthwise'}. Best is trial#468 with value: 3.1383768416796634.\n"
          ],
          "name": "stderr"
        },
        {
          "output_type": "stream",
          "text": [
            "[0]\tvalidation-rmse:14.1204\n",
            "[1]\tvalidation-rmse:8.71148\n",
            "[2]\tvalidation-rmse:5.95623\n",
            "[3]\tvalidation-rmse:4.4853\n",
            "[4]\tvalidation-rmse:3.95214\n",
            "[5]\tvalidation-rmse:3.77928\n",
            "[6]\tvalidation-rmse:3.69769\n",
            "[7]\tvalidation-rmse:3.7045\n",
            "[8]\tvalidation-rmse:3.6261\n",
            "[9]\tvalidation-rmse:3.59789\n"
          ],
          "name": "stdout"
        },
        {
          "output_type": "stream",
          "text": [
            "[I 2020-07-08 14:02:40,059] Finished trial#550 with value: 3.3219814112942223 with parameters: {'combos': 1, 'ada_Scaler': 'log', 'ada_ne': 216, 'ada_lr': 0.5454032674419148, 'et_Scaler': 'stand', 'et_max_depth': 10, 'et_ne': 588, 'xgb_Scaler': 'log', 'booster': 'gbtree', 'lambda': 0.12473985918536797, 'alpha': 0.009995645841394306, 'max_depth': 3, 'eta': 0.42885266587081433, 'gamma': 1.206708852296537e-07, 'grow_policy': 'depthwise'}. Best is trial#468 with value: 3.1383768416796634.\n"
          ],
          "name": "stderr"
        },
        {
          "output_type": "stream",
          "text": [
            "[0]\tvalidation-rmse:9.437\n",
            "[1]\tvalidation-rmse:4.96367\n",
            "[2]\tvalidation-rmse:3.93749\n",
            "[3]\tvalidation-rmse:3.78542\n",
            "[4]\tvalidation-rmse:3.78983\n",
            "[5]\tvalidation-rmse:3.83738\n",
            "[6]\tvalidation-rmse:3.90814\n",
            "[7]\tvalidation-rmse:3.81144\n",
            "[8]\tvalidation-rmse:3.8487\n",
            "[9]\tvalidation-rmse:3.78627\n"
          ],
          "name": "stdout"
        },
        {
          "output_type": "stream",
          "text": [
            "[I 2020-07-08 14:02:41,429] Finished trial#551 with value: 3.195039351618279 with parameters: {'combos': 1, 'ada_Scaler': 'log', 'ada_ne': 186, 'ada_lr': 0.5892321432936056, 'et_Scaler': 'stand', 'et_max_depth': 10, 'et_ne': 577, 'xgb_Scaler': 'log', 'booster': 'gbtree', 'lambda': 0.0838152352264472, 'alpha': 0.011709876677478127, 'max_depth': 3, 'eta': 0.6446941777262243, 'gamma': 1.9067767080925814e-07, 'grow_policy': 'depthwise'}. Best is trial#468 with value: 3.1383768416796634.\n"
          ],
          "name": "stderr"
        },
        {
          "output_type": "stream",
          "text": [
            "[0]\tvalidation-rmse:4.77133\n",
            "[1]\tvalidation-rmse:5.08227\n",
            "[2]\tvalidation-rmse:4.98141\n",
            "[3]\tvalidation-rmse:4.98672\n",
            "[4]\tvalidation-rmse:4.9944\n",
            "[5]\tvalidation-rmse:5.03397\n",
            "[6]\tvalidation-rmse:4.92708\n",
            "[7]\tvalidation-rmse:4.90074\n",
            "[8]\tvalidation-rmse:4.83271\n",
            "[9]\tvalidation-rmse:4.85471\n"
          ],
          "name": "stdout"
        },
        {
          "output_type": "stream",
          "text": [
            "[I 2020-07-08 14:02:42,638] Finished trial#552 with value: 3.410200927989331 with parameters: {'combos': 1, 'ada_Scaler': 'log', 'ada_ne': 189, 'ada_lr': 0.538328963419166, 'et_Scaler': 'stand', 'et_max_depth': 6, 'et_ne': 613, 'xgb_Scaler': 'log', 'booster': 'gbtree', 'lambda': 0.08651117218256743, 'alpha': 0.015141307342651, 'max_depth': 4, 'eta': 0.9712471297832412, 'gamma': 2.1617066942617865e-07, 'grow_policy': 'depthwise'}. Best is trial#468 with value: 3.1383768416796634.\n"
          ],
          "name": "stderr"
        },
        {
          "output_type": "stream",
          "text": [
            "[0]\tvalidation-rmse:9.40359\n",
            "[1]\tvalidation-rmse:4.74556\n",
            "[2]\tvalidation-rmse:3.74374\n",
            "[3]\tvalidation-rmse:3.54641\n",
            "[4]\tvalidation-rmse:3.55682\n",
            "[5]\tvalidation-rmse:3.58839\n",
            "[6]\tvalidation-rmse:3.60673\n",
            "[7]\tvalidation-rmse:3.53248\n",
            "[8]\tvalidation-rmse:3.48366\n",
            "[9]\tvalidation-rmse:3.53841\n"
          ],
          "name": "stdout"
        },
        {
          "output_type": "stream",
          "text": [
            "[I 2020-07-08 14:02:44,212] Finished trial#553 with value: 3.230672065191628 with parameters: {'combos': 1, 'ada_Scaler': 'log', 'ada_ne': 210, 'ada_lr': 0.5834478499891365, 'et_Scaler': 'stand', 'et_max_depth': 11, 'et_ne': 642, 'xgb_Scaler': 'log', 'booster': 'gbtree', 'lambda': 0.14881410756244093, 'alpha': 0.007621005268408147, 'max_depth': 3, 'eta': 0.6599128149162816, 'gamma': 9.632108573680668e-08, 'grow_policy': 'depthwise'}. Best is trial#468 with value: 3.1383768416796634.\n"
          ],
          "name": "stderr"
        },
        {
          "output_type": "stream",
          "text": [
            "[0]\tvalidation-rmse:12.1674\n",
            "[1]\tvalidation-rmse:6.66602\n",
            "[2]\tvalidation-rmse:4.69656\n",
            "[3]\tvalidation-rmse:3.89093\n",
            "[4]\tvalidation-rmse:3.78981\n",
            "[5]\tvalidation-rmse:3.69926\n",
            "[6]\tvalidation-rmse:3.81721\n",
            "[7]\tvalidation-rmse:3.82072\n",
            "[8]\tvalidation-rmse:3.82957\n",
            "[9]\tvalidation-rmse:3.83787\n"
          ],
          "name": "stdout"
        },
        {
          "output_type": "stream",
          "text": [
            "[I 2020-07-08 14:02:45,567] Finished trial#554 with value: 3.202391609404611 with parameters: {'combos': 1, 'ada_Scaler': 'log', 'ada_ne': 182, 'ada_lr': 0.5779036607195532, 'et_Scaler': 'stand', 'et_max_depth': 9, 'et_ne': 605, 'xgb_Scaler': 'log', 'booster': 'gbtree', 'lambda': 0.07354328946047346, 'alpha': 0.014158283147478357, 'max_depth': 3, 'eta': 0.514308092327758, 'gamma': 1.5595613405225543e-07, 'grow_policy': 'depthwise'}. Best is trial#468 with value: 3.1383768416796634.\n",
            "[I 2020-07-08 14:02:46,867] Finished trial#555 with value: 3.398165878972171 with parameters: {'combos': 2, 'ada_Scaler': 'log', 'ada_ne': 171, 'ada_lr': 0.522284533911097, 'et_Scaler': 'stand', 'et_max_depth': 8, 'et_ne': 573, 'gbm_Scaler': 'stand', 'lambda_l1': 4.8273582142465514e-08, 'lambda_l2': 0.20122876850329416, 'num_leaves': 181, 'feature_fraction': 0.7226657503841876, 'bagging_fraction': 0.8954048150959028, 'bagging_freq': 6, 'min_child_samples': 17}. Best is trial#468 with value: 3.1383768416796634.\n"
          ],
          "name": "stderr"
        },
        {
          "output_type": "stream",
          "text": [
            "[0]\tvalidation-rmse:9.84483\n",
            "[1]\tvalidation-rmse:5.26496\n",
            "[2]\tvalidation-rmse:4.31339\n",
            "[3]\tvalidation-rmse:4.24578\n",
            "[4]\tvalidation-rmse:4.16097\n",
            "[5]\tvalidation-rmse:4.17835\n",
            "[6]\tvalidation-rmse:4.15281\n",
            "[7]\tvalidation-rmse:4.125\n",
            "[8]\tvalidation-rmse:4.12898\n",
            "[9]\tvalidation-rmse:4.12037\n"
          ],
          "name": "stdout"
        },
        {
          "output_type": "stream",
          "text": [
            "[I 2020-07-08 14:02:48,265] Finished trial#556 with value: 3.363490309270433 with parameters: {'combos': 1, 'ada_Scaler': 'log', 'ada_ne': 197, 'ada_lr': 0.572027650198022, 'et_Scaler': 'stand', 'et_max_depth': 10, 'et_ne': 567, 'xgb_Scaler': 'log', 'booster': 'gbtree', 'lambda': 0.25837390491899354, 'alpha': 0.004600228350197672, 'max_depth': 3, 'eta': 0.6470271330152805, 'gamma': 3.0842651117987715e-07, 'grow_policy': 'depthwise'}. Best is trial#468 with value: 3.1383768416796634.\n"
          ],
          "name": "stderr"
        },
        {
          "output_type": "stream",
          "text": [
            "[0]\tvalidation-rmse:5.32674\n",
            "[1]\tvalidation-rmse:4.73988\n",
            "[2]\tvalidation-rmse:4.77371\n",
            "[3]\tvalidation-rmse:4.79416\n",
            "[4]\tvalidation-rmse:4.73527\n",
            "[5]\tvalidation-rmse:4.55094\n",
            "[6]\tvalidation-rmse:4.64614\n",
            "[7]\tvalidation-rmse:4.54787\n",
            "[8]\tvalidation-rmse:4.5139\n",
            "[9]\tvalidation-rmse:4.43264\n"
          ],
          "name": "stdout"
        },
        {
          "output_type": "stream",
          "text": [
            "[I 2020-07-08 14:02:49,694] Finished trial#557 with value: 3.159171881856898 with parameters: {'combos': 1, 'ada_Scaler': 'log', 'ada_ne': 214, 'ada_lr': 0.4989684755503845, 'et_Scaler': 'stand', 'et_max_depth': 9, 'et_ne': 602, 'xgb_Scaler': 'log', 'booster': 'gbtree', 'lambda': 0.08925419794089955, 'alpha': 0.011845823343856655, 'max_depth': 3, 'eta': 0.9432422238929136, 'gamma': 1.3988434986276791e-07, 'grow_policy': 'depthwise'}. Best is trial#468 with value: 3.1383768416796634.\n"
          ],
          "name": "stderr"
        },
        {
          "output_type": "stream",
          "text": [
            "[0]\tvalidation-rmse:5.2875\n",
            "[1]\tvalidation-rmse:4.9372\n",
            "[2]\tvalidation-rmse:5.03784\n",
            "[3]\tvalidation-rmse:5.04045\n",
            "[4]\tvalidation-rmse:5.02647\n",
            "[5]\tvalidation-rmse:4.88155\n",
            "[6]\tvalidation-rmse:4.87938\n",
            "[7]\tvalidation-rmse:4.88065\n",
            "[8]\tvalidation-rmse:4.85567\n",
            "[9]\tvalidation-rmse:4.90952\n"
          ],
          "name": "stdout"
        },
        {
          "output_type": "stream",
          "text": [
            "[I 2020-07-08 14:02:51,116] Finished trial#558 with value: 3.501157963265994 with parameters: {'combos': 1, 'ada_Scaler': 'log', 'ada_ne': 209, 'ada_lr': 0.4788671670566673, 'et_Scaler': 'stand', 'et_max_depth': 9, 'et_ne': 595, 'xgb_Scaler': 'log', 'booster': 'gbtree', 'lambda': 0.09259477657283813, 'alpha': 0.011306032469148549, 'max_depth': 3, 'eta': 0.965597271553, 'gamma': 1.8243538004706936e-07, 'grow_policy': 'depthwise'}. Best is trial#468 with value: 3.1383768416796634.\n"
          ],
          "name": "stderr"
        },
        {
          "output_type": "stream",
          "text": [
            "[0]\tvalidation-rmse:5.33127\n",
            "[1]\tvalidation-rmse:5.03467\n",
            "[2]\tvalidation-rmse:5.13826\n",
            "[3]\tvalidation-rmse:5.15772\n",
            "[4]\tvalidation-rmse:5.03869\n",
            "[5]\tvalidation-rmse:4.94815\n",
            "[6]\tvalidation-rmse:4.9162\n",
            "[7]\tvalidation-rmse:4.99986\n",
            "[8]\tvalidation-rmse:4.93109\n",
            "[9]\tvalidation-rmse:4.736\n"
          ],
          "name": "stdout"
        },
        {
          "output_type": "stream",
          "text": [
            "[I 2020-07-08 14:02:52,480] Finished trial#559 with value: 3.4453133895803285 with parameters: {'combos': 1, 'ada_Scaler': 'log', 'ada_ne': 213, 'ada_lr': 0.49151105764692915, 'et_Scaler': 'stand', 'et_max_depth': 8, 'et_ne': 601, 'xgb_Scaler': 'log', 'booster': 'gbtree', 'lambda': 0.06919520545142427, 'alpha': 0.007506260305932597, 'max_depth': 3, 'eta': 0.9770758384210005, 'gamma': 1.3408852517146525e-07, 'grow_policy': 'depthwise'}. Best is trial#468 with value: 3.1383768416796634.\n"
          ],
          "name": "stderr"
        },
        {
          "output_type": "stream",
          "text": [
            "[0]\tvalidation-rmse:14.994\n",
            "[1]\tvalidation-rmse:9.5795\n",
            "[2]\tvalidation-rmse:6.44048\n",
            "[3]\tvalidation-rmse:4.72409\n",
            "[4]\tvalidation-rmse:3.93833\n",
            "[5]\tvalidation-rmse:3.47857\n",
            "[6]\tvalidation-rmse:3.2994\n",
            "[7]\tvalidation-rmse:3.17787\n",
            "[8]\tvalidation-rmse:3.15535\n",
            "[9]\tvalidation-rmse:3.10241\n"
          ],
          "name": "stdout"
        },
        {
          "output_type": "stream",
          "text": [
            "[I 2020-07-08 14:02:53,917] Finished trial#560 with value: 3.181730551478916 with parameters: {'combos': 1, 'ada_Scaler': 'log', 'ada_ne': 179, 'ada_lr': 0.5460098011481833, 'et_Scaler': 'stand', 'et_max_depth': 10, 'et_ne': 610, 'xgb_Scaler': 'log', 'booster': 'gbtree', 'lambda': 0.16900961063699751, 'alpha': 0.01600410725168226, 'max_depth': 3, 'eta': 0.39721857845928765, 'gamma': 1.1600250934961718e-07, 'grow_policy': 'depthwise'}. Best is trial#468 with value: 3.1383768416796634.\n"
          ],
          "name": "stderr"
        },
        {
          "output_type": "stream",
          "text": [
            "[0]\tvalidation-rmse:7.87779\n",
            "[1]\tvalidation-rmse:4.364\n",
            "[2]\tvalidation-rmse:4.09925\n",
            "[3]\tvalidation-rmse:4.00456\n",
            "[4]\tvalidation-rmse:4.05816\n",
            "[5]\tvalidation-rmse:4.04367\n",
            "[6]\tvalidation-rmse:3.92317\n",
            "[7]\tvalidation-rmse:3.78959\n",
            "[8]\tvalidation-rmse:3.67152\n",
            "[9]\tvalidation-rmse:3.73993\n"
          ],
          "name": "stdout"
        },
        {
          "output_type": "stream",
          "text": [
            "[I 2020-07-08 14:02:55,313] Finished trial#561 with value: 3.254207191863756 with parameters: {'combos': 1, 'ada_Scaler': 'log', 'ada_ne': 167, 'ada_lr': 0.5055369520706235, 'et_Scaler': 'stand', 'et_max_depth': 10, 'et_ne': 585, 'xgb_Scaler': 'log', 'booster': 'gbtree', 'lambda': 0.22965220425472505, 'alpha': 0.012956825936868043, 'max_depth': 3, 'eta': 0.7496456597855183, 'gamma': 3.5932140904935083e-07, 'grow_policy': 'depthwise'}. Best is trial#468 with value: 3.1383768416796634.\n"
          ],
          "name": "stderr"
        },
        {
          "output_type": "stream",
          "text": [
            "[0]\tvalidation-rmse:13.6219\n",
            "[1]\tvalidation-rmse:8.06239\n",
            "[2]\tvalidation-rmse:5.20866\n",
            "[3]\tvalidation-rmse:4.01705\n",
            "[4]\tvalidation-rmse:3.6151\n",
            "[5]\tvalidation-rmse:3.48784\n",
            "[6]\tvalidation-rmse:3.47458\n",
            "[7]\tvalidation-rmse:3.39535\n",
            "[8]\tvalidation-rmse:3.43525\n",
            "[9]\tvalidation-rmse:3.3961\n"
          ],
          "name": "stdout"
        },
        {
          "output_type": "stream",
          "text": [
            "[I 2020-07-08 14:02:56,805] Finished trial#562 with value: 3.2035640116526163 with parameters: {'combos': 1, 'ada_Scaler': 'log', 'ada_ne': 189, 'ada_lr': 0.5372100086442791, 'et_Scaler': 'stand', 'et_max_depth': 11, 'et_ne': 605, 'xgb_Scaler': 'log', 'booster': 'gbtree', 'lambda': 0.1617830711027158, 'alpha': 0.0028438005597832268, 'max_depth': 3, 'eta': 0.4595553007165164, 'gamma': 1.7614045259372066e-07, 'grow_policy': 'depthwise'}. Best is trial#468 with value: 3.1383768416796634.\n"
          ],
          "name": "stderr"
        },
        {
          "output_type": "stream",
          "text": [
            "[0]\tvalidation-rmse:15.041\n",
            "[1]\tvalidation-rmse:9.63515\n",
            "[2]\tvalidation-rmse:6.48694\n",
            "[3]\tvalidation-rmse:4.75534\n",
            "[4]\tvalidation-rmse:3.9605\n",
            "[5]\tvalidation-rmse:3.49099\n",
            "[6]\tvalidation-rmse:3.3042\n",
            "[7]\tvalidation-rmse:3.18171\n",
            "[8]\tvalidation-rmse:3.16096\n",
            "[9]\tvalidation-rmse:3.10072\n"
          ],
          "name": "stdout"
        },
        {
          "output_type": "stream",
          "text": [
            "[I 2020-07-08 14:02:58,167] Finished trial#563 with value: 3.1249267571970165 with parameters: {'combos': 1, 'ada_Scaler': 'log', 'ada_ne': 159, 'ada_lr': 0.540997909425469, 'et_Scaler': 'stand', 'et_max_depth': 11, 'et_ne': 567, 'xgb_Scaler': 'log', 'booster': 'gbtree', 'lambda': 0.17053790650797074, 'alpha': 0.0037763518010232623, 'max_depth': 3, 'eta': 0.3951047180807965, 'gamma': 1.8471418931798222e-07, 'grow_policy': 'depthwise'}. Best is trial#563 with value: 3.1249267571970165.\n"
          ],
          "name": "stderr"
        },
        {
          "output_type": "stream",
          "text": [
            "[0]\tvalidation-rmse:19.1907\n",
            "[1]\tvalidation-rmse:15.2563\n",
            "[2]\tvalidation-rmse:12.2246\n",
            "[3]\tvalidation-rmse:9.92849\n",
            "[4]\tvalidation-rmse:8.12864\n",
            "[5]\tvalidation-rmse:6.72982\n",
            "[6]\tvalidation-rmse:5.66421\n",
            "[7]\tvalidation-rmse:4.94793\n",
            "[8]\tvalidation-rmse:4.3193\n",
            "[9]\tvalidation-rmse:3.87974\n"
          ],
          "name": "stdout"
        },
        {
          "output_type": "stream",
          "text": [
            "[I 2020-07-08 14:02:59,580] Finished trial#564 with value: 3.2393385947178386 with parameters: {'combos': 1, 'ada_Scaler': 'log', 'ada_ne': 151, 'ada_lr': 0.46166812348211944, 'et_Scaler': 'stand', 'et_max_depth': 12, 'et_ne': 559, 'xgb_Scaler': 'log', 'booster': 'gbtree', 'lambda': 0.1592670225571293, 'alpha': 0.0011698757853346269, 'max_depth': 3, 'eta': 0.20992480130926575, 'gamma': 2.002965316991443e-07, 'grow_policy': 'depthwise'}. Best is trial#563 with value: 3.1249267571970165.\n"
          ],
          "name": "stderr"
        },
        {
          "output_type": "stream",
          "text": [
            "[0]\tvalidation-rmse:15.6376\n",
            "[1]\tvalidation-rmse:10.2402\n",
            "[2]\tvalidation-rmse:7.05019\n",
            "[3]\tvalidation-rmse:5.30685\n",
            "[4]\tvalidation-rmse:4.49404\n",
            "[5]\tvalidation-rmse:4.15701\n",
            "[6]\tvalidation-rmse:3.91574\n",
            "[7]\tvalidation-rmse:3.87164\n",
            "[8]\tvalidation-rmse:3.7961\n",
            "[9]\tvalidation-rmse:3.82439\n"
          ],
          "name": "stdout"
        },
        {
          "output_type": "stream",
          "text": [
            "[I 2020-07-08 14:03:00,980] Finished trial#565 with value: 3.40778011618444 with parameters: {'combos': 1, 'ada_Scaler': 'log', 'ada_ne': 174, 'ada_lr': 0.5464437770814436, 'et_Scaler': 'stand', 'et_max_depth': 11, 'et_ne': 570, 'xgb_Scaler': 'log', 'booster': 'gbtree', 'lambda': 0.3373345559581664, 'alpha': 0.003493949025978197, 'max_depth': 3, 'eta': 0.3738976339025488, 'gamma': 2.6652925295191403e-07, 'grow_policy': 'depthwise'}. Best is trial#563 with value: 3.1249267571970165.\n"
          ],
          "name": "stderr"
        },
        {
          "output_type": "stream",
          "text": [
            "[0]\tvalidation-rmse:14.6248\n",
            "[1]\tvalidation-rmse:9.27295\n",
            "[2]\tvalidation-rmse:6.33069\n",
            "[3]\tvalidation-rmse:4.78658\n",
            "[4]\tvalidation-rmse:4.03759\n",
            "[5]\tvalidation-rmse:3.81766\n",
            "[6]\tvalidation-rmse:3.73177\n",
            "[7]\tvalidation-rmse:3.67344\n",
            "[8]\tvalidation-rmse:3.67212\n",
            "[9]\tvalidation-rmse:3.64024\n"
          ],
          "name": "stdout"
        },
        {
          "output_type": "stream",
          "text": [
            "[I 2020-07-08 14:03:02,400] Finished trial#566 with value: 3.3354772084084665 with parameters: {'combos': 1, 'ada_Scaler': 'log', 'ada_ne': 162, 'ada_lr': 0.5161027256505711, 'et_Scaler': 'stand', 'et_max_depth': 12, 'et_ne': 567, 'xgb_Scaler': 'log', 'booster': 'gbtree', 'lambda': 0.45934351391182254, 'alpha': 0.002360267998852253, 'max_depth': 3, 'eta': 0.4215608921341792, 'gamma': 1.6048371333110792e-07, 'grow_policy': 'depthwise'}. Best is trial#563 with value: 3.1249267571970165.\n",
            "[I 2020-07-08 14:03:03,703] Setting status of trial#567 as TrialState.PRUNED. Trial was pruned at iteration 11.\n"
          ],
          "name": "stderr"
        },
        {
          "output_type": "stream",
          "text": [
            "[0]\tvalidation-rmse:8.61242\n",
            "[1]\tvalidation-rmse:4.81139\n",
            "[2]\tvalidation-rmse:4.20184\n",
            "[3]\tvalidation-rmse:4.34324\n",
            "[4]\tvalidation-rmse:4.36721\n",
            "[5]\tvalidation-rmse:4.32669\n",
            "[6]\tvalidation-rmse:4.33337\n",
            "[7]\tvalidation-rmse:4.36219\n",
            "[8]\tvalidation-rmse:4.36187\n",
            "[9]\tvalidation-rmse:4.39542\n"
          ],
          "name": "stdout"
        },
        {
          "output_type": "stream",
          "text": [
            "[I 2020-07-08 14:03:05,306] Finished trial#568 with value: 3.4601254890357818 with parameters: {'combos': 1, 'ada_Scaler': 'log', 'ada_ne': 217, 'ada_lr': 0.5548236212675357, 'et_Scaler': 'stand', 'et_max_depth': 11, 'et_ne': 592, 'xgb_Scaler': 'log', 'booster': 'gbtree', 'lambda': 0.20307854140082793, 'alpha': 0.0026750853804922052, 'max_depth': 4, 'eta': 0.6934701316382328, 'gamma': 1.2469259556952818e-07, 'grow_policy': 'depthwise'}. Best is trial#563 with value: 3.1249267571970165.\n"
          ],
          "name": "stderr"
        },
        {
          "output_type": "stream",
          "text": [
            "[0]\tvalidation-rmse:16.6224\n",
            "[1]\tvalidation-rmse:11.7427\n",
            "[2]\tvalidation-rmse:8.51596\n",
            "[3]\tvalidation-rmse:6.48363\n",
            "[4]\tvalidation-rmse:5.22496\n",
            "[5]\tvalidation-rmse:4.54754\n",
            "[6]\tvalidation-rmse:4.09774\n",
            "[7]\tvalidation-rmse:3.92018\n",
            "[8]\tvalidation-rmse:3.80085\n",
            "[9]\tvalidation-rmse:3.74631\n"
          ],
          "name": "stdout"
        },
        {
          "output_type": "stream",
          "text": [
            "[I 2020-07-08 14:03:06,687] Finished trial#569 with value: 3.378767072348731 with parameters: {'combos': 1, 'ada_Scaler': 'log', 'ada_ne': 145, 'ada_lr': 0.5041018571950352, 'et_Scaler': 'stand', 'et_max_depth': 11, 'et_ne': 578, 'xgb_Scaler': 'log', 'booster': 'gbtree', 'lambda': 0.1416741723211079, 'alpha': 0.004937039718246374, 'max_depth': 3, 'eta': 0.3179956765002354, 'gamma': 1.597543242450847e-07, 'grow_policy': 'depthwise'}. Best is trial#563 with value: 3.1249267571970165.\n"
          ],
          "name": "stderr"
        },
        {
          "output_type": "stream",
          "text": [
            "[0]\tvalidation-rmse:12.7455\n",
            "[1]\tvalidation-rmse:7.34622\n",
            "[2]\tvalidation-rmse:5.16267\n",
            "[3]\tvalidation-rmse:4.27658\n",
            "[4]\tvalidation-rmse:4.00894\n",
            "[5]\tvalidation-rmse:3.91861\n",
            "[6]\tvalidation-rmse:3.86728\n",
            "[7]\tvalidation-rmse:3.82488\n",
            "[8]\tvalidation-rmse:3.73928\n",
            "[9]\tvalidation-rmse:3.75288\n"
          ],
          "name": "stdout"
        },
        {
          "output_type": "stream",
          "text": [
            "[I 2020-07-08 14:03:08,101] Finished trial#570 with value: 3.293063771788953 with parameters: {'combos': 1, 'ada_Scaler': 'log', 'ada_ne': 168, 'ada_lr': 0.5503688073083658, 'et_Scaler': 'stand', 'et_max_depth': 10, 'et_ne': 607, 'xgb_Scaler': 'log', 'booster': 'gbtree', 'lambda': 0.11625611003639848, 'alpha': 0.0034643074111328017, 'max_depth': 3, 'eta': 0.4911014430373619, 'gamma': 1.0388363205425938e-07, 'grow_policy': 'depthwise'}. Best is trial#563 with value: 3.1249267571970165.\n"
          ],
          "name": "stderr"
        },
        {
          "output_type": "stream",
          "text": [
            "[0]\tvalidation-rmse:18.0111\n",
            "[1]\tvalidation-rmse:13.6784\n",
            "[2]\tvalidation-rmse:10.5014\n",
            "[3]\tvalidation-rmse:8.26807\n",
            "[4]\tvalidation-rmse:6.64774\n",
            "[5]\tvalidation-rmse:5.57857\n",
            "[6]\tvalidation-rmse:4.8318\n",
            "[7]\tvalidation-rmse:4.382\n",
            "[8]\tvalidation-rmse:4.10131\n",
            "[9]\tvalidation-rmse:3.9108\n"
          ],
          "name": "stdout"
        },
        {
          "output_type": "stream",
          "text": [
            "[I 2020-07-08 14:03:09,610] Finished trial#571 with value: 3.354425617477704 with parameters: {'combos': 1, 'ada_Scaler': 'log', 'ada_ne': 191, 'ada_lr': 0.5666482525707149, 'et_Scaler': 'stand', 'et_max_depth': 11, 'et_ne': 609, 'xgb_Scaler': 'log', 'booster': 'gbtree', 'lambda': 0.09433782570941081, 'alpha': 0.005082926462295703, 'max_depth': 3, 'eta': 0.25564838565605863, 'gamma': 4.2366011165692583e-07, 'grow_policy': 'depthwise'}. Best is trial#563 with value: 3.1249267571970165.\n"
          ],
          "name": "stderr"
        },
        {
          "output_type": "stream",
          "text": [
            "[0]\tvalidation-rmse:5.52841\n",
            "[1]\tvalidation-rmse:4.89186\n",
            "[2]\tvalidation-rmse:5.02134\n",
            "[3]\tvalidation-rmse:5.02783\n",
            "[4]\tvalidation-rmse:5.03262\n",
            "[5]\tvalidation-rmse:4.92935\n",
            "[6]\tvalidation-rmse:4.91903\n",
            "[7]\tvalidation-rmse:4.86494\n",
            "[8]\tvalidation-rmse:4.80292\n",
            "[9]\tvalidation-rmse:4.95709\n"
          ],
          "name": "stdout"
        },
        {
          "output_type": "stream",
          "text": [
            "[I 2020-07-08 14:03:11,078] Finished trial#572 with value: 3.333531765935864 with parameters: {'combos': 1, 'ada_Scaler': 'log', 'ada_ne': 172, 'ada_lr': 0.575491401886121, 'et_Scaler': 'stand', 'et_max_depth': 13, 'et_ne': 570, 'xgb_Scaler': 'log', 'booster': 'gbtree', 'lambda': 0.13692657605094527, 'alpha': 0.0068933225491055695, 'max_depth': 3, 'eta': 0.9249804404284536, 'gamma': 8.679861776602156e-08, 'grow_policy': 'depthwise'}. Best is trial#563 with value: 3.1249267571970165.\n"
          ],
          "name": "stderr"
        },
        {
          "output_type": "stream",
          "text": [
            "[0]\tvalidation-rmse:9.0111\n",
            "[1]\tvalidation-rmse:5.02607\n",
            "[2]\tvalidation-rmse:4.24931\n",
            "[3]\tvalidation-rmse:4.17216\n",
            "[4]\tvalidation-rmse:4.20656\n",
            "[5]\tvalidation-rmse:4.15019\n",
            "[6]\tvalidation-rmse:4.13155\n",
            "[7]\tvalidation-rmse:4.19414\n",
            "[8]\tvalidation-rmse:4.09701\n",
            "[9]\tvalidation-rmse:4.15029\n"
          ],
          "name": "stdout"
        },
        {
          "output_type": "stream",
          "text": [
            "[I 2020-07-08 14:03:12,535] Finished trial#573 with value: 3.373690352891995 with parameters: {'combos': 1, 'ada_Scaler': 'log', 'ada_ne': 149, 'ada_lr': 0.48943599330009396, 'et_Scaler': 'stand', 'et_max_depth': 12, 'et_ne': 602, 'xgb_Scaler': 'log', 'booster': 'gbtree', 'lambda': 0.19024896223027238, 'alpha': 0.009217915336256178, 'max_depth': 3, 'eta': 0.6806055236728991, 'gamma': 2.561653682821486e-07, 'grow_policy': 'depthwise'}. Best is trial#563 with value: 3.1249267571970165.\n"
          ],
          "name": "stderr"
        },
        {
          "output_type": "stream",
          "text": [
            "[0]\tvalidation-rmse:5.30377\n",
            "[1]\tvalidation-rmse:4.99242\n",
            "[2]\tvalidation-rmse:5.09572\n",
            "[3]\tvalidation-rmse:5.11599\n",
            "[4]\tvalidation-rmse:4.99748\n",
            "[5]\tvalidation-rmse:4.82051\n",
            "[6]\tvalidation-rmse:4.84717\n",
            "[7]\tvalidation-rmse:4.85962\n",
            "[8]\tvalidation-rmse:4.85558\n",
            "[9]\tvalidation-rmse:4.85548\n"
          ],
          "name": "stdout"
        },
        {
          "output_type": "stream",
          "text": [
            "[I 2020-07-08 14:03:13,952] Finished trial#574 with value: 3.4952028850400887 with parameters: {'combos': 1, 'ada_Scaler': 'log', 'ada_ne': 205, 'ada_lr': 0.42941988795842423, 'et_Scaler': 'minmax', 'et_max_depth': 10, 'et_ne': 578, 'xgb_Scaler': 'log', 'booster': 'gbtree', 'lambda': 0.08581742936049958, 'alpha': 0.0016448884169782173, 'max_depth': 3, 'eta': 0.9780989546517156, 'gamma': 1.549066624290364e-07, 'grow_policy': 'depthwise'}. Best is trial#563 with value: 3.1249267571970165.\n"
          ],
          "name": "stderr"
        },
        {
          "output_type": "stream",
          "text": [
            "[0]\tvalidation-rmse:14.4472\n",
            "[1]\tvalidation-rmse:9.41524\n",
            "[2]\tvalidation-rmse:6.90264\n",
            "[3]\tvalidation-rmse:5.75366\n",
            "[4]\tvalidation-rmse:5.3687\n",
            "[5]\tvalidation-rmse:5.17393\n",
            "[6]\tvalidation-rmse:5.04978\n",
            "[7]\tvalidation-rmse:4.96043\n",
            "[8]\tvalidation-rmse:4.66582\n",
            "[9]\tvalidation-rmse:4.73843\n"
          ],
          "name": "stdout"
        },
        {
          "output_type": "stream",
          "text": [
            "[I 2020-07-08 14:03:15,392] Finished trial#575 with value: 3.5794763730001318 with parameters: {'combos': 1, 'ada_Scaler': 'log', 'ada_ne': 184, 'ada_lr': 0.5992995016771702, 'et_Scaler': 'stand', 'et_max_depth': 10, 'et_ne': 613, 'xgb_Scaler': 'log', 'booster': 'gbtree', 'lambda': 0.25835936052629205, 'alpha': 0.017501700964280824, 'max_depth': 1, 'eta': 0.4550115045449842, 'gamma': 9.774949756297045e-07, 'grow_policy': 'depthwise'}. Best is trial#563 with value: 3.1249267571970165.\n",
            "[I 2020-07-08 14:03:16,600] Setting status of trial#576 as TrialState.PRUNED. Trial was pruned at iteration 11.\n"
          ],
          "name": "stderr"
        },
        {
          "output_type": "stream",
          "text": [
            "[0]\tvalidation-rmse:20.1496\n",
            "[1]\tvalidation-rmse:16.9396\n",
            "[2]\tvalidation-rmse:14.317\n",
            "[3]\tvalidation-rmse:12.1497\n",
            "[4]\tvalidation-rmse:10.3628\n",
            "[5]\tvalidation-rmse:8.8937\n",
            "[6]\tvalidation-rmse:7.7243\n",
            "[7]\tvalidation-rmse:6.80074\n",
            "[8]\tvalidation-rmse:6.04191\n",
            "[9]\tvalidation-rmse:5.39834\n"
          ],
          "name": "stdout"
        },
        {
          "output_type": "stream",
          "text": [
            "[I 2020-07-08 14:03:18,156] Finished trial#577 with value: 3.5422140171246164 with parameters: {'combos': 1, 'ada_Scaler': 'log', 'ada_ne': 222, 'ada_lr': 0.5935003489058323, 'et_Scaler': 'stand', 'et_max_depth': 10, 'et_ne': 591, 'xgb_Scaler': 'log', 'booster': 'gbtree', 'lambda': 0.07300529506008842, 'alpha': 0.0026901811190725607, 'max_depth': 3, 'eta': 0.1632350653743373, 'gamma': 1.0004041171303547e-07, 'grow_policy': 'depthwise'}. Best is trial#563 with value: 3.1249267571970165.\n"
          ],
          "name": "stderr"
        },
        {
          "output_type": "stream",
          "text": [
            "[0]\tvalidation-rmse:17.0632\n",
            "[1]\tvalidation-rmse:12.3336\n",
            "[2]\tvalidation-rmse:9.09793\n",
            "[3]\tvalidation-rmse:6.96774\n",
            "[4]\tvalidation-rmse:5.76002\n",
            "[5]\tvalidation-rmse:4.96572\n",
            "[6]\tvalidation-rmse:4.49892\n",
            "[7]\tvalidation-rmse:4.19256\n",
            "[8]\tvalidation-rmse:4.08086\n",
            "[9]\tvalidation-rmse:3.99461\n"
          ],
          "name": "stdout"
        },
        {
          "output_type": "stream",
          "text": [
            "[I 2020-07-08 14:03:19,523] Finished trial#578 with value: 3.3689048532424697 with parameters: {'combos': 1, 'ada_Scaler': 'log', 'ada_ne': 140, 'ada_lr': 0.5393453813972515, 'et_Scaler': 'stand', 'et_max_depth': 9, 'et_ne': 662, 'xgb_Scaler': 'log', 'booster': 'gbtree', 'lambda': 0.11484518813741688, 'alpha': 0.0287971738488578, 'max_depth': 3, 'eta': 0.29818107739759536, 'gamma': 7.340514914974649e-08, 'grow_policy': 'depthwise'}. Best is trial#563 with value: 3.1249267571970165.\n"
          ],
          "name": "stderr"
        },
        {
          "output_type": "stream",
          "text": [
            "[0]\tvalidation-rmse:11.4256\n",
            "[1]\tvalidation-rmse:6.23913\n",
            "[2]\tvalidation-rmse:4.32929\n",
            "[3]\tvalidation-rmse:3.95592\n",
            "[4]\tvalidation-rmse:3.91927\n",
            "[5]\tvalidation-rmse:3.99555\n",
            "[6]\tvalidation-rmse:3.9284\n",
            "[7]\tvalidation-rmse:3.9366\n",
            "[8]\tvalidation-rmse:3.91267\n",
            "[9]\tvalidation-rmse:3.89019\n"
          ],
          "name": "stdout"
        },
        {
          "output_type": "stream",
          "text": [
            "[I 2020-07-08 14:03:21,001] Finished trial#579 with value: 3.248296592823024 with parameters: {'combos': 1, 'ada_Scaler': 'log', 'ada_ne': 192, 'ada_lr': 0.4618868939521898, 'et_Scaler': 'stand', 'et_max_depth': 10, 'et_ne': 625, 'xgb_Scaler': 'log', 'booster': 'gbtree', 'lambda': 0.031225933746463885, 'alpha': 0.007152785311017517, 'max_depth': 3, 'eta': 0.5524129810599225, 'gamma': 1.7613404276913165e-07, 'grow_policy': 'depthwise'}. Best is trial#563 with value: 3.1249267571970165.\n"
          ],
          "name": "stderr"
        },
        {
          "output_type": "stream",
          "text": [
            "[0]\tvalidation-rmse:15.5246\n",
            "[1]\tvalidation-rmse:10.3008\n",
            "[2]\tvalidation-rmse:7.20967\n",
            "[3]\tvalidation-rmse:5.36875\n",
            "[4]\tvalidation-rmse:4.31467\n",
            "[5]\tvalidation-rmse:3.8296\n",
            "[6]\tvalidation-rmse:3.57386\n",
            "[7]\tvalidation-rmse:3.55393\n",
            "[8]\tvalidation-rmse:3.52852\n",
            "[9]\tvalidation-rmse:3.57272\n"
          ],
          "name": "stdout"
        },
        {
          "output_type": "stream",
          "text": [
            "[I 2020-07-08 14:03:22,391] Finished trial#580 with value: 3.206691272480382 with parameters: {'combos': 1, 'ada_Scaler': 'log', 'ada_ne': 166, 'ada_lr': 0.5795522321500912, 'et_Scaler': 'stand', 'et_max_depth': 10, 'et_ne': 610, 'xgb_Scaler': 'log', 'booster': 'gbtree', 'lambda': 0.03956383053760257, 'alpha': 0.00440289795347392, 'max_depth': 3, 'eta': 0.3630015058254095, 'gamma': 6.445867428769742e-08, 'grow_policy': 'depthwise'}. Best is trial#563 with value: 3.1249267571970165.\n"
          ],
          "name": "stderr"
        },
        {
          "output_type": "stream",
          "text": [
            "[0]\tvalidation-rmse:7.45937\n",
            "[1]\tvalidation-rmse:4.1356\n",
            "[2]\tvalidation-rmse:3.86603\n",
            "[3]\tvalidation-rmse:3.82887\n",
            "[4]\tvalidation-rmse:3.86933\n",
            "[5]\tvalidation-rmse:3.83298\n",
            "[6]\tvalidation-rmse:3.78309\n",
            "[7]\tvalidation-rmse:3.77633\n",
            "[8]\tvalidation-rmse:3.74487\n",
            "[9]\tvalidation-rmse:3.75822\n"
          ],
          "name": "stdout"
        },
        {
          "output_type": "stream",
          "text": [
            "[I 2020-07-08 14:03:23,645] Finished trial#581 with value: 3.297858905083815 with parameters: {'combos': 1, 'ada_Scaler': 'log', 'ada_ne': 128, 'ada_lr': 0.29590363999644836, 'et_Scaler': 'stand', 'et_max_depth': 9, 'et_ne': 587, 'xgb_Scaler': 'log', 'booster': 'gbtree', 'lambda': 0.1570211980080055, 'alpha': 0.01811601475298363, 'max_depth': 3, 'eta': 0.7635374792641738, 'gamma': 4.98393197799105e-07, 'grow_policy': 'depthwise'}. Best is trial#563 with value: 3.1249267571970165.\n"
          ],
          "name": "stderr"
        },
        {
          "output_type": "stream",
          "text": [
            "[0]\tvalidation-rmse:5.37389\n",
            "[1]\tvalidation-rmse:5.10409\n",
            "[2]\tvalidation-rmse:5.03982\n",
            "[3]\tvalidation-rmse:5.05411\n",
            "[4]\tvalidation-rmse:5.0848\n",
            "[5]\tvalidation-rmse:5.15905\n",
            "[6]\tvalidation-rmse:5.05302\n",
            "[7]\tvalidation-rmse:5.07458\n",
            "[8]\tvalidation-rmse:4.98286\n",
            "[9]\tvalidation-rmse:4.9304\n"
          ],
          "name": "stdout"
        },
        {
          "output_type": "stream",
          "text": [
            "[I 2020-07-08 14:03:24,944] Finished trial#582 with value: 3.4816777706060744 with parameters: {'combos': 1, 'ada_Scaler': 'log', 'ada_ne': 153, 'ada_lr': 0.600720399814726, 'et_Scaler': 'stand', 'et_max_depth': 8, 'et_ne': 647, 'xgb_Scaler': 'log', 'booster': 'gbtree', 'lambda': 0.05290771472783999, 'alpha': 0.011500816379803616, 'max_depth': 3, 'eta': 0.9846307124565462, 'gamma': 1.1624468212543276e-07, 'grow_policy': 'depthwise'}. Best is trial#563 with value: 3.1249267571970165.\n"
          ],
          "name": "stderr"
        },
        {
          "output_type": "stream",
          "text": [
            "[0]\tvalidation-rmse:11.7303\n",
            "[1]\tvalidation-rmse:6.4275\n",
            "[2]\tvalidation-rmse:4.68561\n",
            "[3]\tvalidation-rmse:4.25455\n",
            "[4]\tvalidation-rmse:4.39915\n",
            "[5]\tvalidation-rmse:4.48811\n",
            "[6]\tvalidation-rmse:4.53562\n",
            "[7]\tvalidation-rmse:4.58431\n",
            "[8]\tvalidation-rmse:4.60036\n",
            "[9]\tvalidation-rmse:4.57368\n"
          ],
          "name": "stdout"
        },
        {
          "output_type": "stream",
          "text": [
            "[I 2020-07-08 14:03:26,259] Finished trial#583 with value: 3.4450669778268304 with parameters: {'combos': 1, 'ada_Scaler': 'log', 'ada_ne': 207, 'ada_lr': 0.5420096572047813, 'et_Scaler': 'stand', 'et_max_depth': 7, 'et_ne': 618, 'xgb_Scaler': 'log', 'booster': 'gbtree', 'lambda': 0.023915597529127048, 'alpha': 0.007400093196414318, 'max_depth': 4, 'eta': 0.5242275622905904, 'gamma': 2.1825864863054492e-07, 'grow_policy': 'depthwise'}. Best is trial#563 with value: 3.1249267571970165.\n",
            "[I 2020-07-08 14:03:27,700] Setting status of trial#584 as TrialState.PRUNED. Trial was pruned at iteration 11.\n"
          ],
          "name": "stderr"
        },
        {
          "output_type": "stream",
          "text": [
            "[0]\tvalidation-rmse:15.1773\n",
            "[1]\tvalidation-rmse:9.87887\n",
            "[2]\tvalidation-rmse:6.81465\n",
            "[3]\tvalidation-rmse:5.19826\n",
            "[4]\tvalidation-rmse:4.23044\n",
            "[5]\tvalidation-rmse:3.78072\n",
            "[6]\tvalidation-rmse:3.61768\n",
            "[7]\tvalidation-rmse:3.58418\n",
            "[8]\tvalidation-rmse:3.52864\n",
            "[9]\tvalidation-rmse:3.53734\n"
          ],
          "name": "stdout"
        },
        {
          "output_type": "stream",
          "text": [
            "[I 2020-07-08 14:03:29,048] Finished trial#585 with value: 3.3043232388434047 with parameters: {'combos': 1, 'ada_Scaler': 'log', 'ada_ne': 221, 'ada_lr': 0.607161728670865, 'et_Scaler': 'stand', 'et_max_depth': 5, 'et_ne': 637, 'xgb_Scaler': 'log', 'booster': 'gbtree', 'lambda': 0.07639348672264219, 'alpha': 0.018730403202243416, 'max_depth': 3, 'eta': 0.3791225066955256, 'gamma': 1.2690726762791477e-08, 'grow_policy': 'depthwise'}. Best is trial#563 with value: 3.1249267571970165.\n"
          ],
          "name": "stderr"
        },
        {
          "output_type": "stream",
          "text": [
            "[0]\tvalidation-rmse:18.6279\n",
            "[1]\tvalidation-rmse:14.5007\n",
            "[2]\tvalidation-rmse:11.3931\n",
            "[3]\tvalidation-rmse:9.03798\n",
            "[4]\tvalidation-rmse:7.2725\n",
            "[5]\tvalidation-rmse:5.98797\n",
            "[6]\tvalidation-rmse:5.15972\n",
            "[7]\tvalidation-rmse:4.60976\n",
            "[8]\tvalidation-rmse:4.22176\n",
            "[9]\tvalidation-rmse:3.89282\n"
          ],
          "name": "stdout"
        },
        {
          "output_type": "stream",
          "text": [
            "[I 2020-07-08 14:03:30,299] Finished trial#586 with value: 3.3345315123126107 with parameters: {'combos': 1, 'ada_Scaler': 'log', 'ada_ne': 141, 'ada_lr': 0.5720302015110776, 'et_Scaler': 'stand', 'et_max_depth': 9, 'et_ne': 558, 'xgb_Scaler': 'log', 'booster': 'gbtree', 'lambda': 0.10561093186669604, 'alpha': 0.005424409789227522, 'max_depth': 3, 'eta': 0.2298346140130247, 'gamma': 1.717521027634423e-08, 'grow_policy': 'depthwise'}. Best is trial#563 with value: 3.1249267571970165.\n"
          ],
          "name": "stderr"
        },
        {
          "output_type": "stream",
          "text": [
            "[0]\tvalidation-rmse:9.05019\n",
            "[1]\tvalidation-rmse:4.84878\n",
            "[2]\tvalidation-rmse:4.00401\n",
            "[3]\tvalidation-rmse:3.82587\n",
            "[4]\tvalidation-rmse:3.9131\n",
            "[5]\tvalidation-rmse:4.10656\n",
            "[6]\tvalidation-rmse:4.10056\n",
            "[7]\tvalidation-rmse:4.12294\n",
            "[8]\tvalidation-rmse:4.14809\n",
            "[9]\tvalidation-rmse:4.14432\n"
          ],
          "name": "stdout"
        },
        {
          "output_type": "stream",
          "text": [
            "[I 2020-07-08 14:03:31,739] Finished trial#587 with value: 3.3034561861769562 with parameters: {'combos': 1, 'ada_Scaler': 'log', 'ada_ne': 196, 'ada_lr': 0.5072516686973965, 'et_Scaler': 'stand', 'et_max_depth': 10, 'et_ne': 602, 'xgb_Scaler': 'log', 'booster': 'gbtree', 'lambda': 0.04743734972961952, 'alpha': 0.00946400985425404, 'max_depth': 3, 'eta': 0.6634107552011319, 'gamma': 8.465336080211199e-08, 'grow_policy': 'depthwise'}. Best is trial#563 with value: 3.1249267571970165.\n"
          ],
          "name": "stderr"
        },
        {
          "output_type": "stream",
          "text": [
            "[0]\tvalidation-rmse:21.8717\n",
            "[1]\tvalidation-rmse:19.9645\n",
            "[2]\tvalidation-rmse:18.2575\n",
            "[3]\tvalidation-rmse:16.6651\n",
            "[4]\tvalidation-rmse:15.2435\n",
            "[5]\tvalidation-rmse:13.954\n",
            "[6]\tvalidation-rmse:12.7635\n",
            "[7]\tvalidation-rmse:11.6971\n",
            "[8]\tvalidation-rmse:10.7536\n",
            "[9]\tvalidation-rmse:9.88684\n"
          ],
          "name": "stdout"
        },
        {
          "output_type": "stream",
          "text": [
            "[I 2020-07-08 14:03:33,154] Finished trial#588 with value: 4.4260669574053955 with parameters: {'combos': 1, 'ada_Scaler': 'log', 'ada_ne': 172, 'ada_lr': 0.5506224090910145, 'et_Scaler': 'stand', 'et_max_depth': 9, 'et_ne': 654, 'xgb_Scaler': 'log', 'booster': 'gbtree', 'lambda': 0.0357467005468642, 'alpha': 0.02519095666200607, 'max_depth': 3, 'eta': 0.08936636514947524, 'gamma': 1.0053745008406855e-08, 'grow_policy': 'depthwise'}. Best is trial#563 with value: 3.1249267571970165.\n"
          ],
          "name": "stderr"
        },
        {
          "output_type": "stream",
          "text": [
            "[0]\tvalidation-rmse:12.9132\n",
            "[1]\tvalidation-rmse:7.41122\n",
            "[2]\tvalidation-rmse:4.99468\n",
            "[3]\tvalidation-rmse:4.23873\n",
            "[4]\tvalidation-rmse:4.06807\n",
            "[5]\tvalidation-rmse:4.08394\n",
            "[6]\tvalidation-rmse:4.11165\n",
            "[7]\tvalidation-rmse:4.12153\n",
            "[8]\tvalidation-rmse:4.11028\n",
            "[9]\tvalidation-rmse:4.08038\n"
          ],
          "name": "stdout"
        },
        {
          "output_type": "stream",
          "text": [
            "[I 2020-07-08 14:03:34,395] Finished trial#589 with value: 3.470761341919548 with parameters: {'combos': 1, 'ada_Scaler': 'log', 'ada_ne': 155, 'ada_lr': 0.6136889486087693, 'et_Scaler': 'stand', 'et_max_depth': 8, 'et_ne': 586, 'xgb_Scaler': 'log', 'booster': 'gbtree', 'lambda': 0.019697235600528225, 'alpha': 0.00315255625612435, 'max_depth': 3, 'eta': 0.4819508964229935, 'gamma': 5.0634683175258454e-08, 'grow_policy': 'depthwise'}. Best is trial#563 with value: 3.1249267571970165.\n"
          ],
          "name": "stderr"
        },
        {
          "output_type": "stream",
          "text": [
            "[0]\tvalidation-rmse:7.62012\n",
            "[1]\tvalidation-rmse:4.90038\n",
            "[2]\tvalidation-rmse:4.86409\n",
            "[3]\tvalidation-rmse:4.85208\n",
            "[4]\tvalidation-rmse:4.67295\n",
            "[5]\tvalidation-rmse:4.67774\n",
            "[6]\tvalidation-rmse:4.50848\n",
            "[7]\tvalidation-rmse:4.50997\n",
            "[8]\tvalidation-rmse:4.50017\n",
            "[9]\tvalidation-rmse:4.49284\n"
          ],
          "name": "stdout"
        },
        {
          "output_type": "stream",
          "text": [
            "[I 2020-07-08 14:03:35,893] Finished trial#590 with value: 3.3362420835091484 with parameters: {'combos': 1, 'ada_Scaler': 'log', 'ada_ne': 125, 'ada_lr': 0.19014734061696772, 'et_Scaler': 'stand', 'et_max_depth': 12, 'et_ne': 631, 'xgb_Scaler': 'log', 'booster': 'gbtree', 'lambda': 0.06596432953547887, 'alpha': 0.010343423748035489, 'max_depth': 3, 'eta': 0.7410192869397915, 'gamma': 1.9905455099893796e-08, 'grow_policy': 'depthwise'}. Best is trial#563 with value: 3.1249267571970165.\n"
          ],
          "name": "stderr"
        },
        {
          "output_type": "stream",
          "text": [
            "[0]\tvalidation-rmse:17.4086\n",
            "[1]\tvalidation-rmse:12.5735\n",
            "[2]\tvalidation-rmse:9.27216\n",
            "[3]\tvalidation-rmse:7.01819\n",
            "[4]\tvalidation-rmse:5.60067\n",
            "[5]\tvalidation-rmse:4.72929\n",
            "[6]\tvalidation-rmse:4.2396\n",
            "[7]\tvalidation-rmse:4.06316\n",
            "[8]\tvalidation-rmse:3.89042\n",
            "[9]\tvalidation-rmse:3.78851\n"
          ],
          "name": "stdout"
        },
        {
          "output_type": "stream",
          "text": [
            "[I 2020-07-08 14:03:37,325] Finished trial#591 with value: 3.293890505856027 with parameters: {'combos': 1, 'ada_Scaler': 'log', 'ada_ne': 182, 'ada_lr': 0.5759414972766421, 'et_Scaler': 'stand', 'et_max_depth': 10, 'et_ne': 613, 'xgb_Scaler': 'log', 'booster': 'gbtree', 'lambda': 0.34762030145632494, 'alpha': 0.03831658067517448, 'max_depth': 3, 'eta': 0.29352436808415217, 'gamma': 6.222230482918475e-08, 'grow_policy': 'depthwise'}. Best is trial#563 with value: 3.1249267571970165.\n"
          ],
          "name": "stderr"
        },
        {
          "output_type": "stream",
          "text": [
            "[0]\tvalidation-rmse:5.03065\n",
            "[1]\tvalidation-rmse:4.62013\n",
            "[2]\tvalidation-rmse:4.62325\n",
            "[3]\tvalidation-rmse:4.53983\n",
            "[4]\tvalidation-rmse:4.35595\n",
            "[5]\tvalidation-rmse:4.33602\n",
            "[6]\tvalidation-rmse:4.44879\n",
            "[7]\tvalidation-rmse:4.12544\n",
            "[8]\tvalidation-rmse:4.17171\n",
            "[9]\tvalidation-rmse:4.24084\n"
          ],
          "name": "stdout"
        },
        {
          "output_type": "stream",
          "text": [
            "[I 2020-07-08 14:03:38,971] Finished trial#592 with value: 3.2560402011191374 with parameters: {'combos': 1, 'ada_Scaler': 'log', 'ada_ne': 221, 'ada_lr': 0.5964202880747291, 'et_Scaler': 'stand', 'et_max_depth': 11, 'et_ne': 673, 'xgb_Scaler': 'log', 'booster': 'gbtree', 'lambda': 0.17132591062419167, 'alpha': 0.0010540448048228291, 'max_depth': 3, 'eta': 0.9750351976353774, 'gamma': 1.4105727447768376e-07, 'grow_policy': 'depthwise'}. Best is trial#563 with value: 3.1249267571970165.\n"
          ],
          "name": "stderr"
        },
        {
          "output_type": "stream",
          "text": [
            "[0]\tvalidation-rmse:13.6027\n",
            "[1]\tvalidation-rmse:8.1209\n",
            "[2]\tvalidation-rmse:5.55428\n",
            "[3]\tvalidation-rmse:4.37425\n",
            "[4]\tvalidation-rmse:4.06962\n",
            "[5]\tvalidation-rmse:3.9882\n",
            "[6]\tvalidation-rmse:3.95222\n",
            "[7]\tvalidation-rmse:3.91905\n",
            "[8]\tvalidation-rmse:3.94339\n",
            "[9]\tvalidation-rmse:3.88934\n"
          ],
          "name": "stdout"
        },
        {
          "output_type": "stream",
          "text": [
            "[I 2020-07-08 14:03:40,299] Finished trial#593 with value: 3.2661579194975934 with parameters: {'combos': 1, 'ada_Scaler': 'log', 'ada_ne': 140, 'ada_lr': 0.6302469878734921, 'et_Scaler': 'stand', 'et_max_depth': 9, 'et_ne': 623, 'xgb_Scaler': 'log', 'booster': 'gbtree', 'lambda': 0.0312637215882157, 'alpha': 0.015076415523018038, 'max_depth': 3, 'eta': 0.45047086759132815, 'gamma': 1.4516189840872925e-08, 'grow_policy': 'depthwise'}. Best is trial#563 with value: 3.1249267571970165.\n",
            "[I 2020-07-08 14:03:41,549] Setting status of trial#594 as TrialState.PRUNED. Trial was pruned at iteration 11.\n"
          ],
          "name": "stderr"
        },
        {
          "output_type": "stream",
          "text": [
            "[0]\tvalidation-rmse:5.29857\n",
            "[1]\tvalidation-rmse:4.98838\n",
            "[2]\tvalidation-rmse:4.92147\n",
            "[3]\tvalidation-rmse:4.94065\n",
            "[4]\tvalidation-rmse:4.96952\n",
            "[5]\tvalidation-rmse:4.84969\n",
            "[6]\tvalidation-rmse:4.74055\n",
            "[7]\tvalidation-rmse:4.79108\n",
            "[8]\tvalidation-rmse:4.82406\n",
            "[9]\tvalidation-rmse:4.80576\n"
          ],
          "name": "stdout"
        },
        {
          "output_type": "stream",
          "text": [
            "[I 2020-07-08 14:03:43,039] Finished trial#595 with value: 3.4235013360173068 with parameters: {'combos': 1, 'ada_Scaler': 'log', 'ada_ne': 156, 'ada_lr': 0.6190776074018878, 'et_Scaler': 'stand', 'et_max_depth': 9, 'et_ne': 652, 'xgb_Scaler': 'log', 'booster': 'gbtree', 'lambda': 0.09754657888706972, 'alpha': 0.0063856792716769795, 'max_depth': 3, 'eta': 0.9877255663491282, 'gamma': 2.7673213315442964e-07, 'grow_policy': 'depthwise'}. Best is trial#563 with value: 3.1249267571970165.\n"
          ],
          "name": "stderr"
        },
        {
          "output_type": "stream",
          "text": [
            "[0]\tvalidation-rmse:19.515\n",
            "[1]\tvalidation-rmse:15.9357\n",
            "[2]\tvalidation-rmse:13.0575\n",
            "[3]\tvalidation-rmse:10.7272\n",
            "[4]\tvalidation-rmse:8.93123\n",
            "[5]\tvalidation-rmse:7.4881\n",
            "[6]\tvalidation-rmse:6.40292\n",
            "[7]\tvalidation-rmse:5.56272\n",
            "[8]\tvalidation-rmse:4.94755\n",
            "[9]\tvalidation-rmse:4.49082\n"
          ],
          "name": "stdout"
        },
        {
          "output_type": "stream",
          "text": [
            "[I 2020-07-08 14:03:44,494] Finished trial#596 with value: 3.4003495547902904 with parameters: {'combos': 1, 'ada_Scaler': 'log', 'ada_ne': 174, 'ada_lr': 0.4816132812431203, 'et_Scaler': 'stand', 'et_max_depth': 11, 'et_ne': 600, 'xgb_Scaler': 'log', 'booster': 'gbtree', 'lambda': 0.05060085617345132, 'alpha': 0.00417852720207844, 'max_depth': 4, 'eta': 0.1875815601781338, 'gamma': 2.1904919805601956e-08, 'grow_policy': 'depthwise'}. Best is trial#563 with value: 3.1249267571970165.\n"
          ],
          "name": "stderr"
        },
        {
          "output_type": "stream",
          "text": [
            "[0]\tvalidation-rmse:10.4486\n",
            "[1]\tvalidation-rmse:5.51847\n",
            "[2]\tvalidation-rmse:4.17322\n",
            "[3]\tvalidation-rmse:4.03387\n",
            "[4]\tvalidation-rmse:4.03279\n",
            "[5]\tvalidation-rmse:4.01326\n",
            "[6]\tvalidation-rmse:4.01003\n",
            "[7]\tvalidation-rmse:3.95344\n",
            "[8]\tvalidation-rmse:3.9092\n",
            "[9]\tvalidation-rmse:3.94713\n"
          ],
          "name": "stdout"
        },
        {
          "output_type": "stream",
          "text": [
            "[I 2020-07-08 14:03:45,870] Finished trial#597 with value: 3.3225727353376158 with parameters: {'combos': 1, 'ada_Scaler': 'log', 'ada_ne': 123, 'ada_lr': 0.5715018096392268, 'et_Scaler': 'stand', 'et_max_depth': 10, 'et_ne': 637, 'xgb_Scaler': 'log', 'booster': 'gbtree', 'lambda': 0.24481826172627238, 'alpha': 0.013779114679931983, 'max_depth': 3, 'eta': 0.6168367052895872, 'gamma': 4.4639525542066655e-08, 'grow_policy': 'depthwise'}. Best is trial#563 with value: 3.1249267571970165.\n"
          ],
          "name": "stderr"
        },
        {
          "output_type": "stream",
          "text": [
            "[0]\tvalidation-rmse:16.1757\n",
            "[1]\tvalidation-rmse:11.1406\n",
            "[2]\tvalidation-rmse:7.96196\n",
            "[3]\tvalidation-rmse:5.98623\n",
            "[4]\tvalidation-rmse:4.76682\n",
            "[5]\tvalidation-rmse:4.17487\n",
            "[6]\tvalidation-rmse:3.93829\n",
            "[7]\tvalidation-rmse:3.72965\n",
            "[8]\tvalidation-rmse:3.66169\n",
            "[9]\tvalidation-rmse:3.64395\n"
          ],
          "name": "stdout"
        },
        {
          "output_type": "stream",
          "text": [
            "[I 2020-07-08 14:03:47,298] Finished trial#598 with value: 3.2776419046094887 with parameters: {'combos': 1, 'ada_Scaler': 'log', 'ada_ne': 196, 'ada_lr': 0.5473676877187295, 'et_Scaler': 'stand', 'et_max_depth': 9, 'et_ne': 615, 'xgb_Scaler': 'log', 'booster': 'gbtree', 'lambda': 0.01702221204730531, 'alpha': 0.002170253468860539, 'max_depth': 3, 'eta': 0.3349355218226282, 'gamma': 9.507892959976796e-08, 'grow_policy': 'depthwise'}. Best is trial#563 with value: 3.1249267571970165.\n"
          ],
          "name": "stderr"
        },
        {
          "output_type": "stream",
          "text": [
            "[0]\tvalidation-rmse:11.0808\n",
            "[1]\tvalidation-rmse:5.83633\n",
            "[2]\tvalidation-rmse:4.04983\n",
            "[3]\tvalidation-rmse:3.72033\n",
            "[4]\tvalidation-rmse:3.6847\n",
            "[5]\tvalidation-rmse:3.5716\n",
            "[6]\tvalidation-rmse:3.78745\n",
            "[7]\tvalidation-rmse:3.85619\n",
            "[8]\tvalidation-rmse:3.83528\n",
            "[9]\tvalidation-rmse:3.7708\n"
          ],
          "name": "stdout"
        },
        {
          "output_type": "stream",
          "text": [
            "[I 2020-07-08 14:03:48,675] Finished trial#599 with value: 3.2593687000549054 with parameters: {'combos': 1, 'ada_Scaler': 'log', 'ada_ne': 225, 'ada_lr': 0.6230955754623051, 'et_Scaler': 'stand', 'et_max_depth': 8, 'et_ne': 596, 'xgb_Scaler': 'log', 'booster': 'gbtree', 'lambda': 0.07411591381584486, 'alpha': 0.022944492194814287, 'max_depth': 3, 'eta': 0.5648681086029183, 'gamma': 3.30634156982626e-08, 'grow_policy': 'depthwise'}. Best is trial#563 with value: 3.1249267571970165.\n"
          ],
          "name": "stderr"
        },
        {
          "output_type": "stream",
          "text": [
            "[0]\tvalidation-rmse:15.2904\n",
            "[1]\tvalidation-rmse:10.0434\n",
            "[2]\tvalidation-rmse:6.95357\n",
            "[3]\tvalidation-rmse:5.21913\n",
            "[4]\tvalidation-rmse:4.2701\n",
            "[5]\tvalidation-rmse:3.90994\n",
            "[6]\tvalidation-rmse:3.79417\n",
            "[7]\tvalidation-rmse:3.78028\n",
            "[8]\tvalidation-rmse:3.76447\n",
            "[9]\tvalidation-rmse:3.74835\n"
          ],
          "name": "stdout"
        },
        {
          "output_type": "stream",
          "text": [
            "[I 2020-07-08 14:03:50,043] Finished trial#600 with value: 3.2910545988582967 with parameters: {'combos': 1, 'ada_Scaler': 'log', 'ada_ne': 162, 'ada_lr': 0.6028055795131545, 'et_Scaler': 'stand', 'et_max_depth': 11, 'et_ne': 561, 'xgb_Scaler': 'log', 'booster': 'gbtree', 'lambda': 0.025760927192507263, 'alpha': 0.008433645019105873, 'max_depth': 3, 'eta': 0.37431576233109015, 'gamma': 7.565487227569486e-08, 'grow_policy': 'depthwise'}. Best is trial#563 with value: 3.1249267571970165.\n"
          ],
          "name": "stderr"
        },
        {
          "output_type": "stream",
          "text": [
            "[0]\tvalidation-rmse:8.0264\n",
            "[1]\tvalidation-rmse:4.70772\n",
            "[2]\tvalidation-rmse:4.14027\n",
            "[3]\tvalidation-rmse:4.07329\n",
            "[4]\tvalidation-rmse:4.07562\n",
            "[5]\tvalidation-rmse:3.95998\n",
            "[6]\tvalidation-rmse:3.93309\n",
            "[7]\tvalidation-rmse:3.89025\n",
            "[8]\tvalidation-rmse:3.84417\n",
            "[9]\tvalidation-rmse:3.86401\n"
          ],
          "name": "stdout"
        },
        {
          "output_type": "stream",
          "text": [
            "[I 2020-07-08 14:03:51,484] Finished trial#601 with value: 3.2466727829102426 with parameters: {'combos': 1, 'ada_Scaler': 'log', 'ada_ne': 139, 'ada_lr': 0.5742927451137709, 'et_Scaler': 'stand', 'et_max_depth': 10, 'et_ne': 657, 'xgb_Scaler': 'log', 'booster': 'gbtree', 'lambda': 0.13177654503507263, 'alpha': 0.005415875923795591, 'max_depth': 3, 'eta': 0.7249137354243322, 'gamma': 1.0363954734975597e-08, 'grow_policy': 'depthwise'}. Best is trial#563 with value: 3.1249267571970165.\n"
          ],
          "name": "stderr"
        },
        {
          "output_type": "stream",
          "text": [
            "[0]\tvalidation-rmse:17.9619\n",
            "[1]\tvalidation-rmse:13.5922\n",
            "[2]\tvalidation-rmse:10.5912\n",
            "[3]\tvalidation-rmse:8.33768\n",
            "[4]\tvalidation-rmse:6.98594\n",
            "[5]\tvalidation-rmse:5.71448\n",
            "[6]\tvalidation-rmse:4.86976\n",
            "[7]\tvalidation-rmse:4.33364\n",
            "[8]\tvalidation-rmse:3.97879\n",
            "[9]\tvalidation-rmse:3.75341\n"
          ],
          "name": "stdout"
        },
        {
          "output_type": "stream",
          "text": [
            "[I 2020-07-08 14:03:52,880] Finished trial#602 with value: 3.988720841366339 with parameters: {'combos': 6, 'et_Scaler': 'stand', 'et_max_depth': 9, 'et_ne': 626, 'rf_Scaler': 'stand', 'rf_max_depth': 1, 'rf_ne': 252, 'xgb_Scaler': 'log', 'booster': 'gbtree', 'lambda': 0.044645235586691694, 'alpha': 0.012056426418823703, 'max_depth': 2, 'eta': 0.27057325036039004, 'gamma': 1.882171118296288e-08, 'grow_policy': 'depthwise'}. Best is trial#563 with value: 3.1249267571970165.\n"
          ],
          "name": "stderr"
        },
        {
          "output_type": "stream",
          "text": [
            "[0]\tvalidation-rmse:5.32793\n",
            "[1]\tvalidation-rmse:5.02808\n",
            "[2]\tvalidation-rmse:5.1315\n",
            "[3]\tvalidation-rmse:5.15103\n",
            "[4]\tvalidation-rmse:5.03202\n",
            "[5]\tvalidation-rmse:4.94161\n",
            "[6]\tvalidation-rmse:4.91018\n",
            "[7]\tvalidation-rmse:4.99351\n",
            "[8]\tvalidation-rmse:4.9249\n",
            "[9]\tvalidation-rmse:4.7305\n"
          ],
          "name": "stdout"
        },
        {
          "output_type": "stream",
          "text": [
            "[I 2020-07-08 14:03:54,159] Finished trial#603 with value: 3.4747921605062677 with parameters: {'combos': 1, 'ada_Scaler': 'log', 'ada_ne': 186, 'ada_lr': 0.6357428184210087, 'et_Scaler': 'stand', 'et_max_depth': 8, 'et_ne': 580, 'xgb_Scaler': 'log', 'booster': 'gbtree', 'lambda': 0.07039256101585843, 'alpha': 0.0193075444834154, 'max_depth': 3, 'eta': 0.976389918148171, 'gamma': 4.8684288557279096e-08, 'grow_policy': 'depthwise'}. Best is trial#563 with value: 3.1249267571970165.\n"
          ],
          "name": "stderr"
        },
        {
          "output_type": "stream",
          "text": [
            "[0]\tvalidation-rmse:12.9933\n",
            "[1]\tvalidation-rmse:7.57096\n",
            "[2]\tvalidation-rmse:5.28298\n",
            "[3]\tvalidation-rmse:4.359\n",
            "[4]\tvalidation-rmse:4.04211\n",
            "[5]\tvalidation-rmse:3.94848\n",
            "[6]\tvalidation-rmse:3.86459\n",
            "[7]\tvalidation-rmse:3.92263\n",
            "[8]\tvalidation-rmse:3.82567\n",
            "[9]\tvalidation-rmse:3.77987\n"
          ],
          "name": "stdout"
        },
        {
          "output_type": "stream",
          "text": [
            "[I 2020-07-08 14:03:54,881] Finished trial#604 with value: 3.5981003107265273 with parameters: {'combos': 3, 'ada_Scaler': 'log', 'ada_ne': 119, 'ada_lr': 0.5125651663758382, 'rf_Scaler': 'minmax', 'rf_max_depth': 3, 'rf_ne': 144, 'xgb_Scaler': 'log', 'booster': 'gbtree', 'lambda': 0.10760447509762192, 'alpha': 0.0003660204055335811, 'max_depth': 3, 'eta': 0.4795303648928078, 'gamma': 1.2737769172999765e-07, 'grow_policy': 'depthwise'}. Best is trial#563 with value: 3.1249267571970165.\n"
          ],
          "name": "stderr"
        },
        {
          "output_type": "stream",
          "text": [
            "[0]\tvalidation-rmse:8.64657\n",
            "[1]\tvalidation-rmse:4.8621\n",
            "[2]\tvalidation-rmse:4.09112\n",
            "[3]\tvalidation-rmse:4.07754\n",
            "[4]\tvalidation-rmse:4.0707\n",
            "[5]\tvalidation-rmse:4.03976\n",
            "[6]\tvalidation-rmse:4.04592\n",
            "[7]\tvalidation-rmse:3.97653\n",
            "[8]\tvalidation-rmse:4.0609\n",
            "[9]\tvalidation-rmse:4.12563\n"
          ],
          "name": "stdout"
        },
        {
          "output_type": "stream",
          "text": [
            "[I 2020-07-08 14:03:56,389] Finished trial#605 with value: 3.336704395417286 with parameters: {'combos': 1, 'ada_Scaler': 'log', 'ada_ne': 206, 'ada_lr': 0.5510892482865436, 'et_Scaler': 'minmax', 'et_max_depth': 10, 'et_ne': 606, 'xgb_Scaler': 'log', 'booster': 'gbtree', 'lambda': 0.030828839399495794, 'alpha': 0.0292365855092992, 'max_depth': 4, 'eta': 0.6741831705346057, 'gamma': 2.823956035665598e-08, 'grow_policy': 'lossguide'}. Best is trial#563 with value: 3.1249267571970165.\n"
          ],
          "name": "stderr"
        },
        {
          "output_type": "stream",
          "text": [
            "[0]\tvalidation-rmse:5.40529\n",
            "[1]\tvalidation-rmse:5.13994\n",
            "[2]\tvalidation-rmse:5.073\n",
            "[3]\tvalidation-rmse:5.08737\n",
            "[4]\tvalidation-rmse:5.12127\n",
            "[5]\tvalidation-rmse:5.1207\n",
            "[6]\tvalidation-rmse:4.90733\n",
            "[7]\tvalidation-rmse:5.00447\n",
            "[8]\tvalidation-rmse:4.83963\n",
            "[9]\tvalidation-rmse:4.85041\n"
          ],
          "name": "stdout"
        },
        {
          "output_type": "stream",
          "text": [
            "[I 2020-07-08 14:03:57,791] Finished trial#606 with value: 3.3799013507218443 with parameters: {'combos': 1, 'ada_Scaler': 'log', 'ada_ne': 162, 'ada_lr': 0.6011367874281887, 'et_Scaler': 'stand', 'et_max_depth': 9, 'et_ne': 643, 'xgb_Scaler': 'log', 'booster': 'gbtree', 'lambda': 0.052098741607475185, 'alpha': 0.00798581972308351, 'max_depth': 3, 'eta': 0.9953742886486622, 'gamma': 2.3140455001761366e-07, 'grow_policy': 'depthwise'}. Best is trial#563 with value: 3.1249267571970165.\n"
          ],
          "name": "stderr"
        },
        {
          "output_type": "stream",
          "text": [
            "[0]\tvalidation-rmse:20.9915\n",
            "[1]\tvalidation-rmse:18.4203\n",
            "[2]\tvalidation-rmse:16.175\n",
            "[3]\tvalidation-rmse:14.279\n",
            "[4]\tvalidation-rmse:12.597\n",
            "[5]\tvalidation-rmse:11.2506\n",
            "[6]\tvalidation-rmse:10.0168\n",
            "[7]\tvalidation-rmse:8.95954\n",
            "[8]\tvalidation-rmse:8.12881\n",
            "[9]\tvalidation-rmse:7.38389\n"
          ],
          "name": "stdout"
        },
        {
          "output_type": "stream",
          "text": [
            "[I 2020-07-08 14:03:59,270] Finished trial#607 with value: 3.867735475753799 with parameters: {'combos': 1, 'ada_Scaler': 'log', 'ada_ne': 29, 'ada_lr': 0.6418295477067131, 'et_Scaler': 'stand', 'et_max_depth': 14, 'et_ne': 676, 'xgb_Scaler': 'log', 'booster': 'gbtree', 'lambda': 0.18560270659067674, 'alpha': 0.003919895833599091, 'max_depth': 2, 'eta': 0.13384338523995604, 'gamma': 5.6702023527955085e-08, 'grow_policy': 'depthwise'}. Best is trial#563 with value: 3.1249267571970165.\n",
            "[I 2020-07-08 14:04:00,590] Setting status of trial#608 as TrialState.PRUNED. Trial was pruned at iteration 11.\n"
          ],
          "name": "stderr"
        },
        {
          "output_type": "stream",
          "text": [
            "[0]\tvalidation-rmse:19.0795\n",
            "[1]\tvalidation-rmse:15.2082\n",
            "[2]\tvalidation-rmse:12.2353\n",
            "[3]\tvalidation-rmse:9.98646\n",
            "[4]\tvalidation-rmse:8.21763\n",
            "[5]\tvalidation-rmse:6.77341\n",
            "[6]\tvalidation-rmse:5.81279\n",
            "[7]\tvalidation-rmse:5.07063\n",
            "[8]\tvalidation-rmse:4.58073\n",
            "[9]\tvalidation-rmse:4.25092\n"
          ],
          "name": "stdout"
        },
        {
          "output_type": "stream",
          "text": [
            "[I 2020-07-08 14:04:02,164] Finished trial#609 with value: 3.39214800477143 with parameters: {'combos': 1, 'ada_Scaler': 'log', 'ada_ne': 146, 'ada_lr': 0.5864931554310993, 'et_Scaler': 'stand', 'et_max_depth': 11, 'et_ne': 599, 'xgb_Scaler': 'log', 'booster': 'gbtree', 'lambda': 0.01356547838055949, 'alpha': 0.012507141477589342, 'max_depth': 3, 'eta': 0.20853586775865393, 'gamma': 1.5183754620673073e-08, 'grow_policy': 'depthwise'}. Best is trial#563 with value: 3.1249267571970165.\n"
          ],
          "name": "stderr"
        },
        {
          "output_type": "stream",
          "text": [
            "[0]\tvalidation-rmse:14.8283\n",
            "[1]\tvalidation-rmse:9.47175\n",
            "[2]\tvalidation-rmse:6.48646\n",
            "[3]\tvalidation-rmse:5.01514\n",
            "[4]\tvalidation-rmse:4.3224\n",
            "[5]\tvalidation-rmse:4.12282\n",
            "[6]\tvalidation-rmse:4.04445\n",
            "[7]\tvalidation-rmse:3.98628\n",
            "[8]\tvalidation-rmse:3.96987\n",
            "[9]\tvalidation-rmse:3.95953\n"
          ],
          "name": "stdout"
        },
        {
          "output_type": "stream",
          "text": [
            "[I 2020-07-08 14:04:03,680] Finished trial#610 with value: 3.356484746419641 with parameters: {'combos': 1, 'ada_Scaler': 'log', 'ada_ne': 228, 'ada_lr': 0.6239546138231391, 'et_Scaler': 'stand', 'et_max_depth': 9, 'et_ne': 641, 'xgb_Scaler': 'log', 'booster': 'gbtree', 'lambda': 0.08340786389480478, 'alpha': 0.0015204368061374459, 'max_depth': 3, 'eta': 0.3947071299490973, 'gamma': 2.4468468991840265e-08, 'grow_policy': 'depthwise'}. Best is trial#563 with value: 3.1249267571970165.\n"
          ],
          "name": "stderr"
        },
        {
          "output_type": "stream",
          "text": [
            "[0]\tvalidation-rmse:11.6302\n",
            "[1]\tvalidation-rmse:6.38623\n",
            "[2]\tvalidation-rmse:4.38628\n",
            "[3]\tvalidation-rmse:3.8038\n",
            "[4]\tvalidation-rmse:3.78167\n",
            "[5]\tvalidation-rmse:3.82431\n",
            "[6]\tvalidation-rmse:3.92584\n",
            "[7]\tvalidation-rmse:3.99524\n",
            "[8]\tvalidation-rmse:3.98583\n",
            "[9]\tvalidation-rmse:3.9998\n"
          ],
          "name": "stdout"
        },
        {
          "output_type": "stream",
          "text": [
            "[I 2020-07-08 14:04:04,999] Finished trial#611 with value: 3.308275875256995 with parameters: {'combos': 1, 'ada_Scaler': 'log', 'ada_ne': 205, 'ada_lr': 0.5582358151405379, 'et_Scaler': 'stand', 'et_max_depth': 8, 'et_ne': 558, 'xgb_Scaler': 'log', 'booster': 'gbtree', 'lambda': 0.02053608183430544, 'alpha': 0.0063795737612409075, 'max_depth': 3, 'eta': 0.5424016420182433, 'gamma': 3.8896726986562494e-08, 'grow_policy': 'depthwise'}. Best is trial#563 with value: 3.1249267571970165.\n"
          ],
          "name": "stderr"
        },
        {
          "output_type": "stream",
          "text": [
            "[0]\tvalidation-rmse:16.8457\n",
            "[1]\tvalidation-rmse:12.0828\n",
            "[2]\tvalidation-rmse:8.85465\n",
            "[3]\tvalidation-rmse:6.77245\n",
            "[4]\tvalidation-rmse:5.63798\n",
            "[5]\tvalidation-rmse:4.84757\n",
            "[6]\tvalidation-rmse:4.41739\n",
            "[7]\tvalidation-rmse:4.2421\n",
            "[8]\tvalidation-rmse:4.141\n",
            "[9]\tvalidation-rmse:4.09763\n"
          ],
          "name": "stdout"
        },
        {
          "output_type": "stream",
          "text": [
            "[I 2020-07-08 14:04:06,441] Finished trial#612 with value: 3.4789506672566226 with parameters: {'combos': 1, 'ada_Scaler': 'log', 'ada_ne': 167, 'ada_lr': 0.6422229200644127, 'et_Scaler': 'stand', 'et_max_depth': 9, 'et_ne': 660, 'xgb_Scaler': 'log', 'booster': 'gbtree', 'lambda': 0.03926754940151626, 'alpha': 0.017099233088790137, 'max_depth': 3, 'eta': 0.3052623055771369, 'gamma': 5.090785957588413e-05, 'grow_policy': 'depthwise'}. Best is trial#563 with value: 3.1249267571970165.\n"
          ],
          "name": "stderr"
        },
        {
          "output_type": "stream",
          "text": [
            "[0]\tvalidation-rmse:8.05185\n",
            "[1]\tvalidation-rmse:4.70954\n",
            "[2]\tvalidation-rmse:4.05928\n",
            "[3]\tvalidation-rmse:3.95927\n",
            "[4]\tvalidation-rmse:3.95275\n",
            "[5]\tvalidation-rmse:3.88497\n",
            "[6]\tvalidation-rmse:3.85198\n",
            "[7]\tvalidation-rmse:3.78401\n",
            "[8]\tvalidation-rmse:3.65856\n",
            "[9]\tvalidation-rmse:3.70317\n"
          ],
          "name": "stdout"
        },
        {
          "output_type": "stream",
          "text": [
            "[I 2020-07-08 14:04:07,543] Finished trial#613 with value: 3.2294958565458467 with parameters: {'combos': 1, 'ada_Scaler': 'log', 'ada_ne': 104, 'ada_lr': 0.49922032510121317, 'et_Scaler': 'stand', 'et_max_depth': 7, 'et_ne': 580, 'xgb_Scaler': 'log', 'booster': 'gbtree', 'lambda': 0.13330887548843895, 'alpha': 0.002715381726444335, 'max_depth': 3, 'eta': 0.7235100128300129, 'gamma': 7.363756263614766e-08, 'grow_policy': 'depthwise'}. Best is trial#563 with value: 3.1249267571970165.\n"
          ],
          "name": "stderr"
        },
        {
          "output_type": "stream",
          "text": [
            "[0]\tvalidation-rmse:13.9473\n",
            "[1]\tvalidation-rmse:8.48067\n",
            "[2]\tvalidation-rmse:5.61631\n",
            "[3]\tvalidation-rmse:4.38426\n",
            "[4]\tvalidation-rmse:3.92424\n",
            "[5]\tvalidation-rmse:3.8103\n",
            "[6]\tvalidation-rmse:3.77292\n",
            "[7]\tvalidation-rmse:3.74067\n",
            "[8]\tvalidation-rmse:3.76994\n",
            "[9]\tvalidation-rmse:3.8437\n"
          ],
          "name": "stdout"
        },
        {
          "output_type": "stream",
          "text": [
            "[I 2020-07-08 14:04:08,907] Finished trial#614 with value: 3.295544915904969 with parameters: {'combos': 1, 'ada_Scaler': 'log', 'ada_ne': 129, 'ada_lr': 0.24230772208949586, 'et_Scaler': 'stand', 'et_max_depth': 10, 'et_ne': 620, 'xgb_Scaler': 'log', 'booster': 'gbtree', 'lambda': 0.060064583105332636, 'alpha': 0.010190403714049381, 'max_depth': 3, 'eta': 0.43335699834757635, 'gamma': 3.55645167641388e-07, 'grow_policy': 'depthwise'}. Best is trial#563 with value: 3.1249267571970165.\n"
          ],
          "name": "stderr"
        },
        {
          "output_type": "stream",
          "text": [
            "[0]\tvalidation-rmse:6.23244\n",
            "[1]\tvalidation-rmse:5.28069\n",
            "[2]\tvalidation-rmse:5.21616\n",
            "[3]\tvalidation-rmse:5.21495\n",
            "[4]\tvalidation-rmse:5.2434\n",
            "[5]\tvalidation-rmse:5.17171\n",
            "[6]\tvalidation-rmse:5.17012\n",
            "[7]\tvalidation-rmse:5.32474\n",
            "[8]\tvalidation-rmse:5.30138\n",
            "[9]\tvalidation-rmse:5.23733\n"
          ],
          "name": "stdout"
        },
        {
          "output_type": "stream",
          "text": [
            "[I 2020-07-08 14:04:10,390] Finished trial#615 with value: 3.511373972559364 with parameters: {'combos': 1, 'ada_Scaler': 'log', 'ada_ne': 185, 'ada_lr': 0.5999968658277886, 'et_Scaler': 'stand', 'et_max_depth': 11, 'et_ne': 603, 'xgb_Scaler': 'log', 'booster': 'gbtree', 'lambda': 0.026623433156527924, 'alpha': 0.03906765822878173, 'max_depth': 3, 'eta': 0.9966306983286011, 'gamma': 1.272230583250288e-07, 'grow_policy': 'depthwise'}. Best is trial#563 with value: 3.1249267571970165.\n"
          ],
          "name": "stderr"
        },
        {
          "output_type": "stream",
          "text": [
            "[0]\tvalidation-rmse:23.9802\n",
            "[1]\tvalidation-rmse:23.9798\n",
            "[2]\tvalidation-rmse:23.9793\n",
            "[3]\tvalidation-rmse:23.9788\n",
            "[4]\tvalidation-rmse:23.9783\n",
            "[5]\tvalidation-rmse:23.9779\n",
            "[6]\tvalidation-rmse:23.9774\n",
            "[7]\tvalidation-rmse:23.9769\n",
            "[8]\tvalidation-rmse:23.9764\n",
            "[9]\tvalidation-rmse:23.976\n"
          ],
          "name": "stdout"
        },
        {
          "output_type": "stream",
          "text": [
            "[I 2020-07-08 14:04:11,548] Finished trial#616 with value: 8.436210921972746 with parameters: {'combos': 1, 'ada_Scaler': 'log', 'ada_ne': 60, 'ada_lr': 0.6481754816857104, 'et_Scaler': 'stand', 'et_max_depth': 8, 'et_ne': 632, 'xgb_Scaler': 'log', 'booster': 'gbtree', 'lambda': 0.2550089099556838, 'alpha': 0.004968588811298092, 'max_depth': 3, 'eta': 2.099425103718993e-05, 'gamma': 2.075626950934013e-08, 'grow_policy': 'depthwise'}. Best is trial#563 with value: 3.1249267571970165.\n",
            "[I 2020-07-08 14:04:12,821] Setting status of trial#617 as TrialState.PRUNED. Trial was pruned at iteration 11.\n"
          ],
          "name": "stderr"
        },
        {
          "output_type": "stream",
          "text": [
            "[0]\tvalidation-rmse:10.4692\n",
            "[1]\tvalidation-rmse:5.50998\n",
            "[2]\tvalidation-rmse:4.06173\n",
            "[3]\tvalidation-rmse:3.80818\n",
            "[4]\tvalidation-rmse:3.82098\n",
            "[5]\tvalidation-rmse:3.88457\n",
            "[6]\tvalidation-rmse:3.87134\n",
            "[7]\tvalidation-rmse:3.87024\n",
            "[8]\tvalidation-rmse:3.87091\n",
            "[9]\tvalidation-rmse:3.86203\n"
          ],
          "name": "stdout"
        },
        {
          "output_type": "stream",
          "text": [
            "[I 2020-07-08 14:04:14,369] Finished trial#618 with value: 3.2755225884768544 with parameters: {'combos': 1, 'ada_Scaler': 'log', 'ada_ne': 209, 'ada_lr': 0.5179333518223798, 'et_Scaler': 'stand', 'et_max_depth': 10, 'et_ne': 585, 'xgb_Scaler': 'log', 'booster': 'gbtree', 'lambda': 0.09428475175263619, 'alpha': 0.021694295093693496, 'max_depth': 4, 'eta': 0.582816670592415, 'gamma': 1.0121060846328308e-08, 'grow_policy': 'depthwise'}. Best is trial#563 with value: 3.1249267571970165.\n"
          ],
          "name": "stderr"
        },
        {
          "output_type": "stream",
          "text": [
            "[0]\tvalidation-rmse:16.6007\n",
            "[1]\tvalidation-rmse:11.7509\n",
            "[2]\tvalidation-rmse:8.79307\n",
            "[3]\tvalidation-rmse:6.84566\n",
            "[4]\tvalidation-rmse:5.41762\n",
            "[5]\tvalidation-rmse:4.69289\n",
            "[6]\tvalidation-rmse:4.41455\n",
            "[7]\tvalidation-rmse:4.32514\n",
            "[8]\tvalidation-rmse:4.20232\n",
            "[9]\tvalidation-rmse:4.02953\n"
          ],
          "name": "stdout"
        },
        {
          "output_type": "stream",
          "text": [
            "[I 2020-07-08 14:04:15,894] Finished trial#619 with value: 3.3715541758157817 with parameters: {'combos': 1, 'ada_Scaler': 'log', 'ada_ne': 180, 'ada_lr': 0.6058158496270578, 'et_Scaler': 'stand', 'et_max_depth': 12, 'et_ne': 618, 'xgb_Scaler': 'log', 'booster': 'gbtree', 'lambda': 0.040807670290158644, 'alpha': 0.008499468656440627, 'max_depth': 2, 'eta': 0.3329797097893098, 'gamma': 1.946350262626114e-07, 'grow_policy': 'depthwise'}. Best is trial#563 with value: 3.1249267571970165.\n"
          ],
          "name": "stderr"
        },
        {
          "output_type": "stream",
          "text": [
            "[0]\tvalidation-rmse:19.3456\n",
            "[1]\tvalidation-rmse:15.6911\n",
            "[2]\tvalidation-rmse:12.9981\n",
            "[3]\tvalidation-rmse:10.815\n",
            "[4]\tvalidation-rmse:9.04375\n",
            "[5]\tvalidation-rmse:7.88917\n",
            "[6]\tvalidation-rmse:6.99556\n",
            "[7]\tvalidation-rmse:6.41578\n",
            "[8]\tvalidation-rmse:5.95432\n",
            "[9]\tvalidation-rmse:5.61664\n"
          ],
          "name": "stdout"
        },
        {
          "output_type": "stream",
          "text": [
            "[I 2020-07-08 14:04:17,185] Finished trial#620 with value: 3.733272367183614 with parameters: {'combos': 1, 'ada_Scaler': 'log', 'ada_ne': 87, 'ada_lr': 0.451462166208495, 'et_Scaler': 'stand', 'et_max_depth': 9, 'et_ne': 675, 'xgb_Scaler': 'log', 'booster': 'gbtree', 'lambda': 0.061837224598374596, 'alpha': 0.057082391304503384, 'max_depth': 1, 'eta': 0.21570137878068396, 'gamma': 3.154730574247396e-08, 'grow_policy': 'depthwise'}. Best is trial#563 with value: 3.1249267571970165.\n"
          ],
          "name": "stderr"
        },
        {
          "output_type": "stream",
          "text": [
            "[0]\tvalidation-rmse:7.90146\n",
            "[1]\tvalidation-rmse:4.77791\n",
            "[2]\tvalidation-rmse:4.22776\n",
            "[3]\tvalidation-rmse:4.12899\n",
            "[4]\tvalidation-rmse:4.15025\n",
            "[5]\tvalidation-rmse:4.01813\n",
            "[6]\tvalidation-rmse:4.02249\n",
            "[7]\tvalidation-rmse:3.98416\n",
            "[8]\tvalidation-rmse:3.79898\n",
            "[9]\tvalidation-rmse:3.8091\n"
          ],
          "name": "stdout"
        },
        {
          "output_type": "stream",
          "text": [
            "[I 2020-07-08 14:04:18,504] Finished trial#621 with value: 3.3690281869082446 with parameters: {'combos': 1, 'ada_Scaler': 'log', 'ada_ne': 139, 'ada_lr': 0.6468109913666268, 'et_Scaler': 'stand', 'et_max_depth': 9, 'et_ne': 634, 'xgb_Scaler': 'log', 'booster': 'gbtree', 'lambda': 0.6026306731966834, 'alpha': 0.015317095105122087, 'max_depth': 3, 'eta': 0.7551291237606252, 'gamma': 4.603330592409358e-08, 'grow_policy': 'depthwise'}. Best is trial#563 with value: 3.1249267571970165.\n"
          ],
          "name": "stderr"
        },
        {
          "output_type": "stream",
          "text": [
            "[0]\tvalidation-rmse:13.5472\n",
            "[1]\tvalidation-rmse:8.12073\n",
            "[2]\tvalidation-rmse:5.54718\n",
            "[3]\tvalidation-rmse:4.44221\n",
            "[4]\tvalidation-rmse:4.03376\n",
            "[5]\tvalidation-rmse:3.91797\n",
            "[6]\tvalidation-rmse:3.92895\n",
            "[7]\tvalidation-rmse:3.85299\n",
            "[8]\tvalidation-rmse:3.81876\n",
            "[9]\tvalidation-rmse:3.85041\n"
          ],
          "name": "stdout"
        },
        {
          "output_type": "stream",
          "text": [
            "[I 2020-07-08 14:04:19,818] Finished trial#622 with value: 3.4020728442746724 with parameters: {'combos': 1, 'ada_Scaler': 'log', 'ada_ne': 116, 'ada_lr': 0.5570721994450002, 'et_Scaler': 'stand', 'et_max_depth': 10, 'et_ne': 600, 'xgb_Scaler': 'log', 'booster': 'gbtree', 'lambda': 0.14321821539387034, 'alpha': 0.01062472986185901, 'max_depth': 3, 'eta': 0.455181537297372, 'gamma': 1.3699442125369703e-08, 'grow_policy': 'depthwise'}. Best is trial#563 with value: 3.1249267571970165.\n"
          ],
          "name": "stderr"
        },
        {
          "output_type": "stream",
          "text": [
            "[0]\tvalidation-rmse:11.0837\n",
            "[1]\tvalidation-rmse:6.02822\n",
            "[2]\tvalidation-rmse:4.10186\n",
            "[3]\tvalidation-rmse:3.87857\n",
            "[4]\tvalidation-rmse:3.92411\n",
            "[5]\tvalidation-rmse:3.95376\n",
            "[6]\tvalidation-rmse:3.95199\n",
            "[7]\tvalidation-rmse:3.94985\n",
            "[8]\tvalidation-rmse:3.8882\n",
            "[9]\tvalidation-rmse:4.21305\n"
          ],
          "name": "stdout"
        },
        {
          "output_type": "stream",
          "text": [
            "[I 2020-07-08 14:04:21,052] Finished trial#623 with value: 3.3836272084666383 with parameters: {'combos': 1, 'ada_Scaler': 'log', 'ada_ne': 165, 'ada_lr': 0.6156203639951282, 'et_Scaler': 'stand', 'et_max_depth': 8, 'et_ne': 567, 'xgb_Scaler': 'log', 'booster': 'gbtree', 'lambda': 0.017718761479157467, 'alpha': 0.003608711324936779, 'max_depth': 3, 'eta': 0.5688479446370686, 'gamma': 9.54240515803721e-08, 'grow_policy': 'depthwise'}. Best is trial#563 with value: 3.1249267571970165.\n"
          ],
          "name": "stderr"
        },
        {
          "output_type": "stream",
          "text": [
            "[0]\tvalidation-rmse:17.7325\n",
            "[1]\tvalidation-rmse:13.3027\n",
            "[2]\tvalidation-rmse:10.0683\n",
            "[3]\tvalidation-rmse:7.8114\n",
            "[4]\tvalidation-rmse:6.23321\n",
            "[5]\tvalidation-rmse:5.25461\n",
            "[6]\tvalidation-rmse:4.68431\n",
            "[7]\tvalidation-rmse:4.22286\n",
            "[8]\tvalidation-rmse:3.95659\n",
            "[9]\tvalidation-rmse:3.85432\n"
          ],
          "name": "stdout"
        },
        {
          "output_type": "stream",
          "text": [
            "[I 2020-07-08 14:04:22,634] Finished trial#624 with value: 3.3840781409403635 with parameters: {'combos': 1, 'ada_Scaler': 'log', 'ada_ne': 192, 'ada_lr': 0.06836993596969358, 'et_Scaler': 'stand', 'et_max_depth': 11, 'et_ne': 645, 'xgb_Scaler': 'log', 'booster': 'gbtree', 'lambda': 0.041272090548076366, 'alpha': 0.006727694868813314, 'max_depth': 3, 'eta': 0.26682745595563956, 'gamma': 2.6187515650657163e-08, 'grow_policy': 'depthwise'}. Best is trial#563 with value: 3.1249267571970165.\n"
          ],
          "name": "stderr"
        },
        {
          "output_type": "stream",
          "text": [
            "[0]\tvalidation-rmse:23.9754\n",
            "[1]\tvalidation-rmse:23.9701\n",
            "[2]\tvalidation-rmse:23.9648\n",
            "[3]\tvalidation-rmse:23.9595\n",
            "[4]\tvalidation-rmse:23.9542\n",
            "[5]\tvalidation-rmse:23.9489\n",
            "[6]\tvalidation-rmse:23.9436\n",
            "[7]\tvalidation-rmse:23.9383\n",
            "[8]\tvalidation-rmse:23.933\n",
            "[9]\tvalidation-rmse:23.9277\n"
          ],
          "name": "stdout"
        },
        {
          "output_type": "stream",
          "text": [
            "[I 2020-07-08 14:04:24,084] Finished trial#625 with value: 8.327002204769974 with parameters: {'combos': 1, 'ada_Scaler': 'log', 'ada_ne': 226, 'ada_lr': 0.5390074104498492, 'et_Scaler': 'stand', 'et_max_depth': 9, 'et_ne': 613, 'xgb_Scaler': 'log', 'booster': 'gbtree', 'lambda': 0.08785919704871309, 'alpha': 0.025887146206206496, 'max_depth': 3, 'eta': 0.00022513448151830216, 'gamma': 6.92098195767261e-08, 'grow_policy': 'depthwise'}. Best is trial#563 with value: 3.1249267571970165.\n",
            "[I 2020-07-08 14:04:25,252] Setting status of trial#626 as TrialState.PRUNED. Trial was pruned at iteration 11.\n"
          ],
          "name": "stderr"
        },
        {
          "output_type": "stream",
          "text": [
            "[0]\tvalidation-rmse:7.59053\n",
            "[1]\tvalidation-rmse:5.16075\n",
            "[2]\tvalidation-rmse:4.49315\n",
            "[3]\tvalidation-rmse:4.52381\n",
            "[4]\tvalidation-rmse:4.33368\n",
            "[5]\tvalidation-rmse:4.38021\n",
            "[6]\tvalidation-rmse:4.44425\n",
            "[7]\tvalidation-rmse:4.3663\n",
            "[8]\tvalidation-rmse:4.35653\n",
            "[9]\tvalidation-rmse:4.3515\n"
          ],
          "name": "stdout"
        },
        {
          "output_type": "stream",
          "text": [
            "[I 2020-07-08 14:04:26,459] Finished trial#627 with value: 3.4743732023541267 with parameters: {'combos': 1, 'ada_Scaler': 'log', 'ada_ne': 193, 'ada_lr': 0.657893226036993, 'et_Scaler': 'stand', 'et_max_depth': 3, 'et_ne': 618, 'xgb_Scaler': 'log', 'booster': 'gbtree', 'lambda': 0.028666884207174927, 'alpha': 0.013197227569911827, 'max_depth': 3, 'eta': 0.7624755823922402, 'gamma': 1.7215747257773744e-08, 'grow_policy': 'depthwise'}. Best is trial#563 with value: 3.1249267571970165.\n"
          ],
          "name": "stderr"
        },
        {
          "output_type": "stream",
          "text": [
            "[0]\tvalidation-rmse:8.79783\n",
            "[1]\tvalidation-rmse:7.71626\n",
            "[2]\tvalidation-rmse:7.2305\n",
            "[3]\tvalidation-rmse:6.95222\n",
            "[4]\tvalidation-rmse:6.7718\n",
            "[5]\tvalidation-rmse:6.6464\n",
            "[6]\tvalidation-rmse:6.5548\n",
            "[7]\tvalidation-rmse:6.50686\n",
            "[8]\tvalidation-rmse:6.41651\n",
            "[9]\tvalidation-rmse:6.36359\n"
          ],
          "name": "stdout"
        },
        {
          "output_type": "stream",
          "text": [
            "[I 2020-07-08 14:04:27,915] Finished trial#628 with value: 3.6713494365563184 with parameters: {'combos': 1, 'ada_Scaler': 'log', 'ada_ne': 165, 'ada_lr': 0.6190460604275765, 'et_Scaler': 'stand', 'et_max_depth': 9, 'et_ne': 682, 'xgb_Scaler': 'minmax', 'booster': 'gblinear', 'lambda': 0.06345294886358405, 'alpha': 0.0020746224542489934}. Best is trial#563 with value: 3.1249267571970165.\n"
          ],
          "name": "stderr"
        },
        {
          "output_type": "stream",
          "text": [
            "[0]\tvalidation-rmse:6.18834\n",
            "[1]\tvalidation-rmse:5.2336\n",
            "[2]\tvalidation-rmse:5.16441\n",
            "[3]\tvalidation-rmse:5.34666\n",
            "[4]\tvalidation-rmse:5.44336\n",
            "[5]\tvalidation-rmse:5.39842\n",
            "[6]\tvalidation-rmse:5.28727\n",
            "[7]\tvalidation-rmse:5.34329\n",
            "[8]\tvalidation-rmse:5.25696\n",
            "[9]\tvalidation-rmse:5.30933\n"
          ],
          "name": "stdout"
        },
        {
          "output_type": "stream",
          "text": [
            "[I 2020-07-08 14:04:29,279] Finished trial#629 with value: 3.4852225510946684 with parameters: {'combos': 1, 'ada_Scaler': 'log', 'ada_ne': 131, 'ada_lr': 0.5766261813939406, 'et_Scaler': 'stand', 'et_max_depth': 11, 'et_ne': 595, 'xgb_Scaler': 'log', 'booster': 'gbtree', 'lambda': 0.010862603407583927, 'alpha': 0.00483505180794814, 'max_depth': 3, 'eta': 0.966892701527747, 'gamma': 5.237053632034861e-06, 'grow_policy': 'depthwise'}. Best is trial#563 with value: 3.1249267571970165.\n"
          ],
          "name": "stderr"
        },
        {
          "output_type": "stream",
          "text": [
            "[0]\tvalidation-rmse:15.2629\n",
            "[1]\tvalidation-rmse:9.97476\n",
            "[2]\tvalidation-rmse:7.21285\n",
            "[3]\tvalidation-rmse:5.48514\n",
            "[4]\tvalidation-rmse:4.67589\n",
            "[5]\tvalidation-rmse:4.07317\n",
            "[6]\tvalidation-rmse:3.85031\n",
            "[7]\tvalidation-rmse:3.87113\n",
            "[8]\tvalidation-rmse:3.79298\n",
            "[9]\tvalidation-rmse:3.77962\n"
          ],
          "name": "stdout"
        },
        {
          "output_type": "stream",
          "text": [
            "[I 2020-07-08 14:04:30,639] Finished trial#630 with value: 3.344148438252503 with parameters: {'combos': 1, 'ada_Scaler': 'log', 'ada_ne': 208, 'ada_lr': 0.49326151018771136, 'et_Scaler': 'stand', 'et_max_depth': 7, 'et_ne': 655, 'xgb_Scaler': 'log', 'booster': 'dart', 'lambda': 0.1728545223389849, 'alpha': 0.008739105276036578, 'max_depth': 2, 'eta': 0.3959371622241309, 'gamma': 3.753832261153179e-08, 'grow_policy': 'depthwise', 'sample_type': 'uniform', 'normalize_type': 'tree', 'rate_drop': 0.0008962348952355727, 'skip_drop': 0.26893041487931824}. Best is trial#563 with value: 3.1249267571970165.\n"
          ],
          "name": "stderr"
        },
        {
          "output_type": "stream",
          "text": [
            "[0]\tvalidation-rmse:5.49987\n",
            "[1]\tvalidation-rmse:5.19353\n",
            "[2]\tvalidation-rmse:5.0939\n",
            "[3]\tvalidation-rmse:5.11231\n",
            "[4]\tvalidation-rmse:5.1201\n",
            "[5]\tvalidation-rmse:4.97682\n",
            "[6]\tvalidation-rmse:4.72836\n",
            "[7]\tvalidation-rmse:4.79332\n",
            "[8]\tvalidation-rmse:4.85955\n",
            "[9]\tvalidation-rmse:4.87932\n"
          ],
          "name": "stdout"
        },
        {
          "output_type": "stream",
          "text": [
            "[I 2020-07-08 14:04:31,799] Finished trial#631 with value: 3.466308094600795 with parameters: {'combos': 1, 'ada_Scaler': 'log', 'ada_ne': 100, 'ada_lr': 0.6465994089796759, 'et_Scaler': 'minmax', 'et_max_depth': 9, 'et_ne': 550, 'xgb_Scaler': 'log', 'booster': 'gbtree', 'lambda': 0.10737946181264973, 'alpha': 0.016843137748308923, 'max_depth': 3, 'eta': 0.9991542245941034, 'gamma': 1.63388686469555e-07, 'grow_policy': 'depthwise'}. Best is trial#563 with value: 3.1249267571970165.\n"
          ],
          "name": "stderr"
        },
        {
          "output_type": "stream",
          "text": [
            "[0]\tvalidation-rmse:12.2338\n",
            "[1]\tvalidation-rmse:6.91561\n",
            "[2]\tvalidation-rmse:4.98405\n",
            "[3]\tvalidation-rmse:4.26108\n",
            "[4]\tvalidation-rmse:4.14016\n",
            "[5]\tvalidation-rmse:4.04464\n",
            "[6]\tvalidation-rmse:4.01444\n",
            "[7]\tvalidation-rmse:3.96984\n",
            "[8]\tvalidation-rmse:3.97254\n",
            "[9]\tvalidation-rmse:3.9549\n"
          ],
          "name": "stdout"
        },
        {
          "output_type": "stream",
          "text": [
            "[I 2020-07-08 14:04:33,249] Finished trial#632 with value: 3.340192029771089 with parameters: {'combos': 1, 'ada_Scaler': 'log', 'ada_ne': 176, 'ada_lr': 0.5418505296054155, 'et_Scaler': 'stand', 'et_max_depth': 10, 'et_ne': 633, 'xgb_Scaler': 'stand', 'booster': 'gbtree', 'lambda': 0.04598921790007368, 'alpha': 0.003290370354592352, 'max_depth': 4, 'eta': 0.5024218732972562, 'gamma': 5.6288035524044186e-08, 'grow_policy': 'depthwise'}. Best is trial#563 with value: 3.1249267571970165.\n"
          ],
          "name": "stderr"
        },
        {
          "output_type": "stream",
          "text": [
            "[0]\tvalidation-rmse:19.9705\n",
            "[1]\tvalidation-rmse:16.644\n",
            "[2]\tvalidation-rmse:13.9562\n",
            "[3]\tvalidation-rmse:11.7527\n",
            "[4]\tvalidation-rmse:10.0053\n",
            "[5]\tvalidation-rmse:8.53222\n",
            "[6]\tvalidation-rmse:7.36267\n",
            "[7]\tvalidation-rmse:6.45753\n",
            "[8]\tvalidation-rmse:5.66634\n",
            "[9]\tvalidation-rmse:5.13091\n"
          ],
          "name": "stdout"
        },
        {
          "output_type": "stream",
          "text": [
            "[I 2020-07-08 14:04:34,668] Finished trial#633 with value: 3.4642568317552027 with parameters: {'combos': 1, 'ada_Scaler': 'log', 'ada_ne': 149, 'ada_lr': 0.6011403387306512, 'et_Scaler': 'stand', 'et_max_depth': 10, 'et_ne': 605, 'xgb_Scaler': 'log', 'booster': 'gbtree', 'lambda': 0.02386954150459802, 'alpha': 0.03303785328858084, 'max_depth': 3, 'eta': 0.17040787084138695, 'gamma': 9.738812789465753e-08, 'grow_policy': 'depthwise'}. Best is trial#563 with value: 3.1249267571970165.\n"
          ],
          "name": "stderr"
        },
        {
          "output_type": "stream",
          "text": [
            "[0]\tvalidation-rmse:17.3191\n",
            "[1]\tvalidation-rmse:12.4545\n",
            "[2]\tvalidation-rmse:9.15136\n",
            "[3]\tvalidation-rmse:7.04383\n",
            "[4]\tvalidation-rmse:5.65442\n",
            "[5]\tvalidation-rmse:4.79189\n",
            "[6]\tvalidation-rmse:4.33822\n",
            "[7]\tvalidation-rmse:4.07605\n",
            "[8]\tvalidation-rmse:3.86218\n",
            "[9]\tvalidation-rmse:3.73285\n"
          ],
          "name": "stdout"
        },
        {
          "output_type": "stream",
          "text": [
            "[I 2020-07-08 14:04:36,135] Finished trial#634 with value: 3.353629776309092 with parameters: {'combos': 1, 'ada_Scaler': 'log', 'ada_ne': 228, 'ada_lr': 0.6699739292566714, 'et_Scaler': 'stand', 'et_max_depth': 8, 'et_ne': 660, 'xgb_Scaler': 'log', 'booster': 'gbtree', 'lambda': 0.3937407796055134, 'alpha': 0.007059842129664115, 'max_depth': 3, 'eta': 0.29788872334344146, 'gamma': 2.1606905557492263e-08, 'grow_policy': 'depthwise'}. Best is trial#563 with value: 3.1249267571970165.\n"
          ],
          "name": "stderr"
        },
        {
          "output_type": "stream",
          "text": [
            "[0]\tvalidation-rmse:8.16442\n",
            "[1]\tvalidation-rmse:4.51165\n",
            "[2]\tvalidation-rmse:3.86805\n",
            "[3]\tvalidation-rmse:3.84944\n",
            "[4]\tvalidation-rmse:3.91072\n",
            "[5]\tvalidation-rmse:3.87232\n",
            "[6]\tvalidation-rmse:3.82958\n",
            "[7]\tvalidation-rmse:3.8354\n",
            "[8]\tvalidation-rmse:3.88088\n",
            "[9]\tvalidation-rmse:3.86084\n"
          ],
          "name": "stdout"
        },
        {
          "output_type": "stream",
          "text": [
            "[I 2020-07-08 14:04:37,619] Finished trial#635 with value: 3.2342127154597593 with parameters: {'combos': 1, 'ada_Scaler': 'log', 'ada_ne': 121, 'ada_lr': 0.35953205256106213, 'et_Scaler': 'stand', 'et_max_depth': 12, 'et_ne': 635, 'xgb_Scaler': 'log', 'booster': 'gbtree', 'lambda': 0.08305665239303678, 'alpha': 0.012052506787025281, 'max_depth': 3, 'eta': 0.7108055032602222, 'gamma': 1.0147378113373869e-08, 'grow_policy': 'depthwise'}. Best is trial#563 with value: 3.1249267571970165.\n",
            "[I 2020-07-08 14:04:38,844] Setting status of trial#636 as TrialState.PRUNED. Trial was pruned at iteration 16.\n"
          ],
          "name": "stderr"
        },
        {
          "output_type": "stream",
          "text": [
            "[0]\tvalidation-rmse:14.417\n",
            "[1]\tvalidation-rmse:8.99176\n",
            "[2]\tvalidation-rmse:6.20768\n",
            "[3]\tvalidation-rmse:4.63647\n",
            "[4]\tvalidation-rmse:4.04564\n",
            "[5]\tvalidation-rmse:3.91441\n",
            "[6]\tvalidation-rmse:3.83874\n",
            "[7]\tvalidation-rmse:3.81921\n",
            "[8]\tvalidation-rmse:3.82692\n",
            "[9]\tvalidation-rmse:3.84442\n"
          ],
          "name": "stdout"
        },
        {
          "output_type": "stream",
          "text": [
            "[I 2020-07-08 14:04:40,381] Finished trial#637 with value: 3.359125765013099 with parameters: {'combos': 1, 'ada_Scaler': 'log', 'ada_ne': 174, 'ada_lr': 0.5221971531909837, 'et_Scaler': 'stand', 'et_max_depth': 10, 'et_ne': 617, 'xgb_Scaler': 'log', 'booster': 'gbtree', 'lambda': 0.0362296849727051, 'alpha': 0.02263550186872495, 'max_depth': 3, 'eta': 0.411857124456972, 'gamma': 3.042969609605465e-08, 'grow_policy': 'depthwise'}. Best is trial#563 with value: 3.1249267571970165.\n"
          ],
          "name": "stderr"
        },
        {
          "output_type": "stream",
          "text": [
            "[0]\tvalidation-rmse:11.3299\n",
            "[1]\tvalidation-rmse:6.13254\n",
            "[2]\tvalidation-rmse:4.58415\n",
            "[3]\tvalidation-rmse:4.0347\n",
            "[4]\tvalidation-rmse:4.02111\n",
            "[5]\tvalidation-rmse:4.05907\n",
            "[6]\tvalidation-rmse:4.09578\n",
            "[7]\tvalidation-rmse:4.03119\n",
            "[8]\tvalidation-rmse:3.99974\n",
            "[9]\tvalidation-rmse:4.00405\n"
          ],
          "name": "stdout"
        },
        {
          "output_type": "stream",
          "text": [
            "[I 2020-07-08 14:04:41,672] Finished trial#638 with value: 3.457483571241228 with parameters: {'combos': 1, 'ada_Scaler': 'minmax', 'ada_ne': 85, 'ada_lr': 0.6223621808378098, 'et_Scaler': 'stand', 'et_max_depth': 11, 'et_ne': 594, 'xgb_Scaler': 'log', 'booster': 'gbtree', 'lambda': 0.2120029652851969, 'alpha': 0.006147067399675995, 'max_depth': 5, 'eta': 0.5615591846570446, 'gamma': 4.6680518519330225e-08, 'grow_policy': 'depthwise'}. Best is trial#563 with value: 3.1249267571970165.\n"
          ],
          "name": "stderr"
        },
        {
          "output_type": "stream",
          "text": [
            "[0]\tvalidation-rmse:8.0497\n",
            "[1]\tvalidation-rmse:5.16249\n",
            "[2]\tvalidation-rmse:4.41278\n",
            "[3]\tvalidation-rmse:4.30398\n",
            "[4]\tvalidation-rmse:4.24136\n",
            "[5]\tvalidation-rmse:4.22395\n",
            "[6]\tvalidation-rmse:4.21774\n",
            "[7]\tvalidation-rmse:4.06409\n",
            "[8]\tvalidation-rmse:4.07404\n",
            "[9]\tvalidation-rmse:4.10707\n"
          ],
          "name": "stdout"
        },
        {
          "output_type": "stream",
          "text": [
            "[I 2020-07-08 14:04:43,042] Finished trial#639 with value: 3.143469085308555 with parameters: {'combos': 1, 'ada_Scaler': 'log', 'ada_ne': 153, 'ada_lr': 0.689560061866951, 'et_Scaler': 'stand', 'et_max_depth': 9, 'et_ne': 642, 'xgb_Scaler': 'log', 'booster': 'gbtree', 'lambda': 0.01634888333303953, 'alpha': 0.009260611716320026, 'max_depth': 3, 'eta': 0.7328673010199044, 'gamma': 1.2856638696386125e-07, 'grow_policy': 'lossguide'}. Best is trial#563 with value: 3.1249267571970165.\n"
          ],
          "name": "stderr"
        },
        {
          "output_type": "stream",
          "text": [
            "[0]\tvalidation-rmse:6.20796\n",
            "[1]\tvalidation-rmse:5.26126\n",
            "[2]\tvalidation-rmse:5.18497\n",
            "[3]\tvalidation-rmse:5.37227\n",
            "[4]\tvalidation-rmse:5.47266\n",
            "[5]\tvalidation-rmse:5.42911\n",
            "[6]\tvalidation-rmse:5.31706\n",
            "[7]\tvalidation-rmse:5.31203\n",
            "[8]\tvalidation-rmse:5.26604\n",
            "[9]\tvalidation-rmse:5.26662\n"
          ],
          "name": "stdout"
        },
        {
          "output_type": "stream",
          "text": [
            "[I 2020-07-08 14:04:44,408] Finished trial#640 with value: 3.501198545336404 with parameters: {'combos': 1, 'ada_Scaler': 'log', 'ada_ne': 131, 'ada_lr': 0.6407022916500292, 'et_Scaler': 'stand', 'et_max_depth': 9, 'et_ne': 673, 'xgb_Scaler': 'log', 'booster': 'gbtree', 'lambda': 0.01306231788111047, 'alpha': 0.01000998604951727, 'max_depth': 3, 'eta': 0.9772450870395146, 'gamma': 6.778013779800477e-08, 'grow_policy': 'lossguide'}. Best is trial#563 with value: 3.1249267571970165.\n"
          ],
          "name": "stderr"
        },
        {
          "output_type": "stream",
          "text": [
            "[0]\tvalidation-rmse:9.06002\n",
            "[1]\tvalidation-rmse:5.27477\n",
            "[2]\tvalidation-rmse:4.60036\n",
            "[3]\tvalidation-rmse:4.5066\n",
            "[4]\tvalidation-rmse:4.51844\n",
            "[5]\tvalidation-rmse:4.73282\n",
            "[6]\tvalidation-rmse:4.75301\n",
            "[7]\tvalidation-rmse:4.74044\n",
            "[8]\tvalidation-rmse:4.6812\n",
            "[9]\tvalidation-rmse:4.64004\n"
          ],
          "name": "stdout"
        },
        {
          "output_type": "stream",
          "text": [
            "[I 2020-07-08 14:04:45,721] Finished trial#641 with value: 3.323099950858131 with parameters: {'combos': 1, 'ada_Scaler': 'log', 'ada_ne': 153, 'ada_lr': 0.6924263814251822, 'et_Scaler': 'stand', 'et_max_depth': 8, 'et_ne': 647, 'xgb_Scaler': 'log', 'booster': 'gbtree', 'lambda': 0.006584490542384879, 'alpha': 0.016546213950294566, 'max_depth': 3, 'eta': 0.6735479189479509, 'gamma': 1.2424879557141538e-07, 'grow_policy': 'lossguide'}. Best is trial#563 with value: 3.1249267571970165.\n"
          ],
          "name": "stderr"
        },
        {
          "output_type": "stream",
          "text": [
            "[0]\tvalidation-rmse:6.14392\n",
            "[1]\tvalidation-rmse:5.17733\n",
            "[2]\tvalidation-rmse:5.27828\n",
            "[3]\tvalidation-rmse:5.22893\n",
            "[4]\tvalidation-rmse:4.97016\n",
            "[5]\tvalidation-rmse:4.91873\n",
            "[6]\tvalidation-rmse:4.8153\n",
            "[7]\tvalidation-rmse:4.82025\n",
            "[8]\tvalidation-rmse:4.85637\n",
            "[9]\tvalidation-rmse:4.83999\n"
          ],
          "name": "stdout"
        },
        {
          "output_type": "stream",
          "text": [
            "[I 2020-07-08 14:04:47,096] Finished trial#642 with value: 3.428716475225088 with parameters: {'combos': 1, 'ada_Scaler': 'log', 'ada_ne': 111, 'ada_lr': 0.40371314472185793, 'et_Scaler': 'stand', 'et_max_depth': 9, 'et_ne': 678, 'xgb_Scaler': 'log', 'booster': 'gbtree', 'lambda': 0.01900998779460724, 'alpha': 0.008761381589531795, 'max_depth': 3, 'eta': 0.9579231325186202, 'gamma': 1.534229458362357e-08, 'grow_policy': 'depthwise'}. Best is trial#563 with value: 3.1249267571970165.\n"
          ],
          "name": "stderr"
        },
        {
          "output_type": "stream",
          "text": [
            "[0]\tvalidation-rmse:18.0877\n",
            "[1]\tvalidation-rmse:13.7839\n",
            "[2]\tvalidation-rmse:10.627\n",
            "[3]\tvalidation-rmse:8.39772\n",
            "[4]\tvalidation-rmse:6.76903\n",
            "[5]\tvalidation-rmse:5.66502\n",
            "[6]\tvalidation-rmse:4.8522\n",
            "[7]\tvalidation-rmse:4.46347\n",
            "[8]\tvalidation-rmse:4.1809\n",
            "[9]\tvalidation-rmse:3.95804\n"
          ],
          "name": "stdout"
        },
        {
          "output_type": "stream",
          "text": [
            "[I 2020-07-08 14:04:48,373] Finished trial#643 with value: 3.460255698602876 with parameters: {'combos': 1, 'ada_Scaler': 'log', 'ada_ne': 135, 'ada_lr': 0.6712806192318698, 'et_Scaler': 'stand', 'et_max_depth': 8, 'et_ne': 644, 'xgb_Scaler': 'log', 'booster': 'gbtree', 'lambda': 0.027745512903527354, 'alpha': 0.01459873261087629, 'max_depth': 3, 'eta': 0.25160061195260564, 'gamma': 3.316929717785022e-08, 'grow_policy': 'lossguide'}. Best is trial#563 with value: 3.1249267571970165.\n"
          ],
          "name": "stderr"
        },
        {
          "output_type": "stream",
          "text": [
            "[0]\tvalidation-rmse:7.91357\n",
            "[1]\tvalidation-rmse:5.17032\n",
            "[2]\tvalidation-rmse:4.46364\n",
            "[3]\tvalidation-rmse:4.43362\n",
            "[4]\tvalidation-rmse:4.43774\n",
            "[5]\tvalidation-rmse:4.54047\n",
            "[6]\tvalidation-rmse:4.4488\n",
            "[7]\tvalidation-rmse:4.39276\n",
            "[8]\tvalidation-rmse:4.35044\n",
            "[9]\tvalidation-rmse:4.45218\n"
          ],
          "name": "stdout"
        },
        {
          "output_type": "stream",
          "text": [
            "[I 2020-07-08 14:04:49,770] Finished trial#644 with value: 3.2947791582254005 with parameters: {'combos': 1, 'ada_Scaler': 'log', 'ada_ne': 154, 'ada_lr': 0.6660339168267017, 'et_Scaler': 'stand', 'et_max_depth': 9, 'et_ne': 660, 'xgb_Scaler': 'log', 'booster': 'gbtree', 'lambda': 0.014427903044641479, 'alpha': 0.026804775053162845, 'max_depth': 3, 'eta': 0.7416327183482748, 'gamma': 2.175663287818354e-08, 'grow_policy': 'lossguide'}. Best is trial#563 with value: 3.1249267571970165.\n"
          ],
          "name": "stderr"
        },
        {
          "output_type": "stream",
          "text": [
            "[0]\tvalidation-rmse:14.5661\n",
            "[1]\tvalidation-rmse:9.1557\n",
            "[2]\tvalidation-rmse:6.32254\n",
            "[3]\tvalidation-rmse:4.82153\n",
            "[4]\tvalidation-rmse:4.08317\n",
            "[5]\tvalidation-rmse:3.90219\n",
            "[6]\tvalidation-rmse:3.7908\n",
            "[7]\tvalidation-rmse:3.73861\n",
            "[8]\tvalidation-rmse:3.7881\n",
            "[9]\tvalidation-rmse:3.74441\n"
          ],
          "name": "stdout"
        },
        {
          "output_type": "stream",
          "text": [
            "[I 2020-07-08 14:04:50,941] Finished trial#645 with value: 3.364736513081355 with parameters: {'combos': 1, 'ada_Scaler': 'log', 'ada_ne': 52, 'ada_lr': 0.6880680500496774, 'et_Scaler': 'stand', 'et_max_depth': 9, 'et_ne': 630, 'xgb_Scaler': 'log', 'booster': 'gbtree', 'lambda': 0.05581085962075099, 'alpha': 0.0048125332583528165, 'max_depth': 3, 'eta': 0.4056939387612261, 'gamma': 8.398113235512745e-08, 'grow_policy': 'lossguide'}. Best is trial#563 with value: 3.1249267571970165.\n"
          ],
          "name": "stderr"
        },
        {
          "output_type": "stream",
          "text": [
            "[0]\tvalidation-rmse:11.148\n",
            "[1]\tvalidation-rmse:5.89072\n",
            "[2]\tvalidation-rmse:4.08118\n",
            "[3]\tvalidation-rmse:3.73721\n",
            "[4]\tvalidation-rmse:3.70089\n",
            "[5]\tvalidation-rmse:3.58675\n",
            "[6]\tvalidation-rmse:3.8064\n",
            "[7]\tvalidation-rmse:3.87563\n",
            "[8]\tvalidation-rmse:3.84157\n",
            "[9]\tvalidation-rmse:3.78628\n"
          ],
          "name": "stdout"
        },
        {
          "output_type": "stream",
          "text": [
            "[I 2020-07-08 14:04:52,334] Finished trial#646 with value: 3.2120220059371363 with parameters: {'combos': 1, 'ada_Scaler': 'log', 'ada_ne': 167, 'ada_lr': 0.6212046478811052, 'et_Scaler': 'stand', 'et_max_depth': 9, 'et_ne': 632, 'xgb_Scaler': 'log', 'booster': 'gbtree', 'lambda': 0.03385394530838808, 'alpha': 0.11258705921326627, 'max_depth': 3, 'eta': 0.5607042835378012, 'gamma': 5.415767491606627e-08, 'grow_policy': 'lossguide'}. Best is trial#563 with value: 3.1249267571970165.\n"
          ],
          "name": "stderr"
        },
        {
          "output_type": "stream",
          "text": [
            "[0]\tvalidation-rmse:16.7107\n",
            "[1]\tvalidation-rmse:11.8924\n",
            "[2]\tvalidation-rmse:8.92606\n",
            "[3]\tvalidation-rmse:6.94783\n",
            "[4]\tvalidation-rmse:5.48976\n",
            "[5]\tvalidation-rmse:4.73816\n",
            "[6]\tvalidation-rmse:4.44208\n",
            "[7]\tvalidation-rmse:4.34111\n",
            "[8]\tvalidation-rmse:4.21114\n",
            "[9]\tvalidation-rmse:4.03306\n"
          ],
          "name": "stdout"
        },
        {
          "output_type": "stream",
          "text": [
            "[I 2020-07-08 14:04:53,636] Finished trial#647 with value: 3.42751546830099 with parameters: {'combos': 1, 'ada_Scaler': 'log', 'ada_ne': 104, 'ada_lr': 0.651508209120352, 'et_Scaler': 'stand', 'et_max_depth': 10, 'et_ne': 617, 'xgb_Scaler': 'log', 'booster': 'gbtree', 'lambda': 0.020068849966641263, 'alpha': 0.011536574130582311, 'max_depth': 2, 'eta': 0.32779467990969025, 'gamma': 3.9007394880127596e-08, 'grow_policy': 'depthwise'}. Best is trial#563 with value: 3.1249267571970165.\n",
            "[I 2020-07-08 14:04:54,776] Setting status of trial#648 as TrialState.PRUNED. Trial was pruned at iteration 11.\n"
          ],
          "name": "stderr"
        },
        {
          "output_type": "stream",
          "text": [
            "[0]\tvalidation-rmse:7.72794\n",
            "[1]\tvalidation-rmse:4.49984\n",
            "[2]\tvalidation-rmse:3.99256\n",
            "[3]\tvalidation-rmse:4.04708\n",
            "[4]\tvalidation-rmse:4.4036\n",
            "[5]\tvalidation-rmse:4.45418\n",
            "[6]\tvalidation-rmse:4.5579\n",
            "[7]\tvalidation-rmse:4.60323\n",
            "[8]\tvalidation-rmse:4.63573\n",
            "[9]\tvalidation-rmse:4.62939\n"
          ],
          "name": "stdout"
        },
        {
          "output_type": "stream",
          "text": [
            "[I 2020-07-08 14:04:56,204] Finished trial#649 with value: 3.3952600940918227 with parameters: {'combos': 1, 'ada_Scaler': 'log', 'ada_ne': 172, 'ada_lr': 0.6892428196672019, 'et_Scaler': 'stand', 'et_max_depth': 7, 'et_ne': 681, 'xgb_Scaler': 'log', 'booster': 'gbtree', 'lambda': 0.050730858068519354, 'alpha': 0.04605943669966804, 'max_depth': 3, 'eta': 0.7346496983792076, 'gamma': 1.4328916136370632e-08, 'grow_policy': 'depthwise'}. Best is trial#563 with value: 3.1249267571970165.\n"
          ],
          "name": "stderr"
        },
        {
          "output_type": "stream",
          "text": [
            "[0]\tvalidation-rmse:5.61984\n",
            "[1]\tvalidation-rmse:5.81795\n",
            "[2]\tvalidation-rmse:5.82944\n",
            "[3]\tvalidation-rmse:5.81238\n",
            "[4]\tvalidation-rmse:5.75373\n",
            "[5]\tvalidation-rmse:5.81625\n",
            "[6]\tvalidation-rmse:5.81956\n",
            "[7]\tvalidation-rmse:5.83368\n",
            "[8]\tvalidation-rmse:5.92067\n",
            "[9]\tvalidation-rmse:5.91265\n"
          ],
          "name": "stdout"
        },
        {
          "output_type": "stream",
          "text": [
            "[I 2020-07-08 14:04:57,007] Setting status of trial#650 as TrialState.PRUNED. Trial was pruned at iteration 11.\n"
          ],
          "name": "stderr"
        },
        {
          "output_type": "stream",
          "text": [
            "[0]\tvalidation-rmse:23.959\n",
            "[1]\tvalidation-rmse:23.9372\n",
            "[2]\tvalidation-rmse:23.9156\n",
            "[3]\tvalidation-rmse:23.8939\n",
            "[4]\tvalidation-rmse:23.8722\n",
            "[5]\tvalidation-rmse:23.8506\n",
            "[6]\tvalidation-rmse:23.829\n",
            "[7]\tvalidation-rmse:23.8074\n",
            "[8]\tvalidation-rmse:23.7858\n",
            "[9]\tvalidation-rmse:23.7643\n"
          ],
          "name": "stdout"
        },
        {
          "output_type": "stream",
          "text": [
            "[I 2020-07-08 14:04:58,337] Finished trial#651 with value: 8.345155868025891 with parameters: {'combos': 1, 'ada_Scaler': 'log', 'ada_ne': 71, 'ada_lr': 0.5861785052435313, 'et_Scaler': 'stand', 'et_max_depth': 9, 'et_ne': 641, 'xgb_Scaler': 'log', 'booster': 'gbtree', 'lambda': 0.06578334922079764, 'alpha': 0.00723571462696637, 'max_depth': 3, 'eta': 0.0009210737614897661, 'gamma': 2.3502347328722762e-07, 'grow_policy': 'depthwise'}. Best is trial#563 with value: 3.1249267571970165.\n"
          ],
          "name": "stderr"
        },
        {
          "output_type": "stream",
          "text": [
            "[0]\tvalidation-rmse:12.9107\n",
            "[1]\tvalidation-rmse:7.37175\n",
            "[2]\tvalidation-rmse:5.00143\n",
            "[3]\tvalidation-rmse:4.21967\n",
            "[4]\tvalidation-rmse:3.87914\n",
            "[5]\tvalidation-rmse:3.83712\n",
            "[6]\tvalidation-rmse:3.78463\n",
            "[7]\tvalidation-rmse:3.74825\n",
            "[8]\tvalidation-rmse:3.67766\n",
            "[9]\tvalidation-rmse:3.69283\n"
          ],
          "name": "stdout"
        },
        {
          "output_type": "stream",
          "text": [
            "[I 2020-07-08 14:04:59,784] Finished trial#652 with value: 3.232995519299737 with parameters: {'combos': 1, 'ada_Scaler': 'log', 'ada_ne': 213, 'ada_lr': 0.6519405789258499, 'et_Scaler': 'stand', 'et_max_depth': 10, 'et_ne': 569, 'xgb_Scaler': 'log', 'booster': 'gbtree', 'lambda': 0.9723117233667719, 'alpha': 0.011751567603567251, 'max_depth': 3, 'eta': 0.5089702308722105, 'gamma': 1.0067182357832722e-08, 'grow_policy': 'depthwise'}. Best is trial#563 with value: 3.1249267571970165.\n"
          ],
          "name": "stderr"
        },
        {
          "output_type": "stream",
          "text": [
            "[0]\tvalidation-rmse:18.7461\n",
            "[1]\tvalidation-rmse:14.6807\n",
            "[2]\tvalidation-rmse:11.5984\n",
            "[3]\tvalidation-rmse:9.24359\n",
            "[4]\tvalidation-rmse:7.46002\n",
            "[5]\tvalidation-rmse:6.17458\n",
            "[6]\tvalidation-rmse:5.24804\n",
            "[7]\tvalidation-rmse:4.5839\n",
            "[8]\tvalidation-rmse:4.20481\n",
            "[9]\tvalidation-rmse:3.90569\n"
          ],
          "name": "stdout"
        },
        {
          "output_type": "stream",
          "text": [
            "[I 2020-07-08 14:05:01,060] Finished trial#653 with value: 3.3314437876715 with parameters: {'combos': 1, 'ada_Scaler': 'log', 'ada_ne': 158, 'ada_lr': 0.6916917717524551, 'et_Scaler': 'stand', 'et_max_depth': 8, 'et_ne': 616, 'xgb_Scaler': 'log', 'booster': 'gbtree', 'lambda': 0.11052858269295342, 'alpha': 0.005255955734900988, 'max_depth': 3, 'eta': 0.22477430335510698, 'gamma': 9.568758536377068e-08, 'grow_policy': 'depthwise'}. Best is trial#563 with value: 3.1249267571970165.\n"
          ],
          "name": "stderr"
        },
        {
          "output_type": "stream",
          "text": [
            "[0]\tvalidation-rmse:15.2256\n",
            "[1]\tvalidation-rmse:9.96584\n",
            "[2]\tvalidation-rmse:6.88892\n",
            "[3]\tvalidation-rmse:5.17458\n",
            "[4]\tvalidation-rmse:4.25704\n",
            "[5]\tvalidation-rmse:3.91059\n",
            "[6]\tvalidation-rmse:3.7799\n",
            "[7]\tvalidation-rmse:3.8318\n",
            "[8]\tvalidation-rmse:3.81267\n",
            "[9]\tvalidation-rmse:3.84394\n"
          ],
          "name": "stdout"
        },
        {
          "output_type": "stream",
          "text": [
            "[I 2020-07-08 14:05:02,389] Finished trial#654 with value: 3.3358512721160394 with parameters: {'combos': 1, 'ada_Scaler': 'log', 'ada_ne': 120, 'ada_lr': 0.6268235982283491, 'et_Scaler': 'stand', 'et_max_depth': 10, 'et_ne': 597, 'xgb_Scaler': 'log', 'booster': 'gbtree', 'lambda': 0.03047535468981849, 'alpha': 0.008492709064822059, 'max_depth': 3, 'eta': 0.3772963715466916, 'gamma': 5.001318828531793e-08, 'grow_policy': 'depthwise'}. Best is trial#563 with value: 3.1249267571970165.\n"
          ],
          "name": "stderr"
        },
        {
          "output_type": "stream",
          "text": [
            "[0]\tvalidation-rmse:10.3863\n",
            "[1]\tvalidation-rmse:5.65175\n",
            "[2]\tvalidation-rmse:4.06437\n",
            "[3]\tvalidation-rmse:3.8278\n",
            "[4]\tvalidation-rmse:3.80615\n",
            "[5]\tvalidation-rmse:3.83511\n",
            "[6]\tvalidation-rmse:3.73944\n",
            "[7]\tvalidation-rmse:3.7696\n",
            "[8]\tvalidation-rmse:3.85155\n",
            "[9]\tvalidation-rmse:3.85039\n"
          ],
          "name": "stdout"
        },
        {
          "output_type": "stream",
          "text": [
            "[I 2020-07-08 14:05:03,808] Finished trial#655 with value: 3.2107159274883803 with parameters: {'combos': 1, 'ada_Scaler': 'log', 'ada_ne': 180, 'ada_lr': 0.5736521574392673, 'et_Scaler': 'stand', 'et_max_depth': 9, 'et_ne': 627, 'xgb_Scaler': 'log', 'booster': 'gbtree', 'lambda': 0.018026869503194428, 'alpha': 0.02103015460337313, 'max_depth': 3, 'eta': 0.6035261536682411, 'gamma': 2.938394453944217e-08, 'grow_policy': 'depthwise'}. Best is trial#563 with value: 3.1249267571970165.\n"
          ],
          "name": "stderr"
        },
        {
          "output_type": "stream",
          "text": [
            "[0]\tvalidation-rmse:20.8822\n",
            "[1]\tvalidation-rmse:18.2338\n",
            "[2]\tvalidation-rmse:15.9352\n",
            "[3]\tvalidation-rmse:14.0068\n",
            "[4]\tvalidation-rmse:12.2866\n",
            "[5]\tvalidation-rmse:10.9387\n",
            "[6]\tvalidation-rmse:9.70754\n",
            "[7]\tvalidation-rmse:8.66295\n",
            "[8]\tvalidation-rmse:7.90613\n",
            "[9]\tvalidation-rmse:7.08752\n"
          ],
          "name": "stdout"
        },
        {
          "output_type": "stream",
          "text": [
            "[I 2020-07-08 14:05:05,277] Finished trial#656 with value: 3.8792918635252716 with parameters: {'combos': 1, 'ada_Scaler': 'log', 'ada_ne': 146, 'ada_lr': 0.6040780565753253, 'et_Scaler': 'stand', 'et_max_depth': 10, 'et_ne': 663, 'xgb_Scaler': 'log', 'booster': 'gbtree', 'lambda': 0.045225650242506826, 'alpha': 0.0149367280113228, 'max_depth': 2, 'eta': 0.13843326806374137, 'gamma': 1.379841447513417e-07, 'grow_policy': 'depthwise'}. Best is trial#563 with value: 3.1249267571970165.\n"
          ],
          "name": "stderr"
        },
        {
          "output_type": "stream",
          "text": [
            "[0]\tvalidation-rmse:5.35148\n",
            "[1]\tvalidation-rmse:5.06383\n",
            "[2]\tvalidation-rmse:4.99668\n",
            "[3]\tvalidation-rmse:5.01341\n",
            "[4]\tvalidation-rmse:5.04484\n",
            "[5]\tvalidation-rmse:4.95919\n",
            "[6]\tvalidation-rmse:4.77967\n",
            "[7]\tvalidation-rmse:4.83044\n",
            "[8]\tvalidation-rmse:4.67401\n",
            "[9]\tvalidation-rmse:4.67277\n"
          ],
          "name": "stdout"
        },
        {
          "output_type": "stream",
          "text": [
            "[I 2020-07-08 14:05:06,716] Finished trial#657 with value: 3.3536308535959503 with parameters: {'combos': 1, 'ada_Scaler': 'log', 'ada_ne': 231, 'ada_lr': 0.6393201907824133, 'et_Scaler': 'stand', 'et_max_depth': 8, 'et_ne': 643, 'xgb_Scaler': 'log', 'booster': 'gbtree', 'lambda': 0.07424742385766013, 'alpha': 0.03149638268431778, 'max_depth': 3, 'eta': 0.9924019068937342, 'gamma': 1.893852797309564e-08, 'grow_policy': 'depthwise'}. Best is trial#563 with value: 3.1249267571970165.\n",
            "[I 2020-07-08 14:05:07,922] Setting status of trial#658 as TrialState.PRUNED. Trial was pruned at iteration 11.\n"
          ],
          "name": "stderr"
        },
        {
          "output_type": "stream",
          "text": [
            "[0]\tvalidation-rmse:8.67895\n",
            "[1]\tvalidation-rmse:8.22687\n",
            "[2]\tvalidation-rmse:8.00888\n",
            "[3]\tvalidation-rmse:7.87645\n",
            "[4]\tvalidation-rmse:7.78126\n",
            "[5]\tvalidation-rmse:7.70463\n",
            "[6]\tvalidation-rmse:7.64\n",
            "[7]\tvalidation-rmse:7.58289\n",
            "[8]\tvalidation-rmse:7.53001\n",
            "[9]\tvalidation-rmse:7.47935\n"
          ],
          "name": "stdout"
        },
        {
          "output_type": "stream",
          "text": [
            "[I 2020-07-08 14:05:09,335] Finished trial#659 with value: 4.093994509426017 with parameters: {'combos': 1, 'ada_Scaler': 'log', 'ada_ne': 97, 'ada_lr': 0.5957767452744444, 'et_Scaler': 'minmax', 'et_max_depth': 10, 'et_ne': 614, 'xgb_Scaler': 'log', 'booster': 'gblinear', 'lambda': 0.011775064712289457, 'alpha': 0.9988352338016817}. Best is trial#563 with value: 3.1249267571970165.\n"
          ],
          "name": "stderr"
        },
        {
          "output_type": "stream",
          "text": [
            "[0]\tvalidation-rmse:16.747\n",
            "[1]\tvalidation-rmse:11.779\n",
            "[2]\tvalidation-rmse:8.76769\n",
            "[3]\tvalidation-rmse:7.01101\n",
            "[4]\tvalidation-rmse:5.65076\n",
            "[5]\tvalidation-rmse:4.82442\n",
            "[6]\tvalidation-rmse:4.47866\n",
            "[7]\tvalidation-rmse:4.25598\n",
            "[8]\tvalidation-rmse:4.14301\n",
            "[9]\tvalidation-rmse:4.08061\n"
          ],
          "name": "stdout"
        },
        {
          "output_type": "stream",
          "text": [
            "[I 2020-07-08 14:05:10,694] Finished trial#660 with value: 3.344832944209609 with parameters: {'combos': 1, 'ada_Scaler': 'log', 'ada_ne': 205, 'ada_lr': 0.5694434770526273, 'et_Scaler': 'stand', 'et_max_depth': 9, 'et_ne': 555, 'xgb_Scaler': 'minmax', 'booster': 'gbtree', 'lambda': 0.025819512165338194, 'alpha': 0.006553668648221438, 'max_depth': 3, 'eta': 0.32593035206084986, 'gamma': 7.018918622814746e-08, 'grow_policy': 'depthwise'}. Best is trial#563 with value: 3.1249267571970165.\n"
          ],
          "name": "stderr"
        },
        {
          "output_type": "stream",
          "text": [
            "[0]\tvalidation-rmse:12.625\n",
            "[1]\tvalidation-rmse:7.24051\n",
            "[2]\tvalidation-rmse:5.11042\n",
            "[3]\tvalidation-rmse:4.29167\n",
            "[4]\tvalidation-rmse:4.04347\n",
            "[5]\tvalidation-rmse:4.08408\n",
            "[6]\tvalidation-rmse:4.0541\n",
            "[7]\tvalidation-rmse:4.08426\n",
            "[8]\tvalidation-rmse:4.03243\n",
            "[9]\tvalidation-rmse:3.95244\n"
          ],
          "name": "stdout"
        },
        {
          "output_type": "stream",
          "text": [
            "[I 2020-07-08 14:05:12,077] Finished trial#661 with value: 3.289007757612108 with parameters: {'combos': 1, 'ada_Scaler': 'log', 'ada_ne': 140, 'ada_lr': 0.6465669508131315, 'et_Scaler': 'stand', 'et_max_depth': 10, 'et_ne': 626, 'xgb_Scaler': 'log', 'booster': 'gbtree', 'lambda': 0.11483557603045022, 'alpha': 6.415649382290923e-05, 'max_depth': 3, 'eta': 0.49660005275335556, 'gamma': 3.843632323579554e-08, 'grow_policy': 'depthwise'}. Best is trial#563 with value: 3.1249267571970165.\n"
          ],
          "name": "stderr"
        },
        {
          "output_type": "stream",
          "text": [
            "[0]\tvalidation-rmse:23.9126\n",
            "[1]\tvalidation-rmse:23.8448\n",
            "[2]\tvalidation-rmse:23.777\n",
            "[3]\tvalidation-rmse:23.7095\n",
            "[4]\tvalidation-rmse:23.6423\n",
            "[5]\tvalidation-rmse:23.5752\n",
            "[6]\tvalidation-rmse:23.5084\n",
            "[7]\tvalidation-rmse:23.4416\n",
            "[8]\tvalidation-rmse:23.3752\n",
            "[9]\tvalidation-rmse:23.3089\n"
          ],
          "name": "stdout"
        },
        {
          "output_type": "stream",
          "text": [
            "[I 2020-07-08 14:05:13,355] Finished trial#662 with value: 8.100193672344368 with parameters: {'combos': 1, 'ada_Scaler': 'log', 'ada_ne': 166, 'ada_lr': 0.6881221241041015, 'et_Scaler': 'stand', 'et_max_depth': 8, 'et_ne': 601, 'xgb_Scaler': 'log', 'booster': 'gbtree', 'lambda': 0.0372712610115017, 'alpha': 0.010281983212998919, 'max_depth': 3, 'eta': 0.0028785844803116507, 'gamma': 3.0843146173624487e-07, 'grow_policy': 'depthwise'}. Best is trial#563 with value: 3.1249267571970165.\n"
          ],
          "name": "stderr"
        },
        {
          "output_type": "stream",
          "text": [
            "[0]\tvalidation-rmse:5.33958\n",
            "[1]\tvalidation-rmse:5.04315\n",
            "[2]\tvalidation-rmse:5.1463\n",
            "[3]\tvalidation-rmse:5.16549\n",
            "[4]\tvalidation-rmse:5.04624\n",
            "[5]\tvalidation-rmse:4.95622\n",
            "[6]\tvalidation-rmse:4.92455\n",
            "[7]\tvalidation-rmse:4.98416\n",
            "[8]\tvalidation-rmse:4.97739\n",
            "[9]\tvalidation-rmse:5.0703\n"
          ],
          "name": "stdout"
        },
        {
          "output_type": "stream",
          "text": [
            "[I 2020-07-08 14:05:14,679] Finished trial#663 with value: 3.601582215704374 with parameters: {'combos': 1, 'ada_Scaler': 'minmax', 'ada_ne': 119, 'ada_lr': 0.5551776304081234, 'et_Scaler': 'stand', 'et_max_depth': 9, 'et_ne': 650, 'xgb_Scaler': 'log', 'booster': 'gbtree', 'lambda': 0.062364665337250456, 'alpha': 0.018551495220306455, 'max_depth': 3, 'eta': 0.9738534328787634, 'gamma': 1.3240128433583618e-08, 'grow_policy': 'depthwise'}. Best is trial#563 with value: 3.1249267571970165.\n"
          ],
          "name": "stderr"
        },
        {
          "output_type": "stream",
          "text": [
            "[0]\tvalidation-rmse:8.3189\n",
            "[1]\tvalidation-rmse:4.51175\n",
            "[2]\tvalidation-rmse:3.86152\n",
            "[3]\tvalidation-rmse:3.83405\n",
            "[4]\tvalidation-rmse:3.9213\n",
            "[5]\tvalidation-rmse:3.93604\n",
            "[6]\tvalidation-rmse:3.92043\n",
            "[7]\tvalidation-rmse:3.97866\n",
            "[8]\tvalidation-rmse:4.08737\n",
            "[9]\tvalidation-rmse:4.15552\n"
          ],
          "name": "stdout"
        },
        {
          "output_type": "stream",
          "text": [
            "[I 2020-07-08 14:05:16,073] Finished trial#664 with value: 3.308717481842694 with parameters: {'combos': 1, 'ada_Scaler': 'log', 'ada_ne': 182, 'ada_lr': 0.612785219764607, 'et_Scaler': 'stand', 'et_max_depth': 10, 'et_ne': 577, 'xgb_Scaler': 'stand', 'booster': 'gbtree', 'lambda': 0.08718651380449087, 'alpha': 0.004212515206885301, 'max_depth': 4, 'eta': 0.6873255847848513, 'gamma': 1.1131082775003006e-07, 'grow_policy': 'depthwise'}. Best is trial#563 with value: 3.1249267571970165.\n"
          ],
          "name": "stderr"
        },
        {
          "output_type": "stream",
          "text": [
            "[0]\tvalidation-rmse:18.1571\n",
            "[1]\tvalidation-rmse:13.8941\n",
            "[2]\tvalidation-rmse:10.7387\n",
            "[3]\tvalidation-rmse:8.39079\n",
            "[4]\tvalidation-rmse:6.72717\n",
            "[5]\tvalidation-rmse:5.58015\n",
            "[6]\tvalidation-rmse:4.77914\n",
            "[7]\tvalidation-rmse:4.29505\n",
            "[8]\tvalidation-rmse:4.03317\n",
            "[9]\tvalidation-rmse:3.84837\n"
          ],
          "name": "stdout"
        },
        {
          "output_type": "stream",
          "text": [
            "[I 2020-07-08 14:05:17,494] Finished trial#665 with value: 3.387032109316372 with parameters: {'combos': 1, 'ada_Scaler': 'log', 'ada_ne': 149, 'ada_lr': 0.6445621181034803, 'et_Scaler': 'stand', 'et_max_depth': 9, 'et_ne': 680, 'xgb_Scaler': 'log', 'booster': 'dart', 'lambda': 0.051343520697214304, 'alpha': 0.008475924180140948, 'max_depth': 3, 'eta': 0.24864625747793054, 'gamma': 2.3703713900769134e-08, 'grow_policy': 'depthwise', 'sample_type': 'weighted', 'normalize_type': 'forest', 'rate_drop': 9.770246650635455e-05, 'skip_drop': 0.08978057526103898}. Best is trial#563 with value: 3.1249267571970165.\n"
          ],
          "name": "stderr"
        },
        {
          "output_type": "stream",
          "text": [
            "[0]\tvalidation-rmse:7.32063\n",
            "[1]\tvalidation-rmse:6.46292\n",
            "[2]\tvalidation-rmse:6.15682\n",
            "[3]\tvalidation-rmse:5.54999\n",
            "[4]\tvalidation-rmse:5.55136\n",
            "[5]\tvalidation-rmse:5.76249\n",
            "[6]\tvalidation-rmse:5.5595\n",
            "[7]\tvalidation-rmse:5.37357\n",
            "[8]\tvalidation-rmse:5.3508\n",
            "[9]\tvalidation-rmse:5.23928\n"
          ],
          "name": "stdout"
        },
        {
          "output_type": "stream",
          "text": [
            "[I 2020-07-08 14:05:19,025] Finished trial#666 with value: 3.5885927181263 with parameters: {'combos': 1, 'ada_Scaler': 'log', 'ada_ne': 235, 'ada_lr': 0.5963725351364831, 'et_Scaler': 'stand', 'et_max_depth': 10, 'et_ne': 614, 'xgb_Scaler': 'log', 'booster': 'gbtree', 'lambda': 0.022916371296889417, 'alpha': 0.014953108978965991, 'max_depth': 1, 'eta': 0.9882921234833546, 'gamma': 0.00037714895178160487, 'grow_policy': 'lossguide'}. Best is trial#563 with value: 3.1249267571970165.\n"
          ],
          "name": "stderr"
        },
        {
          "output_type": "stream",
          "text": [
            "[0]\tvalidation-rmse:14.2548\n",
            "[1]\tvalidation-rmse:8.85532\n",
            "[2]\tvalidation-rmse:6.05682\n",
            "[3]\tvalidation-rmse:4.52845\n",
            "[4]\tvalidation-rmse:3.97771\n",
            "[5]\tvalidation-rmse:3.79849\n",
            "[6]\tvalidation-rmse:3.79447\n",
            "[7]\tvalidation-rmse:3.73477\n",
            "[8]\tvalidation-rmse:3.68402\n",
            "[9]\tvalidation-rmse:3.66346\n"
          ],
          "name": "stdout"
        },
        {
          "output_type": "stream",
          "text": [
            "[I 2020-07-08 14:05:20,372] Finished trial#667 with value: 3.297453303060326 with parameters: {'combos': 1, 'ada_Scaler': 'log', 'ada_ne': 211, 'ada_lr': 0.6917280025283553, 'et_Scaler': 'stand', 'et_max_depth': 7, 'et_ne': 640, 'xgb_Scaler': 'log', 'booster': 'gbtree', 'lambda': 0.1269445737483289, 'alpha': 0.025795293764731803, 'max_depth': 3, 'eta': 0.42286605942946703, 'gamma': 5.920091447847444e-08, 'grow_policy': 'depthwise'}. Best is trial#563 with value: 3.1249267571970165.\n",
            "[I 2020-07-08 14:05:21,496] Setting status of trial#668 as TrialState.PRUNED. Trial was pruned at iteration 11.\n"
          ],
          "name": "stderr"
        },
        {
          "output_type": "stream",
          "text": [
            "[0]\tvalidation-rmse:9.62181\n",
            "[1]\tvalidation-rmse:5.05856\n",
            "[2]\tvalidation-rmse:3.95815\n",
            "[3]\tvalidation-rmse:3.94743\n",
            "[4]\tvalidation-rmse:3.86738\n",
            "[5]\tvalidation-rmse:4.03359\n",
            "[6]\tvalidation-rmse:4.07995\n",
            "[7]\tvalidation-rmse:4.13255\n",
            "[8]\tvalidation-rmse:4.04029\n",
            "[9]\tvalidation-rmse:3.97593\n"
          ],
          "name": "stdout"
        },
        {
          "output_type": "stream",
          "text": [
            "[I 2020-07-08 14:05:23,061] Finished trial#669 with value: 3.196150795482907 with parameters: {'combos': 1, 'ada_Scaler': 'log', 'ada_ne': 194, 'ada_lr': 0.6511585430653248, 'et_Scaler': 'stand', 'et_max_depth': 9, 'et_ne': 664, 'xgb_Scaler': 'log', 'booster': 'gbtree', 'lambda': 0.03623359019215915, 'alpha': 0.06364783330702085, 'max_depth': 3, 'eta': 0.634367581723944, 'gamma': 1.7860802949689823e-08, 'grow_policy': 'depthwise'}. Best is trial#563 with value: 3.1249267571970165.\n"
          ],
          "name": "stderr"
        },
        {
          "output_type": "stream",
          "text": [
            "[0]\tvalidation-rmse:10.2782\n",
            "[1]\tvalidation-rmse:5.60035\n",
            "[2]\tvalidation-rmse:4.06624\n",
            "[3]\tvalidation-rmse:3.86187\n",
            "[4]\tvalidation-rmse:3.8434\n",
            "[5]\tvalidation-rmse:3.8607\n",
            "[6]\tvalidation-rmse:3.83371\n",
            "[7]\tvalidation-rmse:3.83262\n",
            "[8]\tvalidation-rmse:3.85362\n",
            "[9]\tvalidation-rmse:3.81678\n"
          ],
          "name": "stdout"
        },
        {
          "output_type": "stream",
          "text": [
            "[I 2020-07-08 14:05:24,543] Finished trial#670 with value: 3.2266097481650315 with parameters: {'combos': 1, 'ada_Scaler': 'log', 'ada_ne': 196, 'ada_lr': 0.6564270737189556, 'et_Scaler': 'stand', 'et_max_depth': 9, 'et_ne': 685, 'xgb_Scaler': 'log', 'booster': 'gbtree', 'lambda': 0.014658929734177348, 'alpha': 0.3474278669467666, 'max_depth': 3, 'eta': 0.6090778567392553, 'gamma': 1.6747926427347033e-08, 'grow_policy': 'depthwise'}. Best is trial#563 with value: 3.1249267571970165.\n"
          ],
          "name": "stderr"
        },
        {
          "output_type": "stream",
          "text": [
            "[0]\tvalidation-rmse:8.21507\n",
            "[1]\tvalidation-rmse:5.12336\n",
            "[2]\tvalidation-rmse:4.35007\n",
            "[3]\tvalidation-rmse:4.23337\n",
            "[4]\tvalidation-rmse:4.2864\n",
            "[5]\tvalidation-rmse:4.49354\n",
            "[6]\tvalidation-rmse:4.41406\n",
            "[7]\tvalidation-rmse:4.36158\n",
            "[8]\tvalidation-rmse:4.56174\n",
            "[9]\tvalidation-rmse:4.57572\n"
          ],
          "name": "stdout"
        },
        {
          "output_type": "stream",
          "text": [
            "[I 2020-07-08 14:05:25,977] Finished trial#671 with value: 3.2800046539621683 with parameters: {'combos': 1, 'ada_Scaler': 'log', 'ada_ne': 126, 'ada_lr': 0.7407687160342551, 'et_Scaler': 'stand', 'et_max_depth': 10, 'et_ne': 669, 'xgb_Scaler': 'log', 'booster': 'gbtree', 'lambda': 0.033869921914908854, 'alpha': 0.064563929707845, 'max_depth': 3, 'eta': 0.7220559034931149, 'gamma': 2.9828956727649114e-08, 'grow_policy': 'depthwise'}. Best is trial#563 with value: 3.1249267571970165.\n"
          ],
          "name": "stderr"
        },
        {
          "output_type": "stream",
          "text": [
            "[0]\tvalidation-rmse:16.4464\n",
            "[1]\tvalidation-rmse:11.491\n",
            "[2]\tvalidation-rmse:8.27451\n",
            "[3]\tvalidation-rmse:6.20423\n",
            "[4]\tvalidation-rmse:4.90763\n",
            "[5]\tvalidation-rmse:4.16932\n",
            "[6]\tvalidation-rmse:3.79845\n",
            "[7]\tvalidation-rmse:3.73719\n",
            "[8]\tvalidation-rmse:3.67819\n",
            "[9]\tvalidation-rmse:3.59197\n"
          ],
          "name": "stdout"
        },
        {
          "output_type": "stream",
          "text": [
            "[I 2020-07-08 14:05:27,630] Finished trial#672 with value: 3.2619765202748963 with parameters: {'combos': 1, 'ada_Scaler': 'log', 'ada_ne': 214, 'ada_lr': 0.08540036115379727, 'et_Scaler': 'stand', 'et_max_depth': 11, 'et_ne': 659, 'xgb_Scaler': 'log', 'booster': 'gbtree', 'lambda': 0.026585138576806343, 'alpha': 0.04824206199494868, 'max_depth': 3, 'eta': 0.32322617240467527, 'gamma': 1.3714252881981317e-08, 'grow_policy': 'depthwise'}. Best is trial#563 with value: 3.1249267571970165.\n"
          ],
          "name": "stderr"
        },
        {
          "output_type": "stream",
          "text": [
            "[0]\tvalidation-rmse:14.3932\n",
            "[1]\tvalidation-rmse:9.02352\n",
            "[2]\tvalidation-rmse:6.49126\n",
            "[3]\tvalidation-rmse:5.02854\n",
            "[4]\tvalidation-rmse:4.28738\n",
            "[5]\tvalidation-rmse:3.98113\n",
            "[6]\tvalidation-rmse:3.96733\n",
            "[7]\tvalidation-rmse:3.87845\n",
            "[8]\tvalidation-rmse:3.84407\n",
            "[9]\tvalidation-rmse:3.86959\n"
          ],
          "name": "stdout"
        },
        {
          "output_type": "stream",
          "text": [
            "[I 2020-07-08 14:05:28,671] Finished trial#673 with value: 3.9244721991773623 with parameters: {'combos': 8, 'et_Scaler': 'stand', 'et_max_depth': 6, 'et_ne': 655, 'xgb_Scaler': 'log', 'booster': 'gbtree', 'lambda': 0.042264787957547546, 'alpha': 0.0772314441263804, 'max_depth': 2, 'eta': 0.4359559165263393, 'gamma': 2.1315401831800788e-08, 'grow_policy': 'depthwise', 'gbm_Scaler': 'log', 'lambda_l1': 0.0007956641728093661, 'lambda_l2': 1.6996403531684245e-05, 'num_leaves': 89, 'feature_fraction': 0.4900178251120012, 'bagging_fraction': 0.4776817951087371, 'bagging_freq': 5, 'min_child_samples': 77}. Best is trial#563 with value: 3.1249267571970165.\n"
          ],
          "name": "stderr"
        },
        {
          "output_type": "stream",
          "text": [
            "[0]\tvalidation-rmse:19.5782\n",
            "[1]\tvalidation-rmse:16.0061\n",
            "[2]\tvalidation-rmse:13.1796\n",
            "[3]\tvalidation-rmse:10.9225\n",
            "[4]\tvalidation-rmse:9.17412\n",
            "[5]\tvalidation-rmse:7.73605\n",
            "[6]\tvalidation-rmse:6.64319\n",
            "[7]\tvalidation-rmse:5.80656\n",
            "[8]\tvalidation-rmse:5.23513\n",
            "[9]\tvalidation-rmse:4.73155\n"
          ],
          "name": "stdout"
        },
        {
          "output_type": "stream",
          "text": [
            "[I 2020-07-08 14:05:29,937] Finished trial#674 with value: 3.548124458618963 with parameters: {'combos': 1, 'ada_Scaler': 'log', 'ada_ne': 92, 'ada_lr': 0.7569672692387017, 'et_Scaler': 'stand', 'et_max_depth': 9, 'et_ne': 637, 'xgb_Scaler': 'log', 'booster': 'gbtree', 'lambda': 0.017235064188611822, 'alpha': 0.03944929015480646, 'max_depth': 3, 'eta': 0.18715648310690117, 'gamma': 3.9198888617052315e-08, 'grow_policy': 'depthwise'}. Best is trial#563 with value: 3.1249267571970165.\n"
          ],
          "name": "stderr"
        },
        {
          "output_type": "stream",
          "text": [
            "[0]\tvalidation-rmse:9.40581\n",
            "[1]\tvalidation-rmse:5.36282\n",
            "[2]\tvalidation-rmse:4.15589\n",
            "[3]\tvalidation-rmse:4.02085\n",
            "[4]\tvalidation-rmse:4.30819\n",
            "[5]\tvalidation-rmse:4.35269\n",
            "[6]\tvalidation-rmse:4.36682\n",
            "[7]\tvalidation-rmse:4.37453\n",
            "[8]\tvalidation-rmse:4.29775\n",
            "[9]\tvalidation-rmse:4.31741\n"
          ],
          "name": "stdout"
        },
        {
          "output_type": "stream",
          "text": [
            "[I 2020-07-08 14:05:31,401] Finished trial#675 with value: 3.2908343410814505 with parameters: {'combos': 1, 'ada_Scaler': 'log', 'ada_ne': 148, 'ada_lr': 0.6960546517362022, 'et_Scaler': 'stand', 'et_max_depth': 10, 'et_ne': 674, 'xgb_Scaler': 'log', 'booster': 'gbtree', 'lambda': 0.011140588724314835, 'alpha': 0.028145367395408207, 'max_depth': 3, 'eta': 0.6545825426259386, 'gamma': 0.0015439952028279017, 'grow_policy': 'depthwise'}. Best is trial#563 with value: 3.1249267571970165.\n"
          ],
          "name": "stderr"
        },
        {
          "output_type": "stream",
          "text": [
            "[0]\tvalidation-rmse:7.35166\n",
            "[1]\tvalidation-rmse:4.48466\n",
            "[2]\tvalidation-rmse:4.37721\n",
            "[3]\tvalidation-rmse:4.48766\n",
            "[4]\tvalidation-rmse:4.39323\n",
            "[5]\tvalidation-rmse:4.29956\n",
            "[6]\tvalidation-rmse:4.33711\n",
            "[7]\tvalidation-rmse:4.37287\n",
            "[8]\tvalidation-rmse:4.41282\n",
            "[9]\tvalidation-rmse:4.41373\n"
          ],
          "name": "stdout"
        },
        {
          "output_type": "stream",
          "text": [
            "[I 2020-07-08 14:05:32,835] Finished trial#676 with value: 3.3557180954782333 with parameters: {'combos': 1, 'ada_Scaler': 'log', 'ada_ne': 233, 'ada_lr': 0.661327543051529, 'et_Scaler': 'stand', 'et_max_depth': 8, 'et_ne': 626, 'xgb_Scaler': 'log', 'booster': 'gbtree', 'lambda': 0.03719068670726067, 'alpha': 0.0058945542333584755, 'max_depth': 3, 'eta': 0.7566185727226212, 'gamma': 1.0385615662002513e-08, 'grow_policy': 'depthwise'}. Best is trial#563 with value: 3.1249267571970165.\n"
          ],
          "name": "stderr"
        },
        {
          "output_type": "stream",
          "text": [
            "[0]\tvalidation-rmse:6.13326\n",
            "[1]\tvalidation-rmse:5.17533\n",
            "[2]\tvalidation-rmse:5.2766\n",
            "[3]\tvalidation-rmse:5.22739\n",
            "[4]\tvalidation-rmse:4.96897\n",
            "[5]\tvalidation-rmse:4.91815\n",
            "[6]\tvalidation-rmse:4.81474\n",
            "[7]\tvalidation-rmse:4.8217\n",
            "[8]\tvalidation-rmse:4.85473\n",
            "[9]\tvalidation-rmse:4.84036\n"
          ],
          "name": "stdout"
        },
        {
          "output_type": "stream",
          "text": [
            "[I 2020-07-08 14:05:34,065] Finished trial#677 with value: 3.5026749977007876 with parameters: {'combos': 1, 'ada_Scaler': 'log', 'ada_ne': 37, 'ada_lr': 0.7067875730772987, 'et_Scaler': 'stand', 'et_max_depth': 9, 'et_ne': 690, 'xgb_Scaler': 'log', 'booster': 'gbtree', 'lambda': 0.021383150627768178, 'alpha': 0.10820024874074911, 'max_depth': 3, 'eta': 0.9610851585065788, 'gamma': 2.7451277860891357e-08, 'grow_policy': 'depthwise'}. Best is trial#563 with value: 3.1249267571970165.\n",
            "[I 2020-07-08 14:05:35,346] Setting status of trial#678 as TrialState.PRUNED. Trial was pruned at iteration 11.\n"
          ],
          "name": "stderr"
        },
        {
          "output_type": "stream",
          "text": [
            "[0]\tvalidation-rmse:16.4491\n",
            "[1]\tvalidation-rmse:11.561\n",
            "[2]\tvalidation-rmse:8.28219\n",
            "[3]\tvalidation-rmse:6.24925\n",
            "[4]\tvalidation-rmse:5.0424\n",
            "[5]\tvalidation-rmse:4.34212\n",
            "[6]\tvalidation-rmse:4.01258\n",
            "[7]\tvalidation-rmse:3.88122\n",
            "[8]\tvalidation-rmse:3.81121\n",
            "[9]\tvalidation-rmse:3.73814\n"
          ],
          "name": "stdout"
        },
        {
          "output_type": "stream",
          "text": [
            "[I 2020-07-08 14:05:36,934] Finished trial#679 with value: 3.2989932197117753 with parameters: {'combos': 1, 'ada_Scaler': 'log', 'ada_ne': 163, 'ada_lr': 0.6309213207708781, 'et_Scaler': 'stand', 'et_max_depth': 10, 'et_ne': 631, 'xgb_Scaler': 'log', 'booster': 'gbtree', 'lambda': 0.06333889178814033, 'alpha': 0.0033434288471924332, 'max_depth': 3, 'eta': 0.3230077843033667, 'gamma': 1.0024673887834187e-08, 'grow_policy': 'depthwise'}. Best is trial#563 with value: 3.1249267571970165.\n"
          ],
          "name": "stderr"
        },
        {
          "output_type": "stream",
          "text": [
            "[0]\tvalidation-rmse:5.92313\n",
            "[1]\tvalidation-rmse:5.44519\n",
            "[2]\tvalidation-rmse:5.0432\n",
            "[3]\tvalidation-rmse:4.80192\n",
            "[4]\tvalidation-rmse:4.75094\n",
            "[5]\tvalidation-rmse:4.56285\n",
            "[6]\tvalidation-rmse:4.60331\n",
            "[7]\tvalidation-rmse:4.69029\n",
            "[8]\tvalidation-rmse:4.77695\n",
            "[9]\tvalidation-rmse:4.82183\n"
          ],
          "name": "stdout"
        },
        {
          "output_type": "stream",
          "text": [
            "[I 2020-07-08 14:05:38,465] Finished trial#680 with value: 3.444886874912174 with parameters: {'combos': 1, 'ada_Scaler': 'log', 'ada_ne': 195, 'ada_lr': 0.32229590505843725, 'et_Scaler': 'stand', 'et_max_depth': 10, 'et_ne': 661, 'xgb_Scaler': 'log', 'booster': 'gbtree', 'lambda': 0.04722843178747144, 'alpha': 0.20423007162650456, 'max_depth': 2, 'eta': 0.9866507437719494, 'gamma': 1.8732035243702195e-08, 'grow_policy': 'depthwise'}. Best is trial#563 with value: 3.1249267571970165.\n"
          ],
          "name": "stderr"
        },
        {
          "output_type": "stream",
          "text": [
            "[0]\tvalidation-rmse:12.7343\n",
            "[1]\tvalidation-rmse:7.34187\n",
            "[2]\tvalidation-rmse:5.1248\n",
            "[3]\tvalidation-rmse:4.09882\n",
            "[4]\tvalidation-rmse:3.97622\n",
            "[5]\tvalidation-rmse:3.88277\n",
            "[6]\tvalidation-rmse:3.82243\n",
            "[7]\tvalidation-rmse:3.84013\n",
            "[8]\tvalidation-rmse:3.81262\n",
            "[9]\tvalidation-rmse:3.79582\n"
          ],
          "name": "stdout"
        },
        {
          "output_type": "stream",
          "text": [
            "[I 2020-07-08 14:05:39,684] Finished trial#681 with value: 3.3351592886168526 with parameters: {'combos': 1, 'ada_Scaler': 'log', 'ada_ne': 113, 'ada_lr': 0.6970614155501472, 'et_Scaler': 'stand', 'et_max_depth': 8, 'et_ne': 618, 'xgb_Scaler': 'log', 'booster': 'gbtree', 'lambda': 0.290044917355443, 'alpha': 0.019593128485551753, 'max_depth': 4, 'eta': 0.48719084918511474, 'gamma': 5.0224548108630304e-08, 'grow_policy': 'depthwise'}. Best is trial#563 with value: 3.1249267571970165.\n"
          ],
          "name": "stderr"
        },
        {
          "output_type": "stream",
          "text": [
            "[0]\tvalidation-rmse:15.0972\n",
            "[1]\tvalidation-rmse:9.81865\n",
            "[2]\tvalidation-rmse:6.77713\n",
            "[3]\tvalidation-rmse:5.10985\n",
            "[4]\tvalidation-rmse:4.24372\n",
            "[5]\tvalidation-rmse:3.92787\n",
            "[6]\tvalidation-rmse:3.81392\n",
            "[7]\tvalidation-rmse:3.77054\n",
            "[8]\tvalidation-rmse:3.74549\n",
            "[9]\tvalidation-rmse:3.85084\n"
          ],
          "name": "stdout"
        },
        {
          "output_type": "stream",
          "text": [
            "[I 2020-07-08 14:05:41,230] Finished trial#682 with value: 3.285989297546236 with parameters: {'combos': 1, 'ada_Scaler': 'log', 'ada_ne': 182, 'ada_lr': 0.6496895465237261, 'et_Scaler': 'stand', 'et_max_depth': 11, 'et_ne': 644, 'xgb_Scaler': 'log', 'booster': 'gbtree', 'lambda': 0.007182824457745666, 'alpha': 0.010673552974052206, 'max_depth': 3, 'eta': 0.3825522263670524, 'gamma': 3.0093712690478216e-08, 'grow_policy': 'depthwise'}. Best is trial#563 with value: 3.1249267571970165.\n"
          ],
          "name": "stderr"
        },
        {
          "output_type": "stream",
          "text": [
            "[0]\tvalidation-rmse:18.4203\n",
            "[1]\tvalidation-rmse:14.199\n",
            "[2]\tvalidation-rmse:11.0738\n",
            "[3]\tvalidation-rmse:8.81681\n",
            "[4]\tvalidation-rmse:7.11988\n",
            "[5]\tvalidation-rmse:5.89798\n",
            "[6]\tvalidation-rmse:5.06427\n",
            "[7]\tvalidation-rmse:4.55671\n",
            "[8]\tvalidation-rmse:4.21981\n",
            "[9]\tvalidation-rmse:4.06558\n"
          ],
          "name": "stdout"
        },
        {
          "output_type": "stream",
          "text": [
            "[I 2020-07-08 14:05:42,624] Finished trial#683 with value: 3.3462285516111225 with parameters: {'combos': 1, 'ada_Scaler': 'log', 'ada_ne': 137, 'ada_lr': 0.6029573564859526, 'et_Scaler': 'stand', 'et_max_depth': 9, 'et_ne': 688, 'xgb_Scaler': 'log', 'booster': 'gbtree', 'lambda': 0.08694448848551148, 'alpha': 0.0068030780941203866, 'max_depth': 3, 'eta': 0.23782917800776518, 'gamma': 4.5195756807700825e-08, 'grow_policy': 'depthwise'}. Best is trial#563 with value: 3.1249267571970165.\n"
          ],
          "name": "stderr"
        },
        {
          "output_type": "stream",
          "text": [
            "[0]\tvalidation-rmse:11.1806\n",
            "[1]\tvalidation-rmse:6.0787\n",
            "[2]\tvalidation-rmse:4.1281\n",
            "[3]\tvalidation-rmse:3.86679\n",
            "[4]\tvalidation-rmse:3.93945\n",
            "[5]\tvalidation-rmse:4.04649\n",
            "[6]\tvalidation-rmse:4.06014\n",
            "[7]\tvalidation-rmse:4.1936\n",
            "[8]\tvalidation-rmse:4.15665\n",
            "[9]\tvalidation-rmse:4.07287\n"
          ],
          "name": "stdout"
        },
        {
          "output_type": "stream",
          "text": [
            "[I 2020-07-08 14:05:43,905] Finished trial#684 with value: 3.342921938017868 with parameters: {'combos': 1, 'ada_Scaler': 'log', 'ada_ne': 162, 'ada_lr': 0.7488575806113749, 'et_Scaler': 'stand', 'et_max_depth': 9, 'et_ne': 575, 'xgb_Scaler': 'log', 'booster': 'gbtree', 'lambda': 0.03192523303456792, 'alpha': 0.03775636069177762, 'max_depth': 3, 'eta': 0.5643167828605206, 'gamma': 7.955177340305828e-08, 'grow_policy': 'lossguide'}. Best is trial#563 with value: 3.1249267571970165.\n"
          ],
          "name": "stderr"
        },
        {
          "output_type": "stream",
          "text": [
            "[0]\tvalidation-rmse:8.51208\n",
            "[1]\tvalidation-rmse:4.3612\n",
            "[2]\tvalidation-rmse:3.908\n",
            "[3]\tvalidation-rmse:3.75493\n",
            "[4]\tvalidation-rmse:3.71192\n",
            "[5]\tvalidation-rmse:3.7368\n",
            "[6]\tvalidation-rmse:3.71537\n",
            "[7]\tvalidation-rmse:3.77284\n",
            "[8]\tvalidation-rmse:3.77182\n",
            "[9]\tvalidation-rmse:3.7739\n"
          ],
          "name": "stdout"
        },
        {
          "output_type": "stream",
          "text": [
            "[I 2020-07-08 14:05:45,382] Finished trial#685 with value: 3.327469461282903 with parameters: {'combos': 1, 'ada_Scaler': 'log', 'ada_ne': 210, 'ada_lr': 0.6652647788457923, 'et_Scaler': 'stand', 'et_max_depth': 10, 'et_ne': 604, 'xgb_Scaler': 'log', 'booster': 'gbtree', 'lambda': 0.15131202926476317, 'alpha': 0.00020274619192885723, 'max_depth': 3, 'eta': 0.7057624891890341, 'gamma': 1.7392769186293033e-08, 'grow_policy': 'depthwise'}. Best is trial#563 with value: 3.1249267571970165.\n"
          ],
          "name": "stderr"
        },
        {
          "output_type": "stream",
          "text": [
            "[0]\tvalidation-rmse:6.18578\n",
            "[1]\tvalidation-rmse:5.24383\n",
            "[2]\tvalidation-rmse:5.18316\n",
            "[3]\tvalidation-rmse:5.18196\n",
            "[4]\tvalidation-rmse:5.20851\n",
            "[5]\tvalidation-rmse:5.12929\n",
            "[6]\tvalidation-rmse:5.12934\n",
            "[7]\tvalidation-rmse:5.02913\n",
            "[8]\tvalidation-rmse:5.19516\n",
            "[9]\tvalidation-rmse:5.09191\n"
          ],
          "name": "stdout"
        },
        {
          "output_type": "stream",
          "text": [
            "[I 2020-07-08 14:05:46,767] Finished trial#686 with value: 3.5054402647647063 with parameters: {'combos': 1, 'ada_Scaler': 'log', 'ada_ne': 185, 'ada_lr': 0.6166360662983021, 'et_Scaler': 'stand', 'et_max_depth': 8, 'et_ne': 667, 'xgb_Scaler': 'log', 'booster': 'gbtree', 'lambda': 0.022812617429232476, 'alpha': 0.011619214990532018, 'max_depth': 3, 'eta': 0.981453819854731, 'gamma': 3.4963501845993596e-08, 'grow_policy': 'depthwise'}. Best is trial#563 with value: 3.1249267571970165.\n"
          ],
          "name": "stderr"
        },
        {
          "output_type": "stream",
          "text": [
            "[0]\tvalidation-rmse:15.8653\n",
            "[1]\tvalidation-rmse:10.8264\n",
            "[2]\tvalidation-rmse:7.59618\n",
            "[3]\tvalidation-rmse:5.7512\n",
            "[4]\tvalidation-rmse:4.72508\n",
            "[5]\tvalidation-rmse:4.22452\n",
            "[6]\tvalidation-rmse:4.00464\n",
            "[7]\tvalidation-rmse:3.91543\n",
            "[8]\tvalidation-rmse:3.8747\n",
            "[9]\tvalidation-rmse:3.86481\n"
          ],
          "name": "stdout"
        },
        {
          "output_type": "stream",
          "text": [
            "[I 2020-07-08 14:05:48,215] Finished trial#687 with value: 3.4259552576896994 with parameters: {'combos': 1, 'ada_Scaler': 'log', 'ada_ne': 136, 'ada_lr': 0.5768833950515917, 'et_Scaler': 'minmax', 'et_max_depth': 11, 'et_ne': 630, 'xgb_Scaler': 'log', 'booster': 'gbtree', 'lambda': 0.0570701835393253, 'alpha': 0.02223454345131567, 'max_depth': 3, 'eta': 0.3484348193032111, 'gamma': 2.110655398853384e-08, 'grow_policy': 'depthwise'}. Best is trial#563 with value: 3.1249267571970165.\n",
            "[I 2020-07-08 14:05:49,530] Setting status of trial#688 as TrialState.PRUNED. Trial was pruned at iteration 11.\n"
          ],
          "name": "stderr"
        },
        {
          "output_type": "stream",
          "text": [
            "[0]\tvalidation-rmse:12.8816\n",
            "[1]\tvalidation-rmse:7.60056\n",
            "[2]\tvalidation-rmse:5.17361\n",
            "[3]\tvalidation-rmse:4.60722\n",
            "[4]\tvalidation-rmse:4.00599\n",
            "[5]\tvalidation-rmse:3.8758\n",
            "[6]\tvalidation-rmse:3.86109\n",
            "[7]\tvalidation-rmse:3.79987\n",
            "[8]\tvalidation-rmse:3.7629\n",
            "[9]\tvalidation-rmse:3.81278\n"
          ],
          "name": "stdout"
        },
        {
          "output_type": "stream",
          "text": [
            "[I 2020-07-08 14:05:51,014] Finished trial#689 with value: 3.2822659025247454 with parameters: {'combos': 1, 'ada_Scaler': 'log', 'ada_ne': 109, 'ada_lr': 0.11813152068182362, 'et_Scaler': 'stand', 'et_max_depth': 10, 'et_ne': 647, 'xgb_Scaler': 'log', 'booster': 'gbtree', 'lambda': 0.09695445029935261, 'alpha': 0.004580721468045598, 'max_depth': 2, 'eta': 0.5087039864720139, 'gamma': 6.578806663869154e-08, 'grow_policy': 'depthwise'}. Best is trial#563 with value: 3.1249267571970165.\n"
          ],
          "name": "stderr"
        },
        {
          "output_type": "stream",
          "text": [
            "[0]\tvalidation-rmse:18.0373\n",
            "[1]\tvalidation-rmse:13.5868\n",
            "[2]\tvalidation-rmse:10.4528\n",
            "[3]\tvalidation-rmse:8.08017\n",
            "[4]\tvalidation-rmse:6.47356\n",
            "[5]\tvalidation-rmse:5.30581\n",
            "[6]\tvalidation-rmse:4.56403\n",
            "[7]\tvalidation-rmse:4.0285\n",
            "[8]\tvalidation-rmse:3.79181\n",
            "[9]\tvalidation-rmse:3.67337\n"
          ],
          "name": "stdout"
        },
        {
          "output_type": "stream",
          "text": [
            "[I 2020-07-08 14:05:52,335] Finished trial#690 with value: 3.328039140731367 with parameters: {'combos': 1, 'ada_Scaler': 'log', 'ada_ne': 153, 'ada_lr': 0.6603564345935673, 'et_Scaler': 'stand', 'et_max_depth': 9, 'et_ne': 590, 'xgb_Scaler': 'log', 'booster': 'gbtree', 'lambda': 0.20776948408472445, 'alpha': 0.008685956263725994, 'max_depth': 3, 'eta': 0.2613176283170955, 'gamma': 1.2651034259676526e-08, 'grow_policy': 'depthwise'}. Best is trial#563 with value: 3.1249267571970165.\n"
          ],
          "name": "stderr"
        },
        {
          "output_type": "stream",
          "text": [
            "[0]\tvalidation-rmse:8.11674\n",
            "[1]\tvalidation-rmse:4.5419\n",
            "[2]\tvalidation-rmse:3.92838\n",
            "[3]\tvalidation-rmse:3.92287\n",
            "[4]\tvalidation-rmse:3.98324\n",
            "[5]\tvalidation-rmse:3.91593\n",
            "[6]\tvalidation-rmse:3.86682\n",
            "[7]\tvalidation-rmse:3.91453\n",
            "[8]\tvalidation-rmse:3.90531\n",
            "[9]\tvalidation-rmse:3.89496\n"
          ],
          "name": "stdout"
        },
        {
          "output_type": "stream",
          "text": [
            "[I 2020-07-08 14:05:53,382] Finished trial#691 with value: 3.4077109586971894 with parameters: {'combos': 1, 'ada_Scaler': 'log', 'ada_ne': 14, 'ada_lr': 0.7530625834305067, 'et_Scaler': 'stand', 'et_max_depth': 8, 'et_ne': 631, 'xgb_Scaler': 'log', 'booster': 'gbtree', 'lambda': 0.04294609012776376, 'alpha': 0.001971606850470851, 'max_depth': 3, 'eta': 0.7127204303892557, 'gamma': 0.0153126748991832, 'grow_policy': 'depthwise'}. Best is trial#563 with value: 3.1249267571970165.\n"
          ],
          "name": "stderr"
        },
        {
          "output_type": "stream",
          "text": [
            "[0]\tvalidation-rmse:13.1643\n",
            "[1]\tvalidation-rmse:7.61467\n",
            "[2]\tvalidation-rmse:5.21645\n",
            "[3]\tvalidation-rmse:4.32332\n",
            "[4]\tvalidation-rmse:4.06284\n",
            "[5]\tvalidation-rmse:4.04957\n",
            "[6]\tvalidation-rmse:4.05364\n",
            "[7]\tvalidation-rmse:4.03444\n",
            "[8]\tvalidation-rmse:4.07421\n",
            "[9]\tvalidation-rmse:4.08737\n"
          ],
          "name": "stdout"
        },
        {
          "output_type": "stream",
          "text": [
            "[I 2020-07-08 14:05:54,855] Finished trial#692 with value: 3.401910531234626 with parameters: {'combos': 1, 'ada_Scaler': 'log', 'ada_ne': 168, 'ada_lr': 0.6157017838911764, 'et_Scaler': 'stand', 'et_max_depth': 10, 'et_ne': 661, 'xgb_Scaler': 'log', 'booster': 'gbtree', 'lambda': 0.015120542589342388, 'alpha': 0.1903912460910662, 'max_depth': 4, 'eta': 0.45945427290869684, 'gamma': 1.0234060932097285e-07, 'grow_policy': 'depthwise'}. Best is trial#563 with value: 3.1249267571970165.\n"
          ],
          "name": "stderr"
        },
        {
          "output_type": "stream",
          "text": [
            "[0]\tvalidation-rmse:8.63806\n",
            "[1]\tvalidation-rmse:8.02012\n",
            "[2]\tvalidation-rmse:7.75127\n",
            "[3]\tvalidation-rmse:7.60301\n",
            "[4]\tvalidation-rmse:7.49931\n",
            "[5]\tvalidation-rmse:7.41591\n",
            "[6]\tvalidation-rmse:7.34341\n",
            "[7]\tvalidation-rmse:7.27856\n",
            "[8]\tvalidation-rmse:7.21641\n",
            "[9]\tvalidation-rmse:7.15733\n"
          ],
          "name": "stdout"
        },
        {
          "output_type": "stream",
          "text": [
            "[I 2020-07-08 14:05:56,218] Finished trial#693 with value: 3.9016425014238627 with parameters: {'combos': 1, 'ada_Scaler': 'log', 'ada_ne': 219, 'ada_lr': 0.517550144165624, 'et_Scaler': 'stand', 'et_max_depth': 9, 'et_ne': 550, 'xgb_Scaler': 'log', 'booster': 'gblinear', 'lambda': 0.07325562892079861, 'alpha': 0.0007488023191289671}. Best is trial#563 with value: 3.1249267571970165.\n"
          ],
          "name": "stderr"
        },
        {
          "output_type": "stream",
          "text": [
            "[0]\tvalidation-rmse:6.56933\n",
            "[1]\tvalidation-rmse:5.63641\n",
            "[2]\tvalidation-rmse:5.61816\n",
            "[3]\tvalidation-rmse:5.67647\n",
            "[4]\tvalidation-rmse:5.61534\n",
            "[5]\tvalidation-rmse:5.59297\n",
            "[6]\tvalidation-rmse:5.55378\n",
            "[7]\tvalidation-rmse:5.51359\n",
            "[8]\tvalidation-rmse:5.43109\n",
            "[9]\tvalidation-rmse:5.46454\n"
          ],
          "name": "stdout"
        },
        {
          "output_type": "stream",
          "text": [
            "[I 2020-07-08 14:05:57,524] Finished trial#694 with value: 3.5400161195283553 with parameters: {'combos': 1, 'ada_Scaler': 'log', 'ada_ne': 84, 'ada_lr': 0.5545962972185228, 'et_Scaler': 'stand', 'et_max_depth': 11, 'et_ne': 605, 'xgb_Scaler': 'minmax', 'booster': 'gbtree', 'lambda': 0.032425060649485485, 'alpha': 0.005061122679570091, 'max_depth': 3, 'eta': 0.9497575677856662, 'gamma': 2.6814498081370972e-08, 'grow_policy': 'depthwise'}. Best is trial#563 with value: 3.1249267571970165.\n",
            "[I 2020-07-08 14:05:58,563] Setting status of trial#695 as TrialState.PRUNED. Trial was pruned at iteration 19.\n"
          ],
          "name": "stderr"
        },
        {
          "output_type": "stream",
          "text": [
            "[0]\tvalidation-rmse:19.9622\n",
            "[1]\tvalidation-rmse:16.6316\n",
            "[2]\tvalidation-rmse:16.6316\n",
            "[3]\tvalidation-rmse:11.7379\n",
            "[4]\tvalidation-rmse:13.167\n",
            "[5]\tvalidation-rmse:9.99122\n",
            "[6]\tvalidation-rmse:7.34289\n",
            "[7]\tvalidation-rmse:6.44459\n",
            "[8]\tvalidation-rmse:9.71248\n",
            "[9]\tvalidation-rmse:5.30225\n"
          ],
          "name": "stdout"
        },
        {
          "output_type": "stream",
          "text": [
            "[I 2020-07-08 14:06:00,020] Finished trial#696 with value: 3.4784019640375163 with parameters: {'combos': 1, 'ada_Scaler': 'log', 'ada_ne': 126, 'ada_lr': 0.7008481553693543, 'et_Scaler': 'stand', 'et_max_depth': 10, 'et_ne': 619, 'xgb_Scaler': 'log', 'booster': 'dart', 'lambda': 0.0007629180335273157, 'alpha': 0.014117672707294035, 'max_depth': 3, 'eta': 0.1704812486536699, 'gamma': 5.226430981928972e-08, 'grow_policy': 'depthwise', 'sample_type': 'uniform', 'normalize_type': 'tree', 'rate_drop': 0.04631407692796505, 'skip_drop': 4.850218504242035e-06}. Best is trial#563 with value: 3.1249267571970165.\n"
          ],
          "name": "stderr"
        },
        {
          "output_type": "stream",
          "text": [
            "[0]\tvalidation-rmse:11.317\n",
            "[1]\tvalidation-rmse:6.04213\n",
            "[2]\tvalidation-rmse:4.00026\n",
            "[3]\tvalidation-rmse:3.70295\n",
            "[4]\tvalidation-rmse:3.6389\n",
            "[5]\tvalidation-rmse:3.58743\n",
            "[6]\tvalidation-rmse:3.67072\n",
            "[7]\tvalidation-rmse:3.80391\n",
            "[8]\tvalidation-rmse:3.73959\n",
            "[9]\tvalidation-rmse:3.67538\n"
          ],
          "name": "stdout"
        },
        {
          "output_type": "stream",
          "text": [
            "[I 2020-07-08 14:06:01,334] Finished trial#697 with value: 3.2681015182964943 with parameters: {'combos': 1, 'ada_Scaler': 'log', 'ada_ne': 174, 'ada_lr': 0.642605867851648, 'et_Scaler': 'stand', 'et_max_depth': 9, 'et_ne': 574, 'xgb_Scaler': 'log', 'booster': 'gbtree', 'lambda': 0.1166354455953398, 'alpha': 0.059605762891280174, 'max_depth': 3, 'eta': 0.5576772278725953, 'gamma': 3.785061719208044e-08, 'grow_policy': 'depthwise'}. Best is trial#563 with value: 3.1249267571970165.\n"
          ],
          "name": "stderr"
        },
        {
          "output_type": "stream",
          "text": [
            "[0]\tvalidation-rmse:5.82631\n",
            "[1]\tvalidation-rmse:5.57606\n",
            "[2]\tvalidation-rmse:6.18374\n",
            "[3]\tvalidation-rmse:5.88652\n",
            "[4]\tvalidation-rmse:5.90406\n",
            "[5]\tvalidation-rmse:5.95577\n",
            "[6]\tvalidation-rmse:5.918\n",
            "[7]\tvalidation-rmse:5.94746\n",
            "[8]\tvalidation-rmse:5.87463\n",
            "[9]\tvalidation-rmse:5.87051\n"
          ],
          "name": "stdout"
        },
        {
          "output_type": "stream",
          "text": [
            "[I 2020-07-08 14:06:02,580] Finished trial#698 with value: 3.680945122189796 with parameters: {'combos': 1, 'ada_Scaler': 'log', 'ada_ne': 152, 'ada_lr': 0.6708024426116045, 'et_Scaler': 'stand', 'et_max_depth': 8, 'et_ne': 593, 'xgb_Scaler': 'log', 'booster': 'gbtree', 'lambda': 0.02521660494134665, 'alpha': 0.031002104647317993, 'max_depth': 5, 'eta': 0.981253126310272, 'gamma': 1.6911487314259964e-07, 'grow_policy': 'depthwise'}. Best is trial#563 with value: 3.1249267571970165.\n"
          ],
          "name": "stderr"
        },
        {
          "output_type": "stream",
          "text": [
            "[0]\tvalidation-rmse:15.922\n",
            "[1]\tvalidation-rmse:10.8197\n",
            "[2]\tvalidation-rmse:7.65498\n",
            "[3]\tvalidation-rmse:5.70541\n",
            "[4]\tvalidation-rmse:4.53824\n",
            "[5]\tvalidation-rmse:4.01275\n",
            "[6]\tvalidation-rmse:3.79325\n",
            "[7]\tvalidation-rmse:3.71265\n",
            "[8]\tvalidation-rmse:3.65167\n",
            "[9]\tvalidation-rmse:3.62956\n"
          ],
          "name": "stdout"
        },
        {
          "output_type": "stream",
          "text": [
            "[I 2020-07-08 14:06:03,043] Finished trial#699 with value: 3.600544301355037 with parameters: {'combos': 5, 'ada_Scaler': 'log', 'ada_ne': 61, 'ada_lr': 0.599295997738521, 'xgb_Scaler': 'log', 'booster': 'gbtree', 'lambda': 0.005157856729869753, 'alpha': 0.007912960433841855, 'max_depth': 3, 'eta': 0.3458977625061152, 'gamma': 1.4223136220015388e-08, 'grow_policy': 'depthwise', 'gbm_Scaler': 'minmax', 'lambda_l1': 2.0054192837881356e-05, 'lambda_l2': 0.7037619460937423, 'num_leaves': 71, 'feature_fraction': 0.9451711916849419, 'bagging_fraction': 0.6857816516479821, 'bagging_freq': 6, 'min_child_samples': 100}. Best is trial#563 with value: 3.1249267571970165.\n"
          ],
          "name": "stderr"
        },
        {
          "output_type": "stream",
          "text": [
            "[0]\tvalidation-rmse:9.75925\n",
            "[1]\tvalidation-rmse:5.20472\n",
            "[2]\tvalidation-rmse:4.31579\n",
            "[3]\tvalidation-rmse:4.04069\n",
            "[4]\tvalidation-rmse:4.08901\n",
            "[5]\tvalidation-rmse:4.1632\n",
            "[6]\tvalidation-rmse:4.18384\n",
            "[7]\tvalidation-rmse:4.19188\n",
            "[8]\tvalidation-rmse:4.13102\n",
            "[9]\tvalidation-rmse:4.1905\n"
          ],
          "name": "stdout"
        },
        {
          "output_type": "stream",
          "text": [
            "[I 2020-07-08 14:06:04,568] Finished trial#700 with value: 3.3564472758166675 with parameters: {'combos': 1, 'ada_Scaler': 'log', 'ada_ne': 197, 'ada_lr': 0.5580188079395904, 'et_Scaler': 'stand', 'et_max_depth': 10, 'et_ne': 644, 'xgb_Scaler': 'stand', 'booster': 'gbtree', 'lambda': 0.05638027420399393, 'alpha': 0.0031244260173097695, 'max_depth': 3, 'eta': 0.6267030722551312, 'gamma': 2.2443279223985966e-08, 'grow_policy': 'depthwise'}. Best is trial#563 with value: 3.1249267571970165.\n"
          ],
          "name": "stderr"
        },
        {
          "output_type": "stream",
          "text": [
            "[0]\tvalidation-rmse:21.5309\n",
            "[1]\tvalidation-rmse:19.3533\n",
            "[2]\tvalidation-rmse:17.4395\n",
            "[3]\tvalidation-rmse:15.694\n",
            "[4]\tvalidation-rmse:14.1535\n",
            "[5]\tvalidation-rmse:12.786\n",
            "[6]\tvalidation-rmse:11.5544\n",
            "[7]\tvalidation-rmse:10.4708\n",
            "[8]\tvalidation-rmse:9.50833\n",
            "[9]\tvalidation-rmse:8.67929\n"
          ],
          "name": "stdout"
        },
        {
          "output_type": "stream",
          "text": [
            "[I 2020-07-08 14:06:06,152] Finished trial#701 with value: 4.065959373396273 with parameters: {'combos': 1, 'ada_Scaler': 'log', 'ada_ne': 100, 'ada_lr': 0.6253912031241865, 'et_Scaler': 'stand', 'et_max_depth': 14, 'et_ne': 682, 'xgb_Scaler': 'log', 'booster': 'gbtree', 'lambda': 0.00886462587454801, 'alpha': 0.021670787249841193, 'max_depth': 3, 'eta': 0.10366637952689545, 'gamma': 1.0012076359297978e-08, 'grow_policy': 'lossguide'}. Best is trial#563 with value: 3.1249267571970165.\n"
          ],
          "name": "stderr"
        },
        {
          "output_type": "stream",
          "text": [
            "[0]\tvalidation-rmse:14.7636\n",
            "[1]\tvalidation-rmse:9.30808\n",
            "[2]\tvalidation-rmse:6.21641\n",
            "[3]\tvalidation-rmse:4.57664\n",
            "[4]\tvalidation-rmse:3.76912\n",
            "[5]\tvalidation-rmse:3.47191\n",
            "[6]\tvalidation-rmse:3.23525\n",
            "[7]\tvalidation-rmse:3.19751\n",
            "[8]\tvalidation-rmse:3.17589\n",
            "[9]\tvalidation-rmse:3.14576\n"
          ],
          "name": "stdout"
        },
        {
          "output_type": "stream",
          "text": [
            "[I 2020-07-08 14:06:07,489] Finished trial#702 with value: 3.1691913891609933 with parameters: {'combos': 1, 'ada_Scaler': 'log', 'ada_ne': 135, 'ada_lr': 0.483454265798839, 'et_Scaler': 'stand', 'et_max_depth': 9, 'et_ne': 628, 'xgb_Scaler': 'log', 'booster': 'gbtree', 'lambda': 0.15084388743098448, 'alpha': 0.012656886537488763, 'max_depth': 3, 'eta': 0.40743704145698106, 'gamma': 7.00479105000846e-08, 'grow_policy': 'depthwise'}. Best is trial#563 with value: 3.1249267571970165.\n",
            "[I 2020-07-08 14:06:08,646] Setting status of trial#703 as TrialState.PRUNED. Trial was pruned at iteration 49.\n"
          ],
          "name": "stderr"
        },
        {
          "output_type": "stream",
          "text": [
            "[0]\tvalidation-rmse:23.9794\n",
            "[1]\tvalidation-rmse:23.9781\n",
            "[2]\tvalidation-rmse:23.9767\n",
            "[3]\tvalidation-rmse:23.9754\n",
            "[4]\tvalidation-rmse:23.9741\n",
            "[5]\tvalidation-rmse:23.9728\n",
            "[6]\tvalidation-rmse:23.9715\n",
            "[7]\tvalidation-rmse:23.9702\n",
            "[8]\tvalidation-rmse:23.9688\n",
            "[9]\tvalidation-rmse:23.9675\n"
          ],
          "name": "stdout"
        },
        {
          "output_type": "stream",
          "text": [
            "[I 2020-07-08 14:06:09,936] Finished trial#704 with value: 8.380986769162076 with parameters: {'combos': 1, 'ada_Scaler': 'log', 'ada_ne': 110, 'ada_lr': 0.4742365042579752, 'et_Scaler': 'stand', 'et_max_depth': 7, 'et_ne': 642, 'xgb_Scaler': 'log', 'booster': 'gbtree', 'lambda': 0.19463865853947904, 'alpha': 0.010466683255294913, 'max_depth': 3, 'eta': 5.751906253491341e-05, 'gamma': 6.152008735637035e-07, 'grow_policy': 'depthwise'}. Best is trial#563 with value: 3.1249267571970165.\n"
          ],
          "name": "stderr"
        },
        {
          "output_type": "stream",
          "text": [
            "[0]\tvalidation-rmse:17.0532\n",
            "[1]\tvalidation-rmse:12.3185\n",
            "[2]\tvalidation-rmse:9.08186\n",
            "[3]\tvalidation-rmse:6.95139\n",
            "[4]\tvalidation-rmse:5.74618\n",
            "[5]\tvalidation-rmse:4.95493\n",
            "[6]\tvalidation-rmse:4.48878\n",
            "[7]\tvalidation-rmse:4.18388\n",
            "[8]\tvalidation-rmse:4.07344\n",
            "[9]\tvalidation-rmse:3.9967\n"
          ],
          "name": "stdout"
        },
        {
          "output_type": "stream",
          "text": [
            "[I 2020-07-08 14:06:11,185] Finished trial#705 with value: 3.450114795346082 with parameters: {'combos': 1, 'ada_Scaler': 'log', 'ada_ne': 133, 'ada_lr': 0.10162100059248574, 'et_Scaler': 'stand', 'et_max_depth': 9, 'et_ne': 563, 'xgb_Scaler': 'log', 'booster': 'gbtree', 'lambda': 0.1428316236792003, 'alpha': 0.006438250832982693, 'max_depth': 3, 'eta': 0.2990908501211703, 'gamma': 8.634954390695567e-08, 'grow_policy': 'depthwise'}. Best is trial#563 with value: 3.1249267571970165.\n"
          ],
          "name": "stderr"
        },
        {
          "output_type": "stream",
          "text": [
            "[0]\tvalidation-rmse:5.02272\n",
            "[1]\tvalidation-rmse:5.10096\n",
            "[2]\tvalidation-rmse:5.01697\n",
            "[3]\tvalidation-rmse:5.14581\n",
            "[4]\tvalidation-rmse:5.01383\n",
            "[5]\tvalidation-rmse:4.7946\n",
            "[6]\tvalidation-rmse:4.62769\n",
            "[7]\tvalidation-rmse:4.63475\n",
            "[8]\tvalidation-rmse:4.58158\n",
            "[9]\tvalidation-rmse:4.66353\n"
          ],
          "name": "stdout"
        },
        {
          "output_type": "stream",
          "text": [
            "[I 2020-07-08 14:06:12,534] Finished trial#706 with value: 3.4480017513128574 with parameters: {'combos': 1, 'ada_Scaler': 'log', 'ada_ne': 150, 'ada_lr': 0.5187937527088963, 'et_Scaler': 'stand', 'et_max_depth': 8, 'et_ne': 669, 'xgb_Scaler': 'log', 'booster': 'gbtree', 'lambda': 0.36560162822508985, 'alpha': 0.013818569410496997, 'max_depth': 3, 'eta': 0.9969835480984625, 'gamma': 1.199465930074105e-07, 'grow_policy': 'depthwise'}. Best is trial#563 with value: 3.1249267571970165.\n",
            "[I 2020-07-08 14:06:13,618] Setting status of trial#707 as TrialState.PRUNED. Trial was pruned at iteration 11.\n"
          ],
          "name": "stderr"
        },
        {
          "output_type": "stream",
          "text": [
            "[0]\tvalidation-rmse:14.0682\n",
            "[1]\tvalidation-rmse:8.70186\n",
            "[2]\tvalidation-rmse:5.96074\n",
            "[3]\tvalidation-rmse:4.7158\n",
            "[4]\tvalidation-rmse:4.34188\n",
            "[5]\tvalidation-rmse:4.09441\n",
            "[6]\tvalidation-rmse:4.02915\n",
            "[7]\tvalidation-rmse:4.00302\n",
            "[8]\tvalidation-rmse:3.95407\n",
            "[9]\tvalidation-rmse:3.95145\n"
          ],
          "name": "stdout"
        },
        {
          "output_type": "stream",
          "text": [
            "[I 2020-07-08 14:06:15,075] Finished trial#708 with value: 3.409453622818855 with parameters: {'combos': 1, 'ada_Scaler': 'log', 'ada_ne': 142, 'ada_lr': 0.47961828265228856, 'et_Scaler': 'stand', 'et_max_depth': 10, 'et_ne': 588, 'xgb_Scaler': 'log', 'booster': 'gbtree', 'lambda': 0.23980714105620327, 'alpha': 0.0043010645813633865, 'max_depth': 3, 'eta': 0.44503969495670453, 'gamma': 6.336764250011856e-08, 'grow_policy': 'depthwise'}. Best is trial#563 with value: 3.1249267571970165.\n"
          ],
          "name": "stderr"
        },
        {
          "output_type": "stream",
          "text": [
            "[0]\tvalidation-rmse:18.5786\n",
            "[1]\tvalidation-rmse:14.5231\n",
            "[2]\tvalidation-rmse:11.3025\n",
            "[3]\tvalidation-rmse:9.08343\n",
            "[4]\tvalidation-rmse:7.41448\n",
            "[5]\tvalidation-rmse:6.10553\n",
            "[6]\tvalidation-rmse:5.26424\n",
            "[7]\tvalidation-rmse:4.64487\n",
            "[8]\tvalidation-rmse:4.30086\n",
            "[9]\tvalidation-rmse:4.08977\n"
          ],
          "name": "stdout"
        },
        {
          "output_type": "stream",
          "text": [
            "[I 2020-07-08 14:06:16,430] Finished trial#709 with value: 3.4032525910342173 with parameters: {'combos': 1, 'ada_Scaler': 'log', 'ada_ne': 117, 'ada_lr': 0.41625113848231926, 'et_Scaler': 'stand', 'et_max_depth': 9, 'et_ne': 661, 'xgb_Scaler': 'log', 'booster': 'gbtree', 'lambda': 0.12898485876490323, 'alpha': 0.008455633831363139, 'max_depth': 4, 'eta': 0.227963455601867, 'gamma': 7.89952590238594e-08, 'grow_policy': 'depthwise'}. Best is trial#563 with value: 3.1249267571970165.\n"
          ],
          "name": "stderr"
        },
        {
          "output_type": "stream",
          "text": [
            "[0]\tvalidation-rmse:9.09678\n",
            "[1]\tvalidation-rmse:5.33541\n",
            "[2]\tvalidation-rmse:4.2674\n",
            "[3]\tvalidation-rmse:4.30904\n",
            "[4]\tvalidation-rmse:4.35565\n",
            "[5]\tvalidation-rmse:4.36453\n",
            "[6]\tvalidation-rmse:4.358\n",
            "[7]\tvalidation-rmse:4.41854\n",
            "[8]\tvalidation-rmse:4.25939\n",
            "[9]\tvalidation-rmse:4.19655\n"
          ],
          "name": "stdout"
        },
        {
          "output_type": "stream",
          "text": [
            "[I 2020-07-08 14:06:17,731] Finished trial#710 with value: 3.4501145822688732 with parameters: {'combos': 1, 'ada_Scaler': 'log', 'ada_ne': 161, 'ada_lr': 0.5349670448221405, 'et_Scaler': 'stand', 'et_max_depth': 8, 'et_ne': 609, 'xgb_Scaler': 'log', 'booster': 'gbtree', 'lambda': 0.08798392654525371, 'alpha': 0.013453553140925601, 'max_depth': 2, 'eta': 0.703994370744654, 'gamma': 4.611046040624196e-08, 'grow_policy': 'depthwise'}. Best is trial#563 with value: 3.1249267571970165.\n"
          ],
          "name": "stderr"
        },
        {
          "output_type": "stream",
          "text": [
            "[0]\tvalidation-rmse:14.8037\n",
            "[1]\tvalidation-rmse:9.47958\n",
            "[2]\tvalidation-rmse:6.45868\n",
            "[3]\tvalidation-rmse:5.02593\n",
            "[4]\tvalidation-rmse:4.35165\n",
            "[5]\tvalidation-rmse:4.10867\n",
            "[6]\tvalidation-rmse:3.98339\n",
            "[7]\tvalidation-rmse:3.9748\n",
            "[8]\tvalidation-rmse:3.98928\n",
            "[9]\tvalidation-rmse:3.93494\n"
          ],
          "name": "stdout"
        },
        {
          "output_type": "stream",
          "text": [
            "[I 2020-07-08 14:06:19,156] Finished trial#711 with value: 3.323351195686541 with parameters: {'combos': 1, 'ada_Scaler': 'log', 'ada_ne': 172, 'ada_lr': 0.5021969202806319, 'et_Scaler': 'stand', 'et_max_depth': 9, 'et_ne': 639, 'xgb_Scaler': 'log', 'booster': 'gbtree', 'lambda': 0.014083427913587616, 'alpha': 0.005535604027608007, 'max_depth': 3, 'eta': 0.39581103854947347, 'gamma': 1.3191756704314235e-07, 'grow_policy': 'depthwise'}. Best is trial#563 with value: 3.1249267571970165.\n"
          ],
          "name": "stderr"
        },
        {
          "output_type": "stream",
          "text": [
            "[0]\tvalidation-rmse:20.1469\n",
            "[1]\tvalidation-rmse:16.9674\n",
            "[2]\tvalidation-rmse:14.3823\n",
            "[3]\tvalidation-rmse:12.1594\n",
            "[4]\tvalidation-rmse:10.3872\n",
            "[5]\tvalidation-rmse:8.99057\n",
            "[6]\tvalidation-rmse:7.84562\n",
            "[7]\tvalidation-rmse:6.94069\n",
            "[8]\tvalidation-rmse:6.23077\n",
            "[9]\tvalidation-rmse:5.7029\n"
          ],
          "name": "stdout"
        },
        {
          "output_type": "stream",
          "text": [
            "[I 2020-07-08 14:06:20,383] Finished trial#712 with value: 3.574926815616651 with parameters: {'combos': 1, 'ada_Scaler': 'log', 'ada_ne': 82, 'ada_lr': 0.5482033001787628, 'et_Scaler': 'stand', 'et_max_depth': 10, 'et_ne': 577, 'xgb_Scaler': 'log', 'booster': 'gbtree', 'lambda': 0.020384222925288683, 'alpha': 0.00996468667490362, 'max_depth': 6, 'eta': 0.1564296299449329, 'gamma': 1.8239491063703278e-07, 'grow_policy': 'depthwise'}. Best is trial#563 with value: 3.1249267571970165.\n"
          ],
          "name": "stderr"
        },
        {
          "output_type": "stream",
          "text": [
            "[0]\tvalidation-rmse:12.1157\n",
            "[1]\tvalidation-rmse:6.75789\n",
            "[2]\tvalidation-rmse:4.87213\n",
            "[3]\tvalidation-rmse:4.27581\n",
            "[4]\tvalidation-rmse:4.20684\n",
            "[5]\tvalidation-rmse:4.2389\n",
            "[6]\tvalidation-rmse:4.23939\n",
            "[7]\tvalidation-rmse:4.43715\n",
            "[8]\tvalidation-rmse:4.43268\n",
            "[9]\tvalidation-rmse:4.45272\n"
          ],
          "name": "stdout"
        },
        {
          "output_type": "stream",
          "text": [
            "[I 2020-07-08 14:06:21,847] Finished trial#713 with value: 3.416081072649867 with parameters: {'combos': 1, 'ada_Scaler': 'log', 'ada_ne': 138, 'ada_lr': 0.44830150340196057, 'et_Scaler': 'stand', 'et_max_depth': 11, 'et_ne': 631, 'xgb_Scaler': 'log', 'booster': 'gbtree', 'lambda': 0.00033425231446592194, 'alpha': 0.0024420565948047044, 'max_depth': 3, 'eta': 0.5189411315676448, 'gamma': 2.5429597036496314e-07, 'grow_policy': 'depthwise'}. Best is trial#563 with value: 3.1249267571970165.\n"
          ],
          "name": "stderr"
        },
        {
          "output_type": "stream",
          "text": [
            "[0]\tvalidation-rmse:6.27478\n",
            "[1]\tvalidation-rmse:5.32137\n",
            "[2]\tvalidation-rmse:5.26115\n",
            "[3]\tvalidation-rmse:5.25882\n",
            "[4]\tvalidation-rmse:5.28623\n",
            "[5]\tvalidation-rmse:5.09318\n",
            "[6]\tvalidation-rmse:5.32738\n",
            "[7]\tvalidation-rmse:5.20686\n",
            "[8]\tvalidation-rmse:5.1371\n",
            "[9]\tvalidation-rmse:5.09358\n"
          ],
          "name": "stdout"
        },
        {
          "output_type": "stream",
          "text": [
            "[I 2020-07-08 14:06:23,335] Finished trial#714 with value: 3.836763239710251 with parameters: {'combos': 6, 'et_Scaler': 'stand', 'et_max_depth': 10, 'et_ne': 601, 'rf_Scaler': 'stand', 'rf_max_depth': 5, 'rf_ne': 189, 'xgb_Scaler': 'log', 'booster': 'gbtree', 'lambda': 0.0001177702170562048, 'alpha': 0.017560482514119694, 'max_depth': 3, 'eta': 0.9823827450283644, 'gamma': 1.7756022891386362e-08, 'grow_policy': 'depthwise'}. Best is trial#563 with value: 3.1249267571970165.\n"
          ],
          "name": "stderr"
        },
        {
          "output_type": "stream",
          "text": [
            "[0]\tvalidation-rmse:17.1497\n",
            "[1]\tvalidation-rmse:12.4878\n",
            "[2]\tvalidation-rmse:9.22944\n",
            "[3]\tvalidation-rmse:7.12411\n",
            "[4]\tvalidation-rmse:5.72852\n",
            "[5]\tvalidation-rmse:4.71463\n",
            "[6]\tvalidation-rmse:4.25616\n",
            "[7]\tvalidation-rmse:4.04942\n",
            "[8]\tvalidation-rmse:3.92394\n",
            "[9]\tvalidation-rmse:3.88715\n"
          ],
          "name": "stdout"
        },
        {
          "output_type": "stream",
          "text": [
            "[I 2020-07-08 14:06:24,879] Finished trial#715 with value: 3.4211983497934404 with parameters: {'combos': 1, 'ada_Scaler': 'log', 'ada_ne': 111, 'ada_lr': 0.5694164268678628, 'et_Scaler': 'stand', 'et_max_depth': 12, 'et_ne': 688, 'xgb_Scaler': 'log', 'booster': 'gbtree', 'lambda': 0.035176337617757104, 'alpha': 0.006942523274857817, 'max_depth': 3, 'eta': 0.2925458580861634, 'gamma': 3.511338767636534e-08, 'grow_policy': 'depthwise'}. Best is trial#563 with value: 3.1249267571970165.\n"
          ],
          "name": "stderr"
        },
        {
          "output_type": "stream",
          "text": [
            "[0]\tvalidation-rmse:9.42755\n",
            "[1]\tvalidation-rmse:5.43278\n",
            "[2]\tvalidation-rmse:4.71772\n",
            "[3]\tvalidation-rmse:4.40325\n",
            "[4]\tvalidation-rmse:4.21323\n",
            "[5]\tvalidation-rmse:4.23193\n",
            "[6]\tvalidation-rmse:4.33348\n",
            "[7]\tvalidation-rmse:4.3554\n",
            "[8]\tvalidation-rmse:4.30443\n",
            "[9]\tvalidation-rmse:4.13856\n"
          ],
          "name": "stdout"
        },
        {
          "output_type": "stream",
          "text": [
            "[I 2020-07-08 14:06:26,102] Finished trial#716 with value: 3.422114067143017 with parameters: {'combos': 1, 'ada_Scaler': 'log', 'ada_ne': 157, 'ada_lr': 0.5197765508222668, 'et_Scaler': 'stand', 'et_max_depth': 6, 'et_ne': 652, 'xgb_Scaler': 'log', 'booster': 'gbtree', 'lambda': 0.16488419578970884, 'alpha': 0.011532720266427684, 'max_depth': 2, 'eta': 0.6862793340376847, 'gamma': 6.636746993067602e-08, 'grow_policy': 'depthwise'}. Best is trial#563 with value: 3.1249267571970165.\n"
          ],
          "name": "stderr"
        },
        {
          "output_type": "stream",
          "text": [
            "[0]\tvalidation-rmse:15.6376\n",
            "[1]\tvalidation-rmse:10.6784\n",
            "[2]\tvalidation-rmse:7.82451\n",
            "[3]\tvalidation-rmse:6.21854\n",
            "[4]\tvalidation-rmse:5.54113\n",
            "[5]\tvalidation-rmse:5.15867\n",
            "[6]\tvalidation-rmse:4.94145\n",
            "[7]\tvalidation-rmse:4.88915\n",
            "[8]\tvalidation-rmse:4.78798\n",
            "[9]\tvalidation-rmse:4.4736\n"
          ],
          "name": "stdout"
        },
        {
          "output_type": "stream",
          "text": [
            "[I 2020-07-08 14:06:27,476] Finished trial#717 with value: 3.4537737216068085 with parameters: {'combos': 1, 'ada_Scaler': 'log', 'ada_ne': 177, 'ada_lr': 0.5885358894551723, 'et_Scaler': 'stand', 'et_max_depth': 9, 'et_ne': 618, 'xgb_Scaler': 'log', 'booster': 'gbtree', 'lambda': 0.08699409712959762, 'alpha': 0.0037362989815368543, 'max_depth': 1, 'eta': 0.39469812708602553, 'gamma': 2.7165193637800653e-08, 'grow_policy': 'lossguide'}. Best is trial#563 with value: 3.1249267571970165.\n"
          ],
          "name": "stderr"
        },
        {
          "output_type": "stream",
          "text": [
            "[0]\tvalidation-rmse:19.0314\n",
            "[1]\tvalidation-rmse:15.1331\n",
            "[2]\tvalidation-rmse:12.1406\n",
            "[3]\tvalidation-rmse:9.79561\n",
            "[4]\tvalidation-rmse:8.02401\n",
            "[5]\tvalidation-rmse:6.58012\n",
            "[6]\tvalidation-rmse:5.59488\n",
            "[7]\tvalidation-rmse:4.88609\n",
            "[8]\tvalidation-rmse:4.33847\n",
            "[9]\tvalidation-rmse:3.98564\n"
          ],
          "name": "stdout"
        },
        {
          "output_type": "stream",
          "text": [
            "[I 2020-07-08 14:06:28,626] Finished trial#718 with value: 3.473640784631999 with parameters: {'combos': 1, 'ada_Scaler': 'log', 'ada_ne': 125, 'ada_lr': 0.6281720070436969, 'et_Scaler': 'minmax', 'et_max_depth': 8, 'et_ne': 556, 'xgb_Scaler': 'log', 'booster': 'gbtree', 'lambda': 0.05941067759779696, 'alpha': 0.016666709290726094, 'max_depth': 3, 'eta': 0.2110857461678278, 'gamma': 1.0897834310335857e-07, 'grow_policy': 'depthwise'}. Best is trial#563 with value: 3.1249267571970165.\n"
          ],
          "name": "stderr"
        },
        {
          "output_type": "stream",
          "text": [
            "[0]\tvalidation-rmse:8.3348\n",
            "[1]\tvalidation-rmse:4.55906\n",
            "[2]\tvalidation-rmse:3.86892\n",
            "[3]\tvalidation-rmse:3.83946\n",
            "[4]\tvalidation-rmse:3.89726\n",
            "[5]\tvalidation-rmse:3.80945\n",
            "[6]\tvalidation-rmse:3.77226\n",
            "[7]\tvalidation-rmse:3.84526\n",
            "[8]\tvalidation-rmse:3.87081\n",
            "[9]\tvalidation-rmse:3.93385\n"
          ],
          "name": "stdout"
        },
        {
          "output_type": "stream",
          "text": [
            "[I 2020-07-08 14:06:29,989] Finished trial#719 with value: 3.1922050829227824 with parameters: {'combos': 1, 'ada_Scaler': 'log', 'ada_ne': 182, 'ada_lr': 0.5678249205205811, 'et_Scaler': 'stand', 'et_max_depth': 9, 'et_ne': 589, 'xgb_Scaler': 'log', 'booster': 'gbtree', 'lambda': 0.043578408081486025, 'alpha': 0.6543162305813428, 'max_depth': 3, 'eta': 0.7012585297105288, 'gamma': 3.930653620825999e-08, 'grow_policy': 'depthwise'}. Best is trial#563 with value: 3.1249267571970165.\n"
          ],
          "name": "stderr"
        },
        {
          "output_type": "stream",
          "text": [
            "[0]\tvalidation-rmse:5.4776\n",
            "[1]\tvalidation-rmse:5.02326\n",
            "[2]\tvalidation-rmse:5.42077\n",
            "[3]\tvalidation-rmse:5.20226\n",
            "[4]\tvalidation-rmse:5.2565\n",
            "[5]\tvalidation-rmse:5.31752\n",
            "[6]\tvalidation-rmse:5.30072\n",
            "[7]\tvalidation-rmse:5.35647\n",
            "[8]\tvalidation-rmse:5.36073\n",
            "[9]\tvalidation-rmse:5.28263\n"
          ],
          "name": "stdout"
        },
        {
          "output_type": "stream",
          "text": [
            "[I 2020-07-08 14:06:31,304] Finished trial#720 with value: 3.453039859855185 with parameters: {'combos': 1, 'ada_Scaler': 'log', 'ada_ne': 147, 'ada_lr': 0.48464725673104836, 'et_Scaler': 'stand', 'et_max_depth': 10, 'et_ne': 566, 'xgb_Scaler': 'log', 'booster': 'gbtree', 'lambda': 0.1014302797841312, 'alpha': 0.8414922587164545, 'max_depth': 3, 'eta': 0.9976538951543662, 'gamma': 5.111514573666523e-08, 'grow_policy': 'depthwise'}. Best is trial#563 with value: 3.1249267571970165.\n",
            "[I 2020-07-08 14:06:32,452] Setting status of trial#721 as TrialState.PRUNED. Trial was pruned at iteration 11.\n"
          ],
          "name": "stderr"
        },
        {
          "output_type": "stream",
          "text": [
            "[0]\tvalidation-rmse:14.2584\n",
            "[1]\tvalidation-rmse:8.56861\n",
            "[2]\tvalidation-rmse:5.6157\n",
            "[3]\tvalidation-rmse:4.29443\n",
            "[4]\tvalidation-rmse:3.76893\n",
            "[5]\tvalidation-rmse:3.53651\n",
            "[6]\tvalidation-rmse:3.43178\n",
            "[7]\tvalidation-rmse:3.42907\n",
            "[8]\tvalidation-rmse:3.38654\n",
            "[9]\tvalidation-rmse:3.42681\n"
          ],
          "name": "stdout"
        },
        {
          "output_type": "stream",
          "text": [
            "[I 2020-07-08 14:06:33,933] Finished trial#722 with value: 3.2813342750324805 with parameters: {'combos': 1, 'ada_Scaler': 'log', 'ada_ne': 135, 'ada_lr': 0.5574042650126518, 'et_Scaler': 'stand', 'et_max_depth': 11, 'et_ne': 588, 'xgb_Scaler': 'log', 'booster': 'gbtree', 'lambda': 0.292164497009096, 'alpha': 0.294034030876451, 'max_depth': 3, 'eta': 0.43691912751087436, 'gamma': 7.756946447320726e-08, 'grow_policy': 'depthwise'}. Best is trial#563 with value: 3.1249267571970165.\n"
          ],
          "name": "stderr"
        },
        {
          "output_type": "stream",
          "text": [
            "[0]\tvalidation-rmse:8.05246\n",
            "[1]\tvalidation-rmse:5.17842\n",
            "[2]\tvalidation-rmse:4.4339\n",
            "[3]\tvalidation-rmse:4.3261\n",
            "[4]\tvalidation-rmse:4.2621\n",
            "[5]\tvalidation-rmse:4.24223\n",
            "[6]\tvalidation-rmse:4.23203\n",
            "[7]\tvalidation-rmse:4.07993\n",
            "[8]\tvalidation-rmse:4.02891\n",
            "[9]\tvalidation-rmse:4.14343\n"
          ],
          "name": "stdout"
        },
        {
          "output_type": "stream",
          "text": [
            "[I 2020-07-08 14:06:35,132] Finished trial#723 with value: 3.268020844233089 with parameters: {'combos': 1, 'ada_Scaler': 'minmax', 'ada_ne': 53, 'ada_lr': 0.5033756368525955, 'et_Scaler': 'stand', 'et_max_depth': 10, 'et_ne': 594, 'xgb_Scaler': 'log', 'booster': 'gbtree', 'lambda': 4.3841807862783745e-05, 'alpha': 0.4386431273682705, 'max_depth': 3, 'eta': 0.7330638347362101, 'gamma': 4.139855683147181e-08, 'grow_policy': 'depthwise'}. Best is trial#563 with value: 3.1249267571970165.\n"
          ],
          "name": "stderr"
        },
        {
          "output_type": "stream",
          "text": [
            "[0]\tvalidation-rmse:16.984\n",
            "[1]\tvalidation-rmse:12.1527\n",
            "[2]\tvalidation-rmse:8.89306\n",
            "[3]\tvalidation-rmse:6.78405\n",
            "[4]\tvalidation-rmse:5.48817\n",
            "[5]\tvalidation-rmse:4.67974\n",
            "[6]\tvalidation-rmse:4.27593\n",
            "[7]\tvalidation-rmse:4.05736\n",
            "[8]\tvalidation-rmse:3.97009\n",
            "[9]\tvalidation-rmse:3.90567\n"
          ],
          "name": "stdout"
        },
        {
          "output_type": "stream",
          "text": [
            "[I 2020-07-08 14:06:36,553] Finished trial#724 with value: 3.4030731055947565 with parameters: {'combos': 1, 'ada_Scaler': 'log', 'ada_ne': 185, 'ada_lr': 0.5743015532108607, 'et_Scaler': 'stand', 'et_max_depth': 9, 'et_ne': 600, 'xgb_Scaler': 'log', 'booster': 'gbtree', 'lambda': 0.047438597001392975, 'alpha': 0.7581446953466441, 'max_depth': 4, 'eta': 0.2954429609735879, 'gamma': 5.751425138490176e-08, 'grow_policy': 'depthwise'}. Best is trial#563 with value: 3.1249267571970165.\n"
          ],
          "name": "stderr"
        },
        {
          "output_type": "stream",
          "text": [
            "[0]\tvalidation-rmse:11.6921\n",
            "[1]\tvalidation-rmse:6.32007\n",
            "[2]\tvalidation-rmse:4.31062\n",
            "[3]\tvalidation-rmse:3.73848\n",
            "[4]\tvalidation-rmse:3.57765\n",
            "[5]\tvalidation-rmse:3.60655\n",
            "[6]\tvalidation-rmse:3.6297\n",
            "[7]\tvalidation-rmse:3.62302\n",
            "[8]\tvalidation-rmse:3.64507\n",
            "[9]\tvalidation-rmse:3.57917\n"
          ],
          "name": "stdout"
        },
        {
          "output_type": "stream",
          "text": [
            "[I 2020-07-08 14:06:36,972] Finished trial#725 with value: 3.351430824332286 with parameters: {'combos': 3, 'ada_Scaler': 'log', 'ada_ne': 94, 'ada_lr': 0.5319219486407023, 'rf_Scaler': 'minmax', 'rf_max_depth': 4, 'rf_ne': 9, 'xgb_Scaler': 'log', 'booster': 'gbtree', 'lambda': 0.07729750094880258, 'alpha': 0.6230719537794425, 'max_depth': 3, 'eta': 0.5394016977410175, 'gamma': 1.0081032043138657e-07, 'grow_policy': 'depthwise'}. Best is trial#563 with value: 3.1249267571970165.\n"
          ],
          "name": "stderr"
        },
        {
          "output_type": "stream",
          "text": [
            "[0]\tvalidation-rmse:8.60943\n",
            "[1]\tvalidation-rmse:7.5979\n",
            "[2]\tvalidation-rmse:7.11183\n",
            "[3]\tvalidation-rmse:6.7411\n",
            "[4]\tvalidation-rmse:6.4941\n",
            "[5]\tvalidation-rmse:6.30112\n",
            "[6]\tvalidation-rmse:6.19977\n",
            "[7]\tvalidation-rmse:6.03323\n",
            "[8]\tvalidation-rmse:5.93568\n",
            "[9]\tvalidation-rmse:5.85964\n"
          ],
          "name": "stdout"
        },
        {
          "output_type": "stream",
          "text": [
            "[I 2020-07-08 14:06:38,186] Finished trial#726 with value: 3.579394883090167 with parameters: {'combos': 1, 'ada_Scaler': 'log', 'ada_ne': 153, 'ada_lr': 0.591281764926429, 'et_Scaler': 'stand', 'et_max_depth': 8, 'et_ne': 561, 'xgb_Scaler': 'minmax', 'booster': 'gblinear', 'lambda': 0.019269654692724125, 'alpha': 0.0015082533688685808}. Best is trial#563 with value: 3.1249267571970165.\n"
          ],
          "name": "stderr"
        },
        {
          "output_type": "stream",
          "text": [
            "[0]\tvalidation-rmse:4.99825\n",
            "[1]\tvalidation-rmse:4.77744\n",
            "[2]\tvalidation-rmse:4.59443\n",
            "[3]\tvalidation-rmse:4.64994\n",
            "[4]\tvalidation-rmse:4.43631\n",
            "[5]\tvalidation-rmse:4.35281\n",
            "[6]\tvalidation-rmse:4.28165\n",
            "[7]\tvalidation-rmse:4.33056\n",
            "[8]\tvalidation-rmse:4.22806\n",
            "[9]\tvalidation-rmse:4.41934\n"
          ],
          "name": "stdout"
        },
        {
          "output_type": "stream",
          "text": [
            "[I 2020-07-08 14:06:39,538] Finished trial#727 with value: 3.249765096165063 with parameters: {'combos': 1, 'ada_Scaler': 'log', 'ada_ne': 123, 'ada_lr': 0.5442348692887944, 'et_Scaler': 'stand', 'et_max_depth': 10, 'et_ne': 617, 'xgb_Scaler': 'log', 'booster': 'gbtree', 'lambda': 0.1613824514420662, 'alpha': 0.0062302778336502905, 'max_depth': 3, 'eta': 0.995001393969374, 'gamma': 3.3117595432254306e-08, 'grow_policy': 'depthwise'}. Best is trial#563 with value: 3.1249267571970165.\n"
          ],
          "name": "stderr"
        },
        {
          "output_type": "stream",
          "text": [
            "[0]\tvalidation-rmse:15.0625\n",
            "[1]\tvalidation-rmse:9.7751\n",
            "[2]\tvalidation-rmse:6.73709\n",
            "[3]\tvalidation-rmse:5.07719\n",
            "[4]\tvalidation-rmse:4.21753\n",
            "[5]\tvalidation-rmse:3.90867\n",
            "[6]\tvalidation-rmse:3.79824\n",
            "[7]\tvalidation-rmse:3.7563\n",
            "[8]\tvalidation-rmse:3.7319\n",
            "[9]\tvalidation-rmse:3.83798\n"
          ],
          "name": "stdout"
        },
        {
          "output_type": "stream",
          "text": [
            "[I 2020-07-08 14:06:40,924] Finished trial#728 with value: 3.254355641448508 with parameters: {'combos': 1, 'ada_Scaler': 'log', 'ada_ne': 175, 'ada_lr': 0.6001881048590174, 'et_Scaler': 'stand', 'et_max_depth': 11, 'et_ne': 543, 'xgb_Scaler': 'log', 'booster': 'gbtree', 'lambda': 0.026382762867734482, 'alpha': 0.010801413365890526, 'max_depth': 3, 'eta': 0.38448779916664777, 'gamma': 0.5149802641831772, 'grow_policy': 'depthwise'}. Best is trial#563 with value: 3.1249267571970165.\n"
          ],
          "name": "stderr"
        },
        {
          "output_type": "stream",
          "text": [
            "[0]\tvalidation-rmse:8.08096\n",
            "[1]\tvalidation-rmse:5.17408\n",
            "[2]\tvalidation-rmse:4.41707\n",
            "[3]\tvalidation-rmse:4.30785\n",
            "[4]\tvalidation-rmse:4.34953\n",
            "[5]\tvalidation-rmse:4.39108\n",
            "[6]\tvalidation-rmse:4.29791\n",
            "[7]\tvalidation-rmse:4.24257\n",
            "[8]\tvalidation-rmse:4.24847\n",
            "[9]\tvalidation-rmse:4.26692\n"
          ],
          "name": "stdout"
        },
        {
          "output_type": "stream",
          "text": [
            "[I 2020-07-08 14:06:42,145] Finished trial#729 with value: 3.243448148760604 with parameters: {'combos': 1, 'ada_Scaler': 'log', 'ada_ne': 106, 'ada_lr': 0.5686313329128637, 'et_Scaler': 'stand', 'et_max_depth': 9, 'et_ne': 579, 'xgb_Scaler': 'log', 'booster': 'gbtree', 'lambda': 0.011193066440304492, 'alpha': 0.00805283706545618, 'max_depth': 3, 'eta': 0.7310881196750598, 'gamma': 3.984880176134324e-07, 'grow_policy': 'depthwise'}. Best is trial#563 with value: 3.1249267571970165.\n",
            "[I 2020-07-08 14:06:43,187] Setting status of trial#730 as TrialState.PRUNED. Trial was pruned at iteration 11.\n"
          ],
          "name": "stderr"
        },
        {
          "output_type": "stream",
          "text": [
            "[0]\tvalidation-rmse:12.6611\n",
            "[1]\tvalidation-rmse:7.10193\n",
            "[2]\tvalidation-rmse:4.90529\n",
            "[3]\tvalidation-rmse:4.066\n",
            "[4]\tvalidation-rmse:3.82508\n",
            "[5]\tvalidation-rmse:3.75489\n",
            "[6]\tvalidation-rmse:3.69013\n",
            "[7]\tvalidation-rmse:3.75105\n",
            "[8]\tvalidation-rmse:3.76115\n",
            "[9]\tvalidation-rmse:3.72999\n"
          ],
          "name": "stdout"
        },
        {
          "output_type": "stream",
          "text": [
            "[I 2020-07-08 14:06:44,715] Finished trial#731 with value: 3.251878243721174 with parameters: {'combos': 1, 'ada_Scaler': 'log', 'ada_ne': 215, 'ada_lr': 0.15135921205608946, 'et_Scaler': 'stand', 'et_max_depth': 8, 'et_ne': 624, 'xgb_Scaler': 'log', 'booster': 'gbtree', 'lambda': 0.04448470487682028, 'alpha': 0.0038856373358836867, 'max_depth': 3, 'eta': 0.49095185300250416, 'gamma': 1.8674026568672966e-07, 'grow_policy': 'depthwise'}. Best is trial#563 with value: 3.1249267571970165.\n"
          ],
          "name": "stderr"
        },
        {
          "output_type": "stream",
          "text": [
            "[0]\tvalidation-rmse:18.8214\n",
            "[1]\tvalidation-rmse:14.8346\n",
            "[2]\tvalidation-rmse:11.8591\n",
            "[3]\tvalidation-rmse:9.5013\n",
            "[4]\tvalidation-rmse:7.73391\n",
            "[5]\tvalidation-rmse:6.4813\n",
            "[6]\tvalidation-rmse:5.56228\n",
            "[7]\tvalidation-rmse:4.82602\n",
            "[8]\tvalidation-rmse:4.39885\n",
            "[9]\tvalidation-rmse:4.05858\n"
          ],
          "name": "stdout"
        },
        {
          "output_type": "stream",
          "text": [
            "[I 2020-07-08 14:06:46,127] Finished trial#732 with value: 3.3188623104367467 with parameters: {'combos': 1, 'ada_Scaler': 'log', 'ada_ne': 175, 'ada_lr': 0.6158436477614814, 'et_Scaler': 'stand', 'et_max_depth': 10, 'et_ne': 598, 'xgb_Scaler': 'stand', 'booster': 'dart', 'lambda': 0.06377070317943004, 'alpha': 0.008413732496053853, 'max_depth': 3, 'eta': 0.2201620310422915, 'gamma': 2.546158228732105e-08, 'grow_policy': 'depthwise', 'sample_type': 'uniform', 'normalize_type': 'tree', 'rate_drop': 1.157481566750383e-07, 'skip_drop': 0.002651809731356786}. Best is trial#563 with value: 3.1249267571970165.\n"
          ],
          "name": "stderr"
        },
        {
          "output_type": "stream",
          "text": [
            "[0]\tvalidation-rmse:5.48467\n",
            "[1]\tvalidation-rmse:5.17099\n",
            "[2]\tvalidation-rmse:5.07179\n",
            "[3]\tvalidation-rmse:5.08959\n",
            "[4]\tvalidation-rmse:5.09716\n",
            "[5]\tvalidation-rmse:4.95365\n",
            "[6]\tvalidation-rmse:4.70681\n",
            "[7]\tvalidation-rmse:4.77108\n",
            "[8]\tvalidation-rmse:4.83741\n",
            "[9]\tvalidation-rmse:4.85757\n"
          ],
          "name": "stdout"
        },
        {
          "output_type": "stream",
          "text": [
            "[I 2020-07-08 14:06:47,499] Finished trial#733 with value: 3.3867458663731633 with parameters: {'combos': 1, 'ada_Scaler': 'log', 'ada_ne': 157, 'ada_lr': 0.5605329184674331, 'et_Scaler': 'stand', 'et_max_depth': 9, 'et_ne': 635, 'xgb_Scaler': 'log', 'booster': 'gbtree', 'lambda': 0.11739598496480846, 'alpha': 0.005340171765902321, 'max_depth': 3, 'eta': 0.9991259640181073, 'gamma': 4.586178129714693e-08, 'grow_policy': 'depthwise'}. Best is trial#563 with value: 3.1249267571970165.\n"
          ],
          "name": "stderr"
        },
        {
          "output_type": "stream",
          "text": [
            "[0]\tvalidation-rmse:16.7866\n",
            "[1]\tvalidation-rmse:11.9907\n",
            "[2]\tvalidation-rmse:9.01945\n",
            "[3]\tvalidation-rmse:7.01745\n",
            "[4]\tvalidation-rmse:5.53529\n",
            "[5]\tvalidation-rmse:4.76448\n",
            "[6]\tvalidation-rmse:4.45711\n",
            "[7]\tvalidation-rmse:4.34794\n",
            "[8]\tvalidation-rmse:4.09661\n",
            "[9]\tvalidation-rmse:3.98514\n"
          ],
          "name": "stdout"
        },
        {
          "output_type": "stream",
          "text": [
            "[I 2020-07-08 14:06:48,819] Finished trial#734 with value: 3.3679635538266863 with parameters: {'combos': 1, 'ada_Scaler': 'log', 'ada_ne': 125, 'ada_lr': 0.5238303111189767, 'et_Scaler': 'stand', 'et_max_depth': 10, 'et_ne': 588, 'xgb_Scaler': 'log', 'booster': 'gbtree', 'lambda': 0.002421711420406767, 'alpha': 0.0026895579998523177, 'max_depth': 2, 'eta': 0.3242034905347735, 'gamma': 7.674164282806536e-08, 'grow_policy': 'lossguide'}. Best is trial#563 with value: 3.1249267571970165.\n"
          ],
          "name": "stderr"
        },
        {
          "output_type": "stream",
          "text": [
            "[0]\tvalidation-rmse:11.2488\n",
            "[1]\tvalidation-rmse:6.12402\n",
            "[2]\tvalidation-rmse:4.14144\n",
            "[3]\tvalidation-rmse:3.86583\n",
            "[4]\tvalidation-rmse:3.93259\n",
            "[5]\tvalidation-rmse:4.03872\n",
            "[6]\tvalidation-rmse:4.04383\n",
            "[7]\tvalidation-rmse:4.00775\n",
            "[8]\tvalidation-rmse:4.15914\n",
            "[9]\tvalidation-rmse:4.1943\n"
          ],
          "name": "stdout"
        },
        {
          "output_type": "stream",
          "text": [
            "[I 2020-07-08 14:06:50,232] Finished trial#735 with value: 3.380331437705164 with parameters: {'combos': 1, 'ada_Scaler': 'log', 'ada_ne': 197, 'ada_lr': 0.605190574120594, 'et_Scaler': 'stand', 'et_max_depth': 9, 'et_ne': 614, 'xgb_Scaler': 'log', 'booster': 'gbtree', 'lambda': 0.02916204902866928, 'alpha': 0.013855070304748647, 'max_depth': 3, 'eta': 0.5609489879779229, 'gamma': 1.3607796023831105e-07, 'grow_policy': 'depthwise'}. Best is trial#563 with value: 3.1249267571970165.\n"
          ],
          "name": "stderr"
        },
        {
          "output_type": "stream",
          "text": [
            "[0]\tvalidation-rmse:23.9807\n",
            "[1]\tvalidation-rmse:23.9806\n",
            "[2]\tvalidation-rmse:23.9806\n",
            "[3]\tvalidation-rmse:23.9805\n",
            "[4]\tvalidation-rmse:23.9805\n",
            "[5]\tvalidation-rmse:23.9804\n",
            "[6]\tvalidation-rmse:23.9804\n",
            "[7]\tvalidation-rmse:23.9804\n",
            "[8]\tvalidation-rmse:23.9803\n",
            "[9]\tvalidation-rmse:23.9803\n"
          ],
          "name": "stdout"
        },
        {
          "output_type": "stream",
          "text": [
            "[I 2020-07-08 14:06:51,598] Finished trial#736 with value: 8.298035009791962 with parameters: {'combos': 1, 'ada_Scaler': 'log', 'ada_ne': 164, 'ada_lr': 0.5017755596217467, 'et_Scaler': 'stand', 'et_max_depth': 11, 'et_ne': 545, 'xgb_Scaler': 'log', 'booster': 'gbtree', 'lambda': 0.46707957578594844, 'alpha': 0.019422060284367774, 'max_depth': 3, 'eta': 1.906596260365217e-06, 'gamma': 3.0398637060534023e-08, 'grow_policy': 'depthwise'}. Best is trial#563 with value: 3.1249267571970165.\n"
          ],
          "name": "stderr"
        },
        {
          "output_type": "stream",
          "text": [
            "[0]\tvalidation-rmse:23.7363\n",
            "[1]\tvalidation-rmse:23.4945\n",
            "[2]\tvalidation-rmse:23.2556\n",
            "[3]\tvalidation-rmse:23.0191\n",
            "[4]\tvalidation-rmse:22.7854\n",
            "[5]\tvalidation-rmse:22.5542\n",
            "[6]\tvalidation-rmse:22.3256\n",
            "[7]\tvalidation-rmse:22.0995\n",
            "[8]\tvalidation-rmse:21.8761\n",
            "[9]\tvalidation-rmse:21.6552\n"
          ],
          "name": "stdout"
        },
        {
          "output_type": "stream",
          "text": [
            "[I 2020-07-08 14:06:52,997] Finished trial#737 with value: 7.605474416750894 with parameters: {'combos': 1, 'ada_Scaler': 'log', 'ada_ne': 142, 'ada_lr': 0.6664189433955405, 'et_Scaler': 'stand', 'et_max_depth': 10, 'et_ne': 641, 'xgb_Scaler': 'log', 'booster': 'gbtree', 'lambda': 0.01627455500185064, 'alpha': 0.010307311427423773, 'max_depth': 3, 'eta': 0.010310863855376207, 'gamma': 1.3743629418587999e-08, 'grow_policy': 'depthwise'}. Best is trial#563 with value: 3.1249267571970165.\n"
          ],
          "name": "stderr"
        },
        {
          "output_type": "stream",
          "text": [
            "[0]\tvalidation-rmse:7.73092\n",
            "[1]\tvalidation-rmse:4.1958\n",
            "[2]\tvalidation-rmse:3.86456\n",
            "[3]\tvalidation-rmse:3.74337\n",
            "[4]\tvalidation-rmse:3.83373\n",
            "[5]\tvalidation-rmse:3.72919\n",
            "[6]\tvalidation-rmse:3.83652\n",
            "[7]\tvalidation-rmse:3.73379\n",
            "[8]\tvalidation-rmse:3.76892\n",
            "[9]\tvalidation-rmse:3.78833\n"
          ],
          "name": "stdout"
        },
        {
          "output_type": "stream",
          "text": [
            "[I 2020-07-08 14:06:54,096] Finished trial#738 with value: 3.321874060817742 with parameters: {'combos': 1, 'ada_Scaler': 'log', 'ada_ne': 75, 'ada_lr': 0.6259798900400685, 'et_Scaler': 'stand', 'et_max_depth': 8, 'et_ne': 572, 'xgb_Scaler': 'log', 'booster': 'gbtree', 'lambda': 0.21957437529890902, 'alpha': 0.005734573823406538, 'max_depth': 3, 'eta': 0.7494346276005706, 'gamma': 2.1371696206957532e-08, 'grow_policy': 'depthwise'}. Best is trial#563 with value: 3.1249267571970165.\n"
          ],
          "name": "stderr"
        },
        {
          "output_type": "stream",
          "text": [
            "[0]\tvalidation-rmse:14.4432\n",
            "[1]\tvalidation-rmse:9.01631\n",
            "[2]\tvalidation-rmse:6.21807\n",
            "[3]\tvalidation-rmse:4.63452\n",
            "[4]\tvalidation-rmse:4.03549\n",
            "[5]\tvalidation-rmse:3.90098\n",
            "[6]\tvalidation-rmse:3.79318\n",
            "[7]\tvalidation-rmse:3.81162\n",
            "[8]\tvalidation-rmse:3.81942\n",
            "[9]\tvalidation-rmse:3.83067\n"
          ],
          "name": "stdout"
        },
        {
          "output_type": "stream",
          "text": [
            "[I 2020-07-08 14:06:55,660] Finished trial#739 with value: 3.374831028050794 with parameters: {'combos': 1, 'ada_Scaler': 'log', 'ada_ne': 187, 'ada_lr': 0.5829201123699148, 'et_Scaler': 'stand', 'et_max_depth': 12, 'et_ne': 624, 'xgb_Scaler': 'log', 'booster': 'gbtree', 'lambda': 0.07217100767088798, 'alpha': 0.014338724666546527, 'max_depth': 3, 'eta': 0.4115441667075938, 'gamma': 5.347796903612051e-08, 'grow_policy': 'depthwise'}. Best is trial#563 with value: 3.1249267571970165.\n",
            "[I 2020-07-08 14:06:56,947] Setting status of trial#740 as TrialState.PRUNED. Trial was pruned at iteration 12.\n"
          ],
          "name": "stderr"
        },
        {
          "output_type": "stream",
          "text": [
            "[0]\tvalidation-rmse:23.9807\n",
            "[1]\tvalidation-rmse:23.9807\n",
            "[2]\tvalidation-rmse:23.9807\n",
            "[3]\tvalidation-rmse:23.9807\n",
            "[4]\tvalidation-rmse:23.9807\n",
            "[5]\tvalidation-rmse:23.9807\n",
            "[6]\tvalidation-rmse:23.9806\n",
            "[7]\tvalidation-rmse:23.9806\n",
            "[8]\tvalidation-rmse:23.9806\n",
            "[9]\tvalidation-rmse:23.9806\n"
          ],
          "name": "stdout"
        },
        {
          "output_type": "stream",
          "text": [
            "[I 2020-07-08 14:06:58,399] Finished trial#741 with value: 8.341375307728072 with parameters: {'combos': 1, 'ada_Scaler': 'log', 'ada_ne': 107, 'ada_lr': 0.5458139915761123, 'et_Scaler': 'stand', 'et_max_depth': 10, 'et_ne': 629, 'xgb_Scaler': 'log', 'booster': 'gbtree', 'lambda': 0.045019523764760115, 'alpha': 0.0004690667000235757, 'max_depth': 3, 'eta': 3.653268132806779e-07, 'gamma': 3.9392223491717874e-08, 'grow_policy': 'depthwise'}. Best is trial#563 with value: 3.1249267571970165.\n"
          ],
          "name": "stderr"
        },
        {
          "output_type": "stream",
          "text": [
            "[0]\tvalidation-rmse:7.11344\n",
            "[1]\tvalidation-rmse:4.30551\n",
            "[2]\tvalidation-rmse:4.11258\n",
            "[3]\tvalidation-rmse:4.10277\n",
            "[4]\tvalidation-rmse:4.12836\n",
            "[5]\tvalidation-rmse:4.16655\n",
            "[6]\tvalidation-rmse:4.13607\n",
            "[7]\tvalidation-rmse:4.05642\n",
            "[8]\tvalidation-rmse:4.05778\n",
            "[9]\tvalidation-rmse:4.02886\n"
          ],
          "name": "stdout"
        },
        {
          "output_type": "stream",
          "text": [
            "[I 2020-07-08 14:06:59,750] Finished trial#742 with value: 3.2886010772114243 with parameters: {'combos': 1, 'ada_Scaler': 'log', 'ada_ne': 214, 'ada_lr': 0.7006186647976931, 'et_Scaler': 'stand', 'et_max_depth': 8, 'et_ne': 588, 'xgb_Scaler': 'log', 'booster': 'gbtree', 'lambda': 0.10017735405472838, 'alpha': 0.007515392389559266, 'max_depth': 4, 'eta': 0.748855302353461, 'gamma': 7.727531162087024e-08, 'grow_policy': 'depthwise'}. Best is trial#563 with value: 3.1249267571970165.\n"
          ],
          "name": "stderr"
        },
        {
          "output_type": "stream",
          "text": [
            "[0]\tvalidation-rmse:21.0819\n",
            "[1]\tvalidation-rmse:18.563\n",
            "[2]\tvalidation-rmse:16.3415\n",
            "[3]\tvalidation-rmse:14.44\n",
            "[4]\tvalidation-rmse:12.795\n",
            "[5]\tvalidation-rmse:11.3421\n",
            "[6]\tvalidation-rmse:10.0499\n",
            "[7]\tvalidation-rmse:8.95549\n",
            "[8]\tvalidation-rmse:8.0365\n",
            "[9]\tvalidation-rmse:7.25102\n"
          ],
          "name": "stdout"
        },
        {
          "output_type": "stream",
          "text": [
            "[I 2020-07-08 14:07:01,192] Finished trial#743 with value: 3.814868031817777 with parameters: {'combos': 1, 'ada_Scaler': 'log', 'ada_ne': 179, 'ada_lr': 0.5923677230306962, 'et_Scaler': 'stand', 'et_max_depth': 9, 'et_ne': 653, 'xgb_Scaler': 'log', 'booster': 'gbtree', 'lambda': 0.028809550063835166, 'alpha': 0.004503606443929974, 'max_depth': 3, 'eta': 0.12294420251963618, 'gamma': 1.0110010146122108e-08, 'grow_policy': 'depthwise'}. Best is trial#563 with value: 3.1249267571970165.\n",
            "[I 2020-07-08 14:07:02,290] Setting status of trial#744 as TrialState.PRUNED. Trial was pruned at iteration 11.\n"
          ],
          "name": "stderr"
        },
        {
          "output_type": "stream",
          "text": [
            "[0]\tvalidation-rmse:17.5544\n",
            "[1]\tvalidation-rmse:13.0123\n",
            "[2]\tvalidation-rmse:9.75884\n",
            "[3]\tvalidation-rmse:7.56815\n",
            "[4]\tvalidation-rmse:6.0342\n",
            "[5]\tvalidation-rmse:5.09288\n",
            "[6]\tvalidation-rmse:4.43285\n",
            "[7]\tvalidation-rmse:4.07202\n",
            "[8]\tvalidation-rmse:3.93103\n",
            "[9]\tvalidation-rmse:3.80311\n"
          ],
          "name": "stdout"
        },
        {
          "output_type": "stream",
          "text": [
            "[I 2020-07-08 14:07:03,646] Finished trial#745 with value: 3.441098873542343 with parameters: {'combos': 1, 'ada_Scaler': 'log', 'ada_ne': 136, 'ada_lr': 0.629361700890018, 'et_Scaler': 'minmax', 'et_max_depth': 9, 'et_ne': 568, 'xgb_Scaler': 'log', 'booster': 'gbtree', 'lambda': 0.1355908872667952, 'alpha': 0.019989305068560472, 'max_depth': 3, 'eta': 0.2770315721323798, 'gamma': 2.33096490989826e-07, 'grow_policy': 'depthwise'}. Best is trial#563 with value: 3.1249267571970165.\n"
          ],
          "name": "stderr"
        },
        {
          "output_type": "stream",
          "text": [
            "[0]\tvalidation-rmse:5.36768\n",
            "[1]\tvalidation-rmse:5.09431\n",
            "[2]\tvalidation-rmse:5.03127\n",
            "[3]\tvalidation-rmse:5.04537\n",
            "[4]\tvalidation-rmse:5.07493\n",
            "[5]\tvalidation-rmse:5.1475\n",
            "[6]\tvalidation-rmse:5.04157\n",
            "[7]\tvalidation-rmse:5.06315\n",
            "[8]\tvalidation-rmse:5.07512\n",
            "[9]\tvalidation-rmse:5.04286\n"
          ],
          "name": "stdout"
        },
        {
          "output_type": "stream",
          "text": [
            "[I 2020-07-08 14:07:05,154] Finished trial#746 with value: 3.4524156728806585 with parameters: {'combos': 1, 'ada_Scaler': 'log', 'ada_ne': 159, 'ada_lr': 0.5648653912676148, 'et_Scaler': 'stand', 'et_max_depth': 11, 'et_ne': 644, 'xgb_Scaler': 'log', 'booster': 'gbtree', 'lambda': 0.051941736193866016, 'alpha': 0.010576897345458155, 'max_depth': 3, 'eta': 0.9804943048546543, 'gamma': 1.1471054358542403e-07, 'grow_policy': 'depthwise'}. Best is trial#563 with value: 3.1249267571970165.\n"
          ],
          "name": "stderr"
        },
        {
          "output_type": "stream",
          "text": [
            "[0]\tvalidation-rmse:12.0283\n",
            "[1]\tvalidation-rmse:6.68121\n",
            "[2]\tvalidation-rmse:4.83001\n",
            "[3]\tvalidation-rmse:4.2554\n",
            "[4]\tvalidation-rmse:4.196\n",
            "[5]\tvalidation-rmse:4.22925\n",
            "[6]\tvalidation-rmse:4.23004\n",
            "[7]\tvalidation-rmse:4.37663\n",
            "[8]\tvalidation-rmse:4.37943\n",
            "[9]\tvalidation-rmse:4.39239\n"
          ],
          "name": "stdout"
        },
        {
          "output_type": "stream",
          "text": [
            "[I 2020-07-08 14:07:06,496] Finished trial#747 with value: 3.3769059988584567 with parameters: {'combos': 1, 'ada_Scaler': 'minmax', 'ada_ne': 122, 'ada_lr': 0.6762480178649639, 'et_Scaler': 'stand', 'et_max_depth': 10, 'et_ne': 618, 'xgb_Scaler': 'log', 'booster': 'gbtree', 'lambda': 0.018835565376442653, 'alpha': 0.0021707442705817736, 'max_depth': 3, 'eta': 0.5233905053379699, 'gamma': 2.37374363085288e-08, 'grow_policy': 'depthwise'}. Best is trial#563 with value: 3.1249267571970165.\n"
          ],
          "name": "stderr"
        },
        {
          "output_type": "stream",
          "text": [
            "[0]\tvalidation-rmse:14.8379\n",
            "[1]\tvalidation-rmse:9.48308\n",
            "[2]\tvalidation-rmse:6.49575\n",
            "[3]\tvalidation-rmse:5.02083\n",
            "[4]\tvalidation-rmse:4.32549\n",
            "[5]\tvalidation-rmse:4.12442\n",
            "[6]\tvalidation-rmse:4.0451\n",
            "[7]\tvalidation-rmse:3.98667\n",
            "[8]\tvalidation-rmse:3.97007\n",
            "[9]\tvalidation-rmse:3.95955\n"
          ],
          "name": "stdout"
        },
        {
          "output_type": "stream",
          "text": [
            "[I 2020-07-08 14:07:07,893] Finished trial#748 with value: 3.3932916617964066 with parameters: {'combos': 1, 'ada_Scaler': 'log', 'ada_ne': 197, 'ada_lr': 0.5083371468955533, 'et_Scaler': 'stand', 'et_max_depth': 9, 'et_ne': 600, 'xgb_Scaler': 'log', 'booster': 'gbtree', 'lambda': 0.08086666465575705, 'alpha': 0.007507486451824892, 'max_depth': 3, 'eta': 0.3942258002685942, 'gamma': 3.672667494476165e-08, 'grow_policy': 'depthwise'}. Best is trial#563 with value: 3.1249267571970165.\n"
          ],
          "name": "stderr"
        },
        {
          "output_type": "stream",
          "text": [
            "[0]\tvalidation-rmse:10.8407\n",
            "[1]\tvalidation-rmse:6.29338\n",
            "[2]\tvalidation-rmse:4.62427\n",
            "[3]\tvalidation-rmse:4.21944\n",
            "[4]\tvalidation-rmse:3.99418\n",
            "[5]\tvalidation-rmse:4.08413\n",
            "[6]\tvalidation-rmse:4.07552\n",
            "[7]\tvalidation-rmse:4.09433\n",
            "[8]\tvalidation-rmse:4.1427\n",
            "[9]\tvalidation-rmse:4.14025\n"
          ],
          "name": "stdout"
        },
        {
          "output_type": "stream",
          "text": [
            "[I 2020-07-08 14:07:09,211] Finished trial#749 with value: 3.4004920553219335 with parameters: {'combos': 1, 'ada_Scaler': 'log', 'ada_ne': 163, 'ada_lr': 0.6140562659754013, 'et_Scaler': 'stand', 'et_max_depth': 8, 'et_ne': 634, 'xgb_Scaler': 'log', 'booster': 'gbtree', 'lambda': 0.03780051436878318, 'alpha': 0.025768699929854207, 'max_depth': 2, 'eta': 0.6098194403364217, 'gamma': 2.4813447469873883e-05, 'grow_policy': 'depthwise'}. Best is trial#563 with value: 3.1249267571970165.\n"
          ],
          "name": "stderr"
        },
        {
          "output_type": "stream",
          "text": [
            "[0]\tvalidation-rmse:18.503\n",
            "[1]\tvalidation-rmse:14.3249\n",
            "[2]\tvalidation-rmse:11.2256\n",
            "[3]\tvalidation-rmse:8.97761\n",
            "[4]\tvalidation-rmse:7.25032\n",
            "[5]\tvalidation-rmse:5.98148\n",
            "[6]\tvalidation-rmse:5.15891\n",
            "[7]\tvalidation-rmse:4.63172\n",
            "[8]\tvalidation-rmse:4.26455\n",
            "[9]\tvalidation-rmse:4.08327\n"
          ],
          "name": "stdout"
        },
        {
          "output_type": "stream",
          "text": [
            "[I 2020-07-08 14:07:10,530] Finished trial#750 with value: 3.3937867075015085 with parameters: {'combos': 1, 'ada_Scaler': 'log', 'ada_ne': 241, 'ada_lr': 0.380092425114486, 'et_Scaler': 'stand', 'et_max_depth': 7, 'et_ne': 550, 'xgb_Scaler': 'log', 'booster': 'gbtree', 'lambda': 0.011819403309496625, 'alpha': 0.016465292685693134, 'max_depth': 3, 'eta': 0.2333749289704376, 'gamma': 1.4675293096626015e-06, 'grow_policy': 'lossguide'}. Best is trial#563 with value: 3.1249267571970165.\n",
            "[I 2020-07-08 14:07:11,626] Setting status of trial#751 as TrialState.PRUNED. Trial was pruned at iteration 11.\n"
          ],
          "name": "stderr"
        },
        {
          "output_type": "stream",
          "text": [
            "[0]\tvalidation-rmse:8.44064\n",
            "[1]\tvalidation-rmse:4.37706\n",
            "[2]\tvalidation-rmse:3.88067\n",
            "[3]\tvalidation-rmse:3.78397\n",
            "[4]\tvalidation-rmse:3.81401\n",
            "[5]\tvalidation-rmse:3.7836\n",
            "[6]\tvalidation-rmse:3.73624\n",
            "[7]\tvalidation-rmse:3.73015\n",
            "[8]\tvalidation-rmse:3.77474\n",
            "[9]\tvalidation-rmse:3.80598\n"
          ],
          "name": "stdout"
        },
        {
          "output_type": "stream",
          "text": [
            "[I 2020-07-08 14:07:12,997] Finished trial#752 with value: 3.2654999013054975 with parameters: {'combos': 1, 'ada_Scaler': 'log', 'ada_ne': 91, 'ada_lr': 0.5835233022434432, 'et_Scaler': 'stand', 'et_max_depth': 9, 'et_ne': 649, 'xgb_Scaler': 'log', 'booster': 'gbtree', 'lambda': 0.18275418043094932, 'alpha': 0.0033753251172800288, 'max_depth': 3, 'eta': 0.7101467296981917, 'gamma': 1.6383950370892997e-08, 'grow_policy': 'depthwise'}. Best is trial#563 with value: 3.1249267571970165.\n"
          ],
          "name": "stderr"
        },
        {
          "output_type": "stream",
          "text": [
            "[0]\tvalidation-rmse:5.35014\n",
            "[1]\tvalidation-rmse:5.06768\n",
            "[2]\tvalidation-rmse:5.00304\n",
            "[3]\tvalidation-rmse:5.01863\n",
            "[4]\tvalidation-rmse:5.04844\n",
            "[5]\tvalidation-rmse:4.92641\n",
            "[6]\tvalidation-rmse:4.81822\n",
            "[7]\tvalidation-rmse:4.87012\n",
            "[8]\tvalidation-rmse:4.9274\n",
            "[9]\tvalidation-rmse:4.91618\n"
          ],
          "name": "stdout"
        },
        {
          "output_type": "stream",
          "text": [
            "[I 2020-07-08 14:07:14,460] Finished trial#753 with value: 3.45202209460688 with parameters: {'combos': 1, 'ada_Scaler': 'log', 'ada_ne': 182, 'ada_lr': 0.26405506484364016, 'et_Scaler': 'stand', 'et_max_depth': 10, 'et_ne': 613, 'xgb_Scaler': 'log', 'booster': 'gbtree', 'lambda': 0.0649757394286409, 'alpha': 0.012360640715596631, 'max_depth': 3, 'eta': 0.9842304411480343, 'gamma': 6.612710320749974e-08, 'grow_policy': 'depthwise'}. Best is trial#563 with value: 3.1249267571970165.\n"
          ],
          "name": "stderr"
        },
        {
          "output_type": "stream",
          "text": [
            "[0]\tvalidation-rmse:15.2761\n",
            "[1]\tvalidation-rmse:10.0411\n",
            "[2]\tvalidation-rmse:7.123\n",
            "[3]\tvalidation-rmse:5.66068\n",
            "[4]\tvalidation-rmse:5.08471\n",
            "[5]\tvalidation-rmse:4.84574\n",
            "[6]\tvalidation-rmse:4.80148\n",
            "[7]\tvalidation-rmse:4.81994\n",
            "[8]\tvalidation-rmse:4.84552\n",
            "[9]\tvalidation-rmse:4.87694\n"
          ],
          "name": "stdout"
        },
        {
          "output_type": "stream",
          "text": [
            "[I 2020-07-08 14:07:15,990] Finished trial#754 with value: 3.538628698077796 with parameters: {'combos': 1, 'ada_Scaler': 'log', 'ada_ne': 219, 'ada_lr': 0.7025616762026717, 'et_Scaler': 'stand', 'et_max_depth': 9, 'et_ne': 662, 'xgb_Scaler': 'log', 'booster': 'gbtree', 'lambda': 0.023714598113856882, 'alpha': 0.005406216478099804, 'max_depth': 7, 'eta': 0.35822936858605176, 'gamma': 1.4746471616303664e-07, 'grow_policy': 'depthwise'}. Best is trial#563 with value: 3.1249267571970165.\n"
          ],
          "name": "stderr"
        },
        {
          "output_type": "stream",
          "text": [
            "[0]\tvalidation-rmse:12.0531\n",
            "[1]\tvalidation-rmse:6.70555\n",
            "[2]\tvalidation-rmse:4.847\n",
            "[3]\tvalidation-rmse:4.26738\n",
            "[4]\tvalidation-rmse:4.20518\n",
            "[5]\tvalidation-rmse:4.23899\n",
            "[6]\tvalidation-rmse:4.23966\n",
            "[7]\tvalidation-rmse:4.38701\n",
            "[8]\tvalidation-rmse:4.38978\n",
            "[9]\tvalidation-rmse:4.40265\n"
          ],
          "name": "stdout"
        },
        {
          "output_type": "stream",
          "text": [
            "[I 2020-07-08 14:07:17,380] Finished trial#755 with value: 3.3966906276311737 with parameters: {'combos': 1, 'ada_Scaler': 'log', 'ada_ne': 144, 'ada_lr': 0.5418821935460051, 'et_Scaler': 'stand', 'et_max_depth': 10, 'et_ne': 627, 'xgb_Scaler': 'log', 'booster': 'gbtree', 'lambda': 0.007965265021426578, 'alpha': 0.008502566303372313, 'max_depth': 3, 'eta': 0.5220331410973729, 'gamma': 2.6851045986108952e-08, 'grow_policy': 'depthwise'}. Best is trial#563 with value: 3.1249267571970165.\n"
          ],
          "name": "stderr"
        },
        {
          "output_type": "stream",
          "text": [
            "[0]\tvalidation-rmse:20.2811\n",
            "[1]\tvalidation-rmse:17.2386\n",
            "[2]\tvalidation-rmse:14.6036\n",
            "[3]\tvalidation-rmse:12.4326\n",
            "[4]\tvalidation-rmse:10.6153\n",
            "[5]\tvalidation-rmse:9.21086\n",
            "[6]\tvalidation-rmse:7.96386\n",
            "[7]\tvalidation-rmse:6.92724\n",
            "[8]\tvalidation-rmse:6.11997\n",
            "[9]\tvalidation-rmse:5.50339\n"
          ],
          "name": "stdout"
        },
        {
          "output_type": "stream",
          "text": [
            "[I 2020-07-08 14:07:18,324] Finished trial#756 with value: 4.050892243642856 with parameters: {'combos': 1, 'ada_Scaler': 'log', 'ada_ne': 122, 'ada_lr': 0.6254020956822386, 'et_Scaler': 'stand', 'et_max_depth': 2, 'et_ne': 595, 'xgb_Scaler': 'log', 'booster': 'gbtree', 'lambda': 0.11759626260608344, 'alpha': 0.013811616326069906, 'max_depth': 4, 'eta': 0.15560126137716457, 'gamma': 4.7140810052541524e-08, 'grow_policy': 'depthwise'}. Best is trial#563 with value: 3.1249267571970165.\n"
          ],
          "name": "stderr"
        },
        {
          "output_type": "stream",
          "text": [
            "[0]\tvalidation-rmse:13.5847\n",
            "[1]\tvalidation-rmse:8.10825\n",
            "[2]\tvalidation-rmse:5.35214\n",
            "[3]\tvalidation-rmse:4.26566\n",
            "[4]\tvalidation-rmse:3.89413\n",
            "[5]\tvalidation-rmse:3.79668\n",
            "[6]\tvalidation-rmse:3.79603\n",
            "[7]\tvalidation-rmse:3.78816\n",
            "[8]\tvalidation-rmse:3.79297\n",
            "[9]\tvalidation-rmse:3.77469\n"
          ],
          "name": "stdout"
        },
        {
          "output_type": "stream",
          "text": [
            "[I 2020-07-08 14:07:19,617] Finished trial#757 with value: 3.326828465655459 with parameters: {'combos': 1, 'ada_Scaler': 'log', 'ada_ne': 164, 'ada_lr': 0.7508467877582176, 'et_Scaler': 'stand', 'et_max_depth': 8, 'et_ne': 615, 'xgb_Scaler': 'log', 'booster': 'gbtree', 'lambda': 0.046130005224996336, 'alpha': 0.006158755648091344, 'max_depth': 3, 'eta': 0.44925040022519624, 'gamma': 1.0337815267390467e-05, 'grow_policy': 'depthwise'}. Best is trial#563 with value: 3.1249267571970165.\n"
          ],
          "name": "stderr"
        },
        {
          "output_type": "stream",
          "text": [
            "[0]\tvalidation-rmse:16.9107\n",
            "[1]\tvalidation-rmse:12.1693\n",
            "[2]\tvalidation-rmse:8.91285\n",
            "[3]\tvalidation-rmse:6.8567\n",
            "[4]\tvalidation-rmse:5.52302\n",
            "[5]\tvalidation-rmse:4.58599\n",
            "[6]\tvalidation-rmse:4.17505\n",
            "[7]\tvalidation-rmse:4.0086\n",
            "[8]\tvalidation-rmse:3.91632\n",
            "[9]\tvalidation-rmse:3.89433\n"
          ],
          "name": "stdout"
        },
        {
          "output_type": "stream",
          "text": [
            "[I 2020-07-08 14:07:20,972] Finished trial#758 with value: 3.4712664357889236 with parameters: {'combos': 1, 'ada_Scaler': 'log', 'ada_ne': 192, 'ada_lr': 0.4316294182036323, 'et_Scaler': 'stand', 'et_max_depth': 9, 'et_ne': 570, 'xgb_Scaler': 'log', 'booster': 'gbtree', 'lambda': 1.9384194793296896e-05, 'alpha': 0.022643839213782248, 'max_depth': 3, 'eta': 0.3023588476432696, 'gamma': 1.0191742246957764e-07, 'grow_policy': 'depthwise'}. Best is trial#563 with value: 3.1249267571970165.\n"
          ],
          "name": "stderr"
        },
        {
          "output_type": "stream",
          "text": [
            "[0]\tvalidation-rmse:23.408\n",
            "[1]\tvalidation-rmse:22.822\n",
            "[2]\tvalidation-rmse:22.2807\n",
            "[3]\tvalidation-rmse:21.7266\n",
            "[4]\tvalidation-rmse:21.1904\n",
            "[5]\tvalidation-rmse:20.6766\n",
            "[6]\tvalidation-rmse:20.1658\n",
            "[7]\tvalidation-rmse:19.6795\n",
            "[8]\tvalidation-rmse:19.1979\n",
            "[9]\tvalidation-rmse:18.7252\n"
          ],
          "name": "stdout"
        },
        {
          "output_type": "stream",
          "text": [
            "[I 2020-07-08 14:07:22,387] Finished trial#759 with value: 6.770754509531643 with parameters: {'combos': 1, 'ada_Scaler': 'log', 'ada_ne': 143, 'ada_lr': 0.5895850038996661, 'et_Scaler': 'stand', 'et_max_depth': 10, 'et_ne': 639, 'xgb_Scaler': 'minmax', 'booster': 'gbtree', 'lambda': 0.2571188074348616, 'alpha': 0.0037855267388547846, 'max_depth': 3, 'eta': 0.02660095505736358, 'gamma': 1.3101725041716585e-08, 'grow_policy': 'depthwise'}. Best is trial#563 with value: 3.1249267571970165.\n"
          ],
          "name": "stderr"
        },
        {
          "output_type": "stream",
          "text": [
            "[0]\tvalidation-rmse:8.47076\n",
            "[1]\tvalidation-rmse:5.22485\n",
            "[2]\tvalidation-rmse:4.60452\n",
            "[3]\tvalidation-rmse:4.47598\n",
            "[4]\tvalidation-rmse:4.46334\n",
            "[5]\tvalidation-rmse:4.40259\n",
            "[6]\tvalidation-rmse:4.42766\n",
            "[7]\tvalidation-rmse:4.50235\n",
            "[8]\tvalidation-rmse:4.53149\n",
            "[9]\tvalidation-rmse:4.59359\n"
          ],
          "name": "stdout"
        },
        {
          "output_type": "stream",
          "text": [
            "[I 2020-07-08 14:07:24,022] Finished trial#760 with value: 3.4978619283057926 with parameters: {'combos': 1, 'ada_Scaler': 'log', 'ada_ne': 211, 'ada_lr': 0.48722781375203517, 'et_Scaler': 'stand', 'et_max_depth': 11, 'et_ne': 675, 'xgb_Scaler': 'log', 'booster': 'gbtree', 'lambda': 0.03292538710851298, 'alpha': 0.009058555914085917, 'max_depth': 2, 'eta': 0.7399128724645769, 'gamma': 2.0153222945655627e-08, 'grow_policy': 'depthwise'}. Best is trial#563 with value: 3.1249267571970165.\n",
            "[I 2020-07-08 14:07:25,541] Finished trial#761 with value: 3.4451451703880482 with parameters: {'combos': 2, 'ada_Scaler': 'log', 'ada_ne': 106, 'ada_lr': 0.6609373755996938, 'et_Scaler': 'stand', 'et_max_depth': 8, 'et_ne': 586, 'gbm_Scaler': 'log', 'lambda_l1': 0.00026878210708372927, 'lambda_l2': 0.0021548246094451095, 'num_leaves': 150, 'feature_fraction': 0.7566208617625155, 'bagging_fraction': 0.854742952559159, 'bagging_freq': 4, 'min_child_samples': 2}. Best is trial#563 with value: 3.1249267571970165.\n"
          ],
          "name": "stderr"
        },
        {
          "output_type": "stream",
          "text": [
            "[0]\tvalidation-rmse:8.55414\n",
            "[1]\tvalidation-rmse:7.91892\n",
            "[2]\tvalidation-rmse:7.64716\n",
            "[3]\tvalidation-rmse:7.49697\n",
            "[4]\tvalidation-rmse:7.39486\n",
            "[5]\tvalidation-rmse:7.31509\n",
            "[6]\tvalidation-rmse:7.24767\n",
            "[7]\tvalidation-rmse:7.18734\n",
            "[8]\tvalidation-rmse:7.13145\n",
            "[9]\tvalidation-rmse:7.07831\n"
          ],
          "name": "stdout"
        },
        {
          "output_type": "stream",
          "text": [
            "[I 2020-07-08 14:07:26,899] Finished trial#762 with value: 3.8026228106759223 with parameters: {'combos': 1, 'ada_Scaler': 'log', 'ada_ne': 164, 'ada_lr': 0.5273956397727064, 'et_Scaler': 'stand', 'et_max_depth': 9, 'et_ne': 624, 'xgb_Scaler': 'log', 'booster': 'gblinear', 'lambda': 0.08722932729423573, 'alpha': 0.01174903299225775}. Best is trial#563 with value: 3.1249267571970165.\n"
          ],
          "name": "stderr"
        },
        {
          "output_type": "stream",
          "text": [
            "[0]\tvalidation-rmse:6.2017\n",
            "[1]\tvalidation-rmse:5.25716\n",
            "[2]\tvalidation-rmse:5.17943\n",
            "[3]\tvalidation-rmse:5.36775\n",
            "[4]\tvalidation-rmse:5.46896\n",
            "[5]\tvalidation-rmse:5.42554\n",
            "[6]\tvalidation-rmse:5.31356\n",
            "[7]\tvalidation-rmse:5.31016\n",
            "[8]\tvalidation-rmse:5.2637\n",
            "[9]\tvalidation-rmse:5.26429\n"
          ],
          "name": "stdout"
        },
        {
          "output_type": "stream",
          "text": [
            "[I 2020-07-08 14:07:28,392] Finished trial#763 with value: 3.466017340294997 with parameters: {'combos': 1, 'ada_Scaler': 'log', 'ada_ne': 180, 'ada_lr': 0.5583422392194123, 'et_Scaler': 'stand', 'et_max_depth': 10, 'et_ne': 646, 'xgb_Scaler': 'log', 'booster': 'gbtree', 'lambda': 0.016165873526632027, 'alpha': 0.03330642839786529, 'max_depth': 3, 'eta': 0.9793939874605223, 'gamma': 5.9595065596992464e-08, 'grow_policy': 'depthwise'}. Best is trial#563 with value: 3.1249267571970165.\n"
          ],
          "name": "stderr"
        },
        {
          "output_type": "stream",
          "text": [
            "[0]\tvalidation-rmse:12.6103\n",
            "[1]\tvalidation-rmse:7.19946\n",
            "[2]\tvalidation-rmse:4.92502\n",
            "[3]\tvalidation-rmse:4.12329\n",
            "[4]\tvalidation-rmse:3.86151\n",
            "[5]\tvalidation-rmse:3.98131\n",
            "[6]\tvalidation-rmse:3.83764\n",
            "[7]\tvalidation-rmse:3.86876\n",
            "[8]\tvalidation-rmse:4.17731\n",
            "[9]\tvalidation-rmse:4.14531\n"
          ],
          "name": "stdout"
        },
        {
          "output_type": "stream",
          "text": [
            "[I 2020-07-08 14:07:29,700] Finished trial#764 with value: 3.2198463335056426 with parameters: {'combos': 1, 'ada_Scaler': 'log', 'ada_ne': 148, 'ada_lr': 0.6245690733785013, 'et_Scaler': 'stand', 'et_max_depth': 9, 'et_ne': 605, 'xgb_Scaler': 'stand', 'booster': 'dart', 'lambda': 0.05927080836429088, 'alpha': 0.0010834201226215413, 'max_depth': 3, 'eta': 0.493131100816288, 'gamma': 3.303575966720041e-08, 'grow_policy': 'depthwise', 'sample_type': 'weighted', 'normalize_type': 'forest', 'rate_drop': 1.3818257899708746e-06, 'skip_drop': 9.134323643265513e-07}. Best is trial#563 with value: 3.1249267571970165.\n"
          ],
          "name": "stderr"
        },
        {
          "output_type": "stream",
          "text": [
            "[0]\tvalidation-rmse:8.24228\n",
            "[1]\tvalidation-rmse:4.60257\n",
            "[2]\tvalidation-rmse:4.1748\n",
            "[3]\tvalidation-rmse:4.10445\n",
            "[4]\tvalidation-rmse:4.18246\n",
            "[5]\tvalidation-rmse:4.36379\n",
            "[6]\tvalidation-rmse:4.38279\n",
            "[7]\tvalidation-rmse:4.37514\n",
            "[8]\tvalidation-rmse:4.36398\n",
            "[9]\tvalidation-rmse:4.3153\n"
          ],
          "name": "stdout"
        },
        {
          "output_type": "stream",
          "text": [
            "[I 2020-07-08 14:07:31,245] Finished trial#765 with value: 3.3347533194135464 with parameters: {'combos': 1, 'ada_Scaler': 'log', 'ada_ne': 203, 'ada_lr': 0.7148278071175787, 'et_Scaler': 'stand', 'et_max_depth': 10, 'et_ne': 662, 'xgb_Scaler': 'log', 'booster': 'gbtree', 'lambda': 0.13704966388339182, 'alpha': 0.01896333485326859, 'max_depth': 4, 'eta': 0.6925404567454527, 'gamma': 1.0039412147958475e-08, 'grow_policy': 'depthwise'}. Best is trial#563 with value: 3.1249267571970165.\n"
          ],
          "name": "stderr"
        },
        {
          "output_type": "stream",
          "text": [
            "[0]\tvalidation-rmse:22.3008\n",
            "[1]\tvalidation-rmse:20.7797\n",
            "[2]\tvalidation-rmse:19.3346\n",
            "[3]\tvalidation-rmse:17.9962\n",
            "[4]\tvalidation-rmse:16.7657\n",
            "[5]\tvalidation-rmse:15.6268\n",
            "[6]\tvalidation-rmse:14.5756\n",
            "[7]\tvalidation-rmse:13.6153\n",
            "[8]\tvalidation-rmse:12.7057\n",
            "[9]\tvalidation-rmse:11.8989\n"
          ],
          "name": "stdout"
        },
        {
          "output_type": "stream",
          "text": [
            "[I 2020-07-08 14:07:32,830] Finished trial#766 with value: 4.866497408746213 with parameters: {'combos': 1, 'ada_Scaler': 'log', 'ada_ne': 245, 'ada_lr': 0.6686726929872572, 'et_Scaler': 'stand', 'et_max_depth': 11, 'et_ne': 608, 'xgb_Scaler': 'log', 'booster': 'gbtree', 'lambda': 0.025494730291460706, 'alpha': 0.004751267359869492, 'max_depth': 3, 'eta': 0.07107587646887435, 'gamma': 2.2653319518498284e-07, 'grow_policy': 'lossguide'}. Best is trial#563 with value: 3.1249267571970165.\n"
          ],
          "name": "stderr"
        },
        {
          "output_type": "stream",
          "text": [
            "[0]\tvalidation-rmse:18.074\n",
            "[1]\tvalidation-rmse:13.7736\n",
            "[2]\tvalidation-rmse:10.6066\n",
            "[3]\tvalidation-rmse:8.26512\n",
            "[4]\tvalidation-rmse:6.60557\n",
            "[5]\tvalidation-rmse:5.48928\n",
            "[6]\tvalidation-rmse:4.7215\n",
            "[7]\tvalidation-rmse:4.26464\n",
            "[8]\tvalidation-rmse:4.00782\n",
            "[9]\tvalidation-rmse:3.83032\n"
          ],
          "name": "stdout"
        },
        {
          "output_type": "stream",
          "text": [
            "[I 2020-07-08 14:07:34,065] Finished trial#767 with value: 3.3636334111831045 with parameters: {'combos': 1, 'ada_Scaler': 'log', 'ada_ne': 134, 'ada_lr': 0.5987196992202487, 'et_Scaler': 'stand', 'et_max_depth': 9, 'et_ne': 564, 'xgb_Scaler': 'log', 'booster': 'gbtree', 'lambda': 0.0390089387799356, 'alpha': 3.426172133986289e-05, 'max_depth': 3, 'eta': 0.2520285578312244, 'gamma': 9.403870671931957e-08, 'grow_policy': 'depthwise'}. Best is trial#563 with value: 3.1249267571970165.\n"
          ],
          "name": "stderr"
        },
        {
          "output_type": "stream",
          "text": [
            "[0]\tvalidation-rmse:5.377\n",
            "[1]\tvalidation-rmse:5.09524\n",
            "[2]\tvalidation-rmse:5.02721\n",
            "[3]\tvalidation-rmse:5.04349\n",
            "[4]\tvalidation-rmse:5.07694\n",
            "[5]\tvalidation-rmse:5.19705\n",
            "[6]\tvalidation-rmse:5.08421\n",
            "[7]\tvalidation-rmse:4.99332\n",
            "[8]\tvalidation-rmse:4.94226\n",
            "[9]\tvalidation-rmse:4.86147\n"
          ],
          "name": "stdout"
        },
        {
          "output_type": "stream",
          "text": [
            "[I 2020-07-08 14:07:35,514] Finished trial#768 with value: 3.3880824034860493 with parameters: {'combos': 1, 'ada_Scaler': 'log', 'ada_ne': 176, 'ada_lr': 0.5731509283376508, 'et_Scaler': 'stand', 'et_max_depth': 10, 'et_ne': 632, 'xgb_Scaler': 'log', 'booster': 'gbtree', 'lambda': 0.0693433997510886, 'alpha': 0.002582533473882591, 'max_depth': 3, 'eta': 0.9972077478855693, 'gamma': 4.446637045710957e-08, 'grow_policy': 'depthwise'}. Best is trial#563 with value: 3.1249267571970165.\n",
            "[I 2020-07-08 14:07:36,480] Setting status of trial#769 as TrialState.PRUNED. Trial was pruned at iteration 11.\n"
          ],
          "name": "stderr"
        },
        {
          "output_type": "stream",
          "text": [
            "[0]\tvalidation-rmse:15.11\n",
            "[1]\tvalidation-rmse:9.72108\n",
            "[2]\tvalidation-rmse:6.56286\n",
            "[3]\tvalidation-rmse:4.80833\n",
            "[4]\tvalidation-rmse:3.9385\n",
            "[5]\tvalidation-rmse:3.60323\n",
            "[6]\tvalidation-rmse:3.32326\n",
            "[7]\tvalidation-rmse:3.28233\n",
            "[8]\tvalidation-rmse:3.25082\n",
            "[9]\tvalidation-rmse:3.22726\n"
          ],
          "name": "stdout"
        },
        {
          "output_type": "stream",
          "text": [
            "[I 2020-07-08 14:07:37,851] Finished trial#770 with value: 3.2276522911094983 with parameters: {'combos': 1, 'ada_Scaler': 'log', 'ada_ne': 89, 'ada_lr': 0.6305541711013216, 'et_Scaler': 'stand', 'et_max_depth': 9, 'et_ne': 643, 'xgb_Scaler': 'log', 'booster': 'gbtree', 'lambda': 0.1782663308428279, 'alpha': 0.4867024024157339, 'max_depth': 3, 'eta': 0.39226983214562333, 'gamma': 1.5838566889702678e-07, 'grow_policy': 'depthwise'}. Best is trial#563 with value: 3.1249267571970165.\n"
          ],
          "name": "stderr"
        },
        {
          "output_type": "stream",
          "text": [
            "[0]\tvalidation-rmse:12.3621\n",
            "[1]\tvalidation-rmse:7.18516\n",
            "[2]\tvalidation-rmse:4.95947\n",
            "[3]\tvalidation-rmse:4.54974\n",
            "[4]\tvalidation-rmse:3.99577\n",
            "[5]\tvalidation-rmse:3.88977\n",
            "[6]\tvalidation-rmse:3.94765\n",
            "[7]\tvalidation-rmse:3.83839\n",
            "[8]\tvalidation-rmse:3.82201\n",
            "[9]\tvalidation-rmse:3.72952\n"
          ],
          "name": "stdout"
        },
        {
          "output_type": "stream",
          "text": [
            "[I 2020-07-08 14:07:39,031] Finished trial#771 with value: 3.3777576959185414 with parameters: {'combos': 1, 'ada_Scaler': 'log', 'ada_ne': 38, 'ada_lr': 0.6971075451389432, 'et_Scaler': 'stand', 'et_max_depth': 8, 'et_ne': 684, 'xgb_Scaler': 'log', 'booster': 'gbtree', 'lambda': 0.09504275140655516, 'alpha': 0.007618796136459762, 'max_depth': 2, 'eta': 0.5340466353485579, 'gamma': 0.08673711043346832, 'grow_policy': 'depthwise'}. Best is trial#563 with value: 3.1249267571970165.\n"
          ],
          "name": "stderr"
        },
        {
          "output_type": "stream",
          "text": [
            "[0]\tvalidation-rmse:19.131\n",
            "[1]\tvalidation-rmse:15.2891\n",
            "[2]\tvalidation-rmse:12.3234\n",
            "[3]\tvalidation-rmse:9.98466\n",
            "[4]\tvalidation-rmse:8.20394\n",
            "[5]\tvalidation-rmse:6.79929\n",
            "[6]\tvalidation-rmse:5.79382\n",
            "[7]\tvalidation-rmse:4.96087\n",
            "[8]\tvalidation-rmse:4.38414\n",
            "[9]\tvalidation-rmse:3.98697\n"
          ],
          "name": "stdout"
        },
        {
          "output_type": "stream",
          "text": [
            "[I 2020-07-08 14:07:40,473] Finished trial#772 with value: 3.284699255582993 with parameters: {'combos': 1, 'ada_Scaler': 'log', 'ada_ne': 160, 'ada_lr': 0.5342127558946876, 'et_Scaler': 'stand', 'et_max_depth': 10, 'et_ne': 624, 'xgb_Scaler': 'log', 'booster': 'gbtree', 'lambda': 0.049312938708352974, 'alpha': 0.014665665118483258, 'max_depth': 3, 'eta': 0.2066644741289924, 'gamma': 2.0716992954810148e-08, 'grow_policy': 'depthwise'}. Best is trial#563 with value: 3.1249267571970165.\n"
          ],
          "name": "stderr"
        },
        {
          "output_type": "stream",
          "text": [
            "[0]\tvalidation-rmse:16.0536\n",
            "[1]\tvalidation-rmse:10.9836\n",
            "[2]\tvalidation-rmse:7.79824\n",
            "[3]\tvalidation-rmse:5.82129\n",
            "[4]\tvalidation-rmse:4.60896\n",
            "[5]\tvalidation-rmse:4.04335\n",
            "[6]\tvalidation-rmse:3.79478\n",
            "[7]\tvalidation-rmse:3.69698\n",
            "[8]\tvalidation-rmse:3.62707\n",
            "[9]\tvalidation-rmse:3.56925\n"
          ],
          "name": "stdout"
        },
        {
          "output_type": "stream",
          "text": [
            "[I 2020-07-08 14:07:41,997] Finished trial#773 with value: 3.2988802009960256 with parameters: {'combos': 1, 'ada_Scaler': 'log', 'ada_ne': 188, 'ada_lr': 0.7618531426937426, 'et_Scaler': 'minmax', 'et_max_depth': 12, 'et_ne': 602, 'xgb_Scaler': 'log', 'booster': 'gbtree', 'lambda': 0.02386581019702347, 'alpha': 0.010056730383153717, 'max_depth': 3, 'eta': 0.34045441737471105, 'gamma': 3.032691972324726e-08, 'grow_policy': 'depthwise'}. Best is trial#563 with value: 3.1249267571970165.\n"
          ],
          "name": "stderr"
        },
        {
          "output_type": "stream",
          "text": [
            "[0]\tvalidation-rmse:8.09409\n",
            "[1]\tvalidation-rmse:5.17448\n",
            "[2]\tvalidation-rmse:4.41503\n",
            "[3]\tvalidation-rmse:4.3054\n",
            "[4]\tvalidation-rmse:4.34701\n",
            "[5]\tvalidation-rmse:4.38842\n",
            "[6]\tvalidation-rmse:4.31296\n",
            "[7]\tvalidation-rmse:4.27683\n",
            "[8]\tvalidation-rmse:4.31729\n",
            "[9]\tvalidation-rmse:4.30656\n"
          ],
          "name": "stdout"
        },
        {
          "output_type": "stream",
          "text": [
            "[I 2020-07-08 14:07:43,439] Finished trial#774 with value: 3.3197340178782015 with parameters: {'combos': 1, 'ada_Scaler': 'minmax', 'ada_ne': 220, 'ada_lr': 0.6557609347064896, 'et_Scaler': 'stand', 'et_max_depth': 8, 'et_ne': 660, 'xgb_Scaler': 'log', 'booster': 'gbtree', 'lambda': 0.011042904414847073, 'alpha': 0.0042892298637309655, 'max_depth': 3, 'eta': 0.7302704146977865, 'gamma': 6.248118003609415e-08, 'grow_policy': 'depthwise'}. Best is trial#563 with value: 3.1249267571970165.\n"
          ],
          "name": "stderr"
        },
        {
          "output_type": "stream",
          "text": [
            "[0]\tvalidation-rmse:11.4563\n",
            "[1]\tvalidation-rmse:6.10927\n",
            "[2]\tvalidation-rmse:4.15411\n",
            "[3]\tvalidation-rmse:3.6423\n",
            "[4]\tvalidation-rmse:3.62575\n",
            "[5]\tvalidation-rmse:3.66719\n",
            "[6]\tvalidation-rmse:3.77069\n",
            "[7]\tvalidation-rmse:3.85763\n",
            "[8]\tvalidation-rmse:3.8573\n",
            "[9]\tvalidation-rmse:3.87212\n"
          ],
          "name": "stdout"
        },
        {
          "output_type": "stream",
          "text": [
            "[I 2020-07-08 14:07:44,673] Finished trial#775 with value: 3.2210513083589056 with parameters: {'combos': 1, 'ada_Scaler': 'log', 'ada_ne': 128, 'ada_lr': 0.6064414855442696, 'et_Scaler': 'stand', 'et_max_depth': 9, 'et_ne': 576, 'xgb_Scaler': 'log', 'booster': 'gbtree', 'lambda': 0.03658746761526381, 'alpha': 0.026337484555176923, 'max_depth': 3, 'eta': 0.5462652055591265, 'gamma': 1.49743073651191e-08, 'grow_policy': 'depthwise'}. Best is trial#563 with value: 3.1249267571970165.\n"
          ],
          "name": "stderr"
        },
        {
          "output_type": "stream",
          "text": [
            "[0]\tvalidation-rmse:9.39495\n",
            "[1]\tvalidation-rmse:6.36324\n",
            "[2]\tvalidation-rmse:5.58362\n",
            "[3]\tvalidation-rmse:5.44086\n",
            "[4]\tvalidation-rmse:5.10128\n",
            "[5]\tvalidation-rmse:5.09888\n",
            "[6]\tvalidation-rmse:5.18391\n",
            "[7]\tvalidation-rmse:4.97155\n",
            "[8]\tvalidation-rmse:4.94282\n",
            "[9]\tvalidation-rmse:5.12236\n"
          ],
          "name": "stdout"
        },
        {
          "output_type": "stream",
          "text": [
            "[I 2020-07-08 14:07:46,104] Finished trial#776 with value: 3.4989583360887533 with parameters: {'combos': 1, 'ada_Scaler': 'log', 'ada_ne': 149, 'ada_lr': 0.5736619560676705, 'et_Scaler': 'stand', 'et_max_depth': 11, 'et_ne': 611, 'xgb_Scaler': 'log', 'booster': 'gbtree', 'lambda': 0.12419573330301392, 'alpha': 0.006892514070314262, 'max_depth': 1, 'eta': 0.7418451357296093, 'gamma': 3.0539271038779434e-07, 'grow_policy': 'depthwise'}. Best is trial#563 with value: 3.1249267571970165.\n"
          ],
          "name": "stderr"
        },
        {
          "output_type": "stream",
          "text": [
            "[0]\tvalidation-rmse:16.664\n",
            "[1]\tvalidation-rmse:11.8404\n",
            "[2]\tvalidation-rmse:8.5426\n",
            "[3]\tvalidation-rmse:6.46947\n",
            "[4]\tvalidation-rmse:5.15795\n",
            "[5]\tvalidation-rmse:4.34923\n",
            "[6]\tvalidation-rmse:3.94364\n",
            "[7]\tvalidation-rmse:3.73649\n",
            "[8]\tvalidation-rmse:3.64957\n",
            "[9]\tvalidation-rmse:3.62818\n"
          ],
          "name": "stdout"
        },
        {
          "output_type": "stream",
          "text": [
            "[I 2020-07-08 14:07:47,499] Finished trial#777 with value: 3.3368883207750164 with parameters: {'combos': 1, 'ada_Scaler': 'log', 'ada_ne': 201, 'ada_lr': 0.5115645624848649, 'et_Scaler': 'stand', 'et_max_depth': 10, 'et_ne': 549, 'xgb_Scaler': 'log', 'booster': 'gbtree', 'lambda': 0.06741510096685048, 'alpha': 0.0015359430713124196, 'max_depth': 3, 'eta': 0.31371084898440627, 'gamma': 3.832861964649339e-08, 'grow_policy': 'depthwise'}. Best is trial#563 with value: 3.1249267571970165.\n"
          ],
          "name": "stderr"
        },
        {
          "output_type": "stream",
          "text": [
            "[0]\tvalidation-rmse:13.3357\n",
            "[1]\tvalidation-rmse:7.77504\n",
            "[2]\tvalidation-rmse:5.18033\n",
            "[3]\tvalidation-rmse:4.14845\n",
            "[4]\tvalidation-rmse:3.83184\n",
            "[5]\tvalidation-rmse:3.72238\n",
            "[6]\tvalidation-rmse:3.70971\n",
            "[7]\tvalidation-rmse:3.76464\n",
            "[8]\tvalidation-rmse:3.76869\n",
            "[9]\tvalidation-rmse:3.76451\n"
          ],
          "name": "stdout"
        },
        {
          "output_type": "stream",
          "text": [
            "[I 2020-07-08 14:07:48,897] Finished trial#778 with value: 3.294447379898601 with parameters: {'combos': 1, 'ada_Scaler': 'log', 'ada_ne': 180, 'ada_lr': 0.6979164207280126, 'et_Scaler': 'stand', 'et_max_depth': 9, 'et_ne': 635, 'xgb_Scaler': 'log', 'booster': 'gbtree', 'lambda': 0.01994596933489635, 'alpha': 0.014006469792076778, 'max_depth': 4, 'eta': 0.4518355544558203, 'gamma': 8.257856591144808e-08, 'grow_policy': 'depthwise'}. Best is trial#563 with value: 3.1249267571970165.\n"
          ],
          "name": "stderr"
        },
        {
          "output_type": "stream",
          "text": [
            "[0]\tvalidation-rmse:7.79153\n",
            "[1]\tvalidation-rmse:4.36254\n",
            "[2]\tvalidation-rmse:4.07288\n",
            "[3]\tvalidation-rmse:3.97957\n",
            "[4]\tvalidation-rmse:4.03034\n",
            "[5]\tvalidation-rmse:3.94579\n",
            "[6]\tvalidation-rmse:4.01579\n",
            "[7]\tvalidation-rmse:4.13738\n",
            "[8]\tvalidation-rmse:4.12016\n",
            "[9]\tvalidation-rmse:4.12229\n"
          ],
          "name": "stdout"
        },
        {
          "output_type": "stream",
          "text": [
            "[I 2020-07-08 14:07:50,199] Finished trial#779 with value: 3.3393061525268934 with parameters: {'combos': 1, 'ada_Scaler': 'log', 'ada_ne': 114, 'ada_lr': 0.6356857875620117, 'et_Scaler': 'stand', 'et_max_depth': 10, 'et_ne': 591, 'xgb_Scaler': 'log', 'booster': 'gbtree', 'lambda': 0.2760279640069804, 'alpha': 0.018991180276355206, 'max_depth': 3, 'eta': 0.7556467929048901, 'gamma': 2.455423101416461e-08, 'grow_policy': 'depthwise'}. Best is trial#563 with value: 3.1249267571970165.\n"
          ],
          "name": "stderr"
        },
        {
          "output_type": "stream",
          "text": [
            "[0]\tvalidation-rmse:19.663\n",
            "[1]\tvalidation-rmse:16.1434\n",
            "[2]\tvalidation-rmse:13.346\n",
            "[3]\tvalidation-rmse:11.0987\n",
            "[4]\tvalidation-rmse:9.34829\n",
            "[5]\tvalidation-rmse:7.89933\n",
            "[6]\tvalidation-rmse:6.789\n",
            "[7]\tvalidation-rmse:5.93042\n",
            "[8]\tvalidation-rmse:5.33568\n",
            "[9]\tvalidation-rmse:4.81013\n"
          ],
          "name": "stdout"
        },
        {
          "output_type": "stream",
          "text": [
            "[I 2020-07-08 14:07:51,396] Finished trial#780 with value: 3.550530803159501 with parameters: {'combos': 1, 'ada_Scaler': 'log', 'ada_ne': 71, 'ada_lr': 0.5979986313539949, 'et_Scaler': 'stand', 'et_max_depth': 8, 'et_ne': 653, 'xgb_Scaler': 'log', 'booster': 'gbtree', 'lambda': 0.00622601633508682, 'alpha': 0.009933917928238318, 'max_depth': 3, 'eta': 0.1833692285917682, 'gamma': 1.2506327387519904e-07, 'grow_policy': 'depthwise'}. Best is trial#563 with value: 3.1249267571970165.\n",
            "[I 2020-07-08 14:07:52,363] Setting status of trial#781 as TrialState.PRUNED. Trial was pruned at iteration 24.\n"
          ],
          "name": "stderr"
        },
        {
          "output_type": "stream",
          "text": [
            "[0]\tvalidation-rmse:6.09838\n",
            "[1]\tvalidation-rmse:4.81144\n",
            "[2]\tvalidation-rmse:4.87502\n",
            "[3]\tvalidation-rmse:4.79115\n",
            "[4]\tvalidation-rmse:4.59924\n",
            "[5]\tvalidation-rmse:4.57196\n",
            "[6]\tvalidation-rmse:5.13624\n",
            "[7]\tvalidation-rmse:5.16434\n",
            "[8]\tvalidation-rmse:5.15498\n",
            "[9]\tvalidation-rmse:5.11351\n"
          ],
          "name": "stdout"
        },
        {
          "output_type": "stream",
          "text": [
            "[I 2020-07-08 14:07:53,845] Finished trial#782 with value: 3.42659528178829 with parameters: {'combos': 1, 'ada_Scaler': 'log', 'ada_ne': 136, 'ada_lr': 0.6626210155607011, 'et_Scaler': 'stand', 'et_max_depth': 9, 'et_ne': 671, 'xgb_Scaler': 'log', 'booster': 'gbtree', 'lambda': 0.03157052405988471, 'alpha': 0.005943780003289229, 'max_depth': 3, 'eta': 0.9402131295366015, 'gamma': 5.6357770824210505e-08, 'grow_policy': 'lossguide'}. Best is trial#563 with value: 3.1249267571970165.\n"
          ],
          "name": "stderr"
        },
        {
          "output_type": "stream",
          "text": [
            "[0]\tvalidation-rmse:11.7144\n",
            "[1]\tvalidation-rmse:6.4575\n",
            "[2]\tvalidation-rmse:4.42782\n",
            "[3]\tvalidation-rmse:3.83018\n",
            "[4]\tvalidation-rmse:3.77025\n",
            "[5]\tvalidation-rmse:3.78895\n",
            "[6]\tvalidation-rmse:3.77486\n",
            "[7]\tvalidation-rmse:3.77033\n",
            "[8]\tvalidation-rmse:3.75063\n",
            "[9]\tvalidation-rmse:3.7672\n"
          ],
          "name": "stdout"
        },
        {
          "output_type": "stream",
          "text": [
            "[I 2020-07-08 14:07:55,392] Finished trial#783 with value: 3.2237531560411568 with parameters: {'combos': 1, 'ada_Scaler': 'log', 'ada_ne': 219, 'ada_lr': 0.744441858608986, 'et_Scaler': 'stand', 'et_max_depth': 11, 'et_ne': 599, 'xgb_Scaler': 'log', 'booster': 'gbtree', 'lambda': 7.084509573196032e-06, 'alpha': 0.003104904492211434, 'max_depth': 3, 'eta': 0.5380525084472161, 'gamma': 1.8920348079067834e-08, 'grow_policy': 'depthwise'}. Best is trial#563 with value: 3.1249267571970165.\n"
          ],
          "name": "stderr"
        },
        {
          "output_type": "stream",
          "text": [
            "[0]\tvalidation-rmse:23.9807\n",
            "[1]\tvalidation-rmse:23.9807\n",
            "[2]\tvalidation-rmse:23.9807\n",
            "[3]\tvalidation-rmse:23.9807\n",
            "[4]\tvalidation-rmse:23.9807\n",
            "[5]\tvalidation-rmse:23.9807\n",
            "[6]\tvalidation-rmse:23.9807\n",
            "[7]\tvalidation-rmse:23.9807\n",
            "[8]\tvalidation-rmse:23.9807\n",
            "[9]\tvalidation-rmse:23.9807\n"
          ],
          "name": "stdout"
        },
        {
          "output_type": "stream",
          "text": [
            "[I 2020-07-08 14:07:56,765] Finished trial#784 with value: 8.3167107935299 with parameters: {'combos': 1, 'ada_Scaler': 'log', 'ada_ne': 95, 'ada_lr': 0.6170461280089271, 'et_Scaler': 'stand', 'et_max_depth': 10, 'et_ne': 636, 'xgb_Scaler': 'log', 'booster': 'gbtree', 'lambda': 0.047946677000987814, 'alpha': 0.010444203103833639, 'max_depth': 3, 'eta': 1.0603850621977126e-07, 'gamma': 3.9964805924965333e-08, 'grow_policy': 'depthwise'}. Best is trial#563 with value: 3.1249267571970165.\n"
          ],
          "name": "stderr"
        },
        {
          "output_type": "stream",
          "text": [
            "[0]\tvalidation-rmse:5.31659\n",
            "[1]\tvalidation-rmse:5.01496\n",
            "[2]\tvalidation-rmse:4.94924\n",
            "[3]\tvalidation-rmse:4.96688\n",
            "[4]\tvalidation-rmse:4.99552\n",
            "[5]\tvalidation-rmse:4.87491\n",
            "[6]\tvalidation-rmse:4.76631\n",
            "[7]\tvalidation-rmse:4.81694\n",
            "[8]\tvalidation-rmse:4.84949\n",
            "[9]\tvalidation-rmse:4.83152\n"
          ],
          "name": "stdout"
        },
        {
          "output_type": "stream",
          "text": [
            "[I 2020-07-08 14:07:58,086] Finished trial#785 with value: 3.4103400926437315 with parameters: {'combos': 1, 'ada_Scaler': 'log', 'ada_ne': 171, 'ada_lr': 0.5454715868981417, 'et_Scaler': 'stand', 'et_max_depth': 9, 'et_ne': 574, 'xgb_Scaler': 'log', 'booster': 'gbtree', 'lambda': 0.08385962885972602, 'alpha': 0.040737763087692974, 'max_depth': 3, 'eta': 0.9852656734107738, 'gamma': 2.7602615172729475e-08, 'grow_policy': 'depthwise'}. Best is trial#563 with value: 3.1249267571970165.\n"
          ],
          "name": "stderr"
        },
        {
          "output_type": "stream",
          "text": [
            "[0]\tvalidation-rmse:16.3719\n",
            "[1]\tvalidation-rmse:11.4617\n",
            "[2]\tvalidation-rmse:8.52722\n",
            "[3]\tvalidation-rmse:6.64933\n",
            "[4]\tvalidation-rmse:5.19954\n",
            "[5]\tvalidation-rmse:4.36788\n",
            "[6]\tvalidation-rmse:4.05546\n",
            "[7]\tvalidation-rmse:3.91067\n",
            "[8]\tvalidation-rmse:3.79989\n",
            "[9]\tvalidation-rmse:3.76144\n"
          ],
          "name": "stdout"
        },
        {
          "output_type": "stream",
          "text": [
            "[I 2020-07-08 14:07:59,566] Finished trial#786 with value: 3.3325015432701415 with parameters: {'combos': 1, 'ada_Scaler': 'log', 'ada_ne': 195, 'ada_lr': 0.691730136727991, 'et_Scaler': 'stand', 'et_max_depth': 10, 'et_ne': 617, 'xgb_Scaler': 'log', 'booster': 'gbtree', 'lambda': 0.014578961267135999, 'alpha': 0.01579641894314276, 'max_depth': 2, 'eta': 0.34339131408642476, 'gamma': 1.0369631727516925e-08, 'grow_policy': 'depthwise'}. Best is trial#563 with value: 3.1249267571970165.\n"
          ],
          "name": "stderr"
        },
        {
          "output_type": "stream",
          "text": [
            "[0]\tvalidation-rmse:5.01549\n",
            "[1]\tvalidation-rmse:4.64266\n",
            "[2]\tvalidation-rmse:4.65019\n",
            "[3]\tvalidation-rmse:4.51155\n",
            "[4]\tvalidation-rmse:4.3279\n",
            "[5]\tvalidation-rmse:4.26242\n",
            "[6]\tvalidation-rmse:4.26129\n",
            "[7]\tvalidation-rmse:4.31425\n",
            "[8]\tvalidation-rmse:4.35771\n",
            "[9]\tvalidation-rmse:4.33465\n"
          ],
          "name": "stdout"
        },
        {
          "output_type": "stream",
          "text": [
            "[I 2020-07-08 14:08:00,934] Finished trial#787 with value: 3.3222909375915113 with parameters: {'combos': 1, 'ada_Scaler': 'log', 'ada_ne': 149, 'ada_lr': 0.6376174945318255, 'et_Scaler': 'stand', 'et_max_depth': 8, 'et_ne': 687, 'xgb_Scaler': 'log', 'booster': 'gbtree', 'lambda': 0.16154405011426493, 'alpha': 0.006853646584960146, 'max_depth': 3, 'eta': 0.9813576416546685, 'gamma': 1.810331837951206e-07, 'grow_policy': 'depthwise'}. Best is trial#563 with value: 3.1249267571970165.\n"
          ],
          "name": "stderr"
        },
        {
          "output_type": "stream",
          "text": [
            "[0]\tvalidation-rmse:11.6004\n",
            "[1]\tvalidation-rmse:6.24747\n",
            "[2]\tvalidation-rmse:4.27514\n",
            "[3]\tvalidation-rmse:3.80368\n",
            "[4]\tvalidation-rmse:3.78859\n",
            "[5]\tvalidation-rmse:3.9394\n",
            "[6]\tvalidation-rmse:3.89765\n",
            "[7]\tvalidation-rmse:3.87476\n",
            "[8]\tvalidation-rmse:3.82908\n",
            "[9]\tvalidation-rmse:3.83885\n"
          ],
          "name": "stdout"
        },
        {
          "output_type": "stream",
          "text": [
            "[I 2020-07-08 14:08:02,484] Finished trial#788 with value: 3.2437377763200326 with parameters: {'combos': 1, 'ada_Scaler': 'log', 'ada_ne': 241, 'ada_lr': 0.578515375747959, 'et_Scaler': 'stand', 'et_max_depth': 9, 'et_ne': 648, 'xgb_Scaler': 'log', 'booster': 'gbtree', 'lambda': 0.10579176951102726, 'alpha': 0.004504443821738426, 'max_depth': 3, 'eta': 0.5439888052954336, 'gamma': 9.019261450155844e-08, 'grow_policy': 'depthwise'}. Best is trial#563 with value: 3.1249267571970165.\n"
          ],
          "name": "stderr"
        },
        {
          "output_type": "stream",
          "text": [
            "[0]\tvalidation-rmse:17.8689\n",
            "[1]\tvalidation-rmse:13.4588\n",
            "[2]\tvalidation-rmse:10.2772\n",
            "[3]\tvalidation-rmse:8.07298\n",
            "[4]\tvalidation-rmse:6.49424\n",
            "[5]\tvalidation-rmse:5.5\n",
            "[6]\tvalidation-rmse:4.7874\n",
            "[7]\tvalidation-rmse:4.36362\n",
            "[8]\tvalidation-rmse:4.06438\n",
            "[9]\tvalidation-rmse:3.87593\n"
          ],
          "name": "stdout"
        },
        {
          "output_type": "stream",
          "text": [
            "[I 2020-07-08 14:08:03,584] Finished trial#789 with value: 3.448808164896087 with parameters: {'combos': 1, 'ada_Scaler': 'log', 'ada_ne': 54, 'ada_lr': 0.5095112816119985, 'et_Scaler': 'stand', 'et_max_depth': 8, 'et_ne': 589, 'xgb_Scaler': 'log', 'booster': 'gbtree', 'lambda': 0.0014600818747355776, 'alpha': 0.025238581106614515, 'max_depth': 3, 'eta': 0.26065966517164285, 'gamma': 1.392518340602873e-08, 'grow_policy': 'depthwise'}. Best is trial#563 with value: 3.1249267571970165.\n",
            "[I 2020-07-08 14:08:04,719] Setting status of trial#790 as TrialState.PRUNED. Trial was pruned at iteration 11.\n"
          ],
          "name": "stderr"
        },
        {
          "output_type": "stream",
          "text": [
            "[0]\tvalidation-rmse:5.39012\n",
            "[1]\tvalidation-rmse:5.11176\n",
            "[2]\tvalidation-rmse:5.04438\n",
            "[3]\tvalidation-rmse:5.05918\n",
            "[4]\tvalidation-rmse:5.09132\n",
            "[5]\tvalidation-rmse:5.20819\n",
            "[6]\tvalidation-rmse:5.09623\n",
            "[7]\tvalidation-rmse:5.00499\n",
            "[8]\tvalidation-rmse:4.95486\n",
            "[9]\tvalidation-rmse:4.87669\n"
          ],
          "name": "stdout"
        },
        {
          "output_type": "stream",
          "text": [
            "[I 2020-07-08 14:08:06,178] Finished trial#791 with value: 3.4308982593261765 with parameters: {'combos': 1, 'ada_Scaler': 'log', 'ada_ne': 180, 'ada_lr': 0.6115538256599021, 'et_Scaler': 'stand', 'et_max_depth': 10, 'et_ne': 547, 'xgb_Scaler': 'log', 'booster': 'gbtree', 'lambda': 0.056682506870120226, 'alpha': 0.1501929882351112, 'max_depth': 3, 'eta': 0.9954773957117287, 'gamma': 5.2683877263138753e-08, 'grow_policy': 'depthwise'}. Best is trial#563 with value: 3.1249267571970165.\n"
          ],
          "name": "stderr"
        },
        {
          "output_type": "stream",
          "text": [
            "[0]\tvalidation-rmse:8.65729\n",
            "[1]\tvalidation-rmse:7.49151\n",
            "[2]\tvalidation-rmse:7.03849\n",
            "[3]\tvalidation-rmse:6.72687\n",
            "[4]\tvalidation-rmse:6.50542\n",
            "[5]\tvalidation-rmse:6.33825\n",
            "[6]\tvalidation-rmse:6.19778\n",
            "[7]\tvalidation-rmse:6.10286\n",
            "[8]\tvalidation-rmse:6.02936\n",
            "[9]\tvalidation-rmse:5.97159\n"
          ],
          "name": "stdout"
        },
        {
          "output_type": "stream",
          "text": [
            "[I 2020-07-08 14:08:07,602] Finished trial#792 with value: 3.5671913382809675 with parameters: {'combos': 1, 'ada_Scaler': 'log', 'ada_ne': 156, 'ada_lr': 0.7162513139343771, 'et_Scaler': 'stand', 'et_max_depth': 11, 'et_ne': 605, 'xgb_Scaler': 'minmax', 'booster': 'gblinear', 'lambda': 0.029099548253770473, 'alpha': 0.012433061958524798}. Best is trial#563 with value: 3.1249267571970165.\n"
          ],
          "name": "stderr"
        },
        {
          "output_type": "stream",
          "text": [
            "[0]\tvalidation-rmse:14.8322\n",
            "[1]\tvalidation-rmse:9.47876\n",
            "[2]\tvalidation-rmse:6.4968\n",
            "[3]\tvalidation-rmse:5.0306\n",
            "[4]\tvalidation-rmse:4.32681\n",
            "[5]\tvalidation-rmse:4.03101\n",
            "[6]\tvalidation-rmse:3.93405\n",
            "[7]\tvalidation-rmse:3.91621\n",
            "[8]\tvalidation-rmse:3.91781\n",
            "[9]\tvalidation-rmse:3.78919\n"
          ],
          "name": "stdout"
        },
        {
          "output_type": "stream",
          "text": [
            "[I 2020-07-08 14:08:08,981] Finished trial#793 with value: 3.28613940702521 with parameters: {'combos': 1, 'ada_Scaler': 'log', 'ada_ne': 107, 'ada_lr': 0.5500519792908471, 'et_Scaler': 'stand', 'et_max_depth': 10, 'et_ne': 656, 'xgb_Scaler': 'log', 'booster': 'gbtree', 'lambda': 0.04295575649140201, 'alpha': 0.001987755664468554, 'max_depth': 3, 'eta': 0.3935984606726495, 'gamma': 0.00017899747022641086, 'grow_policy': 'depthwise'}. Best is trial#563 with value: 3.1249267571970165.\n"
          ],
          "name": "stderr"
        },
        {
          "output_type": "stream",
          "text": [
            "[0]\tvalidation-rmse:10.0066\n",
            "[1]\tvalidation-rmse:5.50364\n",
            "[2]\tvalidation-rmse:4.08962\n",
            "[3]\tvalidation-rmse:3.91306\n",
            "[4]\tvalidation-rmse:3.89374\n",
            "[5]\tvalidation-rmse:4.04205\n",
            "[6]\tvalidation-rmse:4.03845\n",
            "[7]\tvalidation-rmse:4.04006\n",
            "[8]\tvalidation-rmse:4.07612\n",
            "[9]\tvalidation-rmse:4.09529\n"
          ],
          "name": "stdout"
        },
        {
          "output_type": "stream",
          "text": [
            "[I 2020-07-08 14:08:10,656] Finished trial#794 with value: 3.2360623480907695 with parameters: {'combos': 1, 'ada_Scaler': 'log', 'ada_ne': 209, 'ada_lr': 0.6656359846776629, 'et_Scaler': 'stand', 'et_max_depth': 13, 'et_ne': 637, 'xgb_Scaler': 'log', 'booster': 'gbtree', 'lambda': 1.3832254148825046e-06, 'alpha': 0.25280191121979356, 'max_depth': 3, 'eta': 0.6229074718203784, 'gamma': 3.4744430979398066e-08, 'grow_policy': 'depthwise'}. Best is trial#563 with value: 3.1249267571970165.\n"
          ],
          "name": "stderr"
        },
        {
          "output_type": "stream",
          "text": [
            "[0]\tvalidation-rmse:23.9807\n",
            "[1]\tvalidation-rmse:23.9807\n",
            "[2]\tvalidation-rmse:23.9807\n",
            "[3]\tvalidation-rmse:23.9807\n",
            "[4]\tvalidation-rmse:23.9807\n",
            "[5]\tvalidation-rmse:23.9807\n",
            "[6]\tvalidation-rmse:23.9807\n",
            "[7]\tvalidation-rmse:23.9807\n",
            "[8]\tvalidation-rmse:23.9807\n",
            "[9]\tvalidation-rmse:23.9807\n"
          ],
          "name": "stdout"
        },
        {
          "output_type": "stream",
          "text": [
            "[I 2020-07-08 14:08:11,934] Finished trial#795 with value: 8.451642703802172 with parameters: {'combos': 1, 'ada_Scaler': 'log', 'ada_ne': 139, 'ada_lr': 0.052976367093386295, 'et_Scaler': 'stand', 'et_max_depth': 9, 'et_ne': 564, 'xgb_Scaler': 'log', 'booster': 'dart', 'lambda': 0.7016948077897993, 'alpha': 0.007637638360482541, 'max_depth': 3, 'eta': 2.083322325182876e-08, 'gamma': 7.379613018039082e-08, 'grow_policy': 'depthwise', 'sample_type': 'uniform', 'normalize_type': 'tree', 'rate_drop': 1.9051819393287702e-05, 'skip_drop': 3.71721007809599e-08}. Best is trial#563 with value: 3.1249267571970165.\n"
          ],
          "name": "stderr"
        },
        {
          "output_type": "stream",
          "text": [
            "[0]\tvalidation-rmse:14.7272\n",
            "[1]\tvalidation-rmse:9.55166\n",
            "[2]\tvalidation-rmse:6.85115\n",
            "[3]\tvalidation-rmse:5.24746\n",
            "[4]\tvalidation-rmse:4.36116\n",
            "[5]\tvalidation-rmse:3.86301\n",
            "[6]\tvalidation-rmse:3.80809\n",
            "[7]\tvalidation-rmse:3.76696\n",
            "[8]\tvalidation-rmse:3.68279\n",
            "[9]\tvalidation-rmse:3.6804\n"
          ],
          "name": "stdout"
        },
        {
          "output_type": "stream",
          "text": [
            "[I 2020-07-08 14:08:13,372] Finished trial#796 with value: 3.3190550154390563 with parameters: {'combos': 1, 'ada_Scaler': 'minmax', 'ada_ne': 169, 'ada_lr': 0.5794267049479541, 'et_Scaler': 'stand', 'et_max_depth': 10, 'et_ne': 622, 'xgb_Scaler': 'stand', 'booster': 'gbtree', 'lambda': 0.020236393289887297, 'alpha': 0.018199814978410167, 'max_depth': 2, 'eta': 0.42110691492293045, 'gamma': 1.8521791471650218e-08, 'grow_policy': 'depthwise'}. Best is trial#563 with value: 3.1249267571970165.\n"
          ],
          "name": "stderr"
        },
        {
          "output_type": "stream",
          "text": [
            "[0]\tvalidation-rmse:8.2749\n",
            "[1]\tvalidation-rmse:4.78609\n",
            "[2]\tvalidation-rmse:4.68\n",
            "[3]\tvalidation-rmse:4.74974\n",
            "[4]\tvalidation-rmse:4.76418\n",
            "[5]\tvalidation-rmse:4.78783\n",
            "[6]\tvalidation-rmse:4.78297\n",
            "[7]\tvalidation-rmse:4.78848\n",
            "[8]\tvalidation-rmse:4.7847\n",
            "[9]\tvalidation-rmse:4.78819\n"
          ],
          "name": "stdout"
        },
        {
          "output_type": "stream",
          "text": [
            "[I 2020-07-08 14:08:14,758] Finished trial#797 with value: 3.473906790214186 with parameters: {'combos': 1, 'ada_Scaler': 'log', 'ada_ne': 188, 'ada_lr': 0.6095304185578518, 'et_Scaler': 'stand', 'et_max_depth': 9, 'et_ne': 588, 'xgb_Scaler': 'log', 'booster': 'gbtree', 'lambda': 0.07523996222263818, 'alpha': 0.009484255817515023, 'max_depth': 8, 'eta': 0.6748808913073868, 'gamma': 1.215217345717672e-07, 'grow_policy': 'depthwise'}. Best is trial#563 with value: 3.1249267571970165.\n"
          ],
          "name": "stderr"
        },
        {
          "output_type": "stream",
          "text": [
            "[0]\tvalidation-rmse:17.4536\n",
            "[1]\tvalidation-rmse:12.8822\n",
            "[2]\tvalidation-rmse:9.55072\n",
            "[3]\tvalidation-rmse:7.22845\n",
            "[4]\tvalidation-rmse:5.74945\n",
            "[5]\tvalidation-rmse:4.90243\n",
            "[6]\tvalidation-rmse:4.32846\n",
            "[7]\tvalidation-rmse:3.98712\n",
            "[8]\tvalidation-rmse:3.83625\n",
            "[9]\tvalidation-rmse:3.80082\n"
          ],
          "name": "stdout"
        },
        {
          "output_type": "stream",
          "text": [
            "[I 2020-07-08 14:08:15,933] Finished trial#798 with value: 3.477946111447761 with parameters: {'combos': 1, 'ada_Scaler': 'log', 'ada_ne': 84, 'ada_lr': 0.46875251004996465, 'et_Scaler': 'stand', 'et_max_depth': 7, 'et_ne': 668, 'xgb_Scaler': 'log', 'booster': 'gbtree', 'lambda': 0.228887619088618, 'alpha': 0.0050945887059149, 'max_depth': 4, 'eta': 0.2785169745164693, 'gamma': 4.199376851720802e-07, 'grow_policy': 'lossguide'}. Best is trial#563 with value: 3.1249267571970165.\n",
            "[I 2020-07-08 14:08:16,992] Setting status of trial#799 as TrialState.PRUNED. Trial was pruned at iteration 11.\n"
          ],
          "name": "stderr"
        },
        {
          "output_type": "stream",
          "text": [
            "[0]\tvalidation-rmse:12.3053\n",
            "[1]\tvalidation-rmse:6.90494\n",
            "[2]\tvalidation-rmse:4.92214\n",
            "[3]\tvalidation-rmse:4.2665\n",
            "[4]\tvalidation-rmse:4.17552\n",
            "[5]\tvalidation-rmse:4.25218\n",
            "[6]\tvalidation-rmse:4.28054\n",
            "[7]\tvalidation-rmse:4.21686\n",
            "[8]\tvalidation-rmse:4.20669\n",
            "[9]\tvalidation-rmse:4.22084\n"
          ],
          "name": "stdout"
        },
        {
          "output_type": "stream",
          "text": [
            "[I 2020-07-08 14:08:18,674] Finished trial#800 with value: 3.3120997691808687 with parameters: {'combos': 1, 'ada_Scaler': 'log', 'ada_ne': 198, 'ada_lr': 0.6961965891172593, 'et_Scaler': 'stand', 'et_max_depth': 11, 'et_ne': 640, 'xgb_Scaler': 'log', 'booster': 'gbtree', 'lambda': 0.009561587261944584, 'alpha': 0.0031969858531935885, 'max_depth': 3, 'eta': 0.5101479026202119, 'gamma': 2.557627534280182e-08, 'grow_policy': 'depthwise'}. Best is trial#563 with value: 3.1249267571970165.\n"
          ],
          "name": "stderr"
        },
        {
          "output_type": "stream",
          "text": [
            "[0]\tvalidation-rmse:20.131\n",
            "[1]\tvalidation-rmse:16.8086\n",
            "[2]\tvalidation-rmse:14.1357\n",
            "[3]\tvalidation-rmse:11.918\n",
            "[4]\tvalidation-rmse:10.103\n",
            "[5]\tvalidation-rmse:8.64775\n",
            "[6]\tvalidation-rmse:7.40886\n",
            "[7]\tvalidation-rmse:6.47629\n",
            "[8]\tvalidation-rmse:5.76661\n",
            "[9]\tvalidation-rmse:5.20021\n"
          ],
          "name": "stdout"
        },
        {
          "output_type": "stream",
          "text": [
            "[I 2020-07-08 14:08:20,204] Finished trial#801 with value: 3.7571676082712546 with parameters: {'combos': 1, 'ada_Scaler': 'log', 'ada_ne': 227, 'ada_lr': 0.523324734066143, 'et_Scaler': 'minmax', 'et_max_depth': 10, 'et_ne': 624, 'xgb_Scaler': 'log', 'booster': 'gbtree', 'lambda': 0.38744951656408316, 'alpha': 0.032385257284797804, 'max_depth': 3, 'eta': 0.17135467668346896, 'gamma': 4.4337918608067036e-08, 'grow_policy': 'depthwise'}. Best is trial#563 with value: 3.1249267571970165.\n"
          ],
          "name": "stderr"
        },
        {
          "output_type": "stream",
          "text": [
            "[0]\tvalidation-rmse:8.82239\n",
            "[1]\tvalidation-rmse:4.8526\n",
            "[2]\tvalidation-rmse:3.94725\n",
            "[3]\tvalidation-rmse:3.94813\n",
            "[4]\tvalidation-rmse:3.94909\n",
            "[5]\tvalidation-rmse:4.06467\n",
            "[6]\tvalidation-rmse:4.09567\n",
            "[7]\tvalidation-rmse:4.01424\n",
            "[8]\tvalidation-rmse:4.03604\n",
            "[9]\tvalidation-rmse:3.90212\n"
          ],
          "name": "stdout"
        },
        {
          "output_type": "stream",
          "text": [
            "[I 2020-07-08 14:08:21,235] Finished trial#802 with value: 4.021772897135127 with parameters: {'combos': 1, 'ada_Scaler': 'log', 'ada_ne': 1, 'ada_lr': 0.6427210992663511, 'et_Scaler': 'stand', 'et_max_depth': 9, 'et_ne': 584, 'xgb_Scaler': 'log', 'booster': 'gbtree', 'lambda': 0.12066845199802846, 'alpha': 0.013197363555126325, 'max_depth': 3, 'eta': 0.6813794006924434, 'gamma': 1.374938050808117e-08, 'grow_policy': 'depthwise'}. Best is trial#563 with value: 3.1249267571970165.\n"
          ],
          "name": "stderr"
        },
        {
          "output_type": "stream",
          "text": [
            "[0]\tvalidation-rmse:15.2725\n",
            "[1]\tvalidation-rmse:10.0208\n",
            "[2]\tvalidation-rmse:6.93282\n",
            "[3]\tvalidation-rmse:5.20231\n",
            "[4]\tvalidation-rmse:4.25732\n",
            "[5]\tvalidation-rmse:3.90132\n",
            "[6]\tvalidation-rmse:3.78748\n",
            "[7]\tvalidation-rmse:3.77482\n",
            "[8]\tvalidation-rmse:3.75889\n",
            "[9]\tvalidation-rmse:3.74259\n"
          ],
          "name": "stdout"
        },
        {
          "output_type": "stream",
          "text": [
            "[I 2020-07-08 14:08:22,561] Finished trial#803 with value: 3.3448191703147803 with parameters: {'combos': 1, 'ada_Scaler': 'log', 'ada_ne': 155, 'ada_lr': 0.5968144901916701, 'et_Scaler': 'stand', 'et_max_depth': 8, 'et_ne': 652, 'xgb_Scaler': 'log', 'booster': 'gbtree', 'lambda': 0.0349036440896836, 'alpha': 0.0082904438364201, 'max_depth': 3, 'eta': 0.37529655534254025, 'gamma': 7.090360169043956e-08, 'grow_policy': 'depthwise'}. Best is trial#563 with value: 3.1249267571970165.\n"
          ],
          "name": "stderr"
        },
        {
          "output_type": "stream",
          "text": [
            "[0]\tvalidation-rmse:18.3382\n",
            "[1]\tvalidation-rmse:14.1607\n",
            "[2]\tvalidation-rmse:11.034\n",
            "[3]\tvalidation-rmse:8.67602\n",
            "[4]\tvalidation-rmse:6.97615\n",
            "[5]\tvalidation-rmse:5.79683\n",
            "[6]\tvalidation-rmse:4.94464\n",
            "[7]\tvalidation-rmse:4.43307\n",
            "[8]\tvalidation-rmse:4.14213\n",
            "[9]\tvalidation-rmse:3.92408\n"
          ],
          "name": "stdout"
        },
        {
          "output_type": "stream",
          "text": [
            "[I 2020-07-08 14:08:24,056] Finished trial#804 with value: 3.3863366961705204 with parameters: {'combos': 1, 'ada_Scaler': 'log', 'ada_ne': 168, 'ada_lr': 0.1958205393099675, 'et_Scaler': 'stand', 'et_max_depth': 9, 'et_ne': 691, 'xgb_Scaler': 'log', 'booster': 'gbtree', 'lambda': 0.0577344351699305, 'alpha': 0.02333274213954492, 'max_depth': 3, 'eta': 0.24093358467649678, 'gamma': 2.9913753986115595e-08, 'grow_policy': 'depthwise'}. Best is trial#563 with value: 3.1249267571970165.\n"
          ],
          "name": "stderr"
        },
        {
          "output_type": "stream",
          "text": [
            "[0]\tvalidation-rmse:6.17443\n",
            "[1]\tvalidation-rmse:5.23248\n",
            "[2]\tvalidation-rmse:5.15518\n",
            "[3]\tvalidation-rmse:5.34321\n",
            "[4]\tvalidation-rmse:5.44464\n",
            "[5]\tvalidation-rmse:5.40116\n",
            "[6]\tvalidation-rmse:5.28921\n",
            "[7]\tvalidation-rmse:5.2897\n",
            "[8]\tvalidation-rmse:5.24325\n",
            "[9]\tvalidation-rmse:5.24362\n"
          ],
          "name": "stdout"
        },
        {
          "output_type": "stream",
          "text": [
            "[I 2020-07-08 14:08:25,424] Finished trial#805 with value: 3.4463260513773943 with parameters: {'combos': 1, 'ada_Scaler': 'log', 'ada_ne': 141, 'ada_lr': 0.571566292477632, 'et_Scaler': 'stand', 'et_max_depth': 10, 'et_ne': 607, 'xgb_Scaler': 'log', 'booster': 'gbtree', 'lambda': 0.023221213144516795, 'alpha': 0.006349256011370008, 'max_depth': 3, 'eta': 0.9783652046150937, 'gamma': 1.8405264421213995e-07, 'grow_policy': 'depthwise'}. Best is trial#563 with value: 3.1249267571970165.\n"
          ],
          "name": "stderr"
        },
        {
          "output_type": "stream",
          "text": [
            "[0]\tvalidation-rmse:12.4691\n",
            "[1]\tvalidation-rmse:7.03791\n",
            "[2]\tvalidation-rmse:4.97343\n",
            "[3]\tvalidation-rmse:4.23608\n",
            "[4]\tvalidation-rmse:4.08947\n",
            "[5]\tvalidation-rmse:4.17389\n",
            "[6]\tvalidation-rmse:4.24095\n",
            "[7]\tvalidation-rmse:4.25226\n",
            "[8]\tvalidation-rmse:4.12161\n",
            "[9]\tvalidation-rmse:4.08412\n"
          ],
          "name": "stdout"
        },
        {
          "output_type": "stream",
          "text": [
            "[I 2020-07-08 14:08:26,918] Finished trial#806 with value: 3.3302861559072547 with parameters: {'combos': 1, 'ada_Scaler': 'log', 'ada_ne': 115, 'ada_lr': 0.05908723466081696, 'et_Scaler': 'stand', 'et_max_depth': 12, 'et_ne': 629, 'xgb_Scaler': 'log', 'booster': 'gbtree', 'lambda': 0.015490512455012066, 'alpha': 0.017135602872959656, 'max_depth': 3, 'eta': 0.5025667882678088, 'gamma': 2.0152511943204964e-08, 'grow_policy': 'depthwise'}. Best is trial#563 with value: 3.1249267571970165.\n"
          ],
          "name": "stderr"
        },
        {
          "output_type": "stream",
          "text": [
            "[0]\tvalidation-rmse:7.82113\n",
            "[1]\tvalidation-rmse:4.99762\n",
            "[2]\tvalidation-rmse:4.96217\n",
            "[3]\tvalidation-rmse:4.83387\n",
            "[4]\tvalidation-rmse:4.76537\n",
            "[5]\tvalidation-rmse:4.73766\n",
            "[6]\tvalidation-rmse:4.71903\n",
            "[7]\tvalidation-rmse:4.70181\n",
            "[8]\tvalidation-rmse:4.76363\n",
            "[9]\tvalidation-rmse:4.81236\n"
          ],
          "name": "stdout"
        },
        {
          "output_type": "stream",
          "text": [
            "[I 2020-07-08 14:08:28,491] Finished trial#807 with value: 3.4354341379699638 with parameters: {'combos': 1, 'ada_Scaler': 'log', 'ada_ne': 251, 'ada_lr': 0.5381289987328097, 'et_Scaler': 'stand', 'et_max_depth': 9, 'et_ne': 665, 'xgb_Scaler': 'log', 'booster': 'gbtree', 'lambda': 0.09190151208479114, 'alpha': 0.9515430555151407, 'max_depth': 3, 'eta': 0.7365160385195663, 'gamma': 9.935177100350321e-08, 'grow_policy': 'depthwise'}. Best is trial#563 with value: 3.1249267571970165.\n"
          ],
          "name": "stderr"
        },
        {
          "output_type": "stream",
          "text": [
            "[0]\tvalidation-rmse:16.0469\n",
            "[1]\tvalidation-rmse:10.8036\n",
            "[2]\tvalidation-rmse:7.60246\n",
            "[3]\tvalidation-rmse:5.62491\n",
            "[4]\tvalidation-rmse:4.49501\n",
            "[5]\tvalidation-rmse:3.92415\n",
            "[6]\tvalidation-rmse:3.61853\n",
            "[7]\tvalidation-rmse:3.50662\n",
            "[8]\tvalidation-rmse:3.41662\n",
            "[9]\tvalidation-rmse:3.42798\n"
          ],
          "name": "stdout"
        },
        {
          "output_type": "stream",
          "text": [
            "[I 2020-07-08 14:08:29,946] Finished trial#808 with value: 3.2396384581208366 with parameters: {'combos': 1, 'ada_Scaler': 'log', 'ada_ne': 182, 'ada_lr': 0.6782657474866087, 'et_Scaler': 'stand', 'et_max_depth': 11, 'et_ne': 578, 'xgb_Scaler': 'log', 'booster': 'gbtree', 'lambda': 0.178030048768654, 'alpha': 0.011100619691077514, 'max_depth': 3, 'eta': 0.3498927279908619, 'gamma': 5.708775144443835e-08, 'grow_policy': 'depthwise'}. Best is trial#563 with value: 3.1249267571970165.\n"
          ],
          "name": "stderr"
        },
        {
          "output_type": "stream",
          "text": [
            "[0]\tvalidation-rmse:5.95419\n",
            "[1]\tvalidation-rmse:5.39453\n",
            "[2]\tvalidation-rmse:5.0022\n",
            "[3]\tvalidation-rmse:4.78291\n",
            "[4]\tvalidation-rmse:4.73462\n",
            "[5]\tvalidation-rmse:4.54439\n",
            "[6]\tvalidation-rmse:4.58268\n",
            "[7]\tvalidation-rmse:4.67928\n",
            "[8]\tvalidation-rmse:4.7687\n",
            "[9]\tvalidation-rmse:4.81245\n"
          ],
          "name": "stdout"
        },
        {
          "output_type": "stream",
          "text": [
            "[I 2020-07-08 14:08:31,427] Finished trial#809 with value: 3.3993683487585695 with parameters: {'combos': 1, 'ada_Scaler': 'log', 'ada_ne': 210, 'ada_lr': 0.7590434195881457, 'et_Scaler': 'stand', 'et_max_depth': 10, 'et_ne': 604, 'xgb_Scaler': 'log', 'booster': 'gbtree', 'lambda': 0.04888873249673593, 'alpha': 0.004069485644854551, 'max_depth': 2, 'eta': 0.9713997828955626, 'gamma': 4.010798156516587e-08, 'grow_policy': 'depthwise'}. Best is trial#563 with value: 3.1249267571970165.\n",
            "[I 2020-07-08 14:08:32,640] Setting status of trial#810 as TrialState.PRUNED. Trial was pruned at iteration 11.\n"
          ],
          "name": "stderr"
        },
        {
          "output_type": "stream",
          "text": [
            "[0]\tvalidation-rmse:11.2117\n",
            "[1]\tvalidation-rmse:6.09791\n",
            "[2]\tvalidation-rmse:4.13162\n",
            "[3]\tvalidation-rmse:3.86369\n",
            "[4]\tvalidation-rmse:3.93344\n",
            "[5]\tvalidation-rmse:4.04012\n",
            "[6]\tvalidation-rmse:4.05375\n",
            "[7]\tvalidation-rmse:4.33442\n",
            "[8]\tvalidation-rmse:4.35812\n",
            "[9]\tvalidation-rmse:4.34789\n"
          ],
          "name": "stdout"
        },
        {
          "output_type": "stream",
          "text": [
            "[I 2020-07-08 14:08:34,125] Finished trial#811 with value: 3.3143072890136263 with parameters: {'combos': 1, 'ada_Scaler': 'log', 'ada_ne': 100, 'ada_lr': 0.6035006212039752, 'et_Scaler': 'stand', 'et_max_depth': 14, 'et_ne': 562, 'xgb_Scaler': 'log', 'booster': 'gbtree', 'lambda': 0.03310852595365651, 'alpha': 0.002587852359870411, 'max_depth': 3, 'eta': 0.5628058671416162, 'gamma': 1.4828757517732368e-07, 'grow_policy': 'depthwise'}. Best is trial#563 with value: 3.1249267571970165.\n"
          ],
          "name": "stderr"
        },
        {
          "output_type": "stream",
          "text": [
            "[0]\tvalidation-rmse:14.3729\n",
            "[1]\tvalidation-rmse:8.90884\n",
            "[2]\tvalidation-rmse:5.93808\n",
            "[3]\tvalidation-rmse:4.55721\n",
            "[4]\tvalidation-rmse:3.98793\n",
            "[5]\tvalidation-rmse:3.84518\n",
            "[6]\tvalidation-rmse:3.81688\n",
            "[7]\tvalidation-rmse:3.73895\n",
            "[8]\tvalidation-rmse:3.68483\n",
            "[9]\tvalidation-rmse:3.72384\n"
          ],
          "name": "stdout"
        },
        {
          "output_type": "stream",
          "text": [
            "[I 2020-07-08 14:08:35,567] Finished trial#812 with value: 3.3488561240908115 with parameters: {'combos': 1, 'ada_Scaler': 'log', 'ada_ne': 171, 'ada_lr': 0.5575224085537739, 'et_Scaler': 'stand', 'et_max_depth': 10, 'et_ne': 614, 'xgb_Scaler': 'log', 'booster': 'gbtree', 'lambda': 0.07628999024234533, 'alpha': 4.623675773689283e-06, 'max_depth': 4, 'eta': 0.4081667683737238, 'gamma': 2.718242164311972e-07, 'grow_policy': 'depthwise'}. Best is trial#563 with value: 3.1249267571970165.\n"
          ],
          "name": "stderr"
        },
        {
          "output_type": "stream",
          "text": [
            "[0]\tvalidation-rmse:21.4829\n",
            "[1]\tvalidation-rmse:19.2722\n",
            "[2]\tvalidation-rmse:17.3196\n",
            "[3]\tvalidation-rmse:15.5416\n",
            "[4]\tvalidation-rmse:14.001\n",
            "[5]\tvalidation-rmse:12.6088\n",
            "[6]\tvalidation-rmse:11.3666\n",
            "[7]\tvalidation-rmse:10.2633\n",
            "[8]\tvalidation-rmse:9.306\n",
            "[9]\tvalidation-rmse:8.46693\n"
          ],
          "name": "stdout"
        },
        {
          "output_type": "stream",
          "text": [
            "[I 2020-07-08 14:08:36,809] Finished trial#813 with value: 4.050908990849485 with parameters: {'combos': 1, 'ada_Scaler': 'log', 'ada_ne': 194, 'ada_lr': 0.7079649071123157, 'et_Scaler': 'stand', 'et_max_depth': 8, 'et_ne': 537, 'xgb_Scaler': 'log', 'booster': 'gbtree', 'lambda': 0.1041241710661562, 'alpha': 0.008962706499049164, 'max_depth': 3, 'eta': 0.106441341286422, 'gamma': 2.2082273475024454e-08, 'grow_policy': 'lossguide'}. Best is trial#563 with value: 3.1249267571970165.\n"
          ],
          "name": "stderr"
        },
        {
          "output_type": "stream",
          "text": [
            "[0]\tvalidation-rmse:8.14844\n",
            "[1]\tvalidation-rmse:4.53876\n",
            "[2]\tvalidation-rmse:3.91216\n",
            "[3]\tvalidation-rmse:3.90279\n",
            "[4]\tvalidation-rmse:3.96333\n",
            "[5]\tvalidation-rmse:3.92502\n",
            "[6]\tvalidation-rmse:3.87985\n",
            "[7]\tvalidation-rmse:3.88439\n",
            "[8]\tvalidation-rmse:3.94296\n",
            "[9]\tvalidation-rmse:3.92618\n"
          ],
          "name": "stdout"
        },
        {
          "output_type": "stream",
          "text": [
            "[I 2020-07-08 14:08:37,673] Finished trial#814 with value: 3.772435578072406 with parameters: {'combos': 3, 'ada_Scaler': 'log', 'ada_ne': 124, 'ada_lr': 0.6395007689070342, 'rf_Scaler': 'minmax', 'rf_max_depth': 1, 'rf_ne': 303, 'xgb_Scaler': 'log', 'booster': 'gbtree', 'lambda': 0.050312033174174854, 'alpha': 0.005735083877416719, 'max_depth': 3, 'eta': 0.7111019715400806, 'gamma': 1.0394850499369798e-08, 'grow_policy': 'depthwise'}. Best is trial#563 with value: 3.1249267571970165.\n"
          ],
          "name": "stderr"
        },
        {
          "output_type": "stream",
          "text": [
            "[0]\tvalidation-rmse:17.3738\n",
            "[1]\tvalidation-rmse:12.7721\n",
            "[2]\tvalidation-rmse:9.78136\n",
            "[3]\tvalidation-rmse:7.63976\n",
            "[4]\tvalidation-rmse:6.23792\n",
            "[5]\tvalidation-rmse:5.1381\n",
            "[6]\tvalidation-rmse:4.38614\n",
            "[7]\tvalidation-rmse:4.17913\n",
            "[8]\tvalidation-rmse:4.08756\n",
            "[9]\tvalidation-rmse:3.94078\n"
          ],
          "name": "stdout"
        },
        {
          "output_type": "stream",
          "text": [
            "[I 2020-07-08 14:08:39,090] Finished trial#815 with value: 3.346878554299417 with parameters: {'combos': 1, 'ada_Scaler': 'log', 'ada_ne': 155, 'ada_lr': 0.4980341460282904, 'et_Scaler': 'stand', 'et_max_depth': 9, 'et_ne': 653, 'xgb_Scaler': 'log', 'booster': 'gbtree', 'lambda': 0.025646450441487056, 'alpha': 0.015784413390037336, 'max_depth': 2, 'eta': 0.29737101822292844, 'gamma': 3.2367917413860866e-08, 'grow_policy': 'depthwise'}. Best is trial#563 with value: 3.1249267571970165.\n"
          ],
          "name": "stderr"
        },
        {
          "output_type": "stream",
          "text": [
            "[0]\tvalidation-rmse:23.9806\n",
            "[1]\tvalidation-rmse:23.9804\n",
            "[2]\tvalidation-rmse:23.9803\n",
            "[3]\tvalidation-rmse:23.9801\n",
            "[4]\tvalidation-rmse:23.98\n",
            "[5]\tvalidation-rmse:23.9798\n",
            "[6]\tvalidation-rmse:23.9797\n",
            "[7]\tvalidation-rmse:23.9795\n",
            "[8]\tvalidation-rmse:23.9794\n",
            "[9]\tvalidation-rmse:23.9792\n"
          ],
          "name": "stdout"
        },
        {
          "output_type": "stream",
          "text": [
            "[I 2020-07-08 14:08:40,593] Finished trial#816 with value: 8.322438725367657 with parameters: {'combos': 1, 'ada_Scaler': 'log', 'ada_ne': 223, 'ada_lr': 0.5896960393586377, 'et_Scaler': 'stand', 'et_max_depth': 10, 'et_ne': 595, 'xgb_Scaler': 'log', 'booster': 'gbtree', 'lambda': 0.1523900546428196, 'alpha': 0.026470344901624657, 'max_depth': 3, 'eta': 6.366533436765331e-06, 'gamma': 9.263520094538693e-08, 'grow_policy': 'depthwise'}. Best is trial#563 with value: 3.1249267571970165.\n"
          ],
          "name": "stderr"
        },
        {
          "output_type": "stream",
          "text": [
            "[0]\tvalidation-rmse:6.29148\n",
            "[1]\tvalidation-rmse:5.32936\n",
            "[2]\tvalidation-rmse:5.26505\n",
            "[3]\tvalidation-rmse:5.26374\n",
            "[4]\tvalidation-rmse:5.29326\n",
            "[5]\tvalidation-rmse:5.0969\n",
            "[6]\tvalidation-rmse:5.26814\n",
            "[7]\tvalidation-rmse:5.16837\n",
            "[8]\tvalidation-rmse:5.0377\n",
            "[9]\tvalidation-rmse:5.12434\n"
          ],
          "name": "stdout"
        },
        {
          "output_type": "stream",
          "text": [
            "[I 2020-07-08 14:08:42,191] Finished trial#817 with value: 3.4197415402982734 with parameters: {'combos': 1, 'ada_Scaler': 'log', 'ada_ne': 178, 'ada_lr': 0.6602125836540195, 'et_Scaler': 'stand', 'et_max_depth': 11, 'et_ne': 675, 'xgb_Scaler': 'log', 'booster': 'gbtree', 'lambda': 0.013472709188509652, 'alpha': 0.00012372760874736997, 'max_depth': 3, 'eta': 0.9975725414828547, 'gamma': 5.30906909598528e-08, 'grow_policy': 'depthwise'}. Best is trial#563 with value: 3.1249267571970165.\n"
          ],
          "name": "stderr"
        },
        {
          "output_type": "stream",
          "text": [
            "[0]\tvalidation-rmse:11.6674\n",
            "[1]\tvalidation-rmse:6.26266\n",
            "[2]\tvalidation-rmse:4.20419\n",
            "[3]\tvalidation-rmse:3.64473\n",
            "[4]\tvalidation-rmse:3.58305\n",
            "[5]\tvalidation-rmse:3.71332\n",
            "[6]\tvalidation-rmse:3.69687\n",
            "[7]\tvalidation-rmse:3.79195\n",
            "[8]\tvalidation-rmse:3.81844\n",
            "[9]\tvalidation-rmse:3.82568\n"
          ],
          "name": "stdout"
        },
        {
          "output_type": "stream",
          "text": [
            "[I 2020-07-08 14:08:43,406] Finished trial#818 with value: 3.2664918709750292 with parameters: {'combos': 1, 'ada_Scaler': 'log', 'ada_ne': 140, 'ada_lr': 0.5458260212201634, 'et_Scaler': 'stand', 'et_max_depth': 7, 'et_ne': 623, 'xgb_Scaler': 'log', 'booster': 'gbtree', 'lambda': 0.06724475807521683, 'alpha': 0.01192713117403069, 'max_depth': 3, 'eta': 0.5372408654292988, 'gamma': 1.6538661928046055e-08, 'grow_policy': 'depthwise'}. Best is trial#563 with value: 3.1249267571970165.\n",
            "[I 2020-07-08 14:08:44,692] Setting status of trial#819 as TrialState.PRUNED. Trial was pruned at iteration 11.\n"
          ],
          "name": "stderr"
        },
        {
          "output_type": "stream",
          "text": [
            "[0]\tvalidation-rmse:23.9807\n",
            "[1]\tvalidation-rmse:23.9807\n",
            "[2]\tvalidation-rmse:23.9807\n",
            "[3]\tvalidation-rmse:23.9807\n",
            "[4]\tvalidation-rmse:23.9807\n",
            "[5]\tvalidation-rmse:23.9807\n",
            "[6]\tvalidation-rmse:23.9807\n",
            "[7]\tvalidation-rmse:23.9807\n",
            "[8]\tvalidation-rmse:23.9807\n",
            "[9]\tvalidation-rmse:23.9807\n"
          ],
          "name": "stdout"
        },
        {
          "output_type": "stream",
          "text": [
            "[I 2020-07-08 14:08:45,958] Finished trial#820 with value: 8.624733050347958 with parameters: {'combos': 1, 'ada_Scaler': 'minmax', 'ada_ne': 85, 'ada_lr': 0.7678244250102464, 'et_Scaler': 'stand', 'et_max_depth': 8, 'et_ne': 593, 'xgb_Scaler': 'log', 'booster': 'gbtree', 'lambda': 0.03817539183425414, 'alpha': 0.007151461388682502, 'max_depth': 3, 'eta': 5.1680766998289106e-08, 'gamma': 2.630892062164974e-08, 'grow_policy': 'depthwise'}. Best is trial#563 with value: 3.1249267571970165.\n"
          ],
          "name": "stderr"
        },
        {
          "output_type": "stream",
          "text": [
            "[0]\tvalidation-rmse:19.4113\n",
            "[1]\tvalidation-rmse:15.7386\n",
            "[2]\tvalidation-rmse:12.8588\n",
            "[3]\tvalidation-rmse:10.5538\n",
            "[4]\tvalidation-rmse:8.76996\n",
            "[5]\tvalidation-rmse:7.34413\n",
            "[6]\tvalidation-rmse:6.24781\n",
            "[7]\tvalidation-rmse:5.43293\n",
            "[8]\tvalidation-rmse:4.82162\n",
            "[9]\tvalidation-rmse:4.40385\n"
          ],
          "name": "stdout"
        },
        {
          "output_type": "stream",
          "text": [
            "[I 2020-07-08 14:08:47,333] Finished trial#821 with value: 3.3895385814423475 with parameters: {'combos': 1, 'ada_Scaler': 'log', 'ada_ne': 164, 'ada_lr': 0.44139373922535924, 'et_Scaler': 'stand', 'et_max_depth': 10, 'et_ne': 574, 'xgb_Scaler': 'log', 'booster': 'gbtree', 'lambda': 0.022582064825610742, 'alpha': 0.020996960711673188, 'max_depth': 3, 'eta': 0.19439244958386365, 'gamma': 6.729005601034667e-08, 'grow_policy': 'depthwise'}. Best is trial#563 with value: 3.1249267571970165.\n"
          ],
          "name": "stderr"
        },
        {
          "output_type": "stream",
          "text": [
            "[0]\tvalidation-rmse:5.43117\n",
            "[1]\tvalidation-rmse:5.09494\n",
            "[2]\tvalidation-rmse:5.04975\n",
            "[3]\tvalidation-rmse:5.50225\n",
            "[4]\tvalidation-rmse:5.34369\n",
            "[5]\tvalidation-rmse:5.36213\n",
            "[6]\tvalidation-rmse:5.33657\n",
            "[7]\tvalidation-rmse:5.32923\n",
            "[8]\tvalidation-rmse:5.50321\n",
            "[9]\tvalidation-rmse:5.62432\n"
          ],
          "name": "stdout"
        },
        {
          "output_type": "stream",
          "text": [
            "[I 2020-07-08 14:08:48,513] Finished trial#822 with value: 3.653357150224657 with parameters: {'combos': 1, 'ada_Scaler': 'log', 'ada_ne': 63, 'ada_lr': 0.6877939039086908, 'et_Scaler': 'stand', 'et_max_depth': 9, 'et_ne': 615, 'xgb_Scaler': 'log', 'booster': 'gbtree', 'lambda': 0.12742320928356482, 'alpha': 0.003822730820786812, 'max_depth': 3, 'eta': 0.9801582986363819, 'gamma': 4.050677143038245e-08, 'grow_policy': 'depthwise'}. Best is trial#563 with value: 3.1249267571970165.\n"
          ],
          "name": "stderr"
        },
        {
          "output_type": "stream",
          "text": [
            "[0]\tvalidation-rmse:14.5262\n",
            "[1]\tvalidation-rmse:8.95977\n",
            "[2]\tvalidation-rmse:6.1129\n",
            "[3]\tvalidation-rmse:4.8014\n",
            "[4]\tvalidation-rmse:4.42717\n",
            "[5]\tvalidation-rmse:4.20229\n",
            "[6]\tvalidation-rmse:4.05585\n",
            "[7]\tvalidation-rmse:4.06427\n",
            "[8]\tvalidation-rmse:4.13756\n",
            "[9]\tvalidation-rmse:4.1426\n"
          ],
          "name": "stdout"
        },
        {
          "output_type": "stream",
          "text": [
            "[I 2020-07-08 14:08:49,900] Finished trial#823 with value: 3.473072619249157 with parameters: {'combos': 1, 'ada_Scaler': 'log', 'ada_ne': 128, 'ada_lr': 0.580504078351938, 'et_Scaler': 'stand', 'et_max_depth': 10, 'et_ne': 631, 'xgb_Scaler': 'log', 'booster': 'gbtree', 'lambda': 0.21892295583383198, 'alpha': 2.2324295080279122e-05, 'max_depth': 4, 'eta': 0.41417465907944623, 'gamma': 1.15018364376001e-07, 'grow_policy': 'depthwise'}. Best is trial#563 with value: 3.1249267571970165.\n"
          ],
          "name": "stderr"
        },
        {
          "output_type": "stream",
          "text": [
            "[0]\tvalidation-rmse:8.83314\n",
            "[1]\tvalidation-rmse:7.76832\n",
            "[2]\tvalidation-rmse:7.27575\n",
            "[3]\tvalidation-rmse:6.98967\n",
            "[4]\tvalidation-rmse:6.80415\n",
            "[5]\tvalidation-rmse:6.67274\n",
            "[6]\tvalidation-rmse:6.57465\n",
            "[7]\tvalidation-rmse:6.4993\n",
            "[8]\tvalidation-rmse:6.42625\n",
            "[9]\tvalidation-rmse:6.37925\n"
          ],
          "name": "stdout"
        },
        {
          "output_type": "stream",
          "text": [
            "[I 2020-07-08 14:08:51,135] Finished trial#824 with value: 3.7164798705574733 with parameters: {'combos': 1, 'ada_Scaler': 'log', 'ada_ne': 105, 'ada_lr': 0.5196853073117813, 'et_Scaler': 'stand', 'et_max_depth': 8, 'et_ne': 657, 'xgb_Scaler': 'minmax', 'booster': 'gblinear', 'lambda': 0.059102112216948464, 'alpha': 0.03798383038114226}. Best is trial#563 with value: 3.1249267571970165.\n"
          ],
          "name": "stderr"
        },
        {
          "output_type": "stream",
          "text": [
            "[0]\tvalidation-rmse:6.20771\n",
            "[1]\tvalidation-rmse:5.25814\n",
            "[2]\tvalidation-rmse:5.193\n",
            "[3]\tvalidation-rmse:5.19277\n",
            "[4]\tvalidation-rmse:5.22148\n",
            "[5]\tvalidation-rmse:5.2204\n",
            "[6]\tvalidation-rmse:5.20909\n",
            "[7]\tvalidation-rmse:5.18792\n",
            "[8]\tvalidation-rmse:5.18014\n",
            "[9]\tvalidation-rmse:5.17573\n"
          ],
          "name": "stdout"
        },
        {
          "output_type": "stream",
          "text": [
            "[I 2020-07-08 14:08:52,760] Finished trial#825 with value: 3.501288595881772 with parameters: {'combos': 1, 'ada_Scaler': 'log', 'ada_ne': 188, 'ada_lr': 0.6517010702335874, 'et_Scaler': 'stand', 'et_max_depth': 15, 'et_ne': 603, 'xgb_Scaler': 'log', 'booster': 'gbtree', 'lambda': 0.03580089670335248, 'alpha': 0.010945764212949413, 'max_depth': 3, 'eta': 0.9982583638407854, 'gamma': 1.3380060893669775e-08, 'grow_policy': 'depthwise'}. Best is trial#563 with value: 3.1249267571970165.\n"
          ],
          "name": "stderr"
        },
        {
          "output_type": "stream",
          "text": [
            "[0]\tvalidation-rmse:9.30113\n",
            "[1]\tvalidation-rmse:5.3281\n",
            "[2]\tvalidation-rmse:4.19112\n",
            "[3]\tvalidation-rmse:4.05057\n",
            "[4]\tvalidation-rmse:4.09247\n",
            "[5]\tvalidation-rmse:4.17245\n",
            "[6]\tvalidation-rmse:4.20331\n",
            "[7]\tvalidation-rmse:4.20473\n",
            "[8]\tvalidation-rmse:4.23079\n",
            "[9]\tvalidation-rmse:4.2344\n"
          ],
          "name": "stdout"
        },
        {
          "output_type": "stream",
          "text": [
            "[I 2020-07-08 14:08:54,361] Finished trial#826 with value: 3.2033888490985283 with parameters: {'combos': 1, 'ada_Scaler': 'log', 'ada_ne': 155, 'ada_lr': 0.7094211912569072, 'et_Scaler': 'stand', 'et_max_depth': 11, 'et_ne': 696, 'xgb_Scaler': 'log', 'booster': 'gbtree', 'lambda': 0.01760634903559845, 'alpha': 0.005637350304829373, 'max_depth': 3, 'eta': 0.6602131589996343, 'gamma': 3.5840557757583057e-06, 'grow_policy': 'depthwise'}. Best is trial#563 with value: 3.1249267571970165.\n"
          ],
          "name": "stderr"
        },
        {
          "output_type": "stream",
          "text": [
            "[0]\tvalidation-rmse:17.575\n",
            "[1]\tvalidation-rmse:13.0424\n",
            "[2]\tvalidation-rmse:9.82512\n",
            "[3]\tvalidation-rmse:7.71637\n",
            "[4]\tvalidation-rmse:6.22329\n",
            "[5]\tvalidation-rmse:5.29361\n",
            "[6]\tvalidation-rmse:4.64724\n",
            "[7]\tvalidation-rmse:4.30455\n",
            "[8]\tvalidation-rmse:4.15336\n",
            "[9]\tvalidation-rmse:3.95989\n"
          ],
          "name": "stdout"
        },
        {
          "output_type": "stream",
          "text": [
            "[I 2020-07-08 14:08:55,872] Finished trial#827 with value: 3.4122150953959185 with parameters: {'combos': 1, 'ada_Scaler': 'log', 'ada_ne': 231, 'ada_lr': 0.6090983597864894, 'et_Scaler': 'stand', 'et_max_depth': 9, 'et_ne': 636, 'xgb_Scaler': 'log', 'booster': 'gbtree', 'lambda': 0.11322155769894336, 'alpha': 0.01584569021404938, 'max_depth': 3, 'eta': 0.27576866574102177, 'gamma': 2.4280555955923166e-08, 'grow_policy': 'depthwise'}. Best is trial#563 with value: 3.1249267571970165.\n",
            "[I 2020-07-08 14:08:57,122] Setting status of trial#828 as TrialState.PRUNED. Trial was pruned at iteration 11.\n"
          ],
          "name": "stderr"
        },
        {
          "output_type": "stream",
          "text": [
            "[0]\tvalidation-rmse:13.5025\n",
            "[1]\tvalidation-rmse:8.16505\n",
            "[2]\tvalidation-rmse:5.59417\n",
            "[3]\tvalidation-rmse:4.37819\n",
            "[4]\tvalidation-rmse:4.00444\n",
            "[5]\tvalidation-rmse:3.92665\n",
            "[6]\tvalidation-rmse:3.8978\n",
            "[7]\tvalidation-rmse:3.88809\n",
            "[8]\tvalidation-rmse:4.1524\n",
            "[9]\tvalidation-rmse:4.15307\n"
          ],
          "name": "stdout"
        },
        {
          "output_type": "stream",
          "text": [
            "[I 2020-07-08 14:08:58,635] Finished trial#829 with value: 3.3691669885225273 with parameters: {'combos': 1, 'ada_Scaler': 'log', 'ada_ne': 137, 'ada_lr': 0.5728291965108596, 'et_Scaler': 'minmax', 'et_max_depth': 9, 'et_ne': 669, 'xgb_Scaler': 'stand', 'booster': 'dart', 'lambda': 0.00848930886116069, 'alpha': 0.008827530338684459, 'max_depth': 3, 'eta': 0.454769969148338, 'gamma': 4.7617974862567976e-08, 'grow_policy': 'depthwise', 'sample_type': 'uniform', 'normalize_type': 'forest', 'rate_drop': 3.502179050908161e-08, 'skip_drop': 0.007656001131951636}. Best is trial#563 with value: 3.1249267571970165.\n"
          ],
          "name": "stderr"
        },
        {
          "output_type": "stream",
          "text": [
            "[0]\tvalidation-rmse:7.83335\n",
            "[1]\tvalidation-rmse:4.51531\n",
            "[2]\tvalidation-rmse:4.36857\n",
            "[3]\tvalidation-rmse:4.49978\n",
            "[4]\tvalidation-rmse:4.59517\n",
            "[5]\tvalidation-rmse:4.64762\n",
            "[6]\tvalidation-rmse:4.66677\n",
            "[7]\tvalidation-rmse:4.67569\n",
            "[8]\tvalidation-rmse:4.69463\n",
            "[9]\tvalidation-rmse:4.67058\n"
          ],
          "name": "stdout"
        },
        {
          "output_type": "stream",
          "text": [
            "[I 2020-07-08 14:08:59,919] Finished trial#830 with value: 3.4019446865387324 with parameters: {'combos': 1, 'ada_Scaler': 'log', 'ada_ne': 171, 'ada_lr': 0.6700289132399513, 'et_Scaler': 'stand', 'et_max_depth': 8, 'et_ne': 587, 'xgb_Scaler': 'log', 'booster': 'gbtree', 'lambda': 0.07901718971010684, 'alpha': 0.01219679166744225, 'max_depth': 6, 'eta': 0.694582191129957, 'gamma': 2.1013713020623317e-07, 'grow_policy': 'lossguide'}. Best is trial#563 with value: 3.1249267571970165.\n"
          ],
          "name": "stderr"
        },
        {
          "output_type": "stream",
          "text": [
            "[0]\tvalidation-rmse:16.2781\n",
            "[1]\tvalidation-rmse:11.2744\n",
            "[2]\tvalidation-rmse:8.05965\n",
            "[3]\tvalidation-rmse:6.02694\n",
            "[4]\tvalidation-rmse:4.74937\n",
            "[5]\tvalidation-rmse:4.08661\n",
            "[6]\tvalidation-rmse:3.81438\n",
            "[7]\tvalidation-rmse:3.64978\n",
            "[8]\tvalidation-rmse:3.63903\n",
            "[9]\tvalidation-rmse:3.61746\n"
          ],
          "name": "stdout"
        },
        {
          "output_type": "stream",
          "text": [
            "[I 2020-07-08 14:09:01,248] Finished trial#831 with value: 3.2694754884697117 with parameters: {'combos': 1, 'ada_Scaler': 'log', 'ada_ne': 113, 'ada_lr': 0.6285489594629331, 'et_Scaler': 'stand', 'et_max_depth': 10, 'et_ne': 614, 'xgb_Scaler': 'log', 'booster': 'gbtree', 'lambda': 0.004778939649014801, 'alpha': 0.001627632905464034, 'max_depth': 3, 'eta': 0.33018858416485514, 'gamma': 7.631165936172986e-08, 'grow_policy': 'depthwise'}. Best is trial#563 with value: 3.1249267571970165.\n"
          ],
          "name": "stderr"
        },
        {
          "output_type": "stream",
          "text": [
            "[0]\tvalidation-rmse:12.7993\n",
            "[1]\tvalidation-rmse:7.22854\n",
            "[2]\tvalidation-rmse:4.96852\n",
            "[3]\tvalidation-rmse:4.07887\n",
            "[4]\tvalidation-rmse:3.81828\n",
            "[5]\tvalidation-rmse:3.85053\n",
            "[6]\tvalidation-rmse:3.8564\n",
            "[7]\tvalidation-rmse:3.96262\n",
            "[8]\tvalidation-rmse:3.97317\n",
            "[9]\tvalidation-rmse:3.9431\n"
          ],
          "name": "stdout"
        },
        {
          "output_type": "stream",
          "text": [
            "[I 2020-07-08 14:09:02,876] Finished trial#832 with value: 3.2420007203486287 with parameters: {'combos': 1, 'ada_Scaler': 'log', 'ada_ne': 186, 'ada_lr': 0.5571167368470782, 'et_Scaler': 'stand', 'et_max_depth': 12, 'et_ne': 646, 'xgb_Scaler': 'log', 'booster': 'gbtree', 'lambda': 0.046934982862251944, 'alpha': 0.0030994223205433385, 'max_depth': 3, 'eta': 0.48473342910942263, 'gamma': 1.774905828378714e-08, 'grow_policy': 'depthwise'}. Best is trial#563 with value: 3.1249267571970165.\n"
          ],
          "name": "stderr"
        },
        {
          "output_type": "stream",
          "text": [
            "[0]\tvalidation-rmse:8.13387\n",
            "[1]\tvalidation-rmse:5.13902\n",
            "[2]\tvalidation-rmse:4.37779\n",
            "[3]\tvalidation-rmse:4.2649\n",
            "[4]\tvalidation-rmse:4.31808\n",
            "[5]\tvalidation-rmse:4.53172\n",
            "[6]\tvalidation-rmse:4.43853\n",
            "[7]\tvalidation-rmse:4.38073\n",
            "[8]\tvalidation-rmse:4.35658\n",
            "[9]\tvalidation-rmse:4.35612\n"
          ],
          "name": "stdout"
        },
        {
          "output_type": "stream",
          "text": [
            "[I 2020-07-08 14:09:04,228] Finished trial#833 with value: 3.2369990205723544 with parameters: {'combos': 1, 'ada_Scaler': 'log', 'ada_ne': 156, 'ada_lr': 0.7302098108951565, 'et_Scaler': 'stand', 'et_max_depth': 9, 'et_ne': 626, 'xgb_Scaler': 'log', 'booster': 'gbtree', 'lambda': 0.026862192557577453, 'alpha': 0.005385397855378448, 'max_depth': 3, 'eta': 0.7272574231349946, 'gamma': 3.378481782042367e-08, 'grow_policy': 'depthwise'}. Best is trial#563 with value: 3.1249267571970165.\n"
          ],
          "name": "stderr"
        },
        {
          "output_type": "stream",
          "text": [
            "[0]\tvalidation-rmse:18.6152\n",
            "[1]\tvalidation-rmse:14.4935\n",
            "[2]\tvalidation-rmse:11.4066\n",
            "[3]\tvalidation-rmse:9.05287\n",
            "[4]\tvalidation-rmse:7.29013\n",
            "[5]\tvalidation-rmse:6.00255\n",
            "[6]\tvalidation-rmse:5.16934\n",
            "[7]\tvalidation-rmse:4.53847\n",
            "[8]\tvalidation-rmse:4.16937\n",
            "[9]\tvalidation-rmse:3.96383\n"
          ],
          "name": "stdout"
        },
        {
          "output_type": "stream",
          "text": [
            "[I 2020-07-08 14:09:05,740] Finished trial#834 with value: 3.281991689262724 with parameters: {'combos': 1, 'ada_Scaler': 'log', 'ada_ne': 206, 'ada_lr': 0.5291873412027166, 'et_Scaler': 'stand', 'et_max_depth': 11, 'et_ne': 596, 'xgb_Scaler': 'log', 'booster': 'gbtree', 'lambda': 0.06812894360764818, 'alpha': 0.02043565687099005, 'max_depth': 3, 'eta': 0.22914080357064626, 'gamma': 1.4222229736693119e-07, 'grow_policy': 'depthwise'}. Best is trial#563 with value: 3.1249267571970165.\n"
          ],
          "name": "stderr"
        },
        {
          "output_type": "stream",
          "text": [
            "[0]\tvalidation-rmse:20.5937\n",
            "[1]\tvalidation-rmse:17.7461\n",
            "[2]\tvalidation-rmse:15.3135\n",
            "[3]\tvalidation-rmse:13.3068\n",
            "[4]\tvalidation-rmse:11.5494\n",
            "[5]\tvalidation-rmse:10.2048\n",
            "[6]\tvalidation-rmse:8.99367\n",
            "[7]\tvalidation-rmse:7.91408\n",
            "[8]\tvalidation-rmse:7.07731\n",
            "[9]\tvalidation-rmse:6.37179\n"
          ],
          "name": "stdout"
        },
        {
          "output_type": "stream",
          "text": [
            "[I 2020-07-08 14:09:07,056] Finished trial#835 with value: 3.704768957904618 with parameters: {'combos': 1, 'ada_Scaler': 'log', 'ada_ne': 140, 'ada_lr': 0.5986121361460942, 'et_Scaler': 'stand', 'et_max_depth': 10, 'et_ne': 574, 'xgb_Scaler': 'log', 'booster': 'gbtree', 'lambda': 0.09882655073442928, 'alpha': 0.007769419276852859, 'max_depth': 2, 'eta': 0.15154093465656557, 'gamma': 1.0945816656565972e-08, 'grow_policy': 'depthwise'}. Best is trial#563 with value: 3.1249267571970165.\n"
          ],
          "name": "stderr"
        },
        {
          "output_type": "stream",
          "text": [
            "[0]\tvalidation-rmse:23.9433\n",
            "[1]\tvalidation-rmse:23.9061\n",
            "[2]\tvalidation-rmse:23.8688\n",
            "[3]\tvalidation-rmse:23.8317\n",
            "[4]\tvalidation-rmse:23.7946\n",
            "[5]\tvalidation-rmse:23.7575\n",
            "[6]\tvalidation-rmse:23.7205\n",
            "[7]\tvalidation-rmse:23.6836\n",
            "[8]\tvalidation-rmse:23.6468\n",
            "[9]\tvalidation-rmse:23.61\n"
          ],
          "name": "stdout"
        },
        {
          "output_type": "stream",
          "text": [
            "[I 2020-07-08 14:09:08,566] Finished trial#836 with value: 8.21728060567612 with parameters: {'combos': 1, 'ada_Scaler': 'log', 'ada_ne': 242, 'ada_lr': 0.6684860005059792, 'et_Scaler': 'stand', 'et_max_depth': 9, 'et_ne': 613, 'xgb_Scaler': 'log', 'booster': 'gbtree', 'lambda': 0.32525731026056026, 'alpha': 0.014919668911798438, 'max_depth': 3, 'eta': 0.0016530617314327982, 'gamma': 4.9320518912666996e-08, 'grow_policy': 'depthwise'}. Best is trial#563 with value: 3.1249267571970165.\n"
          ],
          "name": "stderr"
        },
        {
          "output_type": "stream",
          "text": [
            "[0]\tvalidation-rmse:6.09057\n",
            "[1]\tvalidation-rmse:6.28967\n",
            "[2]\tvalidation-rmse:6.25266\n",
            "[3]\tvalidation-rmse:6.23213\n",
            "[4]\tvalidation-rmse:6.23362\n",
            "[5]\tvalidation-rmse:6.23728\n",
            "[6]\tvalidation-rmse:6.24403\n",
            "[7]\tvalidation-rmse:6.24068\n",
            "[8]\tvalidation-rmse:6.23598\n",
            "[9]\tvalidation-rmse:6.2322\n"
          ],
          "name": "stdout"
        },
        {
          "output_type": "stream",
          "text": [
            "[I 2020-07-08 14:09:09,960] Finished trial#837 with value: 3.803673472684323 with parameters: {'combos': 1, 'ada_Scaler': 'log', 'ada_ne': 174, 'ada_lr': 0.6220712592509992, 'et_Scaler': 'stand', 'et_max_depth': 8, 'et_ne': 652, 'xgb_Scaler': 'log', 'booster': 'gbtree', 'lambda': 0.012960720709549326, 'alpha': 0.5937178295834621, 'max_depth': 9, 'eta': 0.985915506341575, 'gamma': 9.27975255640229e-08, 'grow_policy': 'depthwise'}. Best is trial#563 with value: 3.1249267571970165.\n"
          ],
          "name": "stderr"
        },
        {
          "output_type": "stream",
          "text": [
            "[0]\tvalidation-rmse:23.9711\n",
            "[1]\tvalidation-rmse:23.9614\n",
            "[2]\tvalidation-rmse:23.9518\n",
            "[3]\tvalidation-rmse:23.9422\n",
            "[4]\tvalidation-rmse:23.9326\n",
            "[5]\tvalidation-rmse:23.923\n",
            "[6]\tvalidation-rmse:23.9134\n",
            "[7]\tvalidation-rmse:23.9037\n",
            "[8]\tvalidation-rmse:23.8941\n",
            "[9]\tvalidation-rmse:23.8845\n"
          ],
          "name": "stdout"
        },
        {
          "output_type": "stream",
          "text": [
            "[I 2020-07-08 14:09:11,189] Finished trial#838 with value: 8.370865497927175 with parameters: {'combos': 1, 'ada_Scaler': 'log', 'ada_ne': 123, 'ada_lr': 0.7623075038286246, 'et_Scaler': 'stand', 'et_max_depth': 7, 'et_ne': 630, 'xgb_Scaler': 'log', 'booster': 'gbtree', 'lambda': 0.036496507289899345, 'alpha': 0.02838582382582017, 'max_depth': 3, 'eta': 0.0004073487300660024, 'gamma': 1.0111200847134783e-08, 'grow_policy': 'depthwise'}. Best is trial#563 with value: 3.1249267571970165.\n",
            "[I 2020-07-08 14:09:12,432] Setting status of trial#839 as TrialState.PRUNED. Trial was pruned at iteration 11.\n"
          ],
          "name": "stderr"
        },
        {
          "output_type": "stream",
          "text": [
            "[0]\tvalidation-rmse:11.8623\n",
            "[1]\tvalidation-rmse:6.33647\n",
            "[2]\tvalidation-rmse:4.34062\n",
            "[3]\tvalidation-rmse:3.87823\n",
            "[4]\tvalidation-rmse:3.69212\n",
            "[5]\tvalidation-rmse:3.70028\n",
            "[6]\tvalidation-rmse:3.7151\n",
            "[7]\tvalidation-rmse:3.74522\n",
            "[8]\tvalidation-rmse:3.72015\n",
            "[9]\tvalidation-rmse:3.66224\n"
          ],
          "name": "stdout"
        },
        {
          "output_type": "stream",
          "text": [
            "[I 2020-07-08 14:09:13,856] Finished trial#840 with value: 3.2908643767910295 with parameters: {'combos': 1, 'ada_Scaler': 'log', 'ada_ne': 152, 'ada_lr': 0.7079025413609781, 'et_Scaler': 'stand', 'et_max_depth': 9, 'et_ne': 596, 'xgb_Scaler': 'log', 'booster': 'gbtree', 'lambda': 0.15074282304082334, 'alpha': 0.009173623463771744, 'max_depth': 3, 'eta': 0.5409633889647621, 'gamma': 2.8894764584207242e-08, 'grow_policy': 'depthwise'}. Best is trial#563 with value: 3.1249267571970165.\n",
            "[I 2020-07-08 14:09:15,090] Finished trial#841 with value: 3.586745197793771 with parameters: {'combos': 4, 'ada_Scaler': 'log', 'ada_ne': 192, 'ada_lr': 0.6398977972979096, 'rf_Scaler': 'stand', 'rf_max_depth': 6, 'rf_ne': 236, 'gbm_Scaler': 'log', 'lambda_l1': 0.6958279566449067, 'lambda_l2': 0.00022830472148294693, 'num_leaves': 134, 'feature_fraction': 0.9394904309902777, 'bagging_fraction': 0.45376953426229033, 'bagging_freq': 1, 'min_child_samples': 5}. Best is trial#563 with value: 3.1249267571970165.\n"
          ],
          "name": "stderr"
        },
        {
          "output_type": "stream",
          "text": [
            "[0]\tvalidation-rmse:14.7697\n",
            "[1]\tvalidation-rmse:9.44188\n",
            "[2]\tvalidation-rmse:6.4762\n",
            "[3]\tvalidation-rmse:4.87427\n",
            "[4]\tvalidation-rmse:4.03118\n",
            "[5]\tvalidation-rmse:3.78322\n",
            "[6]\tvalidation-rmse:3.65667\n",
            "[7]\tvalidation-rmse:3.5987\n",
            "[8]\tvalidation-rmse:3.56714\n",
            "[9]\tvalidation-rmse:3.59441\n"
          ],
          "name": "stdout"
        },
        {
          "output_type": "stream",
          "text": [
            "[I 2020-07-08 14:09:15,739] Finished trial#842 with value: 3.275270146280772 with parameters: {'combos': 1, 'ada_Scaler': 'log', 'ada_ne': 210, 'ada_lr': 0.5482252894948884, 'et_Scaler': 'stand', 'et_max_depth': 11, 'et_ne': 9, 'xgb_Scaler': 'log', 'booster': 'gbtree', 'lambda': 0.05009824933982988, 'alpha': 0.08648886569168449, 'max_depth': 3, 'eta': 0.39658571313703433, 'gamma': 1.8196046054237297e-08, 'grow_policy': 'depthwise'}. Best is trial#563 with value: 3.1249267571970165.\n"
          ],
          "name": "stderr"
        },
        {
          "output_type": "stream",
          "text": [
            "[0]\tvalidation-rmse:8.84486\n",
            "[1]\tvalidation-rmse:5.19326\n",
            "[2]\tvalidation-rmse:4.58863\n",
            "[3]\tvalidation-rmse:4.48111\n",
            "[4]\tvalidation-rmse:4.51869\n",
            "[5]\tvalidation-rmse:4.50951\n",
            "[6]\tvalidation-rmse:4.54453\n",
            "[7]\tvalidation-rmse:4.51379\n",
            "[8]\tvalidation-rmse:4.51081\n",
            "[9]\tvalidation-rmse:4.48004\n"
          ],
          "name": "stdout"
        },
        {
          "output_type": "stream",
          "text": [
            "[I 2020-07-08 14:09:17,046] Finished trial#843 with value: 3.352777418361834 with parameters: {'combos': 1, 'ada_Scaler': 'log', 'ada_ne': 161, 'ada_lr': 0.5029334719841535, 'et_Scaler': 'stand', 'et_max_depth': 9, 'et_ne': 560, 'xgb_Scaler': 'log', 'booster': 'gbtree', 'lambda': 0.031061260859892456, 'alpha': 0.04780082104257901, 'max_depth': 3, 'eta': 0.6853239417193706, 'gamma': 6.916154619385262e-08, 'grow_policy': 'depthwise'}. Best is trial#563 with value: 3.1249267571970165.\n"
          ],
          "name": "stderr"
        },
        {
          "output_type": "stream",
          "text": [
            "[0]\tvalidation-rmse:16.5176\n",
            "[1]\tvalidation-rmse:11.4762\n",
            "[2]\tvalidation-rmse:8.23605\n",
            "[3]\tvalidation-rmse:6.35256\n",
            "[4]\tvalidation-rmse:5.13211\n",
            "[5]\tvalidation-rmse:4.48427\n",
            "[6]\tvalidation-rmse:4.21313\n",
            "[7]\tvalidation-rmse:4.07813\n",
            "[8]\tvalidation-rmse:3.9931\n",
            "[9]\tvalidation-rmse:3.97739\n"
          ],
          "name": "stdout"
        },
        {
          "output_type": "stream",
          "text": [
            "[I 2020-07-08 14:09:18,493] Finished trial#844 with value: 3.4225089818568204 with parameters: {'combos': 1, 'ada_Scaler': 'minmax', 'ada_ne': 134, 'ada_lr': 0.5965171838991681, 'et_Scaler': 'stand', 'et_max_depth': 10, 'et_ne': 649, 'xgb_Scaler': 'log', 'booster': 'gbtree', 'lambda': 0.019990908097174846, 'alpha': 0.004204130953937326, 'max_depth': 4, 'eta': 0.3134197663450829, 'gamma': 3.487059498770236e-08, 'grow_policy': 'depthwise'}. Best is trial#563 with value: 3.1249267571970165.\n"
          ],
          "name": "stderr"
        },
        {
          "output_type": "stream",
          "text": [
            "[0]\tvalidation-rmse:11.5192\n",
            "[1]\tvalidation-rmse:6.14993\n",
            "[2]\tvalidation-rmse:4.159\n",
            "[3]\tvalidation-rmse:3.61533\n",
            "[4]\tvalidation-rmse:3.57381\n",
            "[5]\tvalidation-rmse:3.59857\n",
            "[6]\tvalidation-rmse:3.69746\n",
            "[7]\tvalidation-rmse:3.71405\n",
            "[8]\tvalidation-rmse:3.69551\n",
            "[9]\tvalidation-rmse:3.67561\n"
          ],
          "name": "stdout"
        },
        {
          "output_type": "stream",
          "text": [
            "[I 2020-07-08 14:09:19,825] Finished trial#845 with value: 3.211422192732756 with parameters: {'combos': 1, 'ada_Scaler': 'log', 'ada_ne': 180, 'ada_lr': 0.6571235290705261, 'et_Scaler': 'stand', 'et_max_depth': 8, 'et_ne': 616, 'xgb_Scaler': 'log', 'booster': 'gbtree', 'lambda': 0.06965226327940392, 'alpha': 0.012560554649493695, 'max_depth': 3, 'eta': 0.5441980375555839, 'gamma': 1.2755342700742273e-07, 'grow_policy': 'depthwise'}. Best is trial#563 with value: 3.1249267571970165.\n"
          ],
          "name": "stderr"
        },
        {
          "output_type": "stream",
          "text": [
            "[0]\tvalidation-rmse:5.45155\n",
            "[1]\tvalidation-rmse:4.97151\n",
            "[2]\tvalidation-rmse:5.23659\n",
            "[3]\tvalidation-rmse:4.99425\n",
            "[4]\tvalidation-rmse:4.79654\n",
            "[5]\tvalidation-rmse:4.71308\n",
            "[6]\tvalidation-rmse:4.70262\n",
            "[7]\tvalidation-rmse:4.78157\n",
            "[8]\tvalidation-rmse:4.73879\n",
            "[9]\tvalidation-rmse:4.78209\n"
          ],
          "name": "stdout"
        },
        {
          "output_type": "stream",
          "text": [
            "[I 2020-07-08 14:09:20,897] Finished trial#846 with value: 3.3519791948378197 with parameters: {'combos': 1, 'ada_Scaler': 'log', 'ada_ne': 23, 'ada_lr': 0.6976250133444681, 'et_Scaler': 'stand', 'et_max_depth': 9, 'et_ne': 582, 'xgb_Scaler': 'log', 'booster': 'gbtree', 'lambda': 0.10878580932705967, 'alpha': 0.0023952432029670885, 'max_depth': 3, 'eta': 0.9632067482894623, 'gamma': 2.3115359234983094e-08, 'grow_policy': 'lossguide'}. Best is trial#563 with value: 3.1249267571970165.\n"
          ],
          "name": "stderr"
        },
        {
          "output_type": "stream",
          "text": [
            "[0]\tvalidation-rmse:15.1788\n",
            "[1]\tvalidation-rmse:9.79896\n",
            "[2]\tvalidation-rmse:6.6249\n",
            "[3]\tvalidation-rmse:4.84958\n",
            "[4]\tvalidation-rmse:3.96092\n",
            "[5]\tvalidation-rmse:3.61473\n",
            "[6]\tvalidation-rmse:3.38067\n",
            "[7]\tvalidation-rmse:3.32125\n",
            "[8]\tvalidation-rmse:3.27921\n",
            "[9]\tvalidation-rmse:3.25155\n"
          ],
          "name": "stdout"
        },
        {
          "output_type": "stream",
          "text": [
            "[I 2020-07-08 14:09:22,271] Finished trial#847 with value: 3.209088945365367 with parameters: {'combos': 1, 'ada_Scaler': 'log', 'ada_ne': 76, 'ada_lr': 0.6159353842395124, 'et_Scaler': 'stand', 'et_max_depth': 10, 'et_ne': 672, 'xgb_Scaler': 'log', 'booster': 'gbtree', 'lambda': 0.16920276948740942, 'alpha': 0.006893379279735183, 'max_depth': 3, 'eta': 0.3888659519624504, 'gamma': 2.815128173648219e-07, 'grow_policy': 'depthwise'}. Best is trial#563 with value: 3.1249267571970165.\n"
          ],
          "name": "stderr"
        },
        {
          "output_type": "stream",
          "text": [
            "[0]\tvalidation-rmse:5.9162\n",
            "[1]\tvalidation-rmse:5.48177\n",
            "[2]\tvalidation-rmse:5.15479\n",
            "[3]\tvalidation-rmse:4.90757\n",
            "[4]\tvalidation-rmse:4.86806\n",
            "[5]\tvalidation-rmse:4.76331\n",
            "[6]\tvalidation-rmse:4.77625\n",
            "[7]\tvalidation-rmse:4.86551\n",
            "[8]\tvalidation-rmse:4.93871\n",
            "[9]\tvalidation-rmse:4.92013\n"
          ],
          "name": "stdout"
        },
        {
          "output_type": "stream",
          "text": [
            "[I 2020-07-08 14:09:23,671] Finished trial#848 with value: 3.5330520320880665 with parameters: {'combos': 1, 'ada_Scaler': 'log', 'ada_ne': 106, 'ada_lr': 0.5553487251807613, 'et_Scaler': 'stand', 'et_max_depth': 11, 'et_ne': 632, 'xgb_Scaler': 'log', 'booster': 'gbtree', 'lambda': 0.04520510350194103, 'alpha': 0.0227972864386594, 'max_depth': 2, 'eta': 0.9936594693956536, 'gamma': 6.347133182255728e-08, 'grow_policy': 'depthwise'}. Best is trial#563 with value: 3.1249267571970165.\n",
            "[I 2020-07-08 14:09:25,221] Finished trial#849 with value: 3.395262708632329 with parameters: {'combos': 2, 'ada_Scaler': 'log', 'ada_ne': 257, 'ada_lr': 0.7321529215894239, 'et_Scaler': 'stand', 'et_max_depth': 8, 'et_ne': 609, 'gbm_Scaler': 'minmax', 'lambda_l1': 9.464833456142058e-06, 'lambda_l2': 3.9759795518915976e-05, 'num_leaves': 109, 'feature_fraction': 0.873516890758477, 'bagging_fraction': 0.8340002228388184, 'bagging_freq': 3, 'min_child_samples': 10}. Best is trial#563 with value: 3.1249267571970165.\n"
          ],
          "name": "stderr"
        },
        {
          "output_type": "stream",
          "text": [
            "[0]\tvalidation-rmse:18.583\n",
            "[1]\tvalidation-rmse:14.4451\n",
            "[2]\tvalidation-rmse:11.3608\n",
            "[3]\tvalidation-rmse:9.1104\n",
            "[4]\tvalidation-rmse:7.3687\n",
            "[5]\tvalidation-rmse:6.08019\n",
            "[6]\tvalidation-rmse:5.23343\n",
            "[7]\tvalidation-rmse:4.68401\n",
            "[8]\tvalidation-rmse:4.3172\n",
            "[9]\tvalidation-rmse:4.12143\n"
          ],
          "name": "stdout"
        },
        {
          "output_type": "stream",
          "text": [
            "[I 2020-07-08 14:09:26,641] Finished trial#850 with value: 3.3609484740858844 with parameters: {'combos': 1, 'ada_Scaler': 'log', 'ada_ne': 170, 'ada_lr': 0.5912264382689132, 'et_Scaler': 'stand', 'et_max_depth': 9, 'et_ne': 651, 'xgb_Scaler': 'log', 'booster': 'gbtree', 'lambda': 0.016718347690373392, 'alpha': 0.005496380884088178, 'max_depth': 3, 'eta': 0.22998759661500665, 'gamma': 4.2573771764755003e-08, 'grow_policy': 'depthwise'}. Best is trial#563 with value: 3.1249267571970165.\n"
          ],
          "name": "stderr"
        },
        {
          "output_type": "stream",
          "text": [
            "[0]\tvalidation-rmse:10.3953\n",
            "[1]\tvalidation-rmse:6.65491\n",
            "[2]\tvalidation-rmse:5.56741\n",
            "[3]\tvalidation-rmse:5.35584\n",
            "[4]\tvalidation-rmse:5.0098\n",
            "[5]\tvalidation-rmse:5.12657\n",
            "[6]\tvalidation-rmse:5.0873\n",
            "[7]\tvalidation-rmse:5.0501\n",
            "[8]\tvalidation-rmse:5.20645\n",
            "[9]\tvalidation-rmse:5.17193\n"
          ],
          "name": "stdout"
        },
        {
          "output_type": "stream",
          "text": [
            "[I 2020-07-08 14:09:28,047] Finished trial#851 with value: 3.5524381689140503 with parameters: {'combos': 1, 'ada_Scaler': 'log', 'ada_ne': 228, 'ada_lr': 0.6762787495462376, 'et_Scaler': 'stand', 'et_max_depth': 10, 'et_ne': 538, 'xgb_Scaler': 'log', 'booster': 'gbtree', 'lambda': 0.027123339473839835, 'alpha': 0.011127837345248961, 'max_depth': 1, 'eta': 0.6760756143828063, 'gamma': 1.4674386731711501e-08, 'grow_policy': 'depthwise'}. Best is trial#563 with value: 3.1249267571970165.\n"
          ],
          "name": "stderr"
        },
        {
          "output_type": "stream",
          "text": [
            "[0]\tvalidation-rmse:12.8259\n",
            "[1]\tvalidation-rmse:7.56992\n",
            "[2]\tvalidation-rmse:5.18021\n",
            "[3]\tvalidation-rmse:4.31549\n",
            "[4]\tvalidation-rmse:3.99184\n",
            "[5]\tvalidation-rmse:3.99524\n",
            "[6]\tvalidation-rmse:3.95697\n",
            "[7]\tvalidation-rmse:3.85101\n",
            "[8]\tvalidation-rmse:3.84726\n",
            "[9]\tvalidation-rmse:3.79376\n"
          ],
          "name": "stdout"
        },
        {
          "output_type": "stream",
          "text": [
            "[I 2020-07-08 14:09:29,334] Finished trial#852 with value: 3.3006849840362347 with parameters: {'combos': 1, 'ada_Scaler': 'log', 'ada_ne': 141, 'ada_lr': 0.46782489916894116, 'et_Scaler': 'stand', 'et_max_depth': 9, 'et_ne': 595, 'xgb_Scaler': 'log', 'booster': 'gbtree', 'lambda': 0.23279427524549845, 'alpha': 0.01875663567584426, 'max_depth': 5, 'eta': 0.482459892272214, 'gamma': 1.7153021887138607e-07, 'grow_policy': 'depthwise'}. Best is trial#563 with value: 3.1249267571970165.\n"
          ],
          "name": "stderr"
        },
        {
          "output_type": "stream",
          "text": [
            "[0]\tvalidation-rmse:16.638\n",
            "[1]\tvalidation-rmse:11.8075\n",
            "[2]\tvalidation-rmse:8.54599\n",
            "[3]\tvalidation-rmse:6.5565\n",
            "[4]\tvalidation-rmse:5.34123\n",
            "[5]\tvalidation-rmse:4.463\n",
            "[6]\tvalidation-rmse:4.11107\n",
            "[7]\tvalidation-rmse:3.98419\n",
            "[8]\tvalidation-rmse:3.86525\n",
            "[9]\tvalidation-rmse:3.8453\n"
          ],
          "name": "stdout"
        },
        {
          "output_type": "stream",
          "text": [
            "[I 2020-07-08 14:09:30,815] Finished trial#853 with value: 3.3747883452031475 with parameters: {'combos': 1, 'ada_Scaler': 'log', 'ada_ne': 196, 'ada_lr': 0.5301537658675038, 'et_Scaler': 'stand', 'et_max_depth': 10, 'et_ne': 628, 'xgb_Scaler': 'log', 'booster': 'gbtree', 'lambda': 0.010696722434374703, 'alpha': 0.008250305937093104, 'max_depth': 3, 'eta': 0.31449475898726287, 'gamma': 9.347783945369158e-08, 'grow_policy': 'depthwise'}. Best is trial#563 with value: 3.1249267571970165.\n"
          ],
          "name": "stderr"
        },
        {
          "output_type": "stream",
          "text": [
            "[0]\tvalidation-rmse:7.62944\n",
            "[1]\tvalidation-rmse:4.86537\n",
            "[2]\tvalidation-rmse:4.82173\n",
            "[3]\tvalidation-rmse:4.8076\n",
            "[4]\tvalidation-rmse:4.73912\n",
            "[5]\tvalidation-rmse:4.75402\n",
            "[6]\tvalidation-rmse:4.7142\n",
            "[7]\tvalidation-rmse:4.56053\n",
            "[8]\tvalidation-rmse:4.56727\n",
            "[9]\tvalidation-rmse:4.61678\n"
          ],
          "name": "stdout"
        },
        {
          "output_type": "stream",
          "text": [
            "[I 2020-07-08 14:09:31,928] Finished trial#854 with value: 3.3580457142536133 with parameters: {'combos': 1, 'ada_Scaler': 'log', 'ada_ne': 44, 'ada_lr': 0.22351300048794884, 'et_Scaler': 'stand', 'et_max_depth': 9, 'et_ne': 580, 'xgb_Scaler': 'log', 'booster': 'gbtree', 'lambda': 0.08587813630531296, 'alpha': 0.37050227016905146, 'max_depth': 3, 'eta': 0.7409335813350838, 'gamma': 2.6505029936313126e-08, 'grow_policy': 'depthwise'}. Best is trial#563 with value: 3.1249267571970165.\n"
          ],
          "name": "stderr"
        },
        {
          "output_type": "stream",
          "text": [
            "[0]\tvalidation-rmse:4.85431\n",
            "[1]\tvalidation-rmse:4.87643\n",
            "[2]\tvalidation-rmse:4.68395\n",
            "[3]\tvalidation-rmse:4.64971\n",
            "[4]\tvalidation-rmse:4.70634\n",
            "[5]\tvalidation-rmse:4.87519\n",
            "[6]\tvalidation-rmse:4.90222\n",
            "[7]\tvalidation-rmse:4.9432\n",
            "[8]\tvalidation-rmse:4.92096\n",
            "[9]\tvalidation-rmse:4.93119\n"
          ],
          "name": "stdout"
        },
        {
          "output_type": "stream",
          "text": [
            "[I 2020-07-08 14:09:33,304] Finished trial#855 with value: 3.417526744096213 with parameters: {'combos': 1, 'ada_Scaler': 'log', 'ada_ne': 119, 'ada_lr': 0.6370145945834844, 'et_Scaler': 'stand', 'et_max_depth': 11, 'et_ne': 608, 'xgb_Scaler': 'log', 'booster': 'gbtree', 'lambda': 0.05873605549568036, 'alpha': 0.0037877331639415207, 'max_depth': 4, 'eta': 0.986656538132803, 'gamma': 8.09060299845064e-07, 'grow_policy': 'depthwise'}. Best is trial#563 with value: 3.1249267571970165.\n"
          ],
          "name": "stderr"
        },
        {
          "output_type": "stream",
          "text": [
            "[0]\tvalidation-rmse:8.69886\n",
            "[1]\tvalidation-rmse:8.13352\n",
            "[2]\tvalidation-rmse:7.86878\n",
            "[3]\tvalidation-rmse:7.71183\n",
            "[4]\tvalidation-rmse:7.5961\n",
            "[5]\tvalidation-rmse:7.50536\n",
            "[6]\tvalidation-rmse:7.43255\n",
            "[7]\tvalidation-rmse:7.36916\n",
            "[8]\tvalidation-rmse:7.31281\n",
            "[9]\tvalidation-rmse:7.26187\n"
          ],
          "name": "stdout"
        },
        {
          "output_type": "stream",
          "text": [
            "[I 2020-07-08 14:09:34,627] Finished trial#856 with value: 3.9339817586923425 with parameters: {'combos': 1, 'ada_Scaler': 'log', 'ada_ne': 153, 'ada_lr': 0.5969642029062049, 'et_Scaler': 'stand', 'et_max_depth': 8, 'et_ne': 663, 'xgb_Scaler': 'log', 'booster': 'gblinear', 'lambda': 0.5004100555112361, 'alpha': 0.01540602613629753}. Best is trial#563 with value: 3.1249267571970165.\n"
          ],
          "name": "stderr"
        },
        {
          "output_type": "stream",
          "text": [
            "[0]\tvalidation-rmse:12.9791\n",
            "[1]\tvalidation-rmse:7.39858\n",
            "[2]\tvalidation-rmse:5.06105\n",
            "[3]\tvalidation-rmse:4.11097\n",
            "[4]\tvalidation-rmse:3.82361\n",
            "[5]\tvalidation-rmse:3.75084\n",
            "[6]\tvalidation-rmse:3.72996\n",
            "[7]\tvalidation-rmse:3.76699\n",
            "[8]\tvalidation-rmse:3.76947\n",
            "[9]\tvalidation-rmse:3.77303\n"
          ],
          "name": "stdout"
        },
        {
          "output_type": "stream",
          "text": [
            "[I 2020-07-08 14:09:36,160] Finished trial#857 with value: 3.213343963896181 with parameters: {'combos': 1, 'ada_Scaler': 'log', 'ada_ne': 220, 'ada_lr': 0.7769311397762803, 'et_Scaler': 'stand', 'et_max_depth': 10, 'et_ne': 636, 'xgb_Scaler': 'log', 'booster': 'gbtree', 'lambda': 0.03637416957203698, 'alpha': 0.03615216777352345, 'max_depth': 3, 'eta': 0.4763281010934294, 'gamma': 5.0334013486344885e-08, 'grow_policy': 'depthwise'}. Best is trial#563 with value: 3.1249267571970165.\n"
          ],
          "name": "stderr"
        },
        {
          "output_type": "stream",
          "text": [
            "[0]\tvalidation-rmse:6.56343\n",
            "[1]\tvalidation-rmse:5.3747\n",
            "[2]\tvalidation-rmse:5.28591\n",
            "[3]\tvalidation-rmse:5.28836\n",
            "[4]\tvalidation-rmse:5.29403\n",
            "[5]\tvalidation-rmse:5.19884\n",
            "[6]\tvalidation-rmse:5.08754\n",
            "[7]\tvalidation-rmse:4.99838\n",
            "[8]\tvalidation-rmse:4.99048\n",
            "[9]\tvalidation-rmse:5.03607\n"
          ],
          "name": "stdout"
        },
        {
          "output_type": "stream",
          "text": [
            "[I 2020-07-08 14:09:37,537] Finished trial#858 with value: 3.4637218065962694 with parameters: {'combos': 1, 'ada_Scaler': 'log', 'ada_ne': 184, 'ada_lr': 0.6403112291029264, 'et_Scaler': 'minmax', 'et_max_depth': 9, 'et_ne': 612, 'xgb_Scaler': 'minmax', 'booster': 'gbtree', 'lambda': 0.019006688687782658, 'alpha': 0.006220153101175117, 'max_depth': 3, 'eta': 0.9946927519494388, 'gamma': 1.8520227276711336e-08, 'grow_policy': 'depthwise'}. Best is trial#563 with value: 3.1249267571970165.\n"
          ],
          "name": "stderr"
        },
        {
          "output_type": "stream",
          "text": [
            "[0]\tvalidation-rmse:18.0511\n",
            "[1]\tvalidation-rmse:13.7246\n",
            "[2]\tvalidation-rmse:10.5442\n",
            "[3]\tvalidation-rmse:8.31614\n",
            "[4]\tvalidation-rmse:6.66411\n",
            "[5]\tvalidation-rmse:5.5555\n",
            "[6]\tvalidation-rmse:4.86232\n",
            "[7]\tvalidation-rmse:4.41555\n",
            "[8]\tvalidation-rmse:4.1366\n",
            "[9]\tvalidation-rmse:4.0088\n"
          ],
          "name": "stdout"
        },
        {
          "output_type": "stream",
          "text": [
            "[I 2020-07-08 14:09:39,463] Finished trial#859 with value: 3.4589725365981328 with parameters: {'combos': 1, 'ada_Scaler': 'log', 'ada_ne': 171, 'ada_lr': 0.5650408523160636, 'et_Scaler': 'stand', 'et_max_depth': 10, 'et_ne': 954, 'xgb_Scaler': 'log', 'booster': 'gbtree', 'lambda': 0.12226179677238627, 'alpha': 0.011416496353772662, 'max_depth': 3, 'eta': 0.25514996955068275, 'gamma': 3.665880824210321e-08, 'grow_policy': 'depthwise'}. Best is trial#563 with value: 3.1249267571970165.\n"
          ],
          "name": "stderr"
        },
        {
          "output_type": "stream",
          "text": [
            "[0]\tvalidation-rmse:23.9807\n",
            "[1]\tvalidation-rmse:23.9807\n",
            "[2]\tvalidation-rmse:23.9807\n",
            "[3]\tvalidation-rmse:16.7361\n",
            "[4]\tvalidation-rmse:21.5741\n",
            "[5]\tvalidation-rmse:21.293\n",
            "[6]\tvalidation-rmse:18.1263\n",
            "[7]\tvalidation-rmse:11.4806\n",
            "[8]\tvalidation-rmse:14.2966\n",
            "[9]\tvalidation-rmse:15.5439\n"
          ],
          "name": "stdout"
        },
        {
          "output_type": "stream",
          "text": [
            "[I 2020-07-08 14:09:40,848] Finished trial#860 with value: 6.335467021063268 with parameters: {'combos': 1, 'ada_Scaler': 'log', 'ada_ne': 141, 'ada_lr': 0.5114790692011264, 'et_Scaler': 'stand', 'et_max_depth': 8, 'et_ne': 686, 'xgb_Scaler': 'log', 'booster': 'dart', 'lambda': 0.05351612830603605, 'alpha': 0.00939564595651686, 'max_depth': 2, 'eta': 0.5867812396152033, 'gamma': 1.1870454673277946e-07, 'grow_policy': 'depthwise', 'sample_type': 'weighted', 'normalize_type': 'tree', 'rate_drop': 0.6256380948240687, 'skip_drop': 8.353254397734411e-05}. Best is trial#563 with value: 3.1249267571970165.\n",
            "[I 2020-07-08 14:09:41,867] Setting status of trial#861 as TrialState.PRUNED. Trial was pruned at iteration 11.\n"
          ],
          "name": "stderr"
        },
        {
          "output_type": "stream",
          "text": [
            "[0]\tvalidation-rmse:23.9779\n",
            "[1]\tvalidation-rmse:23.9751\n",
            "[2]\tvalidation-rmse:23.9722\n",
            "[3]\tvalidation-rmse:23.9694\n",
            "[4]\tvalidation-rmse:23.9666\n",
            "[5]\tvalidation-rmse:23.9638\n",
            "[6]\tvalidation-rmse:23.961\n",
            "[7]\tvalidation-rmse:23.9581\n",
            "[8]\tvalidation-rmse:23.9553\n",
            "[9]\tvalidation-rmse:23.9525\n"
          ],
          "name": "stdout"
        },
        {
          "output_type": "stream",
          "text": [
            "[I 2020-07-08 14:09:43,606] Finished trial#862 with value: 8.269837815730327 with parameters: {'combos': 1, 'ada_Scaler': 'log', 'ada_ne': 203, 'ada_lr': 0.70613387373667, 'et_Scaler': 'stand', 'et_max_depth': 12, 'et_ne': 647, 'xgb_Scaler': 'log', 'booster': 'gbtree', 'lambda': 0.08468845278747844, 'alpha': 0.004668715919984091, 'max_depth': 3, 'eta': 0.00011968220720337708, 'gamma': 6.905867398038745e-08, 'grow_policy': 'depthwise'}. Best is trial#563 with value: 3.1249267571970165.\n"
          ],
          "name": "stderr"
        },
        {
          "output_type": "stream",
          "text": [
            "[0]\tvalidation-rmse:15.4294\n",
            "[1]\tvalidation-rmse:10.3372\n",
            "[2]\tvalidation-rmse:7.23623\n",
            "[3]\tvalidation-rmse:5.51132\n",
            "[4]\tvalidation-rmse:4.48646\n",
            "[5]\tvalidation-rmse:4.06576\n",
            "[6]\tvalidation-rmse:3.91416\n",
            "[7]\tvalidation-rmse:3.8367\n",
            "[8]\tvalidation-rmse:3.91596\n",
            "[9]\tvalidation-rmse:3.87394\n"
          ],
          "name": "stdout"
        },
        {
          "output_type": "stream",
          "text": [
            "[I 2020-07-08 14:09:44,923] Finished trial#863 with value: 3.2734633749299014 with parameters: {'combos': 1, 'ada_Scaler': 'log', 'ada_ne': 126, 'ada_lr': 0.6006521728901156, 'et_Scaler': 'stand', 'et_max_depth': 10, 'et_ne': 591, 'xgb_Scaler': 'stand', 'booster': 'gbtree', 'lambda': 0.029702484064386966, 'alpha': 0.0010880343602350214, 'max_depth': 3, 'eta': 0.3684706467217453, 'gamma': 1.3701165071138877e-08, 'grow_policy': 'depthwise'}. Best is trial#563 with value: 3.1249267571970165.\n"
          ],
          "name": "stderr"
        },
        {
          "output_type": "stream",
          "text": [
            "[0]\tvalidation-rmse:8.19744\n",
            "[1]\tvalidation-rmse:4.30227\n",
            "[2]\tvalidation-rmse:3.87135\n",
            "[3]\tvalidation-rmse:3.79014\n",
            "[4]\tvalidation-rmse:3.86379\n",
            "[5]\tvalidation-rmse:3.83463\n",
            "[6]\tvalidation-rmse:3.77873\n",
            "[7]\tvalidation-rmse:3.73951\n",
            "[8]\tvalidation-rmse:3.79054\n",
            "[9]\tvalidation-rmse:3.81267\n"
          ],
          "name": "stdout"
        },
        {
          "output_type": "stream",
          "text": [
            "[I 2020-07-08 14:09:46,401] Finished trial#864 with value: 3.293067415528282 with parameters: {'combos': 1, 'ada_Scaler': 'log', 'ada_ne': 160, 'ada_lr': 0.5630970836950714, 'et_Scaler': 'stand', 'et_max_depth': 11, 'et_ne': 626, 'xgb_Scaler': 'log', 'booster': 'gbtree', 'lambda': 0.16991971019749258, 'alpha': 0.018950229095857907, 'max_depth': 3, 'eta': 0.7228771382225146, 'gamma': 2.6413269140916854e-08, 'grow_policy': 'lossguide'}. Best is trial#563 with value: 3.1249267571970165.\n"
          ],
          "name": "stderr"
        },
        {
          "output_type": "stream",
          "text": [
            "[0]\tvalidation-rmse:20.5861\n",
            "[1]\tvalidation-rmse:17.7049\n",
            "[2]\tvalidation-rmse:15.252\n",
            "[3]\tvalidation-rmse:13.1917\n",
            "[4]\tvalidation-rmse:11.4895\n",
            "[5]\tvalidation-rmse:9.9921\n",
            "[6]\tvalidation-rmse:8.76039\n",
            "[7]\tvalidation-rmse:7.7005\n",
            "[8]\tvalidation-rmse:6.87667\n",
            "[9]\tvalidation-rmse:6.17552\n"
          ],
          "name": "stdout"
        },
        {
          "output_type": "stream",
          "text": [
            "[I 2020-07-08 14:09:47,862] Finished trial#865 with value: 3.658301245034414 with parameters: {'combos': 1, 'ada_Scaler': 'log', 'ada_ne': 187, 'ada_lr': 0.6344410333328279, 'et_Scaler': 'stand', 'et_max_depth': 9, 'et_ne': 664, 'xgb_Scaler': 'log', 'booster': 'gbtree', 'lambda': 0.06842183657158037, 'alpha': 0.002650268351955531, 'max_depth': 3, 'eta': 0.14449538059352457, 'gamma': 2.127442994988802e-07, 'grow_policy': 'depthwise'}. Best is trial#563 with value: 3.1249267571970165.\n"
          ],
          "name": "stderr"
        },
        {
          "output_type": "stream",
          "text": [
            "[0]\tvalidation-rmse:14.1136\n",
            "[1]\tvalidation-rmse:8.41101\n",
            "[2]\tvalidation-rmse:5.49816\n",
            "[3]\tvalidation-rmse:4.21312\n",
            "[4]\tvalidation-rmse:3.72782\n",
            "[5]\tvalidation-rmse:3.47282\n",
            "[6]\tvalidation-rmse:3.38988\n",
            "[7]\tvalidation-rmse:3.38022\n",
            "[8]\tvalidation-rmse:3.41669\n",
            "[9]\tvalidation-rmse:3.4043\n"
          ],
          "name": "stdout"
        },
        {
          "output_type": "stream",
          "text": [
            "[I 2020-07-08 14:09:49,342] Finished trial#866 with value: 3.2114123316191834 with parameters: {'combos': 1, 'ada_Scaler': 'log', 'ada_ne': 221, 'ada_lr': 0.7345411375634747, 'et_Scaler': 'stand', 'et_max_depth': 10, 'et_ne': 603, 'xgb_Scaler': 'log', 'booster': 'gbtree', 'lambda': 0.3005658546527578, 'alpha': 0.007320930649534513, 'max_depth': 3, 'eta': 0.44358345640826186, 'gamma': 4.8291471601300464e-08, 'grow_policy': 'depthwise'}. Best is trial#563 with value: 3.1249267571970165.\n"
          ],
          "name": "stderr"
        },
        {
          "output_type": "stream",
          "text": [
            "[0]\tvalidation-rmse:5.40612\n",
            "[1]\tvalidation-rmse:5.15026\n",
            "[2]\tvalidation-rmse:5.08533\n",
            "[3]\tvalidation-rmse:5.09848\n",
            "[4]\tvalidation-rmse:5.13104\n",
            "[5]\tvalidation-rmse:5.25192\n",
            "[6]\tvalidation-rmse:5.14008\n",
            "[7]\tvalidation-rmse:5.05158\n",
            "[8]\tvalidation-rmse:5.04541\n",
            "[9]\tvalidation-rmse:5.16273\n"
          ],
          "name": "stdout"
        },
        {
          "output_type": "stream",
          "text": [
            "[I 2020-07-08 14:09:50,629] Finished trial#867 with value: 3.5221234333200395 with parameters: {'combos': 1, 'ada_Scaler': 'log', 'ada_ne': 154, 'ada_lr': 0.6813543346306757, 'et_Scaler': 'stand', 'et_max_depth': 8, 'et_ne': 626, 'xgb_Scaler': 'log', 'booster': 'gbtree', 'lambda': 0.041751241928085735, 'alpha': 0.013313849317319144, 'max_depth': 3, 'eta': 0.9888034646695921, 'gamma': 3.2285925796194494e-08, 'grow_policy': 'depthwise'}. Best is trial#563 with value: 3.1249267571970165.\n"
          ],
          "name": "stderr"
        },
        {
          "output_type": "stream",
          "text": [
            "[0]\tvalidation-rmse:10.1809\n",
            "[1]\tvalidation-rmse:5.56427\n",
            "[2]\tvalidation-rmse:4.06833\n",
            "[3]\tvalidation-rmse:3.85487\n",
            "[4]\tvalidation-rmse:3.87927\n",
            "[5]\tvalidation-rmse:3.89372\n",
            "[6]\tvalidation-rmse:3.96148\n",
            "[7]\tvalidation-rmse:3.93962\n",
            "[8]\tvalidation-rmse:3.85064\n",
            "[9]\tvalidation-rmse:3.92962\n"
          ],
          "name": "stdout"
        },
        {
          "output_type": "stream",
          "text": [
            "[I 2020-07-08 14:09:51,761] Finished trial#868 with value: 3.253794928063165 with parameters: {'combos': 1, 'ada_Scaler': 'log', 'ada_ne': 62, 'ada_lr': 0.6109189279118076, 'et_Scaler': 'stand', 'et_max_depth': 9, 'et_ne': 571, 'xgb_Scaler': 'log', 'booster': 'gbtree', 'lambda': 0.013384816765307056, 'alpha': 0.028906035347971606, 'max_depth': 3, 'eta': 0.6139439709544914, 'gamma': 4.52819547585441e-07, 'grow_policy': 'depthwise'}. Best is trial#563 with value: 3.1249267571970165.\n"
          ],
          "name": "stderr"
        },
        {
          "output_type": "stream",
          "text": [
            "[0]\tvalidation-rmse:16.6388\n",
            "[1]\tvalidation-rmse:11.8067\n",
            "[2]\tvalidation-rmse:8.54377\n",
            "[3]\tvalidation-rmse:6.55353\n",
            "[4]\tvalidation-rmse:5.33775\n",
            "[5]\tvalidation-rmse:4.45873\n",
            "[6]\tvalidation-rmse:4.10661\n",
            "[7]\tvalidation-rmse:3.97897\n",
            "[8]\tvalidation-rmse:3.85861\n",
            "[9]\tvalidation-rmse:3.83854\n"
          ],
          "name": "stdout"
        },
        {
          "output_type": "stream",
          "text": [
            "[I 2020-07-08 14:09:52,940] Finished trial#869 with value: 3.544593812981966 with parameters: {'combos': 1, 'ada_Scaler': 'minmax', 'ada_ne': 116, 'ada_lr': 0.5366515209449711, 'et_Scaler': 'stand', 'et_max_depth': 7, 'et_ne': 646, 'xgb_Scaler': 'log', 'booster': 'gbtree', 'lambda': 0.025897055394795136, 'alpha': 0.01633424850311803, 'max_depth': 3, 'eta': 0.314749656514934, 'gamma': 2.044790021599554e-08, 'grow_policy': 'depthwise'}. Best is trial#563 with value: 3.1249267571970165.\n",
            "[I 2020-07-08 14:09:54,112] Setting status of trial#870 as TrialState.PRUNED. Trial was pruned at iteration 11.\n"
          ],
          "name": "stderr"
        },
        {
          "output_type": "stream",
          "text": [
            "[0]\tvalidation-rmse:19.6067\n",
            "[1]\tvalidation-rmse:16.0411\n",
            "[2]\tvalidation-rmse:13.197\n",
            "[3]\tvalidation-rmse:10.9664\n",
            "[4]\tvalidation-rmse:9.22492\n",
            "[5]\tvalidation-rmse:7.78709\n",
            "[6]\tvalidation-rmse:6.70632\n",
            "[7]\tvalidation-rmse:5.86673\n",
            "[8]\tvalidation-rmse:5.19534\n",
            "[9]\tvalidation-rmse:4.77372\n"
          ],
          "name": "stdout"
        },
        {
          "output_type": "stream",
          "text": [
            "[I 2020-07-08 14:09:55,633] Finished trial#871 with value: 3.484504059382258 with parameters: {'combos': 1, 'ada_Scaler': 'log', 'ada_ne': 204, 'ada_lr': 0.49094564526233714, 'et_Scaler': 'stand', 'et_max_depth': 9, 'et_ne': 613, 'xgb_Scaler': 'log', 'booster': 'gbtree', 'lambda': 0.11050380527136369, 'alpha': 0.004584124996255139, 'max_depth': 3, 'eta': 0.187526293322416, 'gamma': 1.0314125424794928e-08, 'grow_policy': 'depthwise'}. Best is trial#563 with value: 3.1249267571970165.\n"
          ],
          "name": "stderr"
        },
        {
          "output_type": "stream",
          "text": [
            "[0]\tvalidation-rmse:11.9714\n",
            "[1]\tvalidation-rmse:6.64306\n",
            "[2]\tvalidation-rmse:4.82515\n",
            "[3]\tvalidation-rmse:4.26912\n",
            "[4]\tvalidation-rmse:4.1642\n",
            "[5]\tvalidation-rmse:4.23484\n",
            "[6]\tvalidation-rmse:4.14531\n",
            "[7]\tvalidation-rmse:4.09423\n",
            "[8]\tvalidation-rmse:4.1113\n",
            "[9]\tvalidation-rmse:3.97778\n"
          ],
          "name": "stdout"
        },
        {
          "output_type": "stream",
          "text": [
            "[I 2020-07-08 14:09:56,692] Finished trial#872 with value: 3.318352875836848 with parameters: {'combos': 1, 'ada_Scaler': 'log', 'ada_ne': 136, 'ada_lr': 0.6741762499336833, 'et_Scaler': 'stand', 'et_max_depth': 5, 'et_ne': 590, 'xgb_Scaler': 'log', 'booster': 'gbtree', 'lambda': 0.00761756120134287, 'alpha': 0.010040360905827975, 'max_depth': 3, 'eta': 0.5259077482717365, 'gamma': 8.758169748351646e-08, 'grow_policy': 'depthwise'}. Best is trial#563 with value: 3.1249267571970165.\n"
          ],
          "name": "stderr"
        },
        {
          "output_type": "stream",
          "text": [
            "[0]\tvalidation-rmse:9.218\n",
            "[1]\tvalidation-rmse:5.36403\n",
            "[2]\tvalidation-rmse:4.24878\n",
            "[3]\tvalidation-rmse:4.28217\n",
            "[4]\tvalidation-rmse:4.19246\n",
            "[5]\tvalidation-rmse:4.21339\n",
            "[6]\tvalidation-rmse:4.33452\n",
            "[7]\tvalidation-rmse:4.3496\n",
            "[8]\tvalidation-rmse:3.88143\n",
            "[9]\tvalidation-rmse:3.88855\n"
          ],
          "name": "stdout"
        },
        {
          "output_type": "stream",
          "text": [
            "[I 2020-07-08 14:09:58,048] Finished trial#873 with value: 3.2242235706591424 with parameters: {'combos': 1, 'ada_Scaler': 'log', 'ada_ne': 81, 'ada_lr': 0.7756523047490714, 'et_Scaler': 'stand', 'et_max_depth': 11, 'et_ne': 634, 'xgb_Scaler': 'log', 'booster': 'gbtree', 'lambda': 0.04597216837572309, 'alpha': 0.00648533038630268, 'max_depth': 2, 'eta': 0.6966993782873347, 'gamma': 1.5859230519582106e-07, 'grow_policy': 'depthwise'}. Best is trial#563 with value: 3.1249267571970165.\n"
          ],
          "name": "stderr"
        },
        {
          "output_type": "stream",
          "text": [
            "[0]\tvalidation-rmse:15.2051\n",
            "[1]\tvalidation-rmse:9.94337\n",
            "[2]\tvalidation-rmse:6.87356\n",
            "[3]\tvalidation-rmse:5.16791\n",
            "[4]\tvalidation-rmse:4.26063\n",
            "[5]\tvalidation-rmse:3.91964\n",
            "[6]\tvalidation-rmse:3.79197\n",
            "[7]\tvalidation-rmse:3.83878\n",
            "[8]\tvalidation-rmse:3.82008\n",
            "[9]\tvalidation-rmse:3.82357\n"
          ],
          "name": "stdout"
        },
        {
          "output_type": "stream",
          "text": [
            "[I 2020-07-08 14:09:59,396] Finished trial#874 with value: 3.3477081320826567 with parameters: {'combos': 1, 'ada_Scaler': 'log', 'ada_ne': 241, 'ada_lr': 0.6229455758136092, 'et_Scaler': 'stand', 'et_max_depth': 6, 'et_ne': 657, 'xgb_Scaler': 'log', 'booster': 'gbtree', 'lambda': 0.019592329596768106, 'alpha': 0.022700455658990978, 'max_depth': 3, 'eta': 0.37799532986327844, 'gamma': 5.500638068012403e-08, 'grow_policy': 'depthwise'}. Best is trial#563 with value: 3.1249267571970165.\n"
          ],
          "name": "stderr"
        },
        {
          "output_type": "stream",
          "text": [
            "[0]\tvalidation-rmse:4.80755\n",
            "[1]\tvalidation-rmse:5.14175\n",
            "[2]\tvalidation-rmse:5.10839\n",
            "[3]\tvalidation-rmse:5.16986\n",
            "[4]\tvalidation-rmse:5.07877\n",
            "[5]\tvalidation-rmse:5.13439\n",
            "[6]\tvalidation-rmse:5.11774\n",
            "[7]\tvalidation-rmse:5.08527\n",
            "[8]\tvalidation-rmse:5.00905\n",
            "[9]\tvalidation-rmse:5.03385\n"
          ],
          "name": "stdout"
        },
        {
          "output_type": "stream",
          "text": [
            "[I 2020-07-08 14:10:00,960] Finished trial#875 with value: 3.500545678598975 with parameters: {'combos': 1, 'ada_Scaler': 'log', 'ada_ne': 186, 'ada_lr': 0.5590866294240504, 'et_Scaler': 'stand', 'et_max_depth': 10, 'et_ne': 694, 'xgb_Scaler': 'log', 'booster': 'gbtree', 'lambda': 0.0775787218389992, 'alpha': 0.0018398521428990317, 'max_depth': 4, 'eta': 0.9835146699372879, 'gamma': 1.0139522786526365e-08, 'grow_policy': 'depthwise'}. Best is trial#563 with value: 3.1249267571970165.\n"
          ],
          "name": "stderr"
        },
        {
          "output_type": "stream",
          "text": [
            "[0]\tvalidation-rmse:18.0881\n",
            "[1]\tvalidation-rmse:13.6864\n",
            "[2]\tvalidation-rmse:10.5362\n",
            "[3]\tvalidation-rmse:8.15919\n",
            "[4]\tvalidation-rmse:6.54101\n",
            "[5]\tvalidation-rmse:5.3601\n",
            "[6]\tvalidation-rmse:4.6041\n",
            "[7]\tvalidation-rmse:4.05551\n",
            "[8]\tvalidation-rmse:3.80878\n",
            "[9]\tvalidation-rmse:3.68167\n"
          ],
          "name": "stdout"
        },
        {
          "output_type": "stream",
          "text": [
            "[I 2020-07-08 14:10:02,239] Finished trial#876 with value: 3.316541598444034 with parameters: {'combos': 1, 'ada_Scaler': 'log', 'ada_ne': 152, 'ada_lr': 0.6496088622297065, 'et_Scaler': 'stand', 'et_max_depth': 8, 'et_ne': 606, 'xgb_Scaler': 'log', 'booster': 'gbtree', 'lambda': 0.21554677329439703, 'alpha': 0.008780631759333857, 'max_depth': 3, 'eta': 0.2591186277750381, 'gamma': 3.5623360844500196e-08, 'grow_policy': 'depthwise'}. Best is trial#563 with value: 3.1249267571970165.\n",
            "[I 2020-07-08 14:10:03,409] Setting status of trial#877 as TrialState.PRUNED. Trial was pruned at iteration 11.\n"
          ],
          "name": "stderr"
        },
        {
          "output_type": "stream",
          "text": [
            "[0]\tvalidation-rmse:12.8207\n",
            "[1]\tvalidation-rmse:7.34672\n",
            "[2]\tvalidation-rmse:5.12315\n",
            "[3]\tvalidation-rmse:4.32125\n",
            "[4]\tvalidation-rmse:4.10938\n",
            "[5]\tvalidation-rmse:4.08629\n",
            "[6]\tvalidation-rmse:4.04186\n",
            "[7]\tvalidation-rmse:4.04095\n",
            "[8]\tvalidation-rmse:4.06523\n",
            "[9]\tvalidation-rmse:3.99604\n"
          ],
          "name": "stdout"
        },
        {
          "output_type": "stream",
          "text": [
            "[I 2020-07-08 14:10:04,845] Finished trial#878 with value: 3.232440608542798 with parameters: {'combos': 1, 'ada_Scaler': 'log', 'ada_ne': 99, 'ada_lr': 0.7198299467209368, 'et_Scaler': 'stand', 'et_max_depth': 9, 'et_ne': 672, 'xgb_Scaler': 'log', 'booster': 'gbtree', 'lambda': 0.00359603863397286, 'alpha': 0.0034095779588438546, 'max_depth': 3, 'eta': 0.4859385114313103, 'gamma': 2.274514850314876e-08, 'grow_policy': 'lossguide'}. Best is trial#563 with value: 3.1249267571970165.\n"
          ],
          "name": "stderr"
        },
        {
          "output_type": "stream",
          "text": [
            "[0]\tvalidation-rmse:7.53343\n",
            "[1]\tvalidation-rmse:4.9908\n",
            "[2]\tvalidation-rmse:5.00729\n",
            "[3]\tvalidation-rmse:4.8707\n",
            "[4]\tvalidation-rmse:4.80101\n",
            "[5]\tvalidation-rmse:4.81039\n",
            "[6]\tvalidation-rmse:4.93472\n",
            "[7]\tvalidation-rmse:4.89781\n",
            "[8]\tvalidation-rmse:4.8811\n",
            "[9]\tvalidation-rmse:5.00422\n"
          ],
          "name": "stdout"
        },
        {
          "output_type": "stream",
          "text": [
            "[I 2020-07-08 14:10:06,209] Finished trial#879 with value: 3.526235479039978 with parameters: {'combos': 1, 'ada_Scaler': 'log', 'ada_ne': 131, 'ada_lr': 0.5882026908113418, 'et_Scaler': 'stand', 'et_max_depth': 10, 'et_ne': 623, 'xgb_Scaler': 'log', 'booster': 'gbtree', 'lambda': 0.144457655553874, 'alpha': 0.014052656528789403, 'max_depth': 3, 'eta': 0.7537176412548744, 'gamma': 1.62687368979038e-08, 'grow_policy': 'depthwise'}. Best is trial#563 with value: 3.1249267571970165.\n"
          ],
          "name": "stderr"
        },
        {
          "output_type": "stream",
          "text": [
            "[0]\tvalidation-rmse:15.2385\n",
            "[1]\tvalidation-rmse:9.95894\n",
            "[2]\tvalidation-rmse:6.92839\n",
            "[3]\tvalidation-rmse:5.17114\n",
            "[4]\tvalidation-rmse:4.30149\n",
            "[5]\tvalidation-rmse:3.86436\n",
            "[6]\tvalidation-rmse:3.6937\n",
            "[7]\tvalidation-rmse:3.66032\n",
            "[8]\tvalidation-rmse:3.63834\n",
            "[9]\tvalidation-rmse:3.66392\n"
          ],
          "name": "stdout"
        },
        {
          "output_type": "stream",
          "text": [
            "[I 2020-07-08 14:10:07,612] Finished trial#880 with value: 3.258079815366464 with parameters: {'combos': 1, 'ada_Scaler': 'log', 'ada_ne': 202, 'ada_lr': 0.6274201824461846, 'et_Scaler': 'stand', 'et_max_depth': 8, 'et_ne': 638, 'xgb_Scaler': 'log', 'booster': 'gbtree', 'lambda': 0.031820666429769585, 'alpha': 0.1957546705759202, 'max_depth': 3, 'eta': 0.37552732910667386, 'gamma': 1.0100042812476203e-07, 'grow_policy': 'depthwise'}. Best is trial#563 with value: 3.1249267571970165.\n"
          ],
          "name": "stderr"
        },
        {
          "output_type": "stream",
          "text": [
            "[0]\tvalidation-rmse:10.6129\n",
            "[1]\tvalidation-rmse:5.54104\n",
            "[2]\tvalidation-rmse:3.93216\n",
            "[3]\tvalidation-rmse:3.69824\n",
            "[4]\tvalidation-rmse:3.73183\n",
            "[5]\tvalidation-rmse:3.63533\n",
            "[6]\tvalidation-rmse:3.65418\n",
            "[7]\tvalidation-rmse:3.66093\n",
            "[8]\tvalidation-rmse:3.6768\n",
            "[9]\tvalidation-rmse:3.61325\n"
          ],
          "name": "stdout"
        },
        {
          "output_type": "stream",
          "text": [
            "[I 2020-07-08 14:10:09,001] Finished trial#881 with value: 3.06716894171875 with parameters: {'combos': 1, 'ada_Scaler': 'log', 'ada_ne': 173, 'ada_lr': 0.6716180264894074, 'et_Scaler': 'stand', 'et_max_depth': 10, 'et_ne': 593, 'xgb_Scaler': 'log', 'booster': 'gbtree', 'lambda': 0.056298103046901415, 'alpha': 0.0005885345642231615, 'max_depth': 3, 'eta': 0.5865796691943621, 'gamma': 6.697097340043158e-08, 'grow_policy': 'depthwise'}. Best is trial#881 with value: 3.06716894171875.\n"
          ],
          "name": "stderr"
        },
        {
          "output_type": "stream",
          "text": [
            "[0]\tvalidation-rmse:18.6257\n",
            "[1]\tvalidation-rmse:14.5425\n",
            "[2]\tvalidation-rmse:11.4313\n",
            "[3]\tvalidation-rmse:9.11484\n",
            "[4]\tvalidation-rmse:7.40489\n",
            "[5]\tvalidation-rmse:6.08183\n",
            "[6]\tvalidation-rmse:5.18215\n",
            "[7]\tvalidation-rmse:4.60308\n",
            "[8]\tvalidation-rmse:4.24256\n",
            "[9]\tvalidation-rmse:4.03845\n"
          ],
          "name": "stdout"
        },
        {
          "output_type": "stream",
          "text": [
            "[I 2020-07-08 14:10:10,432] Finished trial#882 with value: 3.3309917865445935 with parameters: {'combos': 1, 'ada_Scaler': 'log', 'ada_ne': 144, 'ada_lr': 0.7741900393352301, 'et_Scaler': 'stand', 'et_max_depth': 11, 'et_ne': 605, 'xgb_Scaler': 'log', 'booster': 'gbtree', 'lambda': 0.051956595689550404, 'alpha': 0.00034498083612500674, 'max_depth': 4, 'eta': 0.22524305619084395, 'gamma': 6.13362993178752e-08, 'grow_policy': 'depthwise'}. Best is trial#881 with value: 3.06716894171875.\n"
          ],
          "name": "stderr"
        },
        {
          "output_type": "stream",
          "text": [
            "[0]\tvalidation-rmse:6.23399\n",
            "[1]\tvalidation-rmse:5.28375\n",
            "[2]\tvalidation-rmse:5.22004\n",
            "[3]\tvalidation-rmse:5.21857\n",
            "[4]\tvalidation-rmse:5.24702\n",
            "[5]\tvalidation-rmse:5.17347\n",
            "[6]\tvalidation-rmse:5.17279\n",
            "[7]\tvalidation-rmse:5.28883\n",
            "[8]\tvalidation-rmse:5.34557\n",
            "[9]\tvalidation-rmse:5.21416\n"
          ],
          "name": "stdout"
        },
        {
          "output_type": "stream",
          "text": [
            "[I 2020-07-08 14:10:11,960] Finished trial#883 with value: 3.5561485018613155 with parameters: {'combos': 1, 'ada_Scaler': 'log', 'ada_ne': 119, 'ada_lr': 0.717688124179313, 'et_Scaler': 'stand', 'et_max_depth': 15, 'et_ne': 624, 'xgb_Scaler': 'log', 'booster': 'gbtree', 'lambda': 0.022964177204510425, 'alpha': 0.0006152159944788103, 'max_depth': 3, 'eta': 0.9933458059501036, 'gamma': 4.0528445261455516e-08, 'grow_policy': 'depthwise'}. Best is trial#881 with value: 3.06716894171875.\n"
          ],
          "name": "stderr"
        },
        {
          "output_type": "stream",
          "text": [
            "[0]\tvalidation-rmse:11.6849\n",
            "[1]\tvalidation-rmse:6.28094\n",
            "[2]\tvalidation-rmse:4.21976\n",
            "[3]\tvalidation-rmse:3.6651\n",
            "[4]\tvalidation-rmse:3.61727\n",
            "[5]\tvalidation-rmse:3.72536\n",
            "[6]\tvalidation-rmse:3.70812\n",
            "[7]\tvalidation-rmse:3.80544\n",
            "[8]\tvalidation-rmse:3.83124\n",
            "[9]\tvalidation-rmse:3.83845\n"
          ],
          "name": "stdout"
        },
        {
          "output_type": "stream",
          "text": [
            "[I 2020-07-08 14:10:13,343] Finished trial#884 with value: 3.216918519410569 with parameters: {'combos': 1, 'ada_Scaler': 'log', 'ada_ne': 164, 'ada_lr': 0.6861189857690306, 'et_Scaler': 'stand', 'et_max_depth': 9, 'et_ne': 641, 'xgb_Scaler': 'log', 'booster': 'gbtree', 'lambda': 0.03813719009553262, 'alpha': 0.0027226087272654775, 'max_depth': 3, 'eta': 0.5356496055220993, 'gamma': 7.186721635146737e-08, 'grow_policy': 'depthwise'}. Best is trial#881 with value: 3.06716894171875.\n"
          ],
          "name": "stderr"
        },
        {
          "output_type": "stream",
          "text": [
            "[0]\tvalidation-rmse:15.8253\n",
            "[1]\tvalidation-rmse:10.6976\n",
            "[2]\tvalidation-rmse:7.54574\n",
            "[3]\tvalidation-rmse:5.62215\n",
            "[4]\tvalidation-rmse:4.48597\n",
            "[5]\tvalidation-rmse:3.9868\n",
            "[6]\tvalidation-rmse:3.80771\n",
            "[7]\tvalidation-rmse:3.73274\n",
            "[8]\tvalidation-rmse:3.67432\n",
            "[9]\tvalidation-rmse:3.68248\n"
          ],
          "name": "stdout"
        },
        {
          "output_type": "stream",
          "text": [
            "[I 2020-07-08 14:10:14,372] Finished trial#885 with value: 3.404980898130142 with parameters: {'combos': 1, 'ada_Scaler': 'log', 'ada_ne': 136, 'ada_lr': 0.7092930656636929, 'et_Scaler': 'stand', 'et_max_depth': 4, 'et_ne': 595, 'xgb_Scaler': 'log', 'booster': 'gbtree', 'lambda': 0.012079839156000855, 'alpha': 0.0009213942956685178, 'max_depth': 3, 'eta': 0.35030413087024814, 'gamma': 2.987846271282253e-08, 'grow_policy': 'depthwise'}. Best is trial#881 with value: 3.06716894171875.\n"
          ],
          "name": "stderr"
        },
        {
          "output_type": "stream",
          "text": [
            "[0]\tvalidation-rmse:8.87702\n",
            "[1]\tvalidation-rmse:4.79418\n",
            "[2]\tvalidation-rmse:4.01511\n",
            "[3]\tvalidation-rmse:3.85016\n",
            "[4]\tvalidation-rmse:3.88762\n",
            "[5]\tvalidation-rmse:3.90662\n",
            "[6]\tvalidation-rmse:3.94999\n",
            "[7]\tvalidation-rmse:3.9807\n",
            "[8]\tvalidation-rmse:4.13848\n",
            "[9]\tvalidation-rmse:4.13811\n"
          ],
          "name": "stdout"
        },
        {
          "output_type": "stream",
          "text": [
            "[I 2020-07-08 14:10:15,886] Finished trial#886 with value: 3.302625575899655 with parameters: {'combos': 1, 'ada_Scaler': 'log', 'ada_ne': 175, 'ada_lr': 0.6707693076815013, 'et_Scaler': 'minmax', 'et_max_depth': 10, 'et_ne': 659, 'xgb_Scaler': 'log', 'booster': 'gbtree', 'lambda': 0.055130598172733906, 'alpha': 0.0002278521728244458, 'max_depth': 3, 'eta': 0.6724830405366006, 'gamma': 4.6110975476299944e-08, 'grow_policy': 'depthwise'}. Best is trial#881 with value: 3.06716894171875.\n"
          ],
          "name": "stderr"
        },
        {
          "output_type": "stream",
          "text": [
            "[0]\tvalidation-rmse:13.517\n",
            "[1]\tvalidation-rmse:8.03758\n",
            "[2]\tvalidation-rmse:5.50684\n",
            "[3]\tvalidation-rmse:4.2891\n",
            "[4]\tvalidation-rmse:3.96081\n",
            "[5]\tvalidation-rmse:3.92761\n",
            "[6]\tvalidation-rmse:3.90678\n",
            "[7]\tvalidation-rmse:3.86511\n",
            "[8]\tvalidation-rmse:3.87195\n",
            "[9]\tvalidation-rmse:3.89093\n"
          ],
          "name": "stdout"
        },
        {
          "output_type": "stream",
          "text": [
            "[I 2020-07-08 14:10:17,231] Finished trial#887 with value: 3.236942721727015 with parameters: {'combos': 1, 'ada_Scaler': 'log', 'ada_ne': 150, 'ada_lr': 0.7444487523933749, 'et_Scaler': 'stand', 'et_max_depth': 9, 'et_ne': 617, 'xgb_Scaler': 'log', 'booster': 'gbtree', 'lambda': 0.02593962179604711, 'alpha': 0.0016428024452992387, 'max_depth': 3, 'eta': 0.45427649891653066, 'gamma': 7.270913516793926e-08, 'grow_policy': 'depthwise'}. Best is trial#881 with value: 3.06716894171875.\n"
          ],
          "name": "stderr"
        },
        {
          "output_type": "stream",
          "text": [
            "[0]\tvalidation-rmse:17.608\n",
            "[1]\tvalidation-rmse:13.1269\n",
            "[2]\tvalidation-rmse:9.88162\n",
            "[3]\tvalidation-rmse:7.6373\n",
            "[4]\tvalidation-rmse:6.08611\n",
            "[5]\tvalidation-rmse:5.14369\n",
            "[6]\tvalidation-rmse:4.60857\n",
            "[7]\tvalidation-rmse:4.1295\n",
            "[8]\tvalidation-rmse:3.83693\n",
            "[9]\tvalidation-rmse:3.74785\n"
          ],
          "name": "stdout"
        },
        {
          "output_type": "stream",
          "text": [
            "[I 2020-07-08 14:10:18,473] Finished trial#888 with value: 3.408958141990307 with parameters: {'combos': 1, 'ada_Scaler': 'log', 'ada_ne': 100, 'ada_lr': 0.6632143798114353, 'et_Scaler': 'stand', 'et_max_depth': 8, 'et_ne': 643, 'xgb_Scaler': 'log', 'booster': 'gbtree', 'lambda': 0.037664552277092186, 'alpha': 0.00154952334685196, 'max_depth': 3, 'eta': 0.2721502998836577, 'gamma': 2.3975560420651118e-08, 'grow_policy': 'depthwise'}. Best is trial#881 with value: 3.06716894171875.\n",
            "[I 2020-07-08 14:10:19,350] Setting status of trial#889 as TrialState.PRUNED. Trial was pruned at iteration 11.\n"
          ],
          "name": "stderr"
        },
        {
          "output_type": "stream",
          "text": [
            "[0]\tvalidation-rmse:9.37678\n",
            "[1]\tvalidation-rmse:5.69125\n",
            "[2]\tvalidation-rmse:4.95259\n",
            "[3]\tvalidation-rmse:4.64247\n",
            "[4]\tvalidation-rmse:4.63064\n",
            "[5]\tvalidation-rmse:4.68255\n",
            "[6]\tvalidation-rmse:4.69146\n",
            "[7]\tvalidation-rmse:4.6462\n",
            "[8]\tvalidation-rmse:4.55018\n",
            "[9]\tvalidation-rmse:4.62365\n"
          ],
          "name": "stdout"
        },
        {
          "output_type": "stream",
          "text": [
            "[I 2020-07-08 14:10:20,812] Finished trial#890 with value: 3.3543577243436222 with parameters: {'combos': 1, 'ada_Scaler': 'log', 'ada_ne': 169, 'ada_lr': 0.7796636061881803, 'et_Scaler': 'stand', 'et_max_depth': 9, 'et_ne': 600, 'xgb_Scaler': 'minmax', 'booster': 'gbtree', 'lambda': 0.00020622276440521552, 'alpha': 0.0034871658373102268, 'max_depth': 3, 'eta': 0.696668324078886, 'gamma': 4.6106342771374766e-08, 'grow_policy': 'depthwise'}. Best is trial#881 with value: 3.06716894171875.\n"
          ],
          "name": "stderr"
        },
        {
          "output_type": "stream",
          "text": [
            "[0]\tvalidation-rmse:14.1572\n",
            "[1]\tvalidation-rmse:8.78157\n",
            "[2]\tvalidation-rmse:6.32205\n",
            "[3]\tvalidation-rmse:4.60355\n",
            "[4]\tvalidation-rmse:4.16761\n",
            "[5]\tvalidation-rmse:3.67376\n",
            "[6]\tvalidation-rmse:3.5095\n",
            "[7]\tvalidation-rmse:3.54344\n",
            "[8]\tvalidation-rmse:3.52362\n",
            "[9]\tvalidation-rmse:3.51215\n"
          ],
          "name": "stdout"
        },
        {
          "output_type": "stream",
          "text": [
            "[I 2020-07-08 14:10:22,326] Finished trial#891 with value: 3.2136900793634826 with parameters: {'combos': 1, 'ada_Scaler': 'log', 'ada_ne': 219, 'ada_lr': 0.6482679325405251, 'et_Scaler': 'stand', 'et_max_depth': 10, 'et_ne': 619, 'xgb_Scaler': 'log', 'booster': 'gbtree', 'lambda': 0.016719717875791025, 'alpha': 0.00011603044158785303, 'max_depth': 2, 'eta': 0.4469195488746068, 'gamma': 1.749283514597103e-08, 'grow_policy': 'depthwise'}. Best is trial#881 with value: 3.06716894171875.\n"
          ],
          "name": "stderr"
        },
        {
          "output_type": "stream",
          "text": [
            "[0]\tvalidation-rmse:19.7842\n",
            "[1]\tvalidation-rmse:16.3382\n",
            "[2]\tvalidation-rmse:13.5754\n",
            "[3]\tvalidation-rmse:11.3796\n",
            "[4]\tvalidation-rmse:9.53753\n",
            "[5]\tvalidation-rmse:8.10441\n",
            "[6]\tvalidation-rmse:6.9552\n",
            "[7]\tvalidation-rmse:6.06008\n",
            "[8]\tvalidation-rmse:5.37164\n",
            "[9]\tvalidation-rmse:4.82636\n"
          ],
          "name": "stdout"
        },
        {
          "output_type": "stream",
          "text": [
            "[I 2020-07-08 14:10:23,905] Finished trial#892 with value: 3.45944876317397 with parameters: {'combos': 1, 'ada_Scaler': 'log', 'ada_ne': 190, 'ada_lr': 0.16934766162986198, 'et_Scaler': 'stand', 'et_max_depth': 11, 'et_ne': 650, 'xgb_Scaler': 'log', 'booster': 'gbtree', 'lambda': 0.08705934616744322, 'alpha': 0.005864671094001941, 'max_depth': 3, 'eta': 0.1790702079763459, 'gamma': 3.49908779578825e-08, 'grow_policy': 'depthwise'}. Best is trial#881 with value: 3.06716894171875.\n"
          ],
          "name": "stderr"
        },
        {
          "output_type": "stream",
          "text": [
            "[0]\tvalidation-rmse:5.39504\n",
            "[1]\tvalidation-rmse:5.11898\n",
            "[2]\tvalidation-rmse:5.05095\n",
            "[3]\tvalidation-rmse:5.06651\n",
            "[4]\tvalidation-rmse:5.10077\n",
            "[5]\tvalidation-rmse:5.02457\n",
            "[6]\tvalidation-rmse:5.08438\n",
            "[7]\tvalidation-rmse:5.1102\n",
            "[8]\tvalidation-rmse:5.04332\n",
            "[9]\tvalidation-rmse:5.11156\n"
          ],
          "name": "stdout"
        },
        {
          "output_type": "stream",
          "text": [
            "[I 2020-07-08 14:10:25,263] Finished trial#893 with value: 3.4643999265942376 with parameters: {'combos': 1, 'ada_Scaler': 'log', 'ada_ne': 148, 'ada_lr': 0.7226899379252926, 'et_Scaler': 'stand', 'et_max_depth': 9, 'et_ne': 626, 'xgb_Scaler': 'log', 'booster': 'dart', 'lambda': 0.06262069355680353, 'alpha': 0.0009366761092650025, 'max_depth': 3, 'eta': 0.9985096465106732, 'gamma': 1.0078962357068629e-07, 'grow_policy': 'depthwise', 'sample_type': 'weighted', 'normalize_type': 'forest', 'rate_drop': 1.203931882366267e-07, 'skip_drop': 0.05004264978643216}. Best is trial#881 with value: 3.06716894171875.\n"
          ],
          "name": "stderr"
        },
        {
          "output_type": "stream",
          "text": [
            "[0]\tvalidation-rmse:7.49881\n",
            "[1]\tvalidation-rmse:4.33895\n",
            "[2]\tvalidation-rmse:4.31169\n",
            "[3]\tvalidation-rmse:4.39424\n",
            "[4]\tvalidation-rmse:4.26476\n",
            "[5]\tvalidation-rmse:4.28429\n",
            "[6]\tvalidation-rmse:4.51754\n",
            "[7]\tvalidation-rmse:4.43084\n",
            "[8]\tvalidation-rmse:4.40772\n",
            "[9]\tvalidation-rmse:4.39422\n"
          ],
          "name": "stdout"
        },
        {
          "output_type": "stream",
          "text": [
            "[I 2020-07-08 14:10:26,308] Finished trial#894 with value: 3.352187150786535 with parameters: {'combos': 1, 'ada_Scaler': 'minmax', 'ada_ne': 68, 'ada_lr': 0.6231486854342229, 'et_Scaler': 'stand', 'et_max_depth': 7, 'et_ne': 582, 'xgb_Scaler': 'stand', 'booster': 'gbtree', 'lambda': 0.04242716665094084, 'alpha': 0.0025061584802071094, 'max_depth': 3, 'eta': 0.7448221506253454, 'gamma': 0.00523794553459882, 'grow_policy': 'lossguide'}. Best is trial#881 with value: 3.06716894171875.\n"
          ],
          "name": "stderr"
        },
        {
          "output_type": "stream",
          "text": [
            "[0]\tvalidation-rmse:22.8352\n",
            "[1]\tvalidation-rmse:21.7495\n",
            "[2]\tvalidation-rmse:20.7201\n",
            "[3]\tvalidation-rmse:19.7416\n",
            "[4]\tvalidation-rmse:18.8271\n",
            "[5]\tvalidation-rmse:17.9419\n",
            "[6]\tvalidation-rmse:17.1172\n",
            "[7]\tvalidation-rmse:16.3008\n",
            "[8]\tvalidation-rmse:15.5443\n",
            "[9]\tvalidation-rmse:14.8353\n"
          ],
          "name": "stdout"
        },
        {
          "output_type": "stream",
          "text": [
            "[I 2020-07-08 14:10:27,720] Finished trial#895 with value: 5.5922881594905025 with parameters: {'combos': 1, 'ada_Scaler': 'log', 'ada_ne': 168, 'ada_lr': 0.6775162935700895, 'et_Scaler': 'stand', 'et_max_depth': 10, 'et_ne': 603, 'xgb_Scaler': 'log', 'booster': 'gbtree', 'lambda': 0.02472313485439447, 'alpha': 0.004647346579284565, 'max_depth': 3, 'eta': 0.048421001982123714, 'gamma': 1.2762710347124779e-08, 'grow_policy': 'depthwise'}. Best is trial#881 with value: 3.06716894171875.\n"
          ],
          "name": "stderr"
        },
        {
          "output_type": "stream",
          "text": [
            "[0]\tvalidation-rmse:8.65277\n",
            "[1]\tvalidation-rmse:8.04005\n",
            "[2]\tvalidation-rmse:7.78339\n",
            "[3]\tvalidation-rmse:7.63736\n",
            "[4]\tvalidation-rmse:7.53532\n",
            "[5]\tvalidation-rmse:7.45193\n",
            "[6]\tvalidation-rmse:7.37884\n",
            "[7]\tvalidation-rmse:7.31209\n",
            "[8]\tvalidation-rmse:7.24958\n",
            "[9]\tvalidation-rmse:7.19011\n"
          ],
          "name": "stdout"
        },
        {
          "output_type": "stream",
          "text": [
            "[I 2020-07-08 14:10:29,021] Finished trial#896 with value: 3.8699559459660544 with parameters: {'combos': 1, 'ada_Scaler': 'log', 'ada_ne': 127, 'ada_lr': 0.6272809527620736, 'et_Scaler': 'stand', 'et_max_depth': 8, 'et_ne': 675, 'xgb_Scaler': 'log', 'booster': 'gblinear', 'lambda': 0.09251300170081815, 'alpha': 0.0076740611099506495}. Best is trial#881 with value: 3.06716894171875.\n"
          ],
          "name": "stderr"
        },
        {
          "output_type": "stream",
          "text": [
            "[0]\tvalidation-rmse:21.4951\n",
            "[1]\tvalidation-rmse:19.2817\n",
            "[2]\tvalidation-rmse:17.2981\n",
            "[3]\tvalidation-rmse:15.5477\n",
            "[4]\tvalidation-rmse:14.0076\n",
            "[5]\tvalidation-rmse:12.6853\n",
            "[6]\tvalidation-rmse:11.484\n",
            "[7]\tvalidation-rmse:10.3925\n",
            "[8]\tvalidation-rmse:9.41563\n",
            "[9]\tvalidation-rmse:8.57757\n"
          ],
          "name": "stdout"
        },
        {
          "output_type": "stream",
          "text": [
            "[I 2020-07-08 14:10:30,624] Finished trial#897 with value: 4.078855443249113 with parameters: {'combos': 1, 'ada_Scaler': 'log', 'ada_ne': 252, 'ada_lr': 0.7534027304471914, 'et_Scaler': 'stand', 'et_max_depth': 10, 'et_ne': 639, 'xgb_Scaler': 'log', 'booster': 'gbtree', 'lambda': 0.1326899850858935, 'alpha': 0.000695975015558012, 'max_depth': 3, 'eta': 0.10639649886374515, 'gamma': 5.353968604562892e-08, 'grow_policy': 'depthwise'}. Best is trial#881 with value: 3.06716894171875.\n"
          ],
          "name": "stderr"
        },
        {
          "output_type": "stream",
          "text": [
            "[0]\tvalidation-rmse:17.0678\n",
            "[1]\tvalidation-rmse:12.3596\n",
            "[2]\tvalidation-rmse:9.37295\n",
            "[3]\tvalidation-rmse:7.30061\n",
            "[4]\tvalidation-rmse:5.97844\n",
            "[5]\tvalidation-rmse:4.95252\n",
            "[6]\tvalidation-rmse:4.42763\n",
            "[7]\tvalidation-rmse:4.27148\n",
            "[8]\tvalidation-rmse:4.20081\n",
            "[9]\tvalidation-rmse:4.0717\n"
          ],
          "name": "stdout"
        },
        {
          "output_type": "stream",
          "text": [
            "[I 2020-07-08 14:10:32,077] Finished trial#898 with value: 3.360979164298037 with parameters: {'combos': 1, 'ada_Scaler': 'log', 'ada_ne': 196, 'ada_lr': 0.6562019367887748, 'et_Scaler': 'stand', 'et_max_depth': 11, 'et_ne': 565, 'xgb_Scaler': 'log', 'booster': 'gbtree', 'lambda': 0.06690594465105844, 'alpha': 0.002080510819462208, 'max_depth': 2, 'eta': 0.3116225696289733, 'gamma': 6.410532473545406e-05, 'grow_policy': 'depthwise'}. Best is trial#881 with value: 3.06716894171875.\n"
          ],
          "name": "stderr"
        },
        {
          "output_type": "stream",
          "text": [
            "[0]\tvalidation-rmse:5.76381\n",
            "[1]\tvalidation-rmse:5.8258\n",
            "[2]\tvalidation-rmse:5.47258\n",
            "[3]\tvalidation-rmse:5.45451\n",
            "[4]\tvalidation-rmse:5.46904\n",
            "[5]\tvalidation-rmse:5.4723\n",
            "[6]\tvalidation-rmse:5.31622\n",
            "[7]\tvalidation-rmse:5.25951\n",
            "[8]\tvalidation-rmse:5.28848\n",
            "[9]\tvalidation-rmse:5.27735\n"
          ],
          "name": "stdout"
        },
        {
          "output_type": "stream",
          "text": [
            "[I 2020-07-08 14:10:33,318] Finished trial#899 with value: 3.482665696604344 with parameters: {'combos': 1, 'ada_Scaler': 'log', 'ada_ne': 89, 'ada_lr': 0.6071227155263123, 'et_Scaler': 'stand', 'et_max_depth': 9, 'et_ne': 618, 'xgb_Scaler': 'log', 'booster': 'gbtree', 'lambda': 0.009856508145722708, 'alpha': 0.00044021385306726695, 'max_depth': 4, 'eta': 0.9923839412246541, 'gamma': 2.8168994311981965e-08, 'grow_policy': 'depthwise'}. Best is trial#881 with value: 3.06716894171875.\n"
          ],
          "name": "stderr"
        },
        {
          "output_type": "stream",
          "text": [
            "[0]\tvalidation-rmse:13.4073\n",
            "[1]\tvalidation-rmse:7.92884\n",
            "[2]\tvalidation-rmse:5.44014\n",
            "[3]\tvalidation-rmse:4.26031\n",
            "[4]\tvalidation-rmse:3.78441\n",
            "[5]\tvalidation-rmse:3.74475\n",
            "[6]\tvalidation-rmse:3.71563\n",
            "[7]\tvalidation-rmse:3.68988\n",
            "[8]\tvalidation-rmse:3.55374\n",
            "[9]\tvalidation-rmse:3.54904\n"
          ],
          "name": "stdout"
        },
        {
          "output_type": "stream",
          "text": [
            "[I 2020-07-08 14:10:34,572] Finished trial#900 with value: 3.1940090311923 with parameters: {'combos': 1, 'ada_Scaler': 'log', 'ada_ne': 152, 'ada_lr': 0.5619761909225314, 'et_Scaler': 'stand', 'et_max_depth': 8, 'et_ne': 593, 'xgb_Scaler': 'log', 'booster': 'gbtree', 'lambda': 0.032400203204084536, 'alpha': 0.0012267392282162516, 'max_depth': 3, 'eta': 0.45942870021549687, 'gamma': 7.512558503118922e-08, 'grow_policy': 'depthwise'}. Best is trial#881 with value: 3.06716894171875.\n",
            "[I 2020-07-08 14:10:35,687] Setting status of trial#901 as TrialState.PRUNED. Trial was pruned at iteration 11.\n"
          ],
          "name": "stderr"
        },
        {
          "output_type": "stream",
          "text": [
            "[0]\tvalidation-rmse:12.3024\n",
            "[1]\tvalidation-rmse:6.90661\n",
            "[2]\tvalidation-rmse:4.92936\n",
            "[3]\tvalidation-rmse:4.27655\n",
            "[4]\tvalidation-rmse:4.18599\n",
            "[5]\tvalidation-rmse:4.26454\n",
            "[6]\tvalidation-rmse:4.29274\n",
            "[7]\tvalidation-rmse:4.22904\n",
            "[8]\tvalidation-rmse:4.21932\n",
            "[9]\tvalidation-rmse:4.23227\n"
          ],
          "name": "stdout"
        },
        {
          "output_type": "stream",
          "text": [
            "[I 2020-07-08 14:10:37,056] Finished trial#902 with value: 3.388598904017916 with parameters: {'combos': 1, 'ada_Scaler': 'log', 'ada_ne': 126, 'ada_lr': 0.5293946100131074, 'et_Scaler': 'stand', 'et_max_depth': 9, 'et_ne': 582, 'xgb_Scaler': 'log', 'booster': 'gbtree', 'lambda': 0.0005242873587485173, 'alpha': 0.001191539226788288, 'max_depth': 3, 'eta': 0.510124826876155, 'gamma': 6.200856488226436e-08, 'grow_policy': 'depthwise'}. Best is trial#881 with value: 3.06716894171875.\n"
          ],
          "name": "stderr"
        },
        {
          "output_type": "stream",
          "text": [
            "[0]\tvalidation-rmse:16.242\n",
            "[1]\tvalidation-rmse:11.226\n",
            "[2]\tvalidation-rmse:8.04035\n",
            "[3]\tvalidation-rmse:6.04748\n",
            "[4]\tvalidation-rmse:4.80681\n",
            "[5]\tvalidation-rmse:4.1605\n",
            "[6]\tvalidation-rmse:3.80861\n",
            "[7]\tvalidation-rmse:3.61093\n",
            "[8]\tvalidation-rmse:3.55924\n",
            "[9]\tvalidation-rmse:3.57405\n"
          ],
          "name": "stdout"
        },
        {
          "output_type": "stream",
          "text": [
            "[I 2020-07-08 14:10:38,315] Finished trial#903 with value: 3.3149785332627917 with parameters: {'combos': 1, 'ada_Scaler': 'log', 'ada_ne': 148, 'ada_lr': 0.4426964391085041, 'et_Scaler': 'stand', 'et_max_depth': 9, 'et_ne': 551, 'xgb_Scaler': 'log', 'booster': 'gbtree', 'lambda': 0.0173659125919232, 'alpha': 0.0009264939105815858, 'max_depth': 3, 'eta': 0.3320184233915498, 'gamma': 3.769578229329988e-08, 'grow_policy': 'depthwise'}. Best is trial#881 with value: 3.06716894171875.\n"
          ],
          "name": "stderr"
        },
        {
          "output_type": "stream",
          "text": [
            "[0]\tvalidation-rmse:6.20005\n",
            "[1]\tvalidation-rmse:5.25605\n",
            "[2]\tvalidation-rmse:5.19285\n",
            "[3]\tvalidation-rmse:5.19206\n",
            "[4]\tvalidation-rmse:5.21989\n",
            "[5]\tvalidation-rmse:5.13917\n",
            "[6]\tvalidation-rmse:5.13909\n",
            "[7]\tvalidation-rmse:5.17556\n",
            "[8]\tvalidation-rmse:5.33606\n",
            "[9]\tvalidation-rmse:5.361\n"
          ],
          "name": "stdout"
        },
        {
          "output_type": "stream",
          "text": [
            "[I 2020-07-08 14:10:39,677] Finished trial#904 with value: 3.6045696407632066 with parameters: {'combos': 1, 'ada_Scaler': 'log', 'ada_ne': 141, 'ada_lr': 0.5039949637082652, 'et_Scaler': 'stand', 'et_max_depth': 10, 'et_ne': 591, 'xgb_Scaler': 'log', 'booster': 'gbtree', 'lambda': 0.028527333519415537, 'alpha': 0.0016826918275021203, 'max_depth': 3, 'eta': 0.9904501652411117, 'gamma': 2.4066073070068106e-08, 'grow_policy': 'depthwise'}. Best is trial#881 with value: 3.06716894171875.\n"
          ],
          "name": "stderr"
        },
        {
          "output_type": "stream",
          "text": [
            "[0]\tvalidation-rmse:10.7643\n",
            "[1]\tvalidation-rmse:5.83095\n",
            "[2]\tvalidation-rmse:4.05142\n",
            "[3]\tvalidation-rmse:3.89841\n",
            "[4]\tvalidation-rmse:3.87656\n",
            "[5]\tvalidation-rmse:3.94671\n",
            "[6]\tvalidation-rmse:3.98559\n",
            "[7]\tvalidation-rmse:3.9677\n",
            "[8]\tvalidation-rmse:3.8527\n",
            "[9]\tvalidation-rmse:3.88709\n"
          ],
          "name": "stdout"
        },
        {
          "output_type": "stream",
          "text": [
            "[I 2020-07-08 14:10:41,044] Finished trial#905 with value: 3.2428736498285318 with parameters: {'combos': 1, 'ada_Scaler': 'log', 'ada_ne': 118, 'ada_lr': 0.5591618349320895, 'et_Scaler': 'stand', 'et_max_depth': 11, 'et_ne': 602, 'xgb_Scaler': 'log', 'booster': 'gbtree', 'lambda': 0.03353800044387874, 'alpha': 5.701661887376225e-05, 'max_depth': 3, 'eta': 0.584764781312641, 'gamma': 1.5754414804349822e-08, 'grow_policy': 'depthwise'}. Best is trial#881 with value: 3.06716894171875.\n"
          ],
          "name": "stderr"
        },
        {
          "output_type": "stream",
          "text": [
            "[0]\tvalidation-rmse:18.312\n",
            "[1]\tvalidation-rmse:14.115\n",
            "[2]\tvalidation-rmse:10.9924\n",
            "[3]\tvalidation-rmse:8.74595\n",
            "[4]\tvalidation-rmse:7.07127\n",
            "[5]\tvalidation-rmse:5.90195\n",
            "[6]\tvalidation-rmse:5.19501\n",
            "[7]\tvalidation-rmse:4.59627\n",
            "[8]\tvalidation-rmse:4.29185\n",
            "[9]\tvalidation-rmse:4.12855\n"
          ],
          "name": "stdout"
        },
        {
          "output_type": "stream",
          "text": [
            "[I 2020-07-08 14:10:42,304] Finished trial#906 with value: 3.4759928175941477 with parameters: {'combos': 1, 'ada_Scaler': 'log', 'ada_ne': 156, 'ada_lr': 0.2831909005187232, 'et_Scaler': 'stand', 'et_max_depth': 8, 'et_ne': 530, 'xgb_Scaler': 'log', 'booster': 'gbtree', 'lambda': 0.013515958869046545, 'alpha': 0.0015828349235511461, 'max_depth': 3, 'eta': 0.24165317283267435, 'gamma': 6.847691200032634e-08, 'grow_policy': 'depthwise'}. Best is trial#881 with value: 3.06716894171875.\n"
          ],
          "name": "stderr"
        },
        {
          "output_type": "stream",
          "text": [
            "[0]\tvalidation-rmse:14.2628\n",
            "[1]\tvalidation-rmse:8.87867\n",
            "[2]\tvalidation-rmse:6.02896\n",
            "[3]\tvalidation-rmse:4.65675\n",
            "[4]\tvalidation-rmse:3.99486\n",
            "[5]\tvalidation-rmse:3.81774\n",
            "[6]\tvalidation-rmse:3.76616\n",
            "[7]\tvalidation-rmse:3.74389\n",
            "[8]\tvalidation-rmse:3.64959\n",
            "[9]\tvalidation-rmse:3.68854\n"
          ],
          "name": "stdout"
        },
        {
          "output_type": "stream",
          "text": [
            "[I 2020-07-08 14:10:43,638] Finished trial#907 with value: 3.396365476952225 with parameters: {'combos': 1, 'ada_Scaler': 'log', 'ada_ne': 91, 'ada_lr': 0.5608309890498261, 'et_Scaler': 'stand', 'et_max_depth': 12, 'et_ne': 578, 'xgb_Scaler': 'log', 'booster': 'gbtree', 'lambda': 0.020616368315900163, 'alpha': 0.0005545633846766767, 'max_depth': 3, 'eta': 0.42027044134531644, 'gamma': 4.272876305067703e-08, 'grow_policy': 'depthwise'}. Best is trial#881 with value: 3.06716894171875.\n"
          ],
          "name": "stderr"
        },
        {
          "output_type": "stream",
          "text": [
            "[0]\tvalidation-rmse:7.67171\n",
            "[1]\tvalidation-rmse:5.13534\n",
            "[2]\tvalidation-rmse:4.46194\n",
            "[3]\tvalidation-rmse:4.49083\n",
            "[4]\tvalidation-rmse:4.31764\n",
            "[5]\tvalidation-rmse:4.15746\n",
            "[6]\tvalidation-rmse:4.15453\n",
            "[7]\tvalidation-rmse:4.10526\n",
            "[8]\tvalidation-rmse:4.11241\n",
            "[9]\tvalidation-rmse:4.03695\n"
          ],
          "name": "stdout"
        },
        {
          "output_type": "stream",
          "text": [
            "[I 2020-07-08 14:10:45,006] Finished trial#908 with value: 3.154866038108024 with parameters: {'combos': 1, 'ada_Scaler': 'log', 'ada_ne': 134, 'ada_lr': 0.5390068113650405, 'et_Scaler': 'stand', 'et_max_depth': 9, 'et_ne': 645, 'xgb_Scaler': 'log', 'booster': 'gbtree', 'lambda': 0.03584845959755057, 'alpha': 0.001365349238303053, 'max_depth': 3, 'eta': 0.7566126515898245, 'gamma': 2.0246451429380575e-08, 'grow_policy': 'depthwise'}. Best is trial#881 with value: 3.06716894171875.\n"
          ],
          "name": "stderr"
        },
        {
          "output_type": "stream",
          "text": [
            "[0]\tvalidation-rmse:5.40034\n",
            "[1]\tvalidation-rmse:5.14361\n",
            "[2]\tvalidation-rmse:5.07916\n",
            "[3]\tvalidation-rmse:5.09235\n",
            "[4]\tvalidation-rmse:5.12444\n",
            "[5]\tvalidation-rmse:5.24499\n",
            "[6]\tvalidation-rmse:5.13313\n",
            "[7]\tvalidation-rmse:5.04491\n",
            "[8]\tvalidation-rmse:5.0389\n",
            "[9]\tvalidation-rmse:5.15614\n"
          ],
          "name": "stdout"
        },
        {
          "output_type": "stream",
          "text": [
            "[I 2020-07-08 14:10:46,340] Finished trial#909 with value: 3.492509169157693 with parameters: {'combos': 1, 'ada_Scaler': 'log', 'ada_ne': 46, 'ada_lr': 0.45801990037149853, 'et_Scaler': 'stand', 'et_max_depth': 10, 'et_ne': 689, 'xgb_Scaler': 'log', 'booster': 'gbtree', 'lambda': 0.04238413258657625, 'alpha': 0.002339976219015014, 'max_depth': 3, 'eta': 0.9869161201234609, 'gamma': 1.3081698714203795e-08, 'grow_policy': 'depthwise'}. Best is trial#881 with value: 3.06716894171875.\n",
            "[I 2020-07-08 14:10:47,748] Setting status of trial#910 as TrialState.PRUNED. Trial was pruned at iteration 18.\n"
          ],
          "name": "stderr"
        },
        {
          "output_type": "stream",
          "text": [
            "[0]\tvalidation-rmse:8.50498\n",
            "[1]\tvalidation-rmse:5.19726\n",
            "[2]\tvalidation-rmse:4.33033\n",
            "[3]\tvalidation-rmse:4.21216\n",
            "[4]\tvalidation-rmse:4.26365\n",
            "[5]\tvalidation-rmse:4.30034\n",
            "[6]\tvalidation-rmse:4.26284\n",
            "[7]\tvalidation-rmse:4.21165\n",
            "[8]\tvalidation-rmse:4.21171\n",
            "[9]\tvalidation-rmse:4.2842\n"
          ],
          "name": "stdout"
        },
        {
          "output_type": "stream",
          "text": [
            "[I 2020-07-08 14:10:49,162] Finished trial#911 with value: 3.19389406710789 with parameters: {'combos': 1, 'ada_Scaler': 'log', 'ada_ne': 78, 'ada_lr': 0.7150461709796595, 'et_Scaler': 'stand', 'et_max_depth': 9, 'et_ne': 668, 'xgb_Scaler': 'log', 'booster': 'gbtree', 'lambda': 0.007182898138726567, 'alpha': 0.0037363523602249133, 'max_depth': 3, 'eta': 0.7053535390043767, 'gamma': 1.7361391051822976e-08, 'grow_policy': 'lossguide'}. Best is trial#881 with value: 3.06716894171875.\n"
          ],
          "name": "stderr"
        },
        {
          "output_type": "stream",
          "text": [
            "[0]\tvalidation-rmse:5.9214\n",
            "[1]\tvalidation-rmse:5.52669\n",
            "[2]\tvalidation-rmse:5.20112\n",
            "[3]\tvalidation-rmse:4.95158\n",
            "[4]\tvalidation-rmse:4.91245\n",
            "[5]\tvalidation-rmse:4.80791\n",
            "[6]\tvalidation-rmse:4.82615\n",
            "[7]\tvalidation-rmse:4.91422\n",
            "[8]\tvalidation-rmse:4.98921\n",
            "[9]\tvalidation-rmse:4.97459\n"
          ],
          "name": "stdout"
        },
        {
          "output_type": "stream",
          "text": [
            "[I 2020-07-08 14:10:50,527] Finished trial#912 with value: 3.5059496620677977 with parameters: {'combos': 1, 'ada_Scaler': 'log', 'ada_ne': 98, 'ada_lr': 0.4898648845556758, 'et_Scaler': 'stand', 'et_max_depth': 9, 'et_ne': 696, 'xgb_Scaler': 'log', 'booster': 'gbtree', 'lambda': 7.795590886789754e-05, 'alpha': 0.003016214474080531, 'max_depth': 2, 'eta': 0.990815601332237, 'gamma': 1.0184227402600371e-08, 'grow_policy': 'depthwise'}. Best is trial#881 with value: 3.06716894171875.\n"
          ],
          "name": "stderr"
        },
        {
          "output_type": "stream",
          "text": [
            "[0]\tvalidation-rmse:8.83985\n",
            "[1]\tvalidation-rmse:4.78695\n",
            "[2]\tvalidation-rmse:4.0246\n",
            "[3]\tvalidation-rmse:3.86266\n",
            "[4]\tvalidation-rmse:3.89911\n",
            "[5]\tvalidation-rmse:3.91789\n",
            "[6]\tvalidation-rmse:3.96056\n",
            "[7]\tvalidation-rmse:3.99139\n",
            "[8]\tvalidation-rmse:4.14969\n",
            "[9]\tvalidation-rmse:4.14957\n"
          ],
          "name": "stdout"
        },
        {
          "output_type": "stream",
          "text": [
            "[I 2020-07-08 14:10:51,962] Finished trial#913 with value: 3.2474477917253974 with parameters: {'combos': 1, 'ada_Scaler': 'log', 'ada_ne': 135, 'ada_lr': 0.3140306816713246, 'et_Scaler': 'stand', 'et_max_depth': 10, 'et_ne': 655, 'xgb_Scaler': 'log', 'booster': 'gbtree', 'lambda': 0.04968381208995827, 'alpha': 0.046646288222389254, 'max_depth': 3, 'eta': 0.6743227382317079, 'gamma': 2.1889726194779344e-08, 'grow_policy': 'depthwise'}. Best is trial#881 with value: 3.06716894171875.\n"
          ],
          "name": "stderr"
        },
        {
          "output_type": "stream",
          "text": [
            "[0]\tvalidation-rmse:7.88761\n",
            "[1]\tvalidation-rmse:5.15386\n",
            "[2]\tvalidation-rmse:4.45343\n",
            "[3]\tvalidation-rmse:4.42363\n",
            "[4]\tvalidation-rmse:4.42789\n",
            "[5]\tvalidation-rmse:4.53094\n",
            "[6]\tvalidation-rmse:4.43777\n",
            "[7]\tvalidation-rmse:4.40695\n",
            "[8]\tvalidation-rmse:4.34395\n",
            "[9]\tvalidation-rmse:4.3157\n"
          ],
          "name": "stdout"
        },
        {
          "output_type": "stream",
          "text": [
            "[I 2020-07-08 14:10:53,271] Finished trial#914 with value: 3.3375593510837063 with parameters: {'combos': 1, 'ada_Scaler': 'log', 'ada_ne': 111, 'ada_lr': 0.5273322397802684, 'et_Scaler': 'minmax', 'et_max_depth': 9, 'et_ne': 639, 'xgb_Scaler': 'log', 'booster': 'gbtree', 'lambda': 0.02230843674198713, 'alpha': 0.002282422952661176, 'max_depth': 3, 'eta': 0.7429960092939961, 'gamma': 2.4348963016551146e-08, 'grow_policy': 'depthwise'}. Best is trial#881 with value: 3.06716894171875.\n"
          ],
          "name": "stderr"
        },
        {
          "output_type": "stream",
          "text": [
            "[0]\tvalidation-rmse:23.9807\n",
            "[1]\tvalidation-rmse:23.9807\n",
            "[2]\tvalidation-rmse:23.9807\n",
            "[3]\tvalidation-rmse:23.9806\n",
            "[4]\tvalidation-rmse:23.9806\n",
            "[5]\tvalidation-rmse:23.9806\n",
            "[6]\tvalidation-rmse:23.9806\n",
            "[7]\tvalidation-rmse:23.9806\n",
            "[8]\tvalidation-rmse:23.9806\n",
            "[9]\tvalidation-rmse:23.9805\n"
          ],
          "name": "stdout"
        },
        {
          "output_type": "stream",
          "text": [
            "[I 2020-07-08 14:10:54,693] Finished trial#915 with value: 8.373987533951992 with parameters: {'combos': 1, 'ada_Scaler': 'log', 'ada_ne': 140, 'ada_lr': 0.6801036457991713, 'et_Scaler': 'stand', 'et_max_depth': 10, 'et_ne': 645, 'xgb_Scaler': 'log', 'booster': 'gbtree', 'lambda': 0.22654145285718916, 'alpha': 0.005278965367495496, 'max_depth': 1, 'eta': 7.242664694689295e-07, 'gamma': 3.1438784204130796e-08, 'grow_policy': 'depthwise'}. Best is trial#881 with value: 3.06716894171875.\n"
          ],
          "name": "stderr"
        },
        {
          "output_type": "stream",
          "text": [
            "[0]\tvalidation-rmse:5.76011\n",
            "[1]\tvalidation-rmse:5.81525\n",
            "[2]\tvalidation-rmse:5.46016\n",
            "[3]\tvalidation-rmse:5.43991\n",
            "[4]\tvalidation-rmse:5.4545\n",
            "[5]\tvalidation-rmse:5.5561\n",
            "[6]\tvalidation-rmse:5.44902\n",
            "[7]\tvalidation-rmse:5.44957\n",
            "[8]\tvalidation-rmse:5.49996\n",
            "[9]\tvalidation-rmse:5.50696\n"
          ],
          "name": "stdout"
        },
        {
          "output_type": "stream",
          "text": [
            "[I 2020-07-08 14:10:56,135] Finished trial#916 with value: 3.559233426244459 with parameters: {'combos': 1, 'ada_Scaler': 'log', 'ada_ne': 167, 'ada_lr': 0.49552536017376103, 'et_Scaler': 'stand', 'et_max_depth': 9, 'et_ne': 664, 'xgb_Scaler': 'log', 'booster': 'gbtree', 'lambda': 0.016169043905732906, 'alpha': 0.0013330687630873845, 'max_depth': 4, 'eta': 0.9965016552247191, 'gamma': 1.771295256145728e-08, 'grow_policy': 'depthwise'}. Best is trial#881 with value: 3.06716894171875.\n"
          ],
          "name": "stderr"
        },
        {
          "output_type": "stream",
          "text": [
            "[0]\tvalidation-rmse:11.9679\n",
            "[1]\tvalidation-rmse:6.50274\n",
            "[2]\tvalidation-rmse:4.31173\n",
            "[3]\tvalidation-rmse:3.66158\n",
            "[4]\tvalidation-rmse:3.53267\n",
            "[5]\tvalidation-rmse:3.64971\n",
            "[6]\tvalidation-rmse:3.67706\n",
            "[7]\tvalidation-rmse:3.70623\n",
            "[8]\tvalidation-rmse:3.73792\n",
            "[9]\tvalidation-rmse:3.90838\n"
          ],
          "name": "stdout"
        },
        {
          "output_type": "stream",
          "text": [
            "[I 2020-07-08 14:10:57,530] Finished trial#917 with value: 3.231406171468154 with parameters: {'combos': 1, 'ada_Scaler': 'log', 'ada_ne': 131, 'ada_lr': 0.5821014425186496, 'et_Scaler': 'stand', 'et_max_depth': 10, 'et_ne': 632, 'xgb_Scaler': 'log', 'booster': 'gbtree', 'lambda': 0.051722482439373996, 'alpha': 0.0006999667750303648, 'max_depth': 3, 'eta': 0.522908783921259, 'gamma': 1.0616319996638699e-08, 'grow_policy': 'depthwise'}. Best is trial#881 with value: 3.06716894171875.\n"
          ],
          "name": "stderr"
        },
        {
          "output_type": "stream",
          "text": [
            "[0]\tvalidation-rmse:23.8665\n",
            "[1]\tvalidation-rmse:23.753\n",
            "[2]\tvalidation-rmse:23.64\n",
            "[3]\tvalidation-rmse:23.5276\n",
            "[4]\tvalidation-rmse:23.4157\n",
            "[5]\tvalidation-rmse:23.3045\n",
            "[6]\tvalidation-rmse:23.1939\n",
            "[7]\tvalidation-rmse:23.0826\n",
            "[8]\tvalidation-rmse:22.9731\n",
            "[9]\tvalidation-rmse:22.8631\n"
          ],
          "name": "stdout"
        },
        {
          "output_type": "stream",
          "text": [
            "[I 2020-07-08 14:10:58,785] Finished trial#918 with value: 7.968713725171339 with parameters: {'combos': 1, 'ada_Scaler': 'log', 'ada_ne': 101, 'ada_lr': 0.6389979249641005, 'et_Scaler': 'stand', 'et_max_depth': 9, 'et_ne': 624, 'xgb_Scaler': 'log', 'booster': 'gbtree', 'lambda': 0.38267068000400256, 'alpha': 0.9707309588132665, 'max_depth': 3, 'eta': 0.0050639287899966485, 'gamma': 2.9433792366974467e-08, 'grow_policy': 'depthwise'}. Best is trial#881 with value: 3.06716894171875.\n"
          ],
          "name": "stderr"
        },
        {
          "output_type": "stream",
          "text": [
            "[0]\tvalidation-rmse:15.7682\n",
            "[1]\tvalidation-rmse:10.6242\n",
            "[2]\tvalidation-rmse:7.478\n",
            "[3]\tvalidation-rmse:5.56804\n",
            "[4]\tvalidation-rmse:4.44731\n",
            "[5]\tvalidation-rmse:3.96234\n",
            "[6]\tvalidation-rmse:3.70957\n",
            "[7]\tvalidation-rmse:3.63807\n",
            "[8]\tvalidation-rmse:3.55988\n",
            "[9]\tvalidation-rmse:3.56411\n"
          ],
          "name": "stdout"
        },
        {
          "output_type": "stream",
          "text": [
            "[I 2020-07-08 14:10:59,491] Finished trial#919 with value: 3.285800515250985 with parameters: {'combos': 5, 'ada_Scaler': 'log', 'ada_ne': 178, 'ada_lr': 0.7283891546618767, 'xgb_Scaler': 'log', 'booster': 'gbtree', 'lambda': 0.02888933109901859, 'alpha': 0.0034713003889247974, 'max_depth': 3, 'eta': 0.35316209827656275, 'gamma': 1.486031675874013e-08, 'grow_policy': 'depthwise', 'gbm_Scaler': 'stand', 'lambda_l1': 4.188954055438291e-07, 'lambda_l2': 3.833146405186018, 'num_leaves': 185, 'feature_fraction': 0.678109089619909, 'bagging_fraction': 0.9264809671118894, 'bagging_freq': 7, 'min_child_samples': 83}. Best is trial#881 with value: 3.06716894171875.\n"
          ],
          "name": "stderr"
        },
        {
          "output_type": "stream",
          "text": [
            "[0]\tvalidation-rmse:10.5378\n",
            "[1]\tvalidation-rmse:5.5146\n",
            "[2]\tvalidation-rmse:4.24755\n",
            "[3]\tvalidation-rmse:3.94245\n",
            "[4]\tvalidation-rmse:3.90822\n",
            "[5]\tvalidation-rmse:3.99174\n",
            "[6]\tvalidation-rmse:3.91788\n",
            "[7]\tvalidation-rmse:3.87931\n",
            "[8]\tvalidation-rmse:3.81785\n",
            "[9]\tvalidation-rmse:3.83876\n"
          ],
          "name": "stdout"
        },
        {
          "output_type": "stream",
          "text": [
            "[I 2020-07-08 14:11:00,942] Finished trial#920 with value: 3.3351826843453987 with parameters: {'combos': 1, 'ada_Scaler': 'minmax', 'ada_ne': 153, 'ada_lr': 0.774097829050917, 'et_Scaler': 'stand', 'et_max_depth': 10, 'et_ne': 651, 'xgb_Scaler': 'log', 'booster': 'gbtree', 'lambda': 0.09844011084484255, 'alpha': 0.017367577501999958, 'max_depth': 3, 'eta': 0.5912944699145654, 'gamma': 2.1412087636778182e-08, 'grow_policy': 'depthwise'}. Best is trial#881 with value: 3.06716894171875.\n"
          ],
          "name": "stderr"
        },
        {
          "output_type": "stream",
          "text": [
            "[0]\tvalidation-rmse:8.63358\n",
            "[1]\tvalidation-rmse:8.01355\n",
            "[2]\tvalidation-rmse:7.76275\n",
            "[3]\tvalidation-rmse:7.61407\n",
            "[4]\tvalidation-rmse:7.51534\n",
            "[5]\tvalidation-rmse:7.43482\n",
            "[6]\tvalidation-rmse:7.36423\n",
            "[7]\tvalidation-rmse:7.29957\n",
            "[8]\tvalidation-rmse:7.23869\n",
            "[9]\tvalidation-rmse:7.18041\n"
          ],
          "name": "stdout"
        },
        {
          "output_type": "stream",
          "text": [
            "[I 2020-07-08 14:11:02,207] Finished trial#921 with value: 3.948230075285069 with parameters: {'combos': 1, 'ada_Scaler': 'log', 'ada_ne': 74, 'ada_lr': 0.5407251128124589, 'et_Scaler': 'stand', 'et_max_depth': 9, 'et_ne': 672, 'xgb_Scaler': 'log', 'booster': 'gblinear', 'lambda': 0.05700339441588202, 'alpha': 0.026070268447770436}. Best is trial#881 with value: 3.06716894171875.\n"
          ],
          "name": "stderr"
        },
        {
          "output_type": "stream",
          "text": [
            "[0]\tvalidation-rmse:8.28461\n",
            "[1]\tvalidation-rmse:5.54874\n",
            "[2]\tvalidation-rmse:5.08074\n",
            "[3]\tvalidation-rmse:5.10323\n",
            "[4]\tvalidation-rmse:4.88948\n",
            "[5]\tvalidation-rmse:4.8462\n",
            "[6]\tvalidation-rmse:4.71482\n",
            "[7]\tvalidation-rmse:4.69051\n",
            "[8]\tvalidation-rmse:4.65231\n",
            "[9]\tvalidation-rmse:4.70626\n"
          ],
          "name": "stdout"
        },
        {
          "output_type": "stream",
          "text": [
            "[I 2020-07-08 14:11:02,482] Setting status of trial#922 as TrialState.PRUNED. Trial was pruned at iteration 20.\n",
            "[I 2020-07-08 14:11:03,954] Setting status of trial#923 as TrialState.PRUNED. Trial was pruned at iteration 11.\n"
          ],
          "name": "stderr"
        },
        {
          "output_type": "stream",
          "text": [
            "[0]\tvalidation-rmse:23.9804\n",
            "[1]\tvalidation-rmse:23.9801\n",
            "[2]\tvalidation-rmse:23.9798\n",
            "[3]\tvalidation-rmse:23.9795\n",
            "[4]\tvalidation-rmse:23.9792\n",
            "[5]\tvalidation-rmse:23.9789\n",
            "[6]\tvalidation-rmse:23.9786\n",
            "[7]\tvalidation-rmse:23.9784\n",
            "[8]\tvalidation-rmse:23.9781\n",
            "[9]\tvalidation-rmse:23.9778\n"
          ],
          "name": "stdout"
        },
        {
          "output_type": "stream",
          "text": [
            "[I 2020-07-08 14:11:05,596] Finished trial#924 with value: 8.309124093217433 with parameters: {'combos': 1, 'ada_Scaler': 'log', 'ada_ne': 201, 'ada_lr': 0.667673636427068, 'et_Scaler': 'stand', 'et_max_depth': 10, 'et_ne': 633, 'xgb_Scaler': 'log', 'booster': 'gbtree', 'lambda': 0.17196705533885684, 'alpha': 0.009666972106202744, 'max_depth': 2, 'eta': 1.3087832402108401e-05, 'gamma': 4.851080476728521e-08, 'grow_policy': 'depthwise'}. Best is trial#881 with value: 3.06716894171875.\n"
          ],
          "name": "stderr"
        },
        {
          "output_type": "stream",
          "text": [
            "[0]\tvalidation-rmse:19.0281\n",
            "[1]\tvalidation-rmse:15.1275\n",
            "[2]\tvalidation-rmse:12.1408\n",
            "[3]\tvalidation-rmse:9.88953\n",
            "[4]\tvalidation-rmse:8.1257\n",
            "[5]\tvalidation-rmse:6.69147\n",
            "[6]\tvalidation-rmse:5.7447\n",
            "[7]\tvalidation-rmse:5.02403\n",
            "[8]\tvalidation-rmse:4.50289\n",
            "[9]\tvalidation-rmse:4.19045\n"
          ],
          "name": "stdout"
        },
        {
          "output_type": "stream",
          "text": [
            "[I 2020-07-08 14:11:06,954] Finished trial#925 with value: 3.3887451955841357 with parameters: {'combos': 1, 'ada_Scaler': 'log', 'ada_ne': 165, 'ada_lr': 0.6343127078101878, 'et_Scaler': 'stand', 'et_max_depth': 9, 'et_ne': 608, 'xgb_Scaler': 'log', 'booster': 'gbtree', 'lambda': 0.0210424108807893, 'alpha': 0.004676531605439689, 'max_depth': 3, 'eta': 0.21085475981558624, 'gamma': 2.9578679416779915e-08, 'grow_policy': 'depthwise'}. Best is trial#881 with value: 3.06716894171875.\n"
          ],
          "name": "stderr"
        },
        {
          "output_type": "stream",
          "text": [
            "[0]\tvalidation-rmse:15.5624\n",
            "[1]\tvalidation-rmse:10.2431\n",
            "[2]\tvalidation-rmse:7.07207\n",
            "[3]\tvalidation-rmse:5.23994\n",
            "[4]\tvalidation-rmse:4.25552\n",
            "[5]\tvalidation-rmse:3.84055\n",
            "[6]\tvalidation-rmse:3.69025\n",
            "[7]\tvalidation-rmse:3.63548\n",
            "[8]\tvalidation-rmse:3.66923\n",
            "[9]\tvalidation-rmse:3.64592\n"
          ],
          "name": "stdout"
        },
        {
          "output_type": "stream",
          "text": [
            "[I 2020-07-08 14:11:08,643] Finished trial#926 with value: 3.2864857692510423 with parameters: {'combos': 1, 'ada_Scaler': 'log', 'ada_ne': 234, 'ada_lr': 0.40018679466283696, 'et_Scaler': 'stand', 'et_max_depth': 11, 'et_ne': 656, 'xgb_Scaler': 'log', 'booster': 'dart', 'lambda': 0.01040102022529759, 'alpha': 0.10012689857884635, 'max_depth': 4, 'eta': 0.35430242498836256, 'gamma': 1.9844179906762448e-08, 'grow_policy': 'depthwise', 'sample_type': 'uniform', 'normalize_type': 'tree', 'rate_drop': 1.0007661243813652e-05, 'skip_drop': 0.0005132151811509147}. Best is trial#881 with value: 3.06716894171875.\n"
          ],
          "name": "stderr"
        },
        {
          "output_type": "stream",
          "text": [
            "[0]\tvalidation-rmse:5.19661\n",
            "[1]\tvalidation-rmse:5.01581\n",
            "[2]\tvalidation-rmse:4.93917\n",
            "[3]\tvalidation-rmse:4.9583\n",
            "[4]\tvalidation-rmse:5.56325\n",
            "[5]\tvalidation-rmse:5.45285\n",
            "[6]\tvalidation-rmse:5.37273\n",
            "[7]\tvalidation-rmse:5.34237\n",
            "[8]\tvalidation-rmse:5.48013\n",
            "[9]\tvalidation-rmse:5.49379\n"
          ],
          "name": "stdout"
        },
        {
          "output_type": "stream",
          "text": [
            "[I 2020-07-08 14:11:10,043] Finished trial#927 with value: 3.606261977820757 with parameters: {'combos': 1, 'ada_Scaler': 'log', 'ada_ne': 181, 'ada_lr': 0.5723110591794374, 'et_Scaler': 'stand', 'et_max_depth': 9, 'et_ne': 624, 'xgb_Scaler': 'stand', 'booster': 'gbtree', 'lambda': 0.07466624741585648, 'alpha': 0.012742329707649847, 'max_depth': 3, 'eta': 0.9849012579269492, 'gamma': 1.3115728648088566e-08, 'grow_policy': 'lossguide'}. Best is trial#881 with value: 3.06716894171875.\n"
          ],
          "name": "stderr"
        },
        {
          "output_type": "stream",
          "text": [
            "[0]\tvalidation-rmse:11.5712\n",
            "[1]\tvalidation-rmse:6.35677\n",
            "[2]\tvalidation-rmse:4.39341\n",
            "[3]\tvalidation-rmse:3.83509\n",
            "[4]\tvalidation-rmse:3.79653\n",
            "[5]\tvalidation-rmse:3.85223\n",
            "[6]\tvalidation-rmse:3.82243\n",
            "[7]\tvalidation-rmse:3.93616\n",
            "[8]\tvalidation-rmse:3.90944\n",
            "[9]\tvalidation-rmse:3.90093\n"
          ],
          "name": "stdout"
        },
        {
          "output_type": "stream",
          "text": [
            "[I 2020-07-08 14:11:11,411] Finished trial#928 with value: 3.2350663449884736 with parameters: {'combos': 1, 'ada_Scaler': 'log', 'ada_ne': 108, 'ada_lr': 0.6835227073069604, 'et_Scaler': 'stand', 'et_max_depth': 10, 'et_ne': 643, 'xgb_Scaler': 'log', 'booster': 'gbtree', 'lambda': 4.487481103821159e-07, 'alpha': 0.00741792655765804, 'max_depth': 3, 'eta': 0.544935670035991, 'gamma': 4.53822522367754e-08, 'grow_policy': 'depthwise'}. Best is trial#881 with value: 3.06716894171875.\n"
          ],
          "name": "stderr"
        },
        {
          "output_type": "stream",
          "text": [
            "[0]\tvalidation-rmse:17.0479\n",
            "[1]\tvalidation-rmse:12.3536\n",
            "[2]\tvalidation-rmse:9.12364\n",
            "[3]\tvalidation-rmse:6.98996\n",
            "[4]\tvalidation-rmse:5.78842\n",
            "[5]\tvalidation-rmse:5.01771\n",
            "[6]\tvalidation-rmse:4.54391\n",
            "[7]\tvalidation-rmse:4.2295\n",
            "[8]\tvalidation-rmse:4.10774\n",
            "[9]\tvalidation-rmse:4.03622\n"
          ],
          "name": "stdout"
        },
        {
          "output_type": "stream",
          "text": [
            "[I 2020-07-08 14:11:12,752] Finished trial#929 with value: 3.397392077090035 with parameters: {'combos': 1, 'ada_Scaler': 'log', 'ada_ne': 146, 'ada_lr': 0.6040629564709744, 'et_Scaler': 'stand', 'et_max_depth': 9, 'et_ne': 608, 'xgb_Scaler': 'log', 'booster': 'gbtree', 'lambda': 0.04317856121893598, 'alpha': 0.03178280350783026, 'max_depth': 3, 'eta': 0.296555103065709, 'gamma': 3.043984198932822e-08, 'grow_policy': 'depthwise'}. Best is trial#881 with value: 3.06716894171875.\n"
          ],
          "name": "stderr"
        },
        {
          "output_type": "stream",
          "text": [
            "[0]\tvalidation-rmse:7.9356\n",
            "[1]\tvalidation-rmse:4.70156\n",
            "[2]\tvalidation-rmse:4.1603\n",
            "[3]\tvalidation-rmse:4.09908\n",
            "[4]\tvalidation-rmse:4.10937\n",
            "[5]\tvalidation-rmse:3.96797\n",
            "[6]\tvalidation-rmse:3.95127\n",
            "[7]\tvalidation-rmse:3.95466\n",
            "[8]\tvalidation-rmse:4.02502\n",
            "[9]\tvalidation-rmse:3.97467\n"
          ],
          "name": "stdout"
        },
        {
          "output_type": "stream",
          "text": [
            "[I 2020-07-08 14:11:14,270] Finished trial#930 with value: 3.2491539993093337 with parameters: {'combos': 1, 'ada_Scaler': 'log', 'ada_ne': 163, 'ada_lr': 0.4612899976818497, 'et_Scaler': 'stand', 'et_max_depth': 10, 'et_ne': 680, 'xgb_Scaler': 'log', 'booster': 'gbtree', 'lambda': 0.12806450031051572, 'alpha': 0.0022726034019385746, 'max_depth': 3, 'eta': 0.7299826300559009, 'gamma': 1.2299848974852648e-07, 'grow_policy': 'depthwise'}. Best is trial#881 with value: 3.06716894171875.\n",
            "[I 2020-07-08 14:11:15,419] Setting status of trial#931 as TrialState.PRUNED. Trial was pruned at iteration 11.\n"
          ],
          "name": "stderr"
        },
        {
          "output_type": "stream",
          "text": [
            "[0]\tvalidation-rmse:5.44782\n",
            "[1]\tvalidation-rmse:5.18453\n",
            "[2]\tvalidation-rmse:5.11728\n",
            "[3]\tvalidation-rmse:5.12872\n",
            "[4]\tvalidation-rmse:5.16037\n",
            "[5]\tvalidation-rmse:5.08523\n",
            "[6]\tvalidation-rmse:5.14429\n",
            "[7]\tvalidation-rmse:5.16657\n",
            "[8]\tvalidation-rmse:5.09739\n",
            "[9]\tvalidation-rmse:5.16338\n"
          ],
          "name": "stdout"
        },
        {
          "output_type": "stream",
          "text": [
            "[I 2020-07-08 14:11:17,061] Finished trial#932 with value: 3.461332648214134 with parameters: {'combos': 1, 'ada_Scaler': 'log', 'ada_ne': 203, 'ada_lr': 0.7193445179644757, 'et_Scaler': 'stand', 'et_max_depth': 10, 'et_ne': 643, 'xgb_Scaler': 'log', 'booster': 'gbtree', 'lambda': 0.02483506103923378, 'alpha': 0.4006171731039669, 'max_depth': 3, 'eta': 0.9962758054595622, 'gamma': 1.8718863447561135e-08, 'grow_policy': 'depthwise'}. Best is trial#881 with value: 3.06716894171875.\n"
          ],
          "name": "stderr"
        },
        {
          "output_type": "stream",
          "text": [
            "[0]\tvalidation-rmse:14.406\n",
            "[1]\tvalidation-rmse:8.97585\n",
            "[2]\tvalidation-rmse:6.19044\n",
            "[3]\tvalidation-rmse:4.62022\n",
            "[4]\tvalidation-rmse:4.03207\n",
            "[5]\tvalidation-rmse:3.90243\n",
            "[6]\tvalidation-rmse:3.82579\n",
            "[7]\tvalidation-rmse:3.80493\n",
            "[8]\tvalidation-rmse:3.81234\n",
            "[9]\tvalidation-rmse:3.82962\n"
          ],
          "name": "stdout"
        },
        {
          "output_type": "stream",
          "text": [
            "[I 2020-07-08 14:11:18,624] Finished trial#933 with value: 3.346560999316814 with parameters: {'combos': 1, 'ada_Scaler': 'log', 'ada_ne': 218, 'ada_lr': 0.7792073395856355, 'et_Scaler': 'stand', 'et_max_depth': 11, 'et_ne': 608, 'xgb_Scaler': 'log', 'booster': 'gbtree', 'lambda': 0.06500126035705907, 'alpha': 0.01957242629843909, 'max_depth': 3, 'eta': 0.4130337333315358, 'gamma': 5.618389129938349e-08, 'grow_policy': 'depthwise'}. Best is trial#881 with value: 3.06716894171875.\n"
          ],
          "name": "stderr"
        },
        {
          "output_type": "stream",
          "text": [
            "[0]\tvalidation-rmse:11.8607\n",
            "[1]\tvalidation-rmse:6.5557\n",
            "[2]\tvalidation-rmse:4.45227\n",
            "[3]\tvalidation-rmse:3.8101\n",
            "[4]\tvalidation-rmse:3.72823\n",
            "[5]\tvalidation-rmse:3.80581\n",
            "[6]\tvalidation-rmse:3.84569\n",
            "[7]\tvalidation-rmse:3.85052\n",
            "[8]\tvalidation-rmse:3.81664\n",
            "[9]\tvalidation-rmse:3.8083\n"
          ],
          "name": "stdout"
        },
        {
          "output_type": "stream",
          "text": [
            "[I 2020-07-08 14:11:20,210] Finished trial#934 with value: 3.282449997109785 with parameters: {'combos': 1, 'ada_Scaler': 'log', 'ada_ne': 267, 'ada_lr': 0.6421758923329727, 'et_Scaler': 'stand', 'et_max_depth': 9, 'et_ne': 661, 'xgb_Scaler': 'log', 'booster': 'gbtree', 'lambda': 0.015833148337850666, 'alpha': 0.012822828693796253, 'max_depth': 3, 'eta': 0.531310411109038, 'gamma': 2.4847178876958063e-08, 'grow_policy': 'depthwise'}. Best is trial#881 with value: 3.06716894171875.\n"
          ],
          "name": "stderr"
        },
        {
          "output_type": "stream",
          "text": [
            "[0]\tvalidation-rmse:19.7773\n",
            "[1]\tvalidation-rmse:16.4315\n",
            "[2]\tvalidation-rmse:13.7114\n",
            "[3]\tvalidation-rmse:11.4348\n",
            "[4]\tvalidation-rmse:9.73209\n",
            "[5]\tvalidation-rmse:8.50524\n",
            "[6]\tvalidation-rmse:7.2993\n",
            "[7]\tvalidation-rmse:6.45425\n",
            "[8]\tvalidation-rmse:5.66753\n",
            "[9]\tvalidation-rmse:5.15305\n"
          ],
          "name": "stdout"
        },
        {
          "output_type": "stream",
          "text": [
            "[I 2020-07-08 14:11:21,424] Finished trial#935 with value: 3.607330625466028 with parameters: {'combos': 1, 'ada_Scaler': 'log', 'ada_ne': 55, 'ada_lr': 0.581693716668635, 'et_Scaler': 'stand', 'et_max_depth': 9, 'et_ne': 632, 'xgb_Scaler': 'log', 'booster': 'gbtree', 'lambda': 0.03830003690704287, 'alpha': 0.008276780235672698, 'max_depth': 2, 'eta': 0.18817081752855092, 'gamma': 8.528589782443867e-08, 'grow_policy': 'depthwise'}. Best is trial#881 with value: 3.06716894171875.\n"
          ],
          "name": "stderr"
        },
        {
          "output_type": "stream",
          "text": [
            "[0]\tvalidation-rmse:8.05211\n",
            "[1]\tvalidation-rmse:4.48283\n",
            "[2]\tvalidation-rmse:3.87025\n",
            "[3]\tvalidation-rmse:3.8547\n",
            "[4]\tvalidation-rmse:3.91639\n",
            "[5]\tvalidation-rmse:3.92218\n",
            "[6]\tvalidation-rmse:3.92302\n",
            "[7]\tvalidation-rmse:3.8963\n",
            "[8]\tvalidation-rmse:3.89443\n",
            "[9]\tvalidation-rmse:3.91406\n"
          ],
          "name": "stdout"
        },
        {
          "output_type": "stream",
          "text": [
            "[I 2020-07-08 14:11:23,016] Finished trial#936 with value: 3.1933662267105305 with parameters: {'combos': 1, 'ada_Scaler': 'log', 'ada_ne': 183, 'ada_lr': 0.6869663460308467, 'et_Scaler': 'stand', 'et_max_depth': 14, 'et_ne': 599, 'xgb_Scaler': 'log', 'booster': 'gbtree', 'lambda': 0.09913136135460539, 'alpha': 0.0035028701993080327, 'max_depth': 3, 'eta': 0.7172311313601166, 'gamma': 3.99694092629418e-08, 'grow_policy': 'depthwise'}. Best is trial#881 with value: 3.06716894171875.\n"
          ],
          "name": "stderr"
        },
        {
          "output_type": "stream",
          "text": [
            "[0]\tvalidation-rmse:8.07877\n",
            "[1]\tvalidation-rmse:4.58542\n",
            "[2]\tvalidation-rmse:4.12219\n",
            "[3]\tvalidation-rmse:4.09457\n",
            "[4]\tvalidation-rmse:4.14569\n",
            "[5]\tvalidation-rmse:4.09708\n",
            "[6]\tvalidation-rmse:4.12783\n",
            "[7]\tvalidation-rmse:4.12395\n",
            "[8]\tvalidation-rmse:4.02887\n",
            "[9]\tvalidation-rmse:4.01453\n"
          ],
          "name": "stdout"
        },
        {
          "output_type": "stream",
          "text": [
            "[I 2020-07-08 14:11:24,641] Finished trial#937 with value: 3.2933259499188186 with parameters: {'combos': 1, 'ada_Scaler': 'log', 'ada_ne': 234, 'ada_lr': 0.747447980972596, 'et_Scaler': 'stand', 'et_max_depth': 14, 'et_ne': 579, 'xgb_Scaler': 'log', 'booster': 'gbtree', 'lambda': 0.2894417624296388, 'alpha': 0.002389207848784973, 'max_depth': 3, 'eta': 0.73985938525128, 'gamma': 4.240517694640024e-08, 'grow_policy': 'depthwise'}. Best is trial#881 with value: 3.06716894171875.\n",
            "[I 2020-07-08 14:11:26,024] Setting status of trial#938 as TrialState.PRUNED. Trial was pruned at iteration 11.\n"
          ],
          "name": "stderr"
        },
        {
          "output_type": "stream",
          "text": [
            "[0]\tvalidation-rmse:8.07674\n",
            "[1]\tvalidation-rmse:4.27003\n",
            "[2]\tvalidation-rmse:3.86863\n",
            "[3]\tvalidation-rmse:3.76679\n",
            "[4]\tvalidation-rmse:3.86166\n",
            "[5]\tvalidation-rmse:3.78836\n",
            "[6]\tvalidation-rmse:3.76691\n",
            "[7]\tvalidation-rmse:3.75185\n",
            "[8]\tvalidation-rmse:3.83262\n",
            "[9]\tvalidation-rmse:3.83737\n"
          ],
          "name": "stdout"
        },
        {
          "output_type": "stream",
          "text": [
            "[I 2020-07-08 14:11:27,676] Finished trial#939 with value: 3.2321755161837893 with parameters: {'combos': 1, 'ada_Scaler': 'log', 'ada_ne': 221, 'ada_lr': 0.7837536834115625, 'et_Scaler': 'stand', 'et_max_depth': 13, 'et_ne': 558, 'xgb_Scaler': 'log', 'booster': 'gbtree', 'lambda': 0.17389892373048046, 'alpha': 0.0033592144470165693, 'max_depth': 3, 'eta': 0.7294648528805872, 'gamma': 6.787748052873513e-08, 'grow_policy': 'depthwise'}. Best is trial#881 with value: 3.06716894171875.\n"
          ],
          "name": "stderr"
        },
        {
          "output_type": "stream",
          "text": [
            "[0]\tvalidation-rmse:14.396\n",
            "[1]\tvalidation-rmse:9.00915\n",
            "[2]\tvalidation-rmse:6.16835\n",
            "[3]\tvalidation-rmse:4.59268\n",
            "[4]\tvalidation-rmse:4.00114\n",
            "[5]\tvalidation-rmse:3.82097\n",
            "[6]\tvalidation-rmse:3.72909\n",
            "[7]\tvalidation-rmse:3.72981\n",
            "[8]\tvalidation-rmse:3.78866\n",
            "[9]\tvalidation-rmse:3.74394\n"
          ],
          "name": "stdout"
        },
        {
          "output_type": "stream",
          "text": [
            "[I 2020-07-08 14:11:29,244] Finished trial#940 with value: 3.2696460983596345 with parameters: {'combos': 1, 'ada_Scaler': 'log', 'ada_ne': 186, 'ada_lr': 0.689806281298004, 'et_Scaler': 'stand', 'et_max_depth': 15, 'et_ne': 574, 'xgb_Scaler': 'log', 'booster': 'gbtree', 'lambda': 0.12035945007302531, 'alpha': 0.0015360927036853888, 'max_depth': 3, 'eta': 0.41636276170560604, 'gamma': 1.0184826686763025e-08, 'grow_policy': 'depthwise'}. Best is trial#881 with value: 3.06716894171875.\n"
          ],
          "name": "stderr"
        },
        {
          "output_type": "stream",
          "text": [
            "[0]\tvalidation-rmse:10.9452\n",
            "[1]\tvalidation-rmse:5.79348\n",
            "[2]\tvalidation-rmse:3.93568\n",
            "[3]\tvalidation-rmse:3.70949\n",
            "[4]\tvalidation-rmse:3.7076\n",
            "[5]\tvalidation-rmse:3.72991\n",
            "[6]\tvalidation-rmse:3.74335\n",
            "[7]\tvalidation-rmse:3.76187\n",
            "[8]\tvalidation-rmse:3.76394\n",
            "[9]\tvalidation-rmse:3.76535\n"
          ],
          "name": "stdout"
        },
        {
          "output_type": "stream",
          "text": [
            "[I 2020-07-08 14:11:30,776] Finished trial#941 with value: 3.2537328380718074 with parameters: {'combos': 1, 'ada_Scaler': 'log', 'ada_ne': 187, 'ada_lr': 0.6848575472790341, 'et_Scaler': 'stand', 'et_max_depth': 12, 'et_ne': 598, 'xgb_Scaler': 'log', 'booster': 'gbtree', 'lambda': 0.1090483737358285, 'alpha': 0.003315760992127253, 'max_depth': 3, 'eta': 0.5751332784897979, 'gamma': 3.701700566947462e-08, 'grow_policy': 'depthwise'}. Best is trial#881 with value: 3.06716894171875.\n"
          ],
          "name": "stderr"
        },
        {
          "output_type": "stream",
          "text": [
            "[0]\tvalidation-rmse:17.6996\n",
            "[1]\tvalidation-rmse:13.0938\n",
            "[2]\tvalidation-rmse:9.92984\n",
            "[3]\tvalidation-rmse:7.59878\n",
            "[4]\tvalidation-rmse:6.07353\n",
            "[5]\tvalidation-rmse:4.99321\n",
            "[6]\tvalidation-rmse:4.34469\n",
            "[7]\tvalidation-rmse:3.99464\n",
            "[8]\tvalidation-rmse:3.75311\n",
            "[9]\tvalidation-rmse:3.63525\n"
          ],
          "name": "stdout"
        },
        {
          "output_type": "stream",
          "text": [
            "[I 2020-07-08 14:11:32,380] Finished trial#942 with value: 3.237735750110092 with parameters: {'combos': 1, 'ada_Scaler': 'log', 'ada_ne': 177, 'ada_lr': 0.7105903753187226, 'et_Scaler': 'stand', 'et_max_depth': 14, 'et_ne': 612, 'xgb_Scaler': 'log', 'booster': 'gbtree', 'lambda': 0.20962666814035205, 'alpha': 0.0028305307075595838, 'max_depth': 3, 'eta': 0.2763391288581239, 'gamma': 1.2057268710235925e-07, 'grow_policy': 'depthwise'}. Best is trial#881 with value: 3.06716894171875.\n"
          ],
          "name": "stderr"
        },
        {
          "output_type": "stream",
          "text": [
            "[0]\tvalidation-rmse:7.4426\n",
            "[1]\tvalidation-rmse:4.88375\n",
            "[2]\tvalidation-rmse:4.87217\n",
            "[3]\tvalidation-rmse:4.85696\n",
            "[4]\tvalidation-rmse:4.80716\n",
            "[5]\tvalidation-rmse:4.766\n",
            "[6]\tvalidation-rmse:4.55002\n",
            "[7]\tvalidation-rmse:4.48144\n",
            "[8]\tvalidation-rmse:4.46643\n",
            "[9]\tvalidation-rmse:4.48348\n"
          ],
          "name": "stdout"
        },
        {
          "output_type": "stream",
          "text": [
            "[I 2020-07-08 14:11:33,997] Finished trial#943 with value: 3.3962695842583424 with parameters: {'combos': 1, 'ada_Scaler': 'log', 'ada_ne': 213, 'ada_lr': 0.744887539323326, 'et_Scaler': 'minmax', 'et_max_depth': 14, 'et_ne': 583, 'xgb_Scaler': 'log', 'booster': 'gbtree', 'lambda': 0.08680170931172991, 'alpha': 0.004957391406824826, 'max_depth': 3, 'eta': 0.7516205517075509, 'gamma': 5.4739860832119246e-08, 'grow_policy': 'lossguide'}. Best is trial#881 with value: 3.06716894171875.\n"
          ],
          "name": "stderr"
        },
        {
          "output_type": "stream",
          "text": [
            "[0]\tvalidation-rmse:14.3964\n",
            "[1]\tvalidation-rmse:8.7935\n",
            "[2]\tvalidation-rmse:5.83771\n",
            "[3]\tvalidation-rmse:4.39944\n",
            "[4]\tvalidation-rmse:3.82198\n",
            "[5]\tvalidation-rmse:3.69779\n",
            "[6]\tvalidation-rmse:3.61209\n",
            "[7]\tvalidation-rmse:3.59122\n",
            "[8]\tvalidation-rmse:3.56655\n",
            "[9]\tvalidation-rmse:3.58201\n"
          ],
          "name": "stdout"
        },
        {
          "output_type": "stream",
          "text": [
            "[I 2020-07-08 14:11:35,454] Finished trial#944 with value: 3.3026860752106066 with parameters: {'combos': 1, 'ada_Scaler': 'log', 'ada_ne': 189, 'ada_lr': 0.6530227228585748, 'et_Scaler': 'stand', 'et_max_depth': 12, 'et_ne': 545, 'xgb_Scaler': 'log', 'booster': 'gbtree', 'lambda': 0.1508065708353192, 'alpha': 0.0019964752341914836, 'max_depth': 4, 'eta': 0.4186927090448234, 'gamma': 1.0124898665430262e-08, 'grow_policy': 'depthwise'}. Best is trial#881 with value: 3.06716894171875.\n"
          ],
          "name": "stderr"
        },
        {
          "output_type": "stream",
          "text": [
            "[0]\tvalidation-rmse:5.37879\n",
            "[1]\tvalidation-rmse:4.8297\n",
            "[2]\tvalidation-rmse:4.60978\n",
            "[3]\tvalidation-rmse:4.68057\n",
            "[4]\tvalidation-rmse:4.73378\n",
            "[5]\tvalidation-rmse:4.75776\n",
            "[6]\tvalidation-rmse:4.6886\n",
            "[7]\tvalidation-rmse:4.7221\n",
            "[8]\tvalidation-rmse:4.84328\n",
            "[9]\tvalidation-rmse:4.7656\n"
          ],
          "name": "stdout"
        },
        {
          "output_type": "stream",
          "text": [
            "[I 2020-07-08 14:11:36,841] Finished trial#945 with value: 3.295961997494905 with parameters: {'combos': 1, 'ada_Scaler': 'minmax', 'ada_ne': 84, 'ada_lr': 0.7932082199918773, 'et_Scaler': 'stand', 'et_max_depth': 13, 'et_ne': 597, 'xgb_Scaler': 'log', 'booster': 'gbtree', 'lambda': 0.08327083394221928, 'alpha': 0.004280473663364549, 'max_depth': 3, 'eta': 0.9302419287721084, 'gamma': 8.738409646784487e-08, 'grow_policy': 'depthwise'}. Best is trial#881 with value: 3.06716894171875.\n"
          ],
          "name": "stderr"
        },
        {
          "output_type": "stream",
          "text": [
            "[0]\tvalidation-rmse:5.35247\n",
            "[1]\tvalidation-rmse:5.07003\n",
            "[2]\tvalidation-rmse:5.17428\n",
            "[3]\tvalidation-rmse:5.1932\n",
            "[4]\tvalidation-rmse:5.07387\n",
            "[5]\tvalidation-rmse:5.11047\n",
            "[6]\tvalidation-rmse:5.09049\n",
            "[7]\tvalidation-rmse:5.15388\n",
            "[8]\tvalidation-rmse:5.17449\n",
            "[9]\tvalidation-rmse:5.16237\n"
          ],
          "name": "stdout"
        },
        {
          "output_type": "stream",
          "text": [
            "[I 2020-07-08 14:11:38,341] Finished trial#946 with value: 3.511242448913595 with parameters: {'combos': 1, 'ada_Scaler': 'log', 'ada_ne': 162, 'ada_lr': 0.42258240412395454, 'et_Scaler': 'stand', 'et_max_depth': 11, 'et_ne': 619, 'xgb_Scaler': 'log', 'booster': 'gbtree', 'lambda': 0.0589087158300128, 'alpha': 0.0011676108106885809, 'max_depth': 3, 'eta': 0.9788736617719987, 'gamma': 0.0006599737510186738, 'grow_policy': 'depthwise'}. Best is trial#881 with value: 3.06716894171875.\n"
          ],
          "name": "stderr"
        },
        {
          "output_type": "stream",
          "text": [
            "[0]\tvalidation-rmse:23.9807\n",
            "[1]\tvalidation-rmse:23.9807\n",
            "[2]\tvalidation-rmse:23.9807\n",
            "[3]\tvalidation-rmse:23.9807\n",
            "[4]\tvalidation-rmse:23.9807\n",
            "[5]\tvalidation-rmse:23.9807\n",
            "[6]\tvalidation-rmse:23.9807\n",
            "[7]\tvalidation-rmse:23.9807\n",
            "[8]\tvalidation-rmse:23.9807\n",
            "[9]\tvalidation-rmse:23.9807\n"
          ],
          "name": "stdout"
        },
        {
          "output_type": "stream",
          "text": [
            "[I 2020-07-08 14:11:39,922] Finished trial#947 with value: 8.319989446655912 with parameters: {'combos': 1, 'ada_Scaler': 'log', 'ada_ne': 245, 'ada_lr': 0.6784862502013127, 'et_Scaler': 'stand', 'et_max_depth': 12, 'et_ne': 571, 'xgb_Scaler': 'log', 'booster': 'gbtree', 'lambda': 0.1088860354227987, 'alpha': 0.0018745809194677474, 'max_depth': 3, 'eta': 1.003114561883125e-08, 'gamma': 1.4757951000978525e-08, 'grow_policy': 'depthwise'}. Best is trial#881 with value: 3.06716894171875.\n"
          ],
          "name": "stderr"
        },
        {
          "output_type": "stream",
          "text": [
            "[0]\tvalidation-rmse:20.9749\n",
            "[1]\tvalidation-rmse:18.2765\n",
            "[2]\tvalidation-rmse:15.9589\n",
            "[3]\tvalidation-rmse:13.9669\n",
            "[4]\tvalidation-rmse:12.2515\n",
            "[5]\tvalidation-rmse:10.7666\n",
            "[6]\tvalidation-rmse:9.48055\n",
            "[7]\tvalidation-rmse:8.40172\n",
            "[8]\tvalidation-rmse:7.52304\n",
            "[9]\tvalidation-rmse:6.74326\n"
          ],
          "name": "stdout"
        },
        {
          "output_type": "stream",
          "text": [
            "[I 2020-07-08 14:11:41,260] Finished trial#948 with value: 3.782268532880785 with parameters: {'combos': 1, 'ada_Scaler': 'log', 'ada_ne': 142, 'ada_lr': 0.7378942021622739, 'et_Scaler': 'stand', 'et_max_depth': 9, 'et_ne': 614, 'xgb_Scaler': 'log', 'booster': 'gbtree', 'lambda': 0.25649656099464885, 'alpha': 0.00573233513724151, 'max_depth': 3, 'eta': 0.1332246412002178, 'gamma': 3.080250305981323e-08, 'grow_policy': 'depthwise'}. Best is trial#881 with value: 3.06716894171875.\n"
          ],
          "name": "stderr"
        },
        {
          "output_type": "stream",
          "text": [
            "[0]\tvalidation-rmse:11.6315\n",
            "[1]\tvalidation-rmse:6.23398\n",
            "[2]\tvalidation-rmse:4.19064\n",
            "[3]\tvalidation-rmse:3.61292\n",
            "[4]\tvalidation-rmse:3.55436\n",
            "[5]\tvalidation-rmse:3.5759\n",
            "[6]\tvalidation-rmse:3.67431\n",
            "[7]\tvalidation-rmse:3.68994\n",
            "[8]\tvalidation-rmse:3.6726\n",
            "[9]\tvalidation-rmse:3.65349\n"
          ],
          "name": "stdout"
        },
        {
          "output_type": "stream",
          "text": [
            "[I 2020-07-08 14:11:42,668] Finished trial#949 with value: 3.129916590413819 with parameters: {'combos': 1, 'ada_Scaler': 'log', 'ada_ne': 202, 'ada_lr': 0.6503315491016701, 'et_Scaler': 'stand', 'et_max_depth': 8, 'et_ne': 642, 'xgb_Scaler': 'log', 'booster': 'gbtree', 'lambda': 0.07471228982277094, 'alpha': 0.003556257066673998, 'max_depth': 3, 'eta': 0.5391002376289777, 'gamma': 2.1195150103367292e-08, 'grow_policy': 'depthwise'}. Best is trial#881 with value: 3.06716894171875.\n"
          ],
          "name": "stderr"
        },
        {
          "output_type": "stream",
          "text": [
            "[0]\tvalidation-rmse:11.5954\n",
            "[1]\tvalidation-rmse:6.12405\n",
            "[2]\tvalidation-rmse:4.24074\n",
            "[3]\tvalidation-rmse:3.85153\n",
            "[4]\tvalidation-rmse:3.65777\n",
            "[5]\tvalidation-rmse:3.69543\n",
            "[6]\tvalidation-rmse:3.76142\n",
            "[7]\tvalidation-rmse:3.74404\n",
            "[8]\tvalidation-rmse:3.75418\n",
            "[9]\tvalidation-rmse:3.70524\n"
          ],
          "name": "stdout"
        },
        {
          "output_type": "stream",
          "text": [
            "[I 2020-07-08 14:11:44,193] Finished trial#950 with value: 3.2720056761936482 with parameters: {'combos': 1, 'ada_Scaler': 'log', 'ada_ne': 244, 'ada_lr': 0.638776187501601, 'et_Scaler': 'stand', 'et_max_depth': 8, 'et_ne': 681, 'xgb_Scaler': 'log', 'booster': 'gbtree', 'lambda': 0.14979298882237435, 'alpha': 0.0030285363638277362, 'max_depth': 3, 'eta': 0.5535153514507394, 'gamma': 1.9598620548033963e-08, 'grow_policy': 'depthwise'}. Best is trial#881 with value: 3.06716894171875.\n"
          ],
          "name": "stderr"
        },
        {
          "output_type": "stream",
          "text": [
            "[0]\tvalidation-rmse:15.8724\n",
            "[1]\tvalidation-rmse:10.8312\n",
            "[2]\tvalidation-rmse:7.59979\n",
            "[3]\tvalidation-rmse:5.74739\n",
            "[4]\tvalidation-rmse:4.67318\n",
            "[5]\tvalidation-rmse:4.1152\n",
            "[6]\tvalidation-rmse:3.953\n",
            "[7]\tvalidation-rmse:3.81187\n",
            "[8]\tvalidation-rmse:3.83443\n",
            "[9]\tvalidation-rmse:3.83649\n"
          ],
          "name": "stdout"
        },
        {
          "output_type": "stream",
          "text": [
            "[I 2020-07-08 14:11:45,639] Finished trial#951 with value: 3.3717143738402684 with parameters: {'combos': 1, 'ada_Scaler': 'log', 'ada_ne': 224, 'ada_lr': 0.49278092201198864, 'et_Scaler': 'stand', 'et_max_depth': 8, 'et_ne': 652, 'xgb_Scaler': 'log', 'booster': 'gbtree', 'lambda': 0.09744688896057321, 'alpha': 0.001988028388675754, 'max_depth': 3, 'eta': 0.34896270866301315, 'gamma': 1.4010282063354579e-08, 'grow_policy': 'depthwise'}. Best is trial#881 with value: 3.06716894171875.\n",
            "[I 2020-07-08 14:11:47,211] Setting status of trial#952 as TrialState.PRUNED. Trial was pruned at iteration 11.\n"
          ],
          "name": "stderr"
        },
        {
          "output_type": "stream",
          "text": [
            "[0]\tvalidation-rmse:11.2773\n",
            "[1]\tvalidation-rmse:5.97345\n",
            "[2]\tvalidation-rmse:4.09508\n",
            "[3]\tvalidation-rmse:3.72112\n",
            "[4]\tvalidation-rmse:3.66785\n",
            "[5]\tvalidation-rmse:3.57143\n",
            "[6]\tvalidation-rmse:3.7281\n",
            "[7]\tvalidation-rmse:3.70932\n",
            "[8]\tvalidation-rmse:3.76666\n",
            "[9]\tvalidation-rmse:3.75753\n"
          ],
          "name": "stdout"
        },
        {
          "output_type": "stream",
          "text": [
            "[I 2020-07-08 14:11:48,791] Finished trial#953 with value: 3.251488789638212 with parameters: {'combos': 1, 'ada_Scaler': 'log', 'ada_ne': 215, 'ada_lr': 0.6277689930368693, 'et_Scaler': 'stand', 'et_max_depth': 8, 'et_ne': 667, 'xgb_Scaler': 'log', 'booster': 'gbtree', 'lambda': 0.0708790043021482, 'alpha': 0.0008093159780317595, 'max_depth': 3, 'eta': 0.5555293735272199, 'gamma': 2.440834857016796e-08, 'grow_policy': 'depthwise'}. Best is trial#881 with value: 3.06716894171875.\n"
          ],
          "name": "stderr"
        },
        {
          "output_type": "stream",
          "text": [
            "[0]\tvalidation-rmse:5.9569\n",
            "[1]\tvalidation-rmse:5.2697\n",
            "[2]\tvalidation-rmse:4.91003\n",
            "[3]\tvalidation-rmse:4.67777\n",
            "[4]\tvalidation-rmse:4.66005\n",
            "[5]\tvalidation-rmse:4.66604\n",
            "[6]\tvalidation-rmse:4.78142\n",
            "[7]\tvalidation-rmse:4.81168\n",
            "[8]\tvalidation-rmse:4.73137\n",
            "[9]\tvalidation-rmse:4.73852\n"
          ],
          "name": "stdout"
        },
        {
          "output_type": "stream",
          "text": [
            "[I 2020-07-08 14:11:50,200] Finished trial#954 with value: 3.532073667181853 with parameters: {'combos': 1, 'ada_Scaler': 'log', 'ada_ne': 233, 'ada_lr': 0.6726940380430055, 'et_Scaler': 'stand', 'et_max_depth': 7, 'et_ne': 636, 'xgb_Scaler': 'log', 'booster': 'gbtree', 'lambda': 0.1805238571142427, 'alpha': 0.0028366955506631064, 'max_depth': 2, 'eta': 0.9694297026721408, 'gamma': 1.523184826529553e-07, 'grow_policy': 'depthwise'}. Best is trial#881 with value: 3.06716894171875.\n"
          ],
          "name": "stderr"
        },
        {
          "output_type": "stream",
          "text": [
            "[0]\tvalidation-rmse:5.91566\n",
            "[1]\tvalidation-rmse:5.36433\n",
            "[2]\tvalidation-rmse:5.35557\n",
            "[3]\tvalidation-rmse:5.25885\n",
            "[4]\tvalidation-rmse:5.34502\n",
            "[5]\tvalidation-rmse:5.20332\n",
            "[6]\tvalidation-rmse:4.92526\n",
            "[7]\tvalidation-rmse:4.88998\n",
            "[8]\tvalidation-rmse:4.97268\n",
            "[9]\tvalidation-rmse:5.01304\n"
          ],
          "name": "stdout"
        },
        {
          "output_type": "stream",
          "text": [
            "[I 2020-07-08 14:11:51,690] Finished trial#955 with value: 3.43933353825998 with parameters: {'combos': 1, 'ada_Scaler': 'log', 'ada_ne': 215, 'ada_lr': 0.7540900686208152, 'et_Scaler': 'stand', 'et_max_depth': 8, 'et_ne': 704, 'xgb_Scaler': 'minmax', 'booster': 'gbtree', 'lambda': 0.11733709846907255, 'alpha': 0.0012232432358874595, 'max_depth': 3, 'eta': 0.996817222659785, 'gamma': 4.837530647469375e-08, 'grow_policy': 'depthwise'}. Best is trial#881 with value: 3.06716894171875.\n"
          ],
          "name": "stderr"
        },
        {
          "output_type": "stream",
          "text": [
            "[0]\tvalidation-rmse:17.4596\n",
            "[1]\tvalidation-rmse:12.717\n",
            "[2]\tvalidation-rmse:9.39667\n",
            "[3]\tvalidation-rmse:7.15933\n",
            "[4]\tvalidation-rmse:5.68766\n",
            "[5]\tvalidation-rmse:4.83922\n",
            "[6]\tvalidation-rmse:4.32492\n",
            "[7]\tvalidation-rmse:4.0243\n",
            "[8]\tvalidation-rmse:3.92647\n",
            "[9]\tvalidation-rmse:3.86749\n"
          ],
          "name": "stdout"
        },
        {
          "output_type": "stream",
          "text": [
            "[I 2020-07-08 14:11:53,198] Finished trial#956 with value: 3.3732219220763784 with parameters: {'combos': 1, 'ada_Scaler': 'log', 'ada_ne': 259, 'ada_lr': 0.5171169593658657, 'et_Scaler': 'stand', 'et_max_depth': 8, 'et_ne': 649, 'xgb_Scaler': 'log', 'booster': 'gbtree', 'lambda': 0.06868011558800545, 'alpha': 0.003904704446412612, 'max_depth': 4, 'eta': 0.27512775061292677, 'gamma': 9.418156031980685e-08, 'grow_policy': 'depthwise'}. Best is trial#881 with value: 3.06716894171875.\n"
          ],
          "name": "stderr"
        },
        {
          "output_type": "stream",
          "text": [
            "[0]\tvalidation-rmse:8.68661\n",
            "[1]\tvalidation-rmse:8.18313\n",
            "[2]\tvalidation-rmse:7.94878\n",
            "[3]\tvalidation-rmse:7.8103\n",
            "[4]\tvalidation-rmse:7.70934\n",
            "[5]\tvalidation-rmse:7.62755\n",
            "[6]\tvalidation-rmse:7.55624\n",
            "[7]\tvalidation-rmse:7.49149\n",
            "[8]\tvalidation-rmse:7.4312\n",
            "[9]\tvalidation-rmse:7.37567\n"
          ],
          "name": "stdout"
        },
        {
          "output_type": "stream",
          "text": [
            "[I 2020-07-08 14:11:54,574] Finished trial#957 with value: 3.9275464628571863 with parameters: {'combos': 1, 'ada_Scaler': 'log', 'ada_ne': 201, 'ada_lr': 0.6183693394728721, 'et_Scaler': 'stand', 'et_max_depth': 8, 'et_ne': 634, 'xgb_Scaler': 'log', 'booster': 'gblinear', 'lambda': 0.05280417761183551, 'alpha': 0.6990044469853128}. Best is trial#881 with value: 3.06716894171875.\n",
            "[I 2020-07-08 14:11:55,692] Setting status of trial#958 as TrialState.PRUNED. Trial was pruned at iteration 11.\n"
          ],
          "name": "stderr"
        },
        {
          "output_type": "stream",
          "text": [
            "[0]\tvalidation-rmse:14.4842\n",
            "[1]\tvalidation-rmse:8.85754\n",
            "[2]\tvalidation-rmse:5.99936\n",
            "[3]\tvalidation-rmse:4.61937\n",
            "[4]\tvalidation-rmse:3.87722\n",
            "[5]\tvalidation-rmse:3.58004\n",
            "[6]\tvalidation-rmse:3.50148\n",
            "[7]\tvalidation-rmse:3.4192\n",
            "[8]\tvalidation-rmse:3.39189\n",
            "[9]\tvalidation-rmse:3.35836\n"
          ],
          "name": "stdout"
        },
        {
          "output_type": "stream",
          "text": [
            "[I 2020-07-08 14:11:57,201] Finished trial#959 with value: 3.2850210139813303 with parameters: {'combos': 1, 'ada_Scaler': 'log', 'ada_ne': 176, 'ada_lr': 0.5635632050834158, 'et_Scaler': 'stand', 'et_max_depth': 8, 'et_ne': 665, 'xgb_Scaler': 'log', 'booster': 'dart', 'lambda': 0.34531331118342534, 'alpha': 0.004117024376173801, 'max_depth': 3, 'eta': 0.4269208313006597, 'gamma': 3.3867490951730275e-08, 'grow_policy': 'depthwise', 'sample_type': 'weighted', 'normalize_type': 'forest', 'rate_drop': 0.00033897622923266876, 'skip_drop': 1.016659708401934e-08}. Best is trial#881 with value: 3.06716894171875.\n"
          ],
          "name": "stderr"
        },
        {
          "output_type": "stream",
          "text": [
            "[0]\tvalidation-rmse:5.31464\n",
            "[1]\tvalidation-rmse:5.00482\n",
            "[2]\tvalidation-rmse:4.93568\n",
            "[3]\tvalidation-rmse:4.92704\n",
            "[4]\tvalidation-rmse:5.01857\n",
            "[5]\tvalidation-rmse:4.87033\n",
            "[6]\tvalidation-rmse:4.80164\n",
            "[7]\tvalidation-rmse:4.84862\n",
            "[8]\tvalidation-rmse:4.80508\n",
            "[9]\tvalidation-rmse:4.79482\n"
          ],
          "name": "stdout"
        },
        {
          "output_type": "stream",
          "text": [
            "[I 2020-07-08 14:11:58,624] Finished trial#960 with value: 3.3755843551770623 with parameters: {'combos': 1, 'ada_Scaler': 'log', 'ada_ne': 204, 'ada_lr': 0.6583295604608054, 'et_Scaler': 'stand', 'et_max_depth': 9, 'et_ne': 612, 'xgb_Scaler': 'log', 'booster': 'gbtree', 'lambda': 0.10083107689553564, 'alpha': 0.005604320670562642, 'max_depth': 3, 'eta': 0.9964569537600296, 'gamma': 1.8564636261568086e-08, 'grow_policy': 'lossguide'}. Best is trial#881 with value: 3.06716894171875.\n"
          ],
          "name": "stderr"
        },
        {
          "output_type": "stream",
          "text": [
            "[0]\tvalidation-rmse:23.6784\n",
            "[1]\tvalidation-rmse:23.3802\n",
            "[2]\tvalidation-rmse:23.0862\n",
            "[3]\tvalidation-rmse:22.7961\n",
            "[4]\tvalidation-rmse:22.5101\n",
            "[5]\tvalidation-rmse:22.2279\n",
            "[6]\tvalidation-rmse:21.9497\n",
            "[7]\tvalidation-rmse:21.6778\n",
            "[8]\tvalidation-rmse:21.4096\n",
            "[9]\tvalidation-rmse:21.145\n"
          ],
          "name": "stdout"
        },
        {
          "output_type": "stream",
          "text": [
            "[I 2020-07-08 14:12:00,163] Finished trial#961 with value: 7.513765858867247 with parameters: {'combos': 1, 'ada_Scaler': 'log', 'ada_ne': 230, 'ada_lr': 0.6013528443592121, 'et_Scaler': 'stand', 'et_max_depth': 9, 'et_ne': 637, 'xgb_Scaler': 'stand', 'booster': 'gbtree', 'lambda': 0.007054657935047628, 'alpha': 0.000257856569575501, 'max_depth': 3, 'eta': 0.012761690754465416, 'gamma': 6.496843730474583e-08, 'grow_policy': 'depthwise'}. Best is trial#881 with value: 3.06716894171875.\n"
          ],
          "name": "stderr"
        },
        {
          "output_type": "stream",
          "text": [
            "[0]\tvalidation-rmse:10.8027\n",
            "[1]\tvalidation-rmse:6.27215\n",
            "[2]\tvalidation-rmse:4.6275\n",
            "[3]\tvalidation-rmse:4.21977\n",
            "[4]\tvalidation-rmse:3.99599\n",
            "[5]\tvalidation-rmse:4.08582\n",
            "[6]\tvalidation-rmse:4.15529\n",
            "[7]\tvalidation-rmse:4.19086\n",
            "[8]\tvalidation-rmse:4.07607\n",
            "[9]\tvalidation-rmse:4.03837\n"
          ],
          "name": "stdout"
        },
        {
          "output_type": "stream",
          "text": [
            "[I 2020-07-08 14:12:01,467] Finished trial#962 with value: 3.4189120983276506 with parameters: {'combos': 1, 'ada_Scaler': 'log', 'ada_ne': 178, 'ada_lr': 0.6558746462012286, 'et_Scaler': 'stand', 'et_max_depth': 8, 'et_ne': 592, 'xgb_Scaler': 'log', 'booster': 'gbtree', 'lambda': 0.14405097616161516, 'alpha': 0.06780833896491809, 'max_depth': 2, 'eta': 0.6128273279257586, 'gamma': 1.3417782825557396e-08, 'grow_policy': 'depthwise'}. Best is trial#881 with value: 3.06716894171875.\n"
          ],
          "name": "stderr"
        },
        {
          "output_type": "stream",
          "text": [
            "[0]\tvalidation-rmse:18.7548\n",
            "[1]\tvalidation-rmse:14.7057\n",
            "[2]\tvalidation-rmse:11.6483\n",
            "[3]\tvalidation-rmse:9.29504\n",
            "[4]\tvalidation-rmse:7.51108\n",
            "[5]\tvalidation-rmse:6.23023\n",
            "[6]\tvalidation-rmse:5.32872\n",
            "[7]\tvalidation-rmse:4.68396\n",
            "[8]\tvalidation-rmse:4.25629\n",
            "[9]\tvalidation-rmse:4.01081\n"
          ],
          "name": "stdout"
        },
        {
          "output_type": "stream",
          "text": [
            "[I 2020-07-08 14:12:02,786] Finished trial#963 with value: 3.3489861625021695 with parameters: {'combos': 1, 'ada_Scaler': 'log', 'ada_ne': 181, 'ada_lr': 0.8012852284905982, 'et_Scaler': 'stand', 'et_max_depth': 9, 'et_ne': 558, 'xgb_Scaler': 'log', 'booster': 'gbtree', 'lambda': 0.07389316705350035, 'alpha': 0.0018837343497321829, 'max_depth': 3, 'eta': 0.2231968649584705, 'gamma': 4.312191456555048e-08, 'grow_policy': 'depthwise'}. Best is trial#881 with value: 3.06716894171875.\n"
          ],
          "name": "stderr"
        },
        {
          "output_type": "stream",
          "text": [
            "[0]\tvalidation-rmse:10.1616\n",
            "[1]\tvalidation-rmse:6.57005\n",
            "[2]\tvalidation-rmse:5.55919\n",
            "[3]\tvalidation-rmse:5.3663\n",
            "[4]\tvalidation-rmse:5.47643\n",
            "[5]\tvalidation-rmse:5.12852\n",
            "[6]\tvalidation-rmse:5.09931\n",
            "[7]\tvalidation-rmse:5.0709\n",
            "[8]\tvalidation-rmse:5.20359\n",
            "[9]\tvalidation-rmse:5.07036\n"
          ],
          "name": "stdout"
        },
        {
          "output_type": "stream",
          "text": [
            "[I 2020-07-08 14:12:03,904] Finished trial#964 with value: 3.5531167053626276 with parameters: {'combos': 1, 'ada_Scaler': 'log', 'ada_ne': 25, 'ada_lr': 0.5338533652292586, 'et_Scaler': 'stand', 'et_max_depth': 8, 'et_ne': 650, 'xgb_Scaler': 'log', 'booster': 'gbtree', 'lambda': 0.19880178533302612, 'alpha': 0.25507881195411714, 'max_depth': 1, 'eta': 0.6916020568415487, 'gamma': 2.3223648464847334e-08, 'grow_policy': 'depthwise'}. Best is trial#881 with value: 3.06716894171875.\n"
          ],
          "name": "stderr"
        },
        {
          "output_type": "stream",
          "text": [
            "[0]\tvalidation-rmse:14.6605\n",
            "[1]\tvalidation-rmse:9.31799\n",
            "[2]\tvalidation-rmse:6.38087\n",
            "[3]\tvalidation-rmse:4.81459\n",
            "[4]\tvalidation-rmse:4.00578\n",
            "[5]\tvalidation-rmse:3.77586\n",
            "[6]\tvalidation-rmse:3.66142\n",
            "[7]\tvalidation-rmse:3.60606\n",
            "[8]\tvalidation-rmse:3.57007\n",
            "[9]\tvalidation-rmse:3.6435\n"
          ],
          "name": "stdout"
        },
        {
          "output_type": "stream",
          "text": [
            "[I 2020-07-08 14:12:05,251] Finished trial#965 with value: 3.2869978030079063 with parameters: {'combos': 1, 'ada_Scaler': 'log', 'ada_ne': 104, 'ada_lr': 0.7315659225334562, 'et_Scaler': 'stand', 'et_max_depth': 9, 'et_ne': 678, 'xgb_Scaler': 'log', 'booster': 'gbtree', 'lambda': 0.043011011954117134, 'alpha': 0.14266461823901017, 'max_depth': 3, 'eta': 0.40129284599538323, 'gamma': 1.2907540507447148e-07, 'grow_policy': 'depthwise'}. Best is trial#881 with value: 3.06716894171875.\n"
          ],
          "name": "stderr"
        },
        {
          "output_type": "stream",
          "text": [
            "[0]\tvalidation-rmse:17.045\n",
            "[1]\tvalidation-rmse:12.3496\n",
            "[2]\tvalidation-rmse:9.09268\n",
            "[3]\tvalidation-rmse:7.00868\n",
            "[4]\tvalidation-rmse:5.63242\n",
            "[5]\tvalidation-rmse:4.65579\n",
            "[6]\tvalidation-rmse:4.21307\n",
            "[7]\tvalidation-rmse:4.02619\n",
            "[8]\tvalidation-rmse:3.91011\n",
            "[9]\tvalidation-rmse:3.89544\n"
          ],
          "name": "stdout"
        },
        {
          "output_type": "stream",
          "text": [
            "[I 2020-07-08 14:12:06,795] Finished trial#966 with value: 3.485170038997184 with parameters: {'combos': 1, 'ada_Scaler': 'log', 'ada_ne': 265, 'ada_lr': 0.09349568483004311, 'et_Scaler': 'stand', 'et_max_depth': 8, 'et_ne': 621, 'xgb_Scaler': 'log', 'booster': 'gbtree', 'lambda': 5.4232936928016635e-08, 'alpha': 0.0028979071001310223, 'max_depth': 3, 'eta': 0.29648101881227196, 'gamma': 5.7133949532391734e-08, 'grow_policy': 'depthwise'}. Best is trial#881 with value: 3.06716894171875.\n"
          ],
          "name": "stderr"
        },
        {
          "output_type": "stream",
          "text": [
            "[0]\tvalidation-rmse:6.26492\n",
            "[1]\tvalidation-rmse:5.31053\n",
            "[2]\tvalidation-rmse:5.24727\n",
            "[3]\tvalidation-rmse:5.24618\n",
            "[4]\tvalidation-rmse:5.27491\n",
            "[5]\tvalidation-rmse:5.07942\n",
            "[6]\tvalidation-rmse:5.31632\n",
            "[7]\tvalidation-rmse:5.19893\n",
            "[8]\tvalidation-rmse:5.21651\n",
            "[9]\tvalidation-rmse:5.29587\n"
          ],
          "name": "stdout"
        },
        {
          "output_type": "stream",
          "text": [
            "[I 2020-07-08 14:12:08,173] Finished trial#967 with value: 3.4425389930750483 with parameters: {'combos': 1, 'ada_Scaler': 'log', 'ada_ne': 167, 'ada_lr': 0.6051779809284017, 'et_Scaler': 'stand', 'et_max_depth': 9, 'et_ne': 611, 'xgb_Scaler': 'log', 'booster': 'gbtree', 'lambda': 0.014002942988827847, 'alpha': 0.004463062072421575, 'max_depth': 3, 'eta': 0.9926091564717932, 'gamma': 3.4918622894200085e-08, 'grow_policy': 'depthwise'}. Best is trial#881 with value: 3.06716894171875.\n"
          ],
          "name": "stderr"
        },
        {
          "output_type": "stream",
          "text": [
            "[0]\tvalidation-rmse:11.363\n",
            "[1]\tvalidation-rmse:6.21288\n",
            "[2]\tvalidation-rmse:4.1951\n",
            "[3]\tvalidation-rmse:3.83031\n",
            "[4]\tvalidation-rmse:3.84026\n",
            "[5]\tvalidation-rmse:3.92871\n",
            "[6]\tvalidation-rmse:3.91949\n",
            "[7]\tvalidation-rmse:3.95651\n",
            "[8]\tvalidation-rmse:3.96804\n",
            "[9]\tvalidation-rmse:3.96002\n"
          ],
          "name": "stdout"
        },
        {
          "output_type": "stream",
          "text": [
            "[I 2020-07-08 14:12:09,521] Finished trial#968 with value: 3.3508822109462866 with parameters: {'combos': 1, 'ada_Scaler': 'minmax', 'ada_ne': 214, 'ada_lr': 0.47283481219589074, 'et_Scaler': 'stand', 'et_max_depth': 8, 'et_ne': 577, 'xgb_Scaler': 'log', 'booster': 'gbtree', 'lambda': 0.005363709668705654, 'alpha': 0.042605480973033835, 'max_depth': 3, 'eta': 0.5550920852151341, 'gamma': 9.088513535687155e-08, 'grow_policy': 'depthwise'}. Best is trial#881 with value: 3.06716894171875.\n"
          ],
          "name": "stderr"
        },
        {
          "output_type": "stream",
          "text": [
            "[0]\tvalidation-rmse:14.0961\n",
            "[1]\tvalidation-rmse:8.6392\n",
            "[2]\tvalidation-rmse:5.92981\n",
            "[3]\tvalidation-rmse:4.46607\n",
            "[4]\tvalidation-rmse:3.94377\n",
            "[5]\tvalidation-rmse:3.86891\n",
            "[6]\tvalidation-rmse:3.81361\n",
            "[7]\tvalidation-rmse:3.80244\n",
            "[8]\tvalidation-rmse:3.79846\n",
            "[9]\tvalidation-rmse:3.78229\n"
          ],
          "name": "stdout"
        },
        {
          "output_type": "stream",
          "text": [
            "[I 2020-07-08 14:12:10,639] Finished trial#969 with value: 3.365146206516248 with parameters: {'combos': 1, 'ada_Scaler': 'log', 'ada_ne': 62, 'ada_lr': 0.6895080917220489, 'et_Scaler': 'stand', 'et_max_depth': 7, 'et_ne': 632, 'xgb_Scaler': 'log', 'booster': 'gbtree', 'lambda': 0.05733656694957483, 'alpha': 0.006805540245653401, 'max_depth': 3, 'eta': 0.4266434099414585, 'gamma': 1.0532440770469521e-08, 'grow_policy': 'depthwise'}. Best is trial#881 with value: 3.06716894171875.\n"
          ],
          "name": "stderr"
        },
        {
          "output_type": "stream",
          "text": [
            "[0]\tvalidation-rmse:8.25775\n",
            "[1]\tvalidation-rmse:4.52371\n",
            "[2]\tvalidation-rmse:3.84773\n",
            "[3]\tvalidation-rmse:3.82247\n",
            "[4]\tvalidation-rmse:3.88375\n",
            "[5]\tvalidation-rmse:3.823\n",
            "[6]\tvalidation-rmse:3.84671\n",
            "[7]\tvalidation-rmse:3.84229\n",
            "[8]\tvalidation-rmse:3.83302\n",
            "[9]\tvalidation-rmse:3.83153\n"
          ],
          "name": "stdout"
        },
        {
          "output_type": "stream",
          "text": [
            "[I 2020-07-08 14:12:12,272] Finished trial#970 with value: 3.200474767169311 with parameters: {'combos': 1, 'ada_Scaler': 'log', 'ada_ne': 135, 'ada_lr': 0.5792187878975932, 'et_Scaler': 'stand', 'et_max_depth': 15, 'et_ne': 657, 'xgb_Scaler': 'log', 'booster': 'gbtree', 'lambda': 0.08640425164746524, 'alpha': 0.0014476182734539903, 'max_depth': 3, 'eta': 0.7058053836753913, 'gamma': 2.3789910012381962e-08, 'grow_policy': 'depthwise'}. Best is trial#881 with value: 3.06716894171875.\n",
            "[I 2020-07-08 14:12:12,907] Setting status of trial#971 as TrialState.PRUNED. Trial was pruned at iteration 11.\n",
            "[I 2020-07-08 14:12:14,198] Setting status of trial#972 as TrialState.PRUNED. Trial was pruned at iteration 11.\n"
          ],
          "name": "stderr"
        },
        {
          "output_type": "stream",
          "text": [
            "[0]\tvalidation-rmse:20.0202\n",
            "[1]\tvalidation-rmse:16.6437\n",
            "[2]\tvalidation-rmse:13.9301\n",
            "[3]\tvalidation-rmse:11.7783\n",
            "[4]\tvalidation-rmse:9.96257\n",
            "[5]\tvalidation-rmse:8.51411\n",
            "[6]\tvalidation-rmse:7.37409\n",
            "[7]\tvalidation-rmse:6.47711\n",
            "[8]\tvalidation-rmse:5.80108\n",
            "[9]\tvalidation-rmse:5.23545\n"
          ],
          "name": "stdout"
        },
        {
          "output_type": "stream",
          "text": [
            "[I 2020-07-08 14:12:15,602] Finished trial#973 with value: 3.6483359944275464 with parameters: {'combos': 1, 'ada_Scaler': 'log', 'ada_ne': 118, 'ada_lr': 0.5025543535592804, 'et_Scaler': 'stand', 'et_max_depth': 9, 'et_ne': 625, 'xgb_Scaler': 'log', 'booster': 'gbtree', 'lambda': 0.5948242770596295, 'alpha': 0.0036082182731011054, 'max_depth': 3, 'eta': 0.17715622169748152, 'gamma': 2.1073601396510538e-07, 'grow_policy': 'depthwise'}. Best is trial#881 with value: 3.06716894171875.\n"
          ],
          "name": "stderr"
        },
        {
          "output_type": "stream",
          "text": [
            "[0]\tvalidation-rmse:7.61975\n",
            "[1]\tvalidation-rmse:4.70938\n",
            "[2]\tvalidation-rmse:4.65409\n",
            "[3]\tvalidation-rmse:4.71053\n",
            "[4]\tvalidation-rmse:4.71584\n",
            "[5]\tvalidation-rmse:4.65879\n",
            "[6]\tvalidation-rmse:4.65742\n",
            "[7]\tvalidation-rmse:4.60496\n",
            "[8]\tvalidation-rmse:4.53478\n",
            "[9]\tvalidation-rmse:4.45608\n"
          ],
          "name": "stdout"
        },
        {
          "output_type": "stream",
          "text": [
            "[I 2020-07-08 14:12:16,846] Finished trial#974 with value: 3.435966712153793 with parameters: {'combos': 1, 'ada_Scaler': 'log', 'ada_ne': 91, 'ada_lr': 0.6171351237481848, 'et_Scaler': 'stand', 'et_max_depth': 8, 'et_ne': 650, 'xgb_Scaler': 'log', 'booster': 'gbtree', 'lambda': 0.028906697757308534, 'alpha': 0.02302025291645585, 'max_depth': 4, 'eta': 0.7314459357568116, 'gamma': 1.689714601299123e-08, 'grow_policy': 'depthwise'}. Best is trial#881 with value: 3.06716894171875.\n"
          ],
          "name": "stderr"
        },
        {
          "output_type": "stream",
          "text": [
            "[0]\tvalidation-rmse:17.5936\n",
            "[1]\tvalidation-rmse:13.0733\n",
            "[2]\tvalidation-rmse:10.0525\n",
            "[3]\tvalidation-rmse:7.8567\n",
            "[4]\tvalidation-rmse:6.2587\n",
            "[5]\tvalidation-rmse:5.24907\n",
            "[6]\tvalidation-rmse:4.65027\n",
            "[7]\tvalidation-rmse:4.06336\n",
            "[8]\tvalidation-rmse:3.85425\n",
            "[9]\tvalidation-rmse:3.74771\n"
          ],
          "name": "stdout"
        },
        {
          "output_type": "stream",
          "text": [
            "[I 2020-07-08 14:12:18,202] Finished trial#975 with value: 3.227098821129482 with parameters: {'combos': 1, 'ada_Scaler': 'log', 'ada_ne': 183, 'ada_lr': 0.7371109204493075, 'et_Scaler': 'stand', 'et_max_depth': 9, 'et_ne': 588, 'xgb_Scaler': 'log', 'booster': 'gbtree', 'lambda': 0.12705646716711913, 'alpha': 0.006480550643828971, 'max_depth': 2, 'eta': 0.28780401981278864, 'gamma': 3.665195236155915e-08, 'grow_policy': 'depthwise'}. Best is trial#881 with value: 3.06716894171875.\n"
          ],
          "name": "stderr"
        },
        {
          "output_type": "stream",
          "text": [
            "[0]\tvalidation-rmse:12.9433\n",
            "[1]\tvalidation-rmse:7.45453\n",
            "[2]\tvalidation-rmse:5.17247\n",
            "[3]\tvalidation-rmse:4.21948\n",
            "[4]\tvalidation-rmse:3.97333\n",
            "[5]\tvalidation-rmse:3.94862\n",
            "[6]\tvalidation-rmse:3.9466\n",
            "[7]\tvalidation-rmse:3.92032\n",
            "[8]\tvalidation-rmse:3.90707\n",
            "[9]\tvalidation-rmse:3.81962\n"
          ],
          "name": "stdout"
        },
        {
          "output_type": "stream",
          "text": [
            "[I 2020-07-08 14:12:19,996] Finished trial#976 with value: 3.2567981311745187 with parameters: {'combos': 1, 'ada_Scaler': 'log', 'ada_ne': 232, 'ada_lr': 0.6678397485411357, 'et_Scaler': 'stand', 'et_max_depth': 12, 'et_ne': 703, 'xgb_Scaler': 'log', 'booster': 'gbtree', 'lambda': 0.010818649687155842, 'alpha': 0.002173642638092119, 'max_depth': 3, 'eta': 0.4803862634564714, 'gamma': 6.076876526571631e-08, 'grow_policy': 'lossguide'}. Best is trial#881 with value: 3.06716894171875.\n"
          ],
          "name": "stderr"
        },
        {
          "output_type": "stream",
          "text": [
            "[0]\tvalidation-rmse:7.57593\n",
            "[1]\tvalidation-rmse:4.9202\n",
            "[2]\tvalidation-rmse:4.89386\n",
            "[3]\tvalidation-rmse:4.87806\n",
            "[4]\tvalidation-rmse:4.69661\n",
            "[5]\tvalidation-rmse:4.70237\n",
            "[6]\tvalidation-rmse:4.51008\n",
            "[7]\tvalidation-rmse:4.54178\n",
            "[8]\tvalidation-rmse:4.56479\n",
            "[9]\tvalidation-rmse:4.6548\n"
          ],
          "name": "stdout"
        },
        {
          "output_type": "stream",
          "text": [
            "[I 2020-07-08 14:12:21,461] Finished trial#977 with value: 3.3835958416554854 with parameters: {'combos': 1, 'ada_Scaler': 'log', 'ada_ne': 161, 'ada_lr': 0.5416404624563702, 'et_Scaler': 'stand', 'et_max_depth': 9, 'et_ne': 679, 'xgb_Scaler': 'log', 'booster': 'gbtree', 'lambda': 0.04933763496817884, 'alpha': 3.3916807650009815e-07, 'max_depth': 3, 'eta': 0.7433962658565039, 'gamma': 2.4837700280311423e-08, 'grow_policy': 'depthwise'}. Best is trial#881 with value: 3.06716894171875.\n"
          ],
          "name": "stderr"
        },
        {
          "output_type": "stream",
          "text": [
            "[0]\tvalidation-rmse:6.25528\n",
            "[1]\tvalidation-rmse:5.3007\n",
            "[2]\tvalidation-rmse:5.23667\n",
            "[3]\tvalidation-rmse:5.23477\n",
            "[4]\tvalidation-rmse:5.26351\n",
            "[5]\tvalidation-rmse:5.18569\n",
            "[6]\tvalidation-rmse:5.18546\n",
            "[7]\tvalidation-rmse:5.338\n",
            "[8]\tvalidation-rmse:5.31489\n",
            "[9]\tvalidation-rmse:5.25102\n"
          ],
          "name": "stdout"
        },
        {
          "output_type": "stream",
          "text": [
            "[I 2020-07-08 14:12:22,844] Finished trial#978 with value: 3.5402778392502494 with parameters: {'combos': 1, 'ada_Scaler': 'log', 'ada_ne': 210, 'ada_lr': 0.589847130961969, 'et_Scaler': 'stand', 'et_max_depth': 8, 'et_ne': 610, 'xgb_Scaler': 'log', 'booster': 'gbtree', 'lambda': 0.01962184882788831, 'alpha': 0.01102131380901807, 'max_depth': 3, 'eta': 0.9953110313829607, 'gamma': 8.362215674546643e-08, 'grow_policy': 'depthwise'}. Best is trial#881 with value: 3.06716894171875.\n"
          ],
          "name": "stderr"
        },
        {
          "output_type": "stream",
          "text": [
            "[0]\tvalidation-rmse:15.0775\n",
            "[1]\tvalidation-rmse:9.79113\n",
            "[2]\tvalidation-rmse:6.74688\n",
            "[3]\tvalidation-rmse:5.08034\n",
            "[4]\tvalidation-rmse:4.21177\n",
            "[5]\tvalidation-rmse:3.89789\n",
            "[6]\tvalidation-rmse:3.78488\n",
            "[7]\tvalidation-rmse:3.7416\n",
            "[8]\tvalidation-rmse:3.6918\n",
            "[9]\tvalidation-rmse:3.81627\n"
          ],
          "name": "stdout"
        },
        {
          "output_type": "stream",
          "text": [
            "[I 2020-07-08 14:12:24,283] Finished trial#979 with value: 3.3032550672059102 with parameters: {'combos': 1, 'ada_Scaler': 'log', 'ada_ne': 137, 'ada_lr': 0.69204767169447, 'et_Scaler': 'stand', 'et_max_depth': 13, 'et_ne': 560, 'xgb_Scaler': 'log', 'booster': 'gbtree', 'lambda': 0.03549823735602037, 'alpha': 0.01677910733583644, 'max_depth': 3, 'eta': 0.38400657713424585, 'gamma': 1.0058691676457699e-08, 'grow_policy': 'depthwise'}. Best is trial#881 with value: 3.06716894171875.\n",
            "[I 2020-07-08 14:12:25,574] Setting status of trial#980 as TrialState.PRUNED. Trial was pruned at iteration 11.\n"
          ],
          "name": "stderr"
        },
        {
          "output_type": "stream",
          "text": [
            "[0]\tvalidation-rmse:11.0247\n",
            "[1]\tvalidation-rmse:5.79627\n",
            "[2]\tvalidation-rmse:4.03407\n",
            "[3]\tvalidation-rmse:3.71669\n",
            "[4]\tvalidation-rmse:3.65785\n",
            "[5]\tvalidation-rmse:3.7336\n",
            "[6]\tvalidation-rmse:3.68287\n",
            "[7]\tvalidation-rmse:3.82809\n",
            "[8]\tvalidation-rmse:3.74768\n",
            "[9]\tvalidation-rmse:3.71536\n"
          ],
          "name": "stdout"
        },
        {
          "output_type": "stream",
          "text": [
            "[I 2020-07-08 14:12:26,743] Finished trial#981 with value: 3.178815940877168 with parameters: {'combos': 1, 'ada_Scaler': 'log', 'ada_ne': 77, 'ada_lr': 0.7553986853038178, 'et_Scaler': 'stand', 'et_max_depth': 8, 'et_ne': 533, 'xgb_Scaler': 'log', 'booster': 'gbtree', 'lambda': 0.08495268219412351, 'alpha': 0.004710876815177903, 'max_depth': 3, 'eta': 0.567789854794002, 'gamma': 4.981941332256899e-08, 'grow_policy': 'depthwise'}. Best is trial#881 with value: 3.06716894171875.\n"
          ],
          "name": "stderr"
        },
        {
          "output_type": "stream",
          "text": [
            "[0]\tvalidation-rmse:18.493\n",
            "[1]\tvalidation-rmse:14.3097\n",
            "[2]\tvalidation-rmse:11.199\n",
            "[3]\tvalidation-rmse:8.84483\n",
            "[4]\tvalidation-rmse:7.12442\n",
            "[5]\tvalidation-rmse:5.88384\n",
            "[6]\tvalidation-rmse:5.10043\n",
            "[7]\tvalidation-rmse:4.56715\n",
            "[8]\tvalidation-rmse:4.24115\n",
            "[9]\tvalidation-rmse:4.01434\n"
          ],
          "name": "stdout"
        },
        {
          "output_type": "stream",
          "text": [
            "[I 2020-07-08 14:12:27,837] Finished trial#982 with value: 3.3334482684773663 with parameters: {'combos': 1, 'ada_Scaler': 'log', 'ada_ne': 93, 'ada_lr': 0.7620397710723846, 'et_Scaler': 'stand', 'et_max_depth': 8, 'et_ne': 527, 'xgb_Scaler': 'log', 'booster': 'gbtree', 'lambda': 0.06143443217336794, 'alpha': 0.008339507724016251, 'max_depth': 3, 'eta': 0.2343039252656025, 'gamma': 1.5413519684514999e-07, 'grow_policy': 'depthwise'}. Best is trial#881 with value: 3.06716894171875.\n"
          ],
          "name": "stderr"
        },
        {
          "output_type": "stream",
          "text": [
            "[0]\tvalidation-rmse:12.5747\n",
            "[1]\tvalidation-rmse:7.1025\n",
            "[2]\tvalidation-rmse:4.93642\n",
            "[3]\tvalidation-rmse:4.20558\n",
            "[4]\tvalidation-rmse:3.99882\n",
            "[5]\tvalidation-rmse:4.02174\n",
            "[6]\tvalidation-rmse:3.86271\n",
            "[7]\tvalidation-rmse:3.85877\n",
            "[8]\tvalidation-rmse:3.81402\n",
            "[9]\tvalidation-rmse:3.83337\n"
          ],
          "name": "stdout"
        },
        {
          "output_type": "stream",
          "text": [
            "[I 2020-07-08 14:12:28,890] Finished trial#983 with value: 3.4378989640148943 with parameters: {'combos': 1, 'ada_Scaler': 'log', 'ada_ne': 54, 'ada_lr': 0.7917373977157021, 'et_Scaler': 'stand', 'et_max_depth': 8, 'et_ne': 555, 'xgb_Scaler': 'log', 'booster': 'gbtree', 'lambda': 2.766633495585004e-06, 'alpha': 0.006675851321852481, 'max_depth': 4, 'eta': 0.48526673476790466, 'gamma': 1.035203074006447e-07, 'grow_policy': 'depthwise'}. Best is trial#881 with value: 3.06716894171875.\n"
          ],
          "name": "stderr"
        },
        {
          "output_type": "stream",
          "text": [
            "[0]\tvalidation-rmse:16.4213\n",
            "[1]\tvalidation-rmse:11.4582\n",
            "[2]\tvalidation-rmse:8.24374\n",
            "[3]\tvalidation-rmse:6.17909\n",
            "[4]\tvalidation-rmse:4.89079\n",
            "[5]\tvalidation-rmse:4.16131\n",
            "[6]\tvalidation-rmse:3.81394\n",
            "[7]\tvalidation-rmse:3.74119\n",
            "[8]\tvalidation-rmse:3.71641\n",
            "[9]\tvalidation-rmse:3.65881\n"
          ],
          "name": "stdout"
        },
        {
          "output_type": "stream",
          "text": [
            "[I 2020-07-08 14:12:29,948] Finished trial#984 with value: 3.362629176250054 with parameters: {'combos': 1, 'ada_Scaler': 'log', 'ada_ne': 78, 'ada_lr': 0.7698785379832037, 'et_Scaler': 'stand', 'et_max_depth': 8, 'et_ne': 527, 'xgb_Scaler': 'log', 'booster': 'gbtree', 'lambda': 0.025867762904662767, 'alpha': 0.005053928012700747, 'max_depth': 3, 'eta': 0.32429446427123176, 'gamma': 5.900846842652633e-08, 'grow_policy': 'depthwise'}. Best is trial#881 with value: 3.06716894171875.\n"
          ],
          "name": "stderr"
        },
        {
          "output_type": "stream",
          "text": [
            "[0]\tvalidation-rmse:11.7662\n",
            "[1]\tvalidation-rmse:6.34425\n",
            "[2]\tvalidation-rmse:4.24611\n",
            "[3]\tvalidation-rmse:3.66489\n",
            "[4]\tvalidation-rmse:3.60654\n",
            "[5]\tvalidation-rmse:3.71273\n",
            "[6]\tvalidation-rmse:3.69473\n",
            "[7]\tvalidation-rmse:3.79042\n",
            "[8]\tvalidation-rmse:3.8163\n",
            "[9]\tvalidation-rmse:3.82721\n"
          ],
          "name": "stdout"
        },
        {
          "output_type": "stream",
          "text": [
            "[I 2020-07-08 14:12:31,739] Finished trial#985 with value: 3.4252954040364694 with parameters: {'combos': 6, 'et_Scaler': 'stand', 'et_max_depth': 7, 'et_ne': 518, 'rf_Scaler': 'minmax', 'rf_max_depth': 5, 'rf_ne': 465, 'xgb_Scaler': 'log', 'booster': 'gbtree', 'lambda': 0.03706154738041635, 'alpha': 0.014814704035286888, 'max_depth': 3, 'eta': 0.5318563308969585, 'gamma': 1.0176879501660077e-08, 'grow_policy': 'depthwise'}. Best is trial#881 with value: 3.06716894171875.\n"
          ],
          "name": "stderr"
        },
        {
          "output_type": "stream",
          "text": [
            "[0]\tvalidation-rmse:20.6007\n",
            "[1]\tvalidation-rmse:17.7578\n",
            "[2]\tvalidation-rmse:15.3284\n",
            "[3]\tvalidation-rmse:13.3235\n",
            "[4]\tvalidation-rmse:11.5666\n",
            "[5]\tvalidation-rmse:10.2219\n",
            "[6]\tvalidation-rmse:9.00998\n",
            "[7]\tvalidation-rmse:7.92796\n",
            "[8]\tvalidation-rmse:7.08934\n",
            "[9]\tvalidation-rmse:6.38235\n"
          ],
          "name": "stdout"
        },
        {
          "output_type": "stream",
          "text": [
            "[I 2020-07-08 14:12:32,633] Finished trial#986 with value: 3.978010232103093 with parameters: {'combos': 1, 'ada_Scaler': 'log', 'ada_ne': 13, 'ada_lr': 0.3436166933844192, 'et_Scaler': 'stand', 'et_max_depth': 7, 'et_ne': 535, 'xgb_Scaler': 'log', 'booster': 'gbtree', 'lambda': 0.08404023611098109, 'alpha': 0.009619733024855593, 'max_depth': 2, 'eta': 0.15118870363910233, 'gamma': 1.7035934331451308e-08, 'grow_policy': 'depthwise'}. Best is trial#881 with value: 3.06716894171875.\n"
          ],
          "name": "stderr"
        },
        {
          "output_type": "stream",
          "text": [
            "[0]\tvalidation-rmse:16.0263\n",
            "[1]\tvalidation-rmse:10.7797\n",
            "[2]\tvalidation-rmse:7.58146\n",
            "[3]\tvalidation-rmse:5.60898\n",
            "[4]\tvalidation-rmse:4.56032\n",
            "[5]\tvalidation-rmse:3.94849\n",
            "[6]\tvalidation-rmse:3.63809\n",
            "[7]\tvalidation-rmse:3.5903\n",
            "[8]\tvalidation-rmse:3.52888\n",
            "[9]\tvalidation-rmse:3.47479\n"
          ],
          "name": "stdout"
        },
        {
          "output_type": "stream",
          "text": [
            "[I 2020-07-08 14:12:33,654] Finished trial#987 with value: 3.2983876500186855 with parameters: {'combos': 1, 'ada_Scaler': 'log', 'ada_ne': 63, 'ada_lr': 0.7918114388195987, 'et_Scaler': 'stand', 'et_max_depth': 7, 'et_ne': 560, 'xgb_Scaler': 'log', 'booster': 'gbtree', 'lambda': 0.19674132524837143, 'alpha': 0.03343041547328749, 'max_depth': 3, 'eta': 0.3510080220046642, 'gamma': 3.1153180623844525e-07, 'grow_policy': 'depthwise'}. Best is trial#881 with value: 3.06716894171875.\n"
          ],
          "name": "stderr"
        },
        {
          "output_type": "stream",
          "text": [
            "[0]\tvalidation-rmse:11.7867\n",
            "[1]\tvalidation-rmse:6.41964\n",
            "[2]\tvalidation-rmse:4.88268\n",
            "[3]\tvalidation-rmse:4.4029\n",
            "[4]\tvalidation-rmse:4.23747\n",
            "[5]\tvalidation-rmse:4.04697\n",
            "[6]\tvalidation-rmse:4.09042\n",
            "[7]\tvalidation-rmse:4.0701\n",
            "[8]\tvalidation-rmse:4.01052\n",
            "[9]\tvalidation-rmse:3.98151\n"
          ],
          "name": "stdout"
        },
        {
          "output_type": "stream",
          "text": [
            "[I 2020-07-08 14:12:34,636] Finished trial#988 with value: 3.3098620160394616 with parameters: {'combos': 1, 'ada_Scaler': 'log', 'ada_ne': 44, 'ada_lr': 0.8117958029423843, 'et_Scaler': 'stand', 'et_max_depth': 8, 'et_ne': 513, 'xgb_Scaler': 'minmax', 'booster': 'gbtree', 'lambda': 0.04809338654633168, 'alpha': 0.024322963956640374, 'max_depth': 3, 'eta': 0.5611213668375216, 'gamma': 2.9607814455255215e-08, 'grow_policy': 'depthwise'}. Best is trial#881 with value: 3.06716894171875.\n",
            "[I 2020-07-08 14:12:35,471] Setting status of trial#989 as TrialState.PRUNED. Trial was pruned at iteration 11.\n"
          ],
          "name": "stderr"
        },
        {
          "output_type": "stream",
          "text": [
            "[0]\tvalidation-rmse:8.56163\n",
            "[1]\tvalidation-rmse:7.89656\n",
            "[2]\tvalidation-rmse:7.61957\n",
            "[3]\tvalidation-rmse:7.46073\n",
            "[4]\tvalidation-rmse:7.36329\n",
            "[5]\tvalidation-rmse:7.28676\n",
            "[6]\tvalidation-rmse:7.22008\n",
            "[7]\tvalidation-rmse:7.15883\n",
            "[8]\tvalidation-rmse:7.10083\n",
            "[9]\tvalidation-rmse:7.04494\n"
          ],
          "name": "stdout"
        },
        {
          "output_type": "stream",
          "text": [
            "[I 2020-07-08 14:12:36,628] Finished trial#990 with value: 3.97863911857552 with parameters: {'combos': 1, 'ada_Scaler': 'log', 'ada_ne': 72, 'ada_lr': 0.7376256561182377, 'et_Scaler': 'stand', 'et_max_depth': 8, 'et_ne': 541, 'xgb_Scaler': 'log', 'booster': 'gblinear', 'lambda': 0.019205010146191186, 'alpha': 0.010678100665759471}. Best is trial#881 with value: 3.06716894171875.\n"
          ],
          "name": "stderr"
        },
        {
          "output_type": "stream",
          "text": [
            "[0]\tvalidation-rmse:6.07986\n",
            "[1]\tvalidation-rmse:6.1756\n",
            "[2]\tvalidation-rmse:6.26491\n",
            "[3]\tvalidation-rmse:6.20224\n",
            "[4]\tvalidation-rmse:6.15278\n",
            "[5]\tvalidation-rmse:6.19814\n",
            "[6]\tvalidation-rmse:6.20465\n",
            "[7]\tvalidation-rmse:6.20792\n",
            "[8]\tvalidation-rmse:6.20682\n",
            "[9]\tvalidation-rmse:6.21031\n"
          ],
          "name": "stdout"
        },
        {
          "output_type": "stream",
          "text": [
            "[I 2020-07-08 14:12:37,618] Finished trial#991 with value: 3.785812792062578 with parameters: {'combos': 1, 'ada_Scaler': 'log', 'ada_ne': 34, 'ada_lr': 0.824675437896315, 'et_Scaler': 'stand', 'et_max_depth': 8, 'et_ne': 539, 'xgb_Scaler': 'log', 'booster': 'gbtree', 'lambda': 1.5906261760173306e-08, 'alpha': 0.004456368765575543, 'max_depth': 7, 'eta': 0.9707340413748006, 'gamma': 4.8234944561781225e-08, 'grow_policy': 'depthwise'}. Best is trial#881 with value: 3.06716894171875.\n"
          ],
          "name": "stderr"
        },
        {
          "output_type": "stream",
          "text": [
            "[0]\tvalidation-rmse:18.2093\n",
            "[1]\tvalidation-rmse:13.9701\n",
            "[2]\tvalidation-rmse:10.8222\n",
            "[3]\tvalidation-rmse:8.47069\n",
            "[4]\tvalidation-rmse:6.79614\n",
            "[5]\tvalidation-rmse:5.6332\n",
            "[6]\tvalidation-rmse:4.8163\n",
            "[7]\tvalidation-rmse:4.31914\n",
            "[8]\tvalidation-rmse:4.04254\n",
            "[9]\tvalidation-rmse:3.8985\n"
          ],
          "name": "stdout"
        },
        {
          "output_type": "stream",
          "text": [
            "[I 2020-07-08 14:12:38,861] Finished trial#992 with value: 3.5149906186010447 with parameters: {'combos': 1, 'ada_Scaler': 'log', 'ada_ne': 104, 'ada_lr': 0.5162633975501232, 'et_Scaler': 'stand', 'et_max_depth': 9, 'et_ne': 570, 'xgb_Scaler': 'log', 'booster': 'dart', 'lambda': 0.062352069319434295, 'alpha': 0.01714169502629192, 'max_depth': 3, 'eta': 0.24656973972198926, 'gamma': 7.737588205302179e-08, 'grow_policy': 'depthwise', 'sample_type': 'uniform', 'normalize_type': 'tree', 'rate_drop': 0.0021150944834768433, 'skip_drop': 0.9965163849142651}. Best is trial#881 with value: 3.06716894171875.\n"
          ],
          "name": "stderr"
        },
        {
          "output_type": "stream",
          "text": [
            "[0]\tvalidation-rmse:14.6517\n",
            "[1]\tvalidation-rmse:9.29189\n",
            "[2]\tvalidation-rmse:6.37718\n",
            "[3]\tvalidation-rmse:4.83946\n",
            "[4]\tvalidation-rmse:4.06584\n",
            "[5]\tvalidation-rmse:3.84737\n",
            "[6]\tvalidation-rmse:3.65963\n",
            "[7]\tvalidation-rmse:3.58332\n",
            "[8]\tvalidation-rmse:3.59244\n",
            "[9]\tvalidation-rmse:3.60199\n"
          ],
          "name": "stdout"
        },
        {
          "output_type": "stream",
          "text": [
            "[I 2020-07-08 14:12:39,832] Finished trial#993 with value: 3.294090314808519 with parameters: {'combos': 1, 'ada_Scaler': 'log', 'ada_ne': 40, 'ada_lr': 0.5572970951276105, 'et_Scaler': 'stand', 'et_max_depth': 7, 'et_ne': 552, 'xgb_Scaler': 'log', 'booster': 'gbtree', 'lambda': 0.13246292566997153, 'alpha': 0.008071336074052126, 'max_depth': 3, 'eta': 0.4051871257025119, 'gamma': 1.5392113311947312e-07, 'grow_policy': 'lossguide'}. Best is trial#881 with value: 3.06716894171875.\n"
          ],
          "name": "stderr"
        },
        {
          "output_type": "stream",
          "text": [
            "[0]\tvalidation-rmse:6.11545\n",
            "[1]\tvalidation-rmse:5.26383\n",
            "[2]\tvalidation-rmse:5.19238\n",
            "[3]\tvalidation-rmse:5.17821\n",
            "[4]\tvalidation-rmse:5.78077\n",
            "[5]\tvalidation-rmse:5.8775\n",
            "[6]\tvalidation-rmse:5.72159\n",
            "[7]\tvalidation-rmse:5.73731\n",
            "[8]\tvalidation-rmse:5.84277\n",
            "[9]\tvalidation-rmse:5.80019\n"
          ],
          "name": "stdout"
        },
        {
          "output_type": "stream",
          "text": [
            "[I 2020-07-08 14:12:41,002] Finished trial#994 with value: 3.618057185263742 with parameters: {'combos': 1, 'ada_Scaler': 'minmax', 'ada_ne': 104, 'ada_lr': 0.7877517297022258, 'et_Scaler': 'stand', 'et_max_depth': 8, 'et_ne': 578, 'xgb_Scaler': 'stand', 'booster': 'gbtree', 'lambda': 0.014047640313385446, 'alpha': 0.0060712443773549415, 'max_depth': 3, 'eta': 0.9821080295066258, 'gamma': 2.2504877657593667e-08, 'grow_policy': 'depthwise'}. Best is trial#881 with value: 3.06716894171875.\n"
          ],
          "name": "stderr"
        },
        {
          "output_type": "stream",
          "text": [
            "[0]\tvalidation-rmse:9.20466\n",
            "[1]\tvalidation-rmse:5.28858\n",
            "[2]\tvalidation-rmse:4.18122\n",
            "[3]\tvalidation-rmse:4.04591\n",
            "[4]\tvalidation-rmse:4.10014\n",
            "[5]\tvalidation-rmse:4.44091\n",
            "[6]\tvalidation-rmse:4.42907\n",
            "[7]\tvalidation-rmse:4.37841\n",
            "[8]\tvalidation-rmse:4.40685\n",
            "[9]\tvalidation-rmse:4.4311\n"
          ],
          "name": "stdout"
        },
        {
          "output_type": "stream",
          "text": [
            "[I 2020-07-08 14:12:42,386] Finished trial#995 with value: 3.3736248657034773 with parameters: {'combos': 1, 'ada_Scaler': 'log', 'ada_ne': 117, 'ada_lr': 0.7088383416906933, 'et_Scaler': 'stand', 'et_max_depth': 9, 'et_ne': 670, 'xgb_Scaler': 'log', 'booster': 'gbtree', 'lambda': 0.029453830564815122, 'alpha': 1.2692366383835652e-07, 'max_depth': 3, 'eta': 0.6654011173797941, 'gamma': 1.3901785248880153e-08, 'grow_policy': 'depthwise'}. Best is trial#881 with value: 3.06716894171875.\n"
          ],
          "name": "stderr"
        },
        {
          "output_type": "stream",
          "text": [
            "[0]\tvalidation-rmse:5.34171\n",
            "[1]\tvalidation-rmse:5.04706\n",
            "[2]\tvalidation-rmse:4.97893\n",
            "[3]\tvalidation-rmse:4.99676\n",
            "[4]\tvalidation-rmse:5.02866\n",
            "[5]\tvalidation-rmse:4.94199\n",
            "[6]\tvalidation-rmse:4.76274\n",
            "[7]\tvalidation-rmse:4.75863\n",
            "[8]\tvalidation-rmse:4.76371\n",
            "[9]\tvalidation-rmse:4.76499\n"
          ],
          "name": "stdout"
        },
        {
          "output_type": "stream",
          "text": [
            "[I 2020-07-08 14:12:43,574] Finished trial#996 with value: 3.3926784179465623 with parameters: {'combos': 1, 'ada_Scaler': 'log', 'ada_ne': 121, 'ada_lr': 0.5795313772354551, 'et_Scaler': 'stand', 'et_max_depth': 8, 'et_ne': 565, 'xgb_Scaler': 'log', 'booster': 'gbtree', 'lambda': 0.08397483736460612, 'alpha': 0.0026019785329113453, 'max_depth': 3, 'eta': 0.9949968193623585, 'gamma': 4.4211002843722225e-08, 'grow_policy': 'depthwise'}. Best is trial#881 with value: 3.06716894171875.\n"
          ],
          "name": "stderr"
        },
        {
          "output_type": "stream",
          "text": [
            "[0]\tvalidation-rmse:12.8615\n",
            "[1]\tvalidation-rmse:7.62426\n",
            "[2]\tvalidation-rmse:5.26532\n",
            "[3]\tvalidation-rmse:4.55704\n",
            "[4]\tvalidation-rmse:4.31193\n",
            "[5]\tvalidation-rmse:4.1478\n",
            "[6]\tvalidation-rmse:4.15207\n",
            "[7]\tvalidation-rmse:4.21328\n",
            "[8]\tvalidation-rmse:4.1973\n",
            "[9]\tvalidation-rmse:4.22893\n"
          ],
          "name": "stdout"
        },
        {
          "output_type": "stream",
          "text": [
            "[I 2020-07-08 14:12:44,729] Finished trial#997 with value: 3.4240743725557246 with parameters: {'combos': 1, 'ada_Scaler': 'log', 'ada_ne': 62, 'ada_lr': 0.653831241890712, 'et_Scaler': 'stand', 'et_max_depth': 9, 'et_ne': 579, 'xgb_Scaler': 'log', 'booster': 'gbtree', 'lambda': 0.2719954489761886, 'alpha': 1.6650633850760197e-08, 'max_depth': 3, 'eta': 0.501571891949115, 'gamma': 1.1658389203888176e-07, 'grow_policy': 'depthwise'}. Best is trial#881 with value: 3.06716894171875.\n"
          ],
          "name": "stderr"
        },
        {
          "output_type": "stream",
          "text": [
            "[0]\tvalidation-rmse:16.7177\n",
            "[1]\tvalidation-rmse:11.913\n",
            "[2]\tvalidation-rmse:8.68823\n",
            "[3]\tvalidation-rmse:6.62358\n",
            "[4]\tvalidation-rmse:5.4267\n",
            "[5]\tvalidation-rmse:4.64771\n",
            "[6]\tvalidation-rmse:4.25325\n",
            "[7]\tvalidation-rmse:3.93473\n",
            "[8]\tvalidation-rmse:3.87738\n",
            "[9]\tvalidation-rmse:3.84108\n"
          ],
          "name": "stdout"
        },
        {
          "output_type": "stream",
          "text": [
            "[I 2020-07-08 14:12:45,974] Finished trial#998 with value: 3.409376882490111 with parameters: {'combos': 1, 'ada_Scaler': 'log', 'ada_ne': 82, 'ada_lr': 0.4516902166384415, 'et_Scaler': 'stand', 'et_max_depth': 9, 'et_ne': 627, 'xgb_Scaler': 'log', 'booster': 'gbtree', 'lambda': 0.04273169015828022, 'alpha': 0.011128749469161547, 'max_depth': 3, 'eta': 0.3108971975110843, 'gamma': 3.1973109896856295e-08, 'grow_policy': 'depthwise'}. Best is trial#881 with value: 3.06716894171875.\n"
          ],
          "name": "stderr"
        },
        {
          "output_type": "stream",
          "text": [
            "[0]\tvalidation-rmse:7.84421\n",
            "[1]\tvalidation-rmse:4.28042\n",
            "[2]\tvalidation-rmse:4.07671\n",
            "[3]\tvalidation-rmse:4.15154\n",
            "[4]\tvalidation-rmse:4.18091\n",
            "[5]\tvalidation-rmse:4.21876\n",
            "[6]\tvalidation-rmse:4.25333\n",
            "[7]\tvalidation-rmse:4.27839\n",
            "[8]\tvalidation-rmse:4.32215\n",
            "[9]\tvalidation-rmse:4.3593\n"
          ],
          "name": "stdout"
        },
        {
          "output_type": "stream",
          "text": [
            "[I 2020-07-08 14:12:47,030] Finished trial#999 with value: 3.3865367961676656 with parameters: {'combos': 1, 'ada_Scaler': 'log', 'ada_ne': 83, 'ada_lr': 0.6183807125477403, 'et_Scaler': 'stand', 'et_max_depth': 8, 'et_ne': 516, 'xgb_Scaler': 'log', 'booster': 'gbtree', 'lambda': 0.1189663592390239, 'alpha': 0.056581492422171385, 'max_depth': 5, 'eta': 0.7029625310165433, 'gamma': 6.974249033208561e-08, 'grow_policy': 'depthwise'}. Best is trial#881 with value: 3.06716894171875.\n"
          ],
          "name": "stderr"
        },
        {
          "output_type": "stream",
          "text": [
            "Best trial:\n",
            "  Params: \n",
            "    combos: 1\n",
            "    ada_Scaler: log\n",
            "    ada_ne: 173\n",
            "    ada_lr: 0.6716180264894074\n",
            "    et_Scaler: stand\n",
            "    et_max_depth: 10\n",
            "    et_ne: 593\n",
            "    xgb_Scaler: log\n",
            "    booster: gbtree\n",
            "    lambda: 0.056298103046901415\n",
            "    alpha: 0.0005885345642231615\n",
            "    max_depth: 3\n",
            "    eta: 0.5865796691943621\n",
            "    gamma: 6.697097340043158e-08\n",
            "    grow_policy: depthwise\n"
          ],
          "name": "stdout"
        }
      ]
    },
    {
      "cell_type": "code",
      "metadata": {
        "id": "Jqw72dcpYYbA",
        "colab_type": "code",
        "colab": {
          "base_uri": "https://localhost:8080/",
          "height": 35
        },
        "outputId": "52cb37ad-b3a2-41c6-a53f-a095ccb43433"
      },
      "source": [
        "comb[1]"
      ],
      "execution_count": 197,
      "outputs": [
        {
          "output_type": "execute_result",
          "data": {
            "text/plain": [
              "('ada', 'et', 'xgb')"
            ]
          },
          "metadata": {
            "tags": []
          },
          "execution_count": 197
        }
      ]
    },
    {
      "cell_type": "markdown",
      "metadata": {
        "id": "OZf0muwDLZlB",
        "colab_type": "text"
      },
      "source": [
        "3.067 : ('ada', 'et', 'xgb')\n",
        "\n",
        "\n",
        "\n",
        "```\n",
        "  Params: \n",
        "    combos: 1\n",
        "    ada_Scaler: log\n",
        "    ada_ne: 173\n",
        "    ada_lr: 0.6716180264894074\n",
        "    et_Scaler: stand\n",
        "    et_max_depth: 10\n",
        "    et_ne: 593\n",
        "    xgb_Scaler: log\n",
        "    booster: gbtree\n",
        "    lambda: 0.056298103046901415\n",
        "    alpha: 0.0005885345642231615\n",
        "    max_depth: 3\n",
        "    eta: 0.5865796691943621\n",
        "    gamma: 6.697097340043158e-08\n",
        "    grow_policy: depthwise\n",
        "```\n",
        "\n",
        "\n",
        "\n"
      ]
    },
    {
      "cell_type": "code",
      "metadata": {
        "id": "H7hy4db904fS",
        "colab_type": "code",
        "colab": {
          "base_uri": "https://localhost:8080/",
          "height": 468
        },
        "outputId": "e6801b91-54a1-410e-97ec-44ba4af5b40f"
      },
      "source": [
        "objective.fpredictions "
      ],
      "execution_count": 198,
      "outputs": [
        {
          "output_type": "execute_result",
          "data": {
            "text/plain": [
              "array([27.85772216, 27.39908626, 48.17995478, 18.33345253, 30.14070563,\n",
              "       37.29053558, 26.25861886, 10.15475066, 18.14889132, 29.62243171,\n",
              "       23.97859444, 19.98696824, 15.73101726, 26.59151738, 18.75253067,\n",
              "       20.55269833, 20.15853826, 42.75472066, 18.58739498, 15.48510911,\n",
              "       16.54584927, 45.3914744 , 35.21042146, 46.35623061, 48.51340702,\n",
              "       21.79671212, 16.1662488 , 20.632855  , 20.63631538, 21.8016087 ,\n",
              "       25.60592866, 31.17305858, 13.99109611, 21.13797821, 23.39973703,\n",
              "       32.81045667, 24.95684238, 14.94596067, 16.64715835, 47.23880925,\n",
              "       28.05968523, 19.49358329, 26.5581701 , 48.90793117, 16.9481093 ,\n",
              "       23.05092158, 19.3891282 , 22.99633326, 17.07364299, 19.91790302,\n",
              "       30.94912602, 25.8317543 , 19.39997722, 10.88814199, 20.99495711,\n",
              "       16.48914731, 13.93787858, 10.18333297, 33.5668052 , 11.20237941,\n",
              "       19.91155235, 18.3737015 , 16.89461203, 19.29234017, 21.27131705,\n",
              "       24.04901804, 24.36425727, 20.89394213, 24.4201314 , 27.94929521,\n",
              "       19.74252759, 25.33403003, 17.28790167, 25.9123166 , 16.44451764,\n",
              "       16.63531878, 11.43977836, 19.16597762, 30.52726524, 15.17126309,\n",
              "       32.39506504, 10.21351276, 24.63694802, 20.80589286, 18.22299324,\n",
              "       24.23841371, 15.87973525, 20.54756935, 20.83842337, 29.64733111,\n",
              "       14.48433205, 32.5303475 , 19.02837872, 26.12504384, 33.70861763,\n",
              "       29.56191121, 15.9919719 , 30.69012391, 26.0483593 , 34.55985829,\n",
              "       20.42365766, 15.73423696, 48.09816664, 14.97174075, 20.03645869,\n",
              "       26.77140724, 18.08230588, 14.55989022, 19.70093752, 24.76928705,\n",
              "       23.05843666, 19.88289464, 14.15439795, 21.13339319, 18.87177318,\n",
              "       26.25289119, 26.30468377, 14.23937913, 20.15280709, 18.61350579,\n",
              "       20.87413916, 35.49068727, 21.88393918, 11.41379609, 15.60508544,\n",
              "       20.5535389 , 22.31060219])"
            ]
          },
          "metadata": {
            "tags": []
          },
          "execution_count": 198
        }
      ]
    }
  ]
}