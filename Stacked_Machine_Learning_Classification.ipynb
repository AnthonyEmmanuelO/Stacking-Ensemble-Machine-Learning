{
  "nbformat": 4,
  "nbformat_minor": 0,
  "metadata": {
    "colab": {
      "name": "Stacked Machine Learning Classification",
      "provenance": [],
      "collapsed_sections": []
    },
    "kernelspec": {
      "name": "python3",
      "display_name": "Python 3"
    }
  },
  "cells": [
    {
      "cell_type": "code",
      "metadata": {
        "id": "_eqAhblB-0mX",
        "colab_type": "code",
        "colab": {
          "base_uri": "https://localhost:8080/",
          "height": 561
        },
        "outputId": "6c113ebc-f881-4751-a099-38fda8bb3253"
      },
      "source": [
        "from sklearn.datasets import load_breast_cancer\n",
        "!pip install optuna\n",
        "\n",
        "\n",
        "from sklearn.neural_network import MLPClassifier\n",
        "from sklearn.neighbors import KNeighborsClassifier\n",
        "from sklearn.svm import SVC\n",
        "from sklearn.ensemble import RandomForestClassifier, AdaBoostClassifier, ExtraTreesClassifier\n",
        "from sklearn.gaussian_process import GaussianProcessClassifier\n",
        "from sklearn.gaussian_process.kernels import RBF\n",
        "from sklearn.naive_bayes import GaussianNB\n",
        "from sklearn.discriminant_analysis import QuadraticDiscriminantAnalysis\n",
        "import lightgbm as lgb\n",
        "import xgboost as xgb\n",
        "# sklearn\n",
        "from sklearn import metrics\n",
        "from sklearn.metrics import roc_auc_score\n",
        "from sklearn.model_selection import train_test_split\n",
        "\n",
        "from sklearn.preprocessing import MinMaxScaler\n",
        "from sklearn.preprocessing import FunctionTransformer\n",
        "from sklearn.preprocessing import StandardScaler\n",
        "\n",
        "import sklearn.metrics\n",
        "\n",
        "import numpy as np\n",
        "import pandas as pd\n",
        "import time\n",
        "import matplotlib.pyplot as plt\n",
        "import seaborn as sns\n",
        "import random\n",
        "sns.set()\n",
        "\n",
        "from sklearn.manifold import TSNE\n",
        "from sklearn.cluster import DBSCAN\n",
        "from sklearn.decomposition import PCA\n",
        "from sklearn.neighbors import NearestNeighbors\n",
        "\n",
        "import operator as op \n",
        "from itertools import combinations"
      ],
      "execution_count": 4,
      "outputs": [
        {
          "output_type": "stream",
          "text": [
            "Requirement already satisfied: optuna in /usr/local/lib/python3.6/dist-packages (1.5.0)\n",
            "Requirement already satisfied: joblib in /usr/local/lib/python3.6/dist-packages (from optuna) (0.15.1)\n",
            "Requirement already satisfied: cmaes>=0.5.0 in /usr/local/lib/python3.6/dist-packages (from optuna) (0.5.1)\n",
            "Requirement already satisfied: tqdm in /usr/local/lib/python3.6/dist-packages (from optuna) (4.41.1)\n",
            "Requirement already satisfied: numpy in /usr/local/lib/python3.6/dist-packages (from optuna) (1.18.5)\n",
            "Requirement already satisfied: scipy!=1.4.0 in /usr/local/lib/python3.6/dist-packages (from optuna) (1.4.1)\n",
            "Requirement already satisfied: cliff in /usr/local/lib/python3.6/dist-packages (from optuna) (3.3.0)\n",
            "Requirement already satisfied: colorlog in /usr/local/lib/python3.6/dist-packages (from optuna) (4.1.0)\n",
            "Requirement already satisfied: sqlalchemy>=1.1.0 in /usr/local/lib/python3.6/dist-packages (from optuna) (1.3.17)\n",
            "Requirement already satisfied: alembic in /usr/local/lib/python3.6/dist-packages (from optuna) (1.4.2)\n",
            "Requirement already satisfied: cmd2!=0.8.3,>=0.8.0 in /usr/local/lib/python3.6/dist-packages (from cliff->optuna) (1.1.0)\n",
            "Requirement already satisfied: pyparsing>=2.1.0 in /usr/local/lib/python3.6/dist-packages (from cliff->optuna) (2.4.7)\n",
            "Requirement already satisfied: six>=1.10.0 in /usr/local/lib/python3.6/dist-packages (from cliff->optuna) (1.12.0)\n",
            "Requirement already satisfied: PrettyTable<0.8,>=0.7.2 in /usr/local/lib/python3.6/dist-packages (from cliff->optuna) (0.7.2)\n",
            "Requirement already satisfied: stevedore>=1.20.0 in /usr/local/lib/python3.6/dist-packages (from cliff->optuna) (3.0.0)\n",
            "Requirement already satisfied: pbr!=2.1.0,>=2.0.0 in /usr/local/lib/python3.6/dist-packages (from cliff->optuna) (5.4.5)\n",
            "Requirement already satisfied: PyYAML>=3.12 in /usr/local/lib/python3.6/dist-packages (from cliff->optuna) (3.13)\n",
            "Requirement already satisfied: python-dateutil in /usr/local/lib/python3.6/dist-packages (from alembic->optuna) (2.8.1)\n",
            "Requirement already satisfied: Mako in /usr/local/lib/python3.6/dist-packages (from alembic->optuna) (1.1.3)\n",
            "Requirement already satisfied: python-editor>=0.3 in /usr/local/lib/python3.6/dist-packages (from alembic->optuna) (1.0.4)\n",
            "Requirement already satisfied: wcwidth>=0.1.7 in /usr/local/lib/python3.6/dist-packages (from cmd2!=0.8.3,>=0.8.0->cliff->optuna) (0.2.5)\n",
            "Requirement already satisfied: attrs>=16.3.0 in /usr/local/lib/python3.6/dist-packages (from cmd2!=0.8.3,>=0.8.0->cliff->optuna) (19.3.0)\n",
            "Requirement already satisfied: setuptools>=34.4 in /usr/local/lib/python3.6/dist-packages (from cmd2!=0.8.3,>=0.8.0->cliff->optuna) (47.3.1)\n",
            "Requirement already satisfied: pyperclip>=1.6 in /usr/local/lib/python3.6/dist-packages (from cmd2!=0.8.3,>=0.8.0->cliff->optuna) (1.8.0)\n",
            "Requirement already satisfied: colorama>=0.3.7 in /usr/local/lib/python3.6/dist-packages (from cmd2!=0.8.3,>=0.8.0->cliff->optuna) (0.4.3)\n",
            "Requirement already satisfied: importlib-metadata>=1.7.0; python_version < \"3.8\" in /usr/local/lib/python3.6/dist-packages (from stevedore>=1.20.0->cliff->optuna) (1.7.0)\n",
            "Requirement already satisfied: MarkupSafe>=0.9.2 in /usr/local/lib/python3.6/dist-packages (from Mako->alembic->optuna) (1.1.1)\n",
            "Requirement already satisfied: zipp>=0.5 in /usr/local/lib/python3.6/dist-packages (from importlib-metadata>=1.7.0; python_version < \"3.8\"->stevedore>=1.20.0->cliff->optuna) (3.1.0)\n"
          ],
          "name": "stdout"
        },
        {
          "output_type": "stream",
          "text": [
            "/usr/local/lib/python3.6/dist-packages/statsmodels/tools/_testing.py:19: FutureWarning:\n",
            "\n",
            "pandas.util.testing is deprecated. Use the functions in the public API at pandas.testing instead.\n",
            "\n"
          ],
          "name": "stderr"
        }
      ]
    },
    {
      "cell_type": "code",
      "metadata": {
        "id": "2gr7r1Ob_Rxp",
        "colab_type": "code",
        "colab": {
          "base_uri": "https://localhost:8080/",
          "height": 34
        },
        "outputId": "1d7aafe9-4d00-4fbd-8beb-8ad042223905"
      },
      "source": [
        "X, y = load_breast_cancer(return_X_y=True)\n",
        "X.shape"
      ],
      "execution_count": 5,
      "outputs": [
        {
          "output_type": "execute_result",
          "data": {
            "text/plain": [
              "(569, 30)"
            ]
          },
          "metadata": {
            "tags": []
          },
          "execution_count": 5
        }
      ]
    },
    {
      "cell_type": "code",
      "metadata": {
        "id": "x89FSauXAS1B",
        "colab_type": "code",
        "colab": {
          "base_uri": "https://localhost:8080/",
          "height": 85
        },
        "outputId": "4c3f8b53-b01d-41c7-fa89-623409b20822"
      },
      "source": [
        "\n",
        "X, dy = load_breast_cancer(return_X_y=True)\n",
        "DX =  pd.DataFrame(X) # copy of the data for later\n",
        "X =  pd.DataFrame(X) # copy to destroy\n",
        "\n",
        "\n",
        "def brute_force_feat(X):\n",
        "\n",
        "  comb= list(combinations(X.columns,3))\n",
        "\n",
        "  def operations(x,a,b):\n",
        "    if (x == '+'): \n",
        "      d =  op.add(a,b) \n",
        "    if (x == '-'): \n",
        "      d =  op.sub(a,b) \n",
        "    if (x == '*'): \n",
        "      d =  op.mul(a,b)     \n",
        "    if (x == '/'): # divide by 0 error\n",
        "      d =  op.truediv(a,(b + 1e-20)) \n",
        "    return d\n",
        "\n",
        "  print('Operator Features')\n",
        "  for x in ['*','/','+','-']:\n",
        "    for y in ['*','/','+','-']:\n",
        "      for i in comb:\n",
        "        a = X.iloc[:,i[0]].values\n",
        "        b = X.iloc[:,i[1]].values\n",
        "        c = X.iloc[:,i[2]].values\n",
        "        d = operations(x,a,b)\n",
        "        e = operations(y,d,c)\n",
        "        X[f'{i[0]}{x}{i[1]}{y}{i[2]}'] = e\n",
        "        X[f'{i[0]}{x}{i[1]}'] = d\n",
        "\n",
        "  X = X.loc[:,~X.columns.duplicated()]\n",
        "\n",
        "  print('Dimensionality Features')\n",
        "  # DIMENSIONALITY FEATURES\n",
        "  # 2 is usually a good size, however higher may result in less reward for time taken\n",
        "  X_TSNE = TSNE(n_components=2).fit_transform(X)\n",
        "  X_DBSCAN = DBSCAN(eps=3, min_samples=2).fit(X)\n",
        "  X_PCA = PCA(n_components=2).fit_transform(X)\n",
        "  # Depending on how large the dataset is increase or decrease n \n",
        "  X_KNN64, indices = NearestNeighbors(n_neighbors=64, algorithm='ball_tree').fit(X).kneighbors(X)\n",
        "  X = np.c_[X, X_KNN64] # NUMPY\n",
        "  X = np.c_[X, X_PCA]\n",
        "  X = np.c_[X, X_DBSCAN.labels_]\n",
        "  X = np.c_[X, X_TSNE]\n",
        "  X = np.where(np.isnan(X), 0, X)\n",
        "\n",
        "\n",
        "  # Selecting best 50 columns \n",
        "  from sklearn.ensemble import RandomForestClassifier\n",
        "  # PANDAS\n",
        "  # SX = X.sample(n=500) # Sample, etc\n",
        "\n",
        "  # NUMPY\n",
        "  print('No. Features:', np.size(X,1))\n",
        "  np.random.seed(42)\n",
        "  # idx = np.random.randint(np.size(X,0), size=500) # make this 50% of your data just so it runs faster\n",
        "  # X = [idx,:]\n",
        "  # dy = dy.values[idx]\n",
        "  # print(np.any(np.isnan(X)))\n",
        "  # print(np.all(np.isfinite(X)))\n",
        "  X = np.nan_to_num(X.astype(np.float32)) # prevents too large values error\n",
        "\n",
        "  # SX IS A SAMPLE OF X\n",
        "  SX = X\n",
        "  sy = dy # other methods if this gives error #.values.ravel() #np.array(dy)[idx.astype(int)] #dy[idx]\n",
        "  \n",
        "  model_rfi = RandomForestClassifier(n_jobs = -1, class_weight = 'balanced_subsample', random_state=42)\n",
        "\n",
        "  model_rfi.fit(SX, sy)\n",
        "  print('Done!')\n",
        "\n",
        "  return X, DX, model_rfi\n",
        "\n",
        "# CX is the new features data | DX is the original data  | Model_rfi contains the feature importance\n",
        "CX, DX, model_rfi = brute_force_feat(X)"
      ],
      "execution_count": 6,
      "outputs": [
        {
          "output_type": "stream",
          "text": [
            "Operator Features\n",
            "Dimensionality Features\n",
            "No. Features: 66683\n",
            "Done!\n"
          ],
          "name": "stdout"
        }
      ]
    },
    {
      "cell_type": "code",
      "metadata": {
        "id": "Ok1Vk20GAkMD",
        "colab_type": "code",
        "colab": {}
      },
      "source": [
        "def scaler_fuc(scaler, f, CX, DX):\n",
        "\n",
        "  # order by most important features and take the f most important features\n",
        "  fs_indices_rfi = np.argsort(model_rfi.feature_importances_)[::-1][0:f]\n",
        "  CX = CX[:,fs_indices_rfi]\n",
        "  X = np.c_[DX, CX]\n",
        "  # delete duplicates\n",
        "  _, unq_col_indices = np.unique(X,return_index=True,axis=1)\n",
        "  X = X[:,unq_col_indices]\n",
        "\n",
        "  train_x, valid_x, train_y, valid_y = train_test_split(X, dy,\n",
        "                                              test_size=0.25, random_state = 123)\n",
        "  if (scaler == 'minmax'):\n",
        "    scaler = MinMaxScaler()\n",
        "    scaler.fit(train_x)\n",
        "    train_x = scaler.transform(train_x)\n",
        "    scaler.fit(valid_x)\n",
        "    valid_x = scaler.transform(valid_x)\n",
        "\n",
        "  if (scaler == 'stand'):\n",
        "    scaler = StandardScaler()\n",
        "    scaler.fit(train_x)\n",
        "    train_x = scaler.transform(train_x)\n",
        "    scaler.fit(valid_x)\n",
        "    valid_x = scaler.transform(valid_x)\n",
        "\n",
        "  if (scaler == 'log'):\n",
        "    transformer = FunctionTransformer(np.log1p, validate=True)\n",
        "    train_x = transformer.transform(train_x)\n",
        "    valid_x = transformer.transform(valid_x)\n",
        "    # prevent log 0 error\n",
        "    np.seterr(divide = 'ignore')  # invalid value encountered in log1p\n",
        "    train_x = np.where(np.isneginf(train_x), 0, train_x)\n",
        "    valid_x = np.where(np.isneginf(valid_x), 0, valid_x)\n",
        "    train_x = np.where(np.isinf(train_x), 0, train_x)\n",
        "    valid_x = np.where(np.isinf(valid_x), 0, valid_x)\n",
        "    train_x = np.where(np.isnan(train_x), 0, train_x)\n",
        "    valid_x = np.where(np.isnan(valid_x), 0, valid_x)\n",
        "\n",
        "  # turning these train/tests into lgb/xgb datasets\n",
        "  dtrain_gbm = lgb.Dataset(train_x, label=train_y)\n",
        "  dvalid_gbm = lgb.Dataset(valid_x, label=valid_y)\n",
        "\n",
        "  dtrain_xbg = xgb.DMatrix(train_x, label=train_y)\n",
        "  dvalid_xbg = xgb.DMatrix(valid_x, label=valid_y)\n",
        "  return train_x, valid_x, train_y, valid_y,  dtrain_gbm, dvalid_gbm, dtrain_xbg, dvalid_xbg\n"
      ],
      "execution_count": 7,
      "outputs": []
    },
    {
      "cell_type": "code",
      "metadata": {
        "id": "efppeeMABWLs",
        "colab_type": "code",
        "colab": {}
      },
      "source": [
        "from sklearn.neural_network import MLPClassifier\n",
        "from sklearn.neighbors import KNeighborsClassifier\n",
        "from sklearn.svm import SVC\n",
        "from sklearn.ensemble import RandomForestClassifier, AdaBoostClassifier, ExtraTreesClassifier\n",
        "from sklearn.gaussian_process import GaussianProcessClassifier\n",
        "from sklearn.gaussian_process.kernels import RBF\n",
        "from sklearn.naive_bayes import GaussianNB\n",
        "from sklearn.discriminant_analysis import QuadraticDiscriminantAnalysis\n",
        "import lightgbm as lgb\n",
        "import xgboost as xgb\n",
        "\n",
        "models = ['mlp','knn','svc','gp','gnb','qda','ada', 'et', 'rf', 'xgb', 'gbm'] # when you want to try all of them/ iteration: 1 \n",
        "# models = ['mlp','knn','svc', 'gp', 'gnb', 'qda', 'ada', 'et', 'rf', 'xgb', 'gbm']\n",
        "comb = combinations(models, 3) \n",
        "comb = list(comb)"
      ],
      "execution_count": 38,
      "outputs": []
    },
    {
      "cell_type": "code",
      "metadata": {
        "id": "rhPEQ3URxVrM",
        "colab_type": "code",
        "colab": {
          "base_uri": "https://localhost:8080/",
          "height": 34
        },
        "outputId": "c0fb6d84-34a9-424f-db03-9173cb8dc069"
      },
      "source": [
        "import math \n",
        "math.ceil(len(dy)*0.25)"
      ],
      "execution_count": 86,
      "outputs": [
        {
          "output_type": "execute_result",
          "data": {
            "text/plain": [
              "143"
            ]
          },
          "metadata": {
            "tags": []
          },
          "execution_count": 86
        }
      ]
    },
    {
      "cell_type": "code",
      "metadata": {
        "id": "KB9uVP6cCBuD",
        "colab_type": "code",
        "colab": {}
      },
      "source": [
        "\n",
        "class Objective:\n",
        "\n",
        "    def __init__(self):\n",
        "        self.best_gbm = None\n",
        "        self._gbm = None\n",
        "        self.best_xgb = None\n",
        "        self._xgb = None\n",
        "        self.predictions = None\n",
        "        self.fpredictions = None\n",
        "\n",
        "    def __call__(self, trial):\n",
        "\n",
        "        i = trial.suggest_int(\"combos\", 0, (len(comb)-1))\n",
        "        gbm_preds = np.zeros((math.ceil(len(dy)*0.25),1), dtype=np.int)\n",
        "        xgb_preds = np.zeros((math.ceil(len(dy)*0.25),1), dtype=np.int)\n",
        "        rf_preds = np.zeros((math.ceil(len(dy)*0.25),1), dtype=np.int)\n",
        "        et_preds = np.zeros((math.ceil(len(dy)*0.25),1), dtype=np.int)\n",
        "        ada_preds = np.zeros((math.ceil(len(dy)*0.25),1), dtype=np.int)\n",
        "        qda_preds = np.zeros((math.ceil(len(dy)*0.25),1), dtype=np.int)\n",
        "        gnb_preds = np.zeros((math.ceil(len(dy)*0.25),1), dtype=np.int)\n",
        "        gp_preds = np.zeros((math.ceil(len(dy)*0.25),1), dtype=np.int)\n",
        "        svc_preds = np.zeros((math.ceil(len(dy)*0.25),1), dtype=np.int)\n",
        "        knn_preds = np.zeros((math.ceil(len(dy)*0.25),1), dtype=np.int)\n",
        "        mlp_preds = np.zeros((math.ceil(len(dy)*0.25),1), dtype=np.int)\n",
        " \n",
        "\n",
        "        ###############################################################################\n",
        "        #                               . MLPClassifier                               #\n",
        "        ###############################################################################\n",
        "        if any(x == 'mlp' for x in comb[i]):\n",
        "          mlp_f = trial.suggest_int(\"mlp_features\", 0, 20)\n",
        "          mlp_scaler = trial.suggest_categorical(\"mlp_Scaler\", ['minmax','stand','log'])\n",
        "          mlp_a = trial.suggest_loguniform(\"mlp_alpha\", 1e-8, 1.0)\n",
        "          train_x, valid_x, train_y, valid_y, dtrain_gbm, dvalid_gbm, dtrain_xbg, dvalid_xbg = scaler_fuc(mlp_scaler, mlp_f, CX, DX)\n",
        "          mlp = MLPClassifier(random_state=1, alpha = mlp_a, max_iter=500).fit(train_x, train_y)\n",
        "          mlp_preds = mlp.predict_proba(valid_x)[:,1]\n",
        "        ###############################################################################\n",
        "        #                           . KNeighborsClassifier                            #\n",
        "        ###############################################################################\n",
        "        if any(x == 'knn' for x in comb[i]):\n",
        "          knn_f = trial.suggest_int(\"knn_features\", 0, 20)\n",
        "          knn_scaler = trial.suggest_categorical(\"knn_Scaler\", ['minmax','stand','log'])\n",
        "          train_x, valid_x, train_y, valid_y, dtrain_gbm, dvalid_gbm, dtrain_xbg, dvalid_xbg = scaler_fuc(knn_scaler, knn_f, CX, DX)\n",
        "          nn = trial.suggest_int(\"knn_nn\", 1, 35)\n",
        "          kp = trial.suggest_int(\"knn_p\", 1, 2)\n",
        "          knn = KNeighborsClassifier(n_neighbors = nn, p = kp, n_jobs = -1).fit(train_x, train_y)\n",
        "          knn_preds = knn.predict_proba(valid_x)[:,1]\n",
        "        ###############################################################################\n",
        "        #                            . Support Vector C                               #\n",
        "        ###############################################################################\n",
        "        if any(x == 'svc' for x in comb[i]):\n",
        "          svc_f = trial.suggest_int(\"svc_features\", 0, 20)\n",
        "          svc_scaler = trial.suggest_categorical(\"svc_Scaler\", ['minmax','stand','log'])\n",
        "          train_x, valid_x, train_y, valid_y, dtrain_gbm, dvalid_gbm, dtrain_xbg, dvalid_xbg = scaler_fuc(svc_scaler, svc_f, CX, DX)\n",
        "          svc_kern = trial.suggest_categorical(\"svc_kern\", ['linear', 'poly', 'rbf', 'sigmoid'])\n",
        "          svc_C = trial.suggest_loguniform(\"svc_C\", 1e-8, 5)\n",
        "          svc_d = trial.suggest_int(\"svc_deg\", 2, 10)\n",
        "          svc = SVC(gamma='auto', kernel = svc_kern, C = svc_C,\n",
        "                    probability=True, random_state=0).fit(train_x, train_y)\n",
        "          svc_preds = svc.predict_proba(valid_x)[:,1]\n",
        "        ###############################################################################\n",
        "        #                 . GaussianProcess   +  Radial-Basis Function                #\n",
        "        ###############################################################################\n",
        "        if any(x == 'gp' for x in comb[i]):\n",
        "          gp_f = trial.suggest_int(\"gp_features\", 0, 20)\n",
        "          gp_scaler = trial.suggest_categorical(\"gp_Scaler\", ['minmax','stand','log'])\n",
        "          train_x, valid_x, train_y, valid_y, dtrain_gbm, dvalid_gbm, dtrain_xbg, dvalid_xbg = scaler_fuc(gp_scaler, gp_f, CX, DX)\n",
        "          a_gp = trial.suggest_loguniform(\"gp_a\", 0.001, 10)\n",
        "          gp_kern= trial.suggest_int(\"gp_kern\", 1, 10)\n",
        "          gpkernel = a_gp * RBF(gp_kern)\n",
        "          gp = GaussianProcessClassifier(kernel=gpkernel, random_state=0, n_jobs = -1).fit(train_x, train_y)\n",
        "          gp_preds = gp.predict_proba(valid_x)[:,1]\n",
        "        ###############################################################################\n",
        "        #                                . GaussianNB                                 #\n",
        "        ###############################################################################\n",
        "        if any(x == 'gnb' for x in comb[i]):\n",
        "          gnb_f = trial.suggest_int(\"gnb_features\", 0, 20)\n",
        "          gnb_scaler = trial.suggest_categorical(\"gnb_Scaler\", ['minmax','stand','log'])\n",
        "          train_x, valid_x, train_y, valid_y, dtrain_gbm, dvalid_gbm, dtrain_xbg, dvalid_xbg = scaler_fuc(gnb_scaler, gnb_f, CX, DX)\n",
        "          gnb_vs = trial.suggest_loguniform(\"gnb_vs\", 1e-20, 1)\n",
        "          gnb = GaussianNB(var_smoothing=gnb_vs).fit(train_x, train_y)\n",
        "          gnb_preds = gnb.predict_proba(valid_x)[:,1]\n",
        "        ###############################################################################\n",
        "        #                    . Quadratic Discriminant Analysis                        #\n",
        "        ###############################################################################\n",
        "        if any(x == 'qda' for x in comb[i]):\n",
        "          qda_f = trial.suggest_int(\"qda_features\", 0, 20)\n",
        "          qda_scaler = trial.suggest_categorical(\"qda_Scaler\", ['minmax','stand','log'])\n",
        "          train_x, valid_x, train_y, valid_y, dtrain_gbm, dvalid_gbm, dtrain_xbg, dvalid_xbg = scaler_fuc(qda_scaler, qda_f, CX, DX)\n",
        "          qda_rp = trial.suggest_loguniform(\"qda_rp\", 1e-20, 1)\n",
        "          qda = QuadraticDiscriminantAnalysis(reg_param=qda_rp).fit(train_x, train_y)\n",
        "          qda_preds = qda.predict_proba(valid_x)[:,1]\n",
        "        ###############################################################################\n",
        "        #                               . Ada Boost                                   #\n",
        "        ###############################################################################\n",
        "        if any(x == 'ada' for x in comb[i]):\n",
        "          ada_f = trial.suggest_int(\"ada_features\", 0, 20)\n",
        "          ada_scaler = trial.suggest_categorical(\"ada_Scaler\", ['minmax','stand','log'])\n",
        "          train_x, valid_x, train_y, valid_y, dtrain_gbm, dvalid_gbm, dtrain_xbg, dvalid_xbg = scaler_fuc(ada_scaler, ada_f, CX, DX)\n",
        "          ada_ne = trial.suggest_int(\"ada_ne\", 1, 500) #500\n",
        "          ada_lr = trial.suggest_loguniform(\"ada_lr\", 0.05, 1)\n",
        "          ada_algo = trial.suggest_categorical(\"ada_algo\", ['SAMME', 'SAMME.R'])\n",
        "          ada = AdaBoostClassifier(n_estimators = ada_ne, learning_rate = ada_lr,\n",
        "                                   algorithm = ada_algo, random_state=0).fit(train_x, train_y)\n",
        "          ada_preds = ada.predict_proba(valid_x)[:,1]\n",
        "        ###############################################################################\n",
        "        #                              . Extra Trees                                  #\n",
        "        ###############################################################################\n",
        "        if any(x == 'et' for x in comb[i]):\n",
        "          et_f = trial.suggest_int(\"et_features\", 0, 20)\n",
        "          et_scaler = trial.suggest_categorical(\"et_Scaler\", ['minmax','stand','log'])\n",
        "          train_x, valid_x, train_y, valid_y, dtrain_gbm, dvalid_gbm, dtrain_xbg, dvalid_xbg = scaler_fuc(et_scaler,et_f, CX, DX)\n",
        "          et_md = trial.suggest_int(\"et_max_depth\", 1, 100)\n",
        "          et_ne = trial.suggest_int(\"et_ne\", 1, 500) #1000\n",
        "          et = ExtraTreesClassifier(max_depth=et_md, n_estimators = et_ne,\n",
        "                                     random_state=0).fit(train_x, train_y)\n",
        "          et_preds = et.predict_proba(valid_x)[:,1]\n",
        "        ###############################################################################\n",
        "        #                             . Random Forest                                 #\n",
        "        ###############################################################################\n",
        "        if any(x == 'rf' for x in comb[i]):\n",
        "          rf_f = trial.suggest_int(\"rf_features\", 0, 20)\n",
        "          rf_scaler = trial.suggest_categorical(\"rf_Scaler\", ['minmax','stand','log'])\n",
        "          train_x, valid_x, train_y, valid_y, dtrain_gbm, dvalid_gbm, dtrain_xbg, dvalid_xbg = scaler_fuc(rf_scaler,rf_f, CX, DX)\n",
        "          rf_md = trial.suggest_int(\"rf_max_depth\", 1, 100)\n",
        "          rf_ne = trial.suggest_int(\"rf_ne\", 1, 500) #1000\n",
        "          rf_cw = trial.suggest_categorical(\"rf_cw\", ['balanced', 'balanced_subsample'])\n",
        "          rf = RandomForestClassifier(max_depth=rf_md, n_estimators = rf_ne, n_jobs = -1,\n",
        "                                     class_weight = rf_cw, random_state=0).fit(train_x, train_y)\n",
        "          rf_preds = rf.predict_proba(valid_x)[:,1]\n",
        "        ###############################################################################\n",
        "        #                                 . XGBoost                                   #\n",
        "        ###############################################################################\n",
        "        if any(x == 'xgb' for x in comb[i]): \n",
        "          xgb_f = trial.suggest_int(\"xgb_features\", 0, 20)\n",
        "          xgb_scaler = trial.suggest_categorical(\"xgb_Scaler\", ['minmax','stand','log'])\n",
        "          train_x, valid_x, train_y, valid_y, dtrain_gbm, dvalid_gbm, dtrain_xbg, dvalid_xbg = scaler_fuc(xgb_scaler,xgb_f, CX, DX)\n",
        "          xgb_param = {\n",
        "              \"silent\": 1,\n",
        "              \"objective\": \"binary:logistic\", # change for multiclass\n",
        "              \"eval_metric\": \"auc\",\n",
        "              # \"num_class\": 3, # change this up depending on multiclass | dont use with binary\n",
        "              \"booster\": trial.suggest_categorical(\"booster\", [\"gbtree\", \"gblinear\", \"dart\"]),\n",
        "              \"lambda\": trial.suggest_loguniform(\"lambda\", 1e-8, 1.0),\n",
        "              \"alpha\": trial.suggest_loguniform(\"alpha\", 1e-8, 1.0),\n",
        "          }\n",
        "          if xgb_param[\"booster\"] == \"gbtree\" or xgb_param[\"booster\"] == \"dart\":\n",
        "              xgb_param[\"max_depth\"] = trial.suggest_int(\"max_depth\", 1, 100)\n",
        "              xgb_param[\"eta\"] = trial.suggest_loguniform(\"eta\", 1e-8, 1.0)\n",
        "              xgb_param[\"gamma\"] = trial.suggest_loguniform(\"gamma\", 1e-8, 1.0)\n",
        "              xgb_param[\"grow_policy\"] = trial.suggest_categorical(\"grow_policy\", [\"depthwise\", \"lossguide\"])\n",
        "          if xgb_param[\"booster\"] == \"dart\":\n",
        "              xgb_param[\"sample_type\"] = trial.suggest_categorical(\"sample_type\", [\"uniform\", \"weighted\"])\n",
        "              xgb_param[\"normalize_type\"] = trial.suggest_categorical(\"normalize_type\", [\"tree\", \"forest\"])\n",
        "              xgb_param[\"rate_drop\"] = trial.suggest_loguniform(\"rate_drop\", 1e-8, 1.0)\n",
        "              xgb_param[\"skip_drop\"] = trial.suggest_loguniform(\"skip_drop\", 1e-8, 1.0)\n",
        "          # Add a callback for pruning.\n",
        "          xgb_pruning_callback = optuna.integration.XGBoostPruningCallback(trial, \"validation-auc\" )\n",
        "          xgb_ = xgb.train(xgb_param, dtrain_xbg, evals=[(dvalid_xbg, \"validation\")], verbose_eval=False, callbacks=[xgb_pruning_callback])\n",
        "          xgb_preds = xgb_.predict(dvalid_xbg)\n",
        "          self._xgb = xgb_\n",
        "        ###############################################################################\n",
        "        #                          . Light Gradient Boosting                          #\n",
        "        ###############################################################################\n",
        "        if any(x == 'gbm' for x in comb[i]):\n",
        "          gbm_f = trial.suggest_int(\"gbm_features\", 0, 20)\n",
        "          gbm_scaler = trial.suggest_categorical(\"gbm_Scaler\", ['minmax','stand','log'])\n",
        "          train_x, valid_x, train_y, valid_y, dtrain_gbm, dvalid_gbm, dtrain_xbg, dvalid_xbg = scaler_fuc(gbm_scaler,gbm_f, CX, DX)\n",
        "          gbm_param = {\n",
        "            'objective': 'binary', # change for multiclass\n",
        "            'metric': 'auc',\n",
        "              \"verbosity\": -1,\n",
        "              \"boosting_type\": \"gbdt\",\n",
        "              \"lambda_l1\": trial.suggest_loguniform(\"lambda_l1\", 1e-8, 10), \n",
        "              \"lambda_l2\": trial.suggest_loguniform(\"lambda_l2\", 1e-8, 10),\n",
        "              \"num_leaves\": trial.suggest_int(\"num_leaves\", 2, 256), \n",
        "              \"feature_fraction\": trial.suggest_uniform(\"feature_fraction\", 0.4, 1.0), \n",
        "              \"bagging_fraction\": trial.suggest_uniform(\"bagging_fraction\", 0.4, 1.0),\n",
        "              \"bagging_freq\": trial.suggest_int(\"bagging_freq\", 1, 7), \n",
        "              \"min_child_samples\": trial.suggest_int(\"min_child_samples\", 2, 20), \n",
        "          }\n",
        "          # Add a callback for pruning.\n",
        "          gbm_pruning_callback = optuna.integration.LightGBMPruningCallback(trial, \"auc\")\n",
        "          gbm = lgb.train(gbm_param, dtrain_gbm, valid_sets=[dvalid_gbm], verbose_eval=False, callbacks=[gbm_pruning_callback])\n",
        "          gbm_preds = gbm.predict(valid_x)\n",
        "          self._gbm = gbm\n",
        "        ###############################################################################\n",
        "        #                            . Stacking Strategy                              #\n",
        "        ###############################################################################\n",
        "\n",
        "        # # strat = trial.suggest_int(\"strat\", 0, 1)\n",
        "\n",
        "        preds = (gbm_preds + xgb_preds + rf_preds + \\\n",
        "        qda_preds + ada_preds + et_preds + \\\n",
        "        gnb_preds  + gp_preds + \\\n",
        "        svc_preds + knn_preds + mlp_preds) / 3 \n",
        "        preds = preds[:1][0]\n",
        "\n",
        "        # if (strat == 1): # Making an equation\n",
        "        # a = trial.suggest_uniform(\"a\", 0.1, 0.9)\n",
        "        # b = trial.suggest_uniform(\"b\", 0.1, 0.9)\n",
        "        # c = trial.suggest_uniform(\"c\", 0.1, 0.9)\n",
        "        # d = trial.suggest_uniform(\"d\", 0.1, 0.9)\n",
        "\n",
        "        # def custom_sort(t):\n",
        "        #   return t[0]\n",
        "\n",
        "        # R = [[gbm_rmse,gbm_preds] , [xgb_rmse,xgb_preds], [rf_rmse, rf_preds], \\\n",
        "        #     [las_rmse,las_preds], [ada_rmse,ada_preds],[et_rmse,et_preds],\\\n",
        "        #     [lreg_rmse,lreg_preds], [rid_rmse,rid_preds]]\n",
        "        # R.sort(key=custom_sort) # low to high\n",
        "        # m1 = R[0][1]\n",
        "        # m2 = R[1][1]\n",
        "        # m3 = R[2][1]\n",
        "        # # Using list comprehension. This may result in a divide by 0 error when rounding occurs.\n",
        "        # # A fix would be to use a more precise library\n",
        "        # preds = [ (a*((x**b) + (y**c))) + (d*z) for x,y,z in zip(m1,m2,m3) ]\n",
        "        self.predictions = preds\n",
        "        auc = roc_auc_score(valid_y, preds)\n",
        "        return auc\n",
        "\n",
        "    def callback(self, study, trial):\n",
        "        if study.best_trial == trial:\n",
        "            self.best_gbm = self._gbm\n",
        "            self.best_xgb = self._xgb\n",
        "            self.fpredictions = self.predictions"
      ],
      "execution_count": 158,
      "outputs": []
    },
    {
      "cell_type": "code",
      "metadata": {
        "id": "F_3I33GMKdx4",
        "colab_type": "code",
        "colab": {
          "base_uri": "https://localhost:8080/",
          "height": 1000
        },
        "outputId": "2c9d8438-e357-4a1f-8406-7b47f6e86f45"
      },
      "source": [
        "import warnings\n",
        "warnings.filterwarnings(\"ignore\", category=RuntimeWarning) # for log error\n",
        "\n",
        "import optuna\n",
        "objective = Objective()\n",
        "\n",
        "# Setting SEED \n",
        "from optuna.samplers import TPESampler\n",
        "sampler = TPESampler(seed=10)\n",
        "\n",
        "study = optuna.create_study(\n",
        "    pruner=optuna.pruners.MedianPruner(n_warmup_steps=10), direction=\"maximize\",\n",
        "    sampler=sampler\n",
        ")\n",
        "study.optimize(objective, n_trials=1000, callbacks=[objective.callback]) # change this to 500 + \n",
        "\n",
        "print(\"Best trial:\")\n",
        "trial = study.best_trial\n",
        "\n",
        "print(\"  Params: \")\n",
        "for key, value in trial.params.items():\n",
        "    print(\"    {}: {}\".format(key, value))\n",
        "\n",
        "best_gbm = objective.best_gbm\n",
        "best_xgb = objective.best_xgb"
      ],
      "execution_count": 159,
      "outputs": [
        {
          "output_type": "stream",
          "text": [
            "('mlp', 'svc', 'gp')\n"
          ],
          "name": "stdout"
        },
        {
          "output_type": "stream",
          "text": [
            "/usr/local/lib/python3.6/dist-packages/sklearn/neural_network/_multilayer_perceptron.py:571: ConvergenceWarning:\n",
            "\n",
            "Stochastic Optimizer: Maximum iterations (300) reached and the optimization hasn't converged yet.\n",
            "\n",
            "[I 2020-07-13 12:02:33,763] Finished trial#0 with value: 0.9925093632958801 with parameters: {'combos': 9, 'mlp_features': 4, 'mlp_Scaler': 'minmax', 'mlp_alpha': 3.500415365070801e-05, 'svc_features': 16, 'svc_Scaler': 'stand', 'svc_kern': 'poly', 'svc_C': 0.014769956099219564, 'svc_deg': 2, 'gp_features': 10, 'gp_Scaler': 'minmax', 'gp_a': 0.003994951112183678, 'gp_kern': 4}. Best is trial#0 with value: 0.9925093632958801.\n"
          ],
          "name": "stderr"
        },
        {
          "output_type": "stream",
          "text": [
            "('mlp', 'svc', 'gbm')\n"
          ],
          "name": "stdout"
        },
        {
          "output_type": "stream",
          "text": [
            "[I 2020-07-13 12:02:35,064] Finished trial#1 with value: 0.996046608406159 with parameters: {'combos': 16, 'mlp_features': 4, 'mlp_Scaler': 'log', 'mlp_alpha': 0.13382345725145836, 'svc_features': 1, 'svc_Scaler': 'minmax', 'svc_kern': 'linear', 'svc_C': 3.4595623493054765e-06, 'svc_deg': 5, 'gbm_features': 13, 'gbm_Scaler': 'stand', 'lambda_l1': 0.0007636587145416643, 'lambda_l2': 1.9034015928564192e-07, 'num_leaves': 143, 'feature_fraction': 0.7503408193922055, 'bagging_fraction': 0.509578861781209, 'bagging_freq': 2, 'min_child_samples': 14}. Best is trial#1 with value: 0.996046608406159.\n"
          ],
          "name": "stderr"
        },
        {
          "output_type": "stream",
          "text": [
            "('knn', 'gnb', 'gbm')\n"
          ],
          "name": "stdout"
        },
        {
          "output_type": "stream",
          "text": [
            "[I 2020-07-13 12:02:35,815] Finished trial#2 with value: 0.9827299209321682 with parameters: {'combos': 65, 'knn_features': 4, 'knn_Scaler': 'log', 'knn_nn': 30, 'knn_p': 2, 'gnb_features': 11, 'gnb_Scaler': 'minmax', 'gnb_vs': 4.3415530626219303e-14, 'gbm_features': 9, 'gbm_Scaler': 'log', 'lambda_l1': 5.085111847677709e-06, 'lambda_l2': 1.0613515458050516e-07, 'num_leaves': 141, 'feature_fraction': 0.9118257941911949, 'bagging_fraction': 0.663992473302575, 'bagging_freq': 5, 'min_child_samples': 3}. Best is trial#1 with value: 0.996046608406159.\n"
          ],
          "name": "stderr"
        },
        {
          "output_type": "stream",
          "text": [
            "('svc', 'qda', 'rf')\n"
          ],
          "name": "stdout"
        },
        {
          "output_type": "stream",
          "text": [
            "/usr/local/lib/python3.6/dist-packages/sklearn/discriminant_analysis.py:691: UserWarning:\n",
            "\n",
            "Variables are collinear\n",
            "\n",
            "[I 2020-07-13 12:02:36,926] Finished trial#3 with value: 0.9887640449438202 with parameters: {'combos': 96, 'svc_features': 12, 'svc_Scaler': 'stand', 'svc_kern': 'linear', 'svc_C': 1.1455545176614086e-05, 'svc_deg': 10, 'qda_features': 18, 'qda_Scaler': 'minmax', 'qda_rp': 0.0028044596560257307, 'rf_features': 8, 'rf_Scaler': 'stand', 'rf_max_depth': 89, 'rf_ne': 144, 'rf_cw': 'balanced_subsample'}. Best is trial#1 with value: 0.996046608406159.\n"
          ],
          "name": "stderr"
        },
        {
          "output_type": "stream",
          "text": [
            "('gnb', 'qda', 'gbm')\n"
          ],
          "name": "stdout"
        },
        {
          "output_type": "stream",
          "text": [
            "/usr/local/lib/python3.6/dist-packages/sklearn/discriminant_analysis.py:691: UserWarning:\n",
            "\n",
            "Variables are collinear\n",
            "\n",
            "[I 2020-07-13 12:02:37,593] Finished trial#4 with value: 0.9895963379109447 with parameters: {'combos': 134, 'gnb_features': 10, 'gnb_Scaler': 'log', 'gnb_vs': 1.0544849673443093e-17, 'qda_features': 12, 'qda_Scaler': 'minmax', 'qda_rp': 0.07677401350857861, 'gbm_features': 17, 'gbm_Scaler': 'minmax', 'lambda_l1': 2.2143284138744973e-07, 'lambda_l2': 3.476541226868146e-07, 'num_leaves': 237, 'feature_fraction': 0.9416990561989764, 'bagging_fraction': 0.720734769281089, 'bagging_freq': 2, 'min_child_samples': 11}. Best is trial#1 with value: 0.996046608406159.\n"
          ],
          "name": "stderr"
        },
        {
          "output_type": "stream",
          "text": [
            "('gp', 'rf', 'gbm')\n"
          ],
          "name": "stdout"
        },
        {
          "output_type": "stream",
          "text": [
            "[I 2020-07-13 12:02:41,025] Setting status of trial#5 as TrialState.PRUNED. Trial was pruned at iteration 11.\n"
          ],
          "name": "stderr"
        },
        {
          "output_type": "stream",
          "text": [
            "('svc', 'gnb', 'et')\n"
          ],
          "name": "stdout"
        },
        {
          "output_type": "stream",
          "text": [
            "[I 2020-07-13 12:02:41,973] Finished trial#6 with value: 0.9893882646691635 with parameters: {'combos': 90, 'svc_features': 12, 'svc_Scaler': 'log', 'svc_kern': 'rbf', 'svc_C': 0.013666539031371615, 'svc_deg': 2, 'gnb_features': 0, 'gnb_Scaler': 'stand', 'gnb_vs': 1.755145894917756e-15, 'et_features': 20, 'et_Scaler': 'minmax', 'et_max_depth': 39, 'et_ne': 255}. Best is trial#1 with value: 0.996046608406159.\n"
          ],
          "name": "stderr"
        },
        {
          "output_type": "stream",
          "text": [
            "('mlp', 'gp', 'xgb')\n"
          ],
          "name": "stdout"
        },
        {
          "output_type": "stream",
          "text": [
            "/usr/local/lib/python3.6/dist-packages/sklearn/neural_network/_multilayer_perceptron.py:571: ConvergenceWarning:\n",
            "\n",
            "Stochastic Optimizer: Maximum iterations (300) reached and the optimization hasn't converged yet.\n",
            "\n",
            "[I 2020-07-13 12:02:44,901] Finished trial#7 with value: 0.9958385351643779 with parameters: {'combos': 22, 'mlp_features': 0, 'mlp_Scaler': 'log', 'mlp_alpha': 1.0050328379907835e-08, 'gp_features': 3, 'gp_Scaler': 'log', 'gp_a': 0.9779752714920226, 'gp_kern': 1, 'xgb_features': 13, 'xgb_Scaler': 'stand', 'booster': 'dart', 'lambda': 3.358849920457142e-05, 'alpha': 3.517081594396454e-06, 'max_depth': 96, 'eta': 5.290942102512853e-05, 'gamma': 5.531575754943961e-08, 'grow_policy': 'lossguide', 'sample_type': 'uniform', 'normalize_type': 'forest', 'rate_drop': 5.20291178150556e-05, 'skip_drop': 0.018013286187172527}. Best is trial#1 with value: 0.996046608406159.\n"
          ],
          "name": "stderr"
        },
        {
          "output_type": "stream",
          "text": [
            "('gnb', 'ada', 'rf')\n"
          ],
          "name": "stdout"
        },
        {
          "output_type": "stream",
          "text": [
            "[I 2020-07-13 12:02:47,139] Finished trial#8 with value: 0.9895963379109447 with parameters: {'combos': 136, 'gnb_features': 8, 'gnb_Scaler': 'minmax', 'gnb_vs': 5.519354190324459e-20, 'ada_features': 14, 'ada_Scaler': 'stand', 'ada_ne': 214, 'ada_lr': 0.05456742768777421, 'ada_algo': 'SAMME.R', 'rf_features': 1, 'rf_Scaler': 'minmax', 'rf_max_depth': 88, 'rf_ne': 351, 'rf_cw': 'balanced'}. Best is trial#1 with value: 0.996046608406159.\n"
          ],
          "name": "stderr"
        },
        {
          "output_type": "stream",
          "text": [
            "('mlp', 'et', 'rf')\n"
          ],
          "name": "stdout"
        },
        {
          "output_type": "stream",
          "text": [
            "/usr/local/lib/python3.6/dist-packages/sklearn/neural_network/_multilayer_perceptron.py:571: ConvergenceWarning:\n",
            "\n",
            "Stochastic Optimizer: Maximum iterations (300) reached and the optimization hasn't converged yet.\n",
            "\n",
            "[I 2020-07-13 12:02:50,404] Finished trial#9 with value: 0.9945900957136913 with parameters: {'combos': 39, 'mlp_features': 7, 'mlp_Scaler': 'stand', 'mlp_alpha': 9.859287151136857e-05, 'et_features': 0, 'et_Scaler': 'stand', 'et_max_depth': 53, 'et_ne': 461, 'rf_features': 4, 'rf_Scaler': 'log', 'rf_max_depth': 71, 'rf_ne': 495, 'rf_cw': 'balanced'}. Best is trial#1 with value: 0.996046608406159.\n"
          ],
          "name": "stderr"
        },
        {
          "output_type": "stream",
          "text": [
            "('knn', 'svc', 'xgb')\n"
          ],
          "name": "stdout"
        },
        {
          "output_type": "stream",
          "text": [
            "[I 2020-07-13 12:02:51,097] Finished trial#10 with value: 0.9904286308780691 with parameters: {'combos': 51, 'knn_features': 20, 'knn_Scaler': 'stand', 'knn_nn': 2, 'knn_p': 1, 'svc_features': 0, 'svc_Scaler': 'minmax', 'svc_kern': 'sigmoid', 'svc_C': 1.4737291268665897e-08, 'svc_deg': 6, 'xgb_features': 0, 'xgb_Scaler': 'minmax', 'booster': 'gbtree', 'lambda': 0.108302317076046, 'alpha': 0.17584687856826972, 'max_depth': 1, 'eta': 0.3192083759708194, 'gamma': 0.227524247308082, 'grow_policy': 'depthwise'}. Best is trial#1 with value: 0.996046608406159.\n"
          ],
          "name": "stderr"
        },
        {
          "output_type": "stream",
          "text": [
            "('mlp', 'knn', 'et')\n"
          ],
          "name": "stdout"
        },
        {
          "output_type": "stream",
          "text": [
            "/usr/local/lib/python3.6/dist-packages/sklearn/neural_network/_multilayer_perceptron.py:571: ConvergenceWarning:\n",
            "\n",
            "Stochastic Optimizer: Maximum iterations (300) reached and the optimization hasn't converged yet.\n",
            "\n",
            "[I 2020-07-13 12:02:52,597] Finished trial#11 with value: 0.9970869746150646 with parameters: {'combos': 5, 'mlp_features': 0, 'mlp_Scaler': 'log', 'mlp_alpha': 0.3345897744722663, 'knn_features': 19, 'knn_Scaler': 'minmax', 'knn_nn': 1, 'knn_p': 1, 'et_features': 10, 'et_Scaler': 'log', 'et_max_depth': 94, 'et_ne': 33}. Best is trial#11 with value: 0.9970869746150646.\n"
          ],
          "name": "stderr"
        },
        {
          "output_type": "stream",
          "text": [
            "('mlp', 'knn', 'gp')\n"
          ],
          "name": "stdout"
        },
        {
          "output_type": "stream",
          "text": [
            "[I 2020-07-13 12:02:55,554] Finished trial#12 with value: 0.993965875988348 with parameters: {'combos': 1, 'mlp_features': 18, 'mlp_Scaler': 'log', 'mlp_alpha': 0.8490866449254618, 'knn_features': 19, 'knn_Scaler': 'minmax', 'knn_nn': 1, 'knn_p': 1, 'gp_features': 20, 'gp_Scaler': 'stand', 'gp_a': 7.234844279347034, 'gp_kern': 9}. Best is trial#11 with value: 0.9970869746150646.\n"
          ],
          "name": "stderr"
        },
        {
          "output_type": "stream",
          "text": [
            "('mlp', 'knn', 'gp')\n"
          ],
          "name": "stdout"
        },
        {
          "output_type": "stream",
          "text": [
            "/usr/local/lib/python3.6/dist-packages/sklearn/neural_network/_multilayer_perceptron.py:571: ConvergenceWarning:\n",
            "\n",
            "Stochastic Optimizer: Maximum iterations (300) reached and the optimization hasn't converged yet.\n",
            "\n",
            "[I 2020-07-13 12:02:58,943] Finished trial#13 with value: 0.9943820224719101 with parameters: {'combos': 1, 'mlp_features': 0, 'mlp_Scaler': 'log', 'mlp_alpha': 0.9344349772340222, 'knn_features': 13, 'knn_Scaler': 'minmax', 'knn_nn': 15, 'knn_p': 1, 'gp_features': 0, 'gp_Scaler': 'minmax', 'gp_a': 0.18067550763771856, 'gp_kern': 9}. Best is trial#11 with value: 0.9970869746150646.\n"
          ],
          "name": "stderr"
        },
        {
          "output_type": "stream",
          "text": [
            "('mlp', 'gnb', 'xgb')\n"
          ],
          "name": "stdout"
        },
        {
          "output_type": "stream",
          "text": [
            "[I 2020-07-13 12:03:00,269] Finished trial#14 with value: 0.996046608406159 with parameters: {'combos': 28, 'mlp_features': 15, 'mlp_Scaler': 'log', 'mlp_alpha': 0.031743841432789376, 'gnb_features': 19, 'gnb_Scaler': 'stand', 'gnb_vs': 0.29374572021297085, 'xgb_features': 20, 'xgb_Scaler': 'log', 'booster': 'gblinear', 'lambda': 1.881374930550932e-08, 'alpha': 1.767734572911565e-08}. Best is trial#11 with value: 0.9970869746150646.\n"
          ],
          "name": "stderr"
        },
        {
          "output_type": "stream",
          "text": [
            "('knn', 'gnb', 'gbm')\n"
          ],
          "name": "stdout"
        },
        {
          "output_type": "stream",
          "text": [
            "[I 2020-07-13 12:03:00,804] Setting status of trial#15 as TrialState.PRUNED. Trial was pruned at iteration 11.\n"
          ],
          "name": "stderr"
        },
        {
          "output_type": "stream",
          "text": [
            "('et', 'xgb', 'gbm')\n"
          ],
          "name": "stdout"
        },
        {
          "output_type": "stream",
          "text": [
            "[I 2020-07-13 12:03:01,357] Setting status of trial#16 as TrialState.PRUNED. Trial was pruned at iteration 11.\n"
          ],
          "name": "stderr"
        },
        {
          "output_type": "stream",
          "text": [
            "('mlp', 'gp', 'xgb')\n"
          ],
          "name": "stdout"
        },
        {
          "output_type": "stream",
          "text": [
            "/usr/local/lib/python3.6/dist-packages/sklearn/neural_network/_multilayer_perceptron.py:571: ConvergenceWarning:\n",
            "\n",
            "Stochastic Optimizer: Maximum iterations (300) reached and the optimization hasn't converged yet.\n",
            "\n",
            "[I 2020-07-13 12:03:04,753] Finished trial#17 with value: 0.9956304619225967 with parameters: {'combos': 22, 'mlp_features': 3, 'mlp_Scaler': 'log', 'mlp_alpha': 0.006039700026966129, 'gp_features': 11, 'gp_Scaler': 'log', 'gp_a': 0.00135188088470151, 'gp_kern': 7, 'xgb_features': 9, 'xgb_Scaler': 'stand', 'booster': 'gblinear', 'lambda': 0.9195574846191382, 'alpha': 0.00027987865709595946}. Best is trial#11 with value: 0.9970869746150646.\n"
          ],
          "name": "stderr"
        },
        {
          "output_type": "stream",
          "text": [
            "('mlp', 'knn', 'gp')\n"
          ],
          "name": "stdout"
        },
        {
          "output_type": "stream",
          "text": [
            "/usr/local/lib/python3.6/dist-packages/sklearn/neural_network/_multilayer_perceptron.py:571: ConvergenceWarning:\n",
            "\n",
            "Stochastic Optimizer: Maximum iterations (300) reached and the optimization hasn't converged yet.\n",
            "\n",
            "[I 2020-07-13 12:03:07,695] Finished trial#18 with value: 0.9929255097794424 with parameters: {'combos': 1, 'mlp_features': 10, 'mlp_Scaler': 'stand', 'mlp_alpha': 0.01276066465774887, 'knn_features': 2, 'knn_Scaler': 'minmax', 'knn_nn': 33, 'knn_p': 1, 'gp_features': 4, 'gp_Scaler': 'log', 'gp_a': 4.07434021517895, 'gp_kern': 1}. Best is trial#11 with value: 0.9970869746150646.\n"
          ],
          "name": "stderr"
        },
        {
          "output_type": "stream",
          "text": [
            "('knn', 'svc', 'gnb')\n"
          ],
          "name": "stdout"
        },
        {
          "output_type": "stream",
          "text": [
            "[I 2020-07-13 12:03:08,338] Finished trial#19 with value: 0.9900124843945068 with parameters: {'combos': 46, 'knn_features': 16, 'knn_Scaler': 'stand', 'knn_nn': 7, 'knn_p': 2, 'svc_features': 0, 'svc_Scaler': 'minmax', 'svc_kern': 'linear', 'svc_C': 7.15820062722944e-07, 'svc_deg': 6, 'gnb_features': 0, 'gnb_Scaler': 'log', 'gnb_vs': 4.21757683047354e-08}. Best is trial#11 with value: 0.9970869746150646.\n"
          ],
          "name": "stderr"
        },
        {
          "output_type": "stream",
          "text": [
            "('knn', 'ada', 'et')\n"
          ],
          "name": "stdout"
        },
        {
          "output_type": "stream",
          "text": [
            "[I 2020-07-13 12:03:10,221] Finished trial#20 with value: 0.9914689970869747 with parameters: {'combos': 71, 'knn_features': 8, 'knn_Scaler': 'log', 'knn_nn': 24, 'knn_p': 1, 'ada_features': 2, 'ada_Scaler': 'minmax', 'ada_ne': 489, 'ada_lr': 0.9336698138127391, 'ada_algo': 'SAMME', 'et_features': 9, 'et_Scaler': 'log', 'et_max_depth': 99, 'et_ne': 4}. Best is trial#11 with value: 0.9970869746150646.\n"
          ],
          "name": "stderr"
        },
        {
          "output_type": "stream",
          "text": [
            "('mlp', 'gp', 'gbm')\n"
          ],
          "name": "stdout"
        },
        {
          "output_type": "stream",
          "text": [
            "[I 2020-07-13 12:03:12,949] Setting status of trial#21 as TrialState.PRUNED. Trial was pruned at iteration 11.\n"
          ],
          "name": "stderr"
        },
        {
          "output_type": "stream",
          "text": [
            "('mlp', 'qda', 'rf')\n"
          ],
          "name": "stdout"
        },
        {
          "output_type": "stream",
          "text": [
            "/usr/local/lib/python3.6/dist-packages/sklearn/neural_network/_multilayer_perceptron.py:571: ConvergenceWarning:\n",
            "\n",
            "Stochastic Optimizer: Maximum iterations (300) reached and the optimization hasn't converged yet.\n",
            "\n",
            "/usr/local/lib/python3.6/dist-packages/sklearn/discriminant_analysis.py:691: UserWarning:\n",
            "\n",
            "Variables are collinear\n",
            "\n",
            "[I 2020-07-13 12:03:15,167] Finished trial#22 with value: 0.9925093632958801 with parameters: {'combos': 32, 'mlp_features': 16, 'mlp_Scaler': 'log', 'mlp_alpha': 0.426478129841758, 'qda_features': 2, 'qda_Scaler': 'stand', 'qda_rp': 2.156509276161506e-19, 'rf_features': 20, 'rf_Scaler': 'minmax', 'rf_max_depth': 2, 'rf_ne': 323, 'rf_cw': 'balanced'}. Best is trial#11 with value: 0.9970869746150646.\n"
          ],
          "name": "stderr"
        },
        {
          "output_type": "stream",
          "text": [
            "('mlp', 'svc', 'qda')\n"
          ],
          "name": "stdout"
        },
        {
          "output_type": "stream",
          "text": [
            "[I 2020-07-13 12:03:16,430] Finished trial#23 with value: 0.994173949230129 with parameters: {'combos': 11, 'mlp_features': 12, 'mlp_Scaler': 'log', 'mlp_alpha': 0.05955260429217625, 'svc_features': 5, 'svc_Scaler': 'minmax', 'svc_kern': 'linear', 'svc_C': 1.8290231094891878e-08, 'svc_deg': 4, 'qda_features': 0, 'qda_Scaler': 'log', 'qda_rp': 4.216653596051118e-20}. Best is trial#11 with value: 0.9970869746150646.\n"
          ],
          "name": "stderr"
        },
        {
          "output_type": "stream",
          "text": [
            "('mlp', 'svc', 'gbm')\n"
          ],
          "name": "stdout"
        },
        {
          "output_type": "stream",
          "text": [
            "/usr/local/lib/python3.6/dist-packages/sklearn/neural_network/_multilayer_perceptron.py:571: ConvergenceWarning:\n",
            "\n",
            "Stochastic Optimizer: Maximum iterations (300) reached and the optimization hasn't converged yet.\n",
            "\n",
            "[I 2020-07-13 12:03:22,485] Setting status of trial#24 as TrialState.PRUNED. Trial was pruned at iteration 11.\n"
          ],
          "name": "stderr"
        },
        {
          "output_type": "stream",
          "text": [
            "('mlp', 'ada', 'gbm')\n"
          ],
          "name": "stdout"
        },
        {
          "output_type": "stream",
          "text": [
            "[I 2020-07-13 12:03:24,344] Finished trial#25 with value: 0.996046608406159 with parameters: {'combos': 38, 'mlp_features': 4, 'mlp_Scaler': 'log', 'mlp_alpha': 1.5739496003881397e-06, 'ada_features': 20, 'ada_Scaler': 'log', 'ada_ne': 25, 'ada_lr': 0.22661113321276008, 'ada_algo': 'SAMME', 'gbm_features': 20, 'gbm_Scaler': 'stand', 'lambda_l1': 0.003263965869951908, 'lambda_l2': 0.06328928066506029, 'num_leaves': 187, 'feature_fraction': 0.8443094723981397, 'bagging_fraction': 0.8355204108484131, 'bagging_freq': 3, 'min_child_samples': 16}. Best is trial#11 with value: 0.9970869746150646.\n"
          ],
          "name": "stderr"
        },
        {
          "output_type": "stream",
          "text": [
            "('knn', 'svc', 'gbm')\n"
          ],
          "name": "stdout"
        },
        {
          "output_type": "stream",
          "text": [
            "[I 2020-07-13 12:03:25,147] Finished trial#26 with value: 0.9885559717020391 with parameters: {'combos': 52, 'knn_features': 16, 'knn_Scaler': 'minmax', 'knn_nn': 9, 'knn_p': 1, 'svc_features': 20, 'svc_Scaler': 'minmax', 'svc_kern': 'sigmoid', 'svc_C': 0.000168638916215968, 'svc_deg': 8, 'gbm_features': 20, 'gbm_Scaler': 'stand', 'lambda_l1': 0.0025216129494925136, 'lambda_l2': 0.1089725870686594, 'num_leaves': 191, 'feature_fraction': 0.8289326298002071, 'bagging_fraction': 0.8795236405074525, 'bagging_freq': 3, 'min_child_samples': 16}. Best is trial#11 with value: 0.9970869746150646.\n"
          ],
          "name": "stderr"
        },
        {
          "output_type": "stream",
          "text": [
            "('mlp', 'knn', 'svc')\n"
          ],
          "name": "stdout"
        },
        {
          "output_type": "stream",
          "text": [
            "[I 2020-07-13 12:03:26,565] Finished trial#27 with value: 0.9923012900540991 with parameters: {'combos': 0, 'mlp_features': 8, 'mlp_Scaler': 'log', 'mlp_alpha': 0.17900871735129428, 'knn_features': 7, 'knn_Scaler': 'minmax', 'knn_nn': 24, 'knn_p': 2, 'svc_features': 5, 'svc_Scaler': 'minmax', 'svc_kern': 'linear', 'svc_C': 3.02327758223414e-07, 'svc_deg': 4}. Best is trial#11 with value: 0.9970869746150646.\n"
          ],
          "name": "stderr"
        },
        {
          "output_type": "stream",
          "text": [
            "('mlp', 'ada', 'gbm')\n"
          ],
          "name": "stdout"
        },
        {
          "output_type": "stream",
          "text": [
            "/usr/local/lib/python3.6/dist-packages/sklearn/neural_network/_multilayer_perceptron.py:571: ConvergenceWarning:\n",
            "\n",
            "Stochastic Optimizer: Maximum iterations (300) reached and the optimization hasn't converged yet.\n",
            "\n",
            "[I 2020-07-13 12:03:27,940] Setting status of trial#28 as TrialState.PRUNED. Trial was pruned at iteration 11.\n"
          ],
          "name": "stderr"
        },
        {
          "output_type": "stream",
          "text": [
            "('mlp', 'svc', 'qda')\n"
          ],
          "name": "stdout"
        },
        {
          "output_type": "stream",
          "text": [
            "/usr/local/lib/python3.6/dist-packages/sklearn/neural_network/_multilayer_perceptron.py:571: ConvergenceWarning:\n",
            "\n",
            "Stochastic Optimizer: Maximum iterations (300) reached and the optimization hasn't converged yet.\n",
            "\n",
            "/usr/local/lib/python3.6/dist-packages/sklearn/discriminant_analysis.py:691: UserWarning:\n",
            "\n",
            "Variables are collinear\n",
            "\n",
            "[I 2020-07-13 12:03:29,477] Finished trial#29 with value: 0.994173949230129 with parameters: {'combos': 11, 'mlp_features': 0, 'mlp_Scaler': 'log', 'mlp_alpha': 0.0026984000238088257, 'svc_features': 2, 'svc_Scaler': 'stand', 'svc_kern': 'rbf', 'svc_C': 0.0027329198413453917, 'svc_deg': 4, 'qda_features': 20, 'qda_Scaler': 'log', 'qda_rp': 4.672011071454879e-11}. Best is trial#11 with value: 0.9970869746150646.\n"
          ],
          "name": "stderr"
        },
        {
          "output_type": "stream",
          "text": [
            "('mlp', 'gnb', 'rf')\n"
          ],
          "name": "stdout"
        },
        {
          "output_type": "stream",
          "text": [
            "/usr/local/lib/python3.6/dist-packages/sklearn/neural_network/_multilayer_perceptron.py:571: ConvergenceWarning:\n",
            "\n",
            "Stochastic Optimizer: Maximum iterations (300) reached and the optimization hasn't converged yet.\n",
            "\n",
            "[I 2020-07-13 12:03:31,082] Finished trial#30 with value: 0.9912609238451935 with parameters: {'combos': 27, 'mlp_features': 7, 'mlp_Scaler': 'minmax', 'mlp_alpha': 0.0004939305923114606, 'gnb_features': 20, 'gnb_Scaler': 'stand', 'gnb_vs': 0.7823101618731387, 'rf_features': 13, 'rf_Scaler': 'stand', 'rf_max_depth': 1, 'rf_ne': 2, 'rf_cw': 'balanced_subsample'}. Best is trial#11 with value: 0.9970869746150646.\n"
          ],
          "name": "stderr"
        },
        {
          "output_type": "stream",
          "text": [
            "('mlp', 'ada', 'et')\n"
          ],
          "name": "stdout"
        },
        {
          "output_type": "stream",
          "text": [
            "/usr/local/lib/python3.6/dist-packages/sklearn/neural_network/_multilayer_perceptron.py:571: ConvergenceWarning:\n",
            "\n",
            "Stochastic Optimizer: Maximum iterations (300) reached and the optimization hasn't converged yet.\n",
            "\n",
            "[I 2020-07-13 12:03:32,875] Finished trial#31 with value: 0.9950062421972534 with parameters: {'combos': 35, 'mlp_features': 5, 'mlp_Scaler': 'log', 'mlp_alpha': 3.7713020598752834e-07, 'ada_features': 20, 'ada_Scaler': 'log', 'ada_ne': 60, 'ada_lr': 0.20011840012304805, 'ada_algo': 'SAMME', 'et_features': 11, 'et_Scaler': 'log', 'et_max_depth': 1, 'et_ne': 169}. Best is trial#11 with value: 0.9970869746150646.\n"
          ],
          "name": "stderr"
        },
        {
          "output_type": "stream",
          "text": [
            "('mlp', 'svc', 'rf')\n"
          ],
          "name": "stdout"
        },
        {
          "output_type": "stream",
          "text": [
            "/usr/local/lib/python3.6/dist-packages/sklearn/neural_network/_multilayer_perceptron.py:571: ConvergenceWarning:\n",
            "\n",
            "Stochastic Optimizer: Maximum iterations (300) reached and the optimization hasn't converged yet.\n",
            "\n",
            "[I 2020-07-13 12:03:35,723] Finished trial#32 with value: 0.993965875988348 with parameters: {'combos': 14, 'mlp_features': 2, 'mlp_Scaler': 'log', 'mlp_alpha': 9.58889118251453e-06, 'svc_features': 10, 'svc_Scaler': 'minmax', 'svc_kern': 'linear', 'svc_C': 1.3182923183786472, 'svc_deg': 7, 'rf_features': 20, 'rf_Scaler': 'log', 'rf_max_depth': 25, 'rf_ne': 478, 'rf_cw': 'balanced_subsample'}. Best is trial#11 with value: 0.9970869746150646.\n"
          ],
          "name": "stderr"
        },
        {
          "output_type": "stream",
          "text": [
            "('knn', 'gp', 'xgb')\n"
          ],
          "name": "stdout"
        },
        {
          "output_type": "stream",
          "text": [
            "[I 2020-07-13 12:03:38,048] Finished trial#33 with value: 0.993965875988348 with parameters: {'combos': 58, 'knn_features': 16, 'knn_Scaler': 'stand', 'knn_nn': 8, 'knn_p': 1, 'gp_features': 5, 'gp_Scaler': 'minmax', 'gp_a': 0.4200584304525748, 'gp_kern': 10, 'xgb_features': 20, 'xgb_Scaler': 'log', 'booster': 'gblinear', 'lambda': 1.0561950476902668e-08, 'alpha': 1.0264164153899313e-08}. Best is trial#11 with value: 0.9970869746150646.\n"
          ],
          "name": "stderr"
        },
        {
          "output_type": "stream",
          "text": [
            "('mlp', 'rf', 'gbm')\n"
          ],
          "name": "stdout"
        },
        {
          "output_type": "stream",
          "text": [
            "/usr/local/lib/python3.6/dist-packages/sklearn/neural_network/_multilayer_perceptron.py:571: ConvergenceWarning:\n",
            "\n",
            "Stochastic Optimizer: Maximum iterations (300) reached and the optimization hasn't converged yet.\n",
            "\n",
            "[I 2020-07-13 12:03:39,938] Setting status of trial#34 as TrialState.PRUNED. Trial was pruned at iteration 11.\n"
          ],
          "name": "stderr"
        },
        {
          "output_type": "stream",
          "text": [
            "('mlp', 'knn', 'xgb')\n"
          ],
          "name": "stdout"
        },
        {
          "output_type": "stream",
          "text": [
            "/usr/local/lib/python3.6/dist-packages/sklearn/neural_network/_multilayer_perceptron.py:571: ConvergenceWarning:\n",
            "\n",
            "Stochastic Optimizer: Maximum iterations (300) reached and the optimization hasn't converged yet.\n",
            "\n",
            "[I 2020-07-13 12:03:41,508] Finished trial#35 with value: 0.9956304619225967 with parameters: {'combos': 7, 'mlp_features': 5, 'mlp_Scaler': 'log', 'mlp_alpha': 0.09786923202577477, 'knn_features': 0, 'knn_Scaler': 'log', 'knn_nn': 21, 'knn_p': 1, 'xgb_features': 20, 'xgb_Scaler': 'log', 'booster': 'gblinear', 'lambda': 7.1200154188000745e-06, 'alpha': 2.6098728538806386e-08}. Best is trial#11 with value: 0.9970869746150646.\n"
          ],
          "name": "stderr"
        },
        {
          "output_type": "stream",
          "text": [
            "('mlp', 'gnb', 'xgb')\n"
          ],
          "name": "stdout"
        },
        {
          "output_type": "stream",
          "text": [
            "/usr/local/lib/python3.6/dist-packages/sklearn/neural_network/_multilayer_perceptron.py:571: ConvergenceWarning:\n",
            "\n",
            "Stochastic Optimizer: Maximum iterations (300) reached and the optimization hasn't converged yet.\n",
            "\n",
            "[I 2020-07-13 12:03:42,903] Finished trial#36 with value: 0.9966708281315023 with parameters: {'combos': 28, 'mlp_features': 1, 'mlp_Scaler': 'log', 'mlp_alpha': 6.272933551738358e-06, 'gnb_features': 15, 'gnb_Scaler': 'stand', 'gnb_vs': 0.24074451007253198, 'xgb_features': 13, 'xgb_Scaler': 'log', 'booster': 'dart', 'lambda': 4.809739892691719e-07, 'alpha': 3.0685055411209872e-06, 'max_depth': 100, 'eta': 0.5680151635264701, 'gamma': 4.027490376530749e-08, 'grow_policy': 'lossguide', 'sample_type': 'weighted', 'normalize_type': 'tree', 'rate_drop': 0.534107263989663, 'skip_drop': 1.1581057942000703e-08}. Best is trial#11 with value: 0.9970869746150646.\n"
          ],
          "name": "stderr"
        },
        {
          "output_type": "stream",
          "text": [
            "('svc', 'et', 'gbm')\n"
          ],
          "name": "stdout"
        },
        {
          "output_type": "stream",
          "text": [
            "[I 2020-07-13 12:03:43,767] Finished trial#37 with value: 0.9935497295047857 with parameters: {'combos': 105, 'svc_features': 7, 'svc_Scaler': 'log', 'svc_kern': 'poly', 'svc_C': 1.3644280738166465e-05, 'svc_deg': 3, 'et_features': 17, 'et_Scaler': 'stand', 'et_max_depth': 69, 'et_ne': 163, 'gbm_features': 6, 'gbm_Scaler': 'stand', 'lambda_l1': 0.03927688422355332, 'lambda_l2': 4.480210637815565e-06, 'num_leaves': 187, 'feature_fraction': 0.8176864702258975, 'bagging_fraction': 0.9635431895173981, 'bagging_freq': 4, 'min_child_samples': 17}. Best is trial#11 with value: 0.9970869746150646.\n"
          ],
          "name": "stderr"
        },
        {
          "output_type": "stream",
          "text": [
            "('knn', 'ada', 'gbm')\n"
          ],
          "name": "stdout"
        },
        {
          "output_type": "stream",
          "text": [
            "[I 2020-07-13 12:03:45,133] Finished trial#38 with value: 0.9964627548897212 with parameters: {'combos': 74, 'knn_features': 20, 'knn_Scaler': 'minmax', 'knn_nn': 2, 'knn_p': 2, 'ada_features': 9, 'ada_Scaler': 'log', 'ada_ne': 223, 'ada_lr': 0.19966264014460744, 'ada_algo': 'SAMME', 'gbm_features': 16, 'gbm_Scaler': 'stand', 'lambda_l1': 0.00016769650081370133, 'lambda_l2': 0.1544436358902793, 'num_leaves': 167, 'feature_fraction': 0.9747861977518422, 'bagging_fraction': 0.5168658350999404, 'bagging_freq': 2, 'min_child_samples': 13}. Best is trial#11 with value: 0.9970869746150646.\n"
          ],
          "name": "stderr"
        },
        {
          "output_type": "stream",
          "text": [
            "('svc', 'gp', 'gnb')\n"
          ],
          "name": "stdout"
        },
        {
          "output_type": "stream",
          "text": [
            "[I 2020-07-13 12:03:48,071] Finished trial#39 with value: 0.9918851435705368 with parameters: {'combos': 81, 'svc_features': 20, 'svc_Scaler': 'minmax', 'svc_kern': 'sigmoid', 'svc_C': 6.821012081565756e-07, 'svc_deg': 5, 'gp_features': 14, 'gp_Scaler': 'stand', 'gp_a': 0.02258505921595328, 'gp_kern': 3, 'gnb_features': 15, 'gnb_Scaler': 'stand', 'gnb_vs': 4.601858074351828e-05}. Best is trial#11 with value: 0.9970869746150646.\n"
          ],
          "name": "stderr"
        },
        {
          "output_type": "stream",
          "text": [
            "('svc', 'rf', 'xgb')\n"
          ],
          "name": "stdout"
        },
        {
          "output_type": "stream",
          "text": [
            "[I 2020-07-13 12:03:49,609] Finished trial#40 with value: 0.9898044111527258 with parameters: {'combos': 106, 'svc_features': 2, 'svc_Scaler': 'stand', 'svc_kern': 'rbf', 'svc_C': 4.342348132447123e-05, 'svc_deg': 7, 'rf_features': 0, 'rf_Scaler': 'stand', 'rf_max_depth': 100, 'rf_ne': 382, 'rf_cw': 'balanced', 'xgb_features': 12, 'xgb_Scaler': 'log', 'booster': 'dart', 'lambda': 1.0394934759697082e-06, 'alpha': 3.404737948797731e-05, 'max_depth': 100, 'eta': 0.6592370734233554, 'gamma': 1.372392426727341e-08, 'grow_policy': 'lossguide', 'sample_type': 'weighted', 'normalize_type': 'tree', 'rate_drop': 0.8630518977477928, 'skip_drop': 1.0068266458160846e-08}. Best is trial#11 with value: 0.9970869746150646.\n"
          ],
          "name": "stderr"
        },
        {
          "output_type": "stream",
          "text": [
            "('knn', 'qda', 'xgb')\n"
          ],
          "name": "stdout"
        },
        {
          "output_type": "stream",
          "text": [
            "/usr/local/lib/python3.6/dist-packages/sklearn/discriminant_analysis.py:691: UserWarning:\n",
            "\n",
            "Variables are collinear\n",
            "\n",
            "[I 2020-07-13 12:03:50,274] Finished trial#41 with value: 0.9886600083229296 with parameters: {'combos': 69, 'knn_features': 20, 'knn_Scaler': 'minmax', 'knn_nn': 3, 'knn_p': 2, 'qda_features': 7, 'qda_Scaler': 'stand', 'qda_rp': 3.078304782120346e-11, 'xgb_features': 6, 'xgb_Scaler': 'log', 'booster': 'dart', 'lambda': 0.0032144472194842585, 'alpha': 9.741512426858948e-07, 'max_depth': 69, 'eta': 0.0015664206099430796, 'gamma': 4.778018493304412e-06, 'grow_policy': 'lossguide', 'sample_type': 'weighted', 'normalize_type': 'tree', 'rate_drop': 0.9737831626517488, 'skip_drop': 1.2427460712233974e-08}. Best is trial#11 with value: 0.9970869746150646.\n"
          ],
          "name": "stderr"
        },
        {
          "output_type": "stream",
          "text": [
            "('svc', 'gp', 'xgb')\n"
          ],
          "name": "stdout"
        },
        {
          "output_type": "stream",
          "text": [
            "[I 2020-07-13 12:03:52,712] Finished trial#42 with value: 0.9895963379109447 with parameters: {'combos': 86, 'svc_features': 16, 'svc_Scaler': 'minmax', 'svc_kern': 'linear', 'svc_C': 0.26363283456216213, 'svc_deg': 5, 'gp_features': 6, 'gp_Scaler': 'log', 'gp_a': 0.0012979507392727198, 'gp_kern': 7, 'xgb_features': 16, 'xgb_Scaler': 'stand', 'booster': 'dart', 'lambda': 2.7325164051832345e-07, 'alpha': 0.002628600012266682, 'max_depth': 64, 'eta': 0.0034536162223778415, 'gamma': 5.861169279803313e-06, 'grow_policy': 'lossguide', 'sample_type': 'weighted', 'normalize_type': 'tree', 'rate_drop': 1.766837709942325e-08, 'skip_drop': 9.543581679310438e-06}. Best is trial#11 with value: 0.9970869746150646.\n"
          ],
          "name": "stderr"
        },
        {
          "output_type": "stream",
          "text": [
            "('knn', 'et', 'gbm')\n"
          ],
          "name": "stdout"
        },
        {
          "output_type": "stream",
          "text": [
            "[I 2020-07-13 12:03:53,840] Finished trial#43 with value: 0.9908447773616313 with parameters: {'combos': 77, 'knn_features': 18, 'knn_Scaler': 'minmax', 'knn_nn': 1, 'knn_p': 2, 'et_features': 2, 'et_Scaler': 'minmax', 'et_max_depth': 78, 'et_ne': 373, 'gbm_features': 15, 'gbm_Scaler': 'stand', 'lambda_l1': 0.00020546353993036062, 'lambda_l2': 0.463618863226715, 'num_leaves': 173, 'feature_fraction': 0.9841376887097721, 'bagging_fraction': 0.4811989422375068, 'bagging_freq': 2, 'min_child_samples': 13}. Best is trial#11 with value: 0.9970869746150646.\n"
          ],
          "name": "stderr"
        },
        {
          "output_type": "stream",
          "text": [
            "('knn', 'gp', 'rf')\n"
          ],
          "name": "stdout"
        },
        {
          "output_type": "stream",
          "text": [
            "[I 2020-07-13 12:03:56,465] Finished trial#44 with value: 0.9904286308780691 with parameters: {'combos': 57, 'knn_features': 12, 'knn_Scaler': 'minmax', 'knn_nn': 6, 'knn_p': 2, 'gp_features': 0, 'gp_Scaler': 'minmax', 'gp_a': 2.4605811661997437, 'gp_kern': 5, 'rf_features': 16, 'rf_Scaler': 'minmax', 'rf_max_depth': 59, 'rf_ne': 54, 'rf_cw': 'balanced_subsample'}. Best is trial#11 with value: 0.9970869746150646.\n"
          ],
          "name": "stderr"
        },
        {
          "output_type": "stream",
          "text": [
            "('svc', 'qda', 'gbm')\n"
          ],
          "name": "stdout"
        },
        {
          "output_type": "stream",
          "text": [
            "/usr/local/lib/python3.6/dist-packages/sklearn/discriminant_analysis.py:691: UserWarning:\n",
            "\n",
            "Variables are collinear\n",
            "\n",
            "[I 2020-07-13 12:03:57,174] Finished trial#45 with value: 0.9923012900540991 with parameters: {'combos': 98, 'svc_features': 8, 'svc_Scaler': 'log', 'svc_kern': 'linear', 'svc_C': 1.0836654430553171e-07, 'svc_deg': 8, 'qda_features': 13, 'qda_Scaler': 'stand', 'qda_rp': 3.419081867773181e-16, 'gbm_features': 18, 'gbm_Scaler': 'stand', 'lambda_l1': 0.0043852789941920345, 'lambda_l2': 0.009222812499828299, 'num_leaves': 159, 'feature_fraction': 0.8865960536905912, 'bagging_fraction': 0.6086163879370394, 'bagging_freq': 1, 'min_child_samples': 8}. Best is trial#11 with value: 0.9970869746150646.\n"
          ],
          "name": "stderr"
        },
        {
          "output_type": "stream",
          "text": [
            "('gp', 'ada', 'gbm')\n"
          ],
          "name": "stdout"
        },
        {
          "output_type": "stream",
          "text": [
            "[I 2020-07-13 12:03:59,098] Finished trial#46 with value: 0.9977111943404079 with parameters: {'combos': 123, 'gp_features': 8, 'gp_Scaler': 'stand', 'gp_a': 0.005229019736624429, 'gp_kern': 2, 'ada_features': 7, 'ada_Scaler': 'log', 'ada_ne': 284, 'ada_lr': 0.22326188089612758, 'ada_algo': 'SAMME', 'gbm_features': 13, 'gbm_Scaler': 'stand', 'lambda_l1': 4.5651052162739033e-05, 'lambda_l2': 0.13838035478313893, 'num_leaves': 210, 'feature_fraction': 0.7492236701234766, 'bagging_fraction': 0.4817471591737629, 'bagging_freq': 2, 'min_child_samples': 13}. Best is trial#46 with value: 0.9977111943404079.\n"
          ],
          "name": "stderr"
        },
        {
          "output_type": "stream",
          "text": [
            "('qda', 'et', 'xgb')\n"
          ],
          "name": "stdout"
        },
        {
          "output_type": "stream",
          "text": [
            "[I 2020-07-13 12:03:59,748] Finished trial#47 with value: 0.9945900957136912 with parameters: {'combos': 150, 'qda_features': 6, 'qda_Scaler': 'log', 'qda_rp': 7.362092128249397e-05, 'et_features': 5, 'et_Scaler': 'log', 'et_max_depth': 20, 'et_ne': 86, 'xgb_features': 7, 'xgb_Scaler': 'log', 'booster': 'dart', 'lambda': 0.0014741848055209441, 'alpha': 4.88412040496866e-07, 'max_depth': 30, 'eta': 1.4038864678835973e-08, 'gamma': 0.006070948080796429, 'grow_policy': 'lossguide', 'sample_type': 'weighted', 'normalize_type': 'tree', 'rate_drop': 0.0010106262146316576, 'skip_drop': 2.577717374648624e-06}. Best is trial#46 with value: 0.9977111943404079.\n"
          ],
          "name": "stderr"
        },
        {
          "output_type": "stream",
          "text": [
            "('gp', 'ada', 'xgb')\n"
          ],
          "name": "stdout"
        },
        {
          "output_type": "stream",
          "text": [
            "[I 2020-07-13 12:04:01,794] Finished trial#48 with value: 0.9956304619225967 with parameters: {'combos': 122, 'gp_features': 8, 'gp_Scaler': 'stand', 'gp_a': 0.006318086053965959, 'gp_kern': 2, 'ada_features': 6, 'ada_Scaler': 'log', 'ada_ne': 315, 'ada_lr': 0.12207527683398342, 'ada_algo': 'SAMME', 'xgb_features': 16, 'xgb_Scaler': 'minmax', 'booster': 'gbtree', 'lambda': 1.5796637893685065e-07, 'alpha': 0.0065687299389148536, 'max_depth': 83, 'eta': 7.213005425034537e-06, 'gamma': 1.5718442908491882e-07, 'grow_policy': 'depthwise'}. Best is trial#46 with value: 0.9977111943404079.\n"
          ],
          "name": "stderr"
        },
        {
          "output_type": "stream",
          "text": [
            "('gp', 'qda', 'et')\n"
          ],
          "name": "stdout"
        },
        {
          "output_type": "stream",
          "text": [
            "/usr/local/lib/python3.6/dist-packages/sklearn/discriminant_analysis.py:691: UserWarning:\n",
            "\n",
            "Variables are collinear\n",
            "\n",
            "[I 2020-07-13 12:04:05,097] Finished trial#49 with value: 0.996046608406159 with parameters: {'combos': 116, 'gp_features': 13, 'gp_Scaler': 'stand', 'gp_a': 0.004968875740720754, 'gp_kern': 1, 'qda_features': 16, 'qda_Scaler': 'minmax', 'qda_rp': 1.5917303065621246e-07, 'et_features': 14, 'et_Scaler': 'log', 'et_max_depth': 85, 'et_ne': 307}. Best is trial#46 with value: 0.9977111943404079.\n"
          ],
          "name": "stderr"
        },
        {
          "output_type": "stream",
          "text": [
            "('gnb', 'xgb', 'gbm')\n"
          ],
          "name": "stdout"
        },
        {
          "output_type": "stream",
          "text": [
            "[I 2020-07-13 12:04:05,750] Finished trial#50 with value: 0.996046608406159 with parameters: {'combos': 144, 'gnb_features': 15, 'gnb_Scaler': 'stand', 'gnb_vs': 8.291915823900727e-11, 'xgb_features': 3, 'xgb_Scaler': 'log', 'booster': 'dart', 'lambda': 0.00047933006499553546, 'alpha': 2.081056073306619e-05, 'max_depth': 46, 'eta': 0.020681497945236736, 'gamma': 3.1115589612374027e-06, 'grow_policy': 'lossguide', 'sample_type': 'uniform', 'normalize_type': 'forest', 'rate_drop': 0.0007047632758008011, 'skip_drop': 0.76209152405606, 'gbm_features': 15, 'gbm_Scaler': 'stand', 'lambda_l1': 1.1106118517677597e-05, 'lambda_l2': 0.10033928583146115, 'num_leaves': 222, 'feature_fraction': 0.9857307424653252, 'bagging_fraction': 0.4637400337269457, 'bagging_freq': 4, 'min_child_samples': 18}. Best is trial#46 with value: 0.9977111943404079.\n"
          ],
          "name": "stderr"
        },
        {
          "output_type": "stream",
          "text": [
            "('gp', 'ada', 'rf')\n"
          ],
          "name": "stdout"
        },
        {
          "output_type": "stream",
          "text": [
            "[I 2020-07-13 12:04:08,680] Finished trial#51 with value: 0.9958385351643779 with parameters: {'combos': 121, 'gp_features': 13, 'gp_Scaler': 'stand', 'gp_a': 0.003825195174435083, 'gp_kern': 1, 'ada_features': 10, 'ada_Scaler': 'log', 'ada_ne': 300, 'ada_lr': 0.31713120276983053, 'ada_algo': 'SAMME', 'rf_features': 5, 'rf_Scaler': 'stand', 'rf_max_depth': 26, 'rf_ne': 249, 'rf_cw': 'balanced'}. Best is trial#46 with value: 0.9977111943404079.\n"
          ],
          "name": "stderr"
        },
        {
          "output_type": "stream",
          "text": [
            "('mlp', 'gp', 'qda')\n"
          ],
          "name": "stdout"
        },
        {
          "output_type": "stream",
          "text": [
            "/usr/local/lib/python3.6/dist-packages/sklearn/neural_network/_multilayer_perceptron.py:571: ConvergenceWarning:\n",
            "\n",
            "Stochastic Optimizer: Maximum iterations (300) reached and the optimization hasn't converged yet.\n",
            "\n",
            "/usr/local/lib/python3.6/dist-packages/sklearn/discriminant_analysis.py:691: UserWarning:\n",
            "\n",
            "Variables are collinear\n",
            "\n",
            "[I 2020-07-13 12:04:11,542] Finished trial#52 with value: 0.9927174365376613 with parameters: {'combos': 18, 'mlp_features': 1, 'mlp_Scaler': 'stand', 'mlp_alpha': 3.574028695063711e-06, 'gp_features': 8, 'gp_Scaler': 'stand', 'gp_a': 0.05103407206920752, 'gp_kern': 3, 'qda_features': 4, 'qda_Scaler': 'stand', 'qda_rp': 3.618331738927989e-15}. Best is trial#46 with value: 0.9977111943404079.\n"
          ],
          "name": "stderr"
        },
        {
          "output_type": "stream",
          "text": [
            "('mlp', 'knn', 'xgb')\n"
          ],
          "name": "stdout"
        },
        {
          "output_type": "stream",
          "text": [
            "/usr/local/lib/python3.6/dist-packages/sklearn/neural_network/_multilayer_perceptron.py:571: ConvergenceWarning:\n",
            "\n",
            "Stochastic Optimizer: Maximum iterations (300) reached and the optimization hasn't converged yet.\n",
            "\n",
            "[I 2020-07-13 12:04:13,033] Finished trial#53 with value: 0.9950062421972534 with parameters: {'combos': 7, 'mlp_features': 2, 'mlp_Scaler': 'log', 'mlp_alpha': 3.640892611450199e-06, 'knn_features': 15, 'knn_Scaler': 'minmax', 'knn_nn': 12, 'knn_p': 2, 'xgb_features': 15, 'xgb_Scaler': 'log', 'booster': 'dart', 'lambda': 2.8145177079425654e-06, 'alpha': 1.684718350852128e-07, 'max_depth': 2, 'eta': 2.0165086808710288e-06, 'gamma': 0.7662385194717186, 'grow_policy': 'lossguide', 'sample_type': 'weighted', 'normalize_type': 'tree', 'rate_drop': 0.023289586557582887, 'skip_drop': 0.0015882502639511878}. Best is trial#46 with value: 0.9977111943404079.\n"
          ],
          "name": "stderr"
        },
        {
          "output_type": "stream",
          "text": [
            "('qda', 'ada', 'xgb')\n"
          ],
          "name": "stdout"
        },
        {
          "output_type": "stream",
          "text": [
            "/usr/local/lib/python3.6/dist-packages/sklearn/discriminant_analysis.py:691: UserWarning:\n",
            "\n",
            "Variables are collinear\n",
            "\n",
            "[I 2020-07-13 12:04:14,182] Finished trial#54 with value: 0.9962546816479402 with parameters: {'combos': 147, 'qda_features': 8, 'qda_Scaler': 'log', 'qda_rp': 3.596852424665658e-08, 'ada_features': 9, 'ada_Scaler': 'log', 'ada_ne': 196, 'ada_lr': 0.5375334346608964, 'ada_algo': 'SAMME.R', 'xgb_features': 3, 'xgb_Scaler': 'log', 'booster': 'dart', 'lambda': 0.000505732780583486, 'alpha': 1.697780590243663e-05, 'max_depth': 43, 'eta': 0.03456232794167831, 'gamma': 1.2256547056884621e-06, 'grow_policy': 'lossguide', 'sample_type': 'uniform', 'normalize_type': 'forest', 'rate_drop': 3.443136935496682e-06, 'skip_drop': 0.29605466258961993}. Best is trial#46 with value: 0.9977111943404079.\n"
          ],
          "name": "stderr"
        },
        {
          "output_type": "stream",
          "text": [
            "('gnb', 'rf', 'gbm')\n"
          ],
          "name": "stdout"
        },
        {
          "output_type": "stream",
          "text": [
            "[I 2020-07-13 12:04:16,162] Finished trial#55 with value: 0.9887640449438203 with parameters: {'combos': 143, 'gnb_features': 7, 'gnb_Scaler': 'stand', 'gnb_vs': 0.0010053663773244195, 'rf_features': 12, 'rf_Scaler': 'log', 'rf_max_depth': 37, 'rf_ne': 435, 'rf_cw': 'balanced_subsample', 'gbm_features': 11, 'gbm_Scaler': 'stand', 'lambda_l1': 2.1041191526662715e-07, 'lambda_l2': 0.00035182134156282066, 'num_leaves': 91, 'feature_fraction': 0.6530081809850972, 'bagging_fraction': 0.5121473432767395, 'bagging_freq': 2, 'min_child_samples': 13}. Best is trial#46 with value: 0.9977111943404079.\n"
          ],
          "name": "stderr"
        },
        {
          "output_type": "stream",
          "text": [
            "('gp', 'xgb', 'gbm')\n"
          ],
          "name": "stdout"
        },
        {
          "output_type": "stream",
          "text": [
            "[I 2020-07-13 12:04:18,112] Setting status of trial#56 as TrialState.PRUNED. Trial was pruned at iteration 11.\n"
          ],
          "name": "stderr"
        },
        {
          "output_type": "stream",
          "text": [
            "('et', 'rf', 'xgb')\n"
          ],
          "name": "stdout"
        },
        {
          "output_type": "stream",
          "text": [
            "[I 2020-07-13 12:04:19,788] Finished trial#57 with value: 0.9945900957136912 with parameters: {'combos': 161, 'et_features': 16, 'et_Scaler': 'log', 'et_max_depth': 85, 'et_ne': 318, 'rf_features': 17, 'rf_Scaler': 'stand', 'rf_max_depth': 13, 'rf_ne': 282, 'rf_cw': 'balanced', 'xgb_features': 9, 'xgb_Scaler': 'log', 'booster': 'dart', 'lambda': 3.885150674238057e-05, 'alpha': 8.117245051040866e-06, 'max_depth': 50, 'eta': 0.8077016384945941, 'gamma': 5.768358953678278e-07, 'grow_policy': 'lossguide', 'sample_type': 'uniform', 'normalize_type': 'forest', 'rate_drop': 3.949820270827055e-06, 'skip_drop': 9.80185742292335e-07}. Best is trial#46 with value: 0.9977111943404079.\n"
          ],
          "name": "stderr"
        },
        {
          "output_type": "stream",
          "text": [
            "('ada', 'et', 'gbm')\n"
          ],
          "name": "stdout"
        },
        {
          "output_type": "stream",
          "text": [
            "[I 2020-07-13 12:04:20,821] Setting status of trial#58 as TrialState.PRUNED. Trial was pruned at iteration 11.\n"
          ],
          "name": "stderr"
        },
        {
          "output_type": "stream",
          "text": [
            "('gnb', 'ada', 'et')\n"
          ],
          "name": "stdout"
        },
        {
          "output_type": "stream",
          "text": [
            "[I 2020-07-13 12:04:22,086] Finished trial#59 with value: 0.9927174365376613 with parameters: {'combos': 135, 'gnb_features': 16, 'gnb_Scaler': 'stand', 'gnb_vs': 0.6568820375942888, 'ada_features': 7, 'ada_Scaler': 'log', 'ada_ne': 185, 'ada_lr': 0.12187518339525735, 'ada_algo': 'SAMME.R', 'et_features': 6, 'et_Scaler': 'minmax', 'et_max_depth': 36, 'et_ne': 79}. Best is trial#46 with value: 0.9977111943404079.\n"
          ],
          "name": "stderr"
        },
        {
          "output_type": "stream",
          "text": [
            "('mlp', 'gnb', 'gbm')\n"
          ],
          "name": "stdout"
        },
        {
          "output_type": "stream",
          "text": [
            "/usr/local/lib/python3.6/dist-packages/sklearn/neural_network/_multilayer_perceptron.py:571: ConvergenceWarning:\n",
            "\n",
            "Stochastic Optimizer: Maximum iterations (300) reached and the optimization hasn't converged yet.\n",
            "\n",
            "[I 2020-07-13 12:04:23,703] Finished trial#60 with value: 0.9952143154390346 with parameters: {'combos': 29, 'mlp_features': 14, 'mlp_Scaler': 'stand', 'mlp_alpha': 0.00036556089849175595, 'gnb_features': 17, 'gnb_Scaler': 'stand', 'gnb_vs': 0.14563293405002414, 'gbm_features': 15, 'gbm_Scaler': 'minmax', 'lambda_l1': 3.981678711769898e-08, 'lambda_l2': 1.0699759973213219, 'num_leaves': 109, 'feature_fraction': 0.6833055753337018, 'bagging_fraction': 0.6443478276412059, 'bagging_freq': 5, 'min_child_samples': 9}. Best is trial#46 with value: 0.9977111943404079.\n"
          ],
          "name": "stderr"
        },
        {
          "output_type": "stream",
          "text": [
            "('mlp', 'gp', 'rf')\n"
          ],
          "name": "stdout"
        },
        {
          "output_type": "stream",
          "text": [
            "/usr/local/lib/python3.6/dist-packages/sklearn/neural_network/_multilayer_perceptron.py:571: ConvergenceWarning:\n",
            "\n",
            "Stochastic Optimizer: Maximum iterations (300) reached and the optimization hasn't converged yet.\n",
            "\n",
            "[I 2020-07-13 12:04:27,290] Finished trial#61 with value: 0.9927174365376613 with parameters: {'combos': 21, 'mlp_features': 5, 'mlp_Scaler': 'log', 'mlp_alpha': 1.8701030165204682e-07, 'gp_features': 17, 'gp_Scaler': 'log', 'gp_a': 0.14250077175126455, 'gp_kern': 4, 'rf_features': 3, 'rf_Scaler': 'minmax', 'rf_max_depth': 71, 'rf_ne': 148, 'rf_cw': 'balanced_subsample'}. Best is trial#46 with value: 0.9977111943404079.\n"
          ],
          "name": "stderr"
        },
        {
          "output_type": "stream",
          "text": [
            "('gp', 'qda', 'ada')\n"
          ],
          "name": "stdout"
        },
        {
          "output_type": "stream",
          "text": [
            "/usr/local/lib/python3.6/dist-packages/sklearn/discriminant_analysis.py:691: UserWarning:\n",
            "\n",
            "Variables are collinear\n",
            "\n",
            "[I 2020-07-13 12:04:31,223] Finished trial#62 with value: 0.9923012900540991 with parameters: {'combos': 115, 'gp_features': 8, 'gp_Scaler': 'stand', 'gp_a': 0.0012172790770452423, 'gp_kern': 2, 'qda_features': 15, 'qda_Scaler': 'minmax', 'qda_rp': 6.838324603772516e-07, 'ada_features': 11, 'ada_Scaler': 'minmax', 'ada_ne': 337, 'ada_lr': 0.4704397531965301, 'ada_algo': 'SAMME.R'}. Best is trial#46 with value: 0.9977111943404079.\n"
          ],
          "name": "stderr"
        },
        {
          "output_type": "stream",
          "text": [
            "('gnb', 'rf', 'xgb')\n"
          ],
          "name": "stdout"
        },
        {
          "output_type": "stream",
          "text": [
            "[I 2020-07-13 12:04:31,981] Finished trial#63 with value: 0.9970869746150646 with parameters: {'combos': 142, 'gnb_features': 13, 'gnb_Scaler': 'stand', 'gnb_vs': 1.8019446277363194e-10, 'rf_features': 9, 'rf_Scaler': 'log', 'rf_max_depth': 41, 'rf_ne': 3, 'rf_cw': 'balanced_subsample', 'xgb_features': 3, 'xgb_Scaler': 'log', 'booster': 'dart', 'lambda': 0.0004948035880864571, 'alpha': 3.736539504728447e-05, 'max_depth': 46, 'eta': 0.014990409362363412, 'gamma': 1.0978994061378231e-05, 'grow_policy': 'lossguide', 'sample_type': 'uniform', 'normalize_type': 'forest', 'rate_drop': 0.0035225394548496075, 'skip_drop': 0.7739005405889773}. Best is trial#46 with value: 0.9977111943404079.\n"
          ],
          "name": "stderr"
        },
        {
          "output_type": "stream",
          "text": [
            "('qda', 'rf', 'gbm')\n"
          ],
          "name": "stdout"
        },
        {
          "output_type": "stream",
          "text": [
            "/usr/local/lib/python3.6/dist-packages/sklearn/discriminant_analysis.py:691: UserWarning:\n",
            "\n",
            "Variables are collinear\n",
            "\n",
            "[I 2020-07-13 12:04:32,825] Finished trial#64 with value: 0.992093216812318 with parameters: {'combos': 153, 'qda_features': 8, 'qda_Scaler': 'log', 'qda_rp': 2.2999353216602265e-14, 'rf_features': 9, 'rf_Scaler': 'log', 'rf_max_depth': 41, 'rf_ne': 6, 'rf_cw': 'balanced_subsample', 'gbm_features': 18, 'gbm_Scaler': 'log', 'lambda_l1': 8.007766892048735e-05, 'lambda_l2': 0.03013101011210294, 'num_leaves': 206, 'feature_fraction': 0.7842097310230804, 'bagging_fraction': 0.45153345102567755, 'bagging_freq': 6, 'min_child_samples': 11}. Best is trial#46 with value: 0.9977111943404079.\n"
          ],
          "name": "stderr"
        },
        {
          "output_type": "stream",
          "text": [
            "('qda', 'et', 'rf')\n"
          ],
          "name": "stdout"
        },
        {
          "output_type": "stream",
          "text": [
            "/usr/local/lib/python3.6/dist-packages/sklearn/discriminant_analysis.py:691: UserWarning:\n",
            "\n",
            "Variables are collinear\n",
            "\n",
            "[I 2020-07-13 12:04:34,113] Finished trial#65 with value: 0.9912609238451935 with parameters: {'combos': 149, 'qda_features': 10, 'qda_Scaler': 'log', 'qda_rp': 2.2932549827547384e-08, 'et_features': 13, 'et_Scaler': 'log', 'et_max_depth': 1, 'et_ne': 469, 'rf_features': 12, 'rf_Scaler': 'log', 'rf_max_depth': 17, 'rf_ne': 79, 'rf_cw': 'balanced_subsample'}. Best is trial#46 with value: 0.9977111943404079.\n"
          ],
          "name": "stderr"
        },
        {
          "output_type": "stream",
          "text": [
            "('gnb', 'ada', 'xgb')\n"
          ],
          "name": "stdout"
        },
        {
          "output_type": "stream",
          "text": [
            "[I 2020-07-13 12:04:34,986] Finished trial#66 with value: 0.9925093632958802 with parameters: {'combos': 137, 'gnb_features': 13, 'gnb_Scaler': 'stand', 'gnb_vs': 1.900811400447864e-08, 'ada_features': 3, 'ada_Scaler': 'stand', 'ada_ne': 133, 'ada_lr': 0.13772941220909485, 'ada_algo': 'SAMME', 'xgb_features': 3, 'xgb_Scaler': 'log', 'booster': 'gblinear', 'lambda': 0.0001562800461785981, 'alpha': 0.00010052632930437058}. Best is trial#46 with value: 0.9977111943404079.\n"
          ],
          "name": "stderr"
        },
        {
          "output_type": "stream",
          "text": [
            "('gnb', 'et', 'gbm')\n"
          ],
          "name": "stdout"
        },
        {
          "output_type": "stream",
          "text": [
            "[I 2020-07-13 12:04:35,789] Finished trial#67 with value: 0.9952143154390346 with parameters: {'combos': 141, 'gnb_features': 18, 'gnb_Scaler': 'stand', 'gnb_vs': 0.004265068096877684, 'et_features': 20, 'et_Scaler': 'log', 'et_max_depth': 98, 'et_ne': 184, 'gbm_features': 10, 'gbm_Scaler': 'stand', 'lambda_l1': 0.3286149422250143, 'lambda_l2': 0.0016183475235112326, 'num_leaves': 164, 'feature_fraction': 0.4104330199016032, 'bagging_fraction': 0.7251045951622529, 'bagging_freq': 3, 'min_child_samples': 7}. Best is trial#46 with value: 0.9977111943404079.\n"
          ],
          "name": "stderr"
        },
        {
          "output_type": "stream",
          "text": [
            "('gp', 'rf', 'xgb')\n"
          ],
          "name": "stdout"
        },
        {
          "output_type": "stream",
          "text": [
            "[I 2020-07-13 12:04:39,424] Finished trial#68 with value: 0.9929255097794424 with parameters: {'combos': 127, 'gp_features': 11, 'gp_Scaler': 'minmax', 'gp_a': 0.00920145036242686, 'gp_kern': 6, 'rf_features': 6, 'rf_Scaler': 'log', 'rf_max_depth': 66, 'rf_ne': 162, 'rf_cw': 'balanced_subsample', 'xgb_features': 6, 'xgb_Scaler': 'log', 'booster': 'dart', 'lambda': 0.019831047055965074, 'alpha': 2.364874135580311e-06, 'max_depth': 39, 'eta': 0.008112028202592197, 'gamma': 0.00016549538982438394, 'grow_policy': 'lossguide', 'sample_type': 'uniform', 'normalize_type': 'forest', 'rate_drop': 0.052258680039654115, 'skip_drop': 0.06436412346352292}. Best is trial#46 with value: 0.9977111943404079.\n"
          ],
          "name": "stderr"
        },
        {
          "output_type": "stream",
          "text": [
            "('gnb', 'qda', 'et')\n"
          ],
          "name": "stdout"
        },
        {
          "output_type": "stream",
          "text": [
            "[I 2020-07-13 12:04:39,964] Finished trial#69 with value: 0.9954223886808157 with parameters: {'combos': 131, 'gnb_features': 13, 'gnb_Scaler': 'minmax', 'gnb_vs': 8.186751777934666e-13, 'qda_features': 0, 'qda_Scaler': 'log', 'qda_rp': 0.27415328430333125, 'et_features': 3, 'et_Scaler': 'stand', 'et_max_depth': 25, 'et_ne': 13}. Best is trial#46 with value: 0.9977111943404079.\n"
          ],
          "name": "stderr"
        },
        {
          "output_type": "stream",
          "text": [
            "('svc', 'gnb', 'gbm')\n"
          ],
          "name": "stdout"
        },
        {
          "output_type": "stream",
          "text": [
            "[I 2020-07-13 12:04:40,639] Finished trial#70 with value: 0.9900124843945068 with parameters: {'combos': 93, 'svc_features': 2, 'svc_Scaler': 'minmax', 'svc_kern': 'linear', 'svc_C': 0.0015271143935875588, 'svc_deg': 3, 'gnb_features': 5, 'gnb_Scaler': 'stand', 'gnb_vs': 7.038841620129831e-08, 'gbm_features': 14, 'gbm_Scaler': 'stand', 'lambda_l1': 0.0005664407214536516, 'lambda_l2': 4.627248338456926e-06, 'num_leaves': 151, 'feature_fraction': 0.7685648918887558, 'bagging_fraction': 0.5469242409276519, 'bagging_freq': 2, 'min_child_samples': 14}. Best is trial#46 with value: 0.9977111943404079.\n"
          ],
          "name": "stderr"
        },
        {
          "output_type": "stream",
          "text": [
            "('mlp', 'rf', 'gbm')\n"
          ],
          "name": "stdout"
        },
        {
          "output_type": "stream",
          "text": [
            "/usr/local/lib/python3.6/dist-packages/sklearn/neural_network/_multilayer_perceptron.py:571: ConvergenceWarning:\n",
            "\n",
            "Stochastic Optimizer: Maximum iterations (300) reached and the optimization hasn't converged yet.\n",
            "\n",
            "[I 2020-07-13 12:04:42,819] Finished trial#71 with value: 0.9966708281315023 with parameters: {'combos': 43, 'mlp_features': 2, 'mlp_Scaler': 'log', 'mlp_alpha': 2.4382293736262443e-05, 'rf_features': 14, 'rf_Scaler': 'log', 'rf_max_depth': 45, 'rf_ne': 235, 'rf_cw': 'balanced_subsample', 'gbm_features': 16, 'gbm_Scaler': 'stand', 'lambda_l1': 0.008669526202095023, 'lambda_l2': 0.13848122521155817, 'num_leaves': 200, 'feature_fraction': 0.8792726810273983, 'bagging_fraction': 0.5074348185593996, 'bagging_freq': 3, 'min_child_samples': 16}. Best is trial#46 with value: 0.9977111943404079.\n"
          ],
          "name": "stderr"
        },
        {
          "output_type": "stream",
          "text": [
            "('knn', 'svc', 'qda')\n"
          ],
          "name": "stdout"
        },
        {
          "output_type": "stream",
          "text": [
            "/usr/local/lib/python3.6/dist-packages/sklearn/discriminant_analysis.py:691: UserWarning:\n",
            "\n",
            "Variables are collinear\n",
            "\n",
            "[I 2020-07-13 12:04:43,521] Finished trial#72 with value: 0.9893882646691635 with parameters: {'combos': 47, 'knn_features': 18, 'knn_Scaler': 'minmax', 'knn_nn': 18, 'knn_p': 2, 'svc_features': 15, 'svc_Scaler': 'log', 'svc_kern': 'poly', 'svc_C': 2.163353616495026e-06, 'svc_deg': 10, 'qda_features': 10, 'qda_Scaler': 'log', 'qda_rp': 1.1193877066382181e-12}. Best is trial#46 with value: 0.9977111943404079.\n"
          ],
          "name": "stderr"
        },
        {
          "output_type": "stream",
          "text": [
            "('gp', 'qda', 'xgb')\n"
          ],
          "name": "stdout"
        },
        {
          "output_type": "stream",
          "text": [
            "/usr/local/lib/python3.6/dist-packages/sklearn/discriminant_analysis.py:691: UserWarning:\n",
            "\n",
            "Variables are collinear\n",
            "\n",
            "[I 2020-07-13 12:04:46,766] Finished trial#73 with value: 0.9954223886808157 with parameters: {'combos': 118, 'gp_features': 13, 'gp_Scaler': 'stand', 'gp_a': 0.00263338484702606, 'gp_kern': 2, 'qda_features': 17, 'qda_Scaler': 'minmax', 'qda_rp': 7.409698160464174e-08, 'xgb_features': 11, 'xgb_Scaler': 'log', 'booster': 'dart', 'lambda': 0.00021386609730082048, 'alpha': 1.1171768947271832e-07, 'max_depth': 17, 'eta': 0.0006298813178782566, 'gamma': 1.0907724755445705e-08, 'grow_policy': 'lossguide', 'sample_type': 'uniform', 'normalize_type': 'forest', 'rate_drop': 2.228876730285096e-06, 'skip_drop': 0.0009112200858796591}. Best is trial#46 with value: 0.9977111943404079.\n"
          ],
          "name": "stderr"
        },
        {
          "output_type": "stream",
          "text": [
            "('knn', 'gnb', 'ada')\n"
          ],
          "name": "stdout"
        },
        {
          "output_type": "stream",
          "text": [
            "[I 2020-07-13 12:04:48,230] Finished trial#74 with value: 0.9975031210986267 with parameters: {'combos': 61, 'knn_features': 14, 'knn_Scaler': 'stand', 'knn_nn': 4, 'knn_p': 1, 'gnb_features': 13, 'gnb_Scaler': 'stand', 'gnb_vs': 0.00660112796764048, 'ada_features': 14, 'ada_Scaler': 'log', 'ada_ne': 265, 'ada_lr': 0.38515564125947777, 'ada_algo': 'SAMME.R'}. Best is trial#46 with value: 0.9977111943404079.\n"
          ],
          "name": "stderr"
        },
        {
          "output_type": "stream",
          "text": [
            "('knn', 'gnb', 'et')\n"
          ],
          "name": "stdout"
        },
        {
          "output_type": "stream",
          "text": [
            "[I 2020-07-13 12:04:49,269] Finished trial#75 with value: 0.9893882646691635 with parameters: {'combos': 62, 'knn_features': 14, 'knn_Scaler': 'stand', 'knn_nn': 4, 'knn_p': 1, 'gnb_features': 13, 'gnb_Scaler': 'stand', 'gnb_vs': 4.41491698889236e-06, 'et_features': 8, 'et_Scaler': 'minmax', 'et_max_depth': 72, 'et_ne': 395}. Best is trial#46 with value: 0.9977111943404079.\n"
          ],
          "name": "stderr"
        },
        {
          "output_type": "stream",
          "text": [
            "('knn', 'ada', 'rf')\n"
          ],
          "name": "stdout"
        },
        {
          "output_type": "stream",
          "text": [
            "[I 2020-07-13 12:04:51,423] Finished trial#76 with value: 0.9972950478568456 with parameters: {'combos': 72, 'knn_features': 9, 'knn_Scaler': 'stand', 'knn_nn': 1, 'knn_p': 1, 'ada_features': 14, 'ada_Scaler': 'log', 'ada_ne': 265, 'ada_lr': 0.48184429792692446, 'ada_algo': 'SAMME.R', 'rf_features': 14, 'rf_Scaler': 'log', 'rf_max_depth': 44, 'rf_ne': 230, 'rf_cw': 'balanced_subsample'}. Best is trial#46 with value: 0.9977111943404079.\n"
          ],
          "name": "stderr"
        },
        {
          "output_type": "stream",
          "text": [
            "('knn', 'et', 'xgb')\n"
          ],
          "name": "stdout"
        },
        {
          "output_type": "stream",
          "text": [
            "[I 2020-07-13 12:04:52,332] Finished trial#77 with value: 0.9933416562630045 with parameters: {'combos': 76, 'knn_features': 9, 'knn_Scaler': 'stand', 'knn_nn': 1, 'knn_p': 1, 'et_features': 12, 'et_Scaler': 'log', 'et_max_depth': 90, 'et_ne': 230, 'xgb_features': 18, 'xgb_Scaler': 'minmax', 'booster': 'gbtree', 'lambda': 1.0900273247745207e-05, 'alpha': 0.0032919005461943466, 'max_depth': 63, 'eta': 0.15352666743480323, 'gamma': 3.181670801751545e-05, 'grow_policy': 'depthwise'}. Best is trial#46 with value: 0.9977111943404079.\n"
          ],
          "name": "stderr"
        },
        {
          "output_type": "stream",
          "text": [
            "('knn', 'qda', 'xgb')\n"
          ],
          "name": "stdout"
        },
        {
          "output_type": "stream",
          "text": [
            "/usr/local/lib/python3.6/dist-packages/sklearn/discriminant_analysis.py:691: UserWarning:\n",
            "\n",
            "Variables are collinear\n",
            "\n",
            "[I 2020-07-13 12:04:53,015] Finished trial#78 with value: 0.9891801914273824 with parameters: {'combos': 69, 'knn_features': 6, 'knn_Scaler': 'stand', 'knn_nn': 4, 'knn_p': 1, 'qda_features': 20, 'qda_Scaler': 'stand', 'qda_rp': 1.0102774381289739e-17, 'xgb_features': 14, 'xgb_Scaler': 'stand', 'booster': 'dart', 'lambda': 9.246953352322903e-08, 'alpha': 0.021946437475595045, 'max_depth': 79, 'eta': 0.00023553174569138912, 'gamma': 0.000828921826505329, 'grow_policy': 'lossguide', 'sample_type': 'weighted', 'normalize_type': 'tree', 'rate_drop': 0.03685096080247986, 'skip_drop': 5.859651322166172e-08}. Best is trial#46 with value: 0.9977111943404079.\n"
          ],
          "name": "stderr"
        },
        {
          "output_type": "stream",
          "text": [
            "('knn', 'gp', 'gnb')\n"
          ],
          "name": "stdout"
        },
        {
          "output_type": "stream",
          "text": [
            "[I 2020-07-13 12:04:55,404] Finished trial#79 with value: 0.9933416562630046 with parameters: {'combos': 53, 'knn_features': 11, 'knn_Scaler': 'stand', 'knn_nn': 10, 'knn_p': 1, 'gp_features': 6, 'gp_Scaler': 'log', 'gp_a': 0.042727575262432156, 'gp_kern': 4, 'gnb_features': 12, 'gnb_Scaler': 'stand', 'gnb_vs': 2.989243614590404e-11}. Best is trial#46 with value: 0.9977111943404079.\n"
          ],
          "name": "stderr"
        },
        {
          "output_type": "stream",
          "text": [
            "('knn', 'gnb', 'ada')\n"
          ],
          "name": "stdout"
        },
        {
          "output_type": "stream",
          "text": [
            "[I 2020-07-13 12:04:56,905] Finished trial#80 with value: 0.9975031210986267 with parameters: {'combos': 61, 'knn_features': 10, 'knn_Scaler': 'stand', 'knn_nn': 5, 'knn_p': 1, 'gnb_features': 8, 'gnb_Scaler': 'stand', 'gnb_vs': 0.007111071774422836, 'ada_features': 15, 'ada_Scaler': 'log', 'ada_ne': 271, 'ada_lr': 0.35092615214518047, 'ada_algo': 'SAMME.R'}. Best is trial#46 with value: 0.9977111943404079.\n"
          ],
          "name": "stderr"
        },
        {
          "output_type": "stream",
          "text": [
            "('knn', 'gnb', 'ada')\n"
          ],
          "name": "stdout"
        },
        {
          "output_type": "stream",
          "text": [
            "[I 2020-07-13 12:04:58,399] Finished trial#81 with value: 0.9966708281315023 with parameters: {'combos': 61, 'knn_features': 9, 'knn_Scaler': 'stand', 'knn_nn': 5, 'knn_p': 1, 'gnb_features': 8, 'gnb_Scaler': 'stand', 'gnb_vs': 0.004894087399867881, 'ada_features': 16, 'ada_Scaler': 'log', 'ada_ne': 272, 'ada_lr': 0.37980853745582255, 'ada_algo': 'SAMME.R'}. Best is trial#46 with value: 0.9977111943404079.\n"
          ],
          "name": "stderr"
        },
        {
          "output_type": "stream",
          "text": [
            "('knn', 'gnb', 'qda')\n"
          ],
          "name": "stdout"
        },
        {
          "output_type": "stream",
          "text": [
            "/usr/local/lib/python3.6/dist-packages/sklearn/discriminant_analysis.py:691: UserWarning:\n",
            "\n",
            "Variables are collinear\n",
            "\n",
            "[I 2020-07-13 12:04:59,063] Finished trial#82 with value: 0.9975031210986267 with parameters: {'combos': 60, 'knn_features': 9, 'knn_Scaler': 'stand', 'knn_nn': 5, 'knn_p': 1, 'gnb_features': 8, 'gnb_Scaler': 'stand', 'gnb_vs': 0.003498057382327569, 'qda_features': 4, 'qda_Scaler': 'minmax', 'qda_rp': 0.00011906886498938458}. Best is trial#46 with value: 0.9977111943404079.\n"
          ],
          "name": "stderr"
        },
        {
          "output_type": "stream",
          "text": [
            "('knn', 'gnb', 'xgb')\n"
          ],
          "name": "stdout"
        },
        {
          "output_type": "stream",
          "text": [
            "[I 2020-07-13 12:04:59,709] Finished trial#83 with value: 0.9914689970869747 with parameters: {'combos': 64, 'knn_features': 10, 'knn_Scaler': 'stand', 'knn_nn': 6, 'knn_p': 1, 'gnb_features': 8, 'gnb_Scaler': 'stand', 'gnb_vs': 0.0016726077399158742, 'xgb_features': 10, 'xgb_Scaler': 'minmax', 'booster': 'dart', 'lambda': 1.595456764013013e-06, 'alpha': 0.9778861365232006, 'max_depth': 56, 'eta': 0.7645849713134867, 'gamma': 0.010164574974006595, 'grow_policy': 'lossguide', 'sample_type': 'weighted', 'normalize_type': 'tree', 'rate_drop': 0.0015861783388032057, 'skip_drop': 8.019761804471288e-05}. Best is trial#46 with value: 0.9977111943404079.\n"
          ],
          "name": "stderr"
        },
        {
          "output_type": "stream",
          "text": [
            "('knn', 'gp', 'rf')\n"
          ],
          "name": "stdout"
        },
        {
          "output_type": "stream",
          "text": [
            "[I 2020-07-13 12:05:03,292] Finished trial#84 with value: 0.9935497295047857 with parameters: {'combos': 57, 'knn_features': 9, 'knn_Scaler': 'stand', 'knn_nn': 5, 'knn_p': 1, 'gp_features': 20, 'gp_Scaler': 'minmax', 'gp_a': 0.37011072521991767, 'gp_kern': 8, 'rf_features': 11, 'rf_Scaler': 'log', 'rf_max_depth': 53, 'rf_ne': 422, 'rf_cw': 'balanced_subsample'}. Best is trial#46 with value: 0.9977111943404079.\n"
          ],
          "name": "stderr"
        },
        {
          "output_type": "stream",
          "text": [
            "('svc', 'gp', 'qda')\n"
          ],
          "name": "stdout"
        },
        {
          "output_type": "stream",
          "text": [
            "/usr/local/lib/python3.6/dist-packages/sklearn/discriminant_analysis.py:691: UserWarning:\n",
            "\n",
            "Variables are collinear\n",
            "\n",
            "[I 2020-07-13 12:05:05,931] Finished trial#85 with value: 0.9923012900540991 with parameters: {'combos': 82, 'svc_features': 18, 'svc_Scaler': 'stand', 'svc_kern': 'sigmoid', 'svc_C': 0.3208328732157814, 'svc_deg': 9, 'gp_features': 1, 'gp_Scaler': 'stand', 'gp_a': 0.027260265396044623, 'gp_kern': 2, 'qda_features': 3, 'qda_Scaler': 'minmax', 'qda_rp': 0.0004968614150966985}. Best is trial#46 with value: 0.9977111943404079.\n"
          ],
          "name": "stderr"
        },
        {
          "output_type": "stream",
          "text": [
            "('knn', 'gnb', 'ada')\n"
          ],
          "name": "stdout"
        },
        {
          "output_type": "stream",
          "text": [
            "[I 2020-07-13 12:05:07,445] Finished trial#86 with value: 0.9972950478568456 with parameters: {'combos': 61, 'knn_features': 6, 'knn_Scaler': 'stand', 'knn_nn': 5, 'knn_p': 1, 'gnb_features': 5, 'gnb_Scaler': 'stand', 'gnb_vs': 0.03469596613324405, 'ada_features': 16, 'ada_Scaler': 'log', 'ada_ne': 277, 'ada_lr': 0.4332947827974521, 'ada_algo': 'SAMME.R'}. Best is trial#46 with value: 0.9977111943404079.\n"
          ],
          "name": "stderr"
        },
        {
          "output_type": "stream",
          "text": [
            "('knn', 'ada', 'et')\n"
          ],
          "name": "stdout"
        },
        {
          "output_type": "stream",
          "text": [
            "[I 2020-07-13 12:05:09,162] Finished trial#87 with value: 0.9968789013732835 with parameters: {'combos': 71, 'knn_features': 6, 'knn_Scaler': 'stand', 'knn_nn': 1, 'knn_p': 1, 'ada_features': 15, 'ada_Scaler': 'log', 'ada_ne': 331, 'ada_lr': 0.6976811377463951, 'ada_algo': 'SAMME.R', 'et_features': 17, 'et_Scaler': 'stand', 'et_max_depth': 50, 'et_ne': 45}. Best is trial#46 with value: 0.9977111943404079.\n"
          ],
          "name": "stderr"
        },
        {
          "output_type": "stream",
          "text": [
            "('knn', 'qda', 'rf')\n"
          ],
          "name": "stdout"
        },
        {
          "output_type": "stream",
          "text": [
            "/usr/local/lib/python3.6/dist-packages/sklearn/discriminant_analysis.py:691: UserWarning:\n",
            "\n",
            "Variables are collinear\n",
            "\n",
            "[I 2020-07-13 12:05:10,023] Finished trial#88 with value: 0.9920932168123178 with parameters: {'combos': 68, 'knn_features': 5, 'knn_Scaler': 'stand', 'knn_nn': 1, 'knn_p': 1, 'qda_features': 5, 'qda_Scaler': 'minmax', 'qda_rp': 2.5564000762114805e-06, 'rf_features': 18, 'rf_Scaler': 'log', 'rf_max_depth': 35, 'rf_ne': 39, 'rf_cw': 'balanced_subsample'}. Best is trial#46 with value: 0.9977111943404079.\n"
          ],
          "name": "stderr"
        },
        {
          "output_type": "stream",
          "text": [
            "('svc', 'gp', 'ada')\n"
          ],
          "name": "stdout"
        },
        {
          "output_type": "stream",
          "text": [
            "[I 2020-07-13 12:05:14,724] Finished trial#89 with value: 0.9947981689554724 with parameters: {'combos': 83, 'svc_features': 13, 'svc_Scaler': 'stand', 'svc_kern': 'rbf', 'svc_C': 0.0004510253097900279, 'svc_deg': 9, 'gp_features': 17, 'gp_Scaler': 'stand', 'gp_a': 0.009909340789869572, 'gp_kern': 5, 'ada_features': 15, 'ada_Scaler': 'log', 'ada_ne': 383, 'ada_lr': 0.7797156199152062, 'ada_algo': 'SAMME.R'}. Best is trial#46 with value: 0.9977111943404079.\n"
          ],
          "name": "stderr"
        },
        {
          "output_type": "stream",
          "text": [
            "('knn', 'ada', 'rf')\n"
          ],
          "name": "stdout"
        },
        {
          "output_type": "stream",
          "text": [
            "[I 2020-07-13 12:05:16,970] Finished trial#90 with value: 0.9972950478568456 with parameters: {'combos': 72, 'knn_features': 4, 'knn_Scaler': 'stand', 'knn_nn': 3, 'knn_p': 1, 'ada_features': 17, 'ada_Scaler': 'log', 'ada_ne': 367, 'ada_lr': 0.3915275332713819, 'ada_algo': 'SAMME.R', 'rf_features': 14, 'rf_Scaler': 'log', 'rf_max_depth': 16, 'rf_ne': 112, 'rf_cw': 'balanced_subsample'}. Best is trial#46 with value: 0.9977111943404079.\n"
          ],
          "name": "stderr"
        },
        {
          "output_type": "stream",
          "text": [
            "('knn', 'ada', 'et')\n"
          ],
          "name": "stdout"
        },
        {
          "output_type": "stream",
          "text": [
            "[I 2020-07-13 12:05:18,842] Finished trial#91 with value: 0.9968789013732834 with parameters: {'combos': 71, 'knn_features': 3, 'knn_Scaler': 'stand', 'knn_nn': 4, 'knn_p': 1, 'ada_features': 17, 'ada_Scaler': 'log', 'ada_ne': 368, 'ada_lr': 0.4144814929113551, 'ada_algo': 'SAMME.R', 'et_features': 17, 'et_Scaler': 'stand', 'et_max_depth': 47, 'et_ne': 49}. Best is trial#46 with value: 0.9977111943404079.\n"
          ],
          "name": "stderr"
        },
        {
          "output_type": "stream",
          "text": [
            "('knn', 'ada', 'gbm')\n"
          ],
          "name": "stdout"
        },
        {
          "output_type": "stream",
          "text": [
            "[I 2020-07-13 12:05:20,216] Setting status of trial#92 as TrialState.PRUNED. Trial was pruned at iteration 11.\n"
          ],
          "name": "stderr"
        },
        {
          "output_type": "stream",
          "text": [
            "('knn', 'gp', 'gnb')\n"
          ],
          "name": "stdout"
        },
        {
          "output_type": "stream",
          "text": [
            "[I 2020-07-13 12:05:24,015] Finished trial#93 with value: 0.9935497295047857 with parameters: {'combos': 53, 'knn_features': 7, 'knn_Scaler': 'stand', 'knn_nn': 1, 'knn_p': 1, 'gp_features': 7, 'gp_Scaler': 'stand', 'gp_a': 0.0021910771010575005, 'gp_kern': 3, 'gnb_features': 3, 'gnb_Scaler': 'stand', 'gnb_vs': 0.0002716200128474342}. Best is trial#46 with value: 0.9977111943404079.\n"
          ],
          "name": "stderr"
        },
        {
          "output_type": "stream",
          "text": [
            "('svc', 'gnb', 'ada')\n"
          ],
          "name": "stdout"
        },
        {
          "output_type": "stream",
          "text": [
            "[I 2020-07-13 12:05:25,501] Finished trial#94 with value: 0.9977111943404079 with parameters: {'combos': 89, 'svc_features': 9, 'svc_Scaler': 'log', 'svc_kern': 'sigmoid', 'svc_C': 0.07475831343554416, 'svc_deg': 7, 'gnb_features': 3, 'gnb_Scaler': 'stand', 'gnb_vs': 1.928993589403111e-06, 'ada_features': 17, 'ada_Scaler': 'log', 'ada_ne': 275, 'ada_lr': 0.6144943482480516, 'ada_algo': 'SAMME.R'}. Best is trial#46 with value: 0.9977111943404079.\n"
          ],
          "name": "stderr"
        },
        {
          "output_type": "stream",
          "text": [
            "('knn', 'rf', 'xgb')\n"
          ],
          "name": "stdout"
        },
        {
          "output_type": "stream",
          "text": [
            "[I 2020-07-13 12:05:26,588] Finished trial#95 with value: 0.9872034956304618 with parameters: {'combos': 78, 'knn_features': 3, 'knn_Scaler': 'stand', 'knn_nn': 7, 'knn_p': 1, 'rf_features': 15, 'rf_Scaler': 'log', 'rf_max_depth': 13, 'rf_ne': 114, 'rf_cw': 'balanced_subsample', 'xgb_features': 1, 'xgb_Scaler': 'stand', 'booster': 'gbtree', 'lambda': 0.8789618039512654, 'alpha': 0.0005708018998414262, 'max_depth': 18, 'eta': 4.321833981612371e-05, 'gamma': 3.150675048952455e-05, 'grow_policy': 'depthwise'}. Best is trial#46 with value: 0.9977111943404079.\n"
          ],
          "name": "stderr"
        },
        {
          "output_type": "stream",
          "text": [
            "('svc', 'gnb', 'et')\n"
          ],
          "name": "stdout"
        },
        {
          "output_type": "stream",
          "text": [
            "[I 2020-07-13 12:05:27,323] Finished trial#96 with value: 0.9897003745318352 with parameters: {'combos': 90, 'svc_features': 9, 'svc_Scaler': 'log', 'svc_kern': 'sigmoid', 'svc_C': 0.05439909592694798, 'svc_deg': 7, 'gnb_features': 3, 'gnb_Scaler': 'stand', 'gnb_vs': 9.757551569309477e-07, 'et_features': 15, 'et_Scaler': 'minmax', 'et_max_depth': 17, 'et_ne': 127}. Best is trial#46 with value: 0.9977111943404079.\n"
          ],
          "name": "stderr"
        },
        {
          "output_type": "stream",
          "text": [
            "('knn', 'svc', 'et')\n"
          ],
          "name": "stdout"
        },
        {
          "output_type": "stream",
          "text": [
            "[I 2020-07-13 12:05:28,297] Finished trial#97 with value: 0.9946941323345818 with parameters: {'combos': 49, 'knn_features': 11, 'knn_Scaler': 'stand', 'knn_nn': 3, 'knn_p': 1, 'svc_features': 10, 'svc_Scaler': 'log', 'svc_kern': 'sigmoid', 'svc_C': 3.462985244908889, 'svc_deg': 8, 'et_features': 8, 'et_Scaler': 'log', 'et_max_depth': 66, 'et_ne': 266}. Best is trial#46 with value: 0.9977111943404079.\n"
          ],
          "name": "stderr"
        },
        {
          "output_type": "stream",
          "text": [
            "('knn', 'qda', 'ada')\n"
          ],
          "name": "stdout"
        },
        {
          "output_type": "stream",
          "text": [
            "/usr/local/lib/python3.6/dist-packages/sklearn/discriminant_analysis.py:691: UserWarning:\n",
            "\n",
            "Variables are collinear\n",
            "\n",
            "[I 2020-07-13 12:05:29,796] Finished trial#98 with value: 0.9854348730753225 with parameters: {'combos': 66, 'knn_features': 13, 'knn_Scaler': 'stand', 'knn_nn': 10, 'knn_p': 1, 'qda_features': 2, 'qda_Scaler': 'minmax', 'qda_rp': 1.4360774443032058e-09, 'ada_features': 18, 'ada_Scaler': 'log', 'ada_ne': 266, 'ada_lr': 0.48652683435740535, 'ada_algo': 'SAMME.R'}. Best is trial#46 with value: 0.9977111943404079.\n"
          ],
          "name": "stderr"
        },
        {
          "output_type": "stream",
          "text": [
            "('svc', 'et', 'rf')\n"
          ],
          "name": "stdout"
        },
        {
          "output_type": "stream",
          "text": [
            "[I 2020-07-13 12:05:31,285] Finished trial#99 with value: 0.9943820224719101 with parameters: {'combos': 103, 'svc_features': 7, 'svc_Scaler': 'log', 'svc_kern': 'sigmoid', 'svc_C': 0.19499512484599746, 'svc_deg': 6, 'et_features': 3, 'et_Scaler': 'log', 'et_max_depth': 90, 'et_ne': 205, 'rf_features': 10, 'rf_Scaler': 'log', 'rf_max_depth': 46, 'rf_ne': 197, 'rf_cw': 'balanced_subsample'}. Best is trial#46 with value: 0.9977111943404079.\n"
          ],
          "name": "stderr"
        },
        {
          "output_type": "stream",
          "text": [
            "('knn', 'gp', 'gbm')\n"
          ],
          "name": "stdout"
        },
        {
          "output_type": "stream",
          "text": [
            "[I 2020-07-13 12:05:33,764] Setting status of trial#100 as TrialState.PRUNED. Trial was pruned at iteration 11.\n"
          ],
          "name": "stderr"
        },
        {
          "output_type": "stream",
          "text": [
            "('svc', 'gp', 'gbm')\n"
          ],
          "name": "stdout"
        },
        {
          "output_type": "stream",
          "text": [
            "[I 2020-07-13 12:05:35,645] Setting status of trial#101 as TrialState.PRUNED. Trial was pruned at iteration 11.\n"
          ],
          "name": "stderr"
        },
        {
          "output_type": "stream",
          "text": [
            "('knn', 'ada', 'xgb')\n"
          ],
          "name": "stdout"
        },
        {
          "output_type": "stream",
          "text": [
            "[I 2020-07-13 12:05:37,378] Finished trial#102 with value: 0.9977111943404079 with parameters: {'combos': 73, 'knn_features': 7, 'knn_Scaler': 'stand', 'knn_nn': 1, 'knn_p': 1, 'ada_features': 17, 'ada_Scaler': 'log', 'ada_ne': 305, 'ada_lr': 0.6228399030464986, 'ada_algo': 'SAMME.R', 'xgb_features': 0, 'xgb_Scaler': 'minmax', 'booster': 'gbtree', 'lambda': 0.14464918607122165, 'alpha': 0.04819194952295935, 'max_depth': 12, 'eta': 2.2684455143190327e-06, 'gamma': 0.03433076077214984, 'grow_policy': 'depthwise'}. Best is trial#46 with value: 0.9977111943404079.\n"
          ],
          "name": "stderr"
        },
        {
          "output_type": "stream",
          "text": [
            "('knn', 'gnb', 'xgb')\n"
          ],
          "name": "stdout"
        },
        {
          "output_type": "stream",
          "text": [
            "[I 2020-07-13 12:05:38,018] Finished trial#103 with value: 0.9954223886808157 with parameters: {'combos': 64, 'knn_features': 7, 'knn_Scaler': 'stand', 'knn_nn': 3, 'knn_p': 1, 'gnb_features': 5, 'gnb_Scaler': 'stand', 'gnb_vs': 0.019375182433926944, 'xgb_features': 0, 'xgb_Scaler': 'minmax', 'booster': 'gbtree', 'lambda': 0.07183915415287183, 'alpha': 0.8618703903591785, 'max_depth': 11, 'eta': 4.067069055298536e-07, 'gamma': 0.06732697642202111, 'grow_policy': 'depthwise'}. Best is trial#46 with value: 0.9977111943404079.\n"
          ],
          "name": "stderr"
        },
        {
          "output_type": "stream",
          "text": [
            "('gp', 'gnb', 'ada')\n"
          ],
          "name": "stdout"
        },
        {
          "output_type": "stream",
          "text": [
            "[I 2020-07-13 12:05:41,689] Finished trial#104 with value: 0.9945900957136913 with parameters: {'combos': 110, 'gp_features': 15, 'gp_Scaler': 'minmax', 'gp_a': 0.010132360473158172, 'gp_kern': 4, 'gnb_features': 6, 'gnb_Scaler': 'stand', 'gnb_vs': 0.00016439570701522798, 'ada_features': 18, 'ada_Scaler': 'log', 'ada_ne': 291, 'ada_lr': 0.606129269506607, 'ada_algo': 'SAMME.R'}. Best is trial#46 with value: 0.9977111943404079.\n"
          ],
          "name": "stderr"
        },
        {
          "output_type": "stream",
          "text": [
            "('knn', 'xgb', 'gbm')\n"
          ],
          "name": "stdout"
        },
        {
          "output_type": "stream",
          "text": [
            "[I 2020-07-13 12:05:42,260] Setting status of trial#105 as TrialState.PRUNED. Trial was pruned at iteration 11.\n"
          ],
          "name": "stderr"
        },
        {
          "output_type": "stream",
          "text": [
            "('knn', 'gp', 'et')\n"
          ],
          "name": "stdout"
        },
        {
          "output_type": "stream",
          "text": [
            "[I 2020-07-13 12:05:45,106] Finished trial#106 with value: 0.9866833125260092 with parameters: {'combos': 56, 'knn_features': 8, 'knn_Scaler': 'stand', 'knn_nn': 5, 'knn_p': 1, 'gp_features': 4, 'gp_Scaler': 'stand', 'gp_a': 0.0025592993149782784, 'gp_kern': 6, 'et_features': 19, 'et_Scaler': 'minmax', 'et_max_depth': 10, 'et_ne': 128}. Best is trial#46 with value: 0.9977111943404079.\n"
          ],
          "name": "stderr"
        },
        {
          "output_type": "stream",
          "text": [
            "('knn', 'gnb', 'ada')\n"
          ],
          "name": "stdout"
        },
        {
          "output_type": "stream",
          "text": [
            "[I 2020-07-13 12:05:46,511] Finished trial#107 with value: 0.9975031210986267 with parameters: {'combos': 61, 'knn_features': 6, 'knn_Scaler': 'log', 'knn_nn': 8, 'knn_p': 1, 'gnb_features': 10, 'gnb_Scaler': 'stand', 'gnb_vs': 0.04947129352650045, 'ada_features': 17, 'ada_Scaler': 'log', 'ada_ne': 240, 'ada_lr': 0.4161061265217738, 'ada_algo': 'SAMME.R'}. Best is trial#46 with value: 0.9977111943404079.\n"
          ],
          "name": "stderr"
        },
        {
          "output_type": "stream",
          "text": [
            "('knn', 'ada', 'xgb')\n"
          ],
          "name": "stdout"
        },
        {
          "output_type": "stream",
          "text": [
            "[I 2020-07-13 12:05:47,950] Finished trial#108 with value: 0.9972950478568456 with parameters: {'combos': 73, 'knn_features': 5, 'knn_Scaler': 'log', 'knn_nn': 8, 'knn_p': 1, 'ada_features': 17, 'ada_Scaler': 'log', 'ada_ne': 242, 'ada_lr': 0.42234146603554384, 'ada_algo': 'SAMME.R', 'xgb_features': 8, 'xgb_Scaler': 'minmax', 'booster': 'gbtree', 'lambda': 0.005905547896441333, 'alpha': 0.2813019710524832, 'max_depth': 7, 'eta': 1.1298035829121527e-08, 'gamma': 0.029890800741091517, 'grow_policy': 'depthwise'}. Best is trial#46 with value: 0.9977111943404079.\n"
          ],
          "name": "stderr"
        },
        {
          "output_type": "stream",
          "text": [
            "('knn', 'ada', 'xgb')\n"
          ],
          "name": "stdout"
        },
        {
          "output_type": "stream",
          "text": [
            "[I 2020-07-13 12:05:49,406] Finished trial#109 with value: 0.9977111943404079 with parameters: {'combos': 73, 'knn_features': 5, 'knn_Scaler': 'log', 'knn_nn': 8, 'knn_p': 1, 'ada_features': 17, 'ada_Scaler': 'log', 'ada_ne': 250, 'ada_lr': 0.4286256434169628, 'ada_algo': 'SAMME.R', 'xgb_features': 8, 'xgb_Scaler': 'minmax', 'booster': 'gbtree', 'lambda': 0.007560670159621994, 'alpha': 0.19253321351610264, 'max_depth': 2, 'eta': 1.0524944068290369e-08, 'gamma': 0.038556052777433535, 'grow_policy': 'depthwise'}. Best is trial#46 with value: 0.9977111943404079.\n"
          ],
          "name": "stderr"
        },
        {
          "output_type": "stream",
          "text": [
            "('knn', 'qda', 'et')\n"
          ],
          "name": "stdout"
        },
        {
          "output_type": "stream",
          "text": [
            "[I 2020-07-13 12:05:50,490] Finished trial#110 with value: 0.9972950478568456 with parameters: {'combos': 67, 'knn_features': 6, 'knn_Scaler': 'log', 'knn_nn': 8, 'knn_p': 1, 'qda_features': 0, 'qda_Scaler': 'minmax', 'qda_rp': 2.0541320045957996e-05, 'et_features': 0, 'et_Scaler': 'stand', 'et_max_depth': 30, 'et_ne': 414}. Best is trial#46 with value: 0.9977111943404079.\n"
          ],
          "name": "stderr"
        },
        {
          "output_type": "stream",
          "text": [
            "('knn', 'qda', 'et')\n"
          ],
          "name": "stdout"
        },
        {
          "output_type": "stream",
          "text": [
            "[I 2020-07-13 12:05:51,567] Finished trial#111 with value: 0.9970869746150646 with parameters: {'combos': 67, 'knn_features': 6, 'knn_Scaler': 'log', 'knn_nn': 8, 'knn_p': 1, 'qda_features': 1, 'qda_Scaler': 'minmax', 'qda_rp': 1.7650821798149508e-05, 'et_features': 0, 'et_Scaler': 'stand', 'et_max_depth': 27, 'et_ne': 411}. Best is trial#46 with value: 0.9977111943404079.\n"
          ],
          "name": "stderr"
        },
        {
          "output_type": "stream",
          "text": [
            "('knn', 'gnb', 'ada')\n"
          ],
          "name": "stdout"
        },
        {
          "output_type": "stream",
          "text": [
            "[I 2020-07-13 12:05:52,994] Finished trial#112 with value: 0.9975031210986267 with parameters: {'combos': 61, 'knn_features': 5, 'knn_Scaler': 'log', 'knn_nn': 9, 'knn_p': 1, 'gnb_features': 10, 'gnb_Scaler': 'minmax', 'gnb_vs': 0.02591340514587855, 'ada_features': 17, 'ada_Scaler': 'log', 'ada_ne': 241, 'ada_lr': 0.4644847445202711, 'ada_algo': 'SAMME.R'}. Best is trial#46 with value: 0.9977111943404079.\n"
          ],
          "name": "stderr"
        },
        {
          "output_type": "stream",
          "text": [
            "('knn', 'gnb', 'qda')\n"
          ],
          "name": "stdout"
        },
        {
          "output_type": "stream",
          "text": [
            "/usr/local/lib/python3.6/dist-packages/sklearn/discriminant_analysis.py:691: UserWarning:\n",
            "\n",
            "Variables are collinear\n",
            "\n",
            "[I 2020-07-13 12:05:53,647] Finished trial#113 with value: 0.9910528506034124 with parameters: {'combos': 60, 'knn_features': 4, 'knn_Scaler': 'log', 'knn_nn': 11, 'knn_p': 1, 'gnb_features': 10, 'gnb_Scaler': 'minmax', 'gnb_vs': 0.03421687674502483, 'qda_features': 12, 'qda_Scaler': 'minmax', 'qda_rp': 0.015683916427673347}. Best is trial#46 with value: 0.9977111943404079.\n"
          ],
          "name": "stderr"
        },
        {
          "output_type": "stream",
          "text": [
            "('knn', 'ada', 'rf')\n"
          ],
          "name": "stdout"
        },
        {
          "output_type": "stream",
          "text": [
            "[I 2020-07-13 12:05:55,752] Finished trial#114 with value: 0.9964627548897212 with parameters: {'combos': 72, 'knn_features': 5, 'knn_Scaler': 'log', 'knn_nn': 13, 'knn_p': 1, 'ada_features': 18, 'ada_Scaler': 'log', 'ada_ne': 239, 'ada_lr': 0.3960270512876216, 'ada_algo': 'SAMME.R', 'rf_features': 18, 'rf_Scaler': 'log', 'rf_max_depth': 18, 'rf_ne': 206, 'rf_cw': 'balanced_subsample'}. Best is trial#46 with value: 0.9977111943404079.\n"
          ],
          "name": "stderr"
        },
        {
          "output_type": "stream",
          "text": [
            "('knn', 'gnb', 'et')\n"
          ],
          "name": "stdout"
        },
        {
          "output_type": "stream",
          "text": [
            "[I 2020-07-13 12:05:56,896] Finished trial#115 with value: 0.9889721181856013 with parameters: {'combos': 62, 'knn_features': 3, 'knn_Scaler': 'log', 'knn_nn': 7, 'knn_p': 1, 'gnb_features': 9, 'gnb_Scaler': 'minmax', 'gnb_vs': 0.01981670925421906, 'et_features': 19, 'et_Scaler': 'minmax', 'et_max_depth': 41, 'et_ne': 491}. Best is trial#46 with value: 0.9977111943404079.\n"
          ],
          "name": "stderr"
        },
        {
          "output_type": "stream",
          "text": [
            "('knn', 'gp', 'ada')\n"
          ],
          "name": "stdout"
        },
        {
          "output_type": "stream",
          "text": [
            "[I 2020-07-13 12:06:00,063] Finished trial#116 with value: 0.9950062421972534 with parameters: {'combos': 55, 'knn_features': 6, 'knn_Scaler': 'log', 'knn_nn': 9, 'knn_p': 1, 'gp_features': 3, 'gp_Scaler': 'log', 'gp_a': 0.0010203297121208787, 'gp_kern': 10, 'ada_features': 16, 'ada_Scaler': 'log', 'ada_ne': 242, 'ada_lr': 0.29899033923995477, 'ada_algo': 'SAMME.R'}. Best is trial#46 with value: 0.9977111943404079.\n"
          ],
          "name": "stderr"
        },
        {
          "output_type": "stream",
          "text": [
            "('knn', 'svc', 'et')\n"
          ],
          "name": "stdout"
        },
        {
          "output_type": "stream",
          "text": [
            "[I 2020-07-13 12:06:01,125] Finished trial#117 with value: 0.9933416562630046 with parameters: {'combos': 49, 'knn_features': 7, 'knn_Scaler': 'log', 'knn_nn': 7, 'knn_p': 1, 'svc_features': 18, 'svc_Scaler': 'log', 'svc_kern': 'sigmoid', 'svc_C': 1.3179950876616946, 'svc_deg': 10, 'et_features': 1, 'et_Scaler': 'stand', 'et_max_depth': 33, 'et_ne': 338}. Best is trial#46 with value: 0.9977111943404079.\n"
          ],
          "name": "stderr"
        },
        {
          "output_type": "stream",
          "text": [
            "('knn', 'xgb', 'gbm')\n"
          ],
          "name": "stdout"
        },
        {
          "output_type": "stream",
          "text": [
            "[I 2020-07-13 12:06:01,687] Setting status of trial#118 as TrialState.PRUNED. Trial was pruned at iteration 12.\n"
          ],
          "name": "stderr"
        },
        {
          "output_type": "stream",
          "text": [
            "('mlp', 'xgb', 'gbm')\n"
          ],
          "name": "stdout"
        },
        {
          "output_type": "stream",
          "text": [
            "/usr/local/lib/python3.6/dist-packages/sklearn/neural_network/_multilayer_perceptron.py:571: ConvergenceWarning:\n",
            "\n",
            "Stochastic Optimizer: Maximum iterations (300) reached and the optimization hasn't converged yet.\n",
            "\n",
            "[I 2020-07-13 12:06:03,197] Setting status of trial#119 as TrialState.PRUNED. Trial was pruned at iteration 11.\n"
          ],
          "name": "stderr"
        },
        {
          "output_type": "stream",
          "text": [
            "('knn', 'et', 'gbm')\n"
          ],
          "name": "stdout"
        },
        {
          "output_type": "stream",
          "text": [
            "[I 2020-07-13 12:06:04,267] Setting status of trial#120 as TrialState.PRUNED. Trial was pruned at iteration 11.\n"
          ],
          "name": "stderr"
        },
        {
          "output_type": "stream",
          "text": [
            "('knn', 'gnb', 'gbm')\n"
          ],
          "name": "stdout"
        },
        {
          "output_type": "stream",
          "text": [
            "[I 2020-07-13 12:06:04,906] Setting status of trial#121 as TrialState.PRUNED. Trial was pruned at iteration 11.\n"
          ],
          "name": "stderr"
        },
        {
          "output_type": "stream",
          "text": [
            "('knn', 'qda', 'et')\n"
          ],
          "name": "stdout"
        },
        {
          "output_type": "stream",
          "text": [
            "/usr/local/lib/python3.6/dist-packages/sklearn/discriminant_analysis.py:691: UserWarning:\n",
            "\n",
            "Variables are collinear\n",
            "\n",
            "[I 2020-07-13 12:06:05,936] Finished trial#122 with value: 0.992093216812318 with parameters: {'combos': 67, 'knn_features': 10, 'knn_Scaler': 'log', 'knn_nn': 6, 'knn_p': 1, 'qda_features': 4, 'qda_Scaler': 'minmax', 'qda_rp': 0.7995736923067278, 'et_features': 0, 'et_Scaler': 'stand', 'et_max_depth': 59, 'et_ne': 279}. Best is trial#46 with value: 0.9977111943404079.\n"
          ],
          "name": "stderr"
        },
        {
          "output_type": "stream",
          "text": [
            "('knn', 'ada', 'gbm')\n"
          ],
          "name": "stdout"
        },
        {
          "output_type": "stream",
          "text": [
            "[I 2020-07-13 12:06:07,476] Finished trial#123 with value: 0.9970869746150646 with parameters: {'combos': 74, 'knn_features': 5, 'knn_Scaler': 'log', 'knn_nn': 8, 'knn_p': 1, 'ada_features': 17, 'ada_Scaler': 'log', 'ada_ne': 251, 'ada_lr': 0.4888107436866179, 'ada_algo': 'SAMME.R', 'gbm_features': 18, 'gbm_Scaler': 'log', 'lambda_l1': 0.014080761968498877, 'lambda_l2': 0.03159117834125307, 'num_leaves': 66, 'feature_fraction': 0.7393728892737657, 'bagging_fraction': 0.4254068891777008, 'bagging_freq': 5, 'min_child_samples': 5}. Best is trial#46 with value: 0.9977111943404079.\n"
          ],
          "name": "stderr"
        },
        {
          "output_type": "stream",
          "text": [
            "('svc', 'gp', 'rf')\n"
          ],
          "name": "stdout"
        },
        {
          "output_type": "stream",
          "text": [
            "[I 2020-07-13 12:06:10,991] Finished trial#124 with value: 0.9916770703287557 with parameters: {'combos': 85, 'svc_features': 11, 'svc_Scaler': 'log', 'svc_kern': 'poly', 'svc_C': 0.005043586728094654, 'svc_deg': 8, 'gp_features': 18, 'gp_Scaler': 'stand', 'gp_a': 9.229222762643898, 'gp_kern': 3, 'rf_features': 14, 'rf_Scaler': 'log', 'rf_max_depth': 6, 'rf_ne': 268, 'rf_cw': 'balanced_subsample'}. Best is trial#46 with value: 0.9977111943404079.\n"
          ],
          "name": "stderr"
        },
        {
          "output_type": "stream",
          "text": [
            "('knn', 'gnb', 'ada')\n"
          ],
          "name": "stdout"
        },
        {
          "output_type": "stream",
          "text": [
            "[I 2020-07-13 12:06:12,553] Finished trial#125 with value: 0.9975031210986267 with parameters: {'combos': 61, 'knn_features': 5, 'knn_Scaler': 'log', 'knn_nn': 10, 'knn_p': 1, 'gnb_features': 3, 'gnb_Scaler': 'minmax', 'gnb_vs': 0.04261808645197246, 'ada_features': 17, 'ada_Scaler': 'log', 'ada_ne': 292, 'ada_lr': 0.4052204772835219, 'ada_algo': 'SAMME.R'}. Best is trial#46 with value: 0.9977111943404079.\n"
          ],
          "name": "stderr"
        },
        {
          "output_type": "stream",
          "text": [
            "('knn', 'gnb', 'qda')\n"
          ],
          "name": "stdout"
        },
        {
          "output_type": "stream",
          "text": [
            "/usr/local/lib/python3.6/dist-packages/sklearn/discriminant_analysis.py:691: UserWarning:\n",
            "\n",
            "Variables are collinear\n",
            "\n",
            "[I 2020-07-13 12:06:13,210] Finished trial#126 with value: 0.9943820224719101 with parameters: {'combos': 60, 'knn_features': 7, 'knn_Scaler': 'log', 'knn_nn': 11, 'knn_p': 1, 'gnb_features': 2, 'gnb_Scaler': 'minmax', 'gnb_vs': 0.022059574505888514, 'qda_features': 9, 'qda_Scaler': 'stand', 'qda_rp': 6.775688419288141e-13}. Best is trial#46 with value: 0.9977111943404079.\n"
          ],
          "name": "stderr"
        },
        {
          "output_type": "stream",
          "text": [
            "('knn', 'gp', 'qda')\n"
          ],
          "name": "stdout"
        },
        {
          "output_type": "stream",
          "text": [
            "/usr/local/lib/python3.6/dist-packages/sklearn/discriminant_analysis.py:691: UserWarning:\n",
            "\n",
            "Variables are collinear\n",
            "\n",
            "[I 2020-07-13 12:06:15,587] Finished trial#127 with value: 0.9927174365376613 with parameters: {'combos': 54, 'knn_features': 2, 'knn_Scaler': 'stand', 'knn_nn': 15, 'knn_p': 1, 'gp_features': 9, 'gp_Scaler': 'minmax', 'gp_a': 0.3057065184079786, 'gp_kern': 8, 'qda_features': 6, 'qda_Scaler': 'minmax', 'qda_rp': 0.010536626971166878}. Best is trial#46 with value: 0.9977111943404079.\n"
          ],
          "name": "stderr"
        },
        {
          "output_type": "stream",
          "text": [
            "('knn', 'gnb', 'et')\n"
          ],
          "name": "stdout"
        },
        {
          "output_type": "stream",
          "text": [
            "[I 2020-07-13 12:06:16,577] Finished trial#128 with value: 0.9900124843945068 with parameters: {'combos': 62, 'knn_features': 5, 'knn_Scaler': 'log', 'knn_nn': 9, 'knn_p': 1, 'gnb_features': 2, 'gnb_Scaler': 'minmax', 'gnb_vs': 0.38340075102082816, 'et_features': 13, 'et_Scaler': 'minmax', 'et_max_depth': 42, 'et_ne': 348}. Best is trial#46 with value: 0.9977111943404079.\n"
          ],
          "name": "stderr"
        },
        {
          "output_type": "stream",
          "text": [
            "('knn', 'gp', 'xgb')\n"
          ],
          "name": "stdout"
        },
        {
          "output_type": "stream",
          "text": [
            "[I 2020-07-13 12:06:18,821] Finished trial#129 with value: 0.9947981689554724 with parameters: {'combos': 58, 'knn_features': 9, 'knn_Scaler': 'stand', 'knn_nn': 2, 'knn_p': 1, 'gp_features': 12, 'gp_Scaler': 'stand', 'gp_a': 1.0942249703039553, 'gp_kern': 1, 'xgb_features': 0, 'xgb_Scaler': 'minmax', 'booster': 'gbtree', 'lambda': 0.6913813291550938, 'alpha': 0.09674886027243529, 'max_depth': 35, 'eta': 4.841488890684792e-07, 'gamma': 0.15544116879584008, 'grow_policy': 'depthwise'}. Best is trial#46 with value: 0.9977111943404079.\n"
          ],
          "name": "stderr"
        },
        {
          "output_type": "stream",
          "text": [
            "('knn', 'ada', 'rf')\n"
          ],
          "name": "stdout"
        },
        {
          "output_type": "stream",
          "text": [
            "[I 2020-07-13 12:06:21,285] Finished trial#130 with value: 0.9964627548897212 with parameters: {'combos': 72, 'knn_features': 4, 'knn_Scaler': 'log', 'knn_nn': 11, 'knn_p': 1, 'ada_features': 17, 'ada_Scaler': 'log', 'ada_ne': 288, 'ada_lr': 0.39450452036032163, 'ada_algo': 'SAMME.R', 'rf_features': 19, 'rf_Scaler': 'log', 'rf_max_depth': 26, 'rf_ne': 302, 'rf_cw': 'balanced_subsample'}. Best is trial#46 with value: 0.9977111943404079.\n"
          ],
          "name": "stderr"
        },
        {
          "output_type": "stream",
          "text": [
            "('knn', 'qda', 'rf')\n"
          ],
          "name": "stdout"
        },
        {
          "output_type": "stream",
          "text": [
            "[I 2020-07-13 12:06:22,842] Finished trial#131 with value: 0.9931335830212235 with parameters: {'combos': 68, 'knn_features': 6, 'knn_Scaler': 'log', 'knn_nn': 8, 'knn_p': 1, 'qda_features': 0, 'qda_Scaler': 'minmax', 'qda_rp': 0.00042943194799688035, 'rf_features': 7, 'rf_Scaler': 'stand', 'rf_max_depth': 80, 'rf_ne': 364, 'rf_cw': 'balanced'}. Best is trial#46 with value: 0.9977111943404079.\n"
          ],
          "name": "stderr"
        },
        {
          "output_type": "stream",
          "text": [
            "('knn', 'gnb', 'rf')\n"
          ],
          "name": "stdout"
        },
        {
          "output_type": "stream",
          "text": [
            "[I 2020-07-13 12:06:23,916] Finished trial#132 with value: 0.9866833125260092 with parameters: {'combos': 63, 'knn_features': 5, 'knn_Scaler': 'log', 'knn_nn': 7, 'knn_p': 1, 'gnb_features': 10, 'gnb_Scaler': 'minmax', 'gnb_vs': 0.935885034841437, 'rf_features': 2, 'rf_Scaler': 'minmax', 'rf_max_depth': 8, 'rf_ne': 129, 'rf_cw': 'balanced'}. Best is trial#46 with value: 0.9977111943404079.\n"
          ],
          "name": "stderr"
        },
        {
          "output_type": "stream",
          "text": [
            "('knn', 'qda', 'xgb')\n"
          ],
          "name": "stdout"
        },
        {
          "output_type": "stream",
          "text": [
            "/usr/local/lib/python3.6/dist-packages/sklearn/discriminant_analysis.py:691: UserWarning:\n",
            "\n",
            "Variables are collinear\n",
            "\n",
            "[I 2020-07-13 12:06:24,590] Finished trial#133 with value: 0.9798168955472326 with parameters: {'combos': 69, 'knn_features': 7, 'knn_Scaler': 'stand', 'knn_nn': 4, 'knn_p': 1, 'qda_features': 2, 'qda_Scaler': 'minmax', 'qda_rp': 7.244178719004147e-10, 'xgb_features': 18, 'xgb_Scaler': 'minmax', 'booster': 'gbtree', 'lambda': 0.05639772794651066, 'alpha': 0.011834739813468973, 'max_depth': 7, 'eta': 3.657797245686788e-05, 'gamma': 0.0019142170825891982, 'grow_policy': 'depthwise'}. Best is trial#46 with value: 0.9977111943404079.\n"
          ],
          "name": "stderr"
        },
        {
          "output_type": "stream",
          "text": [
            "('knn', 'gp', 'rf')\n"
          ],
          "name": "stdout"
        },
        {
          "output_type": "stream",
          "text": [
            "[I 2020-07-13 12:06:27,181] Finished trial#134 with value: 0.9916770703287557 with parameters: {'combos': 57, 'knn_features': 5, 'knn_Scaler': 'log', 'knn_nn': 6, 'knn_p': 1, 'gp_features': 2, 'gp_Scaler': 'log', 'gp_a': 0.1949615219073557, 'gp_kern': 9, 'rf_features': 16, 'rf_Scaler': 'stand', 'rf_max_depth': 56, 'rf_ne': 102, 'rf_cw': 'balanced'}. Best is trial#46 with value: 0.9977111943404079.\n"
          ],
          "name": "stderr"
        },
        {
          "output_type": "stream",
          "text": [
            "('knn', 'svc', 'xgb')\n"
          ],
          "name": "stdout"
        },
        {
          "output_type": "stream",
          "text": [
            "[I 2020-07-13 12:06:27,877] Finished trial#135 with value: 0.9914689970869747 with parameters: {'combos': 51, 'knn_features': 12, 'knn_Scaler': 'stand', 'knn_nn': 4, 'knn_p': 1, 'svc_features': 16, 'svc_Scaler': 'log', 'svc_kern': 'rbf', 'svc_C': 0.05873279458977564, 'svc_deg': 2, 'xgb_features': 8, 'xgb_Scaler': 'minmax', 'booster': 'gbtree', 'lambda': 0.003924298906563973, 'alpha': 0.4662766526258422, 'max_depth': 8, 'eta': 4.9404849006712597e-08, 'gamma': 0.01914572117498063, 'grow_policy': 'depthwise'}. Best is trial#46 with value: 0.9977111943404079.\n"
          ],
          "name": "stderr"
        },
        {
          "output_type": "stream",
          "text": [
            "('knn', 'et', 'rf')\n"
          ],
          "name": "stdout"
        },
        {
          "output_type": "stream",
          "text": [
            "[I 2020-07-13 12:06:29,305] Finished trial#136 with value: 0.9901165210153975 with parameters: {'combos': 75, 'knn_features': 4, 'knn_Scaler': 'stand', 'knn_nn': 2, 'knn_p': 1, 'et_features': 20, 'et_Scaler': 'minmax', 'et_max_depth': 58, 'et_ne': 233, 'rf_features': 14, 'rf_Scaler': 'log', 'rf_max_depth': 61, 'rf_ne': 168, 'rf_cw': 'balanced_subsample'}. Best is trial#46 with value: 0.9977111943404079.\n"
          ],
          "name": "stderr"
        },
        {
          "output_type": "stream",
          "text": [
            "('knn', 'gnb', 'gbm')\n"
          ],
          "name": "stdout"
        },
        {
          "output_type": "stream",
          "text": [
            "[I 2020-07-13 12:06:29,855] Setting status of trial#137 as TrialState.PRUNED. Trial was pruned at iteration 11.\n"
          ],
          "name": "stderr"
        },
        {
          "output_type": "stream",
          "text": [
            "('knn', 'qda', 'gbm')\n"
          ],
          "name": "stdout"
        },
        {
          "output_type": "stream",
          "text": [
            "/usr/local/lib/python3.6/dist-packages/sklearn/discriminant_analysis.py:691: UserWarning:\n",
            "\n",
            "Variables are collinear\n",
            "\n",
            "[I 2020-07-13 12:06:30,515] Setting status of trial#138 as TrialState.PRUNED. Trial was pruned at iteration 11.\n"
          ],
          "name": "stderr"
        },
        {
          "output_type": "stream",
          "text": [
            "('knn', 'rf', 'xgb')\n"
          ],
          "name": "stdout"
        },
        {
          "output_type": "stream",
          "text": [
            "[I 2020-07-13 12:06:31,466] Finished trial#139 with value: 0.9837702871410737 with parameters: {'combos': 78, 'knn_features': 3, 'knn_Scaler': 'log', 'knn_nn': 5, 'knn_p': 1, 'rf_features': 11, 'rf_Scaler': 'minmax', 'rf_max_depth': 85, 'rf_ne': 33, 'rf_cw': 'balanced', 'xgb_features': 11, 'xgb_Scaler': 'minmax', 'booster': 'gbtree', 'lambda': 0.0037831012598713216, 'alpha': 0.1030477922969059, 'max_depth': 1, 'eta': 4.0527763170181086e-07, 'gamma': 0.21139673761010877, 'grow_policy': 'depthwise'}. Best is trial#46 with value: 0.9977111943404079.\n"
          ],
          "name": "stderr"
        },
        {
          "output_type": "stream",
          "text": [
            "('knn', 'gnb', 'qda')\n"
          ],
          "name": "stdout"
        },
        {
          "output_type": "stream",
          "text": [
            "[I 2020-07-13 12:06:32,088] Finished trial#140 with value: 0.9918851435705368 with parameters: {'combos': 60, 'knn_features': 6, 'knn_Scaler': 'log', 'knn_nn': 29, 'knn_p': 1, 'gnb_features': 9, 'gnb_Scaler': 'minmax', 'gnb_vs': 0.0001062044163479389, 'qda_features': 1, 'qda_Scaler': 'minmax', 'qda_rp': 0.0009652928900060544}. Best is trial#46 with value: 0.9977111943404079.\n"
          ],
          "name": "stderr"
        },
        {
          "output_type": "stream",
          "text": [
            "('knn', 'ada', 'rf')\n"
          ],
          "name": "stdout"
        },
        {
          "output_type": "stream",
          "text": [
            "[I 2020-07-13 12:06:34,251] Finished trial#141 with value: 0.9970869746150646 with parameters: {'combos': 72, 'knn_features': 10, 'knn_Scaler': 'stand', 'knn_nn': 2, 'knn_p': 1, 'ada_features': 16, 'ada_Scaler': 'log', 'ada_ne': 267, 'ada_lr': 0.43643462031741515, 'ada_algo': 'SAMME.R', 'rf_features': 16, 'rf_Scaler': 'log', 'rf_max_depth': 31, 'rf_ne': 227, 'rf_cw': 'balanced_subsample'}. Best is trial#46 with value: 0.9977111943404079.\n"
          ],
          "name": "stderr"
        },
        {
          "output_type": "stream",
          "text": [
            "('knn', 'qda', 'ada')\n"
          ],
          "name": "stdout"
        },
        {
          "output_type": "stream",
          "text": [
            "/usr/local/lib/python3.6/dist-packages/sklearn/discriminant_analysis.py:691: UserWarning:\n",
            "\n",
            "Variables are collinear\n",
            "\n",
            "[I 2020-07-13 12:06:35,699] Finished trial#142 with value: 0.9947981689554724 with parameters: {'combos': 66, 'knn_features': 9, 'knn_Scaler': 'stand', 'knn_nn': 6, 'knn_p': 1, 'qda_features': 3, 'qda_Scaler': 'minmax', 'qda_rp': 0.5338888390330627, 'ada_features': 17, 'ada_Scaler': 'log', 'ada_ne': 252, 'ada_lr': 0.4385648857030148, 'ada_algo': 'SAMME.R'}. Best is trial#46 with value: 0.9977111943404079.\n"
          ],
          "name": "stderr"
        },
        {
          "output_type": "stream",
          "text": [
            "('knn', 'ada', 'gbm')\n"
          ],
          "name": "stdout"
        },
        {
          "output_type": "stream",
          "text": [
            "[I 2020-07-13 12:06:37,318] Finished trial#143 with value: 0.9968789013732834 with parameters: {'combos': 74, 'knn_features': 5, 'knn_Scaler': 'stand', 'knn_nn': 4, 'knn_p': 1, 'ada_features': 15, 'ada_Scaler': 'log', 'ada_ne': 287, 'ada_lr': 0.3593523128894677, 'ada_algo': 'SAMME.R', 'gbm_features': 8, 'gbm_Scaler': 'stand', 'lambda_l1': 1.3371541319890574, 'lambda_l2': 1.1769355259122567e-06, 'num_leaves': 32, 'feature_fraction': 0.6885303546770897, 'bagging_fraction': 0.4826941958143799, 'bagging_freq': 1, 'min_child_samples': 11}. Best is trial#46 with value: 0.9977111943404079.\n"
          ],
          "name": "stderr"
        },
        {
          "output_type": "stream",
          "text": [
            "('knn', 'svc', 'gbm')\n"
          ],
          "name": "stdout"
        },
        {
          "output_type": "stream",
          "text": [
            "[I 2020-07-13 12:06:38,154] Finished trial#144 with value: 0.9904286308780691 with parameters: {'combos': 52, 'knn_features': 7, 'knn_Scaler': 'stand', 'knn_nn': 9, 'knn_p': 1, 'svc_features': 6, 'svc_Scaler': 'stand', 'svc_kern': 'sigmoid', 'svc_C': 0.0002839878136988314, 'svc_deg': 5, 'gbm_features': 19, 'gbm_Scaler': 'log', 'lambda_l1': 0.0006866538305322157, 'lambda_l2': 0.004445602789216024, 'num_leaves': 205, 'feature_fraction': 0.9478369832140633, 'bagging_fraction': 0.8124093550910492, 'bagging_freq': 3, 'min_child_samples': 15}. Best is trial#46 with value: 0.9977111943404079.\n"
          ],
          "name": "stderr"
        },
        {
          "output_type": "stream",
          "text": [
            "('knn', 'gnb', 'rf')\n"
          ],
          "name": "stdout"
        },
        {
          "output_type": "stream",
          "text": [
            "[I 2020-07-13 12:06:39,113] Finished trial#145 with value: 0.993965875988348 with parameters: {'combos': 63, 'knn_features': 8, 'knn_Scaler': 'stand', 'knn_nn': 5, 'knn_p': 1, 'gnb_features': 1, 'gnb_Scaler': 'stand', 'gnb_vs': 0.004000834246396728, 'rf_features': 13, 'rf_Scaler': 'log', 'rf_max_depth': 48, 'rf_ne': 76, 'rf_cw': 'balanced_subsample'}. Best is trial#46 with value: 0.9977111943404079.\n"
          ],
          "name": "stderr"
        },
        {
          "output_type": "stream",
          "text": [
            "('knn', 'gp', 'et')\n"
          ],
          "name": "stdout"
        },
        {
          "output_type": "stream",
          "text": [
            "[I 2020-07-13 12:06:41,498] Finished trial#146 with value: 0.9937578027465668 with parameters: {'combos': 56, 'knn_features': 17, 'knn_Scaler': 'stand', 'knn_nn': 3, 'knn_p': 1, 'gp_features': 20, 'gp_Scaler': 'stand', 'gp_a': 0.029287423409483294, 'gp_kern': 2, 'et_features': 2, 'et_Scaler': 'stand', 'et_max_depth': 31, 'et_ne': 482}. Best is trial#46 with value: 0.9977111943404079.\n"
          ],
          "name": "stderr"
        },
        {
          "output_type": "stream",
          "text": [
            "('knn', 'qda', 'xgb')\n"
          ],
          "name": "stdout"
        },
        {
          "output_type": "stream",
          "text": [
            "/usr/local/lib/python3.6/dist-packages/sklearn/discriminant_analysis.py:691: UserWarning:\n",
            "\n",
            "Variables are collinear\n",
            "\n",
            "[I 2020-07-13 12:06:42,166] Finished trial#147 with value: 0.9753433208489388 with parameters: {'combos': 69, 'knn_features': 6, 'knn_Scaler': 'stand', 'knn_nn': 18, 'knn_p': 1, 'qda_features': 6, 'qda_Scaler': 'minmax', 'qda_rp': 6.3964447031495805e-09, 'xgb_features': 5, 'xgb_Scaler': 'minmax', 'booster': 'gbtree', 'lambda': 0.031089519798314435, 'alpha': 0.32214431744013916, 'max_depth': 15, 'eta': 1.1089730434755683e-08, 'gamma': 0.04724716696283079, 'grow_policy': 'depthwise'}. Best is trial#46 with value: 0.9977111943404079.\n"
          ],
          "name": "stderr"
        },
        {
          "output_type": "stream",
          "text": [
            "('svc', 'gnb', 'qda')\n"
          ],
          "name": "stdout"
        },
        {
          "output_type": "stream",
          "text": [
            "[I 2020-07-13 12:06:42,718] Finished trial#148 with value: 0.9900124843945068 with parameters: {'combos': 88, 'svc_features': 4, 'svc_Scaler': 'log', 'svc_kern': 'poly', 'svc_C': 0.00010066951396149261, 'svc_deg': 3, 'gnb_features': 6, 'gnb_Scaler': 'stand', 'gnb_vs': 0.9413457884023112, 'qda_features': 0, 'qda_Scaler': 'minmax', 'qda_rp': 0.07009728662224626}. Best is trial#46 with value: 0.9977111943404079.\n"
          ],
          "name": "stderr"
        },
        {
          "output_type": "stream",
          "text": [
            "('svc', 'qda', 'xgb')\n"
          ],
          "name": "stdout"
        },
        {
          "output_type": "stream",
          "text": [
            "/usr/local/lib/python3.6/dist-packages/sklearn/discriminant_analysis.py:691: UserWarning:\n",
            "\n",
            "Variables are collinear\n",
            "\n",
            "[I 2020-07-13 12:06:43,355] Finished trial#149 with value: 0.9906367041198502 with parameters: {'combos': 97, 'svc_features': 12, 'svc_Scaler': 'stand', 'svc_kern': 'sigmoid', 'svc_C': 0.0008649586479771501, 'svc_deg': 9, 'qda_features': 12, 'qda_Scaler': 'stand', 'qda_rp': 1.3489497142333968e-06, 'xgb_features': 9, 'xgb_Scaler': 'minmax', 'booster': 'gbtree', 'lambda': 0.007240350953692895, 'alpha': 0.0014829540518891727, 'max_depth': 24, 'eta': 2.8238086702434016e-08, 'gamma': 0.5486664048826515, 'grow_policy': 'depthwise'}. Best is trial#46 with value: 0.9977111943404079.\n"
          ],
          "name": "stderr"
        },
        {
          "output_type": "stream",
          "text": [
            "('knn', 'et', 'gbm')\n"
          ],
          "name": "stdout"
        },
        {
          "output_type": "stream",
          "text": [
            "[I 2020-07-13 12:06:44,371] Setting status of trial#150 as TrialState.PRUNED. Trial was pruned at iteration 11.\n"
          ],
          "name": "stderr"
        },
        {
          "output_type": "stream",
          "text": [
            "('knn', 'gnb', 'gbm')\n"
          ],
          "name": "stdout"
        },
        {
          "output_type": "stream",
          "text": [
            "[I 2020-07-13 12:06:45,265] Finished trial#151 with value: 0.994173949230129 with parameters: {'combos': 65, 'knn_features': 4, 'knn_Scaler': 'minmax', 'knn_nn': 2, 'knn_p': 1, 'gnb_features': 11, 'gnb_Scaler': 'stand', 'gnb_vs': 1.6578226711648064e-05, 'gbm_features': 13, 'gbm_Scaler': 'stand', 'lambda_l1': 4.066020897329518e-06, 'lambda_l2': 2.523538470147006e-05, 'num_leaves': 178, 'feature_fraction': 0.6341288076311966, 'bagging_fraction': 0.8916450654846346, 'bagging_freq': 6, 'min_child_samples': 8}. Best is trial#46 with value: 0.9977111943404079.\n"
          ],
          "name": "stderr"
        },
        {
          "output_type": "stream",
          "text": [
            "('svc', 'gp', 'ada')\n"
          ],
          "name": "stdout"
        },
        {
          "output_type": "stream",
          "text": [
            "[I 2020-07-13 12:06:48,619] Finished trial#152 with value: 0.994173949230129 with parameters: {'combos': 83, 'svc_features': 3, 'svc_Scaler': 'log', 'svc_kern': 'rbf', 'svc_C': 0.07375365700397006, 'svc_deg': 10, 'gp_features': 5, 'gp_Scaler': 'minmax', 'gp_a': 0.09394797385268328, 'gp_kern': 8, 'ada_features': 13, 'ada_Scaler': 'log', 'ada_ne': 223, 'ada_lr': 0.5303254507512772, 'ada_algo': 'SAMME.R'}. Best is trial#46 with value: 0.9977111943404079.\n"
          ],
          "name": "stderr"
        },
        {
          "output_type": "stream",
          "text": [
            "('knn', 'ada', 'xgb')\n"
          ],
          "name": "stdout"
        },
        {
          "output_type": "stream",
          "text": [
            "[I 2020-07-13 12:06:50,143] Finished trial#153 with value: 0.9983354140657512 with parameters: {'combos': 73, 'knn_features': 10, 'knn_Scaler': 'stand', 'knn_nn': 2, 'knn_p': 1, 'ada_features': 16, 'ada_Scaler': 'log', 'ada_ne': 273, 'ada_lr': 0.4368277676772493, 'ada_algo': 'SAMME.R', 'xgb_features': 7, 'xgb_Scaler': 'minmax', 'booster': 'gbtree', 'lambda': 0.001309549658198993, 'alpha': 0.8675978683376936, 'max_depth': 5, 'eta': 1.9095139520394357e-07, 'gamma': 0.0005164911815396374, 'grow_policy': 'depthwise'}. Best is trial#153 with value: 0.9983354140657512.\n"
          ],
          "name": "stderr"
        },
        {
          "output_type": "stream",
          "text": [
            "('knn', 'ada', 'xgb')\n"
          ],
          "name": "stdout"
        },
        {
          "output_type": "stream",
          "text": [
            "[I 2020-07-13 12:06:51,709] Finished trial#154 with value: 0.9975031210986267 with parameters: {'combos': 73, 'knn_features': 10, 'knn_Scaler': 'stand', 'knn_nn': 3, 'knn_p': 1, 'ada_features': 17, 'ada_Scaler': 'log', 'ada_ne': 276, 'ada_lr': 0.4328488137557357, 'ada_algo': 'SAMME.R', 'xgb_features': 7, 'xgb_Scaler': 'minmax', 'booster': 'gbtree', 'lambda': 0.0011954224068086096, 'alpha': 0.7291916193595849, 'max_depth': 7, 'eta': 1.4441432719651668e-07, 'gamma': 0.00032497569793637436, 'grow_policy': 'depthwise'}. Best is trial#153 with value: 0.9983354140657512.\n"
          ],
          "name": "stderr"
        },
        {
          "output_type": "stream",
          "text": [
            "('knn', 'xgb', 'gbm')\n"
          ],
          "name": "stdout"
        },
        {
          "output_type": "stream",
          "text": [
            "[I 2020-07-13 12:06:52,285] Setting status of trial#155 as TrialState.PRUNED. Trial was pruned at iteration 11.\n"
          ],
          "name": "stderr"
        },
        {
          "output_type": "stream",
          "text": [
            "('knn', 'et', 'rf')\n"
          ],
          "name": "stdout"
        },
        {
          "output_type": "stream",
          "text": [
            "[I 2020-07-13 12:06:54,331] Finished trial#156 with value: 0.9954223886808157 with parameters: {'combos': 75, 'knn_features': 10, 'knn_Scaler': 'stand', 'knn_nn': 4, 'knn_p': 1, 'et_features': 8, 'et_Scaler': 'stand', 'et_max_depth': 16, 'et_ne': 376, 'rf_features': 20, 'rf_Scaler': 'log', 'rf_max_depth': 22, 'rf_ne': 323, 'rf_cw': 'balanced_subsample'}. Best is trial#153 with value: 0.9983354140657512.\n"
          ],
          "name": "stderr"
        },
        {
          "output_type": "stream",
          "text": [
            "('knn', 'gnb', 'qda')\n"
          ],
          "name": "stdout"
        },
        {
          "output_type": "stream",
          "text": [
            "/usr/local/lib/python3.6/dist-packages/sklearn/discriminant_analysis.py:691: UserWarning:\n",
            "\n",
            "Variables are collinear\n",
            "\n",
            "[I 2020-07-13 12:06:54,995] Finished trial#157 with value: 0.9923012900540991 with parameters: {'combos': 60, 'knn_features': 9, 'knn_Scaler': 'stand', 'knn_nn': 3, 'knn_p': 1, 'gnb_features': 7, 'gnb_Scaler': 'log', 'gnb_vs': 0.07777323220944421, 'qda_features': 2, 'qda_Scaler': 'minmax', 'qda_rp': 1.5661742756618698e-10}. Best is trial#153 with value: 0.9983354140657512.\n"
          ],
          "name": "stderr"
        },
        {
          "output_type": "stream",
          "text": [
            "('knn', 'qda', 'gbm')\n"
          ],
          "name": "stdout"
        },
        {
          "output_type": "stream",
          "text": [
            "/usr/local/lib/python3.6/dist-packages/sklearn/discriminant_analysis.py:691: UserWarning:\n",
            "\n",
            "Variables are collinear\n",
            "\n",
            "[I 2020-07-13 12:06:55,563] Setting status of trial#158 as TrialState.PRUNED. Trial was pruned at iteration 11.\n"
          ],
          "name": "stderr"
        },
        {
          "output_type": "stream",
          "text": [
            "('svc', 'gnb', 'xgb')\n"
          ],
          "name": "stdout"
        },
        {
          "output_type": "stream",
          "text": [
            "[I 2020-07-13 12:06:56,285] Finished trial#159 with value: 0.9876196421140242 with parameters: {'combos': 92, 'svc_features': 9, 'svc_Scaler': 'log', 'svc_kern': 'sigmoid', 'svc_C': 0.007230652100436225, 'svc_deg': 6, 'gnb_features': 9, 'gnb_Scaler': 'minmax', 'gnb_vs': 0.00041514457451389847, 'xgb_features': 7, 'xgb_Scaler': 'minmax', 'booster': 'gbtree', 'lambda': 5.990545630331664e-05, 'alpha': 0.999038576262537, 'max_depth': 12, 'eta': 8.079042458259131e-07, 'gamma': 0.005023894119987556, 'grow_policy': 'depthwise'}. Best is trial#153 with value: 0.9983354140657512.\n"
          ],
          "name": "stderr"
        },
        {
          "output_type": "stream",
          "text": [
            "('knn', 'ada', 'rf')\n"
          ],
          "name": "stdout"
        },
        {
          "output_type": "stream",
          "text": [
            "[I 2020-07-13 12:06:58,599] Finished trial#160 with value: 0.9962546816479401 with parameters: {'combos': 72, 'knn_features': 15, 'knn_Scaler': 'stand', 'knn_nn': 2, 'knn_p': 1, 'ada_features': 17, 'ada_Scaler': 'log', 'ada_ne': 274, 'ada_lr': 0.4193642251725762, 'ada_algo': 'SAMME.R', 'rf_features': 12, 'rf_Scaler': 'log', 'rf_max_depth': 72, 'rf_ne': 277, 'rf_cw': 'balanced_subsample'}. Best is trial#153 with value: 0.9983354140657512.\n"
          ],
          "name": "stderr"
        },
        {
          "output_type": "stream",
          "text": [
            "('knn', 'qda', 'et')\n"
          ],
          "name": "stdout"
        },
        {
          "output_type": "stream",
          "text": [
            "/usr/local/lib/python3.6/dist-packages/sklearn/discriminant_analysis.py:691: UserWarning:\n",
            "\n",
            "Variables are collinear\n",
            "\n",
            "[I 2020-07-13 12:06:59,696] Finished trial#161 with value: 0.9955264253017062 with parameters: {'combos': 67, 'knn_features': 10, 'knn_Scaler': 'stand', 'knn_nn': 6, 'knn_p': 1, 'qda_features': 7, 'qda_Scaler': 'stand', 'qda_rp': 4.94056070558267e-12, 'et_features': 7, 'et_Scaler': 'stand', 'et_max_depth': 45, 'et_ne': 431}. Best is trial#153 with value: 0.9983354140657512.\n"
          ],
          "name": "stderr"
        },
        {
          "output_type": "stream",
          "text": [
            "('knn', 'gnb', 'rf')\n"
          ],
          "name": "stdout"
        },
        {
          "output_type": "stream",
          "text": [
            "[I 2020-07-13 12:07:00,761] Finished trial#162 with value: 0.9906367041198502 with parameters: {'combos': 63, 'knn_features': 5, 'knn_Scaler': 'stand', 'knn_nn': 7, 'knn_p': 1, 'gnb_features': 4, 'gnb_Scaler': 'stand', 'gnb_vs': 0.008203818617525886, 'rf_features': 18, 'rf_Scaler': 'minmax', 'rf_max_depth': 97, 'rf_ne': 104, 'rf_cw': 'balanced_subsample'}. Best is trial#153 with value: 0.9983354140657512.\n"
          ],
          "name": "stderr"
        },
        {
          "output_type": "stream",
          "text": [
            "('knn', 'gp', 'xgb')\n"
          ],
          "name": "stdout"
        },
        {
          "output_type": "stream",
          "text": [
            "[I 2020-07-13 12:07:03,521] Finished trial#163 with value: 0.994173949230129 with parameters: {'combos': 58, 'knn_features': 8, 'knn_Scaler': 'log', 'knn_nn': 5, 'knn_p': 1, 'gp_features': 15, 'gp_Scaler': 'log', 'gp_a': 0.015775067169052068, 'gp_kern': 5, 'xgb_features': 10, 'xgb_Scaler': 'minmax', 'booster': 'gbtree', 'lambda': 0.0013665885208009934, 'alpha': 0.11797093041755806, 'max_depth': 1, 'eta': 1.3668959798020652e-07, 'gamma': 0.00013800261971141705, 'grow_policy': 'depthwise'}. Best is trial#153 with value: 0.9983354140657512.\n"
          ],
          "name": "stderr"
        },
        {
          "output_type": "stream",
          "text": [
            "('knn', 'ada', 'gbm')\n"
          ],
          "name": "stdout"
        },
        {
          "output_type": "stream",
          "text": [
            "[I 2020-07-13 12:07:04,899] Setting status of trial#164 as TrialState.PRUNED. Trial was pruned at iteration 11.\n"
          ],
          "name": "stderr"
        },
        {
          "output_type": "stream",
          "text": [
            "('knn', 'qda', 'et')\n"
          ],
          "name": "stdout"
        },
        {
          "output_type": "stream",
          "text": [
            "/usr/local/lib/python3.6/dist-packages/sklearn/discriminant_analysis.py:691: UserWarning:\n",
            "\n",
            "Variables are collinear\n",
            "\n",
            "[I 2020-07-13 12:07:05,932] Finished trial#165 with value: 0.9962546816479401 with parameters: {'combos': 67, 'knn_features': 5, 'knn_Scaler': 'log', 'knn_nn': 3, 'knn_p': 1, 'qda_features': 14, 'qda_Scaler': 'minmax', 'qda_rp': 1.9065120114668423e-05, 'et_features': 10, 'et_Scaler': 'stand', 'et_max_depth': 53, 'et_ne': 282}. Best is trial#153 with value: 0.9983354140657512.\n"
          ],
          "name": "stderr"
        },
        {
          "output_type": "stream",
          "text": [
            "('knn', 'et', 'gbm')\n"
          ],
          "name": "stdout"
        },
        {
          "output_type": "stream",
          "text": [
            "[I 2020-07-13 12:07:07,054] Finished trial#166 with value: 0.994173949230129 with parameters: {'combos': 77, 'knn_features': 7, 'knn_Scaler': 'stand', 'knn_nn': 2, 'knn_p': 1, 'et_features': 11, 'et_Scaler': 'stand', 'et_max_depth': 22, 'et_ne': 359, 'gbm_features': 10, 'gbm_Scaler': 'stand', 'lambda_l1': 0.0002611856654886503, 'lambda_l2': 0.018489435396594804, 'num_leaves': 151, 'feature_fraction': 0.5334998046088506, 'bagging_fraction': 0.6984997749859565, 'bagging_freq': 3, 'min_child_samples': 14}. Best is trial#153 with value: 0.9983354140657512.\n"
          ],
          "name": "stderr"
        },
        {
          "output_type": "stream",
          "text": [
            "('knn', 'gnb', 'ada')\n"
          ],
          "name": "stdout"
        },
        {
          "output_type": "stream",
          "text": [
            "[I 2020-07-13 12:07:08,584] Finished trial#167 with value: 0.9966708281315023 with parameters: {'combos': 61, 'knn_features': 9, 'knn_Scaler': 'stand', 'knn_nn': 5, 'knn_p': 1, 'gnb_features': 6, 'gnb_Scaler': 'stand', 'gnb_vs': 7.645068216409743e-07, 'ada_features': 16, 'ada_Scaler': 'log', 'ada_ne': 283, 'ada_lr': 0.37360130961844806, 'ada_algo': 'SAMME.R'}. Best is trial#153 with value: 0.9983354140657512.\n"
          ],
          "name": "stderr"
        },
        {
          "output_type": "stream",
          "text": [
            "('knn', 'ada', 'et')\n"
          ],
          "name": "stdout"
        },
        {
          "output_type": "stream",
          "text": [
            "[I 2020-07-13 12:07:11,127] Finished trial#168 with value: 0.9966708281315023 with parameters: {'combos': 71, 'knn_features': 4, 'knn_Scaler': 'log', 'knn_nn': 4, 'knn_p': 1, 'ada_features': 17, 'ada_Scaler': 'log', 'ada_ne': 419, 'ada_lr': 0.4961181933555595, 'ada_algo': 'SAMME.R', 'et_features': 1, 'et_Scaler': 'stand', 'et_max_depth': 76, 'et_ne': 500}. Best is trial#153 with value: 0.9983354140657512.\n"
          ],
          "name": "stderr"
        },
        {
          "output_type": "stream",
          "text": [
            "('svc', 'gp', 'ada')\n"
          ],
          "name": "stdout"
        },
        {
          "output_type": "stream",
          "text": [
            "[I 2020-07-13 12:07:14,177] Finished trial#169 with value: 0.9937578027465668 with parameters: {'combos': 83, 'svc_features': 13, 'svc_Scaler': 'stand', 'svc_kern': 'poly', 'svc_C': 0.8371285154715631, 'svc_deg': 2, 'gp_features': 11, 'gp_Scaler': 'stand', 'gp_a': 3.7810940659998438, 'gp_kern': 7, 'ada_features': 16, 'ada_Scaler': 'log', 'ada_ne': 231, 'ada_lr': 0.5822880968169506, 'ada_algo': 'SAMME.R'}. Best is trial#153 with value: 0.9983354140657512.\n"
          ],
          "name": "stderr"
        },
        {
          "output_type": "stream",
          "text": [
            "('knn', 'gp', 'qda')\n"
          ],
          "name": "stdout"
        },
        {
          "output_type": "stream",
          "text": [
            "[I 2020-07-13 12:07:16,408] Finished trial#170 with value: 0.9931335830212235 with parameters: {'combos': 54, 'knn_features': 8, 'knn_Scaler': 'stand', 'knn_nn': 12, 'knn_p': 1, 'gp_features': 0, 'gp_Scaler': 'stand', 'gp_a': 0.5807612527156083, 'gp_kern': 1, 'qda_features': 1, 'qda_Scaler': 'stand', 'qda_rp': 0.038981770980468684}. Best is trial#153 with value: 0.9983354140657512.\n"
          ],
          "name": "stderr"
        },
        {
          "output_type": "stream",
          "text": [
            "('knn', 'rf', 'gbm')\n"
          ],
          "name": "stdout"
        },
        {
          "output_type": "stream",
          "text": [
            "[I 2020-07-13 12:07:17,531] Setting status of trial#171 as TrialState.PRUNED. Trial was pruned at iteration 11.\n"
          ],
          "name": "stderr"
        },
        {
          "output_type": "stream",
          "text": [
            "('knn', 'ada', 'rf')\n"
          ],
          "name": "stdout"
        },
        {
          "output_type": "stream",
          "text": [
            "[I 2020-07-13 12:07:19,796] Finished trial#172 with value: 0.9970869746150646 with parameters: {'combos': 72, 'knn_features': 10, 'knn_Scaler': 'stand', 'knn_nn': 2, 'knn_p': 1, 'ada_features': 15, 'ada_Scaler': 'log', 'ada_ne': 267, 'ada_lr': 0.43528403898625195, 'ada_algo': 'SAMME.R', 'rf_features': 17, 'rf_Scaler': 'log', 'rf_max_depth': 31, 'rf_ne': 220, 'rf_cw': 'balanced_subsample'}. Best is trial#153 with value: 0.9983354140657512.\n"
          ],
          "name": "stderr"
        },
        {
          "output_type": "stream",
          "text": [
            "('knn', 'qda', 'ada')\n"
          ],
          "name": "stdout"
        },
        {
          "output_type": "stream",
          "text": [
            "[I 2020-07-13 12:07:21,422] Finished trial#173 with value: 0.9966708281315023 with parameters: {'combos': 66, 'knn_features': 6, 'knn_Scaler': 'log', 'knn_nn': 8, 'knn_p': 1, 'qda_features': 1, 'qda_Scaler': 'minmax', 'qda_rp': 0.002024087814221545, 'ada_features': 19, 'ada_Scaler': 'log', 'ada_ne': 299, 'ada_lr': 0.36267356590260236, 'ada_algo': 'SAMME.R'}. Best is trial#153 with value: 0.9983354140657512.\n"
          ],
          "name": "stderr"
        },
        {
          "output_type": "stream",
          "text": [
            "('knn', 'qda', 'rf')\n"
          ],
          "name": "stdout"
        },
        {
          "output_type": "stream",
          "text": [
            "/usr/local/lib/python3.6/dist-packages/sklearn/discriminant_analysis.py:691: UserWarning:\n",
            "\n",
            "Variables are collinear\n",
            "\n",
            "[I 2020-07-13 12:07:22,519] Finished trial#174 with value: 0.9870994590095714 with parameters: {'combos': 68, 'knn_features': 5, 'knn_Scaler': 'minmax', 'knn_nn': 1, 'knn_p': 1, 'qda_features': 11, 'qda_Scaler': 'log', 'qda_rp': 3.132683536452377e-07, 'rf_features': 9, 'rf_Scaler': 'minmax', 'rf_max_depth': 12, 'rf_ne': 138, 'rf_cw': 'balanced_subsample'}. Best is trial#153 with value: 0.9983354140657512.\n"
          ],
          "name": "stderr"
        },
        {
          "output_type": "stream",
          "text": [
            "('knn', 'gnb', 'rf')\n"
          ],
          "name": "stdout"
        },
        {
          "output_type": "stream",
          "text": [
            "[I 2020-07-13 12:07:24,066] Finished trial#175 with value: 0.9914689970869746 with parameters: {'combos': 63, 'knn_features': 13, 'knn_Scaler': 'minmax', 'knn_nn': 10, 'knn_p': 1, 'gnb_features': 7, 'gnb_Scaler': 'stand', 'gnb_vs': 3.6201468773867764e-20, 'rf_features': 7, 'rf_Scaler': 'stand', 'rf_max_depth': 1, 'rf_ne': 334, 'rf_cw': 'balanced_subsample'}. Best is trial#153 with value: 0.9983354140657512.\n"
          ],
          "name": "stderr"
        },
        {
          "output_type": "stream",
          "text": [
            "('knn', 'ada', 'xgb')\n"
          ],
          "name": "stdout"
        },
        {
          "output_type": "stream",
          "text": [
            "[I 2020-07-13 12:07:25,598] Finished trial#176 with value: 0.9962546816479402 with parameters: {'combos': 73, 'knn_features': 11, 'knn_Scaler': 'stand', 'knn_nn': 9, 'knn_p': 1, 'ada_features': 16, 'ada_Scaler': 'log', 'ada_ne': 262, 'ada_lr': 0.23739740280723937, 'ada_algo': 'SAMME.R', 'xgb_features': 8, 'xgb_Scaler': 'minmax', 'booster': 'gbtree', 'lambda': 0.0072400556630759704, 'alpha': 0.047898982322602195, 'max_depth': 7, 'eta': 3.507595701564037e-08, 'gamma': 0.01783511487174006, 'grow_policy': 'depthwise'}. Best is trial#153 with value: 0.9983354140657512.\n"
          ],
          "name": "stderr"
        },
        {
          "output_type": "stream",
          "text": [
            "('knn', 'svc', 'et')\n"
          ],
          "name": "stdout"
        },
        {
          "output_type": "stream",
          "text": [
            "[I 2020-07-13 12:07:26,608] Finished trial#177 with value: 0.994173949230129 with parameters: {'combos': 49, 'knn_features': 9, 'knn_Scaler': 'stand', 'knn_nn': 21, 'knn_p': 1, 'svc_features': 0, 'svc_Scaler': 'log', 'svc_kern': 'sigmoid', 'svc_C': 3.347623495577629e-05, 'svc_deg': 5, 'et_features': 4, 'et_Scaler': 'stand', 'et_max_depth': 5, 'et_ne': 313}. Best is trial#153 with value: 0.9983354140657512.\n"
          ],
          "name": "stderr"
        },
        {
          "output_type": "stream",
          "text": [
            "('knn', 'qda', 'gbm')\n"
          ],
          "name": "stdout"
        },
        {
          "output_type": "stream",
          "text": [
            "/usr/local/lib/python3.6/dist-packages/sklearn/discriminant_analysis.py:691: UserWarning:\n",
            "\n",
            "Variables are collinear\n",
            "\n",
            "[I 2020-07-13 12:07:27,171] Setting status of trial#178 as TrialState.PRUNED. Trial was pruned at iteration 11.\n"
          ],
          "name": "stderr"
        },
        {
          "output_type": "stream",
          "text": [
            "('knn', 'gp', 'gbm')\n"
          ],
          "name": "stdout"
        },
        {
          "output_type": "stream",
          "text": [
            "[I 2020-07-13 12:07:30,269] Setting status of trial#179 as TrialState.PRUNED. Trial was pruned at iteration 11.\n"
          ],
          "name": "stderr"
        },
        {
          "output_type": "stream",
          "text": [
            "('knn', 'et', 'rf')\n"
          ],
          "name": "stdout"
        },
        {
          "output_type": "stream",
          "text": [
            "[I 2020-07-13 12:07:32,484] Finished trial#180 with value: 0.9893882646691635 with parameters: {'combos': 75, 'knn_features': 4, 'knn_Scaler': 'log', 'knn_nn': 8, 'knn_p': 1, 'et_features': 9, 'et_Scaler': 'minmax', 'et_max_depth': 36, 'et_ne': 394, 'rf_features': 11, 'rf_Scaler': 'log', 'rf_max_depth': 22, 'rf_ne': 417, 'rf_cw': 'balanced'}. Best is trial#153 with value: 0.9983354140657512.\n"
          ],
          "name": "stderr"
        },
        {
          "output_type": "stream",
          "text": [
            "('knn', 'gnb', 'xgb')\n"
          ],
          "name": "stdout"
        },
        {
          "output_type": "stream",
          "text": [
            "[I 2020-07-13 12:07:33,140] Finished trial#181 with value: 0.9865792759051186 with parameters: {'combos': 64, 'knn_features': 10, 'knn_Scaler': 'stand', 'knn_nn': 1, 'knn_p': 1, 'gnb_features': 12, 'gnb_Scaler': 'stand', 'gnb_vs': 0.15084703598351218, 'xgb_features': 6, 'xgb_Scaler': 'minmax', 'booster': 'gbtree', 'lambda': 0.3666248161132524, 'alpha': 0.15539096893821255, 'max_depth': 18, 'eta': 2.0295458390637445e-06, 'gamma': 0.0010721642987122375, 'grow_policy': 'depthwise'}. Best is trial#153 with value: 0.9983354140657512.\n"
          ],
          "name": "stderr"
        },
        {
          "output_type": "stream",
          "text": [
            "('knn', 'rf', 'gbm')\n"
          ],
          "name": "stdout"
        },
        {
          "output_type": "stream",
          "text": [
            "[I 2020-07-13 12:07:34,647] Finished trial#182 with value: 0.9904286308780691 with parameters: {'combos': 79, 'knn_features': 7, 'knn_Scaler': 'stand', 'knn_nn': 4, 'knn_p': 1, 'rf_features': 15, 'rf_Scaler': 'log', 'rf_max_depth': 30, 'rf_ne': 244, 'rf_cw': 'balanced_subsample', 'gbm_features': 12, 'gbm_Scaler': 'stand', 'lambda_l1': 6.283016729669829e-08, 'lambda_l2': 4.513376171305314, 'num_leaves': 178, 'feature_fraction': 0.6580921987024803, 'bagging_fraction': 0.48205348215527455, 'bagging_freq': 3, 'min_child_samples': 17}. Best is trial#153 with value: 0.9983354140657512.\n"
          ],
          "name": "stderr"
        },
        {
          "output_type": "stream",
          "text": [
            "('gnb', 'et', 'xgb')\n"
          ],
          "name": "stdout"
        },
        {
          "output_type": "stream",
          "text": [
            "[I 2020-07-13 12:07:35,343] Finished trial#183 with value: 0.996046608406159 with parameters: {'combos': 140, 'gnb_features': 12, 'gnb_Scaler': 'stand', 'gnb_vs': 2.311600263907309e-16, 'et_features': 12, 'et_Scaler': 'log', 'et_max_depth': 64, 'et_ne': 135, 'xgb_features': 2, 'xgb_Scaler': 'minmax', 'booster': 'gbtree', 'lambda': 0.0006104975306987569, 'alpha': 6.883403038229927e-05, 'max_depth': 5, 'eta': 1.0561112052271765e-08, 'gamma': 3.292844024194121e-05, 'grow_policy': 'depthwise'}. Best is trial#153 with value: 0.9983354140657512.\n"
          ],
          "name": "stderr"
        },
        {
          "output_type": "stream",
          "text": [
            "('knn', 'qda', 'gbm')\n"
          ],
          "name": "stdout"
        },
        {
          "output_type": "stream",
          "text": [
            "/usr/local/lib/python3.6/dist-packages/sklearn/discriminant_analysis.py:691: UserWarning:\n",
            "\n",
            "Variables are collinear\n",
            "\n",
            "[I 2020-07-13 12:07:35,905] Setting status of trial#184 as TrialState.PRUNED. Trial was pruned at iteration 11.\n"
          ],
          "name": "stderr"
        },
        {
          "output_type": "stream",
          "text": [
            "('knn', 'qda', 'ada')\n"
          ],
          "name": "stdout"
        },
        {
          "output_type": "stream",
          "text": [
            "[I 2020-07-13 12:07:37,586] Finished trial#185 with value: 0.9954223886808157 with parameters: {'combos': 66, 'knn_features': 6, 'knn_Scaler': 'log', 'knn_nn': 2, 'knn_p': 1, 'qda_features': 0, 'qda_Scaler': 'minmax', 'qda_rp': 7.919242372346134e-06, 'ada_features': 14, 'ada_Scaler': 'log', 'ada_ne': 301, 'ada_lr': 0.44266739499796237, 'ada_algo': 'SAMME.R'}. Best is trial#153 with value: 0.9983354140657512.\n"
          ],
          "name": "stderr"
        },
        {
          "output_type": "stream",
          "text": [
            "('svc', 'gp', 'rf')\n"
          ],
          "name": "stdout"
        },
        {
          "output_type": "stream",
          "text": [
            "[I 2020-07-13 12:07:40,670] Finished trial#186 with value: 0.9918851435705368 with parameters: {'combos': 85, 'svc_features': 17, 'svc_Scaler': 'log', 'svc_kern': 'rbf', 'svc_C': 0.02555734224546917, 'svc_deg': 7, 'gp_features': 6, 'gp_Scaler': 'log', 'gp_a': 0.004335318609680165, 'gp_kern': 6, 'rf_features': 13, 'rf_Scaler': 'log', 'rf_max_depth': 37, 'rf_ne': 180, 'rf_cw': 'balanced_subsample'}. Best is trial#153 with value: 0.9983354140657512.\n"
          ],
          "name": "stderr"
        },
        {
          "output_type": "stream",
          "text": [
            "('knn', 'gp', 'et')\n"
          ],
          "name": "stdout"
        },
        {
          "output_type": "stream",
          "text": [
            "[I 2020-07-13 12:07:43,259] Finished trial#187 with value: 0.9925093632958801 with parameters: {'combos': 56, 'knn_features': 3, 'knn_Scaler': 'stand', 'knn_nn': 1, 'knn_p': 1, 'gp_features': 4, 'gp_Scaler': 'stand', 'gp_a': 0.00695138593584379, 'gp_kern': 4, 'et_features': 15, 'et_Scaler': 'log', 'et_max_depth': 54, 'et_ne': 26}. Best is trial#153 with value: 0.9983354140657512.\n"
          ],
          "name": "stderr"
        },
        {
          "output_type": "stream",
          "text": [
            "('knn', 'qda', 'rf')\n"
          ],
          "name": "stdout"
        },
        {
          "output_type": "stream",
          "text": [
            "[I 2020-07-13 12:07:44,573] Finished trial#188 with value: 0.9968789013732834 with parameters: {'combos': 68, 'knn_features': 6, 'knn_Scaler': 'log', 'knn_nn': 8, 'knn_p': 1, 'qda_features': 1, 'qda_Scaler': 'minmax', 'qda_rp': 7.278541318966903e-09, 'rf_features': 19, 'rf_Scaler': 'log', 'rf_max_depth': 32, 'rf_ne': 224, 'rf_cw': 'balanced_subsample'}. Best is trial#153 with value: 0.9983354140657512.\n"
          ],
          "name": "stderr"
        },
        {
          "output_type": "stream",
          "text": [
            "('knn', 'gnb', 'ada')\n"
          ],
          "name": "stdout"
        },
        {
          "output_type": "stream",
          "text": [
            "[I 2020-07-13 12:07:45,927] Finished trial#189 with value: 0.9935497295047857 with parameters: {'combos': 61, 'knn_features': 12, 'knn_Scaler': 'minmax', 'knn_nn': 9, 'knn_p': 1, 'gnb_features': 14, 'gnb_Scaler': 'stand', 'gnb_vs': 7.83326352329007e-09, 'ada_features': 18, 'ada_Scaler': 'log', 'ada_ne': 222, 'ada_lr': 0.29669559482329166, 'ada_algo': 'SAMME.R'}. Best is trial#153 with value: 0.9983354140657512.\n"
          ],
          "name": "stderr"
        },
        {
          "output_type": "stream",
          "text": [
            "('knn', 'ada', 'rf')\n"
          ],
          "name": "stdout"
        },
        {
          "output_type": "stream",
          "text": [
            "[I 2020-07-13 12:07:48,349] Finished trial#190 with value: 0.9966708281315023 with parameters: {'combos': 72, 'knn_features': 11, 'knn_Scaler': 'stand', 'knn_nn': 2, 'knn_p': 1, 'ada_features': 14, 'ada_Scaler': 'log', 'ada_ne': 275, 'ada_lr': 0.4029969201081997, 'ada_algo': 'SAMME.R', 'rf_features': 17, 'rf_Scaler': 'log', 'rf_max_depth': 50, 'rf_ne': 304, 'rf_cw': 'balanced_subsample'}. Best is trial#153 with value: 0.9983354140657512.\n"
          ],
          "name": "stderr"
        },
        {
          "output_type": "stream",
          "text": [
            "('knn', 'ada', 'gbm')\n"
          ],
          "name": "stdout"
        },
        {
          "output_type": "stream",
          "text": [
            "[I 2020-07-13 12:07:49,891] Finished trial#191 with value: 0.9972950478568456 with parameters: {'combos': 74, 'knn_features': 5, 'knn_Scaler': 'log', 'knn_nn': 7, 'knn_p': 1, 'ada_features': 17, 'ada_Scaler': 'log', 'ada_ne': 248, 'ada_lr': 0.4983270923856845, 'ada_algo': 'SAMME.R', 'gbm_features': 18, 'gbm_Scaler': 'log', 'lambda_l1': 0.01781329685993327, 'lambda_l2': 0.04428416625497154, 'num_leaves': 59, 'feature_fraction': 0.8181461765688749, 'bagging_fraction': 0.4110443559338451, 'bagging_freq': 5, 'min_child_samples': 5}. Best is trial#153 with value: 0.9983354140657512.\n"
          ],
          "name": "stderr"
        },
        {
          "output_type": "stream",
          "text": [
            "('knn', 'et', 'xgb')\n"
          ],
          "name": "stdout"
        },
        {
          "output_type": "stream",
          "text": [
            "[I 2020-07-13 12:07:50,970] Finished trial#192 with value: 0.9927174365376613 with parameters: {'combos': 76, 'knn_features': 5, 'knn_Scaler': 'log', 'knn_nn': 6, 'knn_p': 1, 'et_features': 6, 'et_Scaler': 'stand', 'et_max_depth': 1, 'et_ne': 466, 'xgb_features': 12, 'xgb_Scaler': 'minmax', 'booster': 'gblinear', 'lambda': 0.002863207237498461, 'alpha': 0.9652331214377791}. Best is trial#153 with value: 0.9983354140657512.\n"
          ],
          "name": "stderr"
        },
        {
          "output_type": "stream",
          "text": [
            "('knn', 'gnb', 'xgb')\n"
          ],
          "name": "stdout"
        },
        {
          "output_type": "stream",
          "text": [
            "[I 2020-07-13 12:07:51,622] Finished trial#193 with value: 0.9865792759051186 with parameters: {'combos': 64, 'knn_features': 4, 'knn_Scaler': 'log', 'knn_nn': 5, 'knn_p': 1, 'gnb_features': 10, 'gnb_Scaler': 'stand', 'gnb_vs': 3.713842277293428e-10, 'xgb_features': 5, 'xgb_Scaler': 'minmax', 'booster': 'gbtree', 'lambda': 0.0002620455022545606, 'alpha': 0.3499055869371136, 'max_depth': 29, 'eta': 1.3513987895332202e-05, 'gamma': 8.01808333782959e-06, 'grow_policy': 'depthwise'}. Best is trial#153 with value: 0.9983354140657512.\n"
          ],
          "name": "stderr"
        },
        {
          "output_type": "stream",
          "text": [
            "('svc', 'ada', 'rf')\n"
          ],
          "name": "stdout"
        },
        {
          "output_type": "stream",
          "text": [
            "[I 2020-07-13 12:07:54,535] Finished trial#194 with value: 0.9925093632958801 with parameters: {'combos': 100, 'svc_features': 11, 'svc_Scaler': 'stand', 'svc_kern': 'sigmoid', 'svc_C': 6.914479295651906e-08, 'svc_deg': 6, 'ada_features': 17, 'ada_Scaler': 'log', 'ada_ne': 314, 'ada_lr': 0.6630627405144842, 'ada_algo': 'SAMME.R', 'rf_features': 4, 'rf_Scaler': 'minmax', 'rf_max_depth': 41, 'rf_ne': 471, 'rf_cw': 'balanced'}. Best is trial#153 with value: 0.9983354140657512.\n"
          ],
          "name": "stderr"
        },
        {
          "output_type": "stream",
          "text": [
            "('knn', 'qda', 'rf')\n"
          ],
          "name": "stdout"
        },
        {
          "output_type": "stream",
          "text": [
            "/usr/local/lib/python3.6/dist-packages/sklearn/discriminant_analysis.py:691: UserWarning:\n",
            "\n",
            "Variables are collinear\n",
            "\n",
            "[I 2020-07-13 12:07:56,085] Finished trial#195 with value: 0.994173949230129 with parameters: {'combos': 68, 'knn_features': 6, 'knn_Scaler': 'log', 'knn_nn': 7, 'knn_p': 1, 'qda_features': 5, 'qda_Scaler': 'minmax', 'qda_rp': 0.00016024940130248652, 'rf_features': 16, 'rf_Scaler': 'log', 'rf_max_depth': 18, 'rf_ne': 267, 'rf_cw': 'balanced_subsample'}. Best is trial#153 with value: 0.9983354140657512.\n"
          ],
          "name": "stderr"
        },
        {
          "output_type": "stream",
          "text": [
            "('knn', 'et', 'xgb')\n"
          ],
          "name": "stdout"
        },
        {
          "output_type": "stream",
          "text": [
            "[I 2020-07-13 12:07:57,213] Finished trial#196 with value: 0.9945900957136912 with parameters: {'combos': 76, 'knn_features': 5, 'knn_Scaler': 'log', 'knn_nn': 8, 'knn_p': 1, 'et_features': 0, 'et_Scaler': 'stand', 'et_max_depth': 25, 'et_ne': 417, 'xgb_features': 9, 'xgb_Scaler': 'minmax', 'booster': 'gbtree', 'lambda': 0.008098970486320217, 'alpha': 0.014526625229798994, 'max_depth': 14, 'eta': 1.9529648001503362e-07, 'gamma': 0.08922733263763971, 'grow_policy': 'depthwise'}. Best is trial#153 with value: 0.9983354140657512.\n"
          ],
          "name": "stderr"
        },
        {
          "output_type": "stream",
          "text": [
            "('gp', 'gnb', 'rf')\n"
          ],
          "name": "stdout"
        },
        {
          "output_type": "stream",
          "text": [
            "[I 2020-07-13 12:07:59,846] Finished trial#197 with value: 0.994173949230129 with parameters: {'combos': 112, 'gp_features': 16, 'gp_Scaler': 'stand', 'gp_a': 0.07261095361703608, 'gp_kern': 2, 'gnb_features': 4, 'gnb_Scaler': 'minmax', 'gnb_vs': 1.9687895481295442e-05, 'rf_features': 17, 'rf_Scaler': 'log', 'rf_max_depth': 27, 'rf_ne': 203, 'rf_cw': 'balanced_subsample'}. Best is trial#153 with value: 0.9983354140657512.\n"
          ],
          "name": "stderr"
        },
        {
          "output_type": "stream",
          "text": [
            "('svc', 'gp', 'qda')\n"
          ],
          "name": "stdout"
        },
        {
          "output_type": "stream",
          "text": [
            "/usr/local/lib/python3.6/dist-packages/sklearn/discriminant_analysis.py:691: UserWarning:\n",
            "\n",
            "Variables are collinear\n",
            "\n",
            "[I 2020-07-13 12:08:01,731] Finished trial#198 with value: 0.9933416562630046 with parameters: {'combos': 82, 'svc_features': 8, 'svc_Scaler': 'minmax', 'svc_kern': 'poly', 'svc_C': 3.830501693065485e-06, 'svc_deg': 4, 'gp_features': 19, 'gp_Scaler': 'log', 'gp_a': 2.166175517312054, 'gp_kern': 1, 'qda_features': 9, 'qda_Scaler': 'log', 'qda_rp': 0.004604625154019929}. Best is trial#153 with value: 0.9983354140657512.\n"
          ],
          "name": "stderr"
        },
        {
          "output_type": "stream",
          "text": [
            "('knn', 'gp', 'gbm')\n"
          ],
          "name": "stdout"
        },
        {
          "output_type": "stream",
          "text": [
            "[I 2020-07-13 12:08:04,063] Setting status of trial#199 as TrialState.PRUNED. Trial was pruned at iteration 11.\n"
          ],
          "name": "stderr"
        },
        {
          "output_type": "stream",
          "text": [
            "('gp', 'et', 'rf')\n"
          ],
          "name": "stdout"
        },
        {
          "output_type": "stream",
          "text": [
            "[I 2020-07-13 12:08:06,789] Finished trial#200 with value: 0.9931335830212235 with parameters: {'combos': 124, 'gp_features': 7, 'gp_Scaler': 'stand', 'gp_a': 0.019766860676298494, 'gp_kern': 5, 'et_features': 1, 'et_Scaler': 'stand', 'et_max_depth': 27, 'et_ne': 399, 'rf_features': 9, 'rf_Scaler': 'log', 'rf_max_depth': 43, 'rf_ne': 7, 'rf_cw': 'balanced_subsample'}. Best is trial#153 with value: 0.9983354140657512.\n"
          ],
          "name": "stderr"
        },
        {
          "output_type": "stream",
          "text": [
            "('rf', 'xgb', 'gbm')\n"
          ],
          "name": "stdout"
        },
        {
          "output_type": "stream",
          "text": [
            "[I 2020-07-13 12:08:07,577] Setting status of trial#201 as TrialState.PRUNED. Trial was pruned at iteration 11.\n"
          ],
          "name": "stderr"
        },
        {
          "output_type": "stream",
          "text": [
            "('knn', 'et', 'rf')\n"
          ],
          "name": "stdout"
        },
        {
          "output_type": "stream",
          "text": [
            "[I 2020-07-13 12:08:08,865] Finished trial#202 with value: 0.9955264253017062 with parameters: {'combos': 75, 'knn_features': 6, 'knn_Scaler': 'log', 'knn_nn': 10, 'knn_p': 1, 'et_features': 2, 'et_Scaler': 'stand', 'et_max_depth': 28, 'et_ne': 326, 'rf_features': 7, 'rf_Scaler': 'log', 'rf_max_depth': 65, 'rf_ne': 2, 'rf_cw': 'balanced_subsample'}. Best is trial#153 with value: 0.9983354140657512.\n"
          ],
          "name": "stderr"
        },
        {
          "output_type": "stream",
          "text": [
            "('knn', 'ada', 'xgb')\n"
          ],
          "name": "stdout"
        },
        {
          "output_type": "stream",
          "text": [
            "[I 2020-07-13 12:08:10,313] Finished trial#203 with value: 0.9977111943404079 with parameters: {'combos': 73, 'knn_features': 5, 'knn_Scaler': 'log', 'knn_nn': 7, 'knn_p': 1, 'ada_features': 17, 'ada_Scaler': 'log', 'ada_ne': 246, 'ada_lr': 0.4979897254987947, 'ada_algo': 'SAMME.R', 'xgb_features': 11, 'xgb_Scaler': 'stand', 'booster': 'gbtree', 'lambda': 0.04227383431827827, 'alpha': 0.18831291421131854, 'max_depth': 9, 'eta': 1.2702503362577847e-06, 'gamma': 0.0003499523184250018, 'grow_policy': 'depthwise'}. Best is trial#153 with value: 0.9983354140657512.\n"
          ],
          "name": "stderr"
        },
        {
          "output_type": "stream",
          "text": [
            "('knn', 'ada', 'rf')\n"
          ],
          "name": "stdout"
        },
        {
          "output_type": "stream",
          "text": [
            "[I 2020-07-13 12:08:11,932] Finished trial#204 with value: 0.9972950478568456 with parameters: {'combos': 72, 'knn_features': 5, 'knn_Scaler': 'log', 'knn_nn': 7, 'knn_p': 1, 'ada_features': 17, 'ada_Scaler': 'log', 'ada_ne': 242, 'ada_lr': 0.5158860454497047, 'ada_algo': 'SAMME.R', 'rf_features': 13, 'rf_Scaler': 'log', 'rf_max_depth': 41, 'rf_ne': 26, 'rf_cw': 'balanced_subsample'}. Best is trial#153 with value: 0.9983354140657512.\n"
          ],
          "name": "stderr"
        },
        {
          "output_type": "stream",
          "text": [
            "('knn', 'ada', 'xgb')\n"
          ],
          "name": "stdout"
        },
        {
          "output_type": "stream",
          "text": [
            "[I 2020-07-13 12:08:13,385] Finished trial#205 with value: 0.9968789013732834 with parameters: {'combos': 73, 'knn_features': 5, 'knn_Scaler': 'log', 'knn_nn': 7, 'knn_p': 1, 'ada_features': 17, 'ada_Scaler': 'log', 'ada_ne': 244, 'ada_lr': 0.5188469244587535, 'ada_algo': 'SAMME.R', 'xgb_features': 11, 'xgb_Scaler': 'stand', 'booster': 'gbtree', 'lambda': 0.05503382622984349, 'alpha': 0.20172018408589126, 'max_depth': 10, 'eta': 1.313531394298373e-06, 'gamma': 0.0003645923318144486, 'grow_policy': 'depthwise'}. Best is trial#153 with value: 0.9983354140657512.\n"
          ],
          "name": "stderr"
        },
        {
          "output_type": "stream",
          "text": [
            "('knn', 'ada', 'et')\n"
          ],
          "name": "stdout"
        },
        {
          "output_type": "stream",
          "text": [
            "[I 2020-07-13 12:08:15,117] Finished trial#206 with value: 0.9931335830212235 with parameters: {'combos': 71, 'knn_features': 4, 'knn_Scaler': 'log', 'knn_nn': 4, 'knn_p': 1, 'ada_features': 16, 'ada_Scaler': 'log', 'ada_ne': 251, 'ada_lr': 0.46908988290946163, 'ada_algo': 'SAMME.R', 'et_features': 5, 'et_Scaler': 'minmax', 'et_max_depth': 14, 'et_ne': 288}. Best is trial#153 with value: 0.9983354140657512.\n"
          ],
          "name": "stderr"
        },
        {
          "output_type": "stream",
          "text": [
            "('ada', 'xgb', 'gbm')\n"
          ],
          "name": "stdout"
        },
        {
          "output_type": "stream",
          "text": [
            "[I 2020-07-13 12:08:16,234] Setting status of trial#207 as TrialState.PRUNED. Trial was pruned at iteration 11.\n"
          ],
          "name": "stderr"
        },
        {
          "output_type": "stream",
          "text": [
            "('knn', 'gnb', 'xgb')\n"
          ],
          "name": "stdout"
        },
        {
          "output_type": "stream",
          "text": [
            "[I 2020-07-13 12:08:16,996] Finished trial#208 with value: 0.9918851435705368 with parameters: {'combos': 64, 'knn_features': 5, 'knn_Scaler': 'log', 'knn_nn': 6, 'knn_p': 1, 'gnb_features': 8, 'gnb_Scaler': 'log', 'gnb_vs': 0.0009091316745260522, 'xgb_features': 13, 'xgb_Scaler': 'stand', 'booster': 'gbtree', 'lambda': 0.10748146353082948, 'alpha': 0.007476734183949249, 'max_depth': 19, 'eta': 2.909605233886137e-08, 'gamma': 0.00350502580564971, 'grow_policy': 'depthwise'}. Best is trial#153 with value: 0.9983354140657512.\n"
          ],
          "name": "stderr"
        },
        {
          "output_type": "stream",
          "text": [
            "('knn', 'qda', 'et')\n"
          ],
          "name": "stdout"
        },
        {
          "output_type": "stream",
          "text": [
            "/usr/local/lib/python3.6/dist-packages/sklearn/discriminant_analysis.py:691: UserWarning:\n",
            "\n",
            "Variables are collinear\n",
            "\n",
            "[I 2020-07-13 12:08:18,116] Finished trial#209 with value: 0.9970869746150645 with parameters: {'combos': 67, 'knn_features': 6, 'knn_Scaler': 'log', 'knn_nn': 9, 'knn_p': 1, 'qda_features': 3, 'qda_Scaler': 'minmax', 'qda_rp': 3.241757103337067e-05, 'et_features': 0, 'et_Scaler': 'stand', 'et_max_depth': 20, 'et_ne': 450}. Best is trial#153 with value: 0.9983354140657512.\n"
          ],
          "name": "stderr"
        },
        {
          "output_type": "stream",
          "text": [
            "('knn', 'gnb', 'et')\n"
          ],
          "name": "stdout"
        },
        {
          "output_type": "stream",
          "text": [
            "[I 2020-07-13 12:08:19,130] Finished trial#210 with value: 0.9931335830212235 with parameters: {'combos': 62, 'knn_features': 5, 'knn_Scaler': 'log', 'knn_nn': 8, 'knn_p': 1, 'gnb_features': 0, 'gnb_Scaler': 'stand', 'gnb_vs': 0.2229176515071331, 'et_features': 3, 'et_Scaler': 'stand', 'et_max_depth': 37, 'et_ne': 367}. Best is trial#153 with value: 0.9983354140657512.\n"
          ],
          "name": "stderr"
        },
        {
          "output_type": "stream",
          "text": [
            "('knn', 'qda', 'gbm')\n"
          ],
          "name": "stdout"
        },
        {
          "output_type": "stream",
          "text": [
            "/usr/local/lib/python3.6/dist-packages/sklearn/discriminant_analysis.py:691: UserWarning:\n",
            "\n",
            "Variables are collinear\n",
            "\n",
            "[I 2020-07-13 12:08:19,874] Finished trial#211 with value: 0.996046608406159 with parameters: {'combos': 70, 'knn_features': 9, 'knn_Scaler': 'log', 'knn_nn': 7, 'knn_p': 1, 'qda_features': 19, 'qda_Scaler': 'minmax', 'qda_rp': 1.9889246531965324e-07, 'gbm_features': 19, 'gbm_Scaler': 'log', 'lambda_l1': 0.8382065874802765, 'lambda_l2': 0.0007962877030323536, 'num_leaves': 21, 'feature_fraction': 0.9991440311070199, 'bagging_fraction': 0.6085748595052903, 'bagging_freq': 4, 'min_child_samples': 8}. Best is trial#153 with value: 0.9983354140657512.\n"
          ],
          "name": "stderr"
        },
        {
          "output_type": "stream",
          "text": [
            "('gnb', 'qda', 'xgb')\n"
          ],
          "name": "stdout"
        },
        {
          "output_type": "stream",
          "text": [
            "/usr/local/lib/python3.6/dist-packages/sklearn/discriminant_analysis.py:691: UserWarning:\n",
            "\n",
            "Variables are collinear\n",
            "\n",
            "[I 2020-07-13 12:08:20,413] Finished trial#212 with value: 0.9937578027465668 with parameters: {'combos': 133, 'gnb_features': 2, 'gnb_Scaler': 'stand', 'gnb_vs': 0.001844076246328765, 'qda_features': 7, 'qda_Scaler': 'stand', 'qda_rp': 4.1869933341478635e-20, 'xgb_features': 7, 'xgb_Scaler': 'stand', 'booster': 'gblinear', 'lambda': 0.0002831181354769794, 'alpha': 0.00013866747433950765}. Best is trial#153 with value: 0.9983354140657512.\n"
          ],
          "name": "stderr"
        },
        {
          "output_type": "stream",
          "text": [
            "('knn', 'rf', 'xgb')\n"
          ],
          "name": "stdout"
        },
        {
          "output_type": "stream",
          "text": [
            "[I 2020-07-13 12:08:21,287] Finished trial#213 with value: 0.9891801914273824 with parameters: {'combos': 78, 'knn_features': 10, 'knn_Scaler': 'stand', 'knn_nn': 5, 'knn_p': 1, 'rf_features': 13, 'rf_Scaler': 'log', 'rf_max_depth': 40, 'rf_ne': 28, 'rf_cw': 'balanced_subsample', 'xgb_features': 6, 'xgb_Scaler': 'stand', 'booster': 'gbtree', 'lambda': 0.02598748792244545, 'alpha': 0.18616455081887298, 'max_depth': 13, 'eta': 2.16055929505751e-07, 'gamma': 1.0484794577516327e-05, 'grow_policy': 'depthwise'}. Best is trial#153 with value: 0.9983354140657512.\n"
          ],
          "name": "stderr"
        },
        {
          "output_type": "stream",
          "text": [
            "('knn', 'ada', 'xgb')\n"
          ],
          "name": "stdout"
        },
        {
          "output_type": "stream",
          "text": [
            "[I 2020-07-13 12:08:22,796] Finished trial#214 with value: 0.99812734082397 with parameters: {'combos': 73, 'knn_features': 10, 'knn_Scaler': 'stand', 'knn_nn': 3, 'knn_p': 1, 'ada_features': 16, 'ada_Scaler': 'log', 'ada_ne': 266, 'ada_lr': 0.43231174771968245, 'ada_algo': 'SAMME.R', 'xgb_features': 12, 'xgb_Scaler': 'minmax', 'booster': 'gbtree', 'lambda': 0.01044196778682814, 'alpha': 0.06987880771798353, 'max_depth': 28, 'eta': 1.732934992123134e-05, 'gamma': 0.00817778758820586, 'grow_policy': 'depthwise'}. Best is trial#153 with value: 0.9983354140657512.\n"
          ],
          "name": "stderr"
        },
        {
          "output_type": "stream",
          "text": [
            "('knn', 'ada', 'gbm')\n"
          ],
          "name": "stdout"
        },
        {
          "output_type": "stream",
          "text": [
            "[I 2020-07-13 12:08:24,319] Finished trial#215 with value: 0.9972950478568456 with parameters: {'combos': 74, 'knn_features': 4, 'knn_Scaler': 'log', 'knn_nn': 6, 'knn_p': 1, 'ada_features': 17, 'ada_Scaler': 'log', 'ada_ne': 238, 'ada_lr': 0.4850076891098867, 'ada_algo': 'SAMME.R', 'gbm_features': 15, 'gbm_Scaler': 'log', 'lambda_l1': 0.0011733123194354975, 'lambda_l2': 0.0029458417015288786, 'num_leaves': 114, 'feature_fraction': 0.844156689202244, 'bagging_fraction': 0.4562039971953952, 'bagging_freq': 7, 'min_child_samples': 14}. Best is trial#153 with value: 0.9983354140657512.\n"
          ],
          "name": "stderr"
        },
        {
          "output_type": "stream",
          "text": [
            "('svc', 'gp', 'gnb')\n"
          ],
          "name": "stdout"
        },
        {
          "output_type": "stream",
          "text": [
            "[I 2020-07-13 12:08:25,541] Finished trial#216 with value: 0.9925093632958801 with parameters: {'combos': 81, 'svc_features': 19, 'svc_Scaler': 'log', 'svc_kern': 'linear', 'svc_C': 3.181800849806898, 'svc_deg': 8, 'gp_features': 1, 'gp_Scaler': 'stand', 'gp_a': 0.0036345990871512043, 'gp_kern': 3, 'gnb_features': 11, 'gnb_Scaler': 'minmax', 'gnb_vs': 0.9355245961381218}. Best is trial#153 with value: 0.9983354140657512.\n"
          ],
          "name": "stderr"
        },
        {
          "output_type": "stream",
          "text": [
            "('knn', 'ada', 'gbm')\n"
          ],
          "name": "stdout"
        },
        {
          "output_type": "stream",
          "text": [
            "[I 2020-07-13 12:08:27,045] Finished trial#217 with value: 0.9972950478568456 with parameters: {'combos': 74, 'knn_features': 4, 'knn_Scaler': 'log', 'knn_nn': 6, 'knn_p': 1, 'ada_features': 17, 'ada_Scaler': 'log', 'ada_ne': 234, 'ada_lr': 0.19866475063271635, 'ada_algo': 'SAMME.R', 'gbm_features': 15, 'gbm_Scaler': 'log', 'lambda_l1': 0.0008853807088385036, 'lambda_l2': 0.003554887472688543, 'num_leaves': 116, 'feature_fraction': 0.9582655046341026, 'bagging_fraction': 0.4675043920842348, 'bagging_freq': 7, 'min_child_samples': 14}. Best is trial#153 with value: 0.9983354140657512.\n"
          ],
          "name": "stderr"
        },
        {
          "output_type": "stream",
          "text": [
            "('knn', 'et', 'xgb')\n"
          ],
          "name": "stdout"
        },
        {
          "output_type": "stream",
          "text": [
            "[I 2020-07-13 12:08:27,923] Finished trial#218 with value: 0.9955264253017062 with parameters: {'combos': 76, 'knn_features': 3, 'knn_Scaler': 'log', 'knn_nn': 4, 'knn_p': 1, 'et_features': 9, 'et_Scaler': 'log', 'et_max_depth': 79, 'et_ne': 207, 'xgb_features': 12, 'xgb_Scaler': 'minmax', 'booster': 'gbtree', 'lambda': 0.008589189834195654, 'alpha': 0.020718685161746353, 'max_depth': 4, 'eta': 2.787609977789744e-06, 'gamma': 0.014294522344345991, 'grow_policy': 'depthwise'}. Best is trial#153 with value: 0.9983354140657512.\n"
          ],
          "name": "stderr"
        },
        {
          "output_type": "stream",
          "text": [
            "('knn', 'qda', 'xgb')\n"
          ],
          "name": "stdout"
        },
        {
          "output_type": "stream",
          "text": [
            "[I 2020-07-13 12:08:28,593] Finished trial#219 with value: 0.9966708281315022 with parameters: {'combos': 69, 'knn_features': 4, 'knn_Scaler': 'stand', 'knn_nn': 6, 'knn_p': 1, 'qda_features': 4, 'qda_Scaler': 'log', 'qda_rp': 5.946567403397693e-17, 'xgb_features': 14, 'xgb_Scaler': 'minmax', 'booster': 'gbtree', 'lambda': 0.03108375438806151, 'alpha': 0.6285044423759246, 'max_depth': 22, 'eta': 1.8346701070327348e-05, 'gamma': 0.029182694512352204, 'grow_policy': 'depthwise'}. Best is trial#153 with value: 0.9983354140657512.\n"
          ],
          "name": "stderr"
        },
        {
          "output_type": "stream",
          "text": [
            "('knn', 'gp', 'rf')\n"
          ],
          "name": "stdout"
        },
        {
          "output_type": "stream",
          "text": [
            "[I 2020-07-13 12:08:31,264] Finished trial#220 with value: 0.9927174365376613 with parameters: {'combos': 57, 'knn_features': 4, 'knn_Scaler': 'log', 'knn_nn': 5, 'knn_p': 1, 'gp_features': 14, 'gp_Scaler': 'log', 'gp_a': 0.13183800820147334, 'gp_kern': 2, 'rf_features': 12, 'rf_Scaler': 'stand', 'rf_max_depth': 54, 'rf_ne': 83, 'rf_cw': 'balanced_subsample'}. Best is trial#153 with value: 0.9983354140657512.\n"
          ],
          "name": "stderr"
        },
        {
          "output_type": "stream",
          "text": [
            "('knn', 'et', 'rf')\n"
          ],
          "name": "stdout"
        },
        {
          "output_type": "stream",
          "text": [
            "[I 2020-07-13 12:08:32,483] Finished trial#221 with value: 0.9887640449438202 with parameters: {'combos': 75, 'knn_features': 5, 'knn_Scaler': 'log', 'knn_nn': 7, 'knn_p': 1, 'et_features': 11, 'et_Scaler': 'minmax', 'et_max_depth': 49, 'et_ne': 248, 'rf_features': 14, 'rf_Scaler': 'log', 'rf_max_depth': 59, 'rf_ne': 59, 'rf_cw': 'balanced_subsample'}. Best is trial#153 with value: 0.9983354140657512.\n"
          ],
          "name": "stderr"
        },
        {
          "output_type": "stream",
          "text": [
            "('knn', 'ada', 'rf')\n"
          ],
          "name": "stdout"
        },
        {
          "output_type": "stream",
          "text": [
            "[I 2020-07-13 12:08:34,439] Finished trial#222 with value: 0.9964627548897212 with parameters: {'combos': 72, 'knn_features': 4, 'knn_Scaler': 'log', 'knn_nn': 5, 'knn_p': 1, 'ada_features': 17, 'ada_Scaler': 'log', 'ada_ne': 236, 'ada_lr': 0.2049756585891648, 'ada_algo': 'SAMME.R', 'rf_features': 8, 'rf_Scaler': 'log', 'rf_max_depth': 75, 'rf_ne': 150, 'rf_cw': 'balanced_subsample'}. Best is trial#153 with value: 0.9983354140657512.\n"
          ],
          "name": "stderr"
        },
        {
          "output_type": "stream",
          "text": [
            "('knn', 'rf', 'gbm')\n"
          ],
          "name": "stdout"
        },
        {
          "output_type": "stream",
          "text": [
            "[I 2020-07-13 12:08:35,402] Finished trial#223 with value: 0.9877236787349147 with parameters: {'combos': 79, 'knn_features': 5, 'knn_Scaler': 'log', 'knn_nn': 6, 'knn_p': 1, 'rf_features': 11, 'rf_Scaler': 'stand', 'rf_max_depth': 48, 'rf_ne': 25, 'rf_cw': 'balanced_subsample', 'gbm_features': 15, 'gbm_Scaler': 'log', 'lambda_l1': 0.0022793576996847347, 'lambda_l2': 0.007010948206015249, 'num_leaves': 117, 'feature_fraction': 0.9619080071432564, 'bagging_fraction': 0.4539978962908198, 'bagging_freq': 7, 'min_child_samples': 14}. Best is trial#153 with value: 0.9983354140657512.\n"
          ],
          "name": "stderr"
        },
        {
          "output_type": "stream",
          "text": [
            "('knn', 'ada', 'gbm')\n"
          ],
          "name": "stdout"
        },
        {
          "output_type": "stream",
          "text": [
            "[I 2020-07-13 12:08:36,734] Setting status of trial#224 as TrialState.PRUNED. Trial was pruned at iteration 11.\n"
          ],
          "name": "stderr"
        },
        {
          "output_type": "stream",
          "text": [
            "('knn', 'qda', 'ada')\n"
          ],
          "name": "stdout"
        },
        {
          "output_type": "stream",
          "text": [
            "/usr/local/lib/python3.6/dist-packages/sklearn/discriminant_analysis.py:691: UserWarning:\n",
            "\n",
            "Variables are collinear\n",
            "\n",
            "[I 2020-07-13 12:08:38,281] Finished trial#225 with value: 0.997919267582189 with parameters: {'combos': 66, 'knn_features': 9, 'knn_Scaler': 'stand', 'knn_nn': 3, 'knn_p': 1, 'qda_features': 9, 'qda_Scaler': 'stand', 'qda_rp': 6.799407496308286e-19, 'ada_features': 18, 'ada_Scaler': 'log', 'ada_ne': 261, 'ada_lr': 0.45503104364719676, 'ada_algo': 'SAMME'}. Best is trial#153 with value: 0.9983354140657512.\n"
          ],
          "name": "stderr"
        },
        {
          "output_type": "stream",
          "text": [
            "('knn', 'qda', 'ada')\n"
          ],
          "name": "stdout"
        },
        {
          "output_type": "stream",
          "text": [
            "/usr/local/lib/python3.6/dist-packages/sklearn/discriminant_analysis.py:691: UserWarning:\n",
            "\n",
            "Variables are collinear\n",
            "\n",
            "[I 2020-07-13 12:08:39,616] Finished trial#226 with value: 0.9972950478568456 with parameters: {'combos': 66, 'knn_features': 3, 'knn_Scaler': 'stand', 'knn_nn': 3, 'knn_p': 1, 'qda_features': 14, 'qda_Scaler': 'stand', 'qda_rp': 1.586064514517855e-15, 'ada_features': 18, 'ada_Scaler': 'log', 'ada_ne': 225, 'ada_lr': 0.4176493239703419, 'ada_algo': 'SAMME'}. Best is trial#153 with value: 0.9983354140657512.\n"
          ],
          "name": "stderr"
        },
        {
          "output_type": "stream",
          "text": [
            "('knn', 'gnb', 'gbm')\n"
          ],
          "name": "stdout"
        },
        {
          "output_type": "stream",
          "text": [
            "[I 2020-07-13 12:08:40,356] Finished trial#227 with value: 0.9950062421972534 with parameters: {'combos': 65, 'knn_features': 9, 'knn_Scaler': 'stand', 'knn_nn': 3, 'knn_p': 1, 'gnb_features': 5, 'gnb_Scaler': 'stand', 'gnb_vs': 0.007131103115529033, 'gbm_features': 13, 'gbm_Scaler': 'log', 'lambda_l1': 0.04241774737517524, 'lambda_l2': 0.08908534668883422, 'num_leaves': 50, 'feature_fraction': 0.6257595136005228, 'bagging_fraction': 0.5320145807092855, 'bagging_freq': 6, 'min_child_samples': 5}. Best is trial#153 with value: 0.9983354140657512.\n"
          ],
          "name": "stderr"
        },
        {
          "output_type": "stream",
          "text": [
            "('knn', 'qda', 'xgb')\n"
          ],
          "name": "stdout"
        },
        {
          "output_type": "stream",
          "text": [
            "/usr/local/lib/python3.6/dist-packages/sklearn/discriminant_analysis.py:691: UserWarning:\n",
            "\n",
            "Variables are collinear\n",
            "\n",
            "[I 2020-07-13 12:08:41,028] Finished trial#228 with value: 0.9869954223886808 with parameters: {'combos': 69, 'knn_features': 3, 'knn_Scaler': 'log', 'knn_nn': 4, 'knn_p': 1, 'qda_features': 16, 'qda_Scaler': 'stand', 'qda_rp': 1.535200748818914e-18, 'xgb_features': 10, 'xgb_Scaler': 'minmax', 'booster': 'gbtree', 'lambda': 0.014413956983151562, 'alpha': 0.08523558416739123, 'max_depth': 28, 'eta': 8.82045415060176e-07, 'gamma': 0.007161683042446405, 'grow_policy': 'depthwise'}. Best is trial#153 with value: 0.9983354140657512.\n"
          ],
          "name": "stderr"
        },
        {
          "output_type": "stream",
          "text": [
            "('knn', 'gnb', 'qda')\n"
          ],
          "name": "stdout"
        },
        {
          "output_type": "stream",
          "text": [
            "/usr/local/lib/python3.6/dist-packages/sklearn/discriminant_analysis.py:691: UserWarning:\n",
            "\n",
            "Variables are collinear\n",
            "\n",
            "[I 2020-07-13 12:08:41,686] Finished trial#229 with value: 0.9945900957136912 with parameters: {'combos': 60, 'knn_features': 9, 'knn_Scaler': 'stand', 'knn_nn': 3, 'knn_p': 1, 'gnb_features': 3, 'gnb_Scaler': 'stand', 'gnb_vs': 0.09184060352594899, 'qda_features': 13, 'qda_Scaler': 'stand', 'qda_rp': 6.199075394296716e-19}. Best is trial#153 with value: 0.9983354140657512.\n"
          ],
          "name": "stderr"
        },
        {
          "output_type": "stream",
          "text": [
            "('knn', 'gnb', 'et')\n"
          ],
          "name": "stdout"
        },
        {
          "output_type": "stream",
          "text": [
            "[I 2020-07-13 12:08:42,636] Finished trial#230 with value: 0.9952143154390346 with parameters: {'combos': 62, 'knn_features': 10, 'knn_Scaler': 'stand', 'knn_nn': 5, 'knn_p': 1, 'gnb_features': 8, 'gnb_Scaler': 'stand', 'gnb_vs': 0.00012431179673854718, 'et_features': 4, 'et_Scaler': 'log', 'et_max_depth': 72, 'et_ne': 304}. Best is trial#153 with value: 0.9983354140657512.\n"
          ],
          "name": "stderr"
        },
        {
          "output_type": "stream",
          "text": [
            "('knn', 'ada', 'rf')\n"
          ],
          "name": "stdout"
        },
        {
          "output_type": "stream",
          "text": [
            "[I 2020-07-13 12:08:44,294] Finished trial#231 with value: 0.9916770703287557 with parameters: {'combos': 72, 'knn_features': 8, 'knn_Scaler': 'stand', 'knn_nn': 2, 'knn_p': 1, 'ada_features': 18, 'ada_Scaler': 'log', 'ada_ne': 218, 'ada_lr': 0.45960743780226626, 'ada_algo': 'SAMME', 'rf_features': 15, 'rf_Scaler': 'minmax', 'rf_max_depth': 66, 'rf_ne': 120, 'rf_cw': 'balanced'}. Best is trial#153 with value: 0.9983354140657512.\n"
          ],
          "name": "stderr"
        },
        {
          "output_type": "stream",
          "text": [
            "('knn', 'gnb', 'gbm')\n"
          ],
          "name": "stdout"
        },
        {
          "output_type": "stream",
          "text": [
            "[I 2020-07-13 12:08:45,028] Finished trial#232 with value: 0.9964627548897212 with parameters: {'combos': 65, 'knn_features': 2, 'knn_Scaler': 'stand', 'knn_nn': 4, 'knn_p': 1, 'gnb_features': 9, 'gnb_Scaler': 'minmax', 'gnb_vs': 4.214502486786925e-06, 'gbm_features': 16, 'gbm_Scaler': 'log', 'lambda_l1': 0.005939795488448598, 'lambda_l2': 0.019340487167177393, 'num_leaves': 116, 'feature_fraction': 0.8091213475285064, 'bagging_fraction': 0.4148045784517609, 'bagging_freq': 7, 'min_child_samples': 16}. Best is trial#153 with value: 0.9983354140657512.\n"
          ],
          "name": "stderr"
        },
        {
          "output_type": "stream",
          "text": [
            "('knn', 'et', 'gbm')\n"
          ],
          "name": "stdout"
        },
        {
          "output_type": "stream",
          "text": [
            "[I 2020-07-13 12:08:45,891] Finished trial#233 with value: 0.9866833125260092 with parameters: {'combos': 77, 'knn_features': 11, 'knn_Scaler': 'log', 'knn_nn': 8, 'knn_p': 1, 'et_features': 7, 'et_Scaler': 'minmax', 'et_max_depth': 44, 'et_ne': 103, 'gbm_features': 15, 'gbm_Scaler': 'log', 'lambda_l1': 0.00015885612650713053, 'lambda_l2': 0.0006645511429270947, 'num_leaves': 99, 'feature_fraction': 0.8315147807843094, 'bagging_fraction': 0.4331114193098844, 'bagging_freq': 6, 'min_child_samples': 13}. Best is trial#153 with value: 0.9983354140657512.\n"
          ],
          "name": "stderr"
        },
        {
          "output_type": "stream",
          "text": [
            "('knn', 'qda', 'et')\n"
          ],
          "name": "stdout"
        },
        {
          "output_type": "stream",
          "text": [
            "/usr/local/lib/python3.6/dist-packages/sklearn/discriminant_analysis.py:691: UserWarning:\n",
            "\n",
            "Variables are collinear\n",
            "\n",
            "[I 2020-07-13 12:08:46,704] Finished trial#234 with value: 0.9947981689554724 with parameters: {'combos': 67, 'knn_features': 5, 'knn_Scaler': 'stand', 'knn_nn': 3, 'knn_p': 1, 'qda_features': 15, 'qda_Scaler': 'stand', 'qda_rp': 3.0971706643099038e-15, 'et_features': 18, 'et_Scaler': 'log', 'et_max_depth': 5, 'et_ne': 169}. Best is trial#153 with value: 0.9983354140657512.\n"
          ],
          "name": "stderr"
        },
        {
          "output_type": "stream",
          "text": [
            "('knn', 'ada', 'xgb')\n"
          ],
          "name": "stdout"
        },
        {
          "output_type": "stream",
          "text": [
            "[I 2020-07-13 12:08:48,176] Finished trial#235 with value: 0.9966708281315023 with parameters: {'combos': 73, 'knn_features': 3, 'knn_Scaler': 'stand', 'knn_nn': 6, 'knn_p': 1, 'ada_features': 18, 'ada_Scaler': 'log', 'ada_ne': 263, 'ada_lr': 0.4177765558105821, 'ada_algo': 'SAMME', 'xgb_features': 9, 'xgb_Scaler': 'minmax', 'booster': 'gbtree', 'lambda': 0.004305851262987958, 'alpha': 0.2709175780038401, 'max_depth': 9, 'eta': 0.00010781998842314244, 'gamma': 0.0009841788229801327, 'grow_policy': 'depthwise'}. Best is trial#153 with value: 0.9983354140657512.\n"
          ],
          "name": "stderr"
        },
        {
          "output_type": "stream",
          "text": [
            "('knn', 'qda', 'rf')\n"
          ],
          "name": "stdout"
        },
        {
          "output_type": "stream",
          "text": [
            "/usr/local/lib/python3.6/dist-packages/sklearn/discriminant_analysis.py:691: UserWarning:\n",
            "\n",
            "Variables are collinear\n",
            "\n",
            "[I 2020-07-13 12:08:49,249] Finished trial#236 with value: 0.9854348730753225 with parameters: {'combos': 68, 'knn_features': 6, 'knn_Scaler': 'stand', 'knn_nn': 4, 'knn_p': 1, 'qda_features': 18, 'qda_Scaler': 'stand', 'qda_rp': 1.6811979018331448e-20, 'rf_features': 0, 'rf_Scaler': 'log', 'rf_max_depth': 22, 'rf_ne': 93, 'rf_cw': 'balanced_subsample'}. Best is trial#153 with value: 0.9983354140657512.\n"
          ],
          "name": "stderr"
        },
        {
          "output_type": "stream",
          "text": [
            "('knn', 'gp', 'ada')\n"
          ],
          "name": "stdout"
        },
        {
          "output_type": "stream",
          "text": [
            "[I 2020-07-13 12:08:51,117] Finished trial#237 with value: 0.9958385351643779 with parameters: {'combos': 55, 'knn_features': 5, 'knn_Scaler': 'stand', 'knn_nn': 1, 'knn_p': 1, 'gp_features': 9, 'gp_Scaler': 'stand', 'gp_a': 0.04581185146119839, 'gp_kern': 1, 'ada_features': 5, 'ada_Scaler': 'log', 'ada_ne': 276, 'ada_lr': 0.17359416801319752, 'ada_algo': 'SAMME'}. Best is trial#153 with value: 0.9983354140657512.\n"
          ],
          "name": "stderr"
        },
        {
          "output_type": "stream",
          "text": [
            "('knn', 'gnb', 'xgb')\n"
          ],
          "name": "stdout"
        },
        {
          "output_type": "stream",
          "text": [
            "[I 2020-07-13 12:08:51,781] Finished trial#238 with value: 0.9920932168123179 with parameters: {'combos': 64, 'knn_features': 4, 'knn_Scaler': 'stand', 'knn_nn': 2, 'knn_p': 1, 'gnb_features': 1, 'gnb_Scaler': 'stand', 'gnb_vs': 0.0005759521583227536, 'xgb_features': 11, 'xgb_Scaler': 'minmax', 'booster': 'gbtree', 'lambda': 0.11393059134166272, 'alpha': 0.04474236549571291, 'max_depth': 16, 'eta': 6.691160700428855e-06, 'gamma': 0.4143145202519721, 'grow_policy': 'depthwise'}. Best is trial#153 with value: 0.9983354140657512.\n"
          ],
          "name": "stderr"
        },
        {
          "output_type": "stream",
          "text": [
            "('knn', 'ada', 'et')\n"
          ],
          "name": "stdout"
        },
        {
          "output_type": "stream",
          "text": [
            "[I 2020-07-13 12:08:53,746] Finished trial#239 with value: 0.9945900957136913 with parameters: {'combos': 71, 'knn_features': 6, 'knn_Scaler': 'log', 'knn_nn': 15, 'knn_p': 1, 'ada_features': 16, 'ada_Scaler': 'stand', 'ada_ne': 254, 'ada_lr': 0.5106571482249266, 'ada_algo': 'SAMME.R', 'et_features': 14, 'et_Scaler': 'stand', 'et_max_depth': 84, 'et_ne': 475}. Best is trial#153 with value: 0.9983354140657512.\n"
          ],
          "name": "stderr"
        },
        {
          "output_type": "stream",
          "text": [
            "('knn', 'gp', 'gbm')\n"
          ],
          "name": "stdout"
        },
        {
          "output_type": "stream",
          "text": [
            "[I 2020-07-13 12:08:56,555] Finished trial#240 with value: 0.9925093632958801 with parameters: {'combos': 59, 'knn_features': 7, 'knn_Scaler': 'stand', 'knn_nn': 3, 'knn_p': 1, 'gp_features': 5, 'gp_Scaler': 'minmax', 'gp_a': 0.0015934743407730702, 'gp_kern': 6, 'gbm_features': 14, 'gbm_Scaler': 'log', 'lambda_l1': 0.015987272635667748, 'lambda_l2': 0.003412483577081925, 'num_leaves': 70, 'feature_fraction': 0.8739890202600142, 'bagging_fraction': 0.466944247531617, 'bagging_freq': 7, 'min_child_samples': 12}. Best is trial#153 with value: 0.9983354140657512.\n"
          ],
          "name": "stderr"
        },
        {
          "output_type": "stream",
          "text": [
            "('knn', 'ada', 'gbm')\n"
          ],
          "name": "stdout"
        },
        {
          "output_type": "stream",
          "text": [
            "[I 2020-07-13 12:08:57,836] Setting status of trial#241 as TrialState.PRUNED. Trial was pruned at iteration 11.\n"
          ],
          "name": "stderr"
        },
        {
          "output_type": "stream",
          "text": [
            "('knn', 'qda', 'xgb')\n"
          ],
          "name": "stdout"
        },
        {
          "output_type": "stream",
          "text": [
            "/usr/local/lib/python3.6/dist-packages/sklearn/discriminant_analysis.py:691: UserWarning:\n",
            "\n",
            "Variables are collinear\n",
            "\n",
            "[I 2020-07-13 12:08:58,609] Finished trial#242 with value: 0.9889721181856013 with parameters: {'combos': 69, 'knn_features': 5, 'knn_Scaler': 'log', 'knn_nn': 6, 'knn_p': 1, 'qda_features': 11, 'qda_Scaler': 'stand', 'qda_rp': 8.175946067015326e-17, 'xgb_features': 13, 'xgb_Scaler': 'minmax', 'booster': 'gbtree', 'lambda': 9.748250655471975e-05, 'alpha': 0.026396692534659264, 'max_depth': 3, 'eta': 1.178638707334278e-05, 'gamma': 0.12030325532411923, 'grow_policy': 'depthwise'}. Best is trial#153 with value: 0.9983354140657512.\n"
          ],
          "name": "stderr"
        },
        {
          "output_type": "stream",
          "text": [
            "('knn', 'rf', 'xgb')\n"
          ],
          "name": "stdout"
        },
        {
          "output_type": "stream",
          "text": [
            "[I 2020-07-13 12:08:59,826] Finished trial#243 with value: 0.9870994590095713 with parameters: {'combos': 78, 'knn_features': 4, 'knn_Scaler': 'stand', 'knn_nn': 8, 'knn_p': 1, 'rf_features': 19, 'rf_Scaler': 'log', 'rf_max_depth': 62, 'rf_ne': 153, 'rf_cw': 'balanced_subsample', 'xgb_features': 9, 'xgb_Scaler': 'stand', 'booster': 'gbtree', 'lambda': 0.0017061926916333867, 'alpha': 0.1375277063880303, 'max_depth': 36, 'eta': 3.323710918678312e-07, 'gamma': 0.0017400338200194852, 'grow_policy': 'depthwise'}. Best is trial#153 with value: 0.9983354140657512.\n"
          ],
          "name": "stderr"
        },
        {
          "output_type": "stream",
          "text": [
            "('knn', 'gnb', 'et')\n"
          ],
          "name": "stdout"
        },
        {
          "output_type": "stream",
          "text": [
            "[I 2020-07-13 12:09:00,671] Finished trial#244 with value: 0.9942779858510196 with parameters: {'combos': 62, 'knn_features': 3, 'knn_Scaler': 'log', 'knn_nn': 9, 'knn_p': 1, 'gnb_features': 7, 'gnb_Scaler': 'stand', 'gnb_vs': 0.008650653416314496, 'et_features': 7, 'et_Scaler': 'log', 'et_max_depth': 94, 'et_ne': 207}. Best is trial#153 with value: 0.9983354140657512.\n"
          ],
          "name": "stderr"
        },
        {
          "output_type": "stream",
          "text": [
            "('knn', 'qda', 'ada')\n"
          ],
          "name": "stdout"
        },
        {
          "output_type": "stream",
          "text": [
            "/usr/local/lib/python3.6/dist-packages/sklearn/discriminant_analysis.py:691: UserWarning:\n",
            "\n",
            "Variables are collinear\n",
            "\n",
            "[I 2020-07-13 12:09:02,223] Finished trial#245 with value: 0.9964627548897212 with parameters: {'combos': 66, 'knn_features': 10, 'knn_Scaler': 'stand', 'knn_nn': 5, 'knn_p': 2, 'qda_features': 13, 'qda_Scaler': 'stand', 'qda_rp': 1.1509212058146819e-15, 'ada_features': 17, 'ada_Scaler': 'log', 'ada_ne': 280, 'ada_lr': 0.45723305445734036, 'ada_algo': 'SAMME.R'}. Best is trial#153 with value: 0.9983354140657512.\n"
          ],
          "name": "stderr"
        },
        {
          "output_type": "stream",
          "text": [
            "('knn', 'ada', 'et')\n"
          ],
          "name": "stdout"
        },
        {
          "output_type": "stream",
          "text": [
            "[I 2020-07-13 12:09:04,089] Finished trial#246 with value: 0.9927174365376613 with parameters: {'combos': 71, 'knn_features': 6, 'knn_Scaler': 'log', 'knn_nn': 7, 'knn_p': 1, 'ada_features': 18, 'ada_Scaler': 'log', 'ada_ne': 256, 'ada_lr': 0.1824684800446198, 'ada_algo': 'SAMME.R', 'et_features': 16, 'et_Scaler': 'minmax', 'et_max_depth': 31, 'et_ne': 384}. Best is trial#153 with value: 0.9983354140657512.\n"
          ],
          "name": "stderr"
        },
        {
          "output_type": "stream",
          "text": [
            "('knn', 'et', 'rf')\n"
          ],
          "name": "stdout"
        },
        {
          "output_type": "stream",
          "text": [
            "[I 2020-07-13 12:09:05,935] Finished trial#247 with value: 0.9856429463171036 with parameters: {'combos': 75, 'knn_features': 8, 'knn_Scaler': 'stand', 'knn_nn': 3, 'knn_p': 1, 'et_features': 9, 'et_Scaler': 'stand', 'et_max_depth': 39, 'et_ne': 69, 'rf_features': 13, 'rf_Scaler': 'log', 'rf_max_depth': 10, 'rf_ne': 388, 'rf_cw': 'balanced_subsample'}. Best is trial#153 with value: 0.9983354140657512.\n"
          ],
          "name": "stderr"
        },
        {
          "output_type": "stream",
          "text": [
            "('svc', 'gp', 'gnb')\n"
          ],
          "name": "stdout"
        },
        {
          "output_type": "stream",
          "text": [
            "[I 2020-07-13 12:09:08,307] Finished trial#248 with value: 0.9904286308780691 with parameters: {'combos': 81, 'svc_features': 4, 'svc_Scaler': 'minmax', 'svc_kern': 'sigmoid', 'svc_C': 0.6568961598896869, 'svc_deg': 9, 'gp_features': 7, 'gp_Scaler': 'stand', 'gp_a': 0.5951842403459261, 'gp_kern': 4, 'gnb_features': 16, 'gnb_Scaler': 'stand', 'gnb_vs': 0.06095964783779552}. Best is trial#153 with value: 0.9983354140657512.\n"
          ],
          "name": "stderr"
        },
        {
          "output_type": "stream",
          "text": [
            "('knn', 'qda', 'ada')\n"
          ],
          "name": "stdout"
        },
        {
          "output_type": "stream",
          "text": [
            "/usr/local/lib/python3.6/dist-packages/sklearn/discriminant_analysis.py:691: UserWarning:\n",
            "\n",
            "Variables are collinear\n",
            "\n",
            "[I 2020-07-13 12:09:09,691] Finished trial#249 with value: 0.990428630878069 with parameters: {'combos': 66, 'knn_features': 5, 'knn_Scaler': 'log', 'knn_nn': 4, 'knn_p': 1, 'qda_features': 9, 'qda_Scaler': 'stand', 'qda_rp': 5.639410140285803e-18, 'ada_features': 16, 'ada_Scaler': 'minmax', 'ada_ne': 225, 'ada_lr': 0.41574883967995235, 'ada_algo': 'SAMME.R'}. Best is trial#153 with value: 0.9983354140657512.\n"
          ],
          "name": "stderr"
        },
        {
          "output_type": "stream",
          "text": [
            "('knn', 'gp', 'gbm')\n"
          ],
          "name": "stdout"
        },
        {
          "output_type": "stream",
          "text": [
            "[I 2020-07-13 12:09:11,909] Finished trial#250 with value: 0.9929255097794424 with parameters: {'combos': 59, 'knn_features': 4, 'knn_Scaler': 'stand', 'knn_nn': 1, 'knn_p': 1, 'gp_features': 3, 'gp_Scaler': 'stand', 'gp_a': 0.013519768820562952, 'gp_kern': 3, 'gbm_features': 16, 'gbm_Scaler': 'log', 'lambda_l1': 3.274190690488809e-05, 'lambda_l2': 9.829825138148074e-05, 'num_leaves': 62, 'feature_fraction': 0.9067535540160476, 'bagging_fraction': 0.49616940349371297, 'bagging_freq': 7, 'min_child_samples': 17}. Best is trial#153 with value: 0.9983354140657512.\n"
          ],
          "name": "stderr"
        },
        {
          "output_type": "stream",
          "text": [
            "('knn', 'qda', 'xgb')\n"
          ],
          "name": "stdout"
        },
        {
          "output_type": "stream",
          "text": [
            "/usr/local/lib/python3.6/dist-packages/sklearn/discriminant_analysis.py:691: UserWarning:\n",
            "\n",
            "Variables are collinear\n",
            "\n",
            "[I 2020-07-13 12:09:12,575] Finished trial#251 with value: 0.9890761548064918 with parameters: {'combos': 69, 'knn_features': 5, 'knn_Scaler': 'log', 'knn_nn': 6, 'knn_p': 1, 'qda_features': 11, 'qda_Scaler': 'stand', 'qda_rp': 5.848859222079318e-14, 'xgb_features': 10, 'xgb_Scaler': 'minmax', 'booster': 'gbtree', 'lambda': 0.04683993578435636, 'alpha': 0.9822540872535124, 'max_depth': 20, 'eta': 8.513615645743648e-07, 'gamma': 8.721081859715257e-05, 'grow_policy': 'depthwise'}. Best is trial#153 with value: 0.9983354140657512.\n"
          ],
          "name": "stderr"
        },
        {
          "output_type": "stream",
          "text": [
            "('knn', 'ada', 'xgb')\n"
          ],
          "name": "stdout"
        },
        {
          "output_type": "stream",
          "text": [
            "[I 2020-07-13 12:09:14,040] Finished trial#252 with value: 0.9970869746150646 with parameters: {'combos': 73, 'knn_features': 11, 'knn_Scaler': 'stand', 'knn_nn': 9, 'knn_p': 1, 'ada_features': 19, 'ada_Scaler': 'log', 'ada_ne': 243, 'ada_lr': 0.47453155761944227, 'ada_algo': 'SAMME.R', 'xgb_features': 12, 'xgb_Scaler': 'minmax', 'booster': 'gbtree', 'lambda': 0.013470949104672052, 'alpha': 0.06502751445353658, 'max_depth': 26, 'eta': 3.0595085006759005e-06, 'gamma': 0.007514688374009168, 'grow_policy': 'depthwise'}. Best is trial#153 with value: 0.9983354140657512.\n"
          ],
          "name": "stderr"
        },
        {
          "output_type": "stream",
          "text": [
            "('knn', 'gnb', 'et')\n"
          ],
          "name": "stdout"
        },
        {
          "output_type": "stream",
          "text": [
            "[I 2020-07-13 12:09:14,821] Finished trial#253 with value: 0.9897003745318352 with parameters: {'combos': 62, 'knn_features': 10, 'knn_Scaler': 'log', 'knn_nn': 8, 'knn_p': 1, 'gnb_features': 11, 'gnb_Scaler': 'minmax', 'gnb_vs': 4.54976042007842e-05, 'et_features': 13, 'et_Scaler': 'minmax', 'et_max_depth': 55, 'et_ne': 146}. Best is trial#153 with value: 0.9983354140657512.\n"
          ],
          "name": "stderr"
        },
        {
          "output_type": "stream",
          "text": [
            "('knn', 'rf', 'xgb')\n"
          ],
          "name": "stdout"
        },
        {
          "output_type": "stream",
          "text": [
            "[I 2020-07-13 12:09:15,788] Finished trial#254 with value: 0.987411568872243 with parameters: {'combos': 78, 'knn_features': 2, 'knn_Scaler': 'stand', 'knn_nn': 2, 'knn_p': 1, 'rf_features': 10, 'rf_Scaler': 'log', 'rf_max_depth': 56, 'rf_ne': 71, 'rf_cw': 'balanced', 'xgb_features': 8, 'xgb_Scaler': 'minmax', 'booster': 'gblinear', 'lambda': 0.306666746485492, 'alpha': 0.40022322576585506}. Best is trial#153 with value: 0.9983354140657512.\n"
          ],
          "name": "stderr"
        },
        {
          "output_type": "stream",
          "text": [
            "('knn', 'gp', 'et')\n"
          ],
          "name": "stdout"
        },
        {
          "output_type": "stream",
          "text": [
            "[I 2020-07-13 12:09:18,386] Finished trial#255 with value: 0.993965875988348 with parameters: {'combos': 56, 'knn_features': 6, 'knn_Scaler': 'log', 'knn_nn': 6, 'knn_p': 1, 'gp_features': 12, 'gp_Scaler': 'log', 'gp_a': 0.00554354594618179, 'gp_kern': 10, 'et_features': 6, 'et_Scaler': 'log', 'et_max_depth': 64, 'et_ne': 341}. Best is trial#153 with value: 0.9983354140657512.\n"
          ],
          "name": "stderr"
        },
        {
          "output_type": "stream",
          "text": [
            "('knn', 'ada', 'rf')\n"
          ],
          "name": "stdout"
        },
        {
          "output_type": "stream",
          "text": [
            "[I 2020-07-13 12:09:20,495] Finished trial#256 with value: 0.9962546816479401 with parameters: {'combos': 72, 'knn_features': 5, 'knn_Scaler': 'stand', 'knn_nn': 5, 'knn_p': 1, 'ada_features': 17, 'ada_Scaler': 'log', 'ada_ne': 266, 'ada_lr': 0.38637761935494946, 'ada_algo': 'SAMME', 'rf_features': 12, 'rf_Scaler': 'stand', 'rf_max_depth': 15, 'rf_ne': 183, 'rf_cw': 'balanced_subsample'}. Best is trial#153 with value: 0.9983354140657512.\n"
          ],
          "name": "stderr"
        },
        {
          "output_type": "stream",
          "text": [
            "('knn', 'gnb', 'gbm')\n"
          ],
          "name": "stdout"
        },
        {
          "output_type": "stream",
          "text": [
            "[I 2020-07-13 12:09:21,229] Finished trial#257 with value: 0.9964627548897212 with parameters: {'combos': 65, 'knn_features': 4, 'knn_Scaler': 'log', 'knn_nn': 7, 'knn_p': 1, 'gnb_features': 5, 'gnb_Scaler': 'stand', 'gnb_vs': 0.2765127873080506, 'gbm_features': 12, 'gbm_Scaler': 'log', 'lambda_l1': 0.0003937493196917981, 'lambda_l2': 0.1365029329740931, 'num_leaves': 99, 'feature_fraction': 0.7263039115763066, 'bagging_fraction': 0.5551805559455689, 'bagging_freq': 5, 'min_child_samples': 16}. Best is trial#153 with value: 0.9983354140657512.\n"
          ],
          "name": "stderr"
        },
        {
          "output_type": "stream",
          "text": [
            "('knn', 'qda', 'xgb')\n"
          ],
          "name": "stdout"
        },
        {
          "output_type": "stream",
          "text": [
            "/usr/local/lib/python3.6/dist-packages/sklearn/discriminant_analysis.py:691: UserWarning:\n",
            "\n",
            "Variables are collinear\n",
            "\n",
            "[I 2020-07-13 12:09:21,899] Finished trial#258 with value: 0.9865792759051185 with parameters: {'combos': 69, 'knn_features': 9, 'knn_Scaler': 'stand', 'knn_nn': 3, 'knn_p': 1, 'qda_features': 14, 'qda_Scaler': 'stand', 'qda_rp': 2.4606581342722584e-19, 'xgb_features': 7, 'xgb_Scaler': 'minmax', 'booster': 'gbtree', 'lambda': 0.11550640108991762, 'alpha': 0.004525607212705087, 'max_depth': 8, 'eta': 2.699703169159264e-05, 'gamma': 0.000190904009249583, 'grow_policy': 'depthwise'}. Best is trial#153 with value: 0.9983354140657512.\n"
          ],
          "name": "stderr"
        },
        {
          "output_type": "stream",
          "text": [
            "('knn', 'et', 'rf')\n"
          ],
          "name": "stdout"
        },
        {
          "output_type": "stream",
          "text": [
            "[I 2020-07-13 12:09:23,172] Finished trial#259 with value: 0.9870994590095714 with parameters: {'combos': 75, 'knn_features': 7, 'knn_Scaler': 'log', 'knn_nn': 4, 'knn_p': 1, 'et_features': 3, 'et_Scaler': 'stand', 'et_max_depth': 10, 'et_ne': 189, 'rf_features': 8, 'rf_Scaler': 'minmax', 'rf_max_depth': 35, 'rf_ne': 114, 'rf_cw': 'balanced_subsample'}. Best is trial#153 with value: 0.9983354140657512.\n"
          ],
          "name": "stderr"
        },
        {
          "output_type": "stream",
          "text": [
            "('knn', 'gp', 'gnb')\n"
          ],
          "name": "stdout"
        },
        {
          "output_type": "stream",
          "text": [
            "[I 2020-07-13 12:09:26,157] Finished trial#260 with value: 0.9927174365376613 with parameters: {'combos': 53, 'knn_features': 4, 'knn_Scaler': 'stand', 'knn_nn': 8, 'knn_p': 1, 'gp_features': 14, 'gp_Scaler': 'minmax', 'gp_a': 0.03320819987490445, 'gp_kern': 8, 'gnb_features': 14, 'gnb_Scaler': 'stand', 'gnb_vs': 0.0017102241000760553}. Best is trial#153 with value: 0.9983354140657512.\n"
          ],
          "name": "stderr"
        },
        {
          "output_type": "stream",
          "text": [
            "('knn', 'gnb', 'xgb')\n"
          ],
          "name": "stdout"
        },
        {
          "output_type": "stream",
          "text": [
            "[I 2020-07-13 12:09:26,814] Finished trial#261 with value: 0.9939658759883478 with parameters: {'combos': 64, 'knn_features': 5, 'knn_Scaler': 'log', 'knn_nn': 2, 'knn_p': 1, 'gnb_features': 3, 'gnb_Scaler': 'minmax', 'gnb_vs': 0.017537929735245043, 'xgb_features': 14, 'xgb_Scaler': 'stand', 'booster': 'gbtree', 'lambda': 0.002475039174309437, 'alpha': 0.0018704141235633515, 'max_depth': 13, 'eta': 7.785681712344115e-08, 'gamma': 0.0287182249106366, 'grow_policy': 'depthwise'}. Best is trial#153 with value: 0.9983354140657512.\n"
          ],
          "name": "stderr"
        },
        {
          "output_type": "stream",
          "text": [
            "('knn', 'qda', 'gbm')\n"
          ],
          "name": "stdout"
        },
        {
          "output_type": "stream",
          "text": [
            "/usr/local/lib/python3.6/dist-packages/sklearn/discriminant_analysis.py:691: UserWarning:\n",
            "\n",
            "Variables are collinear\n",
            "\n",
            "[I 2020-07-13 12:09:27,377] Setting status of trial#262 as TrialState.PRUNED. Trial was pruned at iteration 11.\n"
          ],
          "name": "stderr"
        },
        {
          "output_type": "stream",
          "text": [
            "('knn', 'gnb', 'qda')\n"
          ],
          "name": "stdout"
        },
        {
          "output_type": "stream",
          "text": [
            "/usr/local/lib/python3.6/dist-packages/sklearn/discriminant_analysis.py:691: UserWarning:\n",
            "\n",
            "Variables are collinear\n",
            "\n",
            "[I 2020-07-13 12:09:28,136] Finished trial#263 with value: 0.9905326674989596 with parameters: {'combos': 60, 'knn_features': 7, 'knn_Scaler': 'log', 'knn_nn': 5, 'knn_p': 1, 'gnb_features': 9, 'gnb_Scaler': 'stand', 'gnb_vs': 2.836673186039859e-13, 'qda_features': 6, 'qda_Scaler': 'stand', 'qda_rp': 1.0105447330922665e-12}. Best is trial#153 with value: 0.9983354140657512.\n"
          ],
          "name": "stderr"
        },
        {
          "output_type": "stream",
          "text": [
            "('knn', 'rf', 'xgb')\n"
          ],
          "name": "stdout"
        },
        {
          "output_type": "stream",
          "text": [
            "[I 2020-07-13 12:09:29,005] Finished trial#264 with value: 0.9867873491468997 with parameters: {'combos': 78, 'knn_features': 18, 'knn_Scaler': 'stand', 'knn_nn': 7, 'knn_p': 1, 'rf_features': 14, 'rf_Scaler': 'log', 'rf_max_depth': 51, 'rf_ne': 18, 'rf_cw': 'balanced_subsample', 'xgb_features': 4, 'xgb_Scaler': 'minmax', 'booster': 'gbtree', 'lambda': 0.0007443743463833912, 'alpha': 0.2194163189856708, 'max_depth': 10, 'eta': 2.1174911520345244e-08, 'gamma': 0.0005198347475840497, 'grow_policy': 'depthwise'}. Best is trial#153 with value: 0.9983354140657512.\n"
          ],
          "name": "stderr"
        },
        {
          "output_type": "stream",
          "text": [
            "('knn', 'qda', 'et')\n"
          ],
          "name": "stdout"
        },
        {
          "output_type": "stream",
          "text": [
            "/usr/local/lib/python3.6/dist-packages/sklearn/discriminant_analysis.py:691: UserWarning:\n",
            "\n",
            "Variables are collinear\n",
            "\n",
            "[I 2020-07-13 12:09:29,921] Finished trial#265 with value: 0.9952143154390346 with parameters: {'combos': 67, 'knn_features': 8, 'knn_Scaler': 'log', 'knn_nn': 10, 'knn_p': 1, 'qda_features': 12, 'qda_Scaler': 'stand', 'qda_rp': 2.848008931718237e-17, 'et_features': 2, 'et_Scaler': 'stand', 'et_max_depth': 23, 'et_ne': 258}. Best is trial#153 with value: 0.9983354140657512.\n"
          ],
          "name": "stderr"
        },
        {
          "output_type": "stream",
          "text": [
            "('knn', 'ada', 'gbm')\n"
          ],
          "name": "stdout"
        },
        {
          "output_type": "stream",
          "text": [
            "[I 2020-07-13 12:09:31,574] Finished trial#266 with value: 0.997919267582189 with parameters: {'combos': 74, 'knn_features': 10, 'knn_Scaler': 'stand', 'knn_nn': 4, 'knn_p': 1, 'ada_features': 16, 'ada_Scaler': 'log', 'ada_ne': 286, 'ada_lr': 0.4417255239932082, 'ada_algo': 'SAMME.R', 'gbm_features': 13, 'gbm_Scaler': 'log', 'lambda_l1': 1.508953021870398e-05, 'lambda_l2': 0.0022071420662196817, 'num_leaves': 160, 'feature_fraction': 0.7775684755944238, 'bagging_fraction': 0.42134496051950343, 'bagging_freq': 7, 'min_child_samples': 12}. Best is trial#153 with value: 0.9983354140657512.\n"
          ],
          "name": "stderr"
        },
        {
          "output_type": "stream",
          "text": [
            "('knn', 'et', 'xgb')\n"
          ],
          "name": "stdout"
        },
        {
          "output_type": "stream",
          "text": [
            "[I 2020-07-13 12:09:32,775] Finished trial#267 with value: 0.9887640449438202 with parameters: {'combos': 76, 'knn_features': 10, 'knn_Scaler': 'stand', 'knn_nn': 5, 'knn_p': 1, 'et_features': 19, 'et_Scaler': 'minmax', 'et_max_depth': 100, 'et_ne': 495, 'xgb_features': 13, 'xgb_Scaler': 'minmax', 'booster': 'gbtree', 'lambda': 0.004428257080564575, 'alpha': 0.011858740017284939, 'max_depth': 33, 'eta': 8.95123889523295e-05, 'gamma': 0.07097633384662796, 'grow_policy': 'depthwise'}. Best is trial#153 with value: 0.9983354140657512.\n"
          ],
          "name": "stderr"
        },
        {
          "output_type": "stream",
          "text": [
            "('knn', 'gnb', 'rf')\n"
          ],
          "name": "stdout"
        },
        {
          "output_type": "stream",
          "text": [
            "[I 2020-07-13 12:09:34,308] Finished trial#268 with value: 0.9914689970869747 with parameters: {'combos': 63, 'knn_features': 10, 'knn_Scaler': 'stand', 'knn_nn': 3, 'knn_p': 1, 'gnb_features': 8, 'gnb_Scaler': 'stand', 'gnb_vs': 5.758608604066263e-06, 'rf_features': 5, 'rf_Scaler': 'log', 'rf_max_depth': 45, 'rf_ne': 294, 'rf_cw': 'balanced_subsample'}. Best is trial#153 with value: 0.9983354140657512.\n"
          ],
          "name": "stderr"
        },
        {
          "output_type": "stream",
          "text": [
            "('knn', 'gp', 'xgb')\n"
          ],
          "name": "stdout"
        },
        {
          "output_type": "stream",
          "text": [
            "[I 2020-07-13 12:09:37,617] Finished trial#269 with value: 0.9937578027465668 with parameters: {'combos': 58, 'knn_features': 9, 'knn_Scaler': 'stand', 'knn_nn': 4, 'knn_p': 1, 'gp_features': 6, 'gp_Scaler': 'stand', 'gp_a': 0.007482609742820792, 'gp_kern': 7, 'xgb_features': 11, 'xgb_Scaler': 'minmax', 'booster': 'gbtree', 'lambda': 0.022474559738179387, 'alpha': 0.5806234087008522, 'max_depth': 41, 'eta': 8.749502858162183e-06, 'gamma': 0.0033715309380550496, 'grow_policy': 'depthwise'}. Best is trial#153 with value: 0.9983354140657512.\n"
          ],
          "name": "stderr"
        },
        {
          "output_type": "stream",
          "text": [
            "('svc', 'gp', 'et')\n"
          ],
          "name": "stdout"
        },
        {
          "output_type": "stream",
          "text": [
            "[I 2020-07-13 12:09:41,236] Finished trial#270 with value: 0.994173949230129 with parameters: {'combos': 84, 'svc_features': 14, 'svc_Scaler': 'log', 'svc_kern': 'rbf', 'svc_C': 0.0008108631223982764, 'svc_deg': 4, 'gp_features': 16, 'gp_Scaler': 'stand', 'gp_a': 0.0031690710581798853, 'gp_kern': 5, 'et_features': 12, 'et_Scaler': 'log', 'et_max_depth': 48, 'et_ne': 425}. Best is trial#153 with value: 0.9983354140657512.\n"
          ],
          "name": "stderr"
        },
        {
          "output_type": "stream",
          "text": [
            "('knn', 'ada', 'rf')\n"
          ],
          "name": "stdout"
        },
        {
          "output_type": "stream",
          "text": [
            "[I 2020-07-13 12:09:43,022] Finished trial#271 with value: 0.9956304619225967 with parameters: {'combos': 72, 'knn_features': 16, 'knn_Scaler': 'log', 'knn_nn': 4, 'knn_p': 1, 'ada_features': 16, 'ada_Scaler': 'log', 'ada_ne': 295, 'ada_lr': 0.691622582051593, 'ada_algo': 'SAMME.R', 'rf_features': 5, 'rf_Scaler': 'stand', 'rf_max_depth': 8, 'rf_ne': 49, 'rf_cw': 'balanced'}. Best is trial#153 with value: 0.9983354140657512.\n"
          ],
          "name": "stderr"
        },
        {
          "output_type": "stream",
          "text": [
            "('knn', 'qda', 'rf')\n"
          ],
          "name": "stdout"
        },
        {
          "output_type": "stream",
          "text": [
            "/usr/local/lib/python3.6/dist-packages/sklearn/discriminant_analysis.py:691: UserWarning:\n",
            "\n",
            "Variables are collinear\n",
            "\n",
            "[I 2020-07-13 12:09:44,228] Finished trial#272 with value: 0.9866833125260092 with parameters: {'combos': 68, 'knn_features': 9, 'knn_Scaler': 'stand', 'knn_nn': 1, 'knn_p': 1, 'qda_features': 8, 'qda_Scaler': 'stand', 'qda_rp': 3.7809321913895296e-18, 'rf_features': 15, 'rf_Scaler': 'log', 'rf_max_depth': 80, 'rf_ne': 165, 'rf_cw': 'balanced_subsample'}. Best is trial#153 with value: 0.9983354140657512.\n"
          ],
          "name": "stderr"
        },
        {
          "output_type": "stream",
          "text": [
            "('knn', 'rf', 'gbm')\n"
          ],
          "name": "stdout"
        },
        {
          "output_type": "stream",
          "text": [
            "[I 2020-07-13 12:09:45,805] Finished trial#273 with value: 0.9887640449438203 with parameters: {'combos': 79, 'knn_features': 11, 'knn_Scaler': 'stand', 'knn_nn': 3, 'knn_p': 1, 'rf_features': 18, 'rf_Scaler': 'minmax', 'rf_max_depth': 89, 'rf_ne': 354, 'rf_cw': 'balanced', 'gbm_features': 13, 'gbm_Scaler': 'log', 'lambda_l1': 1.4357165872313931e-05, 'lambda_l2': 0.00184383959696771, 'num_leaves': 130, 'feature_fraction': 0.7817767985209102, 'bagging_fraction': 0.44834734778683144, 'bagging_freq': 7, 'min_child_samples': 12}. Best is trial#153 with value: 0.9983354140657512.\n"
          ],
          "name": "stderr"
        },
        {
          "output_type": "stream",
          "text": [
            "('knn', 'ada', 'gbm')\n"
          ],
          "name": "stdout"
        },
        {
          "output_type": "stream",
          "text": [
            "[I 2020-07-13 12:09:47,472] Finished trial#274 with value: 0.9975031210986267 with parameters: {'combos': 74, 'knn_features': 10, 'knn_Scaler': 'stand', 'knn_nn': 3, 'knn_p': 1, 'ada_features': 18, 'ada_Scaler': 'log', 'ada_ne': 281, 'ada_lr': 0.3461695954578522, 'ada_algo': 'SAMME.R', 'gbm_features': 11, 'gbm_Scaler': 'log', 'lambda_l1': 5.7086347601366e-06, 'lambda_l2': 0.00041307016846332134, 'num_leaves': 160, 'feature_fraction': 0.8238655517285898, 'bagging_fraction': 0.4155637750997255, 'bagging_freq': 7, 'min_child_samples': 14}. Best is trial#153 with value: 0.9983354140657512.\n"
          ],
          "name": "stderr"
        },
        {
          "output_type": "stream",
          "text": [
            "('knn', 'gnb', 'et')\n"
          ],
          "name": "stdout"
        },
        {
          "output_type": "stream",
          "text": [
            "[I 2020-07-13 12:09:48,422] Finished trial#275 with value: 0.9937578027465668 with parameters: {'combos': 62, 'knn_features': 10, 'knn_Scaler': 'stand', 'knn_nn': 4, 'knn_p': 1, 'gnb_features': 1, 'gnb_Scaler': 'log', 'gnb_vs': 2.9222802635036883e-07, 'et_features': 15, 'et_Scaler': 'stand', 'et_max_depth': 15, 'et_ne': 299}. Best is trial#153 with value: 0.9983354140657512.\n"
          ],
          "name": "stderr"
        },
        {
          "output_type": "stream",
          "text": [
            "('knn', 'qda', 'gbm')\n"
          ],
          "name": "stdout"
        },
        {
          "output_type": "stream",
          "text": [
            "/usr/local/lib/python3.6/dist-packages/sklearn/discriminant_analysis.py:691: UserWarning:\n",
            "\n",
            "Variables are collinear\n",
            "\n",
            "[I 2020-07-13 12:09:49,184] Finished trial#276 with value: 0.9935497295047857 with parameters: {'combos': 70, 'knn_features': 11, 'knn_Scaler': 'stand', 'knn_nn': 8, 'knn_p': 1, 'qda_features': 10, 'qda_Scaler': 'stand', 'qda_rp': 8.310465966720752e-12, 'gbm_features': 11, 'gbm_Scaler': 'log', 'lambda_l1': 4.464318945345005e-05, 'lambda_l2': 0.0003098369282408409, 'num_leaves': 163, 'feature_fraction': 0.6919035650208427, 'bagging_fraction': 0.424934375815362, 'bagging_freq': 6, 'min_child_samples': 11}. Best is trial#153 with value: 0.9983354140657512.\n"
          ],
          "name": "stderr"
        },
        {
          "output_type": "stream",
          "text": [
            "('knn', 'ada', 'xgb')\n"
          ],
          "name": "stdout"
        },
        {
          "output_type": "stream",
          "text": [
            "[I 2020-07-13 12:09:50,761] Finished trial#277 with value: 0.9972950478568456 with parameters: {'combos': 73, 'knn_features': 10, 'knn_Scaler': 'stand', 'knn_nn': 2, 'knn_p': 1, 'ada_features': 19, 'ada_Scaler': 'log', 'ada_ne': 282, 'ada_lr': 0.34153724401945285, 'ada_algo': 'SAMME.R', 'xgb_features': 16, 'xgb_Scaler': 'minmax', 'booster': 'gbtree', 'lambda': 1.989126871292818e-05, 'alpha': 0.02717599962172069, 'max_depth': 1, 'eta': 1.5400998284003166e-06, 'gamma': 0.013902792777945677, 'grow_policy': 'depthwise'}. Best is trial#153 with value: 0.9983354140657512.\n"
          ],
          "name": "stderr"
        },
        {
          "output_type": "stream",
          "text": [
            "('svc', 'gp', 'qda')\n"
          ],
          "name": "stdout"
        },
        {
          "output_type": "stream",
          "text": [
            "/usr/local/lib/python3.6/dist-packages/sklearn/discriminant_analysis.py:691: UserWarning:\n",
            "\n",
            "Variables are collinear\n",
            "\n",
            "[I 2020-07-13 12:09:52,822] Finished trial#278 with value: 0.9904286308780691 with parameters: {'combos': 82, 'svc_features': 6, 'svc_Scaler': 'stand', 'svc_kern': 'poly', 'svc_C': 0.0029679339352397106, 'svc_deg': 5, 'gp_features': 8, 'gp_Scaler': 'log', 'gp_a': 1.3630579039313986, 'gp_kern': 2, 'qda_features': 14, 'qda_Scaler': 'stand', 'qda_rp': 1.1368014536278593e-20}. Best is trial#153 with value: 0.9983354140657512.\n"
          ],
          "name": "stderr"
        },
        {
          "output_type": "stream",
          "text": [
            "('knn', 'et', 'xgb')\n"
          ],
          "name": "stdout"
        },
        {
          "output_type": "stream",
          "text": [
            "[I 2020-07-13 12:09:53,488] Finished trial#279 with value: 0.9878277153558053 with parameters: {'combos': 76, 'knn_features': 10, 'knn_Scaler': 'stand', 'knn_nn': 2, 'knn_p': 1, 'et_features': 20, 'et_Scaler': 'minmax', 'et_max_depth': 97, 'et_ne': 1, 'xgb_features': 15, 'xgb_Scaler': 'stand', 'booster': 'gbtree', 'lambda': 0.00012119175054421377, 'alpha': 0.023864213236923698, 'max_depth': 94, 'eta': 1.3970976288195078e-06, 'gamma': 0.0121705838478044, 'grow_policy': 'depthwise'}. Best is trial#153 with value: 0.9983354140657512.\n"
          ],
          "name": "stderr"
        },
        {
          "output_type": "stream",
          "text": [
            "('knn', 'qda', 'ada')\n"
          ],
          "name": "stdout"
        },
        {
          "output_type": "stream",
          "text": [
            "/usr/local/lib/python3.6/dist-packages/sklearn/discriminant_analysis.py:691: UserWarning:\n",
            "\n",
            "Variables are collinear\n",
            "\n",
            "[I 2020-07-13 12:09:55,099] Finished trial#280 with value: 0.9777361631294216 with parameters: {'combos': 66, 'knn_features': 9, 'knn_Scaler': 'stand', 'knn_nn': 9, 'knn_p': 1, 'qda_features': 5, 'qda_Scaler': 'minmax', 'qda_rp': 1.616722043894266e-14, 'ada_features': 15, 'ada_Scaler': 'log', 'ada_ne': 302, 'ada_lr': 0.5552599313164757, 'ada_algo': 'SAMME.R'}. Best is trial#153 with value: 0.9983354140657512.\n"
          ],
          "name": "stderr"
        },
        {
          "output_type": "stream",
          "text": [
            "('knn', 'ada', 'gbm')\n"
          ],
          "name": "stdout"
        },
        {
          "output_type": "stream",
          "text": [
            "[I 2020-07-13 12:09:56,759] Finished trial#281 with value: 0.9972950478568456 with parameters: {'combos': 74, 'knn_features': 10, 'knn_Scaler': 'stand', 'knn_nn': 2, 'knn_p': 1, 'ada_features': 19, 'ada_Scaler': 'log', 'ada_ne': 272, 'ada_lr': 0.46142321456034874, 'ada_algo': 'SAMME.R', 'gbm_features': 12, 'gbm_Scaler': 'log', 'lambda_l1': 0.0001066300970378064, 'lambda_l2': 0.0006623012766822873, 'num_leaves': 142, 'feature_fraction': 0.8221414034184, 'bagging_fraction': 0.40482527169449595, 'bagging_freq': 7, 'min_child_samples': 14}. Best is trial#153 with value: 0.9983354140657512.\n"
          ],
          "name": "stderr"
        },
        {
          "output_type": "stream",
          "text": [
            "('svc', 'gnb', 'qda')\n"
          ],
          "name": "stdout"
        },
        {
          "output_type": "stream",
          "text": [
            "/usr/local/lib/python3.6/dist-packages/sklearn/discriminant_analysis.py:691: UserWarning:\n",
            "\n",
            "Variables are collinear\n",
            "\n",
            "[I 2020-07-13 12:09:57,351] Finished trial#282 with value: 0.9893882646691635 with parameters: {'combos': 88, 'svc_features': 1, 'svc_Scaler': 'minmax', 'svc_kern': 'linear', 'svc_C': 0.02452080921225827, 'svc_deg': 6, 'gnb_features': 6, 'gnb_Scaler': 'minmax', 'gnb_vs': 0.0002784530127518812, 'qda_features': 15, 'qda_Scaler': 'log', 'qda_rp': 1.9478990602688377e-13}. Best is trial#153 with value: 0.9983354140657512.\n"
          ],
          "name": "stderr"
        },
        {
          "output_type": "stream",
          "text": [
            "('knn', 'ada', 'rf')\n"
          ],
          "name": "stdout"
        },
        {
          "output_type": "stream",
          "text": [
            "[I 2020-07-13 12:09:59,243] Finished trial#283 with value: 0.9947981689554724 with parameters: {'combos': 72, 'knn_features': 10, 'knn_Scaler': 'stand', 'knn_nn': 2, 'knn_p': 1, 'ada_features': 19, 'ada_Scaler': 'log', 'ada_ne': 277, 'ada_lr': 0.3127055990089079, 'ada_algo': 'SAMME.R', 'rf_features': 1, 'rf_Scaler': 'stand', 'rf_max_depth': 4, 'rf_ne': 93, 'rf_cw': 'balanced'}. Best is trial#153 with value: 0.9983354140657512.\n"
          ],
          "name": "stderr"
        },
        {
          "output_type": "stream",
          "text": [
            "('knn', 'xgb', 'gbm')\n"
          ],
          "name": "stdout"
        },
        {
          "output_type": "stream",
          "text": [
            "[I 2020-07-13 12:10:00,057] Finished trial#284 with value: 0.9947981689554724 with parameters: {'combos': 80, 'knn_features': 12, 'knn_Scaler': 'log', 'knn_nn': 6, 'knn_p': 1, 'xgb_features': 6, 'xgb_Scaler': 'minmax', 'booster': 'gbtree', 'lambda': 0.546221708210445, 'alpha': 0.07642498307435691, 'max_depth': 15, 'eta': 6.012912680375109e-07, 'gamma': 0.22818259012951986, 'grow_policy': 'depthwise', 'gbm_features': 9, 'gbm_Scaler': 'log', 'lambda_l1': 5.572016037953851e-06, 'lambda_l2': 0.0002297081223872687, 'num_leaves': 121, 'feature_fraction': 0.8404759796984342, 'bagging_fraction': 0.47066210209146736, 'bagging_freq': 7, 'min_child_samples': 13}. Best is trial#153 with value: 0.9983354140657512.\n"
          ],
          "name": "stderr"
        },
        {
          "output_type": "stream",
          "text": [
            "('knn', 'gp', 'et')\n"
          ],
          "name": "stdout"
        },
        {
          "output_type": "stream",
          "text": [
            "[I 2020-07-13 12:10:02,778] Finished trial#285 with value: 0.9927174365376613 with parameters: {'combos': 56, 'knn_features': 11, 'knn_Scaler': 'stand', 'knn_nn': 3, 'knn_p': 1, 'gp_features': 11, 'gp_Scaler': 'minmax', 'gp_a': 4.777473834608037, 'gp_kern': 4, 'et_features': 1, 'et_Scaler': 'stand', 'et_max_depth': 69, 'et_ne': 447}. Best is trial#153 with value: 0.9983354140657512.\n"
          ],
          "name": "stderr"
        },
        {
          "output_type": "stream",
          "text": [
            "('knn', 'gnb', 'ada')\n"
          ],
          "name": "stdout"
        },
        {
          "output_type": "stream",
          "text": [
            "[I 2020-07-13 12:10:04,620] Finished trial#286 with value: 0.997919267582189 with parameters: {'combos': 61, 'knn_features': 6, 'knn_Scaler': 'log', 'knn_nn': 5, 'knn_p': 1, 'gnb_features': 4, 'gnb_Scaler': 'stand', 'gnb_vs': 0.0041858356889646385, 'ada_features': 18, 'ada_Scaler': 'log', 'ada_ne': 394, 'ada_lr': 0.37336890832362596, 'ada_algo': 'SAMME'}. Best is trial#153 with value: 0.9983354140657512.\n"
          ],
          "name": "stderr"
        },
        {
          "output_type": "stream",
          "text": [
            "('knn', 'gp', 'gbm')\n"
          ],
          "name": "stdout"
        },
        {
          "output_type": "stream",
          "text": [
            "[I 2020-07-13 12:10:05,932] Finished trial#287 with value: 0.9933416562630046 with parameters: {'combos': 59, 'knn_features': 9, 'knn_Scaler': 'stand', 'knn_nn': 34, 'knn_p': 1, 'gp_features': 2, 'gp_Scaler': 'stand', 'gp_a': 0.06134412377201372, 'gp_kern': 1, 'gbm_features': 11, 'gbm_Scaler': 'log', 'lambda_l1': 0.0001365115467725004, 'lambda_l2': 5.081208304578386e-05, 'num_leaves': 154, 'feature_fraction': 0.8148006471443701, 'bagging_fraction': 0.40580355848268485, 'bagging_freq': 7, 'min_child_samples': 15}. Best is trial#153 with value: 0.9983354140657512.\n"
          ],
          "name": "stderr"
        },
        {
          "output_type": "stream",
          "text": [
            "('knn', 'svc', 'xgb')\n"
          ],
          "name": "stdout"
        },
        {
          "output_type": "stream",
          "text": [
            "[I 2020-07-13 12:10:06,651] Finished trial#288 with value: 0.9900124843945068 with parameters: {'combos': 51, 'knn_features': 10, 'knn_Scaler': 'stand', 'knn_nn': 1, 'knn_p': 1, 'svc_features': 11, 'svc_Scaler': 'log', 'svc_kern': 'sigmoid', 'svc_C': 0.11770754263015393, 'svc_deg': 7, 'xgb_features': 16, 'xgb_Scaler': 'minmax', 'booster': 'gbtree', 'lambda': 1.0800990918763092e-05, 'alpha': 0.1530679670474156, 'max_depth': 1, 'eta': 2.6373464453781537e-07, 'gamma': 0.0012745164948238658, 'grow_policy': 'depthwise'}. Best is trial#153 with value: 0.9983354140657512.\n"
          ],
          "name": "stderr"
        },
        {
          "output_type": "stream",
          "text": [
            "('knn', 'gnb', 'ada')\n"
          ],
          "name": "stdout"
        },
        {
          "output_type": "stream",
          "text": [
            "[I 2020-07-13 12:10:08,556] Finished trial#289 with value: 0.9972950478568456 with parameters: {'combos': 61, 'knn_features': 3, 'knn_Scaler': 'stand', 'knn_nn': 5, 'knn_p': 1, 'gnb_features': 2, 'gnb_Scaler': 'stand', 'gnb_vs': 0.014708868666651432, 'ada_features': 18, 'ada_Scaler': 'log', 'ada_ne': 413, 'ada_lr': 0.3292273705969317, 'ada_algo': 'SAMME'}. Best is trial#153 with value: 0.9983354140657512.\n"
          ],
          "name": "stderr"
        },
        {
          "output_type": "stream",
          "text": [
            "('knn', 'qda', 'et')\n"
          ],
          "name": "stdout"
        },
        {
          "output_type": "stream",
          "text": [
            "/usr/local/lib/python3.6/dist-packages/sklearn/discriminant_analysis.py:691: UserWarning:\n",
            "\n",
            "Variables are collinear\n",
            "\n",
            "[I 2020-07-13 12:10:09,433] Finished trial#290 with value: 0.9955264253017062 with parameters: {'combos': 67, 'knn_features': 15, 'knn_Scaler': 'log', 'knn_nn': 5, 'knn_p': 1, 'qda_features': 20, 'qda_Scaler': 'minmax', 'qda_rp': 3.333923415139407e-08, 'et_features': 10, 'et_Scaler': 'stand', 'et_max_depth': 52, 'et_ne': 224}. Best is trial#153 with value: 0.9983354140657512.\n"
          ],
          "name": "stderr"
        },
        {
          "output_type": "stream",
          "text": [
            "('knn', 'et', 'xgb')\n"
          ],
          "name": "stdout"
        },
        {
          "output_type": "stream",
          "text": [
            "[I 2020-07-13 12:10:10,141] Finished trial#291 with value: 0.9950062421972534 with parameters: {'combos': 76, 'knn_features': 5, 'knn_Scaler': 'log', 'knn_nn': 29, 'knn_p': 1, 'et_features': 18, 'et_Scaler': 'log', 'et_max_depth': 89, 'et_ne': 60, 'xgb_features': 10, 'xgb_Scaler': 'stand', 'booster': 'gblinear', 'lambda': 0.0003656488409377745, 'alpha': 0.0008759577678550043}. Best is trial#153 with value: 0.9983354140657512.\n"
          ],
          "name": "stderr"
        },
        {
          "output_type": "stream",
          "text": [
            "('knn', 'gp', 'ada')\n"
          ],
          "name": "stdout"
        },
        {
          "output_type": "stream",
          "text": [
            "[I 2020-07-13 12:10:14,579] Finished trial#292 with value: 0.9962546816479401 with parameters: {'combos': 55, 'knn_features': 6, 'knn_Scaler': 'log', 'knn_nn': 4, 'knn_p': 1, 'gp_features': 18, 'gp_Scaler': 'stand', 'gp_a': 0.011458642152347391, 'gp_kern': 6, 'ada_features': 16, 'ada_Scaler': 'log', 'ada_ne': 366, 'ada_lr': 0.6169194688056664, 'ada_algo': 'SAMME.R'}. Best is trial#153 with value: 0.9983354140657512.\n"
          ],
          "name": "stderr"
        },
        {
          "output_type": "stream",
          "text": [
            "('knn', 'gnb', 'qda')\n"
          ],
          "name": "stdout"
        },
        {
          "output_type": "stream",
          "text": [
            "/usr/local/lib/python3.6/dist-packages/sklearn/discriminant_analysis.py:691: UserWarning:\n",
            "\n",
            "Variables are collinear\n",
            "\n",
            "[I 2020-07-13 12:10:15,241] Finished trial#293 with value: 0.9968789013732834 with parameters: {'combos': 60, 'knn_features': 11, 'knn_Scaler': 'stand', 'knn_nn': 5, 'knn_p': 1, 'gnb_features': 4, 'gnb_Scaler': 'stand', 'gnb_vs': 0.002782571692311889, 'qda_features': 7, 'qda_Scaler': 'minmax', 'qda_rp': 2.806718086548971e-10}. Best is trial#153 with value: 0.9983354140657512.\n"
          ],
          "name": "stderr"
        },
        {
          "output_type": "stream",
          "text": [
            "('knn', 'gnb', 'rf')\n"
          ],
          "name": "stdout"
        },
        {
          "output_type": "stream",
          "text": [
            "[I 2020-07-13 12:10:16,567] Finished trial#294 with value: 0.9902205576362879 with parameters: {'combos': 63, 'knn_features': 8, 'knn_Scaler': 'stand', 'knn_nn': 3, 'knn_p': 1, 'gnb_features': 3, 'gnb_Scaler': 'stand', 'gnb_vs': 0.03715832806475819, 'rf_features': 20, 'rf_Scaler': 'minmax', 'rf_max_depth': 20, 'rf_ne': 255, 'rf_cw': 'balanced'}. Best is trial#153 with value: 0.9983354140657512.\n"
          ],
          "name": "stderr"
        },
        {
          "output_type": "stream",
          "text": [
            "('knn', 'rf', 'gbm')\n"
          ],
          "name": "stdout"
        },
        {
          "output_type": "stream",
          "text": [
            "[I 2020-07-13 12:10:18,361] Finished trial#295 with value: 0.9885559717020391 with parameters: {'combos': 79, 'knn_features': 14, 'knn_Scaler': 'log', 'knn_nn': 11, 'knn_p': 1, 'rf_features': 19, 'rf_Scaler': 'stand', 'rf_max_depth': 76, 'rf_ne': 398, 'rf_cw': 'balanced', 'gbm_features': 14, 'gbm_Scaler': 'log', 'lambda_l1': 1.5819199365220972e-05, 'lambda_l2': 0.010678192070599432, 'num_leaves': 135, 'feature_fraction': 0.8707023626127868, 'bagging_fraction': 0.4518508710577753, 'bagging_freq': 7, 'min_child_samples': 11}. Best is trial#153 with value: 0.9983354140657512.\n"
          ],
          "name": "stderr"
        },
        {
          "output_type": "stream",
          "text": [
            "('knn', 'gnb', 'xgb')\n"
          ],
          "name": "stdout"
        },
        {
          "output_type": "stream",
          "text": [
            "[I 2020-07-13 12:10:19,018] Finished trial#296 with value: 0.9900124843945068 with parameters: {'combos': 64, 'knn_features': 2, 'knn_Scaler': 'stand', 'knn_nn': 4, 'knn_p': 1, 'gnb_features': 5, 'gnb_Scaler': 'stand', 'gnb_vs': 0.7725983516764527, 'xgb_features': 2, 'xgb_Scaler': 'log', 'booster': 'gbtree', 'lambda': 0.18109762137999486, 'alpha': 0.005513763762063903, 'max_depth': 51, 'eta': 0.00035003760917771043, 'gamma': 4.4370113823489666e-05, 'grow_policy': 'lossguide'}. Best is trial#153 with value: 0.9983354140657512.\n"
          ],
          "name": "stderr"
        },
        {
          "output_type": "stream",
          "text": [
            "('knn', 'ada', 'gbm')\n"
          ],
          "name": "stdout"
        },
        {
          "output_type": "stream",
          "text": [
            "[I 2020-07-13 12:10:20,462] Setting status of trial#297 as TrialState.PRUNED. Trial was pruned at iteration 11.\n"
          ],
          "name": "stderr"
        },
        {
          "output_type": "stream",
          "text": [
            "('knn', 'qda', 'et')\n"
          ],
          "name": "stdout"
        },
        {
          "output_type": "stream",
          "text": [
            "/usr/local/lib/python3.6/dist-packages/sklearn/discriminant_analysis.py:691: UserWarning:\n",
            "\n",
            "Variables are collinear\n",
            "\n",
            "[I 2020-07-13 12:10:21,539] Finished trial#298 with value: 0.993237619642114 with parameters: {'combos': 67, 'knn_features': 11, 'knn_Scaler': 'log', 'knn_nn': 2, 'knn_p': 1, 'qda_features': 16, 'qda_Scaler': 'stand', 'qda_rp': 2.6785665587363568e-06, 'et_features': 11, 'et_Scaler': 'stand', 'et_max_depth': 34, 'et_ne': 323}. Best is trial#153 with value: 0.9983354140657512.\n"
          ],
          "name": "stderr"
        },
        {
          "output_type": "stream",
          "text": [
            "('knn', 'gp', 'gbm')\n"
          ],
          "name": "stdout"
        },
        {
          "output_type": "stream",
          "text": [
            "[I 2020-07-13 12:10:24,825] Finished trial#299 with value: 0.9927174365376613 with parameters: {'combos': 59, 'knn_features': 3, 'knn_Scaler': 'log', 'knn_nn': 5, 'knn_p': 1, 'gp_features': 1, 'gp_Scaler': 'minmax', 'gp_a': 0.0010734373768816743, 'gp_kern': 3, 'gbm_features': 16, 'gbm_Scaler': 'log', 'lambda_l1': 8.254084244105239e-07, 'lambda_l2': 0.003056989602893002, 'num_leaves': 189, 'feature_fraction': 0.7931017255940458, 'bagging_fraction': 0.4365308012487753, 'bagging_freq': 7, 'min_child_samples': 15}. Best is trial#153 with value: 0.9983354140657512.\n"
          ],
          "name": "stderr"
        },
        {
          "output_type": "stream",
          "text": [
            "('knn', 'gp', 'rf')\n"
          ],
          "name": "stdout"
        },
        {
          "output_type": "stream",
          "text": [
            "[I 2020-07-13 12:10:27,707] Finished trial#300 with value: 0.9866833125260092 with parameters: {'combos': 57, 'knn_features': 6, 'knn_Scaler': 'log', 'knn_nn': 7, 'knn_p': 1, 'gp_features': 13, 'gp_Scaler': 'log', 'gp_a': 0.023779021765432055, 'gp_kern': 7, 'rf_features': 6, 'rf_Scaler': 'minmax', 'rf_max_depth': 29, 'rf_ne': 134, 'rf_cw': 'balanced_subsample'}. Best is trial#153 with value: 0.9983354140657512.\n"
          ],
          "name": "stderr"
        },
        {
          "output_type": "stream",
          "text": [
            "('knn', 'qda', 'gbm')\n"
          ],
          "name": "stdout"
        },
        {
          "output_type": "stream",
          "text": [
            "/usr/local/lib/python3.6/dist-packages/sklearn/discriminant_analysis.py:691: UserWarning:\n",
            "\n",
            "Variables are collinear\n",
            "\n",
            "[I 2020-07-13 12:10:28,275] Setting status of trial#301 as TrialState.PRUNED. Trial was pruned at iteration 11.\n"
          ],
          "name": "stderr"
        },
        {
          "output_type": "stream",
          "text": [
            "('knn', 'gnb', 'et')\n"
          ],
          "name": "stdout"
        },
        {
          "output_type": "stream",
          "text": [
            "[I 2020-07-13 12:10:29,116] Finished trial#302 with value: 0.9875156054931336 with parameters: {'combos': 62, 'knn_features': 9, 'knn_Scaler': 'stand', 'knn_nn': 3, 'knn_p': 1, 'gnb_features': 2, 'gnb_Scaler': 'stand', 'gnb_vs': 0.011847495041723171, 'et_features': 16, 'et_Scaler': 'minmax', 'et_max_depth': 80, 'et_ne': 106}. Best is trial#153 with value: 0.9983354140657512.\n"
          ],
          "name": "stderr"
        },
        {
          "output_type": "stream",
          "text": [
            "('knn', 'ada', 'rf')\n"
          ],
          "name": "stdout"
        },
        {
          "output_type": "stream",
          "text": [
            "[I 2020-07-13 12:10:30,652] Finished trial#303 with value: 0.9964627548897212 with parameters: {'combos': 72, 'knn_features': 4, 'knn_Scaler': 'stand', 'knn_nn': 4, 'knn_p': 1, 'ada_features': 18, 'ada_Scaler': 'log', 'ada_ne': 211, 'ada_lr': 0.3674008397158218, 'ada_algo': 'SAMME.R', 'rf_features': 10, 'rf_Scaler': 'log', 'rf_max_depth': 24, 'rf_ne': 16, 'rf_cw': 'balanced_subsample'}. Best is trial#153 with value: 0.9983354140657512.\n"
          ],
          "name": "stderr"
        },
        {
          "output_type": "stream",
          "text": [
            "('knn', 'et', 'gbm')\n"
          ],
          "name": "stdout"
        },
        {
          "output_type": "stream",
          "text": [
            "[I 2020-07-13 12:10:31,586] Setting status of trial#304 as TrialState.PRUNED. Trial was pruned at iteration 11.\n"
          ],
          "name": "stderr"
        },
        {
          "output_type": "stream",
          "text": [
            "('knn', 'qda', 'gbm')\n"
          ],
          "name": "stdout"
        },
        {
          "output_type": "stream",
          "text": [
            "/usr/local/lib/python3.6/dist-packages/sklearn/discriminant_analysis.py:691: UserWarning:\n",
            "\n",
            "Variables are collinear\n",
            "\n",
            "[I 2020-07-13 12:10:32,259] Setting status of trial#305 as TrialState.PRUNED. Trial was pruned at iteration 11.\n"
          ],
          "name": "stderr"
        },
        {
          "output_type": "stream",
          "text": [
            "('knn', 'gp', 'qda')\n"
          ],
          "name": "stdout"
        },
        {
          "output_type": "stream",
          "text": [
            "/usr/local/lib/python3.6/dist-packages/sklearn/discriminant_analysis.py:691: UserWarning:\n",
            "\n",
            "Variables are collinear\n",
            "\n",
            "[I 2020-07-13 12:10:34,766] Finished trial#306 with value: 0.9895963379109447 with parameters: {'combos': 54, 'knn_features': 7, 'knn_Scaler': 'stand', 'knn_nn': 2, 'knn_p': 1, 'gp_features': 4, 'gp_Scaler': 'stand', 'gp_a': 0.2641815724008632, 'gp_kern': 9, 'qda_features': 4, 'qda_Scaler': 'minmax', 'qda_rp': 0.12207985304496864}. Best is trial#153 with value: 0.9983354140657512.\n"
          ],
          "name": "stderr"
        },
        {
          "output_type": "stream",
          "text": [
            "('knn', 'qda', 'ada')\n"
          ],
          "name": "stdout"
        },
        {
          "output_type": "stream",
          "text": [
            "/usr/local/lib/python3.6/dist-packages/sklearn/discriminant_analysis.py:691: UserWarning:\n",
            "\n",
            "Variables are collinear\n",
            "\n",
            "[I 2020-07-13 12:10:36,504] Finished trial#307 with value: 0.9939658759883478 with parameters: {'combos': 66, 'knn_features': 4, 'knn_Scaler': 'minmax', 'knn_nn': 3, 'knn_p': 1, 'qda_features': 17, 'qda_Scaler': 'log', 'qda_rp': 0.0002449969545552507, 'ada_features': 8, 'ada_Scaler': 'log', 'ada_ne': 389, 'ada_lr': 0.22390706357868506, 'ada_algo': 'SAMME'}. Best is trial#153 with value: 0.9983354140657512.\n"
          ],
          "name": "stderr"
        },
        {
          "output_type": "stream",
          "text": [
            "('svc', 'rf', 'gbm')\n"
          ],
          "name": "stdout"
        },
        {
          "output_type": "stream",
          "text": [
            "[I 2020-07-13 12:10:37,235] Setting status of trial#308 as TrialState.PRUNED. Trial was pruned at iteration 11.\n"
          ],
          "name": "stderr"
        },
        {
          "output_type": "stream",
          "text": [
            "('knn', 'qda', 'xgb')\n"
          ],
          "name": "stdout"
        },
        {
          "output_type": "stream",
          "text": [
            "/usr/local/lib/python3.6/dist-packages/sklearn/discriminant_analysis.py:691: UserWarning:\n",
            "\n",
            "Variables are collinear\n",
            "\n",
            "[I 2020-07-13 12:10:37,991] Finished trial#309 with value: 0.9918851435705368 with parameters: {'combos': 69, 'knn_features': 8, 'knn_Scaler': 'log', 'knn_nn': 4, 'knn_p': 1, 'qda_features': 9, 'qda_Scaler': 'minmax', 'qda_rp': 5.54247776433901e-16, 'xgb_features': 15, 'xgb_Scaler': 'stand', 'booster': 'gblinear', 'lambda': 0.011228074639397146, 'alpha': 0.009070048057113209}. Best is trial#153 with value: 0.9983354140657512.\n"
          ],
          "name": "stderr"
        },
        {
          "output_type": "stream",
          "text": [
            "('knn', 'gnb', 'gbm')\n"
          ],
          "name": "stdout"
        },
        {
          "output_type": "stream",
          "text": [
            "[I 2020-07-13 12:10:38,753] Finished trial#310 with value: 0.992093216812318 with parameters: {'combos': 65, 'knn_features': 6, 'knn_Scaler': 'stand', 'knn_nn': 6, 'knn_p': 1, 'gnb_features': 14, 'gnb_Scaler': 'minmax', 'gnb_vs': 7.273602772778302e-05, 'gbm_features': 13, 'gbm_Scaler': 'log', 'lambda_l1': 0.00023301200081273898, 'lambda_l2': 6.895583034084574e-05, 'num_leaves': 143, 'feature_fraction': 0.9656452596881748, 'bagging_fraction': 0.514642953879663, 'bagging_freq': 7, 'min_child_samples': 18}. Best is trial#153 with value: 0.9983354140657512.\n"
          ],
          "name": "stderr"
        },
        {
          "output_type": "stream",
          "text": [
            "('svc', 'gp', 'qda')\n"
          ],
          "name": "stdout"
        },
        {
          "output_type": "stream",
          "text": [
            "/usr/local/lib/python3.6/dist-packages/sklearn/discriminant_analysis.py:691: UserWarning:\n",
            "\n",
            "Variables are collinear\n",
            "\n",
            "[I 2020-07-13 12:10:40,757] Finished trial#311 with value: 0.9916770703287557 with parameters: {'combos': 82, 'svc_features': 6, 'svc_Scaler': 'stand', 'svc_kern': 'linear', 'svc_C': 1.204183392206672e-05, 'svc_deg': 9, 'gp_features': 8, 'gp_Scaler': 'stand', 'gp_a': 0.14061901290195317, 'gp_kern': 2, 'qda_features': 11, 'qda_Scaler': 'stand', 'qda_rp': 6.946018775928189e-12}. Best is trial#153 with value: 0.9983354140657512.\n"
          ],
          "name": "stderr"
        },
        {
          "output_type": "stream",
          "text": [
            "('knn', 'qda', 'xgb')\n"
          ],
          "name": "stdout"
        },
        {
          "output_type": "stream",
          "text": [
            "/usr/local/lib/python3.6/dist-packages/sklearn/discriminant_analysis.py:691: UserWarning:\n",
            "\n",
            "Variables are collinear\n",
            "\n",
            "[I 2020-07-13 12:10:41,439] Finished trial#312 with value: 0.9823137744486059 with parameters: {'combos': 69, 'knn_features': 9, 'knn_Scaler': 'stand', 'knn_nn': 1, 'knn_p': 1, 'qda_features': 10, 'qda_Scaler': 'minmax', 'qda_rp': 9.63358214777541e-20, 'xgb_features': 18, 'xgb_Scaler': 'minmax', 'booster': 'gbtree', 'lambda': 5.285789119503596e-05, 'alpha': 0.040076457128040165, 'max_depth': 6, 'eta': 1.8471267288265947e-06, 'gamma': 0.044163094460589844, 'grow_policy': 'depthwise'}. Best is trial#153 with value: 0.9983354140657512.\n"
          ],
          "name": "stderr"
        },
        {
          "output_type": "stream",
          "text": [
            "('knn', 'gnb', 'et')\n"
          ],
          "name": "stdout"
        },
        {
          "output_type": "stream",
          "text": [
            "[I 2020-07-13 12:10:42,109] Finished trial#313 with value: 0.9964627548897212 with parameters: {'combos': 62, 'knn_features': 13, 'knn_Scaler': 'stand', 'knn_nn': 2, 'knn_p': 1, 'gnb_features': 10, 'gnb_Scaler': 'stand', 'gnb_vs': 0.09878097995733284, 'et_features': 18, 'et_Scaler': 'log', 'et_max_depth': 75, 'et_ne': 38}. Best is trial#153 with value: 0.9983354140657512.\n"
          ],
          "name": "stderr"
        },
        {
          "output_type": "stream",
          "text": [
            "('knn', 'ada', 'gbm')\n"
          ],
          "name": "stdout"
        },
        {
          "output_type": "stream",
          "text": [
            "[I 2020-07-13 12:10:43,703] Setting status of trial#314 as TrialState.PRUNED. Trial was pruned at iteration 11.\n"
          ],
          "name": "stderr"
        },
        {
          "output_type": "stream",
          "text": [
            "('knn', 'et', 'gbm')\n"
          ],
          "name": "stdout"
        },
        {
          "output_type": "stream",
          "text": [
            "[I 2020-07-13 12:10:45,007] Finished trial#315 with value: 0.9962546816479401 with parameters: {'combos': 77, 'knn_features': 10, 'knn_Scaler': 'stand', 'knn_nn': 1, 'knn_p': 1, 'et_features': 8, 'et_Scaler': 'stand', 'et_max_depth': 61, 'et_ne': 408, 'gbm_features': 10, 'gbm_Scaler': 'stand', 'lambda_l1': 7.285352451713998e-07, 'lambda_l2': 0.0008043877783185609, 'num_leaves': 193, 'feature_fraction': 0.6418623674543306, 'bagging_fraction': 0.4341067029839047, 'bagging_freq': 6, 'min_child_samples': 16}. Best is trial#153 with value: 0.9983354140657512.\n"
          ],
          "name": "stderr"
        },
        {
          "output_type": "stream",
          "text": [
            "('knn', 'ada', 'gbm')\n"
          ],
          "name": "stdout"
        },
        {
          "output_type": "stream",
          "text": [
            "[I 2020-07-13 12:10:47,247] Finished trial#316 with value: 0.9975031210986267 with parameters: {'combos': 74, 'knn_features': 10, 'knn_Scaler': 'log', 'knn_nn': 5, 'knn_p': 1, 'ada_features': 19, 'ada_Scaler': 'log', 'ada_ne': 445, 'ada_lr': 0.34499563873378997, 'ada_algo': 'SAMME.R', 'gbm_features': 12, 'gbm_Scaler': 'log', 'lambda_l1': 6.056407649790391e-06, 'lambda_l2': 0.0005119298103500225, 'num_leaves': 147, 'feature_fraction': 0.8295592476694563, 'bagging_fraction': 0.45466269819538424, 'bagging_freq': 7, 'min_child_samples': 14}. Best is trial#153 with value: 0.9983354140657512.\n"
          ],
          "name": "stderr"
        },
        {
          "output_type": "stream",
          "text": [
            "('knn', 'qda', 'ada')\n"
          ],
          "name": "stdout"
        },
        {
          "output_type": "stream",
          "text": [
            "/usr/local/lib/python3.6/dist-packages/sklearn/discriminant_analysis.py:691: UserWarning:\n",
            "\n",
            "Variables are collinear\n",
            "\n",
            "[I 2020-07-13 12:10:48,696] Finished trial#317 with value: 0.9975031210986267 with parameters: {'combos': 66, 'knn_features': 9, 'knn_Scaler': 'log', 'knn_nn': 10, 'knn_p': 1, 'qda_features': 2, 'qda_Scaler': 'stand', 'qda_rp': 4.279366808616182e-06, 'ada_features': 11, 'ada_Scaler': 'log', 'ada_ne': 261, 'ada_lr': 0.3957185631511979, 'ada_algo': 'SAMME.R'}. Best is trial#153 with value: 0.9983354140657512.\n"
          ],
          "name": "stderr"
        },
        {
          "output_type": "stream",
          "text": [
            "('knn', 'ada', 'xgb')\n"
          ],
          "name": "stdout"
        },
        {
          "output_type": "stream",
          "text": [
            "[I 2020-07-13 12:10:50,744] Finished trial#318 with value: 0.9968789013732834 with parameters: {'combos': 73, 'knn_features': 11, 'knn_Scaler': 'log', 'knn_nn': 12, 'knn_p': 1, 'ada_features': 10, 'ada_Scaler': 'log', 'ada_ne': 456, 'ada_lr': 0.35008517826195573, 'ada_algo': 'SAMME.R', 'xgb_features': 19, 'xgb_Scaler': 'minmax', 'booster': 'gbtree', 'lambda': 5.636893624397224e-06, 'alpha': 0.018686681900323243, 'max_depth': 3, 'eta': 3.7091006515365735e-06, 'gamma': 0.00022875391080350607, 'grow_policy': 'depthwise'}. Best is trial#153 with value: 0.9983354140657512.\n"
          ],
          "name": "stderr"
        },
        {
          "output_type": "stream",
          "text": [
            "('knn', 'rf', 'xgb')\n"
          ],
          "name": "stdout"
        },
        {
          "output_type": "stream",
          "text": [
            "[I 2020-07-13 12:10:52,573] Finished trial#319 with value: 0.9920932168123179 with parameters: {'combos': 78, 'knn_features': 9, 'knn_Scaler': 'log', 'knn_nn': 10, 'knn_p': 1, 'rf_features': 2, 'rf_Scaler': 'stand', 'rf_max_depth': 81, 'rf_ne': 455, 'rf_cw': 'balanced', 'xgb_features': 17, 'xgb_Scaler': 'minmax', 'booster': 'gbtree', 'lambda': 0.03883237557887188, 'alpha': 0.2973859657233798, 'max_depth': 8, 'eta': 8.477693835492484e-08, 'gamma': 0.004573846297667049, 'grow_policy': 'depthwise'}. Best is trial#153 with value: 0.9983354140657512.\n"
          ],
          "name": "stderr"
        },
        {
          "output_type": "stream",
          "text": [
            "('svc', 'gp', 'xgb')\n"
          ],
          "name": "stdout"
        },
        {
          "output_type": "stream",
          "text": [
            "[I 2020-07-13 12:10:55,999] Finished trial#320 with value: 0.9891801914273824 with parameters: {'combos': 86, 'svc_features': 15, 'svc_Scaler': 'log', 'svc_kern': 'sigmoid', 'svc_C': 2.1482268544561935e-08, 'svc_deg': 10, 'gp_features': 16, 'gp_Scaler': 'minmax', 'gp_a': 0.03441578750812323, 'gp_kern': 5, 'xgb_features': 11, 'xgb_Scaler': 'minmax', 'booster': 'dart', 'lambda': 0.07980090183219742, 'alpha': 0.7391719174982826, 'max_depth': 22, 'eta': 6.793726758658715e-05, 'gamma': 1.7058393732885012e-05, 'grow_policy': 'depthwise', 'sample_type': 'uniform', 'normalize_type': 'tree', 'rate_drop': 1.4359436708450664e-07, 'skip_drop': 2.3646330517276972e-07}. Best is trial#153 with value: 0.9983354140657512.\n"
          ],
          "name": "stderr"
        },
        {
          "output_type": "stream",
          "text": [
            "('knn', 'gnb', 'gbm')\n"
          ],
          "name": "stdout"
        },
        {
          "output_type": "stream",
          "text": [
            "[I 2020-07-13 12:10:56,570] Setting status of trial#321 as TrialState.PRUNED. Trial was pruned at iteration 11.\n"
          ],
          "name": "stderr"
        },
        {
          "output_type": "stream",
          "text": [
            "('knn', 'qda', 'gbm')\n"
          ],
          "name": "stdout"
        },
        {
          "output_type": "stream",
          "text": [
            "/usr/local/lib/python3.6/dist-packages/sklearn/discriminant_analysis.py:691: UserWarning:\n",
            "\n",
            "Variables are collinear\n",
            "\n",
            "[I 2020-07-13 12:10:57,438] Finished trial#322 with value: 0.9964627548897212 with parameters: {'combos': 70, 'knn_features': 8, 'knn_Scaler': 'stand', 'knn_nn': 10, 'knn_p': 1, 'qda_features': 5, 'qda_Scaler': 'stand', 'qda_rp': 8.993970851274878e-08, 'gbm_features': 7, 'gbm_Scaler': 'log', 'lambda_l1': 4.861375902857815e-06, 'lambda_l2': 0.7356032743960254, 'num_leaves': 173, 'feature_fraction': 0.7814763202659387, 'bagging_fraction': 0.6241548083006976, 'bagging_freq': 3, 'min_child_samples': 10}. Best is trial#153 with value: 0.9983354140657512.\n"
          ],
          "name": "stderr"
        },
        {
          "output_type": "stream",
          "text": [
            "('knn', 'qda', 'rf')\n"
          ],
          "name": "stdout"
        },
        {
          "output_type": "stream",
          "text": [
            "/usr/local/lib/python3.6/dist-packages/sklearn/discriminant_analysis.py:691: UserWarning:\n",
            "\n",
            "Variables are collinear\n",
            "\n",
            "[I 2020-07-13 12:10:59,333] Finished trial#323 with value: 0.9889721181856013 with parameters: {'combos': 68, 'knn_features': 6, 'knn_Scaler': 'log', 'knn_nn': 9, 'knn_p': 1, 'qda_features': 3, 'qda_Scaler': 'minmax', 'qda_rp': 0.0009658172390171628, 'rf_features': 9, 'rf_Scaler': 'log', 'rf_max_depth': 57, 'rf_ne': 369, 'rf_cw': 'balanced_subsample'}. Best is trial#153 with value: 0.9983354140657512.\n"
          ],
          "name": "stderr"
        },
        {
          "output_type": "stream",
          "text": [
            "('knn', 'ada', 'gbm')\n"
          ],
          "name": "stdout"
        },
        {
          "output_type": "stream",
          "text": [
            "[I 2020-07-13 12:11:01,712] Finished trial#324 with value: 0.99812734082397 with parameters: {'combos': 74, 'knn_features': 10, 'knn_Scaler': 'stand', 'knn_nn': 2, 'knn_p': 1, 'ada_features': 20, 'ada_Scaler': 'log', 'ada_ne': 480, 'ada_lr': 0.4232216055243146, 'ada_algo': 'SAMME.R', 'gbm_features': 12, 'gbm_Scaler': 'log', 'lambda_l1': 0.00010220164799426134, 'lambda_l2': 0.0003675119323639537, 'num_leaves': 124, 'feature_fraction': 0.79989023233323, 'bagging_fraction': 0.4439464656268808, 'bagging_freq': 7, 'min_child_samples': 13}. Best is trial#153 with value: 0.9983354140657512.\n"
          ],
          "name": "stderr"
        },
        {
          "output_type": "stream",
          "text": [
            "('svc', 'gp', 'gnb')\n"
          ],
          "name": "stdout"
        },
        {
          "output_type": "stream",
          "text": [
            "[I 2020-07-13 12:11:04,876] Finished trial#325 with value: 0.9904286308780691 with parameters: {'combos': 81, 'svc_features': 4, 'svc_Scaler': 'minmax', 'svc_kern': 'poly', 'svc_C': 0.40514849329675406, 'svc_deg': 8, 'gp_features': 10, 'gp_Scaler': 'log', 'gp_a': 0.002341018700353342, 'gp_kern': 2, 'gnb_features': 7, 'gnb_Scaler': 'log', 'gnb_vs': 0.0006834707051675129}. Best is trial#153 with value: 0.9983354140657512.\n"
          ],
          "name": "stderr"
        },
        {
          "output_type": "stream",
          "text": [
            "('knn', 'gp', 'xgb')\n"
          ],
          "name": "stdout"
        },
        {
          "output_type": "stream",
          "text": [
            "[I 2020-07-13 12:11:06,878] Finished trial#326 with value: 0.9931335830212235 with parameters: {'combos': 58, 'knn_features': 12, 'knn_Scaler': 'stand', 'knn_nn': 22, 'knn_p': 1, 'gp_features': 5, 'gp_Scaler': 'stand', 'gp_a': 0.001455564800105862, 'gp_kern': 4, 'xgb_features': 9, 'xgb_Scaler': 'stand', 'booster': 'gbtree', 'lambda': 0.0009603041429060891, 'alpha': 0.10383945403460777, 'max_depth': 25, 'eta': 2.3543500943105094e-05, 'gamma': 0.0007026273769950923, 'grow_policy': 'lossguide'}. Best is trial#153 with value: 0.9983354140657512.\n"
          ],
          "name": "stderr"
        },
        {
          "output_type": "stream",
          "text": [
            "('knn', 'et', 'xgb')\n"
          ],
          "name": "stdout"
        },
        {
          "output_type": "stream",
          "text": [
            "[I 2020-07-13 12:11:07,712] Finished trial#327 with value: 0.9954223886808158 with parameters: {'combos': 76, 'knn_features': 9, 'knn_Scaler': 'log', 'knn_nn': 11, 'knn_p': 1, 'et_features': 14, 'et_Scaler': 'stand', 'et_max_depth': 41, 'et_ne': 155, 'xgb_features': 7, 'xgb_Scaler': 'minmax', 'booster': 'gbtree', 'lambda': 0.00718824852106937, 'alpha': 0.39110216892787397, 'max_depth': 11, 'eta': 1.4498852337274089e-08, 'gamma': 0.002503661605989465, 'grow_policy': 'depthwise'}. Best is trial#153 with value: 0.9983354140657512.\n"
          ],
          "name": "stderr"
        },
        {
          "output_type": "stream",
          "text": [
            "('knn', 'ada', 'rf')\n"
          ],
          "name": "stdout"
        },
        {
          "output_type": "stream",
          "text": [
            "[I 2020-07-13 12:11:10,944] Finished trial#328 with value: 0.9964627548897212 with parameters: {'combos': 72, 'knn_features': 10, 'knn_Scaler': 'stand', 'knn_nn': 5, 'knn_p': 1, 'ada_features': 20, 'ada_Scaler': 'log', 'ada_ne': 475, 'ada_lr': 0.38833726462790275, 'ada_algo': 'SAMME.R', 'rf_features': 11, 'rf_Scaler': 'log', 'rf_max_depth': 96, 'rf_ne': 337, 'rf_cw': 'balanced_subsample'}. Best is trial#153 with value: 0.9983354140657512.\n"
          ],
          "name": "stderr"
        },
        {
          "output_type": "stream",
          "text": [
            "('knn', 'gnb', 'qda')\n"
          ],
          "name": "stdout"
        },
        {
          "output_type": "stream",
          "text": [
            "[I 2020-07-13 12:11:11,575] Finished trial#329 with value: 0.9933416562630046 with parameters: {'combos': 60, 'knn_features': 10, 'knn_Scaler': 'stand', 'knn_nn': 3, 'knn_p': 1, 'gnb_features': 1, 'gnb_Scaler': 'stand', 'gnb_vs': 0.005704147666910081, 'qda_features': 0, 'qda_Scaler': 'stand', 'qda_rp': 6.591297288363126e-05}. Best is trial#153 with value: 0.9983354140657512.\n"
          ],
          "name": "stderr"
        },
        {
          "output_type": "stream",
          "text": [
            "('knn', 'et', 'rf')\n"
          ],
          "name": "stdout"
        },
        {
          "output_type": "stream",
          "text": [
            "[I 2020-07-13 12:11:13,604] Finished trial#330 with value: 0.9903245942571784 with parameters: {'combos': 75, 'knn_features': 10, 'knn_Scaler': 'log', 'knn_nn': 2, 'knn_p': 1, 'et_features': 17, 'et_Scaler': 'minmax', 'et_max_depth': 83, 'et_ne': 112, 'rf_features': 3, 'rf_Scaler': 'minmax', 'rf_max_depth': 92, 'rf_ne': 498, 'rf_cw': 'balanced'}. Best is trial#153 with value: 0.9983354140657512.\n"
          ],
          "name": "stderr"
        },
        {
          "output_type": "stream",
          "text": [
            "('knn', 'gnb', 'rf')\n"
          ],
          "name": "stdout"
        },
        {
          "output_type": "stream",
          "text": [
            "[I 2020-07-13 12:11:15,395] Finished trial#331 with value: 0.9910528506034124 with parameters: {'combos': 63, 'knn_features': 9, 'knn_Scaler': 'stand', 'knn_nn': 4, 'knn_p': 1, 'gnb_features': 2, 'gnb_Scaler': 'stand', 'gnb_vs': 1.1398802546862053e-18, 'rf_features': 6, 'rf_Scaler': 'stand', 'rf_max_depth': 85, 'rf_ne': 448, 'rf_cw': 'balanced'}. Best is trial#153 with value: 0.9983354140657512.\n"
          ],
          "name": "stderr"
        },
        {
          "output_type": "stream",
          "text": [
            "('knn', 'svc', 'gbm')\n"
          ],
          "name": "stdout"
        },
        {
          "output_type": "stream",
          "text": [
            "[I 2020-07-13 12:11:16,189] Finished trial#332 with value: 0.992093216812318 with parameters: {'combos': 52, 'knn_features': 11, 'knn_Scaler': 'stand', 'knn_nn': 5, 'knn_p': 1, 'svc_features': 9, 'svc_Scaler': 'log', 'svc_kern': 'linear', 'svc_C': 2.4654924187587367e-06, 'svc_deg': 5, 'gbm_features': 12, 'gbm_Scaler': 'log', 'lambda_l1': 0.00012045882199263938, 'lambda_l2': 0.0005277784194578731, 'num_leaves': 127, 'feature_fraction': 0.798263192224702, 'bagging_fraction': 0.4510755138130101, 'bagging_freq': 7, 'min_child_samples': 13}. Best is trial#153 with value: 0.9983354140657512.\n"
          ],
          "name": "stderr"
        },
        {
          "output_type": "stream",
          "text": [
            "('knn', 'qda', 'ada')\n"
          ],
          "name": "stdout"
        },
        {
          "output_type": "stream",
          "text": [
            "/usr/local/lib/python3.6/dist-packages/sklearn/discriminant_analysis.py:691: UserWarning:\n",
            "\n",
            "Variables are collinear\n",
            "\n",
            "[I 2020-07-13 12:11:17,748] Finished trial#333 with value: 0.997919267582189 with parameters: {'combos': 66, 'knn_features': 10, 'knn_Scaler': 'stand', 'knn_nn': 3, 'knn_p': 1, 'qda_features': 18, 'qda_Scaler': 'stand', 'qda_rp': 2.8116320396475984e-06, 'ada_features': 13, 'ada_Scaler': 'log', 'ada_ne': 286, 'ada_lr': 0.422744082085599, 'ada_algo': 'SAMME.R'}. Best is trial#153 with value: 0.9983354140657512.\n"
          ],
          "name": "stderr"
        },
        {
          "output_type": "stream",
          "text": [
            "('qda', 'xgb', 'gbm')\n"
          ],
          "name": "stdout"
        },
        {
          "output_type": "stream",
          "text": [
            "/usr/local/lib/python3.6/dist-packages/sklearn/discriminant_analysis.py:691: UserWarning:\n",
            "\n",
            "Variables are collinear\n",
            "\n",
            "[I 2020-07-13 12:11:18,250] Setting status of trial#334 as TrialState.PRUNED. Trial was pruned at iteration 11.\n"
          ],
          "name": "stderr"
        },
        {
          "output_type": "stream",
          "text": [
            "('knn', 'qda', 'gbm')\n"
          ],
          "name": "stdout"
        },
        {
          "output_type": "stream",
          "text": [
            "/usr/local/lib/python3.6/dist-packages/sklearn/discriminant_analysis.py:691: UserWarning:\n",
            "\n",
            "Variables are collinear\n",
            "\n",
            "[I 2020-07-13 12:11:19,150] Finished trial#335 with value: 0.9935497295047857 with parameters: {'combos': 70, 'knn_features': 17, 'knn_Scaler': 'log', 'knn_nn': 4, 'knn_p': 1, 'qda_features': 2, 'qda_Scaler': 'stand', 'qda_rp': 4.7149699834563933e-07, 'gbm_features': 11, 'gbm_Scaler': 'log', 'lambda_l1': 3.631650449602463e-07, 'lambda_l2': 1.249654471791363e-05, 'num_leaves': 137, 'feature_fraction': 0.8635040338194975, 'bagging_fraction': 0.5205763043425278, 'bagging_freq': 7, 'min_child_samples': 13}. Best is trial#153 with value: 0.9983354140657512.\n"
          ],
          "name": "stderr"
        },
        {
          "output_type": "stream",
          "text": [
            "('gp', 'qda', 'gbm')\n"
          ],
          "name": "stdout"
        },
        {
          "output_type": "stream",
          "text": [
            "/usr/local/lib/python3.6/dist-packages/sklearn/discriminant_analysis.py:691: UserWarning:\n",
            "\n",
            "Variables are collinear\n",
            "\n",
            "[I 2020-07-13 12:11:21,317] Finished trial#336 with value: 0.9945900957136913 with parameters: {'combos': 119, 'gp_features': 9, 'gp_Scaler': 'stand', 'gp_a': 0.6816808793129188, 'gp_kern': 3, 'qda_features': 8, 'qda_Scaler': 'stand', 'qda_rp': 0.005688156515082343, 'gbm_features': 13, 'gbm_Scaler': 'log', 'lambda_l1': 8.329428332486756e-06, 'lambda_l2': 0.0003730868166991956, 'num_leaves': 125, 'feature_fraction': 0.8515903179418745, 'bagging_fraction': 0.44421632597375926, 'bagging_freq': 6, 'min_child_samples': 16}. Best is trial#153 with value: 0.9983354140657512.\n"
          ],
          "name": "stderr"
        },
        {
          "output_type": "stream",
          "text": [
            "('knn', 'rf', 'gbm')\n"
          ],
          "name": "stdout"
        },
        {
          "output_type": "stream",
          "text": [
            "[I 2020-07-13 12:11:23,351] Finished trial#337 with value: 0.9900124843945068 with parameters: {'combos': 79, 'knn_features': 10, 'knn_Scaler': 'log', 'knn_nn': 3, 'knn_p': 1, 'rf_features': 20, 'rf_Scaler': 'minmax', 'rf_max_depth': 68, 'rf_ne': 480, 'rf_cw': 'balanced', 'gbm_features': 10, 'gbm_Scaler': 'log', 'lambda_l1': 3.0734500432987807e-06, 'lambda_l2': 0.00020082931162191626, 'num_leaves': 154, 'feature_fraction': 0.8321520405086075, 'bagging_fraction': 0.41843296472278024, 'bagging_freq': 7, 'min_child_samples': 12}. Best is trial#153 with value: 0.9983354140657512.\n"
          ],
          "name": "stderr"
        },
        {
          "output_type": "stream",
          "text": [
            "('knn', 'gnb', 'ada')\n"
          ],
          "name": "stdout"
        },
        {
          "output_type": "stream",
          "text": [
            "[I 2020-07-13 12:11:25,225] Finished trial#338 with value: 0.9977111943404079 with parameters: {'combos': 61, 'knn_features': 11, 'knn_Scaler': 'stand', 'knn_nn': 4, 'knn_p': 1, 'gnb_features': 3, 'gnb_Scaler': 'stand', 'gnb_vs': 0.2860058727088064, 'ada_features': 12, 'ada_Scaler': 'log', 'ada_ne': 422, 'ada_lr': 0.3903620558618943, 'ada_algo': 'SAMME'}. Best is trial#153 with value: 0.9983354140657512.\n"
          ],
          "name": "stderr"
        },
        {
          "output_type": "stream",
          "text": [
            "('knn', 'gp', 'et')\n"
          ],
          "name": "stdout"
        },
        {
          "output_type": "stream",
          "text": [
            "[I 2020-07-13 12:11:27,775] Finished trial#339 with value: 0.9918851435705368 with parameters: {'combos': 56, 'knn_features': 11, 'knn_Scaler': 'stand', 'knn_nn': 13, 'knn_p': 1, 'gp_features': 7, 'gp_Scaler': 'minmax', 'gp_a': 0.01802083358559341, 'gp_kern': 1, 'et_features': 13, 'et_Scaler': 'log', 'et_max_depth': 87, 'et_ne': 20}. Best is trial#153 with value: 0.9983354140657512.\n"
          ],
          "name": "stderr"
        },
        {
          "output_type": "stream",
          "text": [
            "('knn', 'gp', 'xgb')\n"
          ],
          "name": "stdout"
        },
        {
          "output_type": "stream",
          "text": [
            "[I 2020-07-13 12:11:30,133] Finished trial#340 with value: 0.9956304619225967 with parameters: {'combos': 58, 'knn_features': 10, 'knn_Scaler': 'log', 'knn_nn': 4, 'knn_p': 1, 'gp_features': 0, 'gp_Scaler': 'log', 'gp_a': 0.07700483019356857, 'gp_kern': 3, 'xgb_features': 5, 'xgb_Scaler': 'minmax', 'booster': 'gbtree', 'lambda': 0.5019401792209427, 'alpha': 0.0026576896868078805, 'max_depth': 63, 'eta': 5.3645704863643833e-08, 'gamma': 2.209601312631927e-06, 'grow_policy': 'depthwise'}. Best is trial#153 with value: 0.9983354140657512.\n"
          ],
          "name": "stderr"
        },
        {
          "output_type": "stream",
          "text": [
            "('svc', 'qda', 'ada')\n"
          ],
          "name": "stdout"
        },
        {
          "output_type": "stream",
          "text": [
            "/usr/local/lib/python3.6/dist-packages/sklearn/discriminant_analysis.py:691: UserWarning:\n",
            "\n",
            "Variables are collinear\n",
            "\n",
            "[I 2020-07-13 12:11:32,088] Finished trial#341 with value: 0.9923012900540991 with parameters: {'combos': 94, 'svc_features': 1, 'svc_Scaler': 'stand', 'svc_kern': 'sigmoid', 'svc_C': 3.8201692765477975, 'svc_deg': 4, 'qda_features': 7, 'qda_Scaler': 'stand', 'qda_rp': 1.3115704210002089e-08, 'ada_features': 12, 'ada_Scaler': 'log', 'ada_ne': 449, 'ada_lr': 0.420964371256534, 'ada_algo': 'SAMME.R'}. Best is trial#153 with value: 0.9983354140657512.\n"
          ],
          "name": "stderr"
        },
        {
          "output_type": "stream",
          "text": [
            "('knn', 'gnb', 'rf')\n"
          ],
          "name": "stdout"
        },
        {
          "output_type": "stream",
          "text": [
            "[I 2020-07-13 12:11:33,541] Finished trial#342 with value: 0.9898044111527258 with parameters: {'combos': 63, 'knn_features': 9, 'knn_Scaler': 'stand', 'knn_nn': 3, 'knn_p': 1, 'gnb_features': 4, 'gnb_Scaler': 'stand', 'gnb_vs': 0.2324728848882825, 'rf_features': 4, 'rf_Scaler': 'stand', 'rf_max_depth': 100, 'rf_ne': 315, 'rf_cw': 'balanced'}. Best is trial#153 with value: 0.9983354140657512.\n"
          ],
          "name": "stderr"
        },
        {
          "output_type": "stream",
          "text": [
            "('knn', 'svc', 'gnb')\n"
          ],
          "name": "stdout"
        },
        {
          "output_type": "stream",
          "text": [
            "[I 2020-07-13 12:11:34,240] Finished trial#343 with value: 0.9891801914273824 with parameters: {'combos': 46, 'knn_features': 9, 'knn_Scaler': 'stand', 'knn_nn': 1, 'knn_p': 1, 'svc_features': 13, 'svc_Scaler': 'minmax', 'svc_kern': 'rbf', 'svc_C': 0.00011669402102372272, 'svc_deg': 7, 'gnb_features': 3, 'gnb_Scaler': 'stand', 'gnb_vs': 0.003262065844752244}. Best is trial#153 with value: 0.9983354140657512.\n"
          ],
          "name": "stderr"
        },
        {
          "output_type": "stream",
          "text": [
            "('knn', 'gnb', 'gbm')\n"
          ],
          "name": "stdout"
        },
        {
          "output_type": "stream",
          "text": [
            "[I 2020-07-13 12:11:35,005] Finished trial#344 with value: 0.9910528506034124 with parameters: {'combos': 65, 'knn_features': 10, 'knn_Scaler': 'stand', 'knn_nn': 2, 'knn_p': 1, 'gnb_features': 6, 'gnb_Scaler': 'stand', 'gnb_vs': 0.9135873578522777, 'gbm_features': 9, 'gbm_Scaler': 'stand', 'lambda_l1': 1.1946969874599365e-06, 'lambda_l2': 4.835100719428849e-06, 'num_leaves': 195, 'feature_fraction': 0.7228596709719842, 'bagging_fraction': 0.5041645575073003, 'bagging_freq': 2, 'min_child_samples': 18}. Best is trial#153 with value: 0.9983354140657512.\n"
          ],
          "name": "stderr"
        },
        {
          "output_type": "stream",
          "text": [
            "('knn', 'gnb', 'ada')\n"
          ],
          "name": "stdout"
        },
        {
          "output_type": "stream",
          "text": [
            "[I 2020-07-13 12:11:36,546] Finished trial#345 with value: 0.99812734082397 with parameters: {'combos': 61, 'knn_features': 12, 'knn_Scaler': 'stand', 'knn_nn': 4, 'knn_p': 1, 'gnb_features': 4, 'gnb_Scaler': 'stand', 'gnb_vs': 0.035282502775380226, 'ada_features': 11, 'ada_Scaler': 'log', 'ada_ne': 292, 'ada_lr': 0.43897349492395826, 'ada_algo': 'SAMME.R'}. Best is trial#153 with value: 0.9983354140657512.\n"
          ],
          "name": "stderr"
        },
        {
          "output_type": "stream",
          "text": [
            "('knn', 'gnb', 'ada')\n"
          ],
          "name": "stdout"
        },
        {
          "output_type": "stream",
          "text": [
            "[I 2020-07-13 12:11:38,037] Finished trial#346 with value: 0.9977111943404078 with parameters: {'combos': 61, 'knn_features': 12, 'knn_Scaler': 'stand', 'knn_nn': 4, 'knn_p': 1, 'gnb_features': 19, 'gnb_Scaler': 'stand', 'gnb_vs': 0.04187353505095972, 'ada_features': 11, 'ada_Scaler': 'log', 'ada_ne': 294, 'ada_lr': 0.3963989563769079, 'ada_algo': 'SAMME'}. Best is trial#153 with value: 0.9983354140657512.\n"
          ],
          "name": "stderr"
        },
        {
          "output_type": "stream",
          "text": [
            "('knn', 'gp', 'ada')\n"
          ],
          "name": "stdout"
        },
        {
          "output_type": "stream",
          "text": [
            "[I 2020-07-13 12:11:41,923] Finished trial#347 with value: 0.996046608406159 with parameters: {'combos': 55, 'knn_features': 14, 'knn_Scaler': 'stand', 'knn_nn': 4, 'knn_p': 1, 'gp_features': 17, 'gp_Scaler': 'stand', 'gp_a': 0.007610644261336257, 'gp_kern': 10, 'ada_features': 11, 'ada_Scaler': 'log', 'ada_ne': 312, 'ada_lr': 0.3792403699342326, 'ada_algo': 'SAMME'}. Best is trial#153 with value: 0.9983354140657512.\n"
          ],
          "name": "stderr"
        },
        {
          "output_type": "stream",
          "text": [
            "('knn', 'gnb', 'qda')\n"
          ],
          "name": "stdout"
        },
        {
          "output_type": "stream",
          "text": [
            "/usr/local/lib/python3.6/dist-packages/sklearn/discriminant_analysis.py:691: UserWarning:\n",
            "\n",
            "Variables are collinear\n",
            "\n",
            "[I 2020-07-13 12:11:42,595] Finished trial#348 with value: 0.993965875988348 with parameters: {'combos': 60, 'knn_features': 12, 'knn_Scaler': 'stand', 'knn_nn': 4, 'knn_p': 1, 'gnb_features': 17, 'gnb_Scaler': 'stand', 'gnb_vs': 0.05767349314657116, 'qda_features': 6, 'qda_Scaler': 'stand', 'qda_rp': 0.025933389121036318}. Best is trial#153 with value: 0.9983354140657512.\n"
          ],
          "name": "stderr"
        },
        {
          "output_type": "stream",
          "text": [
            "('knn', 'svc', 'gbm')\n"
          ],
          "name": "stdout"
        },
        {
          "output_type": "stream",
          "text": [
            "[I 2020-07-13 12:11:43,237] Setting status of trial#349 as TrialState.PRUNED. Trial was pruned at iteration 14.\n"
          ],
          "name": "stderr"
        },
        {
          "output_type": "stream",
          "text": [
            "('knn', 'gp', 'xgb')\n"
          ],
          "name": "stdout"
        },
        {
          "output_type": "stream",
          "text": [
            "[I 2020-07-13 12:11:46,339] Finished trial#350 with value: 0.9929255097794424 with parameters: {'combos': 58, 'knn_features': 12, 'knn_Scaler': 'stand', 'knn_nn': 26, 'knn_p': 1, 'gp_features': 3, 'gp_Scaler': 'stand', 'gp_a': 0.0019264749809037663, 'gp_kern': 8, 'xgb_features': 2, 'xgb_Scaler': 'minmax', 'booster': 'dart', 'lambda': 0.17148224742107854, 'alpha': 0.061508196962031615, 'max_depth': 31, 'eta': 5.488804076787803e-07, 'gamma': 0.00011122478420622367, 'grow_policy': 'depthwise', 'sample_type': 'weighted', 'normalize_type': 'forest', 'rate_drop': 6.263071524320005e-05, 'skip_drop': 4.02278198917345e-05}. Best is trial#153 with value: 0.9983354140657512.\n"
          ],
          "name": "stderr"
        },
        {
          "output_type": "stream",
          "text": [
            "('knn', 'gnb', 'et')\n"
          ],
          "name": "stdout"
        },
        {
          "output_type": "stream",
          "text": [
            "[I 2020-07-13 12:11:47,071] Finished trial#351 with value: 0.9898044111527257 with parameters: {'combos': 62, 'knn_features': 11, 'knn_Scaler': 'stand', 'knn_nn': 5, 'knn_p': 1, 'gnb_features': 4, 'gnb_Scaler': 'stand', 'gnb_vs': 0.3406058597102026, 'et_features': 15, 'et_Scaler': 'minmax', 'et_max_depth': 96, 'et_ne': 88}. Best is trial#153 with value: 0.9983354140657512.\n"
          ],
          "name": "stderr"
        },
        {
          "output_type": "stream",
          "text": [
            "('knn', 'gnb', 'ada')\n"
          ],
          "name": "stdout"
        },
        {
          "output_type": "stream",
          "text": [
            "[I 2020-07-13 12:11:48,567] Finished trial#352 with value: 0.9977111943404078 with parameters: {'combos': 61, 'knn_features': 13, 'knn_Scaler': 'stand', 'knn_nn': 4, 'knn_p': 1, 'gnb_features': 20, 'gnb_Scaler': 'stand', 'gnb_vs': 0.0289524986298787, 'ada_features': 11, 'ada_Scaler': 'log', 'ada_ne': 293, 'ada_lr': 0.4334921469342211, 'ada_algo': 'SAMME'}. Best is trial#153 with value: 0.9983354140657512.\n"
          ],
          "name": "stderr"
        },
        {
          "output_type": "stream",
          "text": [
            "('knn', 'gp', 'ada')\n"
          ],
          "name": "stdout"
        },
        {
          "output_type": "stream",
          "text": [
            "[I 2020-07-13 12:11:53,103] Finished trial#353 with value: 0.9943820224719101 with parameters: {'combos': 55, 'knn_features': 13, 'knn_Scaler': 'stand', 'knn_nn': 4, 'knn_p': 1, 'gp_features': 19, 'gp_Scaler': 'minmax', 'gp_a': 0.004849288521405507, 'gp_kern': 4, 'ada_features': 15, 'ada_Scaler': 'log', 'ada_ne': 436, 'ada_lr': 0.4392305835087318, 'ada_algo': 'SAMME'}. Best is trial#153 with value: 0.9983354140657512.\n"
          ],
          "name": "stderr"
        },
        {
          "output_type": "stream",
          "text": [
            "('knn', 'svc', 'et')\n"
          ],
          "name": "stdout"
        },
        {
          "output_type": "stream",
          "text": [
            "[I 2020-07-13 12:11:53,993] Finished trial#354 with value: 0.9964627548897212 with parameters: {'combos': 49, 'knn_features': 12, 'knn_Scaler': 'stand', 'knn_nn': 5, 'knn_p': 1, 'svc_features': 20, 'svc_Scaler': 'log', 'svc_kern': 'linear', 'svc_C': 2.463748620554066e-07, 'svc_deg': 8, 'et_features': 12, 'et_Scaler': 'log', 'et_max_depth': 92, 'et_ne': 183}. Best is trial#153 with value: 0.9983354140657512.\n"
          ],
          "name": "stderr"
        },
        {
          "output_type": "stream",
          "text": [
            "('knn', 'gnb', 'ada')\n"
          ],
          "name": "stdout"
        },
        {
          "output_type": "stream",
          "text": [
            "[I 2020-07-13 12:11:56,064] Finished trial#355 with value: 0.9962546816479402 with parameters: {'combos': 61, 'knn_features': 13, 'knn_Scaler': 'minmax', 'knn_nn': 3, 'knn_p': 1, 'gnb_features': 20, 'gnb_Scaler': 'stand', 'gnb_vs': 0.12015450460496332, 'ada_features': 11, 'ada_Scaler': 'log', 'ada_ne': 492, 'ada_lr': 0.798466307944921, 'ada_algo': 'SAMME'}. Best is trial#153 with value: 0.9983354140657512.\n"
          ],
          "name": "stderr"
        },
        {
          "output_type": "stream",
          "text": [
            "('knn', 'gnb', 'gbm')\n"
          ],
          "name": "stdout"
        },
        {
          "output_type": "stream",
          "text": [
            "[I 2020-07-13 12:11:56,633] Setting status of trial#356 as TrialState.PRUNED. Trial was pruned at iteration 11.\n"
          ],
          "name": "stderr"
        },
        {
          "output_type": "stream",
          "text": [
            "('knn', 'gp', 'xgb')\n"
          ],
          "name": "stdout"
        },
        {
          "output_type": "stream",
          "text": [
            "[I 2020-07-13 12:11:58,807] Finished trial#357 with value: 0.994173949230129 with parameters: {'combos': 58, 'knn_features': 13, 'knn_Scaler': 'stand', 'knn_nn': 4, 'knn_p': 1, 'gp_features': 11, 'gp_Scaler': 'log', 'gp_a': 1.737735441334528, 'gp_kern': 5, 'xgb_features': 8, 'xgb_Scaler': 'stand', 'booster': 'gbtree', 'lambda': 0.0014127376832179096, 'alpha': 5.339570418133291e-06, 'max_depth': 17, 'eta': 0.00016199195565052847, 'gamma': 0.3160356952913804, 'grow_policy': 'depthwise'}. Best is trial#153 with value: 0.9983354140657512.\n"
          ],
          "name": "stderr"
        },
        {
          "output_type": "stream",
          "text": [
            "('knn', 'gnb', 'rf')\n"
          ],
          "name": "stdout"
        },
        {
          "output_type": "stream",
          "text": [
            "[I 2020-07-13 12:12:00,603] Finished trial#358 with value: 0.9884519350811485 with parameters: {'combos': 63, 'knn_features': 12, 'knn_Scaler': 'stand', 'knn_nn': 4, 'knn_p': 1, 'gnb_features': 20, 'gnb_Scaler': 'stand', 'gnb_vs': 0.0007785210867923581, 'rf_features': 0, 'rf_Scaler': 'minmax', 'rf_max_depth': 95, 'rf_ne': 421, 'rf_cw': 'balanced'}. Best is trial#153 with value: 0.9983354140657512.\n"
          ],
          "name": "stderr"
        },
        {
          "output_type": "stream",
          "text": [
            "('knn', 'gnb', 'qda')\n"
          ],
          "name": "stdout"
        },
        {
          "output_type": "stream",
          "text": [
            "[I 2020-07-13 12:12:01,265] Finished trial#359 with value: 0.9931335830212235 with parameters: {'combos': 60, 'knn_features': 11, 'knn_Scaler': 'stand', 'knn_nn': 3, 'knn_p': 1, 'gnb_features': 11, 'gnb_Scaler': 'stand', 'gnb_vs': 0.006044596780513378, 'qda_features': 4, 'qda_Scaler': 'log', 'qda_rp': 0.8057189443298162}. Best is trial#153 with value: 0.9983354140657512.\n"
          ],
          "name": "stderr"
        },
        {
          "output_type": "stream",
          "text": [
            "('knn', 'gp', 'qda')\n"
          ],
          "name": "stdout"
        },
        {
          "output_type": "stream",
          "text": [
            "/usr/local/lib/python3.6/dist-packages/sklearn/discriminant_analysis.py:691: UserWarning:\n",
            "\n",
            "Variables are collinear\n",
            "\n",
            "[I 2020-07-13 12:12:03,784] Finished trial#360 with value: 0.9947981689554724 with parameters: {'combos': 54, 'knn_features': 13, 'knn_Scaler': 'stand', 'knn_nn': 5, 'knn_p': 1, 'gp_features': 12, 'gp_Scaler': 'stand', 'gp_a': 0.24701842658886083, 'gp_kern': 1, 'qda_features': 3, 'qda_Scaler': 'stand', 'qda_rp': 7.803025102861407e-10}. Best is trial#153 with value: 0.9983354140657512.\n"
          ],
          "name": "stderr"
        },
        {
          "output_type": "stream",
          "text": [
            "('knn', 'gp', 'xgb')\n"
          ],
          "name": "stdout"
        },
        {
          "output_type": "stream",
          "text": [
            "[I 2020-07-13 12:12:06,645] Finished trial#361 with value: 0.990220557636288 with parameters: {'combos': 58, 'knn_features': 13, 'knn_Scaler': 'stand', 'knn_nn': 5, 'knn_p': 1, 'gp_features': 15, 'gp_Scaler': 'stand', 'gp_a': 0.4208543607260177, 'gp_kern': 6, 'xgb_features': 10, 'xgb_Scaler': 'minmax', 'booster': 'gblinear', 'lambda': 0.01928152553069975, 'alpha': 7.910553221451265e-08}. Best is trial#153 with value: 0.9983354140657512.\n"
          ],
          "name": "stderr"
        },
        {
          "output_type": "stream",
          "text": [
            "('knn', 'qda', 'et')\n"
          ],
          "name": "stdout"
        },
        {
          "output_type": "stream",
          "text": [
            "/usr/local/lib/python3.6/dist-packages/sklearn/discriminant_analysis.py:691: UserWarning:\n",
            "\n",
            "Variables are collinear\n",
            "\n",
            "[I 2020-07-13 12:12:07,390] Finished trial#362 with value: 0.9873075322513525 with parameters: {'combos': 67, 'knn_features': 11, 'knn_Scaler': 'stand', 'knn_nn': 4, 'knn_p': 1, 'qda_features': 19, 'qda_Scaler': 'stand', 'qda_rp': 1.1981706471029634e-06, 'et_features': 16, 'et_Scaler': 'minmax', 'et_max_depth': 57, 'et_ne': 87}. Best is trial#153 with value: 0.9983354140657512.\n"
          ],
          "name": "stderr"
        },
        {
          "output_type": "stream",
          "text": [
            "('knn', 'gnb', 'ada')\n"
          ],
          "name": "stdout"
        },
        {
          "output_type": "stream",
          "text": [
            "[I 2020-07-13 12:12:08,894] Finished trial#363 with value: 0.9981273408239699 with parameters: {'combos': 61, 'knn_features': 12, 'knn_Scaler': 'stand', 'knn_nn': 2, 'knn_p': 1, 'gnb_features': 19, 'gnb_Scaler': 'stand', 'gnb_vs': 0.041526640061536946, 'ada_features': 12, 'ada_Scaler': 'log', 'ada_ne': 292, 'ada_lr': 0.40022346340969817, 'ada_algo': 'SAMME'}. Best is trial#153 with value: 0.9983354140657512.\n"
          ],
          "name": "stderr"
        },
        {
          "output_type": "stream",
          "text": [
            "('knn', 'gnb', 'gbm')\n"
          ],
          "name": "stdout"
        },
        {
          "output_type": "stream",
          "text": [
            "[I 2020-07-13 12:12:09,703] Finished trial#364 with value: 0.9937578027465668 with parameters: {'combos': 65, 'knn_features': 12, 'knn_Scaler': 'stand', 'knn_nn': 2, 'knn_p': 1, 'gnb_features': 19, 'gnb_Scaler': 'stand', 'gnb_vs': 0.0002512314048138636, 'gbm_features': 7, 'gbm_Scaler': 'stand', 'lambda_l1': 3.1416898581821666e-07, 'lambda_l2': 2.0821603146329897e-05, 'num_leaves': 161, 'feature_fraction': 0.7398215742142032, 'bagging_fraction': 0.5727714184711193, 'bagging_freq': 2, 'min_child_samples': 10}. Best is trial#153 with value: 0.9983354140657512.\n"
          ],
          "name": "stderr"
        },
        {
          "output_type": "stream",
          "text": [
            "('gp', 'et', 'xgb')\n"
          ],
          "name": "stdout"
        },
        {
          "output_type": "stream",
          "text": [
            "[I 2020-07-13 12:12:13,530] Finished trial#365 with value: 0.9929255097794424 with parameters: {'combos': 125, 'gp_features': 14, 'gp_Scaler': 'minmax', 'gp_a': 0.0027760438673457614, 'gp_kern': 9, 'et_features': 20, 'et_Scaler': 'log', 'et_max_depth': 4, 'et_ne': 227, 'xgb_features': 14, 'xgb_Scaler': 'log', 'booster': 'dart', 'lambda': 0.06432723624759631, 'alpha': 0.0002838257206232731, 'max_depth': 74, 'eta': 5.614553067009758e-06, 'gamma': 0.8539832448079523, 'grow_policy': 'lossguide', 'sample_type': 'weighted', 'normalize_type': 'forest', 'rate_drop': 1.2127056343172097e-07, 'skip_drop': 0.0014528346872305319}. Best is trial#153 with value: 0.9983354140657512.\n"
          ],
          "name": "stderr"
        },
        {
          "output_type": "stream",
          "text": [
            "('knn', 'gnb', 'ada')\n"
          ],
          "name": "stdout"
        },
        {
          "output_type": "stream",
          "text": [
            "[I 2020-07-13 12:12:15,041] Finished trial#366 with value: 0.997919267582189 with parameters: {'combos': 61, 'knn_features': 11, 'knn_Scaler': 'stand', 'knn_nn': 2, 'knn_p': 1, 'gnb_features': 18, 'gnb_Scaler': 'stand', 'gnb_vs': 0.4186562410710846, 'ada_features': 12, 'ada_Scaler': 'log', 'ada_ne': 293, 'ada_lr': 0.44154396637599264, 'ada_algo': 'SAMME'}. Best is trial#153 with value: 0.9983354140657512.\n"
          ],
          "name": "stderr"
        },
        {
          "output_type": "stream",
          "text": [
            "('knn', 'gp', 'rf')\n"
          ],
          "name": "stdout"
        },
        {
          "output_type": "stream",
          "text": [
            "[I 2020-07-13 12:12:18,141] Finished trial#367 with value: 0.9927174365376613 with parameters: {'combos': 57, 'knn_features': 12, 'knn_Scaler': 'stand', 'knn_nn': 2, 'knn_p': 1, 'gp_features': 19, 'gp_Scaler': 'log', 'gp_a': 7.660525548921188, 'gp_kern': 2, 'rf_features': 1, 'rf_Scaler': 'stand', 'rf_max_depth': 77, 'rf_ne': 431, 'rf_cw': 'balanced'}. Best is trial#153 with value: 0.9983354140657512.\n"
          ],
          "name": "stderr"
        },
        {
          "output_type": "stream",
          "text": [
            "('knn', 'gnb', 'qda')\n"
          ],
          "name": "stdout"
        },
        {
          "output_type": "stream",
          "text": [
            "/usr/local/lib/python3.6/dist-packages/sklearn/discriminant_analysis.py:691: UserWarning:\n",
            "\n",
            "Variables are collinear\n",
            "\n",
            "[I 2020-07-13 12:12:18,810] Finished trial#368 with value: 0.9879317519766958 with parameters: {'combos': 60, 'knn_features': 12, 'knn_Scaler': 'stand', 'knn_nn': 1, 'knn_p': 1, 'gnb_features': 18, 'gnb_Scaler': 'stand', 'gnb_vs': 0.3537454880979029, 'qda_features': 12, 'qda_Scaler': 'log', 'qda_rp': 2.7192924757134283e-11}. Best is trial#153 with value: 0.9983354140657512.\n"
          ],
          "name": "stderr"
        },
        {
          "output_type": "stream",
          "text": [
            "('knn', 'gnb', 'et')\n"
          ],
          "name": "stdout"
        },
        {
          "output_type": "stream",
          "text": [
            "[I 2020-07-13 12:12:19,510] Finished trial#369 with value: 0.9838743237619643 with parameters: {'combos': 62, 'knn_features': 15, 'knn_Scaler': 'stand', 'knn_nn': 5, 'knn_p': 1, 'gnb_features': 18, 'gnb_Scaler': 'stand', 'gnb_vs': 0.04701902623181641, 'et_features': 19, 'et_Scaler': 'minmax', 'et_max_depth': 68, 'et_ne': 56}. Best is trial#153 with value: 0.9983354140657512.\n"
          ],
          "name": "stderr"
        },
        {
          "output_type": "stream",
          "text": [
            "('knn', 'svc', 'xgb')\n"
          ],
          "name": "stdout"
        },
        {
          "output_type": "stream",
          "text": [
            "[I 2020-07-13 12:12:20,199] Finished trial#370 with value: 0.9893882646691635 with parameters: {'combos': 51, 'knn_features': 11, 'knn_Scaler': 'stand', 'knn_nn': 2, 'knn_p': 1, 'svc_features': 12, 'svc_Scaler': 'minmax', 'svc_kern': 'poly', 'svc_C': 0.026409500179379264, 'svc_deg': 3, 'xgb_features': 13, 'xgb_Scaler': 'stand', 'booster': 'gblinear', 'lambda': 0.7885193166701587, 'alpha': 1.1138254383972426e-06}. Best is trial#153 with value: 0.9983354140657512.\n"
          ],
          "name": "stderr"
        },
        {
          "output_type": "stream",
          "text": [
            "('knn', 'gnb', 'et')\n"
          ],
          "name": "stdout"
        },
        {
          "output_type": "stream",
          "text": [
            "[I 2020-07-13 12:12:21,125] Finished trial#371 with value: 0.9964627548897211 with parameters: {'combos': 62, 'knn_features': 12, 'knn_Scaler': 'stand', 'knn_nn': 11, 'knn_p': 1, 'gnb_features': 19, 'gnb_Scaler': 'stand', 'gnb_vs': 0.013616789194275445, 'et_features': 14, 'et_Scaler': 'log', 'et_max_depth': 13, 'et_ne': 269}. Best is trial#153 with value: 0.9983354140657512.\n"
          ],
          "name": "stderr"
        },
        {
          "output_type": "stream",
          "text": [
            "('knn', 'gnb', 'gbm')\n"
          ],
          "name": "stdout"
        },
        {
          "output_type": "stream",
          "text": [
            "[I 2020-07-13 12:12:21,699] Setting status of trial#372 as TrialState.PRUNED. Trial was pruned at iteration 11.\n"
          ],
          "name": "stderr"
        },
        {
          "output_type": "stream",
          "text": [
            "('knn', 'qda', 'et')\n"
          ],
          "name": "stdout"
        },
        {
          "output_type": "stream",
          "text": [
            "/usr/local/lib/python3.6/dist-packages/sklearn/discriminant_analysis.py:691: UserWarning:\n",
            "\n",
            "Variables are collinear\n",
            "\n",
            "[I 2020-07-13 12:12:22,708] Finished trial#373 with value: 0.9891801914273824 with parameters: {'combos': 67, 'knn_features': 13, 'knn_Scaler': 'stand', 'knn_nn': 3, 'knn_p': 1, 'qda_features': 5, 'qda_Scaler': 'stand', 'qda_rp': 0.0016635858323187382, 'et_features': 8, 'et_Scaler': 'minmax', 'et_max_depth': 74, 'et_ne': 241}. Best is trial#153 with value: 0.9983354140657512.\n"
          ],
          "name": "stderr"
        },
        {
          "output_type": "stream",
          "text": [
            "('knn', 'gp', 'et')\n"
          ],
          "name": "stdout"
        },
        {
          "output_type": "stream",
          "text": [
            "[I 2020-07-13 12:12:25,068] Finished trial#374 with value: 0.993965875988348 with parameters: {'combos': 56, 'knn_features': 11, 'knn_Scaler': 'stand', 'knn_nn': 4, 'knn_p': 1, 'gp_features': 2, 'gp_Scaler': 'stand', 'gp_a': 0.11304677730039409, 'gp_kern': 5, 'et_features': 6, 'et_Scaler': 'log', 'et_max_depth': 81, 'et_ne': 117}. Best is trial#153 with value: 0.9983354140657512.\n"
          ],
          "name": "stderr"
        },
        {
          "output_type": "stream",
          "text": [
            "('knn', 'qda', 'rf')\n"
          ],
          "name": "stdout"
        },
        {
          "output_type": "stream",
          "text": [
            "[I 2020-07-13 12:12:26,753] Finished trial#375 with value: 0.9904286308780691 with parameters: {'combos': 68, 'knn_features': 10, 'knn_Scaler': 'stand', 'knn_nn': 1, 'knn_p': 1, 'qda_features': 1, 'qda_Scaler': 'stand', 'qda_rp': 8.660792153342071e-08, 'rf_features': 3, 'rf_Scaler': 'minmax', 'rf_max_depth': 72, 'rf_ne': 401, 'rf_cw': 'balanced'}. Best is trial#153 with value: 0.9983354140657512.\n"
          ],
          "name": "stderr"
        },
        {
          "output_type": "stream",
          "text": [
            "('knn', 'gnb', 'qda')\n"
          ],
          "name": "stdout"
        },
        {
          "output_type": "stream",
          "text": [
            "[I 2020-07-13 12:12:27,418] Finished trial#376 with value: 0.9954223886808157 with parameters: {'combos': 60, 'knn_features': 12, 'knn_Scaler': 'stand', 'knn_nn': 3, 'knn_p': 1, 'gnb_features': 17, 'gnb_Scaler': 'stand', 'gnb_vs': 0.1349195558443781, 'qda_features': 6, 'qda_Scaler': 'log', 'qda_rp': 5.658651269492632e-05}. Best is trial#153 with value: 0.9983354140657512.\n"
          ],
          "name": "stderr"
        },
        {
          "output_type": "stream",
          "text": [
            "('gp', 'qda', 'ada')\n"
          ],
          "name": "stdout"
        },
        {
          "output_type": "stream",
          "text": [
            "/usr/local/lib/python3.6/dist-packages/sklearn/discriminant_analysis.py:691: UserWarning:\n",
            "\n",
            "Variables are collinear\n",
            "\n",
            "[I 2020-07-13 12:12:30,525] Finished trial#377 with value: 0.9918851435705368 with parameters: {'combos': 115, 'gp_features': 6, 'gp_Scaler': 'stand', 'gp_a': 2.9230057064733006, 'gp_kern': 1, 'qda_features': 19, 'qda_Scaler': 'log', 'qda_rp': 0.14278184304654495, 'ada_features': 12, 'ada_Scaler': 'log', 'ada_ne': 295, 'ada_lr': 0.3811139398047172, 'ada_algo': 'SAMME'}. Best is trial#153 with value: 0.9983354140657512.\n"
          ],
          "name": "stderr"
        },
        {
          "output_type": "stream",
          "text": [
            "('knn', 'gnb', 'et')\n"
          ],
          "name": "stdout"
        },
        {
          "output_type": "stream",
          "text": [
            "[I 2020-07-13 12:12:31,627] Finished trial#378 with value: 0.992093216812318 with parameters: {'combos': 62, 'knn_features': 14, 'knn_Scaler': 'stand', 'knn_nn': 3, 'knn_p': 1, 'gnb_features': 20, 'gnb_Scaler': 'minmax', 'gnb_vs': 0.5114248332123786, 'et_features': 4, 'et_Scaler': 'minmax', 'et_max_depth': 3, 'et_ne': 483}. Best is trial#153 with value: 0.9983354140657512.\n"
          ],
          "name": "stderr"
        },
        {
          "output_type": "stream",
          "text": [
            "('knn', 'gnb', 'xgb')\n"
          ],
          "name": "stdout"
        },
        {
          "output_type": "stream",
          "text": [
            "[I 2020-07-13 12:12:32,297] Finished trial#379 with value: 0.9867873491468997 with parameters: {'combos': 64, 'knn_features': 11, 'knn_Scaler': 'stand', 'knn_nn': 4, 'knn_p': 1, 'gnb_features': 18, 'gnb_Scaler': 'stand', 'gnb_vs': 0.004989655448021961, 'xgb_features': 6, 'xgb_Scaler': 'minmax', 'booster': 'gbtree', 'lambda': 0.00019530138107536605, 'alpha': 0.17789991410783568, 'max_depth': 45, 'eta': 1.28634494740348e-07, 'gamma': 0.0007032100290135484, 'grow_policy': 'depthwise'}. Best is trial#153 with value: 0.9983354140657512.\n"
          ],
          "name": "stderr"
        },
        {
          "output_type": "stream",
          "text": [
            "('svc', 'ada', 'gbm')\n"
          ],
          "name": "stdout"
        },
        {
          "output_type": "stream",
          "text": [
            "[I 2020-07-13 12:12:33,685] Setting status of trial#380 as TrialState.PRUNED. Trial was pruned at iteration 11.\n"
          ],
          "name": "stderr"
        },
        {
          "output_type": "stream",
          "text": [
            "('knn', 'qda', 'xgb')\n"
          ],
          "name": "stdout"
        },
        {
          "output_type": "stream",
          "text": [
            "/usr/local/lib/python3.6/dist-packages/sklearn/discriminant_analysis.py:691: UserWarning:\n",
            "\n",
            "Variables are collinear\n",
            "\n",
            "[I 2020-07-13 12:12:34,458] Finished trial#381 with value: 0.9861631294215565 with parameters: {'combos': 69, 'knn_features': 10, 'knn_Scaler': 'stand', 'knn_nn': 1, 'knn_p': 1, 'qda_features': 2, 'qda_Scaler': 'stand', 'qda_rp': 1.4018294467286694e-06, 'xgb_features': 5, 'xgb_Scaler': 'minmax', 'booster': 'gbtree', 'lambda': 0.005395563076735725, 'alpha': 0.8464613363777757, 'max_depth': 58, 'eta': 2.6772948156137024e-07, 'gamma': 2.0939813792197353e-05, 'grow_policy': 'depthwise'}. Best is trial#153 with value: 0.9983354140657512.\n"
          ],
          "name": "stderr"
        },
        {
          "output_type": "stream",
          "text": [
            "('gnb', 'ada', 'gbm')\n"
          ],
          "name": "stdout"
        },
        {
          "output_type": "stream",
          "text": [
            "[I 2020-07-13 12:12:35,774] Setting status of trial#382 as TrialState.PRUNED. Trial was pruned at iteration 11.\n"
          ],
          "name": "stderr"
        },
        {
          "output_type": "stream",
          "text": [
            "('knn', 'gnb', 'gbm')\n"
          ],
          "name": "stdout"
        },
        {
          "output_type": "stream",
          "text": [
            "[I 2020-07-13 12:12:36,668] Finished trial#383 with value: 0.9956304619225967 with parameters: {'combos': 65, 'knn_features': 11, 'knn_Scaler': 'stand', 'knn_nn': 6, 'knn_p': 1, 'gnb_features': 19, 'gnb_Scaler': 'stand', 'gnb_vs': 0.018933499531699767, 'gbm_features': 11, 'gbm_Scaler': 'log', 'lambda_l1': 1.0510163063132546e-06, 'lambda_l2': 8.71529907093193e-05, 'num_leaves': 170, 'feature_fraction': 0.7507204543601185, 'bagging_fraction': 0.997167642709315, 'bagging_freq': 7, 'min_child_samples': 11}. Best is trial#153 with value: 0.9983354140657512.\n"
          ],
          "name": "stderr"
        },
        {
          "output_type": "stream",
          "text": [
            "('knn', 'ada', 'et')\n"
          ],
          "name": "stdout"
        },
        {
          "output_type": "stream",
          "text": [
            "[I 2020-07-13 12:12:38,147] Finished trial#384 with value: 0.9972950478568456 with parameters: {'combos': 71, 'knn_features': 10, 'knn_Scaler': 'stand', 'knn_nn': 2, 'knn_p': 1, 'ada_features': 11, 'ada_Scaler': 'log', 'ada_ne': 290, 'ada_lr': 0.4502550551603394, 'ada_algo': 'SAMME', 'et_features': 10, 'et_Scaler': 'log', 'et_max_depth': 46, 'et_ne': 6}. Best is trial#153 with value: 0.9983354140657512.\n"
          ],
          "name": "stderr"
        },
        {
          "output_type": "stream",
          "text": [
            "('knn', 'gp', 'gnb')\n"
          ],
          "name": "stdout"
        },
        {
          "output_type": "stream",
          "text": [
            "[I 2020-07-13 12:12:40,667] Finished trial#385 with value: 0.993965875988348 with parameters: {'combos': 53, 'knn_features': 8, 'knn_Scaler': 'stand', 'knn_nn': 5, 'knn_p': 1, 'gp_features': 13, 'gp_Scaler': 'log', 'gp_a': 0.012496074375766426, 'gp_kern': 6, 'gnb_features': 3, 'gnb_Scaler': 'stand', 'gnb_vs': 0.21210216180351513}. Best is trial#153 with value: 0.9983354140657512.\n"
          ],
          "name": "stderr"
        },
        {
          "output_type": "stream",
          "text": [
            "('knn', 'gp', 'xgb')\n"
          ],
          "name": "stdout"
        },
        {
          "output_type": "stream",
          "text": [
            "[I 2020-07-13 12:12:43,166] Finished trial#386 with value: 0.9923012900540991 with parameters: {'combos': 58, 'knn_features': 13, 'knn_Scaler': 'stand', 'knn_nn': 10, 'knn_p': 1, 'gp_features': 3, 'gp_Scaler': 'minmax', 'gp_a': 0.006244555777586555, 'gp_kern': 7, 'xgb_features': 12, 'xgb_Scaler': 'minmax', 'booster': 'gbtree', 'lambda': 0.0025564582771627382, 'alpha': 0.47206534401666805, 'max_depth': 13, 'eta': 1.3010961873536194e-05, 'gamma': 6.504304981500446e-05, 'grow_policy': 'depthwise'}. Best is trial#153 with value: 0.9983354140657512.\n"
          ],
          "name": "stderr"
        },
        {
          "output_type": "stream",
          "text": [
            "('knn', 'qda', 'et')\n"
          ],
          "name": "stdout"
        },
        {
          "output_type": "stream",
          "text": [
            "[I 2020-07-13 12:12:43,974] Finished trial#387 with value: 0.9887640449438203 with parameters: {'combos': 67, 'knn_features': 11, 'knn_Scaler': 'stand', 'knn_nn': 4, 'knn_p': 1, 'qda_features': 1, 'qda_Scaler': 'stand', 'qda_rp': 0.0004082778034440536, 'et_features': 7, 'et_Scaler': 'minmax', 'et_max_depth': 8, 'et_ne': 169}. Best is trial#153 with value: 0.9983354140657512.\n"
          ],
          "name": "stderr"
        },
        {
          "output_type": "stream",
          "text": [
            "('knn', 'gp', 'et')\n"
          ],
          "name": "stdout"
        },
        {
          "output_type": "stream",
          "text": [
            "[I 2020-07-13 12:12:46,252] Finished trial#388 with value: 0.9916770703287557 with parameters: {'combos': 56, 'knn_features': 12, 'knn_Scaler': 'minmax', 'knn_nn': 9, 'knn_p': 1, 'gp_features': 9, 'gp_Scaler': 'stand', 'gp_a': 0.03882919905399876, 'gp_kern': 3, 'et_features': 9, 'et_Scaler': 'log', 'et_max_depth': 64, 'et_ne': 334}. Best is trial#153 with value: 0.9983354140657512.\n"
          ],
          "name": "stderr"
        },
        {
          "output_type": "stream",
          "text": [
            "('knn', 'gnb', 'rf')\n"
          ],
          "name": "stdout"
        },
        {
          "output_type": "stream",
          "text": [
            "[I 2020-07-13 12:12:48,065] Finished trial#389 with value: 0.9919891801914273 with parameters: {'combos': 63, 'knn_features': 11, 'knn_Scaler': 'stand', 'knn_nn': 3, 'knn_p': 2, 'gnb_features': 18, 'gnb_Scaler': 'stand', 'gnb_vs': 0.03514679209417061, 'rf_features': 2, 'rf_Scaler': 'stand', 'rf_max_depth': 91, 'rf_ne': 474, 'rf_cw': 'balanced'}. Best is trial#153 with value: 0.9983354140657512.\n"
          ],
          "name": "stderr"
        },
        {
          "output_type": "stream",
          "text": [
            "('knn', 'qda', 'et')\n"
          ],
          "name": "stdout"
        },
        {
          "output_type": "stream",
          "text": [
            "/usr/local/lib/python3.6/dist-packages/sklearn/discriminant_analysis.py:691: UserWarning:\n",
            "\n",
            "Variables are collinear\n",
            "\n",
            "[I 2020-07-13 12:12:49,195] Finished trial#390 with value: 0.9898044111527258 with parameters: {'combos': 67, 'knn_features': 10, 'knn_Scaler': 'stand', 'knn_nn': 2, 'knn_p': 1, 'qda_features': 10, 'qda_Scaler': 'stand', 'qda_rp': 3.792079665386256e-10, 'et_features': 17, 'et_Scaler': 'minmax', 'et_max_depth': 51, 'et_ne': 459}. Best is trial#153 with value: 0.9983354140657512.\n"
          ],
          "name": "stderr"
        },
        {
          "output_type": "stream",
          "text": [
            "('gp', 'xgb', 'gbm')\n"
          ],
          "name": "stdout"
        },
        {
          "output_type": "stream",
          "text": [
            "[I 2020-07-13 12:12:51,735] Setting status of trial#391 as TrialState.PRUNED. Trial was pruned at iteration 11.\n"
          ],
          "name": "stderr"
        },
        {
          "output_type": "stream",
          "text": [
            "('knn', 'gnb', 'qda')\n"
          ],
          "name": "stdout"
        },
        {
          "output_type": "stream",
          "text": [
            "/usr/local/lib/python3.6/dist-packages/sklearn/discriminant_analysis.py:691: UserWarning:\n",
            "\n",
            "Variables are collinear\n",
            "\n",
            "[I 2020-07-13 12:12:52,523] Finished trial#392 with value: 0.996046608406159 with parameters: {'combos': 60, 'knn_features': 9, 'knn_Scaler': 'stand', 'knn_nn': 5, 'knn_p': 1, 'gnb_features': 4, 'gnb_Scaler': 'stand', 'gnb_vs': 0.0015188524957110245, 'qda_features': 9, 'qda_Scaler': 'stand', 'qda_rp': 2.365266553184637e-09}. Best is trial#153 with value: 0.9983354140657512.\n"
          ],
          "name": "stderr"
        },
        {
          "output_type": "stream",
          "text": [
            "('svc', 'gp', 'et')\n"
          ],
          "name": "stdout"
        },
        {
          "output_type": "stream",
          "text": [
            "[I 2020-07-13 12:12:55,085] Finished trial#393 with value: 0.9927174365376613 with parameters: {'combos': 84, 'svc_features': 17, 'svc_Scaler': 'log', 'svc_kern': 'rbf', 'svc_C': 0.0025655019521505984, 'svc_deg': 10, 'gp_features': 5, 'gp_Scaler': 'log', 'gp_a': 0.05518688614033689, 'gp_kern': 2, 'et_features': 2, 'et_Scaler': 'log', 'et_max_depth': 72, 'et_ne': 293}. Best is trial#153 with value: 0.9983354140657512.\n"
          ],
          "name": "stderr"
        },
        {
          "output_type": "stream",
          "text": [
            "('knn', 'ada', 'et')\n"
          ],
          "name": "stdout"
        },
        {
          "output_type": "stream",
          "text": [
            "[I 2020-07-13 12:12:56,749] Finished trial#394 with value: 0.9935497295047857 with parameters: {'combos': 71, 'knn_features': 10, 'knn_Scaler': 'stand', 'knn_nn': 3, 'knn_p': 1, 'ada_features': 11, 'ada_Scaler': 'log', 'ada_ne': 326, 'ada_lr': 0.2543688177746513, 'ada_algo': 'SAMME', 'et_features': 4, 'et_Scaler': 'minmax', 'et_max_depth': 87, 'et_ne': 73}. Best is trial#153 with value: 0.9983354140657512.\n"
          ],
          "name": "stderr"
        },
        {
          "output_type": "stream",
          "text": [
            "('knn', 'gnb', 'qda')\n"
          ],
          "name": "stdout"
        },
        {
          "output_type": "stream",
          "text": [
            "/usr/local/lib/python3.6/dist-packages/sklearn/discriminant_analysis.py:691: UserWarning:\n",
            "\n",
            "Variables are collinear\n",
            "\n",
            "[I 2020-07-13 12:12:57,425] Finished trial#395 with value: 0.9880357885975863 with parameters: {'combos': 60, 'knn_features': 7, 'knn_Scaler': 'stand', 'knn_nn': 19, 'knn_p': 1, 'gnb_features': 16, 'gnb_Scaler': 'stand', 'gnb_vs': 0.44864333044235954, 'qda_features': 4, 'qda_Scaler': 'stand', 'qda_rp': 5.006158436267422e-06}. Best is trial#153 with value: 0.9983354140657512.\n"
          ],
          "name": "stderr"
        },
        {
          "output_type": "stream",
          "text": [
            "('knn', 'gp', 'qda')\n"
          ],
          "name": "stdout"
        },
        {
          "output_type": "stream",
          "text": [
            "/usr/local/lib/python3.6/dist-packages/sklearn/discriminant_analysis.py:691: UserWarning:\n",
            "\n",
            "Variables are collinear\n",
            "\n",
            "[I 2020-07-13 12:13:00,135] Finished trial#396 with value: 0.9933416562630046 with parameters: {'combos': 54, 'knn_features': 12, 'knn_Scaler': 'stand', 'knn_nn': 6, 'knn_p': 1, 'gp_features': 4, 'gp_Scaler': 'minmax', 'gp_a': 0.003267343755215797, 'gp_kern': 4, 'qda_features': 8, 'qda_Scaler': 'minmax', 'qda_rp': 1.2273528224909087e-10}. Best is trial#153 with value: 0.9983354140657512.\n"
          ],
          "name": "stderr"
        },
        {
          "output_type": "stream",
          "text": [
            "('qda', 'ada', 'rf')\n"
          ],
          "name": "stdout"
        },
        {
          "output_type": "stream",
          "text": [
            "/usr/local/lib/python3.6/dist-packages/sklearn/discriminant_analysis.py:691: UserWarning:\n",
            "\n",
            "Variables are collinear\n",
            "\n",
            "[I 2020-07-13 12:13:02,390] Finished trial#397 with value: 0.9912609238451935 with parameters: {'combos': 146, 'qda_features': 16, 'qda_Scaler': 'stand', 'qda_rp': 0.012300213479836852, 'ada_features': 12, 'ada_Scaler': 'stand', 'ada_ne': 301, 'ada_lr': 0.3996749868844389, 'ada_algo': 'SAMME', 'rf_features': 6, 'rf_Scaler': 'minmax', 'rf_max_depth': 86, 'rf_ne': 290, 'rf_cw': 'balanced'}. Best is trial#153 with value: 0.9983354140657512.\n"
          ],
          "name": "stderr"
        },
        {
          "output_type": "stream",
          "text": [
            "('knn', 'gnb', 'xgb')\n"
          ],
          "name": "stdout"
        },
        {
          "output_type": "stream",
          "text": [
            "[I 2020-07-13 12:13:03,069] Finished trial#398 with value: 0.9918851435705368 with parameters: {'combos': 64, 'knn_features': 9, 'knn_Scaler': 'stand', 'knn_nn': 1, 'knn_p': 1, 'gnb_features': 4, 'gnb_Scaler': 'minmax', 'gnb_vs': 0.01030823768826978, 'xgb_features': 4, 'xgb_Scaler': 'minmax', 'booster': 'gbtree', 'lambda': 0.009544575075529589, 'alpha': 0.05498398648567661, 'max_depth': 36, 'eta': 4.027900404120698e-05, 'gamma': 0.006803079378366367, 'grow_policy': 'depthwise'}. Best is trial#153 with value: 0.9983354140657512.\n"
          ],
          "name": "stderr"
        },
        {
          "output_type": "stream",
          "text": [
            "('knn', 'gnb', 'ada')\n"
          ],
          "name": "stdout"
        },
        {
          "output_type": "stream",
          "text": [
            "[I 2020-07-13 12:13:04,489] Finished trial#399 with value: 0.9902205576362879 with parameters: {'combos': 61, 'knn_features': 9, 'knn_Scaler': 'log', 'knn_nn': 4, 'knn_p': 1, 'gnb_features': 3, 'gnb_Scaler': 'stand', 'gnb_vs': 0.0025527079763348693, 'ada_features': 10, 'ada_Scaler': 'minmax', 'ada_ne': 265, 'ada_lr': 0.4537666519733975, 'ada_algo': 'SAMME'}. Best is trial#153 with value: 0.9983354140657512.\n"
          ],
          "name": "stderr"
        },
        {
          "output_type": "stream",
          "text": [
            "('knn', 'gp', 'et')\n"
          ],
          "name": "stdout"
        },
        {
          "output_type": "stream",
          "text": [
            "[I 2020-07-13 12:13:08,131] Finished trial#400 with value: 0.9923012900540991 with parameters: {'combos': 56, 'knn_features': 11, 'knn_Scaler': 'stand', 'knn_nn': 2, 'knn_p': 1, 'gp_features': 8, 'gp_Scaler': 'stand', 'gp_a': 0.008644886069733033, 'gp_kern': 8, 'et_features': 5, 'et_Scaler': 'log', 'et_max_depth': 43, 'et_ne': 142}. Best is trial#153 with value: 0.9983354140657512.\n"
          ],
          "name": "stderr"
        },
        {
          "output_type": "stream",
          "text": [
            "('knn', 'et', 'gbm')\n"
          ],
          "name": "stdout"
        },
        {
          "output_type": "stream",
          "text": [
            "[I 2020-07-13 12:13:09,110] Setting status of trial#401 as TrialState.PRUNED. Trial was pruned at iteration 11.\n"
          ],
          "name": "stderr"
        },
        {
          "output_type": "stream",
          "text": [
            "('svc', 'gp', 'gnb')\n"
          ],
          "name": "stdout"
        },
        {
          "output_type": "stream",
          "text": [
            "[I 2020-07-13 12:13:11,672] Finished trial#402 with value: 0.9950062421972534 with parameters: {'combos': 81, 'svc_features': 3, 'svc_Scaler': 'log', 'svc_kern': 'sigmoid', 'svc_C': 4.780954577652716e-06, 'svc_deg': 7, 'gp_features': 13, 'gp_Scaler': 'stand', 'gp_a': 0.02496341502295731, 'gp_kern': 3, 'gnb_features': 15, 'gnb_Scaler': 'log', 'gnb_vs': 3.743190006329892e-05}. Best is trial#153 with value: 0.9983354140657512.\n"
          ],
          "name": "stderr"
        },
        {
          "output_type": "stream",
          "text": [
            "('knn', 'gnb', 'gbm')\n"
          ],
          "name": "stdout"
        },
        {
          "output_type": "stream",
          "text": [
            "[I 2020-07-13 12:13:12,239] Setting status of trial#403 as TrialState.PRUNED. Trial was pruned at iteration 11.\n"
          ],
          "name": "stderr"
        },
        {
          "output_type": "stream",
          "text": [
            "('knn', 'gp', 'xgb')\n"
          ],
          "name": "stdout"
        },
        {
          "output_type": "stream",
          "text": [
            "[I 2020-07-13 12:13:14,842] Finished trial#404 with value: 0.9929255097794424 with parameters: {'combos': 58, 'knn_features': 5, 'knn_Scaler': 'stand', 'knn_nn': 3, 'knn_p': 1, 'gp_features': 10, 'gp_Scaler': 'minmax', 'gp_a': 0.004106849224935128, 'gp_kern': 1, 'xgb_features': 11, 'xgb_Scaler': 'stand', 'booster': 'gbtree', 'lambda': 0.015484319601649008, 'alpha': 0.004289204776022251, 'max_depth': 28, 'eta': 2.4478033360757175e-06, 'gamma': 0.14665212025039848, 'grow_policy': 'depthwise'}. Best is trial#153 with value: 0.9983354140657512.\n"
          ],
          "name": "stderr"
        },
        {
          "output_type": "stream",
          "text": [
            "('mlp', 'et', 'rf')\n"
          ],
          "name": "stdout"
        },
        {
          "output_type": "stream",
          "text": [
            "/usr/local/lib/python3.6/dist-packages/sklearn/neural_network/_multilayer_perceptron.py:571: ConvergenceWarning:\n",
            "\n",
            "Stochastic Optimizer: Maximum iterations (300) reached and the optimization hasn't converged yet.\n",
            "\n",
            "[I 2020-07-13 12:13:17,064] Finished trial#405 with value: 0.9933416562630046 with parameters: {'combos': 39, 'mlp_features': 11, 'mlp_Scaler': 'minmax', 'mlp_alpha': 2.6785104666530274e-08, 'et_features': 19, 'et_Scaler': 'log', 'et_max_depth': 78, 'et_ne': 192, 'rf_features': 0, 'rf_Scaler': 'stand', 'rf_max_depth': 82, 'rf_ne': 209, 'rf_cw': 'balanced'}. Best is trial#153 with value: 0.9983354140657512.\n"
          ],
          "name": "stderr"
        },
        {
          "output_type": "stream",
          "text": [
            "('knn', 'svc', 'et')\n"
          ],
          "name": "stdout"
        },
        {
          "output_type": "stream",
          "text": [
            "[I 2020-07-13 12:13:17,952] Finished trial#406 with value: 0.990220557636288 with parameters: {'combos': 49, 'knn_features': 11, 'knn_Scaler': 'stand', 'knn_nn': 4, 'knn_p': 1, 'svc_features': 0, 'svc_Scaler': 'minmax', 'svc_kern': 'linear', 'svc_C': 0.14455595008260724, 'svc_deg': 9, 'et_features': 3, 'et_Scaler': 'minmax', 'et_max_depth': 34, 'et_ne': 220}. Best is trial#153 with value: 0.9983354140657512.\n"
          ],
          "name": "stderr"
        },
        {
          "output_type": "stream",
          "text": [
            "('knn', 'qda', 'et')\n"
          ],
          "name": "stdout"
        },
        {
          "output_type": "stream",
          "text": [
            "/usr/local/lib/python3.6/dist-packages/sklearn/discriminant_analysis.py:691: UserWarning:\n",
            "\n",
            "Variables are collinear\n",
            "\n",
            "[I 2020-07-13 12:13:18,896] Finished trial#407 with value: 0.9955264253017062 with parameters: {'combos': 67, 'knn_features': 10, 'knn_Scaler': 'stand', 'knn_nn': 2, 'knn_p': 1, 'qda_features': 20, 'qda_Scaler': 'stand', 'qda_rp': 2.4774349571319236e-07, 'et_features': 1, 'et_Scaler': 'log', 'et_max_depth': 100, 'et_ne': 273}. Best is trial#153 with value: 0.9983354140657512.\n"
          ],
          "name": "stderr"
        },
        {
          "output_type": "stream",
          "text": [
            "('knn', 'ada', 'et')\n"
          ],
          "name": "stdout"
        },
        {
          "output_type": "stream",
          "text": [
            "[I 2020-07-13 12:13:20,916] Finished trial#408 with value: 0.9933416562630046 with parameters: {'combos': 71, 'knn_features': 10, 'knn_Scaler': 'log', 'knn_nn': 1, 'knn_p': 1, 'ada_features': 13, 'ada_Scaler': 'log', 'ada_ne': 288, 'ada_lr': 0.06393870961924135, 'ada_algo': 'SAMME.R', 'et_features': 12, 'et_Scaler': 'minmax', 'et_max_depth': 38, 'et_ne': 436}. Best is trial#153 with value: 0.9983354140657512.\n"
          ],
          "name": "stderr"
        },
        {
          "output_type": "stream",
          "text": [
            "('knn', 'qda', 'xgb')\n"
          ],
          "name": "stdout"
        },
        {
          "output_type": "stream",
          "text": [
            "/usr/local/lib/python3.6/dist-packages/sklearn/discriminant_analysis.py:691: UserWarning:\n",
            "\n",
            "Variables are collinear\n",
            "\n",
            "[I 2020-07-13 12:13:21,595] Finished trial#409 with value: 0.9862671660424469 with parameters: {'combos': 69, 'knn_features': 9, 'knn_Scaler': 'log', 'knn_nn': 4, 'knn_p': 1, 'qda_features': 7, 'qda_Scaler': 'stand', 'qda_rp': 1.884556607798749e-05, 'xgb_features': 8, 'xgb_Scaler': 'minmax', 'booster': 'gbtree', 'lambda': 0.03574464694792802, 'alpha': 0.037695531164839834, 'max_depth': 16, 'eta': 1.777936068957802e-07, 'gamma': 0.009270902716330312, 'grow_policy': 'depthwise'}. Best is trial#153 with value: 0.9983354140657512.\n"
          ],
          "name": "stderr"
        },
        {
          "output_type": "stream",
          "text": [
            "('knn', 'gnb', 'rf')\n"
          ],
          "name": "stdout"
        },
        {
          "output_type": "stream",
          "text": [
            "[I 2020-07-13 12:13:23,506] Finished trial#410 with value: 0.9870994590095714 with parameters: {'combos': 63, 'knn_features': 12, 'knn_Scaler': 'log', 'knn_nn': 10, 'knn_p': 1, 'gnb_features': 5, 'gnb_Scaler': 'minmax', 'gnb_vs': 0.07185283220669642, 'rf_features': 4, 'rf_Scaler': 'minmax', 'rf_max_depth': 63, 'rf_ne': 488, 'rf_cw': 'balanced'}. Best is trial#153 with value: 0.9983354140657512.\n"
          ],
          "name": "stderr"
        },
        {
          "output_type": "stream",
          "text": [
            "('knn', 'qda', 'et')\n"
          ],
          "name": "stdout"
        },
        {
          "output_type": "stream",
          "text": [
            "/usr/local/lib/python3.6/dist-packages/sklearn/discriminant_analysis.py:691: UserWarning:\n",
            "\n",
            "Variables are collinear\n",
            "\n",
            "[I 2020-07-13 12:13:24,423] Finished trial#411 with value: 0.9950062421972534 with parameters: {'combos': 67, 'knn_features': 11, 'knn_Scaler': 'stand', 'knn_nn': 6, 'knn_p': 1, 'qda_features': 3, 'qda_Scaler': 'stand', 'qda_rp': 0.37665096767965717, 'et_features': 18, 'et_Scaler': 'stand', 'et_max_depth': 29, 'et_ne': 254}. Best is trial#153 with value: 0.9983354140657512.\n"
          ],
          "name": "stderr"
        },
        {
          "output_type": "stream",
          "text": [
            "('knn', 'et', 'rf')\n"
          ],
          "name": "stdout"
        },
        {
          "output_type": "stream",
          "text": [
            "[I 2020-07-13 12:13:26,139] Finished trial#412 with value: 0.9931335830212235 with parameters: {'combos': 75, 'knn_features': 10, 'knn_Scaler': 'stand', 'knn_nn': 2, 'knn_p': 1, 'et_features': 9, 'et_Scaler': 'log', 'et_max_depth': 17, 'et_ne': 368, 'rf_features': 8, 'rf_Scaler': 'stand', 'rf_max_depth': 99, 'rf_ne': 245, 'rf_cw': 'balanced'}. Best is trial#153 with value: 0.9983354140657512.\n"
          ],
          "name": "stderr"
        },
        {
          "output_type": "stream",
          "text": [
            "('svc', 'gnb', 'et')\n"
          ],
          "name": "stdout"
        },
        {
          "output_type": "stream",
          "text": [
            "[I 2020-07-13 12:13:26,893] Finished trial#413 with value: 0.9954223886808157 with parameters: {'combos': 90, 'svc_features': 15, 'svc_Scaler': 'stand', 'svc_kern': 'sigmoid', 'svc_C': 0.00031254627968948406, 'svc_deg': 6, 'gnb_features': 13, 'gnb_Scaler': 'minmax', 'gnb_vs': 0.14133971600607517, 'et_features': 10, 'et_Scaler': 'stand', 'et_max_depth': 56, 'et_ne': 27}. Best is trial#153 with value: 0.9983354140657512.\n"
          ],
          "name": "stderr"
        },
        {
          "output_type": "stream",
          "text": [
            "('knn', 'gnb', 'et')\n"
          ],
          "name": "stdout"
        },
        {
          "output_type": "stream",
          "text": [
            "[I 2020-07-13 12:13:27,836] Finished trial#414 with value: 0.9868913857677902 with parameters: {'combos': 62, 'knn_features': 9, 'knn_Scaler': 'stand', 'knn_nn': 3, 'knn_p': 1, 'gnb_features': 1, 'gnb_Scaler': 'stand', 'gnb_vs': 1.3778134815133113e-11, 'et_features': 16, 'et_Scaler': 'minmax', 'et_max_depth': 70, 'et_ne': 126}. Best is trial#153 with value: 0.9983354140657512.\n"
          ],
          "name": "stderr"
        },
        {
          "output_type": "stream",
          "text": [
            "('knn', 'gp', 'gbm')\n"
          ],
          "name": "stdout"
        },
        {
          "output_type": "stream",
          "text": [
            "[I 2020-07-13 12:13:33,380] Setting status of trial#415 as TrialState.PRUNED. Trial was pruned at iteration 11.\n"
          ],
          "name": "stderr"
        },
        {
          "output_type": "stream",
          "text": [
            "('knn', 'ada', 'xgb')\n"
          ],
          "name": "stdout"
        },
        {
          "output_type": "stream",
          "text": [
            "[I 2020-07-13 12:13:35,571] Finished trial#416 with value: 0.9983354140657511 with parameters: {'combos': 73, 'knn_features': 14, 'knn_Scaler': 'stand', 'knn_nn': 3, 'knn_p': 1, 'ada_features': 12, 'ada_Scaler': 'log', 'ada_ne': 478, 'ada_lr': 0.41956966798007883, 'ada_algo': 'SAMME', 'xgb_features': 9, 'xgb_Scaler': 'minmax', 'booster': 'gbtree', 'lambda': 0.003458796841045531, 'alpha': 0.015463112142166004, 'max_depth': 23, 'eta': 3.920656192318362e-08, 'gamma': 2.245857187302664e-08, 'grow_policy': 'depthwise'}. Best is trial#153 with value: 0.9983354140657512.\n"
          ],
          "name": "stderr"
        },
        {
          "output_type": "stream",
          "text": [
            "('gp', 'gnb', 'ada')\n"
          ],
          "name": "stdout"
        },
        {
          "output_type": "stream",
          "text": [
            "[I 2020-07-13 12:13:38,509] Finished trial#417 with value: 0.996046608406159 with parameters: {'combos': 110, 'gp_features': 10, 'gp_Scaler': 'stand', 'gp_a': 0.17517851335791246, 'gp_kern': 6, 'gnb_features': 2, 'gnb_Scaler': 'stand', 'gnb_vs': 0.0006989518682214408, 'ada_features': 12, 'ada_Scaler': 'log', 'ada_ne': 276, 'ada_lr': 0.433860973521197, 'ada_algo': 'SAMME'}. Best is trial#153 with value: 0.9983354140657512.\n"
          ],
          "name": "stderr"
        },
        {
          "output_type": "stream",
          "text": [
            "('knn', 'qda', 'xgb')\n"
          ],
          "name": "stdout"
        },
        {
          "output_type": "stream",
          "text": [
            "/usr/local/lib/python3.6/dist-packages/sklearn/discriminant_analysis.py:691: UserWarning:\n",
            "\n",
            "Variables are collinear\n",
            "\n",
            "[I 2020-07-13 12:13:39,209] Finished trial#418 with value: 0.9882438618393674 with parameters: {'combos': 69, 'knn_features': 14, 'knn_Scaler': 'log', 'knn_nn': 8, 'knn_p': 1, 'qda_features': 18, 'qda_Scaler': 'stand', 'qda_rp': 2.194766836255607e-13, 'xgb_features': 9, 'xgb_Scaler': 'minmax', 'booster': 'gbtree', 'lambda': 0.08563112458848672, 'alpha': 0.0012026824561347104, 'max_depth': 26, 'eta': 2.139786426059019e-08, 'gamma': 0.054535147237844514, 'grow_policy': 'lossguide'}. Best is trial#153 with value: 0.9983354140657512.\n"
          ],
          "name": "stderr"
        },
        {
          "output_type": "stream",
          "text": [
            "('knn', 'gp', 'rf')\n"
          ],
          "name": "stdout"
        },
        {
          "output_type": "stream",
          "text": [
            "[I 2020-07-13 12:13:42,882] Finished trial#419 with value: 0.9879317519766958 with parameters: {'combos': 57, 'knn_features': 13, 'knn_Scaler': 'stand', 'knn_nn': 7, 'knn_p': 1, 'gp_features': 12, 'gp_Scaler': 'stand', 'gp_a': 0.7284483251914249, 'gp_kern': 7, 'rf_features': 5, 'rf_Scaler': 'minmax', 'rf_max_depth': 34, 'rf_ne': 459, 'rf_cw': 'balanced'}. Best is trial#153 with value: 0.9983354140657512.\n"
          ],
          "name": "stderr"
        },
        {
          "output_type": "stream",
          "text": [
            "('knn', 'gp', 'gnb')\n"
          ],
          "name": "stdout"
        },
        {
          "output_type": "stream",
          "text": [
            "[I 2020-07-13 12:13:45,642] Finished trial#420 with value: 0.9925093632958801 with parameters: {'combos': 53, 'knn_features': 15, 'knn_Scaler': 'stand', 'knn_nn': 4, 'knn_p': 1, 'gp_features': 6, 'gp_Scaler': 'minmax', 'gp_a': 0.014898886828213413, 'gp_kern': 5, 'gnb_features': 10, 'gnb_Scaler': 'stand', 'gnb_vs': 0.029192636124000967}. Best is trial#153 with value: 0.9983354140657512.\n"
          ],
          "name": "stderr"
        },
        {
          "output_type": "stream",
          "text": [
            "('knn', 'gnb', 'rf')\n"
          ],
          "name": "stdout"
        },
        {
          "output_type": "stream",
          "text": [
            "[I 2020-07-13 12:13:46,617] Finished trial#421 with value: 0.9868913857677902 with parameters: {'combos': 63, 'knn_features': 14, 'knn_Scaler': 'stand', 'knn_nn': 2, 'knn_p': 1, 'gnb_features': 12, 'gnb_Scaler': 'stand', 'gnb_vs': 0.008574480671420736, 'rf_features': 7, 'rf_Scaler': 'stand', 'rf_max_depth': 48, 'rf_ne': 65, 'rf_cw': 'balanced'}. Best is trial#153 with value: 0.9983354140657512.\n"
          ],
          "name": "stderr"
        },
        {
          "output_type": "stream",
          "text": [
            "('knn', 'gnb', 'ada')\n"
          ],
          "name": "stdout"
        },
        {
          "output_type": "stream",
          "text": [
            "[I 2020-07-13 12:13:48,660] Finished trial#422 with value: 0.9981273408239699 with parameters: {'combos': 61, 'knn_features': 14, 'knn_Scaler': 'stand', 'knn_nn': 3, 'knn_p': 1, 'gnb_features': 11, 'gnb_Scaler': 'stand', 'gnb_vs': 0.0038156044486523833, 'ada_features': 11, 'ada_Scaler': 'log', 'ada_ne': 477, 'ada_lr': 0.40556419945683103, 'ada_algo': 'SAMME'}. Best is trial#153 with value: 0.9983354140657512.\n"
          ],
          "name": "stderr"
        },
        {
          "output_type": "stream",
          "text": [
            "('knn', 'gp', 'gbm')\n"
          ],
          "name": "stdout"
        },
        {
          "output_type": "stream",
          "text": [
            "[I 2020-07-13 12:13:50,981] Finished trial#423 with value: 0.9937578027465668 with parameters: {'combos': 59, 'knn_features': 13, 'knn_Scaler': 'stand', 'knn_nn': 1, 'knn_p': 1, 'gp_features': 15, 'gp_Scaler': 'log', 'gp_a': 0.35673786383646877, 'gp_kern': 9, 'gbm_features': 9, 'gbm_Scaler': 'stand', 'lambda_l1': 0.14808992574252952, 'lambda_l2': 0.09158236594678362, 'num_leaves': 210, 'feature_fraction': 0.591412479163987, 'bagging_fraction': 0.7875816625940263, 'bagging_freq': 1, 'min_child_samples': 6}. Best is trial#153 with value: 0.9983354140657512.\n"
          ],
          "name": "stderr"
        },
        {
          "output_type": "stream",
          "text": [
            "('knn', 'xgb', 'gbm')\n"
          ],
          "name": "stdout"
        },
        {
          "output_type": "stream",
          "text": [
            "[I 2020-07-13 12:13:51,583] Setting status of trial#424 as TrialState.PRUNED. Trial was pruned at iteration 11.\n"
          ],
          "name": "stderr"
        },
        {
          "output_type": "stream",
          "text": [
            "('knn', 'ada', 'xgb')\n"
          ],
          "name": "stdout"
        },
        {
          "output_type": "stream",
          "text": [
            "[I 2020-07-13 12:13:53,779] Finished trial#425 with value: 0.9983354140657511 with parameters: {'combos': 73, 'knn_features': 12, 'knn_Scaler': 'stand', 'knn_nn': 2, 'knn_p': 1, 'ada_features': 11, 'ada_Scaler': 'log', 'ada_ne': 473, 'ada_lr': 0.4194039958109161, 'ada_algo': 'SAMME', 'xgb_features': 9, 'xgb_Scaler': 'minmax', 'booster': 'gbtree', 'lambda': 0.0012289687552965347, 'alpha': 0.2605357555802442, 'max_depth': 19, 'eta': 3.880694722210499e-08, 'gamma': 3.958060344218927e-08, 'grow_policy': 'depthwise'}. Best is trial#153 with value: 0.9983354140657512.\n"
          ],
          "name": "stderr"
        },
        {
          "output_type": "stream",
          "text": [
            "('knn', 'ada', 'rf')\n"
          ],
          "name": "stdout"
        },
        {
          "output_type": "stream",
          "text": [
            "[I 2020-07-13 12:13:56,648] Finished trial#426 with value: 0.994173949230129 with parameters: {'combos': 72, 'knn_features': 12, 'knn_Scaler': 'stand', 'knn_nn': 2, 'knn_p': 1, 'ada_features': 11, 'ada_Scaler': 'log', 'ada_ne': 474, 'ada_lr': 0.4681696212424904, 'ada_algo': 'SAMME', 'rf_features': 1, 'rf_Scaler': 'minmax', 'rf_max_depth': 4, 'rf_ne': 370, 'rf_cw': 'balanced'}. Best is trial#153 with value: 0.9983354140657512.\n"
          ],
          "name": "stderr"
        },
        {
          "output_type": "stream",
          "text": [
            "('mlp', 'qda', 'xgb')\n"
          ],
          "name": "stdout"
        },
        {
          "output_type": "stream",
          "text": [
            "/usr/local/lib/python3.6/dist-packages/sklearn/neural_network/_multilayer_perceptron.py:571: ConvergenceWarning:\n",
            "\n",
            "Stochastic Optimizer: Maximum iterations (300) reached and the optimization hasn't converged yet.\n",
            "\n",
            "/usr/local/lib/python3.6/dist-packages/sklearn/discriminant_analysis.py:691: UserWarning:\n",
            "\n",
            "Variables are collinear\n",
            "\n",
            "[I 2020-07-13 12:13:58,231] Finished trial#427 with value: 0.9916770703287557 with parameters: {'combos': 33, 'mlp_features': 18, 'mlp_Scaler': 'stand', 'mlp_alpha': 9.963286969402945e-05, 'qda_features': 17, 'qda_Scaler': 'minmax', 'qda_rp': 3.5556608868911833e-12, 'xgb_features': 9, 'xgb_Scaler': 'minmax', 'booster': 'gbtree', 'lambda': 0.0017840482322115782, 'alpha': 0.2655177957507882, 'max_depth': 20, 'eta': 3.944428147540113e-08, 'gamma': 2.4395420456472923e-08, 'grow_policy': 'depthwise'}. Best is trial#153 with value: 0.9983354140657512.\n"
          ],
          "name": "stderr"
        },
        {
          "output_type": "stream",
          "text": [
            "('knn', 'gp', 'qda')\n"
          ],
          "name": "stdout"
        },
        {
          "output_type": "stream",
          "text": [
            "/usr/local/lib/python3.6/dist-packages/sklearn/discriminant_analysis.py:691: UserWarning:\n",
            "\n",
            "Variables are collinear\n",
            "\n",
            "[I 2020-07-13 12:14:01,223] Finished trial#428 with value: 0.9935497295047857 with parameters: {'combos': 54, 'knn_features': 14, 'knn_Scaler': 'stand', 'knn_nn': 1, 'knn_p': 1, 'gp_features': 7, 'gp_Scaler': 'stand', 'gp_a': 0.001990049004266921, 'gp_kern': 10, 'qda_features': 15, 'qda_Scaler': 'log', 'qda_rp': 2.7871490770206886e-08}. Best is trial#153 with value: 0.9983354140657512.\n"
          ],
          "name": "stderr"
        },
        {
          "output_type": "stream",
          "text": [
            "('knn', 'et', 'xgb')\n"
          ],
          "name": "stdout"
        },
        {
          "output_type": "stream",
          "text": [
            "[I 2020-07-13 12:14:02,314] Finished trial#429 with value: 0.9933416562630046 with parameters: {'combos': 76, 'knn_features': 12, 'knn_Scaler': 'stand', 'knn_nn': 2, 'knn_p': 1, 'et_features': 13, 'et_Scaler': 'log', 'et_max_depth': 22, 'et_ne': 389, 'xgb_features': 10, 'xgb_Scaler': 'minmax', 'booster': 'gbtree', 'lambda': 0.005431777287782571, 'alpha': 0.030513788396834312, 'max_depth': 12, 'eta': 2.34850878968622e-08, 'gamma': 9.271875847264088e-08, 'grow_policy': 'depthwise'}. Best is trial#153 with value: 0.9983354140657512.\n"
          ],
          "name": "stderr"
        },
        {
          "output_type": "stream",
          "text": [
            "('knn', 'qda', 'gbm')\n"
          ],
          "name": "stdout"
        },
        {
          "output_type": "stream",
          "text": [
            "/usr/local/lib/python3.6/dist-packages/sklearn/discriminant_analysis.py:691: UserWarning:\n",
            "\n",
            "Variables are collinear\n",
            "\n",
            "[I 2020-07-13 12:14:03,115] Finished trial#430 with value: 0.9956304619225967 with parameters: {'combos': 70, 'knn_features': 13, 'knn_Scaler': 'stand', 'knn_nn': 3, 'knn_p': 1, 'qda_features': 5, 'qda_Scaler': 'stand', 'qda_rp': 0.00013287733546360066, 'gbm_features': 11, 'gbm_Scaler': 'stand', 'lambda_l1': 6.224407550338895e-05, 'lambda_l2': 0.007070268253269861, 'num_leaves': 166, 'feature_fraction': 0.6430771395381976, 'bagging_fraction': 0.563150385511639, 'bagging_freq': 3, 'min_child_samples': 9}. Best is trial#153 with value: 0.9983354140657512.\n"
          ],
          "name": "stderr"
        },
        {
          "output_type": "stream",
          "text": [
            "('knn', 'rf', 'xgb')\n"
          ],
          "name": "stdout"
        },
        {
          "output_type": "stream",
          "text": [
            "[I 2020-07-13 12:14:04,495] Finished trial#431 with value: 0.9924053266749896 with parameters: {'combos': 78, 'knn_features': 12, 'knn_Scaler': 'stand', 'knn_nn': 1, 'knn_p': 1, 'rf_features': 18, 'rf_Scaler': 'stand', 'rf_max_depth': 54, 'rf_ne': 272, 'rf_cw': 'balanced', 'xgb_features': 11, 'xgb_Scaler': 'minmax', 'booster': 'gbtree', 'lambda': 0.0253023870438602, 'alpha': 0.09110561162037492, 'max_depth': 18, 'eta': 1.588761086420569e-08, 'gamma': 5.353006123454065e-07, 'grow_policy': 'depthwise'}. Best is trial#153 with value: 0.9983354140657512.\n"
          ],
          "name": "stderr"
        },
        {
          "output_type": "stream",
          "text": [
            "('knn', 'qda', 'et')\n"
          ],
          "name": "stdout"
        },
        {
          "output_type": "stream",
          "text": [
            "/usr/local/lib/python3.6/dist-packages/sklearn/discriminant_analysis.py:691: UserWarning:\n",
            "\n",
            "Variables are collinear\n",
            "\n",
            "[I 2020-07-13 12:14:05,304] Finished trial#432 with value: 0.9962546816479401 with parameters: {'combos': 67, 'knn_features': 14, 'knn_Scaler': 'stand', 'knn_nn': 4, 'knn_p': 1, 'qda_features': 13, 'qda_Scaler': 'stand', 'qda_rp': 3.077891060792052e-11, 'et_features': 17, 'et_Scaler': 'stand', 'et_max_depth': 24, 'et_ne': 155}. Best is trial#153 with value: 0.9983354140657512.\n"
          ],
          "name": "stderr"
        },
        {
          "output_type": "stream",
          "text": [
            "('knn', 'ada', 'gbm')\n"
          ],
          "name": "stdout"
        },
        {
          "output_type": "stream",
          "text": [
            "[I 2020-07-13 12:14:07,315] Setting status of trial#433 as TrialState.PRUNED. Trial was pruned at iteration 11.\n"
          ],
          "name": "stderr"
        },
        {
          "output_type": "stream",
          "text": [
            "('svc', 'gp', 'xgb')\n"
          ],
          "name": "stdout"
        },
        {
          "output_type": "stream",
          "text": [
            "[I 2020-07-13 12:14:09,838] Finished trial#434 with value: 0.9910528506034124 with parameters: {'combos': 86, 'svc_features': 7, 'svc_Scaler': 'log', 'svc_kern': 'poly', 'svc_C': 1.189985581697608e-06, 'svc_deg': 3, 'gp_features': 2, 'gp_Scaler': 'stand', 'gp_a': 0.02063079702702366, 'gp_kern': 3, 'xgb_features': 9, 'xgb_Scaler': 'minmax', 'booster': 'gbtree', 'lambda': 0.000520098980567839, 'alpha': 0.00886415654647312, 'max_depth': 33, 'eta': 8.460473920973229e-06, 'gamma': 1.8715052780977856e-08, 'grow_policy': 'depthwise'}. Best is trial#153 with value: 0.9983354140657512.\n"
          ],
          "name": "stderr"
        },
        {
          "output_type": "stream",
          "text": [
            "('knn', 'ada', 'rf')\n"
          ],
          "name": "stdout"
        },
        {
          "output_type": "stream",
          "text": [
            "[I 2020-07-13 12:14:12,729] Finished trial#435 with value: 0.9937578027465669 with parameters: {'combos': 72, 'knn_features': 11, 'knn_Scaler': 'stand', 'knn_nn': 3, 'knn_p': 1, 'ada_features': 11, 'ada_Scaler': 'log', 'ada_ne': 484, 'ada_lr': 0.44573280070830057, 'ada_algo': 'SAMME', 'rf_features': 2, 'rf_Scaler': 'minmax', 'rf_max_depth': 70, 'rf_ne': 350, 'rf_cw': 'balanced'}. Best is trial#153 with value: 0.9983354140657512.\n"
          ],
          "name": "stderr"
        },
        {
          "output_type": "stream",
          "text": [
            "('knn', 'et', 'xgb')\n"
          ],
          "name": "stdout"
        },
        {
          "output_type": "stream",
          "text": [
            "[I 2020-07-13 12:14:13,835] Finished trial#436 with value: 0.9887640449438203 with parameters: {'combos': 76, 'knn_features': 14, 'knn_Scaler': 'stand', 'knn_nn': 5, 'knn_p': 1, 'et_features': 11, 'et_Scaler': 'minmax', 'et_max_depth': 8, 'et_ne': 403, 'xgb_features': 12, 'xgb_Scaler': 'minmax', 'booster': 'gbtree', 'lambda': 0.0029121335191055076, 'alpha': 0.016872353500421385, 'max_depth': 15, 'eta': 4.2690957108745846e-07, 'gamma': 9.082349896899494e-08, 'grow_policy': 'depthwise'}. Best is trial#153 with value: 0.9983354140657512.\n"
          ],
          "name": "stderr"
        },
        {
          "output_type": "stream",
          "text": [
            "('knn', 'gnb', 'gbm')\n"
          ],
          "name": "stdout"
        },
        {
          "output_type": "stream",
          "text": [
            "[I 2020-07-13 12:14:14,405] Setting status of trial#437 as TrialState.PRUNED. Trial was pruned at iteration 11.\n"
          ],
          "name": "stderr"
        },
        {
          "output_type": "stream",
          "text": [
            "('svc', 'gp', 'ada')\n"
          ],
          "name": "stdout"
        },
        {
          "output_type": "stream",
          "text": [
            "[I 2020-07-13 12:14:18,324] Finished trial#438 with value: 0.9929255097794424 with parameters: {'combos': 83, 'svc_features': 5, 'svc_Scaler': 'log', 'svc_kern': 'rbf', 'svc_C': 0.0006223869399303036, 'svc_deg': 4, 'gp_features': 11, 'gp_Scaler': 'minmax', 'gp_a': 0.07881489590674426, 'gp_kern': 1, 'ada_features': 10, 'ada_Scaler': 'log', 'ada_ne': 497, 'ada_lr': 0.37695779699807724, 'ada_algo': 'SAMME'}. Best is trial#153 with value: 0.9983354140657512.\n"
          ],
          "name": "stderr"
        },
        {
          "output_type": "stream",
          "text": [
            "('knn', 'qda', 'xgb')\n"
          ],
          "name": "stdout"
        },
        {
          "output_type": "stream",
          "text": [
            "/usr/local/lib/python3.6/dist-packages/sklearn/discriminant_analysis.py:691: UserWarning:\n",
            "\n",
            "Variables are collinear\n",
            "\n",
            "[I 2020-07-13 12:14:19,014] Finished trial#439 with value: 0.9883478984602581 with parameters: {'combos': 69, 'knn_features': 13, 'knn_Scaler': 'stand', 'knn_nn': 4, 'knn_p': 1, 'qda_features': 12, 'qda_Scaler': 'stand', 'qda_rp': 9.974642176594313e-07, 'xgb_features': 10, 'xgb_Scaler': 'minmax', 'booster': 'gbtree', 'lambda': 0.0007509508730501389, 'alpha': 0.20680357250968542, 'max_depth': 38, 'eta': 4.025607301662009e-08, 'gamma': 2.7907078190368516e-07, 'grow_policy': 'depthwise'}. Best is trial#153 with value: 0.9983354140657512.\n"
          ],
          "name": "stderr"
        },
        {
          "output_type": "stream",
          "text": [
            "('knn', 'rf', 'gbm')\n"
          ],
          "name": "stdout"
        },
        {
          "output_type": "stream",
          "text": [
            "[I 2020-07-13 12:14:20,385] Finished trial#440 with value: 0.990220557636288 with parameters: {'combos': 79, 'knn_features': 12, 'knn_Scaler': 'stand', 'knn_nn': 1, 'knn_p': 1, 'rf_features': 9, 'rf_Scaler': 'stand', 'rf_max_depth': 12, 'rf_ne': 216, 'rf_cw': 'balanced', 'gbm_features': 15, 'gbm_Scaler': 'log', 'lambda_l1': 0.0004440052154310981, 'lambda_l2': 0.0023658843599962134, 'num_leaves': 148, 'feature_fraction': 0.9293025325806624, 'bagging_fraction': 0.5858046166460296, 'bagging_freq': 1, 'min_child_samples': 15}. Best is trial#153 with value: 0.9983354140657512.\n"
          ],
          "name": "stderr"
        },
        {
          "output_type": "stream",
          "text": [
            "('knn', 'ada', 'et')\n"
          ],
          "name": "stdout"
        },
        {
          "output_type": "stream",
          "text": [
            "[I 2020-07-13 12:14:22,591] Finished trial#441 with value: 0.9972950478568456 with parameters: {'combos': 71, 'knn_features': 12, 'knn_Scaler': 'log', 'knn_nn': 8, 'knn_p': 1, 'ada_features': 11, 'ada_Scaler': 'log', 'ada_ne': 470, 'ada_lr': 0.40284383828221404, 'ada_algo': 'SAMME', 'et_features': 14, 'et_Scaler': 'log', 'et_max_depth': 26, 'et_ne': 196}. Best is trial#153 with value: 0.9983354140657512.\n"
          ],
          "name": "stderr"
        },
        {
          "output_type": "stream",
          "text": [
            "('knn', 'gnb', 'gbm')\n"
          ],
          "name": "stdout"
        },
        {
          "output_type": "stream",
          "text": [
            "[I 2020-07-13 12:14:23,356] Finished trial#442 with value: 0.9904286308780691 with parameters: {'combos': 65, 'knn_features': 5, 'knn_Scaler': 'log', 'knn_nn': 12, 'knn_p': 1, 'gnb_features': 0, 'gnb_Scaler': 'minmax', 'gnb_vs': 0.9978991816236106, 'gbm_features': 13, 'gbm_Scaler': 'log', 'lambda_l1': 2.6904580282910203e-06, 'lambda_l2': 0.0009785802309254384, 'num_leaves': 123, 'feature_fraction': 0.4278902860554206, 'bagging_fraction': 0.5112696603899588, 'bagging_freq': 4, 'min_child_samples': 11}. Best is trial#153 with value: 0.9983354140657512.\n"
          ],
          "name": "stderr"
        },
        {
          "output_type": "stream",
          "text": [
            "('knn', 'gnb', 'et')\n"
          ],
          "name": "stdout"
        },
        {
          "output_type": "stream",
          "text": [
            "[I 2020-07-13 12:14:24,345] Finished trial#443 with value: 0.9952143154390345 with parameters: {'combos': 62, 'knn_features': 14, 'knn_Scaler': 'stand', 'knn_nn': 3, 'knn_p': 1, 'gnb_features': 17, 'gnb_Scaler': 'stand', 'gnb_vs': 7.447563762356099e-06, 'et_features': 20, 'et_Scaler': 'stand', 'et_max_depth': 12, 'et_ne': 310}. Best is trial#153 with value: 0.9983354140657512.\n"
          ],
          "name": "stderr"
        },
        {
          "output_type": "stream",
          "text": [
            "('knn', 'ada', 'gbm')\n"
          ],
          "name": "stdout"
        },
        {
          "output_type": "stream",
          "text": [
            "[I 2020-07-13 12:14:26,235] Setting status of trial#444 as TrialState.PRUNED. Trial was pruned at iteration 11.\n"
          ],
          "name": "stderr"
        },
        {
          "output_type": "stream",
          "text": [
            "('knn', 'gp', 'rf')\n"
          ],
          "name": "stdout"
        },
        {
          "output_type": "stream",
          "text": [
            "[I 2020-07-13 12:14:30,217] Finished trial#445 with value: 0.9898044111527258 with parameters: {'combos': 57, 'knn_features': 14, 'knn_Scaler': 'stand', 'knn_nn': 3, 'knn_p': 1, 'gp_features': 17, 'gp_Scaler': 'log', 'gp_a': 0.0015919234510013798, 'gp_kern': 5, 'rf_features': 3, 'rf_Scaler': 'minmax', 'rf_max_depth': 83, 'rf_ne': 412, 'rf_cw': 'balanced'}. Best is trial#153 with value: 0.9983354140657512.\n"
          ],
          "name": "stderr"
        },
        {
          "output_type": "stream",
          "text": [
            "('knn', 'gnb', 'ada')\n"
          ],
          "name": "stdout"
        },
        {
          "output_type": "stream",
          "text": [
            "[I 2020-07-13 12:14:31,766] Finished trial#446 with value: 0.9981273408239699 with parameters: {'combos': 61, 'knn_features': 6, 'knn_Scaler': 'stand', 'knn_nn': 2, 'knn_p': 1, 'gnb_features': 20, 'gnb_Scaler': 'stand', 'gnb_vs': 0.158273779748704, 'ada_features': 13, 'ada_Scaler': 'log', 'ada_ne': 305, 'ada_lr': 0.42322723548554664, 'ada_algo': 'SAMME'}. Best is trial#153 with value: 0.9983354140657512.\n"
          ],
          "name": "stderr"
        },
        {
          "output_type": "stream",
          "text": [
            "('knn', 'gnb', 'qda')\n"
          ],
          "name": "stdout"
        },
        {
          "output_type": "stream",
          "text": [
            "/usr/local/lib/python3.6/dist-packages/sklearn/discriminant_analysis.py:691: UserWarning:\n",
            "\n",
            "Variables are collinear\n",
            "\n",
            "[I 2020-07-13 12:14:32,438] Finished trial#447 with value: 0.9893882646691635 with parameters: {'combos': 60, 'knn_features': 6, 'knn_Scaler': 'stand', 'knn_nn': 2, 'knn_p': 1, 'gnb_features': 20, 'gnb_Scaler': 'stand', 'gnb_vs': 0.004657789199374775, 'qda_features': 9, 'qda_Scaler': 'minmax', 'qda_rp': 0.04479676951242641}. Best is trial#153 with value: 0.9983354140657512.\n"
          ],
          "name": "stderr"
        },
        {
          "output_type": "stream",
          "text": [
            "('knn', 'qda', 'xgb')\n"
          ],
          "name": "stdout"
        },
        {
          "output_type": "stream",
          "text": [
            "/usr/local/lib/python3.6/dist-packages/sklearn/discriminant_analysis.py:691: UserWarning:\n",
            "\n",
            "Variables are collinear\n",
            "\n",
            "[I 2020-07-13 12:14:33,120] Finished trial#448 with value: 0.9904286308780691 with parameters: {'combos': 69, 'knn_features': 8, 'knn_Scaler': 'stand', 'knn_nn': 3, 'knn_p': 1, 'qda_features': 11, 'qda_Scaler': 'minmax', 'qda_rp': 1.2394873298344685e-08, 'xgb_features': 8, 'xgb_Scaler': 'log', 'booster': 'gbtree', 'lambda': 0.044788045511511144, 'alpha': 0.13096846941550863, 'max_depth': 27, 'eta': 1.0902186625440972e-06, 'gamma': 3.8890806511839906e-08, 'grow_policy': 'depthwise'}. Best is trial#153 with value: 0.9983354140657512.\n"
          ],
          "name": "stderr"
        },
        {
          "output_type": "stream",
          "text": [
            "('knn', 'gnb', 'xgb')\n"
          ],
          "name": "stdout"
        },
        {
          "output_type": "stream",
          "text": [
            "[I 2020-07-13 12:14:33,798] Finished trial#449 with value: 0.9880357885975863 with parameters: {'combos': 64, 'knn_features': 6, 'knn_Scaler': 'minmax', 'knn_nn': 1, 'knn_p': 1, 'gnb_features': 20, 'gnb_Scaler': 'stand', 'gnb_vs': 0.2143273203277957, 'xgb_features': 13, 'xgb_Scaler': 'minmax', 'booster': 'gbtree', 'lambda': 0.0020863854835655084, 'alpha': 0.08628589778787411, 'max_depth': 30, 'eta': 8.271359433899176e-08, 'gamma': 1.0900845419831426e-06, 'grow_policy': 'depthwise'}. Best is trial#153 with value: 0.9983354140657512.\n"
          ],
          "name": "stderr"
        },
        {
          "output_type": "stream",
          "text": [
            "('knn', 'gp', 'et')\n"
          ],
          "name": "stdout"
        },
        {
          "output_type": "stream",
          "text": [
            "[I 2020-07-13 12:14:35,333] Finished trial#450 with value: 0.9910528506034124 with parameters: {'combos': 56, 'knn_features': 7, 'knn_Scaler': 'stand', 'knn_nn': 4, 'knn_p': 1, 'gp_features': 20, 'gp_Scaler': 'stand', 'gp_a': 0.009050908317077572, 'gp_kern': 2, 'et_features': 6, 'et_Scaler': 'minmax', 'et_max_depth': 93, 'et_ne': 95}. Best is trial#153 with value: 0.9983354140657512.\n"
          ],
          "name": "stderr"
        },
        {
          "output_type": "stream",
          "text": [
            "('knn', 'qda', 'rf')\n"
          ],
          "name": "stdout"
        },
        {
          "output_type": "stream",
          "text": [
            "/usr/local/lib/python3.6/dist-packages/sklearn/discriminant_analysis.py:691: UserWarning:\n",
            "\n",
            "Variables are collinear\n",
            "\n",
            "[I 2020-07-13 12:14:36,554] Finished trial#451 with value: 0.9867873491468997 with parameters: {'combos': 68, 'knn_features': 12, 'knn_Scaler': 'stand', 'knn_nn': 2, 'knn_p': 1, 'qda_features': 14, 'qda_Scaler': 'stand', 'qda_rp': 3.0719052586440044e-09, 'rf_features': 12, 'rf_Scaler': 'stand', 'rf_max_depth': 78, 'rf_ne': 188, 'rf_cw': 'balanced'}. Best is trial#153 with value: 0.9983354140657512.\n"
          ],
          "name": "stderr"
        },
        {
          "output_type": "stream",
          "text": [
            "('knn', 'qda', 'gbm')\n"
          ],
          "name": "stdout"
        },
        {
          "output_type": "stream",
          "text": [
            "/usr/local/lib/python3.6/dist-packages/sklearn/discriminant_analysis.py:691: UserWarning:\n",
            "\n",
            "Variables are collinear\n",
            "\n",
            "[I 2020-07-13 12:14:37,339] Finished trial#452 with value: 0.9964627548897212 with parameters: {'combos': 70, 'knn_features': 13, 'knn_Scaler': 'stand', 'knn_nn': 3, 'knn_p': 1, 'qda_features': 16, 'qda_Scaler': 'stand', 'qda_rp': 9.16335925275982e-06, 'gbm_features': 20, 'gbm_Scaler': 'stand', 'lambda_l1': 1.3050955306433712e-07, 'lambda_l2': 0.19924149971532362, 'num_leaves': 41, 'feature_fraction': 0.6275402138888782, 'bagging_fraction': 0.6152325031208082, 'bagging_freq': 3, 'min_child_samples': 7}. Best is trial#153 with value: 0.9983354140657512.\n"
          ],
          "name": "stderr"
        },
        {
          "output_type": "stream",
          "text": [
            "('knn', 'et', 'rf')\n"
          ],
          "name": "stdout"
        },
        {
          "output_type": "stream",
          "text": [
            "[I 2020-07-13 12:14:38,873] Finished trial#453 with value: 0.9900124843945068 with parameters: {'combos': 75, 'knn_features': 11, 'knn_Scaler': 'stand', 'knn_nn': 2, 'knn_p': 1, 'et_features': 8, 'et_Scaler': 'stand', 'et_max_depth': 47, 'et_ne': 179, 'rf_features': 17, 'rf_Scaler': 'minmax', 'rf_max_depth': 69, 'rf_ne': 256, 'rf_cw': 'balanced'}. Best is trial#153 with value: 0.9983354140657512.\n"
          ],
          "name": "stderr"
        },
        {
          "output_type": "stream",
          "text": [
            "('knn', 'gnb', 'qda')\n"
          ],
          "name": "stdout"
        },
        {
          "output_type": "stream",
          "text": [
            "/usr/local/lib/python3.6/dist-packages/sklearn/discriminant_analysis.py:691: UserWarning:\n",
            "\n",
            "Variables are collinear\n",
            "\n",
            "[I 2020-07-13 12:14:39,546] Finished trial#454 with value: 0.9950062421972534 with parameters: {'combos': 60, 'knn_features': 13, 'knn_Scaler': 'stand', 'knn_nn': 5, 'knn_p': 1, 'gnb_features': 19, 'gnb_Scaler': 'stand', 'gnb_vs': 0.00052714035196758, 'qda_features': 6, 'qda_Scaler': 'minmax', 'qda_rp': 0.0005295767753141779}. Best is trial#153 with value: 0.9983354140657512.\n"
          ],
          "name": "stderr"
        },
        {
          "output_type": "stream",
          "text": [
            "('knn', 'gnb', 'et')\n"
          ],
          "name": "stdout"
        },
        {
          "output_type": "stream",
          "text": [
            "[I 2020-07-13 12:14:40,565] Finished trial#455 with value: 0.9958385351643779 with parameters: {'combos': 62, 'knn_features': 6, 'knn_Scaler': 'stand', 'knn_nn': 1, 'knn_p': 1, 'gnb_features': 3, 'gnb_Scaler': 'stand', 'gnb_vs': 0.0413511386412117, 'et_features': 0, 'et_Scaler': 'log', 'et_max_depth': 60, 'et_ne': 358}. Best is trial#153 with value: 0.9983354140657512.\n"
          ],
          "name": "stderr"
        },
        {
          "output_type": "stream",
          "text": [
            "('knn', 'qda', 'ada')\n"
          ],
          "name": "stdout"
        },
        {
          "output_type": "stream",
          "text": [
            "/usr/local/lib/python3.6/dist-packages/sklearn/discriminant_analysis.py:691: UserWarning:\n",
            "\n",
            "Variables are collinear\n",
            "\n",
            "[I 2020-07-13 12:14:42,586] Finished trial#456 with value: 0.997919267582189 with parameters: {'combos': 66, 'knn_features': 15, 'knn_Scaler': 'stand', 'knn_nn': 2, 'knn_p': 2, 'qda_features': 20, 'qda_Scaler': 'stand', 'qda_rp': 6.206203503802028e-08, 'ada_features': 13, 'ada_Scaler': 'log', 'ada_ne': 462, 'ada_lr': 0.4328055226237292, 'ada_algo': 'SAMME'}. Best is trial#153 with value: 0.9983354140657512.\n"
          ],
          "name": "stderr"
        },
        {
          "output_type": "stream",
          "text": [
            "('knn', 'gnb', 'gbm')\n"
          ],
          "name": "stdout"
        },
        {
          "output_type": "stream",
          "text": [
            "[I 2020-07-13 12:14:43,154] Setting status of trial#457 as TrialState.PRUNED. Trial was pruned at iteration 11.\n"
          ],
          "name": "stderr"
        },
        {
          "output_type": "stream",
          "text": [
            "('knn', 'ada', 'rf')\n"
          ],
          "name": "stdout"
        },
        {
          "output_type": "stream",
          "text": [
            "[I 2020-07-13 12:14:46,040] Finished trial#458 with value: 0.9972950478568456 with parameters: {'combos': 72, 'knn_features': 16, 'knn_Scaler': 'stand', 'knn_nn': 1, 'knn_p': 1, 'ada_features': 12, 'ada_Scaler': 'log', 'ada_ne': 461, 'ada_lr': 0.6299499693985516, 'ada_algo': 'SAMME', 'rf_features': 18, 'rf_Scaler': 'stand', 'rf_max_depth': 74, 'rf_ne': 236, 'rf_cw': 'balanced_subsample'}. Best is trial#153 with value: 0.9983354140657512.\n"
          ],
          "name": "stderr"
        },
        {
          "output_type": "stream",
          "text": [
            "('knn', 'rf', 'gbm')\n"
          ],
          "name": "stdout"
        },
        {
          "output_type": "stream",
          "text": [
            "[I 2020-07-13 12:14:47,548] Setting status of trial#459 as TrialState.PRUNED. Trial was pruned at iteration 11.\n"
          ],
          "name": "stderr"
        },
        {
          "output_type": "stream",
          "text": [
            "('knn', 'qda', 'rf')\n"
          ],
          "name": "stdout"
        },
        {
          "output_type": "stream",
          "text": [
            "/usr/local/lib/python3.6/dist-packages/sklearn/discriminant_analysis.py:691: UserWarning:\n",
            "\n",
            "Variables are collinear\n",
            "\n",
            "[I 2020-07-13 12:14:49,216] Finished trial#460 with value: 0.9891801914273824 with parameters: {'combos': 68, 'knn_features': 15, 'knn_Scaler': 'stand', 'knn_nn': 2, 'knn_p': 2, 'qda_features': 19, 'qda_Scaler': 'log', 'qda_rp': 8.83852319947784e-10, 'rf_features': 4, 'rf_Scaler': 'stand', 'rf_max_depth': 39, 'rf_ne': 314, 'rf_cw': 'balanced_subsample'}. Best is trial#153 with value: 0.9983354140657512.\n"
          ],
          "name": "stderr"
        },
        {
          "output_type": "stream",
          "text": [
            "('knn', 'gnb', 'rf')\n"
          ],
          "name": "stdout"
        },
        {
          "output_type": "stream",
          "text": [
            "[I 2020-07-13 12:14:51,217] Finished trial#461 with value: 0.9883478984602581 with parameters: {'combos': 63, 'knn_features': 15, 'knn_Scaler': 'stand', 'knn_nn': 3, 'knn_p': 2, 'gnb_features': 19, 'gnb_Scaler': 'stand', 'gnb_vs': 0.9505470122830961, 'rf_features': 19, 'rf_Scaler': 'minmax', 'rf_max_depth': 93, 'rf_ne': 440, 'rf_cw': 'balanced_subsample'}. Best is trial#153 with value: 0.9983354140657512.\n"
          ],
          "name": "stderr"
        },
        {
          "output_type": "stream",
          "text": [
            "('knn', 'svc', 'gbm')\n"
          ],
          "name": "stdout"
        },
        {
          "output_type": "stream",
          "text": [
            "[I 2020-07-13 12:14:51,852] Setting status of trial#462 as TrialState.PRUNED. Trial was pruned at iteration 11.\n"
          ],
          "name": "stderr"
        },
        {
          "output_type": "stream",
          "text": [
            "('knn', 'gp', 'xgb')\n"
          ],
          "name": "stdout"
        },
        {
          "output_type": "stream",
          "text": [
            "[I 2020-07-13 12:14:54,532] Finished trial#463 with value: 0.994173949230129 with parameters: {'combos': 58, 'knn_features': 5, 'knn_Scaler': 'stand', 'knn_nn': 2, 'knn_p': 2, 'gp_features': 14, 'gp_Scaler': 'stand', 'gp_a': 0.00531216928357449, 'gp_kern': 4, 'xgb_features': 11, 'xgb_Scaler': 'stand', 'booster': 'gbtree', 'lambda': 0.23726413879350444, 'alpha': 0.0500498878708025, 'max_depth': 9, 'eta': 1.0363023254568816e-08, 'gamma': 1.033092672374106e-08, 'grow_policy': 'depthwise'}. Best is trial#153 with value: 0.9983354140657512.\n"
          ],
          "name": "stderr"
        },
        {
          "output_type": "stream",
          "text": [
            "('knn', 'gnb', 'gbm')\n"
          ],
          "name": "stdout"
        },
        {
          "output_type": "stream",
          "text": [
            "[I 2020-07-13 12:14:55,312] Finished trial#464 with value: 0.9952143154390346 with parameters: {'combos': 65, 'knn_features': 12, 'knn_Scaler': 'stand', 'knn_nn': 4, 'knn_p': 2, 'gnb_features': 20, 'gnb_Scaler': 'stand', 'gnb_vs': 0.011869899399252924, 'gbm_features': 19, 'gbm_Scaler': 'stand', 'lambda_l1': 2.9307341118043532e-08, 'lambda_l2': 1.569022338116131, 'num_leaves': 181, 'feature_fraction': 0.48075780568634163, 'bagging_fraction': 0.6590729572503393, 'bagging_freq': 4, 'min_child_samples': 6}. Best is trial#153 with value: 0.9983354140657512.\n"
          ],
          "name": "stderr"
        },
        {
          "output_type": "stream",
          "text": [
            "('knn', 'ada', 'xgb')\n"
          ],
          "name": "stdout"
        },
        {
          "output_type": "stream",
          "text": [
            "[I 2020-07-13 12:14:57,008] Finished trial#465 with value: 0.9972950478568456 with parameters: {'combos': 73, 'knn_features': 11, 'knn_Scaler': 'stand', 'knn_nn': 3, 'knn_p': 2, 'ada_features': 13, 'ada_Scaler': 'log', 'ada_ne': 344, 'ada_lr': 0.391884369313092, 'ada_algo': 'SAMME', 'xgb_features': 10, 'xgb_Scaler': 'minmax', 'booster': 'gbtree', 'lambda': 0.011235792994827265, 'alpha': 0.3740616537714702, 'max_depth': 21, 'eta': 3.1372078917230157e-07, 'gamma': 0.0005053366412896325, 'grow_policy': 'depthwise'}. Best is trial#153 with value: 0.9983354140657512.\n"
          ],
          "name": "stderr"
        },
        {
          "output_type": "stream",
          "text": [
            "('knn', 'et', 'gbm')\n"
          ],
          "name": "stdout"
        },
        {
          "output_type": "stream",
          "text": [
            "[I 2020-07-13 12:14:57,812] Setting status of trial#466 as TrialState.PRUNED. Trial was pruned at iteration 11.\n"
          ],
          "name": "stderr"
        },
        {
          "output_type": "stream",
          "text": [
            "('knn', 'gnb', 'ada')\n"
          ],
          "name": "stdout"
        },
        {
          "output_type": "stream",
          "text": [
            "[I 2020-07-13 12:14:59,937] Finished trial#467 with value: 0.9985434873075323 with parameters: {'combos': 61, 'knn_features': 6, 'knn_Scaler': 'stand', 'knn_nn': 2, 'knn_p': 1, 'gnb_features': 9, 'gnb_Scaler': 'stand', 'gnb_vs': 1.872720587216558e-06, 'ada_features': 13, 'ada_Scaler': 'log', 'ada_ne': 463, 'ada_lr': 0.5517210479742418, 'ada_algo': 'SAMME'}. Best is trial#467 with value: 0.9985434873075323.\n"
          ],
          "name": "stderr"
        },
        {
          "output_type": "stream",
          "text": [
            "('knn', 'gnb', 'qda')\n"
          ],
          "name": "stdout"
        },
        {
          "output_type": "stream",
          "text": [
            "/usr/local/lib/python3.6/dist-packages/sklearn/discriminant_analysis.py:691: UserWarning:\n",
            "\n",
            "Variables are collinear\n",
            "\n",
            "[I 2020-07-13 12:15:00,614] Finished trial#468 with value: 0.9910528506034124 with parameters: {'combos': 60, 'knn_features': 7, 'knn_Scaler': 'stand', 'knn_nn': 1, 'knn_p': 1, 'gnb_features': 8, 'gnb_Scaler': 'stand', 'gnb_vs': 2.4258913745198925e-06, 'qda_features': 19, 'qda_Scaler': 'stand', 'qda_rp': 0.004009663387637852}. Best is trial#467 with value: 0.9985434873075323.\n"
          ],
          "name": "stderr"
        },
        {
          "output_type": "stream",
          "text": [
            "('knn', 'qda', 'ada')\n"
          ],
          "name": "stdout"
        },
        {
          "output_type": "stream",
          "text": [
            "/usr/local/lib/python3.6/dist-packages/sklearn/discriminant_analysis.py:691: UserWarning:\n",
            "\n",
            "Variables are collinear\n",
            "\n",
            "[I 2020-07-13 12:15:02,636] Finished trial#469 with value: 0.9985434873075322 with parameters: {'combos': 66, 'knn_features': 6, 'knn_Scaler': 'stand', 'knn_nn': 2, 'knn_p': 1, 'qda_features': 20, 'qda_Scaler': 'stand', 'qda_rp': 1.60957947098284e-11, 'ada_features': 13, 'ada_Scaler': 'log', 'ada_ne': 463, 'ada_lr': 0.515900315922691, 'ada_algo': 'SAMME'}. Best is trial#467 with value: 0.9985434873075323.\n"
          ],
          "name": "stderr"
        },
        {
          "output_type": "stream",
          "text": [
            "('knn', 'qda', 'et')\n"
          ],
          "name": "stdout"
        },
        {
          "output_type": "stream",
          "text": [
            "/usr/local/lib/python3.6/dist-packages/sklearn/discriminant_analysis.py:691: UserWarning:\n",
            "\n",
            "Variables are collinear\n",
            "\n",
            "[I 2020-07-13 12:15:03,333] Finished trial#470 with value: 0.9843945068664169 with parameters: {'combos': 67, 'knn_features': 6, 'knn_Scaler': 'stand', 'knn_nn': 2, 'knn_p': 1, 'qda_features': 18, 'qda_Scaler': 'stand', 'qda_rp': 1.816040501515266e-12, 'et_features': 7, 'et_Scaler': 'minmax', 'et_max_depth': 20, 'et_ne': 43}. Best is trial#467 with value: 0.9985434873075323.\n"
          ],
          "name": "stderr"
        },
        {
          "output_type": "stream",
          "text": [
            "('knn', 'gnb', 'gbm')\n"
          ],
          "name": "stdout"
        },
        {
          "output_type": "stream",
          "text": [
            "[I 2020-07-13 12:15:04,133] Finished trial#471 with value: 0.9954223886808157 with parameters: {'combos': 65, 'knn_features': 6, 'knn_Scaler': 'stand', 'knn_nn': 1, 'knn_p': 1, 'gnb_features': 16, 'gnb_Scaler': 'log', 'gnb_vs': 1.7410795371976723e-09, 'gbm_features': 6, 'gbm_Scaler': 'stand', 'lambda_l1': 0.028857928393109227, 'lambda_l2': 0.5077675326942768, 'num_leaves': 246, 'feature_fraction': 0.9797296173671844, 'bagging_fraction': 0.8548143225044889, 'bagging_freq': 1, 'min_child_samples': 9}. Best is trial#467 with value: 0.9985434873075323.\n"
          ],
          "name": "stderr"
        },
        {
          "output_type": "stream",
          "text": [
            "('knn', 'qda', 'gbm')\n"
          ],
          "name": "stdout"
        },
        {
          "output_type": "stream",
          "text": [
            "/usr/local/lib/python3.6/dist-packages/sklearn/discriminant_analysis.py:691: UserWarning:\n",
            "\n",
            "Variables are collinear\n",
            "\n",
            "[I 2020-07-13 12:15:04,715] Setting status of trial#472 as TrialState.PRUNED. Trial was pruned at iteration 11.\n"
          ],
          "name": "stderr"
        },
        {
          "output_type": "stream",
          "text": [
            "('knn', 'qda', 'et')\n"
          ],
          "name": "stdout"
        },
        {
          "output_type": "stream",
          "text": [
            "/usr/local/lib/python3.6/dist-packages/sklearn/discriminant_analysis.py:691: UserWarning:\n",
            "\n",
            "Variables are collinear\n",
            "\n",
            "[I 2020-07-13 12:15:05,486] Finished trial#473 with value: 0.9886600083229297 with parameters: {'combos': 67, 'knn_features': 6, 'knn_Scaler': 'stand', 'knn_nn': 2, 'knn_p': 1, 'qda_features': 20, 'qda_Scaler': 'stand', 'qda_rp': 5.126997998512577e-08, 'et_features': 2, 'et_Scaler': 'log', 'et_max_depth': 41, 'et_ne': 17}. Best is trial#467 with value: 0.9985434873075323.\n"
          ],
          "name": "stderr"
        },
        {
          "output_type": "stream",
          "text": [
            "('knn', 'gnb', 'ada')\n"
          ],
          "name": "stdout"
        },
        {
          "output_type": "stream",
          "text": [
            "[I 2020-07-13 12:15:07,530] Finished trial#474 with value: 0.9987515605493134 with parameters: {'combos': 61, 'knn_features': 7, 'knn_Scaler': 'stand', 'knn_nn': 2, 'knn_p': 1, 'gnb_features': 5, 'gnb_Scaler': 'stand', 'gnb_vs': 9.150343568751268e-07, 'ada_features': 13, 'ada_Scaler': 'log', 'ada_ne': 469, 'ada_lr': 0.5523902953599255, 'ada_algo': 'SAMME'}. Best is trial#474 with value: 0.9987515605493134.\n"
          ],
          "name": "stderr"
        },
        {
          "output_type": "stream",
          "text": [
            "('knn', 'gnb', 'rf')\n"
          ],
          "name": "stdout"
        },
        {
          "output_type": "stream",
          "text": [
            "[I 2020-07-13 12:15:08,996] Finished trial#475 with value: 0.9932376196421141 with parameters: {'combos': 63, 'knn_features': 7, 'knn_Scaler': 'stand', 'knn_nn': 1, 'knn_p': 1, 'gnb_features': 6, 'gnb_Scaler': 'stand', 'gnb_vs': 4.465647165422963e-07, 'rf_features': 7, 'rf_Scaler': 'stand', 'rf_max_depth': 43, 'rf_ne': 336, 'rf_cw': 'balanced'}. Best is trial#474 with value: 0.9987515605493134.\n"
          ],
          "name": "stderr"
        },
        {
          "output_type": "stream",
          "text": [
            "('knn', 'qda', 'xgb')\n"
          ],
          "name": "stdout"
        },
        {
          "output_type": "stream",
          "text": [
            "/usr/local/lib/python3.6/dist-packages/sklearn/discriminant_analysis.py:691: UserWarning:\n",
            "\n",
            "Variables are collinear\n",
            "\n",
            "[I 2020-07-13 12:15:09,686] Finished trial#476 with value: 0.9879317519766958 with parameters: {'combos': 69, 'knn_features': 7, 'knn_Scaler': 'stand', 'knn_nn': 2, 'knn_p': 1, 'qda_features': 17, 'qda_Scaler': 'stand', 'qda_rp': 1.7884960626624968e-11, 'xgb_features': 1, 'xgb_Scaler': 'minmax', 'booster': 'dart', 'lambda': 0.00010490396029564757, 'alpha': 0.5233779209733797, 'max_depth': 6, 'eta': 6.302501103830894e-07, 'gamma': 0.10922241158677813, 'grow_policy': 'depthwise', 'sample_type': 'uniform', 'normalize_type': 'tree', 'rate_drop': 1.368988492764568e-08, 'skip_drop': 0.02264059322639919}. Best is trial#474 with value: 0.9987515605493134.\n"
          ],
          "name": "stderr"
        },
        {
          "output_type": "stream",
          "text": [
            "('knn', 'ada', 'et')\n"
          ],
          "name": "stdout"
        },
        {
          "output_type": "stream",
          "text": [
            "[I 2020-07-13 12:15:11,960] Finished trial#477 with value: 0.9970869746150646 with parameters: {'combos': 71, 'knn_features': 6, 'knn_Scaler': 'stand', 'knn_nn': 2, 'knn_p': 1, 'ada_features': 13, 'ada_Scaler': 'log', 'ada_ne': 463, 'ada_lr': 0.5433724041605851, 'ada_algo': 'SAMME', 'et_features': 15, 'et_Scaler': 'stand', 'et_max_depth': 95, 'et_ne': 261}. Best is trial#474 with value: 0.9987515605493134.\n"
          ],
          "name": "stderr"
        },
        {
          "output_type": "stream",
          "text": [
            "('knn', 'gnb', 'xgb')\n"
          ],
          "name": "stdout"
        },
        {
          "output_type": "stream",
          "text": [
            "[I 2020-07-13 12:15:12,636] Finished trial#478 with value: 0.9878277153558053 with parameters: {'combos': 64, 'knn_features': 7, 'knn_Scaler': 'stand', 'knn_nn': 3, 'knn_p': 1, 'gnb_features': 4, 'gnb_Scaler': 'stand', 'gnb_vs': 1.2440153166433972e-07, 'xgb_features': 9, 'xgb_Scaler': 'minmax', 'booster': 'gbtree', 'lambda': 0.0010251122271405227, 'alpha': 0.03137513204808219, 'max_depth': 10, 'eta': 1.0354626980171254e-07, 'gamma': 1.956304306518671e-07, 'grow_policy': 'depthwise'}. Best is trial#474 with value: 0.9987515605493134.\n"
          ],
          "name": "stderr"
        },
        {
          "output_type": "stream",
          "text": [
            "('knn', 'gp', 'rf')\n"
          ],
          "name": "stdout"
        },
        {
          "output_type": "stream",
          "text": [
            "[I 2020-07-13 12:15:15,439] Finished trial#479 with value: 0.9910528506034124 with parameters: {'combos': 57, 'knn_features': 6, 'knn_Scaler': 'stand', 'knn_nn': 1, 'knn_p': 2, 'gp_features': 4, 'gp_Scaler': 'minmax', 'gp_a': 0.4923016026384177, 'gp_kern': 8, 'rf_features': 20, 'rf_Scaler': 'minmax', 'rf_max_depth': 1, 'rf_ne': 121, 'rf_cw': 'balanced_subsample'}. Best is trial#474 with value: 0.9987515605493134.\n"
          ],
          "name": "stderr"
        },
        {
          "output_type": "stream",
          "text": [
            "('knn', 'qda', 'et')\n"
          ],
          "name": "stdout"
        },
        {
          "output_type": "stream",
          "text": [
            "/usr/local/lib/python3.6/dist-packages/sklearn/discriminant_analysis.py:691: UserWarning:\n",
            "\n",
            "Variables are collinear\n",
            "\n",
            "[I 2020-07-13 12:15:16,310] Finished trial#480 with value: 0.9893882646691635 with parameters: {'combos': 67, 'knn_features': 6, 'knn_Scaler': 'stand', 'knn_nn': 2, 'knn_p': 1, 'qda_features': 20, 'qda_Scaler': 'stand', 'qda_rp': 2.3280317078844623e-17, 'et_features': 12, 'et_Scaler': 'minmax', 'et_max_depth': 1, 'et_ne': 241}. Best is trial#474 with value: 0.9987515605493134.\n"
          ],
          "name": "stderr"
        },
        {
          "output_type": "stream",
          "text": [
            "('knn', 'gnb', 'et')\n"
          ],
          "name": "stdout"
        },
        {
          "output_type": "stream",
          "text": [
            "[I 2020-07-13 12:15:17,329] Finished trial#481 with value: 0.9956304619225969 with parameters: {'combos': 62, 'knn_features': 8, 'knn_Scaler': 'stand', 'knn_nn': 3, 'knn_p': 1, 'gnb_features': 5, 'gnb_Scaler': 'stand', 'gnb_vs': 1.1029912475006252e-05, 'et_features': 0, 'et_Scaler': 'log', 'et_max_depth': 50, 'et_ne': 347}. Best is trial#474 with value: 0.9987515605493134.\n"
          ],
          "name": "stderr"
        },
        {
          "output_type": "stream",
          "text": [
            "('knn', 'ada', 'xgb')\n"
          ],
          "name": "stdout"
        },
        {
          "output_type": "stream",
          "text": [
            "[I 2020-07-13 12:15:19,405] Finished trial#482 with value: 0.9983354140657512 with parameters: {'combos': 73, 'knn_features': 6, 'knn_Scaler': 'stand', 'knn_nn': 3, 'knn_p': 1, 'ada_features': 13, 'ada_Scaler': 'log', 'ada_ne': 470, 'ada_lr': 0.570263945343147, 'ada_algo': 'SAMME', 'xgb_features': 8, 'xgb_Scaler': 'stand', 'booster': 'gbtree', 'lambda': 0.018998496896078326, 'alpha': 0.196050772382284, 'max_depth': 23, 'eta': 4.018009396409012e-06, 'gamma': 0.0011673555381933685, 'grow_policy': 'depthwise'}. Best is trial#474 with value: 0.9987515605493134.\n"
          ],
          "name": "stderr"
        },
        {
          "output_type": "stream",
          "text": [
            "('knn', 'et', 'xgb')\n"
          ],
          "name": "stdout"
        },
        {
          "output_type": "stream",
          "text": [
            "[I 2020-07-13 12:15:20,602] Finished trial#483 with value: 0.992301290054099 with parameters: {'combos': 76, 'knn_features': 6, 'knn_Scaler': 'stand', 'knn_nn': 2, 'knn_p': 1, 'et_features': 5, 'et_Scaler': 'stand', 'et_max_depth': 77, 'et_ne': 484, 'xgb_features': 8, 'xgb_Scaler': 'stand', 'booster': 'gbtree', 'lambda': 0.020148964122484906, 'alpha': 0.19513536901315168, 'max_depth': 17, 'eta': 1.814632329156239e-05, 'gamma': 0.00220078075870215, 'grow_policy': 'depthwise'}. Best is trial#474 with value: 0.9987515605493134.\n"
          ],
          "name": "stderr"
        },
        {
          "output_type": "stream",
          "text": [
            "('svc', 'qda', 'gbm')\n"
          ],
          "name": "stdout"
        },
        {
          "output_type": "stream",
          "text": [
            "/usr/local/lib/python3.6/dist-packages/sklearn/discriminant_analysis.py:691: UserWarning:\n",
            "\n",
            "Variables are collinear\n",
            "\n",
            "[I 2020-07-13 12:15:21,101] Setting status of trial#484 as TrialState.PRUNED. Trial was pruned at iteration 11.\n"
          ],
          "name": "stderr"
        },
        {
          "output_type": "stream",
          "text": [
            "('knn', 'ada', 'xgb')\n"
          ],
          "name": "stdout"
        },
        {
          "output_type": "stream",
          "text": [
            "[I 2020-07-13 12:15:23,283] Finished trial#485 with value: 0.9985434873075323 with parameters: {'combos': 73, 'knn_features': 7, 'knn_Scaler': 'stand', 'knn_nn': 3, 'knn_p': 1, 'ada_features': 14, 'ada_Scaler': 'log', 'ada_ne': 467, 'ada_lr': 0.5146365803742162, 'ada_algo': 'SAMME', 'xgb_features': 6, 'xgb_Scaler': 'stand', 'booster': 'gbtree', 'lambda': 0.13884219720959234, 'alpha': 0.9540730334165549, 'max_depth': 13, 'eta': 3.913807715213868e-06, 'gamma': 0.001345334806547927, 'grow_policy': 'depthwise'}. Best is trial#474 with value: 0.9987515605493134.\n"
          ],
          "name": "stderr"
        },
        {
          "output_type": "stream",
          "text": [
            "('knn', 'ada', 'xgb')\n"
          ],
          "name": "stdout"
        },
        {
          "output_type": "stream",
          "text": [
            "[I 2020-07-13 12:15:25,363] Finished trial#486 with value: 0.9987515605493134 with parameters: {'combos': 73, 'knn_features': 7, 'knn_Scaler': 'stand', 'knn_nn': 2, 'knn_p': 1, 'ada_features': 14, 'ada_Scaler': 'log', 'ada_ne': 468, 'ada_lr': 0.5810183969148083, 'ada_algo': 'SAMME', 'xgb_features': 6, 'xgb_Scaler': 'stand', 'booster': 'gbtree', 'lambda': 0.14790192831769725, 'alpha': 0.7970749598462898, 'max_depth': 22, 'eta': 4.2588082427228815e-06, 'gamma': 0.00489229668130888, 'grow_policy': 'depthwise'}. Best is trial#474 with value: 0.9987515605493134.\n"
          ],
          "name": "stderr"
        },
        {
          "output_type": "stream",
          "text": [
            "('knn', 'xgb', 'gbm')\n"
          ],
          "name": "stdout"
        },
        {
          "output_type": "stream",
          "text": [
            "[I 2020-07-13 12:15:25,969] Setting status of trial#487 as TrialState.PRUNED. Trial was pruned at iteration 11.\n"
          ],
          "name": "stderr"
        },
        {
          "output_type": "stream",
          "text": [
            "('knn', 'ada', 'gbm')\n"
          ],
          "name": "stdout"
        },
        {
          "output_type": "stream",
          "text": [
            "[I 2020-07-13 12:15:28,040] Setting status of trial#488 as TrialState.PRUNED. Trial was pruned at iteration 11.\n"
          ],
          "name": "stderr"
        },
        {
          "output_type": "stream",
          "text": [
            "('svc', 'gp', 'et')\n"
          ],
          "name": "stdout"
        },
        {
          "output_type": "stream",
          "text": [
            "[I 2020-07-13 12:15:30,706] Finished trial#489 with value: 0.9898044111527258 with parameters: {'combos': 84, 'svc_features': 11, 'svc_Scaler': 'minmax', 'svc_kern': 'sigmoid', 'svc_C': 2.4725166859924825e-05, 'svc_deg': 7, 'gp_features': 16, 'gp_Scaler': 'log', 'gp_a': 9.621882764657219, 'gp_kern': 10, 'et_features': 1, 'et_Scaler': 'minmax', 'et_max_depth': 83, 'et_ne': 500}. Best is trial#474 with value: 0.9987515605493134.\n"
          ],
          "name": "stderr"
        },
        {
          "output_type": "stream",
          "text": [
            "('svc', 'gp', 'gnb')\n"
          ],
          "name": "stdout"
        },
        {
          "output_type": "stream",
          "text": [
            "[I 2020-07-13 12:15:32,982] Finished trial#490 with value: 0.9935497295047857 with parameters: {'combos': 81, 'svc_features': 8, 'svc_Scaler': 'log', 'svc_kern': 'poly', 'svc_C': 1.999664620413483, 'svc_deg': 10, 'gp_features': 20, 'gp_Scaler': 'minmax', 'gp_a': 1.2633944526438758, 'gp_kern': 9, 'gnb_features': 6, 'gnb_Scaler': 'log', 'gnb_vs': 2.048400131662986e-06}. Best is trial#474 with value: 0.9987515605493134.\n"
          ],
          "name": "stderr"
        },
        {
          "output_type": "stream",
          "text": [
            "('knn', 'ada', 'et')\n"
          ],
          "name": "stdout"
        },
        {
          "output_type": "stream",
          "text": [
            "[I 2020-07-13 12:15:35,116] Finished trial#491 with value: 0.9972950478568456 with parameters: {'combos': 71, 'knn_features': 17, 'knn_Scaler': 'stand', 'knn_nn': 3, 'knn_p': 1, 'ada_features': 13, 'ada_Scaler': 'log', 'ada_ne': 484, 'ada_lr': 0.654261853891156, 'ada_algo': 'SAMME', 'et_features': 15, 'et_Scaler': 'log', 'et_max_depth': 98, 'et_ne': 59}. Best is trial#474 with value: 0.9987515605493134.\n"
          ],
          "name": "stderr"
        },
        {
          "output_type": "stream",
          "text": [
            "('knn', 'et', 'gbm')\n"
          ],
          "name": "stdout"
        },
        {
          "output_type": "stream",
          "text": [
            "[I 2020-07-13 12:15:35,984] Setting status of trial#492 as TrialState.PRUNED. Trial was pruned at iteration 11.\n"
          ],
          "name": "stderr"
        },
        {
          "output_type": "stream",
          "text": [
            "('knn', 'ada', 'xgb')\n"
          ],
          "name": "stdout"
        },
        {
          "output_type": "stream",
          "text": [
            "[I 2020-07-13 12:15:38,181] Finished trial#493 with value: 0.9985434873075323 with parameters: {'combos': 73, 'knn_features': 8, 'knn_Scaler': 'stand', 'knn_nn': 3, 'knn_p': 1, 'ada_features': 14, 'ada_Scaler': 'log', 'ada_ne': 477, 'ada_lr': 0.528970338056246, 'ada_algo': 'SAMME', 'xgb_features': 7, 'xgb_Scaler': 'stand', 'booster': 'gbtree', 'lambda': 0.17522913940955134, 'alpha': 0.5671769013530259, 'max_depth': 19, 'eta': 2.9363841798699455e-06, 'gamma': 0.0034754102793253883, 'grow_policy': 'depthwise'}. Best is trial#474 with value: 0.9987515605493134.\n"
          ],
          "name": "stderr"
        },
        {
          "output_type": "stream",
          "text": [
            "('svc', 'gp', 'rf')\n"
          ],
          "name": "stdout"
        },
        {
          "output_type": "stream",
          "text": [
            "[I 2020-07-13 12:15:40,955] Finished trial#494 with value: 0.9904286308780691 with parameters: {'combos': 85, 'svc_features': 19, 'svc_Scaler': 'log', 'svc_kern': 'sigmoid', 'svc_C': 0.004500076118799652, 'svc_deg': 8, 'gp_features': 19, 'gp_Scaler': 'log', 'gp_a': 0.8572275952929163, 'gp_kern': 10, 'rf_features': 10, 'rf_Scaler': 'stand', 'rf_max_depth': 8, 'rf_ne': 262, 'rf_cw': 'balanced'}. Best is trial#474 with value: 0.9987515605493134.\n"
          ],
          "name": "stderr"
        },
        {
          "output_type": "stream",
          "text": [
            "('knn', 'ada', 'xgb')\n"
          ],
          "name": "stdout"
        },
        {
          "output_type": "stream",
          "text": [
            "[I 2020-07-13 12:15:43,127] Finished trial#495 with value: 0.9985434873075323 with parameters: {'combos': 73, 'knn_features': 7, 'knn_Scaler': 'stand', 'knn_nn': 3, 'knn_p': 1, 'ada_features': 14, 'ada_Scaler': 'log', 'ada_ne': 500, 'ada_lr': 0.5300666231290986, 'ada_algo': 'SAMME', 'xgb_features': 7, 'xgb_Scaler': 'stand', 'booster': 'gbtree', 'lambda': 0.12674772926031538, 'alpha': 0.6563470554376764, 'max_depth': 23, 'eta': 3.163462168501092e-06, 'gamma': 0.0039448613716388, 'grow_policy': 'depthwise'}. Best is trial#474 with value: 0.9987515605493134.\n"
          ],
          "name": "stderr"
        },
        {
          "output_type": "stream",
          "text": [
            "('knn', 'ada', 'xgb')\n"
          ],
          "name": "stdout"
        },
        {
          "output_type": "stream",
          "text": [
            "[I 2020-07-13 12:15:45,252] Finished trial#496 with value: 0.9985434873075323 with parameters: {'combos': 73, 'knn_features': 8, 'knn_Scaler': 'stand', 'knn_nn': 3, 'knn_p': 1, 'ada_features': 14, 'ada_Scaler': 'log', 'ada_ne': 478, 'ada_lr': 0.5357217421005707, 'ada_algo': 'SAMME', 'xgb_features': 7, 'xgb_Scaler': 'stand', 'booster': 'gbtree', 'lambda': 0.17037832731964186, 'alpha': 0.5700648954520395, 'max_depth': 23, 'eta': 1.9796370914113095e-06, 'gamma': 0.003933935808853791, 'grow_policy': 'depthwise'}. Best is trial#474 with value: 0.9987515605493134.\n"
          ],
          "name": "stderr"
        },
        {
          "output_type": "stream",
          "text": [
            "('knn', 'et', 'xgb')\n"
          ],
          "name": "stdout"
        },
        {
          "output_type": "stream",
          "text": [
            "[I 2020-07-13 12:15:46,390] Finished trial#497 with value: 0.9898044111527258 with parameters: {'combos': 76, 'knn_features': 8, 'knn_Scaler': 'stand', 'knn_nn': 3, 'knn_p': 1, 'et_features': 13, 'et_Scaler': 'minmax', 'et_max_depth': 36, 'et_ne': 438, 'xgb_features': 6, 'xgb_Scaler': 'stand', 'booster': 'gbtree', 'lambda': 0.2501360695004456, 'alpha': 0.7083522455749149, 'max_depth': 24, 'eta': 3.4840643035376326e-06, 'gamma': 0.004149560926915986, 'grow_policy': 'depthwise'}. Best is trial#474 with value: 0.9987515605493134.\n"
          ],
          "name": "stderr"
        },
        {
          "output_type": "stream",
          "text": [
            "('knn', 'ada', 'xgb')\n"
          ],
          "name": "stdout"
        },
        {
          "output_type": "stream",
          "text": [
            "[I 2020-07-13 12:15:48,482] Finished trial#498 with value: 0.9987515605493134 with parameters: {'combos': 73, 'knn_features': 8, 'knn_Scaler': 'stand', 'knn_nn': 2, 'knn_p': 1, 'ada_features': 14, 'ada_Scaler': 'log', 'ada_ne': 477, 'ada_lr': 0.5309167351122185, 'ada_algo': 'SAMME', 'xgb_features': 7, 'xgb_Scaler': 'stand', 'booster': 'gbtree', 'lambda': 0.13561637916562921, 'alpha': 0.9612931558340455, 'max_depth': 21, 'eta': 2.0643740248903132e-06, 'gamma': 0.002834071815324428, 'grow_policy': 'depthwise'}. Best is trial#474 with value: 0.9987515605493134.\n"
          ],
          "name": "stderr"
        },
        {
          "output_type": "stream",
          "text": [
            "('knn', 'ada', 'et')\n"
          ],
          "name": "stdout"
        },
        {
          "output_type": "stream",
          "text": [
            "[I 2020-07-13 12:15:51,002] Finished trial#499 with value: 0.9968789013732834 with parameters: {'combos': 71, 'knn_features': 8, 'knn_Scaler': 'stand', 'knn_nn': 3, 'knn_p': 1, 'ada_features': 14, 'ada_Scaler': 'log', 'ada_ne': 475, 'ada_lr': 0.5391307368338073, 'ada_algo': 'SAMME', 'et_features': 20, 'et_Scaler': 'log', 'et_max_depth': 31, 'et_ne': 417}. Best is trial#474 with value: 0.9987515605493134.\n"
          ],
          "name": "stderr"
        },
        {
          "output_type": "stream",
          "text": [
            "('knn', 'ada', 'xgb')\n"
          ],
          "name": "stdout"
        },
        {
          "output_type": "stream",
          "text": [
            "[I 2020-07-13 12:15:53,184] Finished trial#500 with value: 0.9987515605493134 with parameters: {'combos': 73, 'knn_features': 8, 'knn_Scaler': 'stand', 'knn_nn': 2, 'knn_p': 1, 'ada_features': 14, 'ada_Scaler': 'log', 'ada_ne': 499, 'ada_lr': 0.5694370353218158, 'ada_algo': 'SAMME', 'xgb_features': 7, 'xgb_Scaler': 'stand', 'booster': 'gbtree', 'lambda': 0.13153021273332396, 'alpha': 0.9595227402660524, 'max_depth': 22, 'eta': 1.1368135013082296e-05, 'gamma': 0.0030078349548127757, 'grow_policy': 'depthwise'}. Best is trial#474 with value: 0.9987515605493134.\n"
          ],
          "name": "stderr"
        },
        {
          "output_type": "stream",
          "text": [
            "('knn', 'et', 'gbm')\n"
          ],
          "name": "stdout"
        },
        {
          "output_type": "stream",
          "text": [
            "[I 2020-07-13 12:15:54,112] Setting status of trial#501 as TrialState.PRUNED. Trial was pruned at iteration 11.\n"
          ],
          "name": "stderr"
        },
        {
          "output_type": "stream",
          "text": [
            "('knn', 'ada', 'gbm')\n"
          ],
          "name": "stdout"
        },
        {
          "output_type": "stream",
          "text": [
            "[I 2020-07-13 12:15:56,302] Setting status of trial#502 as TrialState.PRUNED. Trial was pruned at iteration 11.\n"
          ],
          "name": "stderr"
        },
        {
          "output_type": "stream",
          "text": [
            "('knn', 'ada', 'xgb')\n"
          ],
          "name": "stdout"
        },
        {
          "output_type": "stream",
          "text": [
            "[I 2020-07-13 12:15:58,537] Finished trial#503 with value: 0.9987515605493135 with parameters: {'combos': 73, 'knn_features': 8, 'knn_Scaler': 'stand', 'knn_nn': 2, 'knn_p': 1, 'ada_features': 14, 'ada_Scaler': 'log', 'ada_ne': 490, 'ada_lr': 0.5216802868874422, 'ada_algo': 'SAMME', 'xgb_features': 7, 'xgb_Scaler': 'stand', 'booster': 'gbtree', 'lambda': 0.1463363814258935, 'alpha': 0.9136046195802876, 'max_depth': 22, 'eta': 9.834061957622537e-06, 'gamma': 0.0029545468761392173, 'grow_policy': 'depthwise'}. Best is trial#503 with value: 0.9987515605493135.\n"
          ],
          "name": "stderr"
        },
        {
          "output_type": "stream",
          "text": [
            "('knn', 'ada', 'xgb')\n"
          ],
          "name": "stdout"
        },
        {
          "output_type": "stream",
          "text": [
            "[I 2020-07-13 12:16:00,698] Finished trial#504 with value: 0.9985434873075323 with parameters: {'combos': 73, 'knn_features': 8, 'knn_Scaler': 'stand', 'knn_nn': 3, 'knn_p': 1, 'ada_features': 14, 'ada_Scaler': 'log', 'ada_ne': 495, 'ada_lr': 0.5248559799907091, 'ada_algo': 'SAMME', 'xgb_features': 7, 'xgb_Scaler': 'stand', 'booster': 'gbtree', 'lambda': 0.12822159383316786, 'alpha': 0.9415172121635772, 'max_depth': 22, 'eta': 9.134100632257385e-06, 'gamma': 0.0033534695989826673, 'grow_policy': 'depthwise'}. Best is trial#503 with value: 0.9987515605493135.\n"
          ],
          "name": "stderr"
        },
        {
          "output_type": "stream",
          "text": [
            "('knn', 'xgb', 'gbm')\n"
          ],
          "name": "stdout"
        },
        {
          "output_type": "stream",
          "text": [
            "[I 2020-07-13 12:16:01,296] Setting status of trial#505 as TrialState.PRUNED. Trial was pruned at iteration 11.\n"
          ],
          "name": "stderr"
        },
        {
          "output_type": "stream",
          "text": [
            "('knn', 'ada', 'gbm')\n"
          ],
          "name": "stdout"
        },
        {
          "output_type": "stream",
          "text": [
            "[I 2020-07-13 12:16:03,650] Finished trial#506 with value: 0.9983354140657512 with parameters: {'combos': 74, 'knn_features': 8, 'knn_Scaler': 'stand', 'knn_nn': 3, 'knn_p': 1, 'ada_features': 14, 'ada_Scaler': 'log', 'ada_ne': 489, 'ada_lr': 0.5252559566382263, 'ada_algo': 'SAMME', 'gbm_features': 19, 'gbm_Scaler': 'log', 'lambda_l1': 0.0262013145671735, 'lambda_l2': 7.146665104015506e-08, 'num_leaves': 6, 'feature_fraction': 0.450713142507471, 'bagging_fraction': 0.7632705278122067, 'bagging_freq': 6, 'min_child_samples': 5}. Best is trial#503 with value: 0.9987515605493135.\n"
          ],
          "name": "stderr"
        },
        {
          "output_type": "stream",
          "text": [
            "('knn', 'et', 'xgb')\n"
          ],
          "name": "stdout"
        },
        {
          "output_type": "stream",
          "text": [
            "[I 2020-07-13 12:16:04,834] Finished trial#507 with value: 0.9889721181856013 with parameters: {'combos': 76, 'knn_features': 8, 'knn_Scaler': 'stand', 'knn_nn': 1, 'knn_p': 1, 'et_features': 8, 'et_Scaler': 'minmax', 'et_max_depth': 54, 'et_ne': 466, 'xgb_features': 7, 'xgb_Scaler': 'stand', 'booster': 'gbtree', 'lambda': 0.13561931528919347, 'alpha': 0.5464742753199459, 'max_depth': 19, 'eta': 1.0655578295231726e-05, 'gamma': 0.002628970591228399, 'grow_policy': 'depthwise'}. Best is trial#503 with value: 0.9987515605493135.\n"
          ],
          "name": "stderr"
        },
        {
          "output_type": "stream",
          "text": [
            "('knn', 'ada', 'xgb')\n"
          ],
          "name": "stdout"
        },
        {
          "output_type": "stream",
          "text": [
            "[I 2020-07-13 12:16:07,008] Finished trial#508 with value: 0.9987515605493134 with parameters: {'combos': 73, 'knn_features': 8, 'knn_Scaler': 'stand', 'knn_nn': 2, 'knn_p': 1, 'ada_features': 14, 'ada_Scaler': 'log', 'ada_ne': 489, 'ada_lr': 0.516265360217183, 'ada_algo': 'SAMME', 'xgb_features': 7, 'xgb_Scaler': 'stand', 'booster': 'gbtree', 'lambda': 0.43791999745830296, 'alpha': 0.3908602202500643, 'max_depth': 21, 'eta': 5.80684155499911e-06, 'gamma': 0.005190085101829571, 'grow_policy': 'depthwise'}. Best is trial#503 with value: 0.9987515605493135.\n"
          ],
          "name": "stderr"
        },
        {
          "output_type": "stream",
          "text": [
            "('knn', 'rf', 'gbm')\n"
          ],
          "name": "stdout"
        },
        {
          "output_type": "stream",
          "text": [
            "[I 2020-07-13 12:16:08,138] Setting status of trial#509 as TrialState.PRUNED. Trial was pruned at iteration 11.\n"
          ],
          "name": "stderr"
        },
        {
          "output_type": "stream",
          "text": [
            "('knn', 'et', 'gbm')\n"
          ],
          "name": "stdout"
        },
        {
          "output_type": "stream",
          "text": [
            "[I 2020-07-13 12:16:09,357] Finished trial#510 with value: 0.9947981689554724 with parameters: {'combos': 77, 'knn_features': 8, 'knn_Scaler': 'stand', 'knn_nn': 3, 'knn_p': 1, 'et_features': 7, 'et_Scaler': 'log', 'et_max_depth': 17, 'et_ne': 317, 'gbm_features': 18, 'gbm_Scaler': 'log', 'lambda_l1': 0.04434281583574146, 'lambda_l2': 1.977279791365587e-08, 'num_leaves': 52, 'feature_fraction': 0.45744769843735766, 'bagging_fraction': 0.79214273620402, 'bagging_freq': 6, 'min_child_samples': 6}. Best is trial#503 with value: 0.9987515605493135.\n"
          ],
          "name": "stderr"
        },
        {
          "output_type": "stream",
          "text": [
            "('knn', 'ada', 'xgb')\n"
          ],
          "name": "stdout"
        },
        {
          "output_type": "stream",
          "text": [
            "[I 2020-07-13 12:16:11,499] Finished trial#511 with value: 0.9987515605493134 with parameters: {'combos': 73, 'knn_features': 7, 'knn_Scaler': 'stand', 'knn_nn': 2, 'knn_p': 1, 'ada_features': 14, 'ada_Scaler': 'log', 'ada_ne': 491, 'ada_lr': 0.5324851660784835, 'ada_algo': 'SAMME', 'xgb_features': 7, 'xgb_Scaler': 'stand', 'booster': 'gbtree', 'lambda': 0.4767078116696621, 'alpha': 0.35640408609013796, 'max_depth': 21, 'eta': 5.367021990221013e-06, 'gamma': 0.005882380072919456, 'grow_policy': 'depthwise'}. Best is trial#503 with value: 0.9987515605493135.\n"
          ],
          "name": "stderr"
        },
        {
          "output_type": "stream",
          "text": [
            "('knn', 'ada', 'xgb')\n"
          ],
          "name": "stdout"
        },
        {
          "output_type": "stream",
          "text": [
            "[I 2020-07-13 12:16:13,655] Finished trial#512 with value: 0.9985434873075322 with parameters: {'combos': 73, 'knn_features': 7, 'knn_Scaler': 'stand', 'knn_nn': 1, 'knn_p': 1, 'ada_features': 14, 'ada_Scaler': 'log', 'ada_ne': 494, 'ada_lr': 0.5274833118917622, 'ada_algo': 'SAMME', 'xgb_features': 7, 'xgb_Scaler': 'stand', 'booster': 'gbtree', 'lambda': 0.4858542634344388, 'alpha': 0.3509028379886287, 'max_depth': 21, 'eta': 5.1039594749868534e-06, 'gamma': 0.005111101533767214, 'grow_policy': 'depthwise'}. Best is trial#503 with value: 0.9987515605493135.\n"
          ],
          "name": "stderr"
        },
        {
          "output_type": "stream",
          "text": [
            "('knn', 'ada', 'xgb')\n"
          ],
          "name": "stdout"
        },
        {
          "output_type": "stream",
          "text": [
            "[I 2020-07-13 12:16:15,833] Finished trial#513 with value: 0.9979192675821889 with parameters: {'combos': 73, 'knn_features': 7, 'knn_Scaler': 'stand', 'knn_nn': 1, 'knn_p': 1, 'ada_features': 14, 'ada_Scaler': 'stand', 'ada_ne': 492, 'ada_lr': 0.5264303771062456, 'ada_algo': 'SAMME', 'xgb_features': 7, 'xgb_Scaler': 'stand', 'booster': 'gbtree', 'lambda': 0.41632782599771856, 'alpha': 0.3527673022179869, 'max_depth': 21, 'eta': 5.977884150458756e-06, 'gamma': 0.005325986820476334, 'grow_policy': 'depthwise'}. Best is trial#503 with value: 0.9987515605493135.\n"
          ],
          "name": "stderr"
        },
        {
          "output_type": "stream",
          "text": [
            "('svc', 'gp', 'gnb')\n"
          ],
          "name": "stdout"
        },
        {
          "output_type": "stream",
          "text": [
            "[I 2020-07-13 12:16:18,127] Finished trial#514 with value: 0.9918851435705368 with parameters: {'combos': 81, 'svc_features': 19, 'svc_Scaler': 'stand', 'svc_kern': 'rbf', 'svc_C': 2.7492069342119858e-08, 'svc_deg': 2, 'gp_features': 0, 'gp_Scaler': 'minmax', 'gp_a': 3.069565692184509, 'gp_kern': 8, 'gnb_features': 7, 'gnb_Scaler': 'log', 'gnb_vs': 3.495446421854553e-11}. Best is trial#503 with value: 0.9987515605493135.\n"
          ],
          "name": "stderr"
        },
        {
          "output_type": "stream",
          "text": [
            "('knn', 'ada', 'gbm')\n"
          ],
          "name": "stdout"
        },
        {
          "output_type": "stream",
          "text": [
            "[I 2020-07-13 12:16:20,153] Setting status of trial#515 as TrialState.PRUNED. Trial was pruned at iteration 11.\n"
          ],
          "name": "stderr"
        },
        {
          "output_type": "stream",
          "text": [
            "('knn', 'et', 'gbm')\n"
          ],
          "name": "stdout"
        },
        {
          "output_type": "stream",
          "text": [
            "[I 2020-07-13 12:16:20,990] Setting status of trial#516 as TrialState.PRUNED. Trial was pruned at iteration 11.\n"
          ],
          "name": "stderr"
        },
        {
          "output_type": "stream",
          "text": [
            "('knn', 'ada', 'xgb')\n"
          ],
          "name": "stdout"
        },
        {
          "output_type": "stream",
          "text": [
            "[I 2020-07-13 12:16:23,255] Finished trial#517 with value: 0.9985434873075322 with parameters: {'combos': 73, 'knn_features': 7, 'knn_Scaler': 'stand', 'knn_nn': 1, 'knn_p': 1, 'ada_features': 14, 'ada_Scaler': 'log', 'ada_ne': 497, 'ada_lr': 0.5175999069888463, 'ada_algo': 'SAMME', 'xgb_features': 6, 'xgb_Scaler': 'stand', 'booster': 'gbtree', 'lambda': 0.24801345180744996, 'alpha': 0.6826305151409814, 'max_depth': 26, 'eta': 2.5137230059304586e-06, 'gamma': 0.008485493527219485, 'grow_policy': 'depthwise'}. Best is trial#503 with value: 0.9987515605493135.\n"
          ],
          "name": "stderr"
        },
        {
          "output_type": "stream",
          "text": [
            "('knn', 'ada', 'gbm')\n"
          ],
          "name": "stdout"
        },
        {
          "output_type": "stream",
          "text": [
            "[I 2020-07-13 12:16:25,335] Setting status of trial#518 as TrialState.PRUNED. Trial was pruned at iteration 11.\n"
          ],
          "name": "stderr"
        },
        {
          "output_type": "stream",
          "text": [
            "('knn', 'rf', 'gbm')\n"
          ],
          "name": "stdout"
        },
        {
          "output_type": "stream",
          "text": [
            "[I 2020-07-13 12:16:26,575] Setting status of trial#519 as TrialState.PRUNED. Trial was pruned at iteration 11.\n"
          ],
          "name": "stderr"
        },
        {
          "output_type": "stream",
          "text": [
            "('knn', 'ada', 'rf')\n"
          ],
          "name": "stdout"
        },
        {
          "output_type": "stream",
          "text": [
            "[I 2020-07-13 12:16:29,522] Finished trial#520 with value: 0.9923012900540991 with parameters: {'combos': 72, 'knn_features': 7, 'knn_Scaler': 'stand', 'knn_nn': 1, 'knn_p': 1, 'ada_features': 14, 'ada_Scaler': 'log', 'ada_ne': 500, 'ada_lr': 0.5101405337515308, 'ada_algo': 'SAMME', 'rf_features': 17, 'rf_Scaler': 'minmax', 'rf_max_depth': 25, 'rf_ne': 281, 'rf_cw': 'balanced'}. Best is trial#503 with value: 0.9987515605493135.\n"
          ],
          "name": "stderr"
        },
        {
          "output_type": "stream",
          "text": [
            "('svc', 'gp', 'qda')\n"
          ],
          "name": "stdout"
        },
        {
          "output_type": "stream",
          "text": [
            "/usr/local/lib/python3.6/dist-packages/sklearn/discriminant_analysis.py:691: UserWarning:\n",
            "\n",
            "Variables are collinear\n",
            "\n",
            "[I 2020-07-13 12:16:31,510] Finished trial#521 with value: 0.992093216812318 with parameters: {'combos': 82, 'svc_features': 2, 'svc_Scaler': 'minmax', 'svc_kern': 'linear', 'svc_C': 4.6895975236822e-07, 'svc_deg': 3, 'gp_features': 18, 'gp_Scaler': 'log', 'gp_a': 2.093141661594594, 'gp_kern': 9, 'qda_features': 15, 'qda_Scaler': 'log', 'qda_rp': 1.2108735701179908e-16}. Best is trial#503 with value: 0.9987515605493135.\n"
          ],
          "name": "stderr"
        },
        {
          "output_type": "stream",
          "text": [
            "('knn', 'et', 'rf')\n"
          ],
          "name": "stdout"
        },
        {
          "output_type": "stream",
          "text": [
            "[I 2020-07-13 12:16:32,615] Finished trial#522 with value: 0.9881398252184769 with parameters: {'combos': 75, 'knn_features': 8, 'knn_Scaler': 'stand', 'knn_nn': 2, 'knn_p': 1, 'et_features': 18, 'et_Scaler': 'minmax', 'et_max_depth': 58, 'et_ne': 121, 'rf_features': 5, 'rf_Scaler': 'log', 'rf_max_depth': 33, 'rf_ne': 85, 'rf_cw': 'balanced_subsample'}. Best is trial#503 with value: 0.9987515605493135.\n"
          ],
          "name": "stderr"
        },
        {
          "output_type": "stream",
          "text": [
            "('knn', 'rf', 'xgb')\n"
          ],
          "name": "stdout"
        },
        {
          "output_type": "stream",
          "text": [
            "[I 2020-07-13 12:16:34,108] Finished trial#523 with value: 0.9915730337078652 with parameters: {'combos': 78, 'knn_features': 7, 'knn_Scaler': 'stand', 'knn_nn': 3, 'knn_p': 1, 'rf_features': 11, 'rf_Scaler': 'stand', 'rf_max_depth': 65, 'rf_ne': 327, 'rf_cw': 'balanced', 'xgb_features': 6, 'xgb_Scaler': 'stand', 'booster': 'gbtree', 'lambda': 0.9652134110254095, 'alpha': 0.9787672297033293, 'max_depth': 22, 'eta': 2.6151290407372855e-06, 'gamma': 0.00909653897592894, 'grow_policy': 'depthwise'}. Best is trial#503 with value: 0.9987515605493135.\n"
          ],
          "name": "stderr"
        },
        {
          "output_type": "stream",
          "text": [
            "('knn', 'ada', 'rf')\n"
          ],
          "name": "stdout"
        },
        {
          "output_type": "stream",
          "text": [
            "[I 2020-07-13 12:16:37,215] Finished trial#524 with value: 0.9972950478568456 with parameters: {'combos': 72, 'knn_features': 8, 'knn_Scaler': 'stand', 'knn_nn': 2, 'knn_p': 1, 'ada_features': 14, 'ada_Scaler': 'log', 'ada_ne': 477, 'ada_lr': 0.6074158288747098, 'ada_algo': 'SAMME', 'rf_features': 6, 'rf_Scaler': 'log', 'rf_max_depth': 87, 'rf_ne': 350, 'rf_cw': 'balanced_subsample'}. Best is trial#503 with value: 0.9987515605493135.\n"
          ],
          "name": "stderr"
        },
        {
          "output_type": "stream",
          "text": [
            "('knn', 'et', 'rf')\n"
          ],
          "name": "stdout"
        },
        {
          "output_type": "stream",
          "text": [
            "[I 2020-07-13 12:16:38,406] Finished trial#525 with value: 0.9933416562630045 with parameters: {'combos': 75, 'knn_features': 7, 'knn_Scaler': 'stand', 'knn_nn': 3, 'knn_p': 1, 'et_features': 4, 'et_Scaler': 'log', 'et_max_depth': 81, 'et_ne': 73, 'rf_features': 3, 'rf_Scaler': 'minmax', 'rf_max_depth': 37, 'rf_ne': 139, 'rf_cw': 'balanced'}. Best is trial#503 with value: 0.9987515605493135.\n"
          ],
          "name": "stderr"
        },
        {
          "output_type": "stream",
          "text": [
            "('knn', 'ada', 'rf')\n"
          ],
          "name": "stdout"
        },
        {
          "output_type": "stream",
          "text": [
            "[I 2020-07-13 12:16:40,889] Finished trial#526 with value: 0.9966708281315023 with parameters: {'combos': 72, 'knn_features': 7, 'knn_Scaler': 'stand', 'knn_nn': 1, 'knn_p': 1, 'ada_features': 15, 'ada_Scaler': 'log', 'ada_ne': 120, 'ada_lr': 0.5433415577131743, 'ada_algo': 'SAMME', 'rf_features': 13, 'rf_Scaler': 'stand', 'rf_max_depth': 49, 'rf_ne': 490, 'rf_cw': 'balanced_subsample'}. Best is trial#503 with value: 0.9987515605493135.\n"
          ],
          "name": "stderr"
        },
        {
          "output_type": "stream",
          "text": [
            "('knn', 'rf', 'xgb')\n"
          ],
          "name": "stdout"
        },
        {
          "output_type": "stream",
          "text": [
            "[I 2020-07-13 12:16:42,015] Finished trial#527 with value: 0.9876196421140241 with parameters: {'combos': 78, 'knn_features': 8, 'knn_Scaler': 'stand', 'knn_nn': 1, 'knn_p': 1, 'rf_features': 14, 'rf_Scaler': 'log', 'rf_max_depth': 52, 'rf_ne': 103, 'rf_cw': 'balanced_subsample', 'xgb_features': 7, 'xgb_Scaler': 'stand', 'booster': 'gbtree', 'lambda': 0.2132795008322554, 'alpha': 0.6249188963663537, 'max_depth': 27, 'eta': 4.207235685670236e-06, 'gamma': 0.0031470966110068994, 'grow_policy': 'depthwise'}. Best is trial#503 with value: 0.9987515605493135.\n"
          ],
          "name": "stderr"
        },
        {
          "output_type": "stream",
          "text": [
            "('knn', 'ada', 'rf')\n"
          ],
          "name": "stdout"
        },
        {
          "output_type": "stream",
          "text": [
            "[I 2020-07-13 12:16:44,718] Finished trial#528 with value: 0.9918851435705368 with parameters: {'combos': 72, 'knn_features': 7, 'knn_Scaler': 'stand', 'knn_nn': 2, 'knn_p': 1, 'ada_features': 14, 'ada_Scaler': 'log', 'ada_ne': 489, 'ada_lr': 0.5878096774014637, 'ada_algo': 'SAMME', 'rf_features': 16, 'rf_Scaler': 'minmax', 'rf_max_depth': 73, 'rf_ne': 190, 'rf_cw': 'balanced'}. Best is trial#503 with value: 0.9987515605493135.\n"
          ],
          "name": "stderr"
        },
        {
          "output_type": "stream",
          "text": [
            "('svc', 'gp', 'qda')\n"
          ],
          "name": "stdout"
        },
        {
          "output_type": "stream",
          "text": [
            "/usr/local/lib/python3.6/dist-packages/sklearn/discriminant_analysis.py:691: UserWarning:\n",
            "\n",
            "Variables are collinear\n",
            "\n",
            "[I 2020-07-13 12:16:46,840] Finished trial#529 with value: 0.9927174365376613 with parameters: {'combos': 82, 'svc_features': 18, 'svc_Scaler': 'stand', 'svc_kern': 'poly', 'svc_C': 6.568000125963997e-08, 'svc_deg': 9, 'gp_features': 1, 'gp_Scaler': 'minmax', 'gp_a': 6.037552041453336, 'gp_kern': 7, 'qda_features': 17, 'qda_Scaler': 'log', 'qda_rp': 8.128127245909388e-14}. Best is trial#503 with value: 0.9987515605493135.\n"
          ],
          "name": "stderr"
        },
        {
          "output_type": "stream",
          "text": [
            "('knn', 'et', 'xgb')\n"
          ],
          "name": "stdout"
        },
        {
          "output_type": "stream",
          "text": [
            "[I 2020-07-13 12:16:47,830] Finished trial#530 with value: 0.9942779858510196 with parameters: {'combos': 76, 'knn_features': 8, 'knn_Scaler': 'stand', 'knn_nn': 2, 'knn_p': 1, 'et_features': 10, 'et_Scaler': 'stand', 'et_max_depth': 67, 'et_ne': 290, 'xgb_features': 6, 'xgb_Scaler': 'stand', 'booster': 'gbtree', 'lambda': 0.5909590468339716, 'alpha': 0.4362539808967296, 'max_depth': 25, 'eta': 7.348388562402482e-06, 'gamma': 0.005613441291743993, 'grow_policy': 'depthwise'}. Best is trial#503 with value: 0.9987515605493135.\n"
          ],
          "name": "stderr"
        },
        {
          "output_type": "stream",
          "text": [
            "('knn', 'ada', 'et')\n"
          ],
          "name": "stdout"
        },
        {
          "output_type": "stream",
          "text": [
            "[I 2020-07-13 12:16:49,932] Finished trial#531 with value: 0.9914689970869747 with parameters: {'combos': 71, 'knn_features': 7, 'knn_Scaler': 'stand', 'knn_nn': 1, 'knn_p': 1, 'ada_features': 14, 'ada_Scaler': 'log', 'ada_ne': 485, 'ada_lr': 0.501824587670791, 'ada_algo': 'SAMME', 'et_features': 16, 'et_Scaler': 'minmax', 'et_max_depth': 63, 'et_ne': 7}. Best is trial#503 with value: 0.9987515605493135.\n"
          ],
          "name": "stderr"
        },
        {
          "output_type": "stream",
          "text": [
            "('knn', 'ada', 'gbm')\n"
          ],
          "name": "stdout"
        },
        {
          "output_type": "stream",
          "text": [
            "[I 2020-07-13 12:16:51,905] Setting status of trial#532 as TrialState.PRUNED. Trial was pruned at iteration 11.\n"
          ],
          "name": "stderr"
        },
        {
          "output_type": "stream",
          "text": [
            "('knn', 'rf', 'gbm')\n"
          ],
          "name": "stdout"
        },
        {
          "output_type": "stream",
          "text": [
            "[I 2020-07-13 12:16:53,680] Finished trial#533 with value: 0.9906367041198502 with parameters: {'combos': 79, 'knn_features': 8, 'knn_Scaler': 'stand', 'knn_nn': 3, 'knn_p': 1, 'rf_features': 12, 'rf_Scaler': 'stand', 'rf_max_depth': 79, 'rf_ne': 300, 'rf_cw': 'balanced_subsample', 'gbm_features': 17, 'gbm_Scaler': 'log', 'lambda_l1': 0.8916095675839737, 'lambda_l2': 6.898629390140039e-07, 'num_leaves': 7, 'feature_fraction': 0.6066767904415153, 'bagging_fraction': 0.9352974435735105, 'bagging_freq': 5, 'min_child_samples': 5}. Best is trial#503 with value: 0.9987515605493135.\n"
          ],
          "name": "stderr"
        },
        {
          "output_type": "stream",
          "text": [
            "('knn', 'qda', 'gbm')\n"
          ],
          "name": "stdout"
        },
        {
          "output_type": "stream",
          "text": [
            "/usr/local/lib/python3.6/dist-packages/sklearn/discriminant_analysis.py:691: UserWarning:\n",
            "\n",
            "Variables are collinear\n",
            "\n",
            "[I 2020-07-13 12:16:54,471] Finished trial#534 with value: 0.9916770703287557 with parameters: {'combos': 70, 'knn_features': 7, 'knn_Scaler': 'stand', 'knn_nn': 2, 'knn_p': 1, 'qda_features': 13, 'qda_Scaler': 'log', 'qda_rp': 5.431318485707417e-15, 'gbm_features': 2, 'gbm_Scaler': 'log', 'lambda_l1': 0.20258515142648437, 'lambda_l2': 1.6186303719790265e-06, 'num_leaves': 66, 'feature_fraction': 0.490714597239144, 'bagging_fraction': 0.8159164124665342, 'bagging_freq': 6, 'min_child_samples': 7}. Best is trial#503 with value: 0.9987515605493135.\n"
          ],
          "name": "stderr"
        },
        {
          "output_type": "stream",
          "text": [
            "('knn', 'et', 'xgb')\n"
          ],
          "name": "stdout"
        },
        {
          "output_type": "stream",
          "text": [
            "[I 2020-07-13 12:16:55,355] Finished trial#535 with value: 0.9929255097794424 with parameters: {'combos': 76, 'knn_features': 8, 'knn_Scaler': 'stand', 'knn_nn': 2, 'knn_p': 1, 'et_features': 2, 'et_Scaler': 'log', 'et_max_depth': 45, 'et_ne': 198, 'xgb_features': 7, 'xgb_Scaler': 'stand', 'booster': 'gbtree', 'lambda': 0.1443087672996755, 'alpha': 0.9903053633247948, 'max_depth': 19, 'eta': 1.869442507404368e-06, 'gamma': 0.0015551227310327106, 'grow_policy': 'depthwise'}. Best is trial#503 with value: 0.9987515605493135.\n"
          ],
          "name": "stderr"
        },
        {
          "output_type": "stream",
          "text": [
            "('knn', 'ada', 'xgb')\n"
          ],
          "name": "stdout"
        },
        {
          "output_type": "stream",
          "text": [
            "[I 2020-07-13 12:16:57,511] Finished trial#536 with value: 0.9987515605493134 with parameters: {'combos': 73, 'knn_features': 7, 'knn_Scaler': 'stand', 'knn_nn': 2, 'knn_p': 1, 'ada_features': 13, 'ada_Scaler': 'log', 'ada_ne': 500, 'ada_lr': 0.5152701590236175, 'ada_algo': 'SAMME', 'xgb_features': 8, 'xgb_Scaler': 'stand', 'booster': 'gbtree', 'lambda': 0.38350715698529525, 'alpha': 0.28747066509017893, 'max_depth': 22, 'eta': 3.729035313797809e-06, 'gamma': 0.0024130325744714395, 'grow_policy': 'depthwise'}. Best is trial#503 with value: 0.9987515605493135.\n"
          ],
          "name": "stderr"
        },
        {
          "output_type": "stream",
          "text": [
            "('knn', 'ada', 'xgb')\n"
          ],
          "name": "stdout"
        },
        {
          "output_type": "stream",
          "text": [
            "[I 2020-07-13 12:16:59,684] Finished trial#537 with value: 0.9985434873075323 with parameters: {'combos': 73, 'knn_features': 7, 'knn_Scaler': 'stand', 'knn_nn': 1, 'knn_p': 1, 'ada_features': 14, 'ada_Scaler': 'log', 'ada_ne': 500, 'ada_lr': 0.5077003106700816, 'ada_algo': 'SAMME', 'xgb_features': 8, 'xgb_Scaler': 'stand', 'booster': 'gbtree', 'lambda': 0.29657543893255583, 'alpha': 0.30024881913108314, 'max_depth': 23, 'eta': 3.476708105531467e-06, 'gamma': 0.0023712953927137424, 'grow_policy': 'depthwise'}. Best is trial#503 with value: 0.9987515605493135.\n"
          ],
          "name": "stderr"
        },
        {
          "output_type": "stream",
          "text": [
            "('svc', 'gp', 'qda')\n"
          ],
          "name": "stdout"
        },
        {
          "output_type": "stream",
          "text": [
            "/usr/local/lib/python3.6/dist-packages/sklearn/discriminant_analysis.py:691: UserWarning:\n",
            "\n",
            "Variables are collinear\n",
            "\n",
            "[I 2020-07-13 12:17:01,697] Finished trial#538 with value: 0.9912609238451935 with parameters: {'combos': 82, 'svc_features': 17, 'svc_Scaler': 'minmax', 'svc_kern': 'rbf', 'svc_C': 1.3780997108752126e-07, 'svc_deg': 2, 'gp_features': 17, 'gp_Scaler': 'log', 'gp_a': 1.6241794628223996, 'gp_kern': 7, 'qda_features': 15, 'qda_Scaler': 'log', 'qda_rp': 7.379633246805948e-20}. Best is trial#503 with value: 0.9987515605493135.\n"
          ],
          "name": "stderr"
        },
        {
          "output_type": "stream",
          "text": [
            "('knn', 'ada', 'gbm')\n"
          ],
          "name": "stdout"
        },
        {
          "output_type": "stream",
          "text": [
            "[I 2020-07-13 12:17:03,768] Setting status of trial#539 as TrialState.PRUNED. Trial was pruned at iteration 11.\n"
          ],
          "name": "stderr"
        },
        {
          "output_type": "stream",
          "text": [
            "('knn', 'rf', 'xgb')\n"
          ],
          "name": "stdout"
        },
        {
          "output_type": "stream",
          "text": [
            "[I 2020-07-13 12:17:05,594] Finished trial#540 with value: 0.9861631294215565 with parameters: {'combos': 78, 'knn_features': 7, 'knn_Scaler': 'stand', 'knn_nn': 1, 'knn_p': 1, 'rf_features': 19, 'rf_Scaler': 'log', 'rf_max_depth': 46, 'rf_ne': 408, 'rf_cw': 'balanced', 'xgb_features': 8, 'xgb_Scaler': 'stand', 'booster': 'gbtree', 'lambda': 0.3525873640002579, 'alpha': 0.3181691644675013, 'max_depth': 23, 'eta': 3.4049495049172026e-06, 'gamma': 0.002433788720774512, 'grow_policy': 'depthwise'}. Best is trial#503 with value: 0.9987515605493135.\n"
          ],
          "name": "stderr"
        },
        {
          "output_type": "stream",
          "text": [
            "('knn', 'ada', 'rf')\n"
          ],
          "name": "stdout"
        },
        {
          "output_type": "stream",
          "text": [
            "[I 2020-07-13 12:17:08,977] Finished trial#541 with value: 0.993965875988348 with parameters: {'combos': 72, 'knn_features': 7, 'knn_Scaler': 'stand', 'knn_nn': 1, 'knn_p': 1, 'ada_features': 14, 'ada_Scaler': 'log', 'ada_ne': 492, 'ada_lr': 0.5897261185374143, 'ada_algo': 'SAMME', 'rf_features': 0, 'rf_Scaler': 'minmax', 'rf_max_depth': 98, 'rf_ne': 392, 'rf_cw': 'balanced_subsample'}. Best is trial#503 with value: 0.9987515605493135.\n"
          ],
          "name": "stderr"
        },
        {
          "output_type": "stream",
          "text": [
            "('knn', 'ada', 'et')\n"
          ],
          "name": "stdout"
        },
        {
          "output_type": "stream",
          "text": [
            "[I 2020-07-13 12:17:11,196] Finished trial#542 with value: 0.996046608406159 with parameters: {'combos': 71, 'knn_features': 8, 'knn_Scaler': 'stand', 'knn_nn': 2, 'knn_p': 1, 'ada_features': 13, 'ada_Scaler': 'log', 'ada_ne': 482, 'ada_lr': 0.5179708952180571, 'ada_algo': 'SAMME', 'et_features': 6, 'et_Scaler': 'stand', 'et_max_depth': 71, 'et_ne': 141}. Best is trial#503 with value: 0.9987515605493135.\n"
          ],
          "name": "stderr"
        },
        {
          "output_type": "stream",
          "text": [
            "('knn', 'et', 'rf')\n"
          ],
          "name": "stdout"
        },
        {
          "output_type": "stream",
          "text": [
            "[I 2020-07-13 12:17:12,323] Finished trial#543 with value: 0.9904286308780691 with parameters: {'combos': 75, 'knn_features': 8, 'knn_Scaler': 'minmax', 'knn_nn': 1, 'knn_p': 1, 'et_features': 3, 'et_Scaler': 'minmax', 'et_max_depth': 74, 'et_ne': 238, 'rf_features': 9, 'rf_Scaler': 'log', 'rf_max_depth': 6, 'rf_ne': 44, 'rf_cw': 'balanced'}. Best is trial#503 with value: 0.9987515605493135.\n"
          ],
          "name": "stderr"
        },
        {
          "output_type": "stream",
          "text": [
            "('knn', 'rf', 'gbm')\n"
          ],
          "name": "stdout"
        },
        {
          "output_type": "stream",
          "text": [
            "[I 2020-07-13 12:17:14,251] Setting status of trial#544 as TrialState.PRUNED. Trial was pruned at iteration 11.\n"
          ],
          "name": "stderr"
        },
        {
          "output_type": "stream",
          "text": [
            "('knn', 'ada', 'et')\n"
          ],
          "name": "stdout"
        },
        {
          "output_type": "stream",
          "text": [
            "[I 2020-07-13 12:17:16,535] Finished trial#545 with value: 0.9970869746150646 with parameters: {'combos': 71, 'knn_features': 7, 'knn_Scaler': 'stand', 'knn_nn': 3, 'knn_p': 1, 'ada_features': 14, 'ada_Scaler': 'log', 'ada_ne': 499, 'ada_lr': 0.5499311910919495, 'ada_algo': 'SAMME', 'et_features': 9, 'et_Scaler': 'log', 'et_max_depth': 32, 'et_ne': 50}. Best is trial#503 with value: 0.9987515605493135.\n"
          ],
          "name": "stderr"
        },
        {
          "output_type": "stream",
          "text": [
            "('knn', 'qda', 'gbm')\n"
          ],
          "name": "stdout"
        },
        {
          "output_type": "stream",
          "text": [
            "/usr/local/lib/python3.6/dist-packages/sklearn/discriminant_analysis.py:691: UserWarning:\n",
            "\n",
            "Variables are collinear\n",
            "\n",
            "[I 2020-07-13 12:17:17,320] Finished trial#546 with value: 0.9935497295047857 with parameters: {'combos': 70, 'knn_features': 8, 'knn_Scaler': 'stand', 'knn_nn': 1, 'knn_p': 1, 'qda_features': 14, 'qda_Scaler': 'log', 'qda_rp': 4.7706584134621034e-14, 'gbm_features': 4, 'gbm_Scaler': 'log', 'lambda_l1': 0.10939000645115632, 'lambda_l2': 3.871935482255597e-06, 'num_leaves': 14, 'feature_fraction': 0.6729976141486609, 'bagging_fraction': 0.8974843356902407, 'bagging_freq': 7, 'min_child_samples': 9}. Best is trial#503 with value: 0.9987515605493135.\n"
          ],
          "name": "stderr"
        },
        {
          "output_type": "stream",
          "text": [
            "('knn', 'et', 'rf')\n"
          ],
          "name": "stdout"
        },
        {
          "output_type": "stream",
          "text": [
            "[I 2020-07-13 12:17:18,938] Finished trial#547 with value: 0.9816895547232626 with parameters: {'combos': 75, 'knn_features': 7, 'knn_Scaler': 'stand', 'knn_nn': 2, 'knn_p': 1, 'et_features': 13, 'et_Scaler': 'stand', 'et_max_depth': 8, 'et_ne': 33, 'rf_features': 7, 'rf_Scaler': 'log', 'rf_max_depth': 90, 'rf_ne': 378, 'rf_cw': 'balanced'}. Best is trial#503 with value: 0.9987515605493135.\n"
          ],
          "name": "stderr"
        },
        {
          "output_type": "stream",
          "text": [
            "('knn', 'et', 'gbm')\n"
          ],
          "name": "stdout"
        },
        {
          "output_type": "stream",
          "text": [
            "[I 2020-07-13 12:17:20,191] Finished trial#548 with value: 0.9891801914273824 with parameters: {'combos': 77, 'knn_features': 7, 'knn_Scaler': 'stand', 'knn_nn': 2, 'knn_p': 1, 'et_features': 14, 'et_Scaler': 'minmax', 'et_max_depth': 10, 'et_ne': 452, 'gbm_features': 6, 'gbm_Scaler': 'log', 'lambda_l1': 0.05793632208917694, 'lambda_l2': 8.980778059087175e-07, 'num_leaves': 81, 'feature_fraction': 0.5411190191856239, 'bagging_fraction': 0.8683175801538391, 'bagging_freq': 4, 'min_child_samples': 5}. Best is trial#503 with value: 0.9987515605493135.\n"
          ],
          "name": "stderr"
        },
        {
          "output_type": "stream",
          "text": [
            "('svc', 'gp', 'et')\n"
          ],
          "name": "stdout"
        },
        {
          "output_type": "stream",
          "text": [
            "[I 2020-07-13 12:17:22,930] Finished trial#549 with value: 0.9927174365376613 with parameters: {'combos': 84, 'svc_features': 20, 'svc_Scaler': 'stand', 'svc_kern': 'poly', 'svc_C': 1.3851281829790599e-08, 'svc_deg': 5, 'gp_features': 3, 'gp_Scaler': 'minmax', 'gp_a': 3.566588566138099, 'gp_kern': 10, 'et_features': 5, 'et_Scaler': 'log', 'et_max_depth': 3, 'et_ne': 426}. Best is trial#503 with value: 0.9987515605493135.\n"
          ],
          "name": "stderr"
        },
        {
          "output_type": "stream",
          "text": [
            "('knn', 'ada', 'gbm')\n"
          ],
          "name": "stdout"
        },
        {
          "output_type": "stream",
          "text": [
            "[I 2020-07-13 12:17:25,091] Finished trial#550 with value: 0.9985434873075323 with parameters: {'combos': 74, 'knn_features': 8, 'knn_Scaler': 'stand', 'knn_nn': 3, 'knn_p': 1, 'ada_features': 13, 'ada_Scaler': 'log', 'ada_ne': 456, 'ada_lr': 0.49149546422552715, 'ada_algo': 'SAMME', 'gbm_features': 0, 'gbm_Scaler': 'log', 'lambda_l1': 0.0013063718620144563, 'lambda_l2': 3.0141967452811783e-07, 'num_leaves': 74, 'feature_fraction': 0.579837063074648, 'bagging_fraction': 0.7323552754240266, 'bagging_freq': 6, 'min_child_samples': 3}. Best is trial#503 with value: 0.9987515605493135.\n"
          ],
          "name": "stderr"
        },
        {
          "output_type": "stream",
          "text": [
            "('svc', 'gp', 'gnb')\n"
          ],
          "name": "stdout"
        },
        {
          "output_type": "stream",
          "text": [
            "[I 2020-07-13 12:17:27,081] Finished trial#551 with value: 0.9918851435705368 with parameters: {'combos': 81, 'svc_features': 1, 'svc_Scaler': 'minmax', 'svc_kern': 'linear', 'svc_C': 7.819258041447192e-06, 'svc_deg': 4, 'gp_features': 5, 'gp_Scaler': 'log', 'gp_a': 0.1103689292649124, 'gp_kern': 6, 'gnb_features': 14, 'gnb_Scaler': 'log', 'gnb_vs': 1.3324635477629267e-14}. Best is trial#503 with value: 0.9987515605493135.\n"
          ],
          "name": "stderr"
        },
        {
          "output_type": "stream",
          "text": [
            "('knn', 'ada', 'xgb')\n"
          ],
          "name": "stdout"
        },
        {
          "output_type": "stream",
          "text": [
            "[I 2020-07-13 12:17:29,093] Finished trial#552 with value: 0.9985434873075323 with parameters: {'combos': 73, 'knn_features': 8, 'knn_Scaler': 'stand', 'knn_nn': 3, 'knn_p': 1, 'ada_features': 13, 'ada_Scaler': 'log', 'ada_ne': 455, 'ada_lr': 0.48892260351653205, 'ada_algo': 'SAMME', 'xgb_features': 7, 'xgb_Scaler': 'stand', 'booster': 'gbtree', 'lambda': 0.26846624807294694, 'alpha': 0.6764016716379124, 'max_depth': 21, 'eta': 5.649406878905694e-06, 'gamma': 0.00386184939369913, 'grow_policy': 'depthwise'}. Best is trial#503 with value: 0.9987515605493135.\n"
          ],
          "name": "stderr"
        },
        {
          "output_type": "stream",
          "text": [
            "('knn', 'ada', 'xgb')\n"
          ],
          "name": "stdout"
        },
        {
          "output_type": "stream",
          "text": [
            "[I 2020-07-13 12:17:31,069] Finished trial#553 with value: 0.9985434873075323 with parameters: {'combos': 73, 'knn_features': 8, 'knn_Scaler': 'stand', 'knn_nn': 3, 'knn_p': 1, 'ada_features': 13, 'ada_Scaler': 'log', 'ada_ne': 441, 'ada_lr': 0.4924166250871072, 'ada_algo': 'SAMME', 'xgb_features': 6, 'xgb_Scaler': 'stand', 'booster': 'gbtree', 'lambda': 0.29280849823784544, 'alpha': 0.6902952662814638, 'max_depth': 21, 'eta': 6.022754424860092e-06, 'gamma': 0.003890214895359313, 'grow_policy': 'depthwise'}. Best is trial#503 with value: 0.9987515605493135.\n"
          ],
          "name": "stderr"
        },
        {
          "output_type": "stream",
          "text": [
            "('knn', 'qda', 'gbm')\n"
          ],
          "name": "stdout"
        },
        {
          "output_type": "stream",
          "text": [
            "/usr/local/lib/python3.6/dist-packages/sklearn/discriminant_analysis.py:691: UserWarning:\n",
            "\n",
            "Variables are collinear\n",
            "\n",
            "[I 2020-07-13 12:17:31,648] Setting status of trial#554 as TrialState.PRUNED. Trial was pruned at iteration 11.\n"
          ],
          "name": "stderr"
        },
        {
          "output_type": "stream",
          "text": [
            "('knn', 'et', 'gbm')\n"
          ],
          "name": "stdout"
        },
        {
          "output_type": "stream",
          "text": [
            "[I 2020-07-13 12:17:32,506] Setting status of trial#555 as TrialState.PRUNED. Trial was pruned at iteration 11.\n"
          ],
          "name": "stderr"
        },
        {
          "output_type": "stream",
          "text": [
            "('knn', 'ada', 'gbm')\n"
          ],
          "name": "stdout"
        },
        {
          "output_type": "stream",
          "text": [
            "[I 2020-07-13 12:17:34,676] Finished trial#556 with value: 0.9983354140657512 with parameters: {'combos': 74, 'knn_features': 8, 'knn_Scaler': 'stand', 'knn_nn': 3, 'knn_p': 1, 'ada_features': 13, 'ada_Scaler': 'log', 'ada_ne': 440, 'ada_lr': 0.49162587837042526, 'ada_algo': 'SAMME', 'gbm_features': 2, 'gbm_Scaler': 'log', 'lambda_l1': 0.02286838737437964, 'lambda_l2': 4.491442566690571e-08, 'num_leaves': 70, 'feature_fraction': 0.40830217601812685, 'bagging_fraction': 0.7328158998056068, 'bagging_freq': 5, 'min_child_samples': 6}. Best is trial#503 with value: 0.9987515605493135.\n"
          ],
          "name": "stderr"
        },
        {
          "output_type": "stream",
          "text": [
            "('knn', 'rf', 'xgb')\n"
          ],
          "name": "stdout"
        },
        {
          "output_type": "stream",
          "text": [
            "[I 2020-07-13 12:17:36,149] Finished trial#557 with value: 0.9852267998335414 with parameters: {'combos': 78, 'knn_features': 8, 'knn_Scaler': 'stand', 'knn_nn': 3, 'knn_p': 1, 'rf_features': 11, 'rf_Scaler': 'minmax', 'rf_max_depth': 57, 'rf_ne': 234, 'rf_cw': 'balanced_subsample', 'xgb_features': 6, 'xgb_Scaler': 'stand', 'booster': 'gbtree', 'lambda': 0.2765410201967556, 'alpha': 0.6824434373490664, 'max_depth': 21, 'eta': 4.807059204195563e-06, 'gamma': 0.0010447653581575228, 'grow_policy': 'depthwise'}. Best is trial#503 with value: 0.9987515605493135.\n"
          ],
          "name": "stderr"
        },
        {
          "output_type": "stream",
          "text": [
            "('knn', 'et', 'rf')\n"
          ],
          "name": "stdout"
        },
        {
          "output_type": "stream",
          "text": [
            "[I 2020-07-13 12:17:37,750] Finished trial#558 with value: 0.9891801914273824 with parameters: {'combos': 75, 'knn_features': 8, 'knn_Scaler': 'stand', 'knn_nn': 31, 'knn_p': 1, 'et_features': 0, 'et_Scaler': 'minmax', 'et_max_depth': 6, 'et_ne': 134, 'rf_features': 20, 'rf_Scaler': 'stand', 'rf_max_depth': 94, 'rf_ne': 313, 'rf_cw': 'balanced'}. Best is trial#503 with value: 0.9987515605493135.\n"
          ],
          "name": "stderr"
        },
        {
          "output_type": "stream",
          "text": [
            "('knn', 'qda', 'gbm')\n"
          ],
          "name": "stdout"
        },
        {
          "output_type": "stream",
          "text": [
            "/usr/local/lib/python3.6/dist-packages/sklearn/discriminant_analysis.py:691: UserWarning:\n",
            "\n",
            "Variables are collinear\n",
            "\n",
            "[I 2020-07-13 12:17:38,336] Setting status of trial#559 as TrialState.PRUNED. Trial was pruned at iteration 11.\n"
          ],
          "name": "stderr"
        },
        {
          "output_type": "stream",
          "text": [
            "('knn', 'xgb', 'gbm')\n"
          ],
          "name": "stdout"
        },
        {
          "output_type": "stream",
          "text": [
            "[I 2020-07-13 12:17:39,040] Setting status of trial#560 as TrialState.PRUNED. Trial was pruned at iteration 11.\n"
          ],
          "name": "stderr"
        },
        {
          "output_type": "stream",
          "text": [
            "('knn', 'ada', 'xgb')\n"
          ],
          "name": "stdout"
        },
        {
          "output_type": "stream",
          "text": [
            "[I 2020-07-13 12:17:41,127] Finished trial#561 with value: 0.9989596337910944 with parameters: {'combos': 73, 'knn_features': 8, 'knn_Scaler': 'stand', 'knn_nn': 2, 'knn_p': 1, 'ada_features': 13, 'ada_Scaler': 'log', 'ada_ne': 437, 'ada_lr': 0.495786247302282, 'ada_algo': 'SAMME', 'xgb_features': 6, 'xgb_Scaler': 'stand', 'booster': 'gbtree', 'lambda': 0.4860408099326929, 'alpha': 0.9976687514437015, 'max_depth': 21, 'eta': 5.4597174889339245e-06, 'gamma': 0.002904350728501347, 'grow_policy': 'depthwise'}. Best is trial#561 with value: 0.9989596337910944.\n"
          ],
          "name": "stderr"
        },
        {
          "output_type": "stream",
          "text": [
            "('knn', 'qda', 'gbm')\n"
          ],
          "name": "stdout"
        },
        {
          "output_type": "stream",
          "text": [
            "/usr/local/lib/python3.6/dist-packages/sklearn/discriminant_analysis.py:691: UserWarning:\n",
            "\n",
            "Variables are collinear\n",
            "\n",
            "[I 2020-07-13 12:17:41,900] Finished trial#562 with value: 0.9925093632958801 with parameters: {'combos': 70, 'knn_features': 8, 'knn_Scaler': 'stand', 'knn_nn': 2, 'knn_p': 1, 'qda_features': 10, 'qda_Scaler': 'log', 'qda_rp': 2.1956503925146526e-18, 'gbm_features': 2, 'gbm_Scaler': 'minmax', 'lambda_l1': 0.7514307113010661, 'lambda_l2': 1.6047272780418515e-07, 'num_leaves': 112, 'feature_fraction': 0.4161604856479035, 'bagging_fraction': 0.8041332926372257, 'bagging_freq': 4, 'min_child_samples': 7}. Best is trial#561 with value: 0.9989596337910944.\n"
          ],
          "name": "stderr"
        },
        {
          "output_type": "stream",
          "text": [
            "('knn', 'qda', 'xgb')\n"
          ],
          "name": "stdout"
        },
        {
          "output_type": "stream",
          "text": [
            "/usr/local/lib/python3.6/dist-packages/sklearn/discriminant_analysis.py:691: UserWarning:\n",
            "\n",
            "Variables are collinear\n",
            "\n",
            "[I 2020-07-13 12:17:42,599] Finished trial#563 with value: 0.9879317519766958 with parameters: {'combos': 69, 'knn_features': 7, 'knn_Scaler': 'stand', 'knn_nn': 1, 'knn_p': 1, 'qda_features': 19, 'qda_Scaler': 'log', 'qda_rp': 4.908110837190518e-15, 'xgb_features': 6, 'xgb_Scaler': 'stand', 'booster': 'gbtree', 'lambda': 0.4173006742892481, 'alpha': 0.7221819799089813, 'max_depth': 21, 'eta': 6.464514632521106e-06, 'gamma': 0.003086662990790063, 'grow_policy': 'depthwise'}. Best is trial#561 with value: 0.9989596337910944.\n"
          ],
          "name": "stderr"
        },
        {
          "output_type": "stream",
          "text": [
            "('knn', 'et', 'rf')\n"
          ],
          "name": "stdout"
        },
        {
          "output_type": "stream",
          "text": [
            "[I 2020-07-13 12:17:44,194] Finished trial#564 with value: 0.9960466084061589 with parameters: {'combos': 75, 'knn_features': 8, 'knn_Scaler': 'stand', 'knn_nn': 2, 'knn_p': 1, 'et_features': 12, 'et_Scaler': 'log', 'et_max_depth': 22, 'et_ne': 474, 'rf_features': 2, 'rf_Scaler': 'log', 'rf_max_depth': 10, 'rf_ne': 128, 'rf_cw': 'balanced_subsample'}. Best is trial#561 with value: 0.9989596337910944.\n"
          ],
          "name": "stderr"
        },
        {
          "output_type": "stream",
          "text": [
            "('knn', 'ada', 'xgb')\n"
          ],
          "name": "stdout"
        },
        {
          "output_type": "stream",
          "text": [
            "[I 2020-07-13 12:17:46,193] Finished trial#565 with value: 0.9985434873075322 with parameters: {'combos': 73, 'knn_features': 8, 'knn_Scaler': 'stand', 'knn_nn': 3, 'knn_p': 1, 'ada_features': 13, 'ada_Scaler': 'log', 'ada_ne': 441, 'ada_lr': 0.4971779012748625, 'ada_algo': 'SAMME', 'xgb_features': 5, 'xgb_Scaler': 'stand', 'booster': 'gbtree', 'lambda': 0.278282590838777, 'alpha': 0.5373562479848519, 'max_depth': 17, 'eta': 1.6828079124869848e-06, 'gamma': 0.005995572735323268, 'grow_policy': 'depthwise'}. Best is trial#561 with value: 0.9989596337910944.\n"
          ],
          "name": "stderr"
        },
        {
          "output_type": "stream",
          "text": [
            "('svc', 'gp', 'ada')\n"
          ],
          "name": "stdout"
        },
        {
          "output_type": "stream",
          "text": [
            "[I 2020-07-13 12:17:49,852] Finished trial#566 with value: 0.9929255097794424 with parameters: {'combos': 83, 'svc_features': 12, 'svc_Scaler': 'stand', 'svc_kern': 'rbf', 'svc_C': 1.0457919846681211e-06, 'svc_deg': 10, 'gp_features': 0, 'gp_Scaler': 'minmax', 'gp_a': 0.21285255318446558, 'gp_kern': 8, 'ada_features': 15, 'ada_Scaler': 'log', 'ada_ne': 428, 'ada_lr': 0.5050926354579204, 'ada_algo': 'SAMME'}. Best is trial#561 with value: 0.9989596337910944.\n"
          ],
          "name": "stderr"
        },
        {
          "output_type": "stream",
          "text": [
            "('knn', 'rf', 'xgb')\n"
          ],
          "name": "stdout"
        },
        {
          "output_type": "stream",
          "text": [
            "[I 2020-07-13 12:17:51,688] Finished trial#567 with value: 0.9868913857677902 with parameters: {'combos': 78, 'knn_features': 8, 'knn_Scaler': 'stand', 'knn_nn': 1, 'knn_p': 1, 'rf_features': 16, 'rf_Scaler': 'minmax', 'rf_max_depth': 63, 'rf_ne': 463, 'rf_cw': 'balanced', 'xgb_features': 5, 'xgb_Scaler': 'stand', 'booster': 'gbtree', 'lambda': 0.6790131236462921, 'alpha': 0.9360157143700081, 'max_depth': 17, 'eta': 2.039935901413018e-06, 'gamma': 0.006725724766146537, 'grow_policy': 'depthwise'}. Best is trial#561 with value: 0.9989596337910944.\n"
          ],
          "name": "stderr"
        },
        {
          "output_type": "stream",
          "text": [
            "('knn', 'qda', 'gbm')\n"
          ],
          "name": "stdout"
        },
        {
          "output_type": "stream",
          "text": [
            "/usr/local/lib/python3.6/dist-packages/sklearn/discriminant_analysis.py:691: UserWarning:\n",
            "\n",
            "Variables are collinear\n",
            "\n",
            "[I 2020-07-13 12:17:52,556] Finished trial#568 with value: 0.9943820224719101 with parameters: {'combos': 70, 'knn_features': 7, 'knn_Scaler': 'stand', 'knn_nn': 2, 'knn_p': 1, 'qda_features': 11, 'qda_Scaler': 'log', 'qda_rp': 9.140926317751944e-16, 'gbm_features': 0, 'gbm_Scaler': 'minmax', 'lambda_l1': 1.3422030024902804e-08, 'lambda_l2': 2.0936019842108115e-08, 'num_leaves': 86, 'feature_fraction': 0.5828222535976432, 'bagging_fraction': 0.9785151019152558, 'bagging_freq': 3, 'min_child_samples': 8}. Best is trial#561 with value: 0.9989596337910944.\n"
          ],
          "name": "stderr"
        },
        {
          "output_type": "stream",
          "text": [
            "('knn', 'ada', 'xgb')\n"
          ],
          "name": "stdout"
        },
        {
          "output_type": "stream",
          "text": [
            "[I 2020-07-13 12:17:54,589] Finished trial#569 with value: 0.9985434873075323 with parameters: {'combos': 73, 'knn_features': 7, 'knn_Scaler': 'stand', 'knn_nn': 3, 'knn_p': 1, 'ada_features': 13, 'ada_Scaler': 'log', 'ada_ne': 455, 'ada_lr': 0.5283174717557344, 'ada_algo': 'SAMME', 'xgb_features': 7, 'xgb_Scaler': 'stand', 'booster': 'gbtree', 'lambda': 0.29973665877177974, 'alpha': 0.5182649360238594, 'max_depth': 19, 'eta': 3.5927530201651045e-06, 'gamma': 0.0019288558913661683, 'grow_policy': 'depthwise'}. Best is trial#561 with value: 0.9989596337910944.\n"
          ],
          "name": "stderr"
        },
        {
          "output_type": "stream",
          "text": [
            "('knn', 'ada', 'rf')\n"
          ],
          "name": "stdout"
        },
        {
          "output_type": "stream",
          "text": [
            "[I 2020-07-13 12:17:57,278] Finished trial#570 with value: 0.9966708281315023 with parameters: {'combos': 72, 'knn_features': 7, 'knn_Scaler': 'stand', 'knn_nn': 3, 'knn_p': 1, 'ada_features': 13, 'ada_Scaler': 'log', 'ada_ne': 455, 'ada_lr': 0.5722557472979888, 'ada_algo': 'SAMME', 'rf_features': 4, 'rf_Scaler': 'stand', 'rf_max_depth': 67, 'rf_ne': 211, 'rf_cw': 'balanced_subsample'}. Best is trial#561 with value: 0.9989596337910944.\n"
          ],
          "name": "stderr"
        },
        {
          "output_type": "stream",
          "text": [
            "('knn', 'et', 'gbm')\n"
          ],
          "name": "stdout"
        },
        {
          "output_type": "stream",
          "text": [
            "[I 2020-07-13 12:17:58,308] Finished trial#571 with value: 0.9935497295047857 with parameters: {'combos': 77, 'knn_features': 8, 'knn_Scaler': 'stand', 'knn_nn': 4, 'knn_p': 1, 'et_features': 4, 'et_Scaler': 'stand', 'et_max_depth': 28, 'et_ne': 213, 'gbm_features': 5, 'gbm_Scaler': 'log', 'lambda_l1': 0.014920695429431268, 'lambda_l2': 3.1189972391991047e-08, 'num_leaves': 101, 'feature_fraction': 0.4004308113336774, 'bagging_fraction': 0.7381310707094425, 'bagging_freq': 4, 'min_child_samples': 4}. Best is trial#561 with value: 0.9989596337910944.\n"
          ],
          "name": "stderr"
        },
        {
          "output_type": "stream",
          "text": [
            "('knn', 'qda', 'xgb')\n"
          ],
          "name": "stdout"
        },
        {
          "output_type": "stream",
          "text": [
            "/usr/local/lib/python3.6/dist-packages/sklearn/discriminant_analysis.py:691: UserWarning:\n",
            "\n",
            "Variables are collinear\n",
            "\n",
            "[I 2020-07-13 12:17:59,007] Finished trial#572 with value: 0.9906367041198502 with parameters: {'combos': 69, 'knn_features': 7, 'knn_Scaler': 'stand', 'knn_nn': 2, 'knn_p': 1, 'qda_features': 13, 'qda_Scaler': 'minmax', 'qda_rp': 2.579592855974489e-13, 'xgb_features': 7, 'xgb_Scaler': 'stand', 'booster': 'gbtree', 'lambda': 0.3141895779536808, 'alpha': 0.5128253050468686, 'max_depth': 19, 'eta': 4.152802435500198e-06, 'gamma': 0.0018329174665695296, 'grow_policy': 'depthwise'}. Best is trial#561 with value: 0.9989596337910944.\n"
          ],
          "name": "stderr"
        },
        {
          "output_type": "stream",
          "text": [
            "('knn', 'xgb', 'gbm')\n"
          ],
          "name": "stdout"
        },
        {
          "output_type": "stream",
          "text": [
            "[I 2020-07-13 12:17:59,617] Setting status of trial#573 as TrialState.PRUNED. Trial was pruned at iteration 11.\n"
          ],
          "name": "stderr"
        },
        {
          "output_type": "stream",
          "text": [
            "('knn', 'et', 'rf')\n"
          ],
          "name": "stdout"
        },
        {
          "output_type": "stream",
          "text": [
            "[I 2020-07-13 12:18:00,671] Finished trial#574 with value: 0.9888680815647107 with parameters: {'combos': 75, 'knn_features': 8, 'knn_Scaler': 'stand', 'knn_nn': 3, 'knn_p': 1, 'et_features': 1, 'et_Scaler': 'minmax', 'et_max_depth': 43, 'et_ne': 96, 'rf_features': 8, 'rf_Scaler': 'log', 'rf_max_depth': 84, 'rf_ne': 4, 'rf_cw': 'balanced'}. Best is trial#561 with value: 0.9989596337910944.\n"
          ],
          "name": "stderr"
        },
        {
          "output_type": "stream",
          "text": [
            "('knn', 'ada', 'rf')\n"
          ],
          "name": "stdout"
        },
        {
          "output_type": "stream",
          "text": [
            "[I 2020-07-13 12:18:04,114] Finished trial#575 with value: 0.9927174365376613 with parameters: {'combos': 72, 'knn_features': 7, 'knn_Scaler': 'stand', 'knn_nn': 1, 'knn_p': 1, 'ada_features': 13, 'ada_Scaler': 'log', 'ada_ne': 445, 'ada_lr': 0.5474356287518406, 'ada_algo': 'SAMME', 'rf_features': 17, 'rf_Scaler': 'minmax', 'rf_max_depth': 60, 'rf_ne': 498, 'rf_cw': 'balanced_subsample'}. Best is trial#561 with value: 0.9989596337910944.\n"
          ],
          "name": "stderr"
        },
        {
          "output_type": "stream",
          "text": [
            "('svc', 'gp', 'gbm')\n"
          ],
          "name": "stdout"
        },
        {
          "output_type": "stream",
          "text": [
            "[I 2020-07-13 12:18:06,440] Finished trial#576 with value: 0.9910528506034124 with parameters: {'combos': 87, 'svc_features': 5, 'svc_Scaler': 'minmax', 'svc_kern': 'poly', 'svc_C': 6.761654505176387e-05, 'svc_deg': 2, 'gp_features': 9, 'gp_Scaler': 'log', 'gp_a': 0.16077824903245871, 'gp_kern': 7, 'gbm_features': 4, 'gbm_Scaler': 'log', 'lambda_l1': 4.09822809523251, 'lambda_l2': 4.5704568780586043e-07, 'num_leaves': 49, 'feature_fraction': 0.5678076084352038, 'bagging_fraction': 0.9528751848180247, 'bagging_freq': 6, 'min_child_samples': 5}. Best is trial#561 with value: 0.9989596337910944.\n"
          ],
          "name": "stderr"
        },
        {
          "output_type": "stream",
          "text": [
            "('knn', 'qda', 'xgb')\n"
          ],
          "name": "stdout"
        },
        {
          "output_type": "stream",
          "text": [
            "/usr/local/lib/python3.6/dist-packages/sklearn/discriminant_analysis.py:691: UserWarning:\n",
            "\n",
            "Variables are collinear\n",
            "\n",
            "[I 2020-07-13 12:18:07,132] Finished trial#577 with value: 0.996046608406159 with parameters: {'combos': 69, 'knn_features': 9, 'knn_Scaler': 'stand', 'knn_nn': 2, 'knn_p': 1, 'qda_features': 8, 'qda_Scaler': 'log', 'qda_rp': 9.462308377217944e-18, 'xgb_features': 6, 'xgb_Scaler': 'stand', 'booster': 'gbtree', 'lambda': 0.5476374749121894, 'alpha': 0.6177881306396998, 'max_depth': 20, 'eta': 1.5749917191907483e-06, 'gamma': 0.003142795100656814, 'grow_policy': 'depthwise'}. Best is trial#561 with value: 0.9989596337910944.\n"
          ],
          "name": "stderr"
        },
        {
          "output_type": "stream",
          "text": [
            "('knn', 'et', 'xgb')\n"
          ],
          "name": "stdout"
        },
        {
          "output_type": "stream",
          "text": [
            "[I 2020-07-13 12:18:08,125] Finished trial#578 with value: 0.9949022055763629 with parameters: {'combos': 76, 'knn_features': 8, 'knn_Scaler': 'stand', 'knn_nn': 4, 'knn_p': 1, 'et_features': 16, 'et_Scaler': 'log', 'et_max_depth': 100, 'et_ne': 301, 'xgb_features': 7, 'xgb_Scaler': 'stand', 'booster': 'gbtree', 'lambda': 0.2365102262393751, 'alpha': 0.9313939238976928, 'max_depth': 26, 'eta': 5.945143085024108e-06, 'gamma': 0.011473351908256785, 'grow_policy': 'depthwise'}. Best is trial#561 with value: 0.9989596337910944.\n"
          ],
          "name": "stderr"
        },
        {
          "output_type": "stream",
          "text": [
            "('knn', 'qda', 'xgb')\n"
          ],
          "name": "stdout"
        },
        {
          "output_type": "stream",
          "text": [
            "/usr/local/lib/python3.6/dist-packages/sklearn/discriminant_analysis.py:691: UserWarning:\n",
            "\n",
            "Variables are collinear\n",
            "\n",
            "[I 2020-07-13 12:18:08,826] Finished trial#579 with value: 0.9904286308780691 with parameters: {'combos': 69, 'knn_features': 7, 'knn_Scaler': 'stand', 'knn_nn': 1, 'knn_p': 1, 'qda_features': 12, 'qda_Scaler': 'minmax', 'qda_rp': 2.490051750895705e-20, 'xgb_features': 6, 'xgb_Scaler': 'stand', 'booster': 'gbtree', 'lambda': 0.10205973806939549, 'alpha': 0.714610904048097, 'max_depth': 21, 'eta': 2.679982505924515e-06, 'gamma': 0.002221837403775076, 'grow_policy': 'depthwise'}. Best is trial#561 with value: 0.9989596337910944.\n"
          ],
          "name": "stderr"
        },
        {
          "output_type": "stream",
          "text": [
            "('svc', 'gp', 'gnb')\n"
          ],
          "name": "stdout"
        },
        {
          "output_type": "stream",
          "text": [
            "[I 2020-07-13 12:18:11,099] Finished trial#580 with value: 0.9929255097794424 with parameters: {'combos': 81, 'svc_features': 0, 'svc_Scaler': 'stand', 'svc_kern': 'linear', 'svc_C': 1.7613964298427494e-05, 'svc_deg': 3, 'gp_features': 15, 'gp_Scaler': 'minmax', 'gp_a': 1.0019990321777095, 'gp_kern': 9, 'gnb_features': 15, 'gnb_Scaler': 'log', 'gnb_vs': 2.6698145164779055e-08}. Best is trial#561 with value: 0.9989596337910944.\n"
          ],
          "name": "stderr"
        },
        {
          "output_type": "stream",
          "text": [
            "('knn', 'ada', 'xgb')\n"
          ],
          "name": "stdout"
        },
        {
          "output_type": "stream",
          "text": [
            "[I 2020-07-13 12:18:13,133] Finished trial#581 with value: 0.9977111943404079 with parameters: {'combos': 73, 'knn_features': 6, 'knn_Scaler': 'minmax', 'knn_nn': 2, 'knn_p': 1, 'ada_features': 13, 'ada_Scaler': 'log', 'ada_ne': 454, 'ada_lr': 0.490285881653689, 'ada_algo': 'SAMME', 'xgb_features': 8, 'xgb_Scaler': 'stand', 'booster': 'gbtree', 'lambda': 0.18257776207345427, 'alpha': 0.37672098637226137, 'max_depth': 23, 'eta': 3.14272152402651e-06, 'gamma': 0.005816764049014091, 'grow_policy': 'depthwise'}. Best is trial#561 with value: 0.9989596337910944.\n"
          ],
          "name": "stderr"
        },
        {
          "output_type": "stream",
          "text": [
            "('knn', 'rf', 'xgb')\n"
          ],
          "name": "stdout"
        },
        {
          "output_type": "stream",
          "text": [
            "[I 2020-07-13 12:18:14,850] Finished trial#582 with value: 0.985538909696213 with parameters: {'combos': 78, 'knn_features': 7, 'knn_Scaler': 'stand', 'knn_nn': 3, 'knn_p': 1, 'rf_features': 9, 'rf_Scaler': 'stand', 'rf_max_depth': 23, 'rf_ne': 360, 'rf_cw': 'balanced', 'xgb_features': 7, 'xgb_Scaler': 'stand', 'booster': 'gbtree', 'lambda': 0.7944456123187692, 'alpha': 0.9767034184034517, 'max_depth': 15, 'eta': 1.0409254779274013e-05, 'gamma': 0.00854319809409486, 'grow_policy': 'depthwise'}. Best is trial#561 with value: 0.9989596337910944.\n"
          ],
          "name": "stderr"
        },
        {
          "output_type": "stream",
          "text": [
            "('knn', 'ada', 'xgb')\n"
          ],
          "name": "stdout"
        },
        {
          "output_type": "stream",
          "text": [
            "[I 2020-07-13 12:18:16,849] Finished trial#583 with value: 0.9977111943404078 with parameters: {'combos': 73, 'knn_features': 8, 'knn_Scaler': 'stand', 'knn_nn': 4, 'knn_p': 1, 'ada_features': 14, 'ada_Scaler': 'log', 'ada_ne': 435, 'ada_lr': 0.4843092347998045, 'ada_algo': 'SAMME', 'xgb_features': 6, 'xgb_Scaler': 'stand', 'booster': 'gbtree', 'lambda': 0.07359719038409175, 'alpha': 0.49105246023208876, 'max_depth': 18, 'eta': 2.005521130345187e-06, 'gamma': 0.0038955718451653696, 'grow_policy': 'depthwise'}. Best is trial#561 with value: 0.9989596337910944.\n"
          ],
          "name": "stderr"
        },
        {
          "output_type": "stream",
          "text": [
            "('knn', 'qda', 'xgb')\n"
          ],
          "name": "stdout"
        },
        {
          "output_type": "stream",
          "text": [
            "/usr/local/lib/python3.6/dist-packages/sklearn/discriminant_analysis.py:691: UserWarning:\n",
            "\n",
            "Variables are collinear\n",
            "\n",
            "[I 2020-07-13 12:18:17,541] Finished trial#584 with value: 0.9904286308780691 with parameters: {'combos': 69, 'knn_features': 6, 'knn_Scaler': 'stand', 'knn_nn': 3, 'knn_p': 1, 'qda_features': 17, 'qda_Scaler': 'minmax', 'qda_rp': 1.3018144436948223e-11, 'xgb_features': 7, 'xgb_Scaler': 'stand', 'booster': 'gbtree', 'lambda': 0.4410341830519554, 'alpha': 0.2577303610065576, 'max_depth': 24, 'eta': 4.349574283431963e-06, 'gamma': 0.0012142177050911448, 'grow_policy': 'depthwise'}. Best is trial#561 with value: 0.9989596337910944.\n"
          ],
          "name": "stderr"
        },
        {
          "output_type": "stream",
          "text": [
            "('knn', 'ada', 'xgb')\n"
          ],
          "name": "stdout"
        },
        {
          "output_type": "stream",
          "text": [
            "[I 2020-07-13 12:18:19,605] Finished trial#585 with value: 0.9985434873075323 with parameters: {'combos': 73, 'knn_features': 7, 'knn_Scaler': 'stand', 'knn_nn': 2, 'knn_p': 1, 'ada_features': 13, 'ada_Scaler': 'log', 'ada_ne': 462, 'ada_lr': 0.6391168741676923, 'ada_algo': 'SAMME', 'xgb_features': 8, 'xgb_Scaler': 'stand', 'booster': 'gbtree', 'lambda': 0.2693290677849146, 'alpha': 0.6280389522317286, 'max_depth': 22, 'eta': 6.513019146951762e-06, 'gamma': 0.0018822975564831686, 'grow_policy': 'depthwise'}. Best is trial#561 with value: 0.9989596337910944.\n"
          ],
          "name": "stderr"
        },
        {
          "output_type": "stream",
          "text": [
            "('knn', 'et', 'gbm')\n"
          ],
          "name": "stdout"
        },
        {
          "output_type": "stream",
          "text": [
            "[I 2020-07-13 12:18:20,623] Setting status of trial#586 as TrialState.PRUNED. Trial was pruned at iteration 11.\n"
          ],
          "name": "stderr"
        },
        {
          "output_type": "stream",
          "text": [
            "('knn', 'qda', 'rf')\n"
          ],
          "name": "stdout"
        },
        {
          "output_type": "stream",
          "text": [
            "/usr/local/lib/python3.6/dist-packages/sklearn/discriminant_analysis.py:691: UserWarning:\n",
            "\n",
            "Variables are collinear\n",
            "\n",
            "[I 2020-07-13 12:18:21,953] Finished trial#587 with value: 0.9867873491468996 with parameters: {'combos': 68, 'knn_features': 7, 'knn_Scaler': 'stand', 'knn_nn': 2, 'knn_p': 1, 'qda_features': 19, 'qda_Scaler': 'log', 'qda_rp': 2.5328805472938494e-14, 'rf_features': 13, 'rf_Scaler': 'log', 'rf_max_depth': 88, 'rf_ne': 147, 'rf_cw': 'balanced_subsample'}. Best is trial#561 with value: 0.9989596337910944.\n"
          ],
          "name": "stderr"
        },
        {
          "output_type": "stream",
          "text": [
            "('knn', 'ada', 'xgb')\n"
          ],
          "name": "stdout"
        },
        {
          "output_type": "stream",
          "text": [
            "[I 2020-07-13 12:18:24,036] Finished trial#588 with value: 0.9985434873075323 with parameters: {'combos': 73, 'knn_features': 8, 'knn_Scaler': 'stand', 'knn_nn': 1, 'knn_p': 1, 'ada_features': 14, 'ada_Scaler': 'log', 'ada_ne': 459, 'ada_lr': 0.6201338041564128, 'ada_algo': 'SAMME', 'xgb_features': 5, 'xgb_Scaler': 'stand', 'booster': 'gbtree', 'lambda': 0.2867089237149326, 'alpha': 0.6590522609493055, 'max_depth': 21, 'eta': 8.205609337395142e-06, 'gamma': 0.002085980016880154, 'grow_policy': 'depthwise'}. Best is trial#561 with value: 0.9989596337910944.\n"
          ],
          "name": "stderr"
        },
        {
          "output_type": "stream",
          "text": [
            "('svc', 'gp', 'gnb')\n"
          ],
          "name": "stdout"
        },
        {
          "output_type": "stream",
          "text": [
            "[I 2020-07-13 12:18:26,172] Finished trial#589 with value: 0.9912609238451935 with parameters: {'combos': 81, 'svc_features': 15, 'svc_Scaler': 'minmax', 'svc_kern': 'rbf', 'svc_C': 4.1373539180317696e-08, 'svc_deg': 9, 'gp_features': 16, 'gp_Scaler': 'log', 'gp_a': 4.327912622137625, 'gp_kern': 10, 'gnb_features': 7, 'gnb_Scaler': 'log', 'gnb_vs': 9.636059185579473e-13}. Best is trial#561 with value: 0.9989596337910944.\n"
          ],
          "name": "stderr"
        },
        {
          "output_type": "stream",
          "text": [
            "('knn', 'et', 'xgb')\n"
          ],
          "name": "stdout"
        },
        {
          "output_type": "stream",
          "text": [
            "[I 2020-07-13 12:18:27,117] Finished trial#590 with value: 0.9894923012900542 with parameters: {'combos': 76, 'knn_features': 8, 'knn_Scaler': 'stand', 'knn_nn': 1, 'knn_p': 1, 'et_features': 18, 'et_Scaler': 'minmax', 'et_max_depth': 62, 'et_ne': 248, 'xgb_features': 5, 'xgb_Scaler': 'stand', 'booster': 'gbtree', 'lambda': 0.29253963414128276, 'alpha': 0.6573605127602639, 'max_depth': 20, 'eta': 6.959418361325549e-06, 'gamma': 0.0020120405144340775, 'grow_policy': 'depthwise'}. Best is trial#561 with value: 0.9989596337910944.\n"
          ],
          "name": "stderr"
        },
        {
          "output_type": "stream",
          "text": [
            "('knn', 'qda', 'xgb')\n"
          ],
          "name": "stdout"
        },
        {
          "output_type": "stream",
          "text": [
            "/usr/local/lib/python3.6/dist-packages/sklearn/discriminant_analysis.py:691: UserWarning:\n",
            "\n",
            "Variables are collinear\n",
            "\n",
            "[I 2020-07-13 12:18:27,810] Finished trial#591 with value: 0.9907407407407408 with parameters: {'combos': 69, 'knn_features': 9, 'knn_Scaler': 'stand', 'knn_nn': 2, 'knn_p': 1, 'qda_features': 16, 'qda_Scaler': 'minmax', 'qda_rp': 2.1070011493159064e-10, 'xgb_features': 5, 'xgb_Scaler': 'stand', 'booster': 'gbtree', 'lambda': 0.13527181867059543, 'alpha': 0.5382775835830078, 'max_depth': 25, 'eta': 1.1665288509484088e-06, 'gamma': 0.0030891966667525887, 'grow_policy': 'depthwise'}. Best is trial#561 with value: 0.9989596337910944.\n"
          ],
          "name": "stderr"
        },
        {
          "output_type": "stream",
          "text": [
            "('knn', 'ada', 'xgb')\n"
          ],
          "name": "stdout"
        },
        {
          "output_type": "stream",
          "text": [
            "[I 2020-07-13 12:18:29,855] Finished trial#592 with value: 0.9985434873075323 with parameters: {'combos': 73, 'knn_features': 8, 'knn_Scaler': 'stand', 'knn_nn': 1, 'knn_p': 1, 'ada_features': 14, 'ada_Scaler': 'log', 'ada_ne': 458, 'ada_lr': 0.6473177950765208, 'ada_algo': 'SAMME', 'xgb_features': 6, 'xgb_Scaler': 'stand', 'booster': 'gbtree', 'lambda': 0.21122905612473813, 'alpha': 0.35595076234260564, 'max_depth': 21, 'eta': 1.4133083738124845e-05, 'gamma': 0.005546478903395516, 'grow_policy': 'depthwise'}. Best is trial#561 with value: 0.9989596337910944.\n"
          ],
          "name": "stderr"
        },
        {
          "output_type": "stream",
          "text": [
            "('svc', 'gp', 'rf')\n"
          ],
          "name": "stdout"
        },
        {
          "output_type": "stream",
          "text": [
            "[I 2020-07-13 12:18:32,603] Finished trial#593 with value: 0.9914689970869747 with parameters: {'combos': 85, 'svc_features': 16, 'svc_Scaler': 'stand', 'svc_kern': 'poly', 'svc_C': 6.288071101958929e-06, 'svc_deg': 5, 'gp_features': 12, 'gp_Scaler': 'minmax', 'gp_a': 6.687650729872424, 'gp_kern': 8, 'rf_features': 10, 'rf_Scaler': 'minmax', 'rf_max_depth': 19, 'rf_ne': 198, 'rf_cw': 'balanced'}. Best is trial#561 with value: 0.9989596337910944.\n"
          ],
          "name": "stderr"
        },
        {
          "output_type": "stream",
          "text": [
            "('knn', 'rf', 'gbm')\n"
          ],
          "name": "stdout"
        },
        {
          "output_type": "stream",
          "text": [
            "[I 2020-07-13 12:18:34,546] Setting status of trial#594 as TrialState.PRUNED. Trial was pruned at iteration 11.\n"
          ],
          "name": "stderr"
        },
        {
          "output_type": "stream",
          "text": [
            "('knn', 'et', 'rf')\n"
          ],
          "name": "stdout"
        },
        {
          "output_type": "stream",
          "text": [
            "[I 2020-07-13 12:18:35,850] Finished trial#595 with value: 0.9914689970869747 with parameters: {'combos': 75, 'knn_features': 9, 'knn_Scaler': 'stand', 'knn_nn': 1, 'knn_p': 1, 'et_features': 7, 'et_Scaler': 'log', 'et_max_depth': 38, 'et_ne': 80, 'rf_features': 1, 'rf_Scaler': 'log', 'rf_max_depth': 3, 'rf_ne': 171, 'rf_cw': 'balanced'}. Best is trial#561 with value: 0.9989596337910944.\n"
          ],
          "name": "stderr"
        },
        {
          "output_type": "stream",
          "text": [
            "('knn', 'ada', 'rf')\n"
          ],
          "name": "stdout"
        },
        {
          "output_type": "stream",
          "text": [
            "[I 2020-07-13 12:18:38,195] Finished trial#596 with value: 0.992093216812318 with parameters: {'combos': 72, 'knn_features': 7, 'knn_Scaler': 'stand', 'knn_nn': 1, 'knn_p': 1, 'ada_features': 15, 'ada_Scaler': 'log', 'ada_ne': 457, 'ada_lr': 0.7189944094066605, 'ada_algo': 'SAMME', 'rf_features': 14, 'rf_Scaler': 'minmax', 'rf_max_depth': 15, 'rf_ne': 63, 'rf_cw': 'balanced_subsample'}. Best is trial#561 with value: 0.9989596337910944.\n"
          ],
          "name": "stderr"
        },
        {
          "output_type": "stream",
          "text": [
            "('svc', 'gp', 'qda')\n"
          ],
          "name": "stdout"
        },
        {
          "output_type": "stream",
          "text": [
            "[I 2020-07-13 12:18:40,319] Finished trial#597 with value: 0.993965875988348 with parameters: {'combos': 82, 'svc_features': 14, 'svc_Scaler': 'minmax', 'svc_kern': 'linear', 'svc_C': 2.4055652970422186e-07, 'svc_deg': 6, 'gp_features': 19, 'gp_Scaler': 'log', 'gp_a': 8.488298560945655, 'gp_kern': 6, 'qda_features': 4, 'qda_Scaler': 'log', 'qda_rp': 2.663244977804686e-12}. Best is trial#561 with value: 0.9989596337910944.\n"
          ],
          "name": "stderr"
        },
        {
          "output_type": "stream",
          "text": [
            "('knn', 'qda', 'rf')\n"
          ],
          "name": "stdout"
        },
        {
          "output_type": "stream",
          "text": [
            "/usr/local/lib/python3.6/dist-packages/sklearn/discriminant_analysis.py:691: UserWarning:\n",
            "\n",
            "Variables are collinear\n",
            "\n",
            "[I 2020-07-13 12:18:41,689] Finished trial#598 with value: 0.9919891801914273 with parameters: {'combos': 68, 'knn_features': 8, 'knn_Scaler': 'stand', 'knn_nn': 2, 'knn_p': 1, 'qda_features': 14, 'qda_Scaler': 'minmax', 'qda_rp': 8.492883661195241e-13, 'rf_features': 3, 'rf_Scaler': 'stand', 'rf_max_depth': 55, 'rf_ne': 289, 'rf_cw': 'balanced'}. Best is trial#561 with value: 0.9989596337910944.\n"
          ],
          "name": "stderr"
        },
        {
          "output_type": "stream",
          "text": [
            "('knn', 'ada', 'rf')\n"
          ],
          "name": "stdout"
        },
        {
          "output_type": "stream",
          "text": [
            "[I 2020-07-13 12:18:45,218] Finished trial#599 with value: 0.996046608406159 with parameters: {'combos': 72, 'knn_features': 7, 'knn_Scaler': 'stand', 'knn_nn': 26, 'knn_p': 1, 'ada_features': 14, 'ada_Scaler': 'log', 'ada_ne': 465, 'ada_lr': 0.6550161652029728, 'ada_algo': 'SAMME', 'rf_features': 6, 'rf_Scaler': 'log', 'rf_max_depth': 31, 'rf_ne': 469, 'rf_cw': 'balanced_subsample'}. Best is trial#561 with value: 0.9989596337910944.\n"
          ],
          "name": "stderr"
        },
        {
          "output_type": "stream",
          "text": [
            "('knn', 'et', 'xgb')\n"
          ],
          "name": "stdout"
        },
        {
          "output_type": "stream",
          "text": [
            "[I 2020-07-13 12:18:46,319] Finished trial#600 with value: 0.995318352059925 with parameters: {'combos': 76, 'knn_features': 8, 'knn_Scaler': 'stand', 'knn_nn': 2, 'knn_p': 1, 'et_features': 17, 'et_Scaler': 'stand', 'et_max_depth': 52, 'et_ne': 378, 'xgb_features': 6, 'xgb_Scaler': 'stand', 'booster': 'gbtree', 'lambda': 0.12284405420065622, 'alpha': 0.2715542746931947, 'max_depth': 18, 'eta': 2.747806359789573e-05, 'gamma': 0.0016599629801531247, 'grow_policy': 'depthwise'}. Best is trial#561 with value: 0.9989596337910944.\n"
          ],
          "name": "stderr"
        },
        {
          "output_type": "stream",
          "text": [
            "('knn', 'qda', 'rf')\n"
          ],
          "name": "stdout"
        },
        {
          "output_type": "stream",
          "text": [
            "/usr/local/lib/python3.6/dist-packages/sklearn/discriminant_analysis.py:691: UserWarning:\n",
            "\n",
            "Variables are collinear\n",
            "\n",
            "[I 2020-07-13 12:18:47,564] Finished trial#601 with value: 0.987411568872243 with parameters: {'combos': 68, 'knn_features': 7, 'knn_Scaler': 'stand', 'knn_nn': 2, 'knn_p': 1, 'qda_features': 11, 'qda_Scaler': 'stand', 'qda_rp': 2.5105964039210517e-15, 'rf_features': 16, 'rf_Scaler': 'minmax', 'rf_max_depth': 26, 'rf_ne': 223, 'rf_cw': 'balanced'}. Best is trial#561 with value: 0.9989596337910944.\n"
          ],
          "name": "stderr"
        },
        {
          "output_type": "stream",
          "text": [
            "('knn', 'ada', 'et')\n"
          ],
          "name": "stdout"
        },
        {
          "output_type": "stream",
          "text": [
            "[I 2020-07-13 12:18:49,918] Finished trial#602 with value: 0.9923012900540991 with parameters: {'combos': 71, 'knn_features': 8, 'knn_Scaler': 'stand', 'knn_nn': 3, 'knn_p': 1, 'ada_features': 13, 'ada_Scaler': 'log', 'ada_ne': 452, 'ada_lr': 0.6152795290839086, 'ada_algo': 'SAMME', 'et_features': 15, 'et_Scaler': 'minmax', 'et_max_depth': 48, 'et_ne': 345}. Best is trial#561 with value: 0.9989596337910944.\n"
          ],
          "name": "stderr"
        },
        {
          "output_type": "stream",
          "text": [
            "('knn', 'rf', 'gbm')\n"
          ],
          "name": "stdout"
        },
        {
          "output_type": "stream",
          "text": [
            "[I 2020-07-13 12:18:51,523] Setting status of trial#603 as TrialState.PRUNED. Trial was pruned at iteration 11.\n"
          ],
          "name": "stderr"
        },
        {
          "output_type": "stream",
          "text": [
            "('knn', 'et', 'xgb')\n"
          ],
          "name": "stdout"
        },
        {
          "output_type": "stream",
          "text": [
            "[I 2020-07-13 12:18:52,479] Finished trial#604 with value: 0.9965667915106117 with parameters: {'combos': 76, 'knn_features': 9, 'knn_Scaler': 'stand', 'knn_nn': 2, 'knn_p': 1, 'et_features': 14, 'et_Scaler': 'log', 'et_max_depth': 65, 'et_ne': 150, 'xgb_features': 7, 'xgb_Scaler': 'stand', 'booster': 'gbtree', 'lambda': 0.3956958523031964, 'alpha': 0.3748961970347882, 'max_depth': 22, 'eta': 8.640744105729702e-06, 'gamma': 0.0041035829209805155, 'grow_policy': 'depthwise'}. Best is trial#561 with value: 0.9989596337910944.\n"
          ],
          "name": "stderr"
        },
        {
          "output_type": "stream",
          "text": [
            "('knn', 'ada', 'et')\n"
          ],
          "name": "stdout"
        },
        {
          "output_type": "stream",
          "text": [
            "[I 2020-07-13 12:18:54,627] Finished trial#605 with value: 0.9964627548897212 with parameters: {'combos': 71, 'knn_features': 8, 'knn_Scaler': 'stand', 'knn_nn': 2, 'knn_p': 1, 'ada_features': 14, 'ada_Scaler': 'log', 'ada_ne': 462, 'ada_lr': 0.7030125960032626, 'ada_algo': 'SAMME', 'et_features': 6, 'et_Scaler': 'stand', 'et_max_depth': 14, 'et_ne': 107}. Best is trial#561 with value: 0.9989596337910944.\n"
          ],
          "name": "stderr"
        },
        {
          "output_type": "stream",
          "text": [
            "('knn', 'qda', 'rf')\n"
          ],
          "name": "stdout"
        },
        {
          "output_type": "stream",
          "text": [
            "[I 2020-07-13 12:18:55,494] Finished trial#606 with value: 0.9935497295047856 with parameters: {'combos': 68, 'knn_features': 9, 'knn_Scaler': 'stand', 'knn_nn': 1, 'knn_p': 1, 'qda_features': 7, 'qda_Scaler': 'log', 'qda_rp': 4.1783370513957444e-17, 'rf_features': 0, 'rf_Scaler': 'log', 'rf_max_depth': 71, 'rf_ne': 12, 'rf_cw': 'balanced'}. Best is trial#561 with value: 0.9989596337910944.\n"
          ],
          "name": "stderr"
        },
        {
          "output_type": "stream",
          "text": [
            "('knn', 'ada', 'gbm')\n"
          ],
          "name": "stdout"
        },
        {
          "output_type": "stream",
          "text": [
            "[I 2020-07-13 12:18:57,189] Setting status of trial#607 as TrialState.PRUNED. Trial was pruned at iteration 11.\n"
          ],
          "name": "stderr"
        },
        {
          "output_type": "stream",
          "text": [
            "('knn', 'rf', 'xgb')\n"
          ],
          "name": "stdout"
        },
        {
          "output_type": "stream",
          "text": [
            "[I 2020-07-13 12:18:58,418] Finished trial#608 with value: 0.9861631294215564 with parameters: {'combos': 78, 'knn_features': 8, 'knn_Scaler': 'stand', 'knn_nn': 3, 'knn_p': 1, 'rf_features': 12, 'rf_Scaler': 'minmax', 'rf_max_depth': 43, 'rf_ne': 110, 'rf_cw': 'balanced_subsample', 'xgb_features': 6, 'xgb_Scaler': 'stand', 'booster': 'gbtree', 'lambda': 0.22825139409735715, 'alpha': 0.9866641794657967, 'max_depth': 15, 'eta': 1.2217926511491286e-05, 'gamma': 0.007058061463326323, 'grow_policy': 'depthwise'}. Best is trial#561 with value: 0.9989596337910944.\n"
          ],
          "name": "stderr"
        },
        {
          "output_type": "stream",
          "text": [
            "('svc', 'gp', 'et')\n"
          ],
          "name": "stdout"
        },
        {
          "output_type": "stream",
          "text": [
            "[I 2020-07-13 12:19:01,013] Finished trial#609 with value: 0.9906367041198502 with parameters: {'combos': 84, 'svc_features': 2, 'svc_Scaler': 'stand', 'svc_kern': 'rbf', 'svc_C': 0.00012928235486218655, 'svc_deg': 4, 'gp_features': 11, 'gp_Scaler': 'minmax', 'gp_a': 0.26920608966372084, 'gp_kern': 9, 'et_features': 8, 'et_Scaler': 'minmax', 'et_max_depth': 73, 'et_ne': 361}. Best is trial#561 with value: 0.9989596337910944.\n"
          ],
          "name": "stderr"
        },
        {
          "output_type": "stream",
          "text": [
            "('knn', 'ada', 'rf')\n"
          ],
          "name": "stdout"
        },
        {
          "output_type": "stream",
          "text": [
            "[I 2020-07-13 12:19:03,412] Finished trial#610 with value: 0.996046608406159 with parameters: {'combos': 72, 'knn_features': 7, 'knn_Scaler': 'stand', 'knn_nn': 2, 'knn_p': 1, 'ada_features': 14, 'ada_Scaler': 'stand', 'ada_ne': 465, 'ada_lr': 0.5996388697681687, 'ada_algo': 'SAMME', 'rf_features': 19, 'rf_Scaler': 'stand', 'rf_max_depth': 52, 'rf_ne': 87, 'rf_cw': 'balanced'}. Best is trial#561 with value: 0.9989596337910944.\n"
          ],
          "name": "stderr"
        },
        {
          "output_type": "stream",
          "text": [
            "('knn', 'qda', 'rf')\n"
          ],
          "name": "stdout"
        },
        {
          "output_type": "stream",
          "text": [
            "/usr/local/lib/python3.6/dist-packages/sklearn/discriminant_analysis.py:691: UserWarning:\n",
            "\n",
            "Variables are collinear\n",
            "\n",
            "[I 2020-07-13 12:19:05,543] Finished trial#611 with value: 0.9912609238451935 with parameters: {'combos': 68, 'knn_features': 6, 'knn_Scaler': 'minmax', 'knn_nn': 1, 'knn_p': 1, 'qda_features': 15, 'qda_Scaler': 'stand', 'qda_rp': 1.0057612981520481e-14, 'rf_features': 7, 'rf_Scaler': 'log', 'rf_max_depth': 6, 'rf_ne': 482, 'rf_cw': 'balanced_subsample'}. Best is trial#561 with value: 0.9989596337910944.\n"
          ],
          "name": "stderr"
        },
        {
          "output_type": "stream",
          "text": [
            "('knn', 'et', 'rf')\n"
          ],
          "name": "stdout"
        },
        {
          "output_type": "stream",
          "text": [
            "[I 2020-07-13 12:19:06,707] Finished trial#612 with value: 0.9906367041198503 with parameters: {'combos': 75, 'knn_features': 9, 'knn_Scaler': 'stand', 'knn_nn': 3, 'knn_p': 1, 'et_features': 10, 'et_Scaler': 'log', 'et_max_depth': 89, 'et_ne': 167, 'rf_features': 14, 'rf_Scaler': 'minmax', 'rf_max_depth': 35, 'rf_ne': 71, 'rf_cw': 'balanced'}. Best is trial#561 with value: 0.9989596337910944.\n"
          ],
          "name": "stderr"
        },
        {
          "output_type": "stream",
          "text": [
            "('knn', 'qda', 'gbm')\n"
          ],
          "name": "stdout"
        },
        {
          "output_type": "stream",
          "text": [
            "/usr/local/lib/python3.6/dist-packages/sklearn/discriminant_analysis.py:691: UserWarning:\n",
            "\n",
            "Variables are collinear\n",
            "\n",
            "[I 2020-07-13 12:19:07,298] Setting status of trial#613 as TrialState.PRUNED. Trial was pruned at iteration 12.\n"
          ],
          "name": "stderr"
        },
        {
          "output_type": "stream",
          "text": [
            "('knn', 'rf', 'xgb')\n"
          ],
          "name": "stdout"
        },
        {
          "output_type": "stream",
          "text": [
            "[I 2020-07-13 12:19:08,304] Finished trial#614 with value: 0.9881398252184769 with parameters: {'combos': 78, 'knn_features': 7, 'knn_Scaler': 'stand', 'knn_nn': 2, 'knn_p': 1, 'rf_features': 8, 'rf_Scaler': 'stand', 'rf_max_depth': 100, 'rf_ne': 32, 'rf_cw': 'balanced_subsample', 'xgb_features': 8, 'xgb_Scaler': 'stand', 'booster': 'gbtree', 'lambda': 0.16746305456847851, 'alpha': 0.9717361008466298, 'max_depth': 28, 'eta': 1.7695347632765892e-05, 'gamma': 0.0027549912578465796, 'grow_policy': 'depthwise'}. Best is trial#561 with value: 0.9989596337910944.\n"
          ],
          "name": "stderr"
        },
        {
          "output_type": "stream",
          "text": [
            "('knn', 'ada', 'rf')\n"
          ],
          "name": "stdout"
        },
        {
          "output_type": "stream",
          "text": [
            "[I 2020-07-13 12:19:10,702] Finished trial#615 with value: 0.9970869746150646 with parameters: {'combos': 72, 'knn_features': 8, 'knn_Scaler': 'stand', 'knn_nn': 3, 'knn_p': 1, 'ada_features': 13, 'ada_Scaler': 'log', 'ada_ne': 433, 'ada_lr': 0.5592525561919501, 'ada_algo': 'SAMME', 'rf_features': 15, 'rf_Scaler': 'log', 'rf_max_depth': 76, 'rf_ne': 158, 'rf_cw': 'balanced'}. Best is trial#561 with value: 0.9989596337910944.\n"
          ],
          "name": "stderr"
        },
        {
          "output_type": "stream",
          "text": [
            "('svc', 'gp', 'gnb')\n"
          ],
          "name": "stdout"
        },
        {
          "output_type": "stream",
          "text": [
            "[I 2020-07-13 12:19:12,827] Finished trial#616 with value: 0.9931335830212235 with parameters: {'combos': 81, 'svc_features': 16, 'svc_Scaler': 'minmax', 'svc_kern': 'poly', 'svc_C': 0.0013967937846348548, 'svc_deg': 10, 'gp_features': 18, 'gp_Scaler': 'log', 'gp_a': 0.38077737744158235, 'gp_kern': 5, 'gnb_features': 0, 'gnb_Scaler': 'log', 'gnb_vs': 3.1974739101020255e-16}. Best is trial#561 with value: 0.9989596337910944.\n"
          ],
          "name": "stderr"
        },
        {
          "output_type": "stream",
          "text": [
            "('knn', 'qda', 'et')\n"
          ],
          "name": "stdout"
        },
        {
          "output_type": "stream",
          "text": [
            "/usr/local/lib/python3.6/dist-packages/sklearn/discriminant_analysis.py:691: UserWarning:\n",
            "\n",
            "Variables are collinear\n",
            "\n",
            "[I 2020-07-13 12:19:13,779] Finished trial#617 with value: 0.9949022055763629 with parameters: {'combos': 67, 'knn_features': 8, 'knn_Scaler': 'stand', 'knn_nn': 3, 'knn_p': 1, 'qda_features': 18, 'qda_Scaler': 'minmax', 'qda_rp': 1.8115072377523032e-16, 'et_features': 2, 'et_Scaler': 'stand', 'et_max_depth': 76, 'et_ne': 273}. Best is trial#561 with value: 0.9989596337910944.\n"
          ],
          "name": "stderr"
        },
        {
          "output_type": "stream",
          "text": [
            "('knn', 'et', 'rf')\n"
          ],
          "name": "stdout"
        },
        {
          "output_type": "stream",
          "text": [
            "[I 2020-07-13 12:19:15,243] Finished trial#618 with value: 0.9902205576362879 with parameters: {'combos': 75, 'knn_features': 9, 'knn_Scaler': 'stand', 'knn_nn': 4, 'knn_p': 1, 'et_features': 3, 'et_Scaler': 'minmax', 'et_max_depth': 56, 'et_ne': 22, 'rf_features': 13, 'rf_Scaler': 'minmax', 'rf_max_depth': 11, 'rf_ne': 261, 'rf_cw': 'balanced_subsample'}. Best is trial#561 with value: 0.9989596337910944.\n"
          ],
          "name": "stderr"
        },
        {
          "output_type": "stream",
          "text": [
            "('knn', 'ada', 'xgb')\n"
          ],
          "name": "stdout"
        },
        {
          "output_type": "stream",
          "text": [
            "[I 2020-07-13 12:19:17,448] Finished trial#619 with value: 0.9906367041198503 with parameters: {'combos': 73, 'knn_features': 7, 'knn_Scaler': 'stand', 'knn_nn': 1, 'knn_p': 1, 'ada_features': 14, 'ada_Scaler': 'minmax', 'ada_ne': 499, 'ada_lr': 0.6024236368261842, 'ada_algo': 'SAMME', 'xgb_features': 7, 'xgb_Scaler': 'stand', 'booster': 'gbtree', 'lambda': 0.6001653346033509, 'alpha': 0.7070012546865726, 'max_depth': 21, 'eta': 7.592962492501427e-06, 'gamma': 0.01487032849370686, 'grow_policy': 'depthwise'}. Best is trial#561 with value: 0.9989596337910944.\n"
          ],
          "name": "stderr"
        },
        {
          "output_type": "stream",
          "text": [
            "('svc', 'gnb', 'qda')\n"
          ],
          "name": "stdout"
        },
        {
          "output_type": "stream",
          "text": [
            "[I 2020-07-13 12:19:18,022] Finished trial#620 with value: 0.9937578027465668 with parameters: {'combos': 88, 'svc_features': 6, 'svc_Scaler': 'stand', 'svc_kern': 'linear', 'svc_C': 1.7934188517233839e-06, 'svc_deg': 4, 'gnb_features': 9, 'gnb_Scaler': 'log', 'gnb_vs': 6.687652728196299e-12, 'qda_features': 0, 'qda_Scaler': 'log', 'qda_rp': 0.1539571232335656}. Best is trial#561 with value: 0.9989596337910944.\n"
          ],
          "name": "stderr"
        },
        {
          "output_type": "stream",
          "text": [
            "('knn', 'qda', 'gbm')\n"
          ],
          "name": "stdout"
        },
        {
          "output_type": "stream",
          "text": [
            "/usr/local/lib/python3.6/dist-packages/sklearn/discriminant_analysis.py:691: UserWarning:\n",
            "\n",
            "Variables are collinear\n",
            "\n",
            "[I 2020-07-13 12:19:18,604] Setting status of trial#621 as TrialState.PRUNED. Trial was pruned at iteration 11.\n"
          ],
          "name": "stderr"
        },
        {
          "output_type": "stream",
          "text": [
            "('knn', 'rf', 'gbm')\n"
          ],
          "name": "stdout"
        },
        {
          "output_type": "stream",
          "text": [
            "[I 2020-07-13 12:19:19,986] Setting status of trial#622 as TrialState.PRUNED. Trial was pruned at iteration 11.\n"
          ],
          "name": "stderr"
        },
        {
          "output_type": "stream",
          "text": [
            "('knn', 'et', 'xgb')\n"
          ],
          "name": "stdout"
        },
        {
          "output_type": "stream",
          "text": [
            "[I 2020-07-13 12:19:21,258] Finished trial#623 with value: 0.9962546816479403 with parameters: {'combos': 76, 'knn_features': 7, 'knn_Scaler': 'stand', 'knn_nn': 2, 'knn_p': 1, 'et_features': 12, 'et_Scaler': 'log', 'et_max_depth': 19, 'et_ne': 459, 'xgb_features': 7, 'xgb_Scaler': 'stand', 'booster': 'gbtree', 'lambda': 0.07831010709196233, 'alpha': 0.3918178137430402, 'max_depth': 22, 'eta': 6.10102848455315e-06, 'gamma': 0.002183511026212165, 'grow_policy': 'depthwise'}. Best is trial#561 with value: 0.9989596337910944.\n"
          ],
          "name": "stderr"
        },
        {
          "output_type": "stream",
          "text": [
            "('knn', 'qda', 'et')\n"
          ],
          "name": "stdout"
        },
        {
          "output_type": "stream",
          "text": [
            "/usr/local/lib/python3.6/dist-packages/sklearn/discriminant_analysis.py:691: UserWarning:\n",
            "\n",
            "Variables are collinear\n",
            "\n",
            "[I 2020-07-13 12:19:22,366] Finished trial#624 with value: 0.9952143154390346 with parameters: {'combos': 67, 'knn_features': 8, 'knn_Scaler': 'stand', 'knn_nn': 3, 'knn_p': 1, 'qda_features': 8, 'qda_Scaler': 'stand', 'qda_rp': 3.40857715567598e-10, 'et_features': 20, 'et_Scaler': 'stand', 'et_max_depth': 69, 'et_ne': 418}. Best is trial#561 with value: 0.9989596337910944.\n"
          ],
          "name": "stderr"
        },
        {
          "output_type": "stream",
          "text": [
            "('knn', 'ada', 'et')\n"
          ],
          "name": "stdout"
        },
        {
          "output_type": "stream",
          "text": [
            "[I 2020-07-13 12:19:24,587] Finished trial#625 with value: 0.9927174365376613 with parameters: {'combos': 71, 'knn_features': 8, 'knn_Scaler': 'stand', 'knn_nn': 4, 'knn_p': 1, 'ada_features': 13, 'ada_Scaler': 'log', 'ada_ne': 448, 'ada_lr': 0.48187469307293446, 'ada_algo': 'SAMME', 'et_features': 19, 'et_Scaler': 'minmax', 'et_max_depth': 84, 'et_ne': 221}. Best is trial#561 with value: 0.9989596337910944.\n"
          ],
          "name": "stderr"
        },
        {
          "output_type": "stream",
          "text": [
            "('knn', 'et', 'rf')\n"
          ],
          "name": "stdout"
        },
        {
          "output_type": "stream",
          "text": [
            "[I 2020-07-13 12:19:26,551] Finished trial#626 with value: 0.9928214731585518 with parameters: {'combos': 75, 'knn_features': 7, 'knn_Scaler': 'stand', 'knn_nn': 2, 'knn_p': 1, 'et_features': 5, 'et_Scaler': 'log', 'et_max_depth': 59, 'et_ne': 64, 'rf_features': 5, 'rf_Scaler': 'log', 'rf_max_depth': 81, 'rf_ne': 406, 'rf_cw': 'balanced_subsample'}. Best is trial#561 with value: 0.9989596337910944.\n"
          ],
          "name": "stderr"
        },
        {
          "output_type": "stream",
          "text": [
            "('knn', 'ada', 'rf')\n"
          ],
          "name": "stdout"
        },
        {
          "output_type": "stream",
          "text": [
            "[I 2020-07-13 12:19:29,207] Finished trial#627 with value: 0.9918851435705369 with parameters: {'combos': 72, 'knn_features': 7, 'knn_Scaler': 'stand', 'knn_nn': 1, 'knn_p': 1, 'ada_features': 15, 'ada_Scaler': 'log', 'ada_ne': 472, 'ada_lr': 0.7592445952912942, 'ada_algo': 'SAMME', 'rf_features': 18, 'rf_Scaler': 'minmax', 'rf_max_depth': 29, 'rf_ne': 240, 'rf_cw': 'balanced'}. Best is trial#561 with value: 0.9989596337910944.\n"
          ],
          "name": "stderr"
        },
        {
          "output_type": "stream",
          "text": [
            "('svc', 'gp', 'gnb')\n"
          ],
          "name": "stdout"
        },
        {
          "output_type": "stream",
          "text": [
            "[I 2020-07-13 12:19:31,889] Finished trial#628 with value: 0.9935497295047857 with parameters: {'combos': 81, 'svc_features': 18, 'svc_Scaler': 'minmax', 'svc_kern': 'rbf', 'svc_C': 5.027053360226111e-07, 'svc_deg': 3, 'gp_features': 20, 'gp_Scaler': 'minmax', 'gp_a': 0.03401706093762169, 'gp_kern': 7, 'gnb_features': 8, 'gnb_Scaler': 'log', 'gnb_vs': 2.112048036640517e-10}. Best is trial#561 with value: 0.9989596337910944.\n"
          ],
          "name": "stderr"
        },
        {
          "output_type": "stream",
          "text": [
            "('knn', 'qda', 'rf')\n"
          ],
          "name": "stdout"
        },
        {
          "output_type": "stream",
          "text": [
            "/usr/local/lib/python3.6/dist-packages/sklearn/discriminant_analysis.py:691: UserWarning:\n",
            "\n",
            "Variables are collinear\n",
            "\n",
            "[I 2020-07-13 12:19:33,571] Finished trial#629 with value: 0.993237619642114 with parameters: {'combos': 68, 'knn_features': 6, 'knn_Scaler': 'stand', 'knn_nn': 2, 'knn_p': 1, 'qda_features': 10, 'qda_Scaler': 'minmax', 'qda_rp': 1.0587119799517752e-13, 'rf_features': 11, 'rf_Scaler': 'stand', 'rf_max_depth': 58, 'rf_ne': 328, 'rf_cw': 'balanced_subsample'}. Best is trial#561 with value: 0.9989596337910944.\n"
          ],
          "name": "stderr"
        },
        {
          "output_type": "stream",
          "text": [
            "('knn', 'et', 'gbm')\n"
          ],
          "name": "stdout"
        },
        {
          "output_type": "stream",
          "text": [
            "[I 2020-07-13 12:19:34,540] Setting status of trial#630 as TrialState.PRUNED. Trial was pruned at iteration 11.\n"
          ],
          "name": "stderr"
        },
        {
          "output_type": "stream",
          "text": [
            "('knn', 'ada', 'xgb')\n"
          ],
          "name": "stdout"
        },
        {
          "output_type": "stream",
          "text": [
            "[I 2020-07-13 12:19:36,699] Finished trial#631 with value: 0.9985434873075323 with parameters: {'combos': 73, 'knn_features': 7, 'knn_Scaler': 'stand', 'knn_nn': 2, 'knn_p': 1, 'ada_features': 15, 'ada_Scaler': 'log', 'ada_ne': 459, 'ada_lr': 0.534545334362498, 'ada_algo': 'SAMME', 'xgb_features': 6, 'xgb_Scaler': 'stand', 'booster': 'gbtree', 'lambda': 0.9815667640911405, 'alpha': 0.9911724663552338, 'max_depth': 26, 'eta': 3.1475116878137654e-06, 'gamma': 0.0007606255534110238, 'grow_policy': 'depthwise'}. Best is trial#561 with value: 0.9989596337910944.\n"
          ],
          "name": "stderr"
        },
        {
          "output_type": "stream",
          "text": [
            "('svc', 'gp', 'et')\n"
          ],
          "name": "stdout"
        },
        {
          "output_type": "stream",
          "text": [
            "[I 2020-07-13 12:19:39,541] Finished trial#632 with value: 0.9904286308780691 with parameters: {'combos': 84, 'svc_features': 10, 'svc_Scaler': 'stand', 'svc_kern': 'poly', 'svc_C': 0.00020201514480921613, 'svc_deg': 8, 'gp_features': 13, 'gp_Scaler': 'log', 'gp_a': 0.06016904394151881, 'gp_kern': 6, 'et_features': 18, 'et_Scaler': 'minmax', 'et_max_depth': 94, 'et_ne': 495}. Best is trial#561 with value: 0.9989596337910944.\n"
          ],
          "name": "stderr"
        },
        {
          "output_type": "stream",
          "text": [
            "('knn', 'rf', 'xgb')\n"
          ],
          "name": "stdout"
        },
        {
          "output_type": "stream",
          "text": [
            "[I 2020-07-13 12:19:41,387] Finished trial#633 with value: 0.9927174365376612 with parameters: {'combos': 78, 'knn_features': 7, 'knn_Scaler': 'stand', 'knn_nn': 2, 'knn_p': 1, 'rf_features': 20, 'rf_Scaler': 'log', 'rf_max_depth': 50, 'rf_ne': 422, 'rf_cw': 'balanced', 'xgb_features': 7, 'xgb_Scaler': 'stand', 'booster': 'gbtree', 'lambda': 0.5137580608256822, 'alpha': 0.2952447106620172, 'max_depth': 24, 'eta': 5.166137604786058e-06, 'gamma': 0.0007822663918836359, 'grow_policy': 'depthwise'}. Best is trial#561 with value: 0.9989596337910944.\n"
          ],
          "name": "stderr"
        },
        {
          "output_type": "stream",
          "text": [
            "('knn', 'qda', 'et')\n"
          ],
          "name": "stdout"
        },
        {
          "output_type": "stream",
          "text": [
            "/usr/local/lib/python3.6/dist-packages/sklearn/discriminant_analysis.py:691: UserWarning:\n",
            "\n",
            "Variables are collinear\n",
            "\n",
            "[I 2020-07-13 12:19:42,409] Finished trial#634 with value: 0.994173949230129 with parameters: {'combos': 67, 'knn_features': 6, 'knn_Scaler': 'stand', 'knn_nn': 2, 'knn_p': 1, 'qda_features': 20, 'qda_Scaler': 'stand', 'qda_rp': 6.874192647371287e-11, 'et_features': 1, 'et_Scaler': 'log', 'et_max_depth': 10, 'et_ne': 338}. Best is trial#561 with value: 0.9989596337910944.\n"
          ],
          "name": "stderr"
        },
        {
          "output_type": "stream",
          "text": [
            "('knn', 'et', 'rf')\n"
          ],
          "name": "stdout"
        },
        {
          "output_type": "stream",
          "text": [
            "[I 2020-07-13 12:19:44,263] Finished trial#635 with value: 0.9904286308780691 with parameters: {'combos': 75, 'knn_features': 8, 'knn_Scaler': 'stand', 'knn_nn': 3, 'knn_p': 1, 'et_features': 13, 'et_Scaler': 'stand', 'et_max_depth': 1, 'et_ne': 322, 'rf_features': 1, 'rf_Scaler': 'minmax', 'rf_max_depth': 21, 'rf_ne': 303, 'rf_cw': 'balanced_subsample'}. Best is trial#561 with value: 0.9989596337910944.\n"
          ],
          "name": "stderr"
        },
        {
          "output_type": "stream",
          "text": [
            "('knn', 'ada', 'rf')\n"
          ],
          "name": "stdout"
        },
        {
          "output_type": "stream",
          "text": [
            "[I 2020-07-13 12:19:46,403] Finished trial#636 with value: 0.9968789013732834 with parameters: {'combos': 72, 'knn_features': 9, 'knn_Scaler': 'stand', 'knn_nn': 4, 'knn_p': 1, 'ada_features': 15, 'ada_Scaler': 'log', 'ada_ne': 413, 'ada_lr': 0.548297075398367, 'ada_algo': 'SAMME', 'rf_features': 10, 'rf_Scaler': 'stand', 'rf_max_depth': 1, 'rf_ne': 53, 'rf_cw': 'balanced'}. Best is trial#561 with value: 0.9989596337910944.\n"
          ],
          "name": "stderr"
        },
        {
          "output_type": "stream",
          "text": [
            "('svc', 'gp', 'gnb')\n"
          ],
          "name": "stdout"
        },
        {
          "output_type": "stream",
          "text": [
            "[I 2020-07-13 12:19:48,760] Finished trial#637 with value: 0.992093216812318 with parameters: {'combos': 81, 'svc_features': 13, 'svc_Scaler': 'minmax', 'svc_kern': 'linear', 'svc_C': 0.2511146161867131, 'svc_deg': 2, 'gp_features': 6, 'gp_Scaler': 'minmax', 'gp_a': 0.04648491767871425, 'gp_kern': 4, 'gnb_features': 9, 'gnb_Scaler': 'minmax', 'gnb_vs': 8.585543562743716e-10}. Best is trial#561 with value: 0.9989596337910944.\n"
          ],
          "name": "stderr"
        },
        {
          "output_type": "stream",
          "text": [
            "('knn', 'ada', 'gbm')\n"
          ],
          "name": "stdout"
        },
        {
          "output_type": "stream",
          "text": [
            "[I 2020-07-13 12:19:50,719] Setting status of trial#638 as TrialState.PRUNED. Trial was pruned at iteration 11.\n"
          ],
          "name": "stderr"
        },
        {
          "output_type": "stream",
          "text": [
            "('knn', 'et', 'gbm')\n"
          ],
          "name": "stdout"
        },
        {
          "output_type": "stream",
          "text": [
            "[I 2020-07-13 12:19:51,866] Setting status of trial#639 as TrialState.PRUNED. Trial was pruned at iteration 11.\n"
          ],
          "name": "stderr"
        },
        {
          "output_type": "stream",
          "text": [
            "('knn', 'ada', 'et')\n"
          ],
          "name": "stdout"
        },
        {
          "output_type": "stream",
          "text": [
            "[I 2020-07-13 12:19:54,595] Finished trial#640 with value: 0.9968789013732834 with parameters: {'combos': 71, 'knn_features': 8, 'knn_Scaler': 'stand', 'knn_nn': 2, 'knn_p': 1, 'ada_features': 15, 'ada_Scaler': 'log', 'ada_ne': 482, 'ada_lr': 0.530304981995253, 'ada_algo': 'SAMME', 'et_features': 17, 'et_Scaler': 'log', 'et_max_depth': 97, 'et_ne': 485}. Best is trial#561 with value: 0.9989596337910944.\n"
          ],
          "name": "stderr"
        },
        {
          "output_type": "stream",
          "text": [
            "('knn', 'ada', 'gbm')\n"
          ],
          "name": "stdout"
        },
        {
          "output_type": "stream",
          "text": [
            "[I 2020-07-13 12:19:56,595] Setting status of trial#641 as TrialState.PRUNED. Trial was pruned at iteration 11.\n"
          ],
          "name": "stderr"
        },
        {
          "output_type": "stream",
          "text": [
            "('svc', 'gnb', 'xgb')\n"
          ],
          "name": "stdout"
        },
        {
          "output_type": "stream",
          "text": [
            "[I 2020-07-13 12:19:57,305] Finished trial#642 with value: 0.9927174365376613 with parameters: {'combos': 92, 'svc_features': 4, 'svc_Scaler': 'stand', 'svc_kern': 'rbf', 'svc_C': 0.6965375511491319, 'svc_deg': 5, 'gnb_features': 13, 'gnb_Scaler': 'log', 'gnb_vs': 1.0914607680899973e-17, 'xgb_features': 8, 'xgb_Scaler': 'stand', 'booster': 'gbtree', 'lambda': 0.986606433865494, 'alpha': 0.4548467960509584, 'max_depth': 19, 'eta': 3.5842309704211556e-06, 'gamma': 0.004343576818990711, 'grow_policy': 'depthwise'}. Best is trial#561 with value: 0.9989596337910944.\n"
          ],
          "name": "stderr"
        },
        {
          "output_type": "stream",
          "text": [
            "('knn', 'xgb', 'gbm')\n"
          ],
          "name": "stdout"
        },
        {
          "output_type": "stream",
          "text": [
            "[I 2020-07-13 12:19:57,920] Setting status of trial#643 as TrialState.PRUNED. Trial was pruned at iteration 11.\n"
          ],
          "name": "stderr"
        },
        {
          "output_type": "stream",
          "text": [
            "('knn', 'qda', 'gbm')\n"
          ],
          "name": "stdout"
        },
        {
          "output_type": "stream",
          "text": [
            "[I 2020-07-13 12:19:58,604] Setting status of trial#644 as TrialState.PRUNED. Trial was pruned at iteration 11.\n"
          ],
          "name": "stderr"
        },
        {
          "output_type": "stream",
          "text": [
            "('knn', 'et', 'gbm')\n"
          ],
          "name": "stdout"
        },
        {
          "output_type": "stream",
          "text": [
            "[I 2020-07-13 12:19:59,699] Finished trial#645 with value: 0.9966708281315023 with parameters: {'combos': 77, 'knn_features': 7, 'knn_Scaler': 'stand', 'knn_nn': 1, 'knn_p': 1, 'et_features': 10, 'et_Scaler': 'stand', 'et_max_depth': 79, 'et_ne': 133, 'gbm_features': 4, 'gbm_Scaler': 'log', 'lambda_l1': 3.010270475451028e-05, 'lambda_l2': 2.6050131314232912e-08, 'num_leaves': 189, 'feature_fraction': 0.67990146682748, 'bagging_fraction': 0.6672469185697405, 'bagging_freq': 4, 'min_child_samples': 3}. Best is trial#561 with value: 0.9989596337910944.\n"
          ],
          "name": "stderr"
        },
        {
          "output_type": "stream",
          "text": [
            "('knn', 'ada', 'xgb')\n"
          ],
          "name": "stdout"
        },
        {
          "output_type": "stream",
          "text": [
            "[I 2020-07-13 12:20:01,752] Finished trial#646 with value: 0.9985434873075323 with parameters: {'combos': 73, 'knn_features': 8, 'knn_Scaler': 'stand', 'knn_nn': 1, 'knn_p': 1, 'ada_features': 13, 'ada_Scaler': 'log', 'ada_ne': 459, 'ada_lr': 0.976729706159577, 'ada_algo': 'SAMME', 'xgb_features': 6, 'xgb_Scaler': 'stand', 'booster': 'gbtree', 'lambda': 0.20541811116389944, 'alpha': 0.72129872630165, 'max_depth': 26, 'eta': 2.5101299209349156e-06, 'gamma': 0.0028207519587729797, 'grow_policy': 'depthwise'}. Best is trial#561 with value: 0.9989596337910944.\n"
          ],
          "name": "stderr"
        },
        {
          "output_type": "stream",
          "text": [
            "('knn', 'qda', 'gbm')\n"
          ],
          "name": "stdout"
        },
        {
          "output_type": "stream",
          "text": [
            "[I 2020-07-13 12:20:02,336] Setting status of trial#647 as TrialState.PRUNED. Trial was pruned at iteration 11.\n"
          ],
          "name": "stderr"
        },
        {
          "output_type": "stream",
          "text": [
            "('knn', 'et', 'rf')\n"
          ],
          "name": "stdout"
        },
        {
          "output_type": "stream",
          "text": [
            "[I 2020-07-13 12:20:03,895] Finished trial#648 with value: 0.9927174365376612 with parameters: {'combos': 75, 'knn_features': 9, 'knn_Scaler': 'stand', 'knn_nn': 3, 'knn_p': 1, 'et_features': 15, 'et_Scaler': 'minmax', 'et_max_depth': 50, 'et_ne': 1, 'rf_features': 6, 'rf_Scaler': 'log', 'rf_max_depth': 62, 'rf_ne': 248, 'rf_cw': 'balanced_subsample'}. Best is trial#561 with value: 0.9989596337910944.\n"
          ],
          "name": "stderr"
        },
        {
          "output_type": "stream",
          "text": [
            "('knn', 'rf', 'gbm')\n"
          ],
          "name": "stdout"
        },
        {
          "output_type": "stream",
          "text": [
            "[I 2020-07-13 12:20:05,650] Setting status of trial#649 as TrialState.PRUNED. Trial was pruned at iteration 11.\n"
          ],
          "name": "stderr"
        },
        {
          "output_type": "stream",
          "text": [
            "('svc', 'gp', 'ada')\n"
          ],
          "name": "stdout"
        },
        {
          "output_type": "stream",
          "text": [
            "[I 2020-07-13 12:20:08,988] Finished trial#650 with value: 0.9935497295047857 with parameters: {'combos': 83, 'svc_features': 9, 'svc_Scaler': 'minmax', 'svc_kern': 'poly', 'svc_C': 1.56795470950273e-07, 'svc_deg': 7, 'gp_features': 7, 'gp_Scaler': 'log', 'gp_a': 2.625965654785946, 'gp_kern': 8, 'ada_features': 13, 'ada_Scaler': 'log', 'ada_ne': 461, 'ada_lr': 0.9156282955827937, 'ada_algo': 'SAMME'}. Best is trial#561 with value: 0.9989596337910944.\n"
          ],
          "name": "stderr"
        },
        {
          "output_type": "stream",
          "text": [
            "('knn', 'ada', 'xgb')\n"
          ],
          "name": "stdout"
        },
        {
          "output_type": "stream",
          "text": [
            "[I 2020-07-13 12:20:11,016] Finished trial#651 with value: 0.9985434873075323 with parameters: {'combos': 73, 'knn_features': 8, 'knn_Scaler': 'stand', 'knn_nn': 1, 'knn_p': 1, 'ada_features': 13, 'ada_Scaler': 'log', 'ada_ne': 451, 'ada_lr': 0.8755785347584439, 'ada_algo': 'SAMME', 'xgb_features': 6, 'xgb_Scaler': 'stand', 'booster': 'gbtree', 'lambda': 0.12551223133617734, 'alpha': 0.9924658162086186, 'max_depth': 26, 'eta': 3.329454903542018e-06, 'gamma': 0.002629733603504589, 'grow_policy': 'depthwise'}. Best is trial#561 with value: 0.9989596337910944.\n"
          ],
          "name": "stderr"
        },
        {
          "output_type": "stream",
          "text": [
            "('knn', 'qda', 'gbm')\n"
          ],
          "name": "stdout"
        },
        {
          "output_type": "stream",
          "text": [
            "[I 2020-07-13 12:20:11,599] Setting status of trial#652 as TrialState.PRUNED. Trial was pruned at iteration 11.\n"
          ],
          "name": "stderr"
        },
        {
          "output_type": "stream",
          "text": [
            "('knn', 'et', 'gbm')\n"
          ],
          "name": "stdout"
        },
        {
          "output_type": "stream",
          "text": [
            "[I 2020-07-13 12:20:12,461] Setting status of trial#653 as TrialState.PRUNED. Trial was pruned at iteration 11.\n"
          ],
          "name": "stderr"
        },
        {
          "output_type": "stream",
          "text": [
            "('knn', 'qda', 'rf')\n"
          ],
          "name": "stdout"
        },
        {
          "output_type": "stream",
          "text": [
            "[I 2020-07-13 12:20:14,458] Finished trial#654 with value: 0.9914689970869747 with parameters: {'combos': 68, 'knn_features': 7, 'knn_Scaler': 'stand', 'knn_nn': 2, 'knn_p': 1, 'qda_features': 3, 'qda_Scaler': 'log', 'qda_rp': 0.015970438082776844, 'rf_features': 12, 'rf_Scaler': 'stand', 'rf_max_depth': 64, 'rf_ne': 388, 'rf_cw': 'balanced_subsample'}. Best is trial#561 with value: 0.9989596337910944.\n"
          ],
          "name": "stderr"
        },
        {
          "output_type": "stream",
          "text": [
            "('knn', 'ada', 'xgb')\n"
          ],
          "name": "stdout"
        },
        {
          "output_type": "stream",
          "text": [
            "[I 2020-07-13 12:20:15,160] Finished trial#655 with value: 0.9901165210153975 with parameters: {'combos': 73, 'knn_features': 8, 'knn_Scaler': 'stand', 'knn_nn': 1, 'knn_p': 1, 'ada_features': 14, 'ada_Scaler': 'log', 'ada_ne': 4, 'ada_lr': 0.8418122111626277, 'ada_algo': 'SAMME', 'xgb_features': 6, 'xgb_Scaler': 'stand', 'booster': 'gbtree', 'lambda': 0.10389864705430102, 'alpha': 0.9400614568110618, 'max_depth': 29, 'eta': 3.105980991955417e-06, 'gamma': 0.0022400953018093216, 'grow_policy': 'depthwise'}. Best is trial#561 with value: 0.9989596337910944.\n"
          ],
          "name": "stderr"
        },
        {
          "output_type": "stream",
          "text": [
            "('knn', 'et', 'rf')\n"
          ],
          "name": "stdout"
        },
        {
          "output_type": "stream",
          "text": [
            "[I 2020-07-13 12:20:16,316] Finished trial#656 with value: 0.9863712026633374 with parameters: {'combos': 75, 'knn_features': 9, 'knn_Scaler': 'stand', 'knn_nn': 1, 'knn_p': 1, 'et_features': 7, 'et_Scaler': 'stand', 'et_max_depth': 36, 'et_ne': 46, 'rf_features': 9, 'rf_Scaler': 'log', 'rf_max_depth': 91, 'rf_ne': 128, 'rf_cw': 'balanced'}. Best is trial#561 with value: 0.9989596337910944.\n"
          ],
          "name": "stderr"
        },
        {
          "output_type": "stream",
          "text": [
            "('knn', 'ada', 'et')\n"
          ],
          "name": "stdout"
        },
        {
          "output_type": "stream",
          "text": [
            "[I 2020-07-13 12:20:18,729] Finished trial#657 with value: 0.9927174365376613 with parameters: {'combos': 71, 'knn_features': 8, 'knn_Scaler': 'stand', 'knn_nn': 3, 'knn_p': 1, 'ada_features': 13, 'ada_Scaler': 'log', 'ada_ne': 449, 'ada_lr': 0.8580969095054971, 'ada_algo': 'SAMME', 'et_features': 14, 'et_Scaler': 'minmax', 'et_max_depth': 15, 'et_ne': 407}. Best is trial#561 with value: 0.9989596337910944.\n"
          ],
          "name": "stderr"
        },
        {
          "output_type": "stream",
          "text": [
            "('knn', 'xgb', 'gbm')\n"
          ],
          "name": "stdout"
        },
        {
          "output_type": "stream",
          "text": [
            "[I 2020-07-13 12:20:19,343] Setting status of trial#658 as TrialState.PRUNED. Trial was pruned at iteration 11.\n"
          ],
          "name": "stderr"
        },
        {
          "output_type": "stream",
          "text": [
            "('knn', 'ada', 'xgb')\n"
          ],
          "name": "stdout"
        },
        {
          "output_type": "stream",
          "text": [
            "[I 2020-07-13 12:20:21,574] Finished trial#659 with value: 0.9985434873075323 with parameters: {'combos': 73, 'knn_features': 8, 'knn_Scaler': 'stand', 'knn_nn': 3, 'knn_p': 1, 'ada_features': 15, 'ada_Scaler': 'log', 'ada_ne': 484, 'ada_lr': 0.47316612491525417, 'ada_algo': 'SAMME', 'xgb_features': 6, 'xgb_Scaler': 'stand', 'booster': 'gbtree', 'lambda': 0.18346687225615474, 'alpha': 0.5910818828970708, 'max_depth': 23, 'eta': 2.305206830803122e-06, 'gamma': 0.0031685094075568766, 'grow_policy': 'depthwise'}. Best is trial#561 with value: 0.9989596337910944.\n"
          ],
          "name": "stderr"
        },
        {
          "output_type": "stream",
          "text": [
            "('knn', 'et', 'gbm')\n"
          ],
          "name": "stdout"
        },
        {
          "output_type": "stream",
          "text": [
            "[I 2020-07-13 12:20:22,682] Finished trial#660 with value: 0.994173949230129 with parameters: {'combos': 77, 'knn_features': 7, 'knn_Scaler': 'stand', 'knn_nn': 3, 'knn_p': 1, 'et_features': 8, 'et_Scaler': 'log', 'et_max_depth': 54, 'et_ne': 264, 'gbm_features': 4, 'gbm_Scaler': 'log', 'lambda_l1': 8.760913130713994e-06, 'lambda_l2': 5.240394986987368e-07, 'num_leaves': 172, 'feature_fraction': 0.4966888995969172, 'bagging_fraction': 0.7767929394195504, 'bagging_freq': 2, 'min_child_samples': 7}. Best is trial#561 with value: 0.9989596337910944.\n"
          ],
          "name": "stderr"
        },
        {
          "output_type": "stream",
          "text": [
            "('knn', 'qda', 'rf')\n"
          ],
          "name": "stdout"
        },
        {
          "output_type": "stream",
          "text": [
            "[I 2020-07-13 12:20:24,478] Finished trial#661 with value: 0.9939658759883478 with parameters: {'combos': 68, 'knn_features': 9, 'knn_Scaler': 'stand', 'knn_nn': 2, 'knn_p': 1, 'qda_features': 1, 'qda_Scaler': 'minmax', 'qda_rp': 2.5569696171998616e-18, 'rf_features': 17, 'rf_Scaler': 'minmax', 'rf_max_depth': 68, 'rf_ne': 374, 'rf_cw': 'balanced_subsample'}. Best is trial#561 with value: 0.9989596337910944.\n"
          ],
          "name": "stderr"
        },
        {
          "output_type": "stream",
          "text": [
            "('knn', 'ada', 'et')\n"
          ],
          "name": "stdout"
        },
        {
          "output_type": "stream",
          "text": [
            "[I 2020-07-13 12:20:26,832] Finished trial#662 with value: 0.9968789013732834 with parameters: {'combos': 71, 'knn_features': 8, 'knn_Scaler': 'stand', 'knn_nn': 4, 'knn_p': 1, 'ada_features': 15, 'ada_Scaler': 'log', 'ada_ne': 482, 'ada_lr': 0.5822361357341416, 'ada_algo': 'SAMME', 'et_features': 16, 'et_Scaler': 'stand', 'et_max_depth': 87, 'et_ne': 233}. Best is trial#561 with value: 0.9989596337910944.\n"
          ],
          "name": "stderr"
        },
        {
          "output_type": "stream",
          "text": [
            "('svc', 'gp', 'et')\n"
          ],
          "name": "stdout"
        },
        {
          "output_type": "stream",
          "text": [
            "[I 2020-07-13 12:20:29,153] Finished trial#663 with value: 0.992093216812318 with parameters: {'combos': 84, 'svc_features': 11, 'svc_Scaler': 'stand', 'svc_kern': 'linear', 'svc_C': 1.0235031342477164e-08, 'svc_deg': 9, 'gp_features': 2, 'gp_Scaler': 'minmax', 'gp_a': 1.8695099881446327, 'gp_kern': 5, 'et_features': 4, 'et_Scaler': 'minmax', 'et_max_depth': 92, 'et_ne': 115}. Best is trial#561 with value: 0.9989596337910944.\n"
          ],
          "name": "stderr"
        },
        {
          "output_type": "stream",
          "text": [
            "('knn', 'et', 'xgb')\n"
          ],
          "name": "stdout"
        },
        {
          "output_type": "stream",
          "text": [
            "[I 2020-07-13 12:20:29,931] Finished trial#664 with value: 0.9947981689554724 with parameters: {'combos': 76, 'knn_features': 8, 'knn_Scaler': 'stand', 'knn_nn': 2, 'knn_p': 1, 'et_features': 9, 'et_Scaler': 'log', 'et_max_depth': 46, 'et_ne': 83, 'xgb_features': 7, 'xgb_Scaler': 'stand', 'booster': 'gbtree', 'lambda': 0.949448371380382, 'alpha': 0.5963421280033185, 'max_depth': 23, 'eta': 1.9762632853991145e-06, 'gamma': 0.003077348976381799, 'grow_policy': 'depthwise'}. Best is trial#561 with value: 0.9989596337910944.\n"
          ],
          "name": "stderr"
        },
        {
          "output_type": "stream",
          "text": [
            "('mlp', 'et', 'gbm')\n"
          ],
          "name": "stdout"
        },
        {
          "output_type": "stream",
          "text": [
            "/usr/local/lib/python3.6/dist-packages/sklearn/neural_network/_multilayer_perceptron.py:571: ConvergenceWarning:\n",
            "\n",
            "Stochastic Optimizer: Maximum iterations (300) reached and the optimization hasn't converged yet.\n",
            "\n",
            "[I 2020-07-13 12:20:31,653] Setting status of trial#665 as TrialState.PRUNED. Trial was pruned at iteration 11.\n"
          ],
          "name": "stderr"
        },
        {
          "output_type": "stream",
          "text": [
            "('knn', 'qda', 'et')\n"
          ],
          "name": "stdout"
        },
        {
          "output_type": "stream",
          "text": [
            "[I 2020-07-13 12:20:32,613] Finished trial#666 with value: 0.9910528506034124 with parameters: {'combos': 67, 'knn_features': 9, 'knn_Scaler': 'stand', 'knn_nn': 1, 'knn_p': 1, 'qda_features': 6, 'qda_Scaler': 'log', 'qda_rp': 1.5618840853797365e-20, 'et_features': 13, 'et_Scaler': 'minmax', 'et_max_depth': 18, 'et_ne': 199}. Best is trial#561 with value: 0.9989596337910944.\n"
          ],
          "name": "stderr"
        },
        {
          "output_type": "stream",
          "text": [
            "('svc', 'gp', 'gbm')\n"
          ],
          "name": "stdout"
        },
        {
          "output_type": "stream",
          "text": [
            "[I 2020-07-13 12:20:34,800] Setting status of trial#667 as TrialState.PRUNED. Trial was pruned at iteration 11.\n"
          ],
          "name": "stderr"
        },
        {
          "output_type": "stream",
          "text": [
            "('knn', 'ada', 'gbm')\n"
          ],
          "name": "stdout"
        },
        {
          "output_type": "stream",
          "text": [
            "[I 2020-07-13 12:20:36,982] Finished trial#668 with value: 0.9987515605493134 with parameters: {'combos': 74, 'knn_features': 8, 'knn_Scaler': 'stand', 'knn_nn': 1, 'knn_p': 1, 'ada_features': 13, 'ada_Scaler': 'log', 'ada_ne': 428, 'ada_lr': 0.9926055880719942, 'ada_algo': 'SAMME', 'gbm_features': 9, 'gbm_Scaler': 'stand', 'lambda_l1': 0.00034392098624968294, 'lambda_l2': 1.1343827843584756e-05, 'num_leaves': 109, 'feature_fraction': 0.7087577146389802, 'bagging_fraction': 0.989169818663816, 'bagging_freq': 4, 'min_child_samples': 11}. Best is trial#561 with value: 0.9989596337910944.\n"
          ],
          "name": "stderr"
        },
        {
          "output_type": "stream",
          "text": [
            "('knn', 'et', 'gbm')\n"
          ],
          "name": "stdout"
        },
        {
          "output_type": "stream",
          "text": [
            "[I 2020-07-13 12:20:37,943] Setting status of trial#669 as TrialState.PRUNED. Trial was pruned at iteration 11.\n"
          ],
          "name": "stderr"
        },
        {
          "output_type": "stream",
          "text": [
            "('knn', 'xgb', 'gbm')\n"
          ],
          "name": "stdout"
        },
        {
          "output_type": "stream",
          "text": [
            "[I 2020-07-13 12:20:38,674] Setting status of trial#670 as TrialState.PRUNED. Trial was pruned at iteration 11.\n"
          ],
          "name": "stderr"
        },
        {
          "output_type": "stream",
          "text": [
            "('knn', 'ada', 'xgb')\n"
          ],
          "name": "stdout"
        },
        {
          "output_type": "stream",
          "text": [
            "[I 2020-07-13 12:20:40,730] Finished trial#671 with value: 0.9985434873075323 with parameters: {'combos': 73, 'knn_features': 9, 'knn_Scaler': 'stand', 'knn_nn': 1, 'knn_p': 1, 'ada_features': 13, 'ada_Scaler': 'log', 'ada_ne': 428, 'ada_lr': 0.9519559632498291, 'ada_algo': 'SAMME', 'xgb_features': 4, 'xgb_Scaler': 'stand', 'booster': 'gbtree', 'lambda': 0.06757565812106359, 'alpha': 0.986472212903888, 'max_depth': 29, 'eta': 5.051036884207422e-06, 'gamma': 0.0018612151549681983, 'grow_policy': 'depthwise'}. Best is trial#561 with value: 0.9989596337910944.\n"
          ],
          "name": "stderr"
        },
        {
          "output_type": "stream",
          "text": [
            "('knn', 'ada', 'gbm')\n"
          ],
          "name": "stdout"
        },
        {
          "output_type": "stream",
          "text": [
            "[I 2020-07-13 12:20:42,595] Setting status of trial#672 as TrialState.PRUNED. Trial was pruned at iteration 12.\n"
          ],
          "name": "stderr"
        },
        {
          "output_type": "stream",
          "text": [
            "('knn', 'qda', 'gbm')\n"
          ],
          "name": "stdout"
        },
        {
          "output_type": "stream",
          "text": [
            "/usr/local/lib/python3.6/dist-packages/sklearn/discriminant_analysis.py:691: UserWarning:\n",
            "\n",
            "Variables are collinear\n",
            "\n",
            "[I 2020-07-13 12:20:43,534] Finished trial#673 with value: 0.9887640449438203 with parameters: {'combos': 70, 'knn_features': 9, 'knn_Scaler': 'stand', 'knn_nn': 1, 'knn_p': 1, 'qda_features': 7, 'qda_Scaler': 'minmax', 'qda_rp': 0.910149272356102, 'gbm_features': 5, 'gbm_Scaler': 'stand', 'lambda_l1': 0.0004729688316642542, 'lambda_l2': 1.243708582018738e-05, 'num_leaves': 131, 'feature_fraction': 0.7657416572010791, 'bagging_fraction': 0.9813279892631788, 'bagging_freq': 3, 'min_child_samples': 13}. Best is trial#561 with value: 0.9989596337910944.\n"
          ],
          "name": "stderr"
        },
        {
          "output_type": "stream",
          "text": [
            "('knn', 'xgb', 'gbm')\n"
          ],
          "name": "stdout"
        },
        {
          "output_type": "stream",
          "text": [
            "[I 2020-07-13 12:20:44,411] Finished trial#674 with value: 0.9947981689554724 with parameters: {'combos': 80, 'knn_features': 9, 'knn_Scaler': 'stand', 'knn_nn': 1, 'knn_p': 1, 'xgb_features': 4, 'xgb_Scaler': 'stand', 'booster': 'gbtree', 'lambda': 0.06387215876249557, 'alpha': 0.26061636936040167, 'max_depth': 30, 'eta': 1.3993664035223907e-06, 'gamma': 0.005508232200874492, 'grow_policy': 'depthwise', 'gbm_features': 7, 'gbm_Scaler': 'stand', 'lambda_l1': 1.847012614704914e-05, 'lambda_l2': 5.571085991075657e-06, 'num_leaves': 142, 'feature_fraction': 0.647800466164173, 'bagging_fraction': 0.9698160714839414, 'bagging_freq': 2, 'min_child_samples': 9}. Best is trial#561 with value: 0.9989596337910944.\n"
          ],
          "name": "stderr"
        },
        {
          "output_type": "stream",
          "text": [
            "('knn', 'et', 'rf')\n"
          ],
          "name": "stdout"
        },
        {
          "output_type": "stream",
          "text": [
            "[I 2020-07-13 12:20:46,024] Finished trial#675 with value: 0.9904286308780691 with parameters: {'combos': 75, 'knn_features': 8, 'knn_Scaler': 'stand', 'knn_nn': 1, 'knn_p': 1, 'et_features': 20, 'et_Scaler': 'stand', 'et_max_depth': 4, 'et_ne': 389, 'rf_features': 0, 'rf_Scaler': 'stand', 'rf_max_depth': 74, 'rf_ne': 176, 'rf_cw': 'balanced'}. Best is trial#561 with value: 0.9989596337910944.\n"
          ],
          "name": "stderr"
        },
        {
          "output_type": "stream",
          "text": [
            "('knn', 'qda', 'et')\n"
          ],
          "name": "stdout"
        },
        {
          "output_type": "stream",
          "text": [
            "[I 2020-07-13 12:20:46,953] Finished trial#676 with value: 0.9958385351643778 with parameters: {'combos': 67, 'knn_features': 7, 'knn_Scaler': 'minmax', 'knn_nn': 2, 'knn_p': 1, 'qda_features': 5, 'qda_Scaler': 'log', 'qda_rp': 1.2660253098237313e-18, 'et_features': 0, 'et_Scaler': 'minmax', 'et_max_depth': 66, 'et_ne': 254}. Best is trial#561 with value: 0.9989596337910944.\n"
          ],
          "name": "stderr"
        },
        {
          "output_type": "stream",
          "text": [
            "('knn', 'qda', 'gbm')\n"
          ],
          "name": "stdout"
        },
        {
          "output_type": "stream",
          "text": [
            "/usr/local/lib/python3.6/dist-packages/sklearn/discriminant_analysis.py:691: UserWarning:\n",
            "\n",
            "Variables are collinear\n",
            "\n",
            "[I 2020-07-13 12:20:47,559] Setting status of trial#677 as TrialState.PRUNED. Trial was pruned at iteration 11.\n"
          ],
          "name": "stderr"
        },
        {
          "output_type": "stream",
          "text": [
            "('knn', 'et', 'gbm')\n"
          ],
          "name": "stdout"
        },
        {
          "output_type": "stream",
          "text": [
            "[I 2020-07-13 12:20:48,515] Finished trial#678 with value: 0.993965875988348 with parameters: {'combos': 77, 'knn_features': 7, 'knn_Scaler': 'stand', 'knn_nn': 3, 'knn_p': 1, 'et_features': 19, 'et_Scaler': 'log', 'et_max_depth': 13, 'et_ne': 32, 'gbm_features': 11, 'gbm_Scaler': 'stand', 'lambda_l1': 0.03601663176879505, 'lambda_l2': 8.467840041348928e-05, 'num_leaves': 121, 'feature_fraction': 0.6881846497680539, 'bagging_fraction': 0.9283193792542547, 'bagging_freq': 4, 'min_child_samples': 10}. Best is trial#561 with value: 0.9989596337910944.\n"
          ],
          "name": "stderr"
        },
        {
          "output_type": "stream",
          "text": [
            "('svc', 'gp', 'ada')\n"
          ],
          "name": "stdout"
        },
        {
          "output_type": "stream",
          "text": [
            "[I 2020-07-13 12:20:52,235] Finished trial#679 with value: 0.9935497295047857 with parameters: {'combos': 83, 'svc_features': 3, 'svc_Scaler': 'log', 'svc_kern': 'poly', 'svc_C': 0.40662659096859044, 'svc_deg': 6, 'gp_features': 3, 'gp_Scaler': 'minmax', 'gp_a': 1.4145828440017425, 'gp_kern': 10, 'ada_features': 13, 'ada_Scaler': 'log', 'ada_ne': 433, 'ada_lr': 0.9872889331752839, 'ada_algo': 'SAMME'}. Best is trial#561 with value: 0.9989596337910944.\n"
          ],
          "name": "stderr"
        },
        {
          "output_type": "stream",
          "text": [
            "('knn', 'qda', 'ada')\n"
          ],
          "name": "stdout"
        },
        {
          "output_type": "stream",
          "text": [
            "[I 2020-07-13 12:20:54,202] Finished trial#680 with value: 0.9947981689554724 with parameters: {'combos': 66, 'knn_features': 9, 'knn_Scaler': 'stand', 'knn_nn': 2, 'knn_p': 1, 'qda_features': 5, 'qda_Scaler': 'log', 'qda_rp': 0.0009951003528949072, 'ada_features': 13, 'ada_Scaler': 'log', 'ada_ne': 440, 'ada_lr': 0.9962555531175772, 'ada_algo': 'SAMME'}. Best is trial#561 with value: 0.9989596337910944.\n"
          ],
          "name": "stderr"
        },
        {
          "output_type": "stream",
          "text": [
            "('knn', 'qda', 'gbm')\n"
          ],
          "name": "stdout"
        },
        {
          "output_type": "stream",
          "text": [
            "/usr/local/lib/python3.6/dist-packages/sklearn/discriminant_analysis.py:691: UserWarning:\n",
            "\n",
            "Variables are collinear\n",
            "\n",
            "[I 2020-07-13 12:20:54,798] Setting status of trial#681 as TrialState.PRUNED. Trial was pruned at iteration 12.\n"
          ],
          "name": "stderr"
        },
        {
          "output_type": "stream",
          "text": [
            "('knn', 'ada', 'gbm')\n"
          ],
          "name": "stdout"
        },
        {
          "output_type": "stream",
          "text": [
            "[I 2020-07-13 12:20:56,873] Setting status of trial#682 as TrialState.PRUNED. Trial was pruned at iteration 11.\n"
          ],
          "name": "stderr"
        },
        {
          "output_type": "stream",
          "text": [
            "('knn', 'rf', 'gbm')\n"
          ],
          "name": "stdout"
        },
        {
          "output_type": "stream",
          "text": [
            "[I 2020-07-13 12:20:58,473] Setting status of trial#683 as TrialState.PRUNED. Trial was pruned at iteration 11.\n"
          ],
          "name": "stderr"
        },
        {
          "output_type": "stream",
          "text": [
            "('knn', 'ada', 'xgb')\n"
          ],
          "name": "stdout"
        },
        {
          "output_type": "stream",
          "text": [
            "[I 2020-07-13 12:21:00,731] Finished trial#684 with value: 0.9985434873075323 with parameters: {'combos': 73, 'knn_features': 7, 'knn_Scaler': 'stand', 'knn_nn': 1, 'knn_p': 1, 'ada_features': 14, 'ada_Scaler': 'log', 'ada_ne': 484, 'ada_lr': 0.6889892609751216, 'ada_algo': 'SAMME', 'xgb_features': 6, 'xgb_Scaler': 'stand', 'booster': 'gbtree', 'lambda': 0.18501567787519368, 'alpha': 0.4444673882052324, 'max_depth': 25, 'eta': 2.6798396488106236e-06, 'gamma': 0.002399004094731117, 'grow_policy': 'depthwise'}. Best is trial#561 with value: 0.9989596337910944.\n"
          ],
          "name": "stderr"
        },
        {
          "output_type": "stream",
          "text": [
            "('knn', 'et', 'gbm')\n"
          ],
          "name": "stdout"
        },
        {
          "output_type": "stream",
          "text": [
            "[I 2020-07-13 12:21:01,637] Setting status of trial#685 as TrialState.PRUNED. Trial was pruned at iteration 12.\n"
          ],
          "name": "stderr"
        },
        {
          "output_type": "stream",
          "text": [
            "('knn', 'ada', 'xgb')\n"
          ],
          "name": "stdout"
        },
        {
          "output_type": "stream",
          "text": [
            "[I 2020-07-13 12:21:03,897] Finished trial#686 with value: 0.9985434873075323 with parameters: {'combos': 73, 'knn_features': 8, 'knn_Scaler': 'stand', 'knn_nn': 1, 'knn_p': 1, 'ada_features': 14, 'ada_Scaler': 'log', 'ada_ne': 488, 'ada_lr': 0.6844019585207083, 'ada_algo': 'SAMME', 'xgb_features': 8, 'xgb_Scaler': 'stand', 'booster': 'gbtree', 'lambda': 0.3092246225776035, 'alpha': 0.41995877121194725, 'max_depth': 24, 'eta': 9.747384996803118e-06, 'gamma': 0.002681905346545785, 'grow_policy': 'depthwise'}. Best is trial#561 with value: 0.9989596337910944.\n"
          ],
          "name": "stderr"
        },
        {
          "output_type": "stream",
          "text": [
            "('knn', 'ada', 'et')\n"
          ],
          "name": "stdout"
        },
        {
          "output_type": "stream",
          "text": [
            "[I 2020-07-13 12:21:05,795] Finished trial#687 with value: 0.9914689970869747 with parameters: {'combos': 71, 'knn_features': 9, 'knn_Scaler': 'stand', 'knn_nn': 1, 'knn_p': 1, 'ada_features': 12, 'ada_Scaler': 'log', 'ada_ne': 412, 'ada_lr': 0.9621625278666134, 'ada_algo': 'SAMME', 'et_features': 15, 'et_Scaler': 'minmax', 'et_max_depth': 33, 'et_ne': 15}. Best is trial#561 with value: 0.9989596337910944.\n"
          ],
          "name": "stderr"
        },
        {
          "output_type": "stream",
          "text": [
            "('knn', 'qda', 'xgb')\n"
          ],
          "name": "stdout"
        },
        {
          "output_type": "stream",
          "text": [
            "/usr/local/lib/python3.6/dist-packages/sklearn/discriminant_analysis.py:691: UserWarning:\n",
            "\n",
            "Variables are collinear\n",
            "\n",
            "[I 2020-07-13 12:21:06,497] Finished trial#688 with value: 0.9879317519766958 with parameters: {'combos': 69, 'knn_features': 8, 'knn_Scaler': 'stand', 'knn_nn': 2, 'knn_p': 1, 'qda_features': 10, 'qda_Scaler': 'log', 'qda_rp': 2.0534389613622844e-19, 'xgb_features': 8, 'xgb_Scaler': 'stand', 'booster': 'gbtree', 'lambda': 0.39497182623168425, 'alpha': 0.1721847041904044, 'max_depth': 23, 'eta': 2.4514134369379135e-05, 'gamma': 0.003717847271262819, 'grow_policy': 'depthwise'}. Best is trial#561 with value: 0.9989596337910944.\n"
          ],
          "name": "stderr"
        },
        {
          "output_type": "stream",
          "text": [
            "('knn', 'qda', 'ada')\n"
          ],
          "name": "stdout"
        },
        {
          "output_type": "stream",
          "text": [
            "/usr/local/lib/python3.6/dist-packages/sklearn/discriminant_analysis.py:691: UserWarning:\n",
            "\n",
            "Variables are collinear\n",
            "\n",
            "[I 2020-07-13 12:21:08,600] Finished trial#689 with value: 0.9943820224719101 with parameters: {'combos': 66, 'knn_features': 7, 'knn_Scaler': 'stand', 'knn_nn': 3, 'knn_p': 1, 'qda_features': 11, 'qda_Scaler': 'minmax', 'qda_rp': 0.2892130216951635, 'ada_features': 13, 'ada_Scaler': 'log', 'ada_ne': 475, 'ada_lr': 0.47519876620119766, 'ada_algo': 'SAMME'}. Best is trial#561 with value: 0.9989596337910944.\n"
          ],
          "name": "stderr"
        },
        {
          "output_type": "stream",
          "text": [
            "('knn', 'et', 'xgb')\n"
          ],
          "name": "stdout"
        },
        {
          "output_type": "stream",
          "text": [
            "[I 2020-07-13 12:21:09,496] Finished trial#690 with value: 0.9964627548897211 with parameters: {'combos': 76, 'knn_features': 7, 'knn_Scaler': 'stand', 'knn_nn': 2, 'knn_p': 1, 'et_features': 12, 'et_Scaler': 'log', 'et_max_depth': 21, 'et_ne': 189, 'xgb_features': 5, 'xgb_Scaler': 'stand', 'booster': 'gbtree', 'lambda': 0.08965703569001078, 'alpha': 0.9873481753041097, 'max_depth': 28, 'eta': 5.181849623602393e-06, 'gamma': 0.0016402508855666359, 'grow_policy': 'depthwise'}. Best is trial#561 with value: 0.9989596337910944.\n"
          ],
          "name": "stderr"
        },
        {
          "output_type": "stream",
          "text": [
            "('knn', 'xgb', 'gbm')\n"
          ],
          "name": "stdout"
        },
        {
          "output_type": "stream",
          "text": [
            "[I 2020-07-13 12:21:10,123] Setting status of trial#691 as TrialState.PRUNED. Trial was pruned at iteration 11.\n"
          ],
          "name": "stderr"
        },
        {
          "output_type": "stream",
          "text": [
            "('knn', 'ada', 'xgb')\n"
          ],
          "name": "stdout"
        },
        {
          "output_type": "stream",
          "text": [
            "[I 2020-07-13 12:21:12,459] Finished trial#692 with value: 0.9977111943404078 with parameters: {'combos': 73, 'knn_features': 8, 'knn_Scaler': 'stand', 'knn_nn': 4, 'knn_p': 1, 'ada_features': 15, 'ada_Scaler': 'log', 'ada_ne': 500, 'ada_lr': 0.4683679292531732, 'ada_algo': 'SAMME', 'xgb_features': 7, 'xgb_Scaler': 'stand', 'booster': 'gbtree', 'lambda': 0.1745233906353471, 'alpha': 0.2610928705349034, 'max_depth': 19, 'eta': 2.21852458894159e-06, 'gamma': 0.003944127920229806, 'grow_policy': 'depthwise'}. Best is trial#561 with value: 0.9989596337910944.\n"
          ],
          "name": "stderr"
        },
        {
          "output_type": "stream",
          "text": [
            "('mlp', 'svc', 'qda')\n"
          ],
          "name": "stdout"
        },
        {
          "output_type": "stream",
          "text": [
            "/usr/local/lib/python3.6/dist-packages/sklearn/neural_network/_multilayer_perceptron.py:571: ConvergenceWarning:\n",
            "\n",
            "Stochastic Optimizer: Maximum iterations (300) reached and the optimization hasn't converged yet.\n",
            "\n",
            "[I 2020-07-13 12:21:14,039] Finished trial#693 with value: 0.9906367041198502 with parameters: {'combos': 11, 'mlp_features': 8, 'mlp_Scaler': 'stand', 'mlp_alpha': 0.00027771036202920595, 'svc_features': 5, 'svc_Scaler': 'stand', 'svc_kern': 'linear', 'svc_C': 0.00037244637553849084, 'svc_deg': 4, 'qda_features': 1, 'qda_Scaler': 'log', 'qda_rp': 0.05590474193054589}. Best is trial#561 with value: 0.9989596337910944.\n"
          ],
          "name": "stderr"
        },
        {
          "output_type": "stream",
          "text": [
            "('knn', 'et', 'xgb')\n"
          ],
          "name": "stdout"
        },
        {
          "output_type": "stream",
          "text": [
            "[I 2020-07-13 12:21:14,898] Finished trial#694 with value: 0.9942779858510196 with parameters: {'combos': 76, 'knn_features': 7, 'knn_Scaler': 'stand', 'knn_nn': 3, 'knn_p': 1, 'et_features': 18, 'et_Scaler': 'stand', 'et_max_depth': 44, 'et_ne': 160, 'xgb_features': 6, 'xgb_Scaler': 'stand', 'booster': 'gbtree', 'lambda': 0.11437158148635393, 'alpha': 0.7052458073630254, 'max_depth': 27, 'eta': 3.4535425597526383e-06, 'gamma': 0.0033043848875137557, 'grow_policy': 'depthwise'}. Best is trial#561 with value: 0.9989596337910944.\n"
          ],
          "name": "stderr"
        },
        {
          "output_type": "stream",
          "text": [
            "('knn', 'qda', 'rf')\n"
          ],
          "name": "stdout"
        },
        {
          "output_type": "stream",
          "text": [
            "[I 2020-07-13 12:21:16,137] Finished trial#695 with value: 0.9939658759883478 with parameters: {'combos': 68, 'knn_features': 6, 'knn_Scaler': 'stand', 'knn_nn': 19, 'knn_p': 1, 'qda_features': 0, 'qda_Scaler': 'minmax', 'qda_rp': 2.137626969230004e-09, 'rf_features': 19, 'rf_Scaler': 'minmax', 'rf_max_depth': 27, 'rf_ne': 201, 'rf_cw': 'balanced'}. Best is trial#561 with value: 0.9989596337910944.\n"
          ],
          "name": "stderr"
        },
        {
          "output_type": "stream",
          "text": [
            "('svc', 'gp', 'ada')\n"
          ],
          "name": "stdout"
        },
        {
          "output_type": "stream",
          "text": [
            "[I 2020-07-13 12:21:19,363] Finished trial#696 with value: 0.9958385351643779 with parameters: {'combos': 83, 'svc_features': 8, 'svc_Scaler': 'log', 'svc_kern': 'rbf', 'svc_C': 4.841311047138654, 'svc_deg': 10, 'gp_features': 9, 'gp_Scaler': 'log', 'gp_a': 0.547632318220071, 'gp_kern': 9, 'ada_features': 14, 'ada_Scaler': 'log', 'ada_ne': 472, 'ada_lr': 0.4998011604131441, 'ada_algo': 'SAMME'}. Best is trial#561 with value: 0.9989596337910944.\n"
          ],
          "name": "stderr"
        },
        {
          "output_type": "stream",
          "text": [
            "('knn', 'ada', 'rf')\n"
          ],
          "name": "stdout"
        },
        {
          "output_type": "stream",
          "text": [
            "[I 2020-07-13 12:21:22,375] Finished trial#697 with value: 0.9968789013732835 with parameters: {'combos': 72, 'knn_features': 9, 'knn_Scaler': 'stand', 'knn_nn': 1, 'knn_p': 1, 'ada_features': 15, 'ada_Scaler': 'log', 'ada_ne': 487, 'ada_lr': 0.74450865070345, 'ada_algo': 'SAMME', 'rf_features': 15, 'rf_Scaler': 'stand', 'rf_max_depth': 8, 'rf_ne': 284, 'rf_cw': 'balanced_subsample'}. Best is trial#561 with value: 0.9989596337910944.\n"
          ],
          "name": "stderr"
        },
        {
          "output_type": "stream",
          "text": [
            "('knn', 'rf', 'xgb')\n"
          ],
          "name": "stdout"
        },
        {
          "output_type": "stream",
          "text": [
            "[I 2020-07-13 12:21:24,006] Finished trial#698 with value: 0.9862671660424469 with parameters: {'combos': 78, 'knn_features': 8, 'knn_Scaler': 'stand', 'knn_nn': 2, 'knn_p': 1, 'rf_features': 11, 'rf_Scaler': 'log', 'rf_max_depth': 17, 'rf_ne': 366, 'rf_cw': 'balanced', 'xgb_features': 5, 'xgb_Scaler': 'stand', 'booster': 'gbtree', 'lambda': 0.13278037777296917, 'alpha': 0.9200322929576276, 'max_depth': 26, 'eta': 7.126791269018416e-06, 'gamma': 0.0011079155670298978, 'grow_policy': 'depthwise'}. Best is trial#561 with value: 0.9989596337910944.\n"
          ],
          "name": "stderr"
        },
        {
          "output_type": "stream",
          "text": [
            "('knn', 'ada', 'gbm')\n"
          ],
          "name": "stdout"
        },
        {
          "output_type": "stream",
          "text": [
            "[I 2020-07-13 12:21:26,298] Finished trial#699 with value: 0.9987515605493134 with parameters: {'combos': 74, 'knn_features': 9, 'knn_Scaler': 'stand', 'knn_nn': 1, 'knn_p': 1, 'ada_features': 14, 'ada_Scaler': 'log', 'ada_ne': 488, 'ada_lr': 0.6607092767451161, 'ada_algo': 'SAMME', 'gbm_features': 4, 'gbm_Scaler': 'stand', 'lambda_l1': 0.0012370481532146156, 'lambda_l2': 2.9765221212753637e-07, 'num_leaves': 99, 'feature_fraction': 0.8875396432618702, 'bagging_fraction': 0.9217390036301464, 'bagging_freq': 3, 'min_child_samples': 13}. Best is trial#561 with value: 0.9989596337910944.\n"
          ],
          "name": "stderr"
        },
        {
          "output_type": "stream",
          "text": [
            "('svc', 'gp', 'gnb')\n"
          ],
          "name": "stdout"
        },
        {
          "output_type": "stream",
          "text": [
            "[I 2020-07-13 12:21:28,510] Finished trial#700 with value: 0.992093216812318 with parameters: {'combos': 81, 'svc_features': 19, 'svc_Scaler': 'minmax', 'svc_kern': 'sigmoid', 'svc_C': 0.012150746879331766, 'svc_deg': 6, 'gp_features': 0, 'gp_Scaler': 'minmax', 'gp_a': 0.827433571313097, 'gp_kern': 1, 'gnb_features': 0, 'gnb_Scaler': 'minmax', 'gnb_vs': 1.3578397963448616e-19}. Best is trial#561 with value: 0.9989596337910944.\n"
          ],
          "name": "stderr"
        },
        {
          "output_type": "stream",
          "text": [
            "('knn', 'qda', 'ada')\n"
          ],
          "name": "stdout"
        },
        {
          "output_type": "stream",
          "text": [
            "[I 2020-07-13 12:21:30,640] Finished trial#701 with value: 0.9935497295047857 with parameters: {'combos': 66, 'knn_features': 9, 'knn_Scaler': 'stand', 'knn_nn': 3, 'knn_p': 1, 'qda_features': 6, 'qda_Scaler': 'log', 'qda_rp': 0.0073938609332748475, 'ada_features': 14, 'ada_Scaler': 'stand', 'ada_ne': 486, 'ada_lr': 0.8592367577613033, 'ada_algo': 'SAMME'}. Best is trial#561 with value: 0.9989596337910944.\n"
          ],
          "name": "stderr"
        },
        {
          "output_type": "stream",
          "text": [
            "('knn', 'qda', 'gbm')\n"
          ],
          "name": "stdout"
        },
        {
          "output_type": "stream",
          "text": [
            "/usr/local/lib/python3.6/dist-packages/sklearn/discriminant_analysis.py:691: UserWarning:\n",
            "\n",
            "Variables are collinear\n",
            "\n",
            "[I 2020-07-13 12:21:31,237] Setting status of trial#702 as TrialState.PRUNED. Trial was pruned at iteration 11.\n"
          ],
          "name": "stderr"
        },
        {
          "output_type": "stream",
          "text": [
            "('knn', 'qda', 'xgb')\n"
          ],
          "name": "stdout"
        },
        {
          "output_type": "stream",
          "text": [
            "/usr/local/lib/python3.6/dist-packages/sklearn/discriminant_analysis.py:691: UserWarning:\n",
            "\n",
            "Variables are collinear\n",
            "\n",
            "[I 2020-07-13 12:21:32,043] Finished trial#703 with value: 0.993965875988348 with parameters: {'combos': 69, 'knn_features': 9, 'knn_Scaler': 'stand', 'knn_nn': 1, 'knn_p': 1, 'qda_features': 12, 'qda_Scaler': 'log', 'qda_rp': 0.002331125522994116, 'xgb_features': 6, 'xgb_Scaler': 'stand', 'booster': 'gbtree', 'lambda': 0.06994625167860614, 'alpha': 0.4784137960265183, 'max_depth': 31, 'eta': 1.0082395378492483e-06, 'gamma': 0.0007736659538132019, 'grow_policy': 'depthwise'}. Best is trial#561 with value: 0.9989596337910944.\n"
          ],
          "name": "stderr"
        },
        {
          "output_type": "stream",
          "text": [
            "('knn', 'et', 'rf')\n"
          ],
          "name": "stdout"
        },
        {
          "output_type": "stream",
          "text": [
            "[I 2020-07-13 12:21:33,598] Finished trial#704 with value: 0.9898044111527258 with parameters: {'combos': 75, 'knn_features': 7, 'knn_Scaler': 'stand', 'knn_nn': 1, 'knn_p': 1, 'et_features': 8, 'et_Scaler': 'minmax', 'et_max_depth': 99, 'et_ne': 433, 'rf_features': 3, 'rf_Scaler': 'minmax', 'rf_max_depth': 39, 'rf_ne': 100, 'rf_cw': 'balanced_subsample'}. Best is trial#561 with value: 0.9989596337910944.\n"
          ],
          "name": "stderr"
        },
        {
          "output_type": "stream",
          "text": [
            "('knn', 'rf', 'xgb')\n"
          ],
          "name": "stdout"
        },
        {
          "output_type": "stream",
          "text": [
            "[I 2020-07-13 12:21:34,863] Finished trial#705 with value: 0.9927174365376613 with parameters: {'combos': 78, 'knn_features': 8, 'knn_Scaler': 'stand', 'knn_nn': 1, 'knn_p': 1, 'rf_features': 2, 'rf_Scaler': 'stand', 'rf_max_depth': 47, 'rf_ne': 192, 'rf_cw': 'balanced', 'xgb_features': 5, 'xgb_Scaler': 'stand', 'booster': 'gbtree', 'lambda': 0.2274645974542297, 'alpha': 0.333974737719407, 'max_depth': 21, 'eta': 1.7362479340446043e-05, 'gamma': 0.010929407361698906, 'grow_policy': 'depthwise'}. Best is trial#561 with value: 0.9989596337910944.\n"
          ],
          "name": "stderr"
        },
        {
          "output_type": "stream",
          "text": [
            "('svc', 'gp', 'xgb')\n"
          ],
          "name": "stdout"
        },
        {
          "output_type": "stream",
          "text": [
            "[I 2020-07-13 12:21:37,134] Finished trial#706 with value: 0.9925093632958801 with parameters: {'combos': 86, 'svc_features': 12, 'svc_Scaler': 'log', 'svc_kern': 'poly', 'svc_C': 0.020358772973997064, 'svc_deg': 3, 'gp_features': 13, 'gp_Scaler': 'log', 'gp_a': 0.08886002822905581, 'gp_kern': 2, 'xgb_features': 3, 'xgb_Scaler': 'stand', 'booster': 'gbtree', 'lambda': 0.7026479241256476, 'alpha': 0.2040949272304953, 'max_depth': 22, 'eta': 8.465322764601458e-06, 'gamma': 0.005114974889036601, 'grow_policy': 'depthwise'}. Best is trial#561 with value: 0.9989596337910944.\n"
          ],
          "name": "stderr"
        },
        {
          "output_type": "stream",
          "text": [
            "('knn', 'et', 'rf')\n"
          ],
          "name": "stdout"
        },
        {
          "output_type": "stream",
          "text": [
            "[I 2020-07-13 12:21:38,512] Finished trial#707 with value: 0.9944860590928006 with parameters: {'combos': 75, 'knn_features': 8, 'knn_Scaler': 'stand', 'knn_nn': 2, 'knn_p': 1, 'et_features': 16, 'et_Scaler': 'log', 'et_max_depth': 83, 'et_ne': 472, 'rf_features': 8, 'rf_Scaler': 'log', 'rf_max_depth': 33, 'rf_ne': 38, 'rf_cw': 'balanced_subsample'}. Best is trial#561 with value: 0.9989596337910944.\n"
          ],
          "name": "stderr"
        },
        {
          "output_type": "stream",
          "text": [
            "('knn', 'ada', 'rf')\n"
          ],
          "name": "stdout"
        },
        {
          "output_type": "stream",
          "text": [
            "[I 2020-07-13 12:21:41,653] Finished trial#708 with value: 0.9923012900540991 with parameters: {'combos': 72, 'knn_features': 9, 'knn_Scaler': 'stand', 'knn_nn': 1, 'knn_p': 1, 'ada_features': 13, 'ada_Scaler': 'log', 'ada_ne': 454, 'ada_lr': 0.9265776795234425, 'ada_algo': 'SAMME', 'rf_features': 5, 'rf_Scaler': 'minmax', 'rf_max_depth': 83, 'rf_ne': 430, 'rf_cw': 'balanced'}. Best is trial#561 with value: 0.9989596337910944.\n"
          ],
          "name": "stderr"
        },
        {
          "output_type": "stream",
          "text": [
            "('knn', 'ada', 'gbm')\n"
          ],
          "name": "stdout"
        },
        {
          "output_type": "stream",
          "text": [
            "[I 2020-07-13 12:21:43,561] Setting status of trial#709 as TrialState.PRUNED. Trial was pruned at iteration 12.\n"
          ],
          "name": "stderr"
        },
        {
          "output_type": "stream",
          "text": [
            "('knn', 'qda', 'et')\n"
          ],
          "name": "stdout"
        },
        {
          "output_type": "stream",
          "text": [
            "/usr/local/lib/python3.6/dist-packages/sklearn/discriminant_analysis.py:691: UserWarning:\n",
            "\n",
            "Variables are collinear\n",
            "\n",
            "[I 2020-07-13 12:21:44,630] Finished trial#710 with value: 0.9914689970869747 with parameters: {'combos': 67, 'knn_features': 7, 'knn_Scaler': 'stand', 'knn_nn': 1, 'knn_p': 1, 'qda_features': 3, 'qda_Scaler': 'minmax', 'qda_rp': 2.5160810465707282e-05, 'et_features': 7, 'et_Scaler': 'stand', 'et_max_depth': 77, 'et_ne': 276}. Best is trial#561 with value: 0.9989596337910944.\n"
          ],
          "name": "stderr"
        },
        {
          "output_type": "stream",
          "text": [
            "('knn', 'qda', 'gbm')\n"
          ],
          "name": "stdout"
        },
        {
          "output_type": "stream",
          "text": [
            "/usr/local/lib/python3.6/dist-packages/sklearn/discriminant_analysis.py:691: UserWarning:\n",
            "\n",
            "Variables are collinear\n",
            "\n",
            "[I 2020-07-13 12:21:45,477] Finished trial#711 with value: 0.9947981689554724 with parameters: {'combos': 70, 'knn_features': 8, 'knn_Scaler': 'minmax', 'knn_nn': 1, 'knn_p': 1, 'qda_features': 16, 'qda_Scaler': 'log', 'qda_rp': 0.00018386555145202962, 'gbm_features': 7, 'gbm_Scaler': 'stand', 'lambda_l1': 0.00016698800847157806, 'lambda_l2': 0.0001468702085665752, 'num_leaves': 133, 'feature_fraction': 0.9381229953650229, 'bagging_fraction': 0.9977504304456657, 'bagging_freq': 1, 'min_child_samples': 14}. Best is trial#561 with value: 0.9989596337910944.\n"
          ],
          "name": "stderr"
        },
        {
          "output_type": "stream",
          "text": [
            "('knn', 'xgb', 'gbm')\n"
          ],
          "name": "stdout"
        },
        {
          "output_type": "stream",
          "text": [
            "[I 2020-07-13 12:21:46,102] Setting status of trial#712 as TrialState.PRUNED. Trial was pruned at iteration 11.\n"
          ],
          "name": "stderr"
        },
        {
          "output_type": "stream",
          "text": [
            "('knn', 'qda', 'ada')\n"
          ],
          "name": "stdout"
        },
        {
          "output_type": "stream",
          "text": [
            "/usr/local/lib/python3.6/dist-packages/sklearn/discriminant_analysis.py:691: UserWarning:\n",
            "\n",
            "Variables are collinear\n",
            "\n",
            "[I 2020-07-13 12:21:48,367] Finished trial#713 with value: 0.9912609238451935 with parameters: {'combos': 66, 'knn_features': 6, 'knn_Scaler': 'stand', 'knn_nn': 2, 'knn_p': 1, 'qda_features': 9, 'qda_Scaler': 'minmax', 'qda_rp': 2.686065322075515e-14, 'ada_features': 14, 'ada_Scaler': 'minmax', 'ada_ne': 489, 'ada_lr': 0.7145943845935776, 'ada_algo': 'SAMME'}. Best is trial#561 with value: 0.9989596337910944.\n"
          ],
          "name": "stderr"
        },
        {
          "output_type": "stream",
          "text": [
            "('knn', 'et', 'gbm')\n"
          ],
          "name": "stdout"
        },
        {
          "output_type": "stream",
          "text": [
            "[I 2020-07-13 12:21:49,067] Setting status of trial#714 as TrialState.PRUNED. Trial was pruned at iteration 11.\n"
          ],
          "name": "stderr"
        },
        {
          "output_type": "stream",
          "text": [
            "('knn', 'ada', 'et')\n"
          ],
          "name": "stdout"
        },
        {
          "output_type": "stream",
          "text": [
            "[I 2020-07-13 12:21:51,344] Finished trial#715 with value: 0.9962546816479401 with parameters: {'combos': 71, 'knn_features': 9, 'knn_Scaler': 'stand', 'knn_nn': 2, 'knn_p': 1, 'ada_features': 15, 'ada_Scaler': 'log', 'ada_ne': 481, 'ada_lr': 0.7940465696681217, 'ada_algo': 'SAMME', 'et_features': 2, 'et_Scaler': 'log', 'et_max_depth': 68, 'et_ne': 91}. Best is trial#561 with value: 0.9989596337910944.\n"
          ],
          "name": "stderr"
        },
        {
          "output_type": "stream",
          "text": [
            "('svc', 'gp', 'qda')\n"
          ],
          "name": "stdout"
        },
        {
          "output_type": "stream",
          "text": [
            "/usr/local/lib/python3.6/dist-packages/sklearn/discriminant_analysis.py:691: UserWarning:\n",
            "\n",
            "Variables are collinear\n",
            "\n",
            "[I 2020-07-13 12:21:53,973] Finished trial#716 with value: 0.9927174365376613 with parameters: {'combos': 82, 'svc_features': 0, 'svc_Scaler': 'stand', 'svc_kern': 'linear', 'svc_C': 0.045622402890168244, 'svc_deg': 9, 'gp_features': 8, 'gp_Scaler': 'stand', 'gp_a': 0.010985797401209321, 'gp_kern': 4, 'qda_features': 14, 'qda_Scaler': 'log', 'qda_rp': 7.058894932185795e-18}. Best is trial#561 with value: 0.9989596337910944.\n"
          ],
          "name": "stderr"
        },
        {
          "output_type": "stream",
          "text": [
            "('knn', 'ada', 'gbm')\n"
          ],
          "name": "stdout"
        },
        {
          "output_type": "stream",
          "text": [
            "[I 2020-07-13 12:21:56,332] Finished trial#717 with value: 0.9985434873075323 with parameters: {'combos': 74, 'knn_features': 7, 'knn_Scaler': 'stand', 'knn_nn': 2, 'knn_p': 1, 'ada_features': 14, 'ada_Scaler': 'log', 'ada_ne': 500, 'ada_lr': 0.5313886412517519, 'ada_algo': 'SAMME', 'gbm_features': 11, 'gbm_Scaler': 'stand', 'lambda_l1': 2.6026688905063188e-05, 'lambda_l2': 9.152738158721567e-06, 'num_leaves': 167, 'feature_fraction': 0.9203990008238031, 'bagging_fraction': 0.981077402692207, 'bagging_freq': 2, 'min_child_samples': 18}. Best is trial#561 with value: 0.9989596337910944.\n"
          ],
          "name": "stderr"
        },
        {
          "output_type": "stream",
          "text": [
            "('knn', 'rf', 'xgb')\n"
          ],
          "name": "stdout"
        },
        {
          "output_type": "stream",
          "text": [
            "[I 2020-07-13 12:21:57,590] Finished trial#718 with value: 0.9940699126092385 with parameters: {'combos': 78, 'knn_features': 7, 'knn_Scaler': 'stand', 'knn_nn': 1, 'knn_p': 1, 'rf_features': 17, 'rf_Scaler': 'stand', 'rf_max_depth': 42, 'rf_ne': 143, 'rf_cw': 'balanced_subsample', 'xgb_features': 8, 'xgb_Scaler': 'stand', 'booster': 'gbtree', 'lambda': 0.4707462822898687, 'alpha': 0.1208220465787297, 'max_depth': 25, 'eta': 3.638763395638027e-05, 'gamma': 0.0019934604357329674, 'grow_policy': 'depthwise'}. Best is trial#561 with value: 0.9989596337910944.\n"
          ],
          "name": "stderr"
        },
        {
          "output_type": "stream",
          "text": [
            "('knn', 'qda', 'xgb')\n"
          ],
          "name": "stdout"
        },
        {
          "output_type": "stream",
          "text": [
            "/usr/local/lib/python3.6/dist-packages/sklearn/discriminant_analysis.py:691: UserWarning:\n",
            "\n",
            "Variables are collinear\n",
            "\n",
            "[I 2020-07-13 12:21:58,308] Finished trial#719 with value: 0.9880357885975863 with parameters: {'combos': 69, 'knn_features': 20, 'knn_Scaler': 'stand', 'knn_nn': 1, 'knn_p': 1, 'qda_features': 2, 'qda_Scaler': 'minmax', 'qda_rp': 1.5232763990415359e-12, 'xgb_features': 6, 'xgb_Scaler': 'stand', 'booster': 'gbtree', 'lambda': 0.0889350522502408, 'alpha': 0.3859226284134985, 'max_depth': 34, 'eta': 2.670315432108231e-06, 'gamma': 0.007113376562136783, 'grow_policy': 'depthwise'}. Best is trial#561 with value: 0.9989596337910944.\n"
          ],
          "name": "stderr"
        },
        {
          "output_type": "stream",
          "text": [
            "('knn', 'gnb', 'gbm')\n"
          ],
          "name": "stdout"
        },
        {
          "output_type": "stream",
          "text": [
            "[I 2020-07-13 12:21:59,140] Finished trial#720 with value: 0.9958385351643779 with parameters: {'combos': 65, 'knn_features': 8, 'knn_Scaler': 'stand', 'knn_nn': 2, 'knn_p': 1, 'gnb_features': 7, 'gnb_Scaler': 'log', 'gnb_vs': 3.51417627015827e-14, 'gbm_features': 5, 'gbm_Scaler': 'stand', 'lambda_l1': 0.05698220100933561, 'lambda_l2': 5.9543340897714385e-08, 'num_leaves': 81, 'feature_fraction': 0.985535924738327, 'bagging_fraction': 0.967462022375289, 'bagging_freq': 3, 'min_child_samples': 14}. Best is trial#561 with value: 0.9989596337910944.\n"
          ],
          "name": "stderr"
        },
        {
          "output_type": "stream",
          "text": [
            "('knn', 'et', 'xgb')\n"
          ],
          "name": "stdout"
        },
        {
          "output_type": "stream",
          "text": [
            "[I 2020-07-13 12:22:00,180] Finished trial#721 with value: 0.9933416562630045 with parameters: {'combos': 76, 'knn_features': 6, 'knn_Scaler': 'stand', 'knn_nn': 2, 'knn_p': 1, 'et_features': 11, 'et_Scaler': 'stand', 'et_max_depth': 61, 'et_ne': 311, 'xgb_features': 5, 'xgb_Scaler': 'stand', 'booster': 'gbtree', 'lambda': 0.6746233815402928, 'alpha': 0.15395714174913241, 'max_depth': 14, 'eta': 1.556044957394025e-06, 'gamma': 0.0012266291642735307, 'grow_policy': 'depthwise'}. Best is trial#561 with value: 0.9989596337910944.\n"
          ],
          "name": "stderr"
        },
        {
          "output_type": "stream",
          "text": [
            "('knn', 'ada', 'xgb')\n"
          ],
          "name": "stdout"
        },
        {
          "output_type": "stream",
          "text": [
            "[I 2020-07-13 12:22:02,336] Finished trial#722 with value: 0.9983354140657511 with parameters: {'combos': 73, 'knn_features': 9, 'knn_Scaler': 'stand', 'knn_nn': 3, 'knn_p': 1, 'ada_features': 14, 'ada_Scaler': 'log', 'ada_ne': 491, 'ada_lr': 0.49551604116439535, 'ada_algo': 'SAMME', 'xgb_features': 7, 'xgb_Scaler': 'stand', 'booster': 'gbtree', 'lambda': 0.18580534473243096, 'alpha': 0.9999782535982714, 'max_depth': 24, 'eta': 2.3940725603265834e-06, 'gamma': 0.0031494668651566066, 'grow_policy': 'depthwise'}. Best is trial#561 with value: 0.9989596337910944.\n"
          ],
          "name": "stderr"
        },
        {
          "output_type": "stream",
          "text": [
            "('knn', 'ada', 'et')\n"
          ],
          "name": "stdout"
        },
        {
          "output_type": "stream",
          "text": [
            "[I 2020-07-13 12:22:04,791] Finished trial#723 with value: 0.9927174365376613 with parameters: {'combos': 71, 'knn_features': 6, 'knn_Scaler': 'stand', 'knn_nn': 2, 'knn_p': 1, 'ada_features': 15, 'ada_Scaler': 'log', 'ada_ne': 497, 'ada_lr': 0.5802945960056803, 'ada_algo': 'SAMME', 'et_features': 14, 'et_Scaler': 'minmax', 'et_max_depth': 52, 'et_ne': 295}. Best is trial#561 with value: 0.9989596337910944.\n"
          ],
          "name": "stderr"
        },
        {
          "output_type": "stream",
          "text": [
            "('knn', 'qda', 'rf')\n"
          ],
          "name": "stdout"
        },
        {
          "output_type": "stream",
          "text": [
            "/usr/local/lib/python3.6/dist-packages/sklearn/discriminant_analysis.py:691: UserWarning:\n",
            "\n",
            "Variables are collinear\n",
            "\n",
            "[I 2020-07-13 12:22:06,287] Finished trial#724 with value: 0.985538909696213 with parameters: {'combos': 68, 'knn_features': 8, 'knn_Scaler': 'stand', 'knn_nn': 1, 'knn_p': 1, 'qda_features': 15, 'qda_Scaler': 'log', 'qda_rp': 1.87246445721835e-08, 'rf_features': 13, 'rf_Scaler': 'log', 'rf_max_depth': 95, 'rf_ne': 343, 'rf_cw': 'balanced'}. Best is trial#561 with value: 0.9989596337910944.\n"
          ],
          "name": "stderr"
        },
        {
          "output_type": "stream",
          "text": [
            "('knn', 'rf', 'xgb')\n"
          ],
          "name": "stdout"
        },
        {
          "output_type": "stream",
          "text": [
            "[I 2020-07-13 12:22:07,330] Finished trial#725 with value: 0.9876196421140242 with parameters: {'combos': 78, 'knn_features': 7, 'knn_Scaler': 'stand', 'knn_nn': 2, 'knn_p': 1, 'rf_features': 16, 'rf_Scaler': 'minmax', 'rf_max_depth': 86, 'rf_ne': 80, 'rf_cw': 'balanced_subsample', 'xgb_features': 7, 'xgb_Scaler': 'stand', 'booster': 'gbtree', 'lambda': 0.42300852879268463, 'alpha': 0.4423266719774175, 'max_depth': 16, 'eta': 1.352363880555477e-05, 'gamma': 0.008987444308541722, 'grow_policy': 'depthwise'}. Best is trial#561 with value: 0.9989596337910944.\n"
          ],
          "name": "stderr"
        },
        {
          "output_type": "stream",
          "text": [
            "('svc', 'gp', 'ada')\n"
          ],
          "name": "stdout"
        },
        {
          "output_type": "stream",
          "text": [
            "[I 2020-07-13 12:22:10,992] Finished trial#726 with value: 0.9935497295047857 with parameters: {'combos': 83, 'svc_features': 1, 'svc_Scaler': 'minmax', 'svc_kern': 'rbf', 'svc_C': 3.1625770955698556e-05, 'svc_deg': 5, 'gp_features': 1, 'gp_Scaler': 'minmax', 'gp_a': 5.289351215146969, 'gp_kern': 6, 'ada_features': 14, 'ada_Scaler': 'log', 'ada_ne': 500, 'ada_lr': 0.9928051623538495, 'ada_algo': 'SAMME'}. Best is trial#561 with value: 0.9989596337910944.\n"
          ],
          "name": "stderr"
        },
        {
          "output_type": "stream",
          "text": [
            "('knn', 'ada', 'gbm')\n"
          ],
          "name": "stdout"
        },
        {
          "output_type": "stream",
          "text": [
            "[I 2020-07-13 12:22:12,944] Setting status of trial#727 as TrialState.PRUNED. Trial was pruned at iteration 11.\n"
          ],
          "name": "stderr"
        },
        {
          "output_type": "stream",
          "text": [
            "('knn', 'ada', 'rf')\n"
          ],
          "name": "stdout"
        },
        {
          "output_type": "stream",
          "text": [
            "[I 2020-07-13 12:22:15,504] Finished trial#728 with value: 0.9968789013732834 with parameters: {'combos': 72, 'knn_features': 8, 'knn_Scaler': 'stand', 'knn_nn': 1, 'knn_p': 1, 'ada_features': 13, 'ada_Scaler': 'log', 'ada_ne': 458, 'ada_lr': 0.6873909396832009, 'ada_algo': 'SAMME', 'rf_features': 10, 'rf_Scaler': 'stand', 'rf_max_depth': 79, 'rf_ne': 119, 'rf_cw': 'balanced'}. Best is trial#561 with value: 0.9989596337910944.\n"
          ],
          "name": "stderr"
        },
        {
          "output_type": "stream",
          "text": [
            "('knn', 'rf', 'gbm')\n"
          ],
          "name": "stdout"
        },
        {
          "output_type": "stream",
          "text": [
            "[I 2020-07-13 12:22:16,905] Finished trial#729 with value: 0.994173949230129 with parameters: {'combos': 79, 'knn_features': 9, 'knn_Scaler': 'stand', 'knn_nn': 4, 'knn_p': 1, 'rf_features': 6, 'rf_Scaler': 'log', 'rf_max_depth': 61, 'rf_ne': 165, 'rf_cw': 'balanced_subsample', 'gbm_features': 3, 'gbm_Scaler': 'stand', 'lambda_l1': 0.005092071162791157, 'lambda_l2': 3.956936234071911e-08, 'num_leaves': 56, 'feature_fraction': 0.8577602526945738, 'bagging_fraction': 0.8816023112733264, 'bagging_freq': 4, 'min_child_samples': 12}. Best is trial#561 with value: 0.9989596337910944.\n"
          ],
          "name": "stderr"
        },
        {
          "output_type": "stream",
          "text": [
            "('knn', 'et', 'xgb')\n"
          ],
          "name": "stdout"
        },
        {
          "output_type": "stream",
          "text": [
            "[I 2020-07-13 12:22:17,950] Finished trial#730 with value: 0.9958385351643779 with parameters: {'combos': 76, 'knn_features': 8, 'knn_Scaler': 'stand', 'knn_nn': 4, 'knn_p': 1, 'et_features': 4, 'et_Scaler': 'log', 'et_max_depth': 57, 'et_ne': 333, 'xgb_features': 6, 'xgb_Scaler': 'stand', 'booster': 'gbtree', 'lambda': 0.12723558128892612, 'alpha': 0.9071102403143952, 'max_depth': 19, 'eta': 4.898378346668556e-06, 'gamma': 0.0056260990076669294, 'grow_policy': 'depthwise'}. Best is trial#561 with value: 0.9989596337910944.\n"
          ],
          "name": "stderr"
        },
        {
          "output_type": "stream",
          "text": [
            "('knn', 'qda', 'ada')\n"
          ],
          "name": "stdout"
        },
        {
          "output_type": "stream",
          "text": [
            "/usr/local/lib/python3.6/dist-packages/sklearn/discriminant_analysis.py:691: UserWarning:\n",
            "\n",
            "Variables are collinear\n",
            "\n",
            "[I 2020-07-13 12:22:20,051] Finished trial#731 with value: 0.9977111943404079 with parameters: {'combos': 66, 'knn_features': 8, 'knn_Scaler': 'stand', 'knn_nn': 3, 'knn_p': 1, 'qda_features': 6, 'qda_Scaler': 'minmax', 'qda_rp': 4.574528682825457e-20, 'ada_features': 14, 'ada_Scaler': 'log', 'ada_ne': 478, 'ada_lr': 0.5626012828991986, 'ada_algo': 'SAMME'}. Best is trial#561 with value: 0.9989596337910944.\n"
          ],
          "name": "stderr"
        },
        {
          "output_type": "stream",
          "text": [
            "('knn', 'ada', 'rf')\n"
          ],
          "name": "stdout"
        },
        {
          "output_type": "stream",
          "text": [
            "[I 2020-07-13 12:22:23,139] Finished trial#732 with value: 0.9918851435705369 with parameters: {'combos': 72, 'knn_features': 7, 'knn_Scaler': 'stand', 'knn_nn': 1, 'knn_p': 1, 'ada_features': 13, 'ada_Scaler': 'log', 'ada_ne': 426, 'ada_lr': 0.6433498655750854, 'ada_algo': 'SAMME', 'rf_features': 18, 'rf_Scaler': 'minmax', 'rf_max_depth': 23, 'rf_ne': 465, 'rf_cw': 'balanced'}. Best is trial#561 with value: 0.9989596337910944.\n"
          ],
          "name": "stderr"
        },
        {
          "output_type": "stream",
          "text": [
            "('svc', 'gp', 'gnb')\n"
          ],
          "name": "stdout"
        },
        {
          "output_type": "stream",
          "text": [
            "[I 2020-07-13 12:22:25,554] Finished trial#733 with value: 0.9935497295047857 with parameters: {'combos': 81, 'svc_features': 6, 'svc_Scaler': 'log', 'svc_kern': 'sigmoid', 'svc_C': 5.7601150409296664e-05, 'svc_deg': 8, 'gp_features': 17, 'gp_Scaler': 'log', 'gp_a': 0.02788424435540862, 'gp_kern': 8, 'gnb_features': 12, 'gnb_Scaler': 'minmax', 'gnb_vs': 1.2787240753061414e-12}. Best is trial#561 with value: 0.9989596337910944.\n"
          ],
          "name": "stderr"
        },
        {
          "output_type": "stream",
          "text": [
            "('knn', 'ada', 'rf')\n"
          ],
          "name": "stdout"
        },
        {
          "output_type": "stream",
          "text": [
            "[I 2020-07-13 12:22:27,883] Finished trial#734 with value: 0.9972950478568456 with parameters: {'combos': 72, 'knn_features': 8, 'knn_Scaler': 'stand', 'knn_nn': 3, 'knn_p': 1, 'ada_features': 12, 'ada_Scaler': 'log', 'ada_ne': 487, 'ada_lr': 0.9099242171992512, 'ada_algo': 'SAMME', 'rf_features': 4, 'rf_Scaler': 'stand', 'rf_max_depth': 54, 'rf_ne': 21, 'rf_cw': 'balanced_subsample'}. Best is trial#561 with value: 0.9989596337910944.\n"
          ],
          "name": "stderr"
        },
        {
          "output_type": "stream",
          "text": [
            "('knn', 'et', 'rf')\n"
          ],
          "name": "stdout"
        },
        {
          "output_type": "stream",
          "text": [
            "[I 2020-07-13 12:22:29,734] Finished trial#735 with value: 0.9927174365376613 with parameters: {'combos': 75, 'knn_features': 7, 'knn_Scaler': 'stand', 'knn_nn': 1, 'knn_p': 1, 'et_features': 5, 'et_Scaler': 'stand', 'et_max_depth': 6, 'et_ne': 144, 'rf_features': 20, 'rf_Scaler': 'log', 'rf_max_depth': 44, 'rf_ne': 394, 'rf_cw': 'balanced'}. Best is trial#561 with value: 0.9989596337910944.\n"
          ],
          "name": "stderr"
        },
        {
          "output_type": "stream",
          "text": [
            "('knn', 'et', 'xgb')\n"
          ],
          "name": "stdout"
        },
        {
          "output_type": "stream",
          "text": [
            "[I 2020-07-13 12:22:30,839] Finished trial#736 with value: 0.990012484394507 with parameters: {'combos': 76, 'knn_features': 9, 'knn_Scaler': 'stand', 'knn_nn': 1, 'knn_p': 1, 'et_features': 9, 'et_Scaler': 'minmax', 'et_max_depth': 1, 'et_ne': 455, 'xgb_features': 6, 'xgb_Scaler': 'stand', 'booster': 'gbtree', 'lambda': 0.9700157024767455, 'alpha': 0.6992580443114976, 'max_depth': 26, 'eta': 6.289048045578335e-06, 'gamma': 0.002281413360906755, 'grow_policy': 'depthwise'}. Best is trial#561 with value: 0.9989596337910944.\n"
          ],
          "name": "stderr"
        },
        {
          "output_type": "stream",
          "text": [
            "('knn', 'rf', 'gbm')\n"
          ],
          "name": "stdout"
        },
        {
          "output_type": "stream",
          "text": [
            "[I 2020-07-13 12:22:32,130] Setting status of trial#737 as TrialState.PRUNED. Trial was pruned at iteration 11.\n"
          ],
          "name": "stderr"
        },
        {
          "output_type": "stream",
          "text": [
            "('svc', 'gnb', 'qda')\n"
          ],
          "name": "stdout"
        },
        {
          "output_type": "stream",
          "text": [
            "[I 2020-07-13 12:22:32,843] Finished trial#738 with value: 0.9910528506034123 with parameters: {'combos': 88, 'svc_features': 2, 'svc_Scaler': 'stand', 'svc_kern': 'linear', 'svc_C': 8.592620649882415e-06, 'svc_deg': 8, 'gnb_features': 1, 'gnb_Scaler': 'log', 'gnb_vs': 1.1312641290740495e-15, 'qda_features': 7, 'qda_Scaler': 'log', 'qda_rp': 5.421979037458506e-12}. Best is trial#561 with value: 0.9989596337910944.\n"
          ],
          "name": "stderr"
        },
        {
          "output_type": "stream",
          "text": [
            "('knn', 'qda', 'gbm')\n"
          ],
          "name": "stdout"
        },
        {
          "output_type": "stream",
          "text": [
            "/usr/local/lib/python3.6/dist-packages/sklearn/discriminant_analysis.py:691: UserWarning:\n",
            "\n",
            "Variables are collinear\n",
            "\n",
            "[I 2020-07-13 12:22:33,451] Setting status of trial#739 as TrialState.PRUNED. Trial was pruned at iteration 11.\n"
          ],
          "name": "stderr"
        },
        {
          "output_type": "stream",
          "text": [
            "('knn', 'ada', 'gbm')\n"
          ],
          "name": "stdout"
        },
        {
          "output_type": "stream",
          "text": [
            "[I 2020-07-13 12:22:35,331] Setting status of trial#740 as TrialState.PRUNED. Trial was pruned at iteration 11.\n"
          ],
          "name": "stderr"
        },
        {
          "output_type": "stream",
          "text": [
            "('mlp', 'xgb', 'gbm')\n"
          ],
          "name": "stdout"
        },
        {
          "output_type": "stream",
          "text": [
            "/usr/local/lib/python3.6/dist-packages/sklearn/neural_network/_multilayer_perceptron.py:571: ConvergenceWarning:\n",
            "\n",
            "Stochastic Optimizer: Maximum iterations (300) reached and the optimization hasn't converged yet.\n",
            "\n",
            "[I 2020-07-13 12:22:36,869] Setting status of trial#741 as TrialState.PRUNED. Trial was pruned at iteration 11.\n"
          ],
          "name": "stderr"
        },
        {
          "output_type": "stream",
          "text": [
            "('knn', 'gnb', 'gbm')\n"
          ],
          "name": "stdout"
        },
        {
          "output_type": "stream",
          "text": [
            "[I 2020-07-13 12:22:37,567] Setting status of trial#742 as TrialState.PRUNED. Trial was pruned at iteration 11.\n"
          ],
          "name": "stderr"
        },
        {
          "output_type": "stream",
          "text": [
            "('knn', 'qda', 'xgb')\n"
          ],
          "name": "stdout"
        },
        {
          "output_type": "stream",
          "text": [
            "/usr/local/lib/python3.6/dist-packages/sklearn/discriminant_analysis.py:691: UserWarning:\n",
            "\n",
            "Variables are collinear\n",
            "\n",
            "[I 2020-07-13 12:22:38,350] Finished trial#743 with value: 0.9882438618393674 with parameters: {'combos': 69, 'knn_features': 7, 'knn_Scaler': 'stand', 'knn_nn': 2, 'knn_p': 1, 'qda_features': 13, 'qda_Scaler': 'log', 'qda_rp': 1.7317926521762803e-15, 'xgb_features': 6, 'xgb_Scaler': 'stand', 'booster': 'gblinear', 'lambda': 0.9673689914481489, 'alpha': 0.9654152790231731}. Best is trial#561 with value: 0.9989596337910944.\n"
          ],
          "name": "stderr"
        },
        {
          "output_type": "stream",
          "text": [
            "('knn', 'qda', 'rf')\n"
          ],
          "name": "stdout"
        },
        {
          "output_type": "stream",
          "text": [
            "/usr/local/lib/python3.6/dist-packages/sklearn/discriminant_analysis.py:691: UserWarning:\n",
            "\n",
            "Variables are collinear\n",
            "\n",
            "[I 2020-07-13 12:22:39,354] Finished trial#744 with value: 0.9891801914273824 with parameters: {'combos': 68, 'knn_features': 6, 'knn_Scaler': 'stand', 'knn_nn': 2, 'knn_p': 1, 'qda_features': 4, 'qda_Scaler': 'minmax', 'qda_rp': 0.9668607380516637, 'rf_features': 14, 'rf_Scaler': 'stand', 'rf_max_depth': 2, 'rf_ne': 71, 'rf_cw': 'balanced'}. Best is trial#561 with value: 0.9989596337910944.\n"
          ],
          "name": "stderr"
        },
        {
          "output_type": "stream",
          "text": [
            "('knn', 'gnb', 'gbm')\n"
          ],
          "name": "stdout"
        },
        {
          "output_type": "stream",
          "text": [
            "[I 2020-07-13 12:22:39,950] Setting status of trial#745 as TrialState.PRUNED. Trial was pruned at iteration 11.\n"
          ],
          "name": "stderr"
        },
        {
          "output_type": "stream",
          "text": [
            "('knn', 'ada', 'et')\n"
          ],
          "name": "stdout"
        },
        {
          "output_type": "stream",
          "text": [
            "[I 2020-07-13 12:22:42,320] Finished trial#746 with value: 0.9966708281315023 with parameters: {'combos': 71, 'knn_features': 8, 'knn_Scaler': 'stand', 'knn_nn': 1, 'knn_p': 1, 'ada_features': 14, 'ada_Scaler': 'log', 'ada_ne': 466, 'ada_lr': 0.6094430559274432, 'ada_algo': 'SAMME', 'et_features': 6, 'et_Scaler': 'log', 'et_max_depth': 39, 'et_ne': 207}. Best is trial#561 with value: 0.9989596337910944.\n"
          ],
          "name": "stderr"
        },
        {
          "output_type": "stream",
          "text": [
            "('knn', 'et', 'xgb')\n"
          ],
          "name": "stdout"
        },
        {
          "output_type": "stream",
          "text": [
            "[I 2020-07-13 12:22:43,266] Finished trial#747 with value: 0.9933416562630045 with parameters: {'combos': 76, 'knn_features': 9, 'knn_Scaler': 'stand', 'knn_nn': 1, 'knn_p': 1, 'et_features': 3, 'et_Scaler': 'stand', 'et_max_depth': 11, 'et_ne': 229, 'xgb_features': 8, 'xgb_Scaler': 'stand', 'booster': 'gbtree', 'lambda': 0.3508717916208761, 'alpha': 0.24125128187033648, 'max_depth': 24, 'eta': 1.046148413960753e-05, 'gamma': 0.015655046690405645, 'grow_policy': 'lossguide'}. Best is trial#561 with value: 0.9989596337910944.\n"
          ],
          "name": "stderr"
        },
        {
          "output_type": "stream",
          "text": [
            "('svc', 'gp', 'gnb')\n"
          ],
          "name": "stdout"
        },
        {
          "output_type": "stream",
          "text": [
            "[I 2020-07-13 12:22:45,850] Finished trial#748 with value: 0.9927174365376613 with parameters: {'combos': 81, 'svc_features': 17, 'svc_Scaler': 'minmax', 'svc_kern': 'poly', 'svc_C': 0.006524706947566776, 'svc_deg': 2, 'gp_features': 4, 'gp_Scaler': 'stand', 'gp_a': 0.0027361130745245294, 'gp_kern': 7, 'gnb_features': 5, 'gnb_Scaler': 'minmax', 'gnb_vs': 6.149719095187432e-11}. Best is trial#561 with value: 0.9989596337910944.\n"
          ],
          "name": "stderr"
        },
        {
          "output_type": "stream",
          "text": [
            "('svc', 'gp', 'xgb')\n"
          ],
          "name": "stdout"
        },
        {
          "output_type": "stream",
          "text": [
            "[I 2020-07-13 12:22:48,881] Finished trial#749 with value: 0.9900124843945068 with parameters: {'combos': 86, 'svc_features': 7, 'svc_Scaler': 'log', 'svc_kern': 'sigmoid', 'svc_C': 0.0005334670288931542, 'svc_deg': 3, 'gp_features': 15, 'gp_Scaler': 'minmax', 'gp_a': 0.017877215664929908, 'gp_kern': 5, 'xgb_features': 8, 'xgb_Scaler': 'stand', 'booster': 'gbtree', 'lambda': 0.6229517632134788, 'alpha': 0.161310174842113, 'max_depth': 32, 'eta': 1.367998320873141e-06, 'gamma': 0.02207976396208726, 'grow_policy': 'depthwise'}. Best is trial#561 with value: 0.9989596337910944.\n"
          ],
          "name": "stderr"
        },
        {
          "output_type": "stream",
          "text": [
            "('knn', 'qda', 'rf')\n"
          ],
          "name": "stdout"
        },
        {
          "output_type": "stream",
          "text": [
            "[I 2020-07-13 12:22:50,455] Finished trial#750 with value: 0.9937578027465668 with parameters: {'combos': 68, 'knn_features': 6, 'knn_Scaler': 'stand', 'knn_nn': 2, 'knn_p': 1, 'qda_features': 0, 'qda_Scaler': 'log', 'qda_rp': 4.7396427665945887e-07, 'rf_features': 0, 'rf_Scaler': 'log', 'rf_max_depth': 30, 'rf_ne': 295, 'rf_cw': 'balanced_subsample'}. Best is trial#561 with value: 0.9989596337910944.\n"
          ],
          "name": "stderr"
        },
        {
          "output_type": "stream",
          "text": [
            "('knn', 'ada', 'xgb')\n"
          ],
          "name": "stdout"
        },
        {
          "output_type": "stream",
          "text": [
            "[I 2020-07-13 12:22:52,612] Finished trial#751 with value: 0.9983354140657511 with parameters: {'combos': 73, 'knn_features': 8, 'knn_Scaler': 'stand', 'knn_nn': 3, 'knn_p': 1, 'ada_features': 15, 'ada_Scaler': 'log', 'ada_ne': 480, 'ada_lr': 0.4661695577175194, 'ada_algo': 'SAMME', 'xgb_features': 7, 'xgb_Scaler': 'stand', 'booster': 'gbtree', 'lambda': 0.18375984002505247, 'alpha': 0.9744261810239021, 'max_depth': 27, 'eta': 2.300461845828727e-06, 'gamma': 0.002681539425849615, 'grow_policy': 'depthwise'}. Best is trial#561 with value: 0.9989596337910944.\n"
          ],
          "name": "stderr"
        },
        {
          "output_type": "stream",
          "text": [
            "('mlp', 'gnb', 'et')\n"
          ],
          "name": "stdout"
        },
        {
          "output_type": "stream",
          "text": [
            "[I 2020-07-13 12:22:54,191] Finished trial#752 with value: 0.9898044111527258 with parameters: {'combos': 26, 'mlp_features': 19, 'mlp_Scaler': 'stand', 'mlp_alpha': 0.0012197251584996171, 'gnb_features': 6, 'gnb_Scaler': 'log', 'gnb_vs': 3.6042950720763154e-09, 'et_features': 2, 'et_Scaler': 'minmax', 'et_max_depth': 75, 'et_ne': 126}. Best is trial#561 with value: 0.9989596337910944.\n"
          ],
          "name": "stderr"
        },
        {
          "output_type": "stream",
          "text": [
            "('knn', 'et', 'gbm')\n"
          ],
          "name": "stdout"
        },
        {
          "output_type": "stream",
          "text": [
            "[I 2020-07-13 12:22:55,251] Setting status of trial#753 as TrialState.PRUNED. Trial was pruned at iteration 11.\n"
          ],
          "name": "stderr"
        },
        {
          "output_type": "stream",
          "text": [
            "('knn', 'qda', 'gbm')\n"
          ],
          "name": "stdout"
        },
        {
          "output_type": "stream",
          "text": [
            "/usr/local/lib/python3.6/dist-packages/sklearn/discriminant_analysis.py:691: UserWarning:\n",
            "\n",
            "Variables are collinear\n",
            "\n",
            "[I 2020-07-13 12:22:55,962] Setting status of trial#754 as TrialState.PRUNED. Trial was pruned at iteration 11.\n"
          ],
          "name": "stderr"
        },
        {
          "output_type": "stream",
          "text": [
            "('knn', 'et', 'rf')\n"
          ],
          "name": "stdout"
        },
        {
          "output_type": "stream",
          "text": [
            "[I 2020-07-13 12:22:57,025] Finished trial#755 with value: 0.994173949230129 with parameters: {'combos': 75, 'knn_features': 6, 'knn_Scaler': 'stand', 'knn_nn': 1, 'knn_p': 1, 'et_features': 12, 'et_Scaler': 'stand', 'et_max_depth': 85, 'et_ne': 70, 'rf_features': 9, 'rf_Scaler': 'minmax', 'rf_max_depth': 89, 'rf_ne': 3, 'rf_cw': 'balanced'}. Best is trial#561 with value: 0.9989596337910944.\n"
          ],
          "name": "stderr"
        },
        {
          "output_type": "stream",
          "text": [
            "('knn', 'ada', 'xgb')\n"
          ],
          "name": "stdout"
        },
        {
          "output_type": "stream",
          "text": [
            "[I 2020-07-13 12:22:59,261] Finished trial#756 with value: 0.9987515605493134 with parameters: {'combos': 73, 'knn_features': 7, 'knn_Scaler': 'stand', 'knn_nn': 2, 'knn_p': 1, 'ada_features': 14, 'ada_Scaler': 'log', 'ada_ne': 500, 'ada_lr': 0.5071293773860602, 'ada_algo': 'SAMME', 'xgb_features': 8, 'xgb_Scaler': 'stand', 'booster': 'gbtree', 'lambda': 0.21723363332433102, 'alpha': 0.6722497742314149, 'max_depth': 25, 'eta': 3.96621337929042e-06, 'gamma': 0.0014656047167668708, 'grow_policy': 'depthwise'}. Best is trial#561 with value: 0.9989596337910944.\n"
          ],
          "name": "stderr"
        },
        {
          "output_type": "stream",
          "text": [
            "('knn', 'xgb', 'gbm')\n"
          ],
          "name": "stdout"
        },
        {
          "output_type": "stream",
          "text": [
            "[I 2020-07-13 12:22:59,911] Setting status of trial#757 as TrialState.PRUNED. Trial was pruned at iteration 11.\n"
          ],
          "name": "stderr"
        },
        {
          "output_type": "stream",
          "text": [
            "('svc', 'gp', 'et')\n"
          ],
          "name": "stdout"
        },
        {
          "output_type": "stream",
          "text": [
            "[I 2020-07-13 12:23:03,383] Finished trial#758 with value: 0.9883478984602581 with parameters: {'combos': 84, 'svc_features': 9, 'svc_Scaler': 'stand', 'svc_kern': 'rbf', 'svc_C': 3.260849188145012e-06, 'svc_deg': 4, 'gp_features': 5, 'gp_Scaler': 'log', 'gp_a': 0.001188389757938496, 'gp_kern': 3, 'et_features': 18, 'et_Scaler': 'minmax', 'et_max_depth': 95, 'et_ne': 498}. Best is trial#561 with value: 0.9989596337910944.\n"
          ],
          "name": "stderr"
        },
        {
          "output_type": "stream",
          "text": [
            "('knn', 'gnb', 'gbm')\n"
          ],
          "name": "stdout"
        },
        {
          "output_type": "stream",
          "text": [
            "[I 2020-07-13 12:23:03,979] Setting status of trial#759 as TrialState.PRUNED. Trial was pruned at iteration 11.\n"
          ],
          "name": "stderr"
        },
        {
          "output_type": "stream",
          "text": [
            "('knn', 'rf', 'xgb')\n"
          ],
          "name": "stdout"
        },
        {
          "output_type": "stream",
          "text": [
            "[I 2020-07-13 12:23:05,343] Finished trial#760 with value: 0.9863712026633376 with parameters: {'combos': 78, 'knn_features': 8, 'knn_Scaler': 'stand', 'knn_nn': 2, 'knn_p': 1, 'rf_features': 12, 'rf_Scaler': 'stand', 'rf_max_depth': 93, 'rf_ne': 183, 'rf_cw': 'balanced_subsample', 'xgb_features': 8, 'xgb_Scaler': 'stand', 'booster': 'gbtree', 'lambda': 0.473030215681688, 'alpha': 0.3494027768549624, 'max_depth': 29, 'eta': 4.077583833525001e-06, 'gamma': 0.009455103556412168, 'grow_policy': 'depthwise'}. Best is trial#561 with value: 0.9989596337910944.\n"
          ],
          "name": "stderr"
        },
        {
          "output_type": "stream",
          "text": [
            "('knn', 'qda', 'xgb')\n"
          ],
          "name": "stdout"
        },
        {
          "output_type": "stream",
          "text": [
            "[I 2020-07-13 12:23:06,044] Finished trial#761 with value: 0.9975031210986267 with parameters: {'combos': 69, 'knn_features': 7, 'knn_Scaler': 'stand', 'knn_nn': 3, 'knn_p': 1, 'qda_features': 3, 'qda_Scaler': 'log', 'qda_rp': 3.759369547462758e-13, 'xgb_features': 9, 'xgb_Scaler': 'stand', 'booster': 'gbtree', 'lambda': 0.7279343813846336, 'alpha': 0.6617237564756926, 'max_depth': 14, 'eta': 1.8758652958807327e-06, 'gamma': 0.0006761451100560798, 'grow_policy': 'depthwise'}. Best is trial#561 with value: 0.9989596337910944.\n"
          ],
          "name": "stderr"
        },
        {
          "output_type": "stream",
          "text": [
            "('knn', 'ada', 'et')\n"
          ],
          "name": "stdout"
        },
        {
          "output_type": "stream",
          "text": [
            "[I 2020-07-13 12:23:08,180] Finished trial#762 with value: 0.9958385351643779 with parameters: {'combos': 71, 'knn_features': 7, 'knn_Scaler': 'stand', 'knn_nn': 4, 'knn_p': 1, 'ada_features': 14, 'ada_Scaler': 'log', 'ada_ne': 472, 'ada_lr': 0.5365120207968662, 'ada_algo': 'SAMME', 'et_features': 17, 'et_Scaler': 'log', 'et_max_depth': 89, 'et_ne': 55}. Best is trial#561 with value: 0.9989596337910944.\n"
          ],
          "name": "stderr"
        },
        {
          "output_type": "stream",
          "text": [
            "('knn', 'et', 'rf')\n"
          ],
          "name": "stdout"
        },
        {
          "output_type": "stream",
          "text": [
            "[I 2020-07-13 12:23:09,860] Finished trial#763 with value: 0.9935497295047856 with parameters: {'combos': 75, 'knn_features': 8, 'knn_Scaler': 'stand', 'knn_nn': 3, 'knn_p': 1, 'et_features': 13, 'et_Scaler': 'stand', 'et_max_depth': 64, 'et_ne': 401, 'rf_features': 3, 'rf_Scaler': 'log', 'rf_max_depth': 100, 'rf_ne': 215, 'rf_cw': 'balanced'}. Best is trial#561 with value: 0.9989596337910944.\n"
          ],
          "name": "stderr"
        },
        {
          "output_type": "stream",
          "text": [
            "('knn', 'rf', 'xgb')\n"
          ],
          "name": "stdout"
        },
        {
          "output_type": "stream",
          "text": [
            "[I 2020-07-13 12:23:12,035] Finished trial#764 with value: 0.9865792759051186 with parameters: {'combos': 78, 'knn_features': 7, 'knn_Scaler': 'stand', 'knn_nn': 2, 'knn_p': 1, 'rf_features': 8, 'rf_Scaler': 'minmax', 'rf_max_depth': 66, 'rf_ne': 479, 'rf_cw': 'balanced_subsample', 'xgb_features': 7, 'xgb_Scaler': 'stand', 'booster': 'gbtree', 'lambda': 0.06434660449581894, 'alpha': 1.8186499152675178e-05, 'max_depth': 19, 'eta': 3.016421687287829e-06, 'gamma': 0.0014184091360423265, 'grow_policy': 'depthwise'}. Best is trial#561 with value: 0.9989596337910944.\n"
          ],
          "name": "stderr"
        },
        {
          "output_type": "stream",
          "text": [
            "('knn', 'et', 'rf')\n"
          ],
          "name": "stdout"
        },
        {
          "output_type": "stream",
          "text": [
            "[I 2020-07-13 12:23:14,137] Finished trial#765 with value: 0.9912609238451935 with parameters: {'combos': 75, 'knn_features': 6, 'knn_Scaler': 'stand', 'knn_nn': 4, 'knn_p': 1, 'et_features': 1, 'et_Scaler': 'minmax', 'et_max_depth': 29, 'et_ne': 243, 'rf_features': 7, 'rf_Scaler': 'stand', 'rf_max_depth': 12, 'rf_ne': 456, 'rf_cw': 'balanced'}. Best is trial#561 with value: 0.9989596337910944.\n"
          ],
          "name": "stderr"
        },
        {
          "output_type": "stream",
          "text": [
            "('knn', 'ada', 'rf')\n"
          ],
          "name": "stdout"
        },
        {
          "output_type": "stream",
          "text": [
            "[I 2020-07-13 12:23:16,620] Finished trial#766 with value: 0.9972950478568456 with parameters: {'combos': 72, 'knn_features': 9, 'knn_Scaler': 'stand', 'knn_nn': 1, 'knn_p': 1, 'ada_features': 14, 'ada_Scaler': 'log', 'ada_ne': 499, 'ada_lr': 0.8097706753359123, 'ada_algo': 'SAMME', 'rf_features': 11, 'rf_Scaler': 'log', 'rf_max_depth': 77, 'rf_ne': 54, 'rf_cw': 'balanced_subsample'}. Best is trial#561 with value: 0.9989596337910944.\n"
          ],
          "name": "stderr"
        },
        {
          "output_type": "stream",
          "text": [
            "('knn', 'ada', 'xgb')\n"
          ],
          "name": "stdout"
        },
        {
          "output_type": "stream",
          "text": [
            "[I 2020-07-13 12:23:18,636] Finished trial#767 with value: 0.9985434873075323 with parameters: {'combos': 73, 'knn_features': 8, 'knn_Scaler': 'stand', 'knn_nn': 3, 'knn_p': 1, 'ada_features': 13, 'ada_Scaler': 'log', 'ada_ne': 445, 'ada_lr': 0.47717130356721926, 'ada_algo': 'SAMME', 'xgb_features': 8, 'xgb_Scaler': 'stand', 'booster': 'gbtree', 'lambda': 0.255017484178065, 'alpha': 0.6945731377875777, 'max_depth': 22, 'eta': 6.835200273065834e-06, 'gamma': 0.005278381215616606, 'grow_policy': 'depthwise'}. Best is trial#561 with value: 0.9989596337910944.\n"
          ],
          "name": "stderr"
        },
        {
          "output_type": "stream",
          "text": [
            "('svc', 'gp', 'qda')\n"
          ],
          "name": "stdout"
        },
        {
          "output_type": "stream",
          "text": [
            "/usr/local/lib/python3.6/dist-packages/sklearn/discriminant_analysis.py:691: UserWarning:\n",
            "\n",
            "Variables are collinear\n",
            "\n",
            "[I 2020-07-13 12:23:20,029] Finished trial#768 with value: 0.9588014981273408 with parameters: {'combos': 82, 'svc_features': 13, 'svc_Scaler': 'log', 'svc_kern': 'poly', 'svc_C': 3.36933521267759e-08, 'svc_deg': 7, 'gp_features': 10, 'gp_Scaler': 'stand', 'gp_a': 0.11942967584195861, 'gp_kern': 1, 'qda_features': 2, 'qda_Scaler': 'minmax', 'qda_rp': 1.5924142272295032e-06}. Best is trial#561 with value: 0.9989596337910944.\n"
          ],
          "name": "stderr"
        },
        {
          "output_type": "stream",
          "text": [
            "('mlp', 'knn', 'qda')\n"
          ],
          "name": "stdout"
        },
        {
          "output_type": "stream",
          "text": [
            "/usr/local/lib/python3.6/dist-packages/sklearn/neural_network/_multilayer_perceptron.py:571: ConvergenceWarning:\n",
            "\n",
            "Stochastic Optimizer: Maximum iterations (300) reached and the optimization hasn't converged yet.\n",
            "\n",
            "/usr/local/lib/python3.6/dist-packages/sklearn/discriminant_analysis.py:691: UserWarning:\n",
            "\n",
            "Variables are collinear\n",
            "\n",
            "[I 2020-07-13 12:23:21,644] Finished trial#769 with value: 0.9927174365376613 with parameters: {'combos': 3, 'mlp_features': 13, 'mlp_Scaler': 'minmax', 'mlp_alpha': 0.016299342178365064, 'knn_features': 7, 'knn_Scaler': 'stand', 'knn_nn': 2, 'knn_p': 1, 'qda_features': 12, 'qda_Scaler': 'log', 'qda_rp': 3.307209269560974e-16}. Best is trial#561 with value: 0.9989596337910944.\n"
          ],
          "name": "stderr"
        },
        {
          "output_type": "stream",
          "text": [
            "('knn', 'gnb', 'gbm')\n"
          ],
          "name": "stdout"
        },
        {
          "output_type": "stream",
          "text": [
            "[I 2020-07-13 12:23:22,235] Setting status of trial#770 as TrialState.PRUNED. Trial was pruned at iteration 11.\n"
          ],
          "name": "stderr"
        },
        {
          "output_type": "stream",
          "text": [
            "('knn', 'ada', 'xgb')\n"
          ],
          "name": "stdout"
        },
        {
          "output_type": "stream",
          "text": [
            "[I 2020-07-13 12:23:24,529] Finished trial#771 with value: 0.9985434873075323 with parameters: {'combos': 73, 'knn_features': 8, 'knn_Scaler': 'stand', 'knn_nn': 1, 'knn_p': 1, 'ada_features': 14, 'ada_Scaler': 'log', 'ada_ne': 492, 'ada_lr': 0.6164489206578866, 'ada_algo': 'SAMME', 'xgb_features': 4, 'xgb_Scaler': 'stand', 'booster': 'gbtree', 'lambda': 0.1978591028125687, 'alpha': 0.5350311330758161, 'max_depth': 22, 'eta': 2.2142642744490636e-05, 'gamma': 0.0018682347278867013, 'grow_policy': 'depthwise'}. Best is trial#561 with value: 0.9989596337910944.\n"
          ],
          "name": "stderr"
        },
        {
          "output_type": "stream",
          "text": [
            "('knn', 'rf', 'xgb')\n"
          ],
          "name": "stdout"
        },
        {
          "output_type": "stream",
          "text": [
            "[I 2020-07-13 12:23:26,395] Finished trial#772 with value: 0.9885559717020391 with parameters: {'combos': 78, 'knn_features': 7, 'knn_Scaler': 'stand', 'knn_nn': 1, 'knn_p': 1, 'rf_features': 16, 'rf_Scaler': 'minmax', 'rf_max_depth': 5, 'rf_ne': 417, 'rf_cw': 'balanced', 'xgb_features': 4, 'xgb_Scaler': 'stand', 'booster': 'gbtree', 'lambda': 0.2515585981432549, 'alpha': 0.2870028166577688, 'max_depth': 21, 'eta': 2.1221913344821116e-05, 'gamma': 0.0016103673332084976, 'grow_policy': 'depthwise'}. Best is trial#561 with value: 0.9989596337910944.\n"
          ],
          "name": "stderr"
        },
        {
          "output_type": "stream",
          "text": [
            "('knn', 'qda', 'gbm')\n"
          ],
          "name": "stdout"
        },
        {
          "output_type": "stream",
          "text": [
            "/usr/local/lib/python3.6/dist-packages/sklearn/discriminant_analysis.py:691: UserWarning:\n",
            "\n",
            "Variables are collinear\n",
            "\n",
            "[I 2020-07-13 12:23:27,018] Setting status of trial#773 as TrialState.PRUNED. Trial was pruned at iteration 11.\n"
          ],
          "name": "stderr"
        },
        {
          "output_type": "stream",
          "text": [
            "('knn', 'qda', 'et')\n"
          ],
          "name": "stdout"
        },
        {
          "output_type": "stream",
          "text": [
            "/usr/local/lib/python3.6/dist-packages/sklearn/discriminant_analysis.py:691: UserWarning:\n",
            "\n",
            "Variables are collinear\n",
            "\n",
            "[I 2020-07-13 12:23:27,829] Finished trial#774 with value: 0.9968789013732835 with parameters: {'combos': 67, 'knn_features': 8, 'knn_Scaler': 'stand', 'knn_nn': 2, 'knn_p': 1, 'qda_features': 11, 'qda_Scaler': 'log', 'qda_rp': 8.3361998305286e-06, 'et_features': 15, 'et_Scaler': 'log', 'et_max_depth': 79, 'et_ne': 37}. Best is trial#561 with value: 0.9989596337910944.\n"
          ],
          "name": "stderr"
        },
        {
          "output_type": "stream",
          "text": [
            "('knn', 'qda', 'rf')\n"
          ],
          "name": "stdout"
        },
        {
          "output_type": "stream",
          "text": [
            "[I 2020-07-13 12:23:29,749] Finished trial#775 with value: 0.9970869746150645 with parameters: {'combos': 68, 'knn_features': 7, 'knn_Scaler': 'stand', 'knn_nn': 2, 'knn_p': 1, 'qda_features': 1, 'qda_Scaler': 'minmax', 'qda_rp': 1.7511966400998455e-17, 'rf_features': 2, 'rf_Scaler': 'stand', 'rf_max_depth': 72, 'rf_ne': 360, 'rf_cw': 'balanced_subsample'}. Best is trial#561 with value: 0.9989596337910944.\n"
          ],
          "name": "stderr"
        },
        {
          "output_type": "stream",
          "text": [
            "('knn', 'et', 'xgb')\n"
          ],
          "name": "stdout"
        },
        {
          "output_type": "stream",
          "text": [
            "[I 2020-07-13 12:23:30,448] Finished trial#776 with value: 0.9887640449438202 with parameters: {'combos': 76, 'knn_features': 6, 'knn_Scaler': 'stand', 'knn_nn': 2, 'knn_p': 1, 'et_features': 20, 'et_Scaler': 'stand', 'et_max_depth': 26, 'et_ne': 1, 'xgb_features': 6, 'xgb_Scaler': 'stand', 'booster': 'gbtree', 'lambda': 0.38663166859092213, 'alpha': 0.7252306725889581, 'max_depth': 17, 'eta': 9.399389462359189e-06, 'gamma': 0.00762063616282946, 'grow_policy': 'depthwise'}. Best is trial#561 with value: 0.9989596337910944.\n"
          ],
          "name": "stderr"
        },
        {
          "output_type": "stream",
          "text": [
            "('knn', 'xgb', 'gbm')\n"
          ],
          "name": "stdout"
        },
        {
          "output_type": "stream",
          "text": [
            "[I 2020-07-13 12:23:31,353] Finished trial#777 with value: 0.9952143154390346 with parameters: {'combos': 80, 'knn_features': 9, 'knn_Scaler': 'stand', 'knn_nn': 3, 'knn_p': 1, 'xgb_features': 4, 'xgb_Scaler': 'stand', 'booster': 'gbtree', 'lambda': 0.041724132482539776, 'alpha': 0.21191075832697526, 'max_depth': 20, 'eta': 5.384779378202408e-05, 'gamma': 0.012635737338943286, 'grow_policy': 'lossguide', 'gbm_features': 12, 'gbm_Scaler': 'stand', 'lambda_l1': 0.00019621895055624197, 'lambda_l2': 2.738430451132913e-07, 'num_leaves': 113, 'feature_fraction': 0.9068227061645767, 'bagging_fraction': 0.9663604732238239, 'bagging_freq': 2, 'min_child_samples': 12}. Best is trial#561 with value: 0.9989596337910944.\n"
          ],
          "name": "stderr"
        },
        {
          "output_type": "stream",
          "text": [
            "('knn', 'qda', 'xgb')\n"
          ],
          "name": "stdout"
        },
        {
          "output_type": "stream",
          "text": [
            "[I 2020-07-13 12:23:32,061] Finished trial#778 with value: 0.9962546816479401 with parameters: {'combos': 69, 'knn_features': 8, 'knn_Scaler': 'minmax', 'knn_nn': 4, 'knn_p': 1, 'qda_features': 5, 'qda_Scaler': 'log', 'qda_rp': 5.005297102453279e-10, 'xgb_features': 7, 'xgb_Scaler': 'stand', 'booster': 'gbtree', 'lambda': 0.1518877185763532, 'alpha': 0.7221675503326757, 'max_depth': 12, 'eta': 1.2530550673338075e-06, 'gamma': 0.0036834829963707455, 'grow_policy': 'depthwise'}. Best is trial#561 with value: 0.9989596337910944.\n"
          ],
          "name": "stderr"
        },
        {
          "output_type": "stream",
          "text": [
            "('knn', 'et', 'rf')\n"
          ],
          "name": "stdout"
        },
        {
          "output_type": "stream",
          "text": [
            "[I 2020-07-13 12:23:33,945] Finished trial#779 with value: 0.9907407407407407 with parameters: {'combos': 75, 'knn_features': 9, 'knn_Scaler': 'stand', 'knn_nn': 3, 'knn_p': 1, 'et_features': 16, 'et_Scaler': 'minmax', 'et_max_depth': 59, 'et_ne': 381, 'rf_features': 5, 'rf_Scaler': 'log', 'rf_max_depth': 51, 'rf_ne': 309, 'rf_cw': 'balanced'}. Best is trial#561 with value: 0.9989596337910944.\n"
          ],
          "name": "stderr"
        },
        {
          "output_type": "stream",
          "text": [
            "('knn', 'gnb', 'gbm')\n"
          ],
          "name": "stdout"
        },
        {
          "output_type": "stream",
          "text": [
            "[I 2020-07-13 12:23:34,534] Setting status of trial#780 as TrialState.PRUNED. Trial was pruned at iteration 11.\n"
          ],
          "name": "stderr"
        },
        {
          "output_type": "stream",
          "text": [
            "('knn', 'ada', 'rf')\n"
          ],
          "name": "stdout"
        },
        {
          "output_type": "stream",
          "text": [
            "[I 2020-07-13 12:23:38,729] Finished trial#781 with value: 0.9927174365376613 with parameters: {'combos': 72, 'knn_features': 7, 'knn_Scaler': 'stand', 'knn_nn': 24, 'knn_p': 1, 'ada_features': 14, 'ada_Scaler': 'log', 'ada_ne': 499, 'ada_lr': 0.5331591711431914, 'ada_algo': 'SAMME', 'rf_features': 6, 'rf_Scaler': 'minmax', 'rf_max_depth': 25, 'rf_ne': 500, 'rf_cw': 'balanced_subsample'}. Best is trial#561 with value: 0.9989596337910944.\n"
          ],
          "name": "stderr"
        },
        {
          "output_type": "stream",
          "text": [
            "('knn', 'rf', 'xgb')\n"
          ],
          "name": "stdout"
        },
        {
          "output_type": "stream",
          "text": [
            "[I 2020-07-13 12:23:40,328] Finished trial#782 with value: 0.9863712026633376 with parameters: {'combos': 78, 'knn_features': 8, 'knn_Scaler': 'stand', 'knn_nn': 4, 'knn_p': 1, 'rf_features': 4, 'rf_Scaler': 'stand', 'rf_max_depth': 19, 'rf_ne': 93, 'rf_cw': 'balanced', 'xgb_features': 3, 'xgb_Scaler': 'stand', 'booster': 'gblinear', 'lambda': 0.09462361001964005, 'alpha': 0.9997467506056108}. Best is trial#561 with value: 0.9989596337910944.\n"
          ],
          "name": "stderr"
        },
        {
          "output_type": "stream",
          "text": [
            "('knn', 'ada', 'et')\n"
          ],
          "name": "stdout"
        },
        {
          "output_type": "stream",
          "text": [
            "[I 2020-07-13 12:23:43,584] Finished trial#783 with value: 0.9968789013732834 with parameters: {'combos': 71, 'knn_features': 8, 'knn_Scaler': 'stand', 'knn_nn': 5, 'knn_p': 1, 'ada_features': 15, 'ada_Scaler': 'log', 'ada_ne': 442, 'ada_lr': 0.48014431031684524, 'ada_algo': 'SAMME', 'et_features': 4, 'et_Scaler': 'log', 'et_max_depth': 16, 'et_ne': 325}. Best is trial#561 with value: 0.9989596337910944.\n"
          ],
          "name": "stderr"
        },
        {
          "output_type": "stream",
          "text": [
            "('knn', 'qda', 'xgb')\n"
          ],
          "name": "stdout"
        },
        {
          "output_type": "stream",
          "text": [
            "/usr/local/lib/python3.6/dist-packages/sklearn/discriminant_analysis.py:691: UserWarning:\n",
            "\n",
            "Variables are collinear\n",
            "\n",
            "[I 2020-07-13 12:23:44,295] Finished trial#784 with value: 0.9917811069496463 with parameters: {'combos': 69, 'knn_features': 6, 'knn_Scaler': 'stand', 'knn_nn': 3, 'knn_p': 1, 'qda_features': 9, 'qda_Scaler': 'minmax', 'qda_rp': 9.132562486278565e-11, 'xgb_features': 7, 'xgb_Scaler': 'stand', 'booster': 'gbtree', 'lambda': 0.35964445565663, 'alpha': 0.9955546576067931, 'max_depth': 18, 'eta': 3.965347050778052e-06, 'gamma': 0.0008298210415145005, 'grow_policy': 'depthwise'}. Best is trial#561 with value: 0.9989596337910944.\n"
          ],
          "name": "stderr"
        },
        {
          "output_type": "stream",
          "text": [
            "('knn', 'et', 'rf')\n"
          ],
          "name": "stdout"
        },
        {
          "output_type": "stream",
          "text": [
            "[I 2020-07-13 12:23:45,934] Finished trial#785 with value: 0.9945900957136912 with parameters: {'combos': 75, 'knn_features': 7, 'knn_Scaler': 'stand', 'knn_nn': 2, 'knn_p': 1, 'et_features': 10, 'et_Scaler': 'stand', 'et_max_depth': 49, 'et_ne': 170, 'rf_features': 19, 'rf_Scaler': 'log', 'rf_max_depth': 38, 'rf_ne': 280, 'rf_cw': 'balanced_subsample'}. Best is trial#561 with value: 0.9989596337910944.\n"
          ],
          "name": "stderr"
        },
        {
          "output_type": "stream",
          "text": [
            "('svc', 'gp', 'ada')\n"
          ],
          "name": "stdout"
        },
        {
          "output_type": "stream",
          "text": [
            "[I 2020-07-13 12:23:49,597] Finished trial#786 with value: 0.9929255097794424 with parameters: {'combos': 83, 'svc_features': 15, 'svc_Scaler': 'minmax', 'svc_kern': 'sigmoid', 'svc_C': 0.0037656158621133485, 'svc_deg': 6, 'gp_features': 7, 'gp_Scaler': 'minmax', 'gp_a': 0.29287206181499115, 'gp_kern': 10, 'ada_features': 13, 'ada_Scaler': 'log', 'ada_ne': 436, 'ada_lr': 0.5883680321794054, 'ada_algo': 'SAMME'}. Best is trial#561 with value: 0.9989596337910944.\n"
          ],
          "name": "stderr"
        },
        {
          "output_type": "stream",
          "text": [
            "('svc', 'gnb', 'et')\n"
          ],
          "name": "stdout"
        },
        {
          "output_type": "stream",
          "text": [
            "[I 2020-07-13 12:23:50,579] Finished trial#787 with value: 0.9895963379109447 with parameters: {'combos': 90, 'svc_features': 18, 'svc_Scaler': 'stand', 'svc_kern': 'linear', 'svc_C': 9.041028688529483e-08, 'svc_deg': 9, 'gnb_features': 13, 'gnb_Scaler': 'log', 'gnb_vs': 3.580783471825631e-08, 'et_features': 8, 'et_Scaler': 'minmax', 'et_max_depth': 91, 'et_ne': 367}. Best is trial#561 with value: 0.9989596337910944.\n"
          ],
          "name": "stderr"
        },
        {
          "output_type": "stream",
          "text": [
            "('knn', 'ada', 'gbm')\n"
          ],
          "name": "stdout"
        },
        {
          "output_type": "stream",
          "text": [
            "[I 2020-07-13 12:23:52,855] Finished trial#788 with value: 0.9985434873075323 with parameters: {'combos': 74, 'knn_features': 0, 'knn_Scaler': 'stand', 'knn_nn': 1, 'knn_p': 1, 'ada_features': 14, 'ada_Scaler': 'log', 'ada_ne': 470, 'ada_lr': 0.5040372079801676, 'ada_algo': 'SAMME', 'gbm_features': 9, 'gbm_Scaler': 'stand', 'lambda_l1': 0.0003182109616223592, 'lambda_l2': 8.77102386313093e-07, 'num_leaves': 134, 'feature_fraction': 0.9428356661730303, 'bagging_fraction': 0.9526988683508694, 'bagging_freq': 3, 'min_child_samples': 9}. Best is trial#561 with value: 0.9989596337910944.\n"
          ],
          "name": "stderr"
        },
        {
          "output_type": "stream",
          "text": [
            "('knn', 'qda', 'rf')\n"
          ],
          "name": "stdout"
        },
        {
          "output_type": "stream",
          "text": [
            "/usr/local/lib/python3.6/dist-packages/sklearn/discriminant_analysis.py:691: UserWarning:\n",
            "\n",
            "Variables are collinear\n",
            "\n",
            "[I 2020-07-13 12:23:54,689] Finished trial#789 with value: 0.9887640449438203 with parameters: {'combos': 68, 'knn_features': 9, 'knn_Scaler': 'stand', 'knn_nn': 1, 'knn_p': 1, 'qda_features': 8, 'qda_Scaler': 'log', 'qda_rp': 4.723901101877866e-17, 'rf_features': 13, 'rf_Scaler': 'minmax', 'rf_max_depth': 98, 'rf_ne': 437, 'rf_cw': 'balanced'}. Best is trial#561 with value: 0.9989596337910944.\n"
          ],
          "name": "stderr"
        },
        {
          "output_type": "stream",
          "text": [
            "('knn', 'rf', 'gbm')\n"
          ],
          "name": "stdout"
        },
        {
          "output_type": "stream",
          "text": [
            "[I 2020-07-13 12:23:56,348] Finished trial#790 with value: 0.9908447773616313 with parameters: {'combos': 79, 'knn_features': 7, 'knn_Scaler': 'stand', 'knn_nn': 3, 'knn_p': 1, 'rf_features': 12, 'rf_Scaler': 'stand', 'rf_max_depth': 32, 'rf_ne': 252, 'rf_cw': 'balanced_subsample', 'gbm_features': 9, 'gbm_Scaler': 'stand', 'lambda_l1': 0.0007716578372390102, 'lambda_l2': 1.0746224052935978e-06, 'num_leaves': 119, 'feature_fraction': 0.9459801224343645, 'bagging_fraction': 0.9578884572727357, 'bagging_freq': 3, 'min_child_samples': 9}. Best is trial#561 with value: 0.9989596337910944.\n"
          ],
          "name": "stderr"
        },
        {
          "output_type": "stream",
          "text": [
            "('knn', 'ada', 'rf')\n"
          ],
          "name": "stdout"
        },
        {
          "output_type": "stream",
          "text": [
            "[I 2020-07-13 12:23:59,093] Finished trial#791 with value: 0.9972950478568456 with parameters: {'combos': 72, 'knn_features': 8, 'knn_Scaler': 'stand', 'knn_nn': 3, 'knn_p': 1, 'ada_features': 12, 'ada_Scaler': 'log', 'ada_ne': 466, 'ada_lr': 0.5725651443838297, 'ada_algo': 'SAMME', 'rf_features': 14, 'rf_Scaler': 'log', 'rf_max_depth': 59, 'rf_ne': 266, 'rf_cw': 'balanced'}. Best is trial#561 with value: 0.9989596337910944.\n"
          ],
          "name": "stderr"
        },
        {
          "output_type": "stream",
          "text": [
            "('knn', 'et', 'rf')\n"
          ],
          "name": "stdout"
        },
        {
          "output_type": "stream",
          "text": [
            "[I 2020-07-13 12:24:01,225] Finished trial#792 with value: 0.9902205576362879 with parameters: {'combos': 75, 'knn_features': 8, 'knn_Scaler': 'stand', 'knn_nn': 2, 'knn_p': 1, 'et_features': 17, 'et_Scaler': 'log', 'et_max_depth': 43, 'et_ne': 414, 'rf_features': 20, 'rf_Scaler': 'minmax', 'rf_max_depth': 7, 'rf_ne': 327, 'rf_cw': 'balanced_subsample'}. Best is trial#561 with value: 0.9989596337910944.\n"
          ],
          "name": "stderr"
        },
        {
          "output_type": "stream",
          "text": [
            "('knn', 'et', 'gbm')\n"
          ],
          "name": "stdout"
        },
        {
          "output_type": "stream",
          "text": [
            "[I 2020-07-13 12:24:02,475] Finished trial#793 with value: 0.9927174365376613 with parameters: {'combos': 77, 'knn_features': 7, 'knn_Scaler': 'stand', 'knn_nn': 1, 'knn_p': 1, 'et_features': 6, 'et_Scaler': 'stand', 'et_max_depth': 72, 'et_ne': 351, 'gbm_features': 11, 'gbm_Scaler': 'stand', 'lambda_l1': 0.0003437704939737042, 'lambda_l2': 2.3717338768885365e-06, 'num_leaves': 152, 'feature_fraction': 0.9625751773523922, 'bagging_fraction': 0.9483297132485046, 'bagging_freq': 3, 'min_child_samples': 8}. Best is trial#561 with value: 0.9989596337910944.\n"
          ],
          "name": "stderr"
        },
        {
          "output_type": "stream",
          "text": [
            "('knn', 'ada', 'et')\n"
          ],
          "name": "stdout"
        },
        {
          "output_type": "stream",
          "text": [
            "[I 2020-07-13 12:24:04,786] Finished trial#794 with value: 0.9929255097794424 with parameters: {'combos': 71, 'knn_features': 7, 'knn_Scaler': 'stand', 'knn_nn': 4, 'knn_p': 1, 'ada_features': 13, 'ada_Scaler': 'log', 'ada_ne': 478, 'ada_lr': 0.5112647677474426, 'ada_algo': 'SAMME', 'et_features': 11, 'et_Scaler': 'minmax', 'et_max_depth': 20, 'et_ne': 219}. Best is trial#561 with value: 0.9989596337910944.\n"
          ],
          "name": "stderr"
        },
        {
          "output_type": "stream",
          "text": [
            "('knn', 'gnb', 'gbm')\n"
          ],
          "name": "stdout"
        },
        {
          "output_type": "stream",
          "text": [
            "[I 2020-07-13 12:24:05,617] Finished trial#795 with value: 0.9947981689554724 with parameters: {'combos': 65, 'knn_features': 9, 'knn_Scaler': 'stand', 'knn_nn': 3, 'knn_p': 1, 'gnb_features': 15, 'gnb_Scaler': 'minmax', 'gnb_vs': 1.28804063147815e-17, 'gbm_features': 4, 'gbm_Scaler': 'stand', 'lambda_l1': 0.01418538536366752, 'lambda_l2': 1.256319646825449e-07, 'num_leaves': 63, 'feature_fraction': 0.7058907377106648, 'bagging_fraction': 0.7409999308355046, 'bagging_freq': 4, 'min_child_samples': 10}. Best is trial#561 with value: 0.9989596337910944.\n"
          ],
          "name": "stderr"
        },
        {
          "output_type": "stream",
          "text": [
            "('svc', 'gp', 'gnb')\n"
          ],
          "name": "stdout"
        },
        {
          "output_type": "stream",
          "text": [
            "[I 2020-07-13 12:24:07,898] Finished trial#796 with value: 0.9923012900540991 with parameters: {'combos': 81, 'svc_features': 14, 'svc_Scaler': 'log', 'svc_kern': 'rbf', 'svc_C': 0.0009626009034889336, 'svc_deg': 10, 'gp_features': 8, 'gp_Scaler': 'stand', 'gp_a': 1.1754738148292978, 'gp_kern': 7, 'gnb_features': 14, 'gnb_Scaler': 'stand', 'gnb_vs': 1.221545425442517e-10}. Best is trial#561 with value: 0.9989596337910944.\n"
          ],
          "name": "stderr"
        },
        {
          "output_type": "stream",
          "text": [
            "('knn', 'qda', 'rf')\n"
          ],
          "name": "stdout"
        },
        {
          "output_type": "stream",
          "text": [
            "/usr/local/lib/python3.6/dist-packages/sklearn/discriminant_analysis.py:691: UserWarning:\n",
            "\n",
            "Variables are collinear\n",
            "\n",
            "[I 2020-07-13 12:24:09,851] Finished trial#797 with value: 0.985330836454432 with parameters: {'combos': 68, 'knn_features': 6, 'knn_Scaler': 'stand', 'knn_nn': 2, 'knn_p': 1, 'qda_features': 16, 'qda_Scaler': 'stand', 'qda_rp': 4.566870607078851e-09, 'rf_features': 10, 'rf_Scaler': 'stand', 'rf_max_depth': 53, 'rf_ne': 489, 'rf_cw': 'balanced'}. Best is trial#561 with value: 0.9989596337910944.\n"
          ],
          "name": "stderr"
        },
        {
          "output_type": "stream",
          "text": [
            "('knn', 'ada', 'xgb')\n"
          ],
          "name": "stdout"
        },
        {
          "output_type": "stream",
          "text": [
            "[I 2020-07-13 12:24:12,028] Finished trial#798 with value: 0.9985434873075323 with parameters: {'combos': 73, 'knn_features': 8, 'knn_Scaler': 'stand', 'knn_nn': 3, 'knn_p': 1, 'ada_features': 14, 'ada_Scaler': 'log', 'ada_ne': 489, 'ada_lr': 0.5018043084934867, 'ada_algo': 'SAMME', 'xgb_features': 8, 'xgb_Scaler': 'stand', 'booster': 'gbtree', 'lambda': 0.2735406747667664, 'alpha': 0.47698407814286803, 'max_depth': 24, 'eta': 1.0370528714113801e-05, 'gamma': 0.004392828621445747, 'grow_policy': 'depthwise'}. Best is trial#561 with value: 0.9989596337910944.\n"
          ],
          "name": "stderr"
        },
        {
          "output_type": "stream",
          "text": [
            "('mlp', 'svc', 'gbm')\n"
          ],
          "name": "stdout"
        },
        {
          "output_type": "stream",
          "text": [
            "/usr/local/lib/python3.6/dist-packages/sklearn/neural_network/_multilayer_perceptron.py:571: ConvergenceWarning:\n",
            "\n",
            "Stochastic Optimizer: Maximum iterations (300) reached and the optimization hasn't converged yet.\n",
            "\n",
            "[I 2020-07-13 12:24:13,520] Setting status of trial#799 as TrialState.PRUNED. Trial was pruned at iteration 11.\n"
          ],
          "name": "stderr"
        },
        {
          "output_type": "stream",
          "text": [
            "('knn', 'gnb', 'xgb')\n"
          ],
          "name": "stdout"
        },
        {
          "output_type": "stream",
          "text": [
            "[I 2020-07-13 12:24:14,322] Finished trial#800 with value: 0.9902205576362879 with parameters: {'combos': 64, 'knn_features': 8, 'knn_Scaler': 'stand', 'knn_nn': 2, 'knn_p': 1, 'gnb_features': 6, 'gnb_Scaler': 'stand', 'gnb_vs': 8.443685469906546e-07, 'xgb_features': 9, 'xgb_Scaler': 'stand', 'booster': 'gbtree', 'lambda': 0.17982455894641972, 'alpha': 0.3908666228295865, 'max_depth': 19, 'eta': 1.5161188801331588e-05, 'gamma': 0.0070070202635242555, 'grow_policy': 'depthwise'}. Best is trial#561 with value: 0.9989596337910944.\n"
          ],
          "name": "stderr"
        },
        {
          "output_type": "stream",
          "text": [
            "('mlp', 'ada', 'rf')\n"
          ],
          "name": "stdout"
        },
        {
          "output_type": "stream",
          "text": [
            "[I 2020-07-13 12:24:17,881] Finished trial#801 with value: 0.994173949230129 with parameters: {'combos': 36, 'mlp_features': 16, 'mlp_Scaler': 'minmax', 'mlp_alpha': 2.966868353120388e-05, 'ada_features': 14, 'ada_Scaler': 'log', 'ada_ne': 469, 'ada_lr': 0.5499508285018719, 'ada_algo': 'SAMME', 'rf_features': 18, 'rf_Scaler': 'log', 'rf_max_depth': 75, 'rf_ne': 232, 'rf_cw': 'balanced_subsample'}. Best is trial#561 with value: 0.9989596337910944.\n"
          ],
          "name": "stderr"
        },
        {
          "output_type": "stream",
          "text": [
            "('knn', 'ada', 'et')\n"
          ],
          "name": "stdout"
        },
        {
          "output_type": "stream",
          "text": [
            "[I 2020-07-13 12:24:20,116] Finished trial#802 with value: 0.9968789013732834 with parameters: {'combos': 71, 'knn_features': 9, 'knn_Scaler': 'stand', 'knn_nn': 2, 'knn_p': 1, 'ada_features': 15, 'ada_Scaler': 'log', 'ada_ne': 483, 'ada_lr': 0.559826897557916, 'ada_algo': 'SAMME', 'et_features': 9, 'et_Scaler': 'log', 'et_max_depth': 32, 'et_ne': 114}. Best is trial#561 with value: 0.9989596337910944.\n"
          ],
          "name": "stderr"
        },
        {
          "output_type": "stream",
          "text": [
            "('knn', 'et', 'gbm')\n"
          ],
          "name": "stdout"
        },
        {
          "output_type": "stream",
          "text": [
            "[I 2020-07-13 12:24:20,730] Setting status of trial#803 as TrialState.PRUNED. Trial was pruned at iteration 11.\n"
          ],
          "name": "stderr"
        },
        {
          "output_type": "stream",
          "text": [
            "('knn', 'ada', 'gbm')\n"
          ],
          "name": "stdout"
        },
        {
          "output_type": "stream",
          "text": [
            "[I 2020-07-13 12:24:23,007] Finished trial#804 with value: 0.9964627548897212 with parameters: {'combos': 74, 'knn_features': 8, 'knn_Scaler': 'stand', 'knn_nn': 1, 'knn_p': 1, 'ada_features': 13, 'ada_Scaler': 'log', 'ada_ne': 442, 'ada_lr': 0.09041815018308844, 'ada_algo': 'SAMME', 'gbm_features': 8, 'gbm_Scaler': 'stand', 'lambda_l1': 0.0002537068415119486, 'lambda_l2': 5.004918758511789e-06, 'num_leaves': 164, 'feature_fraction': 0.9352800578727745, 'bagging_fraction': 0.9288284651119818, 'bagging_freq': 3, 'min_child_samples': 11}. Best is trial#561 with value: 0.9989596337910944.\n"
          ],
          "name": "stderr"
        },
        {
          "output_type": "stream",
          "text": [
            "('svc', 'gp', 'et')\n"
          ],
          "name": "stdout"
        },
        {
          "output_type": "stream",
          "text": [
            "[I 2020-07-13 12:24:25,782] Finished trial#805 with value: 0.9893882646691635 with parameters: {'combos': 84, 'svc_features': 16, 'svc_Scaler': 'log', 'svc_kern': 'poly', 'svc_C': 1.033997217570888, 'svc_deg': 7, 'gp_features': 12, 'gp_Scaler': 'log', 'gp_a': 0.06568575099461475, 'gp_kern': 9, 'et_features': 19, 'et_Scaler': 'minmax', 'et_max_depth': 100, 'et_ne': 440}. Best is trial#561 with value: 0.9989596337910944.\n"
          ],
          "name": "stderr"
        },
        {
          "output_type": "stream",
          "text": [
            "('knn', 'qda', 'et')\n"
          ],
          "name": "stdout"
        },
        {
          "output_type": "stream",
          "text": [
            "/usr/local/lib/python3.6/dist-packages/sklearn/discriminant_analysis.py:691: UserWarning:\n",
            "\n",
            "Variables are collinear\n",
            "\n",
            "[I 2020-07-13 12:24:26,712] Finished trial#806 with value: 0.9950062421972535 with parameters: {'combos': 67, 'knn_features': 9, 'knn_Scaler': 'stand', 'knn_nn': 4, 'knn_p': 1, 'qda_features': 15, 'qda_Scaler': 'minmax', 'qda_rp': 1.6177018212537126e-19, 'et_features': 0, 'et_Scaler': 'log', 'et_max_depth': 3, 'et_ne': 267}. Best is trial#561 with value: 0.9989596337910944.\n"
          ],
          "name": "stderr"
        },
        {
          "output_type": "stream",
          "text": [
            "('knn', 'xgb', 'gbm')\n"
          ],
          "name": "stdout"
        },
        {
          "output_type": "stream",
          "text": [
            "[I 2020-07-13 12:24:27,343] Setting status of trial#807 as TrialState.PRUNED. Trial was pruned at iteration 11.\n"
          ],
          "name": "stderr"
        },
        {
          "output_type": "stream",
          "text": [
            "('knn', 'qda', 'xgb')\n"
          ],
          "name": "stdout"
        },
        {
          "output_type": "stream",
          "text": [
            "/usr/local/lib/python3.6/dist-packages/sklearn/discriminant_analysis.py:691: UserWarning:\n",
            "\n",
            "Variables are collinear\n",
            "\n",
            "[I 2020-07-13 12:24:28,148] Finished trial#808 with value: 0.9901165210153975 with parameters: {'combos': 69, 'knn_features': 1, 'knn_Scaler': 'stand', 'knn_nn': 2, 'knn_p': 1, 'qda_features': 17, 'qda_Scaler': 'stand', 'qda_rp': 7.115529132204249e-15, 'xgb_features': 5, 'xgb_Scaler': 'stand', 'booster': 'gbtree', 'lambda': 0.13405419938273208, 'alpha': 0.6967608123367242, 'max_depth': 27, 'eta': 1.6135891924083983e-06, 'gamma': 0.006145197544698549, 'grow_policy': 'depthwise'}. Best is trial#561 with value: 0.9989596337910944.\n"
          ],
          "name": "stderr"
        },
        {
          "output_type": "stream",
          "text": [
            "('knn', 'ada', 'et')\n"
          ],
          "name": "stdout"
        },
        {
          "output_type": "stream",
          "text": [
            "[I 2020-07-13 12:24:30,291] Finished trial#809 with value: 0.9947981689554724 with parameters: {'combos': 71, 'knn_features': 8, 'knn_Scaler': 'minmax', 'knn_nn': 3, 'knn_p': 1, 'ada_features': 12, 'ada_Scaler': 'stand', 'ada_ne': 450, 'ada_lr': 0.4608851412941896, 'ada_algo': 'SAMME', 'et_features': 7, 'et_Scaler': 'stand', 'et_max_depth': 97, 'et_ne': 151}. Best is trial#561 with value: 0.9989596337910944.\n"
          ],
          "name": "stderr"
        },
        {
          "output_type": "stream",
          "text": [
            "('knn', 'et', 'xgb')\n"
          ],
          "name": "stdout"
        },
        {
          "output_type": "stream",
          "text": [
            "[I 2020-07-13 12:24:31,194] Finished trial#810 with value: 0.9909488139825219 with parameters: {'combos': 76, 'knn_features': 7, 'knn_Scaler': 'stand', 'knn_nn': 1, 'knn_p': 1, 'et_features': 12, 'et_Scaler': 'minmax', 'et_max_depth': 55, 'et_ne': 189, 'xgb_features': 6, 'xgb_Scaler': 'stand', 'booster': 'gbtree', 'lambda': 0.10139901510475488, 'alpha': 0.4911651378867438, 'max_depth': 26, 'eta': 2.2978255001974836e-06, 'gamma': 0.002258129886670714, 'grow_policy': 'depthwise'}. Best is trial#561 with value: 0.9989596337910944.\n"
          ],
          "name": "stderr"
        },
        {
          "output_type": "stream",
          "text": [
            "('knn', 'gnb', 'xgb')\n"
          ],
          "name": "stdout"
        },
        {
          "output_type": "stream",
          "text": [
            "[I 2020-07-13 12:24:31,892] Finished trial#811 with value: 0.9901165210153974 with parameters: {'combos': 64, 'knn_features': 8, 'knn_Scaler': 'stand', 'knn_nn': 1, 'knn_p': 1, 'gnb_features': 12, 'gnb_Scaler': 'stand', 'gnb_vs': 2.397946188645362e-13, 'xgb_features': 8, 'xgb_Scaler': 'stand', 'booster': 'gbtree', 'lambda': 0.27325076665610787, 'alpha': 0.24658950890859938, 'max_depth': 21, 'eta': 2.27705380062833e-05, 'gamma': 0.0018493420951742562, 'grow_policy': 'depthwise'}. Best is trial#561 with value: 0.9989596337910944.\n"
          ],
          "name": "stderr"
        },
        {
          "output_type": "stream",
          "text": [
            "('knn', 'ada', 'xgb')\n"
          ],
          "name": "stdout"
        },
        {
          "output_type": "stream",
          "text": [
            "[I 2020-07-13 12:24:33,851] Finished trial#812 with value: 0.9985434873075323 with parameters: {'combos': 73, 'knn_features': 9, 'knn_Scaler': 'stand', 'knn_nn': 1, 'knn_p': 1, 'ada_features': 14, 'ada_Scaler': 'log', 'ada_ne': 420, 'ada_lr': 0.6832276878894699, 'ada_algo': 'SAMME', 'xgb_features': 8, 'xgb_Scaler': 'stand', 'booster': 'gbtree', 'lambda': 0.2258953722268706, 'alpha': 0.4099673755978033, 'max_depth': 24, 'eta': 8.19470425479937e-06, 'gamma': 0.0024953567157971193, 'grow_policy': 'depthwise'}. Best is trial#561 with value: 0.9989596337910944.\n"
          ],
          "name": "stderr"
        },
        {
          "output_type": "stream",
          "text": [
            "('knn', 'rf', 'xgb')\n"
          ],
          "name": "stdout"
        },
        {
          "output_type": "stream",
          "text": [
            "[I 2020-07-13 12:24:35,021] Finished trial#813 with value: 0.9867873491468997 with parameters: {'combos': 78, 'knn_features': 8, 'knn_Scaler': 'stand', 'knn_nn': 2, 'knn_p': 1, 'rf_features': 9, 'rf_Scaler': 'minmax', 'rf_max_depth': 41, 'rf_ne': 135, 'rf_cw': 'balanced', 'xgb_features': 8, 'xgb_Scaler': 'log', 'booster': 'dart', 'lambda': 0.13385195807163786, 'alpha': 0.11962369294665079, 'max_depth': 24, 'eta': 0.28761519819587444, 'gamma': 0.011628394942946076, 'grow_policy': 'depthwise', 'sample_type': 'weighted', 'normalize_type': 'forest', 'rate_drop': 0.16372667720039147, 'skip_drop': 1.0308608385741978e-07}. Best is trial#561 with value: 0.9989596337910944.\n"
          ],
          "name": "stderr"
        },
        {
          "output_type": "stream",
          "text": [
            "('knn', 'et', 'rf')\n"
          ],
          "name": "stdout"
        },
        {
          "output_type": "stream",
          "text": [
            "[I 2020-07-13 12:24:36,622] Finished trial#814 with value: 0.9906367041198502 with parameters: {'combos': 75, 'knn_features': 1, 'knn_Scaler': 'stand', 'knn_nn': 4, 'knn_p': 1, 'et_features': 5, 'et_Scaler': 'log', 'et_max_depth': 47, 'et_ne': 469, 'rf_features': 19, 'rf_Scaler': 'stand', 'rf_max_depth': 48, 'rf_ne': 106, 'rf_cw': 'balanced_subsample'}. Best is trial#561 with value: 0.9989596337910944.\n"
          ],
          "name": "stderr"
        },
        {
          "output_type": "stream",
          "text": [
            "('knn', 'ada', 'rf')\n"
          ],
          "name": "stdout"
        },
        {
          "output_type": "stream",
          "text": [
            "[I 2020-07-13 12:24:39,570] Finished trial#815 with value: 0.9914689970869747 with parameters: {'combos': 72, 'knn_features': 8, 'knn_Scaler': 'stand', 'knn_nn': 4, 'knn_p': 1, 'ada_features': 13, 'ada_Scaler': 'minmax', 'ada_ne': 412, 'ada_lr': 0.46975839923676665, 'ada_algo': 'SAMME', 'rf_features': 1, 'rf_Scaler': 'log', 'rf_max_depth': 9, 'rf_ne': 385, 'rf_cw': 'balanced'}. Best is trial#561 with value: 0.9989596337910944.\n"
          ],
          "name": "stderr"
        },
        {
          "output_type": "stream",
          "text": [
            "('knn', 'qda', 'gbm')\n"
          ],
          "name": "stdout"
        },
        {
          "output_type": "stream",
          "text": [
            "/usr/local/lib/python3.6/dist-packages/sklearn/discriminant_analysis.py:691: UserWarning:\n",
            "\n",
            "Variables are collinear\n",
            "\n",
            "[I 2020-07-13 12:24:40,171] Setting status of trial#816 as TrialState.PRUNED. Trial was pruned at iteration 11.\n"
          ],
          "name": "stderr"
        },
        {
          "output_type": "stream",
          "text": [
            "('svc', 'gp', 'gnb')\n"
          ],
          "name": "stdout"
        },
        {
          "output_type": "stream",
          "text": [
            "[I 2020-07-13 12:24:42,323] Finished trial#817 with value: 0.9933416562630046 with parameters: {'combos': 81, 'svc_features': 11, 'svc_Scaler': 'stand', 'svc_kern': 'linear', 'svc_C': 2.962819307328579, 'svc_deg': 5, 'gp_features': 16, 'gp_Scaler': 'stand', 'gp_a': 0.2215319189376898, 'gp_kern': 4, 'gnb_features': 10, 'gnb_Scaler': 'minmax', 'gnb_vs': 1.582397327953672e-08}. Best is trial#561 with value: 0.9989596337910944.\n"
          ],
          "name": "stderr"
        },
        {
          "output_type": "stream",
          "text": [
            "('knn', 'rf', 'xgb')\n"
          ],
          "name": "stdout"
        },
        {
          "output_type": "stream",
          "text": [
            "[I 2020-07-13 12:24:43,587] Finished trial#818 with value: 0.991156887224303 with parameters: {'combos': 78, 'knn_features': 8, 'knn_Scaler': 'stand', 'knn_nn': 3, 'knn_p': 1, 'rf_features': 3, 'rf_Scaler': 'minmax', 'rf_max_depth': 14, 'rf_ne': 157, 'rf_cw': 'balanced_subsample', 'xgb_features': 7, 'xgb_Scaler': 'stand', 'booster': 'gbtree', 'lambda': 8.732358998874877e-07, 'alpha': 3.797214359284252e-05, 'max_depth': 16, 'eta': 3.099133650800088e-05, 'gamma': 0.004865968538563281, 'grow_policy': 'depthwise'}. Best is trial#561 with value: 0.9989596337910944.\n"
          ],
          "name": "stderr"
        },
        {
          "output_type": "stream",
          "text": [
            "('knn', 'qda', 'et')\n"
          ],
          "name": "stdout"
        },
        {
          "output_type": "stream",
          "text": [
            "/usr/local/lib/python3.6/dist-packages/sklearn/discriminant_analysis.py:691: UserWarning:\n",
            "\n",
            "Variables are collinear\n",
            "\n",
            "[I 2020-07-13 12:24:44,776] Finished trial#819 with value: 0.9956304619225967 with parameters: {'combos': 67, 'knn_features': 0, 'knn_Scaler': 'stand', 'knn_nn': 1, 'knn_p': 1, 'qda_features': 3, 'qda_Scaler': 'stand', 'qda_rp': 1.28920022666692e-13, 'et_features': 20, 'et_Scaler': 'stand', 'et_max_depth': 62, 'et_ne': 491}. Best is trial#561 with value: 0.9989596337910944.\n"
          ],
          "name": "stderr"
        },
        {
          "output_type": "stream",
          "text": [
            "('knn', 'gnb', 'gbm')\n"
          ],
          "name": "stdout"
        },
        {
          "output_type": "stream",
          "text": [
            "[I 2020-07-13 12:24:45,359] Setting status of trial#820 as TrialState.PRUNED. Trial was pruned at iteration 11.\n"
          ],
          "name": "stderr"
        },
        {
          "output_type": "stream",
          "text": [
            "('knn', 'qda', 'xgb')\n"
          ],
          "name": "stdout"
        },
        {
          "output_type": "stream",
          "text": [
            "/usr/local/lib/python3.6/dist-packages/sklearn/discriminant_analysis.py:691: UserWarning:\n",
            "\n",
            "Variables are collinear\n",
            "\n",
            "[I 2020-07-13 12:24:46,168] Finished trial#821 with value: 0.9912609238451935 with parameters: {'combos': 69, 'knn_features': 9, 'knn_Scaler': 'stand', 'knn_nn': 3, 'knn_p': 1, 'qda_features': 7, 'qda_Scaler': 'minmax', 'qda_rp': 3.2769625433421415e-20, 'xgb_features': 8, 'xgb_Scaler': 'stand', 'booster': 'gbtree', 'lambda': 0.13582112065659838, 'alpha': 0.3518529407129401, 'max_depth': 23, 'eta': 1.0287821242287626e-05, 'gamma': 0.005056945455799096, 'grow_policy': 'depthwise'}. Best is trial#561 with value: 0.9989596337910944.\n"
          ],
          "name": "stderr"
        },
        {
          "output_type": "stream",
          "text": [
            "('svc', 'gp', 'rf')\n"
          ],
          "name": "stdout"
        },
        {
          "output_type": "stream",
          "text": [
            "[I 2020-07-13 12:24:49,129] Finished trial#822 with value: 0.9935497295047857 with parameters: {'combos': 85, 'svc_features': 3, 'svc_Scaler': 'minmax', 'svc_kern': 'rbf', 'svc_C': 1.1935096319218069e-06, 'svc_deg': 2, 'gp_features': 19, 'gp_Scaler': 'minmax', 'gp_a': 3.487156582917277, 'gp_kern': 2, 'rf_features': 17, 'rf_Scaler': 'stand', 'rf_max_depth': 85, 'rf_ne': 204, 'rf_cw': 'balanced'}. Best is trial#561 with value: 0.9989596337910944.\n"
          ],
          "name": "stderr"
        },
        {
          "output_type": "stream",
          "text": [
            "('knn', 'et', 'xgb')\n"
          ],
          "name": "stdout"
        },
        {
          "output_type": "stream",
          "text": [
            "[I 2020-07-13 12:24:50,169] Finished trial#823 with value: 0.9901165210153974 with parameters: {'combos': 76, 'knn_features': 6, 'knn_Scaler': 'stand', 'knn_nn': 2, 'knn_p': 1, 'et_features': 13, 'et_Scaler': 'minmax', 'et_max_depth': 38, 'et_ne': 316, 'xgb_features': 9, 'xgb_Scaler': 'stand', 'booster': 'gbtree', 'lambda': 0.0772821437843092, 'alpha': 0.18104388995397122, 'max_depth': 29, 'eta': 3.938284353529983e-06, 'gamma': 0.0005458060228580729, 'grow_policy': 'depthwise'}. Best is trial#561 with value: 0.9989596337910944.\n"
          ],
          "name": "stderr"
        },
        {
          "output_type": "stream",
          "text": [
            "('knn', 'ada', 'gbm')\n"
          ],
          "name": "stdout"
        },
        {
          "output_type": "stream",
          "text": [
            "[I 2020-07-13 12:24:52,259] Setting status of trial#824 as TrialState.PRUNED. Trial was pruned at iteration 11.\n"
          ],
          "name": "stderr"
        },
        {
          "output_type": "stream",
          "text": [
            "('knn', 'ada', 'rf')\n"
          ],
          "name": "stdout"
        },
        {
          "output_type": "stream",
          "text": [
            "[I 2020-07-13 12:24:54,706] Finished trial#825 with value: 0.9977111943404078 with parameters: {'combos': 72, 'knn_features': 8, 'knn_Scaler': 'stand', 'knn_nn': 1, 'knn_p': 1, 'ada_features': 13, 'ada_Scaler': 'log', 'ada_ne': 490, 'ada_lr': 0.6572952824233519, 'ada_algo': 'SAMME', 'rf_features': 15, 'rf_Scaler': 'log', 'rf_max_depth': 82, 'rf_ne': 26, 'rf_cw': 'balanced_subsample'}. Best is trial#561 with value: 0.9989596337910944.\n"
          ],
          "name": "stderr"
        },
        {
          "output_type": "stream",
          "text": [
            "('svc', 'gp', 'gnb')\n"
          ],
          "name": "stdout"
        },
        {
          "output_type": "stream",
          "text": [
            "[I 2020-07-13 12:24:57,141] Finished trial#826 with value: 0.994173949230129 with parameters: {'combos': 81, 'svc_features': 7, 'svc_Scaler': 'log', 'svc_kern': 'sigmoid', 'svc_C': 1.8152716274347518e-05, 'svc_deg': 8, 'gp_features': 14, 'gp_Scaler': 'log', 'gp_a': 0.013151393564520306, 'gp_kern': 3, 'gnb_features': 8, 'gnb_Scaler': 'stand', 'gnb_vs': 1.0331533479505556e-14}. Best is trial#561 with value: 0.9989596337910944.\n"
          ],
          "name": "stderr"
        },
        {
          "output_type": "stream",
          "text": [
            "('knn', 'et', 'rf')\n"
          ],
          "name": "stdout"
        },
        {
          "output_type": "stream",
          "text": [
            "[I 2020-07-13 12:24:58,302] Finished trial#827 with value: 0.9891801914273824 with parameters: {'combos': 75, 'knn_features': 7, 'knn_Scaler': 'stand', 'knn_nn': 2, 'knn_p': 1, 'et_features': 3, 'et_Scaler': 'log', 'et_max_depth': 82, 'et_ne': 255, 'rf_features': 11, 'rf_Scaler': 'minmax', 'rf_max_depth': 88, 'rf_ne': 41, 'rf_cw': 'balanced'}. Best is trial#561 with value: 0.9989596337910944.\n"
          ],
          "name": "stderr"
        },
        {
          "output_type": "stream",
          "text": [
            "('knn', 'qda', 'rf')\n"
          ],
          "name": "stdout"
        },
        {
          "output_type": "stream",
          "text": [
            "/usr/local/lib/python3.6/dist-packages/sklearn/discriminant_analysis.py:691: UserWarning:\n",
            "\n",
            "Variables are collinear\n",
            "\n",
            "[I 2020-07-13 12:24:59,202] Finished trial#828 with value: 0.987411568872243 with parameters: {'combos': 68, 'knn_features': 6, 'knn_Scaler': 'stand', 'knn_nn': 26, 'knn_p': 1, 'qda_features': 11, 'qda_Scaler': 'log', 'qda_rp': 1.2231496152480158e-20, 'rf_features': 14, 'rf_Scaler': 'stand', 'rf_max_depth': 28, 'rf_ne': 11, 'rf_cw': 'balanced_subsample'}. Best is trial#561 with value: 0.9989596337910944.\n"
          ],
          "name": "stderr"
        },
        {
          "output_type": "stream",
          "text": [
            "('knn', 'et', 'xgb')\n"
          ],
          "name": "stdout"
        },
        {
          "output_type": "stream",
          "text": [
            "[I 2020-07-13 12:25:00,214] Finished trial#829 with value: 0.9940699126092384 with parameters: {'combos': 76, 'knn_features': 2, 'knn_Scaler': 'stand', 'knn_nn': 1, 'knn_p': 1, 'et_features': 1, 'et_Scaler': 'stand', 'et_max_depth': 24, 'et_ne': 281, 'xgb_features': 8, 'xgb_Scaler': 'stand', 'booster': 'gbtree', 'lambda': 0.040549862636154475, 'alpha': 0.15188423789082867, 'max_depth': 32, 'eta': 7.195938635979156e-07, 'gamma': 0.001204811008432765, 'grow_policy': 'depthwise'}. Best is trial#561 with value: 0.9989596337910944.\n"
          ],
          "name": "stderr"
        },
        {
          "output_type": "stream",
          "text": [
            "('knn', 'svc', 'qda')\n"
          ],
          "name": "stdout"
        },
        {
          "output_type": "stream",
          "text": [
            "/usr/local/lib/python3.6/dist-packages/sklearn/discriminant_analysis.py:691: UserWarning:\n",
            "\n",
            "Variables are collinear\n",
            "\n",
            "[I 2020-07-13 12:25:00,956] Finished trial#830 with value: 0.9925093632958801 with parameters: {'combos': 47, 'knn_features': 8, 'knn_Scaler': 'stand', 'knn_nn': 2, 'knn_p': 1, 'svc_features': 4, 'svc_Scaler': 'stand', 'svc_kern': 'poly', 'svc_C': 1.0619031758594094e-08, 'svc_deg': 10, 'qda_features': 12, 'qda_Scaler': 'stand', 'qda_rp': 0.014463299727123357}. Best is trial#561 with value: 0.9989596337910944.\n"
          ],
          "name": "stderr"
        },
        {
          "output_type": "stream",
          "text": [
            "('knn', 'rf', 'xgb')\n"
          ],
          "name": "stdout"
        },
        {
          "output_type": "stream",
          "text": [
            "[I 2020-07-13 12:25:02,710] Finished trial#831 with value: 0.9929255097794424 with parameters: {'combos': 78, 'knn_features': 8, 'knn_Scaler': 'stand', 'knn_nn': 2, 'knn_p': 1, 'rf_features': 8, 'rf_Scaler': 'log', 'rf_max_depth': 57, 'rf_ne': 403, 'rf_cw': 'balanced', 'xgb_features': 9, 'xgb_Scaler': 'stand', 'booster': 'gbtree', 'lambda': 0.4805298851253323, 'alpha': 0.24791210260864158, 'max_depth': 21, 'eta': 1.8156721646278142e-05, 'gamma': 0.008629227233010819, 'grow_policy': 'depthwise'}. Best is trial#561 with value: 0.9989596337910944.\n"
          ],
          "name": "stderr"
        },
        {
          "output_type": "stream",
          "text": [
            "('knn', 'ada', 'gbm')\n"
          ],
          "name": "stdout"
        },
        {
          "output_type": "stream",
          "text": [
            "[I 2020-07-13 12:25:05,097] Finished trial#832 with value: 0.9987515605493134 with parameters: {'combos': 74, 'knn_features': 8, 'knn_Scaler': 'stand', 'knn_nn': 2, 'knn_p': 1, 'ada_features': 14, 'ada_Scaler': 'log', 'ada_ne': 500, 'ada_lr': 0.6096466862339284, 'ada_algo': 'SAMME', 'gbm_features': 11, 'gbm_Scaler': 'stand', 'lambda_l1': 0.0006230835717520998, 'lambda_l2': 8.952625562257651e-07, 'num_leaves': 113, 'feature_fraction': 0.9200726183446913, 'bagging_fraction': 0.9732019248430552, 'bagging_freq': 3, 'min_child_samples': 9}. Best is trial#561 with value: 0.9989596337910944.\n"
          ],
          "name": "stderr"
        },
        {
          "output_type": "stream",
          "text": [
            "('knn', 'ada', 'rf')\n"
          ],
          "name": "stdout"
        },
        {
          "output_type": "stream",
          "text": [
            "[I 2020-07-13 12:25:08,271] Finished trial#833 with value: 0.9935497295047857 with parameters: {'combos': 72, 'knn_features': 9, 'knn_Scaler': 'stand', 'knn_nn': 4, 'knn_p': 1, 'ada_features': 14, 'ada_Scaler': 'log', 'ada_ne': 493, 'ada_lr': 0.5094594253092439, 'ada_algo': 'SAMME', 'rf_features': 0, 'rf_Scaler': 'minmax', 'rf_max_depth': 22, 'rf_ne': 357, 'rf_cw': 'balanced_subsample'}. Best is trial#561 with value: 0.9989596337910944.\n"
          ],
          "name": "stderr"
        },
        {
          "output_type": "stream",
          "text": [
            "('knn', 'ada', 'et')\n"
          ],
          "name": "stdout"
        },
        {
          "output_type": "stream",
          "text": [
            "[I 2020-07-13 12:25:10,488] Finished trial#834 with value: 0.9925093632958802 with parameters: {'combos': 71, 'knn_features': 8, 'knn_Scaler': 'stand', 'knn_nn': 1, 'knn_p': 1, 'ada_features': 15, 'ada_Scaler': 'log', 'ada_ne': 463, 'ada_lr': 0.750179722633536, 'ada_algo': 'SAMME', 'et_features': 2, 'et_Scaler': 'minmax', 'et_max_depth': 86, 'et_ne': 138}. Best is trial#561 with value: 0.9989596337910944.\n"
          ],
          "name": "stderr"
        },
        {
          "output_type": "stream",
          "text": [
            "('knn', 'rf', 'gbm')\n"
          ],
          "name": "stdout"
        },
        {
          "output_type": "stream",
          "text": [
            "[I 2020-07-13 12:25:11,445] Setting status of trial#835 as TrialState.PRUNED. Trial was pruned at iteration 11.\n"
          ],
          "name": "stderr"
        },
        {
          "output_type": "stream",
          "text": [
            "('knn', 'ada', 'gbm')\n"
          ],
          "name": "stdout"
        },
        {
          "output_type": "stream",
          "text": [
            "[I 2020-07-13 12:25:13,681] Finished trial#836 with value: 0.9987515605493134 with parameters: {'combos': 74, 'knn_features': 9, 'knn_Scaler': 'stand', 'knn_nn': 1, 'knn_p': 1, 'ada_features': 13, 'ada_Scaler': 'log', 'ada_ne': 433, 'ada_lr': 0.5967532420396024, 'ada_algo': 'SAMME', 'gbm_features': 5, 'gbm_Scaler': 'stand', 'lambda_l1': 0.0013868604852625825, 'lambda_l2': 5.4424968935492465e-08, 'num_leaves': 68, 'feature_fraction': 0.8994377479029441, 'bagging_fraction': 0.9994463513117166, 'bagging_freq': 3, 'min_child_samples': 14}. Best is trial#561 with value: 0.9989596337910944.\n"
          ],
          "name": "stderr"
        },
        {
          "output_type": "stream",
          "text": [
            "('svc', 'gp', 'ada')\n"
          ],
          "name": "stdout"
        },
        {
          "output_type": "stream",
          "text": [
            "[I 2020-07-13 12:25:17,950] Finished trial#837 with value: 0.9937578027465668 with parameters: {'combos': 83, 'svc_features': 9, 'svc_Scaler': 'minmax', 'svc_kern': 'linear', 'svc_C': 0.08251228169575792, 'svc_deg': 9, 'gp_features': 11, 'gp_Scaler': 'stand', 'gp_a': 0.0064394540165527816, 'gp_kern': 8, 'ada_features': 15, 'ada_Scaler': 'log', 'ada_ne': 484, 'ada_lr': 0.7222034839488086, 'ada_algo': 'SAMME'}. Best is trial#561 with value: 0.9989596337910944.\n"
          ],
          "name": "stderr"
        },
        {
          "output_type": "stream",
          "text": [
            "('knn', 'rf', 'gbm')\n"
          ],
          "name": "stdout"
        },
        {
          "output_type": "stream",
          "text": [
            "[I 2020-07-13 12:25:19,860] Finished trial#838 with value: 0.994173949230129 with parameters: {'combos': 79, 'knn_features': 9, 'knn_Scaler': 'stand', 'knn_nn': 2, 'knn_p': 1, 'rf_features': 7, 'rf_Scaler': 'log', 'rf_max_depth': 96, 'rf_ne': 340, 'rf_cw': 'balanced_subsample', 'gbm_features': 12, 'gbm_Scaler': 'stand', 'lambda_l1': 0.00010694866711119743, 'lambda_l2': 8.377433805352067e-07, 'num_leaves': 132, 'feature_fraction': 0.9135438915928045, 'bagging_fraction': 0.9842223072084669, 'bagging_freq': 3, 'min_child_samples': 9}. Best is trial#561 with value: 0.9989596337910944.\n"
          ],
          "name": "stderr"
        },
        {
          "output_type": "stream",
          "text": [
            "('knn', 'et', 'rf')\n"
          ],
          "name": "stdout"
        },
        {
          "output_type": "stream",
          "text": [
            "[I 2020-07-13 12:25:21,073] Finished trial#839 with value: 0.9885559717020391 with parameters: {'combos': 75, 'knn_features': 9, 'knn_Scaler': 'stand', 'knn_nn': 1, 'knn_p': 1, 'et_features': 8, 'et_Scaler': 'log', 'et_max_depth': 93, 'et_ne': 76, 'rf_features': 4, 'rf_Scaler': 'minmax', 'rf_max_depth': 35, 'rf_ne': 148, 'rf_cw': 'balanced'}. Best is trial#561 with value: 0.9989596337910944.\n"
          ],
          "name": "stderr"
        },
        {
          "output_type": "stream",
          "text": [
            "('knn', 'ada', 'rf')\n"
          ],
          "name": "stdout"
        },
        {
          "output_type": "stream",
          "text": [
            "[I 2020-07-13 12:25:24,362] Finished trial#840 with value: 0.9970869746150646 with parameters: {'combos': 72, 'knn_features': 9, 'knn_Scaler': 'stand', 'knn_nn': 1, 'knn_p': 1, 'ada_features': 14, 'ada_Scaler': 'log', 'ada_ne': 422, 'ada_lr': 0.6670767154200133, 'ada_algo': 'SAMME', 'rf_features': 13, 'rf_Scaler': 'stand', 'rf_max_depth': 45, 'rf_ne': 451, 'rf_cw': 'balanced_subsample'}. Best is trial#561 with value: 0.9989596337910944.\n"
          ],
          "name": "stderr"
        },
        {
          "output_type": "stream",
          "text": [
            "('svc', 'gp', 'qda')\n"
          ],
          "name": "stdout"
        },
        {
          "output_type": "stream",
          "text": [
            "/usr/local/lib/python3.6/dist-packages/sklearn/discriminant_analysis.py:691: UserWarning:\n",
            "\n",
            "Variables are collinear\n",
            "\n",
            "[I 2020-07-13 12:25:26,751] Finished trial#841 with value: 0.9927174365376613 with parameters: {'combos': 82, 'svc_features': 13, 'svc_Scaler': 'log', 'svc_kern': 'rbf', 'svc_C': 0.4818499674769626, 'svc_deg': 2, 'gp_features': 1, 'gp_Scaler': 'minmax', 'gp_a': 0.15693166516801638, 'gp_kern': 5, 'qda_features': 13, 'qda_Scaler': 'minmax', 'qda_rp': 4.3454151977468134e-18}. Best is trial#561 with value: 0.9989596337910944.\n"
          ],
          "name": "stderr"
        },
        {
          "output_type": "stream",
          "text": [
            "('knn', 'ada', 'gbm')\n"
          ],
          "name": "stdout"
        },
        {
          "output_type": "stream",
          "text": [
            "[I 2020-07-13 12:25:28,795] Finished trial#842 with value: 0.9987515605493134 with parameters: {'combos': 74, 'knn_features': 9, 'knn_Scaler': 'stand', 'knn_nn': 1, 'knn_p': 1, 'ada_features': 13, 'ada_Scaler': 'log', 'ada_ne': 404, 'ada_lr': 0.5941090488324129, 'ada_algo': 'SAMME', 'gbm_features': 9, 'gbm_Scaler': 'stand', 'lambda_l1': 0.003689823694896424, 'lambda_l2': 2.699896007623634e-08, 'num_leaves': 69, 'feature_fraction': 0.8901846306535917, 'bagging_fraction': 0.9448206251559362, 'bagging_freq': 3, 'min_child_samples': 11}. Best is trial#561 with value: 0.9989596337910944.\n"
          ],
          "name": "stderr"
        },
        {
          "output_type": "stream",
          "text": [
            "('knn', 'rf', 'xgb')\n"
          ],
          "name": "stdout"
        },
        {
          "output_type": "stream",
          "text": [
            "[I 2020-07-13 12:25:29,825] Finished trial#843 with value: 0.9875156054931336 with parameters: {'combos': 78, 'knn_features': 7, 'knn_Scaler': 'minmax', 'knn_nn': 1, 'knn_p': 1, 'rf_features': 5, 'rf_Scaler': 'log', 'rf_max_depth': 64, 'rf_ne': 63, 'rf_cw': 'balanced', 'xgb_features': 5, 'xgb_Scaler': 'stand', 'booster': 'gbtree', 'lambda': 0.8891222945105478, 'alpha': 0.22000903114884465, 'max_depth': 18, 'eta': 5.219392555512234e-05, 'gamma': 0.020298285741657957, 'grow_policy': 'lossguide'}. Best is trial#561 with value: 0.9989596337910944.\n"
          ],
          "name": "stderr"
        },
        {
          "output_type": "stream",
          "text": [
            "('knn', 'et', 'xgb')\n"
          ],
          "name": "stdout"
        },
        {
          "output_type": "stream",
          "text": [
            "[I 2020-07-13 12:25:30,743] Finished trial#844 with value: 0.986475239284228 with parameters: {'combos': 76, 'knn_features': 9, 'knn_Scaler': 'stand', 'knn_nn': 1, 'knn_p': 1, 'et_features': 19, 'et_Scaler': 'stand', 'et_max_depth': 34, 'et_ne': 202, 'xgb_features': 6, 'xgb_Scaler': 'log', 'booster': 'gbtree', 'lambda': 0.6757901985897735, 'alpha': 0.11005888678976412, 'max_depth': 88, 'eta': 1.348890227702778e-05, 'gamma': 0.01705255292041209, 'grow_policy': 'depthwise'}. Best is trial#561 with value: 0.9989596337910944.\n"
          ],
          "name": "stderr"
        },
        {
          "output_type": "stream",
          "text": [
            "('knn', 'et', 'rf')\n"
          ],
          "name": "stdout"
        },
        {
          "output_type": "stream",
          "text": [
            "[I 2020-07-13 12:25:33,208] Finished trial#845 with value: 0.9899084477736163 with parameters: {'combos': 75, 'knn_features': 9, 'knn_Scaler': 'stand', 'knn_nn': 2, 'knn_p': 1, 'et_features': 7, 'et_Scaler': 'minmax', 'et_max_depth': 51, 'et_ne': 393, 'rf_features': 17, 'rf_Scaler': 'minmax', 'rf_max_depth': 92, 'rf_ne': 473, 'rf_cw': 'balanced_subsample'}. Best is trial#561 with value: 0.9989596337910944.\n"
          ],
          "name": "stderr"
        },
        {
          "output_type": "stream",
          "text": [
            "('svc', 'gp', 'rf')\n"
          ],
          "name": "stdout"
        },
        {
          "output_type": "stream",
          "text": [
            "[I 2020-07-13 12:25:37,398] Finished trial#846 with value: 0.9912609238451935 with parameters: {'combos': 85, 'svc_features': 8, 'svc_Scaler': 'stand', 'svc_kern': 'sigmoid', 'svc_C': 8.076021345865465e-05, 'svc_deg': 3, 'gp_features': 17, 'gp_Scaler': 'log', 'gp_a': 0.0035784427861895018, 'gp_kern': 10, 'rf_features': 12, 'rf_Scaler': 'stand', 'rf_max_depth': 68, 'rf_ne': 500, 'rf_cw': 'balanced'}. Best is trial#561 with value: 0.9989596337910944.\n"
          ],
          "name": "stderr"
        },
        {
          "output_type": "stream",
          "text": [
            "('knn', 'qda', 'gbm')\n"
          ],
          "name": "stdout"
        },
        {
          "output_type": "stream",
          "text": [
            "/usr/local/lib/python3.6/dist-packages/sklearn/discriminant_analysis.py:691: UserWarning:\n",
            "\n",
            "Variables are collinear\n",
            "\n",
            "[I 2020-07-13 12:25:38,258] Finished trial#847 with value: 0.996046608406159 with parameters: {'combos': 70, 'knn_features': 9, 'knn_Scaler': 'stand', 'knn_nn': 1, 'knn_p': 1, 'qda_features': 8, 'qda_Scaler': 'log', 'qda_rp': 1.511622182471246e-07, 'gbm_features': 9, 'gbm_Scaler': 'stand', 'lambda_l1': 0.003926871207297504, 'lambda_l2': 4.83329531561836e-08, 'num_leaves': 69, 'feature_fraction': 0.8939007037164783, 'bagging_fraction': 0.9435754144065656, 'bagging_freq': 3, 'min_child_samples': 11}. Best is trial#561 with value: 0.9989596337910944.\n"
          ],
          "name": "stderr"
        },
        {
          "output_type": "stream",
          "text": [
            "('knn', 'rf', 'gbm')\n"
          ],
          "name": "stdout"
        },
        {
          "output_type": "stream",
          "text": [
            "[I 2020-07-13 12:25:39,909] Finished trial#848 with value: 0.993965875988348 with parameters: {'combos': 79, 'knn_features': 8, 'knn_Scaler': 'stand', 'knn_nn': 1, 'knn_p': 1, 'rf_features': 6, 'rf_Scaler': 'log', 'rf_max_depth': 16, 'rf_ne': 245, 'rf_cw': 'balanced_subsample', 'gbm_features': 5, 'gbm_Scaler': 'stand', 'lambda_l1': 0.0025767268571799656, 'lambda_l2': 2.8093466830283772e-08, 'num_leaves': 84, 'feature_fraction': 0.8693062631010925, 'bagging_fraction': 0.9326860656268535, 'bagging_freq': 3, 'min_child_samples': 12}. Best is trial#561 with value: 0.9989596337910944.\n"
          ],
          "name": "stderr"
        },
        {
          "output_type": "stream",
          "text": [
            "('knn', 'et', 'rf')\n"
          ],
          "name": "stdout"
        },
        {
          "output_type": "stream",
          "text": [
            "[I 2020-07-13 12:25:40,944] Finished trial#849 with value: 0.9895963379109447 with parameters: {'combos': 75, 'knn_features': 9, 'knn_Scaler': 'stand', 'knn_nn': 1, 'knn_p': 1, 'et_features': 18, 'et_Scaler': 'log', 'et_max_depth': 73, 'et_ne': 25, 'rf_features': 20, 'rf_Scaler': 'minmax', 'rf_max_depth': 4, 'rf_ne': 95, 'rf_cw': 'balanced'}. Best is trial#561 with value: 0.9989596337910944.\n"
          ],
          "name": "stderr"
        },
        {
          "output_type": "stream",
          "text": [
            "('knn', 'qda', 'xgb')\n"
          ],
          "name": "stdout"
        },
        {
          "output_type": "stream",
          "text": [
            "/usr/local/lib/python3.6/dist-packages/sklearn/discriminant_analysis.py:691: UserWarning:\n",
            "\n",
            "Variables are collinear\n",
            "\n",
            "[I 2020-07-13 12:25:41,631] Finished trial#850 with value: 0.9964627548897212 with parameters: {'combos': 69, 'knn_features': 9, 'knn_Scaler': 'stand', 'knn_nn': 3, 'knn_p': 1, 'qda_features': 9, 'qda_Scaler': 'stand', 'qda_rp': 0.09933943276682625, 'xgb_features': 8, 'xgb_Scaler': 'stand', 'booster': 'gblinear', 'lambda': 0.3894852364532558, 'alpha': 0.5029628383334962}. Best is trial#561 with value: 0.9989596337910944.\n"
          ],
          "name": "stderr"
        },
        {
          "output_type": "stream",
          "text": [
            "('knn', 'ada', 'xgb')\n"
          ],
          "name": "stdout"
        },
        {
          "output_type": "stream",
          "text": [
            "[I 2020-07-13 12:25:43,596] Finished trial#851 with value: 0.9985434873075323 with parameters: {'combos': 73, 'knn_features': 9, 'knn_Scaler': 'stand', 'knn_nn': 1, 'knn_p': 1, 'ada_features': 12, 'ada_Scaler': 'log', 'ada_ne': 430, 'ada_lr': 0.5928638194966143, 'ada_algo': 'SAMME', 'xgb_features': 5, 'xgb_Scaler': 'stand', 'booster': 'gbtree', 'lambda': 0.029296114986159277, 'alpha': 0.31261933229495237, 'max_depth': 50, 'eta': 1.4083993968333176e-06, 'gamma': 0.0007092114617512537, 'grow_policy': 'depthwise'}. Best is trial#561 with value: 0.9989596337910944.\n"
          ],
          "name": "stderr"
        },
        {
          "output_type": "stream",
          "text": [
            "('svc', 'gp', 'gnb')\n"
          ],
          "name": "stdout"
        },
        {
          "output_type": "stream",
          "text": [
            "[I 2020-07-13 12:25:46,059] Finished trial#852 with value: 0.9923012900540991 with parameters: {'combos': 81, 'svc_features': 20, 'svc_Scaler': 'minmax', 'svc_kern': 'poly', 'svc_C': 3.1608521616628366e-07, 'svc_deg': 4, 'gp_features': 20, 'gp_Scaler': 'stand', 'gp_a': 0.3253795126901966, 'gp_kern': 1, 'gnb_features': 1, 'gnb_Scaler': 'minmax', 'gnb_vs': 3.9607774520459996e-17}. Best is trial#561 with value: 0.9989596337910944.\n"
          ],
          "name": "stderr"
        },
        {
          "output_type": "stream",
          "text": [
            "('knn', 'et', 'gbm')\n"
          ],
          "name": "stdout"
        },
        {
          "output_type": "stream",
          "text": [
            "[I 2020-07-13 12:25:47,282] Finished trial#853 with value: 0.992093216812318 with parameters: {'combos': 77, 'knn_features': 0, 'knn_Scaler': 'stand', 'knn_nn': 1, 'knn_p': 1, 'et_features': 9, 'et_Scaler': 'stand', 'et_max_depth': 9, 'et_ne': 345, 'gbm_features': 8, 'gbm_Scaler': 'stand', 'lambda_l1': 0.00140493590317976, 'lambda_l2': 2.019849743063613e-07, 'num_leaves': 98, 'feature_fraction': 0.8859322961388916, 'bagging_fraction': 0.9577326816920557, 'bagging_freq': 3, 'min_child_samples': 10}. Best is trial#561 with value: 0.9989596337910944.\n"
          ],
          "name": "stderr"
        },
        {
          "output_type": "stream",
          "text": [
            "('knn', 'gnb', 'xgb')\n"
          ],
          "name": "stdout"
        },
        {
          "output_type": "stream",
          "text": [
            "[I 2020-07-13 12:25:47,985] Finished trial#854 with value: 0.9902205576362879 with parameters: {'combos': 64, 'knn_features': 9, 'knn_Scaler': 'stand', 'knn_nn': 1, 'knn_p': 1, 'gnb_features': 14, 'gnb_Scaler': 'stand', 'gnb_vs': 2.448018971167261e-05, 'xgb_features': 9, 'xgb_Scaler': 'stand', 'booster': 'gbtree', 'lambda': 0.5004479992464769, 'alpha': 0.09036562363918613, 'max_depth': 25, 'eta': 1.013838254578749e-05, 'gamma': 0.0002762393912499717, 'grow_policy': 'depthwise'}. Best is trial#561 with value: 0.9989596337910944.\n"
          ],
          "name": "stderr"
        },
        {
          "output_type": "stream",
          "text": [
            "('knn', 'ada', 'xgb')\n"
          ],
          "name": "stdout"
        },
        {
          "output_type": "stream",
          "text": [
            "[I 2020-07-13 12:25:50,105] Finished trial#855 with value: 0.9958385351643779 with parameters: {'combos': 73, 'knn_features': 8, 'knn_Scaler': 'stand', 'knn_nn': 31, 'knn_p': 1, 'ada_features': 15, 'ada_Scaler': 'log', 'ada_ne': 472, 'ada_lr': 0.6175753479962758, 'ada_algo': 'SAMME', 'xgb_features': 6, 'xgb_Scaler': 'stand', 'booster': 'gbtree', 'lambda': 0.9790892481507867, 'alpha': 0.5055481281687343, 'max_depth': 31, 'eta': 2.8037555817991756e-05, 'gamma': 0.000979545534915725, 'grow_policy': 'depthwise'}. Best is trial#561 with value: 0.9989596337910944.\n"
          ],
          "name": "stderr"
        },
        {
          "output_type": "stream",
          "text": [
            "('knn', 'qda', 'xgb')\n"
          ],
          "name": "stdout"
        },
        {
          "output_type": "stream",
          "text": [
            "/usr/local/lib/python3.6/dist-packages/sklearn/discriminant_analysis.py:691: UserWarning:\n",
            "\n",
            "Variables are collinear\n",
            "\n",
            "[I 2020-07-13 12:25:50,812] Finished trial#856 with value: 0.994173949230129 with parameters: {'combos': 69, 'knn_features': 7, 'knn_Scaler': 'stand', 'knn_nn': 3, 'knn_p': 1, 'qda_features': 19, 'qda_Scaler': 'minmax', 'qda_rp': 0.002816990388307269, 'xgb_features': 7, 'xgb_Scaler': 'stand', 'booster': 'gbtree', 'lambda': 0.26961485524588835, 'alpha': 0.9880058780471188, 'max_depth': 12, 'eta': 8.2413882644508e-06, 'gamma': 0.000363757331499913, 'grow_policy': 'depthwise'}. Best is trial#561 with value: 0.9989596337910944.\n"
          ],
          "name": "stderr"
        },
        {
          "output_type": "stream",
          "text": [
            "('knn', 'et', 'gbm')\n"
          ],
          "name": "stdout"
        },
        {
          "output_type": "stream",
          "text": [
            "[I 2020-07-13 12:25:52,189] Finished trial#857 with value: 0.9904286308780691 with parameters: {'combos': 77, 'knn_features': 18, 'knn_Scaler': 'stand', 'knn_nn': 2, 'knn_p': 1, 'et_features': 6, 'et_Scaler': 'minmax', 'et_max_depth': 12, 'et_ne': 480, 'gbm_features': 9, 'gbm_Scaler': 'stand', 'lambda_l1': 0.0006132052506954899, 'lambda_l2': 1.0206295491876766e-08, 'num_leaves': 93, 'feature_fraction': 0.9384778651576157, 'bagging_fraction': 0.9987711708967456, 'bagging_freq': 3, 'min_child_samples': 11}. Best is trial#561 with value: 0.9989596337910944.\n"
          ],
          "name": "stderr"
        },
        {
          "output_type": "stream",
          "text": [
            "('svc', 'gp', 'gnb')\n"
          ],
          "name": "stdout"
        },
        {
          "output_type": "stream",
          "text": [
            "[I 2020-07-13 12:25:54,961] Finished trial#858 with value: 0.9937578027465668 with parameters: {'combos': 81, 'svc_features': 1, 'svc_Scaler': 'log', 'svc_kern': 'linear', 'svc_C': 4.454567483067747e-08, 'svc_deg': 6, 'gp_features': 18, 'gp_Scaler': 'minmax', 'gp_a': 2.2899792452684804, 'gp_kern': 6, 'gnb_features': 0, 'gnb_Scaler': 'log', 'gnb_vs': 1.574737831077888e-20}. Best is trial#561 with value: 0.9989596337910944.\n"
          ],
          "name": "stderr"
        },
        {
          "output_type": "stream",
          "text": [
            "('knn', 'gnb', 'xgb')\n"
          ],
          "name": "stdout"
        },
        {
          "output_type": "stream",
          "text": [
            "[I 2020-07-13 12:25:55,675] Finished trial#859 with value: 0.9902205576362879 with parameters: {'combos': 64, 'knn_features': 10, 'knn_Scaler': 'stand', 'knn_nn': 2, 'knn_p': 1, 'gnb_features': 5, 'gnb_Scaler': 'stand', 'gnb_vs': 3.3361796509405493e-07, 'xgb_features': 8, 'xgb_Scaler': 'stand', 'booster': 'dart', 'lambda': 0.35141380686672435, 'alpha': 0.17697455966042672, 'max_depth': 15, 'eta': 9.89672325654814e-06, 'gamma': 0.012013284049044915, 'grow_policy': 'depthwise', 'sample_type': 'uniform', 'normalize_type': 'tree', 'rate_drop': 0.000271794881778808, 'skip_drop': 1.54509459772911e-05}. Best is trial#561 with value: 0.9989596337910944.\n"
          ],
          "name": "stderr"
        },
        {
          "output_type": "stream",
          "text": [
            "('knn', 'qda', 'et')\n"
          ],
          "name": "stdout"
        },
        {
          "output_type": "stream",
          "text": [
            "/usr/local/lib/python3.6/dist-packages/sklearn/discriminant_analysis.py:691: UserWarning:\n",
            "\n",
            "Variables are collinear\n",
            "\n",
            "[I 2020-07-13 12:25:56,672] Finished trial#860 with value: 0.9954223886808156 with parameters: {'combos': 67, 'knn_features': 1, 'knn_Scaler': 'stand', 'knn_nn': 3, 'knn_p': 1, 'qda_features': 18, 'qda_Scaler': 'log', 'qda_rp': 5.307142087104525e-05, 'et_features': 15, 'et_Scaler': 'log', 'et_max_depth': 88, 'et_ne': 299}. Best is trial#561 with value: 0.9989596337910944.\n"
          ],
          "name": "stderr"
        },
        {
          "output_type": "stream",
          "text": [
            "('knn', 'qda', 'ada')\n"
          ],
          "name": "stdout"
        },
        {
          "output_type": "stream",
          "text": [
            "/usr/local/lib/python3.6/dist-packages/sklearn/discriminant_analysis.py:691: UserWarning:\n",
            "\n",
            "Variables are collinear\n",
            "\n",
            "[I 2020-07-13 12:25:58,663] Finished trial#861 with value: 0.9981273408239701 with parameters: {'combos': 66, 'knn_features': 6, 'knn_Scaler': 'stand', 'knn_nn': 1, 'knn_p': 1, 'qda_features': 2, 'qda_Scaler': 'stand', 'qda_rp': 2.5019854074150216e-14, 'ada_features': 12, 'ada_Scaler': 'log', 'ada_ne': 436, 'ada_lr': 0.5852821714467026, 'ada_algo': 'SAMME'}. Best is trial#561 with value: 0.9989596337910944.\n"
          ],
          "name": "stderr"
        },
        {
          "output_type": "stream",
          "text": [
            "('knn', 'et', 'rf')\n"
          ],
          "name": "stdout"
        },
        {
          "output_type": "stream",
          "text": [
            "[I 2020-07-13 12:26:00,639] Finished trial#862 with value: 0.9860590928006657 with parameters: {'combos': 75, 'knn_features': 9, 'knn_Scaler': 'stand', 'knn_nn': 2, 'knn_p': 1, 'et_features': 11, 'et_Scaler': 'stand', 'et_max_depth': 66, 'et_ne': 49, 'rf_features': 10, 'rf_Scaler': 'stand', 'rf_max_depth': 56, 'rf_ne': 413, 'rf_cw': 'balanced_subsample'}. Best is trial#561 with value: 0.9989596337910944.\n"
          ],
          "name": "stderr"
        },
        {
          "output_type": "stream",
          "text": [
            "('knn', 'ada', 'et')\n"
          ],
          "name": "stdout"
        },
        {
          "output_type": "stream",
          "text": [
            "[I 2020-07-13 12:26:02,990] Finished trial#863 with value: 0.9933416562630046 with parameters: {'combos': 71, 'knn_features': 8, 'knn_Scaler': 'stand', 'knn_nn': 1, 'knn_p': 1, 'ada_features': 13, 'ada_Scaler': 'log', 'ada_ne': 410, 'ada_lr': 0.6279634435016991, 'ada_algo': 'SAMME', 'et_features': 0, 'et_Scaler': 'minmax', 'et_max_depth': 77, 'et_ne': 449}. Best is trial#561 with value: 0.9989596337910944.\n"
          ],
          "name": "stderr"
        },
        {
          "output_type": "stream",
          "text": [
            "('knn', 'ada', 'et')\n"
          ],
          "name": "stdout"
        },
        {
          "output_type": "stream",
          "text": [
            "[I 2020-07-13 12:26:05,346] Finished trial#864 with value: 0.9970869746150646 with parameters: {'combos': 71, 'knn_features': 7, 'knn_Scaler': 'stand', 'knn_nn': 2, 'knn_p': 1, 'ada_features': 13, 'ada_Scaler': 'log', 'ada_ne': 500, 'ada_lr': 0.5736300440657132, 'ada_algo': 'SAMME', 'et_features': 4, 'et_Scaler': 'log', 'et_max_depth': 41, 'et_ne': 180}. Best is trial#561 with value: 0.9989596337910944.\n"
          ],
          "name": "stderr"
        },
        {
          "output_type": "stream",
          "text": [
            "('svc', 'gp', 'gbm')\n"
          ],
          "name": "stdout"
        },
        {
          "output_type": "stream",
          "text": [
            "[I 2020-07-13 12:26:07,464] Setting status of trial#865 as TrialState.PRUNED. Trial was pruned at iteration 11.\n"
          ],
          "name": "stderr"
        },
        {
          "output_type": "stream",
          "text": [
            "('knn', 'rf', 'gbm')\n"
          ],
          "name": "stdout"
        },
        {
          "output_type": "stream",
          "text": [
            "[I 2020-07-13 12:26:08,981] Setting status of trial#866 as TrialState.PRUNED. Trial was pruned at iteration 11.\n"
          ],
          "name": "stderr"
        },
        {
          "output_type": "stream",
          "text": [
            "('knn', 'ada', 'xgb')\n"
          ],
          "name": "stdout"
        },
        {
          "output_type": "stream",
          "text": [
            "[I 2020-07-13 12:26:11,252] Finished trial#867 with value: 0.9985434873075323 with parameters: {'combos': 73, 'knn_features': 8, 'knn_Scaler': 'stand', 'knn_nn': 3, 'knn_p': 1, 'ada_features': 14, 'ada_Scaler': 'log', 'ada_ne': 484, 'ada_lr': 0.5709455063907722, 'ada_algo': 'SAMME', 'xgb_features': 7, 'xgb_Scaler': 'stand', 'booster': 'gbtree', 'lambda': 0.1686955824876966, 'alpha': 0.4031355341446228, 'max_depth': 23, 'eta': 1.0639611963059948e-06, 'gamma': 0.0038870652942298444, 'grow_policy': 'depthwise'}. Best is trial#561 with value: 0.9989596337910944.\n"
          ],
          "name": "stderr"
        },
        {
          "output_type": "stream",
          "text": [
            "('knn', 'ada', 'gbm')\n"
          ],
          "name": "stdout"
        },
        {
          "output_type": "stream",
          "text": [
            "[I 2020-07-13 12:26:13,478] Finished trial#868 with value: 0.9987515605493134 with parameters: {'combos': 74, 'knn_features': 8, 'knn_Scaler': 'stand', 'knn_nn': 1, 'knn_p': 1, 'ada_features': 16, 'ada_Scaler': 'log', 'ada_ne': 458, 'ada_lr': 0.6811823817645054, 'ada_algo': 'SAMME', 'gbm_features': 7, 'gbm_Scaler': 'stand', 'lambda_l1': 0.002862919892056893, 'lambda_l2': 1.0405655210551732e-07, 'num_leaves': 59, 'feature_fraction': 0.8351395923414299, 'bagging_fraction': 0.9923949796559514, 'bagging_freq': 3, 'min_child_samples': 13}. Best is trial#561 with value: 0.9989596337910944.\n"
          ],
          "name": "stderr"
        },
        {
          "output_type": "stream",
          "text": [
            "('knn', 'et', 'gbm')\n"
          ],
          "name": "stdout"
        },
        {
          "output_type": "stream",
          "text": [
            "[I 2020-07-13 12:26:14,751] Finished trial#869 with value: 0.9962546816479401 with parameters: {'combos': 77, 'knn_features': 9, 'knn_Scaler': 'stand', 'knn_nn': 3, 'knn_p': 1, 'et_features': 16, 'et_Scaler': 'stand', 'et_max_depth': 53, 'et_ne': 374, 'gbm_features': 7, 'gbm_Scaler': 'stand', 'lambda_l1': 0.002896594737744691, 'lambda_l2': 8.909130794839017e-08, 'num_leaves': 46, 'feature_fraction': 0.8592320395292972, 'bagging_fraction': 0.9920296762854754, 'bagging_freq': 3, 'min_child_samples': 13}. Best is trial#561 with value: 0.9989596337910944.\n"
          ],
          "name": "stderr"
        },
        {
          "output_type": "stream",
          "text": [
            "('knn', 'qda', 'gbm')\n"
          ],
          "name": "stdout"
        },
        {
          "output_type": "stream",
          "text": [
            "/usr/local/lib/python3.6/dist-packages/sklearn/discriminant_analysis.py:691: UserWarning:\n",
            "\n",
            "Variables are collinear\n",
            "\n",
            "[I 2020-07-13 12:26:15,618] Finished trial#870 with value: 0.9970869746150646 with parameters: {'combos': 70, 'knn_features': 8, 'knn_Scaler': 'stand', 'knn_nn': 2, 'knn_p': 1, 'qda_features': 6, 'qda_Scaler': 'minmax', 'qda_rp': 2.4725311615708347e-08, 'gbm_features': 8, 'gbm_Scaler': 'stand', 'lambda_l1': 0.0014403452360294286, 'lambda_l2': 5.673901290182736e-08, 'num_leaves': 73, 'feature_fraction': 0.8405432027969212, 'bagging_fraction': 0.9985002283816653, 'bagging_freq': 3, 'min_child_samples': 13}. Best is trial#561 with value: 0.9989596337910944.\n"
          ],
          "name": "stderr"
        },
        {
          "output_type": "stream",
          "text": [
            "('svc', 'gp', 'ada')\n"
          ],
          "name": "stdout"
        },
        {
          "output_type": "stream",
          "text": [
            "[I 2020-07-13 12:26:19,523] Finished trial#871 with value: 0.9933416562630046 with parameters: {'combos': 83, 'svc_features': 12, 'svc_Scaler': 'minmax', 'svc_kern': 'sigmoid', 'svc_C': 0.0023063327836122397, 'svc_deg': 3, 'gp_features': 6, 'gp_Scaler': 'stand', 'gp_a': 7.361085183081746, 'gp_kern': 2, 'ada_features': 14, 'ada_Scaler': 'log', 'ada_ne': 492, 'ada_lr': 0.5162789706885601, 'ada_algo': 'SAMME'}. Best is trial#561 with value: 0.9989596337910944.\n"
          ],
          "name": "stderr"
        },
        {
          "output_type": "stream",
          "text": [
            "('knn', 'qda', 'ada')\n"
          ],
          "name": "stdout"
        },
        {
          "output_type": "stream",
          "text": [
            "[I 2020-07-13 12:26:21,378] Finished trial#872 with value: 0.9914689970869747 with parameters: {'combos': 66, 'knn_features': 10, 'knn_Scaler': 'stand', 'knn_nn': 1, 'knn_p': 1, 'qda_features': 4, 'qda_Scaler': 'log', 'qda_rp': 0.04202039702776453, 'ada_features': 13, 'ada_Scaler': 'log', 'ada_ne': 403, 'ada_lr': 0.6917027998167871, 'ada_algo': 'SAMME'}. Best is trial#561 with value: 0.9989596337910944.\n"
          ],
          "name": "stderr"
        },
        {
          "output_type": "stream",
          "text": [
            "('knn', 'ada', 'gbm')\n"
          ],
          "name": "stdout"
        },
        {
          "output_type": "stream",
          "text": [
            "[I 2020-07-13 12:26:23,545] Finished trial#873 with value: 0.9987515605493134 with parameters: {'combos': 74, 'knn_features': 9, 'knn_Scaler': 'stand', 'knn_nn': 2, 'knn_p': 1, 'ada_features': 16, 'ada_Scaler': 'log', 'ada_ne': 439, 'ada_lr': 0.6065115891599722, 'ada_algo': 'SAMME', 'gbm_features': 6, 'gbm_Scaler': 'stand', 'lambda_l1': 0.005830008190681936, 'lambda_l2': 1.5867712371912326e-08, 'num_leaves': 57, 'feature_fraction': 0.8123506310921718, 'bagging_fraction': 0.9999407966926626, 'bagging_freq': 3, 'min_child_samples': 14}. Best is trial#561 with value: 0.9989596337910944.\n"
          ],
          "name": "stderr"
        },
        {
          "output_type": "stream",
          "text": [
            "('knn', 'rf', 'gbm')\n"
          ],
          "name": "stdout"
        },
        {
          "output_type": "stream",
          "text": [
            "[I 2020-07-13 12:26:24,592] Setting status of trial#874 as TrialState.PRUNED. Trial was pruned at iteration 11.\n"
          ],
          "name": "stderr"
        },
        {
          "output_type": "stream",
          "text": [
            "('knn', 'et', 'rf')\n"
          ],
          "name": "stdout"
        },
        {
          "output_type": "stream",
          "text": [
            "[I 2020-07-13 12:26:26,543] Finished trial#875 with value: 0.9889721181856014 with parameters: {'combos': 75, 'knn_features': 7, 'knn_Scaler': 'stand', 'knn_nn': 1, 'knn_p': 1, 'et_features': 8, 'et_Scaler': 'minmax', 'et_max_depth': 15, 'et_ne': 235, 'rf_features': 9, 'rf_Scaler': 'stand', 'rf_max_depth': 50, 'rf_ne': 375, 'rf_cw': 'balanced'}. Best is trial#561 with value: 0.9989596337910944.\n"
          ],
          "name": "stderr"
        },
        {
          "output_type": "stream",
          "text": [
            "('knn', 'qda', 'gbm')\n"
          ],
          "name": "stdout"
        },
        {
          "output_type": "stream",
          "text": [
            "/usr/local/lib/python3.6/dist-packages/sklearn/discriminant_analysis.py:691: UserWarning:\n",
            "\n",
            "Variables are collinear\n",
            "\n",
            "[I 2020-07-13 12:26:27,401] Finished trial#876 with value: 0.996046608406159 with parameters: {'combos': 70, 'knn_features': 8, 'knn_Scaler': 'minmax', 'knn_nn': 1, 'knn_p': 1, 'qda_features': 5, 'qda_Scaler': 'stand', 'qda_rp': 5.0769452903846507e-11, 'gbm_features': 7, 'gbm_Scaler': 'stand', 'lambda_l1': 0.005637612902424125, 'lambda_l2': 1.560427648896211e-08, 'num_leaves': 52, 'feature_fraction': 0.8050092954795878, 'bagging_fraction': 0.9845636056595533, 'bagging_freq': 3, 'min_child_samples': 14}. Best is trial#561 with value: 0.9989596337910944.\n"
          ],
          "name": "stderr"
        },
        {
          "output_type": "stream",
          "text": [
            "('knn', 'qda', 'et')\n"
          ],
          "name": "stdout"
        },
        {
          "output_type": "stream",
          "text": [
            "/usr/local/lib/python3.6/dist-packages/sklearn/discriminant_analysis.py:691: UserWarning:\n",
            "\n",
            "Variables are collinear\n",
            "\n",
            "[I 2020-07-13 12:26:28,518] Finished trial#877 with value: 0.9962546816479401 with parameters: {'combos': 67, 'knn_features': 9, 'knn_Scaler': 'stand', 'knn_nn': 2, 'knn_p': 1, 'qda_features': 14, 'qda_Scaler': 'minmax', 'qda_rp': 8.030720496157254e-12, 'et_features': 14, 'et_Scaler': 'log', 'et_max_depth': 45, 'et_ne': 419}. Best is trial#561 with value: 0.9989596337910944.\n"
          ],
          "name": "stderr"
        },
        {
          "output_type": "stream",
          "text": [
            "('knn', 'et', 'gbm')\n"
          ],
          "name": "stdout"
        },
        {
          "output_type": "stream",
          "text": [
            "[I 2020-07-13 12:26:29,491] Finished trial#878 with value: 0.9958385351643779 with parameters: {'combos': 77, 'knn_features': 10, 'knn_Scaler': 'stand', 'knn_nn': 2, 'knn_p': 1, 'et_features': 17, 'et_Scaler': 'stand', 'et_max_depth': 30, 'et_ne': 103, 'gbm_features': 6, 'gbm_Scaler': 'stand', 'lambda_l1': 0.0003817155821044001, 'lambda_l2': 1.1749528843747595e-07, 'num_leaves': 65, 'feature_fraction': 0.9048510936384018, 'bagging_fraction': 0.9707163016200664, 'bagging_freq': 3, 'min_child_samples': 13}. Best is trial#561 with value: 0.9989596337910944.\n"
          ],
          "name": "stderr"
        },
        {
          "output_type": "stream",
          "text": [
            "('svc', 'gp', 'gnb')\n"
          ],
          "name": "stdout"
        },
        {
          "output_type": "stream",
          "text": [
            "[I 2020-07-13 12:26:32,132] Finished trial#879 with value: 0.9935497295047857 with parameters: {'combos': 81, 'svc_features': 5, 'svc_Scaler': 'stand', 'svc_kern': 'poly', 'svc_C': 0.1886634401414787, 'svc_deg': 4, 'gp_features': 10, 'gp_Scaler': 'minmax', 'gp_a': 0.0014369172917103796, 'gp_kern': 6, 'gnb_features': 2, 'gnb_Scaler': 'minmax', 'gnb_vs': 1.350232651349304e-18}. Best is trial#561 with value: 0.9989596337910944.\n"
          ],
          "name": "stderr"
        },
        {
          "output_type": "stream",
          "text": [
            "('knn', 'ada', 'xgb')\n"
          ],
          "name": "stdout"
        },
        {
          "output_type": "stream",
          "text": [
            "[I 2020-07-13 12:26:34,092] Finished trial#880 with value: 0.9985434873075323 with parameters: {'combos': 73, 'knn_features': 9, 'knn_Scaler': 'stand', 'knn_nn': 1, 'knn_p': 1, 'ada_features': 16, 'ada_Scaler': 'log', 'ada_ne': 418, 'ada_lr': 0.6185878005945261, 'ada_algo': 'SAMME', 'xgb_features': 4, 'xgb_Scaler': 'stand', 'booster': 'gbtree', 'lambda': 0.05584502271652649, 'alpha': 0.24761022447937853, 'max_depth': 29, 'eta': 0.00014567127270450405, 'gamma': 0.000487906567419261, 'grow_policy': 'depthwise'}. Best is trial#561 with value: 0.9989596337910944.\n"
          ],
          "name": "stderr"
        },
        {
          "output_type": "stream",
          "text": [
            "('knn', 'ada', 'et')\n"
          ],
          "name": "stdout"
        },
        {
          "output_type": "stream",
          "text": [
            "[I 2020-07-13 12:26:36,285] Finished trial#881 with value: 0.9929255097794424 with parameters: {'combos': 71, 'knn_features': 9, 'knn_Scaler': 'stand', 'knn_nn': 1, 'knn_p': 1, 'ada_features': 16, 'ada_Scaler': 'log', 'ada_ne': 431, 'ada_lr': 0.6305587940913788, 'ada_algo': 'SAMME', 'et_features': 20, 'et_Scaler': 'minmax', 'et_max_depth': 18, 'et_ne': 213}. Best is trial#561 with value: 0.9989596337910944.\n"
          ],
          "name": "stderr"
        },
        {
          "output_type": "stream",
          "text": [
            "('knn', 'et', 'xgb')\n"
          ],
          "name": "stdout"
        },
        {
          "output_type": "stream",
          "text": [
            "[I 2020-07-13 12:26:37,135] Finished trial#882 with value: 0.9965667915106117 with parameters: {'combos': 76, 'knn_features': 19, 'knn_Scaler': 'stand', 'knn_nn': 2, 'knn_p': 1, 'et_features': 10, 'et_Scaler': 'log', 'et_max_depth': 69, 'et_ne': 131, 'xgb_features': 9, 'xgb_Scaler': 'stand', 'booster': 'gbtree', 'lambda': 0.7309487083129386, 'alpha': 2.9331881140867917e-07, 'max_depth': 27, 'eta': 5.1977937580173185e-06, 'gamma': 0.00013499300665229284, 'grow_policy': 'depthwise'}. Best is trial#561 with value: 0.9989596337910944.\n"
          ],
          "name": "stderr"
        },
        {
          "output_type": "stream",
          "text": [
            "('svc', 'gp', 'rf')\n"
          ],
          "name": "stdout"
        },
        {
          "output_type": "stream",
          "text": [
            "[I 2020-07-13 12:26:40,141] Finished trial#883 with value: 0.9912609238451935 with parameters: {'combos': 85, 'svc_features': 15, 'svc_Scaler': 'log', 'svc_kern': 'linear', 'svc_C': 0.00025222920946698404, 'svc_deg': 8, 'gp_features': 15, 'gp_Scaler': 'log', 'gp_a': 0.05078941022054727, 'gp_kern': 3, 'rf_features': 7, 'rf_Scaler': 'log', 'rf_max_depth': 70, 'rf_ne': 276, 'rf_cw': 'balanced_subsample'}. Best is trial#561 with value: 0.9989596337910944.\n"
          ],
          "name": "stderr"
        },
        {
          "output_type": "stream",
          "text": [
            "('knn', 'rf', 'gbm')\n"
          ],
          "name": "stdout"
        },
        {
          "output_type": "stream",
          "text": [
            "[I 2020-07-13 12:26:41,465] Finished trial#884 with value: 0.9856429463171037 with parameters: {'combos': 79, 'knn_features': 10, 'knn_Scaler': 'stand', 'knn_nn': 1, 'knn_p': 1, 'rf_features': 11, 'rf_Scaler': 'minmax', 'rf_max_depth': 61, 'rf_ne': 168, 'rf_cw': 'balanced', 'gbm_features': 7, 'gbm_Scaler': 'stand', 'lambda_l1': 0.02059636749742395, 'lambda_l2': 7.123845778873311e-08, 'num_leaves': 60, 'feature_fraction': 0.8687236919367785, 'bagging_fraction': 0.9985773015748356, 'bagging_freq': 3, 'min_child_samples': 15}. Best is trial#561 with value: 0.9989596337910944.\n"
          ],
          "name": "stderr"
        },
        {
          "output_type": "stream",
          "text": [
            "('knn', 'ada', 'gbm')\n"
          ],
          "name": "stdout"
        },
        {
          "output_type": "stream",
          "text": [
            "[I 2020-07-13 12:26:43,709] Finished trial#885 with value: 0.9987515605493134 with parameters: {'combos': 74, 'knn_features': 9, 'knn_Scaler': 'stand', 'knn_nn': 1, 'knn_p': 1, 'ada_features': 9, 'ada_Scaler': 'log', 'ada_ne': 484, 'ada_lr': 0.6910569719126309, 'ada_algo': 'SAMME', 'gbm_features': 8, 'gbm_Scaler': 'stand', 'lambda_l1': 0.004048090307513177, 'lambda_l2': 2.36701709657364e-08, 'num_leaves': 89, 'feature_fraction': 0.9510858805036342, 'bagging_fraction': 0.951761454139187, 'bagging_freq': 3, 'min_child_samples': 12}. Best is trial#561 with value: 0.9989596337910944.\n"
          ],
          "name": "stderr"
        },
        {
          "output_type": "stream",
          "text": [
            "('knn', 'ada', 'gbm')\n"
          ],
          "name": "stdout"
        },
        {
          "output_type": "stream",
          "text": [
            "[I 2020-07-13 12:26:45,642] Finished trial#886 with value: 0.9985434873075323 with parameters: {'combos': 74, 'knn_features': 10, 'knn_Scaler': 'stand', 'knn_nn': 1, 'knn_p': 1, 'ada_features': 9, 'ada_Scaler': 'log', 'ada_ne': 380, 'ada_lr': 0.71464767100513, 'ada_algo': 'SAMME', 'gbm_features': 8, 'gbm_Scaler': 'stand', 'lambda_l1': 0.012717646068081255, 'lambda_l2': 2.647167447582987e-08, 'num_leaves': 41, 'feature_fraction': 0.8348131097729046, 'bagging_fraction': 0.9448486840082772, 'bagging_freq': 3, 'min_child_samples': 13}. Best is trial#561 with value: 0.9989596337910944.\n"
          ],
          "name": "stderr"
        },
        {
          "output_type": "stream",
          "text": [
            "('svc', 'gnb', 'rf')\n"
          ],
          "name": "stdout"
        },
        {
          "output_type": "stream",
          "text": [
            "[I 2020-07-13 12:26:46,373] Finished trial#887 with value: 0.9881398252184769 with parameters: {'combos': 91, 'svc_features': 19, 'svc_Scaler': 'minmax', 'svc_kern': 'rbf', 'svc_C': 0.009325224381816674, 'svc_deg': 10, 'gnb_features': 0, 'gnb_Scaler': 'log', 'gnb_vs': 2.8960340993698487e-15, 'rf_features': 3, 'rf_Scaler': 'stand', 'rf_max_depth': 90, 'rf_ne': 1, 'rf_cw': 'balanced_subsample'}. Best is trial#561 with value: 0.9989596337910944.\n"
          ],
          "name": "stderr"
        },
        {
          "output_type": "stream",
          "text": [
            "('knn', 'qda', 'xgb')\n"
          ],
          "name": "stdout"
        },
        {
          "output_type": "stream",
          "text": [
            "/usr/local/lib/python3.6/dist-packages/sklearn/discriminant_analysis.py:691: UserWarning:\n",
            "\n",
            "Variables are collinear\n",
            "\n",
            "[I 2020-07-13 12:26:47,059] Finished trial#888 with value: 0.9906367041198503 with parameters: {'combos': 69, 'knn_features': 10, 'knn_Scaler': 'stand', 'knn_nn': 1, 'knn_p': 1, 'qda_features': 16, 'qda_Scaler': 'log', 'qda_rp': 6.906097349463321e-13, 'xgb_features': 5, 'xgb_Scaler': 'stand', 'booster': 'gblinear', 'lambda': 0.031612082150740614, 'alpha': 0.08845984871442532}. Best is trial#561 with value: 0.9989596337910944.\n"
          ],
          "name": "stderr"
        },
        {
          "output_type": "stream",
          "text": [
            "('knn', 'et', 'gbm')\n"
          ],
          "name": "stdout"
        },
        {
          "output_type": "stream",
          "text": [
            "[I 2020-07-13 12:26:48,017] Finished trial#889 with value: 0.9925093632958801 with parameters: {'combos': 77, 'knn_features': 9, 'knn_Scaler': 'stand', 'knn_nn': 1, 'knn_p': 1, 'et_features': 3, 'et_Scaler': 'stand', 'et_max_depth': 57, 'et_ne': 91, 'gbm_features': 5, 'gbm_Scaler': 'stand', 'lambda_l1': 0.0038435622537042868, 'lambda_l2': 1.0283082219084663e-08, 'num_leaves': 80, 'feature_fraction': 0.9570596020893819, 'bagging_fraction': 0.9199952448445773, 'bagging_freq': 3, 'min_child_samples': 12}. Best is trial#561 with value: 0.9989596337910944.\n"
          ],
          "name": "stderr"
        },
        {
          "output_type": "stream",
          "text": [
            "('knn', 'ada', 'et')\n"
          ],
          "name": "stdout"
        },
        {
          "output_type": "stream",
          "text": [
            "[I 2020-07-13 12:26:50,040] Finished trial#890 with value: 0.9923012900540991 with parameters: {'combos': 71, 'knn_features': 9, 'knn_Scaler': 'stand', 'knn_nn': 1, 'knn_p': 1, 'ada_features': 13, 'ada_Scaler': 'log', 'ada_ne': 432, 'ada_lr': 0.6090974328078333, 'ada_algo': 'SAMME', 'et_features': 19, 'et_Scaler': 'minmax', 'et_max_depth': 35, 'et_ne': 67}. Best is trial#561 with value: 0.9989596337910944.\n"
          ],
          "name": "stderr"
        },
        {
          "output_type": "stream",
          "text": [
            "('svc', 'gp', 'gnb')\n"
          ],
          "name": "stdout"
        },
        {
          "output_type": "stream",
          "text": [
            "[I 2020-07-13 12:26:52,401] Finished trial#891 with value: 0.9925093632958801 with parameters: {'combos': 81, 'svc_features': 10, 'svc_Scaler': 'stand', 'svc_kern': 'sigmoid', 'svc_C': 7.922438371733446e-07, 'svc_deg': 9, 'gp_features': 9, 'gp_Scaler': 'stand', 'gp_a': 0.03792005864238013, 'gp_kern': 9, 'gnb_features': 1, 'gnb_Scaler': 'minmax', 'gnb_vs': 3.780046909538195e-19}. Best is trial#561 with value: 0.9989596337910944.\n"
          ],
          "name": "stderr"
        },
        {
          "output_type": "stream",
          "text": [
            "('knn', 'et', 'xgb')\n"
          ],
          "name": "stdout"
        },
        {
          "output_type": "stream",
          "text": [
            "[I 2020-07-13 12:26:53,448] Finished trial#892 with value: 0.9937578027465668 with parameters: {'combos': 76, 'knn_features': 8, 'knn_Scaler': 'stand', 'knn_nn': 2, 'knn_p': 1, 'et_features': 5, 'et_Scaler': 'log', 'et_max_depth': 5, 'et_ne': 329, 'xgb_features': 5, 'xgb_Scaler': 'log', 'booster': 'dart', 'lambda': 0.03892058518401173, 'alpha': 0.11707941748694088, 'max_depth': 38, 'eta': 3.9731418024004784e-07, 'gamma': 0.027114478413593383, 'grow_policy': 'lossguide', 'sample_type': 'weighted', 'normalize_type': 'forest', 'rate_drop': 0.005868829541396399, 'skip_drop': 0.007041152108136757}. Best is trial#561 with value: 0.9989596337910944.\n"
          ],
          "name": "stderr"
        },
        {
          "output_type": "stream",
          "text": [
            "('svc', 'gp', 'ada')\n"
          ],
          "name": "stdout"
        },
        {
          "output_type": "stream",
          "text": [
            "[I 2020-07-13 12:26:57,440] Finished trial#893 with value: 0.9947981689554724 with parameters: {'combos': 83, 'svc_features': 0, 'svc_Scaler': 'log', 'svc_kern': 'poly', 'svc_C': 2.0512300330272968e-08, 'svc_deg': 2, 'gp_features': 4, 'gp_Scaler': 'minmax', 'gp_a': 0.004499144650255237, 'gp_kern': 8, 'ada_features': 7, 'ada_Scaler': 'log', 'ada_ne': 499, 'ada_lr': 0.5598990720252512, 'ada_algo': 'SAMME'}. Best is trial#561 with value: 0.9989596337910944.\n"
          ],
          "name": "stderr"
        },
        {
          "output_type": "stream",
          "text": [
            "('knn', 'rf', 'xgb')\n"
          ],
          "name": "stdout"
        },
        {
          "output_type": "stream",
          "text": [
            "[I 2020-07-13 12:26:58,862] Finished trial#894 with value: 0.9929255097794424 with parameters: {'combos': 78, 'knn_features': 9, 'knn_Scaler': 'stand', 'knn_nn': 2, 'knn_p': 1, 'rf_features': 0, 'rf_Scaler': 'log', 'rf_max_depth': 10, 'rf_ne': 291, 'rf_cw': 'balanced', 'xgb_features': 9, 'xgb_Scaler': 'stand', 'booster': 'gbtree', 'lambda': 0.08203907276132998, 'alpha': 0.14597176172359755, 'max_depth': 33, 'eta': 0.0001018415071588417, 'gamma': 0.037706272682321275, 'grow_policy': 'depthwise'}. Best is trial#561 with value: 0.9989596337910944.\n"
          ],
          "name": "stderr"
        },
        {
          "output_type": "stream",
          "text": [
            "('knn', 'ada', 'gbm')\n"
          ],
          "name": "stdout"
        },
        {
          "output_type": "stream",
          "text": [
            "[I 2020-07-13 12:27:01,162] Finished trial#895 with value: 0.9985434873075323 with parameters: {'combos': 74, 'knn_features': 9, 'knn_Scaler': 'stand', 'knn_nn': 1, 'knn_p': 1, 'ada_features': 14, 'ada_Scaler': 'log', 'ada_ne': 476, 'ada_lr': 0.599190908115087, 'ada_algo': 'SAMME', 'gbm_features': 9, 'gbm_Scaler': 'stand', 'lambda_l1': 0.0007988847102148711, 'lambda_l2': 5.056228176417326e-08, 'num_leaves': 88, 'feature_fraction': 0.9304281507598209, 'bagging_fraction': 0.9475739356185273, 'bagging_freq': 3, 'min_child_samples': 11}. Best is trial#561 with value: 0.9989596337910944.\n"
          ],
          "name": "stderr"
        },
        {
          "output_type": "stream",
          "text": [
            "('svc', 'qda', 'et')\n"
          ],
          "name": "stdout"
        },
        {
          "output_type": "stream",
          "text": [
            "/usr/local/lib/python3.6/dist-packages/sklearn/discriminant_analysis.py:691: UserWarning:\n",
            "\n",
            "Variables are collinear\n",
            "\n",
            "[I 2020-07-13 12:27:02,259] Finished trial#896 with value: 0.993965875988348 with parameters: {'combos': 95, 'svc_features': 16, 'svc_Scaler': 'minmax', 'svc_kern': 'linear', 'svc_C': 2.3043581089816896e-06, 'svc_deg': 6, 'qda_features': 10, 'qda_Scaler': 'stand', 'qda_rp': 0.00031652153756373355, 'et_features': 12, 'et_Scaler': 'stand', 'et_max_depth': 75, 'et_ne': 459}. Best is trial#561 with value: 0.9989596337910944.\n"
          ],
          "name": "stderr"
        },
        {
          "output_type": "stream",
          "text": [
            "('knn', 'qda', 'rf')\n"
          ],
          "name": "stdout"
        },
        {
          "output_type": "stream",
          "text": [
            "[I 2020-07-13 12:27:03,843] Finished trial#897 with value: 0.9898044111527258 with parameters: {'combos': 68, 'knn_features': 9, 'knn_Scaler': 'stand', 'knn_nn': 3, 'knn_p': 1, 'qda_features': 0, 'qda_Scaler': 'minmax', 'qda_rp': 0.46892452288954584, 'rf_features': 1, 'rf_Scaler': 'minmax', 'rf_max_depth': 26, 'rf_ne': 319, 'rf_cw': 'balanced_subsample'}. Best is trial#561 with value: 0.9989596337910944.\n"
          ],
          "name": "stderr"
        },
        {
          "output_type": "stream",
          "text": [
            "('knn', 'gnb', 'gbm')\n"
          ],
          "name": "stdout"
        },
        {
          "output_type": "stream",
          "text": [
            "[I 2020-07-13 12:27:04,696] Finished trial#898 with value: 0.994173949230129 with parameters: {'combos': 65, 'knn_features': 8, 'knn_Scaler': 'stand', 'knn_nn': 16, 'knn_p': 1, 'gnb_features': 12, 'gnb_Scaler': 'stand', 'gnb_vs': 3.0728459101848756e-10, 'gbm_features': 6, 'gbm_Scaler': 'stand', 'lambda_l1': 0.0020457705775480863, 'lambda_l2': 1.6923807418045203e-07, 'num_leaves': 79, 'feature_fraction': 0.8999172246527676, 'bagging_fraction': 0.9874222616372339, 'bagging_freq': 3, 'min_child_samples': 12}. Best is trial#561 with value: 0.9989596337910944.\n"
          ],
          "name": "stderr"
        },
        {
          "output_type": "stream",
          "text": [
            "('knn', 'ada', 'gbm')\n"
          ],
          "name": "stdout"
        },
        {
          "output_type": "stream",
          "text": [
            "[I 2020-07-13 12:27:06,784] Setting status of trial#899 as TrialState.PRUNED. Trial was pruned at iteration 11.\n"
          ],
          "name": "stderr"
        },
        {
          "output_type": "stream",
          "text": [
            "('knn', 'ada', 'rf')\n"
          ],
          "name": "stdout"
        },
        {
          "output_type": "stream",
          "text": [
            "[I 2020-07-13 12:27:09,233] Finished trial#900 with value: 0.9968789013732834 with parameters: {'combos': 72, 'knn_features': 9, 'knn_Scaler': 'stand', 'knn_nn': 2, 'knn_p': 1, 'ada_features': 9, 'ada_Scaler': 'log', 'ada_ne': 474, 'ada_lr': 0.5991308268327873, 'ada_algo': 'SAMME', 'rf_features': 19, 'rf_Scaler': 'stand', 'rf_max_depth': 18, 'rf_ne': 83, 'rf_cw': 'balanced'}. Best is trial#561 with value: 0.9989596337910944.\n"
          ],
          "name": "stderr"
        },
        {
          "output_type": "stream",
          "text": [
            "('knn', 'rf', 'gbm')\n"
          ],
          "name": "stdout"
        },
        {
          "output_type": "stream",
          "text": [
            "[I 2020-07-13 12:27:11,103] Setting status of trial#901 as TrialState.PRUNED. Trial was pruned at iteration 11.\n"
          ],
          "name": "stderr"
        },
        {
          "output_type": "stream",
          "text": [
            "('knn', 'ada', 'gbm')\n"
          ],
          "name": "stdout"
        },
        {
          "output_type": "stream",
          "text": [
            "[I 2020-07-13 12:27:13,074] Setting status of trial#902 as TrialState.PRUNED. Trial was pruned at iteration 11.\n"
          ],
          "name": "stderr"
        },
        {
          "output_type": "stream",
          "text": [
            "('svc', 'gp', 'gnb')\n"
          ],
          "name": "stdout"
        },
        {
          "output_type": "stream",
          "text": [
            "[I 2020-07-13 12:27:15,171] Finished trial#903 with value: 0.992093216812318 with parameters: {'combos': 81, 'svc_features': 6, 'svc_Scaler': 'stand', 'svc_kern': 'rbf', 'svc_C': 0.0326094609005717, 'svc_deg': 5, 'gp_features': 14, 'gp_Scaler': 'log', 'gp_a': 9.63362246909746, 'gp_kern': 7, 'gnb_features': 16, 'gnb_Scaler': 'log', 'gnb_vs': 6.709758910285197e-14}. Best is trial#561 with value: 0.9989596337910944.\n"
          ],
          "name": "stderr"
        },
        {
          "output_type": "stream",
          "text": [
            "('knn', 'qda', 'xgb')\n"
          ],
          "name": "stdout"
        },
        {
          "output_type": "stream",
          "text": [
            "/usr/local/lib/python3.6/dist-packages/sklearn/discriminant_analysis.py:691: UserWarning:\n",
            "\n",
            "Variables are collinear\n",
            "\n",
            "[I 2020-07-13 12:27:15,886] Finished trial#904 with value: 0.9868913857677903 with parameters: {'combos': 69, 'knn_features': 7, 'knn_Scaler': 'stand', 'knn_nn': 1, 'knn_p': 1, 'qda_features': 15, 'qda_Scaler': 'log', 'qda_rp': 1.0446589160699728e-20, 'xgb_features': 2, 'xgb_Scaler': 'stand', 'booster': 'gbtree', 'lambda': 0.05691586398369952, 'alpha': 0.2117146137418884, 'max_depth': 43, 'eta': 7.362674564325108e-07, 'gamma': 0.00018871380850946738, 'grow_policy': 'depthwise'}. Best is trial#561 with value: 0.9989596337910944.\n"
          ],
          "name": "stderr"
        },
        {
          "output_type": "stream",
          "text": [
            "('knn', 'qda', 'gbm')\n"
          ],
          "name": "stdout"
        },
        {
          "output_type": "stream",
          "text": [
            "/usr/local/lib/python3.6/dist-packages/sklearn/discriminant_analysis.py:691: UserWarning:\n",
            "\n",
            "Variables are collinear\n",
            "\n",
            "[I 2020-07-13 12:27:16,503] Setting status of trial#905 as TrialState.PRUNED. Trial was pruned at iteration 11.\n"
          ],
          "name": "stderr"
        },
        {
          "output_type": "stream",
          "text": [
            "('knn', 'et', 'xgb')\n"
          ],
          "name": "stdout"
        },
        {
          "output_type": "stream",
          "text": [
            "[I 2020-07-13 12:27:17,460] Finished trial#906 with value: 0.9906367041198502 with parameters: {'combos': 76, 'knn_features': 9, 'knn_Scaler': 'stand', 'knn_nn': 2, 'knn_p': 1, 'et_features': 2, 'et_Scaler': 'minmax', 'et_max_depth': 1, 'et_ne': 162, 'xgb_features': 5, 'xgb_Scaler': 'stand', 'booster': 'gbtree', 'lambda': 0.6033343139345074, 'alpha': 0.0001850865713166586, 'max_depth': 16, 'eta': 1.724606384851923e-05, 'gamma': 0.0008932053528799996, 'grow_policy': 'depthwise'}. Best is trial#561 with value: 0.9989596337910944.\n"
          ],
          "name": "stderr"
        },
        {
          "output_type": "stream",
          "text": [
            "('knn', 'ada', 'et')\n"
          ],
          "name": "stdout"
        },
        {
          "output_type": "stream",
          "text": [
            "[I 2020-07-13 12:27:19,830] Finished trial#907 with value: 0.9964627548897212 with parameters: {'combos': 71, 'knn_features': 8, 'knn_Scaler': 'stand', 'knn_nn': 3, 'knn_p': 1, 'ada_features': 16, 'ada_Scaler': 'stand', 'ada_ne': 500, 'ada_lr': 0.6667572827277056, 'ada_algo': 'SAMME', 'et_features': 11, 'et_Scaler': 'log', 'et_max_depth': 48, 'et_ne': 118}. Best is trial#561 with value: 0.9989596337910944.\n"
          ],
          "name": "stderr"
        },
        {
          "output_type": "stream",
          "text": [
            "('svc', 'gnb', 'qda')\n"
          ],
          "name": "stdout"
        },
        {
          "output_type": "stream",
          "text": [
            "/usr/local/lib/python3.6/dist-packages/sklearn/discriminant_analysis.py:691: UserWarning:\n",
            "\n",
            "Variables are collinear\n",
            "\n",
            "[I 2020-07-13 12:27:20,492] Finished trial#908 with value: 0.9945900957136913 with parameters: {'combos': 88, 'svc_features': 14, 'svc_Scaler': 'log', 'svc_kern': 'sigmoid', 'svc_C': 5.8284445817641685e-08, 'svc_deg': 8, 'gnb_features': 5, 'gnb_Scaler': 'minmax', 'gnb_vs': 1.0142360406600889e-16, 'qda_features': 13, 'qda_Scaler': 'minmax', 'qda_rp': 8.961870686608297e-16}. Best is trial#561 with value: 0.9989596337910944.\n"
          ],
          "name": "stderr"
        },
        {
          "output_type": "stream",
          "text": [
            "('knn', 'et', 'gbm')\n"
          ],
          "name": "stdout"
        },
        {
          "output_type": "stream",
          "text": [
            "[I 2020-07-13 12:27:21,473] Setting status of trial#909 as TrialState.PRUNED. Trial was pruned at iteration 11.\n"
          ],
          "name": "stderr"
        },
        {
          "output_type": "stream",
          "text": [
            "('knn', 'ada', 'gbm')\n"
          ],
          "name": "stdout"
        },
        {
          "output_type": "stream",
          "text": [
            "[I 2020-07-13 12:27:23,632] Finished trial#910 with value: 0.9987515605493134 with parameters: {'combos': 74, 'knn_features': 10, 'knn_Scaler': 'stand', 'knn_nn': 1, 'knn_p': 1, 'ada_features': 8, 'ada_Scaler': 'log', 'ada_ne': 423, 'ada_lr': 0.6922697442330737, 'ada_algo': 'SAMME', 'gbm_features': 7, 'gbm_Scaler': 'stand', 'lambda_l1': 0.00023739528840581792, 'lambda_l2': 1.2111439759087747e-07, 'num_leaves': 90, 'feature_fraction': 0.9701087520353704, 'bagging_fraction': 0.9416692561990224, 'bagging_freq': 3, 'min_child_samples': 10}. Best is trial#561 with value: 0.9989596337910944.\n"
          ],
          "name": "stderr"
        },
        {
          "output_type": "stream",
          "text": [
            "('svc', 'gp', 'ada')\n"
          ],
          "name": "stdout"
        },
        {
          "output_type": "stream",
          "text": [
            "[I 2020-07-13 12:27:27,498] Finished trial#911 with value: 0.9933416562630046 with parameters: {'combos': 83, 'svc_features': 4, 'svc_Scaler': 'minmax', 'svc_kern': 'poly', 'svc_C': 3.5865641122883904e-05, 'svc_deg': 5, 'gp_features': 2, 'gp_Scaler': 'stand', 'gp_a': 0.08974267726889308, 'gp_kern': 5, 'ada_features': 8, 'ada_Scaler': 'log', 'ada_ne': 459, 'ada_lr': 0.6464984796857081, 'ada_algo': 'SAMME'}. Best is trial#561 with value: 0.9989596337910944.\n"
          ],
          "name": "stderr"
        },
        {
          "output_type": "stream",
          "text": [
            "('knn', 'gnb', 'xgb')\n"
          ],
          "name": "stdout"
        },
        {
          "output_type": "stream",
          "text": [
            "[I 2020-07-13 12:27:28,173] Finished trial#912 with value: 0.9964627548897212 with parameters: {'combos': 64, 'knn_features': 10, 'knn_Scaler': 'stand', 'knn_nn': 3, 'knn_p': 1, 'gnb_features': 9, 'gnb_Scaler': 'stand', 'gnb_vs': 4.095947415644618e-06, 'xgb_features': 10, 'xgb_Scaler': 'log', 'booster': 'gblinear', 'lambda': 0.027838118069679528, 'alpha': 1.1859949398748492e-05}. Best is trial#561 with value: 0.9989596337910944.\n"
          ],
          "name": "stderr"
        },
        {
          "output_type": "stream",
          "text": [
            "('knn', 'rf', 'xgb')\n"
          ],
          "name": "stdout"
        },
        {
          "output_type": "stream",
          "text": [
            "[I 2020-07-13 12:27:29,700] Finished trial#913 with value: 0.9886600083229297 with parameters: {'combos': 78, 'knn_features': 10, 'knn_Scaler': 'minmax', 'knn_nn': 1, 'knn_p': 1, 'rf_features': 18, 'rf_Scaler': 'minmax', 'rf_max_depth': 13, 'rf_ne': 350, 'rf_cw': 'balanced', 'xgb_features': 7, 'xgb_Scaler': 'stand', 'booster': 'gbtree', 'lambda': 0.091454469969862, 'alpha': 0.05178529834873026, 'max_depth': 31, 'eta': 5.225440985543982e-07, 'gamma': 0.02159117700507618, 'grow_policy': 'depthwise'}. Best is trial#561 with value: 0.9989596337910944.\n"
          ],
          "name": "stderr"
        },
        {
          "output_type": "stream",
          "text": [
            "('knn', 'qda', 'xgb')\n"
          ],
          "name": "stdout"
        },
        {
          "output_type": "stream",
          "text": [
            "[I 2020-07-13 12:27:30,408] Finished trial#914 with value: 0.9958385351643778 with parameters: {'combos': 69, 'knn_features': 8, 'knn_Scaler': 'stand', 'knn_nn': 1, 'knn_p': 1, 'qda_features': 7, 'qda_Scaler': 'log', 'qda_rp': 3.19045575126579e-19, 'xgb_features': 6, 'xgb_Scaler': 'stand', 'booster': 'gbtree', 'lambda': 0.7811276239644901, 'alpha': 0.9937140199055731, 'max_depth': 27, 'eta': 9.391025680020802e-07, 'gamma': 0.01340319996858994, 'grow_policy': 'depthwise'}. Best is trial#561 with value: 0.9989596337910944.\n"
          ],
          "name": "stderr"
        },
        {
          "output_type": "stream",
          "text": [
            "('knn', 'ada', 'gbm')\n"
          ],
          "name": "stdout"
        },
        {
          "output_type": "stream",
          "text": [
            "[I 2020-07-13 12:27:32,477] Finished trial#915 with value: 0.9910528506034124 with parameters: {'combos': 74, 'knn_features': 10, 'knn_Scaler': 'stand', 'knn_nn': 1, 'knn_p': 1, 'ada_features': 8, 'ada_Scaler': 'minmax', 'ada_ne': 428, 'ada_lr': 0.6457769145647969, 'ada_algo': 'SAMME', 'gbm_features': 7, 'gbm_Scaler': 'stand', 'lambda_l1': 0.0011075939427760417, 'lambda_l2': 1.450297476695716e-07, 'num_leaves': 95, 'feature_fraction': 0.9764201372116763, 'bagging_fraction': 0.9395891915812066, 'bagging_freq': 3, 'min_child_samples': 11}. Best is trial#561 with value: 0.9989596337910944.\n"
          ],
          "name": "stderr"
        },
        {
          "output_type": "stream",
          "text": [
            "('knn', 'rf', 'gbm')\n"
          ],
          "name": "stdout"
        },
        {
          "output_type": "stream",
          "text": [
            "[I 2020-07-13 12:27:33,893] Finished trial#916 with value: 0.9898044111527258 with parameters: {'combos': 79, 'knn_features': 10, 'knn_Scaler': 'stand', 'knn_nn': 13, 'knn_p': 1, 'rf_features': 5, 'rf_Scaler': 'stand', 'rf_max_depth': 66, 'rf_ne': 177, 'rf_cw': 'balanced_subsample', 'gbm_features': 8, 'gbm_Scaler': 'stand', 'lambda_l1': 0.015287366464947794, 'lambda_l2': 2.661548727256409e-08, 'num_leaves': 36, 'feature_fraction': 0.870345757691799, 'bagging_fraction': 0.9445233787218695, 'bagging_freq': 3, 'min_child_samples': 13}. Best is trial#561 with value: 0.9989596337910944.\n"
          ],
          "name": "stderr"
        },
        {
          "output_type": "stream",
          "text": [
            "('knn', 'et', 'rf')\n"
          ],
          "name": "stdout"
        },
        {
          "output_type": "stream",
          "text": [
            "[I 2020-07-13 12:27:35,680] Finished trial#917 with value: 0.9895963379109447 with parameters: {'combos': 75, 'knn_features': 9, 'knn_Scaler': 'stand', 'knn_nn': 2, 'knn_p': 1, 'et_features': 15, 'et_Scaler': 'minmax', 'et_max_depth': 28, 'et_ne': 387, 'rf_features': 16, 'rf_Scaler': 'log', 'rf_max_depth': 24, 'rf_ne': 258, 'rf_cw': 'balanced'}. Best is trial#561 with value: 0.9989596337910944.\n"
          ],
          "name": "stderr"
        },
        {
          "output_type": "stream",
          "text": [
            "('knn', 'qda', 'rf')\n"
          ],
          "name": "stdout"
        },
        {
          "output_type": "stream",
          "text": [
            "[I 2020-07-13 12:27:37,023] Finished trial#918 with value: 0.9854348730753225 with parameters: {'combos': 68, 'knn_features': 9, 'knn_Scaler': 'stand', 'knn_nn': 2, 'knn_p': 1, 'qda_features': 1, 'qda_Scaler': 'stand', 'qda_rp': 3.022857527938458e-06, 'rf_features': 8, 'rf_Scaler': 'minmax', 'rf_max_depth': 42, 'rf_ne': 213, 'rf_cw': 'balanced_subsample'}. Best is trial#561 with value: 0.9989596337910944.\n"
          ],
          "name": "stderr"
        },
        {
          "output_type": "stream",
          "text": [
            "('knn', 'xgb', 'gbm')\n"
          ],
          "name": "stdout"
        },
        {
          "output_type": "stream",
          "text": [
            "[I 2020-07-13 12:27:37,966] Finished trial#919 with value: 0.9943820224719102 with parameters: {'combos': 80, 'knn_features': 10, 'knn_Scaler': 'stand', 'knn_nn': 1, 'knn_p': 1, 'xgb_features': 5, 'xgb_Scaler': 'stand', 'booster': 'dart', 'lambda': 0.017679498886770135, 'alpha': 0.08609306342598544, 'max_depth': 12, 'eta': 5.037178614859598e-07, 'gamma': 0.03045685215196431, 'grow_policy': 'lossguide', 'sample_type': 'uniform', 'normalize_type': 'forest', 'rate_drop': 4.152227032297621e-08, 'skip_drop': 1.5853680571206632e-06, 'gbm_features': 8, 'gbm_Scaler': 'stand', 'lambda_l1': 0.0002375000422649011, 'lambda_l2': 2.0216637242799617e-08, 'num_leaves': 52, 'feature_fraction': 0.9667675206809252, 'bagging_fraction': 0.9551861705206938, 'bagging_freq': 3, 'min_child_samples': 13}. Best is trial#561 with value: 0.9989596337910944.\n"
          ],
          "name": "stderr"
        },
        {
          "output_type": "stream",
          "text": [
            "('knn', 'et', 'rf')\n"
          ],
          "name": "stdout"
        },
        {
          "output_type": "stream",
          "text": [
            "[I 2020-07-13 12:27:39,650] Finished trial#920 with value: 0.993965875988348 with parameters: {'combos': 75, 'knn_features': 10, 'knn_Scaler': 'stand', 'knn_nn': 2, 'knn_p': 1, 'et_features': 1, 'et_Scaler': 'log', 'et_max_depth': 60, 'et_ne': 401, 'rf_features': 9, 'rf_Scaler': 'stand', 'rf_max_depth': 94, 'rf_ne': 222, 'rf_cw': 'balanced'}. Best is trial#561 with value: 0.9989596337910944.\n"
          ],
          "name": "stderr"
        },
        {
          "output_type": "stream",
          "text": [
            "('knn', 'ada', 'rf')\n"
          ],
          "name": "stdout"
        },
        {
          "output_type": "stream",
          "text": [
            "[I 2020-07-13 12:27:42,704] Finished trial#921 with value: 0.9970869746150646 with parameters: {'combos': 72, 'knn_features': 9, 'knn_Scaler': 'stand', 'knn_nn': 2, 'knn_p': 1, 'ada_features': 9, 'ada_Scaler': 'log', 'ada_ne': 482, 'ada_lr': 0.781305973058415, 'ada_algo': 'SAMME', 'rf_features': 2, 'rf_Scaler': 'log', 'rf_max_depth': 21, 'rf_ne': 332, 'rf_cw': 'balanced_subsample'}. Best is trial#561 with value: 0.9989596337910944.\n"
          ],
          "name": "stderr"
        },
        {
          "output_type": "stream",
          "text": [
            "('knn', 'qda', 'rf')\n"
          ],
          "name": "stdout"
        },
        {
          "output_type": "stream",
          "text": [
            "/usr/local/lib/python3.6/dist-packages/sklearn/discriminant_analysis.py:691: UserWarning:\n",
            "\n",
            "Variables are collinear\n",
            "\n",
            "[I 2020-07-13 12:27:43,959] Finished trial#922 with value: 0.9903245942571786 with parameters: {'combos': 68, 'knn_features': 9, 'knn_Scaler': 'stand', 'knn_nn': 1, 'knn_p': 1, 'qda_features': 20, 'qda_Scaler': 'minmax', 'qda_rp': 2.0641432411750902e-10, 'rf_features': 20, 'rf_Scaler': 'minmax', 'rf_max_depth': 100, 'rf_ne': 192, 'rf_cw': 'balanced'}. Best is trial#561 with value: 0.9989596337910944.\n"
          ],
          "name": "stderr"
        },
        {
          "output_type": "stream",
          "text": [
            "('knn', 'et', 'xgb')\n"
          ],
          "name": "stdout"
        },
        {
          "output_type": "stream",
          "text": [
            "[I 2020-07-13 12:27:44,921] Finished trial#923 with value: 0.9912609238451935 with parameters: {'combos': 76, 'knn_features': 10, 'knn_Scaler': 'stand', 'knn_nn': 2, 'knn_p': 1, 'et_features': 9, 'et_Scaler': 'stand', 'et_max_depth': 95, 'et_ne': 261, 'xgb_features': 10, 'xgb_Scaler': 'stand', 'booster': 'gblinear', 'lambda': 2.1396831339268516e-07, 'alpha': 0.07535039729875857}. Best is trial#561 with value: 0.9989596337910944.\n"
          ],
          "name": "stderr"
        },
        {
          "output_type": "stream",
          "text": [
            "('knn', 'ada', 'et')\n"
          ],
          "name": "stdout"
        },
        {
          "output_type": "stream",
          "text": [
            "[I 2020-07-13 12:27:47,010] Finished trial#924 with value: 0.9923012900540991 with parameters: {'combos': 71, 'knn_features': 8, 'knn_Scaler': 'stand', 'knn_nn': 2, 'knn_p': 1, 'ada_features': 7, 'ada_Scaler': 'log', 'ada_ne': 415, 'ada_lr': 0.7374936333367064, 'ada_algo': 'SAMME', 'et_features': 16, 'et_Scaler': 'minmax', 'et_max_depth': 91, 'et_ne': 249}. Best is trial#561 with value: 0.9989596337910944.\n"
          ],
          "name": "stderr"
        },
        {
          "output_type": "stream",
          "text": [
            "('knn', 'ada', 'rf')\n"
          ],
          "name": "stdout"
        },
        {
          "output_type": "stream",
          "text": [
            "[I 2020-07-13 12:27:50,250] Finished trial#925 with value: 0.9970869746150646 with parameters: {'combos': 72, 'knn_features': 9, 'knn_Scaler': 'stand', 'knn_nn': 1, 'knn_p': 1, 'ada_features': 9, 'ada_Scaler': 'log', 'ada_ne': 421, 'ada_lr': 0.6103253059696665, 'ada_algo': 'SAMME', 'rf_features': 13, 'rf_Scaler': 'stand', 'rf_max_depth': 74, 'rf_ne': 439, 'rf_cw': 'balanced_subsample'}. Best is trial#561 with value: 0.9989596337910944.\n"
          ],
          "name": "stderr"
        },
        {
          "output_type": "stream",
          "text": [
            "('svc', 'gp', 'et')\n"
          ],
          "name": "stdout"
        },
        {
          "output_type": "stream",
          "text": [
            "[I 2020-07-13 12:27:53,386] Finished trial#926 with value: 0.9945900957136913 with parameters: {'combos': 84, 'svc_features': 11, 'svc_Scaler': 'stand', 'svc_kern': 'linear', 'svc_C': 0.0017385150747536754, 'svc_deg': 3, 'gp_features': 12, 'gp_Scaler': 'minmax', 'gp_a': 4.349093605366842, 'gp_kern': 1, 'et_features': 4, 'et_Scaler': 'log', 'et_max_depth': 79, 'et_ne': 38}. Best is trial#561 with value: 0.9989596337910944.\n"
          ],
          "name": "stderr"
        },
        {
          "output_type": "stream",
          "text": [
            "('knn', 'rf', 'xgb')\n"
          ],
          "name": "stdout"
        },
        {
          "output_type": "stream",
          "text": [
            "[I 2020-07-13 12:27:54,329] Finished trial#927 with value: 0.9889721181856014 with parameters: {'combos': 78, 'knn_features': 8, 'knn_Scaler': 'stand', 'knn_nn': 3, 'knn_p': 1, 'rf_features': 12, 'rf_Scaler': 'log', 'rf_max_depth': 31, 'rf_ne': 30, 'rf_cw': 'balanced', 'xgb_features': 9, 'xgb_Scaler': 'stand', 'booster': 'gbtree', 'lambda': 5.75153814895588e-08, 'alpha': 0.0004973503258255006, 'max_depth': 35, 'eta': 3.910782739344691e-05, 'gamma': 0.008289485093142908, 'grow_policy': 'depthwise'}. Best is trial#561 with value: 0.9989596337910944.\n"
          ],
          "name": "stderr"
        },
        {
          "output_type": "stream",
          "text": [
            "('knn', 'ada', 'gbm')\n"
          ],
          "name": "stdout"
        },
        {
          "output_type": "stream",
          "text": [
            "[I 2020-07-13 12:27:56,437] Finished trial#928 with value: 0.9987515605493134 with parameters: {'combos': 74, 'knn_features': 9, 'knn_Scaler': 'stand', 'knn_nn': 2, 'knn_p': 1, 'ada_features': 8, 'ada_Scaler': 'log', 'ada_ne': 434, 'ada_lr': 0.578233412614205, 'ada_algo': 'SAMME', 'gbm_features': 7, 'gbm_Scaler': 'stand', 'lambda_l1': 0.0003585593646843644, 'lambda_l2': 2.3564582954707823e-07, 'num_leaves': 71, 'feature_fraction': 0.9408183614717898, 'bagging_fraction': 0.923531595674104, 'bagging_freq': 3, 'min_child_samples': 9}. Best is trial#561 with value: 0.9989596337910944.\n"
          ],
          "name": "stderr"
        },
        {
          "output_type": "stream",
          "text": [
            "('svc', 'gp', 'gnb')\n"
          ],
          "name": "stdout"
        },
        {
          "output_type": "stream",
          "text": [
            "[I 2020-07-13 12:27:58,952] Finished trial#929 with value: 0.994173949230129 with parameters: {'combos': 81, 'svc_features': 8, 'svc_Scaler': 'log', 'svc_kern': 'rbf', 'svc_C': 1.9510423784776244e-07, 'svc_deg': 7, 'gp_features': 13, 'gp_Scaler': 'log', 'gp_a': 0.007666975096813388, 'gp_kern': 4, 'gnb_features': 7, 'gnb_Scaler': 'log', 'gnb_vs': 1.4134348425637008e-11}. Best is trial#561 with value: 0.9989596337910944.\n"
          ],
          "name": "stderr"
        },
        {
          "output_type": "stream",
          "text": [
            "('knn', 'qda', 'ada')\n"
          ],
          "name": "stdout"
        },
        {
          "output_type": "stream",
          "text": [
            "/usr/local/lib/python3.6/dist-packages/sklearn/discriminant_analysis.py:691: UserWarning:\n",
            "\n",
            "Variables are collinear\n",
            "\n",
            "[I 2020-07-13 12:28:00,130] Finished trial#930 with value: 0.9966708281315023 with parameters: {'combos': 66, 'knn_features': 9, 'knn_Scaler': 'stand', 'knn_nn': 2, 'knn_p': 1, 'qda_features': 11, 'qda_Scaler': 'log', 'qda_rp': 1.2517017458296469e-05, 'ada_features': 7, 'ada_Scaler': 'log', 'ada_ne': 178, 'ada_lr': 0.5860315067216382, 'ada_algo': 'SAMME'}. Best is trial#561 with value: 0.9989596337910944.\n"
          ],
          "name": "stderr"
        },
        {
          "output_type": "stream",
          "text": [
            "('svc', 'gp', 'xgb')\n"
          ],
          "name": "stdout"
        },
        {
          "output_type": "stream",
          "text": [
            "[I 2020-07-13 12:28:02,920] Finished trial#931 with value: 0.9900124843945068 with parameters: {'combos': 86, 'svc_features': 2, 'svc_Scaler': 'minmax', 'svc_kern': 'sigmoid', 'svc_C': 0.017352625616578746, 'svc_deg': 4, 'gp_features': 0, 'gp_Scaler': 'stand', 'gp_a': 0.002194966086970703, 'gp_kern': 10, 'xgb_features': 5, 'xgb_Scaler': 'stand', 'booster': 'gbtree', 'lambda': 0.49468519253423154, 'alpha': 0.16151565839526622, 'max_depth': 56, 'eta': 3.8881333002665775e-05, 'gamma': 0.062406772967424896, 'grow_policy': 'depthwise'}. Best is trial#561 with value: 0.9989596337910944.\n"
          ],
          "name": "stderr"
        },
        {
          "output_type": "stream",
          "text": [
            "('knn', 'et', 'xgb')\n"
          ],
          "name": "stdout"
        },
        {
          "output_type": "stream",
          "text": [
            "[I 2020-07-13 12:28:04,165] Finished trial#932 with value: 0.9946941323345818 with parameters: {'combos': 76, 'knn_features': 10, 'knn_Scaler': 'stand', 'knn_nn': 2, 'knn_p': 1, 'et_features': 18, 'et_Scaler': 'stand', 'et_max_depth': 71, 'et_ne': 499, 'xgb_features': 4, 'xgb_Scaler': 'log', 'booster': 'dart', 'lambda': 0.9298378352734027, 'alpha': 1.9300037441785755e-06, 'max_depth': 10, 'eta': 7.956400647943182e-05, 'gamma': 8.257604836925987e-05, 'grow_policy': 'lossguide', 'sample_type': 'weighted', 'normalize_type': 'tree', 'rate_drop': 1.5515464739439745e-05, 'skip_drop': 2.63150528816334e-07}. Best is trial#561 with value: 0.9989596337910944.\n"
          ],
          "name": "stderr"
        },
        {
          "output_type": "stream",
          "text": [
            "('knn', 'ada', 'gbm')\n"
          ],
          "name": "stdout"
        },
        {
          "output_type": "stream",
          "text": [
            "[I 2020-07-13 12:28:06,180] Finished trial#933 with value: 0.9983354140657512 with parameters: {'combos': 74, 'knn_features': 9, 'knn_Scaler': 'stand', 'knn_nn': 3, 'knn_p': 1, 'ada_features': 8, 'ada_Scaler': 'log', 'ada_ne': 407, 'ada_lr': 0.5657179666980958, 'ada_algo': 'SAMME', 'gbm_features': 7, 'gbm_Scaler': 'stand', 'lambda_l1': 0.0001733363203523594, 'lambda_l2': 1.2464286497818387e-07, 'num_leaves': 70, 'feature_fraction': 0.9254723359037925, 'bagging_fraction': 0.9733287375766738, 'bagging_freq': 3, 'min_child_samples': 10}. Best is trial#561 with value: 0.9989596337910944.\n"
          ],
          "name": "stderr"
        },
        {
          "output_type": "stream",
          "text": [
            "('knn', 'qda', 'gbm')\n"
          ],
          "name": "stdout"
        },
        {
          "output_type": "stream",
          "text": [
            "/usr/local/lib/python3.6/dist-packages/sklearn/discriminant_analysis.py:691: UserWarning:\n",
            "\n",
            "Variables are collinear\n",
            "\n",
            "[I 2020-07-13 12:28:07,080] Finished trial#934 with value: 0.9962546816479402 with parameters: {'combos': 70, 'knn_features': 8, 'knn_Scaler': 'stand', 'knn_nn': 1, 'knn_p': 1, 'qda_features': 8, 'qda_Scaler': 'stand', 'qda_rp': 2.6420990107004848e-12, 'gbm_features': 6, 'gbm_Scaler': 'stand', 'lambda_l1': 0.0009113767101739828, 'lambda_l2': 2.0661089408932742e-07, 'num_leaves': 90, 'feature_fraction': 0.9927454996358481, 'bagging_fraction': 0.9013045302358819, 'bagging_freq': 3, 'min_child_samples': 10}. Best is trial#561 with value: 0.9989596337910944.\n"
          ],
          "name": "stderr"
        },
        {
          "output_type": "stream",
          "text": [
            "('knn', 'rf', 'gbm')\n"
          ],
          "name": "stdout"
        },
        {
          "output_type": "stream",
          "text": [
            "[I 2020-07-13 12:28:09,095] Finished trial#935 with value: 0.9906367041198502 with parameters: {'combos': 79, 'knn_features': 9, 'knn_Scaler': 'stand', 'knn_nn': 1, 'knn_p': 1, 'rf_features': 18, 'rf_Scaler': 'minmax', 'rf_max_depth': 40, 'rf_ne': 384, 'rf_cw': 'balanced_subsample', 'gbm_features': 7, 'gbm_Scaler': 'stand', 'lambda_l1': 0.0006155495497626464, 'lambda_l2': 8.908403001741085e-08, 'num_leaves': 77, 'feature_fraction': 0.9092703285921637, 'bagging_fraction': 0.9187572725362875, 'bagging_freq': 3, 'min_child_samples': 9}. Best is trial#561 with value: 0.9989596337910944.\n"
          ],
          "name": "stderr"
        },
        {
          "output_type": "stream",
          "text": [
            "('knn', 'et', 'xgb')\n"
          ],
          "name": "stdout"
        },
        {
          "output_type": "stream",
          "text": [
            "[I 2020-07-13 12:28:10,109] Finished trial#936 with value: 0.9888680815647107 with parameters: {'combos': 76, 'knn_features': 10, 'knn_Scaler': 'stand', 'knn_nn': 1, 'knn_p': 1, 'et_features': 10, 'et_Scaler': 'minmax', 'et_max_depth': 64, 'et_ne': 289, 'xgb_features': 4, 'xgb_Scaler': 'stand', 'booster': 'gbtree', 'lambda': 0.8910258266924387, 'alpha': 7.338855588578107e-08, 'max_depth': 37, 'eta': 1.627070184004252e-05, 'gamma': 0.0006865803966812271, 'grow_policy': 'depthwise'}. Best is trial#561 with value: 0.9989596337910944.\n"
          ],
          "name": "stderr"
        },
        {
          "output_type": "stream",
          "text": [
            "('svc', 'gp', 'gnb')\n"
          ],
          "name": "stdout"
        },
        {
          "output_type": "stream",
          "text": [
            "[I 2020-07-13 12:28:12,446] Finished trial#937 with value: 0.9929255097794424 with parameters: {'combos': 81, 'svc_features': 18, 'svc_Scaler': 'stand', 'svc_kern': 'poly', 'svc_C': 4.273463178615031e-06, 'svc_deg': 6, 'gp_features': 5, 'gp_Scaler': 'minmax', 'gp_a': 0.9023598880227072, 'gp_kern': 9, 'gnb_features': 6, 'gnb_Scaler': 'minmax', 'gnb_vs': 1.7970947989253333e-15}. Best is trial#561 with value: 0.9989596337910944.\n"
          ],
          "name": "stderr"
        },
        {
          "output_type": "stream",
          "text": [
            "('knn', 'ada', 'rf')\n"
          ],
          "name": "stdout"
        },
        {
          "output_type": "stream",
          "text": [
            "[I 2020-07-13 12:28:14,813] Finished trial#938 with value: 0.9975031210986267 with parameters: {'combos': 72, 'knn_features': 9, 'knn_Scaler': 'stand', 'knn_nn': 1, 'knn_p': 1, 'ada_features': 8, 'ada_Scaler': 'log', 'ada_ne': 445, 'ada_lr': 0.6638889655286658, 'ada_algo': 'SAMME', 'rf_features': 17, 'rf_Scaler': 'stand', 'rf_max_depth': 72, 'rf_ne': 140, 'rf_cw': 'balanced'}. Best is trial#561 with value: 0.9989596337910944.\n"
          ],
          "name": "stderr"
        },
        {
          "output_type": "stream",
          "text": [
            "('knn', 'qda', 'et')\n"
          ],
          "name": "stdout"
        },
        {
          "output_type": "stream",
          "text": [
            "[I 2020-07-13 12:28:15,724] Finished trial#939 with value: 0.9975031210986267 with parameters: {'combos': 67, 'knn_features': 8, 'knn_Scaler': 'stand', 'knn_nn': 2, 'knn_p': 1, 'qda_features': 0, 'qda_Scaler': 'minmax', 'qda_rp': 6.756619235752155e-07, 'et_features': 7, 'et_Scaler': 'log', 'et_max_depth': 25, 'et_ne': 223}. Best is trial#561 with value: 0.9989596337910944.\n"
          ],
          "name": "stderr"
        },
        {
          "output_type": "stream",
          "text": [
            "('knn', 'ada', 'et')\n"
          ],
          "name": "stdout"
        },
        {
          "output_type": "stream",
          "text": [
            "[I 2020-07-13 12:28:17,976] Finished trial#940 with value: 0.9968789013732834 with parameters: {'combos': 71, 'knn_features': 8, 'knn_Scaler': 'stand', 'knn_nn': 2, 'knn_p': 2, 'ada_features': 8, 'ada_Scaler': 'log', 'ada_ne': 447, 'ada_lr': 0.8762282558123758, 'ada_algo': 'SAMME', 'et_features': 0, 'et_Scaler': 'stand', 'et_max_depth': 37, 'et_ne': 307}. Best is trial#561 with value: 0.9989596337910944.\n"
          ],
          "name": "stderr"
        },
        {
          "output_type": "stream",
          "text": [
            "('knn', 'et', 'gbm')\n"
          ],
          "name": "stdout"
        },
        {
          "output_type": "stream",
          "text": [
            "[I 2020-07-13 12:28:18,947] Finished trial#941 with value: 0.9883478984602581 with parameters: {'combos': 77, 'knn_features': 10, 'knn_Scaler': 'stand', 'knn_nn': 1, 'knn_p': 1, 'et_features': 14, 'et_Scaler': 'minmax', 'et_max_depth': 42, 'et_ne': 83, 'gbm_features': 8, 'gbm_Scaler': 'stand', 'lambda_l1': 0.0029147739776936256, 'lambda_l2': 4.684186979639059e-08, 'num_leaves': 41, 'feature_fraction': 0.9549675895777721, 'bagging_fraction': 0.9346077378980169, 'bagging_freq': 3, 'min_child_samples': 12}. Best is trial#561 with value: 0.9989596337910944.\n"
          ],
          "name": "stderr"
        },
        {
          "output_type": "stream",
          "text": [
            "('knn', 'et', 'rf')\n"
          ],
          "name": "stdout"
        },
        {
          "output_type": "stream",
          "text": [
            "[I 2020-07-13 12:28:21,096] Finished trial#942 with value: 0.9863712026633374 with parameters: {'combos': 75, 'knn_features': 9, 'knn_Scaler': 'stand', 'knn_nn': 2, 'knn_p': 1, 'et_features': 6, 'et_Scaler': 'log', 'et_max_depth': 84, 'et_ne': 2, 'rf_features': 14, 'rf_Scaler': 'log', 'rf_max_depth': 33, 'rf_ne': 467, 'rf_cw': 'balanced_subsample'}. Best is trial#561 with value: 0.9989596337910944.\n"
          ],
          "name": "stderr"
        },
        {
          "output_type": "stream",
          "text": [
            "('knn', 'ada', 'xgb')\n"
          ],
          "name": "stdout"
        },
        {
          "output_type": "stream",
          "text": [
            "[I 2020-07-13 12:28:22,924] Finished trial#943 with value: 0.9983354140657512 with parameters: {'combos': 73, 'knn_features': 9, 'knn_Scaler': 'stand', 'knn_nn': 1, 'knn_p': 1, 'ada_features': 9, 'ada_Scaler': 'log', 'ada_ne': 393, 'ada_lr': 0.7069609304142628, 'ada_algo': 'SAMME', 'xgb_features': 3, 'xgb_Scaler': 'stand', 'booster': 'gbtree', 'lambda': 0.06551903851166756, 'alpha': 0.11525481208064241, 'max_depth': 17, 'eta': 0.0003914246789500529, 'gamma': 0.0005280836922429842, 'grow_policy': 'depthwise'}. Best is trial#561 with value: 0.9989596337910944.\n"
          ],
          "name": "stderr"
        },
        {
          "output_type": "stream",
          "text": [
            "('knn', 'qda', 'xgb')\n"
          ],
          "name": "stdout"
        },
        {
          "output_type": "stream",
          "text": [
            "[I 2020-07-13 12:28:23,641] Finished trial#944 with value: 0.9887640449438203 with parameters: {'combos': 69, 'knn_features': 9, 'knn_Scaler': 'stand', 'knn_nn': 1, 'knn_p': 1, 'qda_features': 6, 'qda_Scaler': 'log', 'qda_rp': 0.16052738192233754, 'xgb_features': 4, 'xgb_Scaler': 'stand', 'booster': 'gbtree', 'lambda': 0.028594004148060733, 'alpha': 0.2866400439799765, 'max_depth': 14, 'eta': 5.824641595265385e-05, 'gamma': 0.00043368675870784104, 'grow_policy': 'depthwise'}. Best is trial#561 with value: 0.9989596337910944.\n"
          ],
          "name": "stderr"
        },
        {
          "output_type": "stream",
          "text": [
            "('knn', 'qda', 'et')\n"
          ],
          "name": "stdout"
        },
        {
          "output_type": "stream",
          "text": [
            "/usr/local/lib/python3.6/dist-packages/sklearn/discriminant_analysis.py:691: UserWarning:\n",
            "\n",
            "Variables are collinear\n",
            "\n",
            "[I 2020-07-13 12:28:24,679] Finished trial#945 with value: 0.995318352059925 with parameters: {'combos': 67, 'knn_features': 9, 'knn_Scaler': 'stand', 'knn_nn': 3, 'knn_p': 1, 'qda_features': 4, 'qda_Scaler': 'stand', 'qda_rp': 1.2121750493001942e-09, 'et_features': 13, 'et_Scaler': 'stand', 'et_max_depth': 98, 'et_ne': 338}. Best is trial#561 with value: 0.9989596337910944.\n"
          ],
          "name": "stderr"
        },
        {
          "output_type": "stream",
          "text": [
            "('svc', 'gp', 'qda')\n"
          ],
          "name": "stdout"
        },
        {
          "output_type": "stream",
          "text": [
            "/usr/local/lib/python3.6/dist-packages/sklearn/discriminant_analysis.py:691: UserWarning:\n",
            "\n",
            "Variables are collinear\n",
            "\n",
            "[I 2020-07-13 12:28:26,878] Finished trial#946 with value: 0.9923012900540991 with parameters: {'combos': 82, 'svc_features': 5, 'svc_Scaler': 'log', 'svc_kern': 'linear', 'svc_C': 2.1601138706413985, 'svc_deg': 10, 'gp_features': 7, 'gp_Scaler': 'log', 'gp_a': 0.022128847949630534, 'gp_kern': 7, 'qda_features': 19, 'qda_Scaler': 'minmax', 'qda_rp': 4.3374207414181115e-14}. Best is trial#561 with value: 0.9989596337910944.\n"
          ],
          "name": "stderr"
        },
        {
          "output_type": "stream",
          "text": [
            "('knn', 'rf', 'gbm')\n"
          ],
          "name": "stdout"
        },
        {
          "output_type": "stream",
          "text": [
            "[I 2020-07-13 12:28:28,814] Finished trial#947 with value: 0.9866833125260092 with parameters: {'combos': 79, 'knn_features': 8, 'knn_Scaler': 'stand', 'knn_nn': 3, 'knn_p': 1, 'rf_features': 4, 'rf_Scaler': 'minmax', 'rf_max_depth': 59, 'rf_ne': 397, 'rf_cw': 'balanced', 'gbm_features': 9, 'gbm_Scaler': 'stand', 'lambda_l1': 0.00030703995558355266, 'lambda_l2': 3.0586661137273136e-07, 'num_leaves': 57, 'feature_fraction': 0.9383347347730855, 'bagging_fraction': 0.9624327135621368, 'bagging_freq': 3, 'min_child_samples': 9}. Best is trial#561 with value: 0.9989596337910944.\n"
          ],
          "name": "stderr"
        },
        {
          "output_type": "stream",
          "text": [
            "('knn', 'qda', 'et')\n"
          ],
          "name": "stdout"
        },
        {
          "output_type": "stream",
          "text": [
            "[I 2020-07-13 12:28:29,503] Finished trial#948 with value: 0.9958385351643779 with parameters: {'combos': 67, 'knn_features': 9, 'knn_Scaler': 'minmax', 'knn_nn': 2, 'knn_p': 1, 'qda_features': 3, 'qda_Scaler': 'log', 'qda_rp': 6.280033958310555e-08, 'et_features': 12, 'et_Scaler': 'minmax', 'et_max_depth': 67, 'et_ne': 17}. Best is trial#561 with value: 0.9989596337910944.\n"
          ],
          "name": "stderr"
        },
        {
          "output_type": "stream",
          "text": [
            "('knn', 'ada', 'gbm')\n"
          ],
          "name": "stdout"
        },
        {
          "output_type": "stream",
          "text": [
            "[I 2020-07-13 12:28:31,752] Finished trial#949 with value: 0.9985434873075323 with parameters: {'combos': 74, 'knn_features': 8, 'knn_Scaler': 'stand', 'knn_nn': 2, 'knn_p': 1, 'ada_features': 7, 'ada_Scaler': 'log', 'ada_ne': 488, 'ada_lr': 0.7558694875140176, 'ada_algo': 'SAMME', 'gbm_features': 5, 'gbm_Scaler': 'stand', 'lambda_l1': 0.0018549604560383845, 'lambda_l2': 5.051504733484819e-07, 'num_leaves': 83, 'feature_fraction': 0.9228357553677496, 'bagging_fraction': 0.9995374403849885, 'bagging_freq': 3, 'min_child_samples': 10}. Best is trial#561 with value: 0.9989596337910944.\n"
          ],
          "name": "stderr"
        },
        {
          "output_type": "stream",
          "text": [
            "('knn', 'rf', 'xgb')\n"
          ],
          "name": "stdout"
        },
        {
          "output_type": "stream",
          "text": [
            "[I 2020-07-13 12:28:33,226] Finished trial#950 with value: 0.9893882646691635 with parameters: {'combos': 78, 'knn_features': 10, 'knn_Scaler': 'stand', 'knn_nn': 3, 'knn_p': 1, 'rf_features': 1, 'rf_Scaler': 'stand', 'rf_max_depth': 87, 'rf_ne': 232, 'rf_cw': 'balanced_subsample', 'xgb_features': 9, 'xgb_Scaler': 'stand', 'booster': 'gblinear', 'lambda': 0.05096251724382674, 'alpha': 0.047308579310629796}. Best is trial#561 with value: 0.9989596337910944.\n"
          ],
          "name": "stderr"
        },
        {
          "output_type": "stream",
          "text": [
            "('knn', 'ada', 'xgb')\n"
          ],
          "name": "stdout"
        },
        {
          "output_type": "stream",
          "text": [
            "[I 2020-07-13 12:28:35,218] Finished trial#951 with value: 0.9985434873075323 with parameters: {'combos': 73, 'knn_features': 9, 'knn_Scaler': 'stand', 'knn_nn': 1, 'knn_p': 1, 'ada_features': 9, 'ada_Scaler': 'log', 'ada_ne': 436, 'ada_lr': 0.6865316324120126, 'ada_algo': 'SAMME', 'xgb_features': 8, 'xgb_Scaler': 'stand', 'booster': 'gbtree', 'lambda': 0.40794097517195593, 'alpha': 0.06504478434944967, 'max_depth': 33, 'eta': 1.7899570974335357e-06, 'gamma': 0.014977004453788169, 'grow_policy': 'depthwise'}. Best is trial#561 with value: 0.9989596337910944.\n"
          ],
          "name": "stderr"
        },
        {
          "output_type": "stream",
          "text": [
            "('knn', 'qda', 'gbm')\n"
          ],
          "name": "stdout"
        },
        {
          "output_type": "stream",
          "text": [
            "/usr/local/lib/python3.6/dist-packages/sklearn/discriminant_analysis.py:691: UserWarning:\n",
            "\n",
            "Variables are collinear\n",
            "\n",
            "[I 2020-07-13 12:28:36,117] Finished trial#952 with value: 0.9958385351643779 with parameters: {'combos': 70, 'knn_features': 9, 'knn_Scaler': 'stand', 'knn_nn': 1, 'knn_p': 1, 'qda_features': 9, 'qda_Scaler': 'stand', 'qda_rp': 8.24286644839796e-19, 'gbm_features': 10, 'gbm_Scaler': 'stand', 'lambda_l1': 0.0004638711492571793, 'lambda_l2': 1.314455006795988e-08, 'num_leaves': 72, 'feature_fraction': 0.9174660804175655, 'bagging_fraction': 0.9782925309509011, 'bagging_freq': 4, 'min_child_samples': 10}. Best is trial#561 with value: 0.9989596337910944.\n"
          ],
          "name": "stderr"
        },
        {
          "output_type": "stream",
          "text": [
            "('svc', 'gp', 'rf')\n"
          ],
          "name": "stdout"
        },
        {
          "output_type": "stream",
          "text": [
            "[I 2020-07-13 12:28:38,393] Finished trial#953 with value: 0.9891801914273824 with parameters: {'combos': 85, 'svc_features': 3, 'svc_Scaler': 'minmax', 'svc_kern': 'rbf', 'svc_C': 0.001022479238464884, 'svc_deg': 9, 'gp_features': 20, 'gp_Scaler': 'stand', 'gp_a': 1.6263675562007367, 'gp_kern': 2, 'rf_features': 10, 'rf_Scaler': 'log', 'rf_max_depth': 84, 'rf_ne': 46, 'rf_cw': 'balanced'}. Best is trial#561 with value: 0.9989596337910944.\n"
          ],
          "name": "stderr"
        },
        {
          "output_type": "stream",
          "text": [
            "('knn', 'ada', 'rf')\n"
          ],
          "name": "stdout"
        },
        {
          "output_type": "stream",
          "text": [
            "[I 2020-07-13 12:28:41,512] Finished trial#954 with value: 0.9923012900540991 with parameters: {'combos': 72, 'knn_features': 9, 'knn_Scaler': 'stand', 'knn_nn': 2, 'knn_p': 1, 'ada_features': 10, 'ada_Scaler': 'log', 'ada_ne': 416, 'ada_lr': 0.5930402928756419, 'ada_algo': 'SAMME', 'rf_features': 16, 'rf_Scaler': 'minmax', 'rf_max_depth': 29, 'rf_ne': 368, 'rf_cw': 'balanced_subsample'}. Best is trial#561 with value: 0.9989596337910944.\n"
          ],
          "name": "stderr"
        },
        {
          "output_type": "stream",
          "text": [
            "('knn', 'et', 'gbm')\n"
          ],
          "name": "stdout"
        },
        {
          "output_type": "stream",
          "text": [
            "[I 2020-07-13 12:28:42,553] Finished trial#955 with value: 0.9954223886808157 with parameters: {'combos': 77, 'knn_features': 8, 'knn_Scaler': 'stand', 'knn_nn': 4, 'knn_p': 1, 'et_features': 3, 'et_Scaler': 'log', 'et_max_depth': 55, 'et_ne': 148, 'gbm_features': 9, 'gbm_Scaler': 'stand', 'lambda_l1': 0.0008327740552187244, 'lambda_l2': 5.498490452033658e-08, 'num_leaves': 88, 'feature_fraction': 0.9324529690515739, 'bagging_fraction': 0.9264809911784736, 'bagging_freq': 3, 'min_child_samples': 11}. Best is trial#561 with value: 0.9989596337910944.\n"
          ],
          "name": "stderr"
        },
        {
          "output_type": "stream",
          "text": [
            "('knn', 'qda', 'gbm')\n"
          ],
          "name": "stdout"
        },
        {
          "output_type": "stream",
          "text": [
            "/usr/local/lib/python3.6/dist-packages/sklearn/discriminant_analysis.py:691: UserWarning:\n",
            "\n",
            "Variables are collinear\n",
            "\n",
            "[I 2020-07-13 12:28:43,180] Setting status of trial#956 as TrialState.PRUNED. Trial was pruned at iteration 12.\n"
          ],
          "name": "stderr"
        },
        {
          "output_type": "stream",
          "text": [
            "('knn', 'et', 'xgb')\n"
          ],
          "name": "stdout"
        },
        {
          "output_type": "stream",
          "text": [
            "[I 2020-07-13 12:28:44,476] Finished trial#957 with value: 0.9949022055763629 with parameters: {'combos': 76, 'knn_features': 8, 'knn_Scaler': 'stand', 'knn_nn': 2, 'knn_p': 1, 'et_features': 20, 'et_Scaler': 'stand', 'et_max_depth': 13, 'et_ne': 438, 'xgb_features': 7, 'xgb_Scaler': 'stand', 'booster': 'gbtree', 'lambda': 0.04096823135274769, 'alpha': 0.200579027056612, 'max_depth': 30, 'eta': 2.724871310104066e-07, 'gamma': 0.009345011149528069, 'grow_policy': 'depthwise'}. Best is trial#561 with value: 0.9989596337910944.\n"
          ],
          "name": "stderr"
        },
        {
          "output_type": "stream",
          "text": [
            "('svc', 'gp', 'gnb')\n"
          ],
          "name": "stdout"
        },
        {
          "output_type": "stream",
          "text": [
            "[I 2020-07-13 12:28:47,427] Finished trial#958 with value: 0.9931335830212235 with parameters: {'combos': 81, 'svc_features': 19, 'svc_Scaler': 'stand', 'svc_kern': 'sigmoid', 'svc_C': 4.457753008272713e-07, 'svc_deg': 2, 'gp_features': 16, 'gp_Scaler': 'minmax', 'gp_a': 0.0017077159573497972, 'gp_kern': 6, 'gnb_features': 11, 'gnb_Scaler': 'log', 'gnb_vs': 2.318092502486937e-18}. Best is trial#561 with value: 0.9989596337910944.\n"
          ],
          "name": "stderr"
        },
        {
          "output_type": "stream",
          "text": [
            "('knn', 'et', 'rf')\n"
          ],
          "name": "stdout"
        },
        {
          "output_type": "stream",
          "text": [
            "[I 2020-07-13 12:28:48,375] Finished trial#959 with value: 0.992093216812318 with parameters: {'combos': 75, 'knn_features': 10, 'knn_Scaler': 'stand', 'knn_nn': 2, 'knn_p': 1, 'et_features': 5, 'et_Scaler': 'minmax', 'et_max_depth': 39, 'et_ne': 55, 'rf_features': 11, 'rf_Scaler': 'stand', 'rf_max_depth': 52, 'rf_ne': 20, 'rf_cw': 'balanced'}. Best is trial#561 with value: 0.9989596337910944.\n"
          ],
          "name": "stderr"
        },
        {
          "output_type": "stream",
          "text": [
            "('knn', 'qda', 'rf')\n"
          ],
          "name": "stdout"
        },
        {
          "output_type": "stream",
          "text": [
            "/usr/local/lib/python3.6/dist-packages/sklearn/discriminant_analysis.py:691: UserWarning:\n",
            "\n",
            "Variables are collinear\n",
            "\n",
            "[I 2020-07-13 12:28:49,389] Finished trial#960 with value: 0.993965875988348 with parameters: {'combos': 68, 'knn_features': 8, 'knn_Scaler': 'stand', 'knn_nn': 1, 'knn_p': 1, 'qda_features': 12, 'qda_Scaler': 'log', 'qda_rp': 0.0011964725353572027, 'rf_features': 7, 'rf_Scaler': 'log', 'rf_max_depth': 55, 'rf_ne': 78, 'rf_cw': 'balanced_subsample'}. Best is trial#561 with value: 0.9989596337910944.\n"
          ],
          "name": "stderr"
        },
        {
          "output_type": "stream",
          "text": [
            "('knn', 'rf', 'gbm')\n"
          ],
          "name": "stdout"
        },
        {
          "output_type": "stream",
          "text": [
            "[I 2020-07-13 12:28:50,955] Finished trial#961 with value: 0.9860590928006658 with parameters: {'combos': 79, 'knn_features': 10, 'knn_Scaler': 'stand', 'knn_nn': 1, 'knn_p': 1, 'rf_features': 4, 'rf_Scaler': 'minmax', 'rf_max_depth': 48, 'rf_ne': 269, 'rf_cw': 'balanced', 'gbm_features': 8, 'gbm_Scaler': 'stand', 'lambda_l1': 0.004018184439199927, 'lambda_l2': 3.287075628168151e-08, 'num_leaves': 65, 'feature_fraction': 0.8351099024542248, 'bagging_fraction': 0.9458384875194638, 'bagging_freq': 3, 'min_child_samples': 11}. Best is trial#561 with value: 0.9989596337910944.\n"
          ],
          "name": "stderr"
        },
        {
          "output_type": "stream",
          "text": [
            "('knn', 'ada', 'rf')\n"
          ],
          "name": "stdout"
        },
        {
          "output_type": "stream",
          "text": [
            "[I 2020-07-13 12:28:53,242] Finished trial#962 with value: 0.9956304619225969 with parameters: {'combos': 72, 'knn_features': 9, 'knn_Scaler': 'stand', 'knn_nn': 1, 'knn_p': 1, 'ada_features': 12, 'ada_Scaler': 'log', 'ada_ne': 431, 'ada_lr': 0.614479711446638, 'ada_algo': 'SAMME', 'rf_features': 3, 'rf_Scaler': 'stand', 'rf_max_depth': 97, 'rf_ne': 61, 'rf_cw': 'balanced_subsample'}. Best is trial#561 with value: 0.9989596337910944.\n"
          ],
          "name": "stderr"
        },
        {
          "output_type": "stream",
          "text": [
            "('knn', 'gnb', 'rf')\n"
          ],
          "name": "stdout"
        },
        {
          "output_type": "stream",
          "text": [
            "[I 2020-07-13 12:28:55,090] Finished trial#963 with value: 0.9907407407407407 with parameters: {'combos': 63, 'knn_features': 6, 'knn_Scaler': 'stand', 'knn_nn': 2, 'knn_p': 1, 'gnb_features': 10, 'gnb_Scaler': 'stand', 'gnb_vs': 5.21892567812082e-09, 'rf_features': 6, 'rf_Scaler': 'log', 'rf_max_depth': 44, 'rf_ne': 480, 'rf_cw': 'balanced'}. Best is trial#561 with value: 0.9989596337910944.\n"
          ],
          "name": "stderr"
        },
        {
          "output_type": "stream",
          "text": [
            "('knn', 'qda', 'gbm')\n"
          ],
          "name": "stdout"
        },
        {
          "output_type": "stream",
          "text": [
            "/usr/local/lib/python3.6/dist-packages/sklearn/discriminant_analysis.py:691: UserWarning:\n",
            "\n",
            "Variables are collinear\n",
            "\n",
            "[I 2020-07-13 12:28:55,997] Finished trial#964 with value: 0.9975031210986268 with parameters: {'combos': 70, 'knn_features': 8, 'knn_Scaler': 'stand', 'knn_nn': 3, 'knn_p': 1, 'qda_features': 16, 'qda_Scaler': 'stand', 'qda_rp': 2.9058360207896907e-11, 'gbm_features': 5, 'gbm_Scaler': 'stand', 'lambda_l1': 0.00015397011113028563, 'lambda_l2': 1.9729654135090325e-07, 'num_leaves': 96, 'feature_fraction': 0.9830787353396409, 'bagging_fraction': 0.9996048046674462, 'bagging_freq': 4, 'min_child_samples': 8}. Best is trial#561 with value: 0.9989596337910944.\n"
          ],
          "name": "stderr"
        },
        {
          "output_type": "stream",
          "text": [
            "('knn', 'gnb', 'gbm')\n"
          ],
          "name": "stdout"
        },
        {
          "output_type": "stream",
          "text": [
            "[I 2020-07-13 12:28:56,864] Finished trial#965 with value: 0.9952143154390346 with parameters: {'combos': 65, 'knn_features': 7, 'knn_Scaler': 'stand', 'knn_nn': 3, 'knn_p': 1, 'gnb_features': 2, 'gnb_Scaler': 'minmax', 'gnb_vs': 3.0602086960278323e-12, 'gbm_features': 7, 'gbm_Scaler': 'stand', 'lambda_l1': 0.0011858719174297804, 'lambda_l2': 1.0153166133612883e-08, 'num_leaves': 77, 'feature_fraction': 0.8806335309185618, 'bagging_fraction': 0.9098239234273416, 'bagging_freq': 3, 'min_child_samples': 10}. Best is trial#561 with value: 0.9989596337910944.\n"
          ],
          "name": "stderr"
        },
        {
          "output_type": "stream",
          "text": [
            "('knn', 'ada', 'gbm')\n"
          ],
          "name": "stdout"
        },
        {
          "output_type": "stream",
          "text": [
            "[I 2020-07-13 12:28:59,150] Finished trial#966 with value: 0.9987515605493134 with parameters: {'combos': 74, 'knn_features': 9, 'knn_Scaler': 'stand', 'knn_nn': 2, 'knn_p': 1, 'ada_features': 8, 'ada_Scaler': 'log', 'ada_ne': 499, 'ada_lr': 0.5473808865307597, 'ada_algo': 'SAMME', 'gbm_features': 4, 'gbm_Scaler': 'stand', 'lambda_l1': 0.005554070874556761, 'lambda_l2': 6.847719707761858e-08, 'num_leaves': 69, 'feature_fraction': 0.9698171452558183, 'bagging_fraction': 0.9641007957951642, 'bagging_freq': 4, 'min_child_samples': 9}. Best is trial#561 with value: 0.9989596337910944.\n"
          ],
          "name": "stderr"
        },
        {
          "output_type": "stream",
          "text": [
            "('knn', 'et', 'gbm')\n"
          ],
          "name": "stdout"
        },
        {
          "output_type": "stream",
          "text": [
            "[I 2020-07-13 12:29:00,317] Finished trial#967 with value: 0.9952143154390346 with parameters: {'combos': 77, 'knn_features': 10, 'knn_Scaler': 'stand', 'knn_nn': 2, 'knn_p': 1, 'et_features': 6, 'et_Scaler': 'log', 'et_max_depth': 81, 'et_ne': 273, 'gbm_features': 4, 'gbm_Scaler': 'stand', 'lambda_l1': 0.004987809436467823, 'lambda_l2': 5.930504303771226e-08, 'num_leaves': 61, 'feature_fraction': 0.9647882193110231, 'bagging_fraction': 0.9626536143874077, 'bagging_freq': 4, 'min_child_samples': 9}. Best is trial#561 with value: 0.9989596337910944.\n"
          ],
          "name": "stderr"
        },
        {
          "output_type": "stream",
          "text": [
            "('svc', 'gp', 'et')\n"
          ],
          "name": "stdout"
        },
        {
          "output_type": "stream",
          "text": [
            "[I 2020-07-13 12:29:03,283] Finished trial#968 with value: 0.9893882646691635 with parameters: {'combos': 84, 'svc_features': 17, 'svc_Scaler': 'log', 'svc_kern': 'poly', 'svc_C': 1.158524046518461e-07, 'svc_deg': 8, 'gp_features': 3, 'gp_Scaler': 'log', 'gp_a': 0.030498806387426025, 'gp_kern': 5, 'et_features': 17, 'et_Scaler': 'stand', 'et_max_depth': 3, 'et_ne': 425}. Best is trial#561 with value: 0.9989596337910944.\n"
          ],
          "name": "stderr"
        },
        {
          "output_type": "stream",
          "text": [
            "('knn', 'et', 'rf')\n"
          ],
          "name": "stdout"
        },
        {
          "output_type": "stream",
          "text": [
            "[I 2020-07-13 12:29:04,716] Finished trial#969 with value: 0.9888680815647107 with parameters: {'combos': 75, 'knn_features': 9, 'knn_Scaler': 'stand', 'knn_nn': 2, 'knn_p': 1, 'et_features': 8, 'et_Scaler': 'minmax', 'et_max_depth': 20, 'et_ne': 186, 'rf_features': 12, 'rf_Scaler': 'minmax', 'rf_max_depth': 76, 'rf_ne': 151, 'rf_cw': 'balanced_subsample'}. Best is trial#561 with value: 0.9989596337910944.\n"
          ],
          "name": "stderr"
        },
        {
          "output_type": "stream",
          "text": [
            "('knn', 'xgb', 'gbm')\n"
          ],
          "name": "stdout"
        },
        {
          "output_type": "stream",
          "text": [
            "[I 2020-07-13 12:29:05,637] Finished trial#970 with value: 0.9966708281315023 with parameters: {'combos': 80, 'knn_features': 9, 'knn_Scaler': 'stand', 'knn_nn': 2, 'knn_p': 1, 'xgb_features': 2, 'xgb_Scaler': 'stand', 'booster': 'gbtree', 'lambda': 0.05727369494700725, 'alpha': 2.620465843776354e-08, 'max_depth': 34, 'eta': 0.0001456594013457397, 'gamma': 0.00025301168472748633, 'grow_policy': 'depthwise', 'gbm_features': 5, 'gbm_Scaler': 'stand', 'lambda_l1': 0.002372842888916774, 'lambda_l2': 1.2291420897392904e-07, 'num_leaves': 67, 'feature_fraction': 0.9489768577001381, 'bagging_fraction': 0.988180172732586, 'bagging_freq': 4, 'min_child_samples': 8}. Best is trial#561 with value: 0.9989596337910944.\n"
          ],
          "name": "stderr"
        },
        {
          "output_type": "stream",
          "text": [
            "('knn', 'ada', 'xgb')\n"
          ],
          "name": "stdout"
        },
        {
          "output_type": "stream",
          "text": [
            "[I 2020-07-13 12:29:06,510] Finished trial#971 with value: 0.9968789013732834 with parameters: {'combos': 73, 'knn_features': 9, 'knn_Scaler': 'stand', 'knn_nn': 1, 'knn_p': 1, 'ada_features': 8, 'ada_Scaler': 'log', 'ada_ne': 58, 'ada_lr': 0.6948651740589639, 'ada_algo': 'SAMME', 'xgb_features': 3, 'xgb_Scaler': 'stand', 'booster': 'gbtree', 'lambda': 0.09052861321701582, 'alpha': 0.13524003543775667, 'max_depth': 29, 'eta': 1.161841146251402e-06, 'gamma': 0.017730467648552732, 'grow_policy': 'depthwise'}. Best is trial#561 with value: 0.9989596337910944.\n"
          ],
          "name": "stderr"
        },
        {
          "output_type": "stream",
          "text": [
            "('knn', 'qda', 'xgb')\n"
          ],
          "name": "stdout"
        },
        {
          "output_type": "stream",
          "text": [
            "/usr/local/lib/python3.6/dist-packages/sklearn/discriminant_analysis.py:691: UserWarning:\n",
            "\n",
            "Variables are collinear\n",
            "\n",
            "[I 2020-07-13 12:29:07,242] Finished trial#972 with value: 0.9906367041198502 with parameters: {'combos': 69, 'knn_features': 10, 'knn_Scaler': 'stand', 'knn_nn': 1, 'knn_p': 1, 'qda_features': 17, 'qda_Scaler': 'minmax', 'qda_rp': 1.00070660855628e-16, 'xgb_features': 8, 'xgb_Scaler': 'stand', 'booster': 'gbtree', 'lambda': 0.10657718161584866, 'alpha': 0.3639095081549773, 'max_depth': 67, 'eta': 6.178683062758306e-07, 'gamma': 0.0071158010162400325, 'grow_policy': 'depthwise'}. Best is trial#561 with value: 0.9989596337910944.\n"
          ],
          "name": "stderr"
        },
        {
          "output_type": "stream",
          "text": [
            "('knn', 'et', 'xgb')\n"
          ],
          "name": "stdout"
        },
        {
          "output_type": "stream",
          "text": [
            "[I 2020-07-13 12:29:08,377] Finished trial#973 with value: 0.996046608406159 with parameters: {'combos': 76, 'knn_features': 9, 'knn_Scaler': 'stand', 'knn_nn': 2, 'knn_p': 1, 'et_features': 11, 'et_Scaler': 'log', 'et_max_depth': 32, 'et_ne': 409, 'xgb_features': 6, 'xgb_Scaler': 'stand', 'booster': 'gbtree', 'lambda': 0.024094527051965343, 'alpha': 0.320900709284067, 'max_depth': 50, 'eta': 2.801179738374093e-05, 'gamma': 0.011104624472794708, 'grow_policy': 'depthwise'}. Best is trial#561 with value: 0.9989596337910944.\n"
          ],
          "name": "stderr"
        },
        {
          "output_type": "stream",
          "text": [
            "('knn', 'ada', 'et')\n"
          ],
          "name": "stdout"
        },
        {
          "output_type": "stream",
          "text": [
            "[I 2020-07-13 12:29:10,459] Finished trial#974 with value: 0.9968789013732834 with parameters: {'combos': 71, 'knn_features': 8, 'knn_Scaler': 'stand', 'knn_nn': 3, 'knn_p': 1, 'ada_features': 7, 'ada_Scaler': 'log', 'ada_ne': 441, 'ada_lr': 0.5293091777652851, 'ada_algo': 'SAMME', 'et_features': 15, 'et_Scaler': 'stand', 'et_max_depth': 50, 'et_ne': 175}. Best is trial#561 with value: 0.9989596337910944.\n"
          ],
          "name": "stderr"
        },
        {
          "output_type": "stream",
          "text": [
            "('svc', 'gp', 'qda')\n"
          ],
          "name": "stdout"
        },
        {
          "output_type": "stream",
          "text": [
            "/usr/local/lib/python3.6/dist-packages/sklearn/discriminant_analysis.py:691: UserWarning:\n",
            "\n",
            "Variables are collinear\n",
            "\n",
            "[I 2020-07-13 12:29:12,698] Finished trial#975 with value: 0.993965875988348 with parameters: {'combos': 82, 'svc_features': 9, 'svc_Scaler': 'minmax', 'svc_kern': 'linear', 'svc_C': 9.364319229687297e-06, 'svc_deg': 3, 'gp_features': 4, 'gp_Scaler': 'stand', 'gp_a': 2.9645565132332963, 'gp_kern': 3, 'qda_features': 10, 'qda_Scaler': 'log', 'qda_rp': 0.00018148713590044474}. Best is trial#561 with value: 0.9989596337910944.\n"
          ],
          "name": "stderr"
        },
        {
          "output_type": "stream",
          "text": [
            "('knn', 'rf', 'gbm')\n"
          ],
          "name": "stdout"
        },
        {
          "output_type": "stream",
          "text": [
            "[I 2020-07-13 12:29:14,170] Finished trial#976 with value: 0.9879317519766958 with parameters: {'combos': 79, 'knn_features': 9, 'knn_Scaler': 'stand', 'knn_nn': 2, 'knn_p': 1, 'rf_features': 14, 'rf_Scaler': 'stand', 'rf_max_depth': 3, 'rf_ne': 240, 'rf_cw': 'balanced', 'gbm_features': 9, 'gbm_Scaler': 'stand', 'lambda_l1': 0.0006617608879323638, 'lambda_l2': 4.647896534968781e-08, 'num_leaves': 91, 'feature_fraction': 0.932672240175354, 'bagging_fraction': 0.9732261140746707, 'bagging_freq': 3, 'min_child_samples': 10}. Best is trial#561 with value: 0.9989596337910944.\n"
          ],
          "name": "stderr"
        },
        {
          "output_type": "stream",
          "text": [
            "('knn', 'et', 'rf')\n"
          ],
          "name": "stdout"
        },
        {
          "output_type": "stream",
          "text": [
            "[I 2020-07-13 12:29:16,017] Finished trial#977 with value: 0.9898044111527258 with parameters: {'combos': 75, 'knn_features': 10, 'knn_Scaler': 'stand', 'knn_nn': 1, 'knn_p': 1, 'et_features': 9, 'et_Scaler': 'minmax', 'et_max_depth': 17, 'et_ne': 470, 'rf_features': 8, 'rf_Scaler': 'log', 'rf_max_depth': 64, 'rf_ne': 204, 'rf_cw': 'balanced_subsample'}. Best is trial#561 with value: 0.9989596337910944.\n"
          ],
          "name": "stderr"
        },
        {
          "output_type": "stream",
          "text": [
            "('knn', 'ada', 'xgb')\n"
          ],
          "name": "stdout"
        },
        {
          "output_type": "stream",
          "text": [
            "[I 2020-07-13 12:29:17,957] Finished trial#978 with value: 0.9987515605493134 with parameters: {'combos': 73, 'knn_features': 9, 'knn_Scaler': 'stand', 'knn_nn': 2, 'knn_p': 1, 'ada_features': 7, 'ada_Scaler': 'log', 'ada_ne': 434, 'ada_lr': 0.7417831618093209, 'ada_algo': 'SAMME', 'xgb_features': 10, 'xgb_Scaler': 'log', 'booster': 'dart', 'lambda': 0.6292028378192628, 'alpha': 0.06394212705140771, 'max_depth': 8, 'eta': 1.589645045817397e-06, 'gamma': 0.04672154711977715, 'grow_policy': 'lossguide', 'sample_type': 'uniform', 'normalize_type': 'forest', 'rate_drop': 7.334007722209052e-07, 'skip_drop': 0.0002966044000828148}. Best is trial#561 with value: 0.9989596337910944.\n"
          ],
          "name": "stderr"
        },
        {
          "output_type": "stream",
          "text": [
            "('knn', 'qda', 'et')\n"
          ],
          "name": "stdout"
        },
        {
          "output_type": "stream",
          "text": [
            "/usr/local/lib/python3.6/dist-packages/sklearn/discriminant_analysis.py:691: UserWarning:\n",
            "\n",
            "Variables are collinear\n",
            "\n",
            "[I 2020-07-13 12:29:19,152] Finished trial#979 with value: 0.9936537661256762 with parameters: {'combos': 67, 'knn_features': 9, 'knn_Scaler': 'stand', 'knn_nn': 3, 'knn_p': 1, 'qda_features': 15, 'qda_Scaler': 'stand', 'qda_rp': 1.1420977832974396e-14, 'et_features': 17, 'et_Scaler': 'log', 'et_max_depth': 62, 'et_ne': 485}. Best is trial#561 with value: 0.9989596337910944.\n"
          ],
          "name": "stderr"
        },
        {
          "output_type": "stream",
          "text": [
            "('knn', 'rf', 'xgb')\n"
          ],
          "name": "stdout"
        },
        {
          "output_type": "stream",
          "text": [
            "[I 2020-07-13 12:29:20,327] Finished trial#980 with value: 0.9856429463171036 with parameters: {'combos': 78, 'knn_features': 10, 'knn_Scaler': 'minmax', 'knn_nn': 2, 'knn_p': 1, 'rf_features': 6, 'rf_Scaler': 'minmax', 'rf_max_depth': 6, 'rf_ne': 129, 'rf_cw': 'balanced', 'xgb_features': 10, 'xgb_Scaler': 'log', 'booster': 'dart', 'lambda': 0.992531170357958, 'alpha': 0.0008214356956455296, 'max_depth': 7, 'eta': 9.937720638052356e-07, 'gamma': 0.08345663588321289, 'grow_policy': 'lossguide', 'sample_type': 'uniform', 'normalize_type': 'forest', 'rate_drop': 1.4209172013330134e-06, 'skip_drop': 0.00757224504772454}. Best is trial#561 with value: 0.9989596337910944.\n"
          ],
          "name": "stderr"
        },
        {
          "output_type": "stream",
          "text": [
            "('svc', 'gnb', 'ada')\n"
          ],
          "name": "stdout"
        },
        {
          "output_type": "stream",
          "text": [
            "[I 2020-07-13 12:29:22,145] Finished trial#981 with value: 0.9977111943404079 with parameters: {'combos': 89, 'svc_features': 15, 'svc_Scaler': 'stand', 'svc_kern': 'rbf', 'svc_C': 1.470201280122364e-05, 'svc_deg': 7, 'gnb_features': 13, 'gnb_Scaler': 'log', 'gnb_vs': 8.301134740733087e-10, 'ada_features': 9, 'ada_Scaler': 'log', 'ada_ne': 424, 'ada_lr': 0.8099503585424465, 'ada_algo': 'SAMME'}. Best is trial#561 with value: 0.9989596337910944.\n"
          ],
          "name": "stderr"
        },
        {
          "output_type": "stream",
          "text": [
            "('knn', 'ada', 'et')\n"
          ],
          "name": "stdout"
        },
        {
          "output_type": "stream",
          "text": [
            "[I 2020-07-13 12:29:24,190] Finished trial#982 with value: 0.9945900957136913 with parameters: {'combos': 71, 'knn_features': 9, 'knn_Scaler': 'stand', 'knn_nn': 19, 'knn_p': 1, 'ada_features': 6, 'ada_Scaler': 'log', 'ada_ne': 450, 'ada_lr': 0.6534128505785969, 'ada_algo': 'SAMME', 'et_features': 2, 'et_Scaler': 'stand', 'et_max_depth': 8, 'et_ne': 109}. Best is trial#561 with value: 0.9989596337910944.\n"
          ],
          "name": "stderr"
        },
        {
          "output_type": "stream",
          "text": [
            "('knn', 'qda', 'rf')\n"
          ],
          "name": "stdout"
        },
        {
          "output_type": "stream",
          "text": [
            "/usr/local/lib/python3.6/dist-packages/sklearn/discriminant_analysis.py:691: UserWarning:\n",
            "\n",
            "Variables are collinear\n",
            "\n",
            "[I 2020-07-13 12:29:26,355] Finished trial#983 with value: 0.9955264253017062 with parameters: {'combos': 68, 'knn_features': 8, 'knn_Scaler': 'stand', 'knn_nn': 2, 'knn_p': 1, 'qda_features': 2, 'qda_Scaler': 'minmax', 'qda_rp': 1.6274446104290885e-13, 'rf_features': 9, 'rf_Scaler': 'stand', 'rf_max_depth': 62, 'rf_ne': 487, 'rf_cw': 'balanced_subsample'}. Best is trial#561 with value: 0.9989596337910944.\n"
          ],
          "name": "stderr"
        },
        {
          "output_type": "stream",
          "text": [
            "('knn', 'ada', 'gbm')\n"
          ],
          "name": "stdout"
        },
        {
          "output_type": "stream",
          "text": [
            "[I 2020-07-13 12:29:28,388] Finished trial#984 with value: 0.997919267582189 with parameters: {'combos': 74, 'knn_features': 9, 'knn_Scaler': 'stand', 'knn_nn': 3, 'knn_p': 1, 'ada_features': 6, 'ada_Scaler': 'log', 'ada_ne': 427, 'ada_lr': 0.5517957695340227, 'ada_algo': 'SAMME', 'gbm_features': 4, 'gbm_Scaler': 'stand', 'lambda_l1': 0.008738873573918155, 'lambda_l2': 1.625287504232902e-08, 'num_leaves': 56, 'feature_fraction': 0.9814947852485447, 'bagging_fraction': 0.934584996967887, 'bagging_freq': 4, 'min_child_samples': 9}. Best is trial#561 with value: 0.9989596337910944.\n"
          ],
          "name": "stderr"
        },
        {
          "output_type": "stream",
          "text": [
            "('knn', 'ada', 'rf')\n"
          ],
          "name": "stdout"
        },
        {
          "output_type": "stream",
          "text": [
            "[I 2020-07-13 12:29:31,591] Finished trial#985 with value: 0.9975031210986267 with parameters: {'combos': 72, 'knn_features': 10, 'knn_Scaler': 'stand', 'knn_nn': 1, 'knn_p': 1, 'ada_features': 6, 'ada_Scaler': 'log', 'ada_ne': 499, 'ada_lr': 0.5484339772661744, 'ada_algo': 'SAMME', 'rf_features': 19, 'rf_Scaler': 'log', 'rf_max_depth': 81, 'rf_ne': 425, 'rf_cw': 'balanced'}. Best is trial#561 with value: 0.9989596337910944.\n"
          ],
          "name": "stderr"
        },
        {
          "output_type": "stream",
          "text": [
            "('knn', 'et', 'gbm')\n"
          ],
          "name": "stdout"
        },
        {
          "output_type": "stream",
          "text": [
            "[I 2020-07-13 12:29:32,682] Finished trial#986 with value: 0.9879317519766958 with parameters: {'combos': 77, 'knn_features': 8, 'knn_Scaler': 'stand', 'knn_nn': 2, 'knn_p': 1, 'et_features': 7, 'et_Scaler': 'minmax', 'et_max_depth': 58, 'et_ne': 200, 'gbm_features': 5, 'gbm_Scaler': 'stand', 'lambda_l1': 0.0018390593070958148, 'lambda_l2': 4.680003066499249e-07, 'num_leaves': 83, 'feature_fraction': 0.9070388362848302, 'bagging_fraction': 0.9992744194611466, 'bagging_freq': 3, 'min_child_samples': 10}. Best is trial#561 with value: 0.9989596337910944.\n"
          ],
          "name": "stderr"
        },
        {
          "output_type": "stream",
          "text": [
            "('svc', 'gp', 'qda')\n"
          ],
          "name": "stdout"
        },
        {
          "output_type": "stream",
          "text": [
            "[I 2020-07-13 12:29:35,108] Finished trial#987 with value: 0.993965875988348 with parameters: {'combos': 82, 'svc_features': 7, 'svc_Scaler': 'log', 'svc_kern': 'sigmoid', 'svc_C': 0.07923816347567217, 'svc_deg': 2, 'gp_features': 9, 'gp_Scaler': 'minmax', 'gp_a': 0.23722789285879844, 'gp_kern': 8, 'qda_features': 5, 'qda_Scaler': 'log', 'qda_rp': 2.5926490706211492e-17}. Best is trial#561 with value: 0.9989596337910944.\n"
          ],
          "name": "stderr"
        },
        {
          "output_type": "stream",
          "text": [
            "('knn', 'ada', 'xgb')\n"
          ],
          "name": "stdout"
        },
        {
          "output_type": "stream",
          "text": [
            "[I 2020-07-13 12:29:37,050] Finished trial#988 with value: 0.9985434873075323 with parameters: {'combos': 73, 'knn_features': 9, 'knn_Scaler': 'stand', 'knn_nn': 1, 'knn_p': 1, 'ada_features': 8, 'ada_Scaler': 'log', 'ada_ne': 435, 'ada_lr': 0.604868011015366, 'ada_algo': 'SAMME', 'xgb_features': 10, 'xgb_Scaler': 'log', 'booster': 'dart', 'lambda': 0.586440506099927, 'alpha': 0.03408585009981729, 'max_depth': 9, 'eta': 2.4099773557228883e-05, 'gamma': 0.038715875972843136, 'grow_policy': 'lossguide', 'sample_type': 'uniform', 'normalize_type': 'forest', 'rate_drop': 3.4071293029140504e-07, 'skip_drop': 0.07477238125329091}. Best is trial#561 with value: 0.9989596337910944.\n"
          ],
          "name": "stderr"
        },
        {
          "output_type": "stream",
          "text": [
            "('knn', 'rf', 'gbm')\n"
          ],
          "name": "stdout"
        },
        {
          "output_type": "stream",
          "text": [
            "[I 2020-07-13 12:29:38,224] Setting status of trial#989 as TrialState.PRUNED. Trial was pruned at iteration 11.\n"
          ],
          "name": "stderr"
        },
        {
          "output_type": "stream",
          "text": [
            "('knn', 'gnb', 'gbm')\n"
          ],
          "name": "stdout"
        },
        {
          "output_type": "stream",
          "text": [
            "[I 2020-07-13 12:29:39,201] Finished trial#990 with value: 0.9952143154390346 with parameters: {'combos': 65, 'knn_features': 8, 'knn_Scaler': 'stand', 'knn_nn': 3, 'knn_p': 1, 'gnb_features': 15, 'gnb_Scaler': 'minmax', 'gnb_vs': 5.4482441246939277e-08, 'gbm_features': 6, 'gbm_Scaler': 'stand', 'lambda_l1': 0.0031915915228799517, 'lambda_l2': 3.1142746211819724e-07, 'num_leaves': 73, 'feature_fraction': 0.9994237080845749, 'bagging_fraction': 0.970280378356215, 'bagging_freq': 4, 'min_child_samples': 12}. Best is trial#561 with value: 0.9989596337910944.\n"
          ],
          "name": "stderr"
        },
        {
          "output_type": "stream",
          "text": [
            "('knn', 'qda', 'xgb')\n"
          ],
          "name": "stdout"
        },
        {
          "output_type": "stream",
          "text": [
            "/usr/local/lib/python3.6/dist-packages/sklearn/discriminant_analysis.py:691: UserWarning:\n",
            "\n",
            "Variables are collinear\n",
            "\n",
            "[I 2020-07-13 12:29:39,938] Finished trial#991 with value: 0.9897003745318352 with parameters: {'combos': 69, 'knn_features': 9, 'knn_Scaler': 'stand', 'knn_nn': 1, 'knn_p': 1, 'qda_features': 18, 'qda_Scaler': 'stand', 'qda_rp': 2.429917676496299e-16, 'xgb_features': 11, 'xgb_Scaler': 'log', 'booster': 'dart', 'lambda': 0.014609621695024973, 'alpha': 0.07864600262243544, 'max_depth': 41, 'eta': 0.0008798853861754369, 'gamma': 0.0003409025542827033, 'grow_policy': 'lossguide', 'sample_type': 'uniform', 'normalize_type': 'forest', 'rate_drop': 0.00015337445654537007, 'skip_drop': 0.0003008822680648039}. Best is trial#561 with value: 0.9989596337910944.\n"
          ],
          "name": "stderr"
        },
        {
          "output_type": "stream",
          "text": [
            "('knn', 'et', 'xgb')\n"
          ],
          "name": "stdout"
        },
        {
          "output_type": "stream",
          "text": [
            "[I 2020-07-13 12:29:41,049] Finished trial#992 with value: 0.9961506450270495 with parameters: {'combos': 76, 'knn_features': 9, 'knn_Scaler': 'stand', 'knn_nn': 2, 'knn_p': 1, 'et_features': 1, 'et_Scaler': 'log', 'et_max_depth': 45, 'et_ne': 356, 'xgb_features': 11, 'xgb_Scaler': 'log', 'booster': 'dart', 'lambda': 0.5940056152588127, 'alpha': 0.06433756398904722, 'max_depth': 11, 'eta': 1.84975663563612e-07, 'gamma': 0.46028775933669286, 'grow_policy': 'lossguide', 'sample_type': 'uniform', 'normalize_type': 'forest', 'rate_drop': 1.3966093305918108e-05, 'skip_drop': 8.369968833782427e-06}. Best is trial#561 with value: 0.9989596337910944.\n"
          ],
          "name": "stderr"
        },
        {
          "output_type": "stream",
          "text": [
            "('knn', 'et', 'rf')\n"
          ],
          "name": "stdout"
        },
        {
          "output_type": "stream",
          "text": [
            "[I 2020-07-13 12:29:43,027] Finished trial#993 with value: 0.994173949230129 with parameters: {'combos': 75, 'knn_features': 10, 'knn_Scaler': 'stand', 'knn_nn': 2, 'knn_p': 1, 'et_features': 14, 'et_Scaler': 'stand', 'et_max_depth': 52, 'et_ne': 234, 'rf_features': 13, 'rf_Scaler': 'stand', 'rf_max_depth': 67, 'rf_ne': 410, 'rf_cw': 'balanced'}. Best is trial#561 with value: 0.9989596337910944.\n"
          ],
          "name": "stderr"
        },
        {
          "output_type": "stream",
          "text": [
            "('knn', 'gnb', 'xgb')\n"
          ],
          "name": "stdout"
        },
        {
          "output_type": "stream",
          "text": [
            "[I 2020-07-13 12:29:43,745] Finished trial#994 with value: 0.9885559717020391 with parameters: {'combos': 64, 'knn_features': 9, 'knn_Scaler': 'stand', 'knn_nn': 1, 'knn_p': 1, 'gnb_features': 17, 'gnb_Scaler': 'log', 'gnb_vs': 5.806935609236191e-16, 'xgb_features': 9, 'xgb_Scaler': 'log', 'booster': 'dart', 'lambda': 3.0319975422460955e-05, 'alpha': 0.15586988053107093, 'max_depth': 15, 'eta': 0.019105953163983763, 'gamma': 0.0013404200189499828, 'grow_policy': 'lossguide', 'sample_type': 'uniform', 'normalize_type': 'forest', 'rate_drop': 3.6208037119260245e-08, 'skip_drop': 0.0002903336805846484}. Best is trial#561 with value: 0.9989596337910944.\n"
          ],
          "name": "stderr"
        },
        {
          "output_type": "stream",
          "text": [
            "('svc', 'gp', 'ada')\n"
          ],
          "name": "stdout"
        },
        {
          "output_type": "stream",
          "text": [
            "[I 2020-07-13 12:29:47,768] Finished trial#995 with value: 0.9927174365376613 with parameters: {'combos': 83, 'svc_features': 6, 'svc_Scaler': 'minmax', 'svc_kern': 'poly', 'svc_C': 1.667528068303904e-06, 'svc_deg': 5, 'gp_features': 11, 'gp_Scaler': 'log', 'gp_a': 0.010328715953116544, 'gp_kern': 4, 'ada_features': 8, 'ada_Scaler': 'log', 'ada_ne': 474, 'ada_lr': 0.1495805451654755, 'ada_algo': 'SAMME'}. Best is trial#561 with value: 0.9989596337910944.\n"
          ],
          "name": "stderr"
        },
        {
          "output_type": "stream",
          "text": [
            "('knn', 'qda', 'gbm')\n"
          ],
          "name": "stdout"
        },
        {
          "output_type": "stream",
          "text": [
            "/usr/local/lib/python3.6/dist-packages/sklearn/discriminant_analysis.py:691: UserWarning:\n",
            "\n",
            "Variables are collinear\n",
            "\n",
            "[I 2020-07-13 12:29:48,655] Finished trial#996 with value: 0.9966708281315022 with parameters: {'combos': 70, 'knn_features': 7, 'knn_Scaler': 'stand', 'knn_nn': 3, 'knn_p': 1, 'qda_features': 12, 'qda_Scaler': 'minmax', 'qda_rp': 8.421254677597491e-20, 'gbm_features': 5, 'gbm_Scaler': 'stand', 'lambda_l1': 0.0056726908307238285, 'lambda_l2': 3.2747332391406965e-08, 'num_leaves': 60, 'feature_fraction': 0.9573479765561629, 'bagging_fraction': 0.9199931577011414, 'bagging_freq': 4, 'min_child_samples': 8}. Best is trial#561 with value: 0.9989596337910944.\n"
          ],
          "name": "stderr"
        },
        {
          "output_type": "stream",
          "text": [
            "('knn', 'qda', 'et')\n"
          ],
          "name": "stdout"
        },
        {
          "output_type": "stream",
          "text": [
            "[I 2020-07-13 12:29:49,459] Finished trial#997 with value: 0.9912609238451935 with parameters: {'combos': 67, 'knn_features': 8, 'knn_Scaler': 'stand', 'knn_nn': 3, 'knn_p': 1, 'qda_features': 7, 'qda_Scaler': 'log', 'qda_rp': 0.009137918010094585, 'et_features': 18, 'et_Scaler': 'minmax', 'et_max_depth': 100, 'et_ne': 124}. Best is trial#561 with value: 0.9989596337910944.\n"
          ],
          "name": "stderr"
        },
        {
          "output_type": "stream",
          "text": [
            "('knn', 'ada', 'rf')\n"
          ],
          "name": "stdout"
        },
        {
          "output_type": "stream",
          "text": [
            "[I 2020-07-13 12:29:51,824] Finished trial#998 with value: 0.9968789013732835 with parameters: {'combos': 72, 'knn_features': 9, 'knn_Scaler': 'stand', 'knn_nn': 1, 'knn_p': 1, 'ada_features': 7, 'ada_Scaler': 'log', 'ada_ne': 404, 'ada_lr': 0.7514405060695403, 'ada_algo': 'SAMME', 'rf_features': 5, 'rf_Scaler': 'log', 'rf_max_depth': 11, 'rf_ne': 182, 'rf_cw': 'balanced_subsample'}. Best is trial#561 with value: 0.9989596337910944.\n"
          ],
          "name": "stderr"
        },
        {
          "output_type": "stream",
          "text": [
            "('knn', 'rf', 'gbm')\n"
          ],
          "name": "stdout"
        },
        {
          "output_type": "stream",
          "text": [
            "[I 2020-07-13 12:29:53,904] Finished trial#999 with value: 0.9883478984602581 with parameters: {'combos': 79, 'knn_features': 10, 'knn_Scaler': 'stand', 'knn_nn': 3, 'knn_p': 1, 'rf_features': 2, 'rf_Scaler': 'minmax', 'rf_max_depth': 35, 'rf_ne': 457, 'rf_cw': 'balanced', 'gbm_features': 7, 'gbm_Scaler': 'stand', 'lambda_l1': 0.0003418604499651074, 'lambda_l2': 7.700217238627016e-07, 'num_leaves': 111, 'feature_fraction': 0.9433450712332289, 'bagging_fraction': 0.9548574089325709, 'bagging_freq': 3, 'min_child_samples': 9}. Best is trial#561 with value: 0.9989596337910944.\n"
          ],
          "name": "stderr"
        },
        {
          "output_type": "stream",
          "text": [
            "Best trial:\n",
            "  Params: \n",
            "    combos: 73\n",
            "    knn_features: 8\n",
            "    knn_Scaler: stand\n",
            "    knn_nn: 2\n",
            "    knn_p: 1\n",
            "    ada_features: 13\n",
            "    ada_Scaler: log\n",
            "    ada_ne: 437\n",
            "    ada_lr: 0.495786247302282\n",
            "    ada_algo: SAMME\n",
            "    xgb_features: 6\n",
            "    xgb_Scaler: stand\n",
            "    booster: gbtree\n",
            "    lambda: 0.4860408099326929\n",
            "    alpha: 0.9976687514437015\n",
            "    max_depth: 21\n",
            "    eta: 5.4597174889339245e-06\n",
            "    gamma: 0.002904350728501347\n",
            "    grow_policy: depthwise\n"
          ],
          "name": "stdout"
        }
      ]
    },
    {
      "cell_type": "code",
      "metadata": {
        "id": "25r1jytVI5xP",
        "colab_type": "code",
        "colab": {
          "base_uri": "https://localhost:8080/",
          "height": 34
        },
        "outputId": "14edd4a5-3cd6-4537-bf41-069c255833a6"
      },
      "source": [
        "comb[73]"
      ],
      "execution_count": 161,
      "outputs": [
        {
          "output_type": "execute_result",
          "data": {
            "text/plain": [
              "('knn', 'ada', 'xgb')"
            ]
          },
          "metadata": {
            "tags": []
          },
          "execution_count": 161
        }
      ]
    },
    {
      "cell_type": "markdown",
      "metadata": {
        "id": "qQ-CtyZ6I6Q4",
        "colab_type": "text"
      },
      "source": [
        "**BREAST CANCER**\n",
        "\n",
        "0.9989 ('knn', 'ada', 'xgb')\n",
        "```\n",
        "    knn_features: 8\n",
        "    knn_Scaler: stand\n",
        "    knn_nn: 2\n",
        "    knn_p: 1\n",
        "    ada_features: 13\n",
        "    ada_Scaler: log\n",
        "    ada_ne: 437\n",
        "    ada_lr: 0.495786247302282\n",
        "    ada_algo: SAMME\n",
        "    xgb_features: 6\n",
        "    xgb_Scaler: stand\n",
        "    booster: gbtree\n",
        "    lambda: 0.4860408099326929\n",
        "    alpha: 0.9976687514437015\n",
        "    max_depth: 21\n",
        "    eta: 5.4597174889339245e-06\n",
        "    gamma: 0.002904350728501347\n",
        "    grow_policy: depthwise\n",
        "```"
      ]
    }
  ]
}